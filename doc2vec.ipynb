{
 "cells": [
  {
   "cell_type": "markdown",
   "metadata": {},
   "source": [
    "Doc2vec from scratch in PyTorch\n",
    "===============================\n",
    "\n",
    "Here we are implementing this useful algorithm with a library we know and trust. With luck this will be more accessible than reading the papers but more in-depth than typical \"install gensim and just do what I say\" tutorials, and still easy to understand for anyone whose maths skills have atrophied to nothing (like me). This is all based on the great work by [Nejc Ilenic](https://github.com/ilenic/paragraph-vectors) and reading the referenced papers.\n",
    "\n",
    "The basic form of `word2vec` (and so `doc2vec`) is that it is a classifier trained to predict the missing word in a context. So given sentences like \"the cat _ on the mat\" it should predict \"sat\", and so learn a useful representation of words. We can then extract the internal weights and re-use them as \"word embeddings\", vectors giving each word a position in N-dimensional space that is hopefully close to similar words and an appropriate distance from related words. \n",
    "\n",
    "`doc2vec` or \"Paragraph vectors\" extends the `word2vec` idea by simply adding a document id to each context. This helps the network learn associations between contexts (but of course produces less generalizable vectors)."
   ]
  },
  {
   "cell_type": "markdown",
   "metadata": {},
   "source": [
    "First we need to load the data."
   ]
  },
  {
   "cell_type": "code",
   "execution_count": 1,
   "metadata": {},
   "outputs": [
    {
     "data": {
      "text/html": [
       "<div>\n",
       "<style scoped>\n",
       "    .dataframe tbody tr th:only-of-type {\n",
       "        vertical-align: middle;\n",
       "    }\n",
       "\n",
       "    .dataframe tbody tr th {\n",
       "        vertical-align: top;\n",
       "    }\n",
       "\n",
       "    .dataframe thead th {\n",
       "        text-align: right;\n",
       "    }\n",
       "</style>\n",
       "<table border=\"1\" class=\"dataframe\">\n",
       "  <thead>\n",
       "    <tr style=\"text-align: right;\">\n",
       "      <th></th>\n",
       "      <th>text</th>\n",
       "      <th>tokens</th>\n",
       "    </tr>\n",
       "  </thead>\n",
       "  <tbody>\n",
       "    <tr>\n",
       "      <th>0</th>\n",
       "      <td>In the week before their departure to Arrakis,...</td>\n",
       "      <td>[in, the, week, before, their, departure, to, ...</td>\n",
       "    </tr>\n",
       "    <tr>\n",
       "      <th>1</th>\n",
       "      <td>In the week before their departure to Arrakis,...</td>\n",
       "      <td>[in, the, week, before, their, departure, to, ...</td>\n",
       "    </tr>\n",
       "    <tr>\n",
       "      <th>2</th>\n",
       "      <td>In the week before their departure to Arrakis,...</td>\n",
       "      <td>[in, the, week, before, their, departure, to, ...</td>\n",
       "    </tr>\n",
       "    <tr>\n",
       "      <th>3</th>\n",
       "      <td>In the week before their departure to Arrakis,...</td>\n",
       "      <td>[in, the, week, before, their, departure, to, ...</td>\n",
       "    </tr>\n",
       "    <tr>\n",
       "      <th>4</th>\n",
       "      <td>It was a warm night at Castle Caladan, and the...</td>\n",
       "      <td>[it, was, a, warm, night, at, castle, caladan,...</td>\n",
       "    </tr>\n",
       "  </tbody>\n",
       "</table>\n",
       "</div>"
      ],
      "text/plain": [
       "                                                text  \\\n",
       "0  In the week before their departure to Arrakis,...   \n",
       "1  In the week before their departure to Arrakis,...   \n",
       "2  In the week before their departure to Arrakis,...   \n",
       "3  In the week before their departure to Arrakis,...   \n",
       "4  It was a warm night at Castle Caladan, and the...   \n",
       "\n",
       "                                              tokens  \n",
       "0  [in, the, week, before, their, departure, to, ...  \n",
       "1  [in, the, week, before, their, departure, to, ...  \n",
       "2  [in, the, week, before, their, departure, to, ...  \n",
       "3  [in, the, week, before, their, departure, to, ...  \n",
       "4  [it, was, a, warm, night, at, castle, caladan,...  "
      ]
     },
     "execution_count": 1,
     "metadata": {},
     "output_type": "execute_result"
    }
   ],
   "source": [
    "import pandas as pd\n",
    "import spacy\n",
    "\n",
    "nlp = spacy.load(\"en_core_web_sm\")\n",
    "\n",
    "df = pd.read_csv(\"data/example.csv\")\n",
    "\n",
    "def tokenize_text(df):\n",
    "    df[\"tokens\"] = df.text.str.lower().str.strip().apply(lambda x: [token.text.strip() for token in nlp(x) if token.text.isalnum()])\n",
    "    return df\n",
    "\n",
    "df = tokenize_text(df)\n",
    "\n",
    "df[:5]"
   ]
  },
  {
   "cell_type": "markdown",
   "metadata": {},
   "source": [
    "We will need to construct a vocabulary so we can reference every word by an ID."
   ]
  },
  {
   "cell_type": "code",
   "execution_count": 2,
   "metadata": {},
   "outputs": [
    {
     "name": "stdout",
     "output_type": "stream",
     "text": [
      "Dataset comprises 16 documents and 106 unique words (over the limit of 2 occurrences)\n"
     ]
    }
   ],
   "source": [
    "from collections import Counter\n",
    "\n",
    "class Vocab:\n",
    "    def __init__(self, all_tokens, min_count=2):\n",
    "        self.min_count = min_count\n",
    "        self.freqs = {t:n for t, n in Counter(all_tokens).items() if n >= min_count}\n",
    "        self.words = sorted(self.freqs.keys())\n",
    "        self.word2idx = {w: i for i, w in enumerate(self.words)}\n",
    "        \n",
    "vocab = Vocab([tok for tokens in df.tokens for tok in tokens])\n",
    "\n",
    "print(f\"Dataset comprises {len(df)} documents and {len(vocab.words)} unique words (over the limit of {vocab.min_count} occurrences)\")"
   ]
  },
  {
   "cell_type": "markdown",
   "metadata": {},
   "source": [
    "Words that appear extremely raerly can harm performance, so we strip those out."
   ]
  },
  {
   "cell_type": "code",
   "execution_count": 3,
   "metadata": {},
   "outputs": [
    {
     "data": {
      "text/html": [
       "<div>\n",
       "<style scoped>\n",
       "    .dataframe tbody tr th:only-of-type {\n",
       "        vertical-align: middle;\n",
       "    }\n",
       "\n",
       "    .dataframe tbody tr th {\n",
       "        vertical-align: top;\n",
       "    }\n",
       "\n",
       "    .dataframe thead th {\n",
       "        text-align: right;\n",
       "    }\n",
       "</style>\n",
       "<table border=\"1\" class=\"dataframe\">\n",
       "  <thead>\n",
       "    <tr style=\"text-align: right;\">\n",
       "      <th></th>\n",
       "      <th>text</th>\n",
       "      <th>tokens</th>\n",
       "      <th>length</th>\n",
       "      <th>clean_tokens</th>\n",
       "      <th>clean_length</th>\n",
       "    </tr>\n",
       "  </thead>\n",
       "  <tbody>\n",
       "    <tr>\n",
       "      <th>0</th>\n",
       "      <td>In the week before their departure to Arrakis,...</td>\n",
       "      <td>[in, the, week, before, their, departure, to, ...</td>\n",
       "      <td>32</td>\n",
       "      <td>[in, the, week, before, their, departure, to, ...</td>\n",
       "      <td>32</td>\n",
       "    </tr>\n",
       "    <tr>\n",
       "      <th>1</th>\n",
       "      <td>In the week before their departure to Arrakis,...</td>\n",
       "      <td>[in, the, week, before, their, departure, to, ...</td>\n",
       "      <td>32</td>\n",
       "      <td>[in, the, week, before, their, departure, to, ...</td>\n",
       "      <td>32</td>\n",
       "    </tr>\n",
       "    <tr>\n",
       "      <th>2</th>\n",
       "      <td>In the week before their departure to Arrakis,...</td>\n",
       "      <td>[in, the, week, before, their, departure, to, ...</td>\n",
       "      <td>32</td>\n",
       "      <td>[in, the, week, before, their, departure, to, ...</td>\n",
       "      <td>32</td>\n",
       "    </tr>\n",
       "    <tr>\n",
       "      <th>3</th>\n",
       "      <td>In the week before their departure to Arrakis,...</td>\n",
       "      <td>[in, the, week, before, their, departure, to, ...</td>\n",
       "      <td>32</td>\n",
       "      <td>[in, the, week, before, their, departure, to, ...</td>\n",
       "      <td>32</td>\n",
       "    </tr>\n",
       "    <tr>\n",
       "      <th>4</th>\n",
       "      <td>It was a warm night at Castle Caladan, and the...</td>\n",
       "      <td>[it, was, a, warm, night, at, castle, caladan,...</td>\n",
       "      <td>39</td>\n",
       "      <td>[it, was, a, warm, night, at, castle, caladan,...</td>\n",
       "      <td>39</td>\n",
       "    </tr>\n",
       "  </tbody>\n",
       "</table>\n",
       "</div>"
      ],
      "text/plain": [
       "                                                text  \\\n",
       "0  In the week before their departure to Arrakis,...   \n",
       "1  In the week before their departure to Arrakis,...   \n",
       "2  In the week before their departure to Arrakis,...   \n",
       "3  In the week before their departure to Arrakis,...   \n",
       "4  It was a warm night at Castle Caladan, and the...   \n",
       "\n",
       "                                              tokens  length  \\\n",
       "0  [in, the, week, before, their, departure, to, ...      32   \n",
       "1  [in, the, week, before, their, departure, to, ...      32   \n",
       "2  [in, the, week, before, their, departure, to, ...      32   \n",
       "3  [in, the, week, before, their, departure, to, ...      32   \n",
       "4  [it, was, a, warm, night, at, castle, caladan,...      39   \n",
       "\n",
       "                                        clean_tokens  clean_length  \n",
       "0  [in, the, week, before, their, departure, to, ...            32  \n",
       "1  [in, the, week, before, their, departure, to, ...            32  \n",
       "2  [in, the, week, before, their, departure, to, ...            32  \n",
       "3  [in, the, week, before, their, departure, to, ...            32  \n",
       "4  [it, was, a, warm, night, at, castle, caladan,...            39  "
      ]
     },
     "execution_count": 3,
     "metadata": {},
     "output_type": "execute_result"
    }
   ],
   "source": [
    "def clean_tokens(df, vocab):\n",
    "    df[\"length\"] = df.tokens.apply(len)\n",
    "    df[\"clean_tokens\"] = df.tokens.apply(lambda x: [t for t in x if t in vocab.freqs.keys()])\n",
    "    df[\"clean_length\"] = df.clean_tokens.apply(len)\n",
    "    return df\n",
    "\n",
    "df = clean_tokens(df, vocab)\n",
    "df[:5]"
   ]
  },
  {
   "cell_type": "markdown",
   "metadata": {},
   "source": [
    "The difficulty with our \"the cat _ on the mat\" problem is that the missing word could be any one in the vocabulary V and so the network would have |V| outputs for each input e.g. a huge vector containing zero for every word in the vocabulary and some positive number for \"sat\" if the network was perfectly trained. For calculating loss we need to turn that into a probabilty distribution, i.e. _softmax_ it. Computing the softmax for such a large vector is expensive.\n",
    "\n",
    "So the trick (one of many possible) we will use is _Noise Contrastive Estimation (NCE)_. We change our \"the cat _ on the mat\" problem into a multiple choice problem, asking the network to choose between \"sat\" and some random wrong answers like \"hopscotch\" and \"luxuriated\". This is easier to compute the softmax for since it's now a binary classifier (right or wrong answer) and the output is simply of a vector of size 1 + k where k is the number of random incorrect options.\n",
    "\n",
    "Happily, this alternative problem still learns equally useful word representations. We just need to adjust the examples and the loss function. There is a simplified version of the NCE loss function called _Negative Sampling (NEG)_ that we can use here.\n",
    "\n",
    "[Notes on Noise Contrastive Estimation and Negative Sampling (C. Dyer)](https://arxiv.org/abs/1410.8251) explains the derivation of the NCE and NEG loss functions.\n",
    "\n",
    "When we implement the loss function, we assume that the first element in a samples/scores vector is the score for the positive sample and the rest are negative samples. This convention saves us from having to pass around an auxiliary vector indicating which sample was positive."
   ]
  },
  {
   "cell_type": "code",
   "execution_count": 4,
   "metadata": {},
   "outputs": [],
   "source": [
    "import torch.nn as nn\n",
    "\n",
    "class NegativeSampling(nn.Module):\n",
    "    def __init__(self):\n",
    "        super(NegativeSampling, self).__init__()\n",
    "        self.log_sigmoid = nn.LogSigmoid()\n",
    "    def forward(self, scores):\n",
    "        batch_size = scores.shape[0]\n",
    "        n_negative_samples = scores.shape[1] - 1   # TODO average or sum the negative samples? Summing seems to be correct by the paper\n",
    "        positive = self.log_sigmoid(scores[:,0])\n",
    "        negatives = torch.sum(self.log_sigmoid(-scores[:,1:]), dim=1)\n",
    "        return -torch.sum(positive + negatives) / batch_size  # average for batch\n",
    "\n",
    "loss = NegativeSampling()"
   ]
  },
  {
   "cell_type": "markdown",
   "metadata": {},
   "source": [
    "It's helpful to play with some values to reassure ourselves that this function does the right thing."
   ]
  },
  {
   "cell_type": "code",
   "execution_count": 5,
   "metadata": {},
   "outputs": [
    {
     "data": {
      "text/html": [
       "<div>\n",
       "<style scoped>\n",
       "    .dataframe tbody tr th:only-of-type {\n",
       "        vertical-align: middle;\n",
       "    }\n",
       "\n",
       "    .dataframe tbody tr th {\n",
       "        vertical-align: top;\n",
       "    }\n",
       "\n",
       "    .dataframe thead th {\n",
       "        text-align: right;\n",
       "    }\n",
       "</style>\n",
       "<table border=\"1\" class=\"dataframe\">\n",
       "  <thead>\n",
       "    <tr style=\"text-align: right;\">\n",
       "      <th></th>\n",
       "      <th>scores</th>\n",
       "      <th>loss</th>\n",
       "    </tr>\n",
       "  </thead>\n",
       "  <tbody>\n",
       "    <tr>\n",
       "      <th>0</th>\n",
       "      <td>[1, -1, -1, -1]</td>\n",
       "      <td>tensor(1.2530)</td>\n",
       "    </tr>\n",
       "    <tr>\n",
       "      <th>1</th>\n",
       "      <td>[0.5, -1, -1, -1]</td>\n",
       "      <td>tensor(1.4139)</td>\n",
       "    </tr>\n",
       "    <tr>\n",
       "      <th>2</th>\n",
       "      <td>[0, -1, -1, -1]</td>\n",
       "      <td>tensor(1.6329)</td>\n",
       "    </tr>\n",
       "    <tr>\n",
       "      <th>3</th>\n",
       "      <td>[0, 0, 0, 0]</td>\n",
       "      <td>tensor(2.7726)</td>\n",
       "    </tr>\n",
       "    <tr>\n",
       "      <th>4</th>\n",
       "      <td>[0, 0, 0, 1]</td>\n",
       "      <td>tensor(3.3927)</td>\n",
       "    </tr>\n",
       "    <tr>\n",
       "      <th>5</th>\n",
       "      <td>[0, 1, 1, 1]</td>\n",
       "      <td>tensor(4.6329)</td>\n",
       "    </tr>\n",
       "    <tr>\n",
       "      <th>6</th>\n",
       "      <td>[0.5, 1, 1, 1]</td>\n",
       "      <td>tensor(4.4139)</td>\n",
       "    </tr>\n",
       "    <tr>\n",
       "      <th>7</th>\n",
       "      <td>[1, 1, 1, 1]</td>\n",
       "      <td>tensor(4.2530)</td>\n",
       "    </tr>\n",
       "  </tbody>\n",
       "</table>\n",
       "</div>"
      ],
      "text/plain": [
       "              scores            loss\n",
       "0    [1, -1, -1, -1]  tensor(1.2530)\n",
       "1  [0.5, -1, -1, -1]  tensor(1.4139)\n",
       "2    [0, -1, -1, -1]  tensor(1.6329)\n",
       "3       [0, 0, 0, 0]  tensor(2.7726)\n",
       "4       [0, 0, 0, 1]  tensor(3.3927)\n",
       "5       [0, 1, 1, 1]  tensor(4.6329)\n",
       "6     [0.5, 1, 1, 1]  tensor(4.4139)\n",
       "7       [1, 1, 1, 1]  tensor(4.2530)"
      ]
     },
     "execution_count": 5,
     "metadata": {},
     "output_type": "execute_result"
    }
   ],
   "source": [
    "import torch \n",
    "\n",
    "data = [[[1, -1, -1, -1]],  # this dummy data uses -1 to 1, but the real model is unconstrained\n",
    "        [[0.5, -1, -1, -1]],\n",
    "        [[0, -1, -1, -1]],\n",
    "        [[0, 0, 0, 0]],\n",
    "        [[0, 0, 0, 1]],\n",
    "        [[0, 1, 1, 1]],\n",
    "        [[0.5, 1, 1, 1]],\n",
    "        [[1, 1, 1, 1]]]\n",
    "\n",
    "loss_df = pd.DataFrame(data, columns=[\"scores\"])\n",
    "loss_df[\"loss\"] = loss_df.scores.apply(lambda x: loss(torch.FloatTensor([x])))\n",
    "\n",
    "loss_df"
   ]
  },
  {
   "cell_type": "markdown",
   "metadata": {},
   "source": [
    "Higher scores for the positive sample (always the first element) reduce the loss but higher scores for the negative samples increase the loss. This looks like the right behaviour."
   ]
  },
  {
   "cell_type": "markdown",
   "metadata": {},
   "source": [
    "With that in the bag, let's look at creating training data. The general idea is to create a set of examples where each example has:\n",
    "\n",
    "- doc id\n",
    "- sample ids - a collection of the target token and some noise tokens\n",
    "- context ids - tokens before and after the target token\n",
    "\n",
    "e.g. If our context size was 2, the first example from the above dataset would be:\n",
    "\n",
    "```\n",
    "{\"doc_id\": 0,\n",
    " \"sample_ids\": [word2idx[x] for x in [\"week\", \"random-word-from-vocab\", \"random-word-from-vocab\"...],\n",
    " \"context_ids\": [word2idx[x] for x in [\"in\", \"the\", \"before\", \"their\"]]}\n",
    " ```\n",
    " \n",
    " The random words are chosen according to a probability distribution:\n",
    " \n",
    " > a unigram distribution raised to the 3/4rd power, as proposed by T. Mikolov et al. in Distributed Representations of Words and Phrases and their Compositionality\n",
    "\n",
    "This has the effect of slightly increasing the relative probability of rare words (look at the graph of `y=x^0.75` below and see how the lower end is raised above `y=x`)."
   ]
  },
  {
   "cell_type": "code",
   "execution_count": 6,
   "metadata": {},
   "outputs": [
    {
     "data": {
      "application/vnd.vegalite.v2+json": {
       "$schema": "https://vega.github.io/schema/vega-lite/v2.6.0.json",
       "config": {
        "view": {
         "height": 300,
         "width": 400
        }
       },
       "data": {
        "name": "data-afc3dc0951a9e12875119a5af86e52b5"
       },
       "datasets": {
        "data-afc3dc0951a9e12875119a5af86e52b5": [
         {
          "x": 0,
          "y": 0
         },
         {
          "x": 0.01,
          "y": 0.03162277660168379
         },
         {
          "x": 0.02,
          "y": 0.053182958969449884
         },
         {
          "x": 0.03,
          "y": 0.07208434242404263
         },
         {
          "x": 0.04,
          "y": 0.08944271909999159
         },
         {
          "x": 0.05,
          "y": 0.10573712634405642
         },
         {
          "x": 0.06,
          "y": 0.12123093028059741
         },
         {
          "x": 0.07,
          "y": 0.13608915892697748
         },
         {
          "x": 0.08,
          "y": 0.15042412372345573
         },
         {
          "x": 0.09,
          "y": 0.16431676725154984
         },
         {
          "x": 0.1,
          "y": 0.1778279410038923
         },
         {
          "x": 0.11,
          "y": 0.19100490227716513
         },
         {
          "x": 0.12,
          "y": 0.2038853093816547
         },
         {
          "x": 0.13,
          "y": 0.2164998073464082
         },
         {
          "x": 0.14,
          "y": 0.22887377179317683
         },
         {
          "x": 0.15,
          "y": 0.2410285256833955
         },
         {
          "x": 0.16,
          "y": 0.25298221281347033
         },
         {
          "x": 0.17,
          "y": 0.26475044029330763
         },
         {
          "x": 0.18,
          "y": 0.2763467610958144
         },
         {
          "x": 0.19,
          "y": 0.28778304315451386
         },
         {
          "x": 0.2,
          "y": 0.29906975624424414
         },
         {
          "x": 0.21,
          "y": 0.3102161981490854
         },
         {
          "x": 0.22,
          "y": 0.32123067524150845
         },
         {
          "x": 0.23,
          "y": 0.33212064831351956
         },
         {
          "x": 0.24,
          "y": 0.34289285156385596
         },
         {
          "x": 0.25,
          "y": 0.3535533905932738
         },
         {
          "x": 0.26,
          "y": 0.3641078238014289
         },
         {
          "x": 0.27,
          "y": 0.37456123052590357
         },
         {
          "x": 0.28,
          "y": 0.38491826849295824
         },
         {
          "x": 0.29,
          "y": 0.39518322257770583
         },
         {
          "x": 0.3,
          "y": 0.4053600464421103
         },
         {
          "x": 0.31,
          "y": 0.41545239829339137
         },
         {
          "x": 0.32,
          "y": 0.42546367175559907
         },
         {
          "x": 0.33,
          "y": 0.43539702265375557
         },
         {
          "x": 0.34,
          "y": 0.4452553923589699
         },
         {
          "x": 0.35000000000000003,
          "y": 0.45504152822405847
         },
         {
          "x": 0.36,
          "y": 0.46475800154489
         },
         {
          "x": 0.37,
          "y": 0.47440722340731084
         },
         {
          "x": 0.38,
          "y": 0.4839914587188715
         },
         {
          "x": 0.39,
          "y": 0.4935128386754873
         },
         {
          "x": 0.4,
          "y": 0.5029733718731741
         },
         {
          "x": 0.41000000000000003,
          "y": 0.5123749542422491
         },
         {
          "x": 0.42,
          "y": 0.5217193779544038
         },
         {
          "x": 0.43,
          "y": 0.5310083394307343
         },
         {
          "x": 0.44,
          "y": 0.5402434465602292
         },
         {
          "x": 0.45,
          "y": 0.549426225222706
         },
         {
          "x": 0.46,
          "y": 0.5585581251971565
         },
         {
          "x": 0.47000000000000003,
          "y": 0.5676405255254853
         },
         {
          "x": 0.48,
          "y": 0.576674739392341
         },
         {
          "x": 0.49,
          "y": 0.5856620185738529
         },
         {
          "x": 0.5,
          "y": 0.5946035575013605
         },
         {
          "x": 0.51,
          "y": 0.6035004969804791
         },
         {
          "x": 0.52,
          "y": 0.6123539276009055
         },
         {
          "x": 0.53,
          "y": 0.6211648928681236
         },
         {
          "x": 0.54,
          "y": 0.629934392084505
         },
         {
          "x": 0.55,
          "y": 0.6386633830041155
         },
         {
          "x": 0.56,
          "y": 0.6473527842827909
         },
         {
          "x": 0.5700000000000001,
          "y": 0.6560034777426358
         },
         {
          "x": 0.58,
          "y": 0.6646163104680073
         },
         {
          "x": 0.59,
          "y": 0.6731920967482075
         },
         {
          "x": 0.6,
          "y": 0.6817316198804996
         },
         {
          "x": 0.61,
          "y": 0.6902356338456498
         },
         {
          "x": 0.62,
          "y": 0.6987048648669424
         },
         {
          "x": 0.63,
          "y": 0.7071400128625219
         },
         {
          "x": 0.64,
          "y": 0.7155417527999327
         },
         {
          "x": 0.65,
          "y": 0.7239107359608682
         },
         {
          "x": 0.66,
          "y": 0.7322475911233668
         },
         {
          "x": 0.67,
          "y": 0.7405529256680135
         },
         {
          "x": 0.68,
          "y": 0.7488273266140879
         },
         {
          "x": 0.6900000000000001,
          "y": 0.7570713615910638
         },
         {
          "x": 0.7000000000000001,
          "y": 0.7652855797503655
         },
         {
          "x": 0.71,
          "y": 0.7734705126218591
         },
         {
          "x": 0.72,
          "y": 0.7816266749191567
         },
         {
          "x": 0.73,
          "y": 0.7897545652974598
         },
         {
          "x": 0.74,
          "y": 0.7978546670673515
         },
         {
          "x": 0.75,
          "y": 0.8059274488676564
         },
         {
          "x": 0.76,
          "y": 0.8139733653002305
         },
         {
          "x": 0.77,
          "y": 0.8219928575293057
         },
         {
          "x": 0.78,
          "y": 0.829986353847804
         },
         {
          "x": 0.79,
          "y": 0.837954270212839
         },
         {
          "x": 0.8,
          "y": 0.8458970107524514
         },
         {
          "x": 0.81,
          "y": 0.8538149682454624
         },
         {
          "x": 0.8200000000000001,
          "y": 0.8617085245761865
         },
         {
          "x": 0.8300000000000001,
          "y": 0.869578051165608
         },
         {
          "x": 0.84,
          "y": 0.8774239093805121
         },
         {
          "x": 0.85,
          "y": 0.8852464509219427
         },
         {
          "x": 0.86,
          "y": 0.8930460181942644
         },
         {
          "x": 0.87,
          "y": 0.9008229446560111
         },
         {
          "x": 0.88,
          "y": 0.9085775551536168
         },
         {
          "x": 0.89,
          "y": 0.9163101662390513
         },
         {
          "x": 0.9,
          "y": 0.9240210864723069
         },
         {
          "x": 0.91,
          "y": 0.9317106167096201
         },
         {
          "x": 0.92,
          "y": 0.9393790503782488
         },
         {
          "x": 0.93,
          "y": 0.9470266737385726
         },
         {
          "x": 0.9400000000000001,
          "y": 0.9546537661342305
         },
         {
          "x": 0.9500000000000001,
          "y": 0.9622606002309622
         },
         {
          "x": 0.96,
          "y": 0.9698474422447793
         },
         {
          "x": 0.97,
          "y": 0.9774145521600454
         },
         {
          "x": 0.98,
          "y": 0.9849621839380145
         },
         {
          "x": 0.99,
          "y": 0.992490585716335
         }
        ]
       },
       "encoding": {
        "x": {
         "field": "x",
         "type": "quantitative"
        },
        "y": {
         "field": "y",
         "type": "quantitative"
        }
       },
       "mark": "line",
       "title": "x^0.75"
      },
      "image/png": "[encoded data removed]",
      "text/plain": [
       "<VegaLite 2 object>\n",
       "\n",
       "If you see this message, it means the renderer has not been properly enabled\n",
       "for the frontend that you are using. For more information, see\n",
       "https://altair-viz.github.io/user_guide/troubleshooting.html\n"
      ]
     },
     "execution_count": 6,
     "metadata": {},
     "output_type": "execute_result"
    }
   ],
   "source": [
    "import altair as alt\n",
    "import numpy as np\n",
    "\n",
    "data = pd.DataFrame(zip(np.arange(0,1,0.01), np.power(np.arange(0,1,0.01), 0.75)), columns=[\"x\", \"y\"])\n",
    "alt.Chart(data, title=\"x^0.75\").mark_line().encode(x=\"x\", y=\"y\")"
   ]
  },
  {
   "cell_type": "code",
   "execution_count": 7,
   "metadata": {},
   "outputs": [],
   "source": [
    "import numpy as np\n",
    "\n",
    "class NoiseDistribution:\n",
    "    def __init__(self, vocab):\n",
    "        self.probs = np.array([vocab.freqs[w] for w in vocab.words])\n",
    "        self.probs = np.power(self.probs, 0.75)\n",
    "        self.probs /= np.sum(self.probs)\n",
    "    def sample(self, n):\n",
    "        \"Returns the indices of n words randomly sampled from the vocabulary.\"\n",
    "        return np.random.choice(a=self.probs.shape[0], size=n, p=self.probs)\n",
    "        \n",
    "noise = NoiseDistribution(vocab)"
   ]
  },
  {
   "cell_type": "markdown",
   "metadata": {},
   "source": [
    "With this distribution, we advance through the documents creating examples. Note that we are always putting the positive sample first in the samples vector, following the convention the loss function expects."
   ]
  },
  {
   "cell_type": "code",
   "execution_count": 8,
   "metadata": {},
   "outputs": [],
   "source": [
    "import torch\n",
    "\n",
    "def example_generator(df, context_size, noise, n_negative_samples, vocab):\n",
    "    for doc_id, doc in df.iterrows():\n",
    "        for i in range(context_size, len(doc.clean_tokens) - context_size):\n",
    "            positive_sample = vocab.word2idx[doc.clean_tokens[i]]\n",
    "            sample_ids = noise.sample(n_negative_samples).tolist()\n",
    "            # Fix a wee bug - ensure negative samples don't accidentally include the positive\n",
    "            sample_ids = [sample_id if sample_id != positive_sample else -1 for sample_id in sample_ids]\n",
    "            sample_ids.insert(0, positive_sample)                \n",
    "            context = doc.clean_tokens[i - context_size:i] + doc.clean_tokens[i + 1:i + context_size + 1]\n",
    "            context_ids = [vocab.word2idx[w] for w in context]\n",
    "            yield {\"doc_ids\": torch.tensor(doc_id),  # we use plural here because it will be batched\n",
    "                   \"sample_ids\": torch.tensor(sample_ids), \n",
    "                   \"context_ids\": torch.tensor(context_ids)}\n",
    "            \n",
    "examples = example_generator(df, context_size=5, noise=noise, n_negative_samples=15, vocab=vocab)"
   ]
  },
  {
   "cell_type": "markdown",
   "metadata": {},
   "source": [
    "Now we package this up as a good old PyTorch dataset and dataloader."
   ]
  },
  {
   "cell_type": "code",
   "execution_count": 9,
   "metadata": {},
   "outputs": [],
   "source": [
    "from torch.utils.data import Dataset, DataLoader\n",
    "\n",
    "class NCEDataset(Dataset):\n",
    "    def __init__(self, examples):\n",
    "        self.examples = list(examples)  # just naively evaluate the whole damn thing - suboptimal!\n",
    "    def __len__(self):\n",
    "        return len(self.examples)\n",
    "    def __getitem__(self, index):\n",
    "        return self.examples[index]\n",
    "    \n",
    "dataset = NCEDataset(examples)\n",
    "dataloader = DataLoader(dataset, batch_size=2, drop_last=True, shuffle=True)  # TODO bigger batch size when not dummy data"
   ]
  },
  {
   "cell_type": "markdown",
   "metadata": {},
   "source": [
    "Let's jump into creating the model itself. There isn't much to it - we multiply the input paragraph and word matrices by the output layer. Combining the paragraph and word matrices is done by summing here, but it could also be done by concatenating the inputs. The original paper actually found concatenation works better, perhaps because summing loses word order information."
   ]
  },
  {
   "cell_type": "code",
   "execution_count": 10,
   "metadata": {},
   "outputs": [],
   "source": [
    "import torch.nn as nn\n",
    "\n",
    "class DistributedMemory(nn.Module):\n",
    "    def __init__(self, vec_dim, n_docs, n_words):\n",
    "        super(DistributedMemory, self).__init__()\n",
    "        self.paragraph_matrix = nn.Parameter(torch.randn(n_docs, vec_dim))\n",
    "        self.word_matrix = nn.Parameter(torch.randn(n_words, vec_dim))\n",
    "        self.outputs = nn.Parameter(torch.zeros(vec_dim, n_words))\n",
    "    \n",
    "    def forward(self, doc_ids, context_ids, sample_ids):\n",
    "                                                                               # first add doc ids to context word ids to make the inputs\n",
    "        inputs = torch.add(self.paragraph_matrix[doc_ids,:],                   # (batch_size, vec_dim)\n",
    "                           torch.sum(self.word_matrix[context_ids,:], dim=1))  # (batch_size, 2x context, vec_dim) -> sum to (batch_size, vec_dim)\n",
    "                                                                               #\n",
    "                                                                               # select the subset of the output layer for the NCE test\n",
    "        outputs = self.outputs[:,sample_ids]                                   # (vec_dim, batch_size, n_negative_samples + 1)\n",
    "                                                                               #\n",
    "        return torch.bmm(inputs.unsqueeze(dim=1),                              # then multiply with some munging to make the tensor shapes line up \n",
    "                         outputs.permute(1, 0, 2)).squeeze()                   # -> (batch_size, n_negative_samples + 1)\n",
    "\n",
    "model = DistributedMemory(vec_dim=50,\n",
    "                          n_docs=len(df),\n",
    "                          n_words=len(vocab.words))"
   ]
  },
  {
   "cell_type": "markdown",
   "metadata": {},
   "source": [
    "Let's take it for a spin!"
   ]
  },
  {
   "cell_type": "code",
   "execution_count": 11,
   "metadata": {},
   "outputs": [
    {
     "data": {
      "text/plain": [
       "tensor([[0., 0., 0., 0., 0., 0., 0., 0., 0., 0., 0., 0., 0., 0., 0., 0.],\n",
       "        [0., 0., 0., 0., 0., 0., 0., 0., 0., 0., 0., 0., 0., 0., 0., 0.]])"
      ]
     },
     "execution_count": 11,
     "metadata": {},
     "output_type": "execute_result"
    }
   ],
   "source": [
    "with torch.no_grad():\n",
    "    logits = model.forward(**next(iter(dataloader)))\n",
    "logits"
   ]
  },
  {
   "cell_type": "markdown",
   "metadata": {},
   "source": [
    "Oh yeah, the output layer was initialized with zeros. Time to bash out a standard issue PyTorch training loop."
   ]
  },
  {
   "cell_type": "code",
   "execution_count": 12,
   "metadata": {},
   "outputs": [],
   "source": [
    "from tqdm import tqdm, trange\n",
    "from torch.optim import Adam\n",
    "import numpy as np\n",
    "\n",
    "def train(model, dataloader, epochs=40, lr=1e-3):\n",
    "    optimizer = Adam(model.parameters(), lr=lr)\n",
    "    training_losses = []\n",
    "    try:\n",
    "        for epoch in trange(epochs, desc=\"Epochs\"):\n",
    "            epoch_losses = []\n",
    "            for batch in dataloader:\n",
    "                model.zero_grad()\n",
    "                logits = model.forward(**batch)\n",
    "                batch_loss = loss(logits)\n",
    "                epoch_losses.append(batch_loss.item())\n",
    "                batch_loss.backward()\n",
    "                optimizer.step()\n",
    "            training_losses.append(np.mean(epoch_losses))\n",
    "    except KeyboardInterrupt:\n",
    "        print(f\"Interrupted on epoch {epoch}!\")\n",
    "    finally:\n",
    "        return training_losses"
   ]
  },
  {
   "cell_type": "markdown",
   "metadata": {},
   "source": [
    "Now we'll sanity check by overfitting the example data. Training loss should drop from untrained loss to something close to the minimum possible."
   ]
  },
  {
   "cell_type": "code",
   "execution_count": 13,
   "metadata": {},
   "outputs": [
    {
     "name": "stderr",
     "output_type": "stream",
     "text": [
      "Epochs: 100%|██████████| 40/40 [00:08<00:00,  4.95it/s]\n"
     ]
    }
   ],
   "source": [
    "training_losses = train(model, dataloader, epochs=40, lr=1e-3)"
   ]
  },
  {
   "cell_type": "code",
   "execution_count": 14,
   "metadata": {},
   "outputs": [
    {
     "data": {
      "application/vnd.vegalite.v2+json": {
       "$schema": "https://vega.github.io/schema/vega-lite/v2.6.0.json",
       "config": {
        "view": {
         "height": 300,
         "width": 400
        }
       },
       "data": {
        "name": "data-c1f6f1cd804eb4686aed6e4dab1fe151"
       },
       "datasets": {
        "data-c1f6f1cd804eb4686aed6e4dab1fe151": [
         {
          "epoch": 0,
          "training_loss": 5.724547248775676
         },
         {
          "epoch": 1,
          "training_loss": 2.3624797877618824
         },
         {
          "epoch": 2,
          "training_loss": 1.571230056679855
         },
         {
          "epoch": 3,
          "training_loss": 1.1560700987860308
         },
         {
          "epoch": 4,
          "training_loss": 0.874349300007699
         },
         {
          "epoch": 5,
          "training_loss": 0.6871672653419486
         },
         {
          "epoch": 6,
          "training_loss": 0.5488429658620034
         },
         {
          "epoch": 7,
          "training_loss": 0.44154526596352206
         },
         {
          "epoch": 8,
          "training_loss": 0.35656116959654677
         },
         {
          "epoch": 9,
          "training_loss": 0.2922125257930513
         },
         {
          "epoch": 10,
          "training_loss": 0.24566860897940093
         },
         {
          "epoch": 11,
          "training_loss": 0.2039382419848846
         },
         {
          "epoch": 12,
          "training_loss": 0.1723649866594854
         },
         {
          "epoch": 13,
          "training_loss": 0.14487903476771663
         },
         {
          "epoch": 14,
          "training_loss": 0.12339254656522455
         },
         {
          "epoch": 15,
          "training_loss": 0.10583886037722735
         },
         {
          "epoch": 16,
          "training_loss": 0.090406291920818
         },
         {
          "epoch": 17,
          "training_loss": 0.07816696781033682
         },
         {
          "epoch": 18,
          "training_loss": 0.06788417344155201
         },
         {
          "epoch": 19,
          "training_loss": 0.0592864107743095
         },
         {
          "epoch": 20,
          "training_loss": 0.05277079136221338
         },
         {
          "epoch": 21,
          "training_loss": 0.04661109979201298
         },
         {
          "epoch": 22,
          "training_loss": 0.039718377469028586
         },
         {
          "epoch": 23,
          "training_loss": 0.03543831380202545
         },
         {
          "epoch": 24,
          "training_loss": 0.03174596182189061
         },
         {
          "epoch": 25,
          "training_loss": 0.02878569553101088
         },
         {
          "epoch": 26,
          "training_loss": 0.025630126391553272
         },
         {
          "epoch": 27,
          "training_loss": 0.022213037342811794
         },
         {
          "epoch": 28,
          "training_loss": 0.020168207146787732
         },
         {
          "epoch": 29,
          "training_loss": 0.018582129555012462
         },
         {
          "epoch": 30,
          "training_loss": 0.015376961226693466
         },
         {
          "epoch": 31,
          "training_loss": 0.014802158657279876
         },
         {
          "epoch": 32,
          "training_loss": 0.012940683367097814
         },
         {
          "epoch": 33,
          "training_loss": 0.01150128307063685
         },
         {
          "epoch": 34,
          "training_loss": 0.012438168448802495
         },
         {
          "epoch": 35,
          "training_loss": 0.00992944646109748
         },
         {
          "epoch": 36,
          "training_loss": 0.009343389454998187
         },
         {
          "epoch": 37,
          "training_loss": 0.010297984750527036
         },
         {
          "epoch": 38,
          "training_loss": 0.007537961974976805
         },
         {
          "epoch": 39,
          "training_loss": 0.00705308154653521
         }
        ]
       },
       "encoding": {
        "x": {
         "field": "epoch",
         "type": "quantitative"
        },
        "y": {
         "field": "training_loss",
         "scale": {
          "type": "log"
         },
         "type": "quantitative"
        }
       },
       "mark": "bar"
      },
      "image/png": "[encoded data removed]",
      "text/plain": [
       "<VegaLite 2 object>\n",
       "\n",
       "If you see this message, it means the renderer has not been properly enabled\n",
       "for the frontend that you are using. For more information, see\n",
       "https://altair-viz.github.io/user_guide/troubleshooting.html\n"
      ]
     },
     "execution_count": 14,
     "metadata": {},
     "output_type": "execute_result"
    }
   ],
   "source": [
    "import altair as alt\n",
    "\n",
    "df_loss = pd.DataFrame(enumerate(training_losses), columns=[\"epoch\", \"training_loss\"])\n",
    "alt.Chart(df_loss).mark_bar().encode(alt.X(\"epoch\"), alt.Y(\"training_loss\", scale=alt.Scale(type=\"log\")))"
   ]
  },
  {
   "cell_type": "markdown",
   "metadata": {},
   "source": [
    "And because we're paranoid types, let's check a prediction."
   ]
  },
  {
   "cell_type": "code",
   "execution_count": 15,
   "metadata": {},
   "outputs": [
    {
     "data": {
      "text/plain": [
       "tensor([[  7.1029,  -6.1132, -11.2944, -11.9965, -12.4316,  -9.9220, -11.7198,\n",
       "         -11.7198, -11.3220, -11.3220, -14.0188, -11.3220, -15.6096, -12.4304,\n",
       "         -14.1573, -15.6096],\n",
       "        [  5.5736, -10.1294, -10.6459, -15.5328,  -8.2267, -15.7635,  -6.7941,\n",
       "         -12.3305, -19.9890, -13.7029, -10.0596, -17.6852, -21.1522, -19.9890,\n",
       "          -8.8497, -10.0596]])"
      ]
     },
     "execution_count": 15,
     "metadata": {},
     "output_type": "execute_result"
    }
   ],
   "source": [
    "with torch.no_grad():\n",
    "    logits = model.forward(**next(iter(dataloader)))\n",
    "logits"
   ]
  },
  {
   "cell_type": "markdown",
   "metadata": {},
   "source": [
    "The positive sample gets a positive score and the negatives get negative scores. Super."
   ]
  },
  {
   "cell_type": "markdown",
   "metadata": {},
   "source": [
    "We should be able get the paragraph vectors for the documents and do things like check these for similarity to one another."
   ]
  },
  {
   "cell_type": "code",
   "execution_count": 16,
   "metadata": {},
   "outputs": [
    {
     "name": "stdout",
     "output_type": "stream",
     "text": [
      "doc 0 similarity with doc 1: -0.020339858\n",
      "doc 0 similarity with doc 2: -0.14579035\n",
      "doc 0 similarity with doc 3: 0.13271572\n",
      "doc 0 similarity with doc 4: 0.034900237\n"
     ]
    }
   ],
   "source": [
    "from sklearn.metrics.pairwise import cosine_similarity\n",
    "\n",
    "def similarity(matrix, id0, id1):\n",
    "    doc0 = matrix[id0,:].data\n",
    "    doc1 = matrix[id1,:].data\n",
    "    return cosine_similarity(doc0.unsqueeze(dim=0), doc1.unsqueeze(dim=0))[0][0]\n",
    "\n",
    "print(\"doc 0 similarity with doc 1:\", similarity(model.paragraph_matrix, 0, 1))\n",
    "print(\"doc 0 similarity with doc 2:\", similarity(model.paragraph_matrix, 0, 2))\n",
    "print(\"doc 0 similarity with doc 3:\", similarity(model.paragraph_matrix, 0, 3))\n",
    "print(\"doc 0 similarity with doc 4:\", similarity(model.paragraph_matrix, 0, 4))"
   ]
  },
  {
   "cell_type": "markdown",
   "metadata": {},
   "source": [
    "It's not particularly illuminating for our tiny set of dummy data though. We can also use PCA to reduce our 300-dimensional paragraph vectors to 2 dimensions and see if they are clustered nicely."
   ]
  },
  {
   "cell_type": "code",
   "execution_count": 17,
   "metadata": {},
   "outputs": [
    {
     "data": {
      "application/vnd.vegalite.v2+json": {
       "$schema": "https://vega.github.io/schema/vega-lite/v2.6.0.json",
       "config": {
        "view": {
         "height": 300,
         "width": 400
        }
       },
       "data": {
        "name": "data-1b6f92e9ba1bfda317329faa0779f1e4"
       },
       "datasets": {
        "data-1b6f92e9ba1bfda317329faa0779f1e4": [
         {
          "group": "a",
          "x": -0.9661996597430407,
          "y": 0.3289713911740751
         },
         {
          "group": "a",
          "x": 1.6117636662593797,
          "y": -2.656369971850754
         },
         {
          "group": "a",
          "x": 2.751034396013989,
          "y": 0.24415000147299795
         },
         {
          "group": "a",
          "x": -1.18006516643065,
          "y": 2.6552293274899115
         },
         {
          "group": "b",
          "x": -1.580121345730739,
          "y": -2.0401130591336436
         },
         {
          "group": "b",
          "x": -0.6739303660379594,
          "y": -0.4122916714703684
         },
         {
          "group": "b",
          "x": -0.501064597520583,
          "y": 3.366569718625352
         },
         {
          "group": "b",
          "x": -1.8950865448763845,
          "y": 0.35668248424485594
         },
         {
          "group": "c",
          "x": 6.387125820733626,
          "y": 1.7255728491607802
         },
         {
          "group": "c",
          "x": -0.2864471467105132,
          "y": -3.516998166911984
         },
         {
          "group": "c",
          "x": 2.9346345042546003,
          "y": -1.1426378169182447
         },
         {
          "group": "c",
          "x": 2.9021692381930246,
          "y": 0.6934701954677179
         },
         {
          "group": "d",
          "x": -1.655035882270251,
          "y": -0.5634738480976536
         },
         {
          "group": "d",
          "x": -3.527421035181287,
          "y": -1.9310861046425782
         },
         {
          "group": "d",
          "x": -1.4882405451848728,
          "y": -3.2091909830009078
         },
         {
          "group": "d",
          "x": -2.8331153357683467,
          "y": 6.101515654390446
         }
        ]
       },
       "encoding": {
        "color": {
         "field": "group",
         "type": "nominal"
        },
        "x": {
         "field": "x",
         "type": "quantitative"
        },
        "y": {
         "field": "y",
         "type": "quantitative"
        }
       },
       "mark": "point"
      },
      "image/png": "[encoded data removed]",
      "text/plain": [
       "<VegaLite 2 object>\n",
       "\n",
       "If you see this message, it means the renderer has not been properly enabled\n",
       "for the frontend that you are using. For more information, see\n",
       "https://altair-viz.github.io/user_guide/troubleshooting.html\n"
      ]
     },
     "execution_count": 17,
     "metadata": {},
     "output_type": "execute_result"
    }
   ],
   "source": [
    "from sklearn.decomposition import PCA\n",
    "from itertools import repeat, chain\n",
    "\n",
    "pca = PCA(n_components=2)\n",
    "\n",
    "reduced_dims = pca.fit_transform(model.paragraph_matrix.data)\n",
    "\n",
    "dx = pd.DataFrame(reduced_dims, columns=[\"x\", \"y\"])\n",
    "dx[\"group\"] = list(chain.from_iterable(repeat(c, 4) for c in (\"a\", \"b\", \"c\", \"d\")))  # because the example set intentionally includes dupes\n",
    "alt.Chart(dx).mark_point().encode(x=\"x\", y=\"y\", color=\"group\")"
   ]
  },
  {
   "cell_type": "markdown",
   "metadata": {},
   "source": [
    "Given that the documents are simply duplicated, this is rather disappointing. But it is a _tiny_ dataset."
   ]
  },
  {
   "cell_type": "markdown",
   "metadata": {},
   "source": [
    "Running this on some bigger data\n",
    "--------------------------------\n",
    "\n",
    "We'll use the BBC's dataset. The dataset was created by Derek Greene at UCD and all articles are copyright Auntie. I've munged it into a file per topic."
   ]
  },
  {
   "cell_type": "code",
   "execution_count": 18,
   "metadata": {},
   "outputs": [
    {
     "name": "stdout",
     "output_type": "stream",
     "text": [
      "Error reading sport\n",
      "'utf-8' codec can't decode byte 0xa3 in position 257: invalid start byte\n"
     ]
    },
    {
     "data": {
      "text/html": [
       "<div>\n",
       "<style scoped>\n",
       "    .dataframe tbody tr th:only-of-type {\n",
       "        vertical-align: middle;\n",
       "    }\n",
       "\n",
       "    .dataframe tbody tr th {\n",
       "        vertical-align: top;\n",
       "    }\n",
       "\n",
       "    .dataframe thead th {\n",
       "        text-align: right;\n",
       "    }\n",
       "</style>\n",
       "<table border=\"1\" class=\"dataframe\">\n",
       "  <thead>\n",
       "    <tr style=\"text-align: right;\">\n",
       "      <th></th>\n",
       "      <th>text</th>\n",
       "      <th>tokens</th>\n",
       "      <th>group</th>\n",
       "    </tr>\n",
       "  </thead>\n",
       "  <tbody>\n",
       "    <tr>\n",
       "      <th>0</th>\n",
       "      <td>Ad sales boost Time Warner profit  Quarterly p...</td>\n",
       "      <td>[ad, sales, boost, time, warner, profit, quart...</td>\n",
       "      <td>business</td>\n",
       "    </tr>\n",
       "    <tr>\n",
       "      <th>1</th>\n",
       "      <td>Dollar gains on Greenspan speech  The dollar h...</td>\n",
       "      <td>[dollar, gains, on, greenspan, speech, the, do...</td>\n",
       "      <td>business</td>\n",
       "    </tr>\n",
       "    <tr>\n",
       "      <th>2</th>\n",
       "      <td>Yukos unit buyer faces loan claim  The owners ...</td>\n",
       "      <td>[yukos, unit, buyer, faces, loan, claim, the, ...</td>\n",
       "      <td>business</td>\n",
       "    </tr>\n",
       "    <tr>\n",
       "      <th>3</th>\n",
       "      <td>High fuel prices hit BA's profits  British Air...</td>\n",
       "      <td>[high, fuel, prices, hit, ba, profits, british...</td>\n",
       "      <td>business</td>\n",
       "    </tr>\n",
       "  </tbody>\n",
       "</table>\n",
       "</div>"
      ],
      "text/plain": [
       "                                                text  \\\n",
       "0  Ad sales boost Time Warner profit  Quarterly p...   \n",
       "1  Dollar gains on Greenspan speech  The dollar h...   \n",
       "2  Yukos unit buyer faces loan claim  The owners ...   \n",
       "3  High fuel prices hit BA's profits  British Air...   \n",
       "\n",
       "                                              tokens     group  \n",
       "0  [ad, sales, boost, time, warner, profit, quart...  business  \n",
       "1  [dollar, gains, on, greenspan, speech, the, do...  business  \n",
       "2  [yukos, unit, buyer, faces, loan, claim, the, ...  business  \n",
       "3  [high, fuel, prices, hit, ba, profits, british...  business  "
      ]
     },
     "execution_count": 18,
     "metadata": {},
     "output_type": "execute_result"
    }
   ],
   "source": [
    "dfs = []\n",
    "for document_set in (\"business\",\n",
    "                     \"politics\", \n",
    "                     \"tech\", \n",
    "                     \"sport\", \n",
    "                     \"entertainment\"):\n",
    "    try:\n",
    "        df_ = pd.read_csv(f\"data/bbc/{document_set}.csv.bz2\")\n",
    "        df_ = tokenize_text(df_)\n",
    "        df_[\"group\"] = document_set\n",
    "        dfs.append(df_)\n",
    "    except Exception as err:\n",
    "        print(f\"Error reading {document_set}\")\n",
    "        print(err)\n",
    "\n",
    "df = pd.concat(dfs)\n",
    "df[:4]"
   ]
  },
  {
   "cell_type": "code",
   "execution_count": 19,
   "metadata": {},
   "outputs": [
    {
     "name": "stdout",
     "output_type": "stream",
     "text": [
      "Dataset comprises 1714 documents and 16674 unique words\n"
     ]
    }
   ],
   "source": [
    "vocab = Vocab([tok for tokens in df.tokens for tok in tokens])\n",
    "\n",
    "df = clean_tokens(df, vocab)\n",
    "\n",
    "print(f\"Dataset comprises {len(df)} documents and {len(vocab.words)} unique words\")"
   ]
  },
  {
   "cell_type": "code",
   "execution_count": 20,
   "metadata": {},
   "outputs": [],
   "source": [
    "noise = NoiseDistribution(vocab)\n",
    "examples = example_generator(df, context_size=5, noise=noise, n_negative_samples=15, vocab=vocab)\n",
    "dataset = NCEDataset(examples)\n",
    "dataloader = DataLoader(dataset, batch_size=256, drop_last=True, shuffle=True)  # TODO could tolerate a larger batch size\n",
    "\n",
    "model = DistributedMemory(vec_dim=50,\n",
    "                          n_docs=len(df),\n",
    "                          n_words=len(vocab.words))"
   ]
  },
  {
   "cell_type": "code",
   "execution_count": 21,
   "metadata": {},
   "outputs": [
    {
     "name": "stderr",
     "output_type": "stream",
     "text": [
      "Epochs: 100%|██████████| 40/40 [37:22<00:00, 56.30s/it]\n"
     ]
    }
   ],
   "source": [
    "training_losses = train(model, dataloader, epochs=40, lr=1e-3)"
   ]
  },
  {
   "cell_type": "code",
   "execution_count": 22,
   "metadata": {},
   "outputs": [
    {
     "data": {
      "application/vnd.vegalite.v2+json": {
       "$schema": "https://vega.github.io/schema/vega-lite/v2.6.0.json",
       "config": {
        "view": {
         "height": 300,
         "width": 400
        }
       },
       "data": {
        "name": "data-c4a39da1e9d190b82bf5763a1727f6da"
       },
       "datasets": {
        "data-c4a39da1e9d190b82bf5763a1727f6da": [
         {
          "epoch": 0,
          "training_loss": 3.7800429921032106
         },
         {
          "epoch": 1,
          "training_loss": 3.0373441727353323
         },
         {
          "epoch": 2,
          "training_loss": 2.793930504713265
         },
         {
          "epoch": 3,
          "training_loss": 2.641646642618504
         },
         {
          "epoch": 4,
          "training_loss": 2.528739087352812
         },
         {
          "epoch": 5,
          "training_loss": 2.437104024016082
         },
         {
          "epoch": 6,
          "training_loss": 2.3599338471520426
         },
         {
          "epoch": 7,
          "training_loss": 2.2920412647281267
         },
         {
          "epoch": 8,
          "training_loss": 2.2321901463502702
         },
         {
          "epoch": 9,
          "training_loss": 2.1777838663696873
         },
         {
          "epoch": 10,
          "training_loss": 2.128531804394796
         },
         {
          "epoch": 11,
          "training_loss": 2.0828163781586815
         },
         {
          "epoch": 12,
          "training_loss": 2.040898832374313
         },
         {
          "epoch": 13,
          "training_loss": 2.00161331642892
         },
         {
          "epoch": 14,
          "training_loss": 1.9647803407150894
         },
         {
          "epoch": 15,
          "training_loss": 1.9299131769790738
         },
         {
          "epoch": 16,
          "training_loss": 1.89725867467399
         },
         {
          "epoch": 17,
          "training_loss": 1.8658921953417569
         },
         {
          "epoch": 18,
          "training_loss": 1.8363117848756512
         },
         {
          "epoch": 19,
          "training_loss": 1.8081837435348116
         },
         {
          "epoch": 20,
          "training_loss": 1.7810556140754246
         },
         {
          "epoch": 21,
          "training_loss": 1.755449311375249
         },
         {
          "epoch": 22,
          "training_loss": 1.7306780342254846
         },
         {
          "epoch": 23,
          "training_loss": 1.7066193024163645
         },
         {
          "epoch": 24,
          "training_loss": 1.6840887388485504
         },
         {
          "epoch": 25,
          "training_loss": 1.6620672302718502
         },
         {
          "epoch": 26,
          "training_loss": 1.641086333491854
         },
         {
          "epoch": 27,
          "training_loss": 1.6202196752877427
         },
         {
          "epoch": 28,
          "training_loss": 1.6010759394881158
         },
         {
          "epoch": 29,
          "training_loss": 1.5817983925065757
         },
         {
          "epoch": 30,
          "training_loss": 1.5638361883698602
         },
         {
          "epoch": 31,
          "training_loss": 1.546252935709599
         },
         {
          "epoch": 32,
          "training_loss": 1.5293725293948555
         },
         {
          "epoch": 33,
          "training_loss": 1.5128391120732754
         },
         {
          "epoch": 34,
          "training_loss": 1.4969894321341264
         },
         {
          "epoch": 35,
          "training_loss": 1.4812859559299039
         },
         {
          "epoch": 36,
          "training_loss": 1.4667061275280666
         },
         {
          "epoch": 37,
          "training_loss": 1.4523401640517055
         },
         {
          "epoch": 38,
          "training_loss": 1.4385123794938757
         },
         {
          "epoch": 39,
          "training_loss": 1.4247865036545153
         }
        ]
       },
       "encoding": {
        "x": {
         "field": "epoch",
         "type": "quantitative"
        },
        "y": {
         "field": "training_loss",
         "type": "quantitative"
        }
       },
       "mark": "bar"
      },
      "image/png": "[encoded data removed]",
      "text/plain": [
       "<VegaLite 2 object>\n",
       "\n",
       "If you see this message, it means the renderer has not been properly enabled\n",
       "for the frontend that you are using. For more information, see\n",
       "https://altair-viz.github.io/user_guide/troubleshooting.html\n"
      ]
     },
     "execution_count": 22,
     "metadata": {},
     "output_type": "execute_result"
    }
   ],
   "source": [
    "alt.Chart(pd.DataFrame(enumerate(training_losses), columns=[\"epoch\", \"training_loss\"])).mark_bar().encode(x=\"epoch\", y=\"training_loss\")"
   ]
  },
  {
   "cell_type": "markdown",
   "metadata": {},
   "source": [
    "Let's take a look at the reduced dimensionality paragraph vectors."
   ]
  },
  {
   "cell_type": "code",
   "execution_count": 23,
   "metadata": {},
   "outputs": [
    {
     "data": {
      "application/vnd.vegalite.v2+json": {
       "$schema": "https://vega.github.io/schema/vega-lite/v2.6.0.json",
       "config": {
        "view": {
         "height": 300,
         "width": 400
        }
       },
       "data": {
        "name": "data-15f3f40da0d32db08119967a49439d38"
       },
       "datasets": {
        "data-15f3f40da0d32db08119967a49439d38": [
         {
          "group": "business",
          "x": -1.7967587084787222,
          "y": -1.7930201601136255
         },
         {
          "group": "business",
          "x": -0.29187468210266393,
          "y": 0.999202803044547
         },
         {
          "group": "business",
          "x": -0.5368165295576004,
          "y": -0.0988318747871831
         },
         {
          "group": "business",
          "x": -1.2223804176596447,
          "y": 0.028430293193808177
         },
         {
          "group": "business",
          "x": -0.7298104677600238,
          "y": -0.10872434555881547
         },
         {
          "group": "business",
          "x": -1.1468670692572875,
          "y": -1.4433340336426963
         },
         {
          "group": "business",
          "x": -1.1925478248792736,
          "y": -0.37873625702942304
         },
         {
          "group": "business",
          "x": 0.5757465527057766,
          "y": 0.1999165208721079
         },
         {
          "group": "business",
          "x": -0.4005740857556262,
          "y": -0.3557146560156288
         },
         {
          "group": "business",
          "x": -0.6472792811073111,
          "y": -1.6186754727524366
         },
         {
          "group": "business",
          "x": -0.0057024492369087245,
          "y": -0.2800220471710391
         },
         {
          "group": "business",
          "x": -7.331002061617434e-05,
          "y": 0.5717121304225588
         },
         {
          "group": "business",
          "x": -0.019319736271508698,
          "y": 0.8630630224326141
         },
         {
          "group": "business",
          "x": -0.8675859429348832,
          "y": 0.12221733721869045
         },
         {
          "group": "business",
          "x": -2.032142251565847,
          "y": -0.8226495122836852
         },
         {
          "group": "business",
          "x": -0.06319869548712358,
          "y": -1.2321306514342756
         },
         {
          "group": "business",
          "x": -0.08471963163118275,
          "y": -0.6040820895048266
         },
         {
          "group": "business",
          "x": -0.19556536645528821,
          "y": 0.3874210588694647
         },
         {
          "group": "business",
          "x": 0.14065682387249037,
          "y": 0.6649580215825075
         },
         {
          "group": "business",
          "x": 0.01012471253959268,
          "y": 0.9881580242897828
         },
         {
          "group": "business",
          "x": 0.4847835015717968,
          "y": -0.22720187333419625
         },
         {
          "group": "business",
          "x": 2.694788261297057e-05,
          "y": 0.948217450654707
         },
         {
          "group": "business",
          "x": -0.9261703274017961,
          "y": 0.03363485010761457
         },
         {
          "group": "business",
          "x": -0.0009591231246371451,
          "y": 0.34296302056489514
         },
         {
          "group": "business",
          "x": -0.34830125408912704,
          "y": -0.6636013603920499
         },
         {
          "group": "business",
          "x": -0.6411522944979765,
          "y": 0.17868820500906135
         },
         {
          "group": "business",
          "x": -0.4534769961085914,
          "y": -0.06803057341257629
         },
         {
          "group": "business",
          "x": 0.14493922968783624,
          "y": 0.22653559127616454
         },
         {
          "group": "business",
          "x": -0.8532024911624531,
          "y": -0.48532072720533703
         },
         {
          "group": "business",
          "x": -0.8343384003858904,
          "y": -0.27881379903734455
         },
         {
          "group": "business",
          "x": -0.7045560896987199,
          "y": 0.7146738882720137
         },
         {
          "group": "business",
          "x": 0.1386154057214007,
          "y": -0.942578507244836
         },
         {
          "group": "business",
          "x": -0.38198372428495864,
          "y": 0.38895409394817976
         },
         {
          "group": "business",
          "x": -0.5246398952167255,
          "y": 1.5736023622211144
         },
         {
          "group": "business",
          "x": -0.2542211809218694,
          "y": -0.4791620736012859
         },
         {
          "group": "business",
          "x": -0.7324268873286591,
          "y": 0.17694510663708513
         },
         {
          "group": "business",
          "x": -1.004786739632096,
          "y": -0.017862876667685212
         },
         {
          "group": "business",
          "x": 0.7535144612728274,
          "y": 0.06806093741744189
         },
         {
          "group": "business",
          "x": 0.214172506551485,
          "y": 0.26918300574240356
         },
         {
          "group": "business",
          "x": -0.1283578687693951,
          "y": 0.6408737184525519
         },
         {
          "group": "business",
          "x": -0.22722451824907913,
          "y": 0.037429417649504325
         },
         {
          "group": "business",
          "x": -0.3061313365719795,
          "y": 0.5855877885522702
         },
         {
          "group": "business",
          "x": 1.0038323044552115,
          "y": -0.6739725056078811
         },
         {
          "group": "business",
          "x": -0.5434133435817816,
          "y": 0.8812576256577829
         },
         {
          "group": "business",
          "x": -0.461285100926681,
          "y": 1.5945086363663394
         },
         {
          "group": "business",
          "x": -0.026773604679718815,
          "y": 1.0161612897543588
         },
         {
          "group": "business",
          "x": -0.7465926880095546,
          "y": 1.0363339363447746
         },
         {
          "group": "business",
          "x": -2.5332335627864837,
          "y": -0.3516977748923291
         },
         {
          "group": "business",
          "x": -1.7641036337964264,
          "y": 0.6212162961688585
         },
         {
          "group": "business",
          "x": -1.0696310549663541,
          "y": 0.5314205129602456
         },
         {
          "group": "business",
          "x": -1.6796360030558675,
          "y": 0.8779298277324064
         },
         {
          "group": "business",
          "x": -0.5530332118666271,
          "y": -1.3086603544761422
         },
         {
          "group": "business",
          "x": -1.3243821986180806,
          "y": 0.11457157354448307
         },
         {
          "group": "business",
          "x": -1.133119950984787,
          "y": 0.6906785671859311
         },
         {
          "group": "business",
          "x": 0.04913499914461356,
          "y": 2.2749103310979044
         },
         {
          "group": "business",
          "x": -1.2178289442514458,
          "y": -0.031970750112497094
         },
         {
          "group": "business",
          "x": 0.35382234248063726,
          "y": 0.7185616003981936
         },
         {
          "group": "business",
          "x": -0.8947559527716806,
          "y": 0.6355571030895566
         },
         {
          "group": "business",
          "x": 0.6202998152584183,
          "y": 1.0953617765832864
         },
         {
          "group": "business",
          "x": -1.2445709362065032,
          "y": 0.23800796884690592
         },
         {
          "group": "business",
          "x": -0.48541728639584913,
          "y": -0.13435530259204126
         },
         {
          "group": "business",
          "x": -1.5526798615543105,
          "y": -1.3054970900991243
         },
         {
          "group": "business",
          "x": -0.47791243096731406,
          "y": 1.2548012132032653
         },
         {
          "group": "business",
          "x": -0.9455024683521188,
          "y": -0.38287502125328743
         },
         {
          "group": "business",
          "x": -1.7333972372544997,
          "y": 0.13224767613346267
         },
         {
          "group": "business",
          "x": -1.2219984443076592,
          "y": -0.04102794065809972
         },
         {
          "group": "business",
          "x": -0.49149813416977456,
          "y": 1.6834567494872683
         },
         {
          "group": "business",
          "x": -0.5598807908717416,
          "y": 0.5246657256685651
         },
         {
          "group": "business",
          "x": -1.2754012131336552,
          "y": 0.44182689501841027
         },
         {
          "group": "business",
          "x": 0.30226049798202714,
          "y": 1.109014169876885
         },
         {
          "group": "business",
          "x": -0.7406543305347463,
          "y": 0.9632714900381492
         },
         {
          "group": "business",
          "x": -1.4497098844757768,
          "y": -0.5370095272863358
         },
         {
          "group": "business",
          "x": -0.5404813174796866,
          "y": 0.10010348169675135
         },
         {
          "group": "business",
          "x": -0.9790465800576,
          "y": -0.9635179432625317
         },
         {
          "group": "business",
          "x": 0.2127199588540186,
          "y": 1.3091084568542328
         },
         {
          "group": "business",
          "x": 0.22724585965641128,
          "y": 0.07274738044703713
         },
         {
          "group": "business",
          "x": -0.09298981501015718,
          "y": 0.6084597837713437
         },
         {
          "group": "business",
          "x": -1.098492566420796,
          "y": -0.32243666444915486
         },
         {
          "group": "business",
          "x": -0.9639879767118131,
          "y": 0.5733021272444189
         },
         {
          "group": "business",
          "x": 0.3479678733040478,
          "y": 0.47594976330634553
         },
         {
          "group": "business",
          "x": -2.5055067975550784,
          "y": -1.1629792245390507
         },
         {
          "group": "business",
          "x": -1.041437284033409,
          "y": 0.3066903834009539
         },
         {
          "group": "business",
          "x": -0.7223637678284907,
          "y": 1.0238568027045127
         },
         {
          "group": "business",
          "x": -0.9573154286193253,
          "y": 0.48392094478127684
         },
         {
          "group": "business",
          "x": -0.6727175502756605,
          "y": -1.5433679838118266
         },
         {
          "group": "business",
          "x": -0.7081062246566101,
          "y": -1.842848104408924
         },
         {
          "group": "business",
          "x": 0.2709327993075761,
          "y": 1.523866648291601
         },
         {
          "group": "business",
          "x": -2.2239783368567316,
          "y": -1.3070783676137947
         },
         {
          "group": "business",
          "x": -0.6515598630307188,
          "y": 1.4331634764480596
         },
         {
          "group": "business",
          "x": -0.6563751428823088,
          "y": -0.36438445001314657
         },
         {
          "group": "business",
          "x": -1.1514508969490234,
          "y": -1.030355106344932
         },
         {
          "group": "business",
          "x": 0.34931097500939645,
          "y": -0.37834549011599283
         },
         {
          "group": "business",
          "x": -0.3684710627697347,
          "y": -0.268923480611736
         },
         {
          "group": "business",
          "x": 1.0779579990484816,
          "y": 0.9274238503693493
         },
         {
          "group": "business",
          "x": -0.6799698273728888,
          "y": -0.07732700598088584
         },
         {
          "group": "business",
          "x": -1.1376285457559887,
          "y": -0.8566330020752385
         },
         {
          "group": "business",
          "x": 0.5667967510803993,
          "y": 0.3182116816576172
         },
         {
          "group": "business",
          "x": -0.6365697789994323,
          "y": 0.6815961801582994
         },
         {
          "group": "business",
          "x": -0.13838364245595478,
          "y": 0.5883698418675571
         },
         {
          "group": "business",
          "x": -1.1681636548429886,
          "y": 2.5470238178137277
         },
         {
          "group": "business",
          "x": -0.0684313942363183,
          "y": -1.6303477575422536
         },
         {
          "group": "business",
          "x": -0.4645895463693927,
          "y": 1.395504534048587
         },
         {
          "group": "business",
          "x": -0.9823997942724074,
          "y": -0.43053593614828345
         },
         {
          "group": "business",
          "x": 0.38243310168867645,
          "y": -1.0496841377452537
         },
         {
          "group": "business",
          "x": -1.8570851017962995,
          "y": -0.7570301463638052
         },
         {
          "group": "business",
          "x": 0.24096667792518,
          "y": -0.7083705235512248
         },
         {
          "group": "business",
          "x": 0.33148319638394746,
          "y": -0.9227339756703363
         },
         {
          "group": "business",
          "x": -1.4907963265988817,
          "y": 0.14262325850977747
         },
         {
          "group": "business",
          "x": -0.9484613056055157,
          "y": -2.249125309088104
         },
         {
          "group": "business",
          "x": -0.43622343216592013,
          "y": 1.5277345435364158
         },
         {
          "group": "business",
          "x": -1.3757444209375342,
          "y": -0.05482021911691396
         },
         {
          "group": "business",
          "x": -1.5599582794633557,
          "y": 0.08478756605629607
         },
         {
          "group": "business",
          "x": -1.6781131108944543,
          "y": 0.31903605564506315
         },
         {
          "group": "business",
          "x": -2.0825179586325118,
          "y": 0.9581910483163304
         },
         {
          "group": "business",
          "x": -0.2884223377108471,
          "y": -0.5094436521704013
         },
         {
          "group": "business",
          "x": -1.2269161404016355,
          "y": 0.7806086730767353
         },
         {
          "group": "business",
          "x": 0.15291421553907103,
          "y": 1.2076889500284849
         },
         {
          "group": "business",
          "x": -0.4748966729813651,
          "y": -0.40698667658029436
         },
         {
          "group": "business",
          "x": -0.587035179910728,
          "y": 0.05415808048094894
         },
         {
          "group": "business",
          "x": -1.3630771832446573,
          "y": 0.22831618226096345
         },
         {
          "group": "business",
          "x": -0.6906043674864669,
          "y": 0.3104466329908275
         },
         {
          "group": "business",
          "x": -0.6302202344747618,
          "y": -1.0202063270409805
         },
         {
          "group": "business",
          "x": -0.6452118367488598,
          "y": -1.251344708951921
         },
         {
          "group": "business",
          "x": -0.07166662455710708,
          "y": 0.9034320069191928
         },
         {
          "group": "business",
          "x": -0.4939154287906563,
          "y": 1.2569436264231615
         },
         {
          "group": "business",
          "x": -0.9518715725767819,
          "y": 1.2935618762838643
         },
         {
          "group": "business",
          "x": -0.4285560778465413,
          "y": 0.9294829053032937
         },
         {
          "group": "business",
          "x": -0.9260925798892247,
          "y": 1.6148327306617762
         },
         {
          "group": "business",
          "x": -0.42279939310220294,
          "y": 0.3136844546911011
         },
         {
          "group": "business",
          "x": 0.44938355000193786,
          "y": 0.8848961777980757
         },
         {
          "group": "business",
          "x": -0.38441593297549126,
          "y": -0.8328354525558559
         },
         {
          "group": "business",
          "x": -1.2972115259810664,
          "y": 0.1127107877212468
         },
         {
          "group": "business",
          "x": -0.6432133782194591,
          "y": 1.3631596644183357
         },
         {
          "group": "business",
          "x": 0.06470855324451658,
          "y": 0.7180551119060715
         },
         {
          "group": "business",
          "x": -0.782293096556571,
          "y": 1.9598153662733935
         },
         {
          "group": "business",
          "x": -1.0311353858929395,
          "y": -0.7796925409092207
         },
         {
          "group": "business",
          "x": -0.6565199000622628,
          "y": -0.013466850542769948
         },
         {
          "group": "business",
          "x": -1.0947709814191724,
          "y": 0.06600317098600524
         },
         {
          "group": "business",
          "x": 0.49216030087257717,
          "y": 0.9878387453910459
         },
         {
          "group": "business",
          "x": 0.2884567660652878,
          "y": -0.6947937601510299
         },
         {
          "group": "business",
          "x": -2.427956850627261,
          "y": 0.6012188826616901
         },
         {
          "group": "business",
          "x": -0.46485207904816533,
          "y": 0.27542604063334547
         },
         {
          "group": "business",
          "x": -0.5981945589409076,
          "y": -0.3034834204933581
         },
         {
          "group": "business",
          "x": -1.0829771880453123,
          "y": 0.4751795442102557
         },
         {
          "group": "business",
          "x": -0.8268005462113499,
          "y": 0.29009140504604336
         },
         {
          "group": "business",
          "x": -0.5097903270468245,
          "y": -0.5862222219634171
         },
         {
          "group": "business",
          "x": -0.46336232011380984,
          "y": -1.0985344450292662
         },
         {
          "group": "business",
          "x": -3.014795626143398,
          "y": -0.37956859119456
         },
         {
          "group": "business",
          "x": -0.6398787232271738,
          "y": 0.7669262139342815
         },
         {
          "group": "business",
          "x": -0.9110651677699514,
          "y": 0.583379542509988
         },
         {
          "group": "business",
          "x": -0.6865450574475813,
          "y": 0.31897568605075965
         },
         {
          "group": "business",
          "x": -0.646662820250392,
          "y": -0.010770994774734302
         },
         {
          "group": "business",
          "x": -0.40909018668473984,
          "y": 0.3688119516590974
         },
         {
          "group": "business",
          "x": 0.2044146342382297,
          "y": 0.09489438833844667
         },
         {
          "group": "business",
          "x": 0.4904901425469452,
          "y": 1.1729011542387342
         },
         {
          "group": "business",
          "x": -0.7117286501635062,
          "y": 0.2245574479040393
         },
         {
          "group": "business",
          "x": 0.33906619867670296,
          "y": 0.3490675135969926
         },
         {
          "group": "business",
          "x": -0.6133613457286718,
          "y": 0.37721328479393545
         },
         {
          "group": "business",
          "x": 0.07223320904055897,
          "y": 0.32682543145592063
         },
         {
          "group": "business",
          "x": -0.23563110651714983,
          "y": 1.222920948835168
         },
         {
          "group": "business",
          "x": -2.098109985296495,
          "y": 0.7821204247119671
         },
         {
          "group": "business",
          "x": -1.0795002125763293,
          "y": -0.5332448483990418
         },
         {
          "group": "business",
          "x": -0.05808968032725612,
          "y": -0.7673079161105278
         },
         {
          "group": "business",
          "x": -0.9204052116618859,
          "y": 1.0385908040672691
         },
         {
          "group": "business",
          "x": -0.5584398965513876,
          "y": -0.13841275208552106
         },
         {
          "group": "business",
          "x": 0.8734310305321311,
          "y": 0.3680968028189038
         },
         {
          "group": "business",
          "x": -0.1976690432331651,
          "y": -0.6919788750677424
         },
         {
          "group": "business",
          "x": -0.5917658529568844,
          "y": -0.1866335028498224
         },
         {
          "group": "business",
          "x": -0.9995897792591664,
          "y": 1.007096206695671
         },
         {
          "group": "business",
          "x": -0.03055178321051993,
          "y": -0.36504691258535094
         },
         {
          "group": "business",
          "x": -0.9878261999405133,
          "y": -0.3769742508685242
         },
         {
          "group": "business",
          "x": -0.9968231413293847,
          "y": 0.43387120094264886
         },
         {
          "group": "business",
          "x": -1.03181542990328,
          "y": 1.5496397789018654
         },
         {
          "group": "business",
          "x": -1.1490680484387468,
          "y": 0.7020742347755338
         },
         {
          "group": "business",
          "x": -0.6844621117141622,
          "y": -0.07024443383473696
         },
         {
          "group": "business",
          "x": -0.15414555512737266,
          "y": 1.1750212771269182
         },
         {
          "group": "business",
          "x": -0.6737116294250716,
          "y": -0.7486505134955211
         },
         {
          "group": "business",
          "x": -0.287178239508904,
          "y": 0.9140832867634041
         },
         {
          "group": "business",
          "x": -1.4184283609527535,
          "y": -0.751587602229665
         },
         {
          "group": "business",
          "x": -1.0085195536698894,
          "y": 1.7712946672840273
         },
         {
          "group": "business",
          "x": -1.58656639883756,
          "y": -1.5050799609425423
         },
         {
          "group": "business",
          "x": -0.7471243357204065,
          "y": -1.0996508772890703
         },
         {
          "group": "business",
          "x": -1.1156442929175785,
          "y": -0.05902843392953548
         },
         {
          "group": "business",
          "x": 0.1406047673304466,
          "y": 0.6993191410487313
         },
         {
          "group": "business",
          "x": 0.21028347421740257,
          "y": 1.1842172171905634
         },
         {
          "group": "business",
          "x": -0.8234860265095989,
          "y": 0.4837808470281705
         },
         {
          "group": "business",
          "x": -0.4573748891417485,
          "y": -0.30433648678637953
         },
         {
          "group": "business",
          "x": -1.83739015455967,
          "y": 0.31882031388907894
         },
         {
          "group": "business",
          "x": -0.7452567139170895,
          "y": 0.9066760449921036
         },
         {
          "group": "business",
          "x": 0.5675034449661422,
          "y": 0.7875908417741809
         },
         {
          "group": "business",
          "x": -0.2268788144820254,
          "y": -1.1781906751960907
         },
         {
          "group": "business",
          "x": -0.7702919238456892,
          "y": -0.1497523738185593
         },
         {
          "group": "business",
          "x": -0.8132180736129315,
          "y": 0.2794773265898749
         },
         {
          "group": "business",
          "x": -0.3698087863942395,
          "y": 0.21648827817748276
         },
         {
          "group": "business",
          "x": 0.7508640788494463,
          "y": 1.2612447687791324
         },
         {
          "group": "business",
          "x": -0.3701420467846879,
          "y": 0.6894047767782034
         },
         {
          "group": "business",
          "x": -1.3411491137805702,
          "y": -0.35922217553689473
         },
         {
          "group": "business",
          "x": -0.28014746041475724,
          "y": 0.10135031875731204
         },
         {
          "group": "business",
          "x": -0.03423944176142358,
          "y": 1.1964786461236792
         },
         {
          "group": "business",
          "x": -1.2150623217330825,
          "y": -0.25783844935038164
         },
         {
          "group": "business",
          "x": 0.3082651440409924,
          "y": -2.1513513014594454
         },
         {
          "group": "business",
          "x": -0.31251051865492896,
          "y": -0.006991267667429009
         },
         {
          "group": "business",
          "x": -0.3270275333226192,
          "y": -0.6255068735174717
         },
         {
          "group": "business",
          "x": -0.18042963584366106,
          "y": 0.6830339420054631
         },
         {
          "group": "business",
          "x": -1.17334154278093,
          "y": 1.7770131960267783
         },
         {
          "group": "business",
          "x": 0.00010999662615935974,
          "y": 0.5579404548210302
         },
         {
          "group": "business",
          "x": -0.5498250459436248,
          "y": -1.051106382163191
         },
         {
          "group": "business",
          "x": -0.42251090942820496,
          "y": -0.8683562441245183
         },
         {
          "group": "business",
          "x": -0.3036625368592614,
          "y": 0.2740294726361133
         },
         {
          "group": "business",
          "x": -0.9979785586980718,
          "y": -0.2783104100704927
         },
         {
          "group": "business",
          "x": 0.7261079571161213,
          "y": 2.179779136371537
         },
         {
          "group": "business",
          "x": -1.4034513379391764,
          "y": -1.1464721818529602
         },
         {
          "group": "business",
          "x": -0.5430287511327604,
          "y": -0.035621872731485996
         },
         {
          "group": "business",
          "x": -0.05794784415359631,
          "y": -0.01586423030054024
         },
         {
          "group": "business",
          "x": -1.0031969517073718,
          "y": 1.080656257523991
         },
         {
          "group": "business",
          "x": -0.48355362928057705,
          "y": 0.01686181322699475
         },
         {
          "group": "business",
          "x": -0.9859470331635338,
          "y": -1.0526555590209459
         },
         {
          "group": "business",
          "x": -0.8387487469889215,
          "y": 0.9971724018216932
         },
         {
          "group": "business",
          "x": 0.9989424734190516,
          "y": 1.0156705597564142
         },
         {
          "group": "business",
          "x": -0.3493707027140593,
          "y": -1.6526971734624842
         },
         {
          "group": "business",
          "x": -0.07926403980533046,
          "y": 0.37318164306472296
         },
         {
          "group": "business",
          "x": 0.11503740195333667,
          "y": -0.7680754782820697
         },
         {
          "group": "business",
          "x": -0.16857978291506176,
          "y": -0.7472117543033754
         },
         {
          "group": "business",
          "x": -0.16241397558134688,
          "y": 0.870695884853298
         },
         {
          "group": "business",
          "x": -1.0214381021737575,
          "y": -1.1100380598093165
         },
         {
          "group": "business",
          "x": 0.29176262120193747,
          "y": 1.3376321700167457
         },
         {
          "group": "business",
          "x": -0.5007559975105794,
          "y": -0.6313441706637333
         },
         {
          "group": "business",
          "x": 0.4686495922658906,
          "y": 0.20033543566501
         },
         {
          "group": "business",
          "x": 0.5252840942075946,
          "y": 1.3159303371814663
         },
         {
          "group": "business",
          "x": -0.8799036724499916,
          "y": -0.3079720282095928
         },
         {
          "group": "business",
          "x": 0.038107003377363266,
          "y": 1.7243736451951792
         },
         {
          "group": "business",
          "x": -1.4087936732092785,
          "y": -0.6041857735838257
         },
         {
          "group": "business",
          "x": -0.6833510030109086,
          "y": 0.41073988594853256
         },
         {
          "group": "business",
          "x": -1.439786635707606,
          "y": -0.41762308724414454
         },
         {
          "group": "business",
          "x": -0.8712340449302599,
          "y": -0.9288844279195502
         },
         {
          "group": "business",
          "x": -1.8352511233049325,
          "y": -1.3300952830340254
         },
         {
          "group": "business",
          "x": -2.8974177814055104,
          "y": -0.5394469555312477
         },
         {
          "group": "business",
          "x": -0.6398418079470272,
          "y": -0.22689384624793396
         },
         {
          "group": "business",
          "x": -0.3297737386005556,
          "y": 0.5358357443426726
         },
         {
          "group": "business",
          "x": -0.004029608827368237,
          "y": 0.06236201554031433
         },
         {
          "group": "business",
          "x": 1.1807018959757232,
          "y": 1.379872099134321
         },
         {
          "group": "business",
          "x": -0.5965598498104591,
          "y": -0.3085187172576978
         },
         {
          "group": "business",
          "x": -0.5349915337197505,
          "y": -0.637368657496422
         },
         {
          "group": "business",
          "x": 0.004329121998914925,
          "y": 0.4489131647825554
         },
         {
          "group": "business",
          "x": 0.4391218340042122,
          "y": 1.600210119710847
         },
         {
          "group": "business",
          "x": -0.5424506138169202,
          "y": 0.9804231916911578
         },
         {
          "group": "business",
          "x": -0.19662117800731366,
          "y": 1.343401898953037
         },
         {
          "group": "business",
          "x": -0.5194159956987582,
          "y": 1.7403278397203572
         },
         {
          "group": "business",
          "x": 0.7121941391081137,
          "y": 1.0306097214076126
         },
         {
          "group": "business",
          "x": -1.1301396587199728,
          "y": -2.3003376098383064
         },
         {
          "group": "business",
          "x": -0.7059201231546739,
          "y": 0.1501635890373803
         },
         {
          "group": "business",
          "x": -0.4040278939100416,
          "y": -0.45049852930481843
         },
         {
          "group": "business",
          "x": -0.768478517027551,
          "y": -0.2676994913651698
         },
         {
          "group": "business",
          "x": -0.034016435233329693,
          "y": -0.4174562829735351
         },
         {
          "group": "business",
          "x": -1.1737313280806565,
          "y": -0.2426851044698243
         },
         {
          "group": "business",
          "x": 0.7056234284341114,
          "y": 0.5626134010046472
         },
         {
          "group": "business",
          "x": -1.0176602843763696,
          "y": -0.23401647161054354
         },
         {
          "group": "business",
          "x": 0.5720560490637874,
          "y": 1.6797517018163604
         },
         {
          "group": "business",
          "x": 0.27944932845274556,
          "y": 1.3746560760947952
         },
         {
          "group": "business",
          "x": -0.40349692337560655,
          "y": -0.5559433774843413
         },
         {
          "group": "business",
          "x": -0.9765145124211215,
          "y": -1.3685068415167065
         },
         {
          "group": "business",
          "x": -0.9453468601684406,
          "y": -0.05244298330261579
         },
         {
          "group": "business",
          "x": -0.16856272584186094,
          "y": 0.8081145420991116
         },
         {
          "group": "business",
          "x": 0.4601569267355759,
          "y": 0.442791318167423
         },
         {
          "group": "business",
          "x": 0.23096318669701268,
          "y": 0.4327251089909299
         },
         {
          "group": "business",
          "x": -0.54690715855238,
          "y": -0.5856528357051214
         },
         {
          "group": "business",
          "x": -1.7632497682018349,
          "y": 0.6402972086897746
         },
         {
          "group": "business",
          "x": -0.3262312631398881,
          "y": 0.5298836807632467
         },
         {
          "group": "business",
          "x": -1.245635967977304,
          "y": -0.4800461489869381
         },
         {
          "group": "business",
          "x": -0.7637142429536725,
          "y": -0.3205357387420694
         },
         {
          "group": "business",
          "x": -0.6128930027795383,
          "y": 0.291220735312233
         },
         {
          "group": "business",
          "x": -0.4128196560635794,
          "y": 0.18074459331039058
         },
         {
          "group": "business",
          "x": -0.5633444737172848,
          "y": 0.41641301486130733
         },
         {
          "group": "business",
          "x": 0.91589190926875,
          "y": -0.5126712804507683
         },
         {
          "group": "business",
          "x": 0.23468273020732525,
          "y": -0.38067113658682045
         },
         {
          "group": "business",
          "x": -0.1952437884956242,
          "y": -0.1591316410982871
         },
         {
          "group": "business",
          "x": -0.42892087880159174,
          "y": 0.5021869033823709
         },
         {
          "group": "business",
          "x": -0.5289242488864178,
          "y": -1.668378246716477
         },
         {
          "group": "business",
          "x": -1.2334085710698957,
          "y": 0.4294239581247558
         },
         {
          "group": "business",
          "x": -0.6284019656423905,
          "y": 0.07240959976042113
         },
         {
          "group": "business",
          "x": -0.8885342377139213,
          "y": 0.5347420759886785
         },
         {
          "group": "business",
          "x": -0.659740986234958,
          "y": -0.45111391636340403
         },
         {
          "group": "business",
          "x": -0.45074610349108196,
          "y": 0.32080613979856326
         },
         {
          "group": "business",
          "x": 0.7306054895386962,
          "y": 0.08786061902646321
         },
         {
          "group": "business",
          "x": -0.4648186063359286,
          "y": 0.3298649631269215
         },
         {
          "group": "business",
          "x": -0.17393489878262122,
          "y": 0.1371696515185281
         },
         {
          "group": "business",
          "x": 0.3217576318855917,
          "y": 0.33284057227186503
         },
         {
          "group": "business",
          "x": 0.43355949812455885,
          "y": 0.5494743130106359
         },
         {
          "group": "business",
          "x": -0.8151861201589488,
          "y": -0.49890062429362947
         },
         {
          "group": "business",
          "x": -0.9037436245651358,
          "y": -0.29525509614201345
         },
         {
          "group": "business",
          "x": 0.36650186532926077,
          "y": 0.4253307604212137
         },
         {
          "group": "business",
          "x": -1.0645781680225648,
          "y": 0.11940878652497044
         },
         {
          "group": "business",
          "x": -1.0500081516302466,
          "y": 0.26515968870231144
         },
         {
          "group": "business",
          "x": 0.5389448709343069,
          "y": 1.3210085011723858
         },
         {
          "group": "business",
          "x": 1.0657083697892649,
          "y": -0.03582570648779994
         },
         {
          "group": "business",
          "x": -0.5572768662635924,
          "y": -0.2546233173761075
         },
         {
          "group": "business",
          "x": -1.1600682933157138,
          "y": -0.2512028076902261
         },
         {
          "group": "business",
          "x": 0.2112513015361578,
          "y": 1.5239770190721225
         },
         {
          "group": "business",
          "x": -1.2899107455669871,
          "y": -1.494235985533077
         },
         {
          "group": "business",
          "x": -2.270951775022482,
          "y": -0.13250938732900863
         },
         {
          "group": "business",
          "x": -0.8574121634537264,
          "y": 0.020556550169179955
         },
         {
          "group": "business",
          "x": -0.43029437875293136,
          "y": 1.0937068927215008
         },
         {
          "group": "business",
          "x": 0.5588834486058962,
          "y": 0.977179944324538
         },
         {
          "group": "business",
          "x": -1.0825194562277847,
          "y": 0.6717393368717692
         },
         {
          "group": "business",
          "x": -0.37676592418703914,
          "y": 0.3663200952214102
         },
         {
          "group": "business",
          "x": 1.4595788489903305,
          "y": 0.09967934908939945
         },
         {
          "group": "business",
          "x": -0.998840882517479,
          "y": -0.08525203776712943
         },
         {
          "group": "business",
          "x": -0.272252703478182,
          "y": 0.5912595075502476
         },
         {
          "group": "business",
          "x": -0.4672707084696918,
          "y": -2.0054861521588814
         },
         {
          "group": "business",
          "x": -0.26643673488875014,
          "y": 1.0345854022292638
         },
         {
          "group": "business",
          "x": -0.7318787704863119,
          "y": -0.3478403191504972
         },
         {
          "group": "business",
          "x": -1.8135354357754665,
          "y": -0.14437023360628848
         },
         {
          "group": "business",
          "x": 1.2384387162789325,
          "y": -0.3700062012445369
         },
         {
          "group": "business",
          "x": -0.9489144265920528,
          "y": -0.7549384152038339
         },
         {
          "group": "business",
          "x": -1.1720142665359141,
          "y": -0.5017942435734599
         },
         {
          "group": "business",
          "x": -0.1899597614586483,
          "y": 0.1861810415442119
         },
         {
          "group": "business",
          "x": -0.2629692316029007,
          "y": -1.5292234144919166
         },
         {
          "group": "business",
          "x": -0.9329592910171826,
          "y": -1.3910455903620083
         },
         {
          "group": "business",
          "x": -0.5170882847886012,
          "y": -0.1858907967000887
         },
         {
          "group": "business",
          "x": -0.40260637589201115,
          "y": 0.3951966473421601
         },
         {
          "group": "business",
          "x": 0.1505804008576207,
          "y": -1.3148455471810274
         },
         {
          "group": "business",
          "x": 0.092778459233721,
          "y": 1.158569931874757
         },
         {
          "group": "business",
          "x": -0.02142180788272104,
          "y": -0.7823391283130737
         },
         {
          "group": "business",
          "x": -0.5781994937966005,
          "y": 0.49475292311048535
         },
         {
          "group": "business",
          "x": -0.7520933330937741,
          "y": 0.042412501806199265
         },
         {
          "group": "business",
          "x": 0.010796832954569065,
          "y": 0.2936814504955286
         },
         {
          "group": "business",
          "x": -0.1011121393766788,
          "y": 0.24924624106847373
         },
         {
          "group": "business",
          "x": -0.08896842556666477,
          "y": 0.8099442400214751
         },
         {
          "group": "business",
          "x": -0.3285702698738976,
          "y": -1.211196558354403
         },
         {
          "group": "business",
          "x": -1.4117481134049616,
          "y": 1.8803532903418627
         },
         {
          "group": "business",
          "x": -1.4363822590342985,
          "y": -2.0693716090939973
         },
         {
          "group": "business",
          "x": -0.3268208918356163,
          "y": -2.08295966366343
         },
         {
          "group": "business",
          "x": -1.5538705450267483,
          "y": -0.07660723452723574
         },
         {
          "group": "business",
          "x": -0.15192033355420415,
          "y": 1.1998844069556198
         },
         {
          "group": "business",
          "x": -1.7465478947966409,
          "y": -0.5411296979446297
         },
         {
          "group": "business",
          "x": 0.19541776773753428,
          "y": -0.8547602772949682
         },
         {
          "group": "business",
          "x": -1.3744281775525442,
          "y": -0.5745262315890018
         },
         {
          "group": "business",
          "x": -1.4603576463005006,
          "y": -0.5457637817937862
         },
         {
          "group": "business",
          "x": -2.1803036733508203,
          "y": -0.839406029617826
         },
         {
          "group": "business",
          "x": -1.1055830971336393,
          "y": -0.5170088921197004
         },
         {
          "group": "business",
          "x": -0.6139770663240128,
          "y": 0.5003576919304783
         },
         {
          "group": "business",
          "x": -0.6161260126040168,
          "y": 0.7002100067303803
         },
         {
          "group": "business",
          "x": -0.5472968684223769,
          "y": -0.8535148718929012
         },
         {
          "group": "business",
          "x": -0.12069817125972959,
          "y": -0.2528520468170716
         },
         {
          "group": "business",
          "x": -0.3593274785886751,
          "y": -0.8860522613441939
         },
         {
          "group": "business",
          "x": -0.272346234106299,
          "y": 0.04252659478279112
         },
         {
          "group": "business",
          "x": -0.09195207245278154,
          "y": -0.3504735289025264
         },
         {
          "group": "business",
          "x": -0.18865491297051645,
          "y": -0.06094085582093953
         },
         {
          "group": "business",
          "x": -0.49884314068877494,
          "y": -0.4922800172093211
         },
         {
          "group": "business",
          "x": -0.385692389984335,
          "y": -0.26817601460488966
         },
         {
          "group": "business",
          "x": -0.09536382085112022,
          "y": -1.1536375584346963
         },
         {
          "group": "business",
          "x": 0.06658461294762795,
          "y": -0.005106465358082345
         },
         {
          "group": "business",
          "x": 0.6001103851470005,
          "y": 0.23336541462563531
         },
         {
          "group": "business",
          "x": -1.2723431952450337,
          "y": 0.05352294567309294
         },
         {
          "group": "business",
          "x": -0.6314861659350909,
          "y": 1.635474856278757
         },
         {
          "group": "business",
          "x": 0.04563920066129413,
          "y": -0.2071676955875814
         },
         {
          "group": "business",
          "x": -0.3874256873005963,
          "y": -0.3264232786217791
         },
         {
          "group": "business",
          "x": 0.11153483779850516,
          "y": 0.799659425316339
         },
         {
          "group": "business",
          "x": -0.41638097901445237,
          "y": -0.1096335983291151
         },
         {
          "group": "business",
          "x": 0.8037795167188508,
          "y": -0.35625079730584974
         },
         {
          "group": "business",
          "x": -0.2387396507493078,
          "y": -0.2284321754716462
         },
         {
          "group": "business",
          "x": -0.6217379836160679,
          "y": -0.5174569580709513
         },
         {
          "group": "business",
          "x": 0.3314881476067551,
          "y": 0.19013549240166702
         },
         {
          "group": "business",
          "x": -0.2047848330649272,
          "y": -0.03247993019158411
         },
         {
          "group": "business",
          "x": 0.32401804914281546,
          "y": 0.9843901117849005
         },
         {
          "group": "business",
          "x": 0.552785010690186,
          "y": 0.65031636529996
         },
         {
          "group": "business",
          "x": -1.3902518116493203,
          "y": -0.025926049694649695
         },
         {
          "group": "business",
          "x": -0.052799758798697784,
          "y": -0.10119981231109268
         },
         {
          "group": "business",
          "x": -0.31446282885334914,
          "y": 1.0330139794196487
         },
         {
          "group": "business",
          "x": -0.7397120582037421,
          "y": -0.2911531287363629
         },
         {
          "group": "business",
          "x": -0.176971125686562,
          "y": -0.7605961263213049
         },
         {
          "group": "business",
          "x": -0.043495980857572614,
          "y": -0.41881562634459873
         },
         {
          "group": "business",
          "x": -0.8899600510503372,
          "y": 0.9778064105658895
         },
         {
          "group": "business",
          "x": -0.11587973578267328,
          "y": 1.070176618683194
         },
         {
          "group": "business",
          "x": -0.4419528945922845,
          "y": 0.49174223111055176
         },
         {
          "group": "business",
          "x": -0.9198977015996559,
          "y": -0.2714314342567785
         },
         {
          "group": "business",
          "x": -1.4644509341992566,
          "y": -0.7928108719759585
         },
         {
          "group": "business",
          "x": -0.32454561211405175,
          "y": 0.3839911187638428
         },
         {
          "group": "business",
          "x": -0.2354620260707045,
          "y": 0.23763632236004756
         },
         {
          "group": "business",
          "x": -0.24056050785567046,
          "y": -0.4622251074777245
         },
         {
          "group": "business",
          "x": -1.0105725546141826,
          "y": -0.7883027026409363
         },
         {
          "group": "business",
          "x": -0.945126083206273,
          "y": 1.417261755220093
         },
         {
          "group": "business",
          "x": -1.4858119371413574,
          "y": 0.2504606412184432
         },
         {
          "group": "business",
          "x": -0.07097526261768475,
          "y": 0.12730839229188562
         },
         {
          "group": "business",
          "x": -0.23945826909209603,
          "y": -0.6780119012111537
         },
         {
          "group": "business",
          "x": -0.8689749134504131,
          "y": 1.1344795075332195
         },
         {
          "group": "business",
          "x": -1.0441298533881151,
          "y": -0.31367198412826175
         },
         {
          "group": "business",
          "x": -1.1301875328889528,
          "y": -0.6946494309557554
         },
         {
          "group": "business",
          "x": -0.8064312139599387,
          "y": -0.058927436669483656
         },
         {
          "group": "business",
          "x": -0.6816089103733459,
          "y": 0.6324683401284229
         },
         {
          "group": "business",
          "x": -0.4340192786572463,
          "y": -0.14497825885952104
         },
         {
          "group": "business",
          "x": -0.33271627535951054,
          "y": 0.9869059613320007
         },
         {
          "group": "business",
          "x": -1.5817566305281217,
          "y": -0.25586386657779453
         },
         {
          "group": "business",
          "x": 1.1088803731908907,
          "y": 1.5476416502729629
         },
         {
          "group": "business",
          "x": -0.5220771457252086,
          "y": -1.9946278789461465
         },
         {
          "group": "business",
          "x": -1.536171066362949,
          "y": -1.689646728358624
         },
         {
          "group": "business",
          "x": -1.7526430625126548,
          "y": 0.2777107931601815
         },
         {
          "group": "business",
          "x": -0.7704478245000318,
          "y": -1.536506744560313
         },
         {
          "group": "business",
          "x": -0.9946127544633758,
          "y": -0.1779850120048808
         },
         {
          "group": "business",
          "x": -0.5924970482518911,
          "y": 1.8238404663430179
         },
         {
          "group": "business",
          "x": 0.6203553237604493,
          "y": 0.5116675514524929
         },
         {
          "group": "business",
          "x": 0.06788044416598155,
          "y": 0.48322684845741337
         },
         {
          "group": "business",
          "x": 0.13530906001440932,
          "y": 0.06394390015842391
         },
         {
          "group": "business",
          "x": -2.718705170804401,
          "y": -1.3554585227941818
         },
         {
          "group": "business",
          "x": 0.1272292823469572,
          "y": -0.4187907033781911
         },
         {
          "group": "business",
          "x": 0.1264985304179783,
          "y": -0.1886590777940175
         },
         {
          "group": "business",
          "x": -0.4731205998419631,
          "y": 1.5957990065584988
         },
         {
          "group": "business",
          "x": 0.3817735821439536,
          "y": -0.043246046963264236
         },
         {
          "group": "business",
          "x": -0.6053077357702777,
          "y": -1.003353230856782
         },
         {
          "group": "business",
          "x": -1.3504880180363237,
          "y": -0.7052984439695501
         },
         {
          "group": "business",
          "x": -0.3418044807965613,
          "y": -1.0284094698743793
         },
         {
          "group": "business",
          "x": 0.033081658890948,
          "y": -0.40773823834102185
         },
         {
          "group": "business",
          "x": -1.4594064074541118,
          "y": 2.4623040927217583
         },
         {
          "group": "business",
          "x": -0.7425250505196508,
          "y": 0.7546016718262363
         },
         {
          "group": "business",
          "x": -2.29132493160666,
          "y": -1.9575958725752503
         },
         {
          "group": "business",
          "x": -0.43893578348144807,
          "y": -0.9789821844811603
         },
         {
          "group": "business",
          "x": -0.5024758993840726,
          "y": -1.4247577447727855
         },
         {
          "group": "business",
          "x": -2.0237045916415592,
          "y": -2.215581812267747
         },
         {
          "group": "business",
          "x": -2.97879760488874,
          "y": 2.5922661208421296
         },
         {
          "group": "business",
          "x": -0.5877817473072857,
          "y": 1.1126759952691907
         },
         {
          "group": "business",
          "x": -1.3558585308405369,
          "y": 0.3271685539270133
         },
         {
          "group": "business",
          "x": -1.5028369938447763,
          "y": -0.6481578187420921
         },
         {
          "group": "business",
          "x": -0.4096483172181722,
          "y": 0.8920139699244254
         },
         {
          "group": "business",
          "x": -0.49389059557456905,
          "y": 4.458786748892318
         },
         {
          "group": "business",
          "x": -0.9617894610942455,
          "y": -0.7148353542331639
         },
         {
          "group": "business",
          "x": -0.5178282756364163,
          "y": -0.17107294612549298
         },
         {
          "group": "business",
          "x": -0.2052447893973443,
          "y": 1.1725274302802462
         },
         {
          "group": "business",
          "x": -0.6442619280208401,
          "y": 1.0951673853676065
         },
         {
          "group": "business",
          "x": -0.6273309770564719,
          "y": -0.7148929720576831
         },
         {
          "group": "business",
          "x": -1.7856922013122947,
          "y": 1.4964623244877806
         },
         {
          "group": "business",
          "x": -2.4474240808077323,
          "y": -0.09695377155487714
         },
         {
          "group": "business",
          "x": -3.9561427845092454,
          "y": 0.3159644567632239
         },
         {
          "group": "business",
          "x": -2.376062763463599,
          "y": 0.12088863450342706
         },
         {
          "group": "business",
          "x": -0.7703492338577397,
          "y": 0.2093703373455275
         },
         {
          "group": "business",
          "x": -1.580713386322931,
          "y": 0.6639654076290845
         },
         {
          "group": "business",
          "x": -1.5572410189569594,
          "y": -1.0072381032287983
         },
         {
          "group": "business",
          "x": -0.7998399230646119,
          "y": -0.9738163517889343
         },
         {
          "group": "business",
          "x": -0.9037397515186582,
          "y": -0.26241422821735083
         },
         {
          "group": "business",
          "x": -0.6221203882476887,
          "y": 1.536481472745791
         },
         {
          "group": "business",
          "x": -0.6640100404333562,
          "y": 0.3659000848020263
         },
         {
          "group": "business",
          "x": -2.003993094158109,
          "y": -0.7689980793399125
         },
         {
          "group": "business",
          "x": -0.5263176505172468,
          "y": 1.4591108059394482
         },
         {
          "group": "business",
          "x": -0.6236206120433161,
          "y": 0.5309533854203293
         },
         {
          "group": "business",
          "x": -1.5948618105228087,
          "y": 0.8616182543800248
         },
         {
          "group": "business",
          "x": -0.9550142896360136,
          "y": 0.4177297444530978
         },
         {
          "group": "business",
          "x": -1.2733487739399556,
          "y": 1.5887657268379844
         },
         {
          "group": "business",
          "x": 0.16347421373620183,
          "y": 1.0215662864373696
         },
         {
          "group": "business",
          "x": -3.1844143296367813,
          "y": -1.0612158185631662
         },
         {
          "group": "business",
          "x": -0.9376022367036122,
          "y": 0.32585125197996034
         },
         {
          "group": "business",
          "x": -0.17752364387460381,
          "y": -0.9324715512607368
         },
         {
          "group": "business",
          "x": -1.6427897291247475,
          "y": 0.005858571561582847
         },
         {
          "group": "business",
          "x": -1.1925570009639617,
          "y": 0.4346288654026484
         },
         {
          "group": "business",
          "x": -0.2888441986492394,
          "y": -0.03049038647296013
         },
         {
          "group": "business",
          "x": -0.7094713358599178,
          "y": -3.5906179861602747
         },
         {
          "group": "business",
          "x": -2.7957753026816605,
          "y": 0.11811616523107958
         },
         {
          "group": "business",
          "x": -1.3879874429425696,
          "y": -1.055003206168113
         },
         {
          "group": "business",
          "x": -1.8779940079306336,
          "y": 1.2864878863002418
         },
         {
          "group": "business",
          "x": -2.438086517002916,
          "y": 1.1366827472721568
         },
         {
          "group": "business",
          "x": -1.3168944219444063,
          "y": 0.7948760046854828
         },
         {
          "group": "business",
          "x": -0.1865591806380439,
          "y": -0.01963655862414524
         },
         {
          "group": "business",
          "x": -1.495550002233575,
          "y": 0.16323106450566066
         },
         {
          "group": "business",
          "x": -2.788024396985424,
          "y": -0.22971718812327094
         },
         {
          "group": "business",
          "x": -2.8680018573811963,
          "y": -2.7786477970774386
         },
         {
          "group": "business",
          "x": -1.4687409680375574,
          "y": -0.48213256793558296
         },
         {
          "group": "business",
          "x": -3.503223925706424,
          "y": 0.775735387726983
         },
         {
          "group": "business",
          "x": -2.5596555876864504,
          "y": -0.23141992846652476
         },
         {
          "group": "business",
          "x": -1.9102313893340768,
          "y": -0.5490144957333981
         },
         {
          "group": "business",
          "x": -0.49487927395640297,
          "y": 0.22053251970305335
         },
         {
          "group": "business",
          "x": -0.7608507494169375,
          "y": 0.767017611708017
         },
         {
          "group": "business",
          "x": -1.9533464223064794,
          "y": 0.6713549169443598
         },
         {
          "group": "business",
          "x": -0.37577891931569896,
          "y": -0.8820393672256691
         },
         {
          "group": "business",
          "x": -0.9443254465095248,
          "y": -1.7881805253868086
         },
         {
          "group": "business",
          "x": -3.0008636475051707,
          "y": -2.5125693113829324
         },
         {
          "group": "business",
          "x": -1.0402354767610094,
          "y": 1.6905923340876774
         },
         {
          "group": "business",
          "x": -2.064555939855392,
          "y": 0.6854294882907996
         },
         {
          "group": "business",
          "x": -2.188158593665715,
          "y": 0.7228812388141792
         },
         {
          "group": "business",
          "x": -2.6547520674830705,
          "y": -0.33952295844287356
         },
         {
          "group": "business",
          "x": -1.0034777796630578,
          "y": 1.4505622446877335
         },
         {
          "group": "business",
          "x": -1.6338869738285398,
          "y": 0.9812119650687092
         },
         {
          "group": "business",
          "x": -1.364998635965095,
          "y": 0.9650244599620602
         },
         {
          "group": "business",
          "x": -1.0436141157024077,
          "y": 1.2505756149645695
         },
         {
          "group": "business",
          "x": 0.06821114276792895,
          "y": -1.9789455457556169
         },
         {
          "group": "business",
          "x": -0.6585026047556641,
          "y": -1.249216092461673
         },
         {
          "group": "business",
          "x": -0.6882624762731402,
          "y": -0.8215849602032091
         },
         {
          "group": "business",
          "x": -3.2870172710761305,
          "y": -0.24079765099164882
         },
         {
          "group": "business",
          "x": -1.6184342894207986,
          "y": 1.816812520530266
         },
         {
          "group": "business",
          "x": 0.7197151740961,
          "y": 0.020401516729455154
         },
         {
          "group": "business",
          "x": -1.633294981376418,
          "y": 2.4572539807922986
         },
         {
          "group": "business",
          "x": -1.8948340935211057,
          "y": 0.22047138444876224
         },
         {
          "group": "business",
          "x": -1.2312979248629399,
          "y": 0.48016312452077214
         },
         {
          "group": "business",
          "x": -1.7655336093612648,
          "y": -0.2631727427720617
         },
         {
          "group": "business",
          "x": -3.412045916449072,
          "y": 0.11180167646949438
         },
         {
          "group": "business",
          "x": -1.372241597983895,
          "y": -0.5810832653905829
         },
         {
          "group": "business",
          "x": -1.8372949810069832,
          "y": 2.788167001839035
         },
         {
          "group": "business",
          "x": 0.1834692689251568,
          "y": -0.25313194720733606
         },
         {
          "group": "business",
          "x": -2.212715496689465,
          "y": 1.3001236468127888
         },
         {
          "group": "business",
          "x": -0.5133630488656362,
          "y": 0.9693589575666224
         },
         {
          "group": "business",
          "x": -1.9606350415951646,
          "y": -0.09716823561480895
         },
         {
          "group": "business",
          "x": -2.50076630684571,
          "y": -1.1315992400864945
         },
         {
          "group": "business",
          "x": -1.624825038753052,
          "y": 0.688753292102106
         },
         {
          "group": "business",
          "x": -2.9157138343971685,
          "y": 2.5114041362095736
         },
         {
          "group": "business",
          "x": -1.9418535607303802,
          "y": -2.0013268644179294
         },
         {
          "group": "business",
          "x": -1.2937930128333146,
          "y": 0.8047690835919035
         },
         {
          "group": "business",
          "x": 0.514661857255169,
          "y": -0.0893084812015298
         },
         {
          "group": "business",
          "x": -3.258330642355915,
          "y": 0.3456499979818606
         },
         {
          "group": "business",
          "x": -3.3112575668034046,
          "y": 1.4166665424663756
         },
         {
          "group": "business",
          "x": -0.8646651719055402,
          "y": 1.3010404945984917
         },
         {
          "group": "business",
          "x": -3.705619941460164,
          "y": 4.570326731493558
         },
         {
          "group": "business",
          "x": -1.3104658085357328,
          "y": -0.03088402101182733
         },
         {
          "group": "business",
          "x": -2.3859905403285953,
          "y": -1.571058778280712
         },
         {
          "group": "politics",
          "x": -1.1624357978348046,
          "y": -1.6371281769482438
         },
         {
          "group": "politics",
          "x": 0.8386548781556203,
          "y": 0.23027029375634264
         },
         {
          "group": "politics",
          "x": 1.4306147667082838,
          "y": -0.6971420775652146
         },
         {
          "group": "politics",
          "x": 1.0368888319859153,
          "y": -0.43125031882144066
         },
         {
          "group": "politics",
          "x": -0.3861965762747533,
          "y": -0.032500883247321095
         },
         {
          "group": "politics",
          "x": -0.6831944071741738,
          "y": -0.7048468434031742
         },
         {
          "group": "politics",
          "x": 1.1337962942128512,
          "y": 2.1700382913716427
         },
         {
          "group": "politics",
          "x": 1.964533280444193,
          "y": 0.28218792989105074
         },
         {
          "group": "politics",
          "x": 1.1590057246730165,
          "y": 0.035373274391612614
         },
         {
          "group": "politics",
          "x": -0.18785352706674205,
          "y": -0.712365354161549
         },
         {
          "group": "politics",
          "x": -1.200418886094924,
          "y": 3.041131680633499
         },
         {
          "group": "politics",
          "x": 0.9541786919928071,
          "y": -1.2181319144247689
         },
         {
          "group": "politics",
          "x": 1.225805096683702,
          "y": 0.3040504946214336
         },
         {
          "group": "politics",
          "x": 0.852436167349999,
          "y": -0.4178314211569851
         },
         {
          "group": "politics",
          "x": 0.09280795650125484,
          "y": 2.827988325496546
         },
         {
          "group": "politics",
          "x": -0.653929542065569,
          "y": -1.409452110136528
         },
         {
          "group": "politics",
          "x": -0.8927659592457379,
          "y": 1.535098168547081
         },
         {
          "group": "politics",
          "x": 0.7906877103246776,
          "y": 0.31583880895601046
         },
         {
          "group": "politics",
          "x": -1.2744688449846213,
          "y": -0.8441798404050798
         },
         {
          "group": "politics",
          "x": -0.8038181906953541,
          "y": 0.9136600181231088
         },
         {
          "group": "politics",
          "x": -1.2490856335717,
          "y": -0.3386043032221352
         },
         {
          "group": "politics",
          "x": 1.8563489775916155,
          "y": -1.5127536144861549
         },
         {
          "group": "politics",
          "x": -0.3306057157833588,
          "y": -1.977224347171637
         },
         {
          "group": "politics",
          "x": 0.018286942949758835,
          "y": 0.6065622504209373
         },
         {
          "group": "politics",
          "x": 0.1291065867019723,
          "y": -0.17096401571501382
         },
         {
          "group": "politics",
          "x": 1.465382037424156,
          "y": 0.7027455835248319
         },
         {
          "group": "politics",
          "x": 0.22249127372360566,
          "y": -0.19866026619509422
         },
         {
          "group": "politics",
          "x": 0.8819237573687366,
          "y": -0.44967838466913507
         },
         {
          "group": "politics",
          "x": 0.437602412006689,
          "y": 1.9279212443864922
         },
         {
          "group": "politics",
          "x": 0.7197519872914713,
          "y": -1.682158624099426
         },
         {
          "group": "politics",
          "x": -0.2648932149701712,
          "y": -1.688891953706796
         },
         {
          "group": "politics",
          "x": -1.1171443335057047,
          "y": -0.18460653453300244
         },
         {
          "group": "politics",
          "x": -0.014210332567207728,
          "y": 1.286898647518428
         },
         {
          "group": "politics",
          "x": 0.8746314798486841,
          "y": 0.6718158465804462
         },
         {
          "group": "politics",
          "x": 0.20455017138040207,
          "y": 1.75032571595634
         },
         {
          "group": "politics",
          "x": -0.09948253502780412,
          "y": -0.5094495629795815
         },
         {
          "group": "politics",
          "x": 0.6330693911463319,
          "y": 1.5864805556116965
         },
         {
          "group": "politics",
          "x": -0.10804959740294584,
          "y": 1.3325956665660568
         },
         {
          "group": "politics",
          "x": -2.1967467794845144,
          "y": 0.23477472632536786
         },
         {
          "group": "politics",
          "x": 1.695520247648498,
          "y": -0.08689232558523285
         },
         {
          "group": "politics",
          "x": -1.0194457304878588,
          "y": -1.3806745249461996
         },
         {
          "group": "politics",
          "x": 1.844364782027225,
          "y": -0.7601563184504766
         },
         {
          "group": "politics",
          "x": 0.5375372935647222,
          "y": -0.8642639535595812
         },
         {
          "group": "politics",
          "x": 1.3804509939111258,
          "y": 0.09904163647758261
         },
         {
          "group": "politics",
          "x": -1.5539846285285213,
          "y": -0.06855720894529739
         },
         {
          "group": "politics",
          "x": 0.29575309307354763,
          "y": 0.6647738157811737
         },
         {
          "group": "politics",
          "x": 1.0494351025945376,
          "y": 0.8587551404220602
         },
         {
          "group": "politics",
          "x": 0.6153771219137174,
          "y": 0.0439804085240512
         },
         {
          "group": "politics",
          "x": 1.615698027197896,
          "y": -0.2105106049767555
         },
         {
          "group": "politics",
          "x": -0.04379486786166257,
          "y": -1.8276000886305608
         },
         {
          "group": "politics",
          "x": 2.760454321748241,
          "y": 2.2551787643747483
         },
         {
          "group": "politics",
          "x": 1.9997843793354126,
          "y": -0.6078641534240156
         },
         {
          "group": "politics",
          "x": -2.050626915982426,
          "y": -0.5583492541415453
         },
         {
          "group": "politics",
          "x": 0.07406090767887144,
          "y": -1.6211089163789756
         },
         {
          "group": "politics",
          "x": 2.1190094131176074,
          "y": -1.644845897077918
         },
         {
          "group": "politics",
          "x": 1.3164483609584383,
          "y": -0.7654985930665443
         },
         {
          "group": "politics",
          "x": -0.11542438913885125,
          "y": 0.1508925627405279
         },
         {
          "group": "politics",
          "x": 0.8776111567283463,
          "y": 0.24653991807987946
         },
         {
          "group": "politics",
          "x": 1.4681900812049373,
          "y": -1.338991889372135
         },
         {
          "group": "politics",
          "x": 0.25048713384216525,
          "y": 0.3700925257827567
         },
         {
          "group": "politics",
          "x": 0.12061955414222718,
          "y": -1.9193657244801958
         },
         {
          "group": "politics",
          "x": 0.839726693257911,
          "y": 0.819736292446365
         },
         {
          "group": "politics",
          "x": 0.9205018639486825,
          "y": 2.0554784394365035
         },
         {
          "group": "politics",
          "x": 0.7066612580546778,
          "y": -0.5306616622071914
         },
         {
          "group": "politics",
          "x": -0.7875704423303067,
          "y": -0.6223225064809346
         },
         {
          "group": "politics",
          "x": 2.278443625594209,
          "y": 0.7746535601880616
         },
         {
          "group": "politics",
          "x": 0.5215206225582006,
          "y": 0.07552488536772005
         },
         {
          "group": "politics",
          "x": -1.2139850214368886,
          "y": -1.6361335931410306
         },
         {
          "group": "politics",
          "x": -0.7760223552813366,
          "y": -1.089520204720516
         },
         {
          "group": "politics",
          "x": 1.2486127291401072,
          "y": -2.4329140654102237
         },
         {
          "group": "politics",
          "x": 0.5380949151401231,
          "y": -0.5047893348153141
         },
         {
          "group": "politics",
          "x": 1.3305981346801912,
          "y": -0.08027263632804174
         },
         {
          "group": "politics",
          "x": -0.8167636229971839,
          "y": 0.41077301292872487
         },
         {
          "group": "politics",
          "x": 2.248412490372516,
          "y": -1.704289411075771
         },
         {
          "group": "politics",
          "x": -0.8550190918761283,
          "y": -0.8539788435632872
         },
         {
          "group": "politics",
          "x": -0.8670860223746593,
          "y": 1.0520457702326933
         },
         {
          "group": "politics",
          "x": -0.08432320138602976,
          "y": -1.371734330528455
         },
         {
          "group": "politics",
          "x": 0.8799776305058247,
          "y": -1.5526582706598726
         },
         {
          "group": "politics",
          "x": -0.7359838780441613,
          "y": 0.5659294716028022
         },
         {
          "group": "politics",
          "x": 1.0269269727034334,
          "y": 0.18040508283707463
         },
         {
          "group": "politics",
          "x": -1.1712107833789966,
          "y": -2.178155402534642
         },
         {
          "group": "politics",
          "x": -1.3803159944210757,
          "y": -0.37434463391067596
         },
         {
          "group": "politics",
          "x": 0.7181985654383765,
          "y": 0.06693437658058503
         },
         {
          "group": "politics",
          "x": 1.272980613760577,
          "y": -0.1300018116539271
         },
         {
          "group": "politics",
          "x": 1.5087259995231774,
          "y": 1.3483177168979676
         },
         {
          "group": "politics",
          "x": -0.6746875712039073,
          "y": -1.2577602489692843
         },
         {
          "group": "politics",
          "x": 1.9245633126593888,
          "y": 0.067134152223436
         },
         {
          "group": "politics",
          "x": 0.26749974674921523,
          "y": 1.1751197919207061
         },
         {
          "group": "politics",
          "x": -0.8224559829926067,
          "y": 1.6070074063780502
         },
         {
          "group": "politics",
          "x": 1.3998595693607891,
          "y": 0.4444023415904455
         },
         {
          "group": "politics",
          "x": 2.1166677581730537,
          "y": -0.3836928741525823
         },
         {
          "group": "politics",
          "x": -0.8549166923111491,
          "y": 2.516089670668369
         },
         {
          "group": "politics",
          "x": 0.2290812066991838,
          "y": -1.729953202655086
         },
         {
          "group": "politics",
          "x": -0.07580850084149955,
          "y": -0.35043615653543475
         },
         {
          "group": "politics",
          "x": 2.7232428353090494,
          "y": -1.1814357053007936
         },
         {
          "group": "politics",
          "x": 1.7232675503861408,
          "y": -0.2365849792214645
         },
         {
          "group": "politics",
          "x": -1.9396730749958846,
          "y": -0.2873201633279636
         },
         {
          "group": "politics",
          "x": 0.5834794655439843,
          "y": -1.2773644876471153
         },
         {
          "group": "politics",
          "x": -0.5681796899208299,
          "y": 0.4792494234975947
         },
         {
          "group": "politics",
          "x": -0.1878381221936257,
          "y": -1.7138893879937651
         },
         {
          "group": "politics",
          "x": 0.7573812843220031,
          "y": -0.20613622855482694
         },
         {
          "group": "politics",
          "x": 1.3211832431946442,
          "y": 2.6823444591804497
         },
         {
          "group": "politics",
          "x": 0.44239296135496653,
          "y": 0.7266004132729402
         },
         {
          "group": "politics",
          "x": -0.12178221970613709,
          "y": -1.5812628235150528
         },
         {
          "group": "politics",
          "x": 1.5818798341948233,
          "y": 0.6046863655011613
         },
         {
          "group": "politics",
          "x": -0.41633626392976586,
          "y": 0.46345852532837156
         },
         {
          "group": "politics",
          "x": 1.586030015971365,
          "y": -1.8778827130395528
         },
         {
          "group": "politics",
          "x": 0.5405056267447417,
          "y": -0.3567025652708583
         },
         {
          "group": "politics",
          "x": 0.07813537280635195,
          "y": -0.2025510047633547
         },
         {
          "group": "politics",
          "x": -1.2761315245108298,
          "y": -1.808460337932151
         },
         {
          "group": "politics",
          "x": 1.1226283731196995,
          "y": -0.22988242485170624
         },
         {
          "group": "politics",
          "x": -0.04566136696786848,
          "y": 1.0770453941063725
         },
         {
          "group": "politics",
          "x": -0.644308390736537,
          "y": -0.9914306009464996
         },
         {
          "group": "politics",
          "x": 0.10096978415387045,
          "y": 0.14196297824753595
         },
         {
          "group": "politics",
          "x": 2.2186334108500834,
          "y": 0.9009677230907159
         },
         {
          "group": "politics",
          "x": -1.6139488295100048,
          "y": -0.9833434105135254
         },
         {
          "group": "politics",
          "x": -0.6565239207574324,
          "y": -1.1653939294002345
         },
         {
          "group": "politics",
          "x": 0.8805266041632704,
          "y": 1.1785968787552434
         },
         {
          "group": "politics",
          "x": 1.2986443984114189,
          "y": 0.16771512184832055
         },
         {
          "group": "politics",
          "x": 0.9362315104996547,
          "y": -0.0913292945233799
         },
         {
          "group": "politics",
          "x": -1.1477249230391093,
          "y": -0.4637177617738321
         },
         {
          "group": "politics",
          "x": 0.8842602824023733,
          "y": 0.8114326560650409
         },
         {
          "group": "politics",
          "x": -1.0172750073787753,
          "y": 0.32806600586605744
         },
         {
          "group": "politics",
          "x": 0.745769895924666,
          "y": 2.339030518243434
         },
         {
          "group": "politics",
          "x": 1.940915796915559,
          "y": -0.0476053730401155
         },
         {
          "group": "politics",
          "x": 2.5072201175401254,
          "y": 1.3362628783321224
         },
         {
          "group": "politics",
          "x": -0.3460602322875243,
          "y": 0.2475380598135921
         },
         {
          "group": "politics",
          "x": 0.19440425829620722,
          "y": 1.30466441555403
         },
         {
          "group": "politics",
          "x": -0.575242671593917,
          "y": -0.22204149951924948
         },
         {
          "group": "politics",
          "x": 1.3197384066968516,
          "y": 0.8312900322444274
         },
         {
          "group": "politics",
          "x": 1.2158764448182076,
          "y": -0.85563486589466
         },
         {
          "group": "politics",
          "x": -0.8644651385739377,
          "y": 1.1948768405320196
         },
         {
          "group": "politics",
          "x": 0.6340387701576968,
          "y": 1.4203557808136325
         },
         {
          "group": "politics",
          "x": 1.1802365217894109,
          "y": -0.909890360202701
         },
         {
          "group": "politics",
          "x": 0.04735792312086805,
          "y": 2.5863775362179635
         },
         {
          "group": "politics",
          "x": 1.375696869472163,
          "y": -0.267213650332575
         },
         {
          "group": "politics",
          "x": -0.4895505451052258,
          "y": -0.2557748579704726
         },
         {
          "group": "politics",
          "x": 0.5961638259689948,
          "y": 0.1629505854281265
         },
         {
          "group": "politics",
          "x": -0.5508778295558824,
          "y": 0.26198718635947366
         },
         {
          "group": "politics",
          "x": 2.2035871976701618,
          "y": -0.42962776384161877
         },
         {
          "group": "politics",
          "x": 0.43558602699896065,
          "y": -2.1405010456635947
         },
         {
          "group": "politics",
          "x": 0.4425244739486614,
          "y": 1.5065222170647714
         },
         {
          "group": "politics",
          "x": 1.2157688034341616,
          "y": 1.4761501108341368
         },
         {
          "group": "politics",
          "x": 1.2084752001590693,
          "y": -1.4611568791896175
         },
         {
          "group": "politics",
          "x": 0.18627556747056975,
          "y": 0.14639407384210978
         },
         {
          "group": "politics",
          "x": -0.12266341637130791,
          "y": -0.3224852732033036
         },
         {
          "group": "politics",
          "x": -0.1145638109482559,
          "y": -1.4518129516948701
         },
         {
          "group": "politics",
          "x": -1.8221098350596026,
          "y": 0.48827388460220045
         },
         {
          "group": "politics",
          "x": 0.8184000492539846,
          "y": 0.7527592816550626
         },
         {
          "group": "politics",
          "x": 0.3315247268331679,
          "y": 0.8856277394128906
         },
         {
          "group": "politics",
          "x": -0.6463518099164077,
          "y": 0.5305629418665594
         },
         {
          "group": "politics",
          "x": -0.17451928774461595,
          "y": 0.4315680269204443
         },
         {
          "group": "politics",
          "x": 1.5480532784191836,
          "y": 0.5065998330182935
         },
         {
          "group": "politics",
          "x": 2.83433328311258,
          "y": 0.8505443734231786
         },
         {
          "group": "politics",
          "x": -1.3153410958238487,
          "y": -1.5864899218539987
         },
         {
          "group": "politics",
          "x": 0.9947688700834499,
          "y": 1.418512796686896
         },
         {
          "group": "politics",
          "x": 2.527987348782948,
          "y": -1.1327361468928911
         },
         {
          "group": "politics",
          "x": 0.27710534324277164,
          "y": -0.6211717577757301
         },
         {
          "group": "politics",
          "x": 0.2669605628885694,
          "y": 0.27896465947474813
         },
         {
          "group": "politics",
          "x": 0.6939013142852428,
          "y": 0.015640148065129034
         },
         {
          "group": "politics",
          "x": -0.17880587423527994,
          "y": -1.0531946134822938
         },
         {
          "group": "politics",
          "x": -0.22681560483211127,
          "y": 0.06564475878631104
         },
         {
          "group": "politics",
          "x": 0.6272711446031396,
          "y": 0.27052823767377276
         },
         {
          "group": "politics",
          "x": 0.29138836827171855,
          "y": -1.5535903851765247
         },
         {
          "group": "politics",
          "x": 1.258988173344739,
          "y": -0.00764363253047505
         },
         {
          "group": "politics",
          "x": 1.4635128757428841,
          "y": 0.21157981076642182
         },
         {
          "group": "politics",
          "x": -0.18770904798687774,
          "y": 0.05066609559605528
         },
         {
          "group": "politics",
          "x": 0.7232946439410717,
          "y": 0.40723742930371215
         },
         {
          "group": "politics",
          "x": -1.2870603221928956,
          "y": 1.6336253791139868
         },
         {
          "group": "politics",
          "x": -0.479020852188875,
          "y": -0.539823136978163
         },
         {
          "group": "politics",
          "x": 0.858690538000427,
          "y": -1.0297303370469435
         },
         {
          "group": "politics",
          "x": 1.082425072415345,
          "y": 2.3518299502364086
         },
         {
          "group": "politics",
          "x": 0.923368282389848,
          "y": -1.5811130739797001
         },
         {
          "group": "politics",
          "x": -0.14651230080112326,
          "y": 0.19405161706507615
         },
         {
          "group": "politics",
          "x": 1.7893039653547889,
          "y": 0.9556818382353269
         },
         {
          "group": "politics",
          "x": 0.7429410111555078,
          "y": -0.5338722156869068
         },
         {
          "group": "politics",
          "x": -0.09970915145576646,
          "y": -1.3438842766362593
         },
         {
          "group": "politics",
          "x": 0.06220203033606292,
          "y": -0.3795602694186793
         },
         {
          "group": "politics",
          "x": 2.0891778201790645,
          "y": 0.7861042349951253
         },
         {
          "group": "politics",
          "x": 0.6266231015435477,
          "y": 1.361096342209332
         },
         {
          "group": "politics",
          "x": 1.7634804325115891,
          "y": 0.547312768387677
         },
         {
          "group": "politics",
          "x": 0.06610197811591087,
          "y": 0.07184391627601198
         },
         {
          "group": "politics",
          "x": 0.7687193399888442,
          "y": 1.3270357338813399
         },
         {
          "group": "politics",
          "x": 0.9254925326829578,
          "y": -2.688426685615267
         },
         {
          "group": "politics",
          "x": -0.839685459635507,
          "y": -1.861392018201392
         },
         {
          "group": "politics",
          "x": 1.1693126381534285,
          "y": 0.6801760057547378
         },
         {
          "group": "politics",
          "x": 0.7820661391155413,
          "y": -0.6636054038963657
         },
         {
          "group": "politics",
          "x": 0.06148351751779646,
          "y": 0.30137164652591747
         },
         {
          "group": "politics",
          "x": 0.8233639076078715,
          "y": -2.189439657404054
         },
         {
          "group": "politics",
          "x": -0.3190563525853101,
          "y": 0.03950767963837126
         },
         {
          "group": "politics",
          "x": -0.002163694611923133,
          "y": -1.6528677898371782
         },
         {
          "group": "politics",
          "x": -1.5566213265324442,
          "y": -0.16194501408923623
         },
         {
          "group": "politics",
          "x": 0.6092680847759255,
          "y": -1.166373469105913
         },
         {
          "group": "politics",
          "x": -0.41819507725792565,
          "y": 1.0186341310904397
         },
         {
          "group": "politics",
          "x": -0.20374368231397688,
          "y": 0.23597926012779438
         },
         {
          "group": "politics",
          "x": 0.7219755308158675,
          "y": 0.9049864627078377
         },
         {
          "group": "politics",
          "x": 0.41752964559052635,
          "y": 1.449464703137967
         },
         {
          "group": "politics",
          "x": 1.3481364144658223,
          "y": 0.9400090920247706
         },
         {
          "group": "politics",
          "x": 1.4557849378212093,
          "y": 0.4497171256039181
         },
         {
          "group": "politics",
          "x": 1.8755747417159454,
          "y": 1.3627913422252225
         },
         {
          "group": "politics",
          "x": -0.6155646289092823,
          "y": -0.267355979080515
         },
         {
          "group": "politics",
          "x": 0.38870550998529085,
          "y": -0.34000850510454755
         },
         {
          "group": "politics",
          "x": -0.34897336343281016,
          "y": -0.4678873098790714
         },
         {
          "group": "politics",
          "x": 0.715934197459494,
          "y": -0.432902452445714
         },
         {
          "group": "politics",
          "x": 1.0540662893905868,
          "y": -0.5294535855965264
         },
         {
          "group": "politics",
          "x": -1.6583184878458832,
          "y": -1.9312212269405016
         },
         {
          "group": "politics",
          "x": -0.49650125822753594,
          "y": 1.660608299698814
         },
         {
          "group": "politics",
          "x": -0.2856920367179366,
          "y": -0.9463076207818467
         },
         {
          "group": "politics",
          "x": -1.3253294895768337,
          "y": -0.14023140498493555
         },
         {
          "group": "politics",
          "x": -0.5528189146471655,
          "y": 3.0527947055683264
         },
         {
          "group": "politics",
          "x": 1.3218373367219312,
          "y": 1.3153425754468442
         },
         {
          "group": "politics",
          "x": -0.8179381132544473,
          "y": 3.1698974060112466
         },
         {
          "group": "politics",
          "x": 1.1360379175217648,
          "y": 0.15231271315370204
         },
         {
          "group": "politics",
          "x": 0.06707784148755698,
          "y": 0.09769756762660038
         },
         {
          "group": "politics",
          "x": 0.22044367285694466,
          "y": -1.4795638750335471
         },
         {
          "group": "politics",
          "x": 0.6559198634925477,
          "y": 1.8653485739849542
         },
         {
          "group": "politics",
          "x": 0.6903272388936295,
          "y": 0.7551314644015789
         },
         {
          "group": "politics",
          "x": 0.1518150389224732,
          "y": 0.07728294973500435
         },
         {
          "group": "politics",
          "x": 0.666415181078379,
          "y": 0.9732258953369047
         },
         {
          "group": "politics",
          "x": 0.6529848499772358,
          "y": -1.0643298154307086
         },
         {
          "group": "politics",
          "x": -0.24413388117714613,
          "y": 1.3987636989695147
         },
         {
          "group": "politics",
          "x": 0.8342209871935947,
          "y": -0.27792189139602075
         },
         {
          "group": "politics",
          "x": -0.8166671445700036,
          "y": 0.5824439885919929
         },
         {
          "group": "politics",
          "x": 4.098030250620242,
          "y": 1.0126199362585837
         },
         {
          "group": "politics",
          "x": 0.33146758927288467,
          "y": -0.6624847266562683
         },
         {
          "group": "politics",
          "x": 1.7646853954766573,
          "y": 0.2351344967151903
         },
         {
          "group": "politics",
          "x": -1.1677715620132096,
          "y": -0.962761896159965
         },
         {
          "group": "politics",
          "x": -0.9363799630879506,
          "y": -0.05597104413857027
         },
         {
          "group": "politics",
          "x": 0.8431509487814759,
          "y": -0.36053544239367435
         },
         {
          "group": "politics",
          "x": -0.9228629385266263,
          "y": -2.898188111487556
         },
         {
          "group": "politics",
          "x": 1.4811160878563387,
          "y": -2.1462262452239735
         },
         {
          "group": "politics",
          "x": -0.019119163921237314,
          "y": -1.301226527299034
         },
         {
          "group": "politics",
          "x": 2.417379001191511,
          "y": 0.08052492641720814
         },
         {
          "group": "politics",
          "x": 0.46220518888140416,
          "y": 0.0445598415402219
         },
         {
          "group": "politics",
          "x": -0.35264869352082095,
          "y": -0.006929191157831797
         },
         {
          "group": "politics",
          "x": -0.2804777488251847,
          "y": -0.7910058748445585
         },
         {
          "group": "politics",
          "x": -0.06536029918846971,
          "y": -1.0651039909004159
         },
         {
          "group": "politics",
          "x": -0.11089550778849885,
          "y": 0.6367456039425845
         },
         {
          "group": "politics",
          "x": 0.8306901144467277,
          "y": -0.9913291152979293
         },
         {
          "group": "politics",
          "x": 0.046983995561685324,
          "y": -1.2725280865944473
         },
         {
          "group": "politics",
          "x": 0.8710537559632552,
          "y": 0.6407138191361187
         },
         {
          "group": "politics",
          "x": -1.280060320504261,
          "y": 0.661905843684901
         },
         {
          "group": "politics",
          "x": -0.3858012337996129,
          "y": 0.43919269441101966
         },
         {
          "group": "politics",
          "x": -1.3239968102954298,
          "y": 0.5003294681554883
         },
         {
          "group": "politics",
          "x": 1.280921447631239,
          "y": -1.463178118829629
         },
         {
          "group": "politics",
          "x": 2.719639977491961,
          "y": 1.7120323748202262
         },
         {
          "group": "politics",
          "x": 0.6310201054235016,
          "y": -0.9858571643593296
         },
         {
          "group": "politics",
          "x": 0.3067807676723956,
          "y": 0.6411135081952646
         },
         {
          "group": "politics",
          "x": -0.3317038086717216,
          "y": 0.9423116520027187
         },
         {
          "group": "politics",
          "x": -0.14671027489928742,
          "y": 0.8534562407651142
         },
         {
          "group": "politics",
          "x": 1.8560870661641256,
          "y": -0.2920176260548802
         },
         {
          "group": "politics",
          "x": 1.0468595361168291,
          "y": -1.5470630917378796
         },
         {
          "group": "politics",
          "x": 0.3623626956385557,
          "y": -0.21024187617454995
         },
         {
          "group": "politics",
          "x": 1.046502309366824,
          "y": 0.006325674562016089
         },
         {
          "group": "politics",
          "x": 0.7003194644078241,
          "y": 1.0546279801871397
         },
         {
          "group": "politics",
          "x": 0.8209235151223475,
          "y": -0.9386165585569446
         },
         {
          "group": "politics",
          "x": -2.6721726627494937,
          "y": -1.018516035051384
         },
         {
          "group": "politics",
          "x": 1.8680166928473503,
          "y": -0.4397547615620238
         },
         {
          "group": "politics",
          "x": 0.10749541502240093,
          "y": -0.807236328773852
         },
         {
          "group": "politics",
          "x": -0.5904721992953292,
          "y": 0.32865081772023325
         },
         {
          "group": "politics",
          "x": -0.7629202560706206,
          "y": -2.7109453258359175
         },
         {
          "group": "politics",
          "x": -1.1757833803030073,
          "y": -0.40493999630325295
         },
         {
          "group": "politics",
          "x": -1.324010800848667,
          "y": 1.7891833269350326
         },
         {
          "group": "politics",
          "x": -1.5004522470255979,
          "y": 0.5163052134108377
         },
         {
          "group": "politics",
          "x": 2.4921431284250937,
          "y": -2.0236776717385028
         },
         {
          "group": "politics",
          "x": -0.33730934903466797,
          "y": 0.5052819659152898
         },
         {
          "group": "politics",
          "x": 2.349726599196081,
          "y": -1.3131065874995234
         },
         {
          "group": "politics",
          "x": 1.3290316969641622,
          "y": 3.183050363689305
         },
         {
          "group": "politics",
          "x": -0.18219162941723027,
          "y": 1.4907460677408042
         },
         {
          "group": "politics",
          "x": -0.419616934018356,
          "y": -1.5876885765626834
         },
         {
          "group": "politics",
          "x": -0.7428914785739659,
          "y": -1.5415785076665744
         },
         {
          "group": "politics",
          "x": -1.3886126896252855,
          "y": -2.3463109778183715
         },
         {
          "group": "politics",
          "x": 0.5378978296866204,
          "y": -1.50291301134194
         },
         {
          "group": "politics",
          "x": -0.31930344646965186,
          "y": 0.5702769815804529
         },
         {
          "group": "politics",
          "x": -1.9847623997410453,
          "y": 0.6503627153091666
         },
         {
          "group": "politics",
          "x": -0.20047823492934783,
          "y": -0.4999060463187345
         },
         {
          "group": "politics",
          "x": 0.010736104084981197,
          "y": 0.4078843486237135
         },
         {
          "group": "politics",
          "x": -0.057408111567463206,
          "y": 0.523580794363381
         },
         {
          "group": "politics",
          "x": 0.8635334316464449,
          "y": 0.3358041361905511
         },
         {
          "group": "politics",
          "x": -0.6333228454716078,
          "y": 0.5776139669404652
         },
         {
          "group": "politics",
          "x": -0.13371242023252208,
          "y": -0.24906221220901728
         },
         {
          "group": "politics",
          "x": 0.9476079099754746,
          "y": 0.10527108984221904
         },
         {
          "group": "politics",
          "x": -0.2856345246484429,
          "y": 0.746490032453682
         },
         {
          "group": "politics",
          "x": -0.13959909191578967,
          "y": 0.38459729465950565
         },
         {
          "group": "politics",
          "x": 1.2381116022959329,
          "y": 0.7928224870914732
         },
         {
          "group": "politics",
          "x": -0.38380367389896813,
          "y": 0.7670699264350863
         },
         {
          "group": "politics",
          "x": -0.5074043715533938,
          "y": 0.5465636600730239
         },
         {
          "group": "politics",
          "x": 3.164153146718677,
          "y": 1.4026053923253332
         },
         {
          "group": "politics",
          "x": 0.16763900283152938,
          "y": 1.080134807475022
         },
         {
          "group": "politics",
          "x": -1.0196977582208389,
          "y": -2.1438150924108204
         },
         {
          "group": "politics",
          "x": -0.033248145873135466,
          "y": 0.6660798571989659
         },
         {
          "group": "politics",
          "x": -0.20268028218724277,
          "y": -0.889990751366345
         },
         {
          "group": "politics",
          "x": -1.1008435505941974,
          "y": 0.6981212069811507
         },
         {
          "group": "politics",
          "x": -1.451109402828095,
          "y": 1.82520663610285
         },
         {
          "group": "politics",
          "x": 1.2208915676574499,
          "y": -1.3485953425068058
         },
         {
          "group": "politics",
          "x": 0.45633206976978974,
          "y": -0.38704199256741667
         },
         {
          "group": "politics",
          "x": 1.1935008372549174,
          "y": 0.22769303254997342
         },
         {
          "group": "politics",
          "x": -0.07311554694767745,
          "y": 1.90308088830312
         },
         {
          "group": "politics",
          "x": 1.2763256078051117,
          "y": 0.4475574508144788
         },
         {
          "group": "politics",
          "x": 0.3322735787625248,
          "y": 0.961987119839831
         },
         {
          "group": "politics",
          "x": -0.9729300563575825,
          "y": 0.026436645831232296
         },
         {
          "group": "politics",
          "x": -0.12317408651181555,
          "y": -2.7006070461970704
         },
         {
          "group": "politics",
          "x": -0.8312473878656244,
          "y": -0.833908686238892
         },
         {
          "group": "politics",
          "x": 1.1871923609900763,
          "y": 0.4616798285561439
         },
         {
          "group": "politics",
          "x": -1.4989617644020745,
          "y": 2.0281205787156082
         },
         {
          "group": "politics",
          "x": -0.4369890792282871,
          "y": 0.5503002447519312
         },
         {
          "group": "politics",
          "x": -0.1975679995107281,
          "y": 0.14391046959685155
         },
         {
          "group": "politics",
          "x": 1.1164361523268242,
          "y": 0.25871783499594087
         },
         {
          "group": "politics",
          "x": -0.32340784372118087,
          "y": 0.3917546652690318
         },
         {
          "group": "politics",
          "x": 0.47082151028718294,
          "y": 0.3349175615432559
         },
         {
          "group": "politics",
          "x": 0.02590156696337557,
          "y": -1.400075697441224
         },
         {
          "group": "politics",
          "x": 1.098374533086709,
          "y": 1.3656824324705035
         },
         {
          "group": "politics",
          "x": -1.1538838294386724,
          "y": -0.6638779526668757
         },
         {
          "group": "politics",
          "x": -1.043751400442157,
          "y": -0.7077673694135954
         },
         {
          "group": "politics",
          "x": -0.6054478142742985,
          "y": -0.7172345469180389
         },
         {
          "group": "politics",
          "x": -0.05716912198529273,
          "y": -0.3837298866668447
         },
         {
          "group": "politics",
          "x": -1.3204727195060513,
          "y": -1.5539710253576624
         },
         {
          "group": "politics",
          "x": -1.1299309295268134,
          "y": 1.0785027348361835
         },
         {
          "group": "politics",
          "x": 0.24610640948606297,
          "y": 0.43020456077725255
         },
         {
          "group": "politics",
          "x": -0.24665086934630528,
          "y": -2.197614647473476
         },
         {
          "group": "politics",
          "x": 0.7968320690172594,
          "y": -1.2386102158746741
         },
         {
          "group": "politics",
          "x": -0.9817054223797973,
          "y": 0.936939970419417
         },
         {
          "group": "politics",
          "x": 1.5801398201968428,
          "y": -0.9781104741085558
         },
         {
          "group": "politics",
          "x": -0.0836601533386417,
          "y": 1.7231899280507772
         },
         {
          "group": "politics",
          "x": 0.8307100936451912,
          "y": -0.3141025808595136
         },
         {
          "group": "politics",
          "x": 1.3071751555643054,
          "y": -1.6232374151816082
         },
         {
          "group": "politics",
          "x": -0.4194522703929565,
          "y": -1.0551313626455792
         },
         {
          "group": "politics",
          "x": 0.16472354575419487,
          "y": 1.4854245727898245
         },
         {
          "group": "politics",
          "x": -1.159128735638285,
          "y": -0.3602277738934134
         },
         {
          "group": "politics",
          "x": -1.0264987839386195,
          "y": 1.5056097994658564
         },
         {
          "group": "politics",
          "x": 1.7808852229496728,
          "y": -0.13600890071895638
         },
         {
          "group": "politics",
          "x": 0.2596241602792937,
          "y": 1.747634421848895
         },
         {
          "group": "politics",
          "x": 1.4106168368577197,
          "y": 0.3482250094087469
         },
         {
          "group": "politics",
          "x": 0.476680952514017,
          "y": -0.8750029304343536
         },
         {
          "group": "politics",
          "x": 1.7345007218242723,
          "y": -0.04912610525201816
         },
         {
          "group": "politics",
          "x": 1.4381772424828205,
          "y": -0.18730843753035312
         },
         {
          "group": "politics",
          "x": 0.1218973025587522,
          "y": -1.1925213361751363
         },
         {
          "group": "politics",
          "x": 0.3843442699418509,
          "y": -1.2233695485481995
         },
         {
          "group": "politics",
          "x": 0.3294593388490727,
          "y": -2.6718659709455284
         },
         {
          "group": "politics",
          "x": -2.96968713380616,
          "y": -1.4177808851188745
         },
         {
          "group": "politics",
          "x": 0.13390300434611782,
          "y": -2.157869496163084
         },
         {
          "group": "politics",
          "x": 0.8649737206478155,
          "y": -0.9102619086213616
         },
         {
          "group": "politics",
          "x": -0.5840163755231973,
          "y": -0.2714008349578927
         },
         {
          "group": "politics",
          "x": 0.8726786639650924,
          "y": -0.4335438754795288
         },
         {
          "group": "politics",
          "x": -0.3747101023136492,
          "y": -0.4793573886601371
         },
         {
          "group": "politics",
          "x": 1.0985756622515517,
          "y": -1.590206523335771
         },
         {
          "group": "politics",
          "x": -0.24893470974779963,
          "y": -0.6501669363528971
         },
         {
          "group": "politics",
          "x": 1.9267109691824187,
          "y": 0.061510809666277484
         },
         {
          "group": "politics",
          "x": 0.9793188135784495,
          "y": -0.5470095358697836
         },
         {
          "group": "politics",
          "x": 0.7093885960997255,
          "y": 0.3772974053500671
         },
         {
          "group": "politics",
          "x": 1.4823847555704879,
          "y": -0.18880319660038308
         },
         {
          "group": "politics",
          "x": 1.167624262104521,
          "y": -1.210929150113392
         },
         {
          "group": "politics",
          "x": 0.14721904004899525,
          "y": -0.6379187813527597
         },
         {
          "group": "politics",
          "x": 0.3073150642937303,
          "y": 1.7255689376708294
         },
         {
          "group": "politics",
          "x": 0.9841497760974597,
          "y": -2.036051583119804
         },
         {
          "group": "politics",
          "x": 1.5077953325228746,
          "y": -1.57758340021391
         },
         {
          "group": "politics",
          "x": -0.4750176201744316,
          "y": 2.4474157056059616
         },
         {
          "group": "politics",
          "x": 0.33923303956609224,
          "y": -0.4946211686779251
         },
         {
          "group": "politics",
          "x": 0.35529378746202595,
          "y": 1.7167842989660638
         },
         {
          "group": "politics",
          "x": 0.563454263101155,
          "y": 0.1575886644787889
         },
         {
          "group": "politics",
          "x": -0.10592993401216594,
          "y": -0.24763975637335292
         },
         {
          "group": "politics",
          "x": 0.500763091421744,
          "y": -4.22503668165269
         },
         {
          "group": "politics",
          "x": -1.374022038994931,
          "y": -0.8514203200465535
         },
         {
          "group": "politics",
          "x": 0.14869488279833523,
          "y": -1.7814624671661705
         },
         {
          "group": "politics",
          "x": -0.6524114564404688,
          "y": -0.1905371349483166
         },
         {
          "group": "politics",
          "x": -0.5979663657345001,
          "y": 0.48042978200038083
         },
         {
          "group": "politics",
          "x": 2.3588982205343783,
          "y": 0.9951985808978219
         },
         {
          "group": "politics",
          "x": -0.26964153740576297,
          "y": 0.29399471259666815
         },
         {
          "group": "politics",
          "x": -0.4435317962901034,
          "y": -1.8135696004829671
         },
         {
          "group": "politics",
          "x": -2.190063290627204,
          "y": -2.3243360741006676
         },
         {
          "group": "politics",
          "x": 0.8639695239194913,
          "y": 0.32948420212631896
         },
         {
          "group": "politics",
          "x": 0.75305738763362,
          "y": -2.016668138528269
         },
         {
          "group": "politics",
          "x": 0.9871510538699129,
          "y": -0.12330936999789568
         },
         {
          "group": "politics",
          "x": 0.09286427178007119,
          "y": 1.0866259620043317
         },
         {
          "group": "politics",
          "x": 1.5623835716156866,
          "y": -0.7206764268983733
         },
         {
          "group": "politics",
          "x": -1.0417647252346975,
          "y": 0.2685595008261023
         },
         {
          "group": "politics",
          "x": -0.37629045569885955,
          "y": -0.17677923359612924
         },
         {
          "group": "politics",
          "x": 1.3705841310713032,
          "y": 1.116864402608662
         },
         {
          "group": "politics",
          "x": 1.3240235637100661,
          "y": -0.37875411459530967
         },
         {
          "group": "politics",
          "x": 0.0418934813189672,
          "y": 1.4470953494763423
         },
         {
          "group": "politics",
          "x": 1.6660384504825625,
          "y": -0.1687940512304573
         },
         {
          "group": "politics",
          "x": -0.8631693870427023,
          "y": -0.13131550006435114
         },
         {
          "group": "politics",
          "x": 0.04459039538859302,
          "y": -0.8252272894311353
         },
         {
          "group": "politics",
          "x": 0.37301553234539536,
          "y": 1.0678778164096367
         },
         {
          "group": "politics",
          "x": -0.7486133716122669,
          "y": -0.2400984821364367
         },
         {
          "group": "politics",
          "x": -0.11648573389953794,
          "y": -1.0462333220092914
         },
         {
          "group": "politics",
          "x": -1.9858898383315389,
          "y": -0.3861369097636969
         },
         {
          "group": "politics",
          "x": 1.4258864802635485,
          "y": 1.5660895001267339
         },
         {
          "group": "politics",
          "x": 1.7532963866926927,
          "y": 0.31441978510635266
         },
         {
          "group": "politics",
          "x": 1.9048835434813325,
          "y": -2.2559055393465344
         },
         {
          "group": "politics",
          "x": -2.1443702385052728,
          "y": 1.3043541589040168
         },
         {
          "group": "politics",
          "x": -0.04687637764415644,
          "y": -0.9195627889839034
         },
         {
          "group": "politics",
          "x": 0.1382464740425945,
          "y": -0.7330632305877398
         },
         {
          "group": "politics",
          "x": 0.07002403727849792,
          "y": 0.6771217116935144
         },
         {
          "group": "politics",
          "x": 1.6336603430256065,
          "y": -0.051853729067722454
         },
         {
          "group": "politics",
          "x": 1.4454767913852917,
          "y": -1.316066180446407
         },
         {
          "group": "politics",
          "x": 0.16268693474814752,
          "y": 0.5494127537316899
         },
         {
          "group": "politics",
          "x": 1.70291886359778,
          "y": -1.5848533650030459
         },
         {
          "group": "politics",
          "x": -1.2109060656290267,
          "y": -1.756194649195557
         },
         {
          "group": "politics",
          "x": 0.1266397765607528,
          "y": -0.3433717179050857
         },
         {
          "group": "politics",
          "x": 0.3598367571631652,
          "y": -1.135383279119206
         },
         {
          "group": "politics",
          "x": 0.027737998114302255,
          "y": 0.375214784725779
         },
         {
          "group": "politics",
          "x": 1.6010984444607081,
          "y": 0.7104940840125675
         },
         {
          "group": "politics",
          "x": -0.6746033236009527,
          "y": 0.39036362824317383
         },
         {
          "group": "politics",
          "x": -0.49566863980366105,
          "y": -2.3684650515291406
         },
         {
          "group": "politics",
          "x": 0.5527740396376869,
          "y": 0.01432240189558708
         },
         {
          "group": "politics",
          "x": -0.04482884364225586,
          "y": 0.3149551010687584
         },
         {
          "group": "politics",
          "x": 0.6212447545566989,
          "y": -0.0072961991813573915
         },
         {
          "group": "politics",
          "x": -0.6648721224970126,
          "y": 1.4964433363212395
         },
         {
          "group": "politics",
          "x": -1.0480278818309245,
          "y": -1.0885207967880206
         },
         {
          "group": "politics",
          "x": 1.6186019992638383,
          "y": 1.9868105961108886
         },
         {
          "group": "politics",
          "x": 0.264764725533333,
          "y": 1.4394546484803117
         },
         {
          "group": "politics",
          "x": 0.40847736262480794,
          "y": 1.7864526435520005
         },
         {
          "group": "politics",
          "x": 1.8833625424455096,
          "y": -1.0629611102137986
         },
         {
          "group": "politics",
          "x": 0.31821816554710786,
          "y": 2.961972625666585
         },
         {
          "group": "politics",
          "x": 0.05466016214277297,
          "y": -1.3066167725313675
         },
         {
          "group": "politics",
          "x": 2.8379013458778197,
          "y": -0.29560734077682843
         },
         {
          "group": "tech",
          "x": 0.53354392146495,
          "y": 0.7399549770709393
         },
         {
          "group": "tech",
          "x": 0.06044162180980128,
          "y": 0.5649690483271492
         },
         {
          "group": "tech",
          "x": -1.6782334236613212,
          "y": 0.4895115926511419
         },
         {
          "group": "tech",
          "x": 1.3988231605829302,
          "y": 2.6375522755071024
         },
         {
          "group": "tech",
          "x": 0.3921716965641997,
          "y": -0.3058825702734805
         },
         {
          "group": "tech",
          "x": -0.07561377418353823,
          "y": 2.332409417911681
         },
         {
          "group": "tech",
          "x": -0.38163308692753783,
          "y": -2.7257804503366927
         },
         {
          "group": "tech",
          "x": -1.1035934024634253,
          "y": -0.9288572693808426
         },
         {
          "group": "tech",
          "x": 1.7101006594055737,
          "y": -0.6742603357960274
         },
         {
          "group": "tech",
          "x": 1.6123216057696714,
          "y": 0.8725843769313782
         },
         {
          "group": "tech",
          "x": -0.07866476870189745,
          "y": -0.47752202433480206
         },
         {
          "group": "tech",
          "x": 0.3597732371716664,
          "y": -2.4569438668863164
         },
         {
          "group": "tech",
          "x": -0.07646970970270972,
          "y": 0.24405200879953684
         },
         {
          "group": "tech",
          "x": 0.907563688067987,
          "y": -0.7208169517066537
         },
         {
          "group": "tech",
          "x": 1.0848939139376936,
          "y": 0.9089108179573383
         },
         {
          "group": "tech",
          "x": 1.067810204629361,
          "y": -0.38667796379193864
         },
         {
          "group": "tech",
          "x": 0.1977775049185231,
          "y": 0.810243137150968
         },
         {
          "group": "tech",
          "x": 0.44458153554118474,
          "y": -0.571504318350979
         },
         {
          "group": "tech",
          "x": -1.807936803751443,
          "y": 0.9109383956916051
         },
         {
          "group": "tech",
          "x": -1.74740357261513,
          "y": -0.6547320341491814
         },
         {
          "group": "tech",
          "x": -1.314002982988511,
          "y": -2.3653117416490343
         },
         {
          "group": "tech",
          "x": 0.6923345387202843,
          "y": 1.178131389045411
         },
         {
          "group": "tech",
          "x": -0.5765313202788384,
          "y": 1.004521339065072
         },
         {
          "group": "tech",
          "x": -0.4526158171567383,
          "y": -1.9836845376403016
         },
         {
          "group": "tech",
          "x": 0.9191979495656432,
          "y": 1.6121447981202297
         },
         {
          "group": "tech",
          "x": 1.444538234844572,
          "y": 0.4595714923682267
         },
         {
          "group": "tech",
          "x": 0.3127447303827833,
          "y": -1.332243530977324
         },
         {
          "group": "tech",
          "x": -1.0924142243564208,
          "y": 1.1740663154709874
         },
         {
          "group": "tech",
          "x": 1.9212388782578183,
          "y": -1.6549096950760298
         },
         {
          "group": "tech",
          "x": 1.016481861876255,
          "y": 1.3921714653063522
         },
         {
          "group": "tech",
          "x": -1.0328458780341072,
          "y": -0.4359421600721552
         },
         {
          "group": "tech",
          "x": 1.279084221870821,
          "y": -2.219869609438269
         },
         {
          "group": "tech",
          "x": -0.007449084092109787,
          "y": 2.1528775566135123
         },
         {
          "group": "tech",
          "x": 0.5781690425417828,
          "y": -0.7838359566000038
         },
         {
          "group": "tech",
          "x": -0.7110770174045385,
          "y": 0.2523141421814653
         },
         {
          "group": "tech",
          "x": 1.2302441525159025,
          "y": 0.7551075725234552
         },
         {
          "group": "tech",
          "x": -0.30019938211293534,
          "y": 0.555487722714087
         },
         {
          "group": "tech",
          "x": 0.6983009835739936,
          "y": -1.8700227563722063
         },
         {
          "group": "tech",
          "x": -0.21021382959193885,
          "y": 0.18329216389714958
         },
         {
          "group": "tech",
          "x": 0.33904081280519577,
          "y": 0.7838217728481893
         },
         {
          "group": "tech",
          "x": -0.8889000759135374,
          "y": -0.5159254680438992
         },
         {
          "group": "tech",
          "x": 0.4896272209856005,
          "y": 0.33847900875697606
         },
         {
          "group": "tech",
          "x": 0.818979160988987,
          "y": -0.7707303379325414
         },
         {
          "group": "tech",
          "x": -0.3122404235827807,
          "y": -0.5556311800178289
         },
         {
          "group": "tech",
          "x": -0.08422826539901518,
          "y": -0.7195823750468059
         },
         {
          "group": "tech",
          "x": 0.8528428502040513,
          "y": 0.301759801525395
         },
         {
          "group": "tech",
          "x": 1.5357480243696169,
          "y": 0.7171534972305155
         },
         {
          "group": "tech",
          "x": 1.6089757387306014,
          "y": -0.876744435835311
         },
         {
          "group": "tech",
          "x": -0.19988835584456727,
          "y": -0.4673144407844709
         },
         {
          "group": "tech",
          "x": -0.20575644797182396,
          "y": -1.5800056417297839
         },
         {
          "group": "tech",
          "x": 1.3883507694749422,
          "y": -0.31701055356244984
         },
         {
          "group": "tech",
          "x": -1.3613884393654898,
          "y": 0.4177532599947117
         },
         {
          "group": "tech",
          "x": 0.7392918813704098,
          "y": 0.7566456582104095
         },
         {
          "group": "tech",
          "x": -0.13796240495365927,
          "y": 0.8955637420878727
         },
         {
          "group": "tech",
          "x": -1.2809918057784115,
          "y": 0.663593330619459
         },
         {
          "group": "tech",
          "x": 1.127933060852164,
          "y": -0.9294379582229436
         },
         {
          "group": "tech",
          "x": -0.9099987089715248,
          "y": 0.05780633207327577
         },
         {
          "group": "tech",
          "x": -0.7884719659299283,
          "y": -2.806582199965382
         },
         {
          "group": "tech",
          "x": 0.04429053014287133,
          "y": 0.8151874152023495
         },
         {
          "group": "tech",
          "x": 0.8100155352334345,
          "y": -1.6323744845284778
         },
         {
          "group": "tech",
          "x": 0.699838087219099,
          "y": 0.9738372047972967
         },
         {
          "group": "tech",
          "x": -0.36386301600432774,
          "y": -0.571847298695251
         },
         {
          "group": "tech",
          "x": 1.9578257029641355,
          "y": 0.6842350576225137
         },
         {
          "group": "tech",
          "x": -0.5861399086312324,
          "y": -0.030461937469502712
         },
         {
          "group": "tech",
          "x": -1.0204027695474918,
          "y": -2.166189010256216
         },
         {
          "group": "tech",
          "x": -1.5834346709623939,
          "y": 0.16444414122565543
         },
         {
          "group": "tech",
          "x": 0.7226625181660429,
          "y": -0.8475660284388251
         },
         {
          "group": "tech",
          "x": -0.33313677190234275,
          "y": 0.2974222149845569
         },
         {
          "group": "tech",
          "x": 0.3601842179589071,
          "y": 0.8000973126351878
         },
         {
          "group": "tech",
          "x": -0.6567869681752039,
          "y": -1.079187813521358
         },
         {
          "group": "tech",
          "x": -2.237348045874192,
          "y": -1.9192442994746994
         },
         {
          "group": "tech",
          "x": 0.1534514910509165,
          "y": -1.5967146197100484
         },
         {
          "group": "tech",
          "x": 1.4820927912609831,
          "y": -0.21111185432082694
         },
         {
          "group": "tech",
          "x": 1.402276034859632,
          "y": -0.7300134765667721
         },
         {
          "group": "tech",
          "x": 0.21375038838601323,
          "y": -0.41978647739382857
         },
         {
          "group": "tech",
          "x": -1.0461419259869311,
          "y": -0.5948999257086807
         },
         {
          "group": "tech",
          "x": -0.7551500393959429,
          "y": -0.3174994264075869
         },
         {
          "group": "tech",
          "x": 0.03427889288923639,
          "y": -0.775837055598758
         },
         {
          "group": "tech",
          "x": -0.1094027549389411,
          "y": 1.4259108997576273
         },
         {
          "group": "tech",
          "x": 0.8183779471956497,
          "y": -0.5315520965656312
         },
         {
          "group": "tech",
          "x": -0.14921891901682385,
          "y": 1.125248706407632
         },
         {
          "group": "tech",
          "x": 0.902062667218997,
          "y": -1.9398022770648313
         },
         {
          "group": "tech",
          "x": 1.2253417173475236,
          "y": 1.4395771066858125
         },
         {
          "group": "tech",
          "x": 0.9623687465236818,
          "y": 0.5978821229125241
         },
         {
          "group": "tech",
          "x": -0.6318926989183699,
          "y": -0.7088697017951037
         },
         {
          "group": "tech",
          "x": 1.4204843372776692,
          "y": -0.07878178478843098
         },
         {
          "group": "tech",
          "x": -0.34387952398983124,
          "y": 0.6726461313973225
         },
         {
          "group": "tech",
          "x": 0.05155946760884535,
          "y": 0.03736929417755121
         },
         {
          "group": "tech",
          "x": 0.7479039272651192,
          "y": -1.9083850887356297
         },
         {
          "group": "tech",
          "x": 1.8725956103979355,
          "y": -0.11782784184364432
         },
         {
          "group": "tech",
          "x": 1.4316613193506764,
          "y": 1.1688257533791233
         },
         {
          "group": "tech",
          "x": 1.306618754492979,
          "y": 0.5910660703728878
         },
         {
          "group": "tech",
          "x": 0.10539202157475532,
          "y": -1.7199606665317209
         },
         {
          "group": "tech",
          "x": -0.545610958041673,
          "y": -0.7731213947733675
         },
         {
          "group": "tech",
          "x": 2.09317853328688,
          "y": 0.050545183702336356
         },
         {
          "group": "tech",
          "x": 0.8070119997821994,
          "y": -1.3002103509768703
         },
         {
          "group": "tech",
          "x": 0.6819333024093849,
          "y": 0.7752860457870172
         },
         {
          "group": "tech",
          "x": 1.0190183945867297,
          "y": -0.48120922686180817
         },
         {
          "group": "tech",
          "x": 1.9450998476774712,
          "y": 1.2245680021793994
         },
         {
          "group": "tech",
          "x": -0.04239115636861332,
          "y": 2.0567558689328838
         },
         {
          "group": "tech",
          "x": -0.7308604208539693,
          "y": 0.4141852603012245
         },
         {
          "group": "tech",
          "x": -0.6050041199959265,
          "y": 2.072158694284315
         },
         {
          "group": "tech",
          "x": 0.8361774127891876,
          "y": 1.668695067741304
         },
         {
          "group": "tech",
          "x": -0.5978414258721351,
          "y": -0.11704047871914287
         },
         {
          "group": "tech",
          "x": 0.6888521859847879,
          "y": -1.0367787032525457
         },
         {
          "group": "tech",
          "x": 0.19947056005486652,
          "y": -0.4784831437609333
         },
         {
          "group": "tech",
          "x": -1.5668546218381005,
          "y": -0.06924375819871241
         },
         {
          "group": "tech",
          "x": -1.1319903446039847,
          "y": -1.6751423551270108
         },
         {
          "group": "tech",
          "x": 0.5200090263478119,
          "y": -0.2755477075910165
         },
         {
          "group": "tech",
          "x": -1.0270892902073485,
          "y": -0.9678289118252488
         },
         {
          "group": "tech",
          "x": 1.7029318431349287,
          "y": -0.7606127364879338
         },
         {
          "group": "tech",
          "x": 0.24497503661821246,
          "y": 1.1998138108353984
         },
         {
          "group": "tech",
          "x": -0.607612431110897,
          "y": 0.07178374690069374
         },
         {
          "group": "tech",
          "x": -0.3388756459898675,
          "y": -1.7231189200716912
         },
         {
          "group": "tech",
          "x": -0.0197760173428708,
          "y": -0.13800469475175792
         },
         {
          "group": "tech",
          "x": 0.42108494655872897,
          "y": 0.455639826660274
         },
         {
          "group": "tech",
          "x": 2.130817145803459,
          "y": -0.11291628642699839
         },
         {
          "group": "tech",
          "x": -0.3513345073006388,
          "y": 0.4207220183267222
         },
         {
          "group": "tech",
          "x": 0.28347087146814803,
          "y": 0.7897854129318936
         },
         {
          "group": "tech",
          "x": 1.4824832483217427,
          "y": -0.309177875951866
         },
         {
          "group": "tech",
          "x": 0.8925884488650615,
          "y": 1.3042451657391267
         },
         {
          "group": "tech",
          "x": 0.19188267691500854,
          "y": -0.07188076906268191
         },
         {
          "group": "tech",
          "x": 0.70817757658062,
          "y": -0.057502217436672394
         },
         {
          "group": "tech",
          "x": -1.1135828130145877,
          "y": 0.5419567113534541
         },
         {
          "group": "tech",
          "x": -2.2663629582181564,
          "y": -0.5359647438112946
         },
         {
          "group": "tech",
          "x": 1.3677203930498014,
          "y": -0.6783761783879906
         },
         {
          "group": "tech",
          "x": 1.1799008307629077,
          "y": -0.10536048253778252
         },
         {
          "group": "tech",
          "x": -1.3705785840359395,
          "y": -1.823294733858704
         },
         {
          "group": "tech",
          "x": 0.08536545734915724,
          "y": -0.758187392022788
         },
         {
          "group": "tech",
          "x": -0.47153700659061026,
          "y": 0.9335605226521334
         },
         {
          "group": "tech",
          "x": 0.8643589256011356,
          "y": 0.1004057779547567
         },
         {
          "group": "tech",
          "x": -0.7439838614965026,
          "y": -0.648885859760577
         },
         {
          "group": "tech",
          "x": 0.5637136159703594,
          "y": 0.007184931470387993
         },
         {
          "group": "tech",
          "x": 0.5651323937665327,
          "y": -1.4976505718001867
         },
         {
          "group": "tech",
          "x": -0.10252996342370001,
          "y": -0.42225966119273595
         },
         {
          "group": "tech",
          "x": -0.44282888675168425,
          "y": -1.1415594582776203
         },
         {
          "group": "tech",
          "x": 1.813630687832666,
          "y": -3.2981976896509617
         },
         {
          "group": "tech",
          "x": 0.9937800434850981,
          "y": -0.5650726562990521
         },
         {
          "group": "tech",
          "x": 1.535449808686636,
          "y": -0.9160258797019806
         },
         {
          "group": "tech",
          "x": -0.043853093649160436,
          "y": -1.1833806640503532
         },
         {
          "group": "tech",
          "x": 0.8005982959130961,
          "y": -0.9790872483404662
         },
         {
          "group": "tech",
          "x": -0.3570180275518496,
          "y": 0.8556745121866854
         },
         {
          "group": "tech",
          "x": -1.7889322874623574,
          "y": -0.9658523255498305
         },
         {
          "group": "tech",
          "x": 1.6364704515843622,
          "y": -1.0899236330730333
         },
         {
          "group": "tech",
          "x": 0.1664651111860638,
          "y": 0.9914126334077741
         },
         {
          "group": "tech",
          "x": 0.529177529186204,
          "y": -0.2441820982572325
         },
         {
          "group": "tech",
          "x": -0.7089044075372511,
          "y": 0.9538518133875317
         },
         {
          "group": "tech",
          "x": 1.4969567883017099,
          "y": 0.2491091930462795
         },
         {
          "group": "tech",
          "x": 0.07739479809128681,
          "y": -0.7325043842059958
         },
         {
          "group": "tech",
          "x": 0.43642767232267976,
          "y": 0.44110622156635193
         },
         {
          "group": "tech",
          "x": 0.4112769680274796,
          "y": -0.8525250069179161
         },
         {
          "group": "tech",
          "x": -0.0033799048525012597,
          "y": 1.6731213281408477
         },
         {
          "group": "tech",
          "x": -0.6563593974331923,
          "y": -2.689028354017527
         },
         {
          "group": "tech",
          "x": 3.570430190202218,
          "y": 0.828575131998001
         },
         {
          "group": "tech",
          "x": 0.9011138523901792,
          "y": -0.23627682722416152
         },
         {
          "group": "tech",
          "x": 2.242460696705361,
          "y": -0.3187029120230363
         },
         {
          "group": "tech",
          "x": 3.0380248468408277,
          "y": -0.24846197798941355
         },
         {
          "group": "tech",
          "x": 0.1382046330418613,
          "y": 0.9585594246525921
         },
         {
          "group": "tech",
          "x": -0.8033253911169717,
          "y": 0.11785438986475476
         },
         {
          "group": "tech",
          "x": 0.35995011794163667,
          "y": -0.8839093287491749
         },
         {
          "group": "tech",
          "x": -0.030276780391765654,
          "y": 0.5915266475485471
         },
         {
          "group": "tech",
          "x": 1.8996037504368064,
          "y": -2.2756410035075456
         },
         {
          "group": "tech",
          "x": 1.6117440951522564,
          "y": -1.1028083129852728
         },
         {
          "group": "tech",
          "x": -2.126947642758655,
          "y": 1.4676046197324977
         },
         {
          "group": "tech",
          "x": 0.495701070733716,
          "y": 0.3115799454447251
         },
         {
          "group": "tech",
          "x": 0.25244216792975344,
          "y": 2.257037451103478
         },
         {
          "group": "tech",
          "x": 0.2378742409904838,
          "y": -0.490400277578608
         },
         {
          "group": "tech",
          "x": -0.373056667117151,
          "y": 0.6840985606710369
         },
         {
          "group": "tech",
          "x": 2.0774007518998974,
          "y": -0.7259265008421724
         },
         {
          "group": "tech",
          "x": 1.2282443849667322,
          "y": 0.2940562010193686
         },
         {
          "group": "tech",
          "x": -1.5348182463539308,
          "y": 0.5002825248861823
         },
         {
          "group": "tech",
          "x": -0.22067243188442082,
          "y": 0.8276681492855994
         },
         {
          "group": "tech",
          "x": 2.554119759951083,
          "y": 0.21394521569314462
         },
         {
          "group": "tech",
          "x": 1.297442960429618,
          "y": 1.0139312369639883
         },
         {
          "group": "tech",
          "x": 0.5571250400141842,
          "y": 2.712648442089584
         },
         {
          "group": "tech",
          "x": -1.500468219021962,
          "y": 2.000002071731437
         },
         {
          "group": "tech",
          "x": 1.9134098409300864,
          "y": -0.3962534753097793
         },
         {
          "group": "tech",
          "x": -1.8950898739242628,
          "y": -0.10712156140591475
         },
         {
          "group": "tech",
          "x": -0.35827274975219847,
          "y": 1.664314231664889
         },
         {
          "group": "tech",
          "x": -0.3254339785670747,
          "y": -0.02698004156369244
         },
         {
          "group": "tech",
          "x": -0.8397303136575994,
          "y": 1.9177466811780264
         },
         {
          "group": "tech",
          "x": 1.6401008984899728,
          "y": 0.2608815709320047
         },
         {
          "group": "tech",
          "x": 2.4636327358276353,
          "y": 0.6677918152864587
         },
         {
          "group": "tech",
          "x": 1.8253176165173142,
          "y": -0.25638464906127306
         },
         {
          "group": "tech",
          "x": 1.321882286981513,
          "y": -1.0894880620161769
         },
         {
          "group": "tech",
          "x": 0.6522942087719704,
          "y": -1.2957545804694377
         },
         {
          "group": "tech",
          "x": 1.1429620193926318,
          "y": -2.186116033585543
         },
         {
          "group": "tech",
          "x": -1.1785545859999194,
          "y": 0.7649670656772068
         },
         {
          "group": "tech",
          "x": 0.4605550873326182,
          "y": -0.5541868997241282
         },
         {
          "group": "tech",
          "x": 4.0342563045176805,
          "y": -0.7612673746892433
         },
         {
          "group": "tech",
          "x": 0.8367816718448358,
          "y": 1.1477353920927778
         },
         {
          "group": "tech",
          "x": 1.4751295056904097,
          "y": -2.3020773772407632
         },
         {
          "group": "tech",
          "x": 0.35009465751593594,
          "y": -0.47266264757703325
         },
         {
          "group": "tech",
          "x": 0.3256725840635793,
          "y": 0.8832377887656436
         },
         {
          "group": "tech",
          "x": -0.9301424926986005,
          "y": -1.0399092179292047
         },
         {
          "group": "tech",
          "x": -0.5088645506540505,
          "y": -1.7852631152701879
         },
         {
          "group": "tech",
          "x": -0.9782844085427645,
          "y": -0.4187654217804326
         },
         {
          "group": "tech",
          "x": 0.8906222530882348,
          "y": -0.5014526240512008
         },
         {
          "group": "tech",
          "x": 0.26412903374445235,
          "y": -0.2714175373843112
         },
         {
          "group": "tech",
          "x": -0.16802890673836748,
          "y": 1.5832037209533996
         },
         {
          "group": "tech",
          "x": -0.9482091389231375,
          "y": 1.5276141550297495
         },
         {
          "group": "tech",
          "x": -0.28736944778168155,
          "y": 0.014303407297762883
         },
         {
          "group": "tech",
          "x": -0.8579270025012192,
          "y": 1.3918021374886653
         },
         {
          "group": "tech",
          "x": -1.0861327045873745,
          "y": 0.9898252660170289
         },
         {
          "group": "tech",
          "x": 0.61800682098435,
          "y": 0.504602831725177
         },
         {
          "group": "tech",
          "x": 0.010071590370522687,
          "y": 0.662651175387839
         },
         {
          "group": "tech",
          "x": 0.1712944542814617,
          "y": 0.31365048290389774
         },
         {
          "group": "tech",
          "x": -0.6844409202347631,
          "y": -1.3882542589810063
         },
         {
          "group": "tech",
          "x": -1.731997997961347,
          "y": -0.27334773649885824
         },
         {
          "group": "tech",
          "x": 0.9900319938491444,
          "y": 0.3395120713418463
         },
         {
          "group": "tech",
          "x": 0.612904537199686,
          "y": -0.24891797357052278
         },
         {
          "group": "tech",
          "x": -1.2648705898637402,
          "y": 1.7308401537036782
         },
         {
          "group": "tech",
          "x": 1.0856588630184716,
          "y": -1.1639283985111768
         },
         {
          "group": "tech",
          "x": -1.2508618315700086,
          "y": 0.33176188605162693
         },
         {
          "group": "tech",
          "x": 1.5667077307486352,
          "y": 0.5037684262934238
         },
         {
          "group": "tech",
          "x": 1.6346909693498282,
          "y": 0.886859316454775
         },
         {
          "group": "tech",
          "x": 1.4623254724378667,
          "y": 0.6091463383726791
         },
         {
          "group": "tech",
          "x": 1.8723508134920095,
          "y": -0.18221415396094987
         },
         {
          "group": "tech",
          "x": 0.7529553496812894,
          "y": -0.8472439517564201
         },
         {
          "group": "tech",
          "x": 1.7384863084722746,
          "y": 1.8741475385150517
         },
         {
          "group": "tech",
          "x": 0.5488459241856473,
          "y": -0.7323634907947317
         },
         {
          "group": "tech",
          "x": -1.7005840336774642,
          "y": -1.2854912382358132
         },
         {
          "group": "tech",
          "x": -0.25090918450245125,
          "y": 0.22565234387869745
         },
         {
          "group": "tech",
          "x": 0.5049440813059434,
          "y": -0.2289377253076853
         },
         {
          "group": "tech",
          "x": 1.1497369116347098,
          "y": 0.058014417528632484
         },
         {
          "group": "tech",
          "x": -1.0163459802141563,
          "y": -0.4134631219535605
         },
         {
          "group": "tech",
          "x": 0.9654380294564988,
          "y": 0.4020259081660168
         },
         {
          "group": "tech",
          "x": 0.3591665982374926,
          "y": 0.0021373077935104407
         },
         {
          "group": "tech",
          "x": 0.5005543172419957,
          "y": 1.1723194933591337
         },
         {
          "group": "tech",
          "x": -3.2604930969951167,
          "y": -1.207654317738121
         },
         {
          "group": "tech",
          "x": -1.7874000239680097,
          "y": -0.6457845154727313
         },
         {
          "group": "tech",
          "x": 1.2977710282167287,
          "y": 2.198307524860511
         },
         {
          "group": "tech",
          "x": -0.4042318893090341,
          "y": -0.8696582646560044
         },
         {
          "group": "tech",
          "x": 0.5140761889357958,
          "y": 1.4715863352214917
         },
         {
          "group": "tech",
          "x": 0.734189432056762,
          "y": -0.9533979248053716
         },
         {
          "group": "tech",
          "x": 1.6102368491428893,
          "y": 0.9681477006300336
         },
         {
          "group": "tech",
          "x": 0.7994307651588757,
          "y": 0.6115921903625195
         },
         {
          "group": "tech",
          "x": -2.1682319880944534,
          "y": 1.4078694732140393
         },
         {
          "group": "tech",
          "x": 0.6569201628883925,
          "y": -1.0109483047522683
         },
         {
          "group": "tech",
          "x": 1.4663535079902763,
          "y": -0.088327939667016
         },
         {
          "group": "tech",
          "x": 0.7733506587574839,
          "y": -1.0120162553456689
         },
         {
          "group": "tech",
          "x": 1.5785682516991553,
          "y": 1.489006037882269
         },
         {
          "group": "tech",
          "x": -0.16816993980502037,
          "y": 1.2323394264834393
         },
         {
          "group": "tech",
          "x": 0.8700470240118903,
          "y": -0.8588258550072987
         },
         {
          "group": "tech",
          "x": -0.9377548807787086,
          "y": -0.3779456612977876
         },
         {
          "group": "tech",
          "x": 2.344656532162227,
          "y": -0.4163419331875921
         },
         {
          "group": "tech",
          "x": 0.15471618511924684,
          "y": -0.06638571157450252
         },
         {
          "group": "tech",
          "x": -0.22172300384926436,
          "y": -0.8707939010996484
         },
         {
          "group": "tech",
          "x": 1.7468698528400939,
          "y": 0.06814475548544127
         },
         {
          "group": "tech",
          "x": 0.09142866233216587,
          "y": -0.7267051264079655
         },
         {
          "group": "tech",
          "x": -2.0502840135540428,
          "y": -1.021521041703882
         },
         {
          "group": "tech",
          "x": 0.09973754774129451,
          "y": 0.12764099343745883
         },
         {
          "group": "tech",
          "x": -0.14513013867433086,
          "y": 0.8633398893185193
         },
         {
          "group": "tech",
          "x": -1.245602655683319,
          "y": 1.692143233266945
         },
         {
          "group": "tech",
          "x": -0.5022413520854049,
          "y": 0.39304820525498047
         },
         {
          "group": "tech",
          "x": 0.3228744393750523,
          "y": -0.5539685980864087
         },
         {
          "group": "tech",
          "x": -0.9827043248518691,
          "y": 0.831032151941319
         },
         {
          "group": "tech",
          "x": 0.0633914024217079,
          "y": 0.8304722728496563
         },
         {
          "group": "tech",
          "x": -0.6309924235535004,
          "y": 0.7278888729921472
         },
         {
          "group": "tech",
          "x": 1.0248114348822928,
          "y": 0.7661816872604595
         },
         {
          "group": "tech",
          "x": 1.0133477823445116,
          "y": -1.5675632081610296
         },
         {
          "group": "tech",
          "x": 2.9085933400987978,
          "y": -0.15584078379839067
         },
         {
          "group": "tech",
          "x": 1.59248137509072,
          "y": 1.0798953303981274
         },
         {
          "group": "tech",
          "x": 0.49662065516777726,
          "y": 1.5644945116563667
         },
         {
          "group": "tech",
          "x": 0.0490932511902692,
          "y": -0.3133381395341678
         },
         {
          "group": "tech",
          "x": 0.21170017681345227,
          "y": -0.6416456796962503
         },
         {
          "group": "tech",
          "x": 0.6820556416163464,
          "y": 0.9938470605615994
         },
         {
          "group": "tech",
          "x": 0.44831757210700274,
          "y": -1.2648829979146634
         },
         {
          "group": "tech",
          "x": -0.09206592306302565,
          "y": 0.6681548384733147
         },
         {
          "group": "tech",
          "x": -0.1948929208002977,
          "y": -1.2025560389547711
         },
         {
          "group": "tech",
          "x": 0.743986291225268,
          "y": 0.34932834987014283
         },
         {
          "group": "tech",
          "x": 0.580755986870999,
          "y": -0.05296877531895377
         },
         {
          "group": "tech",
          "x": -0.17316675791391628,
          "y": 1.227590917982233
         },
         {
          "group": "tech",
          "x": 1.9955662240883452,
          "y": 1.2981388545949848
         },
         {
          "group": "tech",
          "x": -1.3315281447784744,
          "y": 1.6843025658845343
         },
         {
          "group": "tech",
          "x": -0.738181335477694,
          "y": -1.8720035306389184
         },
         {
          "group": "tech",
          "x": -0.05383550014721354,
          "y": 0.8632399653788434
         },
         {
          "group": "tech",
          "x": 0.4200242475861835,
          "y": -2.6544802321206404
         },
         {
          "group": "tech",
          "x": 0.14712485683307555,
          "y": 1.9599517674216467
         },
         {
          "group": "tech",
          "x": -1.2739723431276972,
          "y": 0.5948134106681187
         },
         {
          "group": "tech",
          "x": 1.1157343843740413,
          "y": 0.5933226648081513
         },
         {
          "group": "tech",
          "x": 1.6095143499975362,
          "y": 0.21810497512339472
         },
         {
          "group": "tech",
          "x": -0.05408260084620195,
          "y": 1.1960604257042855
         },
         {
          "group": "tech",
          "x": 1.0283527010046551,
          "y": -1.1807849907648025
         },
         {
          "group": "tech",
          "x": 2.3688976667191555,
          "y": 0.5125961043174505
         },
         {
          "group": "tech",
          "x": 1.058736776647843,
          "y": 1.08255987652361
         },
         {
          "group": "tech",
          "x": -0.6677886027589688,
          "y": -0.6811368031693054
         },
         {
          "group": "tech",
          "x": 0.11423627989164528,
          "y": 0.6760407145004074
         },
         {
          "group": "tech",
          "x": 0.30724642558355447,
          "y": 1.0355715706318878
         },
         {
          "group": "tech",
          "x": 1.1054942891462547,
          "y": -0.5925711170990079
         },
         {
          "group": "tech",
          "x": 0.321170491257412,
          "y": -0.14517423738599267
         },
         {
          "group": "tech",
          "x": -0.5896078231245728,
          "y": 2.0249714522540905
         },
         {
          "group": "tech",
          "x": 2.5202685480348364,
          "y": 1.2232638215038114
         },
         {
          "group": "tech",
          "x": -0.6205068540243622,
          "y": 1.0442280121932173
         },
         {
          "group": "tech",
          "x": -0.08502714010972709,
          "y": -0.34294856931513945
         },
         {
          "group": "tech",
          "x": -1.558257124163276,
          "y": -1.385277040190622
         },
         {
          "group": "tech",
          "x": 0.8160074108264737,
          "y": -0.5291492796945866
         },
         {
          "group": "tech",
          "x": -0.7795300051196785,
          "y": -0.6245391379830635
         },
         {
          "group": "tech",
          "x": -0.25589470151768207,
          "y": -0.4010433669394465
         },
         {
          "group": "tech",
          "x": -0.7167943203754245,
          "y": 0.8235544370973108
         },
         {
          "group": "tech",
          "x": 0.009261372008532902,
          "y": -0.7693347428709812
         },
         {
          "group": "tech",
          "x": 2.7703486474483277,
          "y": -1.5840692433843173
         },
         {
          "group": "tech",
          "x": -0.2926278300065888,
          "y": 1.3823203520536467
         },
         {
          "group": "tech",
          "x": 0.9053366554034619,
          "y": -0.667971066470931
         },
         {
          "group": "tech",
          "x": -1.549722605806645,
          "y": -0.6952760201584806
         },
         {
          "group": "tech",
          "x": 0.5210217213678389,
          "y": 0.4883483864694727
         },
         {
          "group": "tech",
          "x": 2.32316291420753,
          "y": -1.2573130505788486
         },
         {
          "group": "tech",
          "x": -1.6324176041565541,
          "y": 0.5723317207171426
         },
         {
          "group": "tech",
          "x": -0.4037700707665025,
          "y": 1.5959239609370888
         },
         {
          "group": "tech",
          "x": -0.1538119194016032,
          "y": -1.7440126002591136
         },
         {
          "group": "tech",
          "x": -1.1189648269684909,
          "y": 0.188211643943759
         },
         {
          "group": "tech",
          "x": 0.8198938230209325,
          "y": 1.8018934901858104
         },
         {
          "group": "tech",
          "x": 1.4905344012606183,
          "y": 0.6950883384058748
         },
         {
          "group": "tech",
          "x": 0.1913035776272437,
          "y": -0.7364670264217624
         },
         {
          "group": "tech",
          "x": 1.4751642665588467,
          "y": -0.12981727448806968
         },
         {
          "group": "tech",
          "x": -2.2752094728631596,
          "y": 2.4890999469683406
         },
         {
          "group": "tech",
          "x": 2.7710266288273777,
          "y": 1.7004973408515425
         },
         {
          "group": "tech",
          "x": -0.9175468291659389,
          "y": -1.237802993311987
         },
         {
          "group": "tech",
          "x": 1.246346509584941,
          "y": 1.4336887174949051
         },
         {
          "group": "tech",
          "x": -1.3771807909242904,
          "y": -0.07635628708555328
         },
         {
          "group": "tech",
          "x": -1.3884684486307164,
          "y": 0.6402226991700002
         },
         {
          "group": "tech",
          "x": -0.9711475490142841,
          "y": 1.0720122639275285
         },
         {
          "group": "tech",
          "x": 1.43923889806998,
          "y": -1.4572153980578462
         },
         {
          "group": "tech",
          "x": 0.1164444181025769,
          "y": -0.03343150653712262
         },
         {
          "group": "tech",
          "x": 1.4526640422079102,
          "y": 1.6385991810927123
         },
         {
          "group": "tech",
          "x": -0.33102415998354257,
          "y": 0.06714592848090015
         },
         {
          "group": "tech",
          "x": 1.562410017509025,
          "y": -1.1736619197277636
         },
         {
          "group": "tech",
          "x": -0.6789071228586945,
          "y": -0.9253339813314221
         },
         {
          "group": "tech",
          "x": 0.9951688447965954,
          "y": -0.19985941618993408
         },
         {
          "group": "tech",
          "x": -0.34278060875541577,
          "y": -0.3835406809898558
         },
         {
          "group": "tech",
          "x": 0.5683977591109012,
          "y": -1.7466304236673913
         },
         {
          "group": "tech",
          "x": -0.20285637812732904,
          "y": -0.6901680704773567
         },
         {
          "group": "tech",
          "x": -0.6471759764136763,
          "y": -2.203135094019993
         },
         {
          "group": "tech",
          "x": -1.0780841956964162,
          "y": -1.5243907835328734
         },
         {
          "group": "tech",
          "x": 2.3426252960973013,
          "y": -2.464266307753093
         },
         {
          "group": "tech",
          "x": 0.9587050887656137,
          "y": 0.4047574758057454
         },
         {
          "group": "tech",
          "x": 2.4144131367027817,
          "y": 2.2602918368862963
         },
         {
          "group": "tech",
          "x": 0.5924447560780546,
          "y": 0.12446308756205335
         },
         {
          "group": "tech",
          "x": 2.8472119530960653,
          "y": -1.2703898695983382
         },
         {
          "group": "tech",
          "x": -0.1701068174177229,
          "y": -0.6349282752004088
         },
         {
          "group": "tech",
          "x": -0.08814130497633897,
          "y": 0.8457233726139852
         },
         {
          "group": "tech",
          "x": 1.3763096601088023,
          "y": 1.9676420824211938
         },
         {
          "group": "tech",
          "x": -0.11040469478927765,
          "y": 0.253893578900532
         },
         {
          "group": "tech",
          "x": 1.366757407239204,
          "y": -1.0669281559459871
         },
         {
          "group": "tech",
          "x": 1.0355848547830122,
          "y": 1.4721307866411468
         },
         {
          "group": "tech",
          "x": 0.2565593316283688,
          "y": 1.6861360321103411
         },
         {
          "group": "tech",
          "x": 0.16881482749373122,
          "y": 0.682744319475704
         },
         {
          "group": "tech",
          "x": 2.974233189404678,
          "y": 0.25423223365120007
         },
         {
          "group": "tech",
          "x": -0.25891642891562655,
          "y": -0.6608007150634391
         },
         {
          "group": "tech",
          "x": 0.21344324154194744,
          "y": 0.015212014654577765
         },
         {
          "group": "tech",
          "x": -0.7864881413117709,
          "y": 0.7270545925568045
         },
         {
          "group": "tech",
          "x": -1.7926976070019334,
          "y": 1.6837480010742407
         },
         {
          "group": "tech",
          "x": 0.3386951174295109,
          "y": -0.01878636337474571
         },
         {
          "group": "tech",
          "x": -0.49861460196255164,
          "y": -1.12502097293541
         },
         {
          "group": "tech",
          "x": 0.37923970863914164,
          "y": -0.2150205522439636
         },
         {
          "group": "tech",
          "x": -0.5427695799599314,
          "y": -0.9572529803227509
         },
         {
          "group": "tech",
          "x": 1.1910451506138646,
          "y": -0.5110492113729713
         },
         {
          "group": "tech",
          "x": -0.028886573239949417,
          "y": -1.0022857394867277
         },
         {
          "group": "tech",
          "x": -0.9578751271528879,
          "y": -0.40255496146479647
         },
         {
          "group": "tech",
          "x": 3.180154111401138,
          "y": -0.050128804679793755
         },
         {
          "group": "tech",
          "x": 0.7828752305760699,
          "y": -1.0574531100573121
         },
         {
          "group": "tech",
          "x": -1.0585485929803555,
          "y": 0.33568607464054867
         },
         {
          "group": "tech",
          "x": -0.6303758294954518,
          "y": 0.43914826206403323
         },
         {
          "group": "tech",
          "x": 1.1811826372374283,
          "y": 0.6604657556860013
         },
         {
          "group": "tech",
          "x": 1.5933392590699065,
          "y": -1.5361646108558646
         },
         {
          "group": "tech",
          "x": 0.5239730000012268,
          "y": -1.679901682388404
         },
         {
          "group": "tech",
          "x": -3.012878105127453,
          "y": -1.180989579007441
         },
         {
          "group": "tech",
          "x": 0.3182288110791829,
          "y": -1.4895519420984447
         },
         {
          "group": "tech",
          "x": -0.38643787205665014,
          "y": -0.8442016319745482
         },
         {
          "group": "tech",
          "x": -0.4796055730621848,
          "y": 1.5244983709986792
         },
         {
          "group": "tech",
          "x": 1.4922499962395392,
          "y": -0.3478269383915522
         },
         {
          "group": "tech",
          "x": 0.9437216761683555,
          "y": 0.8080541907035567
         },
         {
          "group": "tech",
          "x": -1.8456384088264144,
          "y": -0.32404302881823055
         },
         {
          "group": "tech",
          "x": -1.2177921666226557,
          "y": -0.8371110602072149
         },
         {
          "group": "tech",
          "x": -0.4639104636188368,
          "y": 0.9881934717504822
         },
         {
          "group": "tech",
          "x": 0.19210870666115237,
          "y": -0.9773739382192596
         },
         {
          "group": "tech",
          "x": 2.1623700217956157,
          "y": -0.28248134026825267
         },
         {
          "group": "tech",
          "x": -0.7885622603419938,
          "y": -0.8046256910268298
         },
         {
          "group": "tech",
          "x": 2.7221573255050426,
          "y": 0.27989185316431986
         },
         {
          "group": "tech",
          "x": 1.6052567431935696,
          "y": -1.1589377331854924
         },
         {
          "group": "tech",
          "x": 2.235960923819082,
          "y": -0.8541115696256865
         },
         {
          "group": "tech",
          "x": -1.337474698330916,
          "y": 1.0013899339490957
         },
         {
          "group": "tech",
          "x": 1.3261912442240902,
          "y": -1.2752031617499742
         },
         {
          "group": "tech",
          "x": -0.8407556436252313,
          "y": 0.7642064772745465
         },
         {
          "group": "tech",
          "x": -0.7478599795603167,
          "y": -1.2143567070946433
         },
         {
          "group": "tech",
          "x": -0.44867584543163086,
          "y": -3.226980316130923
         },
         {
          "group": "tech",
          "x": 1.322625153761424,
          "y": -0.7984113623279165
         },
         {
          "group": "tech",
          "x": 0.9091688676426952,
          "y": 0.13010981255919302
         },
         {
          "group": "tech",
          "x": 0.8276787105253396,
          "y": -0.02224391755906933
         },
         {
          "group": "tech",
          "x": 0.05962019717760927,
          "y": 0.6572726954135277
         },
         {
          "group": "tech",
          "x": -2.2642715758564025,
          "y": -1.2707839963555934
         },
         {
          "group": "tech",
          "x": 0.734477163432214,
          "y": 1.550705647509361
         },
         {
          "group": "tech",
          "x": -0.5557821576615017,
          "y": -1.5906622299153281
         },
         {
          "group": "tech",
          "x": -0.9247294347719912,
          "y": -0.18821184890996187
         },
         {
          "group": "tech",
          "x": -1.4105210477955297,
          "y": 0.297996573211568
         },
         {
          "group": "tech",
          "x": 1.3501864680904896,
          "y": 0.29534170599371257
         },
         {
          "group": "tech",
          "x": -0.13586731327447601,
          "y": -2.3247158863694573
         },
         {
          "group": "tech",
          "x": 1.1191842941820023,
          "y": 1.5708721054969577
         },
         {
          "group": "tech",
          "x": 0.36117231149121365,
          "y": 0.03539779727435723
         },
         {
          "group": "tech",
          "x": -1.1984316321195057,
          "y": 0.9098952729253336
         },
         {
          "group": "tech",
          "x": 1.1822762519367656,
          "y": -0.26133630145894926
         },
         {
          "group": "entertainment",
          "x": 1.7392559646610437,
          "y": 0.9064496584451509
         },
         {
          "group": "entertainment",
          "x": 1.3773274429066504,
          "y": 0.6196499445502718
         },
         {
          "group": "entertainment",
          "x": 0.244610065535537,
          "y": 1.5833133466216707
         },
         {
          "group": "entertainment",
          "x": -0.7662180904114859,
          "y": 0.4823874013562249
         },
         {
          "group": "entertainment",
          "x": 0.522931315679151,
          "y": 0.7490190167789468
         },
         {
          "group": "entertainment",
          "x": 1.4072619942055624,
          "y": 0.466650770977591
         },
         {
          "group": "entertainment",
          "x": -1.0733362723633624,
          "y": -0.757454087888473
         },
         {
          "group": "entertainment",
          "x": -0.7273483558828847,
          "y": 0.466390001127736
         },
         {
          "group": "entertainment",
          "x": 1.2095494295336138,
          "y": 0.14883970465090868
         },
         {
          "group": "entertainment",
          "x": -0.6519831256156573,
          "y": 0.2010549892540493
         },
         {
          "group": "entertainment",
          "x": 1.6421572328993297,
          "y": -0.051798517955642776
         },
         {
          "group": "entertainment",
          "x": -0.28580434470195104,
          "y": -0.41107827655979967
         },
         {
          "group": "entertainment",
          "x": 1.1405852417481446,
          "y": 1.0153380937079668
         },
         {
          "group": "entertainment",
          "x": 1.5791932473519639,
          "y": -0.9304691865707442
         },
         {
          "group": "entertainment",
          "x": 0.33152532958331743,
          "y": -0.5786990329370667
         },
         {
          "group": "entertainment",
          "x": -1.372493027529715,
          "y": -0.7598302876710844
         },
         {
          "group": "entertainment",
          "x": -0.211450165658282,
          "y": 1.1707000325877062
         },
         {
          "group": "entertainment",
          "x": 3.6761436165651724,
          "y": -1.2740075511312599
         },
         {
          "group": "entertainment",
          "x": 1.53467207409155,
          "y": 0.20938563879679345
         },
         {
          "group": "entertainment",
          "x": 0.0015339827230163334,
          "y": 0.13634535624728578
         },
         {
          "group": "entertainment",
          "x": 1.422584693378802,
          "y": 1.748048431742172
         },
         {
          "group": "entertainment",
          "x": -0.6215757672468245,
          "y": -1.403607999908629
         },
         {
          "group": "entertainment",
          "x": -0.2456250176395884,
          "y": 0.1150403790504257
         },
         {
          "group": "entertainment",
          "x": 0.6557114371379336,
          "y": -0.22930566823829254
         },
         {
          "group": "entertainment",
          "x": -0.6290322373881472,
          "y": 1.8888760549685515
         },
         {
          "group": "entertainment",
          "x": 1.3538299460097194,
          "y": -3.5360786322382083
         },
         {
          "group": "entertainment",
          "x": 0.3909617638135059,
          "y": -0.6295202530850571
         },
         {
          "group": "entertainment",
          "x": 1.8848368658863568,
          "y": 0.43399530493987903
         },
         {
          "group": "entertainment",
          "x": 2.016230355016776,
          "y": -0.8074172808675176
         },
         {
          "group": "entertainment",
          "x": -0.08111249884644488,
          "y": -0.8154379566754791
         },
         {
          "group": "entertainment",
          "x": -0.9281735372860911,
          "y": -0.499432316283728
         },
         {
          "group": "entertainment",
          "x": 0.7176207371418294,
          "y": -0.5093970783100242
         },
         {
          "group": "entertainment",
          "x": -0.02187402607276946,
          "y": -2.5157253199504814
         },
         {
          "group": "entertainment",
          "x": 0.6932612606111338,
          "y": 0.3114965643704023
         },
         {
          "group": "entertainment",
          "x": 0.3670490735295229,
          "y": -0.1995426102491412
         },
         {
          "group": "entertainment",
          "x": 2.066424690721078,
          "y": 0.17341801710239008
         },
         {
          "group": "entertainment",
          "x": -0.9176726106444261,
          "y": 0.06520299475729416
         },
         {
          "group": "entertainment",
          "x": -0.5334364292775952,
          "y": 0.4317470896882402
         },
         {
          "group": "entertainment",
          "x": 1.4725468778201938,
          "y": 1.5333768267913688
         },
         {
          "group": "entertainment",
          "x": -0.49344606983958667,
          "y": 0.49297129511701654
         },
         {
          "group": "entertainment",
          "x": 0.9551433832912068,
          "y": -1.5379390509067608
         },
         {
          "group": "entertainment",
          "x": -0.187633795644796,
          "y": -0.12371718064680372
         },
         {
          "group": "entertainment",
          "x": -0.6265719502472508,
          "y": -0.6514123157425279
         },
         {
          "group": "entertainment",
          "x": 0.7240484857803993,
          "y": -0.5332050667393007
         },
         {
          "group": "entertainment",
          "x": 1.1480574087915627,
          "y": -0.2276202648886387
         },
         {
          "group": "entertainment",
          "x": -1.5932094205920142,
          "y": 0.6844966023728905
         },
         {
          "group": "entertainment",
          "x": 0.6763460201856762,
          "y": -0.26052104833370315
         },
         {
          "group": "entertainment",
          "x": 1.3598198550646186,
          "y": 1.7287298815854342
         },
         {
          "group": "entertainment",
          "x": 1.317053656190679,
          "y": 0.04536881599705874
         },
         {
          "group": "entertainment",
          "x": 1.2013538291062928,
          "y": -0.16137026135523608
         },
         {
          "group": "entertainment",
          "x": 1.1448545612993026,
          "y": 0.3455981915549455
         },
         {
          "group": "entertainment",
          "x": -0.008931492938881989,
          "y": 0.12921201412119182
         },
         {
          "group": "entertainment",
          "x": 0.4033649598939325,
          "y": 0.31809356377162346
         },
         {
          "group": "entertainment",
          "x": 0.5158666991658108,
          "y": -0.1303760609129565
         },
         {
          "group": "entertainment",
          "x": 0.461988900464994,
          "y": -2.135084489042576
         },
         {
          "group": "entertainment",
          "x": -0.33899629078899923,
          "y": -0.7993614375856201
         },
         {
          "group": "entertainment",
          "x": 2.164677375359279,
          "y": -0.16101400219089895
         },
         {
          "group": "entertainment",
          "x": -0.415105842056502,
          "y": 0.4860369000040681
         },
         {
          "group": "entertainment",
          "x": 1.4280734493263298,
          "y": -0.4609899344846646
         },
         {
          "group": "entertainment",
          "x": -0.8120167718427506,
          "y": -1.1236495311779013
         },
         {
          "group": "entertainment",
          "x": -1.4699378664932943,
          "y": -0.08581756976531685
         },
         {
          "group": "entertainment",
          "x": -0.926194527229989,
          "y": 0.04901793559989576
         },
         {
          "group": "entertainment",
          "x": 0.30605822327377985,
          "y": 1.0092967357734415
         },
         {
          "group": "entertainment",
          "x": -1.2339679463018822,
          "y": 0.9155264034100301
         },
         {
          "group": "entertainment",
          "x": 1.6497986324590546,
          "y": -0.28137474289046605
         },
         {
          "group": "entertainment",
          "x": -1.1667145946193083,
          "y": 1.9251120493730673
         },
         {
          "group": "entertainment",
          "x": -0.6530259298946269,
          "y": 2.287615429167037
         },
         {
          "group": "entertainment",
          "x": 2.7221009119632247,
          "y": -0.026920416509997082
         },
         {
          "group": "entertainment",
          "x": -0.11208944901220545,
          "y": -1.5878489917297303
         },
         {
          "group": "entertainment",
          "x": -2.8672917087357526,
          "y": 0.03725276030302884
         },
         {
          "group": "entertainment",
          "x": -0.5391728534468183,
          "y": 2.5268120195839283
         },
         {
          "group": "entertainment",
          "x": 1.306092933019318,
          "y": 1.41237746265708
         },
         {
          "group": "entertainment",
          "x": -0.19761226388783434,
          "y": -0.671243089701583
         },
         {
          "group": "entertainment",
          "x": -0.13112244886208152,
          "y": 0.9854818454559634
         },
         {
          "group": "entertainment",
          "x": -1.5666191123820705,
          "y": 0.04435210396180273
         },
         {
          "group": "entertainment",
          "x": -0.5054384860982835,
          "y": -2.025260665003841
         },
         {
          "group": "entertainment",
          "x": 1.1572308077981655,
          "y": 0.06670131429849581
         },
         {
          "group": "entertainment",
          "x": -0.4097958520779101,
          "y": -2.0642258789021373
         },
         {
          "group": "entertainment",
          "x": 0.1723605803152988,
          "y": -0.014781754636947076
         },
         {
          "group": "entertainment",
          "x": 1.176342481742444,
          "y": -1.9091427598406625
         },
         {
          "group": "entertainment",
          "x": 1.2475147219943443,
          "y": -1.3801104830021
         },
         {
          "group": "entertainment",
          "x": 3.3288798273615665,
          "y": 1.218633842331503
         },
         {
          "group": "entertainment",
          "x": -0.08446298813895585,
          "y": -0.15468124957193244
         },
         {
          "group": "entertainment",
          "x": -0.5691737118404654,
          "y": -0.39102076412731723
         },
         {
          "group": "entertainment",
          "x": -0.5926333175017966,
          "y": -1.344598517404881
         },
         {
          "group": "entertainment",
          "x": 0.7244009708182944,
          "y": -0.21747396950689962
         },
         {
          "group": "entertainment",
          "x": 2.6260372554791536,
          "y": 1.7443878521036869
         },
         {
          "group": "entertainment",
          "x": -0.6023712969025842,
          "y": -0.7038675775106862
         },
         {
          "group": "entertainment",
          "x": -1.2647888836736576,
          "y": -0.545831017034163
         },
         {
          "group": "entertainment",
          "x": 0.05249566434976951,
          "y": -0.8072653463815163
         },
         {
          "group": "entertainment",
          "x": -0.581110308357011,
          "y": 0.008413420061570321
         },
         {
          "group": "entertainment",
          "x": -0.33702939818284616,
          "y": 2.4800098038252574
         },
         {
          "group": "entertainment",
          "x": 0.4222378815339105,
          "y": -0.1743393139857799
         },
         {
          "group": "entertainment",
          "x": 1.665036163935943,
          "y": 0.34234502570221786
         },
         {
          "group": "entertainment",
          "x": 0.8125391689741175,
          "y": 0.23858334915336477
         },
         {
          "group": "entertainment",
          "x": 0.1624505696882218,
          "y": 1.7483611769380083
         },
         {
          "group": "entertainment",
          "x": -0.8428150005702695,
          "y": 1.237352131577988
         },
         {
          "group": "entertainment",
          "x": -0.737781268837086,
          "y": -0.3013415593062518
         },
         {
          "group": "entertainment",
          "x": 0.7383315875127654,
          "y": -0.7995377261028072
         },
         {
          "group": "entertainment",
          "x": -1.5509097407604304,
          "y": 2.314923963377845
         },
         {
          "group": "entertainment",
          "x": 0.9207001357339234,
          "y": 1.825850984027752
         },
         {
          "group": "entertainment",
          "x": 0.1802058121870509,
          "y": 0.01886061374746386
         },
         {
          "group": "entertainment",
          "x": 0.8601387080907024,
          "y": -1.7261324105650329
         },
         {
          "group": "entertainment",
          "x": 0.3320471123772078,
          "y": 1.3898789955953854
         },
         {
          "group": "entertainment",
          "x": -0.7589311917858128,
          "y": 0.1550541997248488
         },
         {
          "group": "entertainment",
          "x": 0.23189194828556745,
          "y": 0.09655854307571997
         },
         {
          "group": "entertainment",
          "x": 0.6589329693339753,
          "y": 0.3052341258692971
         },
         {
          "group": "entertainment",
          "x": 0.17610905197084317,
          "y": 0.9338023470838679
         },
         {
          "group": "entertainment",
          "x": 0.9631618818441386,
          "y": 1.263805329939813
         },
         {
          "group": "entertainment",
          "x": 0.35840336002965656,
          "y": 0.3169630506490789
         },
         {
          "group": "entertainment",
          "x": 1.3751824511812991,
          "y": -0.14466663451803005
         },
         {
          "group": "entertainment",
          "x": -0.000667416222035932,
          "y": -0.01793052924766066
         },
         {
          "group": "entertainment",
          "x": -0.2156172178103506,
          "y": 0.7331991402547893
         },
         {
          "group": "entertainment",
          "x": -0.8700479653300346,
          "y": 0.2677151592797585
         },
         {
          "group": "entertainment",
          "x": -0.6224285799274452,
          "y": 2.2587845863267835
         },
         {
          "group": "entertainment",
          "x": 0.3938685676846694,
          "y": 0.3937403731214542
         },
         {
          "group": "entertainment",
          "x": 0.8895665206948524,
          "y": 0.2591948167075805
         },
         {
          "group": "entertainment",
          "x": -0.3108960089467853,
          "y": -0.22589386554312815
         },
         {
          "group": "entertainment",
          "x": 1.0016528216792564,
          "y": 0.8598878087550376
         },
         {
          "group": "entertainment",
          "x": 0.8088320260873442,
          "y": 0.8887449470130627
         },
         {
          "group": "entertainment",
          "x": 1.8919701223822971,
          "y": -0.00547859880336496
         },
         {
          "group": "entertainment",
          "x": 0.5403197035509437,
          "y": -0.1577716045029816
         },
         {
          "group": "entertainment",
          "x": -0.03252355715290368,
          "y": -0.571567780721139
         },
         {
          "group": "entertainment",
          "x": -1.1980753557952022,
          "y": -1.4394718550602705
         },
         {
          "group": "entertainment",
          "x": -0.021339133108184236,
          "y": 2.2973728507259215
         },
         {
          "group": "entertainment",
          "x": 1.1682714097625457,
          "y": 0.9533554847751731
         },
         {
          "group": "entertainment",
          "x": 0.4850082794764357,
          "y": 0.5769891086281487
         },
         {
          "group": "entertainment",
          "x": 0.9002900011254461,
          "y": 0.7177865728077586
         },
         {
          "group": "entertainment",
          "x": 0.26878667728014416,
          "y": -0.5298430554168424
         },
         {
          "group": "entertainment",
          "x": 0.5971060623922407,
          "y": 1.898173254796333
         },
         {
          "group": "entertainment",
          "x": 0.9774957555798083,
          "y": -0.3664236591987844
         },
         {
          "group": "entertainment",
          "x": 0.44597602682805226,
          "y": 1.2473585315698204
         },
         {
          "group": "entertainment",
          "x": 0.49441381575580423,
          "y": 1.0557846751390942
         },
         {
          "group": "entertainment",
          "x": 1.0867828337965477,
          "y": 0.42291713895419386
         },
         {
          "group": "entertainment",
          "x": 0.7049429474378252,
          "y": 0.421613101162404
         },
         {
          "group": "entertainment",
          "x": 0.6774525135415131,
          "y": -0.5134906208658222
         },
         {
          "group": "entertainment",
          "x": -0.01178290647401109,
          "y": 1.1261546768179374
         },
         {
          "group": "entertainment",
          "x": 0.46762343172407816,
          "y": -1.4481606404578828
         },
         {
          "group": "entertainment",
          "x": 1.462391572090366,
          "y": -1.4981511668478245
         },
         {
          "group": "entertainment",
          "x": -0.3309182954173553,
          "y": 1.1116732124083166
         },
         {
          "group": "entertainment",
          "x": -1.3498302243737053,
          "y": -0.5151571440304407
         },
         {
          "group": "entertainment",
          "x": 1.653618824592208,
          "y": -0.841379197406195
         },
         {
          "group": "entertainment",
          "x": 0.6740847809354706,
          "y": -0.6706304300395968
         },
         {
          "group": "entertainment",
          "x": 0.7798271279784681,
          "y": -0.6933214397553
         },
         {
          "group": "entertainment",
          "x": 1.4853003347669829,
          "y": -0.5333665577489937
         },
         {
          "group": "entertainment",
          "x": 0.2428496524473343,
          "y": -0.30237175015996237
         },
         {
          "group": "entertainment",
          "x": -1.391353404722205,
          "y": 1.7320077815475077
         },
         {
          "group": "entertainment",
          "x": -0.10364637525642754,
          "y": -0.7048522626271898
         },
         {
          "group": "entertainment",
          "x": -1.5145458884475094,
          "y": 1.2491457066393976
         },
         {
          "group": "entertainment",
          "x": -1.1253689381114962,
          "y": -0.48876506237793516
         },
         {
          "group": "entertainment",
          "x": 0.19212268182284825,
          "y": -2.227267946917749
         },
         {
          "group": "entertainment",
          "x": 1.3466673073315225,
          "y": -0.45814703966896314
         },
         {
          "group": "entertainment",
          "x": -0.17962299644736893,
          "y": -0.9741531745826301
         },
         {
          "group": "entertainment",
          "x": 0.18021683932666344,
          "y": 0.7740642025655602
         },
         {
          "group": "entertainment",
          "x": -0.425056854405835,
          "y": 0.3047914254061425
         },
         {
          "group": "entertainment",
          "x": -0.6056663340156068,
          "y": -1.0138245968130772
         },
         {
          "group": "entertainment",
          "x": 0.8368227967096888,
          "y": 0.15998702544464713
         },
         {
          "group": "entertainment",
          "x": -0.9299779578344205,
          "y": -0.31140896340005525
         },
         {
          "group": "entertainment",
          "x": 0.8305921600229903,
          "y": 0.9638226147090885
         },
         {
          "group": "entertainment",
          "x": 0.02244344776030156,
          "y": 0.27052140601218355
         },
         {
          "group": "entertainment",
          "x": -0.371627926486945,
          "y": 1.1266660501401067
         },
         {
          "group": "entertainment",
          "x": 0.6660780776451223,
          "y": 0.4461992274924677
         },
         {
          "group": "entertainment",
          "x": 0.9655917304875307,
          "y": -1.6905890437208355
         },
         {
          "group": "entertainment",
          "x": 2.3192204455943344,
          "y": -0.36944836897570815
         },
         {
          "group": "entertainment",
          "x": 2.018742360709612,
          "y": 0.010849453803749052
         },
         {
          "group": "entertainment",
          "x": 1.025180296254966,
          "y": -0.49849969159711355
         },
         {
          "group": "entertainment",
          "x": -1.1931475280747985,
          "y": 0.2694233681573066
         },
         {
          "group": "entertainment",
          "x": 1.2189570566561767,
          "y": 0.7101293394795448
         },
         {
          "group": "entertainment",
          "x": 0.6478169060143298,
          "y": 0.5101498089589422
         },
         {
          "group": "entertainment",
          "x": -2.909050098978735,
          "y": 1.3601227218435186
         },
         {
          "group": "entertainment",
          "x": -0.1472498383210418,
          "y": 1.7569001455477766
         },
         {
          "group": "entertainment",
          "x": -0.09481703717476717,
          "y": -1.0692568193477565
         },
         {
          "group": "entertainment",
          "x": -0.22249114008562643,
          "y": 0.9514643867375245
         },
         {
          "group": "entertainment",
          "x": -0.0032315819485701624,
          "y": -1.7573074647696998
         },
         {
          "group": "entertainment",
          "x": 0.2964624669443047,
          "y": -3.2819698760928273
         },
         {
          "group": "entertainment",
          "x": -0.9260379420131654,
          "y": -2.12116461682586
         },
         {
          "group": "entertainment",
          "x": -1.6706296608467603,
          "y": -2.2981130714521414
         },
         {
          "group": "entertainment",
          "x": -0.20503589856344434,
          "y": 0.6063993770330186
         },
         {
          "group": "entertainment",
          "x": 2.222182055261738,
          "y": -0.6422926995952706
         },
         {
          "group": "entertainment",
          "x": -2.3181000370059226,
          "y": -0.5118117793785385
         },
         {
          "group": "entertainment",
          "x": 0.5014333296539575,
          "y": -0.6485672862941192
         },
         {
          "group": "entertainment",
          "x": -2.8630109023309487,
          "y": -0.46959481879811416
         },
         {
          "group": "entertainment",
          "x": -0.5528859442889461,
          "y": -0.4248396820721313
         },
         {
          "group": "entertainment",
          "x": 1.8163874087759477,
          "y": -0.09273922508728345
         },
         {
          "group": "entertainment",
          "x": 1.4698062387517974,
          "y": -0.6157334618030306
         },
         {
          "group": "entertainment",
          "x": 0.052058689471370274,
          "y": 0.5421395922320834
         },
         {
          "group": "entertainment",
          "x": -0.9820856593065473,
          "y": -0.09639325564002894
         },
         {
          "group": "entertainment",
          "x": -0.7178697299453949,
          "y": 0.1067294146159606
         },
         {
          "group": "entertainment",
          "x": 0.8329575057359299,
          "y": 0.2094004335964914
         },
         {
          "group": "entertainment",
          "x": -0.13863519879261382,
          "y": -1.4718767209416042
         },
         {
          "group": "entertainment",
          "x": 1.694210587484395,
          "y": -0.3375948292120555
         },
         {
          "group": "entertainment",
          "x": -0.5609789800510088,
          "y": 0.43206291530123575
         },
         {
          "group": "entertainment",
          "x": 0.051883734896343965,
          "y": 0.13833403450181447
         },
         {
          "group": "entertainment",
          "x": 0.15886980046066188,
          "y": -0.6823356442358197
         },
         {
          "group": "entertainment",
          "x": -0.1474486405599752,
          "y": 1.7810596670515149
         },
         {
          "group": "entertainment",
          "x": -1.1494912541168825,
          "y": -0.1320143606241467
         },
         {
          "group": "entertainment",
          "x": 3.255903478124285,
          "y": 0.0380191220297336
         },
         {
          "group": "entertainment",
          "x": 1.1017431987611075,
          "y": 0.8092235149467695
         },
         {
          "group": "entertainment",
          "x": 3.2720594850123557,
          "y": 1.7970829699736564
         },
         {
          "group": "entertainment",
          "x": -0.31628432113887583,
          "y": 2.0783090378667577
         },
         {
          "group": "entertainment",
          "x": 1.9582093489756667,
          "y": -0.673117029768024
         },
         {
          "group": "entertainment",
          "x": 2.219022676647977,
          "y": 0.53404907120969
         },
         {
          "group": "entertainment",
          "x": 0.05971161604206847,
          "y": 0.3836548047399531
         },
         {
          "group": "entertainment",
          "x": 1.0193437499003977,
          "y": 0.8486883759662169
         },
         {
          "group": "entertainment",
          "x": -0.504581663055284,
          "y": 0.06287937778701547
         },
         {
          "group": "entertainment",
          "x": 0.8886379708833245,
          "y": 0.23766022710406573
         },
         {
          "group": "entertainment",
          "x": 1.757966081485247,
          "y": 0.7651079618146388
         },
         {
          "group": "entertainment",
          "x": 0.5400742106133039,
          "y": -0.6444948569371535
         },
         {
          "group": "entertainment",
          "x": 1.091914115397246,
          "y": -1.2986212731869404
         },
         {
          "group": "entertainment",
          "x": -1.2720932701238823,
          "y": -0.19209445209449538
         },
         {
          "group": "entertainment",
          "x": -1.308613430613108,
          "y": -1.267489915990184
         },
         {
          "group": "entertainment",
          "x": -0.10984163499924604,
          "y": -0.5945706607875227
         },
         {
          "group": "entertainment",
          "x": 1.1365217269867574,
          "y": -0.08694646543453494
         },
         {
          "group": "entertainment",
          "x": 1.2770272067861723,
          "y": 0.7918604969720275
         },
         {
          "group": "entertainment",
          "x": -0.645533860035127,
          "y": 0.8869795234275965
         },
         {
          "group": "entertainment",
          "x": -0.526537884711689,
          "y": -1.2443758715264048
         },
         {
          "group": "entertainment",
          "x": 3.4209583130123717,
          "y": 1.0209097573151038
         },
         {
          "group": "entertainment",
          "x": -1.1677060819408458,
          "y": 2.1214794646878823
         },
         {
          "group": "entertainment",
          "x": 1.4273124070958125,
          "y": -1.3860919654640813
         },
         {
          "group": "entertainment",
          "x": -1.2552651049407741,
          "y": 0.302519954612837
         },
         {
          "group": "entertainment",
          "x": -0.8754484331449505,
          "y": 1.4858094510776503
         },
         {
          "group": "entertainment",
          "x": -0.3461180169290639,
          "y": -0.7629529613900167
         },
         {
          "group": "entertainment",
          "x": -0.14202393801453486,
          "y": 0.37354269381475386
         },
         {
          "group": "entertainment",
          "x": -1.0505650788427654,
          "y": 0.5399798202770446
         },
         {
          "group": "entertainment",
          "x": -0.24817378985215882,
          "y": 1.1194556148552461
         },
         {
          "group": "entertainment",
          "x": 0.707431988262037,
          "y": 1.5405349152412264
         },
         {
          "group": "entertainment",
          "x": 1.8469681181737685,
          "y": -0.44066196438304145
         },
         {
          "group": "entertainment",
          "x": 1.6452831278423803,
          "y": 1.232468794314392
         },
         {
          "group": "entertainment",
          "x": -1.4824560349978622,
          "y": 0.9126304319884947
         },
         {
          "group": "entertainment",
          "x": 1.0587699163047744,
          "y": -2.161332091115218
         },
         {
          "group": "entertainment",
          "x": 0.5040289441682064,
          "y": -0.22572165526853988
         },
         {
          "group": "entertainment",
          "x": -1.0134192924180114,
          "y": 0.9636074656142006
         },
         {
          "group": "entertainment",
          "x": 2.1495381079916323,
          "y": -0.2915407432445864
         },
         {
          "group": "entertainment",
          "x": 0.6650282420093824,
          "y": 0.07236405041033522
         },
         {
          "group": "entertainment",
          "x": 0.44987336568966296,
          "y": 0.42366948107505603
         },
         {
          "group": "entertainment",
          "x": 0.3505289885259086,
          "y": -0.9468637833750607
         },
         {
          "group": "entertainment",
          "x": 0.2391041705293832,
          "y": 1.049697082089595
         },
         {
          "group": "entertainment",
          "x": 1.5462916639738307,
          "y": -0.25111797784202156
         },
         {
          "group": "entertainment",
          "x": 0.9722651443202351,
          "y": -1.3872541300515917
         },
         {
          "group": "entertainment",
          "x": -0.6439227660405411,
          "y": -2.356753039166828
         },
         {
          "group": "entertainment",
          "x": 0.7707080021087404,
          "y": 2.842950122740913
         },
         {
          "group": "entertainment",
          "x": -0.22761493256614426,
          "y": -2.0588241130250826
         },
         {
          "group": "entertainment",
          "x": 0.016239346562191205,
          "y": 0.24072209004297554
         },
         {
          "group": "entertainment",
          "x": -0.1252169667033762,
          "y": -0.6413594262236899
         },
         {
          "group": "entertainment",
          "x": 1.1950488910831334,
          "y": 1.621400726245999
         },
         {
          "group": "entertainment",
          "x": -0.7790282842603903,
          "y": -0.9699926526678216
         },
         {
          "group": "entertainment",
          "x": 0.7904359767466942,
          "y": 0.48682952253259004
         },
         {
          "group": "entertainment",
          "x": 0.08033091681472394,
          "y": 0.5664620867652859
         },
         {
          "group": "entertainment",
          "x": -1.2744260424677838,
          "y": 0.9645161247839572
         },
         {
          "group": "entertainment",
          "x": 0.8358316442807013,
          "y": 1.1403529031239497
         },
         {
          "group": "entertainment",
          "x": 0.5936474175637136,
          "y": 0.9110627964796608
         },
         {
          "group": "entertainment",
          "x": 2.5644725624233655,
          "y": -0.6135185633381454
         },
         {
          "group": "entertainment",
          "x": -0.4264748748414122,
          "y": 2.6568110271628265
         },
         {
          "group": "entertainment",
          "x": 1.6300246075114857,
          "y": 0.43475265958988757
         },
         {
          "group": "entertainment",
          "x": -0.06895379525479585,
          "y": 0.5558113622510089
         },
         {
          "group": "entertainment",
          "x": 2.186572761119421,
          "y": -1.602824546799666
         },
         {
          "group": "entertainment",
          "x": 0.40607165371212656,
          "y": 1.3114684042589808
         },
         {
          "group": "entertainment",
          "x": -0.19389165731670657,
          "y": -1.508412980585895
         },
         {
          "group": "entertainment",
          "x": -3.597276169584128,
          "y": 2.5906205979081207
         },
         {
          "group": "entertainment",
          "x": -0.21218185110291074,
          "y": 0.0028928049758511283
         },
         {
          "group": "entertainment",
          "x": 1.286518867353648,
          "y": -2.348842286431444
         },
         {
          "group": "entertainment",
          "x": -0.7680703013873966,
          "y": -0.9715055921837309
         },
         {
          "group": "entertainment",
          "x": 1.4475450420516103,
          "y": -2.1795042890475806
         },
         {
          "group": "entertainment",
          "x": 1.9585322240077219,
          "y": 1.6037586604224428
         },
         {
          "group": "entertainment",
          "x": 1.5564517165371061,
          "y": -0.9910276156944139
         },
         {
          "group": "entertainment",
          "x": -0.5924876127869777,
          "y": 1.5415083207181468
         },
         {
          "group": "entertainment",
          "x": 1.0750062510444642,
          "y": -0.34953021835858983
         },
         {
          "group": "entertainment",
          "x": -0.7450308309590115,
          "y": -0.9805877744385832
         },
         {
          "group": "entertainment",
          "x": -0.3047288073311065,
          "y": -0.9072786371174215
         },
         {
          "group": "entertainment",
          "x": -0.24514012984848277,
          "y": 1.304333362714024
         },
         {
          "group": "entertainment",
          "x": 2.7040825120346588,
          "y": -0.12708895425074418
         },
         {
          "group": "entertainment",
          "x": -1.5341272074678438,
          "y": 2.2992111818504997
         },
         {
          "group": "entertainment",
          "x": 2.506392851950096,
          "y": -0.4233082015654529
         },
         {
          "group": "entertainment",
          "x": -0.7081284853896612,
          "y": 0.876960383906182
         },
         {
          "group": "entertainment",
          "x": 0.9862693116182731,
          "y": -1.420474547367139
         },
         {
          "group": "entertainment",
          "x": -0.5471420550307025,
          "y": -0.6645857388753
         },
         {
          "group": "entertainment",
          "x": -0.5776313146200373,
          "y": -0.8965420605366818
         },
         {
          "group": "entertainment",
          "x": -0.8340621771240281,
          "y": 0.9961408472456799
         },
         {
          "group": "entertainment",
          "x": 2.125620793235489,
          "y": -0.512602588043545
         },
         {
          "group": "entertainment",
          "x": 0.40110731195956095,
          "y": -2.6718206025195443
         },
         {
          "group": "entertainment",
          "x": -0.6897167036441337,
          "y": -1.1080611117489472
         },
         {
          "group": "entertainment",
          "x": 0.0710058417850415,
          "y": -1.0530407054405886
         },
         {
          "group": "entertainment",
          "x": 0.3402557178702868,
          "y": -1.3516056647699062
         },
         {
          "group": "entertainment",
          "x": -0.4834922395461143,
          "y": -1.1881733298594355
         },
         {
          "group": "entertainment",
          "x": 2.3219128496792494,
          "y": -0.6904565799296515
         },
         {
          "group": "entertainment",
          "x": -1.1607435682757723,
          "y": 0.1495948310098516
         },
         {
          "group": "entertainment",
          "x": 0.8086401833342108,
          "y": -1.699652059141435
         },
         {
          "group": "entertainment",
          "x": -0.12709946045672796,
          "y": 0.9751678327382314
         },
         {
          "group": "entertainment",
          "x": 1.5962442993581756,
          "y": 0.017135757671735245
         },
         {
          "group": "entertainment",
          "x": 0.36273067313389706,
          "y": -0.49609595761735736
         },
         {
          "group": "entertainment",
          "x": -0.4255631241023409,
          "y": -0.4038501187939919
         },
         {
          "group": "entertainment",
          "x": 1.4551528697794776,
          "y": -0.5391029814865401
         },
         {
          "group": "entertainment",
          "x": 1.9050665076614617,
          "y": -0.050966315123391365
         },
         {
          "group": "entertainment",
          "x": -0.6481872778137275,
          "y": -0.7875397061647331
         },
         {
          "group": "entertainment",
          "x": 1.1396237594547665,
          "y": -0.395323568499545
         },
         {
          "group": "entertainment",
          "x": 0.547511887209158,
          "y": -0.08803198620296991
         },
         {
          "group": "entertainment",
          "x": 0.46616193409198703,
          "y": -0.43895876352204954
         },
         {
          "group": "entertainment",
          "x": 0.8719263839233775,
          "y": 0.4478911090095412
         },
         {
          "group": "entertainment",
          "x": -1.4629260057303421,
          "y": -0.9401416944192645
         },
         {
          "group": "entertainment",
          "x": -0.09170098995631111,
          "y": -0.825252644890945
         },
         {
          "group": "entertainment",
          "x": 0.529764495058447,
          "y": -0.8131054922591539
         },
         {
          "group": "entertainment",
          "x": -1.1214828664297385,
          "y": -0.8260112288865259
         },
         {
          "group": "entertainment",
          "x": 0.622404722216176,
          "y": -1.5287428988430833
         },
         {
          "group": "entertainment",
          "x": -0.2940259193369743,
          "y": -0.8310864668320175
         },
         {
          "group": "entertainment",
          "x": 1.0844320083315853,
          "y": 0.48872914339261936
         },
         {
          "group": "entertainment",
          "x": 1.301922363092785,
          "y": -2.404032349260424
         },
         {
          "group": "entertainment",
          "x": 3.0321129354319547,
          "y": 1.371977103197076
         },
         {
          "group": "entertainment",
          "x": -1.08531338404546,
          "y": -0.3872972247659313
         },
         {
          "group": "entertainment",
          "x": 1.1774583921204773,
          "y": 0.9318473814506446
         },
         {
          "group": "entertainment",
          "x": 1.2585966422022064,
          "y": -0.36880544270101306
         },
         {
          "group": "entertainment",
          "x": -1.8147489049298606,
          "y": 0.13877162839009546
         },
         {
          "group": "entertainment",
          "x": -1.169351280971515,
          "y": 0.9379091548438953
         },
         {
          "group": "entertainment",
          "x": -0.24661842505926151,
          "y": 1.1764630551808803
         },
         {
          "group": "entertainment",
          "x": 2.6740143012336266,
          "y": -0.32699947506385396
         },
         {
          "group": "entertainment",
          "x": -1.2106506335151679,
          "y": -0.7806788730722654
         },
         {
          "group": "entertainment",
          "x": 2.179629810038666,
          "y": -1.0834894136889737
         },
         {
          "group": "entertainment",
          "x": 1.4857283765243805,
          "y": -0.40395793115159545
         },
         {
          "group": "entertainment",
          "x": 1.024143536273935,
          "y": 0.31140453619317277
         },
         {
          "group": "entertainment",
          "x": 0.15405497383690595,
          "y": -0.20757100978970425
         },
         {
          "group": "entertainment",
          "x": -0.4510262873964465,
          "y": 0.9557448388070192
         },
         {
          "group": "entertainment",
          "x": 2.068220822171128,
          "y": 0.836107360075877
         },
         {
          "group": "entertainment",
          "x": -1.0320612502228346,
          "y": -0.9684720426560595
         },
         {
          "group": "entertainment",
          "x": -0.555989337797706,
          "y": 0.43106297420665024
         },
         {
          "group": "entertainment",
          "x": 2.3252019823574175,
          "y": 2.582646160926882
         },
         {
          "group": "entertainment",
          "x": 0.37409093460527393,
          "y": -2.3133787155370844
         },
         {
          "group": "entertainment",
          "x": 1.393431927475992,
          "y": -0.947862037491742
         },
         {
          "group": "entertainment",
          "x": -0.6277058728968417,
          "y": 0.10571559697872411
         },
         {
          "group": "entertainment",
          "x": 0.7835147750205539,
          "y": 0.1192535540336989
         },
         {
          "group": "entertainment",
          "x": 0.8451636404979102,
          "y": 1.2053678263525303
         },
         {
          "group": "entertainment",
          "x": -0.08132696269488592,
          "y": -2.2331162287530604
         },
         {
          "group": "entertainment",
          "x": -1.475706253124031,
          "y": -1.3330470820661107
         },
         {
          "group": "entertainment",
          "x": 2.054967353545302,
          "y": 0.811964366654582
         },
         {
          "group": "entertainment",
          "x": 0.15982650772592,
          "y": 0.627819861994502
         },
         {
          "group": "entertainment",
          "x": 0.9696365385641956,
          "y": 0.9848392296404835
         },
         {
          "group": "entertainment",
          "x": -0.344161767728061,
          "y": -2.229139375769703
         },
         {
          "group": "entertainment",
          "x": 0.7551403050680231,
          "y": -0.5995000121517065
         },
         {
          "group": "entertainment",
          "x": 0.7696475896681216,
          "y": 0.5689770726076466
         },
         {
          "group": "entertainment",
          "x": -0.7274856601860133,
          "y": 1.3170711576058312
         },
         {
          "group": "entertainment",
          "x": 0.6071418238933091,
          "y": -0.42339942795975216
         },
         {
          "group": "entertainment",
          "x": 0.5344814308520548,
          "y": -1.411664152894658
         },
         {
          "group": "entertainment",
          "x": 1.762924309489266,
          "y": -0.8730081281074284
         },
         {
          "group": "entertainment",
          "x": -0.21075766913332047,
          "y": -2.455891059154618
         },
         {
          "group": "entertainment",
          "x": 0.5836414835284373,
          "y": -0.8687640520229858
         },
         {
          "group": "entertainment",
          "x": 0.9434928944466425,
          "y": 0.4431076898468773
         },
         {
          "group": "entertainment",
          "x": 0.7788085390277979,
          "y": 1.3671956370669047
         },
         {
          "group": "entertainment",
          "x": 1.9808795814650313,
          "y": -1.2586449833769222
         },
         {
          "group": "entertainment",
          "x": 0.5632508997221816,
          "y": -0.4533442938002441
         },
         {
          "group": "entertainment",
          "x": 0.6947289670316074,
          "y": 0.06482399686395982
         },
         {
          "group": "entertainment",
          "x": 0.16701207956419162,
          "y": -1.0744309333629258
         },
         {
          "group": "entertainment",
          "x": -1.783593555719715,
          "y": -0.9708412036311433
         },
         {
          "group": "entertainment",
          "x": -1.0388898090453613,
          "y": -2.182114987891592
         },
         {
          "group": "entertainment",
          "x": -0.3666636847686822,
          "y": 1.192729545903447
         },
         {
          "group": "entertainment",
          "x": 1.021813824194687,
          "y": 1.0196573479570523
         },
         {
          "group": "entertainment",
          "x": -0.5559809295915581,
          "y": 1.542433277342112
         },
         {
          "group": "entertainment",
          "x": -2.508088715930375,
          "y": -0.6998131519711888
         },
         {
          "group": "entertainment",
          "x": 0.009278074775693047,
          "y": -0.10426058823202797
         },
         {
          "group": "entertainment",
          "x": 1.8562198212105017,
          "y": 1.3159949587292854
         },
         {
          "group": "entertainment",
          "x": -1.8023196525449094,
          "y": 0.20224044613642572
         },
         {
          "group": "entertainment",
          "x": 0.049747033746333574,
          "y": 0.005155317613847537
         },
         {
          "group": "entertainment",
          "x": 0.4574366745669457,
          "y": 2.2606331013103698
         },
         {
          "group": "entertainment",
          "x": 2.000319915627275,
          "y": -0.10411875318039741
         },
         {
          "group": "entertainment",
          "x": -0.10004832938368653,
          "y": 0.8318282394751507
         },
         {
          "group": "entertainment",
          "x": 0.7973032600996643,
          "y": -0.23272487220630517
         },
         {
          "group": "entertainment",
          "x": 0.24442527999206282,
          "y": 1.8184750833663865
         },
         {
          "group": "entertainment",
          "x": 0.9647043691494132,
          "y": -0.14689581966847043
         },
         {
          "group": "entertainment",
          "x": -1.6541949635941688,
          "y": -0.9049734721938035
         },
         {
          "group": "entertainment",
          "x": -0.5960131508469033,
          "y": -2.1701620575183798
         },
         {
          "group": "entertainment",
          "x": 1.273964477402511,
          "y": -0.2398195808523907
         },
         {
          "group": "entertainment",
          "x": -1.6396237311540967,
          "y": 2.0040305871538635
         },
         {
          "group": "entertainment",
          "x": -0.6331831190809941,
          "y": -0.5694271653428187
         },
         {
          "group": "entertainment",
          "x": 0.20063209626117476,
          "y": -0.6751131819991022
         },
         {
          "group": "entertainment",
          "x": -0.9830718266799807,
          "y": 0.13890144268305876
         },
         {
          "group": "entertainment",
          "x": 0.7515910406610508,
          "y": 0.5703001190756893
         },
         {
          "group": "entertainment",
          "x": 1.3367881464044777,
          "y": -1.5481230375379866
         },
         {
          "group": "entertainment",
          "x": 1.1589232107191243,
          "y": 2.0617545976306406
         },
         {
          "group": "entertainment",
          "x": 0.5266894460978034,
          "y": -0.9015621185977305
         },
         {
          "group": "entertainment",
          "x": 1.0202985674264735,
          "y": -0.6553763159401179
         },
         {
          "group": "entertainment",
          "x": 0.5349461320939829,
          "y": 0.1495858677645938
         },
         {
          "group": "entertainment",
          "x": 1.7459997544925765,
          "y": -0.9539738851761064
         },
         {
          "group": "entertainment",
          "x": -0.18239377316607822,
          "y": 1.6121267373160408
         },
         {
          "group": "entertainment",
          "x": 0.5509211995606339,
          "y": -1.5898952171383935
         },
         {
          "group": "entertainment",
          "x": 2.4197127722188623,
          "y": 1.1163359517643974
         },
         {
          "group": "entertainment",
          "x": 2.553499800610597,
          "y": -1.0414867670261474
         },
         {
          "group": "entertainment",
          "x": 0.4249294710903764,
          "y": -0.6653981708058271
         },
         {
          "group": "entertainment",
          "x": -1.988044128756795,
          "y": 1.8963650974191528
         },
         {
          "group": "entertainment",
          "x": 0.39722249398448256,
          "y": 0.9974309438997564
         }
        ]
       },
       "encoding": {
        "color": {
         "field": "group",
         "type": "nominal"
        },
        "x": {
         "field": "x",
         "type": "quantitative"
        },
        "y": {
         "field": "y",
         "type": "quantitative"
        }
       },
       "mark": "point"
      },
      "image/png": "[encoded data removed]",
      "text/plain": [
       "<VegaLite 2 object>\n",
       "\n",
       "If you see this message, it means the renderer has not been properly enabled\n",
       "for the frontend that you are using. For more information, see\n",
       "https://altair-viz.github.io/user_guide/troubleshooting.html\n"
      ]
     },
     "execution_count": 23,
     "metadata": {},
     "output_type": "execute_result"
    }
   ],
   "source": [
    "pca = PCA(n_components=2)\n",
    "\n",
    "reduced_dims = pca.fit_transform(model.paragraph_matrix.data)\n",
    "\n",
    "dx = pd.DataFrame(reduced_dims, columns=[\"x\", \"y\"])\n",
    "dx[\"group\"] = df.group.to_numpy()\n",
    "\n",
    "alt.Chart(dx).mark_point().encode(x=\"x\", y=\"y\", color=\"group\")"
   ]
  },
  {
   "cell_type": "markdown",
   "metadata": {},
   "source": [
    "These results aren't great, but we can see the beginnings of separation. If we look at just business and politics it becomes more obvious."
   ]
  },
  {
   "cell_type": "code",
   "execution_count": 33,
   "metadata": {},
   "outputs": [
    {
     "data": {
      "application/vnd.vegalite.v2+json": {
       "$schema": "https://vega.github.io/schema/vega-lite/v2.6.0.json",
       "config": {
        "view": {
         "height": 300,
         "width": 400
        }
       },
       "data": {
        "name": "data-114efe3df94146d998b9ec77875e2d45"
       },
       "datasets": {
        "data-114efe3df94146d998b9ec77875e2d45": [
         {
          "group": "business",
          "x": -1.7967587084787222,
          "y": -1.7930201601136255
         },
         {
          "group": "business",
          "x": -0.29187468210266393,
          "y": 0.999202803044547
         },
         {
          "group": "business",
          "x": -0.5368165295576004,
          "y": -0.0988318747871831
         },
         {
          "group": "business",
          "x": -1.2223804176596447,
          "y": 0.028430293193808177
         },
         {
          "group": "business",
          "x": -0.7298104677600238,
          "y": -0.10872434555881547
         },
         {
          "group": "business",
          "x": -1.1468670692572875,
          "y": -1.4433340336426963
         },
         {
          "group": "business",
          "x": -1.1925478248792736,
          "y": -0.37873625702942304
         },
         {
          "group": "business",
          "x": 0.5757465527057766,
          "y": 0.1999165208721079
         },
         {
          "group": "business",
          "x": -0.4005740857556262,
          "y": -0.3557146560156288
         },
         {
          "group": "business",
          "x": -0.6472792811073111,
          "y": -1.6186754727524366
         },
         {
          "group": "business",
          "x": -0.0057024492369087245,
          "y": -0.2800220471710391
         },
         {
          "group": "business",
          "x": -7.331002061617434e-05,
          "y": 0.5717121304225588
         },
         {
          "group": "business",
          "x": -0.019319736271508698,
          "y": 0.8630630224326141
         },
         {
          "group": "business",
          "x": -0.8675859429348832,
          "y": 0.12221733721869045
         },
         {
          "group": "business",
          "x": -2.032142251565847,
          "y": -0.8226495122836852
         },
         {
          "group": "business",
          "x": -0.06319869548712358,
          "y": -1.2321306514342756
         },
         {
          "group": "business",
          "x": -0.08471963163118275,
          "y": -0.6040820895048266
         },
         {
          "group": "business",
          "x": -0.19556536645528821,
          "y": 0.3874210588694647
         },
         {
          "group": "business",
          "x": 0.14065682387249037,
          "y": 0.6649580215825075
         },
         {
          "group": "business",
          "x": 0.01012471253959268,
          "y": 0.9881580242897828
         },
         {
          "group": "business",
          "x": 0.4847835015717968,
          "y": -0.22720187333419625
         },
         {
          "group": "business",
          "x": 2.694788261297057e-05,
          "y": 0.948217450654707
         },
         {
          "group": "business",
          "x": -0.9261703274017961,
          "y": 0.03363485010761457
         },
         {
          "group": "business",
          "x": -0.0009591231246371451,
          "y": 0.34296302056489514
         },
         {
          "group": "business",
          "x": -0.34830125408912704,
          "y": -0.6636013603920499
         },
         {
          "group": "business",
          "x": -0.6411522944979765,
          "y": 0.17868820500906135
         },
         {
          "group": "business",
          "x": -0.4534769961085914,
          "y": -0.06803057341257629
         },
         {
          "group": "business",
          "x": 0.14493922968783624,
          "y": 0.22653559127616454
         },
         {
          "group": "business",
          "x": -0.8532024911624531,
          "y": -0.48532072720533703
         },
         {
          "group": "business",
          "x": -0.8343384003858904,
          "y": -0.27881379903734455
         },
         {
          "group": "business",
          "x": -0.7045560896987199,
          "y": 0.7146738882720137
         },
         {
          "group": "business",
          "x": 0.1386154057214007,
          "y": -0.942578507244836
         },
         {
          "group": "business",
          "x": -0.38198372428495864,
          "y": 0.38895409394817976
         },
         {
          "group": "business",
          "x": -0.5246398952167255,
          "y": 1.5736023622211144
         },
         {
          "group": "business",
          "x": -0.2542211809218694,
          "y": -0.4791620736012859
         },
         {
          "group": "business",
          "x": -0.7324268873286591,
          "y": 0.17694510663708513
         },
         {
          "group": "business",
          "x": -1.004786739632096,
          "y": -0.017862876667685212
         },
         {
          "group": "business",
          "x": 0.7535144612728274,
          "y": 0.06806093741744189
         },
         {
          "group": "business",
          "x": 0.214172506551485,
          "y": 0.26918300574240356
         },
         {
          "group": "business",
          "x": -0.1283578687693951,
          "y": 0.6408737184525519
         },
         {
          "group": "business",
          "x": -0.22722451824907913,
          "y": 0.037429417649504325
         },
         {
          "group": "business",
          "x": -0.3061313365719795,
          "y": 0.5855877885522702
         },
         {
          "group": "business",
          "x": 1.0038323044552115,
          "y": -0.6739725056078811
         },
         {
          "group": "business",
          "x": -0.5434133435817816,
          "y": 0.8812576256577829
         },
         {
          "group": "business",
          "x": -0.461285100926681,
          "y": 1.5945086363663394
         },
         {
          "group": "business",
          "x": -0.026773604679718815,
          "y": 1.0161612897543588
         },
         {
          "group": "business",
          "x": -0.7465926880095546,
          "y": 1.0363339363447746
         },
         {
          "group": "business",
          "x": -2.5332335627864837,
          "y": -0.3516977748923291
         },
         {
          "group": "business",
          "x": -1.7641036337964264,
          "y": 0.6212162961688585
         },
         {
          "group": "business",
          "x": -1.0696310549663541,
          "y": 0.5314205129602456
         },
         {
          "group": "business",
          "x": -1.6796360030558675,
          "y": 0.8779298277324064
         },
         {
          "group": "business",
          "x": -0.5530332118666271,
          "y": -1.3086603544761422
         },
         {
          "group": "business",
          "x": -1.3243821986180806,
          "y": 0.11457157354448307
         },
         {
          "group": "business",
          "x": -1.133119950984787,
          "y": 0.6906785671859311
         },
         {
          "group": "business",
          "x": 0.04913499914461356,
          "y": 2.2749103310979044
         },
         {
          "group": "business",
          "x": -1.2178289442514458,
          "y": -0.031970750112497094
         },
         {
          "group": "business",
          "x": 0.35382234248063726,
          "y": 0.7185616003981936
         },
         {
          "group": "business",
          "x": -0.8947559527716806,
          "y": 0.6355571030895566
         },
         {
          "group": "business",
          "x": 0.6202998152584183,
          "y": 1.0953617765832864
         },
         {
          "group": "business",
          "x": -1.2445709362065032,
          "y": 0.23800796884690592
         },
         {
          "group": "business",
          "x": -0.48541728639584913,
          "y": -0.13435530259204126
         },
         {
          "group": "business",
          "x": -1.5526798615543105,
          "y": -1.3054970900991243
         },
         {
          "group": "business",
          "x": -0.47791243096731406,
          "y": 1.2548012132032653
         },
         {
          "group": "business",
          "x": -0.9455024683521188,
          "y": -0.38287502125328743
         },
         {
          "group": "business",
          "x": -1.7333972372544997,
          "y": 0.13224767613346267
         },
         {
          "group": "business",
          "x": -1.2219984443076592,
          "y": -0.04102794065809972
         },
         {
          "group": "business",
          "x": -0.49149813416977456,
          "y": 1.6834567494872683
         },
         {
          "group": "business",
          "x": -0.5598807908717416,
          "y": 0.5246657256685651
         },
         {
          "group": "business",
          "x": -1.2754012131336552,
          "y": 0.44182689501841027
         },
         {
          "group": "business",
          "x": 0.30226049798202714,
          "y": 1.109014169876885
         },
         {
          "group": "business",
          "x": -0.7406543305347463,
          "y": 0.9632714900381492
         },
         {
          "group": "business",
          "x": -1.4497098844757768,
          "y": -0.5370095272863358
         },
         {
          "group": "business",
          "x": -0.5404813174796866,
          "y": 0.10010348169675135
         },
         {
          "group": "business",
          "x": -0.9790465800576,
          "y": -0.9635179432625317
         },
         {
          "group": "business",
          "x": 0.2127199588540186,
          "y": 1.3091084568542328
         },
         {
          "group": "business",
          "x": 0.22724585965641128,
          "y": 0.07274738044703713
         },
         {
          "group": "business",
          "x": -0.09298981501015718,
          "y": 0.6084597837713437
         },
         {
          "group": "business",
          "x": -1.098492566420796,
          "y": -0.32243666444915486
         },
         {
          "group": "business",
          "x": -0.9639879767118131,
          "y": 0.5733021272444189
         },
         {
          "group": "business",
          "x": 0.3479678733040478,
          "y": 0.47594976330634553
         },
         {
          "group": "business",
          "x": -2.5055067975550784,
          "y": -1.1629792245390507
         },
         {
          "group": "business",
          "x": -1.041437284033409,
          "y": 0.3066903834009539
         },
         {
          "group": "business",
          "x": -0.7223637678284907,
          "y": 1.0238568027045127
         },
         {
          "group": "business",
          "x": -0.9573154286193253,
          "y": 0.48392094478127684
         },
         {
          "group": "business",
          "x": -0.6727175502756605,
          "y": -1.5433679838118266
         },
         {
          "group": "business",
          "x": -0.7081062246566101,
          "y": -1.842848104408924
         },
         {
          "group": "business",
          "x": 0.2709327993075761,
          "y": 1.523866648291601
         },
         {
          "group": "business",
          "x": -2.2239783368567316,
          "y": -1.3070783676137947
         },
         {
          "group": "business",
          "x": -0.6515598630307188,
          "y": 1.4331634764480596
         },
         {
          "group": "business",
          "x": -0.6563751428823088,
          "y": -0.36438445001314657
         },
         {
          "group": "business",
          "x": -1.1514508969490234,
          "y": -1.030355106344932
         },
         {
          "group": "business",
          "x": 0.34931097500939645,
          "y": -0.37834549011599283
         },
         {
          "group": "business",
          "x": -0.3684710627697347,
          "y": -0.268923480611736
         },
         {
          "group": "business",
          "x": 1.0779579990484816,
          "y": 0.9274238503693493
         },
         {
          "group": "business",
          "x": -0.6799698273728888,
          "y": -0.07732700598088584
         },
         {
          "group": "business",
          "x": -1.1376285457559887,
          "y": -0.8566330020752385
         },
         {
          "group": "business",
          "x": 0.5667967510803993,
          "y": 0.3182116816576172
         },
         {
          "group": "business",
          "x": -0.6365697789994323,
          "y": 0.6815961801582994
         },
         {
          "group": "business",
          "x": -0.13838364245595478,
          "y": 0.5883698418675571
         },
         {
          "group": "business",
          "x": -1.1681636548429886,
          "y": 2.5470238178137277
         },
         {
          "group": "business",
          "x": -0.0684313942363183,
          "y": -1.6303477575422536
         },
         {
          "group": "business",
          "x": -0.4645895463693927,
          "y": 1.395504534048587
         },
         {
          "group": "business",
          "x": -0.9823997942724074,
          "y": -0.43053593614828345
         },
         {
          "group": "business",
          "x": 0.38243310168867645,
          "y": -1.0496841377452537
         },
         {
          "group": "business",
          "x": -1.8570851017962995,
          "y": -0.7570301463638052
         },
         {
          "group": "business",
          "x": 0.24096667792518,
          "y": -0.7083705235512248
         },
         {
          "group": "business",
          "x": 0.33148319638394746,
          "y": -0.9227339756703363
         },
         {
          "group": "business",
          "x": -1.4907963265988817,
          "y": 0.14262325850977747
         },
         {
          "group": "business",
          "x": -0.9484613056055157,
          "y": -2.249125309088104
         },
         {
          "group": "business",
          "x": -0.43622343216592013,
          "y": 1.5277345435364158
         },
         {
          "group": "business",
          "x": -1.3757444209375342,
          "y": -0.05482021911691396
         },
         {
          "group": "business",
          "x": -1.5599582794633557,
          "y": 0.08478756605629607
         },
         {
          "group": "business",
          "x": -1.6781131108944543,
          "y": 0.31903605564506315
         },
         {
          "group": "business",
          "x": -2.0825179586325118,
          "y": 0.9581910483163304
         },
         {
          "group": "business",
          "x": -0.2884223377108471,
          "y": -0.5094436521704013
         },
         {
          "group": "business",
          "x": -1.2269161404016355,
          "y": 0.7806086730767353
         },
         {
          "group": "business",
          "x": 0.15291421553907103,
          "y": 1.2076889500284849
         },
         {
          "group": "business",
          "x": -0.4748966729813651,
          "y": -0.40698667658029436
         },
         {
          "group": "business",
          "x": -0.587035179910728,
          "y": 0.05415808048094894
         },
         {
          "group": "business",
          "x": -1.3630771832446573,
          "y": 0.22831618226096345
         },
         {
          "group": "business",
          "x": -0.6906043674864669,
          "y": 0.3104466329908275
         },
         {
          "group": "business",
          "x": -0.6302202344747618,
          "y": -1.0202063270409805
         },
         {
          "group": "business",
          "x": -0.6452118367488598,
          "y": -1.251344708951921
         },
         {
          "group": "business",
          "x": -0.07166662455710708,
          "y": 0.9034320069191928
         },
         {
          "group": "business",
          "x": -0.4939154287906563,
          "y": 1.2569436264231615
         },
         {
          "group": "business",
          "x": -0.9518715725767819,
          "y": 1.2935618762838643
         },
         {
          "group": "business",
          "x": -0.4285560778465413,
          "y": 0.9294829053032937
         },
         {
          "group": "business",
          "x": -0.9260925798892247,
          "y": 1.6148327306617762
         },
         {
          "group": "business",
          "x": -0.42279939310220294,
          "y": 0.3136844546911011
         },
         {
          "group": "business",
          "x": 0.44938355000193786,
          "y": 0.8848961777980757
         },
         {
          "group": "business",
          "x": -0.38441593297549126,
          "y": -0.8328354525558559
         },
         {
          "group": "business",
          "x": -1.2972115259810664,
          "y": 0.1127107877212468
         },
         {
          "group": "business",
          "x": -0.6432133782194591,
          "y": 1.3631596644183357
         },
         {
          "group": "business",
          "x": 0.06470855324451658,
          "y": 0.7180551119060715
         },
         {
          "group": "business",
          "x": -0.782293096556571,
          "y": 1.9598153662733935
         },
         {
          "group": "business",
          "x": -1.0311353858929395,
          "y": -0.7796925409092207
         },
         {
          "group": "business",
          "x": -0.6565199000622628,
          "y": -0.013466850542769948
         },
         {
          "group": "business",
          "x": -1.0947709814191724,
          "y": 0.06600317098600524
         },
         {
          "group": "business",
          "x": 0.49216030087257717,
          "y": 0.9878387453910459
         },
         {
          "group": "business",
          "x": 0.2884567660652878,
          "y": -0.6947937601510299
         },
         {
          "group": "business",
          "x": -2.427956850627261,
          "y": 0.6012188826616901
         },
         {
          "group": "business",
          "x": -0.46485207904816533,
          "y": 0.27542604063334547
         },
         {
          "group": "business",
          "x": -0.5981945589409076,
          "y": -0.3034834204933581
         },
         {
          "group": "business",
          "x": -1.0829771880453123,
          "y": 0.4751795442102557
         },
         {
          "group": "business",
          "x": -0.8268005462113499,
          "y": 0.29009140504604336
         },
         {
          "group": "business",
          "x": -0.5097903270468245,
          "y": -0.5862222219634171
         },
         {
          "group": "business",
          "x": -0.46336232011380984,
          "y": -1.0985344450292662
         },
         {
          "group": "business",
          "x": -3.014795626143398,
          "y": -0.37956859119456
         },
         {
          "group": "business",
          "x": -0.6398787232271738,
          "y": 0.7669262139342815
         },
         {
          "group": "business",
          "x": -0.9110651677699514,
          "y": 0.583379542509988
         },
         {
          "group": "business",
          "x": -0.6865450574475813,
          "y": 0.31897568605075965
         },
         {
          "group": "business",
          "x": -0.646662820250392,
          "y": -0.010770994774734302
         },
         {
          "group": "business",
          "x": -0.40909018668473984,
          "y": 0.3688119516590974
         },
         {
          "group": "business",
          "x": 0.2044146342382297,
          "y": 0.09489438833844667
         },
         {
          "group": "business",
          "x": 0.4904901425469452,
          "y": 1.1729011542387342
         },
         {
          "group": "business",
          "x": -0.7117286501635062,
          "y": 0.2245574479040393
         },
         {
          "group": "business",
          "x": 0.33906619867670296,
          "y": 0.3490675135969926
         },
         {
          "group": "business",
          "x": -0.6133613457286718,
          "y": 0.37721328479393545
         },
         {
          "group": "business",
          "x": 0.07223320904055897,
          "y": 0.32682543145592063
         },
         {
          "group": "business",
          "x": -0.23563110651714983,
          "y": 1.222920948835168
         },
         {
          "group": "business",
          "x": -2.098109985296495,
          "y": 0.7821204247119671
         },
         {
          "group": "business",
          "x": -1.0795002125763293,
          "y": -0.5332448483990418
         },
         {
          "group": "business",
          "x": -0.05808968032725612,
          "y": -0.7673079161105278
         },
         {
          "group": "business",
          "x": -0.9204052116618859,
          "y": 1.0385908040672691
         },
         {
          "group": "business",
          "x": -0.5584398965513876,
          "y": -0.13841275208552106
         },
         {
          "group": "business",
          "x": 0.8734310305321311,
          "y": 0.3680968028189038
         },
         {
          "group": "business",
          "x": -0.1976690432331651,
          "y": -0.6919788750677424
         },
         {
          "group": "business",
          "x": -0.5917658529568844,
          "y": -0.1866335028498224
         },
         {
          "group": "business",
          "x": -0.9995897792591664,
          "y": 1.007096206695671
         },
         {
          "group": "business",
          "x": -0.03055178321051993,
          "y": -0.36504691258535094
         },
         {
          "group": "business",
          "x": -0.9878261999405133,
          "y": -0.3769742508685242
         },
         {
          "group": "business",
          "x": -0.9968231413293847,
          "y": 0.43387120094264886
         },
         {
          "group": "business",
          "x": -1.03181542990328,
          "y": 1.5496397789018654
         },
         {
          "group": "business",
          "x": -1.1490680484387468,
          "y": 0.7020742347755338
         },
         {
          "group": "business",
          "x": -0.6844621117141622,
          "y": -0.07024443383473696
         },
         {
          "group": "business",
          "x": -0.15414555512737266,
          "y": 1.1750212771269182
         },
         {
          "group": "business",
          "x": -0.6737116294250716,
          "y": -0.7486505134955211
         },
         {
          "group": "business",
          "x": -0.287178239508904,
          "y": 0.9140832867634041
         },
         {
          "group": "business",
          "x": -1.4184283609527535,
          "y": -0.751587602229665
         },
         {
          "group": "business",
          "x": -1.0085195536698894,
          "y": 1.7712946672840273
         },
         {
          "group": "business",
          "x": -1.58656639883756,
          "y": -1.5050799609425423
         },
         {
          "group": "business",
          "x": -0.7471243357204065,
          "y": -1.0996508772890703
         },
         {
          "group": "business",
          "x": -1.1156442929175785,
          "y": -0.05902843392953548
         },
         {
          "group": "business",
          "x": 0.1406047673304466,
          "y": 0.6993191410487313
         },
         {
          "group": "business",
          "x": 0.21028347421740257,
          "y": 1.1842172171905634
         },
         {
          "group": "business",
          "x": -0.8234860265095989,
          "y": 0.4837808470281705
         },
         {
          "group": "business",
          "x": -0.4573748891417485,
          "y": -0.30433648678637953
         },
         {
          "group": "business",
          "x": -1.83739015455967,
          "y": 0.31882031388907894
         },
         {
          "group": "business",
          "x": -0.7452567139170895,
          "y": 0.9066760449921036
         },
         {
          "group": "business",
          "x": 0.5675034449661422,
          "y": 0.7875908417741809
         },
         {
          "group": "business",
          "x": -0.2268788144820254,
          "y": -1.1781906751960907
         },
         {
          "group": "business",
          "x": -0.7702919238456892,
          "y": -0.1497523738185593
         },
         {
          "group": "business",
          "x": -0.8132180736129315,
          "y": 0.2794773265898749
         },
         {
          "group": "business",
          "x": -0.3698087863942395,
          "y": 0.21648827817748276
         },
         {
          "group": "business",
          "x": 0.7508640788494463,
          "y": 1.2612447687791324
         },
         {
          "group": "business",
          "x": -0.3701420467846879,
          "y": 0.6894047767782034
         },
         {
          "group": "business",
          "x": -1.3411491137805702,
          "y": -0.35922217553689473
         },
         {
          "group": "business",
          "x": -0.28014746041475724,
          "y": 0.10135031875731204
         },
         {
          "group": "business",
          "x": -0.03423944176142358,
          "y": 1.1964786461236792
         },
         {
          "group": "business",
          "x": -1.2150623217330825,
          "y": -0.25783844935038164
         },
         {
          "group": "business",
          "x": 0.3082651440409924,
          "y": -2.1513513014594454
         },
         {
          "group": "business",
          "x": -0.31251051865492896,
          "y": -0.006991267667429009
         },
         {
          "group": "business",
          "x": -0.3270275333226192,
          "y": -0.6255068735174717
         },
         {
          "group": "business",
          "x": -0.18042963584366106,
          "y": 0.6830339420054631
         },
         {
          "group": "business",
          "x": -1.17334154278093,
          "y": 1.7770131960267783
         },
         {
          "group": "business",
          "x": 0.00010999662615935974,
          "y": 0.5579404548210302
         },
         {
          "group": "business",
          "x": -0.5498250459436248,
          "y": -1.051106382163191
         },
         {
          "group": "business",
          "x": -0.42251090942820496,
          "y": -0.8683562441245183
         },
         {
          "group": "business",
          "x": -0.3036625368592614,
          "y": 0.2740294726361133
         },
         {
          "group": "business",
          "x": -0.9979785586980718,
          "y": -0.2783104100704927
         },
         {
          "group": "business",
          "x": 0.7261079571161213,
          "y": 2.179779136371537
         },
         {
          "group": "business",
          "x": -1.4034513379391764,
          "y": -1.1464721818529602
         },
         {
          "group": "business",
          "x": -0.5430287511327604,
          "y": -0.035621872731485996
         },
         {
          "group": "business",
          "x": -0.05794784415359631,
          "y": -0.01586423030054024
         },
         {
          "group": "business",
          "x": -1.0031969517073718,
          "y": 1.080656257523991
         },
         {
          "group": "business",
          "x": -0.48355362928057705,
          "y": 0.01686181322699475
         },
         {
          "group": "business",
          "x": -0.9859470331635338,
          "y": -1.0526555590209459
         },
         {
          "group": "business",
          "x": -0.8387487469889215,
          "y": 0.9971724018216932
         },
         {
          "group": "business",
          "x": 0.9989424734190516,
          "y": 1.0156705597564142
         },
         {
          "group": "business",
          "x": -0.3493707027140593,
          "y": -1.6526971734624842
         },
         {
          "group": "business",
          "x": -0.07926403980533046,
          "y": 0.37318164306472296
         },
         {
          "group": "business",
          "x": 0.11503740195333667,
          "y": -0.7680754782820697
         },
         {
          "group": "business",
          "x": -0.16857978291506176,
          "y": -0.7472117543033754
         },
         {
          "group": "business",
          "x": -0.16241397558134688,
          "y": 0.870695884853298
         },
         {
          "group": "business",
          "x": -1.0214381021737575,
          "y": -1.1100380598093165
         },
         {
          "group": "business",
          "x": 0.29176262120193747,
          "y": 1.3376321700167457
         },
         {
          "group": "business",
          "x": -0.5007559975105794,
          "y": -0.6313441706637333
         },
         {
          "group": "business",
          "x": 0.4686495922658906,
          "y": 0.20033543566501
         },
         {
          "group": "business",
          "x": 0.5252840942075946,
          "y": 1.3159303371814663
         },
         {
          "group": "business",
          "x": -0.8799036724499916,
          "y": -0.3079720282095928
         },
         {
          "group": "business",
          "x": 0.038107003377363266,
          "y": 1.7243736451951792
         },
         {
          "group": "business",
          "x": -1.4087936732092785,
          "y": -0.6041857735838257
         },
         {
          "group": "business",
          "x": -0.6833510030109086,
          "y": 0.41073988594853256
         },
         {
          "group": "business",
          "x": -1.439786635707606,
          "y": -0.41762308724414454
         },
         {
          "group": "business",
          "x": -0.8712340449302599,
          "y": -0.9288844279195502
         },
         {
          "group": "business",
          "x": -1.8352511233049325,
          "y": -1.3300952830340254
         },
         {
          "group": "business",
          "x": -2.8974177814055104,
          "y": -0.5394469555312477
         },
         {
          "group": "business",
          "x": -0.6398418079470272,
          "y": -0.22689384624793396
         },
         {
          "group": "business",
          "x": -0.3297737386005556,
          "y": 0.5358357443426726
         },
         {
          "group": "business",
          "x": -0.004029608827368237,
          "y": 0.06236201554031433
         },
         {
          "group": "business",
          "x": 1.1807018959757232,
          "y": 1.379872099134321
         },
         {
          "group": "business",
          "x": -0.5965598498104591,
          "y": -0.3085187172576978
         },
         {
          "group": "business",
          "x": -0.5349915337197505,
          "y": -0.637368657496422
         },
         {
          "group": "business",
          "x": 0.004329121998914925,
          "y": 0.4489131647825554
         },
         {
          "group": "business",
          "x": 0.4391218340042122,
          "y": 1.600210119710847
         },
         {
          "group": "business",
          "x": -0.5424506138169202,
          "y": 0.9804231916911578
         },
         {
          "group": "business",
          "x": -0.19662117800731366,
          "y": 1.343401898953037
         },
         {
          "group": "business",
          "x": -0.5194159956987582,
          "y": 1.7403278397203572
         },
         {
          "group": "business",
          "x": 0.7121941391081137,
          "y": 1.0306097214076126
         },
         {
          "group": "business",
          "x": -1.1301396587199728,
          "y": -2.3003376098383064
         },
         {
          "group": "business",
          "x": -0.7059201231546739,
          "y": 0.1501635890373803
         },
         {
          "group": "business",
          "x": -0.4040278939100416,
          "y": -0.45049852930481843
         },
         {
          "group": "business",
          "x": -0.768478517027551,
          "y": -0.2676994913651698
         },
         {
          "group": "business",
          "x": -0.034016435233329693,
          "y": -0.4174562829735351
         },
         {
          "group": "business",
          "x": -1.1737313280806565,
          "y": -0.2426851044698243
         },
         {
          "group": "business",
          "x": 0.7056234284341114,
          "y": 0.5626134010046472
         },
         {
          "group": "business",
          "x": -1.0176602843763696,
          "y": -0.23401647161054354
         },
         {
          "group": "business",
          "x": 0.5720560490637874,
          "y": 1.6797517018163604
         },
         {
          "group": "business",
          "x": 0.27944932845274556,
          "y": 1.3746560760947952
         },
         {
          "group": "business",
          "x": -0.40349692337560655,
          "y": -0.5559433774843413
         },
         {
          "group": "business",
          "x": -0.9765145124211215,
          "y": -1.3685068415167065
         },
         {
          "group": "business",
          "x": -0.9453468601684406,
          "y": -0.05244298330261579
         },
         {
          "group": "business",
          "x": -0.16856272584186094,
          "y": 0.8081145420991116
         },
         {
          "group": "business",
          "x": 0.4601569267355759,
          "y": 0.442791318167423
         },
         {
          "group": "business",
          "x": 0.23096318669701268,
          "y": 0.4327251089909299
         },
         {
          "group": "business",
          "x": -0.54690715855238,
          "y": -0.5856528357051214
         },
         {
          "group": "business",
          "x": -1.7632497682018349,
          "y": 0.6402972086897746
         },
         {
          "group": "business",
          "x": -0.3262312631398881,
          "y": 0.5298836807632467
         },
         {
          "group": "business",
          "x": -1.245635967977304,
          "y": -0.4800461489869381
         },
         {
          "group": "business",
          "x": -0.7637142429536725,
          "y": -0.3205357387420694
         },
         {
          "group": "business",
          "x": -0.6128930027795383,
          "y": 0.291220735312233
         },
         {
          "group": "business",
          "x": -0.4128196560635794,
          "y": 0.18074459331039058
         },
         {
          "group": "business",
          "x": -0.5633444737172848,
          "y": 0.41641301486130733
         },
         {
          "group": "business",
          "x": 0.91589190926875,
          "y": -0.5126712804507683
         },
         {
          "group": "business",
          "x": 0.23468273020732525,
          "y": -0.38067113658682045
         },
         {
          "group": "business",
          "x": -0.1952437884956242,
          "y": -0.1591316410982871
         },
         {
          "group": "business",
          "x": -0.42892087880159174,
          "y": 0.5021869033823709
         },
         {
          "group": "business",
          "x": -0.5289242488864178,
          "y": -1.668378246716477
         },
         {
          "group": "business",
          "x": -1.2334085710698957,
          "y": 0.4294239581247558
         },
         {
          "group": "business",
          "x": -0.6284019656423905,
          "y": 0.07240959976042113
         },
         {
          "group": "business",
          "x": -0.8885342377139213,
          "y": 0.5347420759886785
         },
         {
          "group": "business",
          "x": -0.659740986234958,
          "y": -0.45111391636340403
         },
         {
          "group": "business",
          "x": -0.45074610349108196,
          "y": 0.32080613979856326
         },
         {
          "group": "business",
          "x": 0.7306054895386962,
          "y": 0.08786061902646321
         },
         {
          "group": "business",
          "x": -0.4648186063359286,
          "y": 0.3298649631269215
         },
         {
          "group": "business",
          "x": -0.17393489878262122,
          "y": 0.1371696515185281
         },
         {
          "group": "business",
          "x": 0.3217576318855917,
          "y": 0.33284057227186503
         },
         {
          "group": "business",
          "x": 0.43355949812455885,
          "y": 0.5494743130106359
         },
         {
          "group": "business",
          "x": -0.8151861201589488,
          "y": -0.49890062429362947
         },
         {
          "group": "business",
          "x": -0.9037436245651358,
          "y": -0.29525509614201345
         },
         {
          "group": "business",
          "x": 0.36650186532926077,
          "y": 0.4253307604212137
         },
         {
          "group": "business",
          "x": -1.0645781680225648,
          "y": 0.11940878652497044
         },
         {
          "group": "business",
          "x": -1.0500081516302466,
          "y": 0.26515968870231144
         },
         {
          "group": "business",
          "x": 0.5389448709343069,
          "y": 1.3210085011723858
         },
         {
          "group": "business",
          "x": 1.0657083697892649,
          "y": -0.03582570648779994
         },
         {
          "group": "business",
          "x": -0.5572768662635924,
          "y": -0.2546233173761075
         },
         {
          "group": "business",
          "x": -1.1600682933157138,
          "y": -0.2512028076902261
         },
         {
          "group": "business",
          "x": 0.2112513015361578,
          "y": 1.5239770190721225
         },
         {
          "group": "business",
          "x": -1.2899107455669871,
          "y": -1.494235985533077
         },
         {
          "group": "business",
          "x": -2.270951775022482,
          "y": -0.13250938732900863
         },
         {
          "group": "business",
          "x": -0.8574121634537264,
          "y": 0.020556550169179955
         },
         {
          "group": "business",
          "x": -0.43029437875293136,
          "y": 1.0937068927215008
         },
         {
          "group": "business",
          "x": 0.5588834486058962,
          "y": 0.977179944324538
         },
         {
          "group": "business",
          "x": -1.0825194562277847,
          "y": 0.6717393368717692
         },
         {
          "group": "business",
          "x": -0.37676592418703914,
          "y": 0.3663200952214102
         },
         {
          "group": "business",
          "x": 1.4595788489903305,
          "y": 0.09967934908939945
         },
         {
          "group": "business",
          "x": -0.998840882517479,
          "y": -0.08525203776712943
         },
         {
          "group": "business",
          "x": -0.272252703478182,
          "y": 0.5912595075502476
         },
         {
          "group": "business",
          "x": -0.4672707084696918,
          "y": -2.0054861521588814
         },
         {
          "group": "business",
          "x": -0.26643673488875014,
          "y": 1.0345854022292638
         },
         {
          "group": "business",
          "x": -0.7318787704863119,
          "y": -0.3478403191504972
         },
         {
          "group": "business",
          "x": -1.8135354357754665,
          "y": -0.14437023360628848
         },
         {
          "group": "business",
          "x": 1.2384387162789325,
          "y": -0.3700062012445369
         },
         {
          "group": "business",
          "x": -0.9489144265920528,
          "y": -0.7549384152038339
         },
         {
          "group": "business",
          "x": -1.1720142665359141,
          "y": -0.5017942435734599
         },
         {
          "group": "business",
          "x": -0.1899597614586483,
          "y": 0.1861810415442119
         },
         {
          "group": "business",
          "x": -0.2629692316029007,
          "y": -1.5292234144919166
         },
         {
          "group": "business",
          "x": -0.9329592910171826,
          "y": -1.3910455903620083
         },
         {
          "group": "business",
          "x": -0.5170882847886012,
          "y": -0.1858907967000887
         },
         {
          "group": "business",
          "x": -0.40260637589201115,
          "y": 0.3951966473421601
         },
         {
          "group": "business",
          "x": 0.1505804008576207,
          "y": -1.3148455471810274
         },
         {
          "group": "business",
          "x": 0.092778459233721,
          "y": 1.158569931874757
         },
         {
          "group": "business",
          "x": -0.02142180788272104,
          "y": -0.7823391283130737
         },
         {
          "group": "business",
          "x": -0.5781994937966005,
          "y": 0.49475292311048535
         },
         {
          "group": "business",
          "x": -0.7520933330937741,
          "y": 0.042412501806199265
         },
         {
          "group": "business",
          "x": 0.010796832954569065,
          "y": 0.2936814504955286
         },
         {
          "group": "business",
          "x": -0.1011121393766788,
          "y": 0.24924624106847373
         },
         {
          "group": "business",
          "x": -0.08896842556666477,
          "y": 0.8099442400214751
         },
         {
          "group": "business",
          "x": -0.3285702698738976,
          "y": -1.211196558354403
         },
         {
          "group": "business",
          "x": -1.4117481134049616,
          "y": 1.8803532903418627
         },
         {
          "group": "business",
          "x": -1.4363822590342985,
          "y": -2.0693716090939973
         },
         {
          "group": "business",
          "x": -0.3268208918356163,
          "y": -2.08295966366343
         },
         {
          "group": "business",
          "x": -1.5538705450267483,
          "y": -0.07660723452723574
         },
         {
          "group": "business",
          "x": -0.15192033355420415,
          "y": 1.1998844069556198
         },
         {
          "group": "business",
          "x": -1.7465478947966409,
          "y": -0.5411296979446297
         },
         {
          "group": "business",
          "x": 0.19541776773753428,
          "y": -0.8547602772949682
         },
         {
          "group": "business",
          "x": -1.3744281775525442,
          "y": -0.5745262315890018
         },
         {
          "group": "business",
          "x": -1.4603576463005006,
          "y": -0.5457637817937862
         },
         {
          "group": "business",
          "x": -2.1803036733508203,
          "y": -0.839406029617826
         },
         {
          "group": "business",
          "x": -1.1055830971336393,
          "y": -0.5170088921197004
         },
         {
          "group": "business",
          "x": -0.6139770663240128,
          "y": 0.5003576919304783
         },
         {
          "group": "business",
          "x": -0.6161260126040168,
          "y": 0.7002100067303803
         },
         {
          "group": "business",
          "x": -0.5472968684223769,
          "y": -0.8535148718929012
         },
         {
          "group": "business",
          "x": -0.12069817125972959,
          "y": -0.2528520468170716
         },
         {
          "group": "business",
          "x": -0.3593274785886751,
          "y": -0.8860522613441939
         },
         {
          "group": "business",
          "x": -0.272346234106299,
          "y": 0.04252659478279112
         },
         {
          "group": "business",
          "x": -0.09195207245278154,
          "y": -0.3504735289025264
         },
         {
          "group": "business",
          "x": -0.18865491297051645,
          "y": -0.06094085582093953
         },
         {
          "group": "business",
          "x": -0.49884314068877494,
          "y": -0.4922800172093211
         },
         {
          "group": "business",
          "x": -0.385692389984335,
          "y": -0.26817601460488966
         },
         {
          "group": "business",
          "x": -0.09536382085112022,
          "y": -1.1536375584346963
         },
         {
          "group": "business",
          "x": 0.06658461294762795,
          "y": -0.005106465358082345
         },
         {
          "group": "business",
          "x": 0.6001103851470005,
          "y": 0.23336541462563531
         },
         {
          "group": "business",
          "x": -1.2723431952450337,
          "y": 0.05352294567309294
         },
         {
          "group": "business",
          "x": -0.6314861659350909,
          "y": 1.635474856278757
         },
         {
          "group": "business",
          "x": 0.04563920066129413,
          "y": -0.2071676955875814
         },
         {
          "group": "business",
          "x": -0.3874256873005963,
          "y": -0.3264232786217791
         },
         {
          "group": "business",
          "x": 0.11153483779850516,
          "y": 0.799659425316339
         },
         {
          "group": "business",
          "x": -0.41638097901445237,
          "y": -0.1096335983291151
         },
         {
          "group": "business",
          "x": 0.8037795167188508,
          "y": -0.35625079730584974
         },
         {
          "group": "business",
          "x": -0.2387396507493078,
          "y": -0.2284321754716462
         },
         {
          "group": "business",
          "x": -0.6217379836160679,
          "y": -0.5174569580709513
         },
         {
          "group": "business",
          "x": 0.3314881476067551,
          "y": 0.19013549240166702
         },
         {
          "group": "business",
          "x": -0.2047848330649272,
          "y": -0.03247993019158411
         },
         {
          "group": "business",
          "x": 0.32401804914281546,
          "y": 0.9843901117849005
         },
         {
          "group": "business",
          "x": 0.552785010690186,
          "y": 0.65031636529996
         },
         {
          "group": "business",
          "x": -1.3902518116493203,
          "y": -0.025926049694649695
         },
         {
          "group": "business",
          "x": -0.052799758798697784,
          "y": -0.10119981231109268
         },
         {
          "group": "business",
          "x": -0.31446282885334914,
          "y": 1.0330139794196487
         },
         {
          "group": "business",
          "x": -0.7397120582037421,
          "y": -0.2911531287363629
         },
         {
          "group": "business",
          "x": -0.176971125686562,
          "y": -0.7605961263213049
         },
         {
          "group": "business",
          "x": -0.043495980857572614,
          "y": -0.41881562634459873
         },
         {
          "group": "business",
          "x": -0.8899600510503372,
          "y": 0.9778064105658895
         },
         {
          "group": "business",
          "x": -0.11587973578267328,
          "y": 1.070176618683194
         },
         {
          "group": "business",
          "x": -0.4419528945922845,
          "y": 0.49174223111055176
         },
         {
          "group": "business",
          "x": -0.9198977015996559,
          "y": -0.2714314342567785
         },
         {
          "group": "business",
          "x": -1.4644509341992566,
          "y": -0.7928108719759585
         },
         {
          "group": "business",
          "x": -0.32454561211405175,
          "y": 0.3839911187638428
         },
         {
          "group": "business",
          "x": -0.2354620260707045,
          "y": 0.23763632236004756
         },
         {
          "group": "business",
          "x": -0.24056050785567046,
          "y": -0.4622251074777245
         },
         {
          "group": "business",
          "x": -1.0105725546141826,
          "y": -0.7883027026409363
         },
         {
          "group": "business",
          "x": -0.945126083206273,
          "y": 1.417261755220093
         },
         {
          "group": "business",
          "x": -1.4858119371413574,
          "y": 0.2504606412184432
         },
         {
          "group": "business",
          "x": -0.07097526261768475,
          "y": 0.12730839229188562
         },
         {
          "group": "business",
          "x": -0.23945826909209603,
          "y": -0.6780119012111537
         },
         {
          "group": "business",
          "x": -0.8689749134504131,
          "y": 1.1344795075332195
         },
         {
          "group": "business",
          "x": -1.0441298533881151,
          "y": -0.31367198412826175
         },
         {
          "group": "business",
          "x": -1.1301875328889528,
          "y": -0.6946494309557554
         },
         {
          "group": "business",
          "x": -0.8064312139599387,
          "y": -0.058927436669483656
         },
         {
          "group": "business",
          "x": -0.6816089103733459,
          "y": 0.6324683401284229
         },
         {
          "group": "business",
          "x": -0.4340192786572463,
          "y": -0.14497825885952104
         },
         {
          "group": "business",
          "x": -0.33271627535951054,
          "y": 0.9869059613320007
         },
         {
          "group": "business",
          "x": -1.5817566305281217,
          "y": -0.25586386657779453
         },
         {
          "group": "business",
          "x": 1.1088803731908907,
          "y": 1.5476416502729629
         },
         {
          "group": "business",
          "x": -0.5220771457252086,
          "y": -1.9946278789461465
         },
         {
          "group": "business",
          "x": -1.536171066362949,
          "y": -1.689646728358624
         },
         {
          "group": "business",
          "x": -1.7526430625126548,
          "y": 0.2777107931601815
         },
         {
          "group": "business",
          "x": -0.7704478245000318,
          "y": -1.536506744560313
         },
         {
          "group": "business",
          "x": -0.9946127544633758,
          "y": -0.1779850120048808
         },
         {
          "group": "business",
          "x": -0.5924970482518911,
          "y": 1.8238404663430179
         },
         {
          "group": "business",
          "x": 0.6203553237604493,
          "y": 0.5116675514524929
         },
         {
          "group": "business",
          "x": 0.06788044416598155,
          "y": 0.48322684845741337
         },
         {
          "group": "business",
          "x": 0.13530906001440932,
          "y": 0.06394390015842391
         },
         {
          "group": "business",
          "x": -2.718705170804401,
          "y": -1.3554585227941818
         },
         {
          "group": "business",
          "x": 0.1272292823469572,
          "y": -0.4187907033781911
         },
         {
          "group": "business",
          "x": 0.1264985304179783,
          "y": -0.1886590777940175
         },
         {
          "group": "business",
          "x": -0.4731205998419631,
          "y": 1.5957990065584988
         },
         {
          "group": "business",
          "x": 0.3817735821439536,
          "y": -0.043246046963264236
         },
         {
          "group": "business",
          "x": -0.6053077357702777,
          "y": -1.003353230856782
         },
         {
          "group": "business",
          "x": -1.3504880180363237,
          "y": -0.7052984439695501
         },
         {
          "group": "business",
          "x": -0.3418044807965613,
          "y": -1.0284094698743793
         },
         {
          "group": "business",
          "x": 0.033081658890948,
          "y": -0.40773823834102185
         },
         {
          "group": "business",
          "x": -1.4594064074541118,
          "y": 2.4623040927217583
         },
         {
          "group": "business",
          "x": -0.7425250505196508,
          "y": 0.7546016718262363
         },
         {
          "group": "business",
          "x": -2.29132493160666,
          "y": -1.9575958725752503
         },
         {
          "group": "business",
          "x": -0.43893578348144807,
          "y": -0.9789821844811603
         },
         {
          "group": "business",
          "x": -0.5024758993840726,
          "y": -1.4247577447727855
         },
         {
          "group": "business",
          "x": -2.0237045916415592,
          "y": -2.215581812267747
         },
         {
          "group": "business",
          "x": -2.97879760488874,
          "y": 2.5922661208421296
         },
         {
          "group": "business",
          "x": -0.5877817473072857,
          "y": 1.1126759952691907
         },
         {
          "group": "business",
          "x": -1.3558585308405369,
          "y": 0.3271685539270133
         },
         {
          "group": "business",
          "x": -1.5028369938447763,
          "y": -0.6481578187420921
         },
         {
          "group": "business",
          "x": -0.4096483172181722,
          "y": 0.8920139699244254
         },
         {
          "group": "business",
          "x": -0.49389059557456905,
          "y": 4.458786748892318
         },
         {
          "group": "business",
          "x": -0.9617894610942455,
          "y": -0.7148353542331639
         },
         {
          "group": "business",
          "x": -0.5178282756364163,
          "y": -0.17107294612549298
         },
         {
          "group": "business",
          "x": -0.2052447893973443,
          "y": 1.1725274302802462
         },
         {
          "group": "business",
          "x": -0.6442619280208401,
          "y": 1.0951673853676065
         },
         {
          "group": "business",
          "x": -0.6273309770564719,
          "y": -0.7148929720576831
         },
         {
          "group": "business",
          "x": -1.7856922013122947,
          "y": 1.4964623244877806
         },
         {
          "group": "business",
          "x": -2.4474240808077323,
          "y": -0.09695377155487714
         },
         {
          "group": "business",
          "x": -3.9561427845092454,
          "y": 0.3159644567632239
         },
         {
          "group": "business",
          "x": -2.376062763463599,
          "y": 0.12088863450342706
         },
         {
          "group": "business",
          "x": -0.7703492338577397,
          "y": 0.2093703373455275
         },
         {
          "group": "business",
          "x": -1.580713386322931,
          "y": 0.6639654076290845
         },
         {
          "group": "business",
          "x": -1.5572410189569594,
          "y": -1.0072381032287983
         },
         {
          "group": "business",
          "x": -0.7998399230646119,
          "y": -0.9738163517889343
         },
         {
          "group": "business",
          "x": -0.9037397515186582,
          "y": -0.26241422821735083
         },
         {
          "group": "business",
          "x": -0.6221203882476887,
          "y": 1.536481472745791
         },
         {
          "group": "business",
          "x": -0.6640100404333562,
          "y": 0.3659000848020263
         },
         {
          "group": "business",
          "x": -2.003993094158109,
          "y": -0.7689980793399125
         },
         {
          "group": "business",
          "x": -0.5263176505172468,
          "y": 1.4591108059394482
         },
         {
          "group": "business",
          "x": -0.6236206120433161,
          "y": 0.5309533854203293
         },
         {
          "group": "business",
          "x": -1.5948618105228087,
          "y": 0.8616182543800248
         },
         {
          "group": "business",
          "x": -0.9550142896360136,
          "y": 0.4177297444530978
         },
         {
          "group": "business",
          "x": -1.2733487739399556,
          "y": 1.5887657268379844
         },
         {
          "group": "business",
          "x": 0.16347421373620183,
          "y": 1.0215662864373696
         },
         {
          "group": "business",
          "x": -3.1844143296367813,
          "y": -1.0612158185631662
         },
         {
          "group": "business",
          "x": -0.9376022367036122,
          "y": 0.32585125197996034
         },
         {
          "group": "business",
          "x": -0.17752364387460381,
          "y": -0.9324715512607368
         },
         {
          "group": "business",
          "x": -1.6427897291247475,
          "y": 0.005858571561582847
         },
         {
          "group": "business",
          "x": -1.1925570009639617,
          "y": 0.4346288654026484
         },
         {
          "group": "business",
          "x": -0.2888441986492394,
          "y": -0.03049038647296013
         },
         {
          "group": "business",
          "x": -0.7094713358599178,
          "y": -3.5906179861602747
         },
         {
          "group": "business",
          "x": -2.7957753026816605,
          "y": 0.11811616523107958
         },
         {
          "group": "business",
          "x": -1.3879874429425696,
          "y": -1.055003206168113
         },
         {
          "group": "business",
          "x": -1.8779940079306336,
          "y": 1.2864878863002418
         },
         {
          "group": "business",
          "x": -2.438086517002916,
          "y": 1.1366827472721568
         },
         {
          "group": "business",
          "x": -1.3168944219444063,
          "y": 0.7948760046854828
         },
         {
          "group": "business",
          "x": -0.1865591806380439,
          "y": -0.01963655862414524
         },
         {
          "group": "business",
          "x": -1.495550002233575,
          "y": 0.16323106450566066
         },
         {
          "group": "business",
          "x": -2.788024396985424,
          "y": -0.22971718812327094
         },
         {
          "group": "business",
          "x": -2.8680018573811963,
          "y": -2.7786477970774386
         },
         {
          "group": "business",
          "x": -1.4687409680375574,
          "y": -0.48213256793558296
         },
         {
          "group": "business",
          "x": -3.503223925706424,
          "y": 0.775735387726983
         },
         {
          "group": "business",
          "x": -2.5596555876864504,
          "y": -0.23141992846652476
         },
         {
          "group": "business",
          "x": -1.9102313893340768,
          "y": -0.5490144957333981
         },
         {
          "group": "business",
          "x": -0.49487927395640297,
          "y": 0.22053251970305335
         },
         {
          "group": "business",
          "x": -0.7608507494169375,
          "y": 0.767017611708017
         },
         {
          "group": "business",
          "x": -1.9533464223064794,
          "y": 0.6713549169443598
         },
         {
          "group": "business",
          "x": -0.37577891931569896,
          "y": -0.8820393672256691
         },
         {
          "group": "business",
          "x": -0.9443254465095248,
          "y": -1.7881805253868086
         },
         {
          "group": "business",
          "x": -3.0008636475051707,
          "y": -2.5125693113829324
         },
         {
          "group": "business",
          "x": -1.0402354767610094,
          "y": 1.6905923340876774
         },
         {
          "group": "business",
          "x": -2.064555939855392,
          "y": 0.6854294882907996
         },
         {
          "group": "business",
          "x": -2.188158593665715,
          "y": 0.7228812388141792
         },
         {
          "group": "business",
          "x": -2.6547520674830705,
          "y": -0.33952295844287356
         },
         {
          "group": "business",
          "x": -1.0034777796630578,
          "y": 1.4505622446877335
         },
         {
          "group": "business",
          "x": -1.6338869738285398,
          "y": 0.9812119650687092
         },
         {
          "group": "business",
          "x": -1.364998635965095,
          "y": 0.9650244599620602
         },
         {
          "group": "business",
          "x": -1.0436141157024077,
          "y": 1.2505756149645695
         },
         {
          "group": "business",
          "x": 0.06821114276792895,
          "y": -1.9789455457556169
         },
         {
          "group": "business",
          "x": -0.6585026047556641,
          "y": -1.249216092461673
         },
         {
          "group": "business",
          "x": -0.6882624762731402,
          "y": -0.8215849602032091
         },
         {
          "group": "business",
          "x": -3.2870172710761305,
          "y": -0.24079765099164882
         },
         {
          "group": "business",
          "x": -1.6184342894207986,
          "y": 1.816812520530266
         },
         {
          "group": "business",
          "x": 0.7197151740961,
          "y": 0.020401516729455154
         },
         {
          "group": "business",
          "x": -1.633294981376418,
          "y": 2.4572539807922986
         },
         {
          "group": "business",
          "x": -1.8948340935211057,
          "y": 0.22047138444876224
         },
         {
          "group": "business",
          "x": -1.2312979248629399,
          "y": 0.48016312452077214
         },
         {
          "group": "business",
          "x": -1.7655336093612648,
          "y": -0.2631727427720617
         },
         {
          "group": "business",
          "x": -3.412045916449072,
          "y": 0.11180167646949438
         },
         {
          "group": "business",
          "x": -1.372241597983895,
          "y": -0.5810832653905829
         },
         {
          "group": "business",
          "x": -1.8372949810069832,
          "y": 2.788167001839035
         },
         {
          "group": "business",
          "x": 0.1834692689251568,
          "y": -0.25313194720733606
         },
         {
          "group": "business",
          "x": -2.212715496689465,
          "y": 1.3001236468127888
         },
         {
          "group": "business",
          "x": -0.5133630488656362,
          "y": 0.9693589575666224
         },
         {
          "group": "business",
          "x": -1.9606350415951646,
          "y": -0.09716823561480895
         },
         {
          "group": "business",
          "x": -2.50076630684571,
          "y": -1.1315992400864945
         },
         {
          "group": "business",
          "x": -1.624825038753052,
          "y": 0.688753292102106
         },
         {
          "group": "business",
          "x": -2.9157138343971685,
          "y": 2.5114041362095736
         },
         {
          "group": "business",
          "x": -1.9418535607303802,
          "y": -2.0013268644179294
         },
         {
          "group": "business",
          "x": -1.2937930128333146,
          "y": 0.8047690835919035
         },
         {
          "group": "business",
          "x": 0.514661857255169,
          "y": -0.0893084812015298
         },
         {
          "group": "business",
          "x": -3.258330642355915,
          "y": 0.3456499979818606
         },
         {
          "group": "business",
          "x": -3.3112575668034046,
          "y": 1.4166665424663756
         },
         {
          "group": "business",
          "x": -0.8646651719055402,
          "y": 1.3010404945984917
         },
         {
          "group": "business",
          "x": -3.705619941460164,
          "y": 4.570326731493558
         },
         {
          "group": "business",
          "x": -1.3104658085357328,
          "y": -0.03088402101182733
         },
         {
          "group": "business",
          "x": -2.3859905403285953,
          "y": -1.571058778280712
         },
         {
          "group": "politics",
          "x": -1.1624357978348046,
          "y": -1.6371281769482438
         },
         {
          "group": "politics",
          "x": 0.8386548781556203,
          "y": 0.23027029375634264
         },
         {
          "group": "politics",
          "x": 1.4306147667082838,
          "y": -0.6971420775652146
         },
         {
          "group": "politics",
          "x": 1.0368888319859153,
          "y": -0.43125031882144066
         },
         {
          "group": "politics",
          "x": -0.3861965762747533,
          "y": -0.032500883247321095
         },
         {
          "group": "politics",
          "x": -0.6831944071741738,
          "y": -0.7048468434031742
         },
         {
          "group": "politics",
          "x": 1.1337962942128512,
          "y": 2.1700382913716427
         },
         {
          "group": "politics",
          "x": 1.964533280444193,
          "y": 0.28218792989105074
         },
         {
          "group": "politics",
          "x": 1.1590057246730165,
          "y": 0.035373274391612614
         },
         {
          "group": "politics",
          "x": -0.18785352706674205,
          "y": -0.712365354161549
         },
         {
          "group": "politics",
          "x": -1.200418886094924,
          "y": 3.041131680633499
         },
         {
          "group": "politics",
          "x": 0.9541786919928071,
          "y": -1.2181319144247689
         },
         {
          "group": "politics",
          "x": 1.225805096683702,
          "y": 0.3040504946214336
         },
         {
          "group": "politics",
          "x": 0.852436167349999,
          "y": -0.4178314211569851
         },
         {
          "group": "politics",
          "x": 0.09280795650125484,
          "y": 2.827988325496546
         },
         {
          "group": "politics",
          "x": -0.653929542065569,
          "y": -1.409452110136528
         },
         {
          "group": "politics",
          "x": -0.8927659592457379,
          "y": 1.535098168547081
         },
         {
          "group": "politics",
          "x": 0.7906877103246776,
          "y": 0.31583880895601046
         },
         {
          "group": "politics",
          "x": -1.2744688449846213,
          "y": -0.8441798404050798
         },
         {
          "group": "politics",
          "x": -0.8038181906953541,
          "y": 0.9136600181231088
         },
         {
          "group": "politics",
          "x": -1.2490856335717,
          "y": -0.3386043032221352
         },
         {
          "group": "politics",
          "x": 1.8563489775916155,
          "y": -1.5127536144861549
         },
         {
          "group": "politics",
          "x": -0.3306057157833588,
          "y": -1.977224347171637
         },
         {
          "group": "politics",
          "x": 0.018286942949758835,
          "y": 0.6065622504209373
         },
         {
          "group": "politics",
          "x": 0.1291065867019723,
          "y": -0.17096401571501382
         },
         {
          "group": "politics",
          "x": 1.465382037424156,
          "y": 0.7027455835248319
         },
         {
          "group": "politics",
          "x": 0.22249127372360566,
          "y": -0.19866026619509422
         },
         {
          "group": "politics",
          "x": 0.8819237573687366,
          "y": -0.44967838466913507
         },
         {
          "group": "politics",
          "x": 0.437602412006689,
          "y": 1.9279212443864922
         },
         {
          "group": "politics",
          "x": 0.7197519872914713,
          "y": -1.682158624099426
         },
         {
          "group": "politics",
          "x": -0.2648932149701712,
          "y": -1.688891953706796
         },
         {
          "group": "politics",
          "x": -1.1171443335057047,
          "y": -0.18460653453300244
         },
         {
          "group": "politics",
          "x": -0.014210332567207728,
          "y": 1.286898647518428
         },
         {
          "group": "politics",
          "x": 0.8746314798486841,
          "y": 0.6718158465804462
         },
         {
          "group": "politics",
          "x": 0.20455017138040207,
          "y": 1.75032571595634
         },
         {
          "group": "politics",
          "x": -0.09948253502780412,
          "y": -0.5094495629795815
         },
         {
          "group": "politics",
          "x": 0.6330693911463319,
          "y": 1.5864805556116965
         },
         {
          "group": "politics",
          "x": -0.10804959740294584,
          "y": 1.3325956665660568
         },
         {
          "group": "politics",
          "x": -2.1967467794845144,
          "y": 0.23477472632536786
         },
         {
          "group": "politics",
          "x": 1.695520247648498,
          "y": -0.08689232558523285
         },
         {
          "group": "politics",
          "x": -1.0194457304878588,
          "y": -1.3806745249461996
         },
         {
          "group": "politics",
          "x": 1.844364782027225,
          "y": -0.7601563184504766
         },
         {
          "group": "politics",
          "x": 0.5375372935647222,
          "y": -0.8642639535595812
         },
         {
          "group": "politics",
          "x": 1.3804509939111258,
          "y": 0.09904163647758261
         },
         {
          "group": "politics",
          "x": -1.5539846285285213,
          "y": -0.06855720894529739
         },
         {
          "group": "politics",
          "x": 0.29575309307354763,
          "y": 0.6647738157811737
         },
         {
          "group": "politics",
          "x": 1.0494351025945376,
          "y": 0.8587551404220602
         },
         {
          "group": "politics",
          "x": 0.6153771219137174,
          "y": 0.0439804085240512
         },
         {
          "group": "politics",
          "x": 1.615698027197896,
          "y": -0.2105106049767555
         },
         {
          "group": "politics",
          "x": -0.04379486786166257,
          "y": -1.8276000886305608
         },
         {
          "group": "politics",
          "x": 2.760454321748241,
          "y": 2.2551787643747483
         },
         {
          "group": "politics",
          "x": 1.9997843793354126,
          "y": -0.6078641534240156
         },
         {
          "group": "politics",
          "x": -2.050626915982426,
          "y": -0.5583492541415453
         },
         {
          "group": "politics",
          "x": 0.07406090767887144,
          "y": -1.6211089163789756
         },
         {
          "group": "politics",
          "x": 2.1190094131176074,
          "y": -1.644845897077918
         },
         {
          "group": "politics",
          "x": 1.3164483609584383,
          "y": -0.7654985930665443
         },
         {
          "group": "politics",
          "x": -0.11542438913885125,
          "y": 0.1508925627405279
         },
         {
          "group": "politics",
          "x": 0.8776111567283463,
          "y": 0.24653991807987946
         },
         {
          "group": "politics",
          "x": 1.4681900812049373,
          "y": -1.338991889372135
         },
         {
          "group": "politics",
          "x": 0.25048713384216525,
          "y": 0.3700925257827567
         },
         {
          "group": "politics",
          "x": 0.12061955414222718,
          "y": -1.9193657244801958
         },
         {
          "group": "politics",
          "x": 0.839726693257911,
          "y": 0.819736292446365
         },
         {
          "group": "politics",
          "x": 0.9205018639486825,
          "y": 2.0554784394365035
         },
         {
          "group": "politics",
          "x": 0.7066612580546778,
          "y": -0.5306616622071914
         },
         {
          "group": "politics",
          "x": -0.7875704423303067,
          "y": -0.6223225064809346
         },
         {
          "group": "politics",
          "x": 2.278443625594209,
          "y": 0.7746535601880616
         },
         {
          "group": "politics",
          "x": 0.5215206225582006,
          "y": 0.07552488536772005
         },
         {
          "group": "politics",
          "x": -1.2139850214368886,
          "y": -1.6361335931410306
         },
         {
          "group": "politics",
          "x": -0.7760223552813366,
          "y": -1.089520204720516
         },
         {
          "group": "politics",
          "x": 1.2486127291401072,
          "y": -2.4329140654102237
         },
         {
          "group": "politics",
          "x": 0.5380949151401231,
          "y": -0.5047893348153141
         },
         {
          "group": "politics",
          "x": 1.3305981346801912,
          "y": -0.08027263632804174
         },
         {
          "group": "politics",
          "x": -0.8167636229971839,
          "y": 0.41077301292872487
         },
         {
          "group": "politics",
          "x": 2.248412490372516,
          "y": -1.704289411075771
         },
         {
          "group": "politics",
          "x": -0.8550190918761283,
          "y": -0.8539788435632872
         },
         {
          "group": "politics",
          "x": -0.8670860223746593,
          "y": 1.0520457702326933
         },
         {
          "group": "politics",
          "x": -0.08432320138602976,
          "y": -1.371734330528455
         },
         {
          "group": "politics",
          "x": 0.8799776305058247,
          "y": -1.5526582706598726
         },
         {
          "group": "politics",
          "x": -0.7359838780441613,
          "y": 0.5659294716028022
         },
         {
          "group": "politics",
          "x": 1.0269269727034334,
          "y": 0.18040508283707463
         },
         {
          "group": "politics",
          "x": -1.1712107833789966,
          "y": -2.178155402534642
         },
         {
          "group": "politics",
          "x": -1.3803159944210757,
          "y": -0.37434463391067596
         },
         {
          "group": "politics",
          "x": 0.7181985654383765,
          "y": 0.06693437658058503
         },
         {
          "group": "politics",
          "x": 1.272980613760577,
          "y": -0.1300018116539271
         },
         {
          "group": "politics",
          "x": 1.5087259995231774,
          "y": 1.3483177168979676
         },
         {
          "group": "politics",
          "x": -0.6746875712039073,
          "y": -1.2577602489692843
         },
         {
          "group": "politics",
          "x": 1.9245633126593888,
          "y": 0.067134152223436
         },
         {
          "group": "politics",
          "x": 0.26749974674921523,
          "y": 1.1751197919207061
         },
         {
          "group": "politics",
          "x": -0.8224559829926067,
          "y": 1.6070074063780502
         },
         {
          "group": "politics",
          "x": 1.3998595693607891,
          "y": 0.4444023415904455
         },
         {
          "group": "politics",
          "x": 2.1166677581730537,
          "y": -0.3836928741525823
         },
         {
          "group": "politics",
          "x": -0.8549166923111491,
          "y": 2.516089670668369
         },
         {
          "group": "politics",
          "x": 0.2290812066991838,
          "y": -1.729953202655086
         },
         {
          "group": "politics",
          "x": -0.07580850084149955,
          "y": -0.35043615653543475
         },
         {
          "group": "politics",
          "x": 2.7232428353090494,
          "y": -1.1814357053007936
         },
         {
          "group": "politics",
          "x": 1.7232675503861408,
          "y": -0.2365849792214645
         },
         {
          "group": "politics",
          "x": -1.9396730749958846,
          "y": -0.2873201633279636
         },
         {
          "group": "politics",
          "x": 0.5834794655439843,
          "y": -1.2773644876471153
         },
         {
          "group": "politics",
          "x": -0.5681796899208299,
          "y": 0.4792494234975947
         },
         {
          "group": "politics",
          "x": -0.1878381221936257,
          "y": -1.7138893879937651
         },
         {
          "group": "politics",
          "x": 0.7573812843220031,
          "y": -0.20613622855482694
         },
         {
          "group": "politics",
          "x": 1.3211832431946442,
          "y": 2.6823444591804497
         },
         {
          "group": "politics",
          "x": 0.44239296135496653,
          "y": 0.7266004132729402
         },
         {
          "group": "politics",
          "x": -0.12178221970613709,
          "y": -1.5812628235150528
         },
         {
          "group": "politics",
          "x": 1.5818798341948233,
          "y": 0.6046863655011613
         },
         {
          "group": "politics",
          "x": -0.41633626392976586,
          "y": 0.46345852532837156
         },
         {
          "group": "politics",
          "x": 1.586030015971365,
          "y": -1.8778827130395528
         },
         {
          "group": "politics",
          "x": 0.5405056267447417,
          "y": -0.3567025652708583
         },
         {
          "group": "politics",
          "x": 0.07813537280635195,
          "y": -0.2025510047633547
         },
         {
          "group": "politics",
          "x": -1.2761315245108298,
          "y": -1.808460337932151
         },
         {
          "group": "politics",
          "x": 1.1226283731196995,
          "y": -0.22988242485170624
         },
         {
          "group": "politics",
          "x": -0.04566136696786848,
          "y": 1.0770453941063725
         },
         {
          "group": "politics",
          "x": -0.644308390736537,
          "y": -0.9914306009464996
         },
         {
          "group": "politics",
          "x": 0.10096978415387045,
          "y": 0.14196297824753595
         },
         {
          "group": "politics",
          "x": 2.2186334108500834,
          "y": 0.9009677230907159
         },
         {
          "group": "politics",
          "x": -1.6139488295100048,
          "y": -0.9833434105135254
         },
         {
          "group": "politics",
          "x": -0.6565239207574324,
          "y": -1.1653939294002345
         },
         {
          "group": "politics",
          "x": 0.8805266041632704,
          "y": 1.1785968787552434
         },
         {
          "group": "politics",
          "x": 1.2986443984114189,
          "y": 0.16771512184832055
         },
         {
          "group": "politics",
          "x": 0.9362315104996547,
          "y": -0.0913292945233799
         },
         {
          "group": "politics",
          "x": -1.1477249230391093,
          "y": -0.4637177617738321
         },
         {
          "group": "politics",
          "x": 0.8842602824023733,
          "y": 0.8114326560650409
         },
         {
          "group": "politics",
          "x": -1.0172750073787753,
          "y": 0.32806600586605744
         },
         {
          "group": "politics",
          "x": 0.745769895924666,
          "y": 2.339030518243434
         },
         {
          "group": "politics",
          "x": 1.940915796915559,
          "y": -0.0476053730401155
         },
         {
          "group": "politics",
          "x": 2.5072201175401254,
          "y": 1.3362628783321224
         },
         {
          "group": "politics",
          "x": -0.3460602322875243,
          "y": 0.2475380598135921
         },
         {
          "group": "politics",
          "x": 0.19440425829620722,
          "y": 1.30466441555403
         },
         {
          "group": "politics",
          "x": -0.575242671593917,
          "y": -0.22204149951924948
         },
         {
          "group": "politics",
          "x": 1.3197384066968516,
          "y": 0.8312900322444274
         },
         {
          "group": "politics",
          "x": 1.2158764448182076,
          "y": -0.85563486589466
         },
         {
          "group": "politics",
          "x": -0.8644651385739377,
          "y": 1.1948768405320196
         },
         {
          "group": "politics",
          "x": 0.6340387701576968,
          "y": 1.4203557808136325
         },
         {
          "group": "politics",
          "x": 1.1802365217894109,
          "y": -0.909890360202701
         },
         {
          "group": "politics",
          "x": 0.04735792312086805,
          "y": 2.5863775362179635
         },
         {
          "group": "politics",
          "x": 1.375696869472163,
          "y": -0.267213650332575
         },
         {
          "group": "politics",
          "x": -0.4895505451052258,
          "y": -0.2557748579704726
         },
         {
          "group": "politics",
          "x": 0.5961638259689948,
          "y": 0.1629505854281265
         },
         {
          "group": "politics",
          "x": -0.5508778295558824,
          "y": 0.26198718635947366
         },
         {
          "group": "politics",
          "x": 2.2035871976701618,
          "y": -0.42962776384161877
         },
         {
          "group": "politics",
          "x": 0.43558602699896065,
          "y": -2.1405010456635947
         },
         {
          "group": "politics",
          "x": 0.4425244739486614,
          "y": 1.5065222170647714
         },
         {
          "group": "politics",
          "x": 1.2157688034341616,
          "y": 1.4761501108341368
         },
         {
          "group": "politics",
          "x": 1.2084752001590693,
          "y": -1.4611568791896175
         },
         {
          "group": "politics",
          "x": 0.18627556747056975,
          "y": 0.14639407384210978
         },
         {
          "group": "politics",
          "x": -0.12266341637130791,
          "y": -0.3224852732033036
         },
         {
          "group": "politics",
          "x": -0.1145638109482559,
          "y": -1.4518129516948701
         },
         {
          "group": "politics",
          "x": -1.8221098350596026,
          "y": 0.48827388460220045
         },
         {
          "group": "politics",
          "x": 0.8184000492539846,
          "y": 0.7527592816550626
         },
         {
          "group": "politics",
          "x": 0.3315247268331679,
          "y": 0.8856277394128906
         },
         {
          "group": "politics",
          "x": -0.6463518099164077,
          "y": 0.5305629418665594
         },
         {
          "group": "politics",
          "x": -0.17451928774461595,
          "y": 0.4315680269204443
         },
         {
          "group": "politics",
          "x": 1.5480532784191836,
          "y": 0.5065998330182935
         },
         {
          "group": "politics",
          "x": 2.83433328311258,
          "y": 0.8505443734231786
         },
         {
          "group": "politics",
          "x": -1.3153410958238487,
          "y": -1.5864899218539987
         },
         {
          "group": "politics",
          "x": 0.9947688700834499,
          "y": 1.418512796686896
         },
         {
          "group": "politics",
          "x": 2.527987348782948,
          "y": -1.1327361468928911
         },
         {
          "group": "politics",
          "x": 0.27710534324277164,
          "y": -0.6211717577757301
         },
         {
          "group": "politics",
          "x": 0.2669605628885694,
          "y": 0.27896465947474813
         },
         {
          "group": "politics",
          "x": 0.6939013142852428,
          "y": 0.015640148065129034
         },
         {
          "group": "politics",
          "x": -0.17880587423527994,
          "y": -1.0531946134822938
         },
         {
          "group": "politics",
          "x": -0.22681560483211127,
          "y": 0.06564475878631104
         },
         {
          "group": "politics",
          "x": 0.6272711446031396,
          "y": 0.27052823767377276
         },
         {
          "group": "politics",
          "x": 0.29138836827171855,
          "y": -1.5535903851765247
         },
         {
          "group": "politics",
          "x": 1.258988173344739,
          "y": -0.00764363253047505
         },
         {
          "group": "politics",
          "x": 1.4635128757428841,
          "y": 0.21157981076642182
         },
         {
          "group": "politics",
          "x": -0.18770904798687774,
          "y": 0.05066609559605528
         },
         {
          "group": "politics",
          "x": 0.7232946439410717,
          "y": 0.40723742930371215
         },
         {
          "group": "politics",
          "x": -1.2870603221928956,
          "y": 1.6336253791139868
         },
         {
          "group": "politics",
          "x": -0.479020852188875,
          "y": -0.539823136978163
         },
         {
          "group": "politics",
          "x": 0.858690538000427,
          "y": -1.0297303370469435
         },
         {
          "group": "politics",
          "x": 1.082425072415345,
          "y": 2.3518299502364086
         },
         {
          "group": "politics",
          "x": 0.923368282389848,
          "y": -1.5811130739797001
         },
         {
          "group": "politics",
          "x": -0.14651230080112326,
          "y": 0.19405161706507615
         },
         {
          "group": "politics",
          "x": 1.7893039653547889,
          "y": 0.9556818382353269
         },
         {
          "group": "politics",
          "x": 0.7429410111555078,
          "y": -0.5338722156869068
         },
         {
          "group": "politics",
          "x": -0.09970915145576646,
          "y": -1.3438842766362593
         },
         {
          "group": "politics",
          "x": 0.06220203033606292,
          "y": -0.3795602694186793
         },
         {
          "group": "politics",
          "x": 2.0891778201790645,
          "y": 0.7861042349951253
         },
         {
          "group": "politics",
          "x": 0.6266231015435477,
          "y": 1.361096342209332
         },
         {
          "group": "politics",
          "x": 1.7634804325115891,
          "y": 0.547312768387677
         },
         {
          "group": "politics",
          "x": 0.06610197811591087,
          "y": 0.07184391627601198
         },
         {
          "group": "politics",
          "x": 0.7687193399888442,
          "y": 1.3270357338813399
         },
         {
          "group": "politics",
          "x": 0.9254925326829578,
          "y": -2.688426685615267
         },
         {
          "group": "politics",
          "x": -0.839685459635507,
          "y": -1.861392018201392
         },
         {
          "group": "politics",
          "x": 1.1693126381534285,
          "y": 0.6801760057547378
         },
         {
          "group": "politics",
          "x": 0.7820661391155413,
          "y": -0.6636054038963657
         },
         {
          "group": "politics",
          "x": 0.06148351751779646,
          "y": 0.30137164652591747
         },
         {
          "group": "politics",
          "x": 0.8233639076078715,
          "y": -2.189439657404054
         },
         {
          "group": "politics",
          "x": -0.3190563525853101,
          "y": 0.03950767963837126
         },
         {
          "group": "politics",
          "x": -0.002163694611923133,
          "y": -1.6528677898371782
         },
         {
          "group": "politics",
          "x": -1.5566213265324442,
          "y": -0.16194501408923623
         },
         {
          "group": "politics",
          "x": 0.6092680847759255,
          "y": -1.166373469105913
         },
         {
          "group": "politics",
          "x": -0.41819507725792565,
          "y": 1.0186341310904397
         },
         {
          "group": "politics",
          "x": -0.20374368231397688,
          "y": 0.23597926012779438
         },
         {
          "group": "politics",
          "x": 0.7219755308158675,
          "y": 0.9049864627078377
         },
         {
          "group": "politics",
          "x": 0.41752964559052635,
          "y": 1.449464703137967
         },
         {
          "group": "politics",
          "x": 1.3481364144658223,
          "y": 0.9400090920247706
         },
         {
          "group": "politics",
          "x": 1.4557849378212093,
          "y": 0.4497171256039181
         },
         {
          "group": "politics",
          "x": 1.8755747417159454,
          "y": 1.3627913422252225
         },
         {
          "group": "politics",
          "x": -0.6155646289092823,
          "y": -0.267355979080515
         },
         {
          "group": "politics",
          "x": 0.38870550998529085,
          "y": -0.34000850510454755
         },
         {
          "group": "politics",
          "x": -0.34897336343281016,
          "y": -0.4678873098790714
         },
         {
          "group": "politics",
          "x": 0.715934197459494,
          "y": -0.432902452445714
         },
         {
          "group": "politics",
          "x": 1.0540662893905868,
          "y": -0.5294535855965264
         },
         {
          "group": "politics",
          "x": -1.6583184878458832,
          "y": -1.9312212269405016
         },
         {
          "group": "politics",
          "x": -0.49650125822753594,
          "y": 1.660608299698814
         },
         {
          "group": "politics",
          "x": -0.2856920367179366,
          "y": -0.9463076207818467
         },
         {
          "group": "politics",
          "x": -1.3253294895768337,
          "y": -0.14023140498493555
         },
         {
          "group": "politics",
          "x": -0.5528189146471655,
          "y": 3.0527947055683264
         },
         {
          "group": "politics",
          "x": 1.3218373367219312,
          "y": 1.3153425754468442
         },
         {
          "group": "politics",
          "x": -0.8179381132544473,
          "y": 3.1698974060112466
         },
         {
          "group": "politics",
          "x": 1.1360379175217648,
          "y": 0.15231271315370204
         },
         {
          "group": "politics",
          "x": 0.06707784148755698,
          "y": 0.09769756762660038
         },
         {
          "group": "politics",
          "x": 0.22044367285694466,
          "y": -1.4795638750335471
         },
         {
          "group": "politics",
          "x": 0.6559198634925477,
          "y": 1.8653485739849542
         },
         {
          "group": "politics",
          "x": 0.6903272388936295,
          "y": 0.7551314644015789
         },
         {
          "group": "politics",
          "x": 0.1518150389224732,
          "y": 0.07728294973500435
         },
         {
          "group": "politics",
          "x": 0.666415181078379,
          "y": 0.9732258953369047
         },
         {
          "group": "politics",
          "x": 0.6529848499772358,
          "y": -1.0643298154307086
         },
         {
          "group": "politics",
          "x": -0.24413388117714613,
          "y": 1.3987636989695147
         },
         {
          "group": "politics",
          "x": 0.8342209871935947,
          "y": -0.27792189139602075
         },
         {
          "group": "politics",
          "x": -0.8166671445700036,
          "y": 0.5824439885919929
         },
         {
          "group": "politics",
          "x": 4.098030250620242,
          "y": 1.0126199362585837
         },
         {
          "group": "politics",
          "x": 0.33146758927288467,
          "y": -0.6624847266562683
         },
         {
          "group": "politics",
          "x": 1.7646853954766573,
          "y": 0.2351344967151903
         },
         {
          "group": "politics",
          "x": -1.1677715620132096,
          "y": -0.962761896159965
         },
         {
          "group": "politics",
          "x": -0.9363799630879506,
          "y": -0.05597104413857027
         },
         {
          "group": "politics",
          "x": 0.8431509487814759,
          "y": -0.36053544239367435
         },
         {
          "group": "politics",
          "x": -0.9228629385266263,
          "y": -2.898188111487556
         },
         {
          "group": "politics",
          "x": 1.4811160878563387,
          "y": -2.1462262452239735
         },
         {
          "group": "politics",
          "x": -0.019119163921237314,
          "y": -1.301226527299034
         },
         {
          "group": "politics",
          "x": 2.417379001191511,
          "y": 0.08052492641720814
         },
         {
          "group": "politics",
          "x": 0.46220518888140416,
          "y": 0.0445598415402219
         },
         {
          "group": "politics",
          "x": -0.35264869352082095,
          "y": -0.006929191157831797
         },
         {
          "group": "politics",
          "x": -0.2804777488251847,
          "y": -0.7910058748445585
         },
         {
          "group": "politics",
          "x": -0.06536029918846971,
          "y": -1.0651039909004159
         },
         {
          "group": "politics",
          "x": -0.11089550778849885,
          "y": 0.6367456039425845
         },
         {
          "group": "politics",
          "x": 0.8306901144467277,
          "y": -0.9913291152979293
         },
         {
          "group": "politics",
          "x": 0.046983995561685324,
          "y": -1.2725280865944473
         },
         {
          "group": "politics",
          "x": 0.8710537559632552,
          "y": 0.6407138191361187
         },
         {
          "group": "politics",
          "x": -1.280060320504261,
          "y": 0.661905843684901
         },
         {
          "group": "politics",
          "x": -0.3858012337996129,
          "y": 0.43919269441101966
         },
         {
          "group": "politics",
          "x": -1.3239968102954298,
          "y": 0.5003294681554883
         },
         {
          "group": "politics",
          "x": 1.280921447631239,
          "y": -1.463178118829629
         },
         {
          "group": "politics",
          "x": 2.719639977491961,
          "y": 1.7120323748202262
         },
         {
          "group": "politics",
          "x": 0.6310201054235016,
          "y": -0.9858571643593296
         },
         {
          "group": "politics",
          "x": 0.3067807676723956,
          "y": 0.6411135081952646
         },
         {
          "group": "politics",
          "x": -0.3317038086717216,
          "y": 0.9423116520027187
         },
         {
          "group": "politics",
          "x": -0.14671027489928742,
          "y": 0.8534562407651142
         },
         {
          "group": "politics",
          "x": 1.8560870661641256,
          "y": -0.2920176260548802
         },
         {
          "group": "politics",
          "x": 1.0468595361168291,
          "y": -1.5470630917378796
         },
         {
          "group": "politics",
          "x": 0.3623626956385557,
          "y": -0.21024187617454995
         },
         {
          "group": "politics",
          "x": 1.046502309366824,
          "y": 0.006325674562016089
         },
         {
          "group": "politics",
          "x": 0.7003194644078241,
          "y": 1.0546279801871397
         },
         {
          "group": "politics",
          "x": 0.8209235151223475,
          "y": -0.9386165585569446
         },
         {
          "group": "politics",
          "x": -2.6721726627494937,
          "y": -1.018516035051384
         },
         {
          "group": "politics",
          "x": 1.8680166928473503,
          "y": -0.4397547615620238
         },
         {
          "group": "politics",
          "x": 0.10749541502240093,
          "y": -0.807236328773852
         },
         {
          "group": "politics",
          "x": -0.5904721992953292,
          "y": 0.32865081772023325
         },
         {
          "group": "politics",
          "x": -0.7629202560706206,
          "y": -2.7109453258359175
         },
         {
          "group": "politics",
          "x": -1.1757833803030073,
          "y": -0.40493999630325295
         },
         {
          "group": "politics",
          "x": -1.324010800848667,
          "y": 1.7891833269350326
         },
         {
          "group": "politics",
          "x": -1.5004522470255979,
          "y": 0.5163052134108377
         },
         {
          "group": "politics",
          "x": 2.4921431284250937,
          "y": -2.0236776717385028
         },
         {
          "group": "politics",
          "x": -0.33730934903466797,
          "y": 0.5052819659152898
         },
         {
          "group": "politics",
          "x": 2.349726599196081,
          "y": -1.3131065874995234
         },
         {
          "group": "politics",
          "x": 1.3290316969641622,
          "y": 3.183050363689305
         },
         {
          "group": "politics",
          "x": -0.18219162941723027,
          "y": 1.4907460677408042
         },
         {
          "group": "politics",
          "x": -0.419616934018356,
          "y": -1.5876885765626834
         },
         {
          "group": "politics",
          "x": -0.7428914785739659,
          "y": -1.5415785076665744
         },
         {
          "group": "politics",
          "x": -1.3886126896252855,
          "y": -2.3463109778183715
         },
         {
          "group": "politics",
          "x": 0.5378978296866204,
          "y": -1.50291301134194
         },
         {
          "group": "politics",
          "x": -0.31930344646965186,
          "y": 0.5702769815804529
         },
         {
          "group": "politics",
          "x": -1.9847623997410453,
          "y": 0.6503627153091666
         },
         {
          "group": "politics",
          "x": -0.20047823492934783,
          "y": -0.4999060463187345
         },
         {
          "group": "politics",
          "x": 0.010736104084981197,
          "y": 0.4078843486237135
         },
         {
          "group": "politics",
          "x": -0.057408111567463206,
          "y": 0.523580794363381
         },
         {
          "group": "politics",
          "x": 0.8635334316464449,
          "y": 0.3358041361905511
         },
         {
          "group": "politics",
          "x": -0.6333228454716078,
          "y": 0.5776139669404652
         },
         {
          "group": "politics",
          "x": -0.13371242023252208,
          "y": -0.24906221220901728
         },
         {
          "group": "politics",
          "x": 0.9476079099754746,
          "y": 0.10527108984221904
         },
         {
          "group": "politics",
          "x": -0.2856345246484429,
          "y": 0.746490032453682
         },
         {
          "group": "politics",
          "x": -0.13959909191578967,
          "y": 0.38459729465950565
         },
         {
          "group": "politics",
          "x": 1.2381116022959329,
          "y": 0.7928224870914732
         },
         {
          "group": "politics",
          "x": -0.38380367389896813,
          "y": 0.7670699264350863
         },
         {
          "group": "politics",
          "x": -0.5074043715533938,
          "y": 0.5465636600730239
         },
         {
          "group": "politics",
          "x": 3.164153146718677,
          "y": 1.4026053923253332
         },
         {
          "group": "politics",
          "x": 0.16763900283152938,
          "y": 1.080134807475022
         },
         {
          "group": "politics",
          "x": -1.0196977582208389,
          "y": -2.1438150924108204
         },
         {
          "group": "politics",
          "x": -0.033248145873135466,
          "y": 0.6660798571989659
         },
         {
          "group": "politics",
          "x": -0.20268028218724277,
          "y": -0.889990751366345
         },
         {
          "group": "politics",
          "x": -1.1008435505941974,
          "y": 0.6981212069811507
         },
         {
          "group": "politics",
          "x": -1.451109402828095,
          "y": 1.82520663610285
         },
         {
          "group": "politics",
          "x": 1.2208915676574499,
          "y": -1.3485953425068058
         },
         {
          "group": "politics",
          "x": 0.45633206976978974,
          "y": -0.38704199256741667
         },
         {
          "group": "politics",
          "x": 1.1935008372549174,
          "y": 0.22769303254997342
         },
         {
          "group": "politics",
          "x": -0.07311554694767745,
          "y": 1.90308088830312
         },
         {
          "group": "politics",
          "x": 1.2763256078051117,
          "y": 0.4475574508144788
         },
         {
          "group": "politics",
          "x": 0.3322735787625248,
          "y": 0.961987119839831
         },
         {
          "group": "politics",
          "x": -0.9729300563575825,
          "y": 0.026436645831232296
         },
         {
          "group": "politics",
          "x": -0.12317408651181555,
          "y": -2.7006070461970704
         },
         {
          "group": "politics",
          "x": -0.8312473878656244,
          "y": -0.833908686238892
         },
         {
          "group": "politics",
          "x": 1.1871923609900763,
          "y": 0.4616798285561439
         },
         {
          "group": "politics",
          "x": -1.4989617644020745,
          "y": 2.0281205787156082
         },
         {
          "group": "politics",
          "x": -0.4369890792282871,
          "y": 0.5503002447519312
         },
         {
          "group": "politics",
          "x": -0.1975679995107281,
          "y": 0.14391046959685155
         },
         {
          "group": "politics",
          "x": 1.1164361523268242,
          "y": 0.25871783499594087
         },
         {
          "group": "politics",
          "x": -0.32340784372118087,
          "y": 0.3917546652690318
         },
         {
          "group": "politics",
          "x": 0.47082151028718294,
          "y": 0.3349175615432559
         },
         {
          "group": "politics",
          "x": 0.02590156696337557,
          "y": -1.400075697441224
         },
         {
          "group": "politics",
          "x": 1.098374533086709,
          "y": 1.3656824324705035
         },
         {
          "group": "politics",
          "x": -1.1538838294386724,
          "y": -0.6638779526668757
         },
         {
          "group": "politics",
          "x": -1.043751400442157,
          "y": -0.7077673694135954
         },
         {
          "group": "politics",
          "x": -0.6054478142742985,
          "y": -0.7172345469180389
         },
         {
          "group": "politics",
          "x": -0.05716912198529273,
          "y": -0.3837298866668447
         },
         {
          "group": "politics",
          "x": -1.3204727195060513,
          "y": -1.5539710253576624
         },
         {
          "group": "politics",
          "x": -1.1299309295268134,
          "y": 1.0785027348361835
         },
         {
          "group": "politics",
          "x": 0.24610640948606297,
          "y": 0.43020456077725255
         },
         {
          "group": "politics",
          "x": -0.24665086934630528,
          "y": -2.197614647473476
         },
         {
          "group": "politics",
          "x": 0.7968320690172594,
          "y": -1.2386102158746741
         },
         {
          "group": "politics",
          "x": -0.9817054223797973,
          "y": 0.936939970419417
         },
         {
          "group": "politics",
          "x": 1.5801398201968428,
          "y": -0.9781104741085558
         },
         {
          "group": "politics",
          "x": -0.0836601533386417,
          "y": 1.7231899280507772
         },
         {
          "group": "politics",
          "x": 0.8307100936451912,
          "y": -0.3141025808595136
         },
         {
          "group": "politics",
          "x": 1.3071751555643054,
          "y": -1.6232374151816082
         },
         {
          "group": "politics",
          "x": -0.4194522703929565,
          "y": -1.0551313626455792
         },
         {
          "group": "politics",
          "x": 0.16472354575419487,
          "y": 1.4854245727898245
         },
         {
          "group": "politics",
          "x": -1.159128735638285,
          "y": -0.3602277738934134
         },
         {
          "group": "politics",
          "x": -1.0264987839386195,
          "y": 1.5056097994658564
         },
         {
          "group": "politics",
          "x": 1.7808852229496728,
          "y": -0.13600890071895638
         },
         {
          "group": "politics",
          "x": 0.2596241602792937,
          "y": 1.747634421848895
         },
         {
          "group": "politics",
          "x": 1.4106168368577197,
          "y": 0.3482250094087469
         },
         {
          "group": "politics",
          "x": 0.476680952514017,
          "y": -0.8750029304343536
         },
         {
          "group": "politics",
          "x": 1.7345007218242723,
          "y": -0.04912610525201816
         },
         {
          "group": "politics",
          "x": 1.4381772424828205,
          "y": -0.18730843753035312
         },
         {
          "group": "politics",
          "x": 0.1218973025587522,
          "y": -1.1925213361751363
         },
         {
          "group": "politics",
          "x": 0.3843442699418509,
          "y": -1.2233695485481995
         },
         {
          "group": "politics",
          "x": 0.3294593388490727,
          "y": -2.6718659709455284
         },
         {
          "group": "politics",
          "x": -2.96968713380616,
          "y": -1.4177808851188745
         },
         {
          "group": "politics",
          "x": 0.13390300434611782,
          "y": -2.157869496163084
         },
         {
          "group": "politics",
          "x": 0.8649737206478155,
          "y": -0.9102619086213616
         },
         {
          "group": "politics",
          "x": -0.5840163755231973,
          "y": -0.2714008349578927
         },
         {
          "group": "politics",
          "x": 0.8726786639650924,
          "y": -0.4335438754795288
         },
         {
          "group": "politics",
          "x": -0.3747101023136492,
          "y": -0.4793573886601371
         },
         {
          "group": "politics",
          "x": 1.0985756622515517,
          "y": -1.590206523335771
         },
         {
          "group": "politics",
          "x": -0.24893470974779963,
          "y": -0.6501669363528971
         },
         {
          "group": "politics",
          "x": 1.9267109691824187,
          "y": 0.061510809666277484
         },
         {
          "group": "politics",
          "x": 0.9793188135784495,
          "y": -0.5470095358697836
         },
         {
          "group": "politics",
          "x": 0.7093885960997255,
          "y": 0.3772974053500671
         },
         {
          "group": "politics",
          "x": 1.4823847555704879,
          "y": -0.18880319660038308
         },
         {
          "group": "politics",
          "x": 1.167624262104521,
          "y": -1.210929150113392
         },
         {
          "group": "politics",
          "x": 0.14721904004899525,
          "y": -0.6379187813527597
         },
         {
          "group": "politics",
          "x": 0.3073150642937303,
          "y": 1.7255689376708294
         },
         {
          "group": "politics",
          "x": 0.9841497760974597,
          "y": -2.036051583119804
         },
         {
          "group": "politics",
          "x": 1.5077953325228746,
          "y": -1.57758340021391
         },
         {
          "group": "politics",
          "x": -0.4750176201744316,
          "y": 2.4474157056059616
         },
         {
          "group": "politics",
          "x": 0.33923303956609224,
          "y": -0.4946211686779251
         },
         {
          "group": "politics",
          "x": 0.35529378746202595,
          "y": 1.7167842989660638
         },
         {
          "group": "politics",
          "x": 0.563454263101155,
          "y": 0.1575886644787889
         },
         {
          "group": "politics",
          "x": -0.10592993401216594,
          "y": -0.24763975637335292
         },
         {
          "group": "politics",
          "x": 0.500763091421744,
          "y": -4.22503668165269
         },
         {
          "group": "politics",
          "x": -1.374022038994931,
          "y": -0.8514203200465535
         },
         {
          "group": "politics",
          "x": 0.14869488279833523,
          "y": -1.7814624671661705
         },
         {
          "group": "politics",
          "x": -0.6524114564404688,
          "y": -0.1905371349483166
         },
         {
          "group": "politics",
          "x": -0.5979663657345001,
          "y": 0.48042978200038083
         },
         {
          "group": "politics",
          "x": 2.3588982205343783,
          "y": 0.9951985808978219
         },
         {
          "group": "politics",
          "x": -0.26964153740576297,
          "y": 0.29399471259666815
         },
         {
          "group": "politics",
          "x": -0.4435317962901034,
          "y": -1.8135696004829671
         },
         {
          "group": "politics",
          "x": -2.190063290627204,
          "y": -2.3243360741006676
         },
         {
          "group": "politics",
          "x": 0.8639695239194913,
          "y": 0.32948420212631896
         },
         {
          "group": "politics",
          "x": 0.75305738763362,
          "y": -2.016668138528269
         },
         {
          "group": "politics",
          "x": 0.9871510538699129,
          "y": -0.12330936999789568
         },
         {
          "group": "politics",
          "x": 0.09286427178007119,
          "y": 1.0866259620043317
         },
         {
          "group": "politics",
          "x": 1.5623835716156866,
          "y": -0.7206764268983733
         },
         {
          "group": "politics",
          "x": -1.0417647252346975,
          "y": 0.2685595008261023
         },
         {
          "group": "politics",
          "x": -0.37629045569885955,
          "y": -0.17677923359612924
         },
         {
          "group": "politics",
          "x": 1.3705841310713032,
          "y": 1.116864402608662
         },
         {
          "group": "politics",
          "x": 1.3240235637100661,
          "y": -0.37875411459530967
         },
         {
          "group": "politics",
          "x": 0.0418934813189672,
          "y": 1.4470953494763423
         },
         {
          "group": "politics",
          "x": 1.6660384504825625,
          "y": -0.1687940512304573
         },
         {
          "group": "politics",
          "x": -0.8631693870427023,
          "y": -0.13131550006435114
         },
         {
          "group": "politics",
          "x": 0.04459039538859302,
          "y": -0.8252272894311353
         },
         {
          "group": "politics",
          "x": 0.37301553234539536,
          "y": 1.0678778164096367
         },
         {
          "group": "politics",
          "x": -0.7486133716122669,
          "y": -0.2400984821364367
         },
         {
          "group": "politics",
          "x": -0.11648573389953794,
          "y": -1.0462333220092914
         },
         {
          "group": "politics",
          "x": -1.9858898383315389,
          "y": -0.3861369097636969
         },
         {
          "group": "politics",
          "x": 1.4258864802635485,
          "y": 1.5660895001267339
         },
         {
          "group": "politics",
          "x": 1.7532963866926927,
          "y": 0.31441978510635266
         },
         {
          "group": "politics",
          "x": 1.9048835434813325,
          "y": -2.2559055393465344
         },
         {
          "group": "politics",
          "x": -2.1443702385052728,
          "y": 1.3043541589040168
         },
         {
          "group": "politics",
          "x": -0.04687637764415644,
          "y": -0.9195627889839034
         },
         {
          "group": "politics",
          "x": 0.1382464740425945,
          "y": -0.7330632305877398
         },
         {
          "group": "politics",
          "x": 0.07002403727849792,
          "y": 0.6771217116935144
         },
         {
          "group": "politics",
          "x": 1.6336603430256065,
          "y": -0.051853729067722454
         },
         {
          "group": "politics",
          "x": 1.4454767913852917,
          "y": -1.316066180446407
         },
         {
          "group": "politics",
          "x": 0.16268693474814752,
          "y": 0.5494127537316899
         },
         {
          "group": "politics",
          "x": 1.70291886359778,
          "y": -1.5848533650030459
         },
         {
          "group": "politics",
          "x": -1.2109060656290267,
          "y": -1.756194649195557
         },
         {
          "group": "politics",
          "x": 0.1266397765607528,
          "y": -0.3433717179050857
         },
         {
          "group": "politics",
          "x": 0.3598367571631652,
          "y": -1.135383279119206
         },
         {
          "group": "politics",
          "x": 0.027737998114302255,
          "y": 0.375214784725779
         },
         {
          "group": "politics",
          "x": 1.6010984444607081,
          "y": 0.7104940840125675
         },
         {
          "group": "politics",
          "x": -0.6746033236009527,
          "y": 0.39036362824317383
         },
         {
          "group": "politics",
          "x": -0.49566863980366105,
          "y": -2.3684650515291406
         },
         {
          "group": "politics",
          "x": 0.5527740396376869,
          "y": 0.01432240189558708
         },
         {
          "group": "politics",
          "x": -0.04482884364225586,
          "y": 0.3149551010687584
         },
         {
          "group": "politics",
          "x": 0.6212447545566989,
          "y": -0.0072961991813573915
         },
         {
          "group": "politics",
          "x": -0.6648721224970126,
          "y": 1.4964433363212395
         },
         {
          "group": "politics",
          "x": -1.0480278818309245,
          "y": -1.0885207967880206
         },
         {
          "group": "politics",
          "x": 1.6186019992638383,
          "y": 1.9868105961108886
         },
         {
          "group": "politics",
          "x": 0.264764725533333,
          "y": 1.4394546484803117
         },
         {
          "group": "politics",
          "x": 0.40847736262480794,
          "y": 1.7864526435520005
         },
         {
          "group": "politics",
          "x": 1.8833625424455096,
          "y": -1.0629611102137986
         },
         {
          "group": "politics",
          "x": 0.31821816554710786,
          "y": 2.961972625666585
         },
         {
          "group": "politics",
          "x": 0.05466016214277297,
          "y": -1.3066167725313675
         },
         {
          "group": "politics",
          "x": 2.8379013458778197,
          "y": -0.29560734077682843
         }
        ]
       },
       "encoding": {
        "color": {
         "field": "group",
         "type": "nominal"
        },
        "x": {
         "field": "x",
         "type": "quantitative"
        },
        "y": {
         "field": "y",
         "type": "quantitative"
        }
       },
       "mark": "point"
      },
      "image/png": "[encoded data removed]",
      "text/plain": [
       "<VegaLite 2 object>\n",
       "\n",
       "If you see this message, it means the renderer has not been properly enabled\n",
       "for the frontend that you are using. For more information, see\n",
       "https://altair-viz.github.io/user_guide/troubleshooting.html\n"
      ]
     },
     "execution_count": 33,
     "metadata": {},
     "output_type": "execute_result"
    }
   ],
   "source": [
    "alt.Chart(dx[dx[\"group\"].isin([\"politics\", \"business\"])]).mark_point().encode(x=\"x\", y=\"y\", color=\"group\")"
   ]
  },
  {
   "cell_type": "code",
   "execution_count": null,
   "metadata": {},
   "outputs": [],
   "source": []
  }
 ],
 "metadata": {
  "kernelspec": {
   "display_name": "Python 3",
   "language": "python",
   "name": "python3"
  },
  "language_info": {
   "codemirror_mode": {
    "name": "ipython",
    "version": 3
   },
   "file_extension": ".py",
   "mimetype": "text/x-python",
   "name": "python",
   "nbconvert_exporter": "python",
   "pygments_lexer": "ipython3",
   "version": "3.7.2"
  }
 },
 "nbformat": 4,
 "nbformat_minor": 2
}
