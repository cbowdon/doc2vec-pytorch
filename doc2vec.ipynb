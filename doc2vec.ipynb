{
 "cells": [
  {
   "cell_type": "markdown",
   "metadata": {},
   "source": [
    "Doc2vec from scratch in PyTorch\n",
    "===============================\n",
    "\n",
    "Here we are implementing this useful algorithm with a library we know and trust. With luck this will be more accessible than reading the papers but more in-depth than typical \"install gensim and just do what I say\" tutorials, and still easy to understand for anyone whose maths skills have atrophied to nothing (like me). This is all based on the great work by [Nejc Ilenic](https://github.com/ilenic/paragraph-vectors) and reading the referenced papers.\n",
    "\n",
    "The basic form of `word2vec` (and so `doc2vec`) is that it is a classifier trained to predict the missing word in a context. So given sentences like \"the cat _ on the mat\" it should predict \"sat\", and so learn a useful representation of words. We can then extract the internal weights and re-use them as \"word embeddings\", vectors giving each word a position in N-dimensional space that is hopefully close to similar words and an appropriate distance from related words. \n",
    "\n",
    "`doc2vec` or \"Paragraph vectors\" extends the `word2vec` idea by simply adding a document id to each context. This helps the network learn associations between contexts (but of course produces less generalizable vectors)."
   ]
  },
  {
   "cell_type": "markdown",
   "metadata": {},
   "source": [
    "First we need to load the data. We'll by overfitting on a tiny dataset just to check all the parts fit together."
   ]
  },
  {
   "cell_type": "code",
   "execution_count": 1,
   "metadata": {},
   "outputs": [
    {
     "data": {
      "text/html": [
       "<div>\n",
       "<style scoped>\n",
       "    .dataframe tbody tr th:only-of-type {\n",
       "        vertical-align: middle;\n",
       "    }\n",
       "\n",
       "    .dataframe tbody tr th {\n",
       "        vertical-align: top;\n",
       "    }\n",
       "\n",
       "    .dataframe thead th {\n",
       "        text-align: right;\n",
       "    }\n",
       "</style>\n",
       "<table border=\"1\" class=\"dataframe\">\n",
       "  <thead>\n",
       "    <tr style=\"text-align: right;\">\n",
       "      <th></th>\n",
       "      <th>text</th>\n",
       "      <th>tokens</th>\n",
       "    </tr>\n",
       "  </thead>\n",
       "  <tbody>\n",
       "    <tr>\n",
       "      <th>0</th>\n",
       "      <td>In the week before their departure to Arrakis,...</td>\n",
       "      <td>[in, the, week, before, their, departure, to, ...</td>\n",
       "    </tr>\n",
       "    <tr>\n",
       "      <th>1</th>\n",
       "      <td>It was a warm night at Castle Caladan, and the...</td>\n",
       "      <td>[it, was, a, warm, night, at, castle, caladan,...</td>\n",
       "    </tr>\n",
       "    <tr>\n",
       "      <th>2</th>\n",
       "      <td>The old woman was let in by the side door down...</td>\n",
       "      <td>[the, old, woman, was, let, in, by, the, side,...</td>\n",
       "    </tr>\n",
       "    <tr>\n",
       "      <th>3</th>\n",
       "      <td>By the half-light of a suspensor lamp, dimmed ...</td>\n",
       "      <td>[by, the, half, light, of, a, suspensor, lamp,...</td>\n",
       "    </tr>\n",
       "  </tbody>\n",
       "</table>\n",
       "</div>"
      ],
      "text/plain": [
       "                                                text  \\\n",
       "0  In the week before their departure to Arrakis,...   \n",
       "1  It was a warm night at Castle Caladan, and the...   \n",
       "2  The old woman was let in by the side door down...   \n",
       "3  By the half-light of a suspensor lamp, dimmed ...   \n",
       "\n",
       "                                              tokens  \n",
       "0  [in, the, week, before, their, departure, to, ...  \n",
       "1  [it, was, a, warm, night, at, castle, caladan,...  \n",
       "2  [the, old, woman, was, let, in, by, the, side,...  \n",
       "3  [by, the, half, light, of, a, suspensor, lamp,...  "
      ]
     },
     "execution_count": 1,
     "metadata": {},
     "output_type": "execute_result"
    }
   ],
   "source": [
    "import pandas as pd\n",
    "import spacy\n",
    "\n",
    "nlp = spacy.load(\"en_core_web_sm\")\n",
    "\n",
    "example_df = pd.read_csv(\"data/example.csv\")\n",
    "\n",
    "def tokenize_text(df):\n",
    "    df[\"tokens\"] = df.text.str.lower().str.strip().apply(lambda x: [token.text.strip() for token in nlp(x) if token.text.isalnum()])\n",
    "    return df\n",
    "\n",
    "example_df = tokenize_text(example_df)\n",
    "\n",
    "example_df"
   ]
  },
  {
   "cell_type": "markdown",
   "metadata": {},
   "source": [
    "We will need to construct a vocabulary so we can reference every word by an ID."
   ]
  },
  {
   "cell_type": "code",
   "execution_count": 2,
   "metadata": {},
   "outputs": [
    {
     "name": "stdout",
     "output_type": "stream",
     "text": [
      "Dataset comprises 4 documents and 106 unique words (over the limit of 1 occurrences)\n"
     ]
    }
   ],
   "source": [
    "from collections import Counter\n",
    "\n",
    "class Vocab:\n",
    "    def __init__(self, all_tokens, min_count=2):\n",
    "        self.min_count = min_count\n",
    "        self.freqs = {t:n for t, n in Counter(all_tokens).items() if n >= min_count}\n",
    "        self.words = sorted(self.freqs.keys())\n",
    "        self.word2idx = {w: i for i, w in enumerate(self.words)}\n",
    "        \n",
    "vocab = Vocab([tok for tokens in example_df.tokens for tok in tokens], min_count=1)\n",
    "\n",
    "print(f\"Dataset comprises {len(example_df)} documents and {len(vocab.words)} unique words (over the limit of {vocab.min_count} occurrences)\")"
   ]
  },
  {
   "cell_type": "markdown",
   "metadata": {},
   "source": [
    "Words that appear extremely rarely can harm performance, so we add a simple mechanism to strip those out."
   ]
  },
  {
   "cell_type": "code",
   "execution_count": 3,
   "metadata": {},
   "outputs": [
    {
     "data": {
      "text/html": [
       "<div>\n",
       "<style scoped>\n",
       "    .dataframe tbody tr th:only-of-type {\n",
       "        vertical-align: middle;\n",
       "    }\n",
       "\n",
       "    .dataframe tbody tr th {\n",
       "        vertical-align: top;\n",
       "    }\n",
       "\n",
       "    .dataframe thead th {\n",
       "        text-align: right;\n",
       "    }\n",
       "</style>\n",
       "<table border=\"1\" class=\"dataframe\">\n",
       "  <thead>\n",
       "    <tr style=\"text-align: right;\">\n",
       "      <th></th>\n",
       "      <th>text</th>\n",
       "      <th>tokens</th>\n",
       "      <th>length</th>\n",
       "      <th>clean_tokens</th>\n",
       "      <th>clean_length</th>\n",
       "    </tr>\n",
       "  </thead>\n",
       "  <tbody>\n",
       "    <tr>\n",
       "      <th>0</th>\n",
       "      <td>In the week before their departure to Arrakis,...</td>\n",
       "      <td>[in, the, week, before, their, departure, to, ...</td>\n",
       "      <td>32</td>\n",
       "      <td>[in, the, week, before, their, departure, to, ...</td>\n",
       "      <td>32</td>\n",
       "    </tr>\n",
       "    <tr>\n",
       "      <th>1</th>\n",
       "      <td>It was a warm night at Castle Caladan, and the...</td>\n",
       "      <td>[it, was, a, warm, night, at, castle, caladan,...</td>\n",
       "      <td>39</td>\n",
       "      <td>[it, was, a, warm, night, at, castle, caladan,...</td>\n",
       "      <td>39</td>\n",
       "    </tr>\n",
       "    <tr>\n",
       "      <th>2</th>\n",
       "      <td>The old woman was let in by the side door down...</td>\n",
       "      <td>[the, old, woman, was, let, in, by, the, side,...</td>\n",
       "      <td>34</td>\n",
       "      <td>[the, old, woman, was, let, in, by, the, side,...</td>\n",
       "      <td>34</td>\n",
       "    </tr>\n",
       "    <tr>\n",
       "      <th>3</th>\n",
       "      <td>By the half-light of a suspensor lamp, dimmed ...</td>\n",
       "      <td>[by, the, half, light, of, a, suspensor, lamp,...</td>\n",
       "      <td>53</td>\n",
       "      <td>[by, the, half, light, of, a, suspensor, lamp,...</td>\n",
       "      <td>53</td>\n",
       "    </tr>\n",
       "  </tbody>\n",
       "</table>\n",
       "</div>"
      ],
      "text/plain": [
       "                                                text  \\\n",
       "0  In the week before their departure to Arrakis,...   \n",
       "1  It was a warm night at Castle Caladan, and the...   \n",
       "2  The old woman was let in by the side door down...   \n",
       "3  By the half-light of a suspensor lamp, dimmed ...   \n",
       "\n",
       "                                              tokens  length  \\\n",
       "0  [in, the, week, before, their, departure, to, ...      32   \n",
       "1  [it, was, a, warm, night, at, castle, caladan,...      39   \n",
       "2  [the, old, woman, was, let, in, by, the, side,...      34   \n",
       "3  [by, the, half, light, of, a, suspensor, lamp,...      53   \n",
       "\n",
       "                                        clean_tokens  clean_length  \n",
       "0  [in, the, week, before, their, departure, to, ...            32  \n",
       "1  [it, was, a, warm, night, at, castle, caladan,...            39  \n",
       "2  [the, old, woman, was, let, in, by, the, side,...            34  \n",
       "3  [by, the, half, light, of, a, suspensor, lamp,...            53  "
      ]
     },
     "execution_count": 3,
     "metadata": {},
     "output_type": "execute_result"
    }
   ],
   "source": [
    "def clean_tokens(df, vocab):\n",
    "    df[\"length\"] = df.tokens.apply(len)\n",
    "    df[\"clean_tokens\"] = df.tokens.apply(lambda x: [t for t in x if t in vocab.freqs.keys()])\n",
    "    df[\"clean_length\"] = df.clean_tokens.apply(len)\n",
    "    return df\n",
    "\n",
    "example_df = clean_tokens(example_df, vocab)\n",
    "example_df[:5]"
   ]
  },
  {
   "cell_type": "markdown",
   "metadata": {},
   "source": [
    "The difficulty with our \"the cat _ on the mat\" problem is that the missing word could be any one in the vocabulary V and so the network would have |V| outputs for each input e.g. a huge vector containing zero for every word in the vocabulary and some positive number for \"sat\" if the network was perfectly trained. For calculating loss we need to turn that into a probabilty distribution, i.e. _softmax_ it. Computing the softmax for such a large vector is expensive.\n",
    "\n",
    "So the trick (one of many possible) we will use is _Noise Contrastive Estimation (NCE)_. We change our \"the cat _ on the mat\" problem into a multiple choice problem, asking the network to choose between \"sat\" and some random wrong answers like \"hopscotch\" and \"luxuriated\". This is easier to compute the softmax for since it's now a binary classifier (right or wrong answer) and the output is simply of a vector of size 1 + k where k is the number of random incorrect options.\n",
    "\n",
    "Happily, this alternative problem still learns equally useful word representations. We just need to adjust the examples and the loss function. There is a simplified version of the NCE loss function called _Negative Sampling (NEG)_ that we can use here.\n",
    "\n",
    "[Notes on Noise Contrastive Estimation and Negative Sampling (C. Dyer)](https://arxiv.org/abs/1410.8251) explains the derivation of the NCE and NEG loss functions.\n",
    "\n",
    "When we implement the loss function, we assume that the first element in a samples/scores vector is the score for the positive sample and the rest are negative samples. This convention saves us from having to pass around an auxiliary vector indicating which sample was positive."
   ]
  },
  {
   "cell_type": "code",
   "execution_count": 4,
   "metadata": {},
   "outputs": [],
   "source": [
    "import torch.nn as nn\n",
    "\n",
    "class NegativeSampling(nn.Module):\n",
    "    def __init__(self):\n",
    "        super(NegativeSampling, self).__init__()\n",
    "        self.log_sigmoid = nn.LogSigmoid()\n",
    "    def forward(self, scores):\n",
    "        batch_size = scores.shape[0]\n",
    "        n_negative_samples = scores.shape[1] - 1   # TODO average or sum the negative samples? Summing seems to be correct by the paper\n",
    "        positive = self.log_sigmoid(scores[:,0])\n",
    "        negatives = torch.sum(self.log_sigmoid(-scores[:,1:]), dim=1)\n",
    "        return -torch.sum(positive + negatives) / batch_size  # average for batch\n",
    "\n",
    "loss = NegativeSampling()"
   ]
  },
  {
   "cell_type": "markdown",
   "metadata": {},
   "source": [
    "It's helpful to play with some values to reassure ourselves that this function does the right thing."
   ]
  },
  {
   "cell_type": "code",
   "execution_count": 5,
   "metadata": {},
   "outputs": [
    {
     "data": {
      "text/html": [
       "<div>\n",
       "<style scoped>\n",
       "    .dataframe tbody tr th:only-of-type {\n",
       "        vertical-align: middle;\n",
       "    }\n",
       "\n",
       "    .dataframe tbody tr th {\n",
       "        vertical-align: top;\n",
       "    }\n",
       "\n",
       "    .dataframe thead th {\n",
       "        text-align: right;\n",
       "    }\n",
       "</style>\n",
       "<table border=\"1\" class=\"dataframe\">\n",
       "  <thead>\n",
       "    <tr style=\"text-align: right;\">\n",
       "      <th></th>\n",
       "      <th>scores</th>\n",
       "      <th>loss</th>\n",
       "    </tr>\n",
       "  </thead>\n",
       "  <tbody>\n",
       "    <tr>\n",
       "      <th>0</th>\n",
       "      <td>[1, -1, -1, -1]</td>\n",
       "      <td>tensor(1.2530)</td>\n",
       "    </tr>\n",
       "    <tr>\n",
       "      <th>1</th>\n",
       "      <td>[0.5, -1, -1, -1]</td>\n",
       "      <td>tensor(1.4139)</td>\n",
       "    </tr>\n",
       "    <tr>\n",
       "      <th>2</th>\n",
       "      <td>[0, -1, -1, -1]</td>\n",
       "      <td>tensor(1.6329)</td>\n",
       "    </tr>\n",
       "    <tr>\n",
       "      <th>3</th>\n",
       "      <td>[0, 0, 0, 0]</td>\n",
       "      <td>tensor(2.7726)</td>\n",
       "    </tr>\n",
       "    <tr>\n",
       "      <th>4</th>\n",
       "      <td>[0, 0, 0, 1]</td>\n",
       "      <td>tensor(3.3927)</td>\n",
       "    </tr>\n",
       "    <tr>\n",
       "      <th>5</th>\n",
       "      <td>[0, 1, 1, 1]</td>\n",
       "      <td>tensor(4.6329)</td>\n",
       "    </tr>\n",
       "    <tr>\n",
       "      <th>6</th>\n",
       "      <td>[0.5, 1, 1, 1]</td>\n",
       "      <td>tensor(4.4139)</td>\n",
       "    </tr>\n",
       "    <tr>\n",
       "      <th>7</th>\n",
       "      <td>[1, 1, 1, 1]</td>\n",
       "      <td>tensor(4.2530)</td>\n",
       "    </tr>\n",
       "  </tbody>\n",
       "</table>\n",
       "</div>"
      ],
      "text/plain": [
       "              scores            loss\n",
       "0    [1, -1, -1, -1]  tensor(1.2530)\n",
       "1  [0.5, -1, -1, -1]  tensor(1.4139)\n",
       "2    [0, -1, -1, -1]  tensor(1.6329)\n",
       "3       [0, 0, 0, 0]  tensor(2.7726)\n",
       "4       [0, 0, 0, 1]  tensor(3.3927)\n",
       "5       [0, 1, 1, 1]  tensor(4.6329)\n",
       "6     [0.5, 1, 1, 1]  tensor(4.4139)\n",
       "7       [1, 1, 1, 1]  tensor(4.2530)"
      ]
     },
     "execution_count": 5,
     "metadata": {},
     "output_type": "execute_result"
    }
   ],
   "source": [
    "import torch \n",
    "\n",
    "data = [[[1, -1, -1, -1]],  # this dummy data uses -1 to 1, but the real model is unconstrained\n",
    "        [[0.5, -1, -1, -1]],\n",
    "        [[0, -1, -1, -1]],\n",
    "        [[0, 0, 0, 0]],\n",
    "        [[0, 0, 0, 1]],\n",
    "        [[0, 1, 1, 1]],\n",
    "        [[0.5, 1, 1, 1]],\n",
    "        [[1, 1, 1, 1]]]\n",
    "\n",
    "loss_df = pd.DataFrame(data, columns=[\"scores\"])\n",
    "loss_df[\"loss\"] = loss_df.scores.apply(lambda x: loss(torch.FloatTensor([x])))\n",
    "\n",
    "loss_df"
   ]
  },
  {
   "cell_type": "markdown",
   "metadata": {},
   "source": [
    "Higher scores for the positive sample (always the first element) reduce the loss but higher scores for the negative samples increase the loss. This looks like the right behaviour."
   ]
  },
  {
   "cell_type": "markdown",
   "metadata": {},
   "source": [
    "With that in the bag, let's look at creating training data. The general idea is to create a set of examples where each example has:\n",
    "\n",
    "- doc id\n",
    "- sample ids - a collection of the target token and some noise tokens\n",
    "- context ids - tokens before and after the target token\n",
    "\n",
    "e.g. If our context size was 2, the first example from the above dataset would be:\n",
    "\n",
    "```\n",
    "{\"doc_id\": 0,\n",
    " \"sample_ids\": [word2idx[x] for x in [\"week\", \"random-word-from-vocab\", \"random-word-from-vocab\"...],\n",
    " \"context_ids\": [word2idx[x] for x in [\"in\", \"the\", \"before\", \"their\"]]}\n",
    " ```\n",
    " \n",
    " The random words are chosen according to a probability distribution:\n",
    " \n",
    " > a unigram distribution raised to the 3/4rd power, as proposed by T. Mikolov et al. in Distributed Representations of Words and Phrases and their Compositionality\n",
    "\n",
    "This has the effect of slightly increasing the relative probability of rare words (look at the graph of `y=x^0.75` below and see how the lower end is raised above `y=x`)."
   ]
  },
  {
   "cell_type": "code",
   "execution_count": 6,
   "metadata": {},
   "outputs": [
    {
     "data": {
      "application/vnd.vegalite.v2+json": {
       "$schema": "https://vega.github.io/schema/vega-lite/v2.6.0.json",
       "config": {
        "view": {
         "height": 300,
         "width": 400
        }
       },
       "data": {
        "name": "data-afc3dc0951a9e12875119a5af86e52b5"
       },
       "datasets": {
        "data-afc3dc0951a9e12875119a5af86e52b5": [
         {
          "x": 0,
          "y": 0
         },
         {
          "x": 0.01,
          "y": 0.03162277660168379
         },
         {
          "x": 0.02,
          "y": 0.053182958969449884
         },
         {
          "x": 0.03,
          "y": 0.07208434242404263
         },
         {
          "x": 0.04,
          "y": 0.08944271909999159
         },
         {
          "x": 0.05,
          "y": 0.10573712634405642
         },
         {
          "x": 0.06,
          "y": 0.12123093028059741
         },
         {
          "x": 0.07,
          "y": 0.13608915892697748
         },
         {
          "x": 0.08,
          "y": 0.15042412372345573
         },
         {
          "x": 0.09,
          "y": 0.16431676725154984
         },
         {
          "x": 0.1,
          "y": 0.1778279410038923
         },
         {
          "x": 0.11,
          "y": 0.19100490227716513
         },
         {
          "x": 0.12,
          "y": 0.2038853093816547
         },
         {
          "x": 0.13,
          "y": 0.2164998073464082
         },
         {
          "x": 0.14,
          "y": 0.22887377179317683
         },
         {
          "x": 0.15,
          "y": 0.2410285256833955
         },
         {
          "x": 0.16,
          "y": 0.25298221281347033
         },
         {
          "x": 0.17,
          "y": 0.26475044029330763
         },
         {
          "x": 0.18,
          "y": 0.2763467610958144
         },
         {
          "x": 0.19,
          "y": 0.28778304315451386
         },
         {
          "x": 0.2,
          "y": 0.29906975624424414
         },
         {
          "x": 0.21,
          "y": 0.3102161981490854
         },
         {
          "x": 0.22,
          "y": 0.32123067524150845
         },
         {
          "x": 0.23,
          "y": 0.33212064831351956
         },
         {
          "x": 0.24,
          "y": 0.34289285156385596
         },
         {
          "x": 0.25,
          "y": 0.3535533905932738
         },
         {
          "x": 0.26,
          "y": 0.3641078238014289
         },
         {
          "x": 0.27,
          "y": 0.37456123052590357
         },
         {
          "x": 0.28,
          "y": 0.38491826849295824
         },
         {
          "x": 0.29,
          "y": 0.39518322257770583
         },
         {
          "x": 0.3,
          "y": 0.4053600464421103
         },
         {
          "x": 0.31,
          "y": 0.41545239829339137
         },
         {
          "x": 0.32,
          "y": 0.42546367175559907
         },
         {
          "x": 0.33,
          "y": 0.43539702265375557
         },
         {
          "x": 0.34,
          "y": 0.4452553923589699
         },
         {
          "x": 0.35000000000000003,
          "y": 0.45504152822405847
         },
         {
          "x": 0.36,
          "y": 0.46475800154489
         },
         {
          "x": 0.37,
          "y": 0.47440722340731084
         },
         {
          "x": 0.38,
          "y": 0.4839914587188715
         },
         {
          "x": 0.39,
          "y": 0.4935128386754873
         },
         {
          "x": 0.4,
          "y": 0.5029733718731741
         },
         {
          "x": 0.41000000000000003,
          "y": 0.5123749542422491
         },
         {
          "x": 0.42,
          "y": 0.5217193779544038
         },
         {
          "x": 0.43,
          "y": 0.5310083394307343
         },
         {
          "x": 0.44,
          "y": 0.5402434465602292
         },
         {
          "x": 0.45,
          "y": 0.549426225222706
         },
         {
          "x": 0.46,
          "y": 0.5585581251971565
         },
         {
          "x": 0.47000000000000003,
          "y": 0.5676405255254853
         },
         {
          "x": 0.48,
          "y": 0.576674739392341
         },
         {
          "x": 0.49,
          "y": 0.5856620185738529
         },
         {
          "x": 0.5,
          "y": 0.5946035575013605
         },
         {
          "x": 0.51,
          "y": 0.6035004969804791
         },
         {
          "x": 0.52,
          "y": 0.6123539276009055
         },
         {
          "x": 0.53,
          "y": 0.6211648928681236
         },
         {
          "x": 0.54,
          "y": 0.629934392084505
         },
         {
          "x": 0.55,
          "y": 0.6386633830041155
         },
         {
          "x": 0.56,
          "y": 0.6473527842827909
         },
         {
          "x": 0.5700000000000001,
          "y": 0.6560034777426358
         },
         {
          "x": 0.58,
          "y": 0.6646163104680073
         },
         {
          "x": 0.59,
          "y": 0.6731920967482075
         },
         {
          "x": 0.6,
          "y": 0.6817316198804996
         },
         {
          "x": 0.61,
          "y": 0.6902356338456498
         },
         {
          "x": 0.62,
          "y": 0.6987048648669424
         },
         {
          "x": 0.63,
          "y": 0.7071400128625219
         },
         {
          "x": 0.64,
          "y": 0.7155417527999327
         },
         {
          "x": 0.65,
          "y": 0.7239107359608682
         },
         {
          "x": 0.66,
          "y": 0.7322475911233668
         },
         {
          "x": 0.67,
          "y": 0.7405529256680135
         },
         {
          "x": 0.68,
          "y": 0.7488273266140879
         },
         {
          "x": 0.6900000000000001,
          "y": 0.7570713615910638
         },
         {
          "x": 0.7000000000000001,
          "y": 0.7652855797503655
         },
         {
          "x": 0.71,
          "y": 0.7734705126218591
         },
         {
          "x": 0.72,
          "y": 0.7816266749191567
         },
         {
          "x": 0.73,
          "y": 0.7897545652974598
         },
         {
          "x": 0.74,
          "y": 0.7978546670673515
         },
         {
          "x": 0.75,
          "y": 0.8059274488676564
         },
         {
          "x": 0.76,
          "y": 0.8139733653002305
         },
         {
          "x": 0.77,
          "y": 0.8219928575293057
         },
         {
          "x": 0.78,
          "y": 0.829986353847804
         },
         {
          "x": 0.79,
          "y": 0.837954270212839
         },
         {
          "x": 0.8,
          "y": 0.8458970107524514
         },
         {
          "x": 0.81,
          "y": 0.8538149682454624
         },
         {
          "x": 0.8200000000000001,
          "y": 0.8617085245761865
         },
         {
          "x": 0.8300000000000001,
          "y": 0.869578051165608
         },
         {
          "x": 0.84,
          "y": 0.8774239093805121
         },
         {
          "x": 0.85,
          "y": 0.8852464509219427
         },
         {
          "x": 0.86,
          "y": 0.8930460181942644
         },
         {
          "x": 0.87,
          "y": 0.9008229446560111
         },
         {
          "x": 0.88,
          "y": 0.9085775551536168
         },
         {
          "x": 0.89,
          "y": 0.9163101662390513
         },
         {
          "x": 0.9,
          "y": 0.9240210864723069
         },
         {
          "x": 0.91,
          "y": 0.9317106167096201
         },
         {
          "x": 0.92,
          "y": 0.9393790503782488
         },
         {
          "x": 0.93,
          "y": 0.9470266737385726
         },
         {
          "x": 0.9400000000000001,
          "y": 0.9546537661342305
         },
         {
          "x": 0.9500000000000001,
          "y": 0.9622606002309622
         },
         {
          "x": 0.96,
          "y": 0.9698474422447793
         },
         {
          "x": 0.97,
          "y": 0.9774145521600454
         },
         {
          "x": 0.98,
          "y": 0.9849621839380145
         },
         {
          "x": 0.99,
          "y": 0.992490585716335
         }
        ]
       },
       "encoding": {
        "x": {
         "field": "x",
         "type": "quantitative"
        },
        "y": {
         "field": "y",
         "type": "quantitative"
        }
       },
       "mark": "line",
       "title": "x^0.75"
      },
      "image/png": "[encoded data removed]",
      "text/plain": [
       "<VegaLite 2 object>\n",
       "\n",
       "If you see this message, it means the renderer has not been properly enabled\n",
       "for the frontend that you are using. For more information, see\n",
       "https://altair-viz.github.io/user_guide/troubleshooting.html\n"
      ]
     },
     "execution_count": 6,
     "metadata": {},
     "output_type": "execute_result"
    }
   ],
   "source": [
    "import altair as alt\n",
    "import numpy as np\n",
    "\n",
    "data = pd.DataFrame(zip(np.arange(0,1,0.01), np.power(np.arange(0,1,0.01), 0.75)), columns=[\"x\", \"y\"])\n",
    "alt.Chart(data, title=\"x^0.75\").mark_line().encode(x=\"x\", y=\"y\")"
   ]
  },
  {
   "cell_type": "code",
   "execution_count": 7,
   "metadata": {},
   "outputs": [],
   "source": [
    "import numpy as np\n",
    "\n",
    "class NoiseDistribution:\n",
    "    def __init__(self, vocab):\n",
    "        self.probs = np.array([vocab.freqs[w] for w in vocab.words])\n",
    "        self.probs = np.power(self.probs, 0.75)\n",
    "        self.probs /= np.sum(self.probs)\n",
    "    def sample(self, n):\n",
    "        \"Returns the indices of n words randomly sampled from the vocabulary.\"\n",
    "        return np.random.choice(a=self.probs.shape[0], size=n, p=self.probs)\n",
    "        \n",
    "noise = NoiseDistribution(vocab)"
   ]
  },
  {
   "cell_type": "markdown",
   "metadata": {},
   "source": [
    "With this distribution, we advance through the documents creating examples. Note that we are always putting the positive sample first in the samples vector, following the convention the loss function expects."
   ]
  },
  {
   "cell_type": "code",
   "execution_count": 8,
   "metadata": {},
   "outputs": [],
   "source": [
    "import torch\n",
    "\n",
    "def example_generator(df, context_size, noise, n_negative_samples, vocab):\n",
    "    for doc_id, doc in df.iterrows():\n",
    "        for i in range(context_size, len(doc.clean_tokens) - context_size):\n",
    "            positive_sample = vocab.word2idx[doc.clean_tokens[i]]\n",
    "            sample_ids = noise.sample(n_negative_samples).tolist()\n",
    "            # Fix a wee bug - ensure negative samples don't accidentally include the positive\n",
    "            sample_ids = [sample_id if sample_id != positive_sample else -1 for sample_id in sample_ids]\n",
    "            sample_ids.insert(0, positive_sample)                \n",
    "            context = doc.clean_tokens[i - context_size:i] + doc.clean_tokens[i + 1:i + context_size + 1]\n",
    "            context_ids = [vocab.word2idx[w] for w in context]\n",
    "            yield {\"doc_ids\": torch.tensor(doc_id),  # we use plural here because it will be batched\n",
    "                   \"sample_ids\": torch.tensor(sample_ids), \n",
    "                   \"context_ids\": torch.tensor(context_ids)}\n",
    "            \n",
    "examples = example_generator(example_df, context_size=5, noise=noise, n_negative_samples=5, vocab=vocab)"
   ]
  },
  {
   "cell_type": "markdown",
   "metadata": {},
   "source": [
    "Now we package this up as a good old PyTorch dataset and dataloader."
   ]
  },
  {
   "cell_type": "code",
   "execution_count": 9,
   "metadata": {},
   "outputs": [],
   "source": [
    "from torch.utils.data import Dataset, DataLoader\n",
    "\n",
    "class NCEDataset(Dataset):\n",
    "    def __init__(self, examples):\n",
    "        self.examples = list(examples)  # just naively evaluate the whole damn thing - suboptimal!\n",
    "    def __len__(self):\n",
    "        return len(self.examples)\n",
    "    def __getitem__(self, index):\n",
    "        return self.examples[index]\n",
    "    \n",
    "dataset = NCEDataset(examples)\n",
    "dataloader = DataLoader(dataset, batch_size=2, drop_last=True, shuffle=True)  # TODO bigger batch size when not dummy data"
   ]
  },
  {
   "cell_type": "markdown",
   "metadata": {},
   "source": [
    "It's going to also be useful to have a way to convert batches back to a readable form for debugging, so we add a helper function."
   ]
  },
  {
   "cell_type": "code",
   "execution_count": 10,
   "metadata": {},
   "outputs": [
    {
     "data": {
      "text/plain": [
       "[{'doc_id': tensor(3),\n",
       "  'context': 'a witch shadow hair like ____ spiderwebs hooded round darkness of',\n",
       "  'context_ids': tensor([  0, 104,  79,  44,  59,  84,  51,  75,  27,  66]),\n",
       "  'samples': ['matted', 'as', 'had', 'twenty', 'side', 'in'],\n",
       "  'sample_ids': tensor([60, 10, 43, 94, 82, 52])},\n",
       " {'doc_id': tensor(2),\n",
       "  'context': 'in by the side door ____ the vaulted passage by paul',\n",
       "  'context_ids': tensor([52, 19, 91, 82, 30, 91, 96, 69, 19, 70]),\n",
       "  'samples': ['down', 'him', 'shape', 'near', 'reached', 'boy'],\n",
       "  'sample_ids': tensor([31, 48, 80, 63, 73, 17])}]"
      ]
     },
     "execution_count": 10,
     "metadata": {},
     "output_type": "execute_result"
    }
   ],
   "source": [
    "def describe_batch(batch, vocab):\n",
    "    results = []\n",
    "    for doc_id, context_ids, sample_ids in zip(batch[\"doc_ids\"], batch[\"context_ids\"], batch[\"sample_ids\"]):\n",
    "        context = [vocab.words[i] for i in context_ids]\n",
    "        context.insert(len(context_ids) // 2, \"____\")\n",
    "        samples = [vocab.words[i] for i in sample_ids]\n",
    "        result = {\"doc_id\": doc_id,\n",
    "                  \"context\": \" \".join(context), \n",
    "                  \"context_ids\": context_ids, \n",
    "                  \"samples\": samples, \n",
    "                  \"sample_ids\": sample_ids}\n",
    "        results.append(result)\n",
    "    return results\n",
    "\n",
    "describe_batch(next(iter(dataloader)), vocab)"
   ]
  },
  {
   "cell_type": "markdown",
   "metadata": {},
   "source": [
    "Let's jump into creating the model itself. There isn't much to it - we multiply the input paragraph and word matrices by the output layer. Combining the paragraph and word matrices is done by summing here, but it could also be done by concatenating the inputs. The original paper actually found concatenation works better, perhaps because summing loses word order information."
   ]
  },
  {
   "cell_type": "code",
   "execution_count": 11,
   "metadata": {},
   "outputs": [],
   "source": [
    "import torch.nn as nn\n",
    "\n",
    "class DistributedMemory(nn.Module):\n",
    "    def __init__(self, vec_dim, n_docs, n_words):\n",
    "        super(DistributedMemory, self).__init__()\n",
    "        self.paragraph_matrix = nn.Parameter(torch.randn(n_docs, vec_dim))\n",
    "        self.word_matrix = nn.Parameter(torch.randn(n_words, vec_dim))\n",
    "        self.outputs = nn.Parameter(torch.zeros(vec_dim, n_words))\n",
    "    \n",
    "    def forward(self, doc_ids, context_ids, sample_ids):\n",
    "                                                                               # first add doc ids to context word ids to make the inputs\n",
    "        inputs = torch.add(self.paragraph_matrix[doc_ids,:],                   # (batch_size, vec_dim)\n",
    "                           torch.sum(self.word_matrix[context_ids,:], dim=1))  # (batch_size, 2x context, vec_dim) -> sum to (batch_size, vec_dim)\n",
    "                                                                               #\n",
    "                                                                               # select the subset of the output layer for the NCE test\n",
    "        outputs = self.outputs[:,sample_ids]                                   # (vec_dim, batch_size, n_negative_samples + 1)\n",
    "                                                                               #\n",
    "        return torch.bmm(inputs.unsqueeze(dim=1),                              # then multiply with some munging to make the tensor shapes line up \n",
    "                         outputs.permute(1, 0, 2)).squeeze()                   # -> (batch_size, n_negative_samples + 1)\n",
    "\n",
    "model = DistributedMemory(vec_dim=50,\n",
    "                          n_docs=len(example_df),\n",
    "                          n_words=len(vocab.words))"
   ]
  },
  {
   "cell_type": "markdown",
   "metadata": {},
   "source": [
    "Let's take it for a spin!"
   ]
  },
  {
   "cell_type": "code",
   "execution_count": 12,
   "metadata": {},
   "outputs": [
    {
     "data": {
      "text/plain": [
       "tensor([[0., 0., 0., 0., 0., 0.],\n",
       "        [0., 0., 0., 0., 0., 0.]])"
      ]
     },
     "execution_count": 12,
     "metadata": {},
     "output_type": "execute_result"
    }
   ],
   "source": [
    "with torch.no_grad():\n",
    "    logits = model.forward(**next(iter(dataloader)))\n",
    "logits"
   ]
  },
  {
   "cell_type": "markdown",
   "metadata": {},
   "source": [
    "Oh yeah, the output layer was initialized with zeros. Time to bash out a standard issue PyTorch training loop."
   ]
  },
  {
   "cell_type": "code",
   "execution_count": 13,
   "metadata": {},
   "outputs": [],
   "source": [
    "from tqdm import tqdm, trange\n",
    "from torch.optim import Adam  # ilenic uses Adam, but gensim uses plain SGD\n",
    "import numpy as np\n",
    "\n",
    "def train(model, dataloader, epochs=40, lr=1e-3):\n",
    "    optimizer = Adam(model.parameters(), lr=lr)\n",
    "    training_losses = []\n",
    "    try:\n",
    "        for epoch in trange(epochs, desc=\"Epochs\"):\n",
    "            epoch_losses = []\n",
    "            for batch in dataloader:\n",
    "                model.zero_grad()\n",
    "                logits = model.forward(**batch)\n",
    "                batch_loss = loss(logits)\n",
    "                epoch_losses.append(batch_loss.item())\n",
    "                batch_loss.backward()\n",
    "                optimizer.step()\n",
    "            training_losses.append(np.mean(epoch_losses))\n",
    "    except KeyboardInterrupt:\n",
    "        print(f\"Interrupted on epoch {epoch}!\")\n",
    "    finally:\n",
    "        return training_losses"
   ]
  },
  {
   "cell_type": "markdown",
   "metadata": {},
   "source": [
    "Now we'll sanity check by overfitting the example data. Training loss should drop from untrained loss to something close to the minimum possible."
   ]
  },
  {
   "cell_type": "code",
   "execution_count": 14,
   "metadata": {},
   "outputs": [
    {
     "name": "stderr",
     "output_type": "stream",
     "text": [
      "Epochs: 100%|██████████| 40/40 [00:02<00:00, 16.21it/s]\n"
     ]
    }
   ],
   "source": [
    "training_losses = train(model, dataloader, epochs=40, lr=1e-3)"
   ]
  },
  {
   "cell_type": "code",
   "execution_count": 15,
   "metadata": {},
   "outputs": [
    {
     "data": {
      "application/vnd.vegalite.v2+json": {
       "$schema": "https://vega.github.io/schema/vega-lite/v2.6.0.json",
       "config": {
        "view": {
         "height": 300,
         "width": 400
        }
       },
       "data": {
        "name": "data-ee9a1367c10aa40deea2ae4c0910c392"
       },
       "datasets": {
        "data-ee9a1367c10aa40deea2ae4c0910c392": [
         {
          "epoch": 0,
          "training_loss": 3.919024520001169
         },
         {
          "epoch": 1,
          "training_loss": 2.5836861396239974
         },
         {
          "epoch": 2,
          "training_loss": 1.8714803558284954
         },
         {
          "epoch": 3,
          "training_loss": 1.4550980592178087
         },
         {
          "epoch": 4,
          "training_loss": 1.184205160302631
         },
         {
          "epoch": 5,
          "training_loss": 0.978082985696146
         },
         {
          "epoch": 6,
          "training_loss": 0.8204261402962572
         },
         {
          "epoch": 7,
          "training_loss": 0.7055826500310736
         },
         {
          "epoch": 8,
          "training_loss": 0.6115587101144305
         },
         {
          "epoch": 9,
          "training_loss": 0.539558181065624
         },
         {
          "epoch": 10,
          "training_loss": 0.4755725090281438
         },
         {
          "epoch": 11,
          "training_loss": 0.4223827204461825
         },
         {
          "epoch": 12,
          "training_loss": 0.3735618356425883
         },
         {
          "epoch": 13,
          "training_loss": 0.3371852979821674
         },
         {
          "epoch": 14,
          "training_loss": 0.3043107639177371
         },
         {
          "epoch": 15,
          "training_loss": 0.2726634713047642
         },
         {
          "epoch": 16,
          "training_loss": 0.24829692683987697
         },
         {
          "epoch": 17,
          "training_loss": 0.22773773362070826
         },
         {
          "epoch": 18,
          "training_loss": 0.20739809335288356
         },
         {
          "epoch": 19,
          "training_loss": 0.18884307777477524
         },
         {
          "epoch": 20,
          "training_loss": 0.17328591493226714
         },
         {
          "epoch": 21,
          "training_loss": 0.15811870442861217
         },
         {
          "epoch": 22,
          "training_loss": 0.14760045366267027
         },
         {
          "epoch": 23,
          "training_loss": 0.1358941684208684
         },
         {
          "epoch": 24,
          "training_loss": 0.12422962631967108
         },
         {
          "epoch": 25,
          "training_loss": 0.11496625941688732
         },
         {
          "epoch": 26,
          "training_loss": 0.10613792481185017
         },
         {
          "epoch": 27,
          "training_loss": 0.09859291460933321
         },
         {
          "epoch": 28,
          "training_loss": 0.0921657273261729
         },
         {
          "epoch": 29,
          "training_loss": 0.0859749448185755
         },
         {
          "epoch": 30,
          "training_loss": 0.07849867424091041
         },
         {
          "epoch": 31,
          "training_loss": 0.07568196005235284
         },
         {
          "epoch": 32,
          "training_loss": 0.0690490363513009
         },
         {
          "epoch": 33,
          "training_loss": 0.0646546056525687
         },
         {
          "epoch": 34,
          "training_loss": 0.06080761100402323
         },
         {
          "epoch": 35,
          "training_loss": 0.056846302949776086
         },
         {
          "epoch": 36,
          "training_loss": 0.053377099019491066
         },
         {
          "epoch": 37,
          "training_loss": 0.050378211837072494
         },
         {
          "epoch": 38,
          "training_loss": 0.04760765787845446
         },
         {
          "epoch": 39,
          "training_loss": 0.04460931449370869
         }
        ]
       },
       "encoding": {
        "x": {
         "field": "epoch",
         "type": "quantitative"
        },
        "y": {
         "field": "training_loss",
         "scale": {
          "type": "log"
         },
         "type": "quantitative"
        }
       },
       "mark": "bar"
      },
      "image/png": "[encoded data removed]",
      "text/plain": [
       "<VegaLite 2 object>\n",
       "\n",
       "If you see this message, it means the renderer has not been properly enabled\n",
       "for the frontend that you are using. For more information, see\n",
       "https://altair-viz.github.io/user_guide/troubleshooting.html\n"
      ]
     },
     "execution_count": 15,
     "metadata": {},
     "output_type": "execute_result"
    }
   ],
   "source": [
    "import altair as alt\n",
    "\n",
    "df_loss = pd.DataFrame(enumerate(training_losses), columns=[\"epoch\", \"training_loss\"])\n",
    "alt.Chart(df_loss).mark_bar().encode(alt.X(\"epoch\"), alt.Y(\"training_loss\", scale=alt.Scale(type=\"log\")))"
   ]
  },
  {
   "cell_type": "markdown",
   "metadata": {},
   "source": [
    "And because we're paranoid types, let's check a prediction."
   ]
  },
  {
   "cell_type": "code",
   "execution_count": 16,
   "metadata": {},
   "outputs": [
    {
     "data": {
      "text/plain": [
       "tensor([[ 3.6188, -9.1918, -7.8617, -3.7270, -7.1823, -5.0832],\n",
       "        [ 4.5565, -5.7671, -6.7461, -7.7732, -6.8886, -7.4012]])"
      ]
     },
     "execution_count": 16,
     "metadata": {},
     "output_type": "execute_result"
    }
   ],
   "source": [
    "with torch.no_grad():\n",
    "    logits = model.forward(**next(iter(dataloader)))\n",
    "logits"
   ]
  },
  {
   "cell_type": "markdown",
   "metadata": {},
   "source": [
    "The positive sample gets a positive score and the negatives get negative scores. Super."
   ]
  },
  {
   "cell_type": "markdown",
   "metadata": {},
   "source": [
    "We should be able get the paragraph vectors for the documents and do things like check these for similarity to one another."
   ]
  },
  {
   "cell_type": "code",
   "execution_count": 17,
   "metadata": {},
   "outputs": [
    {
     "data": {
      "text/html": [
       "<div>\n",
       "<style scoped>\n",
       "    .dataframe tbody tr th:only-of-type {\n",
       "        vertical-align: middle;\n",
       "    }\n",
       "\n",
       "    .dataframe tbody tr th {\n",
       "        vertical-align: top;\n",
       "    }\n",
       "\n",
       "    .dataframe thead th {\n",
       "        text-align: right;\n",
       "    }\n",
       "</style>\n",
       "<table border=\"1\" class=\"dataframe\">\n",
       "  <thead>\n",
       "    <tr style=\"text-align: right;\">\n",
       "      <th></th>\n",
       "      <th>doc_id</th>\n",
       "      <th>similarity</th>\n",
       "    </tr>\n",
       "  </thead>\n",
       "  <tbody>\n",
       "    <tr>\n",
       "      <th>0</th>\n",
       "      <td>0</td>\n",
       "      <td>1.000000</td>\n",
       "    </tr>\n",
       "    <tr>\n",
       "      <th>1</th>\n",
       "      <td>1</td>\n",
       "      <td>0.258003</td>\n",
       "    </tr>\n",
       "    <tr>\n",
       "      <th>2</th>\n",
       "      <td>2</td>\n",
       "      <td>0.036349</td>\n",
       "    </tr>\n",
       "    <tr>\n",
       "      <th>3</th>\n",
       "      <td>3</td>\n",
       "      <td>0.045620</td>\n",
       "    </tr>\n",
       "  </tbody>\n",
       "</table>\n",
       "</div>"
      ],
      "text/plain": [
       "   doc_id  similarity\n",
       "0       0    1.000000\n",
       "1       1    0.258003\n",
       "2       2    0.036349\n",
       "3       3    0.045620"
      ]
     },
     "execution_count": 17,
     "metadata": {},
     "output_type": "execute_result"
    }
   ],
   "source": [
    "from sklearn.preprocessing import normalize\n",
    "\n",
    "def most_similar(paragraph_matrix, index):\n",
    "    pm = normalize(paragraph_matrix, norm=\"l2\")  # in a smarter implementation we would cache this somewhere\n",
    "    sims = np.dot(pm, pm[index,:])\n",
    "    return pd.DataFrame(enumerate(sims), columns=[\"doc_id\", \"similarity\"])\n",
    "\n",
    "most_similar(model.paragraph_matrix.data, 0) # TODO something wrong with this?"
   ]
  },
  {
   "cell_type": "markdown",
   "metadata": {},
   "source": [
    "It's not particularly illuminating for our tiny set of dummy data though. We can also use PCA to reduce our n-dimensional paragraph vectors to 2 dimensions and see if they are clustered nicely."
   ]
  },
  {
   "cell_type": "code",
   "execution_count": 18,
   "metadata": {},
   "outputs": [
    {
     "name": "stdout",
     "output_type": "stream",
     "text": [
      "2-component PCA, explains 38.73% of variance\n"
     ]
    },
    {
     "data": {
      "application/vnd.vegalite.v2+json": {
       "$schema": "https://vega.github.io/schema/vega-lite/v2.6.0.json",
       "config": {
        "view": {
         "height": 300,
         "width": 400
        }
       },
       "data": {
        "name": "data-f2724874c8948ccf84bc60acff615e33"
       },
       "datasets": {
        "data-f2724874c8948ccf84bc60acff615e33": [
         {
          "group": "0",
          "x": -0.5257506161340508,
          "y": -4.451616877997358
         },
         {
          "group": "1",
          "x": -3.472278361829968,
          "y": -1.1707493235666155
         },
         {
          "group": "2",
          "x": -3.148898474932665,
          "y": 4.52496492680752
         },
         {
          "group": "3",
          "x": 7.1469274528966835,
          "y": 1.0974012747564539
         }
        ]
       },
       "encoding": {
        "color": {
         "field": "group",
         "type": "nominal"
        },
        "x": {
         "field": "x",
         "type": "quantitative"
        },
        "y": {
         "field": "y",
         "type": "quantitative"
        }
       },
       "mark": "point"
      },
      "image/png": "[encoded data removed]",
      "text/plain": [
       "<VegaLite 2 object>\n",
       "\n",
       "If you see this message, it means the renderer has not been properly enabled\n",
       "for the frontend that you are using. For more information, see\n",
       "https://altair-viz.github.io/user_guide/troubleshooting.html\n"
      ]
     },
     "execution_count": 18,
     "metadata": {},
     "output_type": "execute_result"
    }
   ],
   "source": [
    "from sklearn.decomposition import PCA\n",
    "\n",
    "def pca_2d(paragraph_matrix, groups):\n",
    "    pca = PCA(n_components=2)\n",
    "    reduced_dims = pca.fit_transform(paragraph_matrix)\n",
    "    print(f\"2-component PCA, explains {sum(pca.explained_variance_):.2f}% of variance\")\n",
    "    df = pd.DataFrame(reduced_dims, columns=[\"x\", \"y\"])\n",
    "    df[\"group\"] = groups\n",
    "    return df\n",
    "\n",
    "example_2d = pca_2d(model.paragraph_matrix.data, [\"0\",\"1\",\"2\",\"3\"])\n",
    "alt.Chart(example_2d).mark_point().encode(x=\"x\", y=\"y\", color=\"group\")"
   ]
  },
  {
   "cell_type": "markdown",
   "metadata": {},
   "source": [
    "Not much to see on such a tiny dataset without any labelled groups."
   ]
  },
  {
   "cell_type": "markdown",
   "metadata": {},
   "source": [
    "Running this on some bigger data\n",
    "--------------------------------\n",
    "\n",
    "We'll use the BBC's dataset. The dataset was created by Derek Greene at UCD and all articles are copyright Auntie. I've munged it into a file per topic."
   ]
  },
  {
   "cell_type": "code",
   "execution_count": 19,
   "metadata": {},
   "outputs": [
    {
     "data": {
      "text/html": [
       "<div>\n",
       "<style scoped>\n",
       "    .dataframe tbody tr th:only-of-type {\n",
       "        vertical-align: middle;\n",
       "    }\n",
       "\n",
       "    .dataframe tbody tr th {\n",
       "        vertical-align: top;\n",
       "    }\n",
       "\n",
       "    .dataframe thead th {\n",
       "        text-align: right;\n",
       "    }\n",
       "</style>\n",
       "<table border=\"1\" class=\"dataframe\">\n",
       "  <thead>\n",
       "    <tr style=\"text-align: right;\">\n",
       "      <th></th>\n",
       "      <th>text</th>\n",
       "      <th>tokens</th>\n",
       "      <th>group</th>\n",
       "    </tr>\n",
       "  </thead>\n",
       "  <tbody>\n",
       "    <tr>\n",
       "      <th>0</th>\n",
       "      <td>Claxton hunting first major medal  British hur...</td>\n",
       "      <td>[claxton, hunting, first, major, medal, britis...</td>\n",
       "      <td>sport</td>\n",
       "    </tr>\n",
       "    <tr>\n",
       "      <th>1</th>\n",
       "      <td>O'Sullivan could run in Worlds  Sonia O'Sulliv...</td>\n",
       "      <td>[could, run, in, worlds, sonia, has, indicated...</td>\n",
       "      <td>sport</td>\n",
       "    </tr>\n",
       "    <tr>\n",
       "      <th>2</th>\n",
       "      <td>Greene sets sights on world title  Maurice Gre...</td>\n",
       "      <td>[greene, sets, sights, on, world, title, mauri...</td>\n",
       "      <td>sport</td>\n",
       "    </tr>\n",
       "    <tr>\n",
       "      <th>3</th>\n",
       "      <td>IAAF launches fight against drugs  The IAAF - ...</td>\n",
       "      <td>[iaaf, launches, fight, against, drugs, the, i...</td>\n",
       "      <td>sport</td>\n",
       "    </tr>\n",
       "  </tbody>\n",
       "</table>\n",
       "</div>"
      ],
      "text/plain": [
       "                                                text  \\\n",
       "0  Claxton hunting first major medal  British hur...   \n",
       "1  O'Sullivan could run in Worlds  Sonia O'Sulliv...   \n",
       "2  Greene sets sights on world title  Maurice Gre...   \n",
       "3  IAAF launches fight against drugs  The IAAF - ...   \n",
       "\n",
       "                                              tokens  group  \n",
       "0  [claxton, hunting, first, major, medal, britis...  sport  \n",
       "1  [could, run, in, worlds, sonia, has, indicated...  sport  \n",
       "2  [greene, sets, sights, on, world, title, mauri...  sport  \n",
       "3  [iaaf, launches, fight, against, drugs, the, i...  sport  "
      ]
     },
     "execution_count": 19,
     "metadata": {},
     "output_type": "execute_result"
    }
   ],
   "source": [
    "dfs = []\n",
    "for document_set in (\"sport\",\n",
    "                     \"business\",\n",
    "                     \"politics\", \n",
    "                     \"tech\", \n",
    "                     \"entertainment\"):\n",
    "    df_ = pd.read_csv(f\"data/bbc/{document_set}.csv.bz2\", encoding=\"latin1\")\n",
    "    df_ = tokenize_text(df_)\n",
    "    df_[\"group\"] = document_set\n",
    "    dfs.append(df_)\n",
    "\n",
    "bbc_df = pd.concat(dfs)\n",
    "bbc_df[:4]"
   ]
  },
  {
   "cell_type": "code",
   "execution_count": 20,
   "metadata": {},
   "outputs": [
    {
     "name": "stdout",
     "output_type": "stream",
     "text": [
      "Dataset comprises 2225 documents and 19063 unique words\n"
     ]
    }
   ],
   "source": [
    "bbc_vocab = Vocab([tok for tokens in bbc_df.tokens for tok in tokens])\n",
    "\n",
    "bbc_df = clean_tokens(bbc_df, bbc_vocab)\n",
    "\n",
    "print(f\"Dataset comprises {len(bbc_df)} documents and {len(bbc_vocab.words)} unique words\")"
   ]
  },
  {
   "cell_type": "code",
   "execution_count": 21,
   "metadata": {},
   "outputs": [],
   "source": [
    "bbc_noise = NoiseDistribution(bbc_vocab)\n",
    "bbc_examples = list(example_generator(bbc_df, context_size=5, noise=bbc_noise, n_negative_samples=5, vocab=bbc_vocab))"
   ]
  },
  {
   "cell_type": "code",
   "execution_count": 22,
   "metadata": {},
   "outputs": [],
   "source": [
    "bbc_dataset = NCEDataset(bbc_examples)\n",
    "bbc_dataloader = DataLoader(bbc_dataset, batch_size=1024, drop_last=True, shuffle=True)  # TODO could tolerate a larger batch size\n",
    "\n",
    "bbc_model = DistributedMemory(vec_dim=50,\n",
    "                              n_docs=len(bbc_df),\n",
    "                              n_words=len(bbc_vocab.words))"
   ]
  },
  {
   "cell_type": "code",
   "execution_count": 23,
   "metadata": {},
   "outputs": [
    {
     "name": "stderr",
     "output_type": "stream",
     "text": [
      "Epochs: 100%|██████████| 40/40 [18:58<00:00, 28.35s/it]\n"
     ]
    }
   ],
   "source": [
    "bbc_training_losses = train(bbc_model, bbc_dataloader, epochs=40, lr=1e-3)"
   ]
  },
  {
   "cell_type": "code",
   "execution_count": 24,
   "metadata": {},
   "outputs": [
    {
     "data": {
      "application/vnd.vegalite.v2+json": {
       "$schema": "https://vega.github.io/schema/vega-lite/v2.6.0.json",
       "config": {
        "view": {
         "height": 300,
         "width": 400
        }
       },
       "data": {
        "name": "data-34449225b7bd524cb5d87d4843ce58a2"
       },
       "datasets": {
        "data-34449225b7bd524cb5d87d4843ce58a2": [
         {
          "epoch": 0,
          "training_loss": 2.6394021395570744
         },
         {
          "epoch": 1,
          "training_loss": 2.1725737924161166
         },
         {
          "epoch": 2,
          "training_loss": 1.9852861491789728
         },
         {
          "epoch": 3,
          "training_loss": 1.8676832430110955
         },
         {
          "epoch": 4,
          "training_loss": 1.7837512546444532
         },
         {
          "epoch": 5,
          "training_loss": 1.7186002090110541
         },
         {
          "epoch": 6,
          "training_loss": 1.664722312311208
         },
         {
          "epoch": 7,
          "training_loss": 1.6184385002029609
         },
         {
          "epoch": 8,
          "training_loss": 1.5775951041938354
         },
         {
          "epoch": 9,
          "training_loss": 1.541313109930998
         },
         {
          "epoch": 10,
          "training_loss": 1.5083361741178525
         },
         {
          "epoch": 11,
          "training_loss": 1.4778265559155008
         },
         {
          "epoch": 12,
          "training_loss": 1.4496936561157985
         },
         {
          "epoch": 13,
          "training_loss": 1.4233561838635747
         },
         {
          "epoch": 14,
          "training_loss": 1.3985562539248733
         },
         {
          "epoch": 15,
          "training_loss": 1.3756941768693627
         },
         {
          "epoch": 16,
          "training_loss": 1.3537155041783493
         },
         {
          "epoch": 17,
          "training_loss": 1.3327213613142879
         },
         {
          "epoch": 18,
          "training_loss": 1.3129182734104416
         },
         {
          "epoch": 19,
          "training_loss": 1.2941178379591949
         },
         {
          "epoch": 20,
          "training_loss": 1.276019364854564
         },
         {
          "epoch": 21,
          "training_loss": 1.258553203588687
         },
         {
          "epoch": 22,
          "training_loss": 1.242018737407945
         },
         {
          "epoch": 23,
          "training_loss": 1.225742762873632
         },
         {
          "epoch": 24,
          "training_loss": 1.2102922686878939
         },
         {
          "epoch": 25,
          "training_loss": 1.1951663049851886
         },
         {
          "epoch": 26,
          "training_loss": 1.1805831546368806
         },
         {
          "epoch": 27,
          "training_loss": 1.166647988816966
         },
         {
          "epoch": 28,
          "training_loss": 1.1528974093265414
         },
         {
          "epoch": 29,
          "training_loss": 1.1396513898920568
         },
         {
          "epoch": 30,
          "training_loss": 1.1265552981299642
         },
         {
          "epoch": 31,
          "training_loss": 1.1138056194560129
         },
         {
          "epoch": 32,
          "training_loss": 1.1017964503039483
         },
         {
          "epoch": 33,
          "training_loss": 1.0899132553835094
         },
         {
          "epoch": 34,
          "training_loss": 1.0782149064614905
         },
         {
          "epoch": 35,
          "training_loss": 1.0668375831213057
         },
         {
          "epoch": 36,
          "training_loss": 1.0556837235918697
         },
         {
          "epoch": 37,
          "training_loss": 1.0449393153190614
         },
         {
          "epoch": 38,
          "training_loss": 1.0343631306049987
         },
         {
          "epoch": 39,
          "training_loss": 1.0241709394484573
         }
        ]
       },
       "encoding": {
        "x": {
         "field": "epoch",
         "type": "quantitative"
        },
        "y": {
         "field": "training_loss",
         "type": "quantitative"
        }
       },
       "mark": "bar"
      },
      "image/png": "[encoded data removed]",
      "text/plain": [
       "<VegaLite 2 object>\n",
       "\n",
       "If you see this message, it means the renderer has not been properly enabled\n",
       "for the frontend that you are using. For more information, see\n",
       "https://altair-viz.github.io/user_guide/troubleshooting.html\n"
      ]
     },
     "execution_count": 24,
     "metadata": {},
     "output_type": "execute_result"
    }
   ],
   "source": [
    "alt.Chart(pd.DataFrame(enumerate(bbc_training_losses), columns=[\"epoch\", \"training_loss\"])).mark_bar().encode(x=\"epoch\", y=\"training_loss\")"
   ]
  },
  {
   "cell_type": "markdown",
   "metadata": {},
   "source": [
    "Let's take a look at the reduced dimensionality paragraph vectors."
   ]
  },
  {
   "cell_type": "code",
   "execution_count": 25,
   "metadata": {},
   "outputs": [
    {
     "name": "stdout",
     "output_type": "stream",
     "text": [
      "2-component PCA, explains 2.70% of variance\n"
     ]
    },
    {
     "data": {
      "application/vnd.vegalite.v2+json": {
       "$schema": "https://vega.github.io/schema/vega-lite/v2.6.0.json",
       "config": {
        "view": {
         "height": 300,
         "width": 400
        }
       },
       "data": {
        "name": "data-6ed75d13b8f5ce709b51f593cac44fe9"
       },
       "datasets": {
        "data-6ed75d13b8f5ce709b51f593cac44fe9": [
         {
          "group": "sport",
          "x": 0.9959862724982391,
          "y": -0.7888268534320415
         },
         {
          "group": "sport",
          "x": 1.4961051240231276,
          "y": -0.9983409896110286
         },
         {
          "group": "sport",
          "x": 0.88667535552324,
          "y": -1.1559972437981103
         },
         {
          "group": "sport",
          "x": -0.39603645817970434,
          "y": -0.22112270898803316
         },
         {
          "group": "sport",
          "x": -0.3346497462092969,
          "y": -1.4343995352906254
         },
         {
          "group": "sport",
          "x": 1.3122754876073237,
          "y": -1.06306282046868
         },
         {
          "group": "sport",
          "x": 1.5740844462690204,
          "y": -1.7578717114317448
         },
         {
          "group": "sport",
          "x": 1.4704608579334117,
          "y": -0.8051509685451731
         },
         {
          "group": "sport",
          "x": 2.035783917068592,
          "y": -1.3647020260503053
         },
         {
          "group": "sport",
          "x": 0.7718409620114486,
          "y": 1.7228286200950436
         },
         {
          "group": "sport",
          "x": 0.9528068046869497,
          "y": -0.5270734205640022
         },
         {
          "group": "sport",
          "x": 1.1495357799419332,
          "y": 0.13030600493239786
         },
         {
          "group": "sport",
          "x": 1.4485575698966033,
          "y": 0.5493207999603683
         },
         {
          "group": "sport",
          "x": 1.015063761337786,
          "y": 0.5777085811256365
         },
         {
          "group": "sport",
          "x": 1.0459868088861817,
          "y": 0.6458148379420585
         },
         {
          "group": "sport",
          "x": 0.08761060736463,
          "y": 0.5002713377831732
         },
         {
          "group": "sport",
          "x": 1.139413378051593,
          "y": 0.19273434532026276
         },
         {
          "group": "sport",
          "x": 0.6133930177978549,
          "y": -0.038741226370205266
         },
         {
          "group": "sport",
          "x": 1.5183372755574376,
          "y": -1.4119817928765368
         },
         {
          "group": "sport",
          "x": 0.48379063957391955,
          "y": -0.41948808982263336
         },
         {
          "group": "sport",
          "x": 0.5460872757160414,
          "y": 1.6062664387231782
         },
         {
          "group": "sport",
          "x": 0.6711889924952714,
          "y": -0.18904556021371785
         },
         {
          "group": "sport",
          "x": 0.8761354918264077,
          "y": 1.6570314119001948
         },
         {
          "group": "sport",
          "x": 0.4219422565066979,
          "y": 0.5839822869774463
         },
         {
          "group": "sport",
          "x": 1.3603303553089268,
          "y": 0.4319235116675958
         },
         {
          "group": "sport",
          "x": 1.100486020218163,
          "y": -0.8956050597522762
         },
         {
          "group": "sport",
          "x": 0.8227773951706671,
          "y": 1.051260486009473
         },
         {
          "group": "sport",
          "x": 0.9915711934417231,
          "y": 0.668187154767526
         },
         {
          "group": "sport",
          "x": 0.08382528633999954,
          "y": 1.4090178196091598
         },
         {
          "group": "sport",
          "x": 0.874530528821889,
          "y": -0.013185528695293335
         },
         {
          "group": "sport",
          "x": 0.8314895192688834,
          "y": 1.332493525121709
         },
         {
          "group": "sport",
          "x": 1.6986350071063863,
          "y": 0.39619637335194813
         },
         {
          "group": "sport",
          "x": 0.9875330328236367,
          "y": -0.39517425935842093
         },
         {
          "group": "sport",
          "x": 1.3292891233942705,
          "y": -0.039024951230107525
         },
         {
          "group": "sport",
          "x": 0.8898595967809159,
          "y": -0.9077923278613476
         },
         {
          "group": "sport",
          "x": 0.8096198447852585,
          "y": -0.5512569212317678
         },
         {
          "group": "sport",
          "x": 1.5663195077483951,
          "y": 1.300161254663203
         },
         {
          "group": "sport",
          "x": 1.559547089371874,
          "y": -1.5113737745445157
         },
         {
          "group": "sport",
          "x": 0.7603370647176071,
          "y": -2.7626550154358185
         },
         {
          "group": "sport",
          "x": 0.43393259841803383,
          "y": -1.3842835237868807
         },
         {
          "group": "sport",
          "x": 0.3694370092554872,
          "y": -1.3302648970909832
         },
         {
          "group": "sport",
          "x": 1.0508088382561114,
          "y": -0.7944044310283171
         },
         {
          "group": "sport",
          "x": 1.626866103836525,
          "y": -1.016484451470214
         },
         {
          "group": "sport",
          "x": 0.5363816770472728,
          "y": 1.0204280616658683
         },
         {
          "group": "sport",
          "x": 2.1033623384838824,
          "y": 0.29745224409238064
         },
         {
          "group": "sport",
          "x": 0.6475914722981132,
          "y": 0.23958434600354128
         },
         {
          "group": "sport",
          "x": -0.18752906247854523,
          "y": 0.5106763097990132
         },
         {
          "group": "sport",
          "x": 0.7497750754571862,
          "y": 1.748485928602754
         },
         {
          "group": "sport",
          "x": 0.8305053943519974,
          "y": 0.894052521298233
         },
         {
          "group": "sport",
          "x": 1.3416479927289355,
          "y": -0.7704328181582856
         },
         {
          "group": "sport",
          "x": 1.945221463776606,
          "y": -0.48090596297304394
         },
         {
          "group": "sport",
          "x": -0.6909957391714316,
          "y": 0.8239132551881233
         },
         {
          "group": "sport",
          "x": 1.7687945590199512,
          "y": -0.57922471816477
         },
         {
          "group": "sport",
          "x": 0.12478755471047423,
          "y": 0.03695931967806747
         },
         {
          "group": "sport",
          "x": 1.24024854751702,
          "y": 1.1010237162056369
         },
         {
          "group": "sport",
          "x": 0.3377850576282854,
          "y": 0.8078453058310723
         },
         {
          "group": "sport",
          "x": 1.4605501744514098,
          "y": -0.2986852801425434
         },
         {
          "group": "sport",
          "x": 1.5093719108492298,
          "y": -0.8651031992552424
         },
         {
          "group": "sport",
          "x": 0.5647575781712404,
          "y": -0.2612271891324537
         },
         {
          "group": "sport",
          "x": 1.4717038497437318,
          "y": -1.9415148664772954
         },
         {
          "group": "sport",
          "x": 0.7846642668998789,
          "y": -0.30813442181311146
         },
         {
          "group": "sport",
          "x": 0.5062618299881698,
          "y": -2.3802100254247835
         },
         {
          "group": "sport",
          "x": 0.17165926327964715,
          "y": -0.19815794204451184
         },
         {
          "group": "sport",
          "x": 0.4647499956441775,
          "y": -1.827162170221423
         },
         {
          "group": "sport",
          "x": 0.5427209753115755,
          "y": 0.0067577166604509695
         },
         {
          "group": "sport",
          "x": 1.0818133871362297,
          "y": 0.2574844308549725
         },
         {
          "group": "sport",
          "x": 1.401462128689319,
          "y": -0.20295767111726207
         },
         {
          "group": "sport",
          "x": 0.7017908828937598,
          "y": -0.3703277587802063
         },
         {
          "group": "sport",
          "x": 1.5058951197765347,
          "y": -1.1734526396840255
         },
         {
          "group": "sport",
          "x": 1.6361563561000434,
          "y": -0.15487777197589853
         },
         {
          "group": "sport",
          "x": -0.09075524986052018,
          "y": 1.1901972419694948
         },
         {
          "group": "sport",
          "x": 0.2597542914309404,
          "y": 0.10261280179506839
         },
         {
          "group": "sport",
          "x": 1.6322089223522278,
          "y": 0.8103367980114163
         },
         {
          "group": "sport",
          "x": 1.0809608072115806,
          "y": -1.25657289453067
         },
         {
          "group": "sport",
          "x": 0.9693577997486252,
          "y": -1.0383401928691665
         },
         {
          "group": "sport",
          "x": 0.6414561059658734,
          "y": -0.34217964192038164
         },
         {
          "group": "sport",
          "x": 1.377638136934945,
          "y": -1.2513269924535364
         },
         {
          "group": "sport",
          "x": 1.5823518598232356,
          "y": -3.2436298865278834
         },
         {
          "group": "sport",
          "x": 0.7717320440730752,
          "y": -2.7974930781825487
         },
         {
          "group": "sport",
          "x": 0.3992363497155908,
          "y": 1.2986786295897685
         },
         {
          "group": "sport",
          "x": 1.3776220814771265,
          "y": 1.1221190715711065
         },
         {
          "group": "sport",
          "x": 1.0827057935845488,
          "y": -0.4738552883283224
         },
         {
          "group": "sport",
          "x": 2.314779559927501,
          "y": -0.9413450967136271
         },
         {
          "group": "sport",
          "x": 0.4756502634181708,
          "y": 1.2978170546368584
         },
         {
          "group": "sport",
          "x": 0.6537232412918452,
          "y": -0.8893124733279645
         },
         {
          "group": "sport",
          "x": 1.144151075840563,
          "y": -0.7272695778911293
         },
         {
          "group": "sport",
          "x": 0.36453705181541823,
          "y": 0.035276502619529235
         },
         {
          "group": "sport",
          "x": -0.47788387206931243,
          "y": -0.8626415289753504
         },
         {
          "group": "sport",
          "x": 0.7739613353704324,
          "y": -1.8628244161233973
         },
         {
          "group": "sport",
          "x": 0.6412129024023716,
          "y": -0.2084966858750857
         },
         {
          "group": "sport",
          "x": -0.22152036282619827,
          "y": -1.2943732410061048
         },
         {
          "group": "sport",
          "x": 1.6555822691772408,
          "y": -0.11328491604259794
         },
         {
          "group": "sport",
          "x": -0.009850385311102997,
          "y": 0.8605893342748834
         },
         {
          "group": "sport",
          "x": 2.0918462654191687,
          "y": -1.1258123700757143
         },
         {
          "group": "sport",
          "x": 0.4767156720059595,
          "y": -0.1499811759312303
         },
         {
          "group": "sport",
          "x": 1.0866148747584825,
          "y": -0.49163393976109804
         },
         {
          "group": "sport",
          "x": 1.2854605482747867,
          "y": -0.8619057361666345
         },
         {
          "group": "sport",
          "x": 1.0178790047728459,
          "y": -0.3473305926649107
         },
         {
          "group": "sport",
          "x": 0.2545329098084066,
          "y": 0.5041152160910751
         },
         {
          "group": "sport",
          "x": 1.082057284696004,
          "y": 1.3484058575001074
         },
         {
          "group": "sport",
          "x": 1.0196360505545041,
          "y": 0.04980037816310968
         },
         {
          "group": "sport",
          "x": 1.6469695967425997,
          "y": 0.8339019828774821
         },
         {
          "group": "sport",
          "x": 0.8646837320079839,
          "y": -0.14113772454414508
         },
         {
          "group": "sport",
          "x": -0.04457634496576268,
          "y": 1.3845041796214999
         },
         {
          "group": "sport",
          "x": 0.8318342637059378,
          "y": -0.4282192749019962
         },
         {
          "group": "sport",
          "x": 0.4122642369556056,
          "y": -3.088155833062338
         },
         {
          "group": "sport",
          "x": 0.8296553208780135,
          "y": -0.4876520217860232
         },
         {
          "group": "sport",
          "x": 0.5377448622985408,
          "y": 0.32163327585154244
         },
         {
          "group": "sport",
          "x": 0.21976618392860775,
          "y": -1.2792671705105978
         },
         {
          "group": "sport",
          "x": 0.28976481708070295,
          "y": 0.6309219828858844
         },
         {
          "group": "sport",
          "x": 0.40103467493580547,
          "y": 1.1162315675805579
         },
         {
          "group": "sport",
          "x": 1.5683826366421239,
          "y": 0.7720070177691208
         },
         {
          "group": "sport",
          "x": 0.5840016000049574,
          "y": 0.6266440885180008
         },
         {
          "group": "sport",
          "x": 1.4424930967520462,
          "y": 1.1117628699368842
         },
         {
          "group": "sport",
          "x": 0.5608823383166129,
          "y": 1.5865997020308458
         },
         {
          "group": "sport",
          "x": 1.8697205507652528,
          "y": 1.0554506338830056
         },
         {
          "group": "sport",
          "x": 1.0083522695237972,
          "y": 0.2272912995593165
         },
         {
          "group": "sport",
          "x": 0.9211002837656415,
          "y": 0.6621974425495804
         },
         {
          "group": "sport",
          "x": 1.482241654482331,
          "y": 0.5611842494170465
         },
         {
          "group": "sport",
          "x": 1.5235127172952239,
          "y": -1.5393923540959649
         },
         {
          "group": "sport",
          "x": 1.4658466892287982,
          "y": -0.407382128740372
         },
         {
          "group": "sport",
          "x": 1.4633405036385598,
          "y": 0.946574294993049
         },
         {
          "group": "sport",
          "x": 1.412441355923358,
          "y": 0.5883049489871226
         },
         {
          "group": "sport",
          "x": 1.894844750786263,
          "y": -0.05845350202369352
         },
         {
          "group": "sport",
          "x": 2.336426210066778,
          "y": 0.76980834192038
         },
         {
          "group": "sport",
          "x": 0.6407676304770626,
          "y": 1.215583795404085
         },
         {
          "group": "sport",
          "x": 1.6714747692796423,
          "y": -0.7770329953297738
         },
         {
          "group": "sport",
          "x": 1.827855712585129,
          "y": 0.7572528281561028
         },
         {
          "group": "sport",
          "x": 1.8933660889108266,
          "y": -0.7263391946116821
         },
         {
          "group": "sport",
          "x": 1.1049905647778429,
          "y": -0.3308832072495963
         },
         {
          "group": "sport",
          "x": -0.19644034757112525,
          "y": -0.3398419448039244
         },
         {
          "group": "sport",
          "x": 0.5915226086611828,
          "y": 0.7435743672347245
         },
         {
          "group": "sport",
          "x": 1.5060481630757188,
          "y": 1.8604684096605453
         },
         {
          "group": "sport",
          "x": 2.1113912930492966,
          "y": 0.5289359407208728
         },
         {
          "group": "sport",
          "x": 0.4011521574394612,
          "y": -0.8282213378895734
         },
         {
          "group": "sport",
          "x": 0.728254902186147,
          "y": -2.153776357484635
         },
         {
          "group": "sport",
          "x": -0.02968937806529101,
          "y": -0.276275220351902
         },
         {
          "group": "sport",
          "x": 1.1642987940228602,
          "y": 0.18440046427176465
         },
         {
          "group": "sport",
          "x": 0.6625211465861793,
          "y": 1.01124178407105
         },
         {
          "group": "sport",
          "x": 2.1322722886978656,
          "y": 0.41615413683564473
         },
         {
          "group": "sport",
          "x": 1.4697126522004866,
          "y": 2.1231383827616304
         },
         {
          "group": "sport",
          "x": 0.5401715585663408,
          "y": -0.04422433469116215
         },
         {
          "group": "sport",
          "x": -1.411370567113916,
          "y": -0.14787330278217137
         },
         {
          "group": "sport",
          "x": 0.4877119479757565,
          "y": 1.1303993335739702
         },
         {
          "group": "sport",
          "x": 1.060329666298141,
          "y": -0.23182345667053486
         },
         {
          "group": "sport",
          "x": 1.0938597186867223,
          "y": -0.47662716139707145
         },
         {
          "group": "sport",
          "x": 0.8792887215691171,
          "y": -0.9780141489896506
         },
         {
          "group": "sport",
          "x": 0.8321487481288621,
          "y": -0.9743548308117488
         },
         {
          "group": "sport",
          "x": 0.6548932324501416,
          "y": -0.49143850448105086
         },
         {
          "group": "sport",
          "x": 2.045218001694256,
          "y": -0.27738067077035006
         },
         {
          "group": "sport",
          "x": 0.05202998341926837,
          "y": -0.3568129513629076
         },
         {
          "group": "sport",
          "x": 0.9733179113248439,
          "y": 0.8090685754133426
         },
         {
          "group": "sport",
          "x": 0.9885350726220715,
          "y": -0.7895281226451712
         },
         {
          "group": "sport",
          "x": 0.1169025714898291,
          "y": 0.5732802086304583
         },
         {
          "group": "sport",
          "x": 1.742205487094057,
          "y": 1.8448699831764614
         },
         {
          "group": "sport",
          "x": 0.5498145579191475,
          "y": -0.15933759917135243
         },
         {
          "group": "sport",
          "x": 1.2258158110785984,
          "y": 2.827079816325869
         },
         {
          "group": "sport",
          "x": 1.237679060473041,
          "y": 0.10759124729066362
         },
         {
          "group": "sport",
          "x": -0.08688710543728918,
          "y": -0.616046887400722
         },
         {
          "group": "sport",
          "x": 0.9427733992936339,
          "y": -1.213981729106692
         },
         {
          "group": "sport",
          "x": 1.9417044931523157,
          "y": 0.30586306971871513
         },
         {
          "group": "sport",
          "x": 0.6652901066701177,
          "y": -0.8413489871523014
         },
         {
          "group": "sport",
          "x": 2.001084413053754,
          "y": -1.8943106404052459
         },
         {
          "group": "sport",
          "x": 1.5191655143872518,
          "y": 1.6571274798244873
         },
         {
          "group": "sport",
          "x": 1.7671646733513564,
          "y": 0.21892469662164676
         },
         {
          "group": "sport",
          "x": 1.4765539927398903,
          "y": 0.13555744944717396
         },
         {
          "group": "sport",
          "x": 0.234085277665697,
          "y": 0.20164549835095585
         },
         {
          "group": "sport",
          "x": -0.5516120948338297,
          "y": 1.4688171126331293
         },
         {
          "group": "sport",
          "x": 1.364767552232487,
          "y": 1.4429399276622958
         },
         {
          "group": "sport",
          "x": 1.4276969829295767,
          "y": 1.1090816073279433
         },
         {
          "group": "sport",
          "x": 0.562188167256012,
          "y": 0.9573083971233197
         },
         {
          "group": "sport",
          "x": 0.4565851737078696,
          "y": -0.4944991658737047
         },
         {
          "group": "sport",
          "x": 1.7589004793036127,
          "y": 0.37263413133860646
         },
         {
          "group": "sport",
          "x": 0.3507466131044847,
          "y": 1.1690672424035828
         },
         {
          "group": "sport",
          "x": 1.9116402708221756,
          "y": -0.20446473918118915
         },
         {
          "group": "sport",
          "x": 0.5951197963943354,
          "y": -0.8063329791366234
         },
         {
          "group": "sport",
          "x": 0.9533631208800468,
          "y": 0.28853623139368917
         },
         {
          "group": "sport",
          "x": 1.3966439017162768,
          "y": 1.7780656222102913
         },
         {
          "group": "sport",
          "x": 1.8691982769607,
          "y": 2.127473666153088
         },
         {
          "group": "sport",
          "x": 1.5365656151811489,
          "y": 2.872188339969396
         },
         {
          "group": "sport",
          "x": 0.4991374793584087,
          "y": 0.5675319884471428
         },
         {
          "group": "sport",
          "x": 1.7650067737524897,
          "y": 0.9671423187019291
         },
         {
          "group": "sport",
          "x": 0.6305027095914879,
          "y": 0.7832483577361821
         },
         {
          "group": "sport",
          "x": 1.649285725509947,
          "y": 1.6393984401233679
         },
         {
          "group": "sport",
          "x": 1.0248277358425808,
          "y": 1.7551852253921894
         },
         {
          "group": "sport",
          "x": 1.8077743599290081,
          "y": 1.4596028712391256
         },
         {
          "group": "sport",
          "x": 0.6547853435372885,
          "y": 1.5157832717365347
         },
         {
          "group": "sport",
          "x": 0.6972415531022306,
          "y": 3.779361862935558
         },
         {
          "group": "sport",
          "x": 1.1254290604705872,
          "y": 3.4218906935397433
         },
         {
          "group": "sport",
          "x": 2.3717080935424075,
          "y": 0.8106928696772117
         },
         {
          "group": "sport",
          "x": 0.8141658451053115,
          "y": 0.22618945757123587
         },
         {
          "group": "sport",
          "x": 0.5909128603990346,
          "y": 1.7606505632208298
         },
         {
          "group": "sport",
          "x": 1.2045274875591148,
          "y": 0.7676032264810286
         },
         {
          "group": "sport",
          "x": 1.6332539432255968,
          "y": -0.6518634711715825
         },
         {
          "group": "sport",
          "x": 1.0333250991057492,
          "y": -0.10668873233162307
         },
         {
          "group": "sport",
          "x": 0.20567726581337342,
          "y": 1.4105625554330878
         },
         {
          "group": "sport",
          "x": 0.7694542820382578,
          "y": -0.9287328390207911
         },
         {
          "group": "sport",
          "x": 1.201025451248217,
          "y": 2.364076583581458
         },
         {
          "group": "sport",
          "x": 0.7162678295536196,
          "y": 1.3286362356506816
         },
         {
          "group": "sport",
          "x": 1.0078287642508537,
          "y": 1.1820157001867209
         },
         {
          "group": "sport",
          "x": 1.3117384697989396,
          "y": 0.8546483928742376
         },
         {
          "group": "sport",
          "x": 0.9446326788411203,
          "y": 1.0003533919930598
         },
         {
          "group": "sport",
          "x": 0.43187583408623886,
          "y": 1.3095539846791922
         },
         {
          "group": "sport",
          "x": -0.43458143062339344,
          "y": 0.9523045853800535
         },
         {
          "group": "sport",
          "x": 2.266377121056241,
          "y": 2.3975519184620686
         },
         {
          "group": "sport",
          "x": 1.8992484071562836,
          "y": -0.1406514446222016
         },
         {
          "group": "sport",
          "x": 0.9123550400560695,
          "y": 0.7796011781581275
         },
         {
          "group": "sport",
          "x": 0.8079113302421194,
          "y": 0.7588792980318105
         },
         {
          "group": "sport",
          "x": 0.4843041252004555,
          "y": 1.173713208502076
         },
         {
          "group": "sport",
          "x": -0.1265623217103276,
          "y": 0.7984898016250774
         },
         {
          "group": "sport",
          "x": 2.2297357594495635,
          "y": 0.2947074543726755
         },
         {
          "group": "sport",
          "x": 0.8131926460621722,
          "y": -1.9426790263482392
         },
         {
          "group": "sport",
          "x": 0.2303384239669727,
          "y": -0.2555476204190716
         },
         {
          "group": "sport",
          "x": 1.7655301232026546,
          "y": -0.2252554625023629
         },
         {
          "group": "sport",
          "x": 1.364994345536901,
          "y": -1.283247454734675
         },
         {
          "group": "sport",
          "x": 1.5434040297509268,
          "y": 1.0025959126116657
         },
         {
          "group": "sport",
          "x": 2.75373457781859,
          "y": 0.2316762304824416
         },
         {
          "group": "sport",
          "x": 1.3103387808210811,
          "y": 0.40738715233759615
         },
         {
          "group": "sport",
          "x": 1.749447407127069,
          "y": 1.6396449523091146
         },
         {
          "group": "sport",
          "x": 0.8634446711141663,
          "y": -0.7138465514284975
         },
         {
          "group": "sport",
          "x": 1.4788267337276741,
          "y": 1.1072883707063996
         },
         {
          "group": "sport",
          "x": 1.5002276966213686,
          "y": -1.9325462000130875
         },
         {
          "group": "sport",
          "x": 0.9581120975898583,
          "y": 1.1458731225326766
         },
         {
          "group": "sport",
          "x": 1.2730807661392305,
          "y": 0.6264201782646043
         },
         {
          "group": "sport",
          "x": 1.2168324130464607,
          "y": 0.10651046885515322
         },
         {
          "group": "sport",
          "x": 0.7795824937027763,
          "y": 1.7684776137286446
         },
         {
          "group": "sport",
          "x": 0.024088567645784927,
          "y": 1.3148158689957925
         },
         {
          "group": "sport",
          "x": 1.121077567542949,
          "y": 0.6304302106655846
         },
         {
          "group": "sport",
          "x": 1.0428784391569168,
          "y": 0.88271820248649
         },
         {
          "group": "sport",
          "x": 1.1579754600911725,
          "y": -1.0718700438292559
         },
         {
          "group": "sport",
          "x": 0.7152847826937073,
          "y": 0.7793662698268118
         },
         {
          "group": "sport",
          "x": 0.6969743517014629,
          "y": 1.6231943244092548
         },
         {
          "group": "sport",
          "x": 0.9286235377311909,
          "y": 1.1343879145775102
         },
         {
          "group": "sport",
          "x": 1.1258519837059457,
          "y": 0.09202489628812908
         },
         {
          "group": "sport",
          "x": 0.4071225307437386,
          "y": 0.9461229092444604
         },
         {
          "group": "sport",
          "x": 0.7228604757996432,
          "y": -0.7806880626479242
         },
         {
          "group": "sport",
          "x": -0.19952970964887148,
          "y": 0.5070410816915687
         },
         {
          "group": "sport",
          "x": 1.0556565390676074,
          "y": -0.7280897862290265
         },
         {
          "group": "sport",
          "x": -0.20143857467320192,
          "y": -0.8331094973831057
         },
         {
          "group": "sport",
          "x": 0.6455179523188371,
          "y": -0.06547391858839056
         },
         {
          "group": "sport",
          "x": 1.1849223987224387,
          "y": -0.9769941245117972
         },
         {
          "group": "sport",
          "x": 0.30433670359051823,
          "y": 0.30273034026796536
         },
         {
          "group": "sport",
          "x": -0.09499099626824149,
          "y": 0.9893285704142941
         },
         {
          "group": "sport",
          "x": -0.7497955068581801,
          "y": 1.0332644388121959
         },
         {
          "group": "sport",
          "x": 0.2849067701357593,
          "y": -0.24391252733941773
         },
         {
          "group": "sport",
          "x": 1.0914561995805572,
          "y": 1.155366671953188
         },
         {
          "group": "sport",
          "x": 1.5369803126617099,
          "y": 0.42078482799248634
         },
         {
          "group": "sport",
          "x": -0.08778461973940566,
          "y": 2.3219779252484645
         },
         {
          "group": "sport",
          "x": -0.47626110562702806,
          "y": 1.109481125874243
         },
         {
          "group": "sport",
          "x": 0.44745863593910173,
          "y": 0.5793413009635014
         },
         {
          "group": "sport",
          "x": 0.20775675301891314,
          "y": 1.5831878146328795
         },
         {
          "group": "sport",
          "x": 1.4491087091946244,
          "y": 0.7007246501878512
         },
         {
          "group": "sport",
          "x": 0.2662191788013032,
          "y": 0.20021734126971116
         },
         {
          "group": "sport",
          "x": 1.4780177085073751,
          "y": 0.1428582013404854
         },
         {
          "group": "sport",
          "x": 0.8141330468420109,
          "y": 0.8905125094364729
         },
         {
          "group": "sport",
          "x": 0.17877078087755174,
          "y": 0.11516454497407172
         },
         {
          "group": "sport",
          "x": 1.5452645308433233,
          "y": 1.4405652541773757
         },
         {
          "group": "sport",
          "x": 0.5643787606472783,
          "y": 1.1699970112405869
         },
         {
          "group": "sport",
          "x": -0.11697619712867834,
          "y": 0.6904844292446309
         },
         {
          "group": "sport",
          "x": 1.090186934991743,
          "y": -0.046639953850352175
         },
         {
          "group": "sport",
          "x": -0.5794384861663336,
          "y": 0.7842252947910398
         },
         {
          "group": "sport",
          "x": 1.8413646661733687,
          "y": 1.56084254885241
         },
         {
          "group": "sport",
          "x": 0.9806134351726551,
          "y": 0.6075479907940983
         },
         {
          "group": "sport",
          "x": 0.17553601635882848,
          "y": -0.3180183253872482
         },
         {
          "group": "sport",
          "x": 0.17050494678375827,
          "y": -0.18960127559580223
         },
         {
          "group": "sport",
          "x": 0.5497766303111576,
          "y": 0.2879814181889117
         },
         {
          "group": "sport",
          "x": 0.7713094991716797,
          "y": -0.3438017015258932
         },
         {
          "group": "sport",
          "x": -0.40860409308996243,
          "y": -0.00420797096006996
         },
         {
          "group": "sport",
          "x": -0.9159322878122903,
          "y": -0.3208385711620375
         },
         {
          "group": "sport",
          "x": 1.528911816651089,
          "y": -0.07300835179082696
         },
         {
          "group": "sport",
          "x": 1.120473157816759,
          "y": -0.44840896721155377
         },
         {
          "group": "sport",
          "x": 1.107185617936538,
          "y": 0.3034530140617821
         },
         {
          "group": "sport",
          "x": 0.9351505538945512,
          "y": 0.9912566951598506
         },
         {
          "group": "sport",
          "x": 1.6752532233225055,
          "y": 1.0147670448738835
         },
         {
          "group": "sport",
          "x": -0.5201419178697773,
          "y": 1.1742658096457206
         },
         {
          "group": "sport",
          "x": 0.2627999602942394,
          "y": 1.7510956526237893
         },
         {
          "group": "sport",
          "x": 0.009900838025751525,
          "y": 0.20035451427227577
         },
         {
          "group": "sport",
          "x": 0.5134204784484747,
          "y": 0.12815210150319742
         },
         {
          "group": "sport",
          "x": 0.8022961179214556,
          "y": 0.10930710154723004
         },
         {
          "group": "sport",
          "x": 1.9155082739819411,
          "y": -0.31600484200442913
         },
         {
          "group": "sport",
          "x": 0.9508031457508913,
          "y": -0.28210691071307864
         },
         {
          "group": "sport",
          "x": 0.041847581395806355,
          "y": 1.348780470067215
         },
         {
          "group": "sport",
          "x": 0.766282998566456,
          "y": 1.5761204275609126
         },
         {
          "group": "sport",
          "x": 0.5127860672656022,
          "y": -1.5890257176914677
         },
         {
          "group": "sport",
          "x": 1.22277335408633,
          "y": 0.28927802022700716
         },
         {
          "group": "sport",
          "x": 1.4403851722921648,
          "y": 0.3031182428807138
         },
         {
          "group": "sport",
          "x": 0.522609029497064,
          "y": -0.22369198294020157
         },
         {
          "group": "sport",
          "x": 0.06643532712856953,
          "y": 0.5994403065365267
         },
         {
          "group": "sport",
          "x": 0.9695563232384631,
          "y": -1.6171493935369652
         },
         {
          "group": "sport",
          "x": 1.280973727627999,
          "y": -0.6380498850555286
         },
         {
          "group": "sport",
          "x": 1.5675733884848495,
          "y": 0.5058667926790703
         },
         {
          "group": "sport",
          "x": 0.40491682583044397,
          "y": -0.6942148529880278
         },
         {
          "group": "sport",
          "x": 0.11448470725883385,
          "y": -1.141185185689866
         },
         {
          "group": "sport",
          "x": 1.0108906374064552,
          "y": 1.224102680011387
         },
         {
          "group": "sport",
          "x": 0.7491861511342035,
          "y": -0.6614441399099323
         },
         {
          "group": "sport",
          "x": 1.5084609264722781,
          "y": 0.5987310173475434
         },
         {
          "group": "sport",
          "x": 1.0202021607401741,
          "y": 0.82563330114373
         },
         {
          "group": "sport",
          "x": 0.3580896044624192,
          "y": -1.4791583854019497
         },
         {
          "group": "sport",
          "x": 1.2846698633800508,
          "y": -1.0946632261178209
         },
         {
          "group": "sport",
          "x": 0.3037138055778694,
          "y": 1.4031293789354033
         },
         {
          "group": "sport",
          "x": 0.4575632463635111,
          "y": -0.677822423746177
         },
         {
          "group": "sport",
          "x": 0.7337126300810688,
          "y": -1.3692454992447474
         },
         {
          "group": "sport",
          "x": 1.2610723935989292,
          "y": -1.226897333495906
         },
         {
          "group": "sport",
          "x": 1.1394230062890345,
          "y": -1.1080195130081694
         },
         {
          "group": "sport",
          "x": -0.9928746978236817,
          "y": -1.1383041757098873
         },
         {
          "group": "sport",
          "x": 0.3729771632317933,
          "y": 1.5598624681337376
         },
         {
          "group": "sport",
          "x": 0.14099273536046616,
          "y": 0.0054107707549974635
         },
         {
          "group": "sport",
          "x": 2.414732106744983,
          "y": -2.185328389010723
         },
         {
          "group": "sport",
          "x": 0.4121215164516681,
          "y": 1.2284284389001103
         },
         {
          "group": "sport",
          "x": 0.8417465859268258,
          "y": -2.249545532589036
         },
         {
          "group": "sport",
          "x": 1.1508118484978098,
          "y": -0.11813719742647845
         },
         {
          "group": "sport",
          "x": 1.4526597205815275,
          "y": -0.13148512410846433
         },
         {
          "group": "sport",
          "x": 0.7528708753226424,
          "y": -1.0955696113183255
         },
         {
          "group": "sport",
          "x": 0.7478017110860297,
          "y": 0.20898197729191634
         },
         {
          "group": "sport",
          "x": 1.166806704805584,
          "y": -0.045630349023632444
         },
         {
          "group": "sport",
          "x": 0.4026019634957042,
          "y": -1.6274290378670722
         },
         {
          "group": "sport",
          "x": 0.23808976759711722,
          "y": -1.1427493159273086
         },
         {
          "group": "sport",
          "x": -0.08812276340342065,
          "y": -0.6244310590077791
         },
         {
          "group": "sport",
          "x": -0.23289391456068856,
          "y": 0.06124003665004133
         },
         {
          "group": "sport",
          "x": 0.9516823672809899,
          "y": 0.65313453184177
         },
         {
          "group": "sport",
          "x": 0.8132065413898426,
          "y": -1.8830884656847726
         },
         {
          "group": "sport",
          "x": 1.119231510259517,
          "y": -1.987400148454596
         },
         {
          "group": "sport",
          "x": 0.06977946407103894,
          "y": -0.3124760799736446
         },
         {
          "group": "sport",
          "x": 0.5220300632805156,
          "y": 1.3247319923347347
         },
         {
          "group": "sport",
          "x": -0.8248395793372567,
          "y": 0.7398648062335508
         },
         {
          "group": "sport",
          "x": 1.1468486180035427,
          "y": -0.5598128549313517
         },
         {
          "group": "sport",
          "x": 2.269425586902273,
          "y": -1.1556809619404478
         },
         {
          "group": "sport",
          "x": 1.419019217273629,
          "y": -0.018000429814679433
         },
         {
          "group": "sport",
          "x": 1.4963375691063168,
          "y": -0.46203883419452896
         },
         {
          "group": "sport",
          "x": 0.4315944577013759,
          "y": 1.4046555085490577
         },
         {
          "group": "sport",
          "x": 1.4668724060100597,
          "y": -0.5688591915514506
         },
         {
          "group": "sport",
          "x": 0.2841622233502528,
          "y": -1.1504606359211202
         },
         {
          "group": "sport",
          "x": 0.5238315960473858,
          "y": -0.2779607133042639
         },
         {
          "group": "sport",
          "x": 1.8655327275999614,
          "y": -1.4383480203771934
         },
         {
          "group": "sport",
          "x": 1.319589909812789,
          "y": -0.9300217770566068
         },
         {
          "group": "sport",
          "x": 0.3355716940722828,
          "y": -1.5738693291625785
         },
         {
          "group": "sport",
          "x": -1.2430646897052418,
          "y": -1.022133513438467
         },
         {
          "group": "sport",
          "x": 1.416215730554892,
          "y": -1.1507047738466079
         },
         {
          "group": "sport",
          "x": 0.2476109652983226,
          "y": 0.9929712043256396
         },
         {
          "group": "sport",
          "x": 1.7000660310416194,
          "y": -1.1544228685539244
         },
         {
          "group": "sport",
          "x": 1.2142014258457132,
          "y": -0.4322528710347983
         },
         {
          "group": "sport",
          "x": 1.7980306729135975,
          "y": -0.7648813791812301
         },
         {
          "group": "sport",
          "x": 2.4875414921361596,
          "y": -0.27239430199238973
         },
         {
          "group": "sport",
          "x": 1.082826805964394,
          "y": -0.5302427391832448
         },
         {
          "group": "sport",
          "x": 1.4362538311769952,
          "y": -0.8431701552507246
         },
         {
          "group": "sport",
          "x": -0.1766023730174002,
          "y": 0.9804171373212145
         },
         {
          "group": "sport",
          "x": 0.3515964833745846,
          "y": 1.1335671676326715
         },
         {
          "group": "sport",
          "x": 1.2632146744400186,
          "y": -1.4022044778531986
         },
         {
          "group": "sport",
          "x": 0.6316124445309179,
          "y": 1.5428369371239128
         },
         {
          "group": "sport",
          "x": 1.2662983968058303,
          "y": 0.26291609607179545
         },
         {
          "group": "sport",
          "x": 1.3460784840476545,
          "y": -1.4527530180865593
         },
         {
          "group": "sport",
          "x": 0.07495053016550374,
          "y": 1.625463712398555
         },
         {
          "group": "sport",
          "x": 0.17715125656416017,
          "y": -1.3966540943975445
         },
         {
          "group": "sport",
          "x": 0.9945604586599764,
          "y": -1.7232684040612192
         },
         {
          "group": "sport",
          "x": 0.8923095450602971,
          "y": -0.9821134199537426
         },
         {
          "group": "sport",
          "x": 1.83721188446665,
          "y": 0.8613389294126312
         },
         {
          "group": "sport",
          "x": 0.020802795178510067,
          "y": 0.3945991914459622
         },
         {
          "group": "sport",
          "x": 1.1411732632273741,
          "y": -0.6570596308471661
         },
         {
          "group": "sport",
          "x": 1.7792263035701843,
          "y": -0.4447307633934979
         },
         {
          "group": "sport",
          "x": 1.273831185429529,
          "y": -1.0760586787869382
         },
         {
          "group": "sport",
          "x": 0.5547935833723245,
          "y": -1.886277473035088
         },
         {
          "group": "sport",
          "x": -0.06749112888640524,
          "y": 0.22497689598505385
         },
         {
          "group": "sport",
          "x": -0.3225687901993265,
          "y": -0.2607053459534995
         },
         {
          "group": "sport",
          "x": -0.04951001442654158,
          "y": 1.1677243299408449
         },
         {
          "group": "sport",
          "x": 0.676782552504484,
          "y": 1.3204805089566962
         },
         {
          "group": "sport",
          "x": 0.45880667279506665,
          "y": -1.2699723696851195
         },
         {
          "group": "sport",
          "x": 0.9515353244891543,
          "y": 0.5992125319450443
         },
         {
          "group": "sport",
          "x": 0.6239711499277013,
          "y": -0.5393948514158264
         },
         {
          "group": "sport",
          "x": 2.0759276503562125,
          "y": -0.6774326234143521
         },
         {
          "group": "sport",
          "x": 1.1129090957006846,
          "y": -1.4343475807958541
         },
         {
          "group": "sport",
          "x": 0.7579728698594844,
          "y": 0.36261217512981514
         },
         {
          "group": "sport",
          "x": 0.5099874182450445,
          "y": -1.4123323948715032
         },
         {
          "group": "sport",
          "x": 1.0187819705726886,
          "y": -2.0074471707663446
         },
         {
          "group": "sport",
          "x": 0.832738460215887,
          "y": 0.44754604466123543
         },
         {
          "group": "sport",
          "x": 0.050224928220856814,
          "y": 0.3048327854760985
         },
         {
          "group": "sport",
          "x": 1.365381306731712,
          "y": -0.67248309524815
         },
         {
          "group": "sport",
          "x": 1.6822672897121613,
          "y": 0.383482923180869
         },
         {
          "group": "sport",
          "x": 1.0724603627788594,
          "y": -0.15770545175107495
         },
         {
          "group": "sport",
          "x": 1.5964210280217774,
          "y": 0.16611683679216613
         },
         {
          "group": "sport",
          "x": -0.3880492986898864,
          "y": 2.113024858382661
         },
         {
          "group": "sport",
          "x": 1.1394717662963851,
          "y": 0.13574172331201087
         },
         {
          "group": "sport",
          "x": 0.41123281254709937,
          "y": -0.8949065158869689
         },
         {
          "group": "sport",
          "x": 1.6139543178686087,
          "y": -1.285810850737986
         },
         {
          "group": "sport",
          "x": 1.2654566831890295,
          "y": 0.1394656698977026
         },
         {
          "group": "sport",
          "x": 1.538682386588575,
          "y": -0.5817906061705781
         },
         {
          "group": "sport",
          "x": 0.9663143984057356,
          "y": -0.39230795978106225
         },
         {
          "group": "sport",
          "x": 1.018808402562407,
          "y": -0.1511654616874276
         },
         {
          "group": "sport",
          "x": 1.0719657380745002,
          "y": -0.25819522344126816
         },
         {
          "group": "sport",
          "x": 1.2943386148697553,
          "y": -1.0223933222662245
         },
         {
          "group": "sport",
          "x": 0.7792098630280692,
          "y": -0.19886196560651268
         },
         {
          "group": "sport",
          "x": 1.5924640644344221,
          "y": -0.6779334371876994
         },
         {
          "group": "sport",
          "x": 1.627157103354848,
          "y": -2.944541761991687
         },
         {
          "group": "sport",
          "x": 2.7611896735925696,
          "y": 0.8352966693752887
         },
         {
          "group": "sport",
          "x": 1.008407034208404,
          "y": -2.366550376793982
         },
         {
          "group": "sport",
          "x": 0.5542001244534503,
          "y": -0.15912853335693386
         },
         {
          "group": "sport",
          "x": -0.26170277723546653,
          "y": -2.416991504904805
         },
         {
          "group": "sport",
          "x": 0.30776524166734304,
          "y": -0.647089318692385
         },
         {
          "group": "sport",
          "x": 0.9825331571482359,
          "y": 0.42239222140339544
         },
         {
          "group": "sport",
          "x": 1.126301670037515,
          "y": 1.6863836396586631
         },
         {
          "group": "sport",
          "x": 1.6252349588165993,
          "y": 0.6738004333173895
         },
         {
          "group": "sport",
          "x": 0.8591716135447879,
          "y": 0.25009959745772736
         },
         {
          "group": "sport",
          "x": 1.5372224206225293,
          "y": -1.1318543940663495
         },
         {
          "group": "sport",
          "x": 1.263225250615422,
          "y": -0.7839509883762231
         },
         {
          "group": "sport",
          "x": 1.0602868259041915,
          "y": -0.9954403509411621
         },
         {
          "group": "sport",
          "x": 1.8172711689123504,
          "y": -2.9863402026815864
         },
         {
          "group": "sport",
          "x": 0.5064187690181831,
          "y": -0.024229623511672998
         },
         {
          "group": "sport",
          "x": 0.6537334442109808,
          "y": -1.1206248160043475
         },
         {
          "group": "sport",
          "x": 0.6529524815919662,
          "y": 0.27488679563233515
         },
         {
          "group": "sport",
          "x": 0.9128167871952736,
          "y": 0.12834750291444505
         },
         {
          "group": "sport",
          "x": 1.5702251601270134,
          "y": -0.5132107639360535
         },
         {
          "group": "sport",
          "x": 1.2296430213989333,
          "y": 0.13834799026864533
         },
         {
          "group": "sport",
          "x": 0.14394372841171676,
          "y": -1.390730230673554
         },
         {
          "group": "sport",
          "x": 1.569977946733343,
          "y": -1.9347317625804983
         },
         {
          "group": "sport",
          "x": 1.368853696014585,
          "y": -0.17145806972235594
         },
         {
          "group": "sport",
          "x": 1.0537739211132282,
          "y": -1.9506679160497566
         },
         {
          "group": "sport",
          "x": 1.1563097086750418,
          "y": -0.8363716492748218
         },
         {
          "group": "sport",
          "x": 0.7485989586084044,
          "y": 0.7288822749974146
         },
         {
          "group": "sport",
          "x": 1.2816851845321457,
          "y": 1.8037879406154085
         },
         {
          "group": "sport",
          "x": 0.7672007049885857,
          "y": 0.7774026265459809
         },
         {
          "group": "sport",
          "x": 2.0622370205810108,
          "y": 0.5272977743093417
         },
         {
          "group": "sport",
          "x": 1.8733060658178982,
          "y": 0.645291235915702
         },
         {
          "group": "sport",
          "x": 2.9995931503303437,
          "y": 1.9607477560031616
         },
         {
          "group": "sport",
          "x": 2.882105894742351,
          "y": 0.9865551245114409
         },
         {
          "group": "sport",
          "x": 3.8000013945563555,
          "y": 0.20118969305082743
         },
         {
          "group": "sport",
          "x": 2.109265234360382,
          "y": -0.6963679051056212
         },
         {
          "group": "sport",
          "x": 0.9430132989992833,
          "y": 1.5777290485229092
         },
         {
          "group": "sport",
          "x": 1.850734129396148,
          "y": -0.8238191248705004
         },
         {
          "group": "sport",
          "x": 2.5842663834178885,
          "y": 1.453309658773617
         },
         {
          "group": "sport",
          "x": 2.6708373199934012,
          "y": -1.1881560267254778
         },
         {
          "group": "sport",
          "x": 1.6235053246557056,
          "y": 1.210190027974839
         },
         {
          "group": "sport",
          "x": 1.6987422728850325,
          "y": 0.518238326348306
         },
         {
          "group": "sport",
          "x": 1.706599687548197,
          "y": -3.060028282170905
         },
         {
          "group": "sport",
          "x": 2.4701571798167286,
          "y": 2.1813021539471515
         },
         {
          "group": "sport",
          "x": 3.0796049779392924,
          "y": -0.5198585105751328
         },
         {
          "group": "sport",
          "x": 2.5618741225135593,
          "y": 0.3856981516941165
         },
         {
          "group": "sport",
          "x": 3.635588511218735,
          "y": -0.7908362614942658
         },
         {
          "group": "sport",
          "x": 2.1402085300075506,
          "y": -1.3942092825176593
         },
         {
          "group": "sport",
          "x": 1.1674486220673574,
          "y": -2.378627635018111
         },
         {
          "group": "sport",
          "x": 2.2583519519077195,
          "y": 0.08740808573790647
         },
         {
          "group": "sport",
          "x": 3.3599018027065717,
          "y": 2.209014055811406
         },
         {
          "group": "sport",
          "x": 2.846939667652898,
          "y": -2.63967508318758
         },
         {
          "group": "sport",
          "x": 1.6473532701887639,
          "y": 0.6060556213940349
         },
         {
          "group": "sport",
          "x": 0.4662329961561358,
          "y": -0.15745221433791906
         },
         {
          "group": "sport",
          "x": 0.4539339638723441,
          "y": 1.4929503327690108
         },
         {
          "group": "sport",
          "x": 2.930410922835072,
          "y": 3.400076894018393
         },
         {
          "group": "sport",
          "x": 2.2912294544359857,
          "y": 0.005838773551243728
         },
         {
          "group": "sport",
          "x": 2.0670880226394326,
          "y": -0.6799822201068313
         },
         {
          "group": "sport",
          "x": 0.6997043498690125,
          "y": 2.3602869672989253
         },
         {
          "group": "sport",
          "x": 0.24928633802457112,
          "y": -1.5372041756931543
         },
         {
          "group": "sport",
          "x": 2.518985377529041,
          "y": 0.680538402239485
         },
         {
          "group": "sport",
          "x": 3.3188768561788997,
          "y": -0.6833056351251318
         },
         {
          "group": "sport",
          "x": 0.47048158194303635,
          "y": -0.07611255425964097
         },
         {
          "group": "sport",
          "x": 0.6096702136316232,
          "y": 0.44349964780709494
         },
         {
          "group": "sport",
          "x": 1.9172885639685495,
          "y": -1.5243351273926362
         },
         {
          "group": "sport",
          "x": 3.4478528130651998,
          "y": 0.42840517752501245
         },
         {
          "group": "sport",
          "x": 0.11023631884526196,
          "y": 1.3272492853664246
         },
         {
          "group": "sport",
          "x": 1.2560438362497335,
          "y": -2.924317007618423
         },
         {
          "group": "sport",
          "x": 1.7290643504788779,
          "y": 2.576332418765479
         },
         {
          "group": "sport",
          "x": 3.8969893919818723,
          "y": 0.015132975002030032
         },
         {
          "group": "sport",
          "x": 1.2932994487984022,
          "y": 0.470921082924795
         },
         {
          "group": "sport",
          "x": -0.2688386112729082,
          "y": -0.12452246854144929
         },
         {
          "group": "sport",
          "x": 1.587327095326892,
          "y": 0.6197961810500684
         },
         {
          "group": "sport",
          "x": 1.7821736224750913,
          "y": 0.7101561882830613
         },
         {
          "group": "sport",
          "x": 1.588394784493258,
          "y": 0.5580705922161591
         },
         {
          "group": "sport",
          "x": 3.9256470390505407,
          "y": 0.6345330622316363
         },
         {
          "group": "sport",
          "x": 2.940956577301315,
          "y": 1.6763116113128802
         },
         {
          "group": "sport",
          "x": 3.1407731225927047,
          "y": -0.7373297473081327
         },
         {
          "group": "sport",
          "x": 0.7950377673779154,
          "y": 2.5402431325583295
         },
         {
          "group": "sport",
          "x": 2.6001418309838527,
          "y": 0.6603979626977057
         },
         {
          "group": "sport",
          "x": 3.1841143730019357,
          "y": 1.2380478834651467
         },
         {
          "group": "sport",
          "x": 1.4999806120576413,
          "y": 0.5416051414246601
         },
         {
          "group": "sport",
          "x": 0.958928597811969,
          "y": 0.6093199322527261
         },
         {
          "group": "sport",
          "x": 2.895764768288246,
          "y": -1.4912138607796501
         },
         {
          "group": "sport",
          "x": 2.372936693414975,
          "y": 0.1275925685245393
         },
         {
          "group": "sport",
          "x": 2.467442235406785,
          "y": 0.23091581336141812
         },
         {
          "group": "sport",
          "x": 3.8512872618613065,
          "y": -1.393902786660276
         },
         {
          "group": "sport",
          "x": 1.584435843660288,
          "y": 0.9853991276231483
         },
         {
          "group": "sport",
          "x": 2.543315972250536,
          "y": -0.6708532127002311
         },
         {
          "group": "sport",
          "x": 1.215076698639093,
          "y": -0.4220823486777397
         },
         {
          "group": "sport",
          "x": 1.9594369535957392,
          "y": 0.4470382431671517
         },
         {
          "group": "sport",
          "x": 2.650569132885764,
          "y": 0.9764921729704706
         },
         {
          "group": "sport",
          "x": 1.0771984829499666,
          "y": 1.2776059188399005
         },
         {
          "group": "sport",
          "x": 3.112482466715817,
          "y": 0.9156965709919923
         },
         {
          "group": "sport",
          "x": 1.546505985844441,
          "y": -0.4109662223387846
         },
         {
          "group": "sport",
          "x": 0.8344923053333784,
          "y": 0.8023007579920017
         },
         {
          "group": "sport",
          "x": 1.4176948514090586,
          "y": 0.7562940118689336
         },
         {
          "group": "sport",
          "x": 2.5435112190860845,
          "y": -0.4584808210609148
         },
         {
          "group": "sport",
          "x": 2.178810389432275,
          "y": 1.1637874531954624
         },
         {
          "group": "sport",
          "x": 2.3526674609033877,
          "y": -0.1160973616811765
         },
         {
          "group": "sport",
          "x": 3.7425702608876366,
          "y": -0.06887153939050211
         },
         {
          "group": "sport",
          "x": 2.7603388149570702,
          "y": 0.7418891039780036
         },
         {
          "group": "sport",
          "x": 1.6874200191912894,
          "y": 1.4816251543864591
         },
         {
          "group": "sport",
          "x": 1.9914382927492316,
          "y": -1.2934942731922574
         },
         {
          "group": "sport",
          "x": 1.5205808651484114,
          "y": -0.3763352389043515
         },
         {
          "group": "sport",
          "x": 2.027976611904511,
          "y": 1.209659732598155
         },
         {
          "group": "sport",
          "x": 1.4641920584747432,
          "y": -0.2709599749550803
         },
         {
          "group": "sport",
          "x": 2.2839807388553925,
          "y": 0.2891180501811104
         },
         {
          "group": "sport",
          "x": 2.1032070853675533,
          "y": 0.5513011607461186
         },
         {
          "group": "sport",
          "x": 1.3949676176838375,
          "y": 1.7682845659570454
         },
         {
          "group": "sport",
          "x": 1.771084593443967,
          "y": 0.9139018583206229
         },
         {
          "group": "sport",
          "x": 1.5101601633245674,
          "y": -0.4085925896006793
         },
         {
          "group": "sport",
          "x": 0.6500298225383536,
          "y": 2.9346033809940297
         },
         {
          "group": "sport",
          "x": 1.8541736027610134,
          "y": 2.1708265257490584
         },
         {
          "group": "sport",
          "x": 2.00678999205927,
          "y": -1.3319830284891534
         },
         {
          "group": "sport",
          "x": 3.7059118654830487,
          "y": 3.616192943842298
         },
         {
          "group": "sport",
          "x": 2.791283431469057,
          "y": 0.32995246094368863
         },
         {
          "group": "sport",
          "x": 0.879603577305986,
          "y": 1.418142620989899
         },
         {
          "group": "sport",
          "x": 2.4107990150164698,
          "y": 1.6242885774007523
         },
         {
          "group": "sport",
          "x": 1.8863560831728825,
          "y": 0.9837166805586364
         },
         {
          "group": "sport",
          "x": 3.105903113071819,
          "y": -1.1829112546593077
         },
         {
          "group": "sport",
          "x": 4.582233524744337,
          "y": 1.0847866760360687
         },
         {
          "group": "business",
          "x": -2.1348646825792423,
          "y": 0.700655742904819
         },
         {
          "group": "business",
          "x": -1.6903138451680129,
          "y": -0.8715589782491974
         },
         {
          "group": "business",
          "x": -1.9061971508628037,
          "y": -0.9311050771970689
         },
         {
          "group": "business",
          "x": 0.8723382544794791,
          "y": -1.323332928406022
         },
         {
          "group": "business",
          "x": -2.1437214314783737,
          "y": 0.289923157066581
         },
         {
          "group": "business",
          "x": 1.488735465514343,
          "y": -2.19719743653129
         },
         {
          "group": "business",
          "x": -1.0051552223556492,
          "y": 1.0987650293672497
         },
         {
          "group": "business",
          "x": -0.06683602527558073,
          "y": -0.7757018234676596
         },
         {
          "group": "business",
          "x": -1.7617013793052005,
          "y": 0.6974581273211921
         },
         {
          "group": "business",
          "x": -0.33839261844242713,
          "y": -1.6788451258997292
         },
         {
          "group": "business",
          "x": 0.39485537089291933,
          "y": -1.4432297932328688
         },
         {
          "group": "business",
          "x": 1.5364636700105543,
          "y": 2.4524877101355655
         },
         {
          "group": "business",
          "x": 0.1184374145840164,
          "y": -1.4489168116039044
         },
         {
          "group": "business",
          "x": 0.4485847787150661,
          "y": 0.5628932647706674
         },
         {
          "group": "business",
          "x": 2.395269556801699,
          "y": 0.6620129234898146
         },
         {
          "group": "business",
          "x": 0.4149140359891915,
          "y": -1.0411118808194628
         },
         {
          "group": "business",
          "x": -0.015379777193064105,
          "y": 0.2473191024650631
         },
         {
          "group": "business",
          "x": -1.1579105106011007,
          "y": -0.7499331472284312
         },
         {
          "group": "business",
          "x": 1.0084201637122832,
          "y": -0.974858821836903
         },
         {
          "group": "business",
          "x": 0.7321583377104149,
          "y": -1.8899916329402462
         },
         {
          "group": "business",
          "x": -0.28538336134937736,
          "y": 0.7309377961414861
         },
         {
          "group": "business",
          "x": 1.504413484676861,
          "y": -1.9874096902204998
         },
         {
          "group": "business",
          "x": -1.024581968563304,
          "y": -1.465960307685206
         },
         {
          "group": "business",
          "x": 0.592194366958727,
          "y": 0.007115572785234963
         },
         {
          "group": "business",
          "x": -1.1500198213988717,
          "y": 0.944758172443471
         },
         {
          "group": "business",
          "x": 0.4752351370583977,
          "y": -0.996945613603842
         },
         {
          "group": "business",
          "x": -0.8950741956686447,
          "y": 2.311562195881692
         },
         {
          "group": "business",
          "x": -1.2522993091851684,
          "y": 0.6636854934629736
         },
         {
          "group": "business",
          "x": -1.2176764613704856,
          "y": 0.6975568377118401
         },
         {
          "group": "business",
          "x": -0.017613386733200564,
          "y": 1.3086230564242007
         },
         {
          "group": "business",
          "x": -0.8361287479089975,
          "y": 1.2341687985286973
         },
         {
          "group": "business",
          "x": 0.6784253209641458,
          "y": -2.1074484882284863
         },
         {
          "group": "business",
          "x": -1.016606980582502,
          "y": 1.4143472968353155
         },
         {
          "group": "business",
          "x": -0.6184123572614355,
          "y": -1.6797929204552284
         },
         {
          "group": "business",
          "x": -1.1820470239268663,
          "y": 1.7501678503120122
         },
         {
          "group": "business",
          "x": -1.632475116126481,
          "y": -0.19050979732975468
         },
         {
          "group": "business",
          "x": -0.4623321082428254,
          "y": -2.379294577548248
         },
         {
          "group": "business",
          "x": -2.2632188905597537,
          "y": -0.4832360307278018
         },
         {
          "group": "business",
          "x": 1.7983892903108327,
          "y": -0.42654281612175093
         },
         {
          "group": "business",
          "x": -0.44136144804003147,
          "y": 0.02550123206093942
         },
         {
          "group": "business",
          "x": 0.5726333662875893,
          "y": -1.0484613151358568
         },
         {
          "group": "business",
          "x": 1.6203635479395249,
          "y": 0.06372463073367732
         },
         {
          "group": "business",
          "x": 0.8252832139280467,
          "y": -0.5255093086247868
         },
         {
          "group": "business",
          "x": 1.7071046398462875,
          "y": 1.8116924721439827
         },
         {
          "group": "business",
          "x": 1.4248067706295355,
          "y": -0.5729878532188838
         },
         {
          "group": "business",
          "x": -0.6394352904243482,
          "y": -0.7630372561972093
         },
         {
          "group": "business",
          "x": -0.23177775981505133,
          "y": 0.9122484460364291
         },
         {
          "group": "business",
          "x": -1.2309109308822253,
          "y": -0.19813244252203593
         },
         {
          "group": "business",
          "x": -0.36484438868228225,
          "y": 0.18637817896775988
         },
         {
          "group": "business",
          "x": -0.7723995413031216,
          "y": 1.3750527343945276
         },
         {
          "group": "business",
          "x": -0.42746151465811266,
          "y": 0.9917353334967924
         },
         {
          "group": "business",
          "x": -2.3029798092419815,
          "y": 1.0860205708316086
         },
         {
          "group": "business",
          "x": 2.1632566457658853,
          "y": -1.418307359732457
         },
         {
          "group": "business",
          "x": -0.3740665458082891,
          "y": -1.3424003776758002
         },
         {
          "group": "business",
          "x": 0.0698203069283419,
          "y": -0.9317400006540029
         },
         {
          "group": "business",
          "x": -1.2972937560171411,
          "y": -0.1607598411320577
         },
         {
          "group": "business",
          "x": 2.138579975293012,
          "y": 1.8380732270953735
         },
         {
          "group": "business",
          "x": 0.2393350609223376,
          "y": -0.6275653415100128
         },
         {
          "group": "business",
          "x": 0.7187610673292734,
          "y": 0.021241166765458973
         },
         {
          "group": "business",
          "x": 0.7218076950630948,
          "y": -0.03560408572546814
         },
         {
          "group": "business",
          "x": -1.15324104755251,
          "y": -0.8279090600532616
         },
         {
          "group": "business",
          "x": -1.7190316859403263,
          "y": 0.770085686582109
         },
         {
          "group": "business",
          "x": -0.9411468067000623,
          "y": -1.8125556964890686
         },
         {
          "group": "business",
          "x": -1.212765208096526,
          "y": -1.967800007037753
         },
         {
          "group": "business",
          "x": 0.09356704235305285,
          "y": 1.2703814251323742
         },
         {
          "group": "business",
          "x": 1.082414280868378,
          "y": -1.514722518826621
         },
         {
          "group": "business",
          "x": -1.4491105455659086,
          "y": 1.7168863564027987
         },
         {
          "group": "business",
          "x": 0.23642781190493506,
          "y": 0.9372361397143454
         },
         {
          "group": "business",
          "x": 0.2963266144033833,
          "y": 0.1297843922547641
         },
         {
          "group": "business",
          "x": 0.9769780096273152,
          "y": 0.9936965320964264
         },
         {
          "group": "business",
          "x": -0.6115295243438365,
          "y": -1.4988237641601805
         },
         {
          "group": "business",
          "x": 0.36825131398690486,
          "y": 0.49716088978362066
         },
         {
          "group": "business",
          "x": -0.1200757517465564,
          "y": 0.22819875125748984
         },
         {
          "group": "business",
          "x": -1.596262300731152,
          "y": -1.7936409356178975
         },
         {
          "group": "business",
          "x": 0.2375387949329304,
          "y": -0.7328987090744415
         },
         {
          "group": "business",
          "x": -0.39600311895144574,
          "y": 0.8126418805808696
         },
         {
          "group": "business",
          "x": -1.4044623928237372,
          "y": -0.6476572647136497
         },
         {
          "group": "business",
          "x": 0.147284250446336,
          "y": 0.7753234402885187
         },
         {
          "group": "business",
          "x": 0.8721828319565952,
          "y": 1.7861054275054336
         },
         {
          "group": "business",
          "x": -0.405024202157036,
          "y": 0.3878327146461739
         },
         {
          "group": "business",
          "x": -0.17588748992928877,
          "y": -0.7552904061139813
         },
         {
          "group": "business",
          "x": -1.6050861851714229,
          "y": 0.5375929222179162
         },
         {
          "group": "business",
          "x": -0.6305357386397523,
          "y": -0.3878583555420823
         },
         {
          "group": "business",
          "x": 1.7291454293468564,
          "y": 0.39171422562806185
         },
         {
          "group": "business",
          "x": -0.7709308968434669,
          "y": 0.9939456775073349
         },
         {
          "group": "business",
          "x": 0.1838009619230996,
          "y": -0.19521855179659042
         },
         {
          "group": "business",
          "x": -0.22676007096268416,
          "y": 0.17842920073306698
         },
         {
          "group": "business",
          "x": -2.160078252284567,
          "y": -1.9106243884996967
         },
         {
          "group": "business",
          "x": 1.4582192327029244,
          "y": -0.30252642023926535
         },
         {
          "group": "business",
          "x": -1.717031334285518,
          "y": 0.7801048764857248
         },
         {
          "group": "business",
          "x": -0.8061885149377488,
          "y": 0.6165259573190512
         },
         {
          "group": "business",
          "x": -1.3058034448842242,
          "y": 1.6519295030103858
         },
         {
          "group": "business",
          "x": -0.7831842860717799,
          "y": -1.0063292760099574
         },
         {
          "group": "business",
          "x": -1.294863938337445,
          "y": 0.13561208172483066
         },
         {
          "group": "business",
          "x": -2.4928822980632104,
          "y": -0.08759132621525398
         },
         {
          "group": "business",
          "x": -0.4371472629903207,
          "y": 1.865320528418918
         },
         {
          "group": "business",
          "x": -1.4208282811441733,
          "y": 1.1297547423674694
         },
         {
          "group": "business",
          "x": -1.1507528656286832,
          "y": -0.13392553660821865
         },
         {
          "group": "business",
          "x": -2.288798246525515,
          "y": -1.3787742761070185
         },
         {
          "group": "business",
          "x": -0.6289163929422494,
          "y": 0.7946989654422927
         },
         {
          "group": "business",
          "x": -1.1898193927863798,
          "y": -1.3742105958879842
         },
         {
          "group": "business",
          "x": -0.2618838817945963,
          "y": -1.0854248439231262
         },
         {
          "group": "business",
          "x": 1.0561395911041187,
          "y": 0.6497164671427732
         },
         {
          "group": "business",
          "x": -0.45320400480041617,
          "y": 0.7291148758324216
         },
         {
          "group": "business",
          "x": 0.25386612192326496,
          "y": -0.17044246996084542
         },
         {
          "group": "business",
          "x": 0.6352196593918433,
          "y": 0.4937286772275022
         },
         {
          "group": "business",
          "x": 0.5301515543080582,
          "y": -1.7389578217692543
         },
         {
          "group": "business",
          "x": -1.1629948827836873,
          "y": 0.6133859777241871
         },
         {
          "group": "business",
          "x": 0.4957983278053977,
          "y": -1.3021732063777094
         },
         {
          "group": "business",
          "x": 0.3624637229963333,
          "y": -0.5407258239805826
         },
         {
          "group": "business",
          "x": -0.8139836759101253,
          "y": 1.2024530242331588
         },
         {
          "group": "business",
          "x": -1.0094422958285232,
          "y": 0.32908825607723236
         },
         {
          "group": "business",
          "x": 0.630634740930694,
          "y": 0.1238901998513471
         },
         {
          "group": "business",
          "x": 0.13189334838560324,
          "y": -0.9036584258702178
         },
         {
          "group": "business",
          "x": 2.3260420936000776,
          "y": -0.540114078535509
         },
         {
          "group": "business",
          "x": -0.9308834896231004,
          "y": -1.5631410310236538
         },
         {
          "group": "business",
          "x": 2.4226625889233575,
          "y": 2.862662513025424
         },
         {
          "group": "business",
          "x": -1.8391674257227562,
          "y": -0.3213957368314958
         },
         {
          "group": "business",
          "x": 0.7028723348684275,
          "y": 0.18976751968512667
         },
         {
          "group": "business",
          "x": -2.2747783023394907,
          "y": -0.6190348020390232
         },
         {
          "group": "business",
          "x": -0.15642377629278104,
          "y": -0.34888571288659853
         },
         {
          "group": "business",
          "x": 0.17646094922315406,
          "y": 0.6098105228225649
         },
         {
          "group": "business",
          "x": -0.4753153123950711,
          "y": 0.4422745857128446
         },
         {
          "group": "business",
          "x": -0.9288249600503178,
          "y": -1.5477388088737678
         },
         {
          "group": "business",
          "x": -0.4630176890625114,
          "y": 0.7778547176767566
         },
         {
          "group": "business",
          "x": -2.0042353435539435,
          "y": -0.42943200543865884
         },
         {
          "group": "business",
          "x": -0.41042366224874044,
          "y": 0.9583186677247103
         },
         {
          "group": "business",
          "x": -0.7340898834704062,
          "y": 0.4770501569547398
         },
         {
          "group": "business",
          "x": -1.3552627752055875,
          "y": -0.26111471726751445
         },
         {
          "group": "business",
          "x": 0.6217139272130686,
          "y": -0.6557341722637814
         },
         {
          "group": "business",
          "x": 0.06742622289545555,
          "y": 0.3717781941105049
         },
         {
          "group": "business",
          "x": 0.1240412633503764,
          "y": 0.4254344316415892
         },
         {
          "group": "business",
          "x": -0.13683606401281348,
          "y": 0.6485089137988405
         },
         {
          "group": "business",
          "x": -1.9211077929480378,
          "y": 1.4472085848219571
         },
         {
          "group": "business",
          "x": -2.374897649287796,
          "y": 1.5208009867786112
         },
         {
          "group": "business",
          "x": 1.0034237122129395,
          "y": -2.5186622520193027
         },
         {
          "group": "business",
          "x": 0.419279361997863,
          "y": 1.0951637311246356
         },
         {
          "group": "business",
          "x": -1.3424559974838601,
          "y": -0.3275255762403218
         },
         {
          "group": "business",
          "x": -1.37031694808428,
          "y": 0.7011378322790115
         },
         {
          "group": "business",
          "x": -1.3291414399829087,
          "y": -0.3380902865622486
         },
         {
          "group": "business",
          "x": -2.1906779579697746,
          "y": 0.6359345470628422
         },
         {
          "group": "business",
          "x": -0.17814496606853056,
          "y": 1.381010257490323
         },
         {
          "group": "business",
          "x": 2.108180614547426,
          "y": -0.4041426860902794
         },
         {
          "group": "business",
          "x": 1.0532273275392285,
          "y": 0.1943184962032721
         },
         {
          "group": "business",
          "x": 0.09892504419577267,
          "y": -0.3621257796715031
         },
         {
          "group": "business",
          "x": -0.26893694118070777,
          "y": -0.16757910482316776
         },
         {
          "group": "business",
          "x": 0.3966414742131884,
          "y": 0.48502087533677407
         },
         {
          "group": "business",
          "x": -0.8083224607058644,
          "y": 1.6970936130747016
         },
         {
          "group": "business",
          "x": -2.456777204481042,
          "y": -1.3154246402440137
         },
         {
          "group": "business",
          "x": -0.09363625659285399,
          "y": -0.014173895906886419
         },
         {
          "group": "business",
          "x": 0.1285521213266917,
          "y": -0.21355814917780372
         },
         {
          "group": "business",
          "x": -0.35147481338781095,
          "y": -0.75972460382656
         },
         {
          "group": "business",
          "x": 0.37143815868022745,
          "y": -0.8218151622793917
         },
         {
          "group": "business",
          "x": -0.7529616428423191,
          "y": -1.854903787483743
         },
         {
          "group": "business",
          "x": -1.2857474666172448,
          "y": -1.8117517805110976
         },
         {
          "group": "business",
          "x": 1.1879023226318255,
          "y": -0.08931271070869476
         },
         {
          "group": "business",
          "x": 1.4943335078688194,
          "y": -2.115258783964636
         },
         {
          "group": "business",
          "x": -0.8915602300461558,
          "y": 1.186661385742125
         },
         {
          "group": "business",
          "x": -0.7056306000553396,
          "y": 1.158270219528792
         },
         {
          "group": "business",
          "x": 1.2770974071313208,
          "y": -0.6226172539577692
         },
         {
          "group": "business",
          "x": -2.0862826385691093,
          "y": -0.17200943825439113
         },
         {
          "group": "business",
          "x": 0.9004336722055829,
          "y": -1.646743330340866
         },
         {
          "group": "business",
          "x": -0.9190949676646242,
          "y": 1.5985883290120644
         },
         {
          "group": "business",
          "x": 0.11940069711663562,
          "y": -0.07776238372372753
         },
         {
          "group": "business",
          "x": 0.5113723844111678,
          "y": -2.0012774989131157
         },
         {
          "group": "business",
          "x": -1.5106791384099536,
          "y": 1.2872667851501265
         },
         {
          "group": "business",
          "x": 0.007142383300958228,
          "y": -0.01525999383378849
         },
         {
          "group": "business",
          "x": 0.11436439924222759,
          "y": 1.2343656111000818
         },
         {
          "group": "business",
          "x": -0.05664688389451041,
          "y": 1.889962717729455
         },
         {
          "group": "business",
          "x": 1.3847505599816072,
          "y": -1.3631283178989781
         },
         {
          "group": "business",
          "x": -0.5400107343103143,
          "y": 0.42091290106814494
         },
         {
          "group": "business",
          "x": -1.5077094883457545,
          "y": 1.6666122429453578
         },
         {
          "group": "business",
          "x": -2.9755279237330567,
          "y": 0.5331748716995046
         },
         {
          "group": "business",
          "x": 0.8898042666686904,
          "y": 0.5239775482282988
         },
         {
          "group": "business",
          "x": 2.0202732079693693,
          "y": 0.3377243931873346
         },
         {
          "group": "business",
          "x": 0.05121360883713133,
          "y": 1.1274909927759338
         },
         {
          "group": "business",
          "x": 0.18013334633220776,
          "y": -0.0609629265570721
         },
         {
          "group": "business",
          "x": -0.33268804480865866,
          "y": 1.2691350949745115
         },
         {
          "group": "business",
          "x": -1.9439838942561458,
          "y": 1.2797071185171025
         },
         {
          "group": "business",
          "x": -1.0419462343365133,
          "y": -0.34230157072858874
         },
         {
          "group": "business",
          "x": 0.22393200646348405,
          "y": 0.731190283889599
         },
         {
          "group": "business",
          "x": 0.4618750988331526,
          "y": -1.1186468944058163
         },
         {
          "group": "business",
          "x": -0.5733631395580304,
          "y": -0.9703022903773152
         },
         {
          "group": "business",
          "x": -0.316736838600364,
          "y": 1.189474776375069
         },
         {
          "group": "business",
          "x": 0.20617124061479564,
          "y": -0.3571850445442676
         },
         {
          "group": "business",
          "x": -1.3516864485594753,
          "y": 1.1632831960525707
         },
         {
          "group": "business",
          "x": -3.236894111058877,
          "y": 0.16796922756231458
         },
         {
          "group": "business",
          "x": 0.0943765959568886,
          "y": -0.14928263206476522
         },
         {
          "group": "business",
          "x": -1.3358666198536921,
          "y": 0.27824437250134526
         },
         {
          "group": "business",
          "x": -0.9431613568967275,
          "y": 0.7576052853797544
         },
         {
          "group": "business",
          "x": -0.4298521465484,
          "y": -0.18434528502922284
         },
         {
          "group": "business",
          "x": 0.23809454168428906,
          "y": -1.1538699697877335
         },
         {
          "group": "business",
          "x": -0.78676845962767,
          "y": 0.24894415765433256
         },
         {
          "group": "business",
          "x": -1.21494233458925,
          "y": -2.025252403572692
         },
         {
          "group": "business",
          "x": 0.09670222715936741,
          "y": 0.9059867481128444
         },
         {
          "group": "business",
          "x": -0.47110736735610403,
          "y": -1.128226831014565
         },
         {
          "group": "business",
          "x": -0.8614028036166741,
          "y": -1.2348423697609872
         },
         {
          "group": "business",
          "x": -1.5862278864522108,
          "y": 1.6808808080139594
         },
         {
          "group": "business",
          "x": -1.9806683140831418,
          "y": -0.4149302935976442
         },
         {
          "group": "business",
          "x": 1.0048825497390808,
          "y": -0.29237069787878683
         },
         {
          "group": "business",
          "x": -1.0386726070553003,
          "y": -0.8751928346105197
         },
         {
          "group": "business",
          "x": -0.5494070657677541,
          "y": 0.5329079356336146
         },
         {
          "group": "business",
          "x": -0.6765143659004695,
          "y": -0.6751130702483488
         },
         {
          "group": "business",
          "x": -0.9423600714535658,
          "y": -1.079966908173757
         },
         {
          "group": "business",
          "x": -0.662417989687576,
          "y": -0.035803726483023955
         },
         {
          "group": "business",
          "x": -0.1741331128232729,
          "y": -2.202778317690708
         },
         {
          "group": "business",
          "x": -0.46256538631327043,
          "y": 0.942586971652972
         },
         {
          "group": "business",
          "x": 0.9601494489446531,
          "y": 0.11060205335759556
         },
         {
          "group": "business",
          "x": -1.3704793040218357,
          "y": -0.7524586889760647
         },
         {
          "group": "business",
          "x": -2.453825030048803,
          "y": -0.25608098985783545
         },
         {
          "group": "business",
          "x": 0.4121561654194372,
          "y": 1.6061592265159503
         },
         {
          "group": "business",
          "x": -1.1139743970425897,
          "y": -0.07444723464244458
         },
         {
          "group": "business",
          "x": -0.040954651611461515,
          "y": -0.11879268449494114
         },
         {
          "group": "business",
          "x": -0.03902656603422261,
          "y": -0.9847897474757574
         },
         {
          "group": "business",
          "x": 0.3392233491388445,
          "y": 0.44156973575813774
         },
         {
          "group": "business",
          "x": 0.1101793421097996,
          "y": 1.0943511521949782
         },
         {
          "group": "business",
          "x": 0.895341080702559,
          "y": 0.6054421201773219
         },
         {
          "group": "business",
          "x": -0.3093491965929748,
          "y": 0.02560132754292605
         },
         {
          "group": "business",
          "x": -1.028797991050904,
          "y": 1.4414220653893615
         },
         {
          "group": "business",
          "x": 0.4715467706862111,
          "y": 0.057103596182498176
         },
         {
          "group": "business",
          "x": -1.322519997203037,
          "y": 1.0073532568802608
         },
         {
          "group": "business",
          "x": -0.6170192073475472,
          "y": 1.6821402199314697
         },
         {
          "group": "business",
          "x": 1.6889776277780548,
          "y": 1.1652552576470045
         },
         {
          "group": "business",
          "x": -0.25132669357768106,
          "y": -1.3948939796305317
         },
         {
          "group": "business",
          "x": -1.7495077371666738,
          "y": 0.7965378418519259
         },
         {
          "group": "business",
          "x": 0.7531724146606693,
          "y": 0.1532506850235885
         },
         {
          "group": "business",
          "x": 0.07945500967401718,
          "y": 0.0519701585515817
         },
         {
          "group": "business",
          "x": -0.6383128929482142,
          "y": -0.7439402569232594
         },
         {
          "group": "business",
          "x": -1.0652544050779165,
          "y": 1.2098404872943482
         },
         {
          "group": "business",
          "x": -0.38203207882619994,
          "y": 0.12405889796319101
         },
         {
          "group": "business",
          "x": 0.7095148520861166,
          "y": -1.7111666467408517
         },
         {
          "group": "business",
          "x": -0.026168922299063462,
          "y": -0.6657585194962672
         },
         {
          "group": "business",
          "x": 2.0326859618222923,
          "y": -0.9098414283685294
         },
         {
          "group": "business",
          "x": 1.0526234010726379,
          "y": -1.7784846768888982
         },
         {
          "group": "business",
          "x": -2.0443716851649243,
          "y": -0.08349864760050422
         },
         {
          "group": "business",
          "x": 0.15561333823914655,
          "y": -0.7652119576432508
         },
         {
          "group": "business",
          "x": 1.1114759454471088,
          "y": 0.7398895752352391
         },
         {
          "group": "business",
          "x": -0.48730149416079194,
          "y": 1.2531008212698624
         },
         {
          "group": "business",
          "x": -1.2999316365998947,
          "y": -0.7904519970050858
         },
         {
          "group": "business",
          "x": 0.1544276140605267,
          "y": -1.1464655577025133
         },
         {
          "group": "business",
          "x": -0.18919513029428367,
          "y": -0.7589398484937095
         },
         {
          "group": "business",
          "x": 0.04521656850707311,
          "y": 0.36679618511950385
         },
         {
          "group": "business",
          "x": -2.389167430012983,
          "y": -0.6220939533483891
         },
         {
          "group": "business",
          "x": -0.5689393760838538,
          "y": -0.48682391374059725
         },
         {
          "group": "business",
          "x": -1.4579308856228566,
          "y": -0.4371491114212198
         },
         {
          "group": "business",
          "x": -1.0252022060760024,
          "y": -1.225446743444057
         },
         {
          "group": "business",
          "x": -0.31100367146247726,
          "y": -0.4750103504370521
         },
         {
          "group": "business",
          "x": -3.223783519211758,
          "y": 0.874629684717497
         },
         {
          "group": "business",
          "x": -0.22067433926931074,
          "y": -0.1641489188765109
         },
         {
          "group": "business",
          "x": 1.1349815311148452,
          "y": -0.6255154628984498
         },
         {
          "group": "business",
          "x": -1.0765012244662997,
          "y": -0.010862389340569
         },
         {
          "group": "business",
          "x": -0.27428410467080194,
          "y": 1.0697656715178887
         },
         {
          "group": "business",
          "x": 2.5659783846329116,
          "y": -1.0487702683722826
         },
         {
          "group": "business",
          "x": -1.3908315018737607,
          "y": 0.5737039853523483
         },
         {
          "group": "business",
          "x": 0.15149835478157736,
          "y": 1.1234442374708302
         },
         {
          "group": "business",
          "x": -0.01032062923015577,
          "y": -0.26448245760272615
         },
         {
          "group": "business",
          "x": 1.473546850590258,
          "y": -0.3851792520419478
         },
         {
          "group": "business",
          "x": -0.45699472384331324,
          "y": -0.3116148691173964
         },
         {
          "group": "business",
          "x": 0.9947444608874271,
          "y": 1.0992136059674555
         },
         {
          "group": "business",
          "x": -3.6515151431551773,
          "y": 1.278301830533696
         },
         {
          "group": "business",
          "x": -2.201390512995122,
          "y": -1.2295687112947336
         },
         {
          "group": "business",
          "x": 0.4612903251741153,
          "y": -0.04724968792106231
         },
         {
          "group": "business",
          "x": 1.1553912003763422,
          "y": 0.6422236296065686
         },
         {
          "group": "business",
          "x": -0.13874075727618418,
          "y": 1.220863450187535
         },
         {
          "group": "business",
          "x": 0.9879548145885346,
          "y": -0.23351789007745524
         },
         {
          "group": "business",
          "x": -1.1273594751680818,
          "y": -0.06567777313752365
         },
         {
          "group": "business",
          "x": 0.2831934370564645,
          "y": -1.1920652349385479
         },
         {
          "group": "business",
          "x": 1.5964913733821244,
          "y": 1.472569599264684
         },
         {
          "group": "business",
          "x": -0.45409327303019603,
          "y": 0.7436093679413712
         },
         {
          "group": "business",
          "x": 1.5292074474630082,
          "y": 1.2120399931115435
         },
         {
          "group": "business",
          "x": -1.4231765596626285,
          "y": -0.11626922122055501
         },
         {
          "group": "business",
          "x": -0.30146227310540163,
          "y": -0.8765215929558504
         },
         {
          "group": "business",
          "x": -0.6706652003494509,
          "y": 1.5684233153448734
         },
         {
          "group": "business",
          "x": 0.08953430748343619,
          "y": 0.48945551043906593
         },
         {
          "group": "business",
          "x": -2.2349405724065465,
          "y": 1.1573317055658106
         },
         {
          "group": "business",
          "x": -2.248387529106069,
          "y": 1.0809843774491243
         },
         {
          "group": "business",
          "x": 0.003876513763692839,
          "y": -2.0425069884608056
         },
         {
          "group": "business",
          "x": 1.4977391983416979,
          "y": 0.7391146935636427
         },
         {
          "group": "business",
          "x": -1.0889185108142685,
          "y": -0.16437055500415068
         },
         {
          "group": "business",
          "x": -0.2813964394603089,
          "y": 0.4859382300105651
         },
         {
          "group": "business",
          "x": -0.9051535133298573,
          "y": 0.06340107551016023
         },
         {
          "group": "business",
          "x": 1.2236519891509605,
          "y": -0.4693992396731462
         },
         {
          "group": "business",
          "x": -0.5451253994774382,
          "y": -1.2225875089214144
         },
         {
          "group": "business",
          "x": -0.5049958334173876,
          "y": 0.10442161307299136
         },
         {
          "group": "business",
          "x": -0.13605269621110072,
          "y": -1.7022823173497716
         },
         {
          "group": "business",
          "x": -1.8027874708993255,
          "y": -1.680270144770184
         },
         {
          "group": "business",
          "x": -0.7017778666545569,
          "y": -0.35227946854603076
         },
         {
          "group": "business",
          "x": -0.2845466532030794,
          "y": 1.0308570166404063
         },
         {
          "group": "business",
          "x": 0.7943875953265643,
          "y": 1.2011859771774338
         },
         {
          "group": "business",
          "x": -0.72505384534836,
          "y": -1.0961058729263433
         },
         {
          "group": "business",
          "x": -0.6624366172644603,
          "y": 0.41506132816109853
         },
         {
          "group": "business",
          "x": -0.6207009344515725,
          "y": 0.20992059275941313
         },
         {
          "group": "business",
          "x": 0.29667437466025776,
          "y": 0.022561875047538645
         },
         {
          "group": "business",
          "x": 0.26235298696643466,
          "y": -0.6617893301741955
         },
         {
          "group": "business",
          "x": -0.7109424601613848,
          "y": 0.4547464725447107
         },
         {
          "group": "business",
          "x": -0.4390612787220158,
          "y": -1.9249625903798826
         },
         {
          "group": "business",
          "x": 0.39664935694759823,
          "y": -0.5935857554547265
         },
         {
          "group": "business",
          "x": -1.5086462791046709,
          "y": -0.13820490646906988
         },
         {
          "group": "business",
          "x": 0.003296432651011392,
          "y": 1.2481700117735115
         },
         {
          "group": "business",
          "x": -0.53204561582762,
          "y": 0.07562034982542201
         },
         {
          "group": "business",
          "x": -2.1525768500842055,
          "y": 0.3649736676861338
         },
         {
          "group": "business",
          "x": -0.11320671511093618,
          "y": 0.9956711109859433
         },
         {
          "group": "business",
          "x": -0.14357581638049027,
          "y": -1.2216707911802356
         },
         {
          "group": "business",
          "x": -1.4926382622323682,
          "y": -1.779178380986329
         },
         {
          "group": "business",
          "x": -0.43959253208665827,
          "y": -0.2903735385971197
         },
         {
          "group": "business",
          "x": 0.3829433266162233,
          "y": -0.22540368160384852
         },
         {
          "group": "business",
          "x": -0.9849389011429258,
          "y": 0.014425052077655693
         },
         {
          "group": "business",
          "x": -1.2511186682408915,
          "y": -0.11128136482687832
         },
         {
          "group": "business",
          "x": -1.117963599499094,
          "y": 2.3187362337904887
         },
         {
          "group": "business",
          "x": 1.6756033681399682,
          "y": 0.0954050019685853
         },
         {
          "group": "business",
          "x": 0.45145995878937034,
          "y": 0.24444809277737103
         },
         {
          "group": "business",
          "x": -1.1610214131256271,
          "y": -1.2326904508495768
         },
         {
          "group": "business",
          "x": -1.7932100278830054,
          "y": 0.04807383646855287
         },
         {
          "group": "business",
          "x": 0.25494916171980897,
          "y": -1.16515313646638
         },
         {
          "group": "business",
          "x": -1.2552113890401255,
          "y": 0.6711640884226051
         },
         {
          "group": "business",
          "x": 0.5649431005697546,
          "y": 0.4290217105522904
         },
         {
          "group": "business",
          "x": -2.126878437060297,
          "y": 0.35689195227979964
         },
         {
          "group": "business",
          "x": -1.3588209305444097,
          "y": -0.15874724720374442
         },
         {
          "group": "business",
          "x": -0.4290466576330836,
          "y": 0.6537686725132811
         },
         {
          "group": "business",
          "x": 0.4037868822268154,
          "y": -0.8479093317855445
         },
         {
          "group": "business",
          "x": -1.5724111449094165,
          "y": -0.17781855285913992
         },
         {
          "group": "business",
          "x": -0.5642522279774712,
          "y": -0.6258638097740967
         },
         {
          "group": "business",
          "x": -0.3642959519289868,
          "y": -1.7808010888804886
         },
         {
          "group": "business",
          "x": -0.8666962357890909,
          "y": -2.0006508145825315
         },
         {
          "group": "business",
          "x": -2.2169709450189945,
          "y": -0.796544028806175
         },
         {
          "group": "business",
          "x": -1.2720047462616033,
          "y": 1.4948443732250352
         },
         {
          "group": "business",
          "x": 0.6142133529141273,
          "y": -0.49017633188709786
         },
         {
          "group": "business",
          "x": 1.5152704145670115,
          "y": 0.4467589176365545
         },
         {
          "group": "business",
          "x": -0.3021723577622151,
          "y": 0.21046580120300248
         },
         {
          "group": "business",
          "x": 0.12146812570247263,
          "y": -0.4095623347382935
         },
         {
          "group": "business",
          "x": -0.617215258641371,
          "y": 1.2352815479363852
         },
         {
          "group": "business",
          "x": 0.10399028835742195,
          "y": -0.674265460673525
         },
         {
          "group": "business",
          "x": -1.4830325193727294,
          "y": -0.17375462827972804
         },
         {
          "group": "business",
          "x": -1.0418778143900016,
          "y": 0.02248375371323873
         },
         {
          "group": "business",
          "x": -0.6815485003749723,
          "y": -0.04913496567175765
         },
         {
          "group": "business",
          "x": 0.2082424495960511,
          "y": -1.6890526785138582
         },
         {
          "group": "business",
          "x": -0.9303374672488386,
          "y": -1.389849865003981
         },
         {
          "group": "business",
          "x": -1.1518015272344957,
          "y": -2.2695063165374076
         },
         {
          "group": "business",
          "x": 0.24355517450045414,
          "y": 0.15066826009033576
         },
         {
          "group": "business",
          "x": -1.157026276522321,
          "y": -0.3023098260777492
         },
         {
          "group": "business",
          "x": 0.033320523532542994,
          "y": 0.519241098089436
         },
         {
          "group": "business",
          "x": -0.42976149212585096,
          "y": -0.7434520066130661
         },
         {
          "group": "business",
          "x": -1.9849593806611492,
          "y": -0.6990239359989632
         },
         {
          "group": "business",
          "x": 1.5190216423039344,
          "y": -1.0432168387105432
         },
         {
          "group": "business",
          "x": -0.8244008472450112,
          "y": -1.5119161815086286
         },
         {
          "group": "business",
          "x": 0.37783615418249555,
          "y": -0.8455640369975393
         },
         {
          "group": "business",
          "x": -0.9709588433190981,
          "y": 2.004156349756952
         },
         {
          "group": "business",
          "x": 1.0907003759249951,
          "y": -0.4259694589566488
         },
         {
          "group": "business",
          "x": 1.2457791687191158,
          "y": 0.7962787195780643
         },
         {
          "group": "business",
          "x": 0.09388706616873324,
          "y": -0.4962222306804771
         },
         {
          "group": "business",
          "x": -2.1563070026587488,
          "y": 0.2634489541169633
         },
         {
          "group": "business",
          "x": -0.6163483942297245,
          "y": 0.8100504250565466
         },
         {
          "group": "business",
          "x": -0.9127193524880888,
          "y": -1.4478878382132863
         },
         {
          "group": "business",
          "x": -0.8876066941863062,
          "y": 0.14240120603261433
         },
         {
          "group": "business",
          "x": 0.6532551145775275,
          "y": -2.9863768733358724
         },
         {
          "group": "business",
          "x": -0.13790527421298343,
          "y": -0.6121690208948388
         },
         {
          "group": "business",
          "x": -0.7511630737902943,
          "y": -0.1513296517286631
         },
         {
          "group": "business",
          "x": -1.4329603117966803,
          "y": -1.6750635242146137
         },
         {
          "group": "business",
          "x": 0.8670505326212828,
          "y": -1.0477667218542597
         },
         {
          "group": "business",
          "x": -0.3242390220894822,
          "y": -2.2524672423198258
         },
         {
          "group": "business",
          "x": -1.3593313902865132,
          "y": 0.6752823352814546
         },
         {
          "group": "business",
          "x": 0.09209612833248765,
          "y": -2.0404831605476925
         },
         {
          "group": "business",
          "x": 0.8627203872879976,
          "y": 1.3144484623881687
         },
         {
          "group": "business",
          "x": 0.014148082987582522,
          "y": -1.350184942053765
         },
         {
          "group": "business",
          "x": -0.19864730580691653,
          "y": -0.28543018904726225
         },
         {
          "group": "business",
          "x": 1.3094229939655322,
          "y": -0.5657949982110607
         },
         {
          "group": "business",
          "x": -0.5653345730640719,
          "y": 1.3210752188067623
         },
         {
          "group": "business",
          "x": -1.766505815258466,
          "y": -1.6098338587105359
         },
         {
          "group": "business",
          "x": -0.9262111563586669,
          "y": 0.21396205304354113
         },
         {
          "group": "business",
          "x": -0.7931668238449103,
          "y": 1.3087765842324282
         },
         {
          "group": "business",
          "x": -0.13876051155467076,
          "y": -0.4854947003040082
         },
         {
          "group": "business",
          "x": 0.5004023073950058,
          "y": 0.7378039211715227
         },
         {
          "group": "business",
          "x": -1.4115351097605044,
          "y": -0.38365135666298883
         },
         {
          "group": "business",
          "x": -1.7271953929135002,
          "y": 0.7215442526625419
         },
         {
          "group": "business",
          "x": -0.14112226885460938,
          "y": 0.7871290630264235
         },
         {
          "group": "business",
          "x": 1.2432670524325347,
          "y": 0.12291307564404941
         },
         {
          "group": "business",
          "x": -1.3125428719555117,
          "y": 0.2300303792387223
         },
         {
          "group": "business",
          "x": 1.3106155792188168,
          "y": -0.45258126123539305
         },
         {
          "group": "business",
          "x": -0.5929230199230192,
          "y": -0.8449497757300162
         },
         {
          "group": "business",
          "x": -0.43719017620219786,
          "y": -2.4239877344265786
         },
         {
          "group": "business",
          "x": -1.2069846565682356,
          "y": -0.10111006216684297
         },
         {
          "group": "business",
          "x": -0.7460272643540168,
          "y": 0.18742751406999267
         },
         {
          "group": "business",
          "x": -0.5779010795352972,
          "y": 0.7350791836780524
         },
         {
          "group": "business",
          "x": -1.0215292469021813,
          "y": -0.3591833369385888
         },
         {
          "group": "business",
          "x": -0.841427462332917,
          "y": 1.1435849324323721
         },
         {
          "group": "business",
          "x": 0.43038103803203276,
          "y": 0.38691822813186416
         },
         {
          "group": "business",
          "x": -0.22176651014164664,
          "y": -1.3346098222410094
         },
         {
          "group": "business",
          "x": -0.7426392488679182,
          "y": -1.7956434841509128
         },
         {
          "group": "business",
          "x": 0.3154856393614467,
          "y": -0.636747586484336
         },
         {
          "group": "business",
          "x": -1.1871567467638522,
          "y": -0.12138934691345624
         },
         {
          "group": "business",
          "x": -0.8494734308809834,
          "y": -0.605436968063866
         },
         {
          "group": "business",
          "x": -0.7003916743604819,
          "y": 0.5469408192929777
         },
         {
          "group": "business",
          "x": -1.0090052736306128,
          "y": 0.6887591702296474
         },
         {
          "group": "business",
          "x": -0.5888635770746827,
          "y": 0.9584447521473799
         },
         {
          "group": "business",
          "x": -2.1655444520270937,
          "y": -1.0024916490996247
         },
         {
          "group": "business",
          "x": 0.8323129373338111,
          "y": 0.5615146894540682
         },
         {
          "group": "business",
          "x": -1.796147428571513,
          "y": -0.2770885564045818
         },
         {
          "group": "business",
          "x": -1.2764523998248718,
          "y": 0.601576047725038
         },
         {
          "group": "business",
          "x": -1.617376557123031,
          "y": -0.4738195226270955
         },
         {
          "group": "business",
          "x": -1.3889112854044598,
          "y": -0.4108455696698194
         },
         {
          "group": "business",
          "x": -1.177313954488007,
          "y": -0.5584634815845788
         },
         {
          "group": "business",
          "x": -0.29840308364629914,
          "y": -1.2073774984458812
         },
         {
          "group": "business",
          "x": 0.49491154449211644,
          "y": -0.558489310658704
         },
         {
          "group": "business",
          "x": 0.29671054497756294,
          "y": 0.9069345101436115
         },
         {
          "group": "business",
          "x": -0.8151841976372066,
          "y": 1.5369219675297787
         },
         {
          "group": "business",
          "x": 0.962307648425998,
          "y": 1.146116466025107
         },
         {
          "group": "business",
          "x": -1.6295348897554611,
          "y": 1.217836812760605
         },
         {
          "group": "business",
          "x": -0.6149346262735894,
          "y": 1.0677677951152003
         },
         {
          "group": "business",
          "x": -1.0684045734321939,
          "y": 0.6594047532479007
         },
         {
          "group": "business",
          "x": -0.158225862005886,
          "y": 0.3170809378286694
         },
         {
          "group": "business",
          "x": -1.4329710462486909,
          "y": -1.105809020121341
         },
         {
          "group": "business",
          "x": -1.348563021701145,
          "y": 1.63228938411592
         },
         {
          "group": "business",
          "x": 0.07589819950816783,
          "y": 0.27116910516531817
         },
         {
          "group": "business",
          "x": -2.3651052374371204,
          "y": -0.4603358370768655
         },
         {
          "group": "business",
          "x": -0.8402708621074899,
          "y": 1.9481792660200488
         },
         {
          "group": "business",
          "x": 0.07076333418505207,
          "y": -0.9966719077030864
         },
         {
          "group": "business",
          "x": -1.7617188282278005,
          "y": -1.1209666286375541
         },
         {
          "group": "business",
          "x": -0.5929703342549865,
          "y": 1.9020955763560332
         },
         {
          "group": "business",
          "x": -1.3732148153604076,
          "y": 1.5002691080284807
         },
         {
          "group": "business",
          "x": 0.5363407312700625,
          "y": 0.6507463944653679
         },
         {
          "group": "business",
          "x": -0.6593221666842352,
          "y": 2.5858317071973183
         },
         {
          "group": "business",
          "x": -1.3892448626256122,
          "y": -0.4031016889121995
         },
         {
          "group": "business",
          "x": -0.38022437191137987,
          "y": -1.0631047061506638
         },
         {
          "group": "business",
          "x": 0.02015227208292218,
          "y": 1.308541470135894
         },
         {
          "group": "business",
          "x": -3.4365275782997147,
          "y": -1.0332979290305104
         },
         {
          "group": "business",
          "x": -0.07400594577559916,
          "y": 1.6178209724141368
         },
         {
          "group": "business",
          "x": 1.3998442692955921,
          "y": -1.1986445789415463
         },
         {
          "group": "business",
          "x": -0.4381637626074684,
          "y": 1.623912475495521
         },
         {
          "group": "business",
          "x": -1.1131057441914347,
          "y": 1.0169340660989292
         },
         {
          "group": "business",
          "x": 0.8034672322873488,
          "y": -1.4928741255181082
         },
         {
          "group": "business",
          "x": -0.5533110528153653,
          "y": -1.1552149833665377
         },
         {
          "group": "business",
          "x": -0.9145234099329628,
          "y": 0.2179147984749701
         },
         {
          "group": "business",
          "x": -0.8982957139196661,
          "y": -0.43989623580387993
         },
         {
          "group": "business",
          "x": -2.164667871054768,
          "y": 0.055065629171326
         },
         {
          "group": "business",
          "x": 1.3710583248095698,
          "y": 0.03578095630342791
         },
         {
          "group": "business",
          "x": 0.4954604461071554,
          "y": 0.37225965367773084
         },
         {
          "group": "business",
          "x": -0.5265150722844038,
          "y": -0.5253357272384356
         },
         {
          "group": "business",
          "x": 0.06383780558816832,
          "y": 0.428394504913259
         },
         {
          "group": "business",
          "x": -0.6605801929338547,
          "y": -0.2548220600526496
         },
         {
          "group": "business",
          "x": -0.8124108963650392,
          "y": -1.0953170348683763
         },
         {
          "group": "business",
          "x": 2.196704169680649,
          "y": -0.690121260386108
         },
         {
          "group": "business",
          "x": 1.4136045567987463,
          "y": 1.3186603777348167
         },
         {
          "group": "business",
          "x": -0.4303613481884289,
          "y": -0.0009082700481243152
         },
         {
          "group": "business",
          "x": -1.9485589199776976,
          "y": -0.01609258737206104
         },
         {
          "group": "business",
          "x": -1.1129181570036315,
          "y": -0.5044070459720463
         },
         {
          "group": "business",
          "x": -0.5948767087642055,
          "y": 0.5267606455549743
         },
         {
          "group": "business",
          "x": 0.580638973369467,
          "y": -2.1088950786571115
         },
         {
          "group": "business",
          "x": 1.3377626128607056,
          "y": 0.8071327965805808
         },
         {
          "group": "business",
          "x": -0.807977897710729,
          "y": -0.9743308596920959
         },
         {
          "group": "business",
          "x": 1.108974930738181,
          "y": -0.2810435491541428
         },
         {
          "group": "business",
          "x": 1.5587244353748666,
          "y": 0.04121529937126867
         },
         {
          "group": "business",
          "x": 1.1971993051666776,
          "y": -0.6360814681853489
         },
         {
          "group": "business",
          "x": -0.7249527883289864,
          "y": 0.24503515220674624
         },
         {
          "group": "business",
          "x": 0.037551572252761733,
          "y": 0.38630554534226896
         },
         {
          "group": "business",
          "x": -3.5676756511075145,
          "y": -0.7035929996270851
         },
         {
          "group": "business",
          "x": 0.18305636876244483,
          "y": 1.1224202534642271
         },
         {
          "group": "business",
          "x": 0.6714106696984617,
          "y": 0.030262472973062306
         },
         {
          "group": "business",
          "x": 1.0172689605927057,
          "y": -1.8187104973832848
         },
         {
          "group": "business",
          "x": -1.1706140902505764,
          "y": -0.21235237881250713
         },
         {
          "group": "business",
          "x": -0.010984143009548671,
          "y": -0.3724663947285993
         },
         {
          "group": "business",
          "x": 1.7811666134875161,
          "y": 1.4232983847370635
         },
         {
          "group": "business",
          "x": -0.8476294726900354,
          "y": -0.03882320339757643
         },
         {
          "group": "business",
          "x": -0.7938573892795109,
          "y": 0.6194031284356186
         },
         {
          "group": "business",
          "x": -0.5185879381154289,
          "y": 0.31788870536265545
         },
         {
          "group": "business",
          "x": 0.0019442885257129855,
          "y": 0.5182093038762793
         },
         {
          "group": "business",
          "x": 0.8874938650267342,
          "y": -0.7976762001522177
         },
         {
          "group": "business",
          "x": 0.37056162510070323,
          "y": 2.1703378617467295
         },
         {
          "group": "business",
          "x": -1.3274818686312402,
          "y": 0.9018841168015234
         },
         {
          "group": "business",
          "x": -0.04314681880397444,
          "y": 1.0036067668522102
         },
         {
          "group": "business",
          "x": -1.3112555905730279,
          "y": 0.5128165269699595
         },
         {
          "group": "business",
          "x": 1.3381187073612786,
          "y": 0.03978556345503954
         },
         {
          "group": "business",
          "x": 1.2756923137883849,
          "y": 0.11705067595406382
         },
         {
          "group": "business",
          "x": 0.9609036023810943,
          "y": 1.5562220516359278
         },
         {
          "group": "business",
          "x": -1.2173683410579446,
          "y": -0.5644326286591256
         },
         {
          "group": "business",
          "x": -2.2026655692193264,
          "y": -0.39589394107043024
         },
         {
          "group": "business",
          "x": -1.340062086424156,
          "y": -0.6894468104024468
         },
         {
          "group": "business",
          "x": -0.9983130452099054,
          "y": -0.036473856861382735
         },
         {
          "group": "business",
          "x": -1.58637515102115,
          "y": 1.1548285653364896
         },
         {
          "group": "business",
          "x": 1.086833833920361,
          "y": -0.5560586222928826
         },
         {
          "group": "business",
          "x": -0.9377553161593966,
          "y": 0.2629045140699928
         },
         {
          "group": "business",
          "x": -0.7877948233213096,
          "y": 0.09632936827664264
         },
         {
          "group": "business",
          "x": 1.565047022347809,
          "y": 0.774061700875106
         },
         {
          "group": "business",
          "x": -0.43515344452483384,
          "y": 1.0045483439969933
         },
         {
          "group": "business",
          "x": -0.08076750513029439,
          "y": 0.6426681059993531
         },
         {
          "group": "business",
          "x": -0.2115407043606285,
          "y": -2.713408970280765
         },
         {
          "group": "business",
          "x": -0.9256316145045771,
          "y": 1.4679101814294322
         },
         {
          "group": "business",
          "x": -0.8792532496865825,
          "y": 1.6533224327015228
         },
         {
          "group": "business",
          "x": 0.19172408077056322,
          "y": 0.563127549433954
         },
         {
          "group": "business",
          "x": -0.02093513333622162,
          "y": -0.17596075789672758
         },
         {
          "group": "business",
          "x": -0.20341037835465642,
          "y": -0.832422184906337
         },
         {
          "group": "business",
          "x": -0.2996331684225202,
          "y": -0.5244232169847888
         },
         {
          "group": "business",
          "x": 0.2823932592967022,
          "y": 0.2488403063873802
         },
         {
          "group": "business",
          "x": -1.825270980535398,
          "y": -0.47072799840733787
         },
         {
          "group": "business",
          "x": -1.7691390483518108,
          "y": -0.025579075170157024
         },
         {
          "group": "business",
          "x": 0.9989116288192637,
          "y": 1.1805550625188703
         },
         {
          "group": "business",
          "x": -0.9519345919300052,
          "y": 2.0189797477253326
         },
         {
          "group": "business",
          "x": -0.2974180434784967,
          "y": -0.711517954147301
         },
         {
          "group": "business",
          "x": 2.099824563845778,
          "y": -0.4070439176410359
         },
         {
          "group": "business",
          "x": 0.2347526063781123,
          "y": 0.7974234817112864
         },
         {
          "group": "business",
          "x": -2.4798615768284162,
          "y": 0.6206445661559639
         },
         {
          "group": "business",
          "x": 0.34188182100464226,
          "y": -0.652419315670724
         },
         {
          "group": "business",
          "x": -1.5080628692885973,
          "y": -1.1143917468678184
         },
         {
          "group": "business",
          "x": -0.6788171513134771,
          "y": -0.1511234148117238
         },
         {
          "group": "business",
          "x": -0.8540743476516338,
          "y": 2.8910524256615546
         },
         {
          "group": "business",
          "x": -2.7422524451065873,
          "y": 1.2070938445098511
         },
         {
          "group": "business",
          "x": 1.6553567431283616,
          "y": -0.07337007222127082
         },
         {
          "group": "business",
          "x": -0.69773324077986,
          "y": -1.2372963622475752
         },
         {
          "group": "business",
          "x": -1.6245157930859702,
          "y": 0.20148351321108832
         },
         {
          "group": "business",
          "x": -1.2335267571317223,
          "y": -0.25592645076953585
         },
         {
          "group": "business",
          "x": 0.5254899444528228,
          "y": 0.4875564650427088
         },
         {
          "group": "politics",
          "x": 1.105240295075126,
          "y": 0.8080394518456206
         },
         {
          "group": "politics",
          "x": 0.14728807004748068,
          "y": 0.4589725293458398
         },
         {
          "group": "politics",
          "x": 0.2681036798670104,
          "y": -0.39717137892802856
         },
         {
          "group": "politics",
          "x": 2.0486381178346353,
          "y": 0.924832748198008
         },
         {
          "group": "politics",
          "x": -0.562110868923452,
          "y": -0.6784486279668276
         },
         {
          "group": "politics",
          "x": -1.1443864758051538,
          "y": -0.41983391143953047
         },
         {
          "group": "politics",
          "x": 0.34656648865883033,
          "y": -0.5387390453400258
         },
         {
          "group": "politics",
          "x": -2.6088002037251514,
          "y": 0.19016432904420844
         },
         {
          "group": "politics",
          "x": 0.8843965287578007,
          "y": 2.784193139151577
         },
         {
          "group": "politics",
          "x": -0.912794960121214,
          "y": -0.30579362085291634
         },
         {
          "group": "politics",
          "x": -0.4394184288551541,
          "y": -0.1926517653142303
         },
         {
          "group": "politics",
          "x": 0.7726912789990937,
          "y": 1.4441547340704177
         },
         {
          "group": "politics",
          "x": -2.799920794643105,
          "y": 0.08317197382794032
         },
         {
          "group": "politics",
          "x": 1.4256959704853245,
          "y": 0.6275745939731168
         },
         {
          "group": "politics",
          "x": -0.3908394627626219,
          "y": 0.9133304031707818
         },
         {
          "group": "politics",
          "x": -1.1322556740435226,
          "y": 1.7713271763862126
         },
         {
          "group": "politics",
          "x": -0.15388710742087866,
          "y": -0.0577107489973391
         },
         {
          "group": "politics",
          "x": -0.5083484089466878,
          "y": -1.9071108525936127
         },
         {
          "group": "politics",
          "x": 0.8534939292395028,
          "y": 0.13406375970295348
         },
         {
          "group": "politics",
          "x": 0.30160061912556324,
          "y": 0.34505638294081664
         },
         {
          "group": "politics",
          "x": 0.6337161141944649,
          "y": -1.8690023536851816
         },
         {
          "group": "politics",
          "x": -1.7547585273575212,
          "y": -1.2703069766113246
         },
         {
          "group": "politics",
          "x": -0.08880040861175503,
          "y": 1.5053372670818819
         },
         {
          "group": "politics",
          "x": -0.44259530304911465,
          "y": -0.6400810560553787
         },
         {
          "group": "politics",
          "x": -2.724166084693409,
          "y": 0.1512112614441181
         },
         {
          "group": "politics",
          "x": -0.7613285983269136,
          "y": 0.8321906224360651
         },
         {
          "group": "politics",
          "x": 0.9405455924798641,
          "y": -1.6133135141148054
         },
         {
          "group": "politics",
          "x": -2.098342027763644,
          "y": -1.766577085382216
         },
         {
          "group": "politics",
          "x": -1.668527007969898,
          "y": 1.1335441476540606
         },
         {
          "group": "politics",
          "x": -2.016113235665398,
          "y": 1.5503822493167243
         },
         {
          "group": "politics",
          "x": 1.7833061366747298,
          "y": -0.5247058959546023
         },
         {
          "group": "politics",
          "x": 1.3962715110296686,
          "y": -0.4181815153665058
         },
         {
          "group": "politics",
          "x": 0.7300340647208118,
          "y": -0.8668507431554147
         },
         {
          "group": "politics",
          "x": -0.5842499730833879,
          "y": 1.6797561052640673
         },
         {
          "group": "politics",
          "x": 1.1966599581849178,
          "y": -2.0607451285427976
         },
         {
          "group": "politics",
          "x": 0.04599523517609649,
          "y": -1.087147146156674
         },
         {
          "group": "politics",
          "x": -1.3443792726543475,
          "y": -0.23771916840184468
         },
         {
          "group": "politics",
          "x": -0.3027495821784293,
          "y": 0.18240399060296467
         },
         {
          "group": "politics",
          "x": 0.3232264730191117,
          "y": 1.9736788254751647
         },
         {
          "group": "politics",
          "x": 0.5579589290180123,
          "y": -0.2527758048317788
         },
         {
          "group": "politics",
          "x": -2.287970373991947,
          "y": 2.007960133231135
         },
         {
          "group": "politics",
          "x": 0.19036155784138523,
          "y": -1.9139701351889513
         },
         {
          "group": "politics",
          "x": 0.09283216227894708,
          "y": -2.893591153021155
         },
         {
          "group": "politics",
          "x": 1.5741218561729342,
          "y": -0.5561211983875827
         },
         {
          "group": "politics",
          "x": 0.5664236835383358,
          "y": 0.2575258321844372
         },
         {
          "group": "politics",
          "x": 0.9935197991803674,
          "y": 0.7286262964332914
         },
         {
          "group": "politics",
          "x": 0.14602896206537305,
          "y": 0.8399727950640444
         },
         {
          "group": "politics",
          "x": 0.784791243964153,
          "y": 1.473700629152355
         },
         {
          "group": "politics",
          "x": 0.538029311014901,
          "y": -2.9393142921591746
         },
         {
          "group": "politics",
          "x": -0.1526831967918808,
          "y": 1.9588976765854509
         },
         {
          "group": "politics",
          "x": 0.2661648586489356,
          "y": 1.2115956233401701
         },
         {
          "group": "politics",
          "x": 0.22563304801645637,
          "y": -0.42371397801216
         },
         {
          "group": "politics",
          "x": -0.3046565979460499,
          "y": -1.030563718125523
         },
         {
          "group": "politics",
          "x": -0.5469333820932915,
          "y": 1.0064273798634895
         },
         {
          "group": "politics",
          "x": -1.520239342074726,
          "y": 1.3804580263740496
         },
         {
          "group": "politics",
          "x": -0.4742241564222464,
          "y": 1.2775731028661625
         },
         {
          "group": "politics",
          "x": -0.8123683561900139,
          "y": 2.9785781723907805
         },
         {
          "group": "politics",
          "x": 0.23368601432465938,
          "y": 0.7091846093623367
         },
         {
          "group": "politics",
          "x": -2.327507435056471,
          "y": -0.9700190560980309
         },
         {
          "group": "politics",
          "x": -0.007802083590445245,
          "y": 1.0862292903971937
         },
         {
          "group": "politics",
          "x": -1.0042844125887904,
          "y": -1.3558371415932913
         },
         {
          "group": "politics",
          "x": 0.452483799602197,
          "y": -2.0404205800600628
         },
         {
          "group": "politics",
          "x": 0.7421053051153325,
          "y": 1.1099959833960635
         },
         {
          "group": "politics",
          "x": 0.12118595033551677,
          "y": 1.2883076302221874
         },
         {
          "group": "politics",
          "x": -0.5179066107447731,
          "y": -0.9452675861103319
         },
         {
          "group": "politics",
          "x": -0.21383337076110023,
          "y": 0.4886449146085943
         },
         {
          "group": "politics",
          "x": -0.5851948938382586,
          "y": 0.23794510736924954
         },
         {
          "group": "politics",
          "x": 0.2560953354386073,
          "y": 0.3896486612972205
         },
         {
          "group": "politics",
          "x": 1.0012988226550803,
          "y": -0.8680595836348867
         },
         {
          "group": "politics",
          "x": -1.2383646561420398,
          "y": -1.629241608057375
         },
         {
          "group": "politics",
          "x": -0.9640268480956575,
          "y": -0.6615349353295701
         },
         {
          "group": "politics",
          "x": -1.4247640667186035,
          "y": -1.840061504769516
         },
         {
          "group": "politics",
          "x": -0.5036458052366232,
          "y": -3.0676369693922574
         },
         {
          "group": "politics",
          "x": 1.3621707178630633,
          "y": 0.42769234470204887
         },
         {
          "group": "politics",
          "x": 0.32097329995560114,
          "y": 1.1452070323969008
         },
         {
          "group": "politics",
          "x": -1.8785933867464522,
          "y": -0.3886876158446248
         },
         {
          "group": "politics",
          "x": -0.7785120015998346,
          "y": 1.8660474368767463
         },
         {
          "group": "politics",
          "x": -0.9781018881621272,
          "y": 1.075543351251671
         },
         {
          "group": "politics",
          "x": 0.22055506089866267,
          "y": 2.5960958826154363
         },
         {
          "group": "politics",
          "x": 0.9387655177011506,
          "y": 0.38199792792878756
         },
         {
          "group": "politics",
          "x": 1.177447932354114,
          "y": 2.04665766321158
         },
         {
          "group": "politics",
          "x": -0.25723755330744236,
          "y": 0.5912842964323237
         },
         {
          "group": "politics",
          "x": 1.5986895940146524,
          "y": 1.3112080885942778
         },
         {
          "group": "politics",
          "x": 0.3939552518476656,
          "y": 0.19076165910589632
         },
         {
          "group": "politics",
          "x": -0.983697646943356,
          "y": 0.8284685941716473
         },
         {
          "group": "politics",
          "x": 0.0075683471405822425,
          "y": -0.8207125748489004
         },
         {
          "group": "politics",
          "x": -0.7634466389167647,
          "y": 1.5409890263318344
         },
         {
          "group": "politics",
          "x": -1.3156866548884545,
          "y": -0.3496393979663327
         },
         {
          "group": "politics",
          "x": -1.551789906223249,
          "y": 1.4777855209133353
         },
         {
          "group": "politics",
          "x": -1.6817183653829333,
          "y": -0.42951369577651394
         },
         {
          "group": "politics",
          "x": -1.373628800917781,
          "y": 0.5644785671543049
         },
         {
          "group": "politics",
          "x": 0.5108406271715417,
          "y": -0.3827908134017111
         },
         {
          "group": "politics",
          "x": 0.6171071139615945,
          "y": 1.052028213415407
         },
         {
          "group": "politics",
          "x": -2.0195182276731027,
          "y": -0.5448017926229188
         },
         {
          "group": "politics",
          "x": 0.2436029471205244,
          "y": -1.3478393075316952
         },
         {
          "group": "politics",
          "x": -0.13960444808716432,
          "y": -0.8451833931017212
         },
         {
          "group": "politics",
          "x": 0.32874743521985467,
          "y": 0.28717582430670036
         },
         {
          "group": "politics",
          "x": -0.1708336339201546,
          "y": -0.33336572754415505
         },
         {
          "group": "politics",
          "x": -0.6995665085323555,
          "y": 1.0381511512565482
         },
         {
          "group": "politics",
          "x": -1.4369287852997172,
          "y": -0.3296121792243582
         },
         {
          "group": "politics",
          "x": -2.7082447832066117,
          "y": -0.7292733963682517
         },
         {
          "group": "politics",
          "x": -0.49730611830364657,
          "y": 0.3070598039645682
         },
         {
          "group": "politics",
          "x": -0.30413315332739066,
          "y": -1.568991774013575
         },
         {
          "group": "politics",
          "x": -1.8840596498487365,
          "y": 0.5578555559251792
         },
         {
          "group": "politics",
          "x": -0.49501027751139437,
          "y": 1.670549587291859
         },
         {
          "group": "politics",
          "x": 1.654709988071886,
          "y": -0.6026353554150566
         },
         {
          "group": "politics",
          "x": -0.8426218129754554,
          "y": 0.04883772913298738
         },
         {
          "group": "politics",
          "x": -0.9560622090616425,
          "y": -0.11047199958398995
         },
         {
          "group": "politics",
          "x": -1.185067292431011,
          "y": -1.0054458017170578
         },
         {
          "group": "politics",
          "x": 0.8110152045909619,
          "y": -0.14373705494833447
         },
         {
          "group": "politics",
          "x": -1.277651976000485,
          "y": -1.4972007265982854
         },
         {
          "group": "politics",
          "x": -1.6074548381034033,
          "y": -0.2934150779965025
         },
         {
          "group": "politics",
          "x": 0.10569437006019626,
          "y": 1.9187302731744211
         },
         {
          "group": "politics",
          "x": -0.2134260569796315,
          "y": -1.420672305765175
         },
         {
          "group": "politics",
          "x": -2.2810307353345083,
          "y": -0.4493842648425807
         },
         {
          "group": "politics",
          "x": -1.3168795723861884,
          "y": 1.0951564493268766
         },
         {
          "group": "politics",
          "x": -3.1260193493882893,
          "y": -2.0394087515206936
         },
         {
          "group": "politics",
          "x": -1.1004009096725962,
          "y": -0.7057384203550084
         },
         {
          "group": "politics",
          "x": 0.0662057345585913,
          "y": -0.20489917688680165
         },
         {
          "group": "politics",
          "x": -0.9612819730175837,
          "y": -0.2698548260279965
         },
         {
          "group": "politics",
          "x": -1.7348880067339871,
          "y": -1.5448726438930267
         },
         {
          "group": "politics",
          "x": 1.0390989105777304,
          "y": -1.1884556312586159
         },
         {
          "group": "politics",
          "x": 0.4377607976073261,
          "y": 0.03428544861210676
         },
         {
          "group": "politics",
          "x": 1.9520573999665962,
          "y": -0.4006629552174514
         },
         {
          "group": "politics",
          "x": -0.7803671839903619,
          "y": -2.8203199555030216
         },
         {
          "group": "politics",
          "x": 0.5842349642219338,
          "y": -0.8109718659996321
         },
         {
          "group": "politics",
          "x": -0.050317604130043096,
          "y": 1.0905448198049135
         },
         {
          "group": "politics",
          "x": -1.8025278618523748,
          "y": 0.05567597426561373
         },
         {
          "group": "politics",
          "x": -0.6725215306520833,
          "y": 0.7542649577842105
         },
         {
          "group": "politics",
          "x": -0.5720863416601949,
          "y": 0.843841938198443
         },
         {
          "group": "politics",
          "x": -0.9407063237354778,
          "y": 0.2625506009010483
         },
         {
          "group": "politics",
          "x": 0.6273826517064779,
          "y": -2.052022623470069
         },
         {
          "group": "politics",
          "x": -1.8995825607471695,
          "y": 0.8700237931788293
         },
         {
          "group": "politics",
          "x": -0.9040442136781515,
          "y": -0.03859718096266988
         },
         {
          "group": "politics",
          "x": -2.5567932586206643,
          "y": -0.26327369124745026
         },
         {
          "group": "politics",
          "x": -2.146855719005333,
          "y": 0.2994201016018367
         },
         {
          "group": "politics",
          "x": -0.28996747394549255,
          "y": 2.29683633603491
         },
         {
          "group": "politics",
          "x": -0.14676535988808465,
          "y": -0.20382344832766214
         },
         {
          "group": "politics",
          "x": -1.0607716630149047,
          "y": 1.1415062310413362
         },
         {
          "group": "politics",
          "x": 0.11124264289612103,
          "y": -1.7274046647727603
         },
         {
          "group": "politics",
          "x": -0.5826329724046049,
          "y": -0.8011087845601657
         },
         {
          "group": "politics",
          "x": -0.5963037664577818,
          "y": -0.573687445120982
         },
         {
          "group": "politics",
          "x": -0.022985822592138876,
          "y": -2.571065421461993
         },
         {
          "group": "politics",
          "x": -1.578842961949123,
          "y": 0.7422519451212984
         },
         {
          "group": "politics",
          "x": 0.4666243090413909,
          "y": -0.40616307341116936
         },
         {
          "group": "politics",
          "x": -0.51807392469557,
          "y": -0.27254519174186176
         },
         {
          "group": "politics",
          "x": -1.9244795418360965,
          "y": -0.7673906021640591
         },
         {
          "group": "politics",
          "x": -0.41544014839820753,
          "y": -0.4416226375871126
         },
         {
          "group": "politics",
          "x": -0.203777674116541,
          "y": -2.9315748326220494
         },
         {
          "group": "politics",
          "x": -0.7864434254127146,
          "y": -0.3414758148354807
         },
         {
          "group": "politics",
          "x": 0.6147646017734656,
          "y": 0.47085673142431533
         },
         {
          "group": "politics",
          "x": 0.29871966914380516,
          "y": -2.0135467271043703
         },
         {
          "group": "politics",
          "x": -0.8594637015881,
          "y": 0.7329356958444331
         },
         {
          "group": "politics",
          "x": -1.0776539726493413,
          "y": -1.7662407526142667
         },
         {
          "group": "politics",
          "x": -1.1878012612825548,
          "y": 0.46724758586294013
         },
         {
          "group": "politics",
          "x": 0.892531963274349,
          "y": 0.7383970670813125
         },
         {
          "group": "politics",
          "x": -0.7096669006184647,
          "y": 1.1264724908703678
         },
         {
          "group": "politics",
          "x": -0.7017609011308145,
          "y": 2.3647984770153596
         },
         {
          "group": "politics",
          "x": 1.994628061180048,
          "y": -1.0922234710938088
         },
         {
          "group": "politics",
          "x": -1.5334985469146178,
          "y": -0.48884229363816206
         },
         {
          "group": "politics",
          "x": -0.9665032825145493,
          "y": 0.35259787691391087
         },
         {
          "group": "politics",
          "x": -0.3572924919562398,
          "y": 1.3164667214882362
         },
         {
          "group": "politics",
          "x": 0.6668989862043959,
          "y": 0.5941460495859799
         },
         {
          "group": "politics",
          "x": -1.0606475579269932,
          "y": -0.9935151657724507
         },
         {
          "group": "politics",
          "x": -0.23640373160431133,
          "y": 0.1353053933552561
         },
         {
          "group": "politics",
          "x": -0.09487008928697935,
          "y": 2.0163700658798116
         },
         {
          "group": "politics",
          "x": -1.1738521276038711,
          "y": 0.5803821713825011
         },
         {
          "group": "politics",
          "x": 0.3431979353225825,
          "y": -0.3429530094624357
         },
         {
          "group": "politics",
          "x": 0.31499304176317866,
          "y": -1.2217124881990105
         },
         {
          "group": "politics",
          "x": 0.2539386108124125,
          "y": -1.460391676209756
         },
         {
          "group": "politics",
          "x": -2.2480741643846893,
          "y": -0.8628799618220173
         },
         {
          "group": "politics",
          "x": 0.32791434655511265,
          "y": 0.6809100470621563
         },
         {
          "group": "politics",
          "x": -0.8350784580660258,
          "y": -0.5295296247583958
         },
         {
          "group": "politics",
          "x": 2.1882725327815473,
          "y": 0.21318159061936665
         },
         {
          "group": "politics",
          "x": 0.5831227043776246,
          "y": -1.836501324927927
         },
         {
          "group": "politics",
          "x": 0.8089492128924872,
          "y": -0.13637586952645467
         },
         {
          "group": "politics",
          "x": 0.0433756667840966,
          "y": -0.33350536921905577
         },
         {
          "group": "politics",
          "x": 0.1073279738418783,
          "y": 2.260676375859021
         },
         {
          "group": "politics",
          "x": -1.213669394166952,
          "y": 0.6046611109313584
         },
         {
          "group": "politics",
          "x": -1.5954186127904642,
          "y": -0.8225816170842227
         },
         {
          "group": "politics",
          "x": -0.9891351083960954,
          "y": 1.673314794567426
         },
         {
          "group": "politics",
          "x": 0.1297840264459372,
          "y": 1.525099410196683
         },
         {
          "group": "politics",
          "x": 0.898325712408471,
          "y": -1.1621617438740193
         },
         {
          "group": "politics",
          "x": -0.5896700955404274,
          "y": 2.4049706271054045
         },
         {
          "group": "politics",
          "x": -0.23677113671086436,
          "y": 0.7590962593516015
         },
         {
          "group": "politics",
          "x": -0.23086414763659865,
          "y": -0.052482511712837174
         },
         {
          "group": "politics",
          "x": -1.1198818209824826,
          "y": 1.5309383334816233
         },
         {
          "group": "politics",
          "x": -0.878824855966813,
          "y": -0.3903895635775493
         },
         {
          "group": "politics",
          "x": -3.15436289660518,
          "y": -0.944116606604403
         },
         {
          "group": "politics",
          "x": -1.8581588807008054,
          "y": 0.24260450601797867
         },
         {
          "group": "politics",
          "x": -0.6690036983105911,
          "y": -1.3416099691944832
         },
         {
          "group": "politics",
          "x": -1.256631229332773,
          "y": -0.26395130292945695
         },
         {
          "group": "politics",
          "x": -0.40481587397686375,
          "y": -0.9737536759086998
         },
         {
          "group": "politics",
          "x": -1.4553018828217916,
          "y": 1.029719358326433
         },
         {
          "group": "politics",
          "x": -1.0805224395683828,
          "y": 1.0080782704699365
         },
         {
          "group": "politics",
          "x": -0.24890805217268533,
          "y": 0.10785108504731496
         },
         {
          "group": "politics",
          "x": -1.191088390050783,
          "y": 0.26501973597788514
         },
         {
          "group": "politics",
          "x": 0.208479796557606,
          "y": -0.13335122730485446
         },
         {
          "group": "politics",
          "x": -0.7969123387612573,
          "y": 0.14006614560566258
         },
         {
          "group": "politics",
          "x": -1.7472940343739736,
          "y": 0.07517865166640587
         },
         {
          "group": "politics",
          "x": -1.332862078348778,
          "y": 2.780581635148627
         },
         {
          "group": "politics",
          "x": -0.1437054273923687,
          "y": 2.6553284979614533
         },
         {
          "group": "politics",
          "x": -0.9905436615913553,
          "y": 0.5765908487339584
         },
         {
          "group": "politics",
          "x": 0.6252733644730119,
          "y": -2.280096697004741
         },
         {
          "group": "politics",
          "x": -2.8114688250996926,
          "y": -0.2561189886753658
         },
         {
          "group": "politics",
          "x": -0.887261426229219,
          "y": 0.26888194480652533
         },
         {
          "group": "politics",
          "x": 1.4643719682105865,
          "y": -1.0330963301270013
         },
         {
          "group": "politics",
          "x": -0.5194137213995327,
          "y": 1.2449387718294098
         },
         {
          "group": "politics",
          "x": -0.687923390958306,
          "y": 0.43468702736688547
         },
         {
          "group": "politics",
          "x": -0.05294785571913505,
          "y": -0.7207316287370805
         },
         {
          "group": "politics",
          "x": -1.8465487724904286,
          "y": 0.4382758321307455
         },
         {
          "group": "politics",
          "x": -3.3812978823442013,
          "y": 0.46586483441494003
         },
         {
          "group": "politics",
          "x": -0.07475695530470886,
          "y": -1.2675260367128536
         },
         {
          "group": "politics",
          "x": -0.23686090278860697,
          "y": -0.8497192837569827
         },
         {
          "group": "politics",
          "x": -1.6825562524819302,
          "y": 0.59599081817189
         },
         {
          "group": "politics",
          "x": 0.08323498888980052,
          "y": -1.8218136635572
         },
         {
          "group": "politics",
          "x": -1.8858305305935,
          "y": -0.04480509344556645
         },
         {
          "group": "politics",
          "x": -1.2088538786250764,
          "y": -1.0809891456045841
         },
         {
          "group": "politics",
          "x": -0.8798729181340892,
          "y": -0.10194558094332724
         },
         {
          "group": "politics",
          "x": 0.3340800495917138,
          "y": 0.59711796827576
         },
         {
          "group": "politics",
          "x": 0.6167284533439547,
          "y": -1.4817063080084742
         },
         {
          "group": "politics",
          "x": 0.15026685665057743,
          "y": 0.11313865907831053
         },
         {
          "group": "politics",
          "x": 0.9980405285583691,
          "y": -0.7490567709733252
         },
         {
          "group": "politics",
          "x": -0.11053780113597782,
          "y": 0.4364684707210506
         },
         {
          "group": "politics",
          "x": 0.1981372037365374,
          "y": 1.1982857753371063
         },
         {
          "group": "politics",
          "x": 0.04605788970953499,
          "y": -2.22488739077914
         },
         {
          "group": "politics",
          "x": 0.4111928204617899,
          "y": 0.7217810314191663
         },
         {
          "group": "politics",
          "x": -0.06107704152883185,
          "y": -0.2256212611605737
         },
         {
          "group": "politics",
          "x": 0.10637342252570153,
          "y": -2.4586040017031627
         },
         {
          "group": "politics",
          "x": 1.1322114451816345,
          "y": -0.6405350802676609
         },
         {
          "group": "politics",
          "x": -0.012498308816476041,
          "y": 0.6869220355708638
         },
         {
          "group": "politics",
          "x": -0.4263541400149505,
          "y": -0.4625585892694674
         },
         {
          "group": "politics",
          "x": 0.5163749492834903,
          "y": -0.3311671182919133
         },
         {
          "group": "politics",
          "x": -0.22919011546334422,
          "y": 1.0003116687688989
         },
         {
          "group": "politics",
          "x": -0.5969693011359106,
          "y": -1.255869885704608
         },
         {
          "group": "politics",
          "x": -0.3578390660960453,
          "y": 1.815260080195025
         },
         {
          "group": "politics",
          "x": -1.4248059311974304,
          "y": 1.2114028004049133
         },
         {
          "group": "politics",
          "x": -1.567179298196533,
          "y": 1.143394271679739
         },
         {
          "group": "politics",
          "x": -0.646278376973171,
          "y": -0.38699769567507153
         },
         {
          "group": "politics",
          "x": 1.4850825903843292,
          "y": -0.186952526349428
         },
         {
          "group": "politics",
          "x": -0.5654812257696444,
          "y": -0.0013369813041797553
         },
         {
          "group": "politics",
          "x": -2.333188989328741,
          "y": 1.529801707639975
         },
         {
          "group": "politics",
          "x": -0.4151751734354811,
          "y": 0.7846920560209935
         },
         {
          "group": "politics",
          "x": 0.2810777474483883,
          "y": 1.2870239929023697
         },
         {
          "group": "politics",
          "x": 0.011014964337630028,
          "y": 0.7084830652642948
         },
         {
          "group": "politics",
          "x": 0.13529966311015387,
          "y": -0.7477856237074565
         },
         {
          "group": "politics",
          "x": 0.36516703634138636,
          "y": -0.29388071307394703
         },
         {
          "group": "politics",
          "x": 0.09679689045821276,
          "y": -0.3000127690004696
         },
         {
          "group": "politics",
          "x": -2.2117439330542874,
          "y": 0.9119237251602703
         },
         {
          "group": "politics",
          "x": -0.5509351176650287,
          "y": 0.820594392705402
         },
         {
          "group": "politics",
          "x": -1.6700080744037522,
          "y": 0.24780065924003428
         },
         {
          "group": "politics",
          "x": -1.130926702115613,
          "y": 0.4743911309932338
         },
         {
          "group": "politics",
          "x": 0.7816872549285004,
          "y": -0.2890557367432279
         },
         {
          "group": "politics",
          "x": 0.9017890533724479,
          "y": -0.8743413275874747
         },
         {
          "group": "politics",
          "x": 0.105662718206508,
          "y": 0.20218897289885407
         },
         {
          "group": "politics",
          "x": -1.493536880086617,
          "y": 0.08855993244593488
         },
         {
          "group": "politics",
          "x": -0.7073104282652711,
          "y": -1.3025337938266035
         },
         {
          "group": "politics",
          "x": 0.5702134188689992,
          "y": 1.2759330803604136
         },
         {
          "group": "politics",
          "x": -0.08302149614532797,
          "y": 0.2227298727356729
         },
         {
          "group": "politics",
          "x": -0.04463760660769301,
          "y": -0.20756814996333375
         },
         {
          "group": "politics",
          "x": 0.2802925627597347,
          "y": 0.8932715650017293
         },
         {
          "group": "politics",
          "x": 0.28995229075744455,
          "y": 0.45264118257673214
         },
         {
          "group": "politics",
          "x": 0.1714571854649842,
          "y": 0.02304170311220206
         },
         {
          "group": "politics",
          "x": 0.5312109667678602,
          "y": -0.9330790743198668
         },
         {
          "group": "politics",
          "x": -1.9401513619945385,
          "y": 0.6528458054720214
         },
         {
          "group": "politics",
          "x": -0.1807533344630664,
          "y": -0.22871587106812416
         },
         {
          "group": "politics",
          "x": -1.2245056395689675,
          "y": 0.5872206369402404
         },
         {
          "group": "politics",
          "x": -2.285182969299891,
          "y": -0.4128688077865495
         },
         {
          "group": "politics",
          "x": 0.13076922207370453,
          "y": 0.014656997121458676
         },
         {
          "group": "politics",
          "x": 0.23551610241756385,
          "y": -0.0891240061734468
         },
         {
          "group": "politics",
          "x": -1.2345043829692874,
          "y": 0.8105239144795262
         },
         {
          "group": "politics",
          "x": -0.1531513447467632,
          "y": 1.5585093695146863
         },
         {
          "group": "politics",
          "x": -1.2946925464978458,
          "y": 0.10487408423754185
         },
         {
          "group": "politics",
          "x": 2.272704090900589,
          "y": 0.6405732053712162
         },
         {
          "group": "politics",
          "x": 0.0023162914861150972,
          "y": -0.07188755428977431
         },
         {
          "group": "politics",
          "x": -2.681547693808158,
          "y": 1.2090571088856008
         },
         {
          "group": "politics",
          "x": -0.5129406461265296,
          "y": 0.8920944548357574
         },
         {
          "group": "politics",
          "x": -0.5024205159519065,
          "y": 1.3968894428335628
         },
         {
          "group": "politics",
          "x": 1.741941942274155,
          "y": -1.2324580300693238
         },
         {
          "group": "politics",
          "x": -0.23030623441048734,
          "y": -0.522316668692464
         },
         {
          "group": "politics",
          "x": -0.43378600042782733,
          "y": 1.3317713262893416
         },
         {
          "group": "politics",
          "x": -0.4541030182385249,
          "y": 0.29811357153025647
         },
         {
          "group": "politics",
          "x": 1.0826773431855103,
          "y": 0.3838423060631674
         },
         {
          "group": "politics",
          "x": 0.5721240723782134,
          "y": 0.13886464648769
         },
         {
          "group": "politics",
          "x": 0.6161816585403015,
          "y": -0.5688567262331498
         },
         {
          "group": "politics",
          "x": 0.21403000592347457,
          "y": -0.058739666562576745
         },
         {
          "group": "politics",
          "x": -1.4968051890674106,
          "y": 2.841229242473994
         },
         {
          "group": "politics",
          "x": 0.39885561274083287,
          "y": 1.3612821394259655
         },
         {
          "group": "politics",
          "x": 0.9751978695392813,
          "y": 0.4665353855939057
         },
         {
          "group": "politics",
          "x": -0.1837734821951913,
          "y": 0.5983804723648498
         },
         {
          "group": "politics",
          "x": 0.7797281061042346,
          "y": -0.33073720574960824
         },
         {
          "group": "politics",
          "x": -1.3083258609193087,
          "y": -1.0316596433803689
         },
         {
          "group": "politics",
          "x": 0.12448105626099129,
          "y": 0.20732489486892555
         },
         {
          "group": "politics",
          "x": -0.5068339681631036,
          "y": -0.7098101160007817
         },
         {
          "group": "politics",
          "x": -1.7150841482163632,
          "y": -1.7336740808647662
         },
         {
          "group": "politics",
          "x": -1.2073269813773364,
          "y": 2.424090770694893
         },
         {
          "group": "politics",
          "x": -0.16889598906892012,
          "y": 0.4778232873393391
         },
         {
          "group": "politics",
          "x": -0.6398853137356744,
          "y": 1.5975524175317972
         },
         {
          "group": "politics",
          "x": -2.133062676284522,
          "y": 0.7797929091333646
         },
         {
          "group": "politics",
          "x": -0.6492125224655423,
          "y": 0.16319576935772287
         },
         {
          "group": "politics",
          "x": -0.8769861629305721,
          "y": -0.35969474501795545
         },
         {
          "group": "politics",
          "x": 1.6510211002830142,
          "y": -0.7726987412298878
         },
         {
          "group": "politics",
          "x": -0.5163911725909767,
          "y": -0.8875123709279344
         },
         {
          "group": "politics",
          "x": -2.424723982696265,
          "y": -1.5301251829834035
         },
         {
          "group": "politics",
          "x": -0.3001965662053191,
          "y": -0.9279171955059569
         },
         {
          "group": "politics",
          "x": -0.978514020672061,
          "y": 0.4417931951700544
         },
         {
          "group": "politics",
          "x": -0.3870355544220664,
          "y": 0.7080651741073204
         },
         {
          "group": "politics",
          "x": -1.8513848365132022,
          "y": -0.5109458616783409
         },
         {
          "group": "politics",
          "x": -0.1364108055812701,
          "y": -1.0028129739175358
         },
         {
          "group": "politics",
          "x": -1.8468211493616815,
          "y": 0.6475731699664022
         },
         {
          "group": "politics",
          "x": -1.152942872970419,
          "y": -0.6920263456148937
         },
         {
          "group": "politics",
          "x": -1.7265038772495567,
          "y": 1.1412315620573386
         },
         {
          "group": "politics",
          "x": -0.9372768194108959,
          "y": 0.1484098065213128
         },
         {
          "group": "politics",
          "x": 0.26630940900148053,
          "y": -0.155176353617862
         },
         {
          "group": "politics",
          "x": 0.06480733639395606,
          "y": -1.6753421431088293
         },
         {
          "group": "politics",
          "x": 0.398956844883396,
          "y": -1.346678134533002
         },
         {
          "group": "politics",
          "x": -0.034881372332954394,
          "y": -2.0955004859873783
         },
         {
          "group": "politics",
          "x": -0.01502203857189415,
          "y": 1.9558825316705826
         },
         {
          "group": "politics",
          "x": -2.1819868026664486,
          "y": -1.9360656861039551
         },
         {
          "group": "politics",
          "x": -0.9737341913390308,
          "y": 0.4465130764759115
         },
         {
          "group": "politics",
          "x": -0.5728297747270513,
          "y": 0.5000644499884841
         },
         {
          "group": "politics",
          "x": -1.0781573069417734,
          "y": -1.4047415217524932
         },
         {
          "group": "politics",
          "x": 1.1749767963314828,
          "y": -0.8399380270751866
         },
         {
          "group": "politics",
          "x": -0.21134800506849827,
          "y": -0.6888958933493213
         },
         {
          "group": "politics",
          "x": -1.1539871052302597,
          "y": -0.33987481267176645
         },
         {
          "group": "politics",
          "x": -1.1825741922389033,
          "y": 1.0155618695389805
         },
         {
          "group": "politics",
          "x": 1.4761114388138254,
          "y": 0.9367924372846497
         },
         {
          "group": "politics",
          "x": -0.028834489364942626,
          "y": -1.2328912320322467
         },
         {
          "group": "politics",
          "x": -0.6618264330773321,
          "y": 0.9204300310337454
         },
         {
          "group": "politics",
          "x": -0.4466214285229015,
          "y": -0.7915653132526388
         },
         {
          "group": "politics",
          "x": -1.132747997523719,
          "y": -1.119158246749103
         },
         {
          "group": "politics",
          "x": 0.18158756148044133,
          "y": -1.2556168880872818
         },
         {
          "group": "politics",
          "x": -0.6035552092674671,
          "y": 1.5064294491994203
         },
         {
          "group": "politics",
          "x": 0.05071983274221076,
          "y": -1.3154863105486574
         },
         {
          "group": "politics",
          "x": -0.7513877994078709,
          "y": -0.3195074889830451
         },
         {
          "group": "politics",
          "x": 0.44290925945737697,
          "y": 0.7624303546389468
         },
         {
          "group": "politics",
          "x": 0.6943140847791605,
          "y": -0.6802328766639062
         },
         {
          "group": "politics",
          "x": -1.7766998114315165,
          "y": -0.14886873864363573
         },
         {
          "group": "politics",
          "x": -0.15920355570123698,
          "y": -0.49053146700321737
         },
         {
          "group": "politics",
          "x": -0.7022747001361017,
          "y": 0.5607849058015674
         },
         {
          "group": "politics",
          "x": -0.17009535325775038,
          "y": -1.417942642256597
         },
         {
          "group": "politics",
          "x": -1.4432180771266079,
          "y": -0.2854161092688353
         },
         {
          "group": "politics",
          "x": 0.523501513532381,
          "y": -1.153561641643715
         },
         {
          "group": "politics",
          "x": -0.5404946698712225,
          "y": -1.0435806870695548
         },
         {
          "group": "politics",
          "x": -0.8382755838657512,
          "y": -1.156733153038681
         },
         {
          "group": "politics",
          "x": 0.03825862839001316,
          "y": 0.7244050322624085
         },
         {
          "group": "politics",
          "x": -0.9297194540851823,
          "y": 0.058025275550610725
         },
         {
          "group": "politics",
          "x": -0.9225583214955116,
          "y": -0.5552514426482094
         },
         {
          "group": "politics",
          "x": -0.7178282944145322,
          "y": -1.2626541427349836
         },
         {
          "group": "politics",
          "x": -1.9842729593206414,
          "y": -0.34086199956023777
         },
         {
          "group": "politics",
          "x": -0.2535557543204934,
          "y": 0.7529029336664808
         },
         {
          "group": "politics",
          "x": -0.47007624667972,
          "y": 0.07908380516657425
         },
         {
          "group": "politics",
          "x": 0.5888578576887831,
          "y": -0.1877122267898081
         },
         {
          "group": "politics",
          "x": -1.293097954907243,
          "y": 0.3364357651362529
         },
         {
          "group": "politics",
          "x": -1.6060348029539948,
          "y": -0.916875931639798
         },
         {
          "group": "politics",
          "x": -1.2616660844693728,
          "y": -0.7566089467850559
         },
         {
          "group": "politics",
          "x": -1.3526814916933692,
          "y": 0.2741257465505182
         },
         {
          "group": "politics",
          "x": 1.0023499519450076,
          "y": -0.6736202644391353
         },
         {
          "group": "politics",
          "x": 1.0888256916085486,
          "y": 0.13960816844583052
         },
         {
          "group": "politics",
          "x": 0.4290457831524107,
          "y": 0.9380734016167538
         },
         {
          "group": "politics",
          "x": 1.1153321340323212,
          "y": -2.8063933920300057
         },
         {
          "group": "politics",
          "x": -0.013400742218510911,
          "y": -0.08084561050514164
         },
         {
          "group": "politics",
          "x": -2.3112083264761876,
          "y": 0.42582261838035457
         },
         {
          "group": "politics",
          "x": -0.11408136054660671,
          "y": 0.1576211393506809
         },
         {
          "group": "politics",
          "x": 1.1855694863160138,
          "y": -0.22491213446436495
         },
         {
          "group": "politics",
          "x": -0.14607851590431778,
          "y": -1.0387060340284344
         },
         {
          "group": "politics",
          "x": 0.10442080601316835,
          "y": 0.747166978157844
         },
         {
          "group": "politics",
          "x": -1.1436654560715895,
          "y": 1.3987794385084718
         },
         {
          "group": "politics",
          "x": -0.42368560069985595,
          "y": 0.15561741406789648
         },
         {
          "group": "politics",
          "x": 0.8828227733186729,
          "y": -0.7470867035517924
         },
         {
          "group": "politics",
          "x": -0.41312875365912954,
          "y": -1.09507323616131
         },
         {
          "group": "politics",
          "x": -0.010916625296640023,
          "y": -0.12184644702608145
         },
         {
          "group": "politics",
          "x": -1.9583808595144239,
          "y": -0.09903592365896872
         },
         {
          "group": "politics",
          "x": 0.5035589255707369,
          "y": -0.24038008294683344
         },
         {
          "group": "politics",
          "x": 1.304573453152341,
          "y": -1.4446585722586025
         },
         {
          "group": "politics",
          "x": 0.6907598335274673,
          "y": 0.3460227899439698
         },
         {
          "group": "politics",
          "x": 1.29887889825601,
          "y": 0.6752561113943574
         },
         {
          "group": "politics",
          "x": -0.6908109549294055,
          "y": 0.9514821491595862
         },
         {
          "group": "politics",
          "x": 0.37417092635909505,
          "y": 0.4868965416970344
         },
         {
          "group": "politics",
          "x": -2.5864184892971136,
          "y": -0.7045143086487179
         },
         {
          "group": "politics",
          "x": -0.5134752545543866,
          "y": -0.9119363670087959
         },
         {
          "group": "politics",
          "x": -1.1027396557858693,
          "y": 0.8496429387783958
         },
         {
          "group": "politics",
          "x": -1.801054470696509,
          "y": -1.0921989170653958
         },
         {
          "group": "politics",
          "x": -0.78118056650725,
          "y": 0.891387960033723
         },
         {
          "group": "politics",
          "x": 0.4869651717904729,
          "y": -0.48968349024485575
         },
         {
          "group": "politics",
          "x": -1.5243448697099162,
          "y": 0.837304557047872
         },
         {
          "group": "politics",
          "x": 0.8351193548023832,
          "y": -0.572385558599329
         },
         {
          "group": "politics",
          "x": -0.7577377400668752,
          "y": 2.2159860685270028
         },
         {
          "group": "politics",
          "x": -1.19593493679607,
          "y": -0.7125275511345021
         },
         {
          "group": "politics",
          "x": 0.11553318609602695,
          "y": 1.2081812147621793
         },
         {
          "group": "politics",
          "x": 0.5266902117661928,
          "y": 0.42168947303925114
         },
         {
          "group": "politics",
          "x": -0.9375746338503349,
          "y": 0.4033255253588405
         },
         {
          "group": "politics",
          "x": 0.016372041750215737,
          "y": 0.1971872996610474
         },
         {
          "group": "politics",
          "x": -1.9453499817074742,
          "y": 0.2823873291271911
         },
         {
          "group": "politics",
          "x": -1.8563800664645498,
          "y": 0.8583316870716832
         },
         {
          "group": "politics",
          "x": -0.9542942334859237,
          "y": -0.4689695484371345
         },
         {
          "group": "politics",
          "x": 1.067431963440392,
          "y": 1.159082882920139
         },
         {
          "group": "politics",
          "x": -0.32625363116662165,
          "y": -1.6648850025190516
         },
         {
          "group": "politics",
          "x": -0.09089678007424244,
          "y": 2.0640704258110683
         },
         {
          "group": "politics",
          "x": 0.3143209126252572,
          "y": 0.455523797697329
         },
         {
          "group": "politics",
          "x": 1.0121519001713046,
          "y": 0.8916893604270972
         },
         {
          "group": "politics",
          "x": 1.54737917768259,
          "y": -1.2084181661973235
         },
         {
          "group": "politics",
          "x": -0.41645650054225886,
          "y": -0.8333036354405349
         },
         {
          "group": "politics",
          "x": -0.30504216727640326,
          "y": 0.4490344934939454
         },
         {
          "group": "politics",
          "x": 1.2261880937445373,
          "y": -0.9049959882068743
         },
         {
          "group": "politics",
          "x": 0.894133323538923,
          "y": -0.4543386750680602
         },
         {
          "group": "politics",
          "x": -1.2515179238010827,
          "y": 0.38003196752827495
         },
         {
          "group": "politics",
          "x": -0.772866926210207,
          "y": -1.06310924717723
         },
         {
          "group": "politics",
          "x": -2.444005836131595,
          "y": 1.933449517521807
         },
         {
          "group": "politics",
          "x": 0.12074741231319923,
          "y": -2.0206883697030382
         },
         {
          "group": "politics",
          "x": 1.3788780650209116,
          "y": 2.0875355213506532
         },
         {
          "group": "politics",
          "x": 0.6819405005856348,
          "y": 0.4031439874868978
         },
         {
          "group": "politics",
          "x": -0.5482470045675756,
          "y": 1.2820977013098729
         },
         {
          "group": "politics",
          "x": 0.49492486893545745,
          "y": 0.7365408376777391
         },
         {
          "group": "politics",
          "x": 1.2581723090542436,
          "y": 1.7198664690130794
         },
         {
          "group": "politics",
          "x": 0.49507981978353094,
          "y": -1.5005758377109026
         },
         {
          "group": "politics",
          "x": -1.5125491479882172,
          "y": 0.2942385465756478
         },
         {
          "group": "tech",
          "x": -0.22551735969087716,
          "y": 0.44636205667524115
         },
         {
          "group": "tech",
          "x": -1.3504924896383703,
          "y": -1.5133423941823456
         },
         {
          "group": "tech",
          "x": 0.7438727500735226,
          "y": -0.5753654644341791
         },
         {
          "group": "tech",
          "x": -0.04645785571087591,
          "y": -0.5585692432017136
         },
         {
          "group": "tech",
          "x": -0.976657755959453,
          "y": 0.37987806849612493
         },
         {
          "group": "tech",
          "x": 0.3919257833735856,
          "y": -0.46926439880772847
         },
         {
          "group": "tech",
          "x": -1.8445059681439517,
          "y": 0.8128176003528109
         },
         {
          "group": "tech",
          "x": 0.3107377087739154,
          "y": 1.0975910279379413
         },
         {
          "group": "tech",
          "x": -1.946365698365307,
          "y": 0.3665358434064214
         },
         {
          "group": "tech",
          "x": -1.7344594294071136,
          "y": -1.1701694852265063
         },
         {
          "group": "tech",
          "x": -0.8771870059262674,
          "y": -1.2723015452267452
         },
         {
          "group": "tech",
          "x": -0.8513116273955756,
          "y": 0.7909016739118023
         },
         {
          "group": "tech",
          "x": -1.09042246939852,
          "y": 1.7025166319622287
         },
         {
          "group": "tech",
          "x": -0.7494941606559695,
          "y": -0.6818028152395131
         },
         {
          "group": "tech",
          "x": 0.9489024635500276,
          "y": 0.09375624853538009
         },
         {
          "group": "tech",
          "x": 0.6704876432579231,
          "y": 0.5653387014387435
         },
         {
          "group": "tech",
          "x": 0.9257827426463655,
          "y": -0.33096438967480907
         },
         {
          "group": "tech",
          "x": -0.27142946376297833,
          "y": -2.2905644231990467
         },
         {
          "group": "tech",
          "x": -1.5263960734810835,
          "y": 1.2249607883752274
         },
         {
          "group": "tech",
          "x": 1.5236258700435856,
          "y": -1.2618816410468254
         },
         {
          "group": "tech",
          "x": 0.758368590656343,
          "y": -0.6757333475790829
         },
         {
          "group": "tech",
          "x": -1.863519232222839,
          "y": 1.5708046857664717
         },
         {
          "group": "tech",
          "x": 1.9775214981708997,
          "y": -0.062396836896532096
         },
         {
          "group": "tech",
          "x": -1.5171593759326056,
          "y": -0.5167675806368972
         },
         {
          "group": "tech",
          "x": 0.2609562612287817,
          "y": 0.47232043871625473
         },
         {
          "group": "tech",
          "x": 0.3229453840351309,
          "y": 2.572615889636918
         },
         {
          "group": "tech",
          "x": -1.3797892481535265,
          "y": -1.499646433827763
         },
         {
          "group": "tech",
          "x": -0.12628069792872262,
          "y": -0.15198584113708583
         },
         {
          "group": "tech",
          "x": 1.1366520531910427,
          "y": -1.0648677721622417
         },
         {
          "group": "tech",
          "x": -1.402454332207563,
          "y": 0.3951247988583859
         },
         {
          "group": "tech",
          "x": -0.9194032544185611,
          "y": -0.01716256884364044
         },
         {
          "group": "tech",
          "x": -0.8188212187064952,
          "y": -1.3423751696519433
         },
         {
          "group": "tech",
          "x": 0.467904829304048,
          "y": 1.2439622404337927
         },
         {
          "group": "tech",
          "x": 0.0384246573215254,
          "y": 1.1054083077840402
         },
         {
          "group": "tech",
          "x": 2.9687623183168577,
          "y": -0.9674818558537365
         },
         {
          "group": "tech",
          "x": -0.6471013045488185,
          "y": -0.16690666729067077
         },
         {
          "group": "tech",
          "x": 0.2551013389184032,
          "y": 1.6704339413837141
         },
         {
          "group": "tech",
          "x": 0.295095701263824,
          "y": -0.42445732899003197
         },
         {
          "group": "tech",
          "x": -0.9141354506383574,
          "y": 2.2493907299947358
         },
         {
          "group": "tech",
          "x": -1.4184037798816727,
          "y": 0.4763819376137304
         },
         {
          "group": "tech",
          "x": -0.5449409689337118,
          "y": -0.9821123232260066
         },
         {
          "group": "tech",
          "x": 0.06162119845020952,
          "y": 2.1135611580487996
         },
         {
          "group": "tech",
          "x": 1.4209643761949624,
          "y": 0.9233195004632402
         },
         {
          "group": "tech",
          "x": 0.004417975351957624,
          "y": -0.3139745797638481
         },
         {
          "group": "tech",
          "x": -3.4418076380872784,
          "y": -2.8659470063220684
         },
         {
          "group": "tech",
          "x": -2.285214135241706,
          "y": 1.2919336415177076
         },
         {
          "group": "tech",
          "x": -0.07904543062185183,
          "y": 1.060443431745201
         },
         {
          "group": "tech",
          "x": 0.8026417123755161,
          "y": -0.10276955988647908
         },
         {
          "group": "tech",
          "x": -1.0021382438808704,
          "y": 0.8695491943005981
         },
         {
          "group": "tech",
          "x": 0.6967063170995718,
          "y": -1.5173525609310252
         },
         {
          "group": "tech",
          "x": 0.11087309978933521,
          "y": 0.16955569227738193
         },
         {
          "group": "tech",
          "x": -0.14243397142056022,
          "y": 0.6271363169250382
         },
         {
          "group": "tech",
          "x": -1.5143113448093466,
          "y": -0.04319296256197464
         },
         {
          "group": "tech",
          "x": 0.934657258945508,
          "y": 1.2510970064585265
         },
         {
          "group": "tech",
          "x": -0.16490899918871482,
          "y": 0.41793594190725397
         },
         {
          "group": "tech",
          "x": 0.1558342569855066,
          "y": -1.2822956224259148
         },
         {
          "group": "tech",
          "x": -0.20288989872375496,
          "y": -1.0246761266194382
         },
         {
          "group": "tech",
          "x": -0.035411255153301104,
          "y": 0.07246753835376989
         },
         {
          "group": "tech",
          "x": 0.7340099037617314,
          "y": -0.3805121700196966
         },
         {
          "group": "tech",
          "x": 1.2576033750994364,
          "y": 0.0193920730765268
         },
         {
          "group": "tech",
          "x": 1.0345708568572818,
          "y": -0.08424794847612654
         },
         {
          "group": "tech",
          "x": -0.44635629567724444,
          "y": -1.5090703839265502
         },
         {
          "group": "tech",
          "x": 0.4073807355490627,
          "y": -1.5508793938552314
         },
         {
          "group": "tech",
          "x": 0.5218987483941563,
          "y": 0.9426243709042575
         },
         {
          "group": "tech",
          "x": -0.13434104912803257,
          "y": -1.4333509628257823
         },
         {
          "group": "tech",
          "x": 0.11783974177624511,
          "y": -0.5045172257454474
         },
         {
          "group": "tech",
          "x": -0.4666013095540774,
          "y": 0.8825817356984356
         },
         {
          "group": "tech",
          "x": -0.4600008070037011,
          "y": 0.5745413155193638
         },
         {
          "group": "tech",
          "x": -1.8655293110974376,
          "y": 0.3732188730835866
         },
         {
          "group": "tech",
          "x": -0.8023530571064507,
          "y": -0.40105449299315865
         },
         {
          "group": "tech",
          "x": 0.5364931765446221,
          "y": -0.9471801990067503
         },
         {
          "group": "tech",
          "x": -0.3577210488400553,
          "y": -2.5994563869287464
         },
         {
          "group": "tech",
          "x": 0.237236628380093,
          "y": 0.17683195335234525
         },
         {
          "group": "tech",
          "x": -1.1906060619894052,
          "y": -0.7769013761088909
         },
         {
          "group": "tech",
          "x": -0.8273849734209842,
          "y": -0.5978100918909978
         },
         {
          "group": "tech",
          "x": 1.2308151388188668,
          "y": 0.5907184201975084
         },
         {
          "group": "tech",
          "x": 0.07909315376908588,
          "y": -2.312920589749703
         },
         {
          "group": "tech",
          "x": -2.410196660446339,
          "y": -1.7772245097626123
         },
         {
          "group": "tech",
          "x": -0.4827494680565417,
          "y": -1.3743964258007249
         },
         {
          "group": "tech",
          "x": -0.0961279012233567,
          "y": 0.3809787173056706
         },
         {
          "group": "tech",
          "x": -0.9751651758133668,
          "y": 0.42347863113071915
         },
         {
          "group": "tech",
          "x": 1.6333378245644072,
          "y": 1.4662244284330384
         },
         {
          "group": "tech",
          "x": -0.17588669336458035,
          "y": 1.0718923182421287
         },
         {
          "group": "tech",
          "x": -0.4420700312938367,
          "y": 1.1038337820014188
         },
         {
          "group": "tech",
          "x": 0.9082295567118877,
          "y": 1.136531222050195
         },
         {
          "group": "tech",
          "x": -0.4431936088648455,
          "y": 1.4707100670106887
         },
         {
          "group": "tech",
          "x": -1.2609380601604112,
          "y": -1.4577355493841835
         },
         {
          "group": "tech",
          "x": 0.6614379838795732,
          "y": 0.35798667906378306
         },
         {
          "group": "tech",
          "x": 1.5355692875765574,
          "y": 0.7324467651630696
         },
         {
          "group": "tech",
          "x": -0.0033342626430733747,
          "y": -0.3940686328618694
         },
         {
          "group": "tech",
          "x": -0.06051016437692093,
          "y": 0.42830161288859075
         },
         {
          "group": "tech",
          "x": -2.055695227616427,
          "y": -0.6513269666883793
         },
         {
          "group": "tech",
          "x": -0.4578446510495673,
          "y": 0.5127539838053896
         },
         {
          "group": "tech",
          "x": 1.5491411056906845,
          "y": -0.302240289354684
         },
         {
          "group": "tech",
          "x": -1.0754272795052138,
          "y": -1.0700558101715976
         },
         {
          "group": "tech",
          "x": 0.7135212738285664,
          "y": 0.04860626838549766
         },
         {
          "group": "tech",
          "x": -0.49334101735564445,
          "y": -0.4385717433489161
         },
         {
          "group": "tech",
          "x": -0.24212709284541245,
          "y": -1.2611790349802867
         },
         {
          "group": "tech",
          "x": -2.043020481761714,
          "y": -1.7513367243231648
         },
         {
          "group": "tech",
          "x": -0.8900149954446962,
          "y": 2.0331005529314945
         },
         {
          "group": "tech",
          "x": -0.3546601944706944,
          "y": 1.2750566449451397
         },
         {
          "group": "tech",
          "x": -0.7385889832243853,
          "y": -0.8934176203435714
         },
         {
          "group": "tech",
          "x": 0.5102508622294877,
          "y": -0.1810690078598095
         },
         {
          "group": "tech",
          "x": -0.7729224438255511,
          "y": -0.326610707301462
         },
         {
          "group": "tech",
          "x": -0.12692005602349823,
          "y": -1.5080853609765459
         },
         {
          "group": "tech",
          "x": -0.8227224318952695,
          "y": 0.4874435328071507
         },
         {
          "group": "tech",
          "x": -0.6905831417847067,
          "y": -0.3444033477992286
         },
         {
          "group": "tech",
          "x": -0.74051470585539,
          "y": -0.09969050308192286
         },
         {
          "group": "tech",
          "x": -1.230502496190508,
          "y": -0.7923043767438707
         },
         {
          "group": "tech",
          "x": -0.4745134822787111,
          "y": -1.2779698723531396
         },
         {
          "group": "tech",
          "x": -1.1403290657695377,
          "y": 0.3117230751167023
         },
         {
          "group": "tech",
          "x": 0.18784576743232154,
          "y": -0.32047981749517734
         },
         {
          "group": "tech",
          "x": 1.1075899581625404,
          "y": -1.1383708772324774
         },
         {
          "group": "tech",
          "x": 0.9964533927735602,
          "y": 0.18896932979377024
         },
         {
          "group": "tech",
          "x": 0.8875905398554838,
          "y": -0.8331982195089962
         },
         {
          "group": "tech",
          "x": -0.9595766271733335,
          "y": 1.2472608685937245
         },
         {
          "group": "tech",
          "x": -1.1736818997157588,
          "y": -1.0865547333834096
         },
         {
          "group": "tech",
          "x": 0.6190287197379761,
          "y": 1.347892262365205
         },
         {
          "group": "tech",
          "x": -1.304716156058245,
          "y": 0.7482879832378577
         },
         {
          "group": "tech",
          "x": -1.2201369703225955,
          "y": -0.829402613251151
         },
         {
          "group": "tech",
          "x": -0.7948715749912637,
          "y": 0.3527018838703094
         },
         {
          "group": "tech",
          "x": 0.7628695478455615,
          "y": 0.7056082645054569
         },
         {
          "group": "tech",
          "x": -0.595193919348595,
          "y": -1.576876263745246
         },
         {
          "group": "tech",
          "x": 1.1132655364544457,
          "y": -0.07774809107042899
         },
         {
          "group": "tech",
          "x": -0.9124737007032159,
          "y": 0.3835862032298756
         },
         {
          "group": "tech",
          "x": -0.5444183149165334,
          "y": -0.545318319468537
         },
         {
          "group": "tech",
          "x": 0.33014819365169995,
          "y": -0.14378396353342984
         },
         {
          "group": "tech",
          "x": -0.28485362321488983,
          "y": -2.4402221521890444
         },
         {
          "group": "tech",
          "x": 0.689749908126508,
          "y": 1.2819393311550211
         },
         {
          "group": "tech",
          "x": -0.6515659527171314,
          "y": -1.7956028578442491
         },
         {
          "group": "tech",
          "x": -0.34863188691977115,
          "y": -0.914504128328391
         },
         {
          "group": "tech",
          "x": -1.338636400739542,
          "y": -0.4491066668637929
         },
         {
          "group": "tech",
          "x": 0.7967980206224196,
          "y": 0.24682207135193424
         },
         {
          "group": "tech",
          "x": -0.9769036589637476,
          "y": -0.6772465836411762
         },
         {
          "group": "tech",
          "x": 0.013335737974741742,
          "y": -1.533138514958614
         },
         {
          "group": "tech",
          "x": 0.6267811015920932,
          "y": -0.4552764905827276
         },
         {
          "group": "tech",
          "x": 0.3738235909439097,
          "y": 1.1911361864076853
         },
         {
          "group": "tech",
          "x": 1.148923761813979,
          "y": 0.02732389984484069
         },
         {
          "group": "tech",
          "x": 1.1173511700837802,
          "y": -0.9399469967779619
         },
         {
          "group": "tech",
          "x": 0.3902456012774138,
          "y": 1.6518773697335571
         },
         {
          "group": "tech",
          "x": -1.89947492512413,
          "y": -0.43036193628486946
         },
         {
          "group": "tech",
          "x": 0.31411879097103546,
          "y": -0.8020307730935988
         },
         {
          "group": "tech",
          "x": -1.5031548946403144,
          "y": 0.11042550800672069
         },
         {
          "group": "tech",
          "x": -0.6778296530164777,
          "y": -2.206500258391054
         },
         {
          "group": "tech",
          "x": -1.2053248554989577,
          "y": -1.7758136189421416
         },
         {
          "group": "tech",
          "x": -0.32019322452308363,
          "y": 0.30975305528425284
         },
         {
          "group": "tech",
          "x": -0.7887822564575401,
          "y": 1.3189581573410674
         },
         {
          "group": "tech",
          "x": 1.2418586380286423,
          "y": -1.0578422865216641
         },
         {
          "group": "tech",
          "x": 2.6682699549337556,
          "y": -1.1599778086564083
         },
         {
          "group": "tech",
          "x": -1.0002323155209072,
          "y": 1.3472519076534186
         },
         {
          "group": "tech",
          "x": -0.8277380730881014,
          "y": -1.1979764143337515
         },
         {
          "group": "tech",
          "x": -0.15744530247457925,
          "y": -2.91415454021155
         },
         {
          "group": "tech",
          "x": 0.556565811346859,
          "y": 0.9812782872916006
         },
         {
          "group": "tech",
          "x": 1.8969002932930694,
          "y": -0.6913224584853913
         },
         {
          "group": "tech",
          "x": -0.5343761221994179,
          "y": -0.41113828174686573
         },
         {
          "group": "tech",
          "x": 0.30679694579748623,
          "y": 0.21673729770355663
         },
         {
          "group": "tech",
          "x": -0.30895800587042094,
          "y": -1.2864283083326835
         },
         {
          "group": "tech",
          "x": 1.5674773873762318,
          "y": -0.7138792419903311
         },
         {
          "group": "tech",
          "x": 0.3531013058449484,
          "y": -1.6241282401225814
         },
         {
          "group": "tech",
          "x": -0.019836775110865984,
          "y": 0.7558309948833728
         },
         {
          "group": "tech",
          "x": -1.4696152258644477,
          "y": -0.1054579811825022
         },
         {
          "group": "tech",
          "x": -0.7495325524745926,
          "y": -0.45077537063003614
         },
         {
          "group": "tech",
          "x": 0.35158933181513585,
          "y": 0.05822068872409794
         },
         {
          "group": "tech",
          "x": 0.38288168231051933,
          "y": -1.2341117477937331
         },
         {
          "group": "tech",
          "x": 0.13986599318589787,
          "y": -0.46868320657875684
         },
         {
          "group": "tech",
          "x": -1.7778460459802323,
          "y": -0.49624522370168933
         },
         {
          "group": "tech",
          "x": -0.7862177178334567,
          "y": -0.6986232392580771
         },
         {
          "group": "tech",
          "x": -2.046273318099899,
          "y": 0.7760633862802488
         },
         {
          "group": "tech",
          "x": -0.8892028160217528,
          "y": -0.4229183902306524
         },
         {
          "group": "tech",
          "x": 1.7319356091744376,
          "y": -2.335485266635728
         },
         {
          "group": "tech",
          "x": 0.1776291585603629,
          "y": -1.2856270924255
         },
         {
          "group": "tech",
          "x": 0.33967117854555107,
          "y": -1.0462919177899064
         },
         {
          "group": "tech",
          "x": -1.809274153605576,
          "y": -0.6847996261611665
         },
         {
          "group": "tech",
          "x": -1.4410218431290416,
          "y": 0.482501626941635
         },
         {
          "group": "tech",
          "x": -1.279906600528096,
          "y": 2.34852129609053
         },
         {
          "group": "tech",
          "x": -1.7458332223100537,
          "y": 0.7970791113029603
         },
         {
          "group": "tech",
          "x": -0.4523393590736226,
          "y": -1.0293193755697119
         },
         {
          "group": "tech",
          "x": -0.21135058267143256,
          "y": 2.331306871525793
         },
         {
          "group": "tech",
          "x": -0.690041212668369,
          "y": 1.0020906605617639
         },
         {
          "group": "tech",
          "x": -2.645720642652293,
          "y": 0.7023038273799223
         },
         {
          "group": "tech",
          "x": -2.27968942536297,
          "y": 0.7347434158295325
         },
         {
          "group": "tech",
          "x": -0.25838407827962406,
          "y": -1.593494533570683
         },
         {
          "group": "tech",
          "x": 0.9634943992606989,
          "y": 0.24555353697062232
         },
         {
          "group": "tech",
          "x": 0.7266129385674681,
          "y": 0.7538109351596252
         },
         {
          "group": "tech",
          "x": 0.5458264657494509,
          "y": -1.5736561570319385
         },
         {
          "group": "tech",
          "x": -0.5465574903226581,
          "y": -1.4324278262029935
         },
         {
          "group": "tech",
          "x": 0.7269732760138977,
          "y": -1.45048350041589
         },
         {
          "group": "tech",
          "x": -1.5299847716723887,
          "y": 0.3839584156703288
         },
         {
          "group": "tech",
          "x": -0.3256089023449256,
          "y": -0.04458599170108664
         },
         {
          "group": "tech",
          "x": 0.17811496769278123,
          "y": -1.8465862202530643
         },
         {
          "group": "tech",
          "x": 0.527919586213473,
          "y": -1.7099377929426898
         },
         {
          "group": "tech",
          "x": 0.23951826983589933,
          "y": -0.5970342820673223
         },
         {
          "group": "tech",
          "x": -0.5412736739665374,
          "y": 2.469766845244417
         },
         {
          "group": "tech",
          "x": 1.8637104826865158,
          "y": 0.8726544976166027
         },
         {
          "group": "tech",
          "x": 1.3050506133643767,
          "y": 0.8757626149061842
         },
         {
          "group": "tech",
          "x": -0.04905503786005922,
          "y": -0.6823521057827826
         },
         {
          "group": "tech",
          "x": -0.2947261041297716,
          "y": -1.2584964699223058
         },
         {
          "group": "tech",
          "x": 0.8545988162569935,
          "y": 1.7985183510712661
         },
         {
          "group": "tech",
          "x": -1.639482210538552,
          "y": -0.675561563544305
         },
         {
          "group": "tech",
          "x": 1.3566526425508707,
          "y": -0.17369201921826144
         },
         {
          "group": "tech",
          "x": 0.03739946841373204,
          "y": 0.4146057962387778
         },
         {
          "group": "tech",
          "x": -1.8964516810138998,
          "y": 1.1435084128158972
         },
         {
          "group": "tech",
          "x": 0.3108166101122318,
          "y": 1.1420894555310248
         },
         {
          "group": "tech",
          "x": 0.06932517690618686,
          "y": 0.07950034566865405
         },
         {
          "group": "tech",
          "x": -0.5629663409672387,
          "y": -0.016284990447725436
         },
         {
          "group": "tech",
          "x": 0.6297130301716006,
          "y": -1.9960357366121106
         },
         {
          "group": "tech",
          "x": 1.1726289474142217,
          "y": 0.3551840604662428
         },
         {
          "group": "tech",
          "x": 0.46719762263607095,
          "y": 1.0173146863856701
         },
         {
          "group": "tech",
          "x": -0.07868378498695187,
          "y": -0.589891289931605
         },
         {
          "group": "tech",
          "x": -0.1793091305731062,
          "y": -2.565673068757254
         },
         {
          "group": "tech",
          "x": 1.498471437269477,
          "y": -0.8320044677046289
         },
         {
          "group": "tech",
          "x": 0.6945391769918741,
          "y": -0.3803305212453477
         },
         {
          "group": "tech",
          "x": 1.482655284608045,
          "y": 0.9085310020618842
         },
         {
          "group": "tech",
          "x": -2.937694406069837,
          "y": -0.10592910389646969
         },
         {
          "group": "tech",
          "x": -0.29699907023304023,
          "y": -2.6047968228098193
         },
         {
          "group": "tech",
          "x": -0.1296624308715661,
          "y": 1.023318004996771
         },
         {
          "group": "tech",
          "x": -0.8942207900213017,
          "y": -0.9500316035679067
         },
         {
          "group": "tech",
          "x": -1.3386742067867254,
          "y": -1.3565250850301553
         },
         {
          "group": "tech",
          "x": -0.5990119870319397,
          "y": 0.24431455563432442
         },
         {
          "group": "tech",
          "x": 0.4892059421981088,
          "y": -0.06551263897970519
         },
         {
          "group": "tech",
          "x": -0.8307476113341228,
          "y": 0.3447903136070703
         },
         {
          "group": "tech",
          "x": -1.519381602334901,
          "y": 1.8857768893160254
         },
         {
          "group": "tech",
          "x": 3.2783752079714215,
          "y": 0.022688986716279166
         },
         {
          "group": "tech",
          "x": 0.8849114211332944,
          "y": 2.7655814327247352
         },
         {
          "group": "tech",
          "x": -1.0117048586566837,
          "y": -1.690964245600627
         },
         {
          "group": "tech",
          "x": 0.7818067639468256,
          "y": -0.302068558782008
         },
         {
          "group": "tech",
          "x": -0.16870844011073127,
          "y": 1.0752772079023383
         },
         {
          "group": "tech",
          "x": -0.11652876957791193,
          "y": -0.5966273603325003
         },
         {
          "group": "tech",
          "x": 0.7479763177447203,
          "y": -1.1794727395131757
         },
         {
          "group": "tech",
          "x": -2.8145457136801375,
          "y": -1.5541118546379558
         },
         {
          "group": "tech",
          "x": 2.8179019386861115,
          "y": 0.579512935208724
         },
         {
          "group": "tech",
          "x": -0.1548310001541164,
          "y": 0.7480225167081758
         },
         {
          "group": "tech",
          "x": -0.5147833516528317,
          "y": 0.3191175499577148
         },
         {
          "group": "tech",
          "x": 1.9171246933636583,
          "y": -1.295420908428934
         },
         {
          "group": "tech",
          "x": 1.1861197895573388,
          "y": 0.8643616046379125
         },
         {
          "group": "tech",
          "x": 0.0005170616123234862,
          "y": -1.7539956914468695
         },
         {
          "group": "tech",
          "x": -0.0839933342523465,
          "y": -0.18253356579691277
         },
         {
          "group": "tech",
          "x": -0.36196222228255376,
          "y": -0.4415380580474076
         },
         {
          "group": "tech",
          "x": -1.1106203352980946,
          "y": 2.467378625036568
         },
         {
          "group": "tech",
          "x": -2.838457211908145,
          "y": -0.8668947342156443
         },
         {
          "group": "tech",
          "x": -2.116390158644854,
          "y": -0.291149979134553
         },
         {
          "group": "tech",
          "x": 0.3941220873223413,
          "y": 0.9517268234589923
         },
         {
          "group": "tech",
          "x": -0.8365482110218374,
          "y": 0.7458558986894706
         },
         {
          "group": "tech",
          "x": -1.1977517406478655,
          "y": -0.6326649714570491
         },
         {
          "group": "tech",
          "x": -0.2042669893444053,
          "y": 0.09193359555513199
         },
         {
          "group": "tech",
          "x": -1.331954143540248,
          "y": 0.3980215098622879
         },
         {
          "group": "tech",
          "x": -0.5745517772936337,
          "y": 1.0728144087162983
         },
         {
          "group": "tech",
          "x": -0.7712265149961107,
          "y": 0.7862875994579082
         },
         {
          "group": "tech",
          "x": -0.3830902021523548,
          "y": 0.18815379172736704
         },
         {
          "group": "tech",
          "x": 0.6500057712473293,
          "y": 0.09916201958919112
         },
         {
          "group": "tech",
          "x": 1.4383741480157088,
          "y": -0.2667275941361169
         },
         {
          "group": "tech",
          "x": -1.4621122052817004,
          "y": 0.7180895835892781
         },
         {
          "group": "tech",
          "x": 0.0873018845890343,
          "y": -0.5895797963579332
         },
         {
          "group": "tech",
          "x": -0.7590482830061797,
          "y": -0.13415232147760014
         },
         {
          "group": "tech",
          "x": 2.4135609613482343,
          "y": -1.4316145408015601
         },
         {
          "group": "tech",
          "x": 0.6512265380080641,
          "y": -0.29998619203414023
         },
         {
          "group": "tech",
          "x": -0.25404660824972053,
          "y": 0.2938691287685293
         },
         {
          "group": "tech",
          "x": -1.3687361289716637,
          "y": -1.726859332577694
         },
         {
          "group": "tech",
          "x": -1.7070349165737972,
          "y": 0.13207113619819363
         },
         {
          "group": "tech",
          "x": -0.7078369141131597,
          "y": -0.23842418064316842
         },
         {
          "group": "tech",
          "x": -2.412657983530034,
          "y": 0.2791003577087001
         },
         {
          "group": "tech",
          "x": 0.8949340675638717,
          "y": 1.037589758317825
         },
         {
          "group": "tech",
          "x": -0.5603050105663008,
          "y": -1.2802614906120127
         },
         {
          "group": "tech",
          "x": 0.8454485107471378,
          "y": 0.11186797593155853
         },
         {
          "group": "tech",
          "x": -0.2615496613881828,
          "y": 0.905363555750996
         },
         {
          "group": "tech",
          "x": -0.015059810249560459,
          "y": 2.3603988042180717
         },
         {
          "group": "tech",
          "x": 0.8857732783738682,
          "y": -0.5602757867179242
         },
         {
          "group": "tech",
          "x": 1.5842225128944207,
          "y": -1.9500436800742211
         },
         {
          "group": "tech",
          "x": -0.3451008700979041,
          "y": 1.6560633750512417
         },
         {
          "group": "tech",
          "x": -2.307075846492143,
          "y": -0.07796623257724558
         },
         {
          "group": "tech",
          "x": 0.6103466992909223,
          "y": -1.4350081887813844
         },
         {
          "group": "tech",
          "x": 0.3677047189827593,
          "y": 1.6027440057181632
         },
         {
          "group": "tech",
          "x": 0.8175565267779291,
          "y": 0.07231002058834554
         },
         {
          "group": "tech",
          "x": -1.0534750079506197,
          "y": 0.002011973076897177
         },
         {
          "group": "tech",
          "x": 1.069027321217258,
          "y": -0.6365336922316055
         },
         {
          "group": "tech",
          "x": -1.3089649478457237,
          "y": 1.2958650927066533
         },
         {
          "group": "tech",
          "x": -0.3877456059355716,
          "y": 0.008442936900624896
         },
         {
          "group": "tech",
          "x": 0.7999855704001708,
          "y": 0.11575326282108007
         },
         {
          "group": "tech",
          "x": -1.945850556967374,
          "y": 2.16123740521011
         },
         {
          "group": "tech",
          "x": -0.3962999437815228,
          "y": -0.44998290609348485
         },
         {
          "group": "tech",
          "x": -1.52114714601612,
          "y": -0.0038977373314883173
         },
         {
          "group": "tech",
          "x": -2.4711249523151975,
          "y": 0.1517610226465244
         },
         {
          "group": "tech",
          "x": -1.9801409944604664,
          "y": -0.22298664251814346
         },
         {
          "group": "tech",
          "x": 0.9766761891710266,
          "y": -0.6045659305687023
         },
         {
          "group": "tech",
          "x": 0.18331366143912495,
          "y": -1.4625027236103387
         },
         {
          "group": "tech",
          "x": 0.5980739551105231,
          "y": 0.6958145649386485
         },
         {
          "group": "tech",
          "x": -1.7913698173047754,
          "y": -1.6799091999156897
         },
         {
          "group": "tech",
          "x": -0.36695535203956425,
          "y": 0.3817962650641443
         },
         {
          "group": "tech",
          "x": 0.5724163094334148,
          "y": -0.9112286479922797
         },
         {
          "group": "tech",
          "x": -1.348151170159025,
          "y": -1.0687439063424817
         },
         {
          "group": "tech",
          "x": -1.426811029781881,
          "y": 0.40067952359278897
         },
         {
          "group": "tech",
          "x": 0.2276886349033126,
          "y": 0.838419644985817
         },
         {
          "group": "tech",
          "x": -0.5481217940508519,
          "y": -1.0460915845561607
         },
         {
          "group": "tech",
          "x": -0.7639433252544181,
          "y": -0.9532970056846957
         },
         {
          "group": "tech",
          "x": 0.8494012070350724,
          "y": -1.505102244837613
         },
         {
          "group": "tech",
          "x": -0.3800246118988729,
          "y": -1.0230264251100103
         },
         {
          "group": "tech",
          "x": 1.914374182532766,
          "y": 0.28201319128620905
         },
         {
          "group": "tech",
          "x": -2.0540195170647473,
          "y": 0.37602977190677656
         },
         {
          "group": "tech",
          "x": -1.4073683126600485,
          "y": -0.5843321135301571
         },
         {
          "group": "tech",
          "x": 1.0580703569230259,
          "y": 1.0558357690460858
         },
         {
          "group": "tech",
          "x": 0.693350729720768,
          "y": 0.3803310915281748
         },
         {
          "group": "tech",
          "x": 0.9747183922375765,
          "y": -1.3023567254376902
         },
         {
          "group": "tech",
          "x": -0.7477151909866003,
          "y": -0.2936678590558921
         },
         {
          "group": "tech",
          "x": -0.688389202762246,
          "y": -3.0630115135359257
         },
         {
          "group": "tech",
          "x": -0.8450590834150916,
          "y": 1.4370489187933895
         },
         {
          "group": "tech",
          "x": -0.46683738826177934,
          "y": -0.20866602924173597
         },
         {
          "group": "tech",
          "x": -0.9546000087250124,
          "y": 1.1208596274814921
         },
         {
          "group": "tech",
          "x": -1.1180996237049474,
          "y": 0.9119141538723694
         },
         {
          "group": "tech",
          "x": -0.41595552319121853,
          "y": 0.11470175488206397
         },
         {
          "group": "tech",
          "x": -0.6728331628757542,
          "y": -0.06831631999940951
         },
         {
          "group": "tech",
          "x": -0.736546641664842,
          "y": -1.126804642909572
         },
         {
          "group": "tech",
          "x": -0.9421894060417682,
          "y": -0.3623654646878387
         },
         {
          "group": "tech",
          "x": 0.5916875748662563,
          "y": 0.10706202706589643
         },
         {
          "group": "tech",
          "x": 0.6099474360748288,
          "y": -1.1999230820977709
         },
         {
          "group": "tech",
          "x": -2.9403858397374534,
          "y": -0.6364332836229365
         },
         {
          "group": "tech",
          "x": -1.613644884793183,
          "y": 2.1197172746648594
         },
         {
          "group": "tech",
          "x": -0.05590217239952774,
          "y": -0.2145965033960793
         },
         {
          "group": "tech",
          "x": -1.099302102706081,
          "y": 1.0473483144629891
         },
         {
          "group": "tech",
          "x": -1.6050905937125592,
          "y": -0.36561354936822205
         },
         {
          "group": "tech",
          "x": 0.7662998104588471,
          "y": -0.34445215570931625
         },
         {
          "group": "tech",
          "x": -1.371245318318448,
          "y": 0.14488278111306405
         },
         {
          "group": "tech",
          "x": -1.1837099605197559,
          "y": 0.3011275886479968
         },
         {
          "group": "tech",
          "x": 1.309702664653614,
          "y": -2.088406485756097
         },
         {
          "group": "tech",
          "x": -0.6960108322549189,
          "y": 1.925009144963346
         },
         {
          "group": "tech",
          "x": -1.0747422761032392,
          "y": 0.22913575086478158
         },
         {
          "group": "tech",
          "x": -1.6491851918356282,
          "y": -1.3951142008370798
         },
         {
          "group": "tech",
          "x": 1.0468228918190046,
          "y": -0.6812798987517811
         },
         {
          "group": "tech",
          "x": -0.305435670532808,
          "y": 3.4974303356123695
         },
         {
          "group": "tech",
          "x": 0.9851336395008792,
          "y": 2.207310565641794
         },
         {
          "group": "tech",
          "x": 0.26422802131208784,
          "y": -1.5165483583915669
         },
         {
          "group": "tech",
          "x": -0.3345357483467508,
          "y": -0.3885606579587405
         },
         {
          "group": "tech",
          "x": 0.14969524188654232,
          "y": -1.318039632742336
         },
         {
          "group": "tech",
          "x": 1.3506962475842614,
          "y": -1.2063702157181058
         },
         {
          "group": "tech",
          "x": -0.3610279716694334,
          "y": -0.9891496494368317
         },
         {
          "group": "tech",
          "x": -1.2864113134135335,
          "y": -0.9379566192832354
         },
         {
          "group": "tech",
          "x": 0.1835396720037993,
          "y": -0.04216058162579482
         },
         {
          "group": "tech",
          "x": -0.47201461743036965,
          "y": 0.20551537313278495
         },
         {
          "group": "tech",
          "x": 0.28980007765551546,
          "y": 0.8711074202192616
         },
         {
          "group": "tech",
          "x": -0.44748886819844125,
          "y": 1.3401125677661228
         },
         {
          "group": "tech",
          "x": -0.17984692107022796,
          "y": 1.2783644112045964
         },
         {
          "group": "tech",
          "x": -0.10291919718261187,
          "y": -0.07611098775839446
         },
         {
          "group": "tech",
          "x": 0.40216942935796485,
          "y": 1.066418589359214
         },
         {
          "group": "tech",
          "x": 0.4559198745009289,
          "y": 0.2124122755008119
         },
         {
          "group": "tech",
          "x": -1.4324732034371688,
          "y": -1.2149144219096162
         },
         {
          "group": "tech",
          "x": -0.7852121155769664,
          "y": 3.2161256549750585
         },
         {
          "group": "tech",
          "x": 0.05925220975258499,
          "y": 0.4277612511968258
         },
         {
          "group": "tech",
          "x": 0.5615501612712924,
          "y": 0.0753722056770383
         },
         {
          "group": "tech",
          "x": -2.4500040167224504,
          "y": 1.5306094419007779
         },
         {
          "group": "tech",
          "x": 0.0075890484268743945,
          "y": -1.6329277111906353
         },
         {
          "group": "tech",
          "x": 0.848601395730344,
          "y": 2.8952695562293957
         },
         {
          "group": "tech",
          "x": -1.5878185609981494,
          "y": 0.4346875711796218
         },
         {
          "group": "tech",
          "x": -1.0496899241203195,
          "y": -0.38442367533472166
         },
         {
          "group": "tech",
          "x": -0.12894565323614363,
          "y": -1.5644853644353238
         },
         {
          "group": "tech",
          "x": -0.24924016918157324,
          "y": 1.5957749288518261
         },
         {
          "group": "tech",
          "x": -0.4679225693199628,
          "y": -2.56186802559569
         },
         {
          "group": "tech",
          "x": -0.19145026690892267,
          "y": 0.4757466134295518
         },
         {
          "group": "tech",
          "x": -0.2598716230562931,
          "y": 1.5936500304739973
         },
         {
          "group": "tech",
          "x": 0.4067552555824933,
          "y": 1.7550165195813612
         },
         {
          "group": "tech",
          "x": 1.2575149128897742,
          "y": -2.212458705238839
         },
         {
          "group": "tech",
          "x": -0.7015020160818326,
          "y": -0.49850257852687896
         },
         {
          "group": "tech",
          "x": 0.29468680153362226,
          "y": -0.28419674949421375
         },
         {
          "group": "tech",
          "x": 3.2280905320904245,
          "y": 0.463779928141905
         },
         {
          "group": "tech",
          "x": -0.22129720059771157,
          "y": 0.12980369127544755
         },
         {
          "group": "tech",
          "x": 0.42392683528007175,
          "y": -0.06565856557531005
         },
         {
          "group": "tech",
          "x": -1.7564949215161443,
          "y": 0.27483171887130703
         },
         {
          "group": "tech",
          "x": 0.08179093490123383,
          "y": -2.0134378691710046
         },
         {
          "group": "tech",
          "x": -0.23730015708669816,
          "y": -0.7865213708949929
         },
         {
          "group": "tech",
          "x": 0.11481352953082113,
          "y": -0.6780071438162725
         },
         {
          "group": "tech",
          "x": -0.3541296537497391,
          "y": 1.1665613791126062
         },
         {
          "group": "tech",
          "x": 0.38854940773993085,
          "y": -0.32712204354838503
         },
         {
          "group": "tech",
          "x": 0.3205848981389849,
          "y": -0.15554032101382195
         },
         {
          "group": "tech",
          "x": 0.8277300888676218,
          "y": 0.24001199498251993
         },
         {
          "group": "tech",
          "x": 0.37270734874105466,
          "y": -0.38116981908481845
         },
         {
          "group": "tech",
          "x": -0.5684078457561822,
          "y": 2.4998586198040544
         },
         {
          "group": "tech",
          "x": 0.04172500497360346,
          "y": -1.9344328945793081
         },
         {
          "group": "tech",
          "x": -0.671234207420632,
          "y": 1.178556647395251
         },
         {
          "group": "tech",
          "x": 0.4544081524504499,
          "y": 0.7839831070701787
         },
         {
          "group": "tech",
          "x": 1.1674273952704763,
          "y": 1.0395065457093624
         },
         {
          "group": "tech",
          "x": -1.267904006641801,
          "y": -0.8869593128243326
         },
         {
          "group": "tech",
          "x": -1.696391773489428,
          "y": -0.46784807616128926
         },
         {
          "group": "tech",
          "x": 1.1031537917558438,
          "y": 0.6287559939936721
         },
         {
          "group": "tech",
          "x": -0.7020963297906403,
          "y": 0.9116545376749041
         },
         {
          "group": "tech",
          "x": -0.6253117168847597,
          "y": -1.7501568293594207
         },
         {
          "group": "tech",
          "x": -0.26354288349647054,
          "y": -0.3158138221971249
         },
         {
          "group": "tech",
          "x": -0.5795666189651139,
          "y": 0.17696785091438627
         },
         {
          "group": "tech",
          "x": 1.0378639728934898,
          "y": -2.6036513696513754
         },
         {
          "group": "tech",
          "x": -2.5813298367769826,
          "y": 0.26797484975008345
         },
         {
          "group": "tech",
          "x": 0.430093579175744,
          "y": 0.19430237513854187
         },
         {
          "group": "tech",
          "x": -0.8842230415041613,
          "y": -1.475412846050377
         },
         {
          "group": "tech",
          "x": 0.9604290081031885,
          "y": -0.47997655517471155
         },
         {
          "group": "tech",
          "x": -0.41637730330273726,
          "y": -0.8815968640676544
         },
         {
          "group": "tech",
          "x": 0.9513700524203955,
          "y": 0.3520508184806476
         },
         {
          "group": "tech",
          "x": -2.006093461753527,
          "y": -0.6245048961300941
         },
         {
          "group": "tech",
          "x": -0.7285564236555105,
          "y": 0.42011515665725396
         },
         {
          "group": "tech",
          "x": -0.20341207147523116,
          "y": 0.36112810118812666
         },
         {
          "group": "tech",
          "x": -0.9901474740321865,
          "y": 2.052700152523007
         },
         {
          "group": "tech",
          "x": -0.06811906891851029,
          "y": 1.2706005878738607
         },
         {
          "group": "tech",
          "x": 0.6685596534591145,
          "y": -0.528322519156562
         },
         {
          "group": "tech",
          "x": -0.7731680351278086,
          "y": -2.2307779724240855
         },
         {
          "group": "tech",
          "x": 0.6418259107192061,
          "y": -0.016300816103696013
         },
         {
          "group": "tech",
          "x": 0.6817071470554577,
          "y": -0.14980499917386472
         },
         {
          "group": "entertainment",
          "x": -1.4938784230739357,
          "y": -0.17445714066562512
         },
         {
          "group": "entertainment",
          "x": 1.0894361882257377,
          "y": -0.8841068583399938
         },
         {
          "group": "entertainment",
          "x": -0.7766892370722493,
          "y": -0.6913219591530144
         },
         {
          "group": "entertainment",
          "x": -2.7721351861108916,
          "y": 0.11042526908518663
         },
         {
          "group": "entertainment",
          "x": 0.06569909835097125,
          "y": -0.7919569521800851
         },
         {
          "group": "entertainment",
          "x": -0.4694640201728674,
          "y": 0.9633201402338104
         },
         {
          "group": "entertainment",
          "x": -0.5501895648196636,
          "y": 0.6791937660498268
         },
         {
          "group": "entertainment",
          "x": -0.1614812741444895,
          "y": -1.170925362967512
         },
         {
          "group": "entertainment",
          "x": 0.5152068968873807,
          "y": -0.030162125790311356
         },
         {
          "group": "entertainment",
          "x": -0.6879029023675393,
          "y": 2.1256032566897907
         },
         {
          "group": "entertainment",
          "x": 0.3525277654247779,
          "y": 1.2008180413321001
         },
         {
          "group": "entertainment",
          "x": -1.8532260013066653,
          "y": -1.79235547002594
         },
         {
          "group": "entertainment",
          "x": 0.029255602047905692,
          "y": 0.34596648262361474
         },
         {
          "group": "entertainment",
          "x": -0.9695424231612396,
          "y": 0.3669646084223587
         },
         {
          "group": "entertainment",
          "x": 0.7231352149054353,
          "y": 1.3035045077362426
         },
         {
          "group": "entertainment",
          "x": 0.3680655134410321,
          "y": -2.28241064786061
         },
         {
          "group": "entertainment",
          "x": -0.925757845039122,
          "y": -0.5849346689734868
         },
         {
          "group": "entertainment",
          "x": -0.12204929009392261,
          "y": 0.3606204366157478
         },
         {
          "group": "entertainment",
          "x": 1.8398363104664486,
          "y": 0.20892278660255326
         },
         {
          "group": "entertainment",
          "x": -2.13405878091885,
          "y": -1.0596325910336912
         },
         {
          "group": "entertainment",
          "x": 0.16965270195530807,
          "y": 3.049125888970658
         },
         {
          "group": "entertainment",
          "x": 1.0102329597178634,
          "y": 0.2187708685436955
         },
         {
          "group": "entertainment",
          "x": -0.9945967654918066,
          "y": 0.9062875816906983
         },
         {
          "group": "entertainment",
          "x": 0.8697177250805603,
          "y": -0.31331519699393034
         },
         {
          "group": "entertainment",
          "x": 0.7024768909866698,
          "y": 0.171649081164582
         },
         {
          "group": "entertainment",
          "x": -0.26716100608048887,
          "y": -0.7634321942378203
         },
         {
          "group": "entertainment",
          "x": -1.338992000838433,
          "y": 0.13515078730576324
         },
         {
          "group": "entertainment",
          "x": 0.4181365055808641,
          "y": 1.1129686015962887
         },
         {
          "group": "entertainment",
          "x": 1.1240042138780904,
          "y": 2.7060356314981613
         },
         {
          "group": "entertainment",
          "x": -0.47292028690143234,
          "y": -1.702223070697997
         },
         {
          "group": "entertainment",
          "x": -1.7805969010049352,
          "y": -0.46868821991747217
         },
         {
          "group": "entertainment",
          "x": 0.16145800427317245,
          "y": 1.2766715233911532
         },
         {
          "group": "entertainment",
          "x": -1.328906652646561,
          "y": -0.05992873528683926
         },
         {
          "group": "entertainment",
          "x": 0.1568727099895435,
          "y": -0.5190427797994792
         },
         {
          "group": "entertainment",
          "x": 0.9869195874685942,
          "y": 0.5167856749259154
         },
         {
          "group": "entertainment",
          "x": 1.0021032843135917,
          "y": -0.7293867393831347
         },
         {
          "group": "entertainment",
          "x": 0.30593663068195764,
          "y": -1.6806754083461237
         },
         {
          "group": "entertainment",
          "x": -0.40033455315324284,
          "y": 1.2097690127252527
         },
         {
          "group": "entertainment",
          "x": 0.265871379656423,
          "y": 0.42577866094791483
         },
         {
          "group": "entertainment",
          "x": 1.994486463074511,
          "y": -0.6693990896191913
         },
         {
          "group": "entertainment",
          "x": -1.4406637225044405,
          "y": 0.12413062689161396
         },
         {
          "group": "entertainment",
          "x": 0.40285234658425767,
          "y": 0.35421315677727633
         },
         {
          "group": "entertainment",
          "x": -1.610133030573215,
          "y": 0.3689699158802625
         },
         {
          "group": "entertainment",
          "x": -2.2909183441690226,
          "y": 1.2647257561467127
         },
         {
          "group": "entertainment",
          "x": 0.5069705478400596,
          "y": 0.8386938554225426
         },
         {
          "group": "entertainment",
          "x": 0.7730620877491716,
          "y": 1.2245531209210376
         },
         {
          "group": "entertainment",
          "x": -0.48252934519365603,
          "y": -1.2623205591437647
         },
         {
          "group": "entertainment",
          "x": -0.38523797853719205,
          "y": -0.13356971370628545
         },
         {
          "group": "entertainment",
          "x": -2.3371978340816844,
          "y": 2.391668352102922
         },
         {
          "group": "entertainment",
          "x": -3.4224146660706136,
          "y": -0.3908854344538447
         },
         {
          "group": "entertainment",
          "x": -0.8623865185076202,
          "y": 1.3632988932831511
         },
         {
          "group": "entertainment",
          "x": -0.7217906695252908,
          "y": -2.7322458072697504
         },
         {
          "group": "entertainment",
          "x": -1.8843603603726065,
          "y": 0.1829201233846068
         },
         {
          "group": "entertainment",
          "x": -1.83490451702573,
          "y": 0.8484403374321667
         },
         {
          "group": "entertainment",
          "x": 0.22188150163417744,
          "y": 0.6242317828622806
         },
         {
          "group": "entertainment",
          "x": -1.0892228808980777,
          "y": -1.382259330841811
         },
         {
          "group": "entertainment",
          "x": -1.1759402260330276,
          "y": 0.9510229719795739
         },
         {
          "group": "entertainment",
          "x": 1.3170761936303288,
          "y": 0.1468511555483501
         },
         {
          "group": "entertainment",
          "x": -0.9702099372952167,
          "y": -2.2248405139570333
         },
         {
          "group": "entertainment",
          "x": -2.9530582407712735,
          "y": 0.6447597360383848
         },
         {
          "group": "entertainment",
          "x": -0.5464347397971091,
          "y": 1.2939764940278675
         },
         {
          "group": "entertainment",
          "x": 0.2195118901676746,
          "y": -1.8982207092855379
         },
         {
          "group": "entertainment",
          "x": -2.0697799759427338,
          "y": 0.2903041053717315
         },
         {
          "group": "entertainment",
          "x": -0.40492296105396497,
          "y": -0.8594880507276426
         },
         {
          "group": "entertainment",
          "x": -0.4424846887505117,
          "y": 1.219740882573049
         },
         {
          "group": "entertainment",
          "x": -1.125246556940132,
          "y": 1.0120860041944875
         },
         {
          "group": "entertainment",
          "x": 0.5961078961058476,
          "y": -0.27525174791548135
         },
         {
          "group": "entertainment",
          "x": -1.322182194442036,
          "y": 0.5576303733624087
         },
         {
          "group": "entertainment",
          "x": 0.4930569275899155,
          "y": -0.7976956035472585
         },
         {
          "group": "entertainment",
          "x": -1.4351038085848653,
          "y": -2.002537111843181
         },
         {
          "group": "entertainment",
          "x": -0.21338695613139963,
          "y": 0.16906842081830695
         },
         {
          "group": "entertainment",
          "x": -1.5961698165818594,
          "y": -0.007840327779625202
         },
         {
          "group": "entertainment",
          "x": -0.5444879125430774,
          "y": -0.31893303991226957
         },
         {
          "group": "entertainment",
          "x": 1.5155174873902504,
          "y": 0.6133220106662731
         },
         {
          "group": "entertainment",
          "x": -0.06938889062725027,
          "y": -0.7564718996039232
         },
         {
          "group": "entertainment",
          "x": 0.9076812291516964,
          "y": -0.6209757370647119
         },
         {
          "group": "entertainment",
          "x": -0.6695174892678112,
          "y": -1.7176653000845732
         },
         {
          "group": "entertainment",
          "x": -0.231861056684085,
          "y": -0.47707251790923016
         },
         {
          "group": "entertainment",
          "x": -0.11895051053484272,
          "y": 0.8044091360654992
         },
         {
          "group": "entertainment",
          "x": -1.6983648940493485,
          "y": 0.04967022291193364
         },
         {
          "group": "entertainment",
          "x": -0.8973565176148348,
          "y": -1.9102523066218542
         },
         {
          "group": "entertainment",
          "x": 0.19995703750848193,
          "y": -0.5140527513852395
         },
         {
          "group": "entertainment",
          "x": -2.0604296700275566,
          "y": 0.5585594617433068
         },
         {
          "group": "entertainment",
          "x": -0.7269244185899996,
          "y": 1.3260026750105518
         },
         {
          "group": "entertainment",
          "x": 0.33843532550964145,
          "y": -3.5837225053658432
         },
         {
          "group": "entertainment",
          "x": 0.13401223855972683,
          "y": 2.0822825928631477
         },
         {
          "group": "entertainment",
          "x": 1.7980828881090658,
          "y": -0.23837236910594456
         },
         {
          "group": "entertainment",
          "x": -0.2448300598980446,
          "y": -0.6467018938838054
         },
         {
          "group": "entertainment",
          "x": -0.6213309018595198,
          "y": -0.313457703720922
         },
         {
          "group": "entertainment",
          "x": 0.28173336114120173,
          "y": 0.48230093843281796
         },
         {
          "group": "entertainment",
          "x": -0.8300456384785088,
          "y": -2.0606006955667495
         },
         {
          "group": "entertainment",
          "x": -0.6233712372214844,
          "y": -0.9353917494739907
         },
         {
          "group": "entertainment",
          "x": -0.6155272354649097,
          "y": -0.10266550336181779
         },
         {
          "group": "entertainment",
          "x": -0.30616317974350943,
          "y": -0.13743400717945442
         },
         {
          "group": "entertainment",
          "x": -0.5937653368187873,
          "y": -0.2249417075514275
         },
         {
          "group": "entertainment",
          "x": 0.2319762085478604,
          "y": 0.7536469747216074
         },
         {
          "group": "entertainment",
          "x": -0.7319302269259954,
          "y": -0.4179229555597191
         },
         {
          "group": "entertainment",
          "x": -0.5467169660178609,
          "y": -0.6037377765574156
         },
         {
          "group": "entertainment",
          "x": -0.5603914103060992,
          "y": 0.04889721933590807
         },
         {
          "group": "entertainment",
          "x": 0.2318672837868327,
          "y": 0.16910054749616
         },
         {
          "group": "entertainment",
          "x": 0.5283933373150435,
          "y": -0.3371703578441086
         },
         {
          "group": "entertainment",
          "x": -0.02279929572033103,
          "y": 0.8439250598805917
         },
         {
          "group": "entertainment",
          "x": -1.2366137302318703,
          "y": -0.8433198010388059
         },
         {
          "group": "entertainment",
          "x": -0.41096904471473567,
          "y": -1.321099004963648
         },
         {
          "group": "entertainment",
          "x": -0.8906780351398688,
          "y": -0.9334972818190598
         },
         {
          "group": "entertainment",
          "x": -1.6471353668092146,
          "y": -0.33733318867760537
         },
         {
          "group": "entertainment",
          "x": 1.03122475868406,
          "y": -1.0506467468137204
         },
         {
          "group": "entertainment",
          "x": 1.7338191100570537,
          "y": 1.774062319992254
         },
         {
          "group": "entertainment",
          "x": 0.7246974081866061,
          "y": 0.1380237469947103
         },
         {
          "group": "entertainment",
          "x": 0.0608174854283366,
          "y": 0.3750989371339266
         },
         {
          "group": "entertainment",
          "x": 0.6623792936359573,
          "y": -1.023820815535825
         },
         {
          "group": "entertainment",
          "x": -0.944326118839597,
          "y": 1.4666509696851229
         },
         {
          "group": "entertainment",
          "x": -0.44246532172753467,
          "y": 0.20968719353791646
         },
         {
          "group": "entertainment",
          "x": 0.14696400871116816,
          "y": -1.69125863753214
         },
         {
          "group": "entertainment",
          "x": 0.49523443273963214,
          "y": 0.01604593271185757
         },
         {
          "group": "entertainment",
          "x": -0.11571345451414704,
          "y": 2.493501967541816
         },
         {
          "group": "entertainment",
          "x": 0.44889112845938567,
          "y": -1.3160706551923798
         },
         {
          "group": "entertainment",
          "x": -1.7444840850965377,
          "y": -0.72035073774788
         },
         {
          "group": "entertainment",
          "x": -0.8693298644952581,
          "y": 2.4395091409984904
         },
         {
          "group": "entertainment",
          "x": -0.28778156008131084,
          "y": 0.6198330818962597
         },
         {
          "group": "entertainment",
          "x": -0.9225261539141825,
          "y": 1.1879067378847703
         },
         {
          "group": "entertainment",
          "x": -0.6023337114983988,
          "y": -1.3672853123349444
         },
         {
          "group": "entertainment",
          "x": -1.629052957014005,
          "y": 0.5238977046810875
         },
         {
          "group": "entertainment",
          "x": 1.367488006979014,
          "y": -2.40678435706395
         },
         {
          "group": "entertainment",
          "x": -0.2473641176448707,
          "y": 0.6801877972439548
         },
         {
          "group": "entertainment",
          "x": -1.9341719087843225,
          "y": -1.205329643733995
         },
         {
          "group": "entertainment",
          "x": -0.0938463482815822,
          "y": -2.6902937730000698
         },
         {
          "group": "entertainment",
          "x": -1.5004283329944035,
          "y": 0.021753321998722774
         },
         {
          "group": "entertainment",
          "x": -0.9388704924271382,
          "y": -1.4849637731373693
         },
         {
          "group": "entertainment",
          "x": -1.1696850823406166,
          "y": 0.6876341009944573
         },
         {
          "group": "entertainment",
          "x": -1.270143379014179,
          "y": 0.203815910532089
         },
         {
          "group": "entertainment",
          "x": 0.31129274043461425,
          "y": -0.1726693017068236
         },
         {
          "group": "entertainment",
          "x": 1.3842301531683368,
          "y": 1.0742604391221549
         },
         {
          "group": "entertainment",
          "x": -0.930984451295978,
          "y": -0.23311663306414127
         },
         {
          "group": "entertainment",
          "x": -0.2976259839300074,
          "y": -1.6895672889148947
         },
         {
          "group": "entertainment",
          "x": -0.9753932320932978,
          "y": -0.446579425888907
         },
         {
          "group": "entertainment",
          "x": -0.37359805837347215,
          "y": 0.040344207003286926
         },
         {
          "group": "entertainment",
          "x": -0.652973664236259,
          "y": 2.0275398624481715
         },
         {
          "group": "entertainment",
          "x": 0.25009859642961574,
          "y": 0.7539719044955628
         },
         {
          "group": "entertainment",
          "x": 0.9925115441056618,
          "y": 0.153650399846881
         },
         {
          "group": "entertainment",
          "x": -1.1533586351423821,
          "y": 1.5714030991414625
         },
         {
          "group": "entertainment",
          "x": -0.42809861003074284,
          "y": 0.37170929547724707
         },
         {
          "group": "entertainment",
          "x": 0.24972317058881463,
          "y": -1.1639531560923448
         },
         {
          "group": "entertainment",
          "x": -2.1132119400143763,
          "y": 1.827094264595605
         },
         {
          "group": "entertainment",
          "x": -0.5043241553130937,
          "y": 0.1160275036859177
         },
         {
          "group": "entertainment",
          "x": -1.5663357328986398,
          "y": -1.5990897064794924
         },
         {
          "group": "entertainment",
          "x": -2.3667739200621662,
          "y": -0.8095252541302282
         },
         {
          "group": "entertainment",
          "x": 1.0620297219112023,
          "y": 1.2573618452939035
         },
         {
          "group": "entertainment",
          "x": -2.371711560431846,
          "y": 2.4828037844957622
         },
         {
          "group": "entertainment",
          "x": 0.34313004979480227,
          "y": -1.8316854372078317
         },
         {
          "group": "entertainment",
          "x": 0.37081688799235113,
          "y": -0.6054609300425338
         },
         {
          "group": "entertainment",
          "x": -0.005204646640641995,
          "y": 0.9947984990052146
         },
         {
          "group": "entertainment",
          "x": -0.39364688324829245,
          "y": -0.4130452410900227
         },
         {
          "group": "entertainment",
          "x": -1.7144447835285328,
          "y": -1.5279656654720792
         },
         {
          "group": "entertainment",
          "x": -0.1902681262437233,
          "y": 0.1340698232901275
         },
         {
          "group": "entertainment",
          "x": 1.2844051171661184,
          "y": 0.030716614749321566
         },
         {
          "group": "entertainment",
          "x": -0.18704705158951623,
          "y": 1.3080035466987794
         },
         {
          "group": "entertainment",
          "x": -0.9452792245986996,
          "y": -0.7587094855817841
         },
         {
          "group": "entertainment",
          "x": 0.3052258430913256,
          "y": 0.19991246068818078
         },
         {
          "group": "entertainment",
          "x": -0.1461794577915391,
          "y": 0.05720396515571514
         },
         {
          "group": "entertainment",
          "x": 0.4446286024302271,
          "y": 1.0750424053169756
         },
         {
          "group": "entertainment",
          "x": -1.1892426412278125,
          "y": 0.3502490091098595
         },
         {
          "group": "entertainment",
          "x": 2.133688246233281,
          "y": -0.47050854918491775
         },
         {
          "group": "entertainment",
          "x": -0.48856745592626055,
          "y": -0.5601204693990435
         },
         {
          "group": "entertainment",
          "x": 0.6455830826899637,
          "y": 0.19094968499472503
         },
         {
          "group": "entertainment",
          "x": 0.4728621971102622,
          "y": -0.6348586088831063
         },
         {
          "group": "entertainment",
          "x": -1.4622006886614856,
          "y": -0.08453452974051753
         },
         {
          "group": "entertainment",
          "x": 1.0944231703960814,
          "y": -0.33121996467188214
         },
         {
          "group": "entertainment",
          "x": 0.40352645641687584,
          "y": 0.8631630002739681
         },
         {
          "group": "entertainment",
          "x": 0.5164068506330051,
          "y": -0.6065098715587305
         },
         {
          "group": "entertainment",
          "x": -0.6105367613567856,
          "y": -0.2947084731723252
         },
         {
          "group": "entertainment",
          "x": -0.5945665816851841,
          "y": -0.2009890518861913
         },
         {
          "group": "entertainment",
          "x": 0.8567631860591798,
          "y": 1.116203745109114
         },
         {
          "group": "entertainment",
          "x": -0.35324681602543967,
          "y": 1.7265582308777603
         },
         {
          "group": "entertainment",
          "x": -1.671395545378757,
          "y": -2.2910355752092464
         },
         {
          "group": "entertainment",
          "x": -1.586879622169235,
          "y": -0.048506469822760655
         },
         {
          "group": "entertainment",
          "x": 0.4887409732738091,
          "y": -0.29621781328832614
         },
         {
          "group": "entertainment",
          "x": -0.06224738254235568,
          "y": -1.7021012074804884
         },
         {
          "group": "entertainment",
          "x": 0.3352644407738022,
          "y": 1.5678569628706331
         },
         {
          "group": "entertainment",
          "x": 0.35766337729305275,
          "y": 0.43008440883364646
         },
         {
          "group": "entertainment",
          "x": 1.248039211321758,
          "y": 2.111914660236805
         },
         {
          "group": "entertainment",
          "x": 0.6202416055303339,
          "y": -1.1477743299833743
         },
         {
          "group": "entertainment",
          "x": -0.5825893253156923,
          "y": -0.8014187729141031
         },
         {
          "group": "entertainment",
          "x": -0.29715728754247256,
          "y": -0.21183286731046064
         },
         {
          "group": "entertainment",
          "x": -1.209575183675254,
          "y": -1.6400495330994462
         },
         {
          "group": "entertainment",
          "x": -0.2910754319224564,
          "y": -2.8490738099252044
         },
         {
          "group": "entertainment",
          "x": -1.01788166049304,
          "y": 0.19443991784602846
         },
         {
          "group": "entertainment",
          "x": 0.6471049799700844,
          "y": 0.022775671552717116
         },
         {
          "group": "entertainment",
          "x": 0.0479445109292468,
          "y": 0.14900728213782397
         },
         {
          "group": "entertainment",
          "x": 0.3500954829349274,
          "y": 1.0269814050427377
         },
         {
          "group": "entertainment",
          "x": 0.7653482629818787,
          "y": -1.5581678244974642
         },
         {
          "group": "entertainment",
          "x": -0.8570033415786679,
          "y": -0.42612346936633405
         },
         {
          "group": "entertainment",
          "x": 0.5461001551949805,
          "y": -1.7090900868576915
         },
         {
          "group": "entertainment",
          "x": 1.3645321099309344,
          "y": 0.0697533534363735
         },
         {
          "group": "entertainment",
          "x": -1.217452000291258,
          "y": 1.7986321558932985
         },
         {
          "group": "entertainment",
          "x": -2.5154278526218388,
          "y": 0.44147856432590277
         },
         {
          "group": "entertainment",
          "x": 0.586284514702084,
          "y": -1.1901049724790806
         },
         {
          "group": "entertainment",
          "x": -0.5199156418852884,
          "y": 1.9758589591452858
         },
         {
          "group": "entertainment",
          "x": -0.6664182359988533,
          "y": -1.0313367893820353
         },
         {
          "group": "entertainment",
          "x": -0.07015363282879912,
          "y": 2.372565391560476
         },
         {
          "group": "entertainment",
          "x": 2.194551892760942,
          "y": 1.3221555974470978
         },
         {
          "group": "entertainment",
          "x": -0.5389169163521673,
          "y": 1.131631705555157
         },
         {
          "group": "entertainment",
          "x": 0.7552318890523643,
          "y": -0.08309719909275291
         },
         {
          "group": "entertainment",
          "x": 0.18441577799846726,
          "y": 1.639438138926315
         },
         {
          "group": "entertainment",
          "x": 1.3458019349021881,
          "y": -1.5062491424050188
         },
         {
          "group": "entertainment",
          "x": -1.080506710136454,
          "y": -0.020378126458852088
         },
         {
          "group": "entertainment",
          "x": -0.2621188417920887,
          "y": -2.3669803056205585
         },
         {
          "group": "entertainment",
          "x": -0.6464705844028795,
          "y": -0.34542411909689785
         },
         {
          "group": "entertainment",
          "x": -1.1316986633185382,
          "y": 2.3831925232769806
         },
         {
          "group": "entertainment",
          "x": -0.5331602096499513,
          "y": 2.0009096152221653
         },
         {
          "group": "entertainment",
          "x": -1.394672358672944,
          "y": 1.6899785421757474
         },
         {
          "group": "entertainment",
          "x": 0.7531098075012136,
          "y": 0.837941740758228
         },
         {
          "group": "entertainment",
          "x": -0.645962643566706,
          "y": 2.604890380042852
         },
         {
          "group": "entertainment",
          "x": -0.28335414247795976,
          "y": -0.16660012345957587
         },
         {
          "group": "entertainment",
          "x": 0.6545530577451142,
          "y": -2.0275148772077753
         },
         {
          "group": "entertainment",
          "x": -0.7968818101144809,
          "y": 2.32277104167692
         },
         {
          "group": "entertainment",
          "x": 0.5209554414240839,
          "y": 2.5298058676902344
         },
         {
          "group": "entertainment",
          "x": 0.3091593220927075,
          "y": -0.028871037765784965
         },
         {
          "group": "entertainment",
          "x": 1.6222984729408412,
          "y": -2.338169566389251
         },
         {
          "group": "entertainment",
          "x": -0.2882533542644947,
          "y": 0.8265396972339702
         },
         {
          "group": "entertainment",
          "x": -0.7110072786946705,
          "y": 0.09835227535516157
         },
         {
          "group": "entertainment",
          "x": 0.7553031573063933,
          "y": 0.9709037874111416
         },
         {
          "group": "entertainment",
          "x": -0.31273300776259033,
          "y": 0.2483758469815372
         },
         {
          "group": "entertainment",
          "x": -0.8694756268624025,
          "y": -0.6163805991433249
         },
         {
          "group": "entertainment",
          "x": -0.4992280846112479,
          "y": -0.9603409512033156
         },
         {
          "group": "entertainment",
          "x": -0.595028884341406,
          "y": -0.6027120791522345
         },
         {
          "group": "entertainment",
          "x": -0.7917035298453986,
          "y": -0.30225776618547134
         },
         {
          "group": "entertainment",
          "x": -1.7141990399557772,
          "y": -1.470906686061427
         },
         {
          "group": "entertainment",
          "x": 0.20121403600647533,
          "y": -0.8962932846667273
         },
         {
          "group": "entertainment",
          "x": -0.16651868206676376,
          "y": -1.7357993105294955
         },
         {
          "group": "entertainment",
          "x": -1.5946856798094662,
          "y": 3.3612682289362774
         },
         {
          "group": "entertainment",
          "x": 1.9259988100628165,
          "y": 1.4581768885142852
         },
         {
          "group": "entertainment",
          "x": -1.9653247768849578,
          "y": -0.38770817881710196
         },
         {
          "group": "entertainment",
          "x": -0.23067518294246236,
          "y": 0.40647394750916704
         },
         {
          "group": "entertainment",
          "x": -0.2674929190530028,
          "y": -0.1829268860368896
         },
         {
          "group": "entertainment",
          "x": -2.8827331284990843,
          "y": -0.4680234212142012
         },
         {
          "group": "entertainment",
          "x": -0.5676590278026917,
          "y": -0.45673332211311735
         },
         {
          "group": "entertainment",
          "x": 0.5597570189343093,
          "y": -1.0695258090729265
         },
         {
          "group": "entertainment",
          "x": 0.9382465705515066,
          "y": -0.07118334652168588
         },
         {
          "group": "entertainment",
          "x": 0.8728039337749472,
          "y": -0.03271878305582256
         },
         {
          "group": "entertainment",
          "x": -1.2708995940878807,
          "y": -0.3167609936278914
         },
         {
          "group": "entertainment",
          "x": -0.5581978309869322,
          "y": -1.2385300433565165
         },
         {
          "group": "entertainment",
          "x": -1.0886084510908216,
          "y": -0.6182941966109331
         },
         {
          "group": "entertainment",
          "x": -0.21133190879694125,
          "y": 1.0015717479805628
         },
         {
          "group": "entertainment",
          "x": -1.069833092429186,
          "y": 0.886232709349339
         },
         {
          "group": "entertainment",
          "x": 0.2277684810264651,
          "y": -0.5071148208315831
         },
         {
          "group": "entertainment",
          "x": 1.3997627181434074,
          "y": 0.00805835073434383
         },
         {
          "group": "entertainment",
          "x": 1.0372676600690334,
          "y": 0.5747094416786603
         },
         {
          "group": "entertainment",
          "x": -0.4629736278631933,
          "y": 0.5062422848253366
         },
         {
          "group": "entertainment",
          "x": 0.5659263358929777,
          "y": 0.4981016475597133
         },
         {
          "group": "entertainment",
          "x": -2.5390993459859685,
          "y": 0.2018644121394819
         },
         {
          "group": "entertainment",
          "x": -1.1223176223289637,
          "y": 0.5059455936960572
         },
         {
          "group": "entertainment",
          "x": -1.793238011035542,
          "y": -1.0354397739988819
         },
         {
          "group": "entertainment",
          "x": 0.28817372035371386,
          "y": 1.3689741330436798
         },
         {
          "group": "entertainment",
          "x": 0.009824657152453073,
          "y": 0.4397544498633398
         },
         {
          "group": "entertainment",
          "x": -2.6268653420035157,
          "y": -0.8562904837592205
         },
         {
          "group": "entertainment",
          "x": 0.749416936305777,
          "y": 0.5919832869554288
         },
         {
          "group": "entertainment",
          "x": 2.2235592854238555,
          "y": -0.31327367110609766
         },
         {
          "group": "entertainment",
          "x": 1.0739098387281405,
          "y": -0.5991477150840377
         },
         {
          "group": "entertainment",
          "x": -0.6830404860241082,
          "y": -0.6919593385565161
         },
         {
          "group": "entertainment",
          "x": 1.055726292855936,
          "y": 1.0807254445195584
         },
         {
          "group": "entertainment",
          "x": -1.8347129104767435,
          "y": -0.5112835525574421
         },
         {
          "group": "entertainment",
          "x": -1.4386497551130233,
          "y": 0.28093057148884854
         },
         {
          "group": "entertainment",
          "x": -0.5071828687754025,
          "y": 0.31238644826642337
         },
         {
          "group": "entertainment",
          "x": -0.3138993844674839,
          "y": 0.7288108749928617
         },
         {
          "group": "entertainment",
          "x": -0.23990063150517468,
          "y": 0.4859660943532409
         },
         {
          "group": "entertainment",
          "x": -0.3709726312380231,
          "y": -1.1199117989038065
         },
         {
          "group": "entertainment",
          "x": -1.9030550909367585,
          "y": 0.02994977538481111
         },
         {
          "group": "entertainment",
          "x": 0.05819014766134016,
          "y": -0.46615213432914543
         },
         {
          "group": "entertainment",
          "x": -2.05953929958501,
          "y": -1.512385244399042
         },
         {
          "group": "entertainment",
          "x": -0.5726795057960226,
          "y": -0.08278774051977837
         },
         {
          "group": "entertainment",
          "x": 0.4470488563012959,
          "y": -0.29363585876688697
         },
         {
          "group": "entertainment",
          "x": -0.7195090427362296,
          "y": 0.5996071443820505
         },
         {
          "group": "entertainment",
          "x": 0.4898402556409795,
          "y": -1.5091592869204313
         },
         {
          "group": "entertainment",
          "x": -0.7466050019109759,
          "y": 0.940260825711569
         },
         {
          "group": "entertainment",
          "x": 0.7984007624382428,
          "y": 1.691319964851487
         },
         {
          "group": "entertainment",
          "x": 0.8660136371973812,
          "y": 0.17960564182040792
         },
         {
          "group": "entertainment",
          "x": -0.20807171271596828,
          "y": 1.8322224456534768
         },
         {
          "group": "entertainment",
          "x": -0.7203049000053415,
          "y": 0.7834045979112659
         },
         {
          "group": "entertainment",
          "x": -0.08783472901365177,
          "y": -1.6903882946945947
         },
         {
          "group": "entertainment",
          "x": 1.5921645416986827,
          "y": -1.6222514873247649
         },
         {
          "group": "entertainment",
          "x": -0.04709639714598992,
          "y": 0.20803960236372815
         },
         {
          "group": "entertainment",
          "x": -0.47177118409266067,
          "y": 2.5829180610548743
         },
         {
          "group": "entertainment",
          "x": -1.4640669967462148,
          "y": -1.6784410095909976
         },
         {
          "group": "entertainment",
          "x": 0.19092332548869984,
          "y": -1.1110770820944875
         },
         {
          "group": "entertainment",
          "x": -0.17946619752491147,
          "y": 0.6487220744804185
         },
         {
          "group": "entertainment",
          "x": -0.8617676358602774,
          "y": 0.7523281847243586
         },
         {
          "group": "entertainment",
          "x": -1.381733468477661,
          "y": -0.7213572391711777
         },
         {
          "group": "entertainment",
          "x": -0.9871066402639685,
          "y": 1.4316183529648472
         },
         {
          "group": "entertainment",
          "x": 0.9782824293714042,
          "y": 1.4377407207697304
         },
         {
          "group": "entertainment",
          "x": 1.7715913690952634,
          "y": -1.8311673811948213
         },
         {
          "group": "entertainment",
          "x": -1.3556901781840947,
          "y": -1.6572614233403247
         },
         {
          "group": "entertainment",
          "x": -1.6933999112846065,
          "y": 2.002524886767897
         },
         {
          "group": "entertainment",
          "x": -1.5866469066329898,
          "y": -0.6624000575548168
         },
         {
          "group": "entertainment",
          "x": 0.980471912122408,
          "y": -0.9980226750771333
         },
         {
          "group": "entertainment",
          "x": -1.1966215198018646,
          "y": 3.2842950655815266
         },
         {
          "group": "entertainment",
          "x": -1.0754059753491965,
          "y": 0.5118633438924902
         },
         {
          "group": "entertainment",
          "x": -0.7119517739024925,
          "y": 0.6682007794590071
         },
         {
          "group": "entertainment",
          "x": 0.6926996104240083,
          "y": 1.967824699812071
         },
         {
          "group": "entertainment",
          "x": -3.3056222380978157,
          "y": 0.506496257179267
         },
         {
          "group": "entertainment",
          "x": 0.17911473632278538,
          "y": 0.8543316908560916
         },
         {
          "group": "entertainment",
          "x": -0.40567620794419335,
          "y": 1.2521133694978734
         },
         {
          "group": "entertainment",
          "x": -1.0427661968414326,
          "y": 0.24862283531135168
         },
         {
          "group": "entertainment",
          "x": -0.6443468299157349,
          "y": 0.5835880651670546
         },
         {
          "group": "entertainment",
          "x": -1.613757289254158,
          "y": 0.0057761789964203775
         },
         {
          "group": "entertainment",
          "x": -1.378054129183599,
          "y": 0.0665347907666797
         },
         {
          "group": "entertainment",
          "x": -0.5771016916389682,
          "y": -1.0073108774643844
         },
         {
          "group": "entertainment",
          "x": 0.056117918758937776,
          "y": -1.7845011578742032
         },
         {
          "group": "entertainment",
          "x": -0.7112996691899822,
          "y": 0.015925555247881543
         },
         {
          "group": "entertainment",
          "x": 0.6270241118195887,
          "y": -0.1784458647684301
         },
         {
          "group": "entertainment",
          "x": -2.47300323823383,
          "y": -2.5663820489239164
         },
         {
          "group": "entertainment",
          "x": -1.5183116532434557,
          "y": 0.9629061889550141
         },
         {
          "group": "entertainment",
          "x": -1.4152751957399736,
          "y": 1.1774580561537968
         },
         {
          "group": "entertainment",
          "x": 0.1662474106040079,
          "y": 0.8033039113407269
         },
         {
          "group": "entertainment",
          "x": -1.6073960159376537,
          "y": 0.9170881233624705
         },
         {
          "group": "entertainment",
          "x": -2.756023343186882,
          "y": -0.3468241023203302
         },
         {
          "group": "entertainment",
          "x": 1.3675911722860272,
          "y": -1.0476821783193857
         },
         {
          "group": "entertainment",
          "x": -1.4848590832866262,
          "y": -0.04995055418255264
         },
         {
          "group": "entertainment",
          "x": -1.2257171088393006,
          "y": -1.2994211259537152
         },
         {
          "group": "entertainment",
          "x": -2.495369351211685,
          "y": -1.113594340426885
         },
         {
          "group": "entertainment",
          "x": -2.1908920282378417,
          "y": -0.9480386331141747
         },
         {
          "group": "entertainment",
          "x": -0.6769493765877054,
          "y": 0.31188703979865146
         },
         {
          "group": "entertainment",
          "x": 0.3193049647889124,
          "y": -2.4020614358240717
         },
         {
          "group": "entertainment",
          "x": -0.27949512366083545,
          "y": 0.09328384662716646
         },
         {
          "group": "entertainment",
          "x": 0.6683835445235959,
          "y": 0.6389529692630012
         },
         {
          "group": "entertainment",
          "x": -0.9924458444047939,
          "y": -0.6416005006569923
         },
         {
          "group": "entertainment",
          "x": -0.7186332481261756,
          "y": 1.1634201062569498
         },
         {
          "group": "entertainment",
          "x": -3.182396388024014,
          "y": -0.5716790529140278
         },
         {
          "group": "entertainment",
          "x": -2.644092573176089,
          "y": -0.3240400677852518
         },
         {
          "group": "entertainment",
          "x": -2.005287506122307,
          "y": -0.7692258088102963
         },
         {
          "group": "entertainment",
          "x": -3.7354821945790344,
          "y": 0.8058207271937374
         },
         {
          "group": "entertainment",
          "x": -0.41336225135484705,
          "y": 0.8591466072272197
         },
         {
          "group": "entertainment",
          "x": 0.5075204907302324,
          "y": -1.4402386063809676
         },
         {
          "group": "entertainment",
          "x": -0.5269313703227394,
          "y": -1.3715970127607866
         },
         {
          "group": "entertainment",
          "x": 0.9827759194787369,
          "y": 0.7406989772615552
         },
         {
          "group": "entertainment",
          "x": -2.256011011051547,
          "y": 1.3340654032241974
         },
         {
          "group": "entertainment",
          "x": 0.5059211710997589,
          "y": 0.2627037164437404
         },
         {
          "group": "entertainment",
          "x": -0.6307648310286382,
          "y": 1.5832947723890962
         },
         {
          "group": "entertainment",
          "x": -0.5090118769889105,
          "y": 0.05056396560239176
         },
         {
          "group": "entertainment",
          "x": -0.0495987875521854,
          "y": 0.8290703629293195
         },
         {
          "group": "entertainment",
          "x": -0.3374384790350898,
          "y": -1.5192756161227872
         },
         {
          "group": "entertainment",
          "x": -0.3967180670418792,
          "y": -0.5034982797098736
         },
         {
          "group": "entertainment",
          "x": -0.3576717695086957,
          "y": -0.17963794604403366
         },
         {
          "group": "entertainment",
          "x": -2.3211011079082113,
          "y": -0.8540945892732094
         },
         {
          "group": "entertainment",
          "x": 0.6550098031318411,
          "y": -0.708182528050746
         },
         {
          "group": "entertainment",
          "x": -1.8116044867583898,
          "y": -1.2207909143062954
         },
         {
          "group": "entertainment",
          "x": 0.9340066082439403,
          "y": 1.653804998758191
         },
         {
          "group": "entertainment",
          "x": -0.4151728810635542,
          "y": 0.09001756558016229
         },
         {
          "group": "entertainment",
          "x": 0.986457914404827,
          "y": 0.40804790108328975
         },
         {
          "group": "entertainment",
          "x": -1.5573592332891897,
          "y": -0.9639845718624827
         },
         {
          "group": "entertainment",
          "x": 0.45771248241435847,
          "y": 0.548506302638875
         },
         {
          "group": "entertainment",
          "x": -2.1672363319860044,
          "y": 0.36707484071969443
         },
         {
          "group": "entertainment",
          "x": -1.1053439961162017,
          "y": -0.8634312337523737
         },
         {
          "group": "entertainment",
          "x": -0.8857597803370486,
          "y": 1.0260966740154083
         },
         {
          "group": "entertainment",
          "x": -0.6194380242943621,
          "y": 0.4503460358822308
         },
         {
          "group": "entertainment",
          "x": -0.018524536580544374,
          "y": 0.526020315314185
         },
         {
          "group": "entertainment",
          "x": 1.0915893922674462,
          "y": -0.32291400424538574
         },
         {
          "group": "entertainment",
          "x": -1.1948999194264502,
          "y": -1.2224291156080118
         },
         {
          "group": "entertainment",
          "x": 1.0473728409224354,
          "y": 1.3608405066837135
         },
         {
          "group": "entertainment",
          "x": 0.26336395171625526,
          "y": 1.0327398565972836
         },
         {
          "group": "entertainment",
          "x": 0.015126006859466495,
          "y": 0.16029525916715187
         },
         {
          "group": "entertainment",
          "x": 0.6624788495340976,
          "y": -0.20176699037064832
         },
         {
          "group": "entertainment",
          "x": 1.1714163393695118,
          "y": -0.21808106204936828
         },
         {
          "group": "entertainment",
          "x": -0.15032219835532223,
          "y": 1.7794245739239354
         },
         {
          "group": "entertainment",
          "x": 1.796260266142772,
          "y": -1.499719857677366
         },
         {
          "group": "entertainment",
          "x": 1.5192146176994177,
          "y": 0.6520004672214929
         },
         {
          "group": "entertainment",
          "x": 0.4961179882631096,
          "y": 1.5189912388353444
         },
         {
          "group": "entertainment",
          "x": 1.2376870026236382,
          "y": 0.018201533218065308
         },
         {
          "group": "entertainment",
          "x": -1.0259780409689558,
          "y": 0.5223847454511643
         },
         {
          "group": "entertainment",
          "x": 0.528898273255475,
          "y": -0.4369467512327389
         },
         {
          "group": "entertainment",
          "x": -1.3458315103531124,
          "y": -1.2383008148284538
         },
         {
          "group": "entertainment",
          "x": 1.1068725009580411,
          "y": 0.31546750082250924
         },
         {
          "group": "entertainment",
          "x": 0.22794486997396543,
          "y": 0.13939181892704242
         },
         {
          "group": "entertainment",
          "x": 0.03396754607719814,
          "y": -2.23912888328015
         },
         {
          "group": "entertainment",
          "x": -0.027367240585535167,
          "y": -0.8001274801386627
         },
         {
          "group": "entertainment",
          "x": 0.30668858342035443,
          "y": 1.6497076842338254
         },
         {
          "group": "entertainment",
          "x": 0.4436148405222698,
          "y": 1.1556605050830135
         },
         {
          "group": "entertainment",
          "x": 1.1260158962660096,
          "y": 0.24200700762812932
         },
         {
          "group": "entertainment",
          "x": -2.527802782810771,
          "y": 0.152125041136157
         },
         {
          "group": "entertainment",
          "x": 0.38625931498275584,
          "y": -0.5248619347330905
         },
         {
          "group": "entertainment",
          "x": 1.3316264826159265,
          "y": 1.025663743606036
         },
         {
          "group": "entertainment",
          "x": 0.7637618838457004,
          "y": 0.033891311082090786
         },
         {
          "group": "entertainment",
          "x": 0.5278717223593065,
          "y": 1.2387223765794753
         },
         {
          "group": "entertainment",
          "x": -0.7579802041603685,
          "y": -0.09728303243885238
         },
         {
          "group": "entertainment",
          "x": -0.9539787221527951,
          "y": -0.002419604542079358
         },
         {
          "group": "entertainment",
          "x": -0.1891388587187408,
          "y": -0.32269981411861076
         }
        ]
       },
       "encoding": {
        "color": {
         "field": "group",
         "type": "nominal"
        },
        "x": {
         "field": "x",
         "type": "quantitative"
        },
        "y": {
         "field": "y",
         "type": "quantitative"
        }
       },
       "mark": "point"
      },
      "image/png": "[encoded data removed]",
      "text/plain": [
       "<VegaLite 2 object>\n",
       "\n",
       "If you see this message, it means the renderer has not been properly enabled\n",
       "for the frontend that you are using. For more information, see\n",
       "https://altair-viz.github.io/user_guide/troubleshooting.html\n"
      ]
     },
     "execution_count": 25,
     "metadata": {},
     "output_type": "execute_result"
    }
   ],
   "source": [
    "bbc_2d = pca_2d(bbc_model.paragraph_matrix.data, bbc_df.group.to_numpy())\n",
    "alt.Chart(bbc_2d).mark_point().encode(x=\"x\", y=\"y\", color=\"group\")"
   ]
  },
  {
   "cell_type": "markdown",
   "metadata": {},
   "source": [
    "These results aren't great, but we can see the beginnings of separation. If we look at just two topics it becomes more obvious."
   ]
  },
  {
   "cell_type": "code",
   "execution_count": 26,
   "metadata": {},
   "outputs": [
    {
     "data": {
      "application/vnd.vegalite.v2+json": {
       "$schema": "https://vega.github.io/schema/vega-lite/v2.6.0.json",
       "config": {
        "view": {
         "height": 300,
         "width": 400
        }
       },
       "data": {
        "name": "data-1e003097f0478bf3f01fa083a60d389e"
       },
       "datasets": {
        "data-1e003097f0478bf3f01fa083a60d389e": [
         {
          "group": "sport",
          "x": 0.9959862724982391,
          "y": -0.7888268534320415
         },
         {
          "group": "sport",
          "x": 1.4961051240231276,
          "y": -0.9983409896110286
         },
         {
          "group": "sport",
          "x": 0.88667535552324,
          "y": -1.1559972437981103
         },
         {
          "group": "sport",
          "x": -0.39603645817970434,
          "y": -0.22112270898803316
         },
         {
          "group": "sport",
          "x": -0.3346497462092969,
          "y": -1.4343995352906254
         },
         {
          "group": "sport",
          "x": 1.3122754876073237,
          "y": -1.06306282046868
         },
         {
          "group": "sport",
          "x": 1.5740844462690204,
          "y": -1.7578717114317448
         },
         {
          "group": "sport",
          "x": 1.4704608579334117,
          "y": -0.8051509685451731
         },
         {
          "group": "sport",
          "x": 2.035783917068592,
          "y": -1.3647020260503053
         },
         {
          "group": "sport",
          "x": 0.7718409620114486,
          "y": 1.7228286200950436
         },
         {
          "group": "sport",
          "x": 0.9528068046869497,
          "y": -0.5270734205640022
         },
         {
          "group": "sport",
          "x": 1.1495357799419332,
          "y": 0.13030600493239786
         },
         {
          "group": "sport",
          "x": 1.4485575698966033,
          "y": 0.5493207999603683
         },
         {
          "group": "sport",
          "x": 1.015063761337786,
          "y": 0.5777085811256365
         },
         {
          "group": "sport",
          "x": 1.0459868088861817,
          "y": 0.6458148379420585
         },
         {
          "group": "sport",
          "x": 0.08761060736463,
          "y": 0.5002713377831732
         },
         {
          "group": "sport",
          "x": 1.139413378051593,
          "y": 0.19273434532026276
         },
         {
          "group": "sport",
          "x": 0.6133930177978549,
          "y": -0.038741226370205266
         },
         {
          "group": "sport",
          "x": 1.5183372755574376,
          "y": -1.4119817928765368
         },
         {
          "group": "sport",
          "x": 0.48379063957391955,
          "y": -0.41948808982263336
         },
         {
          "group": "sport",
          "x": 0.5460872757160414,
          "y": 1.6062664387231782
         },
         {
          "group": "sport",
          "x": 0.6711889924952714,
          "y": -0.18904556021371785
         },
         {
          "group": "sport",
          "x": 0.8761354918264077,
          "y": 1.6570314119001948
         },
         {
          "group": "sport",
          "x": 0.4219422565066979,
          "y": 0.5839822869774463
         },
         {
          "group": "sport",
          "x": 1.3603303553089268,
          "y": 0.4319235116675958
         },
         {
          "group": "sport",
          "x": 1.100486020218163,
          "y": -0.8956050597522762
         },
         {
          "group": "sport",
          "x": 0.8227773951706671,
          "y": 1.051260486009473
         },
         {
          "group": "sport",
          "x": 0.9915711934417231,
          "y": 0.668187154767526
         },
         {
          "group": "sport",
          "x": 0.08382528633999954,
          "y": 1.4090178196091598
         },
         {
          "group": "sport",
          "x": 0.874530528821889,
          "y": -0.013185528695293335
         },
         {
          "group": "sport",
          "x": 0.8314895192688834,
          "y": 1.332493525121709
         },
         {
          "group": "sport",
          "x": 1.6986350071063863,
          "y": 0.39619637335194813
         },
         {
          "group": "sport",
          "x": 0.9875330328236367,
          "y": -0.39517425935842093
         },
         {
          "group": "sport",
          "x": 1.3292891233942705,
          "y": -0.039024951230107525
         },
         {
          "group": "sport",
          "x": 0.8898595967809159,
          "y": -0.9077923278613476
         },
         {
          "group": "sport",
          "x": 0.8096198447852585,
          "y": -0.5512569212317678
         },
         {
          "group": "sport",
          "x": 1.5663195077483951,
          "y": 1.300161254663203
         },
         {
          "group": "sport",
          "x": 1.559547089371874,
          "y": -1.5113737745445157
         },
         {
          "group": "sport",
          "x": 0.7603370647176071,
          "y": -2.7626550154358185
         },
         {
          "group": "sport",
          "x": 0.43393259841803383,
          "y": -1.3842835237868807
         },
         {
          "group": "sport",
          "x": 0.3694370092554872,
          "y": -1.3302648970909832
         },
         {
          "group": "sport",
          "x": 1.0508088382561114,
          "y": -0.7944044310283171
         },
         {
          "group": "sport",
          "x": 1.626866103836525,
          "y": -1.016484451470214
         },
         {
          "group": "sport",
          "x": 0.5363816770472728,
          "y": 1.0204280616658683
         },
         {
          "group": "sport",
          "x": 2.1033623384838824,
          "y": 0.29745224409238064
         },
         {
          "group": "sport",
          "x": 0.6475914722981132,
          "y": 0.23958434600354128
         },
         {
          "group": "sport",
          "x": -0.18752906247854523,
          "y": 0.5106763097990132
         },
         {
          "group": "sport",
          "x": 0.7497750754571862,
          "y": 1.748485928602754
         },
         {
          "group": "sport",
          "x": 0.8305053943519974,
          "y": 0.894052521298233
         },
         {
          "group": "sport",
          "x": 1.3416479927289355,
          "y": -0.7704328181582856
         },
         {
          "group": "sport",
          "x": 1.945221463776606,
          "y": -0.48090596297304394
         },
         {
          "group": "sport",
          "x": -0.6909957391714316,
          "y": 0.8239132551881233
         },
         {
          "group": "sport",
          "x": 1.7687945590199512,
          "y": -0.57922471816477
         },
         {
          "group": "sport",
          "x": 0.12478755471047423,
          "y": 0.03695931967806747
         },
         {
          "group": "sport",
          "x": 1.24024854751702,
          "y": 1.1010237162056369
         },
         {
          "group": "sport",
          "x": 0.3377850576282854,
          "y": 0.8078453058310723
         },
         {
          "group": "sport",
          "x": 1.4605501744514098,
          "y": -0.2986852801425434
         },
         {
          "group": "sport",
          "x": 1.5093719108492298,
          "y": -0.8651031992552424
         },
         {
          "group": "sport",
          "x": 0.5647575781712404,
          "y": -0.2612271891324537
         },
         {
          "group": "sport",
          "x": 1.4717038497437318,
          "y": -1.9415148664772954
         },
         {
          "group": "sport",
          "x": 0.7846642668998789,
          "y": -0.30813442181311146
         },
         {
          "group": "sport",
          "x": 0.5062618299881698,
          "y": -2.3802100254247835
         },
         {
          "group": "sport",
          "x": 0.17165926327964715,
          "y": -0.19815794204451184
         },
         {
          "group": "sport",
          "x": 0.4647499956441775,
          "y": -1.827162170221423
         },
         {
          "group": "sport",
          "x": 0.5427209753115755,
          "y": 0.0067577166604509695
         },
         {
          "group": "sport",
          "x": 1.0818133871362297,
          "y": 0.2574844308549725
         },
         {
          "group": "sport",
          "x": 1.401462128689319,
          "y": -0.20295767111726207
         },
         {
          "group": "sport",
          "x": 0.7017908828937598,
          "y": -0.3703277587802063
         },
         {
          "group": "sport",
          "x": 1.5058951197765347,
          "y": -1.1734526396840255
         },
         {
          "group": "sport",
          "x": 1.6361563561000434,
          "y": -0.15487777197589853
         },
         {
          "group": "sport",
          "x": -0.09075524986052018,
          "y": 1.1901972419694948
         },
         {
          "group": "sport",
          "x": 0.2597542914309404,
          "y": 0.10261280179506839
         },
         {
          "group": "sport",
          "x": 1.6322089223522278,
          "y": 0.8103367980114163
         },
         {
          "group": "sport",
          "x": 1.0809608072115806,
          "y": -1.25657289453067
         },
         {
          "group": "sport",
          "x": 0.9693577997486252,
          "y": -1.0383401928691665
         },
         {
          "group": "sport",
          "x": 0.6414561059658734,
          "y": -0.34217964192038164
         },
         {
          "group": "sport",
          "x": 1.377638136934945,
          "y": -1.2513269924535364
         },
         {
          "group": "sport",
          "x": 1.5823518598232356,
          "y": -3.2436298865278834
         },
         {
          "group": "sport",
          "x": 0.7717320440730752,
          "y": -2.7974930781825487
         },
         {
          "group": "sport",
          "x": 0.3992363497155908,
          "y": 1.2986786295897685
         },
         {
          "group": "sport",
          "x": 1.3776220814771265,
          "y": 1.1221190715711065
         },
         {
          "group": "sport",
          "x": 1.0827057935845488,
          "y": -0.4738552883283224
         },
         {
          "group": "sport",
          "x": 2.314779559927501,
          "y": -0.9413450967136271
         },
         {
          "group": "sport",
          "x": 0.4756502634181708,
          "y": 1.2978170546368584
         },
         {
          "group": "sport",
          "x": 0.6537232412918452,
          "y": -0.8893124733279645
         },
         {
          "group": "sport",
          "x": 1.144151075840563,
          "y": -0.7272695778911293
         },
         {
          "group": "sport",
          "x": 0.36453705181541823,
          "y": 0.035276502619529235
         },
         {
          "group": "sport",
          "x": -0.47788387206931243,
          "y": -0.8626415289753504
         },
         {
          "group": "sport",
          "x": 0.7739613353704324,
          "y": -1.8628244161233973
         },
         {
          "group": "sport",
          "x": 0.6412129024023716,
          "y": -0.2084966858750857
         },
         {
          "group": "sport",
          "x": -0.22152036282619827,
          "y": -1.2943732410061048
         },
         {
          "group": "sport",
          "x": 1.6555822691772408,
          "y": -0.11328491604259794
         },
         {
          "group": "sport",
          "x": -0.009850385311102997,
          "y": 0.8605893342748834
         },
         {
          "group": "sport",
          "x": 2.0918462654191687,
          "y": -1.1258123700757143
         },
         {
          "group": "sport",
          "x": 0.4767156720059595,
          "y": -0.1499811759312303
         },
         {
          "group": "sport",
          "x": 1.0866148747584825,
          "y": -0.49163393976109804
         },
         {
          "group": "sport",
          "x": 1.2854605482747867,
          "y": -0.8619057361666345
         },
         {
          "group": "sport",
          "x": 1.0178790047728459,
          "y": -0.3473305926649107
         },
         {
          "group": "sport",
          "x": 0.2545329098084066,
          "y": 0.5041152160910751
         },
         {
          "group": "sport",
          "x": 1.082057284696004,
          "y": 1.3484058575001074
         },
         {
          "group": "sport",
          "x": 1.0196360505545041,
          "y": 0.04980037816310968
         },
         {
          "group": "sport",
          "x": 1.6469695967425997,
          "y": 0.8339019828774821
         },
         {
          "group": "sport",
          "x": 0.8646837320079839,
          "y": -0.14113772454414508
         },
         {
          "group": "sport",
          "x": -0.04457634496576268,
          "y": 1.3845041796214999
         },
         {
          "group": "sport",
          "x": 0.8318342637059378,
          "y": -0.4282192749019962
         },
         {
          "group": "sport",
          "x": 0.4122642369556056,
          "y": -3.088155833062338
         },
         {
          "group": "sport",
          "x": 0.8296553208780135,
          "y": -0.4876520217860232
         },
         {
          "group": "sport",
          "x": 0.5377448622985408,
          "y": 0.32163327585154244
         },
         {
          "group": "sport",
          "x": 0.21976618392860775,
          "y": -1.2792671705105978
         },
         {
          "group": "sport",
          "x": 0.28976481708070295,
          "y": 0.6309219828858844
         },
         {
          "group": "sport",
          "x": 0.40103467493580547,
          "y": 1.1162315675805579
         },
         {
          "group": "sport",
          "x": 1.5683826366421239,
          "y": 0.7720070177691208
         },
         {
          "group": "sport",
          "x": 0.5840016000049574,
          "y": 0.6266440885180008
         },
         {
          "group": "sport",
          "x": 1.4424930967520462,
          "y": 1.1117628699368842
         },
         {
          "group": "sport",
          "x": 0.5608823383166129,
          "y": 1.5865997020308458
         },
         {
          "group": "sport",
          "x": 1.8697205507652528,
          "y": 1.0554506338830056
         },
         {
          "group": "sport",
          "x": 1.0083522695237972,
          "y": 0.2272912995593165
         },
         {
          "group": "sport",
          "x": 0.9211002837656415,
          "y": 0.6621974425495804
         },
         {
          "group": "sport",
          "x": 1.482241654482331,
          "y": 0.5611842494170465
         },
         {
          "group": "sport",
          "x": 1.5235127172952239,
          "y": -1.5393923540959649
         },
         {
          "group": "sport",
          "x": 1.4658466892287982,
          "y": -0.407382128740372
         },
         {
          "group": "sport",
          "x": 1.4633405036385598,
          "y": 0.946574294993049
         },
         {
          "group": "sport",
          "x": 1.412441355923358,
          "y": 0.5883049489871226
         },
         {
          "group": "sport",
          "x": 1.894844750786263,
          "y": -0.05845350202369352
         },
         {
          "group": "sport",
          "x": 2.336426210066778,
          "y": 0.76980834192038
         },
         {
          "group": "sport",
          "x": 0.6407676304770626,
          "y": 1.215583795404085
         },
         {
          "group": "sport",
          "x": 1.6714747692796423,
          "y": -0.7770329953297738
         },
         {
          "group": "sport",
          "x": 1.827855712585129,
          "y": 0.7572528281561028
         },
         {
          "group": "sport",
          "x": 1.8933660889108266,
          "y": -0.7263391946116821
         },
         {
          "group": "sport",
          "x": 1.1049905647778429,
          "y": -0.3308832072495963
         },
         {
          "group": "sport",
          "x": -0.19644034757112525,
          "y": -0.3398419448039244
         },
         {
          "group": "sport",
          "x": 0.5915226086611828,
          "y": 0.7435743672347245
         },
         {
          "group": "sport",
          "x": 1.5060481630757188,
          "y": 1.8604684096605453
         },
         {
          "group": "sport",
          "x": 2.1113912930492966,
          "y": 0.5289359407208728
         },
         {
          "group": "sport",
          "x": 0.4011521574394612,
          "y": -0.8282213378895734
         },
         {
          "group": "sport",
          "x": 0.728254902186147,
          "y": -2.153776357484635
         },
         {
          "group": "sport",
          "x": -0.02968937806529101,
          "y": -0.276275220351902
         },
         {
          "group": "sport",
          "x": 1.1642987940228602,
          "y": 0.18440046427176465
         },
         {
          "group": "sport",
          "x": 0.6625211465861793,
          "y": 1.01124178407105
         },
         {
          "group": "sport",
          "x": 2.1322722886978656,
          "y": 0.41615413683564473
         },
         {
          "group": "sport",
          "x": 1.4697126522004866,
          "y": 2.1231383827616304
         },
         {
          "group": "sport",
          "x": 0.5401715585663408,
          "y": -0.04422433469116215
         },
         {
          "group": "sport",
          "x": -1.411370567113916,
          "y": -0.14787330278217137
         },
         {
          "group": "sport",
          "x": 0.4877119479757565,
          "y": 1.1303993335739702
         },
         {
          "group": "sport",
          "x": 1.060329666298141,
          "y": -0.23182345667053486
         },
         {
          "group": "sport",
          "x": 1.0938597186867223,
          "y": -0.47662716139707145
         },
         {
          "group": "sport",
          "x": 0.8792887215691171,
          "y": -0.9780141489896506
         },
         {
          "group": "sport",
          "x": 0.8321487481288621,
          "y": -0.9743548308117488
         },
         {
          "group": "sport",
          "x": 0.6548932324501416,
          "y": -0.49143850448105086
         },
         {
          "group": "sport",
          "x": 2.045218001694256,
          "y": -0.27738067077035006
         },
         {
          "group": "sport",
          "x": 0.05202998341926837,
          "y": -0.3568129513629076
         },
         {
          "group": "sport",
          "x": 0.9733179113248439,
          "y": 0.8090685754133426
         },
         {
          "group": "sport",
          "x": 0.9885350726220715,
          "y": -0.7895281226451712
         },
         {
          "group": "sport",
          "x": 0.1169025714898291,
          "y": 0.5732802086304583
         },
         {
          "group": "sport",
          "x": 1.742205487094057,
          "y": 1.8448699831764614
         },
         {
          "group": "sport",
          "x": 0.5498145579191475,
          "y": -0.15933759917135243
         },
         {
          "group": "sport",
          "x": 1.2258158110785984,
          "y": 2.827079816325869
         },
         {
          "group": "sport",
          "x": 1.237679060473041,
          "y": 0.10759124729066362
         },
         {
          "group": "sport",
          "x": -0.08688710543728918,
          "y": -0.616046887400722
         },
         {
          "group": "sport",
          "x": 0.9427733992936339,
          "y": -1.213981729106692
         },
         {
          "group": "sport",
          "x": 1.9417044931523157,
          "y": 0.30586306971871513
         },
         {
          "group": "sport",
          "x": 0.6652901066701177,
          "y": -0.8413489871523014
         },
         {
          "group": "sport",
          "x": 2.001084413053754,
          "y": -1.8943106404052459
         },
         {
          "group": "sport",
          "x": 1.5191655143872518,
          "y": 1.6571274798244873
         },
         {
          "group": "sport",
          "x": 1.7671646733513564,
          "y": 0.21892469662164676
         },
         {
          "group": "sport",
          "x": 1.4765539927398903,
          "y": 0.13555744944717396
         },
         {
          "group": "sport",
          "x": 0.234085277665697,
          "y": 0.20164549835095585
         },
         {
          "group": "sport",
          "x": -0.5516120948338297,
          "y": 1.4688171126331293
         },
         {
          "group": "sport",
          "x": 1.364767552232487,
          "y": 1.4429399276622958
         },
         {
          "group": "sport",
          "x": 1.4276969829295767,
          "y": 1.1090816073279433
         },
         {
          "group": "sport",
          "x": 0.562188167256012,
          "y": 0.9573083971233197
         },
         {
          "group": "sport",
          "x": 0.4565851737078696,
          "y": -0.4944991658737047
         },
         {
          "group": "sport",
          "x": 1.7589004793036127,
          "y": 0.37263413133860646
         },
         {
          "group": "sport",
          "x": 0.3507466131044847,
          "y": 1.1690672424035828
         },
         {
          "group": "sport",
          "x": 1.9116402708221756,
          "y": -0.20446473918118915
         },
         {
          "group": "sport",
          "x": 0.5951197963943354,
          "y": -0.8063329791366234
         },
         {
          "group": "sport",
          "x": 0.9533631208800468,
          "y": 0.28853623139368917
         },
         {
          "group": "sport",
          "x": 1.3966439017162768,
          "y": 1.7780656222102913
         },
         {
          "group": "sport",
          "x": 1.8691982769607,
          "y": 2.127473666153088
         },
         {
          "group": "sport",
          "x": 1.5365656151811489,
          "y": 2.872188339969396
         },
         {
          "group": "sport",
          "x": 0.4991374793584087,
          "y": 0.5675319884471428
         },
         {
          "group": "sport",
          "x": 1.7650067737524897,
          "y": 0.9671423187019291
         },
         {
          "group": "sport",
          "x": 0.6305027095914879,
          "y": 0.7832483577361821
         },
         {
          "group": "sport",
          "x": 1.649285725509947,
          "y": 1.6393984401233679
         },
         {
          "group": "sport",
          "x": 1.0248277358425808,
          "y": 1.7551852253921894
         },
         {
          "group": "sport",
          "x": 1.8077743599290081,
          "y": 1.4596028712391256
         },
         {
          "group": "sport",
          "x": 0.6547853435372885,
          "y": 1.5157832717365347
         },
         {
          "group": "sport",
          "x": 0.6972415531022306,
          "y": 3.779361862935558
         },
         {
          "group": "sport",
          "x": 1.1254290604705872,
          "y": 3.4218906935397433
         },
         {
          "group": "sport",
          "x": 2.3717080935424075,
          "y": 0.8106928696772117
         },
         {
          "group": "sport",
          "x": 0.8141658451053115,
          "y": 0.22618945757123587
         },
         {
          "group": "sport",
          "x": 0.5909128603990346,
          "y": 1.7606505632208298
         },
         {
          "group": "sport",
          "x": 1.2045274875591148,
          "y": 0.7676032264810286
         },
         {
          "group": "sport",
          "x": 1.6332539432255968,
          "y": -0.6518634711715825
         },
         {
          "group": "sport",
          "x": 1.0333250991057492,
          "y": -0.10668873233162307
         },
         {
          "group": "sport",
          "x": 0.20567726581337342,
          "y": 1.4105625554330878
         },
         {
          "group": "sport",
          "x": 0.7694542820382578,
          "y": -0.9287328390207911
         },
         {
          "group": "sport",
          "x": 1.201025451248217,
          "y": 2.364076583581458
         },
         {
          "group": "sport",
          "x": 0.7162678295536196,
          "y": 1.3286362356506816
         },
         {
          "group": "sport",
          "x": 1.0078287642508537,
          "y": 1.1820157001867209
         },
         {
          "group": "sport",
          "x": 1.3117384697989396,
          "y": 0.8546483928742376
         },
         {
          "group": "sport",
          "x": 0.9446326788411203,
          "y": 1.0003533919930598
         },
         {
          "group": "sport",
          "x": 0.43187583408623886,
          "y": 1.3095539846791922
         },
         {
          "group": "sport",
          "x": -0.43458143062339344,
          "y": 0.9523045853800535
         },
         {
          "group": "sport",
          "x": 2.266377121056241,
          "y": 2.3975519184620686
         },
         {
          "group": "sport",
          "x": 1.8992484071562836,
          "y": -0.1406514446222016
         },
         {
          "group": "sport",
          "x": 0.9123550400560695,
          "y": 0.7796011781581275
         },
         {
          "group": "sport",
          "x": 0.8079113302421194,
          "y": 0.7588792980318105
         },
         {
          "group": "sport",
          "x": 0.4843041252004555,
          "y": 1.173713208502076
         },
         {
          "group": "sport",
          "x": -0.1265623217103276,
          "y": 0.7984898016250774
         },
         {
          "group": "sport",
          "x": 2.2297357594495635,
          "y": 0.2947074543726755
         },
         {
          "group": "sport",
          "x": 0.8131926460621722,
          "y": -1.9426790263482392
         },
         {
          "group": "sport",
          "x": 0.2303384239669727,
          "y": -0.2555476204190716
         },
         {
          "group": "sport",
          "x": 1.7655301232026546,
          "y": -0.2252554625023629
         },
         {
          "group": "sport",
          "x": 1.364994345536901,
          "y": -1.283247454734675
         },
         {
          "group": "sport",
          "x": 1.5434040297509268,
          "y": 1.0025959126116657
         },
         {
          "group": "sport",
          "x": 2.75373457781859,
          "y": 0.2316762304824416
         },
         {
          "group": "sport",
          "x": 1.3103387808210811,
          "y": 0.40738715233759615
         },
         {
          "group": "sport",
          "x": 1.749447407127069,
          "y": 1.6396449523091146
         },
         {
          "group": "sport",
          "x": 0.8634446711141663,
          "y": -0.7138465514284975
         },
         {
          "group": "sport",
          "x": 1.4788267337276741,
          "y": 1.1072883707063996
         },
         {
          "group": "sport",
          "x": 1.5002276966213686,
          "y": -1.9325462000130875
         },
         {
          "group": "sport",
          "x": 0.9581120975898583,
          "y": 1.1458731225326766
         },
         {
          "group": "sport",
          "x": 1.2730807661392305,
          "y": 0.6264201782646043
         },
         {
          "group": "sport",
          "x": 1.2168324130464607,
          "y": 0.10651046885515322
         },
         {
          "group": "sport",
          "x": 0.7795824937027763,
          "y": 1.7684776137286446
         },
         {
          "group": "sport",
          "x": 0.024088567645784927,
          "y": 1.3148158689957925
         },
         {
          "group": "sport",
          "x": 1.121077567542949,
          "y": 0.6304302106655846
         },
         {
          "group": "sport",
          "x": 1.0428784391569168,
          "y": 0.88271820248649
         },
         {
          "group": "sport",
          "x": 1.1579754600911725,
          "y": -1.0718700438292559
         },
         {
          "group": "sport",
          "x": 0.7152847826937073,
          "y": 0.7793662698268118
         },
         {
          "group": "sport",
          "x": 0.6969743517014629,
          "y": 1.6231943244092548
         },
         {
          "group": "sport",
          "x": 0.9286235377311909,
          "y": 1.1343879145775102
         },
         {
          "group": "sport",
          "x": 1.1258519837059457,
          "y": 0.09202489628812908
         },
         {
          "group": "sport",
          "x": 0.4071225307437386,
          "y": 0.9461229092444604
         },
         {
          "group": "sport",
          "x": 0.7228604757996432,
          "y": -0.7806880626479242
         },
         {
          "group": "sport",
          "x": -0.19952970964887148,
          "y": 0.5070410816915687
         },
         {
          "group": "sport",
          "x": 1.0556565390676074,
          "y": -0.7280897862290265
         },
         {
          "group": "sport",
          "x": -0.20143857467320192,
          "y": -0.8331094973831057
         },
         {
          "group": "sport",
          "x": 0.6455179523188371,
          "y": -0.06547391858839056
         },
         {
          "group": "sport",
          "x": 1.1849223987224387,
          "y": -0.9769941245117972
         },
         {
          "group": "sport",
          "x": 0.30433670359051823,
          "y": 0.30273034026796536
         },
         {
          "group": "sport",
          "x": -0.09499099626824149,
          "y": 0.9893285704142941
         },
         {
          "group": "sport",
          "x": -0.7497955068581801,
          "y": 1.0332644388121959
         },
         {
          "group": "sport",
          "x": 0.2849067701357593,
          "y": -0.24391252733941773
         },
         {
          "group": "sport",
          "x": 1.0914561995805572,
          "y": 1.155366671953188
         },
         {
          "group": "sport",
          "x": 1.5369803126617099,
          "y": 0.42078482799248634
         },
         {
          "group": "sport",
          "x": -0.08778461973940566,
          "y": 2.3219779252484645
         },
         {
          "group": "sport",
          "x": -0.47626110562702806,
          "y": 1.109481125874243
         },
         {
          "group": "sport",
          "x": 0.44745863593910173,
          "y": 0.5793413009635014
         },
         {
          "group": "sport",
          "x": 0.20775675301891314,
          "y": 1.5831878146328795
         },
         {
          "group": "sport",
          "x": 1.4491087091946244,
          "y": 0.7007246501878512
         },
         {
          "group": "sport",
          "x": 0.2662191788013032,
          "y": 0.20021734126971116
         },
         {
          "group": "sport",
          "x": 1.4780177085073751,
          "y": 0.1428582013404854
         },
         {
          "group": "sport",
          "x": 0.8141330468420109,
          "y": 0.8905125094364729
         },
         {
          "group": "sport",
          "x": 0.17877078087755174,
          "y": 0.11516454497407172
         },
         {
          "group": "sport",
          "x": 1.5452645308433233,
          "y": 1.4405652541773757
         },
         {
          "group": "sport",
          "x": 0.5643787606472783,
          "y": 1.1699970112405869
         },
         {
          "group": "sport",
          "x": -0.11697619712867834,
          "y": 0.6904844292446309
         },
         {
          "group": "sport",
          "x": 1.090186934991743,
          "y": -0.046639953850352175
         },
         {
          "group": "sport",
          "x": -0.5794384861663336,
          "y": 0.7842252947910398
         },
         {
          "group": "sport",
          "x": 1.8413646661733687,
          "y": 1.56084254885241
         },
         {
          "group": "sport",
          "x": 0.9806134351726551,
          "y": 0.6075479907940983
         },
         {
          "group": "sport",
          "x": 0.17553601635882848,
          "y": -0.3180183253872482
         },
         {
          "group": "sport",
          "x": 0.17050494678375827,
          "y": -0.18960127559580223
         },
         {
          "group": "sport",
          "x": 0.5497766303111576,
          "y": 0.2879814181889117
         },
         {
          "group": "sport",
          "x": 0.7713094991716797,
          "y": -0.3438017015258932
         },
         {
          "group": "sport",
          "x": -0.40860409308996243,
          "y": -0.00420797096006996
         },
         {
          "group": "sport",
          "x": -0.9159322878122903,
          "y": -0.3208385711620375
         },
         {
          "group": "sport",
          "x": 1.528911816651089,
          "y": -0.07300835179082696
         },
         {
          "group": "sport",
          "x": 1.120473157816759,
          "y": -0.44840896721155377
         },
         {
          "group": "sport",
          "x": 1.107185617936538,
          "y": 0.3034530140617821
         },
         {
          "group": "sport",
          "x": 0.9351505538945512,
          "y": 0.9912566951598506
         },
         {
          "group": "sport",
          "x": 1.6752532233225055,
          "y": 1.0147670448738835
         },
         {
          "group": "sport",
          "x": -0.5201419178697773,
          "y": 1.1742658096457206
         },
         {
          "group": "sport",
          "x": 0.2627999602942394,
          "y": 1.7510956526237893
         },
         {
          "group": "sport",
          "x": 0.009900838025751525,
          "y": 0.20035451427227577
         },
         {
          "group": "sport",
          "x": 0.5134204784484747,
          "y": 0.12815210150319742
         },
         {
          "group": "sport",
          "x": 0.8022961179214556,
          "y": 0.10930710154723004
         },
         {
          "group": "sport",
          "x": 1.9155082739819411,
          "y": -0.31600484200442913
         },
         {
          "group": "sport",
          "x": 0.9508031457508913,
          "y": -0.28210691071307864
         },
         {
          "group": "sport",
          "x": 0.041847581395806355,
          "y": 1.348780470067215
         },
         {
          "group": "sport",
          "x": 0.766282998566456,
          "y": 1.5761204275609126
         },
         {
          "group": "sport",
          "x": 0.5127860672656022,
          "y": -1.5890257176914677
         },
         {
          "group": "sport",
          "x": 1.22277335408633,
          "y": 0.28927802022700716
         },
         {
          "group": "sport",
          "x": 1.4403851722921648,
          "y": 0.3031182428807138
         },
         {
          "group": "sport",
          "x": 0.522609029497064,
          "y": -0.22369198294020157
         },
         {
          "group": "sport",
          "x": 0.06643532712856953,
          "y": 0.5994403065365267
         },
         {
          "group": "sport",
          "x": 0.9695563232384631,
          "y": -1.6171493935369652
         },
         {
          "group": "sport",
          "x": 1.280973727627999,
          "y": -0.6380498850555286
         },
         {
          "group": "sport",
          "x": 1.5675733884848495,
          "y": 0.5058667926790703
         },
         {
          "group": "sport",
          "x": 0.40491682583044397,
          "y": -0.6942148529880278
         },
         {
          "group": "sport",
          "x": 0.11448470725883385,
          "y": -1.141185185689866
         },
         {
          "group": "sport",
          "x": 1.0108906374064552,
          "y": 1.224102680011387
         },
         {
          "group": "sport",
          "x": 0.7491861511342035,
          "y": -0.6614441399099323
         },
         {
          "group": "sport",
          "x": 1.5084609264722781,
          "y": 0.5987310173475434
         },
         {
          "group": "sport",
          "x": 1.0202021607401741,
          "y": 0.82563330114373
         },
         {
          "group": "sport",
          "x": 0.3580896044624192,
          "y": -1.4791583854019497
         },
         {
          "group": "sport",
          "x": 1.2846698633800508,
          "y": -1.0946632261178209
         },
         {
          "group": "sport",
          "x": 0.3037138055778694,
          "y": 1.4031293789354033
         },
         {
          "group": "sport",
          "x": 0.4575632463635111,
          "y": -0.677822423746177
         },
         {
          "group": "sport",
          "x": 0.7337126300810688,
          "y": -1.3692454992447474
         },
         {
          "group": "sport",
          "x": 1.2610723935989292,
          "y": -1.226897333495906
         },
         {
          "group": "sport",
          "x": 1.1394230062890345,
          "y": -1.1080195130081694
         },
         {
          "group": "sport",
          "x": -0.9928746978236817,
          "y": -1.1383041757098873
         },
         {
          "group": "sport",
          "x": 0.3729771632317933,
          "y": 1.5598624681337376
         },
         {
          "group": "sport",
          "x": 0.14099273536046616,
          "y": 0.0054107707549974635
         },
         {
          "group": "sport",
          "x": 2.414732106744983,
          "y": -2.185328389010723
         },
         {
          "group": "sport",
          "x": 0.4121215164516681,
          "y": 1.2284284389001103
         },
         {
          "group": "sport",
          "x": 0.8417465859268258,
          "y": -2.249545532589036
         },
         {
          "group": "sport",
          "x": 1.1508118484978098,
          "y": -0.11813719742647845
         },
         {
          "group": "sport",
          "x": 1.4526597205815275,
          "y": -0.13148512410846433
         },
         {
          "group": "sport",
          "x": 0.7528708753226424,
          "y": -1.0955696113183255
         },
         {
          "group": "sport",
          "x": 0.7478017110860297,
          "y": 0.20898197729191634
         },
         {
          "group": "sport",
          "x": 1.166806704805584,
          "y": -0.045630349023632444
         },
         {
          "group": "sport",
          "x": 0.4026019634957042,
          "y": -1.6274290378670722
         },
         {
          "group": "sport",
          "x": 0.23808976759711722,
          "y": -1.1427493159273086
         },
         {
          "group": "sport",
          "x": -0.08812276340342065,
          "y": -0.6244310590077791
         },
         {
          "group": "sport",
          "x": -0.23289391456068856,
          "y": 0.06124003665004133
         },
         {
          "group": "sport",
          "x": 0.9516823672809899,
          "y": 0.65313453184177
         },
         {
          "group": "sport",
          "x": 0.8132065413898426,
          "y": -1.8830884656847726
         },
         {
          "group": "sport",
          "x": 1.119231510259517,
          "y": -1.987400148454596
         },
         {
          "group": "sport",
          "x": 0.06977946407103894,
          "y": -0.3124760799736446
         },
         {
          "group": "sport",
          "x": 0.5220300632805156,
          "y": 1.3247319923347347
         },
         {
          "group": "sport",
          "x": -0.8248395793372567,
          "y": 0.7398648062335508
         },
         {
          "group": "sport",
          "x": 1.1468486180035427,
          "y": -0.5598128549313517
         },
         {
          "group": "sport",
          "x": 2.269425586902273,
          "y": -1.1556809619404478
         },
         {
          "group": "sport",
          "x": 1.419019217273629,
          "y": -0.018000429814679433
         },
         {
          "group": "sport",
          "x": 1.4963375691063168,
          "y": -0.46203883419452896
         },
         {
          "group": "sport",
          "x": 0.4315944577013759,
          "y": 1.4046555085490577
         },
         {
          "group": "sport",
          "x": 1.4668724060100597,
          "y": -0.5688591915514506
         },
         {
          "group": "sport",
          "x": 0.2841622233502528,
          "y": -1.1504606359211202
         },
         {
          "group": "sport",
          "x": 0.5238315960473858,
          "y": -0.2779607133042639
         },
         {
          "group": "sport",
          "x": 1.8655327275999614,
          "y": -1.4383480203771934
         },
         {
          "group": "sport",
          "x": 1.319589909812789,
          "y": -0.9300217770566068
         },
         {
          "group": "sport",
          "x": 0.3355716940722828,
          "y": -1.5738693291625785
         },
         {
          "group": "sport",
          "x": -1.2430646897052418,
          "y": -1.022133513438467
         },
         {
          "group": "sport",
          "x": 1.416215730554892,
          "y": -1.1507047738466079
         },
         {
          "group": "sport",
          "x": 0.2476109652983226,
          "y": 0.9929712043256396
         },
         {
          "group": "sport",
          "x": 1.7000660310416194,
          "y": -1.1544228685539244
         },
         {
          "group": "sport",
          "x": 1.2142014258457132,
          "y": -0.4322528710347983
         },
         {
          "group": "sport",
          "x": 1.7980306729135975,
          "y": -0.7648813791812301
         },
         {
          "group": "sport",
          "x": 2.4875414921361596,
          "y": -0.27239430199238973
         },
         {
          "group": "sport",
          "x": 1.082826805964394,
          "y": -0.5302427391832448
         },
         {
          "group": "sport",
          "x": 1.4362538311769952,
          "y": -0.8431701552507246
         },
         {
          "group": "sport",
          "x": -0.1766023730174002,
          "y": 0.9804171373212145
         },
         {
          "group": "sport",
          "x": 0.3515964833745846,
          "y": 1.1335671676326715
         },
         {
          "group": "sport",
          "x": 1.2632146744400186,
          "y": -1.4022044778531986
         },
         {
          "group": "sport",
          "x": 0.6316124445309179,
          "y": 1.5428369371239128
         },
         {
          "group": "sport",
          "x": 1.2662983968058303,
          "y": 0.26291609607179545
         },
         {
          "group": "sport",
          "x": 1.3460784840476545,
          "y": -1.4527530180865593
         },
         {
          "group": "sport",
          "x": 0.07495053016550374,
          "y": 1.625463712398555
         },
         {
          "group": "sport",
          "x": 0.17715125656416017,
          "y": -1.3966540943975445
         },
         {
          "group": "sport",
          "x": 0.9945604586599764,
          "y": -1.7232684040612192
         },
         {
          "group": "sport",
          "x": 0.8923095450602971,
          "y": -0.9821134199537426
         },
         {
          "group": "sport",
          "x": 1.83721188446665,
          "y": 0.8613389294126312
         },
         {
          "group": "sport",
          "x": 0.020802795178510067,
          "y": 0.3945991914459622
         },
         {
          "group": "sport",
          "x": 1.1411732632273741,
          "y": -0.6570596308471661
         },
         {
          "group": "sport",
          "x": 1.7792263035701843,
          "y": -0.4447307633934979
         },
         {
          "group": "sport",
          "x": 1.273831185429529,
          "y": -1.0760586787869382
         },
         {
          "group": "sport",
          "x": 0.5547935833723245,
          "y": -1.886277473035088
         },
         {
          "group": "sport",
          "x": -0.06749112888640524,
          "y": 0.22497689598505385
         },
         {
          "group": "sport",
          "x": -0.3225687901993265,
          "y": -0.2607053459534995
         },
         {
          "group": "sport",
          "x": -0.04951001442654158,
          "y": 1.1677243299408449
         },
         {
          "group": "sport",
          "x": 0.676782552504484,
          "y": 1.3204805089566962
         },
         {
          "group": "sport",
          "x": 0.45880667279506665,
          "y": -1.2699723696851195
         },
         {
          "group": "sport",
          "x": 0.9515353244891543,
          "y": 0.5992125319450443
         },
         {
          "group": "sport",
          "x": 0.6239711499277013,
          "y": -0.5393948514158264
         },
         {
          "group": "sport",
          "x": 2.0759276503562125,
          "y": -0.6774326234143521
         },
         {
          "group": "sport",
          "x": 1.1129090957006846,
          "y": -1.4343475807958541
         },
         {
          "group": "sport",
          "x": 0.7579728698594844,
          "y": 0.36261217512981514
         },
         {
          "group": "sport",
          "x": 0.5099874182450445,
          "y": -1.4123323948715032
         },
         {
          "group": "sport",
          "x": 1.0187819705726886,
          "y": -2.0074471707663446
         },
         {
          "group": "sport",
          "x": 0.832738460215887,
          "y": 0.44754604466123543
         },
         {
          "group": "sport",
          "x": 0.050224928220856814,
          "y": 0.3048327854760985
         },
         {
          "group": "sport",
          "x": 1.365381306731712,
          "y": -0.67248309524815
         },
         {
          "group": "sport",
          "x": 1.6822672897121613,
          "y": 0.383482923180869
         },
         {
          "group": "sport",
          "x": 1.0724603627788594,
          "y": -0.15770545175107495
         },
         {
          "group": "sport",
          "x": 1.5964210280217774,
          "y": 0.16611683679216613
         },
         {
          "group": "sport",
          "x": -0.3880492986898864,
          "y": 2.113024858382661
         },
         {
          "group": "sport",
          "x": 1.1394717662963851,
          "y": 0.13574172331201087
         },
         {
          "group": "sport",
          "x": 0.41123281254709937,
          "y": -0.8949065158869689
         },
         {
          "group": "sport",
          "x": 1.6139543178686087,
          "y": -1.285810850737986
         },
         {
          "group": "sport",
          "x": 1.2654566831890295,
          "y": 0.1394656698977026
         },
         {
          "group": "sport",
          "x": 1.538682386588575,
          "y": -0.5817906061705781
         },
         {
          "group": "sport",
          "x": 0.9663143984057356,
          "y": -0.39230795978106225
         },
         {
          "group": "sport",
          "x": 1.018808402562407,
          "y": -0.1511654616874276
         },
         {
          "group": "sport",
          "x": 1.0719657380745002,
          "y": -0.25819522344126816
         },
         {
          "group": "sport",
          "x": 1.2943386148697553,
          "y": -1.0223933222662245
         },
         {
          "group": "sport",
          "x": 0.7792098630280692,
          "y": -0.19886196560651268
         },
         {
          "group": "sport",
          "x": 1.5924640644344221,
          "y": -0.6779334371876994
         },
         {
          "group": "sport",
          "x": 1.627157103354848,
          "y": -2.944541761991687
         },
         {
          "group": "sport",
          "x": 2.7611896735925696,
          "y": 0.8352966693752887
         },
         {
          "group": "sport",
          "x": 1.008407034208404,
          "y": -2.366550376793982
         },
         {
          "group": "sport",
          "x": 0.5542001244534503,
          "y": -0.15912853335693386
         },
         {
          "group": "sport",
          "x": -0.26170277723546653,
          "y": -2.416991504904805
         },
         {
          "group": "sport",
          "x": 0.30776524166734304,
          "y": -0.647089318692385
         },
         {
          "group": "sport",
          "x": 0.9825331571482359,
          "y": 0.42239222140339544
         },
         {
          "group": "sport",
          "x": 1.126301670037515,
          "y": 1.6863836396586631
         },
         {
          "group": "sport",
          "x": 1.6252349588165993,
          "y": 0.6738004333173895
         },
         {
          "group": "sport",
          "x": 0.8591716135447879,
          "y": 0.25009959745772736
         },
         {
          "group": "sport",
          "x": 1.5372224206225293,
          "y": -1.1318543940663495
         },
         {
          "group": "sport",
          "x": 1.263225250615422,
          "y": -0.7839509883762231
         },
         {
          "group": "sport",
          "x": 1.0602868259041915,
          "y": -0.9954403509411621
         },
         {
          "group": "sport",
          "x": 1.8172711689123504,
          "y": -2.9863402026815864
         },
         {
          "group": "sport",
          "x": 0.5064187690181831,
          "y": -0.024229623511672998
         },
         {
          "group": "sport",
          "x": 0.6537334442109808,
          "y": -1.1206248160043475
         },
         {
          "group": "sport",
          "x": 0.6529524815919662,
          "y": 0.27488679563233515
         },
         {
          "group": "sport",
          "x": 0.9128167871952736,
          "y": 0.12834750291444505
         },
         {
          "group": "sport",
          "x": 1.5702251601270134,
          "y": -0.5132107639360535
         },
         {
          "group": "sport",
          "x": 1.2296430213989333,
          "y": 0.13834799026864533
         },
         {
          "group": "sport",
          "x": 0.14394372841171676,
          "y": -1.390730230673554
         },
         {
          "group": "sport",
          "x": 1.569977946733343,
          "y": -1.9347317625804983
         },
         {
          "group": "sport",
          "x": 1.368853696014585,
          "y": -0.17145806972235594
         },
         {
          "group": "sport",
          "x": 1.0537739211132282,
          "y": -1.9506679160497566
         },
         {
          "group": "sport",
          "x": 1.1563097086750418,
          "y": -0.8363716492748218
         },
         {
          "group": "sport",
          "x": 0.7485989586084044,
          "y": 0.7288822749974146
         },
         {
          "group": "sport",
          "x": 1.2816851845321457,
          "y": 1.8037879406154085
         },
         {
          "group": "sport",
          "x": 0.7672007049885857,
          "y": 0.7774026265459809
         },
         {
          "group": "sport",
          "x": 2.0622370205810108,
          "y": 0.5272977743093417
         },
         {
          "group": "sport",
          "x": 1.8733060658178982,
          "y": 0.645291235915702
         },
         {
          "group": "sport",
          "x": 2.9995931503303437,
          "y": 1.9607477560031616
         },
         {
          "group": "sport",
          "x": 2.882105894742351,
          "y": 0.9865551245114409
         },
         {
          "group": "sport",
          "x": 3.8000013945563555,
          "y": 0.20118969305082743
         },
         {
          "group": "sport",
          "x": 2.109265234360382,
          "y": -0.6963679051056212
         },
         {
          "group": "sport",
          "x": 0.9430132989992833,
          "y": 1.5777290485229092
         },
         {
          "group": "sport",
          "x": 1.850734129396148,
          "y": -0.8238191248705004
         },
         {
          "group": "sport",
          "x": 2.5842663834178885,
          "y": 1.453309658773617
         },
         {
          "group": "sport",
          "x": 2.6708373199934012,
          "y": -1.1881560267254778
         },
         {
          "group": "sport",
          "x": 1.6235053246557056,
          "y": 1.210190027974839
         },
         {
          "group": "sport",
          "x": 1.6987422728850325,
          "y": 0.518238326348306
         },
         {
          "group": "sport",
          "x": 1.706599687548197,
          "y": -3.060028282170905
         },
         {
          "group": "sport",
          "x": 2.4701571798167286,
          "y": 2.1813021539471515
         },
         {
          "group": "sport",
          "x": 3.0796049779392924,
          "y": -0.5198585105751328
         },
         {
          "group": "sport",
          "x": 2.5618741225135593,
          "y": 0.3856981516941165
         },
         {
          "group": "sport",
          "x": 3.635588511218735,
          "y": -0.7908362614942658
         },
         {
          "group": "sport",
          "x": 2.1402085300075506,
          "y": -1.3942092825176593
         },
         {
          "group": "sport",
          "x": 1.1674486220673574,
          "y": -2.378627635018111
         },
         {
          "group": "sport",
          "x": 2.2583519519077195,
          "y": 0.08740808573790647
         },
         {
          "group": "sport",
          "x": 3.3599018027065717,
          "y": 2.209014055811406
         },
         {
          "group": "sport",
          "x": 2.846939667652898,
          "y": -2.63967508318758
         },
         {
          "group": "sport",
          "x": 1.6473532701887639,
          "y": 0.6060556213940349
         },
         {
          "group": "sport",
          "x": 0.4662329961561358,
          "y": -0.15745221433791906
         },
         {
          "group": "sport",
          "x": 0.4539339638723441,
          "y": 1.4929503327690108
         },
         {
          "group": "sport",
          "x": 2.930410922835072,
          "y": 3.400076894018393
         },
         {
          "group": "sport",
          "x": 2.2912294544359857,
          "y": 0.005838773551243728
         },
         {
          "group": "sport",
          "x": 2.0670880226394326,
          "y": -0.6799822201068313
         },
         {
          "group": "sport",
          "x": 0.6997043498690125,
          "y": 2.3602869672989253
         },
         {
          "group": "sport",
          "x": 0.24928633802457112,
          "y": -1.5372041756931543
         },
         {
          "group": "sport",
          "x": 2.518985377529041,
          "y": 0.680538402239485
         },
         {
          "group": "sport",
          "x": 3.3188768561788997,
          "y": -0.6833056351251318
         },
         {
          "group": "sport",
          "x": 0.47048158194303635,
          "y": -0.07611255425964097
         },
         {
          "group": "sport",
          "x": 0.6096702136316232,
          "y": 0.44349964780709494
         },
         {
          "group": "sport",
          "x": 1.9172885639685495,
          "y": -1.5243351273926362
         },
         {
          "group": "sport",
          "x": 3.4478528130651998,
          "y": 0.42840517752501245
         },
         {
          "group": "sport",
          "x": 0.11023631884526196,
          "y": 1.3272492853664246
         },
         {
          "group": "sport",
          "x": 1.2560438362497335,
          "y": -2.924317007618423
         },
         {
          "group": "sport",
          "x": 1.7290643504788779,
          "y": 2.576332418765479
         },
         {
          "group": "sport",
          "x": 3.8969893919818723,
          "y": 0.015132975002030032
         },
         {
          "group": "sport",
          "x": 1.2932994487984022,
          "y": 0.470921082924795
         },
         {
          "group": "sport",
          "x": -0.2688386112729082,
          "y": -0.12452246854144929
         },
         {
          "group": "sport",
          "x": 1.587327095326892,
          "y": 0.6197961810500684
         },
         {
          "group": "sport",
          "x": 1.7821736224750913,
          "y": 0.7101561882830613
         },
         {
          "group": "sport",
          "x": 1.588394784493258,
          "y": 0.5580705922161591
         },
         {
          "group": "sport",
          "x": 3.9256470390505407,
          "y": 0.6345330622316363
         },
         {
          "group": "sport",
          "x": 2.940956577301315,
          "y": 1.6763116113128802
         },
         {
          "group": "sport",
          "x": 3.1407731225927047,
          "y": -0.7373297473081327
         },
         {
          "group": "sport",
          "x": 0.7950377673779154,
          "y": 2.5402431325583295
         },
         {
          "group": "sport",
          "x": 2.6001418309838527,
          "y": 0.6603979626977057
         },
         {
          "group": "sport",
          "x": 3.1841143730019357,
          "y": 1.2380478834651467
         },
         {
          "group": "sport",
          "x": 1.4999806120576413,
          "y": 0.5416051414246601
         },
         {
          "group": "sport",
          "x": 0.958928597811969,
          "y": 0.6093199322527261
         },
         {
          "group": "sport",
          "x": 2.895764768288246,
          "y": -1.4912138607796501
         },
         {
          "group": "sport",
          "x": 2.372936693414975,
          "y": 0.1275925685245393
         },
         {
          "group": "sport",
          "x": 2.467442235406785,
          "y": 0.23091581336141812
         },
         {
          "group": "sport",
          "x": 3.8512872618613065,
          "y": -1.393902786660276
         },
         {
          "group": "sport",
          "x": 1.584435843660288,
          "y": 0.9853991276231483
         },
         {
          "group": "sport",
          "x": 2.543315972250536,
          "y": -0.6708532127002311
         },
         {
          "group": "sport",
          "x": 1.215076698639093,
          "y": -0.4220823486777397
         },
         {
          "group": "sport",
          "x": 1.9594369535957392,
          "y": 0.4470382431671517
         },
         {
          "group": "sport",
          "x": 2.650569132885764,
          "y": 0.9764921729704706
         },
         {
          "group": "sport",
          "x": 1.0771984829499666,
          "y": 1.2776059188399005
         },
         {
          "group": "sport",
          "x": 3.112482466715817,
          "y": 0.9156965709919923
         },
         {
          "group": "sport",
          "x": 1.546505985844441,
          "y": -0.4109662223387846
         },
         {
          "group": "sport",
          "x": 0.8344923053333784,
          "y": 0.8023007579920017
         },
         {
          "group": "sport",
          "x": 1.4176948514090586,
          "y": 0.7562940118689336
         },
         {
          "group": "sport",
          "x": 2.5435112190860845,
          "y": -0.4584808210609148
         },
         {
          "group": "sport",
          "x": 2.178810389432275,
          "y": 1.1637874531954624
         },
         {
          "group": "sport",
          "x": 2.3526674609033877,
          "y": -0.1160973616811765
         },
         {
          "group": "sport",
          "x": 3.7425702608876366,
          "y": -0.06887153939050211
         },
         {
          "group": "sport",
          "x": 2.7603388149570702,
          "y": 0.7418891039780036
         },
         {
          "group": "sport",
          "x": 1.6874200191912894,
          "y": 1.4816251543864591
         },
         {
          "group": "sport",
          "x": 1.9914382927492316,
          "y": -1.2934942731922574
         },
         {
          "group": "sport",
          "x": 1.5205808651484114,
          "y": -0.3763352389043515
         },
         {
          "group": "sport",
          "x": 2.027976611904511,
          "y": 1.209659732598155
         },
         {
          "group": "sport",
          "x": 1.4641920584747432,
          "y": -0.2709599749550803
         },
         {
          "group": "sport",
          "x": 2.2839807388553925,
          "y": 0.2891180501811104
         },
         {
          "group": "sport",
          "x": 2.1032070853675533,
          "y": 0.5513011607461186
         },
         {
          "group": "sport",
          "x": 1.3949676176838375,
          "y": 1.7682845659570454
         },
         {
          "group": "sport",
          "x": 1.771084593443967,
          "y": 0.9139018583206229
         },
         {
          "group": "sport",
          "x": 1.5101601633245674,
          "y": -0.4085925896006793
         },
         {
          "group": "sport",
          "x": 0.6500298225383536,
          "y": 2.9346033809940297
         },
         {
          "group": "sport",
          "x": 1.8541736027610134,
          "y": 2.1708265257490584
         },
         {
          "group": "sport",
          "x": 2.00678999205927,
          "y": -1.3319830284891534
         },
         {
          "group": "sport",
          "x": 3.7059118654830487,
          "y": 3.616192943842298
         },
         {
          "group": "sport",
          "x": 2.791283431469057,
          "y": 0.32995246094368863
         },
         {
          "group": "sport",
          "x": 0.879603577305986,
          "y": 1.418142620989899
         },
         {
          "group": "sport",
          "x": 2.4107990150164698,
          "y": 1.6242885774007523
         },
         {
          "group": "sport",
          "x": 1.8863560831728825,
          "y": 0.9837166805586364
         },
         {
          "group": "sport",
          "x": 3.105903113071819,
          "y": -1.1829112546593077
         },
         {
          "group": "sport",
          "x": 4.582233524744337,
          "y": 1.0847866760360687
         },
         {
          "group": "business",
          "x": -2.1348646825792423,
          "y": 0.700655742904819
         },
         {
          "group": "business",
          "x": -1.6903138451680129,
          "y": -0.8715589782491974
         },
         {
          "group": "business",
          "x": -1.9061971508628037,
          "y": -0.9311050771970689
         },
         {
          "group": "business",
          "x": 0.8723382544794791,
          "y": -1.323332928406022
         },
         {
          "group": "business",
          "x": -2.1437214314783737,
          "y": 0.289923157066581
         },
         {
          "group": "business",
          "x": 1.488735465514343,
          "y": -2.19719743653129
         },
         {
          "group": "business",
          "x": -1.0051552223556492,
          "y": 1.0987650293672497
         },
         {
          "group": "business",
          "x": -0.06683602527558073,
          "y": -0.7757018234676596
         },
         {
          "group": "business",
          "x": -1.7617013793052005,
          "y": 0.6974581273211921
         },
         {
          "group": "business",
          "x": -0.33839261844242713,
          "y": -1.6788451258997292
         },
         {
          "group": "business",
          "x": 0.39485537089291933,
          "y": -1.4432297932328688
         },
         {
          "group": "business",
          "x": 1.5364636700105543,
          "y": 2.4524877101355655
         },
         {
          "group": "business",
          "x": 0.1184374145840164,
          "y": -1.4489168116039044
         },
         {
          "group": "business",
          "x": 0.4485847787150661,
          "y": 0.5628932647706674
         },
         {
          "group": "business",
          "x": 2.395269556801699,
          "y": 0.6620129234898146
         },
         {
          "group": "business",
          "x": 0.4149140359891915,
          "y": -1.0411118808194628
         },
         {
          "group": "business",
          "x": -0.015379777193064105,
          "y": 0.2473191024650631
         },
         {
          "group": "business",
          "x": -1.1579105106011007,
          "y": -0.7499331472284312
         },
         {
          "group": "business",
          "x": 1.0084201637122832,
          "y": -0.974858821836903
         },
         {
          "group": "business",
          "x": 0.7321583377104149,
          "y": -1.8899916329402462
         },
         {
          "group": "business",
          "x": -0.28538336134937736,
          "y": 0.7309377961414861
         },
         {
          "group": "business",
          "x": 1.504413484676861,
          "y": -1.9874096902204998
         },
         {
          "group": "business",
          "x": -1.024581968563304,
          "y": -1.465960307685206
         },
         {
          "group": "business",
          "x": 0.592194366958727,
          "y": 0.007115572785234963
         },
         {
          "group": "business",
          "x": -1.1500198213988717,
          "y": 0.944758172443471
         },
         {
          "group": "business",
          "x": 0.4752351370583977,
          "y": -0.996945613603842
         },
         {
          "group": "business",
          "x": -0.8950741956686447,
          "y": 2.311562195881692
         },
         {
          "group": "business",
          "x": -1.2522993091851684,
          "y": 0.6636854934629736
         },
         {
          "group": "business",
          "x": -1.2176764613704856,
          "y": 0.6975568377118401
         },
         {
          "group": "business",
          "x": -0.017613386733200564,
          "y": 1.3086230564242007
         },
         {
          "group": "business",
          "x": -0.8361287479089975,
          "y": 1.2341687985286973
         },
         {
          "group": "business",
          "x": 0.6784253209641458,
          "y": -2.1074484882284863
         },
         {
          "group": "business",
          "x": -1.016606980582502,
          "y": 1.4143472968353155
         },
         {
          "group": "business",
          "x": -0.6184123572614355,
          "y": -1.6797929204552284
         },
         {
          "group": "business",
          "x": -1.1820470239268663,
          "y": 1.7501678503120122
         },
         {
          "group": "business",
          "x": -1.632475116126481,
          "y": -0.19050979732975468
         },
         {
          "group": "business",
          "x": -0.4623321082428254,
          "y": -2.379294577548248
         },
         {
          "group": "business",
          "x": -2.2632188905597537,
          "y": -0.4832360307278018
         },
         {
          "group": "business",
          "x": 1.7983892903108327,
          "y": -0.42654281612175093
         },
         {
          "group": "business",
          "x": -0.44136144804003147,
          "y": 0.02550123206093942
         },
         {
          "group": "business",
          "x": 0.5726333662875893,
          "y": -1.0484613151358568
         },
         {
          "group": "business",
          "x": 1.6203635479395249,
          "y": 0.06372463073367732
         },
         {
          "group": "business",
          "x": 0.8252832139280467,
          "y": -0.5255093086247868
         },
         {
          "group": "business",
          "x": 1.7071046398462875,
          "y": 1.8116924721439827
         },
         {
          "group": "business",
          "x": 1.4248067706295355,
          "y": -0.5729878532188838
         },
         {
          "group": "business",
          "x": -0.6394352904243482,
          "y": -0.7630372561972093
         },
         {
          "group": "business",
          "x": -0.23177775981505133,
          "y": 0.9122484460364291
         },
         {
          "group": "business",
          "x": -1.2309109308822253,
          "y": -0.19813244252203593
         },
         {
          "group": "business",
          "x": -0.36484438868228225,
          "y": 0.18637817896775988
         },
         {
          "group": "business",
          "x": -0.7723995413031216,
          "y": 1.3750527343945276
         },
         {
          "group": "business",
          "x": -0.42746151465811266,
          "y": 0.9917353334967924
         },
         {
          "group": "business",
          "x": -2.3029798092419815,
          "y": 1.0860205708316086
         },
         {
          "group": "business",
          "x": 2.1632566457658853,
          "y": -1.418307359732457
         },
         {
          "group": "business",
          "x": -0.3740665458082891,
          "y": -1.3424003776758002
         },
         {
          "group": "business",
          "x": 0.0698203069283419,
          "y": -0.9317400006540029
         },
         {
          "group": "business",
          "x": -1.2972937560171411,
          "y": -0.1607598411320577
         },
         {
          "group": "business",
          "x": 2.138579975293012,
          "y": 1.8380732270953735
         },
         {
          "group": "business",
          "x": 0.2393350609223376,
          "y": -0.6275653415100128
         },
         {
          "group": "business",
          "x": 0.7187610673292734,
          "y": 0.021241166765458973
         },
         {
          "group": "business",
          "x": 0.7218076950630948,
          "y": -0.03560408572546814
         },
         {
          "group": "business",
          "x": -1.15324104755251,
          "y": -0.8279090600532616
         },
         {
          "group": "business",
          "x": -1.7190316859403263,
          "y": 0.770085686582109
         },
         {
          "group": "business",
          "x": -0.9411468067000623,
          "y": -1.8125556964890686
         },
         {
          "group": "business",
          "x": -1.212765208096526,
          "y": -1.967800007037753
         },
         {
          "group": "business",
          "x": 0.09356704235305285,
          "y": 1.2703814251323742
         },
         {
          "group": "business",
          "x": 1.082414280868378,
          "y": -1.514722518826621
         },
         {
          "group": "business",
          "x": -1.4491105455659086,
          "y": 1.7168863564027987
         },
         {
          "group": "business",
          "x": 0.23642781190493506,
          "y": 0.9372361397143454
         },
         {
          "group": "business",
          "x": 0.2963266144033833,
          "y": 0.1297843922547641
         },
         {
          "group": "business",
          "x": 0.9769780096273152,
          "y": 0.9936965320964264
         },
         {
          "group": "business",
          "x": -0.6115295243438365,
          "y": -1.4988237641601805
         },
         {
          "group": "business",
          "x": 0.36825131398690486,
          "y": 0.49716088978362066
         },
         {
          "group": "business",
          "x": -0.1200757517465564,
          "y": 0.22819875125748984
         },
         {
          "group": "business",
          "x": -1.596262300731152,
          "y": -1.7936409356178975
         },
         {
          "group": "business",
          "x": 0.2375387949329304,
          "y": -0.7328987090744415
         },
         {
          "group": "business",
          "x": -0.39600311895144574,
          "y": 0.8126418805808696
         },
         {
          "group": "business",
          "x": -1.4044623928237372,
          "y": -0.6476572647136497
         },
         {
          "group": "business",
          "x": 0.147284250446336,
          "y": 0.7753234402885187
         },
         {
          "group": "business",
          "x": 0.8721828319565952,
          "y": 1.7861054275054336
         },
         {
          "group": "business",
          "x": -0.405024202157036,
          "y": 0.3878327146461739
         },
         {
          "group": "business",
          "x": -0.17588748992928877,
          "y": -0.7552904061139813
         },
         {
          "group": "business",
          "x": -1.6050861851714229,
          "y": 0.5375929222179162
         },
         {
          "group": "business",
          "x": -0.6305357386397523,
          "y": -0.3878583555420823
         },
         {
          "group": "business",
          "x": 1.7291454293468564,
          "y": 0.39171422562806185
         },
         {
          "group": "business",
          "x": -0.7709308968434669,
          "y": 0.9939456775073349
         },
         {
          "group": "business",
          "x": 0.1838009619230996,
          "y": -0.19521855179659042
         },
         {
          "group": "business",
          "x": -0.22676007096268416,
          "y": 0.17842920073306698
         },
         {
          "group": "business",
          "x": -2.160078252284567,
          "y": -1.9106243884996967
         },
         {
          "group": "business",
          "x": 1.4582192327029244,
          "y": -0.30252642023926535
         },
         {
          "group": "business",
          "x": -1.717031334285518,
          "y": 0.7801048764857248
         },
         {
          "group": "business",
          "x": -0.8061885149377488,
          "y": 0.6165259573190512
         },
         {
          "group": "business",
          "x": -1.3058034448842242,
          "y": 1.6519295030103858
         },
         {
          "group": "business",
          "x": -0.7831842860717799,
          "y": -1.0063292760099574
         },
         {
          "group": "business",
          "x": -1.294863938337445,
          "y": 0.13561208172483066
         },
         {
          "group": "business",
          "x": -2.4928822980632104,
          "y": -0.08759132621525398
         },
         {
          "group": "business",
          "x": -0.4371472629903207,
          "y": 1.865320528418918
         },
         {
          "group": "business",
          "x": -1.4208282811441733,
          "y": 1.1297547423674694
         },
         {
          "group": "business",
          "x": -1.1507528656286832,
          "y": -0.13392553660821865
         },
         {
          "group": "business",
          "x": -2.288798246525515,
          "y": -1.3787742761070185
         },
         {
          "group": "business",
          "x": -0.6289163929422494,
          "y": 0.7946989654422927
         },
         {
          "group": "business",
          "x": -1.1898193927863798,
          "y": -1.3742105958879842
         },
         {
          "group": "business",
          "x": -0.2618838817945963,
          "y": -1.0854248439231262
         },
         {
          "group": "business",
          "x": 1.0561395911041187,
          "y": 0.6497164671427732
         },
         {
          "group": "business",
          "x": -0.45320400480041617,
          "y": 0.7291148758324216
         },
         {
          "group": "business",
          "x": 0.25386612192326496,
          "y": -0.17044246996084542
         },
         {
          "group": "business",
          "x": 0.6352196593918433,
          "y": 0.4937286772275022
         },
         {
          "group": "business",
          "x": 0.5301515543080582,
          "y": -1.7389578217692543
         },
         {
          "group": "business",
          "x": -1.1629948827836873,
          "y": 0.6133859777241871
         },
         {
          "group": "business",
          "x": 0.4957983278053977,
          "y": -1.3021732063777094
         },
         {
          "group": "business",
          "x": 0.3624637229963333,
          "y": -0.5407258239805826
         },
         {
          "group": "business",
          "x": -0.8139836759101253,
          "y": 1.2024530242331588
         },
         {
          "group": "business",
          "x": -1.0094422958285232,
          "y": 0.32908825607723236
         },
         {
          "group": "business",
          "x": 0.630634740930694,
          "y": 0.1238901998513471
         },
         {
          "group": "business",
          "x": 0.13189334838560324,
          "y": -0.9036584258702178
         },
         {
          "group": "business",
          "x": 2.3260420936000776,
          "y": -0.540114078535509
         },
         {
          "group": "business",
          "x": -0.9308834896231004,
          "y": -1.5631410310236538
         },
         {
          "group": "business",
          "x": 2.4226625889233575,
          "y": 2.862662513025424
         },
         {
          "group": "business",
          "x": -1.8391674257227562,
          "y": -0.3213957368314958
         },
         {
          "group": "business",
          "x": 0.7028723348684275,
          "y": 0.18976751968512667
         },
         {
          "group": "business",
          "x": -2.2747783023394907,
          "y": -0.6190348020390232
         },
         {
          "group": "business",
          "x": -0.15642377629278104,
          "y": -0.34888571288659853
         },
         {
          "group": "business",
          "x": 0.17646094922315406,
          "y": 0.6098105228225649
         },
         {
          "group": "business",
          "x": -0.4753153123950711,
          "y": 0.4422745857128446
         },
         {
          "group": "business",
          "x": -0.9288249600503178,
          "y": -1.5477388088737678
         },
         {
          "group": "business",
          "x": -0.4630176890625114,
          "y": 0.7778547176767566
         },
         {
          "group": "business",
          "x": -2.0042353435539435,
          "y": -0.42943200543865884
         },
         {
          "group": "business",
          "x": -0.41042366224874044,
          "y": 0.9583186677247103
         },
         {
          "group": "business",
          "x": -0.7340898834704062,
          "y": 0.4770501569547398
         },
         {
          "group": "business",
          "x": -1.3552627752055875,
          "y": -0.26111471726751445
         },
         {
          "group": "business",
          "x": 0.6217139272130686,
          "y": -0.6557341722637814
         },
         {
          "group": "business",
          "x": 0.06742622289545555,
          "y": 0.3717781941105049
         },
         {
          "group": "business",
          "x": 0.1240412633503764,
          "y": 0.4254344316415892
         },
         {
          "group": "business",
          "x": -0.13683606401281348,
          "y": 0.6485089137988405
         },
         {
          "group": "business",
          "x": -1.9211077929480378,
          "y": 1.4472085848219571
         },
         {
          "group": "business",
          "x": -2.374897649287796,
          "y": 1.5208009867786112
         },
         {
          "group": "business",
          "x": 1.0034237122129395,
          "y": -2.5186622520193027
         },
         {
          "group": "business",
          "x": 0.419279361997863,
          "y": 1.0951637311246356
         },
         {
          "group": "business",
          "x": -1.3424559974838601,
          "y": -0.3275255762403218
         },
         {
          "group": "business",
          "x": -1.37031694808428,
          "y": 0.7011378322790115
         },
         {
          "group": "business",
          "x": -1.3291414399829087,
          "y": -0.3380902865622486
         },
         {
          "group": "business",
          "x": -2.1906779579697746,
          "y": 0.6359345470628422
         },
         {
          "group": "business",
          "x": -0.17814496606853056,
          "y": 1.381010257490323
         },
         {
          "group": "business",
          "x": 2.108180614547426,
          "y": -0.4041426860902794
         },
         {
          "group": "business",
          "x": 1.0532273275392285,
          "y": 0.1943184962032721
         },
         {
          "group": "business",
          "x": 0.09892504419577267,
          "y": -0.3621257796715031
         },
         {
          "group": "business",
          "x": -0.26893694118070777,
          "y": -0.16757910482316776
         },
         {
          "group": "business",
          "x": 0.3966414742131884,
          "y": 0.48502087533677407
         },
         {
          "group": "business",
          "x": -0.8083224607058644,
          "y": 1.6970936130747016
         },
         {
          "group": "business",
          "x": -2.456777204481042,
          "y": -1.3154246402440137
         },
         {
          "group": "business",
          "x": -0.09363625659285399,
          "y": -0.014173895906886419
         },
         {
          "group": "business",
          "x": 0.1285521213266917,
          "y": -0.21355814917780372
         },
         {
          "group": "business",
          "x": -0.35147481338781095,
          "y": -0.75972460382656
         },
         {
          "group": "business",
          "x": 0.37143815868022745,
          "y": -0.8218151622793917
         },
         {
          "group": "business",
          "x": -0.7529616428423191,
          "y": -1.854903787483743
         },
         {
          "group": "business",
          "x": -1.2857474666172448,
          "y": -1.8117517805110976
         },
         {
          "group": "business",
          "x": 1.1879023226318255,
          "y": -0.08931271070869476
         },
         {
          "group": "business",
          "x": 1.4943335078688194,
          "y": -2.115258783964636
         },
         {
          "group": "business",
          "x": -0.8915602300461558,
          "y": 1.186661385742125
         },
         {
          "group": "business",
          "x": -0.7056306000553396,
          "y": 1.158270219528792
         },
         {
          "group": "business",
          "x": 1.2770974071313208,
          "y": -0.6226172539577692
         },
         {
          "group": "business",
          "x": -2.0862826385691093,
          "y": -0.17200943825439113
         },
         {
          "group": "business",
          "x": 0.9004336722055829,
          "y": -1.646743330340866
         },
         {
          "group": "business",
          "x": -0.9190949676646242,
          "y": 1.5985883290120644
         },
         {
          "group": "business",
          "x": 0.11940069711663562,
          "y": -0.07776238372372753
         },
         {
          "group": "business",
          "x": 0.5113723844111678,
          "y": -2.0012774989131157
         },
         {
          "group": "business",
          "x": -1.5106791384099536,
          "y": 1.2872667851501265
         },
         {
          "group": "business",
          "x": 0.007142383300958228,
          "y": -0.01525999383378849
         },
         {
          "group": "business",
          "x": 0.11436439924222759,
          "y": 1.2343656111000818
         },
         {
          "group": "business",
          "x": -0.05664688389451041,
          "y": 1.889962717729455
         },
         {
          "group": "business",
          "x": 1.3847505599816072,
          "y": -1.3631283178989781
         },
         {
          "group": "business",
          "x": -0.5400107343103143,
          "y": 0.42091290106814494
         },
         {
          "group": "business",
          "x": -1.5077094883457545,
          "y": 1.6666122429453578
         },
         {
          "group": "business",
          "x": -2.9755279237330567,
          "y": 0.5331748716995046
         },
         {
          "group": "business",
          "x": 0.8898042666686904,
          "y": 0.5239775482282988
         },
         {
          "group": "business",
          "x": 2.0202732079693693,
          "y": 0.3377243931873346
         },
         {
          "group": "business",
          "x": 0.05121360883713133,
          "y": 1.1274909927759338
         },
         {
          "group": "business",
          "x": 0.18013334633220776,
          "y": -0.0609629265570721
         },
         {
          "group": "business",
          "x": -0.33268804480865866,
          "y": 1.2691350949745115
         },
         {
          "group": "business",
          "x": -1.9439838942561458,
          "y": 1.2797071185171025
         },
         {
          "group": "business",
          "x": -1.0419462343365133,
          "y": -0.34230157072858874
         },
         {
          "group": "business",
          "x": 0.22393200646348405,
          "y": 0.731190283889599
         },
         {
          "group": "business",
          "x": 0.4618750988331526,
          "y": -1.1186468944058163
         },
         {
          "group": "business",
          "x": -0.5733631395580304,
          "y": -0.9703022903773152
         },
         {
          "group": "business",
          "x": -0.316736838600364,
          "y": 1.189474776375069
         },
         {
          "group": "business",
          "x": 0.20617124061479564,
          "y": -0.3571850445442676
         },
         {
          "group": "business",
          "x": -1.3516864485594753,
          "y": 1.1632831960525707
         },
         {
          "group": "business",
          "x": -3.236894111058877,
          "y": 0.16796922756231458
         },
         {
          "group": "business",
          "x": 0.0943765959568886,
          "y": -0.14928263206476522
         },
         {
          "group": "business",
          "x": -1.3358666198536921,
          "y": 0.27824437250134526
         },
         {
          "group": "business",
          "x": -0.9431613568967275,
          "y": 0.7576052853797544
         },
         {
          "group": "business",
          "x": -0.4298521465484,
          "y": -0.18434528502922284
         },
         {
          "group": "business",
          "x": 0.23809454168428906,
          "y": -1.1538699697877335
         },
         {
          "group": "business",
          "x": -0.78676845962767,
          "y": 0.24894415765433256
         },
         {
          "group": "business",
          "x": -1.21494233458925,
          "y": -2.025252403572692
         },
         {
          "group": "business",
          "x": 0.09670222715936741,
          "y": 0.9059867481128444
         },
         {
          "group": "business",
          "x": -0.47110736735610403,
          "y": -1.128226831014565
         },
         {
          "group": "business",
          "x": -0.8614028036166741,
          "y": -1.2348423697609872
         },
         {
          "group": "business",
          "x": -1.5862278864522108,
          "y": 1.6808808080139594
         },
         {
          "group": "business",
          "x": -1.9806683140831418,
          "y": -0.4149302935976442
         },
         {
          "group": "business",
          "x": 1.0048825497390808,
          "y": -0.29237069787878683
         },
         {
          "group": "business",
          "x": -1.0386726070553003,
          "y": -0.8751928346105197
         },
         {
          "group": "business",
          "x": -0.5494070657677541,
          "y": 0.5329079356336146
         },
         {
          "group": "business",
          "x": -0.6765143659004695,
          "y": -0.6751130702483488
         },
         {
          "group": "business",
          "x": -0.9423600714535658,
          "y": -1.079966908173757
         },
         {
          "group": "business",
          "x": -0.662417989687576,
          "y": -0.035803726483023955
         },
         {
          "group": "business",
          "x": -0.1741331128232729,
          "y": -2.202778317690708
         },
         {
          "group": "business",
          "x": -0.46256538631327043,
          "y": 0.942586971652972
         },
         {
          "group": "business",
          "x": 0.9601494489446531,
          "y": 0.11060205335759556
         },
         {
          "group": "business",
          "x": -1.3704793040218357,
          "y": -0.7524586889760647
         },
         {
          "group": "business",
          "x": -2.453825030048803,
          "y": -0.25608098985783545
         },
         {
          "group": "business",
          "x": 0.4121561654194372,
          "y": 1.6061592265159503
         },
         {
          "group": "business",
          "x": -1.1139743970425897,
          "y": -0.07444723464244458
         },
         {
          "group": "business",
          "x": -0.040954651611461515,
          "y": -0.11879268449494114
         },
         {
          "group": "business",
          "x": -0.03902656603422261,
          "y": -0.9847897474757574
         },
         {
          "group": "business",
          "x": 0.3392233491388445,
          "y": 0.44156973575813774
         },
         {
          "group": "business",
          "x": 0.1101793421097996,
          "y": 1.0943511521949782
         },
         {
          "group": "business",
          "x": 0.895341080702559,
          "y": 0.6054421201773219
         },
         {
          "group": "business",
          "x": -0.3093491965929748,
          "y": 0.02560132754292605
         },
         {
          "group": "business",
          "x": -1.028797991050904,
          "y": 1.4414220653893615
         },
         {
          "group": "business",
          "x": 0.4715467706862111,
          "y": 0.057103596182498176
         },
         {
          "group": "business",
          "x": -1.322519997203037,
          "y": 1.0073532568802608
         },
         {
          "group": "business",
          "x": -0.6170192073475472,
          "y": 1.6821402199314697
         },
         {
          "group": "business",
          "x": 1.6889776277780548,
          "y": 1.1652552576470045
         },
         {
          "group": "business",
          "x": -0.25132669357768106,
          "y": -1.3948939796305317
         },
         {
          "group": "business",
          "x": -1.7495077371666738,
          "y": 0.7965378418519259
         },
         {
          "group": "business",
          "x": 0.7531724146606693,
          "y": 0.1532506850235885
         },
         {
          "group": "business",
          "x": 0.07945500967401718,
          "y": 0.0519701585515817
         },
         {
          "group": "business",
          "x": -0.6383128929482142,
          "y": -0.7439402569232594
         },
         {
          "group": "business",
          "x": -1.0652544050779165,
          "y": 1.2098404872943482
         },
         {
          "group": "business",
          "x": -0.38203207882619994,
          "y": 0.12405889796319101
         },
         {
          "group": "business",
          "x": 0.7095148520861166,
          "y": -1.7111666467408517
         },
         {
          "group": "business",
          "x": -0.026168922299063462,
          "y": -0.6657585194962672
         },
         {
          "group": "business",
          "x": 2.0326859618222923,
          "y": -0.9098414283685294
         },
         {
          "group": "business",
          "x": 1.0526234010726379,
          "y": -1.7784846768888982
         },
         {
          "group": "business",
          "x": -2.0443716851649243,
          "y": -0.08349864760050422
         },
         {
          "group": "business",
          "x": 0.15561333823914655,
          "y": -0.7652119576432508
         },
         {
          "group": "business",
          "x": 1.1114759454471088,
          "y": 0.7398895752352391
         },
         {
          "group": "business",
          "x": -0.48730149416079194,
          "y": 1.2531008212698624
         },
         {
          "group": "business",
          "x": -1.2999316365998947,
          "y": -0.7904519970050858
         },
         {
          "group": "business",
          "x": 0.1544276140605267,
          "y": -1.1464655577025133
         },
         {
          "group": "business",
          "x": -0.18919513029428367,
          "y": -0.7589398484937095
         },
         {
          "group": "business",
          "x": 0.04521656850707311,
          "y": 0.36679618511950385
         },
         {
          "group": "business",
          "x": -2.389167430012983,
          "y": -0.6220939533483891
         },
         {
          "group": "business",
          "x": -0.5689393760838538,
          "y": -0.48682391374059725
         },
         {
          "group": "business",
          "x": -1.4579308856228566,
          "y": -0.4371491114212198
         },
         {
          "group": "business",
          "x": -1.0252022060760024,
          "y": -1.225446743444057
         },
         {
          "group": "business",
          "x": -0.31100367146247726,
          "y": -0.4750103504370521
         },
         {
          "group": "business",
          "x": -3.223783519211758,
          "y": 0.874629684717497
         },
         {
          "group": "business",
          "x": -0.22067433926931074,
          "y": -0.1641489188765109
         },
         {
          "group": "business",
          "x": 1.1349815311148452,
          "y": -0.6255154628984498
         },
         {
          "group": "business",
          "x": -1.0765012244662997,
          "y": -0.010862389340569
         },
         {
          "group": "business",
          "x": -0.27428410467080194,
          "y": 1.0697656715178887
         },
         {
          "group": "business",
          "x": 2.5659783846329116,
          "y": -1.0487702683722826
         },
         {
          "group": "business",
          "x": -1.3908315018737607,
          "y": 0.5737039853523483
         },
         {
          "group": "business",
          "x": 0.15149835478157736,
          "y": 1.1234442374708302
         },
         {
          "group": "business",
          "x": -0.01032062923015577,
          "y": -0.26448245760272615
         },
         {
          "group": "business",
          "x": 1.473546850590258,
          "y": -0.3851792520419478
         },
         {
          "group": "business",
          "x": -0.45699472384331324,
          "y": -0.3116148691173964
         },
         {
          "group": "business",
          "x": 0.9947444608874271,
          "y": 1.0992136059674555
         },
         {
          "group": "business",
          "x": -3.6515151431551773,
          "y": 1.278301830533696
         },
         {
          "group": "business",
          "x": -2.201390512995122,
          "y": -1.2295687112947336
         },
         {
          "group": "business",
          "x": 0.4612903251741153,
          "y": -0.04724968792106231
         },
         {
          "group": "business",
          "x": 1.1553912003763422,
          "y": 0.6422236296065686
         },
         {
          "group": "business",
          "x": -0.13874075727618418,
          "y": 1.220863450187535
         },
         {
          "group": "business",
          "x": 0.9879548145885346,
          "y": -0.23351789007745524
         },
         {
          "group": "business",
          "x": -1.1273594751680818,
          "y": -0.06567777313752365
         },
         {
          "group": "business",
          "x": 0.2831934370564645,
          "y": -1.1920652349385479
         },
         {
          "group": "business",
          "x": 1.5964913733821244,
          "y": 1.472569599264684
         },
         {
          "group": "business",
          "x": -0.45409327303019603,
          "y": 0.7436093679413712
         },
         {
          "group": "business",
          "x": 1.5292074474630082,
          "y": 1.2120399931115435
         },
         {
          "group": "business",
          "x": -1.4231765596626285,
          "y": -0.11626922122055501
         },
         {
          "group": "business",
          "x": -0.30146227310540163,
          "y": -0.8765215929558504
         },
         {
          "group": "business",
          "x": -0.6706652003494509,
          "y": 1.5684233153448734
         },
         {
          "group": "business",
          "x": 0.08953430748343619,
          "y": 0.48945551043906593
         },
         {
          "group": "business",
          "x": -2.2349405724065465,
          "y": 1.1573317055658106
         },
         {
          "group": "business",
          "x": -2.248387529106069,
          "y": 1.0809843774491243
         },
         {
          "group": "business",
          "x": 0.003876513763692839,
          "y": -2.0425069884608056
         },
         {
          "group": "business",
          "x": 1.4977391983416979,
          "y": 0.7391146935636427
         },
         {
          "group": "business",
          "x": -1.0889185108142685,
          "y": -0.16437055500415068
         },
         {
          "group": "business",
          "x": -0.2813964394603089,
          "y": 0.4859382300105651
         },
         {
          "group": "business",
          "x": -0.9051535133298573,
          "y": 0.06340107551016023
         },
         {
          "group": "business",
          "x": 1.2236519891509605,
          "y": -0.4693992396731462
         },
         {
          "group": "business",
          "x": -0.5451253994774382,
          "y": -1.2225875089214144
         },
         {
          "group": "business",
          "x": -0.5049958334173876,
          "y": 0.10442161307299136
         },
         {
          "group": "business",
          "x": -0.13605269621110072,
          "y": -1.7022823173497716
         },
         {
          "group": "business",
          "x": -1.8027874708993255,
          "y": -1.680270144770184
         },
         {
          "group": "business",
          "x": -0.7017778666545569,
          "y": -0.35227946854603076
         },
         {
          "group": "business",
          "x": -0.2845466532030794,
          "y": 1.0308570166404063
         },
         {
          "group": "business",
          "x": 0.7943875953265643,
          "y": 1.2011859771774338
         },
         {
          "group": "business",
          "x": -0.72505384534836,
          "y": -1.0961058729263433
         },
         {
          "group": "business",
          "x": -0.6624366172644603,
          "y": 0.41506132816109853
         },
         {
          "group": "business",
          "x": -0.6207009344515725,
          "y": 0.20992059275941313
         },
         {
          "group": "business",
          "x": 0.29667437466025776,
          "y": 0.022561875047538645
         },
         {
          "group": "business",
          "x": 0.26235298696643466,
          "y": -0.6617893301741955
         },
         {
          "group": "business",
          "x": -0.7109424601613848,
          "y": 0.4547464725447107
         },
         {
          "group": "business",
          "x": -0.4390612787220158,
          "y": -1.9249625903798826
         },
         {
          "group": "business",
          "x": 0.39664935694759823,
          "y": -0.5935857554547265
         },
         {
          "group": "business",
          "x": -1.5086462791046709,
          "y": -0.13820490646906988
         },
         {
          "group": "business",
          "x": 0.003296432651011392,
          "y": 1.2481700117735115
         },
         {
          "group": "business",
          "x": -0.53204561582762,
          "y": 0.07562034982542201
         },
         {
          "group": "business",
          "x": -2.1525768500842055,
          "y": 0.3649736676861338
         },
         {
          "group": "business",
          "x": -0.11320671511093618,
          "y": 0.9956711109859433
         },
         {
          "group": "business",
          "x": -0.14357581638049027,
          "y": -1.2216707911802356
         },
         {
          "group": "business",
          "x": -1.4926382622323682,
          "y": -1.779178380986329
         },
         {
          "group": "business",
          "x": -0.43959253208665827,
          "y": -0.2903735385971197
         },
         {
          "group": "business",
          "x": 0.3829433266162233,
          "y": -0.22540368160384852
         },
         {
          "group": "business",
          "x": -0.9849389011429258,
          "y": 0.014425052077655693
         },
         {
          "group": "business",
          "x": -1.2511186682408915,
          "y": -0.11128136482687832
         },
         {
          "group": "business",
          "x": -1.117963599499094,
          "y": 2.3187362337904887
         },
         {
          "group": "business",
          "x": 1.6756033681399682,
          "y": 0.0954050019685853
         },
         {
          "group": "business",
          "x": 0.45145995878937034,
          "y": 0.24444809277737103
         },
         {
          "group": "business",
          "x": -1.1610214131256271,
          "y": -1.2326904508495768
         },
         {
          "group": "business",
          "x": -1.7932100278830054,
          "y": 0.04807383646855287
         },
         {
          "group": "business",
          "x": 0.25494916171980897,
          "y": -1.16515313646638
         },
         {
          "group": "business",
          "x": -1.2552113890401255,
          "y": 0.6711640884226051
         },
         {
          "group": "business",
          "x": 0.5649431005697546,
          "y": 0.4290217105522904
         },
         {
          "group": "business",
          "x": -2.126878437060297,
          "y": 0.35689195227979964
         },
         {
          "group": "business",
          "x": -1.3588209305444097,
          "y": -0.15874724720374442
         },
         {
          "group": "business",
          "x": -0.4290466576330836,
          "y": 0.6537686725132811
         },
         {
          "group": "business",
          "x": 0.4037868822268154,
          "y": -0.8479093317855445
         },
         {
          "group": "business",
          "x": -1.5724111449094165,
          "y": -0.17781855285913992
         },
         {
          "group": "business",
          "x": -0.5642522279774712,
          "y": -0.6258638097740967
         },
         {
          "group": "business",
          "x": -0.3642959519289868,
          "y": -1.7808010888804886
         },
         {
          "group": "business",
          "x": -0.8666962357890909,
          "y": -2.0006508145825315
         },
         {
          "group": "business",
          "x": -2.2169709450189945,
          "y": -0.796544028806175
         },
         {
          "group": "business",
          "x": -1.2720047462616033,
          "y": 1.4948443732250352
         },
         {
          "group": "business",
          "x": 0.6142133529141273,
          "y": -0.49017633188709786
         },
         {
          "group": "business",
          "x": 1.5152704145670115,
          "y": 0.4467589176365545
         },
         {
          "group": "business",
          "x": -0.3021723577622151,
          "y": 0.21046580120300248
         },
         {
          "group": "business",
          "x": 0.12146812570247263,
          "y": -0.4095623347382935
         },
         {
          "group": "business",
          "x": -0.617215258641371,
          "y": 1.2352815479363852
         },
         {
          "group": "business",
          "x": 0.10399028835742195,
          "y": -0.674265460673525
         },
         {
          "group": "business",
          "x": -1.4830325193727294,
          "y": -0.17375462827972804
         },
         {
          "group": "business",
          "x": -1.0418778143900016,
          "y": 0.02248375371323873
         },
         {
          "group": "business",
          "x": -0.6815485003749723,
          "y": -0.04913496567175765
         },
         {
          "group": "business",
          "x": 0.2082424495960511,
          "y": -1.6890526785138582
         },
         {
          "group": "business",
          "x": -0.9303374672488386,
          "y": -1.389849865003981
         },
         {
          "group": "business",
          "x": -1.1518015272344957,
          "y": -2.2695063165374076
         },
         {
          "group": "business",
          "x": 0.24355517450045414,
          "y": 0.15066826009033576
         },
         {
          "group": "business",
          "x": -1.157026276522321,
          "y": -0.3023098260777492
         },
         {
          "group": "business",
          "x": 0.033320523532542994,
          "y": 0.519241098089436
         },
         {
          "group": "business",
          "x": -0.42976149212585096,
          "y": -0.7434520066130661
         },
         {
          "group": "business",
          "x": -1.9849593806611492,
          "y": -0.6990239359989632
         },
         {
          "group": "business",
          "x": 1.5190216423039344,
          "y": -1.0432168387105432
         },
         {
          "group": "business",
          "x": -0.8244008472450112,
          "y": -1.5119161815086286
         },
         {
          "group": "business",
          "x": 0.37783615418249555,
          "y": -0.8455640369975393
         },
         {
          "group": "business",
          "x": -0.9709588433190981,
          "y": 2.004156349756952
         },
         {
          "group": "business",
          "x": 1.0907003759249951,
          "y": -0.4259694589566488
         },
         {
          "group": "business",
          "x": 1.2457791687191158,
          "y": 0.7962787195780643
         },
         {
          "group": "business",
          "x": 0.09388706616873324,
          "y": -0.4962222306804771
         },
         {
          "group": "business",
          "x": -2.1563070026587488,
          "y": 0.2634489541169633
         },
         {
          "group": "business",
          "x": -0.6163483942297245,
          "y": 0.8100504250565466
         },
         {
          "group": "business",
          "x": -0.9127193524880888,
          "y": -1.4478878382132863
         },
         {
          "group": "business",
          "x": -0.8876066941863062,
          "y": 0.14240120603261433
         },
         {
          "group": "business",
          "x": 0.6532551145775275,
          "y": -2.9863768733358724
         },
         {
          "group": "business",
          "x": -0.13790527421298343,
          "y": -0.6121690208948388
         },
         {
          "group": "business",
          "x": -0.7511630737902943,
          "y": -0.1513296517286631
         },
         {
          "group": "business",
          "x": -1.4329603117966803,
          "y": -1.6750635242146137
         },
         {
          "group": "business",
          "x": 0.8670505326212828,
          "y": -1.0477667218542597
         },
         {
          "group": "business",
          "x": -0.3242390220894822,
          "y": -2.2524672423198258
         },
         {
          "group": "business",
          "x": -1.3593313902865132,
          "y": 0.6752823352814546
         },
         {
          "group": "business",
          "x": 0.09209612833248765,
          "y": -2.0404831605476925
         },
         {
          "group": "business",
          "x": 0.8627203872879976,
          "y": 1.3144484623881687
         },
         {
          "group": "business",
          "x": 0.014148082987582522,
          "y": -1.350184942053765
         },
         {
          "group": "business",
          "x": -0.19864730580691653,
          "y": -0.28543018904726225
         },
         {
          "group": "business",
          "x": 1.3094229939655322,
          "y": -0.5657949982110607
         },
         {
          "group": "business",
          "x": -0.5653345730640719,
          "y": 1.3210752188067623
         },
         {
          "group": "business",
          "x": -1.766505815258466,
          "y": -1.6098338587105359
         },
         {
          "group": "business",
          "x": -0.9262111563586669,
          "y": 0.21396205304354113
         },
         {
          "group": "business",
          "x": -0.7931668238449103,
          "y": 1.3087765842324282
         },
         {
          "group": "business",
          "x": -0.13876051155467076,
          "y": -0.4854947003040082
         },
         {
          "group": "business",
          "x": 0.5004023073950058,
          "y": 0.7378039211715227
         },
         {
          "group": "business",
          "x": -1.4115351097605044,
          "y": -0.38365135666298883
         },
         {
          "group": "business",
          "x": -1.7271953929135002,
          "y": 0.7215442526625419
         },
         {
          "group": "business",
          "x": -0.14112226885460938,
          "y": 0.7871290630264235
         },
         {
          "group": "business",
          "x": 1.2432670524325347,
          "y": 0.12291307564404941
         },
         {
          "group": "business",
          "x": -1.3125428719555117,
          "y": 0.2300303792387223
         },
         {
          "group": "business",
          "x": 1.3106155792188168,
          "y": -0.45258126123539305
         },
         {
          "group": "business",
          "x": -0.5929230199230192,
          "y": -0.8449497757300162
         },
         {
          "group": "business",
          "x": -0.43719017620219786,
          "y": -2.4239877344265786
         },
         {
          "group": "business",
          "x": -1.2069846565682356,
          "y": -0.10111006216684297
         },
         {
          "group": "business",
          "x": -0.7460272643540168,
          "y": 0.18742751406999267
         },
         {
          "group": "business",
          "x": -0.5779010795352972,
          "y": 0.7350791836780524
         },
         {
          "group": "business",
          "x": -1.0215292469021813,
          "y": -0.3591833369385888
         },
         {
          "group": "business",
          "x": -0.841427462332917,
          "y": 1.1435849324323721
         },
         {
          "group": "business",
          "x": 0.43038103803203276,
          "y": 0.38691822813186416
         },
         {
          "group": "business",
          "x": -0.22176651014164664,
          "y": -1.3346098222410094
         },
         {
          "group": "business",
          "x": -0.7426392488679182,
          "y": -1.7956434841509128
         },
         {
          "group": "business",
          "x": 0.3154856393614467,
          "y": -0.636747586484336
         },
         {
          "group": "business",
          "x": -1.1871567467638522,
          "y": -0.12138934691345624
         },
         {
          "group": "business",
          "x": -0.8494734308809834,
          "y": -0.605436968063866
         },
         {
          "group": "business",
          "x": -0.7003916743604819,
          "y": 0.5469408192929777
         },
         {
          "group": "business",
          "x": -1.0090052736306128,
          "y": 0.6887591702296474
         },
         {
          "group": "business",
          "x": -0.5888635770746827,
          "y": 0.9584447521473799
         },
         {
          "group": "business",
          "x": -2.1655444520270937,
          "y": -1.0024916490996247
         },
         {
          "group": "business",
          "x": 0.8323129373338111,
          "y": 0.5615146894540682
         },
         {
          "group": "business",
          "x": -1.796147428571513,
          "y": -0.2770885564045818
         },
         {
          "group": "business",
          "x": -1.2764523998248718,
          "y": 0.601576047725038
         },
         {
          "group": "business",
          "x": -1.617376557123031,
          "y": -0.4738195226270955
         },
         {
          "group": "business",
          "x": -1.3889112854044598,
          "y": -0.4108455696698194
         },
         {
          "group": "business",
          "x": -1.177313954488007,
          "y": -0.5584634815845788
         },
         {
          "group": "business",
          "x": -0.29840308364629914,
          "y": -1.2073774984458812
         },
         {
          "group": "business",
          "x": 0.49491154449211644,
          "y": -0.558489310658704
         },
         {
          "group": "business",
          "x": 0.29671054497756294,
          "y": 0.9069345101436115
         },
         {
          "group": "business",
          "x": -0.8151841976372066,
          "y": 1.5369219675297787
         },
         {
          "group": "business",
          "x": 0.962307648425998,
          "y": 1.146116466025107
         },
         {
          "group": "business",
          "x": -1.6295348897554611,
          "y": 1.217836812760605
         },
         {
          "group": "business",
          "x": -0.6149346262735894,
          "y": 1.0677677951152003
         },
         {
          "group": "business",
          "x": -1.0684045734321939,
          "y": 0.6594047532479007
         },
         {
          "group": "business",
          "x": -0.158225862005886,
          "y": 0.3170809378286694
         },
         {
          "group": "business",
          "x": -1.4329710462486909,
          "y": -1.105809020121341
         },
         {
          "group": "business",
          "x": -1.348563021701145,
          "y": 1.63228938411592
         },
         {
          "group": "business",
          "x": 0.07589819950816783,
          "y": 0.27116910516531817
         },
         {
          "group": "business",
          "x": -2.3651052374371204,
          "y": -0.4603358370768655
         },
         {
          "group": "business",
          "x": -0.8402708621074899,
          "y": 1.9481792660200488
         },
         {
          "group": "business",
          "x": 0.07076333418505207,
          "y": -0.9966719077030864
         },
         {
          "group": "business",
          "x": -1.7617188282278005,
          "y": -1.1209666286375541
         },
         {
          "group": "business",
          "x": -0.5929703342549865,
          "y": 1.9020955763560332
         },
         {
          "group": "business",
          "x": -1.3732148153604076,
          "y": 1.5002691080284807
         },
         {
          "group": "business",
          "x": 0.5363407312700625,
          "y": 0.6507463944653679
         },
         {
          "group": "business",
          "x": -0.6593221666842352,
          "y": 2.5858317071973183
         },
         {
          "group": "business",
          "x": -1.3892448626256122,
          "y": -0.4031016889121995
         },
         {
          "group": "business",
          "x": -0.38022437191137987,
          "y": -1.0631047061506638
         },
         {
          "group": "business",
          "x": 0.02015227208292218,
          "y": 1.308541470135894
         },
         {
          "group": "business",
          "x": -3.4365275782997147,
          "y": -1.0332979290305104
         },
         {
          "group": "business",
          "x": -0.07400594577559916,
          "y": 1.6178209724141368
         },
         {
          "group": "business",
          "x": 1.3998442692955921,
          "y": -1.1986445789415463
         },
         {
          "group": "business",
          "x": -0.4381637626074684,
          "y": 1.623912475495521
         },
         {
          "group": "business",
          "x": -1.1131057441914347,
          "y": 1.0169340660989292
         },
         {
          "group": "business",
          "x": 0.8034672322873488,
          "y": -1.4928741255181082
         },
         {
          "group": "business",
          "x": -0.5533110528153653,
          "y": -1.1552149833665377
         },
         {
          "group": "business",
          "x": -0.9145234099329628,
          "y": 0.2179147984749701
         },
         {
          "group": "business",
          "x": -0.8982957139196661,
          "y": -0.43989623580387993
         },
         {
          "group": "business",
          "x": -2.164667871054768,
          "y": 0.055065629171326
         },
         {
          "group": "business",
          "x": 1.3710583248095698,
          "y": 0.03578095630342791
         },
         {
          "group": "business",
          "x": 0.4954604461071554,
          "y": 0.37225965367773084
         },
         {
          "group": "business",
          "x": -0.5265150722844038,
          "y": -0.5253357272384356
         },
         {
          "group": "business",
          "x": 0.06383780558816832,
          "y": 0.428394504913259
         },
         {
          "group": "business",
          "x": -0.6605801929338547,
          "y": -0.2548220600526496
         },
         {
          "group": "business",
          "x": -0.8124108963650392,
          "y": -1.0953170348683763
         },
         {
          "group": "business",
          "x": 2.196704169680649,
          "y": -0.690121260386108
         },
         {
          "group": "business",
          "x": 1.4136045567987463,
          "y": 1.3186603777348167
         },
         {
          "group": "business",
          "x": -0.4303613481884289,
          "y": -0.0009082700481243152
         },
         {
          "group": "business",
          "x": -1.9485589199776976,
          "y": -0.01609258737206104
         },
         {
          "group": "business",
          "x": -1.1129181570036315,
          "y": -0.5044070459720463
         },
         {
          "group": "business",
          "x": -0.5948767087642055,
          "y": 0.5267606455549743
         },
         {
          "group": "business",
          "x": 0.580638973369467,
          "y": -2.1088950786571115
         },
         {
          "group": "business",
          "x": 1.3377626128607056,
          "y": 0.8071327965805808
         },
         {
          "group": "business",
          "x": -0.807977897710729,
          "y": -0.9743308596920959
         },
         {
          "group": "business",
          "x": 1.108974930738181,
          "y": -0.2810435491541428
         },
         {
          "group": "business",
          "x": 1.5587244353748666,
          "y": 0.04121529937126867
         },
         {
          "group": "business",
          "x": 1.1971993051666776,
          "y": -0.6360814681853489
         },
         {
          "group": "business",
          "x": -0.7249527883289864,
          "y": 0.24503515220674624
         },
         {
          "group": "business",
          "x": 0.037551572252761733,
          "y": 0.38630554534226896
         },
         {
          "group": "business",
          "x": -3.5676756511075145,
          "y": -0.7035929996270851
         },
         {
          "group": "business",
          "x": 0.18305636876244483,
          "y": 1.1224202534642271
         },
         {
          "group": "business",
          "x": 0.6714106696984617,
          "y": 0.030262472973062306
         },
         {
          "group": "business",
          "x": 1.0172689605927057,
          "y": -1.8187104973832848
         },
         {
          "group": "business",
          "x": -1.1706140902505764,
          "y": -0.21235237881250713
         },
         {
          "group": "business",
          "x": -0.010984143009548671,
          "y": -0.3724663947285993
         },
         {
          "group": "business",
          "x": 1.7811666134875161,
          "y": 1.4232983847370635
         },
         {
          "group": "business",
          "x": -0.8476294726900354,
          "y": -0.03882320339757643
         },
         {
          "group": "business",
          "x": -0.7938573892795109,
          "y": 0.6194031284356186
         },
         {
          "group": "business",
          "x": -0.5185879381154289,
          "y": 0.31788870536265545
         },
         {
          "group": "business",
          "x": 0.0019442885257129855,
          "y": 0.5182093038762793
         },
         {
          "group": "business",
          "x": 0.8874938650267342,
          "y": -0.7976762001522177
         },
         {
          "group": "business",
          "x": 0.37056162510070323,
          "y": 2.1703378617467295
         },
         {
          "group": "business",
          "x": -1.3274818686312402,
          "y": 0.9018841168015234
         },
         {
          "group": "business",
          "x": -0.04314681880397444,
          "y": 1.0036067668522102
         },
         {
          "group": "business",
          "x": -1.3112555905730279,
          "y": 0.5128165269699595
         },
         {
          "group": "business",
          "x": 1.3381187073612786,
          "y": 0.03978556345503954
         },
         {
          "group": "business",
          "x": 1.2756923137883849,
          "y": 0.11705067595406382
         },
         {
          "group": "business",
          "x": 0.9609036023810943,
          "y": 1.5562220516359278
         },
         {
          "group": "business",
          "x": -1.2173683410579446,
          "y": -0.5644326286591256
         },
         {
          "group": "business",
          "x": -2.2026655692193264,
          "y": -0.39589394107043024
         },
         {
          "group": "business",
          "x": -1.340062086424156,
          "y": -0.6894468104024468
         },
         {
          "group": "business",
          "x": -0.9983130452099054,
          "y": -0.036473856861382735
         },
         {
          "group": "business",
          "x": -1.58637515102115,
          "y": 1.1548285653364896
         },
         {
          "group": "business",
          "x": 1.086833833920361,
          "y": -0.5560586222928826
         },
         {
          "group": "business",
          "x": -0.9377553161593966,
          "y": 0.2629045140699928
         },
         {
          "group": "business",
          "x": -0.7877948233213096,
          "y": 0.09632936827664264
         },
         {
          "group": "business",
          "x": 1.565047022347809,
          "y": 0.774061700875106
         },
         {
          "group": "business",
          "x": -0.43515344452483384,
          "y": 1.0045483439969933
         },
         {
          "group": "business",
          "x": -0.08076750513029439,
          "y": 0.6426681059993531
         },
         {
          "group": "business",
          "x": -0.2115407043606285,
          "y": -2.713408970280765
         },
         {
          "group": "business",
          "x": -0.9256316145045771,
          "y": 1.4679101814294322
         },
         {
          "group": "business",
          "x": -0.8792532496865825,
          "y": 1.6533224327015228
         },
         {
          "group": "business",
          "x": 0.19172408077056322,
          "y": 0.563127549433954
         },
         {
          "group": "business",
          "x": -0.02093513333622162,
          "y": -0.17596075789672758
         },
         {
          "group": "business",
          "x": -0.20341037835465642,
          "y": -0.832422184906337
         },
         {
          "group": "business",
          "x": -0.2996331684225202,
          "y": -0.5244232169847888
         },
         {
          "group": "business",
          "x": 0.2823932592967022,
          "y": 0.2488403063873802
         },
         {
          "group": "business",
          "x": -1.825270980535398,
          "y": -0.47072799840733787
         },
         {
          "group": "business",
          "x": -1.7691390483518108,
          "y": -0.025579075170157024
         },
         {
          "group": "business",
          "x": 0.9989116288192637,
          "y": 1.1805550625188703
         },
         {
          "group": "business",
          "x": -0.9519345919300052,
          "y": 2.0189797477253326
         },
         {
          "group": "business",
          "x": -0.2974180434784967,
          "y": -0.711517954147301
         },
         {
          "group": "business",
          "x": 2.099824563845778,
          "y": -0.4070439176410359
         },
         {
          "group": "business",
          "x": 0.2347526063781123,
          "y": 0.7974234817112864
         },
         {
          "group": "business",
          "x": -2.4798615768284162,
          "y": 0.6206445661559639
         },
         {
          "group": "business",
          "x": 0.34188182100464226,
          "y": -0.652419315670724
         },
         {
          "group": "business",
          "x": -1.5080628692885973,
          "y": -1.1143917468678184
         },
         {
          "group": "business",
          "x": -0.6788171513134771,
          "y": -0.1511234148117238
         },
         {
          "group": "business",
          "x": -0.8540743476516338,
          "y": 2.8910524256615546
         },
         {
          "group": "business",
          "x": -2.7422524451065873,
          "y": 1.2070938445098511
         },
         {
          "group": "business",
          "x": 1.6553567431283616,
          "y": -0.07337007222127082
         },
         {
          "group": "business",
          "x": -0.69773324077986,
          "y": -1.2372963622475752
         },
         {
          "group": "business",
          "x": -1.6245157930859702,
          "y": 0.20148351321108832
         },
         {
          "group": "business",
          "x": -1.2335267571317223,
          "y": -0.25592645076953585
         },
         {
          "group": "business",
          "x": 0.5254899444528228,
          "y": 0.4875564650427088
         }
        ]
       },
       "encoding": {
        "color": {
         "field": "group",
         "type": "nominal"
        },
        "x": {
         "field": "x",
         "type": "quantitative"
        },
        "y": {
         "field": "y",
         "type": "quantitative"
        }
       },
       "mark": "point"
      },
      "image/png": "[encoded data removed]",
      "text/plain": [
       "<VegaLite 2 object>\n",
       "\n",
       "If you see this message, it means the renderer has not been properly enabled\n",
       "for the frontend that you are using. For more information, see\n",
       "https://altair-viz.github.io/user_guide/troubleshooting.html\n"
      ]
     },
     "execution_count": 26,
     "metadata": {},
     "output_type": "execute_result"
    }
   ],
   "source": [
    "alt.Chart(bbc_2d[bbc_2d[\"group\"].isin([\"sport\", \"business\"])]).mark_point().encode(x=\"x\", y=\"y\", color=\"group\")"
   ]
  },
  {
   "cell_type": "code",
   "execution_count": null,
   "metadata": {},
   "outputs": [],
   "source": []
  }
 ],
 "metadata": {
  "kernelspec": {
   "display_name": "Python 3",
   "language": "python",
   "name": "python3"
  },
  "language_info": {
   "codemirror_mode": {
    "name": "ipython",
    "version": 3
   },
   "file_extension": ".py",
   "mimetype": "text/x-python",
   "name": "python",
   "nbconvert_exporter": "python",
   "pygments_lexer": "ipython3",
   "version": "3.7.2"
  }
 },
 "nbformat": 4,
 "nbformat_minor": 2
}
