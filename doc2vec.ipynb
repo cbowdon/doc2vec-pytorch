{
 "cells": [
  {
   "cell_type": "markdown",
   "metadata": {},
   "source": [
    "Doc2vec from scratch in PyTorch\n",
    "===============================\n",
    "\n",
    "Here we are implementing this useful algorithm with a library we know and trust. With luck this will be more accessible than reading the papers but more in-depth than typical \"install gensim and just do what I say\" tutorials, and still easy to understand for anyone whose maths skills have atrophied to nothing (like me). This is all based on the great work by [Nejc Ilenic](https://github.com/ilenic/paragraph-vectors) and reading the referenced papers.\n",
    "\n",
    "The basic form of `word2vec` (and so `doc2vec`) is that it is a classifier trained to predict the missing word in a context. So given sentences like \"the cat _ on the mat\" it should predict \"sat\", and so learn a useful representation of words. We can then extract the internal weights and re-use them as \"word embeddings\", vectors giving each word a position in N-dimensional space that is hopefully close to similar words and an appropriate distance from related words. \n",
    "\n",
    "`doc2vec` or \"Paragraph vectors\" extends the `word2vec` idea by simply adding a document id to each context. This helps the network learn associations between contexts (but of course produces less generalizable vectors)."
   ]
  },
  {
   "cell_type": "markdown",
   "metadata": {},
   "source": [
    "First we need to load the data. We'll by overfitting on a tiny dataset just to check all the parts fit together."
   ]
  },
  {
   "cell_type": "code",
   "execution_count": 1,
   "metadata": {},
   "outputs": [
    {
     "data": {
      "text/html": [
       "<div>\n",
       "<style scoped>\n",
       "    .dataframe tbody tr th:only-of-type {\n",
       "        vertical-align: middle;\n",
       "    }\n",
       "\n",
       "    .dataframe tbody tr th {\n",
       "        vertical-align: top;\n",
       "    }\n",
       "\n",
       "    .dataframe thead th {\n",
       "        text-align: right;\n",
       "    }\n",
       "</style>\n",
       "<table border=\"1\" class=\"dataframe\">\n",
       "  <thead>\n",
       "    <tr style=\"text-align: right;\">\n",
       "      <th></th>\n",
       "      <th>text</th>\n",
       "      <th>tokens</th>\n",
       "    </tr>\n",
       "  </thead>\n",
       "  <tbody>\n",
       "    <tr>\n",
       "      <th>0</th>\n",
       "      <td>In the week before their departure to Arrakis, when all the final scurrying about had reached a ...</td>\n",
       "      <td>[in, the, week, before, their, departure, to, arrakis, when, all, the, final, scurrying, about, ...</td>\n",
       "    </tr>\n",
       "    <tr>\n",
       "      <th>1</th>\n",
       "      <td>It was a warm night at Castle Caladan, and the ancient pile of stone that had served the Atreide...</td>\n",
       "      <td>[it, was, a, warm, night, at, castle, caladan, and, the, ancient, pile, of, stone, that, had, se...</td>\n",
       "    </tr>\n",
       "    <tr>\n",
       "      <th>2</th>\n",
       "      <td>The old woman was let in by the side door down the vaulted passage by Paul's room and she was al...</td>\n",
       "      <td>[the, old, woman, was, let, in, by, the, side, door, down, the, vaulted, passage, by, paul, room...</td>\n",
       "    </tr>\n",
       "    <tr>\n",
       "      <th>3</th>\n",
       "      <td>By the half-light of a suspensor lamp, dimmed and hanging near the floor, the awakened boy could...</td>\n",
       "      <td>[by, the, half, light, of, a, suspensor, lamp, dimmed, and, hanging, near, the, floor, the, awak...</td>\n",
       "    </tr>\n",
       "  </tbody>\n",
       "</table>\n",
       "</div>"
      ],
      "text/plain": [
       "                                                                                                  text  \\\n",
       "0  In the week before their departure to Arrakis, when all the final scurrying about had reached a ...   \n",
       "1  It was a warm night at Castle Caladan, and the ancient pile of stone that had served the Atreide...   \n",
       "2  The old woman was let in by the side door down the vaulted passage by Paul's room and she was al...   \n",
       "3  By the half-light of a suspensor lamp, dimmed and hanging near the floor, the awakened boy could...   \n",
       "\n",
       "                                                                                                tokens  \n",
       "0  [in, the, week, before, their, departure, to, arrakis, when, all, the, final, scurrying, about, ...  \n",
       "1  [it, was, a, warm, night, at, castle, caladan, and, the, ancient, pile, of, stone, that, had, se...  \n",
       "2  [the, old, woman, was, let, in, by, the, side, door, down, the, vaulted, passage, by, paul, room...  \n",
       "3  [by, the, half, light, of, a, suspensor, lamp, dimmed, and, hanging, near, the, floor, the, awak...  "
      ]
     },
     "execution_count": 1,
     "metadata": {},
     "output_type": "execute_result"
    }
   ],
   "source": [
    "import pandas as pd\n",
    "import spacy\n",
    "\n",
    "nlp = spacy.load(\"en_core_web_sm\")\n",
    "\n",
    "pd.set_option(\"display.max_colwidth\", 100)\n",
    "\n",
    "example_df = pd.read_csv(\"data/example.csv\")\n",
    "\n",
    "def tokenize_text(df):\n",
    "    df[\"tokens\"] = df.text.str.lower().str.strip().apply(lambda x: [token.text.strip() for token in nlp(x) if token.text.isalnum()])\n",
    "    return df\n",
    "\n",
    "example_df = tokenize_text(example_df)\n",
    "\n",
    "example_df"
   ]
  },
  {
   "cell_type": "markdown",
   "metadata": {},
   "source": [
    "We will need to construct a vocabulary so we can reference every word by an ID."
   ]
  },
  {
   "cell_type": "code",
   "execution_count": 2,
   "metadata": {},
   "outputs": [
    {
     "name": "stdout",
     "output_type": "stream",
     "text": [
      "Dataset comprises 4 documents and 106 unique words (over the limit of 1 occurrences)\n"
     ]
    }
   ],
   "source": [
    "from collections import Counter\n",
    "\n",
    "class Vocab:\n",
    "    def __init__(self, all_tokens, min_count=2):\n",
    "        self.min_count = min_count\n",
    "        self.freqs = {t:n for t, n in Counter(all_tokens).items() if n >= min_count}\n",
    "        self.words = sorted(self.freqs.keys())\n",
    "        self.word2idx = {w: i for i, w in enumerate(self.words)}\n",
    "        \n",
    "vocab = Vocab([tok for tokens in example_df.tokens for tok in tokens], min_count=1)\n",
    "\n",
    "print(f\"Dataset comprises {len(example_df)} documents and {len(vocab.words)} unique words (over the limit of {vocab.min_count} occurrences)\")"
   ]
  },
  {
   "cell_type": "markdown",
   "metadata": {},
   "source": [
    "Words that appear extremely rarely can harm performance, so we add a simple mechanism to strip those out."
   ]
  },
  {
   "cell_type": "code",
   "execution_count": 3,
   "metadata": {},
   "outputs": [
    {
     "data": {
      "text/html": [
       "<div>\n",
       "<style scoped>\n",
       "    .dataframe tbody tr th:only-of-type {\n",
       "        vertical-align: middle;\n",
       "    }\n",
       "\n",
       "    .dataframe tbody tr th {\n",
       "        vertical-align: top;\n",
       "    }\n",
       "\n",
       "    .dataframe thead th {\n",
       "        text-align: right;\n",
       "    }\n",
       "</style>\n",
       "<table border=\"1\" class=\"dataframe\">\n",
       "  <thead>\n",
       "    <tr style=\"text-align: right;\">\n",
       "      <th></th>\n",
       "      <th>text</th>\n",
       "      <th>tokens</th>\n",
       "      <th>length</th>\n",
       "      <th>clean_tokens</th>\n",
       "      <th>clean_length</th>\n",
       "    </tr>\n",
       "  </thead>\n",
       "  <tbody>\n",
       "    <tr>\n",
       "      <th>0</th>\n",
       "      <td>In the week before their departure to Arrakis, when all the final scurrying about had reached a ...</td>\n",
       "      <td>[in, the, week, before, their, departure, to, arrakis, when, all, the, final, scurrying, about, ...</td>\n",
       "      <td>32</td>\n",
       "      <td>[in, the, week, before, their, departure, to, arrakis, when, all, the, final, scurrying, about, ...</td>\n",
       "      <td>32</td>\n",
       "    </tr>\n",
       "    <tr>\n",
       "      <th>1</th>\n",
       "      <td>It was a warm night at Castle Caladan, and the ancient pile of stone that had served the Atreide...</td>\n",
       "      <td>[it, was, a, warm, night, at, castle, caladan, and, the, ancient, pile, of, stone, that, had, se...</td>\n",
       "      <td>39</td>\n",
       "      <td>[it, was, a, warm, night, at, castle, caladan, and, the, ancient, pile, of, stone, that, had, se...</td>\n",
       "      <td>39</td>\n",
       "    </tr>\n",
       "    <tr>\n",
       "      <th>2</th>\n",
       "      <td>The old woman was let in by the side door down the vaulted passage by Paul's room and she was al...</td>\n",
       "      <td>[the, old, woman, was, let, in, by, the, side, door, down, the, vaulted, passage, by, paul, room...</td>\n",
       "      <td>34</td>\n",
       "      <td>[the, old, woman, was, let, in, by, the, side, door, down, the, vaulted, passage, by, paul, room...</td>\n",
       "      <td>34</td>\n",
       "    </tr>\n",
       "    <tr>\n",
       "      <th>3</th>\n",
       "      <td>By the half-light of a suspensor lamp, dimmed and hanging near the floor, the awakened boy could...</td>\n",
       "      <td>[by, the, half, light, of, a, suspensor, lamp, dimmed, and, hanging, near, the, floor, the, awak...</td>\n",
       "      <td>53</td>\n",
       "      <td>[by, the, half, light, of, a, suspensor, lamp, dimmed, and, hanging, near, the, floor, the, awak...</td>\n",
       "      <td>53</td>\n",
       "    </tr>\n",
       "  </tbody>\n",
       "</table>\n",
       "</div>"
      ],
      "text/plain": [
       "                                                                                                  text  \\\n",
       "0  In the week before their departure to Arrakis, when all the final scurrying about had reached a ...   \n",
       "1  It was a warm night at Castle Caladan, and the ancient pile of stone that had served the Atreide...   \n",
       "2  The old woman was let in by the side door down the vaulted passage by Paul's room and she was al...   \n",
       "3  By the half-light of a suspensor lamp, dimmed and hanging near the floor, the awakened boy could...   \n",
       "\n",
       "                                                                                                tokens  \\\n",
       "0  [in, the, week, before, their, departure, to, arrakis, when, all, the, final, scurrying, about, ...   \n",
       "1  [it, was, a, warm, night, at, castle, caladan, and, the, ancient, pile, of, stone, that, had, se...   \n",
       "2  [the, old, woman, was, let, in, by, the, side, door, down, the, vaulted, passage, by, paul, room...   \n",
       "3  [by, the, half, light, of, a, suspensor, lamp, dimmed, and, hanging, near, the, floor, the, awak...   \n",
       "\n",
       "   length  \\\n",
       "0      32   \n",
       "1      39   \n",
       "2      34   \n",
       "3      53   \n",
       "\n",
       "                                                                                          clean_tokens  \\\n",
       "0  [in, the, week, before, their, departure, to, arrakis, when, all, the, final, scurrying, about, ...   \n",
       "1  [it, was, a, warm, night, at, castle, caladan, and, the, ancient, pile, of, stone, that, had, se...   \n",
       "2  [the, old, woman, was, let, in, by, the, side, door, down, the, vaulted, passage, by, paul, room...   \n",
       "3  [by, the, half, light, of, a, suspensor, lamp, dimmed, and, hanging, near, the, floor, the, awak...   \n",
       "\n",
       "   clean_length  \n",
       "0            32  \n",
       "1            39  \n",
       "2            34  \n",
       "3            53  "
      ]
     },
     "execution_count": 3,
     "metadata": {},
     "output_type": "execute_result"
    }
   ],
   "source": [
    "def clean_tokens(df, vocab):\n",
    "    df[\"length\"] = df.tokens.apply(len)\n",
    "    df[\"clean_tokens\"] = df.tokens.apply(lambda x: [t for t in x if t in vocab.freqs.keys()])\n",
    "    df[\"clean_length\"] = df.clean_tokens.apply(len)\n",
    "    return df\n",
    "\n",
    "example_df = clean_tokens(example_df, vocab)\n",
    "example_df[:5]"
   ]
  },
  {
   "cell_type": "markdown",
   "metadata": {},
   "source": [
    "The difficulty with our \"the cat _ on the mat\" problem is that the missing word could be any one in the vocabulary V and so the network would have |V| outputs for each input e.g. a huge vector containing zero for every word in the vocabulary and some positive number for \"sat\" if the network was perfectly trained. For calculating loss we need to turn that into a probabilty distribution, i.e. _softmax_ it. Computing the softmax for such a large vector is expensive.\n",
    "\n",
    "So the trick (one of many possible) we will use is _Noise Contrastive Estimation (NCE)_. We change our \"the cat _ on the mat\" problem into a multiple choice problem, asking the network to choose between \"sat\" and some random wrong answers like \"hopscotch\" and \"luxuriated\". This is easier to compute the softmax for since it's now a binary classifier (right or wrong answer) and the output is simply of a vector of size 1 + k where k is the number of random incorrect options.\n",
    "\n",
    "Happily, this alternative problem still learns equally useful word representations. We just need to adjust the examples and the loss function. There is a simplified version of the NCE loss function called _Negative Sampling (NEG)_ that we can use here.\n",
    "\n",
    "[Notes on Noise Contrastive Estimation and Negative Sampling (C. Dyer)](https://arxiv.org/abs/1410.8251) explains the derivation of the NCE and NEG loss functions.\n",
    "\n",
    "When we implement the loss function, we assume that the first element in a samples/scores vector is the score for the positive sample and the rest are negative samples. This convention saves us from having to pass around an auxiliary vector indicating which sample was positive."
   ]
  },
  {
   "cell_type": "code",
   "execution_count": 4,
   "metadata": {},
   "outputs": [],
   "source": [
    "import torch.nn as nn\n",
    "\n",
    "class NegativeSampling(nn.Module):\n",
    "    def __init__(self):\n",
    "        super(NegativeSampling, self).__init__()\n",
    "        self.log_sigmoid = nn.LogSigmoid()\n",
    "    def forward(self, scores):\n",
    "        batch_size = scores.shape[0]\n",
    "        n_negative_samples = scores.shape[1] - 1   # TODO average or sum the negative samples? Summing seems to be correct by the paper\n",
    "        positive = self.log_sigmoid(scores[:,0])\n",
    "        negatives = torch.sum(self.log_sigmoid(-scores[:,1:]), dim=1)\n",
    "        return -torch.sum(positive + negatives) / batch_size  # average for batch\n",
    "\n",
    "loss = NegativeSampling()"
   ]
  },
  {
   "cell_type": "markdown",
   "metadata": {},
   "source": [
    "It's helpful to play with some values to reassure ourselves that this function does the right thing."
   ]
  },
  {
   "cell_type": "code",
   "execution_count": 5,
   "metadata": {},
   "outputs": [
    {
     "data": {
      "text/html": [
       "<div>\n",
       "<style scoped>\n",
       "    .dataframe tbody tr th:only-of-type {\n",
       "        vertical-align: middle;\n",
       "    }\n",
       "\n",
       "    .dataframe tbody tr th {\n",
       "        vertical-align: top;\n",
       "    }\n",
       "\n",
       "    .dataframe thead th {\n",
       "        text-align: right;\n",
       "    }\n",
       "</style>\n",
       "<table border=\"1\" class=\"dataframe\">\n",
       "  <thead>\n",
       "    <tr style=\"text-align: right;\">\n",
       "      <th></th>\n",
       "      <th>scores</th>\n",
       "      <th>loss</th>\n",
       "    </tr>\n",
       "  </thead>\n",
       "  <tbody>\n",
       "    <tr>\n",
       "      <th>0</th>\n",
       "      <td>[1, -1, -1, -1]</td>\n",
       "      <td>tensor(1.2530)</td>\n",
       "    </tr>\n",
       "    <tr>\n",
       "      <th>1</th>\n",
       "      <td>[0.5, -1, -1, -1]</td>\n",
       "      <td>tensor(1.4139)</td>\n",
       "    </tr>\n",
       "    <tr>\n",
       "      <th>2</th>\n",
       "      <td>[0, -1, -1, -1]</td>\n",
       "      <td>tensor(1.6329)</td>\n",
       "    </tr>\n",
       "    <tr>\n",
       "      <th>3</th>\n",
       "      <td>[0, 0, 0, 0]</td>\n",
       "      <td>tensor(2.7726)</td>\n",
       "    </tr>\n",
       "    <tr>\n",
       "      <th>4</th>\n",
       "      <td>[0, 0, 0, 1]</td>\n",
       "      <td>tensor(3.3927)</td>\n",
       "    </tr>\n",
       "    <tr>\n",
       "      <th>5</th>\n",
       "      <td>[0, 1, 1, 1]</td>\n",
       "      <td>tensor(4.6329)</td>\n",
       "    </tr>\n",
       "    <tr>\n",
       "      <th>6</th>\n",
       "      <td>[0.5, 1, 1, 1]</td>\n",
       "      <td>tensor(4.4139)</td>\n",
       "    </tr>\n",
       "    <tr>\n",
       "      <th>7</th>\n",
       "      <td>[1, 1, 1, 1]</td>\n",
       "      <td>tensor(4.2530)</td>\n",
       "    </tr>\n",
       "  </tbody>\n",
       "</table>\n",
       "</div>"
      ],
      "text/plain": [
       "              scores            loss\n",
       "0    [1, -1, -1, -1]  tensor(1.2530)\n",
       "1  [0.5, -1, -1, -1]  tensor(1.4139)\n",
       "2    [0, -1, -1, -1]  tensor(1.6329)\n",
       "3       [0, 0, 0, 0]  tensor(2.7726)\n",
       "4       [0, 0, 0, 1]  tensor(3.3927)\n",
       "5       [0, 1, 1, 1]  tensor(4.6329)\n",
       "6     [0.5, 1, 1, 1]  tensor(4.4139)\n",
       "7       [1, 1, 1, 1]  tensor(4.2530)"
      ]
     },
     "execution_count": 5,
     "metadata": {},
     "output_type": "execute_result"
    }
   ],
   "source": [
    "import torch \n",
    "\n",
    "data = [[[1, -1, -1, -1]],  # this dummy data uses -1 to 1, but the real model is unconstrained\n",
    "        [[0.5, -1, -1, -1]],\n",
    "        [[0, -1, -1, -1]],\n",
    "        [[0, 0, 0, 0]],\n",
    "        [[0, 0, 0, 1]],\n",
    "        [[0, 1, 1, 1]],\n",
    "        [[0.5, 1, 1, 1]],\n",
    "        [[1, 1, 1, 1]]]\n",
    "\n",
    "loss_df = pd.DataFrame(data, columns=[\"scores\"])\n",
    "loss_df[\"loss\"] = loss_df.scores.apply(lambda x: loss(torch.FloatTensor([x])))\n",
    "\n",
    "loss_df"
   ]
  },
  {
   "cell_type": "markdown",
   "metadata": {},
   "source": [
    "Higher scores for the positive sample (always the first element) reduce the loss but higher scores for the negative samples increase the loss. This looks like the right behaviour."
   ]
  },
  {
   "cell_type": "markdown",
   "metadata": {},
   "source": [
    "With that in the bag, let's look at creating training data. The general idea is to create a set of examples where each example has:\n",
    "\n",
    "- doc id\n",
    "- sample ids - a collection of the target token and some noise tokens\n",
    "- context ids - tokens before and after the target token\n",
    "\n",
    "e.g. If our context size was 2, the first example from the above dataset would be:\n",
    "\n",
    "```\n",
    "{\"doc_id\": 0,\n",
    " \"sample_ids\": [word2idx[x] for x in [\"week\", \"random-word-from-vocab\", \"random-word-from-vocab\"...],\n",
    " \"context_ids\": [word2idx[x] for x in [\"in\", \"the\", \"before\", \"their\"]]}\n",
    " ```\n",
    " \n",
    " The random words are chosen according to a probability distribution:\n",
    " \n",
    " > a unigram distribution raised to the 3/4rd power, as proposed by T. Mikolov et al. in Distributed Representations of Words and Phrases and their Compositionality\n",
    "\n",
    "This has the effect of slightly increasing the relative probability of rare words (look at the graph of `y=x^0.75` below and see how the lower end is raised above `y=x`)."
   ]
  },
  {
   "cell_type": "code",
   "execution_count": 6,
   "metadata": {},
   "outputs": [
    {
     "data": {
      "application/vnd.vegalite.v2+json": {
       "$schema": "https://vega.github.io/schema/vega-lite/v2.6.0.json",
       "config": {
        "view": {
         "height": 300,
         "width": 400
        }
       },
       "data": {
        "name": "data-afc3dc0951a9e12875119a5af86e52b5"
       },
       "datasets": {
        "data-afc3dc0951a9e12875119a5af86e52b5": [
         {
          "x": 0,
          "y": 0
         },
         {
          "x": 0.01,
          "y": 0.03162277660168379
         },
         {
          "x": 0.02,
          "y": 0.053182958969449884
         },
         {
          "x": 0.03,
          "y": 0.07208434242404263
         },
         {
          "x": 0.04,
          "y": 0.08944271909999159
         },
         {
          "x": 0.05,
          "y": 0.10573712634405642
         },
         {
          "x": 0.06,
          "y": 0.12123093028059741
         },
         {
          "x": 0.07,
          "y": 0.13608915892697748
         },
         {
          "x": 0.08,
          "y": 0.15042412372345573
         },
         {
          "x": 0.09,
          "y": 0.16431676725154984
         },
         {
          "x": 0.1,
          "y": 0.1778279410038923
         },
         {
          "x": 0.11,
          "y": 0.19100490227716513
         },
         {
          "x": 0.12,
          "y": 0.2038853093816547
         },
         {
          "x": 0.13,
          "y": 0.2164998073464082
         },
         {
          "x": 0.14,
          "y": 0.22887377179317683
         },
         {
          "x": 0.15,
          "y": 0.2410285256833955
         },
         {
          "x": 0.16,
          "y": 0.25298221281347033
         },
         {
          "x": 0.17,
          "y": 0.26475044029330763
         },
         {
          "x": 0.18,
          "y": 0.2763467610958144
         },
         {
          "x": 0.19,
          "y": 0.28778304315451386
         },
         {
          "x": 0.2,
          "y": 0.29906975624424414
         },
         {
          "x": 0.21,
          "y": 0.3102161981490854
         },
         {
          "x": 0.22,
          "y": 0.32123067524150845
         },
         {
          "x": 0.23,
          "y": 0.33212064831351956
         },
         {
          "x": 0.24,
          "y": 0.34289285156385596
         },
         {
          "x": 0.25,
          "y": 0.3535533905932738
         },
         {
          "x": 0.26,
          "y": 0.3641078238014289
         },
         {
          "x": 0.27,
          "y": 0.37456123052590357
         },
         {
          "x": 0.28,
          "y": 0.38491826849295824
         },
         {
          "x": 0.29,
          "y": 0.39518322257770583
         },
         {
          "x": 0.3,
          "y": 0.4053600464421103
         },
         {
          "x": 0.31,
          "y": 0.41545239829339137
         },
         {
          "x": 0.32,
          "y": 0.42546367175559907
         },
         {
          "x": 0.33,
          "y": 0.43539702265375557
         },
         {
          "x": 0.34,
          "y": 0.4452553923589699
         },
         {
          "x": 0.35000000000000003,
          "y": 0.45504152822405847
         },
         {
          "x": 0.36,
          "y": 0.46475800154489
         },
         {
          "x": 0.37,
          "y": 0.47440722340731084
         },
         {
          "x": 0.38,
          "y": 0.4839914587188715
         },
         {
          "x": 0.39,
          "y": 0.4935128386754873
         },
         {
          "x": 0.4,
          "y": 0.5029733718731741
         },
         {
          "x": 0.41000000000000003,
          "y": 0.5123749542422491
         },
         {
          "x": 0.42,
          "y": 0.5217193779544038
         },
         {
          "x": 0.43,
          "y": 0.5310083394307343
         },
         {
          "x": 0.44,
          "y": 0.5402434465602292
         },
         {
          "x": 0.45,
          "y": 0.549426225222706
         },
         {
          "x": 0.46,
          "y": 0.5585581251971565
         },
         {
          "x": 0.47000000000000003,
          "y": 0.5676405255254853
         },
         {
          "x": 0.48,
          "y": 0.576674739392341
         },
         {
          "x": 0.49,
          "y": 0.5856620185738529
         },
         {
          "x": 0.5,
          "y": 0.5946035575013605
         },
         {
          "x": 0.51,
          "y": 0.6035004969804791
         },
         {
          "x": 0.52,
          "y": 0.6123539276009055
         },
         {
          "x": 0.53,
          "y": 0.6211648928681236
         },
         {
          "x": 0.54,
          "y": 0.629934392084505
         },
         {
          "x": 0.55,
          "y": 0.6386633830041155
         },
         {
          "x": 0.56,
          "y": 0.6473527842827909
         },
         {
          "x": 0.5700000000000001,
          "y": 0.6560034777426358
         },
         {
          "x": 0.58,
          "y": 0.6646163104680073
         },
         {
          "x": 0.59,
          "y": 0.6731920967482075
         },
         {
          "x": 0.6,
          "y": 0.6817316198804996
         },
         {
          "x": 0.61,
          "y": 0.6902356338456498
         },
         {
          "x": 0.62,
          "y": 0.6987048648669424
         },
         {
          "x": 0.63,
          "y": 0.7071400128625219
         },
         {
          "x": 0.64,
          "y": 0.7155417527999327
         },
         {
          "x": 0.65,
          "y": 0.7239107359608682
         },
         {
          "x": 0.66,
          "y": 0.7322475911233668
         },
         {
          "x": 0.67,
          "y": 0.7405529256680135
         },
         {
          "x": 0.68,
          "y": 0.7488273266140879
         },
         {
          "x": 0.6900000000000001,
          "y": 0.7570713615910638
         },
         {
          "x": 0.7000000000000001,
          "y": 0.7652855797503655
         },
         {
          "x": 0.71,
          "y": 0.7734705126218591
         },
         {
          "x": 0.72,
          "y": 0.7816266749191567
         },
         {
          "x": 0.73,
          "y": 0.7897545652974598
         },
         {
          "x": 0.74,
          "y": 0.7978546670673515
         },
         {
          "x": 0.75,
          "y": 0.8059274488676564
         },
         {
          "x": 0.76,
          "y": 0.8139733653002305
         },
         {
          "x": 0.77,
          "y": 0.8219928575293057
         },
         {
          "x": 0.78,
          "y": 0.829986353847804
         },
         {
          "x": 0.79,
          "y": 0.837954270212839
         },
         {
          "x": 0.8,
          "y": 0.8458970107524514
         },
         {
          "x": 0.81,
          "y": 0.8538149682454624
         },
         {
          "x": 0.8200000000000001,
          "y": 0.8617085245761865
         },
         {
          "x": 0.8300000000000001,
          "y": 0.869578051165608
         },
         {
          "x": 0.84,
          "y": 0.8774239093805121
         },
         {
          "x": 0.85,
          "y": 0.8852464509219427
         },
         {
          "x": 0.86,
          "y": 0.8930460181942644
         },
         {
          "x": 0.87,
          "y": 0.9008229446560111
         },
         {
          "x": 0.88,
          "y": 0.9085775551536168
         },
         {
          "x": 0.89,
          "y": 0.9163101662390513
         },
         {
          "x": 0.9,
          "y": 0.9240210864723069
         },
         {
          "x": 0.91,
          "y": 0.9317106167096201
         },
         {
          "x": 0.92,
          "y": 0.9393790503782488
         },
         {
          "x": 0.93,
          "y": 0.9470266737385726
         },
         {
          "x": 0.9400000000000001,
          "y": 0.9546537661342305
         },
         {
          "x": 0.9500000000000001,
          "y": 0.9622606002309622
         },
         {
          "x": 0.96,
          "y": 0.9698474422447793
         },
         {
          "x": 0.97,
          "y": 0.9774145521600454
         },
         {
          "x": 0.98,
          "y": 0.9849621839380145
         },
         {
          "x": 0.99,
          "y": 0.992490585716335
         }
        ]
       },
       "encoding": {
        "x": {
         "field": "x",
         "type": "quantitative"
        },
        "y": {
         "field": "y",
         "type": "quantitative"
        }
       },
       "mark": "line",
       "title": "x^0.75"
      },
      "image/png": "[encoded data removed]",
      "text/plain": [
       "<VegaLite 2 object>\n",
       "\n",
       "If you see this message, it means the renderer has not been properly enabled\n",
       "for the frontend that you are using. For more information, see\n",
       "https://altair-viz.github.io/user_guide/troubleshooting.html\n"
      ]
     },
     "execution_count": 6,
     "metadata": {},
     "output_type": "execute_result"
    }
   ],
   "source": [
    "import altair as alt\n",
    "import numpy as np\n",
    "\n",
    "data = pd.DataFrame(zip(np.arange(0,1,0.01), np.power(np.arange(0,1,0.01), 0.75)), columns=[\"x\", \"y\"])\n",
    "alt.Chart(data, title=\"x^0.75\").mark_line().encode(x=\"x\", y=\"y\")"
   ]
  },
  {
   "cell_type": "code",
   "execution_count": 7,
   "metadata": {},
   "outputs": [],
   "source": [
    "import numpy as np\n",
    "\n",
    "class NoiseDistribution:\n",
    "    def __init__(self, vocab):\n",
    "        self.probs = np.array([vocab.freqs[w] for w in vocab.words])\n",
    "        self.probs = np.power(self.probs, 0.75)\n",
    "        self.probs /= np.sum(self.probs)\n",
    "    def sample(self, n):\n",
    "        \"Returns the indices of n words randomly sampled from the vocabulary.\"\n",
    "        return np.random.choice(a=self.probs.shape[0], size=n, p=self.probs)\n",
    "        \n",
    "noise = NoiseDistribution(vocab)"
   ]
  },
  {
   "cell_type": "markdown",
   "metadata": {},
   "source": [
    "With this distribution, we advance through the documents creating examples. Note that we are always putting the positive sample first in the samples vector, following the convention the loss function expects."
   ]
  },
  {
   "cell_type": "code",
   "execution_count": 8,
   "metadata": {},
   "outputs": [],
   "source": [
    "import torch\n",
    "\n",
    "def example_generator(df, context_size, noise, n_negative_samples, vocab):\n",
    "    for doc_id, doc in df.iterrows():\n",
    "        for i in range(context_size, len(doc.clean_tokens) - context_size):\n",
    "            positive_sample = vocab.word2idx[doc.clean_tokens[i]]\n",
    "            sample_ids = noise.sample(n_negative_samples).tolist()\n",
    "            # Fix a wee bug - ensure negative samples don't accidentally include the positive\n",
    "            sample_ids = [sample_id if sample_id != positive_sample else -1 for sample_id in sample_ids]\n",
    "            sample_ids.insert(0, positive_sample)                \n",
    "            context = doc.clean_tokens[i - context_size:i] + doc.clean_tokens[i + 1:i + context_size + 1]\n",
    "            context_ids = [vocab.word2idx[w] for w in context]\n",
    "            yield {\"doc_ids\": torch.tensor(doc_id),  # we use plural here because it will be batched\n",
    "                   \"sample_ids\": torch.tensor(sample_ids), \n",
    "                   \"context_ids\": torch.tensor(context_ids)}\n",
    "            \n",
    "examples = example_generator(example_df, context_size=5, noise=noise, n_negative_samples=5, vocab=vocab)"
   ]
  },
  {
   "cell_type": "markdown",
   "metadata": {},
   "source": [
    "Now we package this up as a good old PyTorch dataset and dataloader."
   ]
  },
  {
   "cell_type": "code",
   "execution_count": 9,
   "metadata": {},
   "outputs": [],
   "source": [
    "from torch.utils.data import Dataset, DataLoader\n",
    "\n",
    "class NCEDataset(Dataset):\n",
    "    def __init__(self, examples):\n",
    "        self.examples = list(examples)  # just naively evaluate the whole damn thing - suboptimal!\n",
    "    def __len__(self):\n",
    "        return len(self.examples)\n",
    "    def __getitem__(self, index):\n",
    "        return self.examples[index]\n",
    "    \n",
    "dataset = NCEDataset(examples)\n",
    "dataloader = DataLoader(dataset, batch_size=2, drop_last=True, shuffle=True)  # TODO bigger batch size when not dummy data"
   ]
  },
  {
   "cell_type": "markdown",
   "metadata": {},
   "source": [
    "It's going to also be useful to have a way to convert batches back to a readable form for debugging, so we add a helper function."
   ]
  },
  {
   "cell_type": "code",
   "execution_count": 10,
   "metadata": {},
   "outputs": [
    {
     "data": {
      "text/plain": [
       "[{'doc_id': tensor(2),\n",
       "  'context': 'was allowed a moment to ____ in at him where he',\n",
       "  'context_ids': tensor([ 99,   5,   0,  61,  93,  52,  11,  48, 103,  47]),\n",
       "  'samples': ['peer', 'moment', 'atreides', 'a', 'caladan', 'night'],\n",
       "  'sample_ids': tensor([71, 61, 12,  0, 20, 65])},\n",
       " {'doc_id': tensor(3),\n",
       "  'context': 'mother the old woman was ____ witch shadow hair like matted',\n",
       "  'context_ids': tensor([ 62,  91,  67, 105,  99, 104,  79,  44,  59,  60]),\n",
       "  'samples': ['a', 'where', 'in', 'cooled', 'an', 'woman'],\n",
       "  'sample_ids': tensor([  0, 103,  52,  24,   6,  -1])}]"
      ]
     },
     "execution_count": 10,
     "metadata": {},
     "output_type": "execute_result"
    }
   ],
   "source": [
    "def describe_batch(batch, vocab):\n",
    "    results = []\n",
    "    for doc_id, context_ids, sample_ids in zip(batch[\"doc_ids\"], batch[\"context_ids\"], batch[\"sample_ids\"]):\n",
    "        context = [vocab.words[i] for i in context_ids]\n",
    "        context.insert(len(context_ids) // 2, \"____\")\n",
    "        samples = [vocab.words[i] for i in sample_ids]\n",
    "        result = {\"doc_id\": doc_id,\n",
    "                  \"context\": \" \".join(context), \n",
    "                  \"context_ids\": context_ids, \n",
    "                  \"samples\": samples, \n",
    "                  \"sample_ids\": sample_ids}\n",
    "        results.append(result)\n",
    "    return results\n",
    "\n",
    "describe_batch(next(iter(dataloader)), vocab)"
   ]
  },
  {
   "cell_type": "markdown",
   "metadata": {},
   "source": [
    "Let's jump into creating the model itself. There isn't much to it - we multiply the input paragraph and word matrices by the output layer. Combining the paragraph and word matrices is done by summing here, but it could also be done by concatenating the inputs. The original paper actually found concatenation works better, perhaps because summing loses word order information."
   ]
  },
  {
   "cell_type": "code",
   "execution_count": 11,
   "metadata": {},
   "outputs": [],
   "source": [
    "import torch.nn as nn\n",
    "\n",
    "class DistributedMemory(nn.Module):\n",
    "    def __init__(self, vec_dim, n_docs, n_words):\n",
    "        super(DistributedMemory, self).__init__()\n",
    "        self.paragraph_matrix = nn.Parameter(torch.randn(n_docs, vec_dim))\n",
    "        self.word_matrix = nn.Parameter(torch.randn(n_words, vec_dim))\n",
    "        self.outputs = nn.Parameter(torch.zeros(vec_dim, n_words))\n",
    "    \n",
    "    def forward(self, doc_ids, context_ids, sample_ids):\n",
    "                                                                               # first add doc ids to context word ids to make the inputs\n",
    "        inputs = torch.add(self.paragraph_matrix[doc_ids,:],                   # (batch_size, vec_dim)\n",
    "                           torch.sum(self.word_matrix[context_ids,:], dim=1))  # (batch_size, 2x context, vec_dim) -> sum to (batch_size, vec_dim)\n",
    "                                                                               #\n",
    "                                                                               # select the subset of the output layer for the NCE test\n",
    "        outputs = self.outputs[:,sample_ids]                                   # (vec_dim, batch_size, n_negative_samples + 1)\n",
    "                                                                               #\n",
    "        return torch.bmm(inputs.unsqueeze(dim=1),                              # then multiply with some munging to make the tensor shapes line up \n",
    "                         outputs.permute(1, 0, 2)).squeeze()                   # -> (batch_size, n_negative_samples + 1)\n",
    "\n",
    "model = DistributedMemory(vec_dim=50,\n",
    "                          n_docs=len(example_df),\n",
    "                          n_words=len(vocab.words))"
   ]
  },
  {
   "cell_type": "markdown",
   "metadata": {},
   "source": [
    "Let's take it for a spin!"
   ]
  },
  {
   "cell_type": "code",
   "execution_count": 12,
   "metadata": {},
   "outputs": [
    {
     "data": {
      "text/plain": [
       "tensor([[0., 0., 0., 0., 0., 0.],\n",
       "        [0., 0., 0., 0., 0., 0.]])"
      ]
     },
     "execution_count": 12,
     "metadata": {},
     "output_type": "execute_result"
    }
   ],
   "source": [
    "with torch.no_grad():\n",
    "    logits = model.forward(**next(iter(dataloader)))\n",
    "logits"
   ]
  },
  {
   "cell_type": "markdown",
   "metadata": {},
   "source": [
    "Oh yeah, the output layer was initialized with zeros. Time to bash out a standard issue PyTorch training loop."
   ]
  },
  {
   "cell_type": "code",
   "execution_count": 13,
   "metadata": {},
   "outputs": [],
   "source": [
    "from tqdm import tqdm, trange\n",
    "from torch.optim import Adam  # ilenic uses Adam, but gensim uses plain SGD\n",
    "import numpy as np\n",
    "\n",
    "def train(model, dataloader, epochs=40, lr=1e-3):\n",
    "    optimizer = Adam(model.parameters(), lr=lr)\n",
    "    training_losses = []\n",
    "    try:\n",
    "        for epoch in trange(epochs, desc=\"Epochs\"):\n",
    "            epoch_losses = []\n",
    "            for batch in dataloader:\n",
    "                model.zero_grad()\n",
    "                logits = model.forward(**batch)\n",
    "                batch_loss = loss(logits)\n",
    "                epoch_losses.append(batch_loss.item())\n",
    "                batch_loss.backward()\n",
    "                optimizer.step()\n",
    "            training_losses.append(np.mean(epoch_losses))\n",
    "    except KeyboardInterrupt:\n",
    "        print(f\"Interrupted on epoch {epoch}!\")\n",
    "    finally:\n",
    "        return training_losses"
   ]
  },
  {
   "cell_type": "markdown",
   "metadata": {},
   "source": [
    "Now we'll sanity check by overfitting the example data. Training loss should drop from untrained loss to something close to the minimum possible."
   ]
  },
  {
   "cell_type": "code",
   "execution_count": 14,
   "metadata": {},
   "outputs": [
    {
     "name": "stderr",
     "output_type": "stream",
     "text": [
      "Epochs: 100%|██████████| 40/40 [00:02<00:00, 21.83it/s]\n"
     ]
    }
   ],
   "source": [
    "training_losses = train(model, dataloader, epochs=40, lr=1e-3)"
   ]
  },
  {
   "cell_type": "code",
   "execution_count": 15,
   "metadata": {},
   "outputs": [
    {
     "data": {
      "application/vnd.vegalite.v2+json": {
       "$schema": "https://vega.github.io/schema/vega-lite/v2.6.0.json",
       "config": {
        "view": {
         "height": 300,
         "width": 400
        }
       },
       "data": {
        "name": "data-b4211a284b320247988d74ee339a35c7"
       },
       "datasets": {
        "data-b4211a284b320247988d74ee339a35c7": [
         {
          "epoch": 0,
          "training_loss": 3.873234655897496
         },
         {
          "epoch": 1,
          "training_loss": 2.4964269541077693
         },
         {
          "epoch": 2,
          "training_loss": 1.8195302142935283
         },
         {
          "epoch": 3,
          "training_loss": 1.41878628124625
         },
         {
          "epoch": 4,
          "training_loss": 1.1586913345223766
         },
         {
          "epoch": 5,
          "training_loss": 0.9543892801818201
         },
         {
          "epoch": 6,
          "training_loss": 0.8089911760920185
         },
         {
          "epoch": 7,
          "training_loss": 0.690002828836441
         },
         {
          "epoch": 8,
          "training_loss": 0.6072199561838376
         },
         {
          "epoch": 9,
          "training_loss": 0.5273456401744131
         },
         {
          "epoch": 10,
          "training_loss": 0.4652211883310544
         },
         {
          "epoch": 11,
          "training_loss": 0.4105674152152013
         },
         {
          "epoch": 12,
          "training_loss": 0.36498250900688817
         },
         {
          "epoch": 13,
          "training_loss": 0.3294624433679096
         },
         {
          "epoch": 14,
          "training_loss": 0.29689174738980956
         },
         {
          "epoch": 15,
          "training_loss": 0.2668858468532562
         },
         {
          "epoch": 16,
          "training_loss": 0.24272207208609176
         },
         {
          "epoch": 17,
          "training_loss": 0.21813622003389618
         },
         {
          "epoch": 18,
          "training_loss": 0.1999257556715254
         },
         {
          "epoch": 19,
          "training_loss": 0.18043559644434412
         },
         {
          "epoch": 20,
          "training_loss": 0.16454930458281
         },
         {
          "epoch": 21,
          "training_loss": 0.14988945260391398
         },
         {
          "epoch": 22,
          "training_loss": 0.1378944904496104
         },
         {
          "epoch": 23,
          "training_loss": 0.12689736037183616
         },
         {
          "epoch": 24,
          "training_loss": 0.11709884914048647
         },
         {
          "epoch": 25,
          "training_loss": 0.10717140561190702
         },
         {
          "epoch": 26,
          "training_loss": 0.09873407258320663
         },
         {
          "epoch": 27,
          "training_loss": 0.09167827893111666
         },
         {
          "epoch": 28,
          "training_loss": 0.08547388257111534
         },
         {
          "epoch": 29,
          "training_loss": 0.0792784820610689
         },
         {
          "epoch": 30,
          "training_loss": 0.07406510791536104
         },
         {
          "epoch": 31,
          "training_loss": 0.06805220107405872
         },
         {
          "epoch": 32,
          "training_loss": 0.064012377917514
         },
         {
          "epoch": 33,
          "training_loss": 0.06023278630385965
         },
         {
          "epoch": 34,
          "training_loss": 0.05617725763911918
         },
         {
          "epoch": 35,
          "training_loss": 0.05255285915681871
         },
         {
          "epoch": 36,
          "training_loss": 0.04945897159434981
         },
         {
          "epoch": 37,
          "training_loss": 0.047309281130842235
         },
         {
          "epoch": 38,
          "training_loss": 0.04321649504857043
         },
         {
          "epoch": 39,
          "training_loss": 0.040696044799761244
         }
        ]
       },
       "encoding": {
        "x": {
         "field": "epoch",
         "type": "quantitative"
        },
        "y": {
         "field": "training_loss",
         "scale": {
          "type": "log"
         },
         "type": "quantitative"
        }
       },
       "mark": "bar"
      },
      "image/png": "[encoded data removed]",
      "text/plain": [
       "<VegaLite 2 object>\n",
       "\n",
       "If you see this message, it means the renderer has not been properly enabled\n",
       "for the frontend that you are using. For more information, see\n",
       "https://altair-viz.github.io/user_guide/troubleshooting.html\n"
      ]
     },
     "execution_count": 15,
     "metadata": {},
     "output_type": "execute_result"
    }
   ],
   "source": [
    "import altair as alt\n",
    "\n",
    "df_loss = pd.DataFrame(enumerate(training_losses), columns=[\"epoch\", \"training_loss\"])\n",
    "alt.Chart(df_loss).mark_bar().encode(alt.X(\"epoch\"), alt.Y(\"training_loss\", scale=alt.Scale(type=\"log\")))"
   ]
  },
  {
   "cell_type": "markdown",
   "metadata": {},
   "source": [
    "And because we're paranoid types, let's check a prediction."
   ]
  },
  {
   "cell_type": "code",
   "execution_count": 16,
   "metadata": {},
   "outputs": [
    {
     "data": {
      "text/plain": [
       "tensor([[ 4.0063, -7.1900, -6.8099, -5.7869, -6.4321, -3.4320],\n",
       "        [ 4.9544, -6.3152, -7.6040, -6.6827, -7.8661, -5.0460]])"
      ]
     },
     "execution_count": 16,
     "metadata": {},
     "output_type": "execute_result"
    }
   ],
   "source": [
    "with torch.no_grad():\n",
    "    logits = model.forward(**next(iter(dataloader)))\n",
    "logits"
   ]
  },
  {
   "cell_type": "markdown",
   "metadata": {},
   "source": [
    "The positive sample gets a positive score and the negatives get negative scores. Super."
   ]
  },
  {
   "cell_type": "markdown",
   "metadata": {},
   "source": [
    "We should be able get the paragraph vectors for the documents and do things like check these for similarity to one another."
   ]
  },
  {
   "cell_type": "code",
   "execution_count": 17,
   "metadata": {},
   "outputs": [
    {
     "data": {
      "text/html": [
       "<div>\n",
       "<style scoped>\n",
       "    .dataframe tbody tr th:only-of-type {\n",
       "        vertical-align: middle;\n",
       "    }\n",
       "\n",
       "    .dataframe tbody tr th {\n",
       "        vertical-align: top;\n",
       "    }\n",
       "\n",
       "    .dataframe thead th {\n",
       "        text-align: right;\n",
       "    }\n",
       "</style>\n",
       "<table border=\"1\" class=\"dataframe\">\n",
       "  <thead>\n",
       "    <tr style=\"text-align: right;\">\n",
       "      <th></th>\n",
       "      <th>doc_id</th>\n",
       "      <th>similarity</th>\n",
       "      <th>text</th>\n",
       "    </tr>\n",
       "  </thead>\n",
       "  <tbody>\n",
       "    <tr>\n",
       "      <th>1</th>\n",
       "      <td>1</td>\n",
       "      <td>1.000000</td>\n",
       "      <td>It was a warm night at Castle Caladan, and the ancient pile of stone that had served the Atreide...</td>\n",
       "    </tr>\n",
       "    <tr>\n",
       "      <th>0</th>\n",
       "      <td>0</td>\n",
       "      <td>0.177416</td>\n",
       "      <td>In the week before their departure to Arrakis, when all the final scurrying about had reached a ...</td>\n",
       "    </tr>\n",
       "    <tr>\n",
       "      <th>3</th>\n",
       "      <td>3</td>\n",
       "      <td>0.081760</td>\n",
       "      <td>By the half-light of a suspensor lamp, dimmed and hanging near the floor, the awakened boy could...</td>\n",
       "    </tr>\n",
       "    <tr>\n",
       "      <th>2</th>\n",
       "      <td>2</td>\n",
       "      <td>-0.044768</td>\n",
       "      <td>The old woman was let in by the side door down the vaulted passage by Paul's room and she was al...</td>\n",
       "    </tr>\n",
       "  </tbody>\n",
       "</table>\n",
       "</div>"
      ],
      "text/plain": [
       "   doc_id  similarity  \\\n",
       "1       1    1.000000   \n",
       "0       0    0.177416   \n",
       "3       3    0.081760   \n",
       "2       2   -0.044768   \n",
       "\n",
       "                                                                                                  text  \n",
       "1  It was a warm night at Castle Caladan, and the ancient pile of stone that had served the Atreide...  \n",
       "0  In the week before their departure to Arrakis, when all the final scurrying about had reached a ...  \n",
       "3  By the half-light of a suspensor lamp, dimmed and hanging near the floor, the awakened boy could...  \n",
       "2  The old woman was let in by the side door down the vaulted passage by Paul's room and she was al...  "
      ]
     },
     "execution_count": 17,
     "metadata": {},
     "output_type": "execute_result"
    }
   ],
   "source": [
    "from sklearn.preprocessing import normalize\n",
    "\n",
    "def most_similar(paragraph_matrix, docs_df, index, n=None):\n",
    "    pm = normalize(paragraph_matrix, norm=\"l2\")  # in a smarter implementation we would cache this somewhere\n",
    "    sims = np.dot(pm, pm[index,:])\n",
    "    df = pd.DataFrame(enumerate(sims), columns=[\"doc_id\", \"similarity\"])\n",
    "    n = n if n is not None else len(sims)\n",
    "    return df.merge(docs_df[[\"text\"]].reset_index(drop=True), left_index=True, right_index=True).sort_values(by=\"similarity\", ascending=False)[:n]\n",
    "\n",
    "most_similar(model.paragraph_matrix.data, example_df, 1, n=10)"
   ]
  },
  {
   "cell_type": "markdown",
   "metadata": {},
   "source": [
    "It's not particularly illuminating for our tiny set of dummy data though. We can also use PCA to reduce our n-dimensional paragraph vectors to 2 dimensions and see if they are clustered nicely."
   ]
  },
  {
   "cell_type": "code",
   "execution_count": 18,
   "metadata": {},
   "outputs": [
    {
     "name": "stdout",
     "output_type": "stream",
     "text": [
      "2-component PCA, explains 48.18% of variance\n"
     ]
    },
    {
     "data": {
      "application/vnd.vegalite.v2+json": {
       "$schema": "https://vega.github.io/schema/vega-lite/v2.6.0.json",
       "config": {
        "view": {
         "height": 300,
         "width": 400
        }
       },
       "data": {
        "name": "data-0b1e0474027b1da095c3ed8d1f5f386e"
       },
       "datasets": {
        "data-0b1e0474027b1da095c3ed8d1f5f386e": [
         {
          "group": "0",
          "x": -4.767539597377173,
          "y": -4.756888669464686
         },
         {
          "group": "1",
          "x": -3.202457816084362,
          "y": 6.363203538611249
         },
         {
          "group": "2",
          "x": 6.650774519184007,
          "y": -0.034075790016020964
         },
         {
          "group": "3",
          "x": 1.3192228942775253,
          "y": -1.572239079130542
         }
        ]
       },
       "encoding": {
        "color": {
         "field": "group",
         "type": "nominal"
        },
        "x": {
         "field": "x",
         "type": "quantitative"
        },
        "y": {
         "field": "y",
         "type": "quantitative"
        }
       },
       "mark": "point"
      },
      "image/png": "[encoded data removed]",
      "text/plain": [
       "<VegaLite 2 object>\n",
       "\n",
       "If you see this message, it means the renderer has not been properly enabled\n",
       "for the frontend that you are using. For more information, see\n",
       "https://altair-viz.github.io/user_guide/troubleshooting.html\n"
      ]
     },
     "execution_count": 18,
     "metadata": {},
     "output_type": "execute_result"
    }
   ],
   "source": [
    "from sklearn.decomposition import PCA\n",
    "\n",
    "def pca_2d(paragraph_matrix, groups):\n",
    "    pca = PCA(n_components=2)\n",
    "    reduced_dims = pca.fit_transform(paragraph_matrix)\n",
    "    print(f\"2-component PCA, explains {sum(pca.explained_variance_):.2f}% of variance\")\n",
    "    df = pd.DataFrame(reduced_dims, columns=[\"x\", \"y\"])\n",
    "    df[\"group\"] = groups\n",
    "    return df\n",
    "\n",
    "example_2d = pca_2d(model.paragraph_matrix.data, [\"0\",\"1\",\"2\",\"3\"])\n",
    "alt.Chart(example_2d).mark_point().encode(x=\"x\", y=\"y\", color=\"group\")"
   ]
  },
  {
   "cell_type": "markdown",
   "metadata": {},
   "source": [
    "Not much to see on such a tiny dataset without any labelled groups."
   ]
  },
  {
   "cell_type": "markdown",
   "metadata": {},
   "source": [
    "Running this on some bigger data\n",
    "--------------------------------\n",
    "\n",
    "We'll use the BBC's dataset. The dataset was created by Derek Greene at UCD and all articles are copyright Auntie. I've munged it into a file per topic."
   ]
  },
  {
   "cell_type": "code",
   "execution_count": 19,
   "metadata": {},
   "outputs": [
    {
     "data": {
      "text/html": [
       "<div>\n",
       "<style scoped>\n",
       "    .dataframe tbody tr th:only-of-type {\n",
       "        vertical-align: middle;\n",
       "    }\n",
       "\n",
       "    .dataframe tbody tr th {\n",
       "        vertical-align: top;\n",
       "    }\n",
       "\n",
       "    .dataframe thead th {\n",
       "        text-align: right;\n",
       "    }\n",
       "</style>\n",
       "<table border=\"1\" class=\"dataframe\">\n",
       "  <thead>\n",
       "    <tr style=\"text-align: right;\">\n",
       "      <th></th>\n",
       "      <th>text</th>\n",
       "      <th>tokens</th>\n",
       "      <th>group</th>\n",
       "    </tr>\n",
       "  </thead>\n",
       "  <tbody>\n",
       "    <tr>\n",
       "      <th>0</th>\n",
       "      <td>Claxton hunting first major medal  British hurdler Sarah Claxton is confident she can win her fi...</td>\n",
       "      <td>[claxton, hunting, first, major, medal, british, hurdler, sarah, claxton, is, confident, she, ca...</td>\n",
       "      <td>sport</td>\n",
       "    </tr>\n",
       "    <tr>\n",
       "      <th>1</th>\n",
       "      <td>O'Sullivan could run in Worlds  Sonia O'Sullivan has indicated that she would like to participat...</td>\n",
       "      <td>[could, run, in, worlds, sonia, has, indicated, that, she, would, like, to, participate, in, nex...</td>\n",
       "      <td>sport</td>\n",
       "    </tr>\n",
       "    <tr>\n",
       "      <th>2</th>\n",
       "      <td>Greene sets sights on world title  Maurice Greene aims to wipe out the pain of losing his Olympi...</td>\n",
       "      <td>[greene, sets, sights, on, world, title, maurice, greene, aims, to, wipe, out, the, pain, of, lo...</td>\n",
       "      <td>sport</td>\n",
       "    </tr>\n",
       "    <tr>\n",
       "      <th>3</th>\n",
       "      <td>IAAF launches fight against drugs  The IAAF - athletics' world governing body - has met anti-dop...</td>\n",
       "      <td>[iaaf, launches, fight, against, drugs, the, iaaf, athletics, world, governing, body, has, met, ...</td>\n",
       "      <td>sport</td>\n",
       "    </tr>\n",
       "  </tbody>\n",
       "</table>\n",
       "</div>"
      ],
      "text/plain": [
       "                                                                                                  text  \\\n",
       "0  Claxton hunting first major medal  British hurdler Sarah Claxton is confident she can win her fi...   \n",
       "1  O'Sullivan could run in Worlds  Sonia O'Sullivan has indicated that she would like to participat...   \n",
       "2  Greene sets sights on world title  Maurice Greene aims to wipe out the pain of losing his Olympi...   \n",
       "3  IAAF launches fight against drugs  The IAAF - athletics' world governing body - has met anti-dop...   \n",
       "\n",
       "                                                                                                tokens  \\\n",
       "0  [claxton, hunting, first, major, medal, british, hurdler, sarah, claxton, is, confident, she, ca...   \n",
       "1  [could, run, in, worlds, sonia, has, indicated, that, she, would, like, to, participate, in, nex...   \n",
       "2  [greene, sets, sights, on, world, title, maurice, greene, aims, to, wipe, out, the, pain, of, lo...   \n",
       "3  [iaaf, launches, fight, against, drugs, the, iaaf, athletics, world, governing, body, has, met, ...   \n",
       "\n",
       "   group  \n",
       "0  sport  \n",
       "1  sport  \n",
       "2  sport  \n",
       "3  sport  "
      ]
     },
     "execution_count": 19,
     "metadata": {},
     "output_type": "execute_result"
    }
   ],
   "source": [
    "dfs = []\n",
    "for document_set in (\"sport\",\n",
    "                     \"business\",\n",
    "                     \"politics\", \n",
    "                     \"tech\", \n",
    "                     \"entertainment\"):\n",
    "    df_ = pd.read_csv(f\"data/bbc/{document_set}.csv.bz2\", encoding=\"latin1\")\n",
    "    df_ = tokenize_text(df_)\n",
    "    df_[\"group\"] = document_set\n",
    "    dfs.append(df_)\n",
    "\n",
    "bbc_df = pd.concat(dfs)\n",
    "bbc_df[:4]"
   ]
  },
  {
   "cell_type": "code",
   "execution_count": 20,
   "metadata": {},
   "outputs": [
    {
     "name": "stdout",
     "output_type": "stream",
     "text": [
      "Dataset comprises 2225 documents and 19063 unique words\n"
     ]
    }
   ],
   "source": [
    "bbc_vocab = Vocab([tok for tokens in bbc_df.tokens for tok in tokens])\n",
    "\n",
    "bbc_df = clean_tokens(bbc_df, bbc_vocab)\n",
    "\n",
    "print(f\"Dataset comprises {len(bbc_df)} documents and {len(bbc_vocab.words)} unique words\")"
   ]
  },
  {
   "cell_type": "code",
   "execution_count": 21,
   "metadata": {},
   "outputs": [],
   "source": [
    "bbc_noise = NoiseDistribution(bbc_vocab)\n",
    "bbc_examples = list(example_generator(bbc_df, context_size=5, noise=bbc_noise, n_negative_samples=5, vocab=bbc_vocab))"
   ]
  },
  {
   "cell_type": "code",
   "execution_count": 22,
   "metadata": {},
   "outputs": [],
   "source": [
    "bbc_dataset = NCEDataset(bbc_examples)\n",
    "bbc_dataloader = DataLoader(bbc_dataset, batch_size=1024, drop_last=True, shuffle=True)  # TODO could tolerate a larger batch size\n",
    "\n",
    "bbc_model = DistributedMemory(vec_dim=50,\n",
    "                              n_docs=len(bbc_df),\n",
    "                              n_words=len(bbc_vocab.words))"
   ]
  },
  {
   "cell_type": "code",
   "execution_count": 23,
   "metadata": {},
   "outputs": [
    {
     "name": "stderr",
     "output_type": "stream",
     "text": [
      "Epochs: 100%|██████████| 80/80 [36:14<00:00, 26.78s/it]\n"
     ]
    }
   ],
   "source": [
    "bbc_training_losses = train(bbc_model, bbc_dataloader, epochs=80, lr=1e-3)"
   ]
  },
  {
   "cell_type": "code",
   "execution_count": 24,
   "metadata": {},
   "outputs": [
    {
     "data": {
      "application/vnd.vegalite.v2+json": {
       "$schema": "https://vega.github.io/schema/vega-lite/v2.6.0.json",
       "config": {
        "view": {
         "height": 300,
         "width": 400
        }
       },
       "data": {
        "name": "data-1dabe6fce07510d2b0d23042635cb568"
       },
       "datasets": {
        "data-1dabe6fce07510d2b0d23042635cb568": [
         {
          "epoch": 0,
          "training_loss": 2.642270294331616
         },
         {
          "epoch": 1,
          "training_loss": 2.1742215334258463
         },
         {
          "epoch": 2,
          "training_loss": 1.990165346749821
         },
         {
          "epoch": 3,
          "training_loss": 1.873253081452032
         },
         {
          "epoch": 4,
          "training_loss": 1.789763425596012
         },
         {
          "epoch": 5,
          "training_loss": 1.7244694537997987
         },
         {
          "epoch": 6,
          "training_loss": 1.670895414915144
         },
         {
          "epoch": 7,
          "training_loss": 1.6244636086943727
         },
         {
          "epoch": 8,
          "training_loss": 1.5836919797873645
         },
         {
          "epoch": 9,
          "training_loss": 1.5470218249729701
         },
         {
          "epoch": 10,
          "training_loss": 1.5139503951398483
         },
         {
          "epoch": 11,
          "training_loss": 1.4832230216968134
         },
         {
          "epoch": 12,
          "training_loss": 1.4547421681954993
         },
         {
          "epoch": 13,
          "training_loss": 1.4282586559745836
         },
         {
          "epoch": 14,
          "training_loss": 1.403701515079285
         },
         {
          "epoch": 15,
          "training_loss": 1.3798937556166087
         },
         {
          "epoch": 16,
          "training_loss": 1.3577345677784511
         },
         {
          "epoch": 17,
          "training_loss": 1.3366852766238384
         },
         {
          "epoch": 18,
          "training_loss": 1.3162777810363295
         },
         {
          "epoch": 19,
          "training_loss": 1.2970764010589315
         },
         {
          "epoch": 20,
          "training_loss": 1.2788146187800058
         },
         {
          "epoch": 21,
          "training_loss": 1.2611135737496133
         },
         {
          "epoch": 22,
          "training_loss": 1.2440896054972772
         },
         {
          "epoch": 23,
          "training_loss": 1.2277287255162779
         },
         {
          "epoch": 24,
          "training_loss": 1.211776340229911
         },
         {
          "epoch": 25,
          "training_loss": 1.1965603542624053
         },
         {
          "epoch": 26,
          "training_loss": 1.1817405841365365
         },
         {
          "epoch": 27,
          "training_loss": 1.1673207131972223
         },
         {
          "epoch": 28,
          "training_loss": 1.1533892758884785
         },
         {
          "epoch": 29,
          "training_loss": 1.1397850001080436
         },
         {
          "epoch": 30,
          "training_loss": 1.12681249217217
         },
         {
          "epoch": 31,
          "training_loss": 1.1138663835407043
         },
         {
          "epoch": 32,
          "training_loss": 1.1015954906896035
         },
         {
          "epoch": 33,
          "training_loss": 1.089359670544263
         },
         {
          "epoch": 34,
          "training_loss": 1.0776376641314962
         },
         {
          "epoch": 35,
          "training_loss": 1.0659556754627584
         },
         {
          "epoch": 36,
          "training_loss": 1.0547422724480955
         },
         {
          "epoch": 37,
          "training_loss": 1.0438089944561075
         },
         {
          "epoch": 38,
          "training_loss": 1.0329133888209088
         },
         {
          "epoch": 39,
          "training_loss": 1.0227227165832282
         },
         {
          "epoch": 40,
          "training_loss": 1.0123565251042383
         },
         {
          "epoch": 41,
          "training_loss": 1.0023637906364773
         },
         {
          "epoch": 42,
          "training_loss": 0.9926695086200785
         },
         {
          "epoch": 43,
          "training_loss": 0.982954163951163
         },
         {
          "epoch": 44,
          "training_loss": 0.9737152805239517
         },
         {
          "epoch": 45,
          "training_loss": 0.9645086004867317
         },
         {
          "epoch": 46,
          "training_loss": 0.9555849193786242
         },
         {
          "epoch": 47,
          "training_loss": 0.9466561066437952
         },
         {
          "epoch": 48,
          "training_loss": 0.9380779170101474
         },
         {
          "epoch": 49,
          "training_loss": 0.929785754813911
         },
         {
          "epoch": 50,
          "training_loss": 0.9214358320147354
         },
         {
          "epoch": 51,
          "training_loss": 0.9133923515770006
         },
         {
          "epoch": 52,
          "training_loss": 0.905320764328382
         },
         {
          "epoch": 53,
          "training_loss": 0.8976051105475574
         },
         {
          "epoch": 54,
          "training_loss": 0.8899229808623746
         },
         {
          "epoch": 55,
          "training_loss": 0.8823469078318673
         },
         {
          "epoch": 56,
          "training_loss": 0.8750101461173585
         },
         {
          "epoch": 57,
          "training_loss": 0.867823110456052
         },
         {
          "epoch": 58,
          "training_loss": 0.8607556018029681
         },
         {
          "epoch": 59,
          "training_loss": 0.8537966694891083
         },
         {
          "epoch": 60,
          "training_loss": 0.8470302788367182
         },
         {
          "epoch": 61,
          "training_loss": 0.8402785332306572
         },
         {
          "epoch": 62,
          "training_loss": 0.8336316384884142
         },
         {
          "epoch": 63,
          "training_loss": 0.8271638499283642
         },
         {
          "epoch": 64,
          "training_loss": 0.8209897966118332
         },
         {
          "epoch": 65,
          "training_loss": 0.8146745335981712
         },
         {
          "epoch": 66,
          "training_loss": 0.8085972012940401
         },
         {
          "epoch": 67,
          "training_loss": 0.8024606412982348
         },
         {
          "epoch": 68,
          "training_loss": 0.7965273064856203
         },
         {
          "epoch": 69,
          "training_loss": 0.7905283134916554
         },
         {
          "epoch": 70,
          "training_loss": 0.785075603212629
         },
         {
          "epoch": 71,
          "training_loss": 0.7794511792822654
         },
         {
          "epoch": 72,
          "training_loss": 0.7739284674573389
         },
         {
          "epoch": 73,
          "training_loss": 0.7684736896745907
         },
         {
          "epoch": 74,
          "training_loss": 0.7630798336141598
         },
         {
          "epoch": 75,
          "training_loss": 0.7578280769519924
         },
         {
          "epoch": 76,
          "training_loss": 0.7526835779966035
         },
         {
          "epoch": 77,
          "training_loss": 0.7476536778189381
         },
         {
          "epoch": 78,
          "training_loss": 0.7426093139263413
         },
         {
          "epoch": 79,
          "training_loss": 0.7375516610856382
         }
        ]
       },
       "encoding": {
        "x": {
         "field": "epoch",
         "type": "quantitative"
        },
        "y": {
         "field": "training_loss",
         "type": "quantitative"
        }
       },
       "mark": "bar"
      },
      "image/png": "[encoded data removed]",
      "text/plain": [
       "<VegaLite 2 object>\n",
       "\n",
       "If you see this message, it means the renderer has not been properly enabled\n",
       "for the frontend that you are using. For more information, see\n",
       "https://altair-viz.github.io/user_guide/troubleshooting.html\n"
      ]
     },
     "execution_count": 24,
     "metadata": {},
     "output_type": "execute_result"
    }
   ],
   "source": [
    "alt.Chart(pd.DataFrame(enumerate(bbc_training_losses), columns=[\"epoch\", \"training_loss\"])).mark_bar().encode(x=\"epoch\", y=\"training_loss\")"
   ]
  },
  {
   "cell_type": "markdown",
   "metadata": {},
   "source": [
    "Let's take a look at the reduced dimensionality paragraph vectors."
   ]
  },
  {
   "cell_type": "code",
   "execution_count": 25,
   "metadata": {},
   "outputs": [
    {
     "name": "stdout",
     "output_type": "stream",
     "text": [
      "2-component PCA, explains 2.65% of variance\n"
     ]
    },
    {
     "data": {
      "application/vnd.vegalite.v2+json": {
       "$schema": "https://vega.github.io/schema/vega-lite/v2.6.0.json",
       "config": {
        "view": {
         "height": 300,
         "width": 400
        }
       },
       "data": {
        "name": "data-318dc807ab4879cdb36d50c1162bc314"
       },
       "datasets": {
        "data-318dc807ab4879cdb36d50c1162bc314": [
         {
          "group": "sport",
          "x": 0.9708042516306119,
          "y": -0.46054551824321144
         },
         {
          "group": "sport",
          "x": 0.4625876203396678,
          "y": -0.7350543152069465
         },
         {
          "group": "sport",
          "x": 1.241029125970138,
          "y": 0.05997265972668382
         },
         {
          "group": "sport",
          "x": 0.8340303199502676,
          "y": 0.2879554130406076
         },
         {
          "group": "sport",
          "x": 0.9899951045569317,
          "y": 0.38146429253783953
         },
         {
          "group": "sport",
          "x": 0.200625767778803,
          "y": 0.08528038700552804
         },
         {
          "group": "sport",
          "x": 1.6503982658744782,
          "y": -0.28543755156572936
         },
         {
          "group": "sport",
          "x": 2.0242895665382186,
          "y": 0.5926793995159697
         },
         {
          "group": "sport",
          "x": 1.2131959533699828,
          "y": -0.41530293985694855
         },
         {
          "group": "sport",
          "x": 0.5833770669008986,
          "y": -1.6191449498214892
         },
         {
          "group": "sport",
          "x": 0.43544570827630324,
          "y": -2.5651966184390647
         },
         {
          "group": "sport",
          "x": 1.6758603558978604,
          "y": 0.038366915038367755
         },
         {
          "group": "sport",
          "x": 1.7767657532299244,
          "y": 0.2742823028135334
         },
         {
          "group": "sport",
          "x": 0.47549564495257185,
          "y": -0.6016520950917436
         },
         {
          "group": "sport",
          "x": 0.6819531638152208,
          "y": 0.6225646927272904
         },
         {
          "group": "sport",
          "x": 1.513106377594763,
          "y": -0.5056881242038254
         },
         {
          "group": "sport",
          "x": 0.8998012141629048,
          "y": -0.6540760347130253
         },
         {
          "group": "sport",
          "x": 1.036727517708485,
          "y": 0.4787208613218112
         },
         {
          "group": "sport",
          "x": 1.6580569376703052,
          "y": -0.4885171914638759
         },
         {
          "group": "sport",
          "x": 0.7482542668520258,
          "y": -0.8650774570361508
         },
         {
          "group": "sport",
          "x": 1.9403299126578613,
          "y": 0.6132497821050247
         },
         {
          "group": "sport",
          "x": 1.200079413848823,
          "y": -0.05688198792556788
         },
         {
          "group": "sport",
          "x": 1.1824065929351402,
          "y": -0.6949933014648526
         },
         {
          "group": "sport",
          "x": 0.4601983885804567,
          "y": -0.4751639211752343
         },
         {
          "group": "sport",
          "x": 0.7535728248366009,
          "y": -0.08987817468586229
         },
         {
          "group": "sport",
          "x": 1.1930960386634286,
          "y": -0.028333297839332125
         },
         {
          "group": "sport",
          "x": 1.1678201935769914,
          "y": -0.9245226742894656
         },
         {
          "group": "sport",
          "x": 1.089550725732697,
          "y": -1.0181931561609416
         },
         {
          "group": "sport",
          "x": 1.2585719666160735,
          "y": 0.48536988627078287
         },
         {
          "group": "sport",
          "x": 1.555936096915665,
          "y": 1.2595246209431172
         },
         {
          "group": "sport",
          "x": 1.3087826683247146,
          "y": -1.7144109229376774
         },
         {
          "group": "sport",
          "x": 1.8132025564470264,
          "y": -0.02866219548190777
         },
         {
          "group": "sport",
          "x": 1.0035054349244497,
          "y": 0.2368346326698831
         },
         {
          "group": "sport",
          "x": 0.020382120996947924,
          "y": -2.4256650494592282
         },
         {
          "group": "sport",
          "x": 1.121876848495988,
          "y": 0.7185753485161346
         },
         {
          "group": "sport",
          "x": 0.8161901438632777,
          "y": -0.1434975951347599
         },
         {
          "group": "sport",
          "x": 1.0354524702507744,
          "y": -0.8022005125541101
         },
         {
          "group": "sport",
          "x": 0.2663349189125335,
          "y": 0.2685315881050316
         },
         {
          "group": "sport",
          "x": 0.9601712447130524,
          "y": -0.0588110973250865
         },
         {
          "group": "sport",
          "x": 1.2818993497405062,
          "y": 0.5262551361603148
         },
         {
          "group": "sport",
          "x": 0.9312640459808853,
          "y": -0.19239697971106245
         },
         {
          "group": "sport",
          "x": 0.9063605401862252,
          "y": 0.11848624643710882
         },
         {
          "group": "sport",
          "x": 1.0870897753410855,
          "y": 0.18286535275911078
         },
         {
          "group": "sport",
          "x": 0.9031087151161771,
          "y": -0.8265389488674075
         },
         {
          "group": "sport",
          "x": 1.9307649593885996,
          "y": 0.8251730093155438
         },
         {
          "group": "sport",
          "x": 0.8949510315533163,
          "y": -0.9201968961783256
         },
         {
          "group": "sport",
          "x": 1.1983215041046358,
          "y": -0.28976033811698154
         },
         {
          "group": "sport",
          "x": 2.6550725002867503,
          "y": 1.660822268365761
         },
         {
          "group": "sport",
          "x": 1.060696025292903,
          "y": -0.12837258338097568
         },
         {
          "group": "sport",
          "x": 0.9088262382516576,
          "y": -0.6758458345367097
         },
         {
          "group": "sport",
          "x": 1.1071353307406606,
          "y": 0.46094914747700827
         },
         {
          "group": "sport",
          "x": 0.5607007370835648,
          "y": -0.05940271223187283
         },
         {
          "group": "sport",
          "x": 0.9425090585522303,
          "y": -0.538856319454293
         },
         {
          "group": "sport",
          "x": 0.9268657427735374,
          "y": 0.37464665906130534
         },
         {
          "group": "sport",
          "x": 1.7144417927403637,
          "y": 0.6534464373667268
         },
         {
          "group": "sport",
          "x": 1.2249831261208888,
          "y": 0.5124463674325569
         },
         {
          "group": "sport",
          "x": 1.2755044169210403,
          "y": 0.9015596740745379
         },
         {
          "group": "sport",
          "x": 1.797263146487297,
          "y": 0.9458253333409549
         },
         {
          "group": "sport",
          "x": 1.5339444090811398,
          "y": -0.9607228196678032
         },
         {
          "group": "sport",
          "x": 1.0843887975537492,
          "y": -1.220208225600875
         },
         {
          "group": "sport",
          "x": 1.764257884006332,
          "y": -0.6184238940236382
         },
         {
          "group": "sport",
          "x": 0.9081440418389172,
          "y": -0.497140797735138
         },
         {
          "group": "sport",
          "x": 0.5325358149435422,
          "y": 0.95602333578266
         },
         {
          "group": "sport",
          "x": 1.170056148813929,
          "y": -0.7317194397541864
         },
         {
          "group": "sport",
          "x": 0.819942192626264,
          "y": 0.05881086873633957
         },
         {
          "group": "sport",
          "x": 1.2462680300591054,
          "y": -1.4094618261591143
         },
         {
          "group": "sport",
          "x": 1.0173449514947566,
          "y": -0.8419922171062837
         },
         {
          "group": "sport",
          "x": 0.5622632795882546,
          "y": -0.31111810155735303
         },
         {
          "group": "sport",
          "x": 1.6410660029192028,
          "y": 0.3720021773231907
         },
         {
          "group": "sport",
          "x": 0.753179883869572,
          "y": -0.38015355835483877
         },
         {
          "group": "sport",
          "x": 0.6856332758122323,
          "y": -0.24483075822490974
         },
         {
          "group": "sport",
          "x": 0.8252602794155961,
          "y": -1.74714002665204
         },
         {
          "group": "sport",
          "x": 1.5909456849119572,
          "y": -0.27912861979944104
         },
         {
          "group": "sport",
          "x": 0.7725491118699283,
          "y": -1.9738183808583132
         },
         {
          "group": "sport",
          "x": 1.8113117298746149,
          "y": 1.7214103140521353
         },
         {
          "group": "sport",
          "x": 1.256584943643301,
          "y": -1.5980675966175926
         },
         {
          "group": "sport",
          "x": 1.5216423181894116,
          "y": -1.0687442007630685
         },
         {
          "group": "sport",
          "x": 1.1627770979019532,
          "y": 0.41212839201209744
         },
         {
          "group": "sport",
          "x": 0.6908341944143924,
          "y": -2.0236809361379398
         },
         {
          "group": "sport",
          "x": 0.9584027522549293,
          "y": 0.6185683679512739
         },
         {
          "group": "sport",
          "x": 1.832910570243604,
          "y": -0.3343513779746628
         },
         {
          "group": "sport",
          "x": 0.4858730326932919,
          "y": -0.8624297281371066
         },
         {
          "group": "sport",
          "x": 1.8611774303580857,
          "y": 0.49120512478357037
         },
         {
          "group": "sport",
          "x": 0.9576824929286794,
          "y": 0.40517152465616774
         },
         {
          "group": "sport",
          "x": 1.6085720197869735,
          "y": -0.899850324933552
         },
         {
          "group": "sport",
          "x": 0.9047803272809436,
          "y": -0.844335251985827
         },
         {
          "group": "sport",
          "x": 1.3246990167669992,
          "y": -1.7625376414910394
         },
         {
          "group": "sport",
          "x": 1.2127919928758906,
          "y": -0.5018785305813969
         },
         {
          "group": "sport",
          "x": 1.2805057752952178,
          "y": -0.20283145042389514
         },
         {
          "group": "sport",
          "x": 1.7033896018474373,
          "y": 1.1122568932684251
         },
         {
          "group": "sport",
          "x": 0.7836374654521922,
          "y": -0.45426299861524816
         },
         {
          "group": "sport",
          "x": 0.48166297049127166,
          "y": -1.561446973907843
         },
         {
          "group": "sport",
          "x": 1.3753555281720167,
          "y": 0.4382566180331751
         },
         {
          "group": "sport",
          "x": 2.250695702080706,
          "y": 0.09069662472634246
         },
         {
          "group": "sport",
          "x": 1.0505502825882695,
          "y": -0.3494085797874339
         },
         {
          "group": "sport",
          "x": 1.4308204953684809,
          "y": -0.9164642245568119
         },
         {
          "group": "sport",
          "x": 0.8946830472373674,
          "y": -0.5808589937210786
         },
         {
          "group": "sport",
          "x": 1.0976725677946122,
          "y": -0.8364769862536086
         },
         {
          "group": "sport",
          "x": 0.704372456433524,
          "y": 0.281327383588319
         },
         {
          "group": "sport",
          "x": 1.2604035907167461,
          "y": -1.1184158407647466
         },
         {
          "group": "sport",
          "x": 0.7724993159087855,
          "y": 0.41247197384957246
         },
         {
          "group": "sport",
          "x": 0.8578512125115341,
          "y": -0.32104982742820865
         },
         {
          "group": "sport",
          "x": 1.4108370412133622,
          "y": -0.5195896234391444
         },
         {
          "group": "sport",
          "x": 0.40572909181079286,
          "y": 0.1590178216466439
         },
         {
          "group": "sport",
          "x": 0.9853547141550607,
          "y": -1.6934535997146332
         },
         {
          "group": "sport",
          "x": 0.23435788804635824,
          "y": -2.0408876099214317
         },
         {
          "group": "sport",
          "x": 1.3492375277808177,
          "y": -0.4922537824569337
         },
         {
          "group": "sport",
          "x": 0.43247790907947997,
          "y": -1.268240737264365
         },
         {
          "group": "sport",
          "x": 0.29913188529125123,
          "y": -2.740311319240974
         },
         {
          "group": "sport",
          "x": 1.4179210757821217,
          "y": -0.2000563661847914
         },
         {
          "group": "sport",
          "x": 0.9071610554961287,
          "y": -0.7823784779370868
         },
         {
          "group": "sport",
          "x": 0.6609825759901564,
          "y": -2.074298722365364
         },
         {
          "group": "sport",
          "x": 0.8328139625012099,
          "y": 0.33326743800623393
         },
         {
          "group": "sport",
          "x": 1.3949641201279344,
          "y": -0.8131604033469048
         },
         {
          "group": "sport",
          "x": 0.9449221353469056,
          "y": -1.606034065412817
         },
         {
          "group": "sport",
          "x": 1.3746844147591268,
          "y": 0.6727873188481602
         },
         {
          "group": "sport",
          "x": 1.6139185926172062,
          "y": -0.6094527421471377
         },
         {
          "group": "sport",
          "x": 0.6636836045755198,
          "y": -0.8636541773289865
         },
         {
          "group": "sport",
          "x": 1.2721335376818357,
          "y": -1.0160450412447675
         },
         {
          "group": "sport",
          "x": 0.8374836115220782,
          "y": -2.5070606574893315
         },
         {
          "group": "sport",
          "x": 1.0858290380746087,
          "y": -0.5283967800243179
         },
         {
          "group": "sport",
          "x": 0.39725704499972136,
          "y": -0.6365480966462304
         },
         {
          "group": "sport",
          "x": 1.002477213084775,
          "y": -0.16322698526883914
         },
         {
          "group": "sport",
          "x": 0.9580307974149141,
          "y": -1.4378129856361996
         },
         {
          "group": "sport",
          "x": 1.289640267647908,
          "y": -0.5272232837732351
         },
         {
          "group": "sport",
          "x": 0.5866861236170764,
          "y": 0.028430581030951117
         },
         {
          "group": "sport",
          "x": 1.1975151596373093,
          "y": 0.9652605785338879
         },
         {
          "group": "sport",
          "x": 1.8627610630743459,
          "y": 0.4364472365817086
         },
         {
          "group": "sport",
          "x": 1.5794197514167414,
          "y": -1.1950333746983832
         },
         {
          "group": "sport",
          "x": 0.6489052756818351,
          "y": 0.34562074646672936
         },
         {
          "group": "sport",
          "x": 0.6021767843199626,
          "y": -1.6164892259674928
         },
         {
          "group": "sport",
          "x": 0.0647108050827808,
          "y": -0.23580048907738588
         },
         {
          "group": "sport",
          "x": 1.7919700347135539,
          "y": 0.24383470027785709
         },
         {
          "group": "sport",
          "x": 1.0925541939389718,
          "y": -1.8610527424480698
         },
         {
          "group": "sport",
          "x": 1.359190783966981,
          "y": -0.030531186785442907
         },
         {
          "group": "sport",
          "x": 0.7284529081064363,
          "y": 0.21864222429507477
         },
         {
          "group": "sport",
          "x": 0.8116994078446843,
          "y": -0.9454626091570215
         },
         {
          "group": "sport",
          "x": 1.6888656844759153,
          "y": 0.010524618612680453
         },
         {
          "group": "sport",
          "x": 0.8870761801594022,
          "y": -1.860974883310803
         },
         {
          "group": "sport",
          "x": 1.5421644889115096,
          "y": 0.28282543417104916
         },
         {
          "group": "sport",
          "x": 0.996905139856997,
          "y": 0.6967546330141102
         },
         {
          "group": "sport",
          "x": 0.5495939834485145,
          "y": -1.0362274657463726
         },
         {
          "group": "sport",
          "x": 0.5310368358011833,
          "y": -1.0723298744683374
         },
         {
          "group": "sport",
          "x": 0.54321017215371,
          "y": -0.6088373595189673
         },
         {
          "group": "sport",
          "x": 1.74527885415664,
          "y": 0.2854414890128322
         },
         {
          "group": "sport",
          "x": 0.7920162161426156,
          "y": -0.40918400298609225
         },
         {
          "group": "sport",
          "x": 1.234502811895589,
          "y": -0.5225121266180766
         },
         {
          "group": "sport",
          "x": 0.7561384706743146,
          "y": -0.7435006436092731
         },
         {
          "group": "sport",
          "x": 1.2694270175808342,
          "y": 0.825468608290543
         },
         {
          "group": "sport",
          "x": 2.089387365951147,
          "y": -0.738824759485418
         },
         {
          "group": "sport",
          "x": 0.9604684050462022,
          "y": -0.7544922937961763
         },
         {
          "group": "sport",
          "x": 1.105273751117553,
          "y": -0.19148806286772221
         },
         {
          "group": "sport",
          "x": 0.8832590607502633,
          "y": 1.1446788157530565
         },
         {
          "group": "sport",
          "x": 1.0428412961071587,
          "y": 0.33980223999389614
         },
         {
          "group": "sport",
          "x": 1.669911478059195,
          "y": 2.008596087714834
         },
         {
          "group": "sport",
          "x": 1.1179837931398633,
          "y": -0.7322582683206635
         },
         {
          "group": "sport",
          "x": 0.6108397643184605,
          "y": -0.15851827116604056
         },
         {
          "group": "sport",
          "x": 1.3530030539184568,
          "y": 0.5184232583941792
         },
         {
          "group": "sport",
          "x": 1.0331776456359079,
          "y": 0.3943649666671257
         },
         {
          "group": "sport",
          "x": 0.4917464521815144,
          "y": -0.7155925686214484
         },
         {
          "group": "sport",
          "x": 0.9318429439786654,
          "y": -1.1547153709468476
         },
         {
          "group": "sport",
          "x": 1.7462817622813942,
          "y": -0.21244516108920206
         },
         {
          "group": "sport",
          "x": 1.5577732584730084,
          "y": -0.28899720720904637
         },
         {
          "group": "sport",
          "x": 1.7800042553240163,
          "y": -0.5677531678697529
         },
         {
          "group": "sport",
          "x": 0.9034448392256978,
          "y": -1.1399195337747312
         },
         {
          "group": "sport",
          "x": 1.1483565661388901,
          "y": -0.9544411997025085
         },
         {
          "group": "sport",
          "x": 0.6022810155156608,
          "y": -0.1217192239695969
         },
         {
          "group": "sport",
          "x": 0.7124600171984196,
          "y": -1.8886177751847795
         },
         {
          "group": "sport",
          "x": 1.123218308787367,
          "y": -1.9949691399377198
         },
         {
          "group": "sport",
          "x": 1.3220030593361598,
          "y": 1.4270279617433121
         },
         {
          "group": "sport",
          "x": 1.966594279742882,
          "y": 1.0321183236178928
         },
         {
          "group": "sport",
          "x": 0.9905681451943871,
          "y": 0.6247278285852205
         },
         {
          "group": "sport",
          "x": 0.6991030858878576,
          "y": -0.29545439294143644
         },
         {
          "group": "sport",
          "x": 0.8463163287993158,
          "y": -0.010630281743649564
         },
         {
          "group": "sport",
          "x": 1.563958783102277,
          "y": -0.33090203404330915
         },
         {
          "group": "sport",
          "x": 1.0621174724249647,
          "y": -1.558806823098104
         },
         {
          "group": "sport",
          "x": 0.763022843154345,
          "y": -0.2892164898774933
         },
         {
          "group": "sport",
          "x": 0.6403153369563493,
          "y": 0.538103275770545
         },
         {
          "group": "sport",
          "x": 1.0433550717760365,
          "y": -1.7319184844937123
         },
         {
          "group": "sport",
          "x": 1.9314921260785227,
          "y": -0.2846035106400159
         },
         {
          "group": "sport",
          "x": 1.4084745737154438,
          "y": -1.0451276129389169
         },
         {
          "group": "sport",
          "x": 0.8393995664991247,
          "y": -0.6595355228530559
         },
         {
          "group": "sport",
          "x": 1.0001395586713802,
          "y": -0.3895169324075201
         },
         {
          "group": "sport",
          "x": 1.8209817566969935,
          "y": -1.2446849492195726
         },
         {
          "group": "sport",
          "x": 0.999813908097064,
          "y": -0.2935669612995805
         },
         {
          "group": "sport",
          "x": 0.9415979175220036,
          "y": -0.4056183457325904
         },
         {
          "group": "sport",
          "x": 1.5015500720800556,
          "y": -0.8130976808010657
         },
         {
          "group": "sport",
          "x": 1.2821841521414779,
          "y": 0.5538213873157116
         },
         {
          "group": "sport",
          "x": 0.7797034997029805,
          "y": 0.12145192223372199
         },
         {
          "group": "sport",
          "x": 1.0145425179904615,
          "y": 0.6900577411368213
         },
         {
          "group": "sport",
          "x": 0.9271387707695757,
          "y": -1.0536162984368285
         },
         {
          "group": "sport",
          "x": 1.4254118202847044,
          "y": -0.051856272054263915
         },
         {
          "group": "sport",
          "x": 0.7115144278797824,
          "y": 0.043598091823232654
         },
         {
          "group": "sport",
          "x": 0.7386171285994798,
          "y": -0.14123015805689046
         },
         {
          "group": "sport",
          "x": 0.8117173342227867,
          "y": -2.1908488666754455
         },
         {
          "group": "sport",
          "x": 1.4048119631231402,
          "y": -0.503989235135066
         },
         {
          "group": "sport",
          "x": 0.9545869561073735,
          "y": -1.656808009261594
         },
         {
          "group": "sport",
          "x": 0.8865891965197576,
          "y": -0.7391198488977198
         },
         {
          "group": "sport",
          "x": 1.0829783809732412,
          "y": 1.137845079666218
         },
         {
          "group": "sport",
          "x": 0.4315212427507052,
          "y": 0.034067578827537984
         },
         {
          "group": "sport",
          "x": 0.8569297864154624,
          "y": -0.8956210133398864
         },
         {
          "group": "sport",
          "x": 0.43774035351764085,
          "y": -1.250005892895373
         },
         {
          "group": "sport",
          "x": 0.8568890619694488,
          "y": 2.189327582129334
         },
         {
          "group": "sport",
          "x": 1.6513032066620315,
          "y": -0.9163598236667847
         },
         {
          "group": "sport",
          "x": 1.0332506821667695,
          "y": -0.3669809748503058
         },
         {
          "group": "sport",
          "x": 0.8106234338646066,
          "y": -0.8752552510805355
         },
         {
          "group": "sport",
          "x": 0.6879980436359757,
          "y": -1.3428843301979048
         },
         {
          "group": "sport",
          "x": 0.21959084047436045,
          "y": -2.3043021759101974
         },
         {
          "group": "sport",
          "x": 1.0583713877242398,
          "y": -0.07203235241832105
         },
         {
          "group": "sport",
          "x": 0.090251477787169,
          "y": -0.6958845731950651
         },
         {
          "group": "sport",
          "x": 1.7403871462831508,
          "y": -0.3167655936522686
         },
         {
          "group": "sport",
          "x": 0.8153020323869634,
          "y": -1.9906385079224647
         },
         {
          "group": "sport",
          "x": 1.201978687519923,
          "y": -1.7257470518139808
         },
         {
          "group": "sport",
          "x": 0.6638651824684071,
          "y": -1.0740918309478917
         },
         {
          "group": "sport",
          "x": 0.9669963594511517,
          "y": -0.7198920489320477
         },
         {
          "group": "sport",
          "x": 0.5578716078896214,
          "y": 0.13588409539768634
         },
         {
          "group": "sport",
          "x": 1.4272647185064102,
          "y": 1.6709834873157583
         },
         {
          "group": "sport",
          "x": 1.0412345027415366,
          "y": 0.761422032119058
         },
         {
          "group": "sport",
          "x": 1.6336220978766163,
          "y": -0.6867156410075355
         },
         {
          "group": "sport",
          "x": 0.6392990570074228,
          "y": -1.4914398653000054
         },
         {
          "group": "sport",
          "x": 1.01803178075223,
          "y": 0.22390248287382752
         },
         {
          "group": "sport",
          "x": 0.9891688700846054,
          "y": 0.9087223100028555
         },
         {
          "group": "sport",
          "x": 1.0309341393082077,
          "y": 0.16848942940706194
         },
         {
          "group": "sport",
          "x": 1.1038482172977946,
          "y": 0.3848828923036583
         },
         {
          "group": "sport",
          "x": 1.2409086013649553,
          "y": -1.4598133134791698
         },
         {
          "group": "sport",
          "x": 1.7348776349339883,
          "y": -0.3378516399722444
         },
         {
          "group": "sport",
          "x": 1.0426388401692632,
          "y": -0.19158419003907876
         },
         {
          "group": "sport",
          "x": 0.8801347660506942,
          "y": -1.962965283128769
         },
         {
          "group": "sport",
          "x": 0.6379639166905738,
          "y": 0.07834759770987879
         },
         {
          "group": "sport",
          "x": 1.433783089717909,
          "y": -0.9224609298826763
         },
         {
          "group": "sport",
          "x": 0.8809519627092902,
          "y": -0.3200499161354789
         },
         {
          "group": "sport",
          "x": 1.8919024682416987,
          "y": -1.2134989425170835
         },
         {
          "group": "sport",
          "x": 0.592386642802464,
          "y": -0.3060500180544766
         },
         {
          "group": "sport",
          "x": 0.48131862994094793,
          "y": -2.9889885547116046
         },
         {
          "group": "sport",
          "x": 0.3865419153896788,
          "y": -0.48252730476285366
         },
         {
          "group": "sport",
          "x": 0.5020477226497317,
          "y": -1.8390650285274994
         },
         {
          "group": "sport",
          "x": 0.6734073379435752,
          "y": 0.9185767997468113
         },
         {
          "group": "sport",
          "x": 0.4749153208168042,
          "y": 0.19101299578466974
         },
         {
          "group": "sport",
          "x": 0.4202955407660487,
          "y": -2.2769542753302345
         },
         {
          "group": "sport",
          "x": 0.7472866556237652,
          "y": -0.5794151400992401
         },
         {
          "group": "sport",
          "x": 0.9803959348845337,
          "y": -0.1178496094933567
         },
         {
          "group": "sport",
          "x": 0.7814609691731835,
          "y": -0.11687557921962835
         },
         {
          "group": "sport",
          "x": 1.2216931486399838,
          "y": -0.42627595440402427
         },
         {
          "group": "sport",
          "x": 0.5442090495305504,
          "y": -0.7194070008946515
         },
         {
          "group": "sport",
          "x": 0.6897663785325735,
          "y": -0.3216330574385272
         },
         {
          "group": "sport",
          "x": 1.5591850547663137,
          "y": 1.0507307048042465
         },
         {
          "group": "sport",
          "x": 1.4818205892936454,
          "y": 0.5018678063201051
         },
         {
          "group": "sport",
          "x": 0.5180520621720794,
          "y": -1.0050307068356008
         },
         {
          "group": "sport",
          "x": 1.1615132512396038,
          "y": -0.2449497033106527
         },
         {
          "group": "sport",
          "x": 0.1601911129800192,
          "y": 0.8624841234278089
         },
         {
          "group": "sport",
          "x": 0.7437193870927186,
          "y": -0.7461657775980094
         },
         {
          "group": "sport",
          "x": 0.831549138652167,
          "y": 0.015339598616123771
         },
         {
          "group": "sport",
          "x": 1.2886083892753921,
          "y": -0.6591847090099369
         },
         {
          "group": "sport",
          "x": 0.4708318921906261,
          "y": 0.24864725433843796
         },
         {
          "group": "sport",
          "x": 0.9667844212754472,
          "y": -0.8973974292723105
         },
         {
          "group": "sport",
          "x": 1.119069768309518,
          "y": -0.7354359897805919
         },
         {
          "group": "sport",
          "x": 0.8439836427017987,
          "y": -0.9940682171350083
         },
         {
          "group": "sport",
          "x": 1.1479477024300566,
          "y": -0.6167418958686928
         },
         {
          "group": "sport",
          "x": 1.0079542286715897,
          "y": -0.7963377892696036
         },
         {
          "group": "sport",
          "x": 1.1027476110821597,
          "y": -1.2923641593758306
         },
         {
          "group": "sport",
          "x": 0.032169861583772996,
          "y": -1.6227952557986363
         },
         {
          "group": "sport",
          "x": 1.091753115512339,
          "y": -0.877758105481035
         },
         {
          "group": "sport",
          "x": 0.9940870526744152,
          "y": -1.4073105818432317
         },
         {
          "group": "sport",
          "x": 0.8225673335459478,
          "y": 0.13792566775042248
         },
         {
          "group": "sport",
          "x": 0.8805137160415579,
          "y": -2.2258678556689806
         },
         {
          "group": "sport",
          "x": 0.9869870313700868,
          "y": -0.6970101892477684
         },
         {
          "group": "sport",
          "x": 0.7769360414288273,
          "y": -1.2245384212135875
         },
         {
          "group": "sport",
          "x": 0.3614218782646136,
          "y": 0.203669789574285
         },
         {
          "group": "sport",
          "x": 0.6212885429757029,
          "y": -0.8377643590720747
         },
         {
          "group": "sport",
          "x": 1.1594585882292294,
          "y": -0.618687585214659
         },
         {
          "group": "sport",
          "x": 0.24072609329473893,
          "y": 0.48798211775275935
         },
         {
          "group": "sport",
          "x": 1.2094352730889437,
          "y": -0.8083902338654283
         },
         {
          "group": "sport",
          "x": 0.5316139527650701,
          "y": -1.5173868246034197
         },
         {
          "group": "sport",
          "x": 0.9235983048545657,
          "y": -0.06390512727603036
         },
         {
          "group": "sport",
          "x": 0.5579311078558451,
          "y": 0.20353434963875774
         },
         {
          "group": "sport",
          "x": 0.44885128460331714,
          "y": -0.8094735529984455
         },
         {
          "group": "sport",
          "x": 0.730560181260941,
          "y": 0.8558877961214579
         },
         {
          "group": "sport",
          "x": 0.9579594163996641,
          "y": -1.7337537791991575
         },
         {
          "group": "sport",
          "x": 1.551006859269169,
          "y": -0.8329480956215821
         },
         {
          "group": "sport",
          "x": 1.524094584498034,
          "y": -0.27852226682720943
         },
         {
          "group": "sport",
          "x": 0.5326794054338996,
          "y": -0.7509041606745839
         },
         {
          "group": "sport",
          "x": 1.1317140704298516,
          "y": 0.22969655418721371
         },
         {
          "group": "sport",
          "x": 0.7118366920212102,
          "y": -1.227401158821968
         },
         {
          "group": "sport",
          "x": 0.342884361544121,
          "y": 0.19049300663929414
         },
         {
          "group": "sport",
          "x": 1.3305552071495002,
          "y": -0.44921763392131125
         },
         {
          "group": "sport",
          "x": 1.429495588105959,
          "y": -0.23426705585922827
         },
         {
          "group": "sport",
          "x": 1.4414682801923109,
          "y": -0.3663661881679308
         },
         {
          "group": "sport",
          "x": 0.7870194899622048,
          "y": -0.45733855585523164
         },
         {
          "group": "sport",
          "x": 0.7290407666233841,
          "y": -1.3426663499227964
         },
         {
          "group": "sport",
          "x": 1.3347480739932127,
          "y": -0.6687382678209796
         },
         {
          "group": "sport",
          "x": 1.4450757472089,
          "y": -0.8725319278890636
         },
         {
          "group": "sport",
          "x": 0.925952640698519,
          "y": -0.7738145014251325
         },
         {
          "group": "sport",
          "x": 0.9399443947390178,
          "y": -1.4867725206453255
         },
         {
          "group": "sport",
          "x": 1.157680337985513,
          "y": 1.1822748080434644
         },
         {
          "group": "sport",
          "x": 1.293601887559567,
          "y": -0.6594598556924506
         },
         {
          "group": "sport",
          "x": 1.5566632011936967,
          "y": 0.9380143778739133
         },
         {
          "group": "sport",
          "x": 1.2496330514356637,
          "y": -0.24776345758874166
         },
         {
          "group": "sport",
          "x": 0.8298677906064292,
          "y": -2.13538911350411
         },
         {
          "group": "sport",
          "x": 1.7637384369045188,
          "y": -0.37238667305739337
         },
         {
          "group": "sport",
          "x": 0.9954362501974796,
          "y": -0.3959542934414542
         },
         {
          "group": "sport",
          "x": 0.631312878077828,
          "y": -0.08307637680174206
         },
         {
          "group": "sport",
          "x": 1.5994368283862763,
          "y": -1.0821320988149554
         },
         {
          "group": "sport",
          "x": 1.9166837762439908,
          "y": 0.47745758167752383
         },
         {
          "group": "sport",
          "x": 1.5984378127546879,
          "y": -0.2544464562111509
         },
         {
          "group": "sport",
          "x": 1.0986715400156364,
          "y": -0.6830388102427287
         },
         {
          "group": "sport",
          "x": 0.8899402424749818,
          "y": 0.5476862199671111
         },
         {
          "group": "sport",
          "x": 0.3941038313982504,
          "y": -0.23861579579588157
         },
         {
          "group": "sport",
          "x": 0.9676882905480185,
          "y": 0.3001928181395055
         },
         {
          "group": "sport",
          "x": 1.0784401198583375,
          "y": -0.7017276476760715
         },
         {
          "group": "sport",
          "x": 1.6026889258832822,
          "y": -0.08118565338543933
         },
         {
          "group": "sport",
          "x": 1.0726413109714696,
          "y": -1.038975140464623
         },
         {
          "group": "sport",
          "x": 1.9465847007468922,
          "y": -0.5794833360028917
         },
         {
          "group": "sport",
          "x": 1.9312451498941143,
          "y": -0.388354437619586
         },
         {
          "group": "sport",
          "x": 1.9872379761713952,
          "y": 0.6308027952866073
         },
         {
          "group": "sport",
          "x": 1.1868783834696224,
          "y": -1.6970860126442964
         },
         {
          "group": "sport",
          "x": 0.8293586106574671,
          "y": -0.8832238243923213
         },
         {
          "group": "sport",
          "x": 0.835627145103615,
          "y": -1.0402393519269004
         },
         {
          "group": "sport",
          "x": 1.217066426686849,
          "y": -0.2699375706518581
         },
         {
          "group": "sport",
          "x": 0.3446253444750792,
          "y": 0.20962294653309807
         },
         {
          "group": "sport",
          "x": 0.5724513977240523,
          "y": 0.8146957301528274
         },
         {
          "group": "sport",
          "x": 1.1942748964956065,
          "y": 0.13903135159863905
         },
         {
          "group": "sport",
          "x": 1.5909644017514029,
          "y": -0.9756234208684538
         },
         {
          "group": "sport",
          "x": 0.7691729578206644,
          "y": -1.1678719222398464
         },
         {
          "group": "sport",
          "x": 1.5475335322892205,
          "y": -0.15895767864919402
         },
         {
          "group": "sport",
          "x": 0.4064759354018204,
          "y": 0.25942065312839074
         },
         {
          "group": "sport",
          "x": 1.1498590609089132,
          "y": 0.4529623880817887
         },
         {
          "group": "sport",
          "x": 1.3139116676168865,
          "y": 0.020203168940493166
         },
         {
          "group": "sport",
          "x": 1.7460107868446078,
          "y": -0.27452169070405463
         },
         {
          "group": "sport",
          "x": 1.1758855981148397,
          "y": -0.6129928397286813
         },
         {
          "group": "sport",
          "x": 1.3152573338305595,
          "y": 0.21297161666663242
         },
         {
          "group": "sport",
          "x": 1.4910027216885888,
          "y": 0.43126577811053673
         },
         {
          "group": "sport",
          "x": 1.2931616395037973,
          "y": -1.33688535016717
         },
         {
          "group": "sport",
          "x": 1.9534784429287724,
          "y": -0.7796137646645066
         },
         {
          "group": "sport",
          "x": 1.4612944238041792,
          "y": -0.2856484560838847
         },
         {
          "group": "sport",
          "x": 1.5609803788577077,
          "y": 0.4097593752927953
         },
         {
          "group": "sport",
          "x": 0.47746589949155055,
          "y": -0.4545762180402252
         },
         {
          "group": "sport",
          "x": 0.5065747559027912,
          "y": -2.2002076345995647
         },
         {
          "group": "sport",
          "x": 1.3249925784143666,
          "y": -0.27784267336609053
         },
         {
          "group": "sport",
          "x": 1.339454794019565,
          "y": -0.33871196133142445
         },
         {
          "group": "sport",
          "x": 1.0670274808858302,
          "y": -0.3513496130474859
         },
         {
          "group": "sport",
          "x": 1.944235247495898,
          "y": 0.519393573351728
         },
         {
          "group": "sport",
          "x": 1.589254745211605,
          "y": 0.5963758002734659
         },
         {
          "group": "sport",
          "x": 1.4586462037799213,
          "y": 0.02487619479828766
         },
         {
          "group": "sport",
          "x": 1.7422519209983844,
          "y": 0.5947317320443658
         },
         {
          "group": "sport",
          "x": 0.8109403054127856,
          "y": 0.8408539564989699
         },
         {
          "group": "sport",
          "x": 0.5563301920788449,
          "y": -0.819303348159789
         },
         {
          "group": "sport",
          "x": 1.2297428351590411,
          "y": -0.3906305136424608
         },
         {
          "group": "sport",
          "x": 1.1062856377963937,
          "y": 0.808378972988504
         },
         {
          "group": "sport",
          "x": 1.1204273432502552,
          "y": -0.5124954102066883
         },
         {
          "group": "sport",
          "x": 1.2844391187348552,
          "y": 0.13580497531269503
         },
         {
          "group": "sport",
          "x": 1.0413358237391903,
          "y": 0.29646311472348164
         },
         {
          "group": "sport",
          "x": 0.7848213384611751,
          "y": 0.45801387792356996
         },
         {
          "group": "sport",
          "x": 1.118887668316198,
          "y": 0.1237682496433033
         },
         {
          "group": "sport",
          "x": 1.5506999831754762,
          "y": -0.783120333205037
         },
         {
          "group": "sport",
          "x": 0.9254424618282392,
          "y": -0.7982004303020312
         },
         {
          "group": "sport",
          "x": 1.5963257830716013,
          "y": -0.29268081806843216
         },
         {
          "group": "sport",
          "x": 0.49890225215294165,
          "y": -1.5001504719770404
         },
         {
          "group": "sport",
          "x": 0.7034202141113572,
          "y": -0.14676442587527222
         },
         {
          "group": "sport",
          "x": 0.540890662002932,
          "y": 1.2470942682407977
         },
         {
          "group": "sport",
          "x": 0.6709760314704225,
          "y": 0.575271039662233
         },
         {
          "group": "sport",
          "x": 0.6718639142387168,
          "y": -1.612512216033177
         },
         {
          "group": "sport",
          "x": 1.178320684343105,
          "y": 0.3540523434631883
         },
         {
          "group": "sport",
          "x": 0.3801166563286166,
          "y": 0.20222828412161317
         },
         {
          "group": "sport",
          "x": 0.8468659146402076,
          "y": 0.37474110167703334
         },
         {
          "group": "sport",
          "x": 0.7319191600520709,
          "y": -0.5791143269450442
         },
         {
          "group": "sport",
          "x": 1.2734818373895491,
          "y": -0.3139970924831524
         },
         {
          "group": "sport",
          "x": 0.379198532332549,
          "y": 0.5044139632899644
         },
         {
          "group": "sport",
          "x": 0.9277295736002262,
          "y": -0.010053175792614723
         },
         {
          "group": "sport",
          "x": 1.3443832434214424,
          "y": -0.7577240309876933
         },
         {
          "group": "sport",
          "x": 0.5618301679902883,
          "y": -0.07133095681421177
         },
         {
          "group": "sport",
          "x": 1.2682959885059313,
          "y": -1.2714526900085699
         },
         {
          "group": "sport",
          "x": 0.3863876049880126,
          "y": -0.5829501937505759
         },
         {
          "group": "sport",
          "x": 0.9207308784535312,
          "y": -0.09751704349565596
         },
         {
          "group": "sport",
          "x": 2.181438137542024,
          "y": -0.12172854499084872
         },
         {
          "group": "sport",
          "x": 0.3005184216782051,
          "y": -1.1687058693607217
         },
         {
          "group": "sport",
          "x": 1.2418371978603635,
          "y": -0.6429491042388765
         },
         {
          "group": "sport",
          "x": 1.3318671441335383,
          "y": 0.1641094203165432
         },
         {
          "group": "sport",
          "x": 1.094657091658911,
          "y": -0.7489053443329808
         },
         {
          "group": "sport",
          "x": 0.644349302084749,
          "y": -0.8407941901212233
         },
         {
          "group": "sport",
          "x": 0.7749320093748128,
          "y": 0.4008022263562314
         },
         {
          "group": "sport",
          "x": 1.3814261226066051,
          "y": -0.4651801999449642
         },
         {
          "group": "sport",
          "x": 0.06757897854312017,
          "y": -1.5387565830186267
         },
         {
          "group": "sport",
          "x": 0.8573746094272243,
          "y": -1.4516709416504616
         },
         {
          "group": "sport",
          "x": 0.39979064397583797,
          "y": -0.07929973820925552
         },
         {
          "group": "sport",
          "x": 1.0141806504389888,
          "y": -0.6452205010366264
         },
         {
          "group": "sport",
          "x": 1.1483978368437897,
          "y": -0.39940196762713476
         },
         {
          "group": "sport",
          "x": 1.8251154593102978,
          "y": 0.6390368080594878
         },
         {
          "group": "sport",
          "x": 1.1110906970909893,
          "y": -1.442309277714818
         },
         {
          "group": "sport",
          "x": 0.5391744858517038,
          "y": -1.0717473967660986
         },
         {
          "group": "sport",
          "x": 1.3349437879101826,
          "y": -0.1833762219725374
         },
         {
          "group": "sport",
          "x": 1.2204287870438477,
          "y": -0.9551112125210331
         },
         {
          "group": "sport",
          "x": 1.3695783876804148,
          "y": -1.3899026306466113
         },
         {
          "group": "sport",
          "x": 1.2357313226981819,
          "y": -2.774492202049421
         },
         {
          "group": "sport",
          "x": 0.759301436327488,
          "y": -0.35166891087101537
         },
         {
          "group": "sport",
          "x": 0.7808150060691968,
          "y": -1.0287519543239514
         },
         {
          "group": "sport",
          "x": 0.12482763632417929,
          "y": 0.20028240116881296
         },
         {
          "group": "sport",
          "x": 0.6003683007284694,
          "y": -2.029373699561339
         },
         {
          "group": "sport",
          "x": 1.1120601608536496,
          "y": -0.9952567735766948
         },
         {
          "group": "sport",
          "x": 0.8416967354818446,
          "y": 0.04846792646902956
         },
         {
          "group": "sport",
          "x": 1.0172056386238384,
          "y": -0.7440507850363554
         },
         {
          "group": "sport",
          "x": 0.9991877032042727,
          "y": -1.9197798461083997
         },
         {
          "group": "sport",
          "x": 1.2975345580629534,
          "y": -0.8360223230955934
         },
         {
          "group": "sport",
          "x": 1.093391814809909,
          "y": -0.7265286734279409
         },
         {
          "group": "sport",
          "x": 1.0031353943466457,
          "y": -1.643363386110742
         },
         {
          "group": "sport",
          "x": 1.5017509908402324,
          "y": -0.5167533291434087
         },
         {
          "group": "sport",
          "x": 0.9778536929510836,
          "y": -0.23187354075966357
         },
         {
          "group": "sport",
          "x": 1.8581810468571596,
          "y": -1.1391365480032356
         },
         {
          "group": "sport",
          "x": 1.42920119398669,
          "y": 0.6873735242370937
         },
         {
          "group": "sport",
          "x": 1.2592115314334151,
          "y": -0.3569411536496899
         },
         {
          "group": "sport",
          "x": 1.8918931984825078,
          "y": 1.307077688691747
         },
         {
          "group": "sport",
          "x": 1.3758132181138403,
          "y": -0.5742129433432016
         },
         {
          "group": "sport",
          "x": 1.8762177200650243,
          "y": -0.11612767621356733
         },
         {
          "group": "sport",
          "x": 1.6599212251043487,
          "y": -0.5313813091577657
         },
         {
          "group": "sport",
          "x": 1.3764638472364197,
          "y": -0.2920564713557788
         },
         {
          "group": "sport",
          "x": 1.4332941606520297,
          "y": -0.8532124736044163
         },
         {
          "group": "sport",
          "x": 2.5207379327438693,
          "y": -0.8243606473801479
         },
         {
          "group": "sport",
          "x": 1.4590967930499061,
          "y": -0.9082727244288984
         },
         {
          "group": "sport",
          "x": 1.2144172875566015,
          "y": 0.6011350065476856
         },
         {
          "group": "sport",
          "x": 0.961448961410128,
          "y": -0.692716339200609
         },
         {
          "group": "sport",
          "x": 2.211503962735668,
          "y": 0.2307832766854785
         },
         {
          "group": "sport",
          "x": 2.69559921058822,
          "y": 2.8381687679045404
         },
         {
          "group": "sport",
          "x": 2.6923417278333974,
          "y": 0.28585376662774753
         },
         {
          "group": "sport",
          "x": 2.7642341376444937,
          "y": 1.2868461122684767
         },
         {
          "group": "sport",
          "x": 1.9362607587948424,
          "y": 1.3866723085422525
         },
         {
          "group": "sport",
          "x": 3.1607279606884506,
          "y": 0.7075419706432002
         },
         {
          "group": "sport",
          "x": 0.9780342584880461,
          "y": 1.3109757353113916
         },
         {
          "group": "sport",
          "x": 1.4899977686058605,
          "y": 0.4206002610695596
         },
         {
          "group": "sport",
          "x": 1.5513330254450648,
          "y": 1.953852045659105
         },
         {
          "group": "sport",
          "x": 3.1266869084779527,
          "y": 2.017638142699286
         },
         {
          "group": "sport",
          "x": 1.827279815733251,
          "y": 1.7779160957043765
         },
         {
          "group": "sport",
          "x": 0.8141081221266233,
          "y": 1.9580962140225002
         },
         {
          "group": "sport",
          "x": 1.3325856496627042,
          "y": 0.7432698381143232
         },
         {
          "group": "sport",
          "x": 2.467369527874606,
          "y": -0.6017806150824586
         },
         {
          "group": "sport",
          "x": 1.7848719656857064,
          "y": 0.4331012910950886
         },
         {
          "group": "sport",
          "x": 2.1807741604483524,
          "y": -0.08968006778954539
         },
         {
          "group": "sport",
          "x": 1.942920041397314,
          "y": 0.8015854418460623
         },
         {
          "group": "sport",
          "x": 1.4463181163014973,
          "y": 2.105826952697281
         },
         {
          "group": "sport",
          "x": 1.9919734338330555,
          "y": -0.8039333828798705
         },
         {
          "group": "sport",
          "x": 2.6449770960068033,
          "y": 1.5190247431289117
         },
         {
          "group": "sport",
          "x": 3.3362041640179343,
          "y": 0.4908641233956821
         },
         {
          "group": "sport",
          "x": 2.7024533508357504,
          "y": 1.5630487328483322
         },
         {
          "group": "sport",
          "x": 1.2805377181039608,
          "y": 0.24974680305866792
         },
         {
          "group": "sport",
          "x": 1.280747279626306,
          "y": 0.8768629830276565
         },
         {
          "group": "sport",
          "x": 2.861257675454007,
          "y": 1.6679298592058276
         },
         {
          "group": "sport",
          "x": 2.212654388683697,
          "y": 1.15939906560464
         },
         {
          "group": "sport",
          "x": 2.911930746827106,
          "y": 3.247040660713622
         },
         {
          "group": "sport",
          "x": 1.901582382952103,
          "y": 1.3637039379868134
         },
         {
          "group": "sport",
          "x": 1.697102784076213,
          "y": 0.847204977493271
         },
         {
          "group": "sport",
          "x": 0.7041842195779857,
          "y": -0.1888620197329587
         },
         {
          "group": "sport",
          "x": 2.7862680119481267,
          "y": 2.1480743115243084
         },
         {
          "group": "sport",
          "x": 2.0379346734403314,
          "y": 0.8637117629112773
         },
         {
          "group": "sport",
          "x": 1.3383438710394013,
          "y": 0.24938394871356018
         },
         {
          "group": "sport",
          "x": 2.793276490413254,
          "y": 2.4410244729416446
         },
         {
          "group": "sport",
          "x": 1.2443554130076604,
          "y": 1.1790509339230828
         },
         {
          "group": "sport",
          "x": 1.6513769558521432,
          "y": 0.6333684173673191
         },
         {
          "group": "sport",
          "x": 2.2582937220143307,
          "y": 1.616553423028232
         },
         {
          "group": "sport",
          "x": 1.8191324903610795,
          "y": 0.33595060863090226
         },
         {
          "group": "sport",
          "x": 1.0670210924203947,
          "y": -0.3238644617415345
         },
         {
          "group": "sport",
          "x": 2.7773684387664503,
          "y": 0.2960051973820244
         },
         {
          "group": "sport",
          "x": 1.4976500640507893,
          "y": 1.5119292368919124
         },
         {
          "group": "sport",
          "x": 0.8352733124446122,
          "y": 1.2648130846634216
         },
         {
          "group": "sport",
          "x": 2.1859167600503655,
          "y": 1.6231605162389209
         },
         {
          "group": "sport",
          "x": 1.1962317384682852,
          "y": -0.6314567429520649
         },
         {
          "group": "sport",
          "x": 1.3435508955653856,
          "y": -1.3931565555548657
         },
         {
          "group": "sport",
          "x": 2.3081146816257307,
          "y": 1.3602445738745816
         },
         {
          "group": "sport",
          "x": 2.6662814159919406,
          "y": 2.333131976775747
         },
         {
          "group": "sport",
          "x": 2.8838041615069954,
          "y": 0.7657659438940284
         },
         {
          "group": "sport",
          "x": 2.727409759761476,
          "y": 1.3868551603789405
         },
         {
          "group": "sport",
          "x": 2.592719003012658,
          "y": 1.6790414805671952
         },
         {
          "group": "sport",
          "x": 2.1323789467215297,
          "y": 1.122244561431546
         },
         {
          "group": "sport",
          "x": 2.3056623725951226,
          "y": 1.5552901328220923
         },
         {
          "group": "sport",
          "x": 2.089087586725817,
          "y": -0.029939762708934146
         },
         {
          "group": "sport",
          "x": 1.7748064968467785,
          "y": 1.6415021971708383
         },
         {
          "group": "sport",
          "x": 3.321135356247205,
          "y": 2.2914397924626138
         },
         {
          "group": "sport",
          "x": 0.8412526959882202,
          "y": -1.1601559499640797
         },
         {
          "group": "sport",
          "x": 2.328688816725592,
          "y": 2.4653550118439296
         },
         {
          "group": "sport",
          "x": 2.8446135086475564,
          "y": 1.8849047737299913
         },
         {
          "group": "sport",
          "x": 4.177518022460136,
          "y": 1.9744033820876281
         },
         {
          "group": "sport",
          "x": 2.1971342439421733,
          "y": 0.3639058668238765
         },
         {
          "group": "sport",
          "x": 2.704402211325467,
          "y": 2.181299373486425
         },
         {
          "group": "sport",
          "x": 1.3542790138213616,
          "y": 0.27494027615787847
         },
         {
          "group": "sport",
          "x": 1.0292632752658124,
          "y": -0.4873611461845165
         },
         {
          "group": "sport",
          "x": 2.3464410132924742,
          "y": 0.2045352739161815
         },
         {
          "group": "sport",
          "x": 1.680308465664909,
          "y": 0.4140495035143516
         },
         {
          "group": "sport",
          "x": 1.6420617053285143,
          "y": 0.20768814589536605
         },
         {
          "group": "sport",
          "x": 2.2634478614839484,
          "y": 3.771366971247262
         },
         {
          "group": "sport",
          "x": 1.454347822190755,
          "y": 1.0186930474893034
         },
         {
          "group": "sport",
          "x": 3.090282792086987,
          "y": 1.622596010125311
         },
         {
          "group": "sport",
          "x": 2.350834082537237,
          "y": 1.77311260429678
         },
         {
          "group": "sport",
          "x": 3.3554170373826904,
          "y": 1.6030832355009499
         },
         {
          "group": "sport",
          "x": 3.0433144945871966,
          "y": 2.2938603257571804
         },
         {
          "group": "sport",
          "x": 2.723045274030254,
          "y": 3.0298296584372966
         },
         {
          "group": "sport",
          "x": 2.5587429160963273,
          "y": 0.6157381821284652
         },
         {
          "group": "sport",
          "x": 1.6765187420874892,
          "y": -0.30379514667564
         },
         {
          "group": "sport",
          "x": 2.813796454535649,
          "y": 2.1059792256561027
         },
         {
          "group": "sport",
          "x": 2.1925590136651882,
          "y": -1.6228380137169804
         },
         {
          "group": "sport",
          "x": 1.8253619249962436,
          "y": 0.048553532146934274
         },
         {
          "group": "sport",
          "x": 0.522238076305899,
          "y": 0.3256975689868794
         },
         {
          "group": "sport",
          "x": 2.471278240512382,
          "y": 1.6995873291301304
         },
         {
          "group": "sport",
          "x": 1.7615138380762116,
          "y": 1.8809179012380366
         },
         {
          "group": "sport",
          "x": 1.7398019595932255,
          "y": 1.602053480761532
         },
         {
          "group": "sport",
          "x": 1.5651480561606472,
          "y": -2.156149711945191
         },
         {
          "group": "sport",
          "x": 2.384553862802819,
          "y": 1.5648959597598728
         },
         {
          "group": "sport",
          "x": 0.9061307429851351,
          "y": 0.5908112812266195
         },
         {
          "group": "sport",
          "x": 3.589245099206573,
          "y": 0.7280723933008029
         },
         {
          "group": "sport",
          "x": 3.169154107049568,
          "y": -1.227877737531221
         },
         {
          "group": "sport",
          "x": 1.8869800172701612,
          "y": -0.9565188559550408
         },
         {
          "group": "sport",
          "x": 1.6306644996386825,
          "y": 1.001009239125679
         },
         {
          "group": "sport",
          "x": 1.038427542982931,
          "y": -0.8858336411417036
         },
         {
          "group": "sport",
          "x": 3.4118861326870724,
          "y": 1.057322610156486
         },
         {
          "group": "sport",
          "x": 2.939260084384836,
          "y": 0.3394715359736517
         },
         {
          "group": "business",
          "x": -1.8320786793168657,
          "y": -1.398251468591015
         },
         {
          "group": "business",
          "x": -0.03879376295654253,
          "y": 0.6839235214051818
         },
         {
          "group": "business",
          "x": -0.4919703125397394,
          "y": 0.697670212040162
         },
         {
          "group": "business",
          "x": 0.8183080911498278,
          "y": -0.11550795968834934
         },
         {
          "group": "business",
          "x": -0.7073951439896478,
          "y": 1.7136320373485925
         },
         {
          "group": "business",
          "x": 1.2709571533352115,
          "y": 0.17572217173135207
         },
         {
          "group": "business",
          "x": -0.037578897276005115,
          "y": -0.25938822344300516
         },
         {
          "group": "business",
          "x": 0.38249034941274646,
          "y": -0.2857133208034128
         },
         {
          "group": "business",
          "x": -1.3737283644644829,
          "y": 1.0236070184533923
         },
         {
          "group": "business",
          "x": 0.11792216171333868,
          "y": -0.48907169952110935
         },
         {
          "group": "business",
          "x": -0.26178378505182087,
          "y": -0.6797021348078265
         },
         {
          "group": "business",
          "x": 1.1578434338134294,
          "y": -0.35460376033042607
         },
         {
          "group": "business",
          "x": -1.660819782297721,
          "y": 0.10133827448071854
         },
         {
          "group": "business",
          "x": -2.535257500742854,
          "y": 0.7445956374968045
         },
         {
          "group": "business",
          "x": -0.162063211433664,
          "y": 0.7137278377337458
         },
         {
          "group": "business",
          "x": -0.42012317804334043,
          "y": 0.0029881979615155705
         },
         {
          "group": "business",
          "x": 0.47398824280390867,
          "y": 0.8868763355644125
         },
         {
          "group": "business",
          "x": -1.2613188242856892,
          "y": -1.097102247459466
         },
         {
          "group": "business",
          "x": 2.4440401576950386,
          "y": 0.7721163377906709
         },
         {
          "group": "business",
          "x": -0.9522323654442986,
          "y": -1.114994442728207
         },
         {
          "group": "business",
          "x": -0.14415082003118537,
          "y": 1.4267004171425044
         },
         {
          "group": "business",
          "x": -1.880547977017301,
          "y": 0.27622480334608135
         },
         {
          "group": "business",
          "x": -0.3681724511266417,
          "y": 1.258918524289675
         },
         {
          "group": "business",
          "x": 0.06287603886125126,
          "y": -0.17338300680290464
         },
         {
          "group": "business",
          "x": -0.5645576536145934,
          "y": -1.380748963039847
         },
         {
          "group": "business",
          "x": -0.13341542350270716,
          "y": 0.39894266216925056
         },
         {
          "group": "business",
          "x": -0.8758569048620153,
          "y": 1.678523085446676
         },
         {
          "group": "business",
          "x": -0.613112422202372,
          "y": 0.30635045772577124
         },
         {
          "group": "business",
          "x": -1.5066874475537568,
          "y": 0.35763837526061276
         },
         {
          "group": "business",
          "x": -0.1032034041503786,
          "y": -1.0879281719423943
         },
         {
          "group": "business",
          "x": -0.6006372760555796,
          "y": 0.49922322561458626
         },
         {
          "group": "business",
          "x": -0.5811857081161246,
          "y": 0.327910912182998
         },
         {
          "group": "business",
          "x": -0.14628242271252498,
          "y": 1.1069987833078077
         },
         {
          "group": "business",
          "x": -0.504899594415688,
          "y": -0.3850420494380165
         },
         {
          "group": "business",
          "x": -1.9359837618780198,
          "y": 0.6477204403503682
         },
         {
          "group": "business",
          "x": 0.15772710012514715,
          "y": 1.9562962702860878
         },
         {
          "group": "business",
          "x": 0.11179970294029284,
          "y": 0.10424850513851698
         },
         {
          "group": "business",
          "x": 0.4766928243743206,
          "y": -2.218413829153308
         },
         {
          "group": "business",
          "x": -0.5879596723165194,
          "y": 1.5899362594571234
         },
         {
          "group": "business",
          "x": -0.8174730354063416,
          "y": 1.7354420950059908
         },
         {
          "group": "business",
          "x": -0.3080127349308182,
          "y": -0.27171274926162325
         },
         {
          "group": "business",
          "x": -1.2282634682470563,
          "y": 0.07251188537705532
         },
         {
          "group": "business",
          "x": -0.9603145162742096,
          "y": 0.37520627844464277
         },
         {
          "group": "business",
          "x": 0.19814897643494914,
          "y": -2.1413406538643445
         },
         {
          "group": "business",
          "x": -1.0367976921479394,
          "y": -1.0599057296927163
         },
         {
          "group": "business",
          "x": -1.1108390068376022,
          "y": 0.6519511627725382
         },
         {
          "group": "business",
          "x": -0.045471811639540755,
          "y": -1.9764093496554267
         },
         {
          "group": "business",
          "x": 0.4416416930122792,
          "y": 1.6898329653431232
         },
         {
          "group": "business",
          "x": -1.5700093257942405,
          "y": 0.16096259761615833
         },
         {
          "group": "business",
          "x": 1.334276729926473,
          "y": -0.6857295241834259
         },
         {
          "group": "business",
          "x": 1.1853185116701122,
          "y": 2.6410033494367555
         },
         {
          "group": "business",
          "x": 0.2827010667975766,
          "y": -0.08670398458677732
         },
         {
          "group": "business",
          "x": -0.2683075569210302,
          "y": 0.6514012485500369
         },
         {
          "group": "business",
          "x": -0.17411826690393312,
          "y": -0.9761708899105773
         },
         {
          "group": "business",
          "x": -0.3687630337739261,
          "y": 0.2717260451732279
         },
         {
          "group": "business",
          "x": 0.47531988593553387,
          "y": 0.11855842837394022
         },
         {
          "group": "business",
          "x": 1.0924134501573246,
          "y": -0.35679768048376603
         },
         {
          "group": "business",
          "x": -0.13411983933736593,
          "y": 1.7600353049093118
         },
         {
          "group": "business",
          "x": -1.1133472051985494,
          "y": 0.004939067518054567
         },
         {
          "group": "business",
          "x": -0.33620853474538115,
          "y": 0.12385616765854335
         },
         {
          "group": "business",
          "x": -1.0364960564395072,
          "y": 0.7148765515936444
         },
         {
          "group": "business",
          "x": 0.9788695522861984,
          "y": 0.6526395499201167
         },
         {
          "group": "business",
          "x": -1.4347748834357936,
          "y": 1.7663892507537067
         },
         {
          "group": "business",
          "x": -1.5889266385053815,
          "y": -0.03080273039747229
         },
         {
          "group": "business",
          "x": -1.0104446945467889,
          "y": 0.8938108436261322
         },
         {
          "group": "business",
          "x": -0.4788441659438009,
          "y": -0.7372598588970775
         },
         {
          "group": "business",
          "x": -0.7872140074547361,
          "y": 1.725343004850078
         },
         {
          "group": "business",
          "x": -1.9591884629379988,
          "y": 0.5287819117934276
         },
         {
          "group": "business",
          "x": 0.010105211653717807,
          "y": -2.110843448491871
         },
         {
          "group": "business",
          "x": 0.129605132621105,
          "y": -0.31209252061026155
         },
         {
          "group": "business",
          "x": -1.2257451674270003,
          "y": -1.6878133768440795
         },
         {
          "group": "business",
          "x": 1.1924832112609123,
          "y": -0.7490392852121788
         },
         {
          "group": "business",
          "x": -1.112593365056751,
          "y": 1.4968838887780958
         },
         {
          "group": "business",
          "x": -0.30287543860456717,
          "y": -1.1901626168115937
         },
         {
          "group": "business",
          "x": -0.26020954841288835,
          "y": 0.617988009186604
         },
         {
          "group": "business",
          "x": 0.4319402514064242,
          "y": -1.535715546095498
         },
         {
          "group": "business",
          "x": -1.375969142757589,
          "y": 1.0764735250202386
         },
         {
          "group": "business",
          "x": -1.484371042983187,
          "y": -1.3253405103753098
         },
         {
          "group": "business",
          "x": 0.4024377729455476,
          "y": 1.4726261363047828
         },
         {
          "group": "business",
          "x": -1.7625188865987156,
          "y": -1.5378713595237472
         },
         {
          "group": "business",
          "x": 0.11155621942949381,
          "y": 1.006873929968775
         },
         {
          "group": "business",
          "x": 0.696306213515318,
          "y": -0.9850458095130281
         },
         {
          "group": "business",
          "x": -1.1836554302921996,
          "y": 0.054216595206111426
         },
         {
          "group": "business",
          "x": 0.48843560875079883,
          "y": 0.4487761192002868
         },
         {
          "group": "business",
          "x": -1.6494320223576187,
          "y": 0.046439099722734314
         },
         {
          "group": "business",
          "x": 1.752363978229022,
          "y": 0.4718165191099477
         },
         {
          "group": "business",
          "x": -1.689972041214296,
          "y": 0.7135214478860123
         },
         {
          "group": "business",
          "x": 0.2890004553514525,
          "y": -0.1259934050169128
         },
         {
          "group": "business",
          "x": -0.4111452276716176,
          "y": 0.4101323526511735
         },
         {
          "group": "business",
          "x": -0.10540651979392364,
          "y": 1.4130463005112377
         },
         {
          "group": "business",
          "x": -0.8046128121142503,
          "y": 1.1187528178763106
         },
         {
          "group": "business",
          "x": -1.089003733536496,
          "y": -1.8702392094591107
         },
         {
          "group": "business",
          "x": -0.8791480930753197,
          "y": -1.851228376667453
         },
         {
          "group": "business",
          "x": 0.2020522010164616,
          "y": -0.421405395014833
         },
         {
          "group": "business",
          "x": -1.458003653258255,
          "y": 2.7715688136692105
         },
         {
          "group": "business",
          "x": -0.29069466189962295,
          "y": 0.1123833613820363
         },
         {
          "group": "business",
          "x": -1.6870266580980122,
          "y": 0.7526996015557545
         },
         {
          "group": "business",
          "x": -1.7780678650062347,
          "y": -1.0450670169075769
         },
         {
          "group": "business",
          "x": -1.450943051088904,
          "y": 0.4136380990873876
         },
         {
          "group": "business",
          "x": 0.7444849595050075,
          "y": -1.2423064021174373
         },
         {
          "group": "business",
          "x": 1.0825905791550852,
          "y": -2.817229064589568
         },
         {
          "group": "business",
          "x": -0.5976238250289108,
          "y": 0.07798231510779159
         },
         {
          "group": "business",
          "x": -0.6568632602880254,
          "y": 1.6166996811631658
         },
         {
          "group": "business",
          "x": -0.5334740751391914,
          "y": 0.590542612808035
         },
         {
          "group": "business",
          "x": -1.195739980190067,
          "y": 0.6478055975833672
         },
         {
          "group": "business",
          "x": -1.0804423572563329,
          "y": -0.4696682479609779
         },
         {
          "group": "business",
          "x": -0.4286888465434075,
          "y": -0.03503321081273804
         },
         {
          "group": "business",
          "x": 0.4788494412326972,
          "y": 1.335554267349383
         },
         {
          "group": "business",
          "x": -1.013427818586468,
          "y": -0.6730401009964424
         },
         {
          "group": "business",
          "x": -0.7188421396798866,
          "y": 0.06353354518743204
         },
         {
          "group": "business",
          "x": -1.239776291655471,
          "y": 0.45350965099046614
         },
         {
          "group": "business",
          "x": -1.978658368758624,
          "y": 0.5460955609005693
         },
         {
          "group": "business",
          "x": 1.0425368809456963,
          "y": 1.4785314152134892
         },
         {
          "group": "business",
          "x": 1.225162475887788,
          "y": -0.31216186140003205
         },
         {
          "group": "business",
          "x": -2.064024531803984,
          "y": 0.7160284925118443
         },
         {
          "group": "business",
          "x": 1.821779654233515,
          "y": 0.03668230876659633
         },
         {
          "group": "business",
          "x": -1.3178457851059018,
          "y": -2.487567697872383
         },
         {
          "group": "business",
          "x": 1.9184539637825297,
          "y": -1.0664261957058732
         },
         {
          "group": "business",
          "x": -2.370568308480092,
          "y": -0.3882695068511471
         },
         {
          "group": "business",
          "x": 2.094924745788824,
          "y": 0.6932663345088915
         },
         {
          "group": "business",
          "x": -0.7257989756753315,
          "y": 1.504543859288799
         },
         {
          "group": "business",
          "x": -1.8697038601348304,
          "y": -1.8721889630510193
         },
         {
          "group": "business",
          "x": -0.055174844984987224,
          "y": 0.8819058092617964
         },
         {
          "group": "business",
          "x": -0.4751402412668209,
          "y": 3.047275732436562
         },
         {
          "group": "business",
          "x": -1.1682850817075574,
          "y": -2.126391398225272
         },
         {
          "group": "business",
          "x": -2.092654735264658,
          "y": 0.8153942976375632
         },
         {
          "group": "business",
          "x": -0.6553841838355233,
          "y": 0.867983538439124
         },
         {
          "group": "business",
          "x": -1.3401043986671686,
          "y": -1.4648888998893763
         },
         {
          "group": "business",
          "x": -0.5661128332876934,
          "y": -0.7682670884088475
         },
         {
          "group": "business",
          "x": -0.8716671708648033,
          "y": 0.39809832383049804
         },
         {
          "group": "business",
          "x": -0.5753543425651426,
          "y": 1.7926467727653563
         },
         {
          "group": "business",
          "x": 0.2988754700205959,
          "y": 1.1988689185904935
         },
         {
          "group": "business",
          "x": -0.3777782147161539,
          "y": -1.1558548715610262
         },
         {
          "group": "business",
          "x": 0.5939363275029136,
          "y": -1.6436112958828895
         },
         {
          "group": "business",
          "x": -3.0384448860848683,
          "y": -0.9289834394674299
         },
         {
          "group": "business",
          "x": 0.07216626633292363,
          "y": -0.10510960943875246
         },
         {
          "group": "business",
          "x": -0.8767490156018749,
          "y": 0.08275880987290285
         },
         {
          "group": "business",
          "x": -1.1499433962538583,
          "y": -2.893566249107506
         },
         {
          "group": "business",
          "x": 1.5286658488903568,
          "y": 0.24558702082017134
         },
         {
          "group": "business",
          "x": -0.5791499820739404,
          "y": -0.12055422974633064
         },
         {
          "group": "business",
          "x": 0.325387717446096,
          "y": -0.9894169182526672
         },
         {
          "group": "business",
          "x": 0.03221339599490689,
          "y": 0.02944274870272727
         },
         {
          "group": "business",
          "x": 0.903641133464292,
          "y": 2.1105406333685908
         },
         {
          "group": "business",
          "x": -1.8757553504782674,
          "y": 1.2470156394634553
         },
         {
          "group": "business",
          "x": -2.380939514872337,
          "y": 0.36923893934258945
         },
         {
          "group": "business",
          "x": -1.5765941803196153,
          "y": 0.6788773926792389
         },
         {
          "group": "business",
          "x": -1.1606385487651125,
          "y": 0.5531447055061998
         },
         {
          "group": "business",
          "x": 1.5421691355209322,
          "y": -0.6830564024578014
         },
         {
          "group": "business",
          "x": -2.504567435707837,
          "y": -0.21310830278669202
         },
         {
          "group": "business",
          "x": 1.0827797500973382,
          "y": 0.3651419499468704
         },
         {
          "group": "business",
          "x": -2.340983668693393,
          "y": -0.19135443366418553
         },
         {
          "group": "business",
          "x": 2.450005548154382,
          "y": 0.47277096003416025
         },
         {
          "group": "business",
          "x": 0.5446384283665809,
          "y": -0.2968099489262333
         },
         {
          "group": "business",
          "x": -2.3941923740876865,
          "y": 0.008447198869026451
         },
         {
          "group": "business",
          "x": -0.518709258172387,
          "y": -0.5906583379692304
         },
         {
          "group": "business",
          "x": -1.5547576597742938,
          "y": 0.24501691250986285
         },
         {
          "group": "business",
          "x": -1.1128006195968476,
          "y": 0.9984791665306437
         },
         {
          "group": "business",
          "x": -2.0502951362335575,
          "y": -0.8344396557918587
         },
         {
          "group": "business",
          "x": -0.9411046402052867,
          "y": -1.546419497071971
         },
         {
          "group": "business",
          "x": -0.3354738761979404,
          "y": -0.6247181161478478
         },
         {
          "group": "business",
          "x": -1.62714576727547,
          "y": -0.6337108233768385
         },
         {
          "group": "business",
          "x": 0.7950746250303431,
          "y": 1.0382005322471302
         },
         {
          "group": "business",
          "x": -1.2563596076288643,
          "y": 0.595868448908115
         },
         {
          "group": "business",
          "x": 0.6759571586891335,
          "y": 0.76761395758606
         },
         {
          "group": "business",
          "x": -0.644609036249054,
          "y": -3.2208125859378103
         },
         {
          "group": "business",
          "x": 1.024692537328282,
          "y": 0.07173812362326625
         },
         {
          "group": "business",
          "x": 0.8301886052163813,
          "y": -0.34935518609359706
         },
         {
          "group": "business",
          "x": -0.3265893017476851,
          "y": -0.02128950081760669
         },
         {
          "group": "business",
          "x": -2.5187566139063216,
          "y": 0.6531076527830973
         },
         {
          "group": "business",
          "x": 0.715126828555519,
          "y": 1.3113288605603257
         },
         {
          "group": "business",
          "x": -1.0636679206999908,
          "y": -0.5580786879554962
         },
         {
          "group": "business",
          "x": -0.11335725597971318,
          "y": 1.2211702520714411
         },
         {
          "group": "business",
          "x": -2.2290731078822086,
          "y": -0.604178044525325
         },
         {
          "group": "business",
          "x": -0.8280318279275543,
          "y": -0.11165777886184586
         },
         {
          "group": "business",
          "x": -0.2641045451821173,
          "y": 0.6047152150100996
         },
         {
          "group": "business",
          "x": 0.29196343393494134,
          "y": 0.8379036638268986
         },
         {
          "group": "business",
          "x": -0.5959163876256398,
          "y": 0.6651560729756492
         },
         {
          "group": "business",
          "x": -1.4127849432347497,
          "y": 1.0337185377950622
         },
         {
          "group": "business",
          "x": 0.9902721801500866,
          "y": -0.0026979267175977753
         },
         {
          "group": "business",
          "x": 0.361197989698545,
          "y": 0.6550107279669649
         },
         {
          "group": "business",
          "x": -0.6095712120891724,
          "y": -1.277520660946504
         },
         {
          "group": "business",
          "x": -1.9354860022036273,
          "y": 2.012174108663235
         },
         {
          "group": "business",
          "x": 1.581623698843574,
          "y": -0.14181342023214638
         },
         {
          "group": "business",
          "x": -1.439718698500749,
          "y": 1.5494251098637029
         },
         {
          "group": "business",
          "x": -0.8737311455421088,
          "y": 1.705084592380096
         },
         {
          "group": "business",
          "x": -0.15656625266516935,
          "y": -0.6068228181443105
         },
         {
          "group": "business",
          "x": 0.34966112935391375,
          "y": -1.3484293073811349
         },
         {
          "group": "business",
          "x": -1.1260508378761016,
          "y": -1.188471823926104
         },
         {
          "group": "business",
          "x": -2.0816098434263726,
          "y": 0.10899457952157642
         },
         {
          "group": "business",
          "x": -0.9707187765878279,
          "y": 0.9168730153436715
         },
         {
          "group": "business",
          "x": -1.1312840358737741,
          "y": 0.27800569656916313
         },
         {
          "group": "business",
          "x": 0.2934002601962153,
          "y": 0.9149545594593999
         },
         {
          "group": "business",
          "x": 1.205599249988912,
          "y": -0.3116741618000433
         },
         {
          "group": "business",
          "x": 0.2729746848748228,
          "y": 1.121617867167402
         },
         {
          "group": "business",
          "x": -1.6431062303337867,
          "y": -1.8232404893216183
         },
         {
          "group": "business",
          "x": -1.564175562522471,
          "y": -0.3483710442942856
         },
         {
          "group": "business",
          "x": -2.353206468658555,
          "y": 0.6100384171049522
         },
         {
          "group": "business",
          "x": -0.35263080637373717,
          "y": 1.6839791624477138
         },
         {
          "group": "business",
          "x": 1.2200658578056902,
          "y": -0.5702218516668903
         },
         {
          "group": "business",
          "x": -1.0539626327402667,
          "y": 0.3150118360712289
         },
         {
          "group": "business",
          "x": -1.9742073046498465,
          "y": 0.5439829440586066
         },
         {
          "group": "business",
          "x": 0.6746912020330185,
          "y": -1.9342400288360677
         },
         {
          "group": "business",
          "x": -1.5296578970045853,
          "y": 1.4169748361700378
         },
         {
          "group": "business",
          "x": 1.2321891651859134,
          "y": -0.7459274855516479
         },
         {
          "group": "business",
          "x": -0.5713887166236533,
          "y": -0.21747497962489803
         },
         {
          "group": "business",
          "x": -0.3054941375113218,
          "y": -0.12740192106845752
         },
         {
          "group": "business",
          "x": 1.1517367064442399,
          "y": -0.5263084602614747
         },
         {
          "group": "business",
          "x": -0.6442707431881858,
          "y": 0.7653655171629672
         },
         {
          "group": "business",
          "x": -1.457543519606318,
          "y": 0.04985761944672315
         },
         {
          "group": "business",
          "x": -2.352151439506951,
          "y": -0.994911129922653
         },
         {
          "group": "business",
          "x": 0.5994874723337623,
          "y": 1.121203856944239
         },
         {
          "group": "business",
          "x": 0.05788179384828434,
          "y": -0.9862889799652615
         },
         {
          "group": "business",
          "x": -2.3602709246973776,
          "y": 0.8631150958261651
         },
         {
          "group": "business",
          "x": -0.438399781073698,
          "y": 0.7408985170401883
         },
         {
          "group": "business",
          "x": -0.24157861936961228,
          "y": -0.07165858691833443
         },
         {
          "group": "business",
          "x": -0.36593097054521373,
          "y": -0.47062901222268433
         },
         {
          "group": "business",
          "x": -0.45856359252592155,
          "y": 1.8865525173930342
         },
         {
          "group": "business",
          "x": 0.7817525993362269,
          "y": 0.19003394102598142
         },
         {
          "group": "business",
          "x": 0.06900870722962373,
          "y": 0.6388126644725243
         },
         {
          "group": "business",
          "x": -1.328070906703811,
          "y": 0.13794078988970562
         },
         {
          "group": "business",
          "x": -1.4825024538175373,
          "y": 0.328098847489261
         },
         {
          "group": "business",
          "x": -0.5051311573013486,
          "y": -1.4352554812646823
         },
         {
          "group": "business",
          "x": -1.0975106738754865,
          "y": -1.344728399737503
         },
         {
          "group": "business",
          "x": -0.05561958877531704,
          "y": -0.6633212894116064
         },
         {
          "group": "business",
          "x": -1.5334610630224308,
          "y": 0.5865209334589526
         },
         {
          "group": "business",
          "x": -0.3407608066121186,
          "y": 1.4839605647498229
         },
         {
          "group": "business",
          "x": 0.36070994011710705,
          "y": -0.5678503703284832
         },
         {
          "group": "business",
          "x": 0.6699078296712851,
          "y": -0.14330048355500546
         },
         {
          "group": "business",
          "x": -0.9817777425116897,
          "y": -0.3143477315378432
         },
         {
          "group": "business",
          "x": -0.5747105977307668,
          "y": 0.2766708280285997
         },
         {
          "group": "business",
          "x": 1.6311226420024114,
          "y": 0.1034639403828068
         },
         {
          "group": "business",
          "x": -2.2522192078608954,
          "y": -0.4946879735289723
         },
         {
          "group": "business",
          "x": -0.6390380344296677,
          "y": -1.5164521046661779
         },
         {
          "group": "business",
          "x": -0.1412496352803439,
          "y": -0.1643536812807219
         },
         {
          "group": "business",
          "x": 0.03934963599547499,
          "y": 1.6612998804533687
         },
         {
          "group": "business",
          "x": -0.749500474166552,
          "y": -0.3252692932500115
         },
         {
          "group": "business",
          "x": -0.4109627301777949,
          "y": -0.6316232248476606
         },
         {
          "group": "business",
          "x": -0.3900363720674519,
          "y": 0.1291983195467003
         },
         {
          "group": "business",
          "x": -0.22505375642664327,
          "y": 0.5492997527401847
         },
         {
          "group": "business",
          "x": 0.5125512498939896,
          "y": 0.4772835396325705
         },
         {
          "group": "business",
          "x": 0.33308408022886266,
          "y": -0.4253360887541755
         },
         {
          "group": "business",
          "x": 0.8327709259676453,
          "y": 1.2438076704200405
         },
         {
          "group": "business",
          "x": -1.0883123506012526,
          "y": 0.9155200733945819
         },
         {
          "group": "business",
          "x": -0.8337112341087493,
          "y": 0.910145122001576
         },
         {
          "group": "business",
          "x": -0.6620022713531245,
          "y": -1.059850369428443
         },
         {
          "group": "business",
          "x": -1.0070610784950955,
          "y": -0.08868180600107595
         },
         {
          "group": "business",
          "x": -0.28465048006184546,
          "y": 0.4396763030257895
         },
         {
          "group": "business",
          "x": -0.3846782992068,
          "y": -2.4442945794249984
         },
         {
          "group": "business",
          "x": -0.1261459889213207,
          "y": -1.4440811083821588
         },
         {
          "group": "business",
          "x": -0.6447886873343657,
          "y": 1.4148888188807485
         },
         {
          "group": "business",
          "x": -1.6117423955629853,
          "y": -0.2722564809711111
         },
         {
          "group": "business",
          "x": -2.1344788167123983,
          "y": -1.2340940543434025
         },
         {
          "group": "business",
          "x": -0.8526454003910154,
          "y": 2.0969244254972694
         },
         {
          "group": "business",
          "x": 0.18304007724673946,
          "y": -2.0146129110546687
         },
         {
          "group": "business",
          "x": 0.09358101454528828,
          "y": 1.2114629186050114
         },
         {
          "group": "business",
          "x": 1.3708217233002424,
          "y": -1.3490403822300259
         },
         {
          "group": "business",
          "x": -0.08720509544505786,
          "y": -1.475354577812885
         },
         {
          "group": "business",
          "x": 0.9577233114965353,
          "y": -0.7668861685113065
         },
         {
          "group": "business",
          "x": 0.09383588653152257,
          "y": -1.151883110119411
         },
         {
          "group": "business",
          "x": -0.3996891570462536,
          "y": 0.01664673707911978
         },
         {
          "group": "business",
          "x": 0.46441440621014574,
          "y": 0.5740288828959221
         },
         {
          "group": "business",
          "x": -0.2157679505079984,
          "y": 0.5814216011573783
         },
         {
          "group": "business",
          "x": 0.06349338146434756,
          "y": -0.3853088897383789
         },
         {
          "group": "business",
          "x": 0.3406655557173501,
          "y": 0.6287369981825899
         },
         {
          "group": "business",
          "x": -2.0253644372588497,
          "y": -0.29954452969569184
         },
         {
          "group": "business",
          "x": -0.9114729363283772,
          "y": -1.1512756889868936
         },
         {
          "group": "business",
          "x": -1.1252678779425993,
          "y": -1.3790327773254545
         },
         {
          "group": "business",
          "x": -0.3808985346081257,
          "y": -0.2578806402402609
         },
         {
          "group": "business",
          "x": 1.151546127268773,
          "y": 1.7001254074824261
         },
         {
          "group": "business",
          "x": 0.45090137341107006,
          "y": 1.6086129861232314
         },
         {
          "group": "business",
          "x": -0.42721705339678206,
          "y": -2.2252852064085604
         },
         {
          "group": "business",
          "x": 0.974539735722338,
          "y": 0.10712923571155368
         },
         {
          "group": "business",
          "x": -2.2863740808497,
          "y": 1.9165951322373378
         },
         {
          "group": "business",
          "x": -0.46916025930941124,
          "y": 0.8764394267941499
         },
         {
          "group": "business",
          "x": 1.1507419525459819,
          "y": -1.6657035269809777
         },
         {
          "group": "business",
          "x": 0.38746521286206764,
          "y": -1.4100725123555915
         },
         {
          "group": "business",
          "x": -3.253065965086837,
          "y": 0.029148170348376107
         },
         {
          "group": "business",
          "x": -0.1570696826958532,
          "y": -0.40049368536240826
         },
         {
          "group": "business",
          "x": -1.069784646580872,
          "y": -0.2378618662455142
         },
         {
          "group": "business",
          "x": 0.26575187393918254,
          "y": -0.5733264728942955
         },
         {
          "group": "business",
          "x": 0.6672551315882035,
          "y": 2.3441065503712215
         },
         {
          "group": "business",
          "x": -0.011447215540222695,
          "y": -0.7729209275878662
         },
         {
          "group": "business",
          "x": -1.8318488823955725,
          "y": 1.2971822246868168
         },
         {
          "group": "business",
          "x": -0.2170472145400622,
          "y": 0.40762000949214633
         },
         {
          "group": "business",
          "x": 0.2190620730584585,
          "y": 0.041115500392988245
         },
         {
          "group": "business",
          "x": -1.0530177845777557,
          "y": -0.4407599946835678
         },
         {
          "group": "business",
          "x": -0.116464563305803,
          "y": -0.5946694520429334
         },
         {
          "group": "business",
          "x": -1.2790782531271503,
          "y": -2.036618134471955
         },
         {
          "group": "business",
          "x": 0.5367060005184299,
          "y": 0.5996415443875984
         },
         {
          "group": "business",
          "x": -0.184664759357131,
          "y": -0.6751322831118994
         },
         {
          "group": "business",
          "x": 2.425129933732645,
          "y": -0.1390228012375002
         },
         {
          "group": "business",
          "x": -0.5199827905127345,
          "y": 1.9394109878222627
         },
         {
          "group": "business",
          "x": -1.0697910416697367,
          "y": 0.9511587427761169
         },
         {
          "group": "business",
          "x": -1.0110344219914837,
          "y": -0.8037264533613611
         },
         {
          "group": "business",
          "x": -0.822322194499217,
          "y": 1.973200785340167
         },
         {
          "group": "business",
          "x": -0.07726446270519288,
          "y": 0.3267921913337271
         },
         {
          "group": "business",
          "x": 0.3574693178262743,
          "y": -1.165869487817125
         },
         {
          "group": "business",
          "x": -2.0364911434904904,
          "y": 1.175902741173684
         },
         {
          "group": "business",
          "x": 0.6012006537301118,
          "y": -0.5521301952104274
         },
         {
          "group": "business",
          "x": 1.6672094363177137,
          "y": 1.5423041869330238
         },
         {
          "group": "business",
          "x": 0.31503102017842705,
          "y": -0.7162307176136943
         },
         {
          "group": "business",
          "x": -0.6094494726437811,
          "y": 0.0022351600831113224
         },
         {
          "group": "business",
          "x": 1.7679499754319736,
          "y": -0.89748306809906
         },
         {
          "group": "business",
          "x": -0.9326546309182394,
          "y": -0.24422169813638425
         },
         {
          "group": "business",
          "x": -1.0608338076823773,
          "y": 0.8385192928939852
         },
         {
          "group": "business",
          "x": 0.053065832958402774,
          "y": -1.0360323551442456
         },
         {
          "group": "business",
          "x": -2.804775936622253,
          "y": -1.0797850929082944
         },
         {
          "group": "business",
          "x": -1.1491959666920077,
          "y": -0.4336089116940985
         },
         {
          "group": "business",
          "x": 1.8876340908826492,
          "y": -2.09971524417364
         },
         {
          "group": "business",
          "x": 0.4279770916226512,
          "y": 0.6031579538826702
         },
         {
          "group": "business",
          "x": -1.64507631548227,
          "y": 0.041130159997453154
         },
         {
          "group": "business",
          "x": -0.7990783714148606,
          "y": 0.30308170090635345
         },
         {
          "group": "business",
          "x": 0.29110925730341514,
          "y": 0.46400345830076295
         },
         {
          "group": "business",
          "x": -0.44258980900219874,
          "y": 0.9584919804435302
         },
         {
          "group": "business",
          "x": 0.262250919504193,
          "y": -0.45510924369355
         },
         {
          "group": "business",
          "x": -2.091488165313832,
          "y": 2.0913526008344925
         },
         {
          "group": "business",
          "x": -0.6661171124870978,
          "y": 0.9155003609027966
         },
         {
          "group": "business",
          "x": -0.23548129588153172,
          "y": -0.11255975655118122
         },
         {
          "group": "business",
          "x": 0.7117013595342188,
          "y": -0.5495418169796539
         },
         {
          "group": "business",
          "x": -0.18471266840321143,
          "y": 0.3588927255099979
         },
         {
          "group": "business",
          "x": 0.018441128991241996,
          "y": 0.5109506671564195
         },
         {
          "group": "business",
          "x": -0.38982175363825733,
          "y": -0.62743482111596
         },
         {
          "group": "business",
          "x": -1.2565603627402853,
          "y": 2.2543688857348703
         },
         {
          "group": "business",
          "x": 0.4474185498135013,
          "y": -0.9619220275893632
         },
         {
          "group": "business",
          "x": -1.0402150834510322,
          "y": -0.30840346506162164
         },
         {
          "group": "business",
          "x": 0.6961197211397137,
          "y": -1.5894128698711616
         },
         {
          "group": "business",
          "x": 2.1508469628049296,
          "y": -1.4877203354063564
         },
         {
          "group": "business",
          "x": -0.9301641976961236,
          "y": -0.5235849981018241
         },
         {
          "group": "business",
          "x": 0.8820583943190051,
          "y": 2.5375698565565514
         },
         {
          "group": "business",
          "x": -0.5048037912451533,
          "y": 0.1983204652195657
         },
         {
          "group": "business",
          "x": -0.17813061778085545,
          "y": -0.7700848582309289
         },
         {
          "group": "business",
          "x": -0.3606910416172236,
          "y": -0.5902961102483446
         },
         {
          "group": "business",
          "x": -0.37129760625469077,
          "y": -0.8161415141510144
         },
         {
          "group": "business",
          "x": 0.6673936170894649,
          "y": 0.6766596815080219
         },
         {
          "group": "business",
          "x": -0.8469265224541715,
          "y": 1.6065947583589193
         },
         {
          "group": "business",
          "x": 1.0100884822871439,
          "y": -0.19162446035320013
         },
         {
          "group": "business",
          "x": 0.0992177862656288,
          "y": 0.03966005473145669
         },
         {
          "group": "business",
          "x": 0.9478487642569411,
          "y": 1.9091781278784699
         },
         {
          "group": "business",
          "x": -1.1032648061272068,
          "y": -1.1769212030743956
         },
         {
          "group": "business",
          "x": -0.667020006193187,
          "y": 1.0479611624876632
         },
         {
          "group": "business",
          "x": -0.6007455124288604,
          "y": -1.095416006989431
         },
         {
          "group": "business",
          "x": -0.5114428140285089,
          "y": -0.4623579714792723
         },
         {
          "group": "business",
          "x": -2.059180488644767,
          "y": 0.42704746796003934
         },
         {
          "group": "business",
          "x": -0.8054033819070676,
          "y": -2.0543629492606343
         },
         {
          "group": "business",
          "x": -0.6174039017136463,
          "y": 0.8711292447190616
         },
         {
          "group": "business",
          "x": -0.30744252080700507,
          "y": 2.3100668992887115
         },
         {
          "group": "business",
          "x": 1.436709252391017,
          "y": -0.17785119218508047
         },
         {
          "group": "business",
          "x": -0.35940684612880397,
          "y": -0.3190362506043464
         },
         {
          "group": "business",
          "x": -1.2886145036711396,
          "y": 0.2798581253344992
         },
         {
          "group": "business",
          "x": -0.6014365372527847,
          "y": -0.8837441666599464
         },
         {
          "group": "business",
          "x": -1.8359306375321447,
          "y": 1.5368645856577654
         },
         {
          "group": "business",
          "x": -0.3412777215620045,
          "y": 0.09580465462070088
         },
         {
          "group": "business",
          "x": 0.7012054913572106,
          "y": -0.06026559165163246
         },
         {
          "group": "business",
          "x": -2.226551892851278,
          "y": 0.7971986979683003
         },
         {
          "group": "business",
          "x": 0.01878713005488658,
          "y": -0.40161307584801276
         },
         {
          "group": "business",
          "x": 0.8831379803937142,
          "y": -0.6460666240562078
         },
         {
          "group": "business",
          "x": -0.6576622667663317,
          "y": -0.08377845913856498
         },
         {
          "group": "business",
          "x": -1.2393820784403087,
          "y": 0.2425828337271782
         },
         {
          "group": "business",
          "x": -1.2267981745785135,
          "y": -0.05146886850432635
         },
         {
          "group": "business",
          "x": 1.0393620658338967,
          "y": -0.2232427241124825
         },
         {
          "group": "business",
          "x": -0.9551277915053759,
          "y": 0.35567389334306515
         },
         {
          "group": "business",
          "x": 1.1254266968385764,
          "y": -0.4734120434409112
         },
         {
          "group": "business",
          "x": -1.3421748890078904,
          "y": -1.5330253452194096
         },
         {
          "group": "business",
          "x": 0.6143390754051137,
          "y": -0.8479115108030992
         },
         {
          "group": "business",
          "x": -1.3587520387435577,
          "y": -0.28362987434717707
         },
         {
          "group": "business",
          "x": 0.10089209382235055,
          "y": 1.9114715881324542
         },
         {
          "group": "business",
          "x": 1.2942772670562774,
          "y": -1.5662914817467355
         },
         {
          "group": "business",
          "x": 1.174084768009096,
          "y": 1.946403186993651
         },
         {
          "group": "business",
          "x": -0.4452567566752369,
          "y": -0.0440652154275227
         },
         {
          "group": "business",
          "x": -0.12698170278904017,
          "y": -0.48436196806905174
         },
         {
          "group": "business",
          "x": -0.1391229310298378,
          "y": 2.0135170448289204
         },
         {
          "group": "business",
          "x": -0.9806984227473355,
          "y": 2.084268567575207
         },
         {
          "group": "business",
          "x": 0.5538919503443459,
          "y": -0.8569393351159408
         },
         {
          "group": "business",
          "x": -1.9427116616994535,
          "y": -2.5616083607649096
         },
         {
          "group": "business",
          "x": 1.2184194859394646,
          "y": -1.2554882648687702
         },
         {
          "group": "business",
          "x": 0.17274548571930687,
          "y": -0.9565165258910315
         },
         {
          "group": "business",
          "x": -0.2121627290148796,
          "y": 1.0188908286114513
         },
         {
          "group": "business",
          "x": -0.8746544913421052,
          "y": -1.7369041965661514
         },
         {
          "group": "business",
          "x": -0.7301883535962671,
          "y": -0.08572571194931539
         },
         {
          "group": "business",
          "x": -0.8584691096463148,
          "y": -1.0487729234639735
         },
         {
          "group": "business",
          "x": 0.8148817636299993,
          "y": -1.3097629364534047
         },
         {
          "group": "business",
          "x": -0.8605770594927501,
          "y": 1.6576749298418119
         },
         {
          "group": "business",
          "x": 0.22031365292501232,
          "y": 0.5977624150463512
         },
         {
          "group": "business",
          "x": -0.7686423801652565,
          "y": 0.44587244711366414
         },
         {
          "group": "business",
          "x": 0.23930391547464508,
          "y": -0.04048399425426156
         },
         {
          "group": "business",
          "x": -0.7551799286256754,
          "y": -1.46017005878697
         },
         {
          "group": "business",
          "x": 0.6560813255627594,
          "y": -0.04952950004694278
         },
         {
          "group": "business",
          "x": -0.6869741540954929,
          "y": -0.5157514515553392
         },
         {
          "group": "business",
          "x": -2.6110689344334963,
          "y": 0.7750216357435701
         },
         {
          "group": "business",
          "x": 0.8034579427318345,
          "y": 1.1698213483729372
         },
         {
          "group": "business",
          "x": 0.03583757188896369,
          "y": -0.0012233809893436444
         },
         {
          "group": "business",
          "x": -0.9000876339532268,
          "y": 0.6881396637787579
         },
         {
          "group": "business",
          "x": -0.7566745663615939,
          "y": -0.5396203570221154
         },
         {
          "group": "business",
          "x": -0.06391289729948842,
          "y": 0.30101660012307535
         },
         {
          "group": "business",
          "x": -0.5636992138558257,
          "y": -0.2720764183391521
         },
         {
          "group": "business",
          "x": -0.7610382468405366,
          "y": -0.9057737373525688
         },
         {
          "group": "business",
          "x": 2.3278063765457038,
          "y": 0.05245458047421239
         },
         {
          "group": "business",
          "x": 0.03236874836104283,
          "y": -1.197760345787475
         },
         {
          "group": "business",
          "x": -2.396724592963583,
          "y": 0.2763430303844035
         },
         {
          "group": "business",
          "x": 0.07525508628331035,
          "y": -0.859056203531835
         },
         {
          "group": "business",
          "x": -0.22947232277833596,
          "y": -1.8492894347497948
         },
         {
          "group": "business",
          "x": -0.5644184236824398,
          "y": 0.18532081069809564
         },
         {
          "group": "business",
          "x": -0.6902261512505298,
          "y": 0.4425332351946563
         },
         {
          "group": "business",
          "x": 0.14688399192683224,
          "y": 2.1626442473988066
         },
         {
          "group": "business",
          "x": -1.293451241015463,
          "y": 0.7700779595603269
         },
         {
          "group": "business",
          "x": -0.24426857728330018,
          "y": 2.078303937762025
         },
         {
          "group": "business",
          "x": -0.7103817699943336,
          "y": 0.05088960514156749
         },
         {
          "group": "business",
          "x": -1.3420594842920486,
          "y": -0.5042352127544715
         },
         {
          "group": "business",
          "x": -0.6686131407144115,
          "y": 0.12431684827868658
         },
         {
          "group": "business",
          "x": -2.644526512842084,
          "y": -2.079405234399779
         },
         {
          "group": "business",
          "x": -1.4904171287215437,
          "y": 0.6603827457390533
         },
         {
          "group": "business",
          "x": -0.9602029328984657,
          "y": 0.8418684353833717
         },
         {
          "group": "business",
          "x": 0.24759407770993488,
          "y": -0.3858925366001954
         },
         {
          "group": "business",
          "x": 0.322155440860297,
          "y": -0.7151450064466847
         },
         {
          "group": "business",
          "x": -0.8476088473197311,
          "y": -0.6594881242373863
         },
         {
          "group": "business",
          "x": 0.0036270953479774406,
          "y": -0.7451775622076099
         },
         {
          "group": "business",
          "x": -0.5084336316278328,
          "y": 0.6070648293998335
         },
         {
          "group": "business",
          "x": -2.596024067924383,
          "y": -2.271751516829433
         },
         {
          "group": "business",
          "x": 0.4297663285107657,
          "y": -2.0612256618472147
         },
         {
          "group": "business",
          "x": 0.22507788799968342,
          "y": 0.17583988524549585
         },
         {
          "group": "business",
          "x": -0.11750255325012211,
          "y": -1.6582499781837559
         },
         {
          "group": "business",
          "x": -0.2117727163789157,
          "y": 1.4350656536178552
         },
         {
          "group": "business",
          "x": 0.9095129205764401,
          "y": 0.6101333878346369
         },
         {
          "group": "business",
          "x": -0.8419220937470745,
          "y": 0.03527064607918467
         },
         {
          "group": "business",
          "x": -0.6918296053270483,
          "y": -0.908785348192745
         },
         {
          "group": "business",
          "x": 3.3841661257095166,
          "y": -0.5777966319499764
         },
         {
          "group": "business",
          "x": 0.467135264960379,
          "y": 1.1359201147806621
         },
         {
          "group": "business",
          "x": 0.4229678439976231,
          "y": -1.3766013538139854
         },
         {
          "group": "business",
          "x": -1.2731863972657211,
          "y": -0.745978038764864
         },
         {
          "group": "business",
          "x": -2.7930294330525123,
          "y": -0.2357001970637791
         },
         {
          "group": "business",
          "x": 0.8182783211909406,
          "y": -1.713447185055161
         },
         {
          "group": "business",
          "x": -0.7340982456958726,
          "y": -2.1977170094759093
         },
         {
          "group": "business",
          "x": 1.005315157781609,
          "y": -0.1676493302502591
         },
         {
          "group": "business",
          "x": -0.10782804385506092,
          "y": 1.0241648805510475
         },
         {
          "group": "business",
          "x": -1.879517629246608,
          "y": 0.45280553460602074
         },
         {
          "group": "business",
          "x": 0.5426349314784172,
          "y": -0.2775198193623635
         },
         {
          "group": "business",
          "x": 0.21450125363002154,
          "y": 1.511580634047868
         },
         {
          "group": "business",
          "x": 0.14093646416420677,
          "y": 1.2328450031503415
         },
         {
          "group": "business",
          "x": 1.621533863694389,
          "y": -2.125480893712895
         },
         {
          "group": "business",
          "x": -1.5866750250640254,
          "y": 0.3373734548256966
         },
         {
          "group": "business",
          "x": -1.6141410260809415,
          "y": -0.1742652677873777
         },
         {
          "group": "business",
          "x": 0.8754484308863792,
          "y": 0.051778656156279815
         },
         {
          "group": "business",
          "x": 0.6670887018203736,
          "y": -1.6104336909368575
         },
         {
          "group": "business",
          "x": -0.7781655077586955,
          "y": -0.8804975012381745
         },
         {
          "group": "business",
          "x": 0.27984522145095087,
          "y": -0.27382033064998734
         },
         {
          "group": "business",
          "x": 1.2274927478996096,
          "y": 0.824214884723278
         },
         {
          "group": "business",
          "x": 0.1548252550497213,
          "y": 2.805810890778653
         },
         {
          "group": "business",
          "x": -1.0761184900105811,
          "y": 0.13038275908070207
         },
         {
          "group": "business",
          "x": -0.40838250375460244,
          "y": -0.2539480109870978
         },
         {
          "group": "business",
          "x": -0.05422984754428201,
          "y": -0.2998721002857836
         },
         {
          "group": "business",
          "x": 0.57612858846213,
          "y": 1.7323794132490768
         },
         {
          "group": "business",
          "x": -1.022218293529526,
          "y": -0.7840318660715159
         },
         {
          "group": "business",
          "x": -0.07676003902573178,
          "y": -0.3382587622591701
         },
         {
          "group": "business",
          "x": 1.168265861890537,
          "y": 1.1659455626443975
         },
         {
          "group": "business",
          "x": 0.3161961986261289,
          "y": -0.5652931070053885
         },
         {
          "group": "business",
          "x": 1.4867706245945171,
          "y": 0.2439560802428887
         },
         {
          "group": "business",
          "x": 1.0936752318036953,
          "y": 1.0629217576854044
         },
         {
          "group": "business",
          "x": -0.34617994609774416,
          "y": 1.8751671851967961
         },
         {
          "group": "business",
          "x": -0.5316143738671385,
          "y": 1.0715335981901208
         },
         {
          "group": "business",
          "x": -0.6914084851997269,
          "y": 0.2246248814351563
         },
         {
          "group": "business",
          "x": -0.057205458137589836,
          "y": -0.2145114583040099
         },
         {
          "group": "business",
          "x": 2.2923796532221856,
          "y": -1.0644106174694319
         },
         {
          "group": "business",
          "x": -1.075399343538134,
          "y": 1.4424585991140135
         },
         {
          "group": "business",
          "x": 0.10324752871734989,
          "y": -0.029549042071268933
         },
         {
          "group": "business",
          "x": -0.5095873654043368,
          "y": 0.48411431640390257
         },
         {
          "group": "business",
          "x": 0.04374847168234581,
          "y": 0.9764158095454115
         },
         {
          "group": "business",
          "x": -0.02605741218964,
          "y": 1.833095953286304
         },
         {
          "group": "business",
          "x": -0.9066010900656347,
          "y": 0.9546207787260029
         },
         {
          "group": "business",
          "x": -1.080843940936622,
          "y": -0.47613602136796146
         },
         {
          "group": "business",
          "x": 0.37928041363661497,
          "y": 0.6369799565242049
         },
         {
          "group": "business",
          "x": 0.2826467671017692,
          "y": 2.1968136400050082
         },
         {
          "group": "business",
          "x": 1.3073816998877086,
          "y": 0.00041345085620014783
         },
         {
          "group": "business",
          "x": 0.025651027391738034,
          "y": 1.2453818850624248
         },
         {
          "group": "business",
          "x": 0.8264375865907049,
          "y": -0.8298042494214896
         },
         {
          "group": "business",
          "x": -0.7292341585803519,
          "y": 0.37762909966204367
         },
         {
          "group": "business",
          "x": -0.14844638874553054,
          "y": 0.8737335352596766
         },
         {
          "group": "business",
          "x": 0.9170398733648264,
          "y": 0.27382475050595134
         },
         {
          "group": "business",
          "x": -1.786413444648036,
          "y": 1.4180654452327572
         },
         {
          "group": "business",
          "x": -0.3378398241368349,
          "y": 0.0210101790133522
         },
         {
          "group": "business",
          "x": -1.5671422814185165,
          "y": -0.30807478717575926
         },
         {
          "group": "business",
          "x": 0.3651208556088426,
          "y": 0.5468635465934331
         },
         {
          "group": "business",
          "x": -0.703611858181537,
          "y": 1.1553096547696915
         },
         {
          "group": "business",
          "x": -1.9194492656020206,
          "y": 1.7530856873662606
         },
         {
          "group": "business",
          "x": 0.018464011284223123,
          "y": 3.1263847778910323
         },
         {
          "group": "business",
          "x": -1.3711000459771212,
          "y": 0.35193202300093707
         },
         {
          "group": "business",
          "x": -1.1565752988527234,
          "y": -1.3783943760558528
         },
         {
          "group": "business",
          "x": -0.7130202046279409,
          "y": 1.2792216851053932
         },
         {
          "group": "business",
          "x": 0.28201174336639373,
          "y": -0.8665148502287332
         },
         {
          "group": "business",
          "x": 0.35595755515283567,
          "y": 0.019561749930178503
         },
         {
          "group": "business",
          "x": -1.6943903677053502,
          "y": 2.5346969324872988
         },
         {
          "group": "business",
          "x": -0.6077703908290747,
          "y": 0.35958968495041954
         },
         {
          "group": "business",
          "x": -0.3300148200802707,
          "y": 1.3494879995640088
         },
         {
          "group": "business",
          "x": -0.11688306870960233,
          "y": -1.3052776818120377
         },
         {
          "group": "business",
          "x": -1.58990541220899,
          "y": 0.024847572197643008
         },
         {
          "group": "business",
          "x": -0.44290751746521806,
          "y": -0.07528899427140548
         },
         {
          "group": "business",
          "x": -0.1955579102278641,
          "y": 1.0608029732042785
         },
         {
          "group": "business",
          "x": 0.002947517174612649,
          "y": -0.9987699199157993
         },
         {
          "group": "business",
          "x": 1.1291637106970578,
          "y": -0.6324099789539809
         },
         {
          "group": "business",
          "x": -0.1774258404134226,
          "y": -1.7561964499616975
         },
         {
          "group": "business",
          "x": -1.0908220847172334,
          "y": -1.514726862409682
         },
         {
          "group": "business",
          "x": -2.0996222934378252,
          "y": 1.169526176321326
         },
         {
          "group": "business",
          "x": 0.9031091423030716,
          "y": -1.3096309471695937
         },
         {
          "group": "business",
          "x": -0.37088094396393256,
          "y": -0.9090301472700703
         },
         {
          "group": "business",
          "x": 0.11268293168714066,
          "y": -0.08875224480764667
         },
         {
          "group": "business",
          "x": -0.38508745889736756,
          "y": 2.1183700832314387
         },
         {
          "group": "business",
          "x": -0.9155312492006196,
          "y": -0.42250354190888273
         },
         {
          "group": "business",
          "x": -0.9378011199014763,
          "y": 0.889546886383105
         },
         {
          "group": "business",
          "x": -1.2167705970545606,
          "y": 0.09532346962971085
         },
         {
          "group": "business",
          "x": 0.6716147688108256,
          "y": -1.1008085304656867
         },
         {
          "group": "business",
          "x": -0.6228162508057516,
          "y": 0.7307520004710822
         },
         {
          "group": "politics",
          "x": -1.055354079798137,
          "y": -1.3508023318012443
         },
         {
          "group": "politics",
          "x": -0.5896147521723043,
          "y": -0.1734873572104166
         },
         {
          "group": "politics",
          "x": -0.33947926996867667,
          "y": 1.8872060990560648
         },
         {
          "group": "politics",
          "x": -0.6190043177186814,
          "y": 0.16266884438811743
         },
         {
          "group": "politics",
          "x": 1.078112989917764,
          "y": -0.10485390283812493
         },
         {
          "group": "politics",
          "x": 1.148632532243108,
          "y": 1.1258658630823712
         },
         {
          "group": "politics",
          "x": -0.09004144425040034,
          "y": 0.41853896185853734
         },
         {
          "group": "politics",
          "x": 0.9588262794334539,
          "y": -0.2978455145198355
         },
         {
          "group": "politics",
          "x": 0.38668790590224195,
          "y": 0.8261178399523971
         },
         {
          "group": "politics",
          "x": -0.2866782849351044,
          "y": 1.107045580062383
         },
         {
          "group": "politics",
          "x": 0.23246904250188782,
          "y": 0.6507404279345612
         },
         {
          "group": "politics",
          "x": -0.5186274835907959,
          "y": -1.681359074254889
         },
         {
          "group": "politics",
          "x": -1.5311798064612478,
          "y": -1.0990711727503162
         },
         {
          "group": "politics",
          "x": -0.2628034735085329,
          "y": 1.1931075788780905
         },
         {
          "group": "politics",
          "x": -0.002993910444810104,
          "y": 1.4441911595517518
         },
         {
          "group": "politics",
          "x": -1.5382229395255422,
          "y": 1.0834108998870686
         },
         {
          "group": "politics",
          "x": 0.08298777962043545,
          "y": -0.3422068898741055
         },
         {
          "group": "politics",
          "x": 1.2481838744437193,
          "y": 0.4944128648169567
         },
         {
          "group": "politics",
          "x": 0.08233421014204696,
          "y": 0.4203642285662956
         },
         {
          "group": "politics",
          "x": 1.2851387954658897,
          "y": -0.26942388871749334
         },
         {
          "group": "politics",
          "x": 0.18183385924833514,
          "y": -0.5749920394577381
         },
         {
          "group": "politics",
          "x": -1.1917851781314426,
          "y": -1.3525780466641033
         },
         {
          "group": "politics",
          "x": -1.5056726434542815,
          "y": -0.8186814118838245
         },
         {
          "group": "politics",
          "x": 0.10939315002771781,
          "y": 0.4624478216648482
         },
         {
          "group": "politics",
          "x": 0.43278197343484337,
          "y": -0.9902021878829098
         },
         {
          "group": "politics",
          "x": 0.2769382685823364,
          "y": 1.4903657662220036
         },
         {
          "group": "politics",
          "x": 0.17020719905739745,
          "y": -0.2135216590065852
         },
         {
          "group": "politics",
          "x": 1.0059353950819525,
          "y": 1.3862555524532385
         },
         {
          "group": "politics",
          "x": -1.005559858441355,
          "y": -0.5634005490539854
         },
         {
          "group": "politics",
          "x": 0.7258396624778528,
          "y": 1.0110194153368106
         },
         {
          "group": "politics",
          "x": 1.3639885848089497,
          "y": -0.12355402336666273
         },
         {
          "group": "politics",
          "x": -1.525618295635988,
          "y": 1.2718570627953023
         },
         {
          "group": "politics",
          "x": -0.6472531064235512,
          "y": 0.17956659945101047
         },
         {
          "group": "politics",
          "x": -0.9581940212031906,
          "y": 0.25524279580405324
         },
         {
          "group": "politics",
          "x": -1.352148859769138,
          "y": -1.8728614955078928
         },
         {
          "group": "politics",
          "x": -0.5198274131316013,
          "y": 1.977500505571757
         },
         {
          "group": "politics",
          "x": -0.5488174069212743,
          "y": -0.4405409971245664
         },
         {
          "group": "politics",
          "x": -2.2776401125466172,
          "y": -0.7944874363604622
         },
         {
          "group": "politics",
          "x": 0.5679883439426614,
          "y": -0.407776349861686
         },
         {
          "group": "politics",
          "x": -2.322659420380847,
          "y": -0.8675157442504209
         },
         {
          "group": "politics",
          "x": -1.2824874578683778,
          "y": 0.87959101142049
         },
         {
          "group": "politics",
          "x": 1.4798040150532545,
          "y": 0.37542479454236205
         },
         {
          "group": "politics",
          "x": -1.4834305284806215,
          "y": 1.7230804534101551
         },
         {
          "group": "politics",
          "x": 0.7721397949241308,
          "y": 1.5925244161527334
         },
         {
          "group": "politics",
          "x": -0.8638858576856485,
          "y": 0.5214059897398137
         },
         {
          "group": "politics",
          "x": 2.873139265301388,
          "y": 0.33518590161795464
         },
         {
          "group": "politics",
          "x": -1.0234835198492376,
          "y": 0.48099917362832245
         },
         {
          "group": "politics",
          "x": 1.3504580018533128,
          "y": 1.0162622680029272
         },
         {
          "group": "politics",
          "x": -0.8437150881592599,
          "y": -1.4377921948436412
         },
         {
          "group": "politics",
          "x": -0.10428759857783605,
          "y": 1.7758778193216926
         },
         {
          "group": "politics",
          "x": -0.11353817613033036,
          "y": 1.3583155725413372
         },
         {
          "group": "politics",
          "x": 0.7444034938920553,
          "y": 0.21596989182770765
         },
         {
          "group": "politics",
          "x": -0.3458463456460709,
          "y": -0.3741415191271235
         },
         {
          "group": "politics",
          "x": -0.7786256450220942,
          "y": 0.3074973909980041
         },
         {
          "group": "politics",
          "x": -1.4240845470986143,
          "y": -0.7054138540127426
         },
         {
          "group": "politics",
          "x": 1.334992462785863,
          "y": -2.056138133501774
         },
         {
          "group": "politics",
          "x": -0.5387985111293427,
          "y": -0.7363227225937999
         },
         {
          "group": "politics",
          "x": -1.9397245164615216,
          "y": -0.13242723194757475
         },
         {
          "group": "politics",
          "x": -0.13937726004096385,
          "y": 0.31966849170643946
         },
         {
          "group": "politics",
          "x": -1.6677068537103743,
          "y": -1.758545310026439
         },
         {
          "group": "politics",
          "x": 1.0846200713015528,
          "y": 0.9514380370778032
         },
         {
          "group": "politics",
          "x": 0.006702753250182739,
          "y": 1.0428987884323282
         },
         {
          "group": "politics",
          "x": -0.26854467472605104,
          "y": 0.5176060327780301
         },
         {
          "group": "politics",
          "x": 1.588861045067356,
          "y": 1.0462709377473434
         },
         {
          "group": "politics",
          "x": -1.6066570578957158,
          "y": 0.6929575312721297
         },
         {
          "group": "politics",
          "x": -0.6485428278279888,
          "y": 0.7052196010740572
         },
         {
          "group": "politics",
          "x": -0.7325991286956919,
          "y": 1.010056972290299
         },
         {
          "group": "politics",
          "x": -0.7567562501132787,
          "y": 1.1147607488205626
         },
         {
          "group": "politics",
          "x": -0.8545246987838916,
          "y": 0.679340288347121
         },
         {
          "group": "politics",
          "x": -1.7744829186477113,
          "y": 1.4831421162532925
         },
         {
          "group": "politics",
          "x": -1.697245066248021,
          "y": -0.72219182221639
         },
         {
          "group": "politics",
          "x": -1.2199740196773643,
          "y": -0.7365989913057719
         },
         {
          "group": "politics",
          "x": -1.8742357680547876,
          "y": 0.6051303077233232
         },
         {
          "group": "politics",
          "x": -2.1750910077252734,
          "y": 1.938714542597703
         },
         {
          "group": "politics",
          "x": 0.310342948391057,
          "y": -0.2279471947478718
         },
         {
          "group": "politics",
          "x": 1.4847444837300223,
          "y": 0.6142944209874822
         },
         {
          "group": "politics",
          "x": -2.2318937559600953,
          "y": 1.5892935101857628
         },
         {
          "group": "politics",
          "x": 0.030055463571799244,
          "y": -1.372804455011407
         },
         {
          "group": "politics",
          "x": 1.6251959349118021,
          "y": -0.5634088050990523
         },
         {
          "group": "politics",
          "x": -0.7441891989173933,
          "y": -0.6359276795975601
         },
         {
          "group": "politics",
          "x": 0.2543952821112658,
          "y": 1.8480331508020238
         },
         {
          "group": "politics",
          "x": -2.1909315234383824,
          "y": -0.35751729250159126
         },
         {
          "group": "politics",
          "x": 0.4077936591080749,
          "y": 0.8634261866417543
         },
         {
          "group": "politics",
          "x": -1.1274397220893417,
          "y": 0.5308077858006336
         },
         {
          "group": "politics",
          "x": -0.21443442433311777,
          "y": -0.07358991474278406
         },
         {
          "group": "politics",
          "x": 1.3680726845423952,
          "y": -0.3905974098226828
         },
         {
          "group": "politics",
          "x": 1.2999756910328375,
          "y": -0.3702270041426285
         },
         {
          "group": "politics",
          "x": 1.1748378685760268,
          "y": -0.43395410874254714
         },
         {
          "group": "politics",
          "x": -0.7613073946000566,
          "y": 0.570579650756144
         },
         {
          "group": "politics",
          "x": 0.16737697761864004,
          "y": 2.4465522427748367
         },
         {
          "group": "politics",
          "x": -0.1638220198267538,
          "y": 0.366595810219094
         },
         {
          "group": "politics",
          "x": 0.6817495589649322,
          "y": -2.1501646813854003
         },
         {
          "group": "politics",
          "x": -0.43573083978537175,
          "y": 0.08671810345971664
         },
         {
          "group": "politics",
          "x": 1.4442578839473474,
          "y": -0.3671693109526348
         },
         {
          "group": "politics",
          "x": -0.4595561541977241,
          "y": -0.33443807747211834
         },
         {
          "group": "politics",
          "x": 1.0257769532234151,
          "y": 0.24871098815827972
         },
         {
          "group": "politics",
          "x": -1.079352220542206,
          "y": 1.936952526165974
         },
         {
          "group": "politics",
          "x": 0.49642365005299144,
          "y": 0.9052385887544887
         },
         {
          "group": "politics",
          "x": -0.436781153113632,
          "y": 0.543037248960702
         },
         {
          "group": "politics",
          "x": -2.3537939896913196,
          "y": 0.5058864320821207
         },
         {
          "group": "politics",
          "x": -1.6347335108235814,
          "y": -0.3376391066593052
         },
         {
          "group": "politics",
          "x": -1.829362190334221,
          "y": 0.15771558459996393
         },
         {
          "group": "politics",
          "x": -0.6750122723707825,
          "y": 1.8786636361946356
         },
         {
          "group": "politics",
          "x": -1.167473589031934,
          "y": -0.3018517368017152
         },
         {
          "group": "politics",
          "x": -1.3654556278656385,
          "y": 3.0773427976571783
         },
         {
          "group": "politics",
          "x": -1.6876904805171937,
          "y": -1.6987857416181722
         },
         {
          "group": "politics",
          "x": 0.3760888002793077,
          "y": 1.0647496293337462
         },
         {
          "group": "politics",
          "x": -1.9892300368620244,
          "y": 0.5011143102913181
         },
         {
          "group": "politics",
          "x": -1.610523526249025,
          "y": -0.6521195180228068
         },
         {
          "group": "politics",
          "x": 0.4513953205630734,
          "y": 0.4417518124428973
         },
         {
          "group": "politics",
          "x": -1.0317050592465948,
          "y": -1.8281290739134965
         },
         {
          "group": "politics",
          "x": 0.7708034540861189,
          "y": 2.447068686289051
         },
         {
          "group": "politics",
          "x": -0.1778438643754862,
          "y": 2.036200309148137
         },
         {
          "group": "politics",
          "x": -1.0252555877398002,
          "y": 0.24029061843007252
         },
         {
          "group": "politics",
          "x": 0.14583532438431732,
          "y": 0.1344434788227095
         },
         {
          "group": "politics",
          "x": -1.378793291130483,
          "y": 1.6451898582829378
         },
         {
          "group": "politics",
          "x": 0.46552992298818874,
          "y": 1.117270172684037
         },
         {
          "group": "politics",
          "x": 0.4324456110711128,
          "y": -1.1191864232144808
         },
         {
          "group": "politics",
          "x": 0.8072842357242265,
          "y": 0.0909151047730061
         },
         {
          "group": "politics",
          "x": -0.23639163856166243,
          "y": -0.03886921723924911
         },
         {
          "group": "politics",
          "x": -0.5139567520045579,
          "y": 1.3978404411129262
         },
         {
          "group": "politics",
          "x": 0.211594524398802,
          "y": 2.264426555617591
         },
         {
          "group": "politics",
          "x": -0.38038656087620304,
          "y": -1.1613896845286142
         },
         {
          "group": "politics",
          "x": 1.510417548753255,
          "y": -1.6881276074713976
         },
         {
          "group": "politics",
          "x": 1.6209888759384696,
          "y": -0.40200453990398183
         },
         {
          "group": "politics",
          "x": -0.22014698544020175,
          "y": -0.012857792118731658
         },
         {
          "group": "politics",
          "x": -0.5021725828197432,
          "y": 0.8881427330516972
         },
         {
          "group": "politics",
          "x": 0.02566381999004339,
          "y": 1.51931929482077
         },
         {
          "group": "politics",
          "x": -0.7964223089080064,
          "y": -1.6287305192315458
         },
         {
          "group": "politics",
          "x": -0.15400300678153953,
          "y": -0.17352323659721186
         },
         {
          "group": "politics",
          "x": -1.6786868041974516,
          "y": 1.4452396411194002
         },
         {
          "group": "politics",
          "x": 0.48704220774843293,
          "y": 1.0800018586500226
         },
         {
          "group": "politics",
          "x": -1.3884252405572812,
          "y": 0.3527869241557644
         },
         {
          "group": "politics",
          "x": 1.0335898682309859,
          "y": -1.1861428677618893
         },
         {
          "group": "politics",
          "x": 0.8667586692069918,
          "y": -0.1802007176141738
         },
         {
          "group": "politics",
          "x": -1.1237617542251497,
          "y": -0.7687361205683862
         },
         {
          "group": "politics",
          "x": 0.5863226143893058,
          "y": -0.8392266775498488
         },
         {
          "group": "politics",
          "x": 0.7382543687071796,
          "y": 1.592732492712854
         },
         {
          "group": "politics",
          "x": 0.7890952725704357,
          "y": -1.3668477598887259
         },
         {
          "group": "politics",
          "x": 1.6727232228231679,
          "y": -0.9522038016899785
         },
         {
          "group": "politics",
          "x": 0.1342586924223604,
          "y": 1.7422980995891606
         },
         {
          "group": "politics",
          "x": -0.01802628622711051,
          "y": -0.9353510159610222
         },
         {
          "group": "politics",
          "x": -1.96049779946972,
          "y": 0.20607494030453472
         },
         {
          "group": "politics",
          "x": -0.7378766301110433,
          "y": 0.7131760252619538
         },
         {
          "group": "politics",
          "x": 2.1708118332419333,
          "y": 2.286269413600337
         },
         {
          "group": "politics",
          "x": -0.4000988523269262,
          "y": 0.7546465309821083
         },
         {
          "group": "politics",
          "x": -1.725658560952126,
          "y": -0.9137000314573417
         },
         {
          "group": "politics",
          "x": 2.0324928054983706,
          "y": -0.2682943720914128
         },
         {
          "group": "politics",
          "x": -0.23132678461275943,
          "y": 0.6165612240581992
         },
         {
          "group": "politics",
          "x": 0.811055201741356,
          "y": -0.03712947566307227
         },
         {
          "group": "politics",
          "x": 0.3181036039211775,
          "y": 1.2270443314434287
         },
         {
          "group": "politics",
          "x": -0.8652859974307039,
          "y": 0.2829980050657482
         },
         {
          "group": "politics",
          "x": 1.092639920127207,
          "y": -0.6037060995169766
         },
         {
          "group": "politics",
          "x": -0.3720589347673298,
          "y": -1.794204800579578
         },
         {
          "group": "politics",
          "x": 0.9322575237666971,
          "y": 0.5405049236234659
         },
         {
          "group": "politics",
          "x": -0.5977512854818141,
          "y": -0.35913071299930105
         },
         {
          "group": "politics",
          "x": 0.2922945754700662,
          "y": -0.9375855349102897
         },
         {
          "group": "politics",
          "x": -0.008802623496535184,
          "y": 0.6221627587991557
         },
         {
          "group": "politics",
          "x": -1.7097979376988688,
          "y": 0.9367928594689927
         },
         {
          "group": "politics",
          "x": -1.1127982461124764,
          "y": -0.5332486500480974
         },
         {
          "group": "politics",
          "x": 0.36517879660113683,
          "y": -0.9036174560446933
         },
         {
          "group": "politics",
          "x": -0.05361806502063308,
          "y": 0.08234882565658533
         },
         {
          "group": "politics",
          "x": -0.44290718469147994,
          "y": 2.3346470308463623
         },
         {
          "group": "politics",
          "x": 0.9439534540215038,
          "y": 0.6983676221450518
         },
         {
          "group": "politics",
          "x": -0.1936608606020451,
          "y": -1.313908883193098
         },
         {
          "group": "politics",
          "x": 0.9341343950461667,
          "y": 1.234084754402699
         },
         {
          "group": "politics",
          "x": 0.3005302847675379,
          "y": -0.8258564631736439
         },
         {
          "group": "politics",
          "x": 0.44621734581812744,
          "y": -0.07354109182867213
         },
         {
          "group": "politics",
          "x": -1.148173905768629,
          "y": 0.5677541465826941
         },
         {
          "group": "politics",
          "x": -1.520907563410904,
          "y": 0.5447161563232009
         },
         {
          "group": "politics",
          "x": 0.02480688101525124,
          "y": -0.3679297216148723
         },
         {
          "group": "politics",
          "x": 1.064425510325329,
          "y": 0.8977654658782921
         },
         {
          "group": "politics",
          "x": -0.7543628452549344,
          "y": -0.09827868833100294
         },
         {
          "group": "politics",
          "x": 0.1418951776256818,
          "y": 2.577069570332968
         },
         {
          "group": "politics",
          "x": -2.2435060411143146,
          "y": -0.5085568366579256
         },
         {
          "group": "politics",
          "x": 1.1167052631592058,
          "y": -1.2412548409349615
         },
         {
          "group": "politics",
          "x": -0.7923681191380363,
          "y": -0.5650756223118892
         },
         {
          "group": "politics",
          "x": -1.4459413654567634,
          "y": 0.48822142837418586
         },
         {
          "group": "politics",
          "x": -0.07293386281867065,
          "y": -0.7846297545706317
         },
         {
          "group": "politics",
          "x": -0.9319803119925171,
          "y": -0.5072298602380616
         },
         {
          "group": "politics",
          "x": 0.8370067203946941,
          "y": -2.170762345619665
         },
         {
          "group": "politics",
          "x": -1.1077251144287892,
          "y": -1.327742025891316
         },
         {
          "group": "politics",
          "x": -0.2324271165755772,
          "y": -0.837670805005411
         },
         {
          "group": "politics",
          "x": 0.8257172309008842,
          "y": -0.3866888914851166
         },
         {
          "group": "politics",
          "x": -0.053596359303209634,
          "y": -1.1114267778513003
         },
         {
          "group": "politics",
          "x": -1.6033871688224055,
          "y": -0.2986550375458203
         },
         {
          "group": "politics",
          "x": -0.34114426754556054,
          "y": 1.4405241249259877
         },
         {
          "group": "politics",
          "x": -0.4099788281434639,
          "y": 0.4858945421326166
         },
         {
          "group": "politics",
          "x": -0.08136601724913284,
          "y": -0.5224334292396963
         },
         {
          "group": "politics",
          "x": -0.6697972254589893,
          "y": -0.4909460435340986
         },
         {
          "group": "politics",
          "x": -0.6236537869896145,
          "y": -2.3363622704189333
         },
         {
          "group": "politics",
          "x": 0.35271144465770954,
          "y": -0.8994079610632472
         },
         {
          "group": "politics",
          "x": -2.8231164837744185,
          "y": 0.3015976140449715
         },
         {
          "group": "politics",
          "x": -0.8116353102563979,
          "y": 3.777763416853355
         },
         {
          "group": "politics",
          "x": -0.3467938922221768,
          "y": 1.641979939048119
         },
         {
          "group": "politics",
          "x": -1.5365927071286731,
          "y": -1.6763211338789714
         },
         {
          "group": "politics",
          "x": 1.1548448390410184,
          "y": 0.2590994052464597
         },
         {
          "group": "politics",
          "x": 1.1184994288512327,
          "y": 1.896783992399527
         },
         {
          "group": "politics",
          "x": -0.1508190935674107,
          "y": -0.33517146120627667
         },
         {
          "group": "politics",
          "x": -1.0880971930818693,
          "y": 0.09062554041151831
         },
         {
          "group": "politics",
          "x": 0.8302216526629811,
          "y": -0.1470981020604864
         },
         {
          "group": "politics",
          "x": -0.6852945937015964,
          "y": 0.9998518563901992
         },
         {
          "group": "politics",
          "x": -0.4004659024934365,
          "y": 0.1570665022069099
         },
         {
          "group": "politics",
          "x": 0.8227866550661476,
          "y": -0.5281843537672942
         },
         {
          "group": "politics",
          "x": -1.136837734255959,
          "y": -0.7177909896123694
         },
         {
          "group": "politics",
          "x": -1.2357889024838955,
          "y": -0.2758153780532453
         },
         {
          "group": "politics",
          "x": -0.160786703944811,
          "y": 1.4878499354892036
         },
         {
          "group": "politics",
          "x": 0.3499068266821535,
          "y": 1.3608767146981129
         },
         {
          "group": "politics",
          "x": 1.602206514462132,
          "y": 1.587497270457631
         },
         {
          "group": "politics",
          "x": 0.49007680597878367,
          "y": 0.28854356633149497
         },
         {
          "group": "politics",
          "x": -2.1205105582720067,
          "y": 2.071069787642299
         },
         {
          "group": "politics",
          "x": -0.0634765954257486,
          "y": 1.5622888496170735
         },
         {
          "group": "politics",
          "x": -1.0009408321454158,
          "y": -0.2668500834045259
         },
         {
          "group": "politics",
          "x": -2.2334298624975575,
          "y": 1.2558994147492029
         },
         {
          "group": "politics",
          "x": -1.1371852700712313,
          "y": -0.9599531966001548
         },
         {
          "group": "politics",
          "x": -2.8314798495041105,
          "y": 0.35010567955525473
         },
         {
          "group": "politics",
          "x": -0.04950805133790061,
          "y": -0.9299377129343921
         },
         {
          "group": "politics",
          "x": -0.3276655433514001,
          "y": 0.5381863377650788
         },
         {
          "group": "politics",
          "x": 0.21019473514828801,
          "y": -0.025222107756839272
         },
         {
          "group": "politics",
          "x": 1.0439309504039056,
          "y": 1.7246869423027902
         },
         {
          "group": "politics",
          "x": -0.334035098017499,
          "y": -0.34803666388127963
         },
         {
          "group": "politics",
          "x": -1.9621484809225969,
          "y": 0.6668732906853043
         },
         {
          "group": "politics",
          "x": -0.8987913778452669,
          "y": -1.3317335284001974
         },
         {
          "group": "politics",
          "x": -2.3833851070931438,
          "y": 0.2962654355065872
         },
         {
          "group": "politics",
          "x": -0.37728995704267737,
          "y": -0.4377415506217858
         },
         {
          "group": "politics",
          "x": -1.0653185968399057,
          "y": 0.7758518013374457
         },
         {
          "group": "politics",
          "x": -2.1805545691257784,
          "y": 0.20961229173471466
         },
         {
          "group": "politics",
          "x": -2.0038322210653288,
          "y": 1.0516584314856114
         },
         {
          "group": "politics",
          "x": -1.7112760395956477,
          "y": -1.1439322002779788
         },
         {
          "group": "politics",
          "x": -1.1004587919658568,
          "y": 0.21208934364086468
         },
         {
          "group": "politics",
          "x": 0.13777695936759407,
          "y": -1.62771512769995
         },
         {
          "group": "politics",
          "x": -0.9656256171342881,
          "y": 1.1210485580960272
         },
         {
          "group": "politics",
          "x": -0.2024031147867641,
          "y": 0.13496618342933864
         },
         {
          "group": "politics",
          "x": -1.2824607398827834,
          "y": -0.15852658405953124
         },
         {
          "group": "politics",
          "x": 0.5944841159076959,
          "y": -0.12715442497990265
         },
         {
          "group": "politics",
          "x": 2.3668895467970965,
          "y": 0.988585376829919
         },
         {
          "group": "politics",
          "x": 1.0594880397900297,
          "y": 0.20660313219635454
         },
         {
          "group": "politics",
          "x": -0.7014682609459657,
          "y": 0.18922249495104984
         },
         {
          "group": "politics",
          "x": -1.145938399710551,
          "y": 0.38283158586457583
         },
         {
          "group": "politics",
          "x": 0.7573164428729128,
          "y": -0.5002159950527517
         },
         {
          "group": "politics",
          "x": -2.8295815490711154,
          "y": -0.46533467347735225
         },
         {
          "group": "politics",
          "x": -1.3376485086090502,
          "y": 0.7711642821438862
         },
         {
          "group": "politics",
          "x": -0.994348064267884,
          "y": -0.588260305860394
         },
         {
          "group": "politics",
          "x": 1.3023888609576744,
          "y": -1.6812525885555347
         },
         {
          "group": "politics",
          "x": -1.6159331016239626,
          "y": 1.3670091881026853
         },
         {
          "group": "politics",
          "x": 0.10942606512334739,
          "y": 0.04588886531152081
         },
         {
          "group": "politics",
          "x": -1.358642929516527,
          "y": 1.4105453277661595
         },
         {
          "group": "politics",
          "x": -1.1514750826093239,
          "y": 0.5762679143693175
         },
         {
          "group": "politics",
          "x": -0.025079854701116136,
          "y": -1.0440928281146333
         },
         {
          "group": "politics",
          "x": -0.5781243591479169,
          "y": -0.5591497827734876
         },
         {
          "group": "politics",
          "x": 0.020298415424309782,
          "y": 0.9539233114703617
         },
         {
          "group": "politics",
          "x": 1.669199280217718,
          "y": -0.32317723255554515
         },
         {
          "group": "politics",
          "x": -0.7584730897681043,
          "y": 1.3111543666486842
         },
         {
          "group": "politics",
          "x": -0.3036379491044143,
          "y": -1.8500057362956523
         },
         {
          "group": "politics",
          "x": -0.12499665848765741,
          "y": -0.5519036336760416
         },
         {
          "group": "politics",
          "x": -0.16238657163922662,
          "y": 0.6366389021563398
         },
         {
          "group": "politics",
          "x": -0.08063264125611473,
          "y": 1.1051133817002843
         },
         {
          "group": "politics",
          "x": 0.29826789378109114,
          "y": 1.3290356391149922
         },
         {
          "group": "politics",
          "x": -0.6528206613913528,
          "y": 1.4924159620485784
         },
         {
          "group": "politics",
          "x": -0.5767632385446405,
          "y": -1.2776766664289803
         },
         {
          "group": "politics",
          "x": -1.2503644064392578,
          "y": -0.620254969605337
         },
         {
          "group": "politics",
          "x": -0.055713997808728044,
          "y": 0.11810992119891041
         },
         {
          "group": "politics",
          "x": -0.8710262705457679,
          "y": -1.2340580266566916
         },
         {
          "group": "politics",
          "x": -0.8423359691447604,
          "y": 0.2967569059622759
         },
         {
          "group": "politics",
          "x": 0.6475352670071879,
          "y": -2.4418404013441113
         },
         {
          "group": "politics",
          "x": -0.2808031186374439,
          "y": -1.4368310523695889
         },
         {
          "group": "politics",
          "x": -1.5957492532714137,
          "y": 0.21964997431142866
         },
         {
          "group": "politics",
          "x": -1.6666568341347736,
          "y": -0.6083351034347
         },
         {
          "group": "politics",
          "x": -2.12098614569239,
          "y": 0.8290557537195419
         },
         {
          "group": "politics",
          "x": -1.7930560443126682,
          "y": -1.0708934086500403
         },
         {
          "group": "politics",
          "x": 0.8029365513785625,
          "y": 0.737322024350445
         },
         {
          "group": "politics",
          "x": -0.7931449968943108,
          "y": -0.8242877245384979
         },
         {
          "group": "politics",
          "x": -0.8742293540503444,
          "y": 0.4550500108988058
         },
         {
          "group": "politics",
          "x": 0.28127104117837337,
          "y": 0.42824542773732766
         },
         {
          "group": "politics",
          "x": -1.7331074322767015,
          "y": -1.2800234731676385
         },
         {
          "group": "politics",
          "x": 1.3752997444697896,
          "y": 1.0475213476815763
         },
         {
          "group": "politics",
          "x": 1.128889573463974,
          "y": 0.024935033925473547
         },
         {
          "group": "politics",
          "x": 0.6554899624417353,
          "y": -1.5317465693244159
         },
         {
          "group": "politics",
          "x": 0.06051546914863492,
          "y": 0.6028427837140504
         },
         {
          "group": "politics",
          "x": -0.11235912536363199,
          "y": 0.4259193887161284
         },
         {
          "group": "politics",
          "x": -0.8781959227673038,
          "y": 0.5039456475512605
         },
         {
          "group": "politics",
          "x": -2.698735843374951,
          "y": 1.6146516604834826
         },
         {
          "group": "politics",
          "x": -2.4014337061863924,
          "y": -2.475144473442086
         },
         {
          "group": "politics",
          "x": -1.3511317000408587,
          "y": -1.214526363221825
         },
         {
          "group": "politics",
          "x": 1.1238487320318191,
          "y": -0.5729574484863373
         },
         {
          "group": "politics",
          "x": 1.7893204913834155,
          "y": 1.4351568619758888
         },
         {
          "group": "politics",
          "x": -2.653181878024961,
          "y": -0.8184319109616275
         },
         {
          "group": "politics",
          "x": -0.5589325427847697,
          "y": -0.08274929966401186
         },
         {
          "group": "politics",
          "x": -3.154343559156306,
          "y": -1.5195017877460069
         },
         {
          "group": "politics",
          "x": 1.0911821982516259,
          "y": -1.7146848291090695
         },
         {
          "group": "politics",
          "x": -0.0876197608253207,
          "y": -2.3490618997854575
         },
         {
          "group": "politics",
          "x": -0.260437278662677,
          "y": -0.8338392896679627
         },
         {
          "group": "politics",
          "x": -0.3997538284872315,
          "y": 1.1601188669227578
         },
         {
          "group": "politics",
          "x": 0.012050368089140466,
          "y": 1.4277732045477618
         },
         {
          "group": "politics",
          "x": -1.1947768769046547,
          "y": -1.7011581958631674
         },
         {
          "group": "politics",
          "x": 0.2593773732334829,
          "y": 1.8210102059614117
         },
         {
          "group": "politics",
          "x": -1.0473232943334259,
          "y": 2.202717080170867
         },
         {
          "group": "politics",
          "x": -1.3182645172409009,
          "y": 2.4926945218406567
         },
         {
          "group": "politics",
          "x": -0.551803321620741,
          "y": 1.3859437531917473
         },
         {
          "group": "politics",
          "x": -1.383520163214485,
          "y": -1.065888816829448
         },
         {
          "group": "politics",
          "x": 0.1939550079865849,
          "y": -0.34434963443076866
         },
         {
          "group": "politics",
          "x": 1.5706449390972033,
          "y": -0.7031524189249732
         },
         {
          "group": "politics",
          "x": -0.7598416552851943,
          "y": 1.1700671595585872
         },
         {
          "group": "politics",
          "x": 0.9606870704617431,
          "y": -0.35118026262242436
         },
         {
          "group": "politics",
          "x": -1.164636869225854,
          "y": -0.06960750145960415
         },
         {
          "group": "politics",
          "x": -0.15324220824302306,
          "y": 0.12509647290811032
         },
         {
          "group": "politics",
          "x": -1.768016961775954,
          "y": 0.5945168392470721
         },
         {
          "group": "politics",
          "x": 0.20016746560547197,
          "y": -0.46373810719228037
         },
         {
          "group": "politics",
          "x": 0.04996069185527255,
          "y": -0.6482619069670922
         },
         {
          "group": "politics",
          "x": -1.3500639206131004,
          "y": 0.15790364239048055
         },
         {
          "group": "politics",
          "x": -1.8460502566650836,
          "y": 0.6884493155706439
         },
         {
          "group": "politics",
          "x": 0.126486708930852,
          "y": 0.9701239318440054
         },
         {
          "group": "politics",
          "x": 0.13298362772873068,
          "y": -1.7053696902884705
         },
         {
          "group": "politics",
          "x": -0.4204317550145683,
          "y": 0.2100874968114416
         },
         {
          "group": "politics",
          "x": -1.8061058520770117,
          "y": 0.0212807848576878
         },
         {
          "group": "politics",
          "x": -1.0888391795756815,
          "y": 0.5561591965030541
         },
         {
          "group": "politics",
          "x": 2.261851394617603,
          "y": -0.6908934524019281
         },
         {
          "group": "politics",
          "x": 0.32190091690423894,
          "y": 0.2419252229821219
         },
         {
          "group": "politics",
          "x": -1.3003559085368288,
          "y": -0.25597052486973204
         },
         {
          "group": "politics",
          "x": 1.0868727856207356,
          "y": 0.35678823918523117
         },
         {
          "group": "politics",
          "x": -0.8982799699730944,
          "y": 2.6447795521990716
         },
         {
          "group": "politics",
          "x": -0.7988067372080893,
          "y": -0.12487295436647802
         },
         {
          "group": "politics",
          "x": -0.7648850685447404,
          "y": 0.39032897390472177
         },
         {
          "group": "politics",
          "x": -0.9975206187191786,
          "y": -1.3999684663560865
         },
         {
          "group": "politics",
          "x": -0.6729761086049761,
          "y": 1.024684982847957
         },
         {
          "group": "politics",
          "x": 0.42171991115365387,
          "y": 0.6001799472076251
         },
         {
          "group": "politics",
          "x": -0.9860555907844611,
          "y": 1.0501729216271274
         },
         {
          "group": "politics",
          "x": 0.17845341271211332,
          "y": -1.982021615517501
         },
         {
          "group": "politics",
          "x": -1.4061750523722159,
          "y": -0.28402041452572174
         },
         {
          "group": "politics",
          "x": -2.0071867949633044,
          "y": -0.8089740295397525
         },
         {
          "group": "politics",
          "x": -1.5847283047741225,
          "y": -0.11079971127726565
         },
         {
          "group": "politics",
          "x": -1.849192046246812,
          "y": -1.1672299520962697
         },
         {
          "group": "politics",
          "x": -0.6213396871810914,
          "y": -0.84494331133138
         },
         {
          "group": "politics",
          "x": 0.7829519597978787,
          "y": 0.9796871040762883
         },
         {
          "group": "politics",
          "x": -0.49994788595283113,
          "y": 0.618242604414581
         },
         {
          "group": "politics",
          "x": 0.3944791533533557,
          "y": 0.30901259107787626
         },
         {
          "group": "politics",
          "x": -0.6957689807815206,
          "y": 0.5742230233562741
         },
         {
          "group": "politics",
          "x": 0.887101640755891,
          "y": -0.15264234073598007
         },
         {
          "group": "politics",
          "x": -0.37098490036676124,
          "y": -0.7476106767015952
         },
         {
          "group": "politics",
          "x": -2.5250768659669194,
          "y": -1.295454018992917
         },
         {
          "group": "politics",
          "x": 1.338183136837816,
          "y": -0.9372726783288968
         },
         {
          "group": "politics",
          "x": 0.7620823713705427,
          "y": -1.0901901372123861
         },
         {
          "group": "politics",
          "x": -0.9473133219490023,
          "y": -2.051197641470317
         },
         {
          "group": "politics",
          "x": 0.36525876755376363,
          "y": -0.5067631521182945
         },
         {
          "group": "politics",
          "x": 0.1905950990472239,
          "y": 1.7797719783359232
         },
         {
          "group": "politics",
          "x": 0.5053895091639363,
          "y": -1.0224490681187126
         },
         {
          "group": "politics",
          "x": -0.07107632943427675,
          "y": -0.6649600203766076
         },
         {
          "group": "politics",
          "x": -0.2680836238990868,
          "y": -0.8448811508116602
         },
         {
          "group": "politics",
          "x": -1.7477090433433407,
          "y": -0.4819690089741693
         },
         {
          "group": "politics",
          "x": -0.5230044051756539,
          "y": -0.1474977029631687
         },
         {
          "group": "politics",
          "x": -0.5603989792543665,
          "y": -2.9135496855235745
         },
         {
          "group": "politics",
          "x": -0.5326731004511126,
          "y": 2.302443498019875
         },
         {
          "group": "politics",
          "x": 0.7352850596730042,
          "y": 0.946434167327225
         },
         {
          "group": "politics",
          "x": -2.346694334517772,
          "y": 0.141745560276848
         },
         {
          "group": "politics",
          "x": -1.839349563556976,
          "y": 0.45918204719421585
         },
         {
          "group": "politics",
          "x": -1.1940387436712632,
          "y": 1.6044698331418077
         },
         {
          "group": "politics",
          "x": 0.9299190859697928,
          "y": 1.2764664709725293
         },
         {
          "group": "politics",
          "x": -1.3660952371854904,
          "y": 0.9130388640887779
         },
         {
          "group": "politics",
          "x": -2.298672038769968,
          "y": 1.3704770002530229
         },
         {
          "group": "politics",
          "x": -1.8739163816319027,
          "y": 0.9460234225224433
         },
         {
          "group": "politics",
          "x": 0.00352662238829455,
          "y": -1.4788416322178983
         },
         {
          "group": "politics",
          "x": -0.10090909776684286,
          "y": -0.6265875274930008
         },
         {
          "group": "politics",
          "x": -0.7200960360468354,
          "y": 0.11000491201339768
         },
         {
          "group": "politics",
          "x": -0.21070682713259192,
          "y": -0.7257549337488644
         },
         {
          "group": "politics",
          "x": 0.2765844161106508,
          "y": -1.8844142023410002
         },
         {
          "group": "politics",
          "x": -1.500702388626411,
          "y": -0.7354049123420301
         },
         {
          "group": "politics",
          "x": -1.7959130790824474,
          "y": 0.36977636395241253
         },
         {
          "group": "politics",
          "x": -1.5213749372161545,
          "y": 0.6282658140744992
         },
         {
          "group": "politics",
          "x": 0.24847618031068897,
          "y": 1.14410012864383
         },
         {
          "group": "politics",
          "x": -0.6552589711107136,
          "y": 0.25824752018589237
         },
         {
          "group": "politics",
          "x": -1.0299555840277401,
          "y": -0.6649779802125038
         },
         {
          "group": "politics",
          "x": -1.4750928630421356,
          "y": -1.0915047544857999
         },
         {
          "group": "politics",
          "x": -1.1436421725984505,
          "y": -0.16031330769766136
         },
         {
          "group": "politics",
          "x": -0.8462228393600109,
          "y": 1.1051621296951593
         },
         {
          "group": "politics",
          "x": -1.8204276773719847,
          "y": -0.2879460201877016
         },
         {
          "group": "politics",
          "x": 0.14742068979474188,
          "y": -0.5449409330015176
         },
         {
          "group": "politics",
          "x": -0.9829834040820278,
          "y": 2.129007429645813
         },
         {
          "group": "politics",
          "x": -1.8123244227136563,
          "y": -1.392875019700729
         },
         {
          "group": "politics",
          "x": -0.35069097053966936,
          "y": -0.5596106909538339
         },
         {
          "group": "politics",
          "x": 0.12984834756216243,
          "y": -2.3782104997194735
         },
         {
          "group": "politics",
          "x": -0.09846309112437687,
          "y": 1.162892934895332
         },
         {
          "group": "politics",
          "x": 0.15221902732838097,
          "y": 1.774162429640985
         },
         {
          "group": "politics",
          "x": -1.2650548587980401,
          "y": 0.8445530550921911
         },
         {
          "group": "politics",
          "x": -0.7111831225509414,
          "y": 0.0805123189749578
         },
         {
          "group": "politics",
          "x": -0.6439717914678522,
          "y": -0.019717645242008933
         },
         {
          "group": "politics",
          "x": -0.258599376721251,
          "y": 1.0460389650941966
         },
         {
          "group": "politics",
          "x": -2.956334455433464,
          "y": 0.7286976996615758
         },
         {
          "group": "politics",
          "x": -1.1273604418980339,
          "y": 0.6093436647902322
         },
         {
          "group": "politics",
          "x": 0.8054341823649621,
          "y": -1.7811006266065847
         },
         {
          "group": "politics",
          "x": 0.396590841601668,
          "y": 1.9686817544949653
         },
         {
          "group": "politics",
          "x": -0.1571122019294807,
          "y": -0.7930383400396221
         },
         {
          "group": "politics",
          "x": 0.09409506104132592,
          "y": -0.12612169423277775
         },
         {
          "group": "politics",
          "x": -0.3364898882908425,
          "y": 0.9178271120869469
         },
         {
          "group": "politics",
          "x": -3.3716893804205625,
          "y": 0.7864392941930518
         },
         {
          "group": "politics",
          "x": -0.7605951254267918,
          "y": -1.435279723142253
         },
         {
          "group": "politics",
          "x": -1.7664900802651717,
          "y": 0.8442888151844204
         },
         {
          "group": "politics",
          "x": 0.2382030650736501,
          "y": 1.4167411309021105
         },
         {
          "group": "politics",
          "x": -0.7838506982909619,
          "y": 0.6889832068662842
         },
         {
          "group": "politics",
          "x": -0.43229682862792024,
          "y": 1.1599332896322505
         },
         {
          "group": "politics",
          "x": -0.516220551596282,
          "y": -0.5184222603049812
         },
         {
          "group": "politics",
          "x": -0.23179838637178843,
          "y": -1.7474849688007827
         },
         {
          "group": "politics",
          "x": 0.11674273362153573,
          "y": -0.6581892283214588
         },
         {
          "group": "politics",
          "x": -1.9470423003130821,
          "y": 2.270114767890712
         },
         {
          "group": "politics",
          "x": -2.6995722840871217,
          "y": -0.9712231763838978
         },
         {
          "group": "politics",
          "x": -1.2943367048595056,
          "y": -0.8977869850702709
         },
         {
          "group": "politics",
          "x": -0.23375787296080328,
          "y": 0.3319788856303047
         },
         {
          "group": "politics",
          "x": -0.5370426286681359,
          "y": -0.9879820475235981
         },
         {
          "group": "politics",
          "x": -1.0157159201476404,
          "y": -2.0312304724617345
         },
         {
          "group": "politics",
          "x": -2.015548911597024,
          "y": 0.26475012298972267
         },
         {
          "group": "politics",
          "x": -0.2453006962708936,
          "y": 0.09641090819426329
         },
         {
          "group": "politics",
          "x": 1.0139307281698928,
          "y": -0.008069116485393364
         },
         {
          "group": "politics",
          "x": -1.9054351554311624,
          "y": 0.418888199509847
         },
         {
          "group": "politics",
          "x": -1.9142246165213959,
          "y": -0.9523483844724419
         },
         {
          "group": "politics",
          "x": -1.336894816596278,
          "y": 0.9853474571506569
         },
         {
          "group": "politics",
          "x": -1.16018982308446,
          "y": -0.7459341878110671
         },
         {
          "group": "politics",
          "x": -0.32078130063578336,
          "y": 1.574445371614474
         },
         {
          "group": "politics",
          "x": -0.859095178159123,
          "y": 1.568003391983314
         },
         {
          "group": "tech",
          "x": -0.4102734312091372,
          "y": -0.34683614077117264
         },
         {
          "group": "tech",
          "x": -1.5632062649093144,
          "y": 1.269780616410036
         },
         {
          "group": "tech",
          "x": 0.45890635339352354,
          "y": 1.9532552881625826
         },
         {
          "group": "tech",
          "x": -1.1333605334699588,
          "y": 2.788858478130803
         },
         {
          "group": "tech",
          "x": -2.0208145992525264,
          "y": -0.35465124316591756
         },
         {
          "group": "tech",
          "x": 0.17934009694949313,
          "y": -0.1710925952379229
         },
         {
          "group": "tech",
          "x": 0.26086874967969254,
          "y": -0.8308470584675678
         },
         {
          "group": "tech",
          "x": 0.4385682530046806,
          "y": -0.302741903021618
         },
         {
          "group": "tech",
          "x": 1.029753121931362,
          "y": -2.494839402878713
         },
         {
          "group": "tech",
          "x": -0.1108482840068308,
          "y": 0.7385756221195166
         },
         {
          "group": "tech",
          "x": 0.9301041556967385,
          "y": -1.1373878343526251
         },
         {
          "group": "tech",
          "x": 1.532616914464841,
          "y": -1.2022354339167414
         },
         {
          "group": "tech",
          "x": 0.3662899575375506,
          "y": 0.5659536076541963
         },
         {
          "group": "tech",
          "x": 1.8025037042050878,
          "y": -0.30114087375583704
         },
         {
          "group": "tech",
          "x": -1.0644737024052933,
          "y": 0.7262265976139504
         },
         {
          "group": "tech",
          "x": -3.083942659909585,
          "y": 0.4384027765873066
         },
         {
          "group": "tech",
          "x": 1.2287186854696224,
          "y": -0.018345431024296043
         },
         {
          "group": "tech",
          "x": -0.29135190598655175,
          "y": 0.681538270050873
         },
         {
          "group": "tech",
          "x": -0.02150188707473304,
          "y": -0.5259613051847913
         },
         {
          "group": "tech",
          "x": 0.1346955938397899,
          "y": -0.7121519974193024
         },
         {
          "group": "tech",
          "x": -1.4160109796722986,
          "y": 0.6667387890081523
         },
         {
          "group": "tech",
          "x": -0.7679230177498884,
          "y": 0.9601140642707572
         },
         {
          "group": "tech",
          "x": 0.7699262207122494,
          "y": -0.8004932161856292
         },
         {
          "group": "tech",
          "x": -0.14792606771836606,
          "y": 0.7274258575923593
         },
         {
          "group": "tech",
          "x": 0.8633990416815763,
          "y": 1.996308840778374
         },
         {
          "group": "tech",
          "x": 0.3771593810627264,
          "y": -1.7048874853278595
         },
         {
          "group": "tech",
          "x": -0.36922115129891847,
          "y": -1.3327903585463936
         },
         {
          "group": "tech",
          "x": -0.306410328149479,
          "y": -0.7406926901510216
         },
         {
          "group": "tech",
          "x": 0.16863256219683323,
          "y": -1.018557144155678
         },
         {
          "group": "tech",
          "x": 0.8243753501911787,
          "y": -0.0840762859044365
         },
         {
          "group": "tech",
          "x": -0.4677510069960713,
          "y": 0.3728918252902028
         },
         {
          "group": "tech",
          "x": 0.9319152035059589,
          "y": -1.154502901035405
         },
         {
          "group": "tech",
          "x": -0.9137063277064351,
          "y": -0.9808618759212967
         },
         {
          "group": "tech",
          "x": 1.2545540849820385,
          "y": 2.5347833543172498
         },
         {
          "group": "tech",
          "x": -1.931564627180741,
          "y": -1.5795247394357737
         },
         {
          "group": "tech",
          "x": -0.7356286418947848,
          "y": 1.616269464197559
         },
         {
          "group": "tech",
          "x": -1.8929660041111283,
          "y": -0.026658778528506732
         },
         {
          "group": "tech",
          "x": -0.6939162227079525,
          "y": -1.2847571880366448
         },
         {
          "group": "tech",
          "x": 0.7248119068753495,
          "y": -0.3352759709706565
         },
         {
          "group": "tech",
          "x": -1.6373425916878654,
          "y": -0.43898270508309806
         },
         {
          "group": "tech",
          "x": -0.5662400076652574,
          "y": -0.598680665933794
         },
         {
          "group": "tech",
          "x": 0.5212609604069817,
          "y": 0.203226161493772
         },
         {
          "group": "tech",
          "x": -0.8847607737663984,
          "y": -0.9866299128645899
         },
         {
          "group": "tech",
          "x": -0.7197573978717497,
          "y": 0.49437509245730255
         },
         {
          "group": "tech",
          "x": -0.7405506416437998,
          "y": -0.23002481543469014
         },
         {
          "group": "tech",
          "x": 1.4085286240978094,
          "y": 2.1736705421369247
         },
         {
          "group": "tech",
          "x": -0.5132678115979484,
          "y": -0.0013101505607964073
         },
         {
          "group": "tech",
          "x": -0.44020903539227246,
          "y": -1.887630794678531
         },
         {
          "group": "tech",
          "x": 0.9470779274034198,
          "y": 0.012810865075806926
         },
         {
          "group": "tech",
          "x": -1.2288912969323944,
          "y": -0.2165415746840184
         },
         {
          "group": "tech",
          "x": -1.4340597632409768,
          "y": -0.699187824339332
         },
         {
          "group": "tech",
          "x": -1.3707291566352933,
          "y": 1.827251386639934
         },
         {
          "group": "tech",
          "x": 0.5665405524020729,
          "y": 1.370704894262825
         },
         {
          "group": "tech",
          "x": -0.008312235298117605,
          "y": -0.7513587213272357
         },
         {
          "group": "tech",
          "x": -0.3250406651689861,
          "y": 0.6126355947655319
         },
         {
          "group": "tech",
          "x": -0.9864248096284272,
          "y": -1.1441279489861043
         },
         {
          "group": "tech",
          "x": -2.164933885933536,
          "y": -1.4665555979918046
         },
         {
          "group": "tech",
          "x": -0.7725811273027102,
          "y": 1.4683585777629558
         },
         {
          "group": "tech",
          "x": -2.013857407434307,
          "y": -0.576910841841565
         },
         {
          "group": "tech",
          "x": 1.449858654811747,
          "y": 0.6064848007643137
         },
         {
          "group": "tech",
          "x": 1.0889899862241614,
          "y": 0.097040862277302
         },
         {
          "group": "tech",
          "x": -1.3359830781136255,
          "y": -0.8426508811942903
         },
         {
          "group": "tech",
          "x": 0.40780686901742336,
          "y": -0.6248490639780467
         },
         {
          "group": "tech",
          "x": 1.1433896325393953,
          "y": 1.5127701063944627
         },
         {
          "group": "tech",
          "x": -0.08664466550251906,
          "y": 1.5492664642803669
         },
         {
          "group": "tech",
          "x": -1.410507739863371,
          "y": 0.5077888697058028
         },
         {
          "group": "tech",
          "x": 1.7426198243959328,
          "y": 0.10847460395317678
         },
         {
          "group": "tech",
          "x": 1.5627530759502728,
          "y": 0.49613637435341507
         },
         {
          "group": "tech",
          "x": -0.6183823079312818,
          "y": -0.8228614678087187
         },
         {
          "group": "tech",
          "x": -0.32116268173852675,
          "y": -2.0101203298948174
         },
         {
          "group": "tech",
          "x": -2.0638525070393503,
          "y": 0.06034189293716815
         },
         {
          "group": "tech",
          "x": -0.8266006667023674,
          "y": -0.3032221843422389
         },
         {
          "group": "tech",
          "x": -0.26860574847695423,
          "y": 1.927031242625389
         },
         {
          "group": "tech",
          "x": -0.33065423538655936,
          "y": 0.30946240957508103
         },
         {
          "group": "tech",
          "x": -1.7118666146921917,
          "y": 0.9573975196464884
         },
         {
          "group": "tech",
          "x": 2.4853999044577413,
          "y": -0.7857603677389403
         },
         {
          "group": "tech",
          "x": -0.15695437547819777,
          "y": -0.12221610348947863
         },
         {
          "group": "tech",
          "x": -0.5271958454182359,
          "y": -0.6096119212815974
         },
         {
          "group": "tech",
          "x": 0.07788315726248975,
          "y": -0.29463880466988496
         },
         {
          "group": "tech",
          "x": -1.5351253543574057,
          "y": -0.45665999440032534
         },
         {
          "group": "tech",
          "x": 0.7439731612076972,
          "y": 2.589294027114737
         },
         {
          "group": "tech",
          "x": 0.8308970603998059,
          "y": -0.9884364474983891
         },
         {
          "group": "tech",
          "x": 1.2066394642020193,
          "y": 0.2544708940902746
         },
         {
          "group": "tech",
          "x": 0.8762860560451337,
          "y": 1.0397600955663389
         },
         {
          "group": "tech",
          "x": -0.21404865432287107,
          "y": -0.18683388393250258
         },
         {
          "group": "tech",
          "x": -0.8537538934710475,
          "y": 0.23930187874977416
         },
         {
          "group": "tech",
          "x": -1.0742150134780617,
          "y": -0.7995108952358004
         },
         {
          "group": "tech",
          "x": 0.9971651370193455,
          "y": 1.8948549596723445
         },
         {
          "group": "tech",
          "x": -0.5223590230953211,
          "y": 0.9987086751221278
         },
         {
          "group": "tech",
          "x": -1.60220115608619,
          "y": 0.5496750771253014
         },
         {
          "group": "tech",
          "x": -1.101178860039693,
          "y": 0.3243582697757594
         },
         {
          "group": "tech",
          "x": -0.05541991017460289,
          "y": -0.5415831495450972
         },
         {
          "group": "tech",
          "x": 0.1755101944354487,
          "y": -0.26909985219090826
         },
         {
          "group": "tech",
          "x": -1.1412988492774556,
          "y": -0.150396324501301
         },
         {
          "group": "tech",
          "x": -1.3810066075272596,
          "y": -0.1740580879634892
         },
         {
          "group": "tech",
          "x": -2.493324411133911,
          "y": -1.2535399103826033
         },
         {
          "group": "tech",
          "x": 0.10319202453188779,
          "y": -0.465424727890751
         },
         {
          "group": "tech",
          "x": 0.8421151246251006,
          "y": -0.8015387535040684
         },
         {
          "group": "tech",
          "x": -2.3375550693697837,
          "y": 0.02290175792816081
         },
         {
          "group": "tech",
          "x": -0.5050857003457977,
          "y": -1.5186181586741994
         },
         {
          "group": "tech",
          "x": -1.2213206512999217,
          "y": -0.8418268558903353
         },
         {
          "group": "tech",
          "x": -1.0907891568916608,
          "y": 0.10147709954847803
         },
         {
          "group": "tech",
          "x": -0.5897900138088483,
          "y": 1.499501044333749
         },
         {
          "group": "tech",
          "x": -0.9596781819601711,
          "y": -0.8089683069885998
         },
         {
          "group": "tech",
          "x": 2.6520448335037665,
          "y": 1.329005064433883
         },
         {
          "group": "tech",
          "x": -0.04872098328963317,
          "y": 1.1363970582630207
         },
         {
          "group": "tech",
          "x": -0.5767025823225573,
          "y": 1.2101896343619143
         },
         {
          "group": "tech",
          "x": -0.46221129308029457,
          "y": -0.649371151836399
         },
         {
          "group": "tech",
          "x": -3.297047898495609,
          "y": 0.7685256261387783
         },
         {
          "group": "tech",
          "x": -0.42797563628806917,
          "y": 1.0116045942175977
         },
         {
          "group": "tech",
          "x": -1.7711951460027975,
          "y": -0.7129820859441399
         },
         {
          "group": "tech",
          "x": 0.9849958936075881,
          "y": 1.7502308974781549
         },
         {
          "group": "tech",
          "x": -1.5429920799655674,
          "y": -1.1198368914303554
         },
         {
          "group": "tech",
          "x": -2.231018411734736,
          "y": -0.4343027877023159
         },
         {
          "group": "tech",
          "x": -0.442000208555212,
          "y": -1.0269496124327189
         },
         {
          "group": "tech",
          "x": 0.5055808248036874,
          "y": 0.26227585342206294
         },
         {
          "group": "tech",
          "x": 1.0027522264978463,
          "y": -0.19153034810058986
         },
         {
          "group": "tech",
          "x": -1.405182750655714,
          "y": 1.7315356715620263
         },
         {
          "group": "tech",
          "x": -0.40574080655449446,
          "y": -0.47191057871809555
         },
         {
          "group": "tech",
          "x": -0.4251742108979988,
          "y": 0.5056228612416558
         },
         {
          "group": "tech",
          "x": -2.3166807080861407,
          "y": -0.23435324589750325
         },
         {
          "group": "tech",
          "x": -2.2754057734378144,
          "y": -0.6992949494244959
         },
         {
          "group": "tech",
          "x": 0.3479925040459627,
          "y": 0.4767242227730186
         },
         {
          "group": "tech",
          "x": -2.2178271192459764,
          "y": 0.19916228536893574
         },
         {
          "group": "tech",
          "x": -0.23898325551865865,
          "y": -0.33975801528699995
         },
         {
          "group": "tech",
          "x": 0.489476950259446,
          "y": 0.2837577273483721
         },
         {
          "group": "tech",
          "x": -1.2737851135713507,
          "y": 0.25875941703047917
         },
         {
          "group": "tech",
          "x": -1.1967343418960168,
          "y": -0.7407158510239084
         },
         {
          "group": "tech",
          "x": -1.220005248450965,
          "y": -0.6342289109184804
         },
         {
          "group": "tech",
          "x": 0.1884710073595275,
          "y": 0.7636552602724688
         },
         {
          "group": "tech",
          "x": 0.18076768249673433,
          "y": -0.13762159532659005
         },
         {
          "group": "tech",
          "x": -0.04379995546501189,
          "y": -0.8774345219154732
         },
         {
          "group": "tech",
          "x": -0.8788694970931165,
          "y": 0.5392936238967488
         },
         {
          "group": "tech",
          "x": 0.6714029492853354,
          "y": 1.911094944492739
         },
         {
          "group": "tech",
          "x": -1.638325324521129,
          "y": 0.2210022282031664
         },
         {
          "group": "tech",
          "x": -0.1349122382700558,
          "y": -0.5497346807064408
         },
         {
          "group": "tech",
          "x": -1.8583282277310198,
          "y": 0.27253244172583146
         },
         {
          "group": "tech",
          "x": -0.5742949952295502,
          "y": 0.7808796844455723
         },
         {
          "group": "tech",
          "x": 0.910301061231598,
          "y": 0.5779245425626599
         },
         {
          "group": "tech",
          "x": -0.2463256335826756,
          "y": 0.9726539342904066
         },
         {
          "group": "tech",
          "x": 0.2827422837721121,
          "y": -0.8802024913891564
         },
         {
          "group": "tech",
          "x": 1.3510529299061327,
          "y": 0.2592340750647308
         },
         {
          "group": "tech",
          "x": -0.7024769457140204,
          "y": 0.7213760561373328
         },
         {
          "group": "tech",
          "x": -1.847752225261339,
          "y": 0.9430590577607575
         },
         {
          "group": "tech",
          "x": -1.471663117194292,
          "y": -0.5322267320328862
         },
         {
          "group": "tech",
          "x": 0.12991059728737422,
          "y": -0.3536599641018536
         },
         {
          "group": "tech",
          "x": 0.7001051380447572,
          "y": -0.10748230130776121
         },
         {
          "group": "tech",
          "x": 0.8222409641733794,
          "y": -2.458124275200773
         },
         {
          "group": "tech",
          "x": 0.6661072353141884,
          "y": -1.289421240411075
         },
         {
          "group": "tech",
          "x": 0.2635553188580935,
          "y": -0.3149676003400882
         },
         {
          "group": "tech",
          "x": -0.7283968911607311,
          "y": -0.1251315297217726
         },
         {
          "group": "tech",
          "x": 1.0066822506693542,
          "y": 2.8673257084359256
         },
         {
          "group": "tech",
          "x": -0.27262463290574585,
          "y": 0.45808423122999486
         },
         {
          "group": "tech",
          "x": -2.0738556589863837,
          "y": 0.6419338997358481
         },
         {
          "group": "tech",
          "x": -0.050689812410134365,
          "y": -3.011795228645976
         },
         {
          "group": "tech",
          "x": 2.131869527904887,
          "y": -0.24080856804276166
         },
         {
          "group": "tech",
          "x": -0.7720886539252556,
          "y": 0.2614750202774079
         },
         {
          "group": "tech",
          "x": -0.24437940499495237,
          "y": 0.5012698749412022
         },
         {
          "group": "tech",
          "x": -0.46322102032978185,
          "y": -0.07258009778577648
         },
         {
          "group": "tech",
          "x": -1.759230468070478,
          "y": 3.116999973793805
         },
         {
          "group": "tech",
          "x": -0.06294683536637591,
          "y": 0.4506780088320045
         },
         {
          "group": "tech",
          "x": -0.8135058697213571,
          "y": -0.3405162127216786
         },
         {
          "group": "tech",
          "x": -1.2710313846648165,
          "y": -0.13137937228311125
         },
         {
          "group": "tech",
          "x": -0.5491916388162539,
          "y": -0.7057673092026122
         },
         {
          "group": "tech",
          "x": -0.5961575731271075,
          "y": 2.21963384487932
         },
         {
          "group": "tech",
          "x": -0.4738036495295724,
          "y": 2.2293263856257175
         },
         {
          "group": "tech",
          "x": 0.6586683555337199,
          "y": -1.673095944762723
         },
         {
          "group": "tech",
          "x": 0.7419940248097393,
          "y": -0.19203192031577648
         },
         {
          "group": "tech",
          "x": -0.5753163123898799,
          "y": -0.40889664677069826
         },
         {
          "group": "tech",
          "x": 1.899867207106295,
          "y": 0.30059339752089154
         },
         {
          "group": "tech",
          "x": -0.8389638436655878,
          "y": 1.0109710185257499
         },
         {
          "group": "tech",
          "x": -1.1091731777016813,
          "y": 1.9274706088707896
         },
         {
          "group": "tech",
          "x": -0.37984845712037024,
          "y": 0.7878029524410203
         },
         {
          "group": "tech",
          "x": -2.4890849719312373,
          "y": -0.2019529196910277
         },
         {
          "group": "tech",
          "x": -1.0867098592480824,
          "y": -0.23750354036231558
         },
         {
          "group": "tech",
          "x": 1.6345683838833434,
          "y": 1.373799296146178
         },
         {
          "group": "tech",
          "x": -1.5210208897676891,
          "y": -0.1243763576771845
         },
         {
          "group": "tech",
          "x": -1.2299562312543637,
          "y": -0.3144755714338628
         },
         {
          "group": "tech",
          "x": 0.10520295035679782,
          "y": 0.35565597003994937
         },
         {
          "group": "tech",
          "x": -1.7919186063271726,
          "y": 0.5903563364512933
         },
         {
          "group": "tech",
          "x": -1.2248667438570788,
          "y": -0.4466867161117155
         },
         {
          "group": "tech",
          "x": -0.3145769623780938,
          "y": -2.082790364712646
         },
         {
          "group": "tech",
          "x": -1.1196149617547795,
          "y": 0.07508462554304349
         },
         {
          "group": "tech",
          "x": 0.02542599613468452,
          "y": -0.3954814445707303
         },
         {
          "group": "tech",
          "x": -1.7593997292095584,
          "y": 1.0383644668679868
         },
         {
          "group": "tech",
          "x": -0.5300557051798852,
          "y": 0.29190859980946016
         },
         {
          "group": "tech",
          "x": -1.2774146515402844,
          "y": -0.1862076625253047
         },
         {
          "group": "tech",
          "x": -0.139567606449461,
          "y": -0.7212373687547667
         },
         {
          "group": "tech",
          "x": -0.09691500721407847,
          "y": -0.7713940327016928
         },
         {
          "group": "tech",
          "x": -0.16084293606564543,
          "y": -0.1747209768991825
         },
         {
          "group": "tech",
          "x": 1.6966715375532693,
          "y": 0.431486304239623
         },
         {
          "group": "tech",
          "x": -1.2163725520520812,
          "y": -1.3666686213416246
         },
         {
          "group": "tech",
          "x": -0.607079102742103,
          "y": 0.5683825920517938
         },
         {
          "group": "tech",
          "x": -0.907581971437107,
          "y": -0.20261979412175413
         },
         {
          "group": "tech",
          "x": -0.6457802404379144,
          "y": 1.1734975677284893
         },
         {
          "group": "tech",
          "x": -0.8586896824155026,
          "y": -1.320551237467905
         },
         {
          "group": "tech",
          "x": 0.31315551012777204,
          "y": -0.3831223028567218
         },
         {
          "group": "tech",
          "x": -0.107459072914133,
          "y": -1.3077852250747002
         },
         {
          "group": "tech",
          "x": -1.4631905083188095,
          "y": 0.8208812837897989
         },
         {
          "group": "tech",
          "x": -0.42849944905900655,
          "y": 1.7816231672346352
         },
         {
          "group": "tech",
          "x": -1.6184344581839503,
          "y": 1.1820160281801557
         },
         {
          "group": "tech",
          "x": -1.065090830986561,
          "y": 1.4923159480636823
         },
         {
          "group": "tech",
          "x": 1.381707940810253,
          "y": 1.7535405606348564
         },
         {
          "group": "tech",
          "x": -1.1035396050754787,
          "y": 1.2011280235988622
         },
         {
          "group": "tech",
          "x": -0.7717985931273946,
          "y": -0.6926467895057802
         },
         {
          "group": "tech",
          "x": -1.135406861750345,
          "y": 0.6443415557228289
         },
         {
          "group": "tech",
          "x": 0.4529706058174047,
          "y": -1.5073013118500225
         },
         {
          "group": "tech",
          "x": -1.144381489771567,
          "y": 1.5722337101094983
         },
         {
          "group": "tech",
          "x": -1.5317439809508684,
          "y": -0.3253221968185763
         },
         {
          "group": "tech",
          "x": -1.6198672419890898,
          "y": 0.9119592217009154
         },
         {
          "group": "tech",
          "x": -1.898344700704839,
          "y": 0.026403221105302667
         },
         {
          "group": "tech",
          "x": -1.6382321703692573,
          "y": -1.373823328032307
         },
         {
          "group": "tech",
          "x": 1.5046525642841728,
          "y": 0.14637292838788935
         },
         {
          "group": "tech",
          "x": -0.40568547586295595,
          "y": 1.2749497664364398
         },
         {
          "group": "tech",
          "x": -0.48372294088011625,
          "y": 2.301242575356114
         },
         {
          "group": "tech",
          "x": -0.5360854388404113,
          "y": 2.1711631963263445
         },
         {
          "group": "tech",
          "x": -1.2913955847626684,
          "y": -0.25799723681589465
         },
         {
          "group": "tech",
          "x": 0.14050989804476627,
          "y": 0.8654905269236045
         },
         {
          "group": "tech",
          "x": 1.441534633598836,
          "y": 0.15992407614881513
         },
         {
          "group": "tech",
          "x": -0.8561785369170133,
          "y": 1.1152978976198347
         },
         {
          "group": "tech",
          "x": -0.33440594996179474,
          "y": 1.0697691722896592
         },
         {
          "group": "tech",
          "x": -0.25719069895443913,
          "y": -0.6082347235466228
         },
         {
          "group": "tech",
          "x": -0.8773264183321159,
          "y": 1.7037520300114712
         },
         {
          "group": "tech",
          "x": -1.5993032401857386,
          "y": 0.4563216039085788
         },
         {
          "group": "tech",
          "x": -1.1030592208461583,
          "y": -0.4190840865047779
         },
         {
          "group": "tech",
          "x": -2.889613006847051,
          "y": 0.21803001917882894
         },
         {
          "group": "tech",
          "x": 0.3474979464535748,
          "y": 1.21237951354896
         },
         {
          "group": "tech",
          "x": -0.8443194812942035,
          "y": -0.8916218840481183
         },
         {
          "group": "tech",
          "x": 1.5318467620633172,
          "y": -0.5156530159442518
         },
         {
          "group": "tech",
          "x": -1.1362559841220474,
          "y": 0.042086717933409054
         },
         {
          "group": "tech",
          "x": 0.6678899833307307,
          "y": -1.8027191169959165
         },
         {
          "group": "tech",
          "x": -1.0815436094074469,
          "y": -0.6002077625221683
         },
         {
          "group": "tech",
          "x": -0.9151815835658431,
          "y": 2.1276783806304014
         },
         {
          "group": "tech",
          "x": -0.24447353478696238,
          "y": 1.9014568572797337
         },
         {
          "group": "tech",
          "x": 1.0639414300413974,
          "y": -0.1787965003556791
         },
         {
          "group": "tech",
          "x": -2.1649593420114277,
          "y": -0.4922856765031104
         },
         {
          "group": "tech",
          "x": 0.09520819110461258,
          "y": -0.798775323595187
         },
         {
          "group": "tech",
          "x": 0.6346977684634758,
          "y": 0.12523129855083667
         },
         {
          "group": "tech",
          "x": -0.8997062596318262,
          "y": 0.9471561188436718
         },
         {
          "group": "tech",
          "x": 2.1995230159118577,
          "y": -0.7382190968345409
         },
         {
          "group": "tech",
          "x": 0.08088978787528521,
          "y": -0.03185372398843602
         },
         {
          "group": "tech",
          "x": 0.08822734436049777,
          "y": -0.6118719676910328
         },
         {
          "group": "tech",
          "x": 2.4287347925396268,
          "y": -2.049348476168661
         },
         {
          "group": "tech",
          "x": -0.713016407183855,
          "y": 0.25235081688625277
         },
         {
          "group": "tech",
          "x": -1.2027149111274105,
          "y": 2.4481821659753704
         },
         {
          "group": "tech",
          "x": -1.2127929210186854,
          "y": -1.7109710331779477
         },
         {
          "group": "tech",
          "x": 0.6172216259506016,
          "y": -1.845636713762658
         },
         {
          "group": "tech",
          "x": -0.5021536454151281,
          "y": -0.33753493096116277
         },
         {
          "group": "tech",
          "x": -0.16728139731022285,
          "y": -1.6186451184416175
         },
         {
          "group": "tech",
          "x": -0.5640382535650103,
          "y": 1.3041008351211825
         },
         {
          "group": "tech",
          "x": -0.32311640148127646,
          "y": -0.002138923830756719
         },
         {
          "group": "tech",
          "x": -0.10637427130545081,
          "y": 0.23284188542893755
         },
         {
          "group": "tech",
          "x": 0.5527929349504822,
          "y": -0.15253185183451684
         },
         {
          "group": "tech",
          "x": -0.734614954176828,
          "y": 1.2669593878389769
         },
         {
          "group": "tech",
          "x": -0.6495960129281951,
          "y": -1.3069188850481384
         },
         {
          "group": "tech",
          "x": 0.3753548871233438,
          "y": 0.45395397611497856
         },
         {
          "group": "tech",
          "x": 0.49679952253545057,
          "y": -1.2176852484527823
         },
         {
          "group": "tech",
          "x": -1.1817619139593873,
          "y": 1.3223316881390181
         },
         {
          "group": "tech",
          "x": 0.41561350563455945,
          "y": 2.464112114432516
         },
         {
          "group": "tech",
          "x": -2.9651885523485295,
          "y": -0.8588388503310246
         },
         {
          "group": "tech",
          "x": -1.3920624234389123,
          "y": 0.15142317568882496
         },
         {
          "group": "tech",
          "x": 1.3066882742918586,
          "y": -1.138345859745766
         },
         {
          "group": "tech",
          "x": -1.2261505803612154,
          "y": 1.7065075779424597
         },
         {
          "group": "tech",
          "x": -0.19451782645048304,
          "y": 0.706513121782077
         },
         {
          "group": "tech",
          "x": -0.01633178932026362,
          "y": -0.13935959036035653
         },
         {
          "group": "tech",
          "x": -1.9077872089669632,
          "y": -1.27689081791065
         },
         {
          "group": "tech",
          "x": 0.30210382412339354,
          "y": -0.07622185734484449
         },
         {
          "group": "tech",
          "x": -0.1820342754659039,
          "y": -0.7363400672796642
         },
         {
          "group": "tech",
          "x": 0.3923354155571909,
          "y": 1.6266149031758474
         },
         {
          "group": "tech",
          "x": -0.925826292580874,
          "y": -1.3179283137243543
         },
         {
          "group": "tech",
          "x": 1.1083975228193148,
          "y": -0.8229506127658459
         },
         {
          "group": "tech",
          "x": 0.15869369962109078,
          "y": -0.8835216854279301
         },
         {
          "group": "tech",
          "x": -0.7491337631470021,
          "y": 0.7129305062734967
         },
         {
          "group": "tech",
          "x": 1.2903660233788412,
          "y": 0.2556552921096699
         },
         {
          "group": "tech",
          "x": -0.5711801751237979,
          "y": 1.0946928835493086
         },
         {
          "group": "tech",
          "x": 2.372117786804326,
          "y": 0.11815886305231997
         },
         {
          "group": "tech",
          "x": 0.5498597296621219,
          "y": 0.3627020499736638
         },
         {
          "group": "tech",
          "x": 0.7749107480086582,
          "y": 1.7752635941304553
         },
         {
          "group": "tech",
          "x": -0.7335353263851663,
          "y": -0.4703102168639533
         },
         {
          "group": "tech",
          "x": 0.7727029046151833,
          "y": -2.358527740696221
         },
         {
          "group": "tech",
          "x": -0.13988357139967109,
          "y": -0.5411699601057657
         },
         {
          "group": "tech",
          "x": -0.8948679243776415,
          "y": 0.32990193163878473
         },
         {
          "group": "tech",
          "x": 0.3075591520578283,
          "y": 1.0274430426760461
         },
         {
          "group": "tech",
          "x": -1.9291714851747883,
          "y": -0.6848495796512069
         },
         {
          "group": "tech",
          "x": -0.6950306627965902,
          "y": -0.15659870305442933
         },
         {
          "group": "tech",
          "x": -0.4019187165676552,
          "y": -0.36356561883802463
         },
         {
          "group": "tech",
          "x": 2.2603797687909135,
          "y": -1.884906923374696
         },
         {
          "group": "tech",
          "x": -1.2207581451744571,
          "y": -0.4678728631742984
         },
         {
          "group": "tech",
          "x": -0.31585417405871813,
          "y": 0.12545206304192077
         },
         {
          "group": "tech",
          "x": 0.8928957443644083,
          "y": 2.589095723146815
         },
         {
          "group": "tech",
          "x": -1.0322543409790914,
          "y": 1.0480437799129483
         },
         {
          "group": "tech",
          "x": -2.2831550208148013,
          "y": 0.3313823618980952
         },
         {
          "group": "tech",
          "x": 0.7998084874689333,
          "y": 0.20800666790788852
         },
         {
          "group": "tech",
          "x": -0.5254603399124737,
          "y": -0.501326590876451
         },
         {
          "group": "tech",
          "x": 0.9296691296622573,
          "y": 0.370103643209886
         },
         {
          "group": "tech",
          "x": -1.3393076162213455,
          "y": -0.7687997202047748
         },
         {
          "group": "tech",
          "x": -1.0784549419546943,
          "y": 0.13239620743642397
         },
         {
          "group": "tech",
          "x": -1.1896618347024182,
          "y": -2.2923689016554194
         },
         {
          "group": "tech",
          "x": 0.3422367431806264,
          "y": 0.2412628859933443
         },
         {
          "group": "tech",
          "x": 1.4839628782777234,
          "y": -1.9238528510787012
         },
         {
          "group": "tech",
          "x": -0.7571765078975717,
          "y": -0.376416754175953
         },
         {
          "group": "tech",
          "x": 0.1990807839595665,
          "y": 1.8830112825510648
         },
         {
          "group": "tech",
          "x": -0.613532344332453,
          "y": -1.6512283312513176
         },
         {
          "group": "tech",
          "x": 0.5091479606901693,
          "y": 1.2883540264276256
         },
         {
          "group": "tech",
          "x": -0.957092778672777,
          "y": -1.6062925643514565
         },
         {
          "group": "tech",
          "x": -1.0057955689015454,
          "y": -3.3004329640504495
         },
         {
          "group": "tech",
          "x": 1.84895333793534,
          "y": -0.7744508013297594
         },
         {
          "group": "tech",
          "x": -0.4946719593401744,
          "y": -0.3797542047815611
         },
         {
          "group": "tech",
          "x": -0.3964125614519168,
          "y": 0.14203593500608758
         },
         {
          "group": "tech",
          "x": 1.2597566161130926,
          "y": -0.4186218813349657
         },
         {
          "group": "tech",
          "x": -1.3418361091184916,
          "y": 0.09938566339459738
         },
         {
          "group": "tech",
          "x": 1.2574263724372714,
          "y": 0.49941305498530025
         },
         {
          "group": "tech",
          "x": 0.0951833873493513,
          "y": 0.9506309815500422
         },
         {
          "group": "tech",
          "x": -1.7212888846978445,
          "y": 2.838186775859666
         },
         {
          "group": "tech",
          "x": -1.124497787536081,
          "y": -0.9549902452648592
         },
         {
          "group": "tech",
          "x": 0.8843301822488632,
          "y": -0.8152224911617286
         },
         {
          "group": "tech",
          "x": -0.41963621219449876,
          "y": 1.4601408640023896
         },
         {
          "group": "tech",
          "x": -0.725335248777677,
          "y": -1.4547055944693332
         },
         {
          "group": "tech",
          "x": -1.7692218749840767,
          "y": -0.6367810855952957
         },
         {
          "group": "tech",
          "x": -1.3279959530115906,
          "y": 0.10407807806264652
         },
         {
          "group": "tech",
          "x": -1.1186541341868301,
          "y": -0.5146182677445178
         },
         {
          "group": "tech",
          "x": -0.6683293251669185,
          "y": -0.6845416267045739
         },
         {
          "group": "tech",
          "x": 0.10793182016707067,
          "y": -0.8090770594040019
         },
         {
          "group": "tech",
          "x": -0.754582228462742,
          "y": -0.9325838703882641
         },
         {
          "group": "tech",
          "x": 3.3069244360856627,
          "y": 0.5829029642303263
         },
         {
          "group": "tech",
          "x": -1.57273991695258,
          "y": -1.1278377967485809
         },
         {
          "group": "tech",
          "x": -0.8657530415725263,
          "y": 1.1105338244505314
         },
         {
          "group": "tech",
          "x": -1.0792333546939707,
          "y": 1.829078502533761
         },
         {
          "group": "tech",
          "x": -0.2778429173461427,
          "y": 2.52568036510344
         },
         {
          "group": "tech",
          "x": -1.2668637658232673,
          "y": 2.122371248977306
         },
         {
          "group": "tech",
          "x": -1.3819751413702015,
          "y": -0.7034791134043701
         },
         {
          "group": "tech",
          "x": 0.7883417683962639,
          "y": -0.8655047559329831
         },
         {
          "group": "tech",
          "x": 1.356355390291133,
          "y": 0.7929134390353924
         },
         {
          "group": "tech",
          "x": -0.3944656144138818,
          "y": -1.99451350136445
         },
         {
          "group": "tech",
          "x": -0.8660412741057354,
          "y": -1.0906807636032045
         },
         {
          "group": "tech",
          "x": -1.8273290261848356,
          "y": 1.2269245380778127
         },
         {
          "group": "tech",
          "x": -0.0010620162988947935,
          "y": 0.1213746946130322
         },
         {
          "group": "tech",
          "x": -0.8578705759015857,
          "y": 0.6226111025591428
         },
         {
          "group": "tech",
          "x": -0.5621446123164948,
          "y": -0.33895131324858935
         },
         {
          "group": "tech",
          "x": -0.0998704520941936,
          "y": 1.326760586841009
         },
         {
          "group": "tech",
          "x": 0.12024104900934891,
          "y": -0.8085734993933456
         },
         {
          "group": "tech",
          "x": -0.962945228442811,
          "y": 0.48940613387832793
         },
         {
          "group": "tech",
          "x": -2.251386194135862,
          "y": -0.2727534176923182
         },
         {
          "group": "tech",
          "x": -0.6475125789346032,
          "y": 4.507742206628174
         },
         {
          "group": "tech",
          "x": 1.0606172460397967,
          "y": 0.5285932249284825
         },
         {
          "group": "tech",
          "x": -1.592295773590736,
          "y": -0.5677590566071501
         },
         {
          "group": "tech",
          "x": -0.22682329175862065,
          "y": 1.0690547372228218
         },
         {
          "group": "tech",
          "x": -0.7494058332202835,
          "y": 0.557514552326486
         },
         {
          "group": "tech",
          "x": 0.8753187837877987,
          "y": -1.2634424375835371
         },
         {
          "group": "tech",
          "x": 0.6893938026876095,
          "y": 0.046878916885826946
         },
         {
          "group": "tech",
          "x": -0.2238790778001439,
          "y": -0.039726313356051916
         },
         {
          "group": "tech",
          "x": -2.2953443449750406,
          "y": -1.8216274311066263
         },
         {
          "group": "tech",
          "x": -1.9392456615950988,
          "y": -1.1963663296237694
         },
         {
          "group": "tech",
          "x": 0.156955562681599,
          "y": 1.0497354521039077
         },
         {
          "group": "tech",
          "x": 0.23111124397775681,
          "y": 3.227091042947006
         },
         {
          "group": "tech",
          "x": 1.1134292513881587,
          "y": 0.9081600247871874
         },
         {
          "group": "tech",
          "x": -2.1616777710868655,
          "y": -0.1428759392775977
         },
         {
          "group": "tech",
          "x": -1.2044946232514226,
          "y": -1.1342317349696123
         },
         {
          "group": "tech",
          "x": 1.7481937779334247,
          "y": -1.8180657209876168
         },
         {
          "group": "tech",
          "x": 0.6264524794460189,
          "y": -0.5311620256745072
         },
         {
          "group": "tech",
          "x": -0.1288339882240319,
          "y": 0.8388130258773432
         },
         {
          "group": "tech",
          "x": -0.3782525076317177,
          "y": 1.1809130851536414
         },
         {
          "group": "tech",
          "x": 0.2947255914891356,
          "y": -1.1224564879843286
         },
         {
          "group": "tech",
          "x": -1.717792299797111,
          "y": -0.12916787297777188
         },
         {
          "group": "tech",
          "x": -2.0014388780877916,
          "y": 0.65178316840226
         },
         {
          "group": "tech",
          "x": -0.22463974337695314,
          "y": 0.2353730354593288
         },
         {
          "group": "tech",
          "x": -0.9221570638656105,
          "y": -0.2478857311908967
         },
         {
          "group": "tech",
          "x": -0.948551268216469,
          "y": 0.6589974315228632
         },
         {
          "group": "tech",
          "x": 1.1807494644037946,
          "y": 0.6971790022957963
         },
         {
          "group": "tech",
          "x": -0.9278143712759942,
          "y": -1.4451192004364848
         },
         {
          "group": "tech",
          "x": 0.7507690185978511,
          "y": 1.4096080768910078
         },
         {
          "group": "tech",
          "x": -0.18850107606733243,
          "y": 0.35103915667589114
         },
         {
          "group": "tech",
          "x": 0.4102440162186768,
          "y": -0.3821148767027762
         },
         {
          "group": "tech",
          "x": 0.649191092615844,
          "y": -0.6861383661691363
         },
         {
          "group": "tech",
          "x": -0.6553553345369602,
          "y": -1.531425276865362
         },
         {
          "group": "tech",
          "x": 0.3206259523222984,
          "y": 1.2795157682710239
         },
         {
          "group": "tech",
          "x": -1.366064125472476,
          "y": 2.8725099530168614
         },
         {
          "group": "tech",
          "x": -0.41330622855678917,
          "y": -0.6148102658453081
         },
         {
          "group": "tech",
          "x": -1.2620522756178303,
          "y": 0.5968705389306626
         },
         {
          "group": "tech",
          "x": -1.0257127392777254,
          "y": 0.20694381840585976
         },
         {
          "group": "tech",
          "x": 0.3065087904722045,
          "y": -2.0011840113434984
         },
         {
          "group": "tech",
          "x": -0.21482610398315952,
          "y": 0.05061484138412825
         },
         {
          "group": "tech",
          "x": 0.1057565545178974,
          "y": 0.804353090386272
         },
         {
          "group": "tech",
          "x": -1.8328222365923936,
          "y": -2.308318094386905
         },
         {
          "group": "tech",
          "x": 1.9512414328899448,
          "y": 0.7124427353512341
         },
         {
          "group": "tech",
          "x": -1.57582820609804,
          "y": 0.3691505454460433
         },
         {
          "group": "tech",
          "x": -1.1904101678808392,
          "y": -0.7141041522476845
         },
         {
          "group": "tech",
          "x": 0.5937637053940051,
          "y": -0.029392304485587707
         },
         {
          "group": "tech",
          "x": -1.618436520396312,
          "y": 0.2651811600299781
         },
         {
          "group": "tech",
          "x": -1.2059615571654825,
          "y": -1.2411129513549664
         },
         {
          "group": "tech",
          "x": -1.9397108120991942,
          "y": -1.4657666144348287
         },
         {
          "group": "tech",
          "x": -0.4965467043686402,
          "y": -1.140613995410178
         },
         {
          "group": "tech",
          "x": 0.7208397765280609,
          "y": -0.22589333239813772
         },
         {
          "group": "tech",
          "x": 0.3922533557406872,
          "y": 0.2142028823648541
         },
         {
          "group": "tech",
          "x": 0.6964539640573625,
          "y": -1.1685557621342768
         },
         {
          "group": "tech",
          "x": -0.6668132540240195,
          "y": 1.997588156914749
         },
         {
          "group": "tech",
          "x": -0.34011728029232624,
          "y": -0.5956206681816255
         },
         {
          "group": "tech",
          "x": -1.1048662634015287,
          "y": -0.5192930300549414
         },
         {
          "group": "tech",
          "x": -1.544726843468845,
          "y": 1.3080734492240695
         },
         {
          "group": "tech",
          "x": -0.7105976648013048,
          "y": -0.11609010265928264
         },
         {
          "group": "tech",
          "x": -0.9984496534647432,
          "y": 0.0019078667117392028
         },
         {
          "group": "entertainment",
          "x": 0.9832007334701002,
          "y": -1.1628366052077876
         },
         {
          "group": "entertainment",
          "x": 0.40547633299069114,
          "y": 0.7147909276521612
         },
         {
          "group": "entertainment",
          "x": 1.1763647277318061,
          "y": -1.3969488169123956
         },
         {
          "group": "entertainment",
          "x": 0.7053790333423688,
          "y": 0.9416183168375981
         },
         {
          "group": "entertainment",
          "x": -0.14284917723868493,
          "y": -1.383772657461117
         },
         {
          "group": "entertainment",
          "x": 0.6274896923494627,
          "y": 0.6858483027182379
         },
         {
          "group": "entertainment",
          "x": 0.7125979521304305,
          "y": 0.6411153810993669
         },
         {
          "group": "entertainment",
          "x": 0.09665734813695218,
          "y": 1.7049145462141444
         },
         {
          "group": "entertainment",
          "x": -1.5049106287813294,
          "y": -1.394226597452183
         },
         {
          "group": "entertainment",
          "x": 0.48594508093276145,
          "y": 1.5375980131978013
         },
         {
          "group": "entertainment",
          "x": -1.2371653990865419,
          "y": -1.5667501646444866
         },
         {
          "group": "entertainment",
          "x": -0.4779281395438602,
          "y": 0.32867991297407884
         },
         {
          "group": "entertainment",
          "x": -1.8124044189673407,
          "y": -2.122698756683785
         },
         {
          "group": "entertainment",
          "x": 0.7382908048423861,
          "y": -2.274999185164849
         },
         {
          "group": "entertainment",
          "x": 0.5701600840093127,
          "y": 0.20832955070852713
         },
         {
          "group": "entertainment",
          "x": -1.251493401902879,
          "y": 1.4339190260338066
         },
         {
          "group": "entertainment",
          "x": -0.5096878006015692,
          "y": -3.069064676292148
         },
         {
          "group": "entertainment",
          "x": 0.3453974946096061,
          "y": -0.7794492834113579
         },
         {
          "group": "entertainment",
          "x": -0.9697959439729045,
          "y": 0.12307221670748389
         },
         {
          "group": "entertainment",
          "x": -2.1846454839751344,
          "y": -3.086041405121699
         },
         {
          "group": "entertainment",
          "x": -2.4714707488870893,
          "y": -1.7824705714581845
         },
         {
          "group": "entertainment",
          "x": 0.5496444584429907,
          "y": 1.732646664415223
         },
         {
          "group": "entertainment",
          "x": -0.014678106915903193,
          "y": 0.9074212474955058
         },
         {
          "group": "entertainment",
          "x": 2.3397960455862674,
          "y": -0.8842550224869272
         },
         {
          "group": "entertainment",
          "x": -1.1812292848635826,
          "y": 0.5168358883973017
         },
         {
          "group": "entertainment",
          "x": -0.843898587463205,
          "y": -0.33792803355303125
         },
         {
          "group": "entertainment",
          "x": -1.3550404964958438,
          "y": 0.7150086197639504
         },
         {
          "group": "entertainment",
          "x": -0.9110386559451338,
          "y": 1.4933509478963602
         },
         {
          "group": "entertainment",
          "x": -0.5602429829830424,
          "y": -1.8178553789373002
         },
         {
          "group": "entertainment",
          "x": -0.22760647663158715,
          "y": 2.263997460258421
         },
         {
          "group": "entertainment",
          "x": -1.5077523977433336,
          "y": -0.94863919505961
         },
         {
          "group": "entertainment",
          "x": -1.957476402610608,
          "y": -1.1698872075253053
         },
         {
          "group": "entertainment",
          "x": -0.39548362988218994,
          "y": -0.05966751071100297
         },
         {
          "group": "entertainment",
          "x": -0.9955825889133957,
          "y": -1.1552288074202757
         },
         {
          "group": "entertainment",
          "x": -0.6559231482625774,
          "y": 0.9753734021439404
         },
         {
          "group": "entertainment",
          "x": -1.980330644794216,
          "y": -1.7977087071331037
         },
         {
          "group": "entertainment",
          "x": 0.2612556911765857,
          "y": 1.7425273882854877
         },
         {
          "group": "entertainment",
          "x": -0.08760677161442479,
          "y": 1.4294407413929315
         },
         {
          "group": "entertainment",
          "x": -0.05250025610597414,
          "y": -0.4985012566749236
         },
         {
          "group": "entertainment",
          "x": 1.4082031497547567,
          "y": 1.5272700990748116
         },
         {
          "group": "entertainment",
          "x": -2.1859800863105066,
          "y": -0.25420820289083146
         },
         {
          "group": "entertainment",
          "x": 0.8739345359390313,
          "y": -0.7771746053124778
         },
         {
          "group": "entertainment",
          "x": -0.6127638379193242,
          "y": -1.3588051467051678
         },
         {
          "group": "entertainment",
          "x": 0.018044269652963036,
          "y": 0.14222420458953225
         },
         {
          "group": "entertainment",
          "x": -0.22262324207581163,
          "y": -0.8444926470773353
         },
         {
          "group": "entertainment",
          "x": -0.7831191386859454,
          "y": -0.6627039388227874
         },
         {
          "group": "entertainment",
          "x": -0.17292981645265265,
          "y": -0.8306435120524368
         },
         {
          "group": "entertainment",
          "x": -1.609831327240898,
          "y": 1.1677701514061607
         },
         {
          "group": "entertainment",
          "x": -0.26402650633644237,
          "y": -0.014955383755678167
         },
         {
          "group": "entertainment",
          "x": -0.5460027351992006,
          "y": 0.7917134978840326
         },
         {
          "group": "entertainment",
          "x": -0.3213799268825416,
          "y": -0.4152440302108344
         },
         {
          "group": "entertainment",
          "x": 0.1657604236031848,
          "y": -1.5022708951825652
         },
         {
          "group": "entertainment",
          "x": -0.7971158831731074,
          "y": -1.4699255997424605
         },
         {
          "group": "entertainment",
          "x": -0.05970985089802472,
          "y": 0.22910590431317931
         },
         {
          "group": "entertainment",
          "x": -0.8746763168441749,
          "y": 0.35683045882821796
         },
         {
          "group": "entertainment",
          "x": -0.3206514992261728,
          "y": -0.9418190782420749
         },
         {
          "group": "entertainment",
          "x": -1.1378944548791365,
          "y": 1.2840916566067118
         },
         {
          "group": "entertainment",
          "x": -1.0841543275101315,
          "y": 0.049800077104042495
         },
         {
          "group": "entertainment",
          "x": -0.34690733349711994,
          "y": 1.2252082708817487
         },
         {
          "group": "entertainment",
          "x": 0.675757746332407,
          "y": -0.4480039960780105
         },
         {
          "group": "entertainment",
          "x": 0.585768735654613,
          "y": -1.957045548058351
         },
         {
          "group": "entertainment",
          "x": 1.422330845013311,
          "y": 1.061583820853768
         },
         {
          "group": "entertainment",
          "x": -1.2278504350973944,
          "y": -0.35174343316209156
         },
         {
          "group": "entertainment",
          "x": -0.24163875593599318,
          "y": -0.23430052018445965
         },
         {
          "group": "entertainment",
          "x": -0.05900404769321139,
          "y": 0.030065078334996807
         },
         {
          "group": "entertainment",
          "x": 1.4853453981721987,
          "y": 0.21581023039443545
         },
         {
          "group": "entertainment",
          "x": 1.4128603575203624,
          "y": -0.09209320498408526
         },
         {
          "group": "entertainment",
          "x": -0.5308144619676991,
          "y": 0.18996111096584412
         },
         {
          "group": "entertainment",
          "x": 0.2076351747700359,
          "y": 0.8667557988861406
         },
         {
          "group": "entertainment",
          "x": -0.970139912323187,
          "y": -2.6810148698915026
         },
         {
          "group": "entertainment",
          "x": -0.3073291314674683,
          "y": 0.9722611219790075
         },
         {
          "group": "entertainment",
          "x": -3.2648235967563792,
          "y": 0.47800232433347367
         },
         {
          "group": "entertainment",
          "x": -1.5124129587305557,
          "y": 0.6098392179389472
         },
         {
          "group": "entertainment",
          "x": -1.238053808224524,
          "y": -0.3392076663530713
         },
         {
          "group": "entertainment",
          "x": -1.8059533773610075,
          "y": -0.15769016915956774
         },
         {
          "group": "entertainment",
          "x": -0.648465373118671,
          "y": 1.3683915892132823
         },
         {
          "group": "entertainment",
          "x": 0.2661180395133666,
          "y": 1.0881946877763153
         },
         {
          "group": "entertainment",
          "x": 0.05029188360645624,
          "y": -0.7878016774865849
         },
         {
          "group": "entertainment",
          "x": -1.9319986067313029,
          "y": 0.30249300208173097
         },
         {
          "group": "entertainment",
          "x": -0.7721975541062922,
          "y": 0.18316270583643054
         },
         {
          "group": "entertainment",
          "x": -0.7110084266681524,
          "y": 0.22764013345703643
         },
         {
          "group": "entertainment",
          "x": 0.32193929385570375,
          "y": 0.8354180040805113
         },
         {
          "group": "entertainment",
          "x": 0.06497621176237797,
          "y": 0.894782008876999
         },
         {
          "group": "entertainment",
          "x": 1.458388253916875,
          "y": -0.15904995686397688
         },
         {
          "group": "entertainment",
          "x": 0.06901849265051994,
          "y": 1.8254151269028507
         },
         {
          "group": "entertainment",
          "x": -0.019666364635951932,
          "y": -0.5620077728142276
         },
         {
          "group": "entertainment",
          "x": -0.5557071559033221,
          "y": 0.7687081515293344
         },
         {
          "group": "entertainment",
          "x": -0.6271867593053972,
          "y": 0.656519373439757
         },
         {
          "group": "entertainment",
          "x": 1.6576764493481373,
          "y": -0.449639106547852
         },
         {
          "group": "entertainment",
          "x": 0.3975303372360486,
          "y": 0.5796439045308514
         },
         {
          "group": "entertainment",
          "x": -0.3736993542676604,
          "y": -0.39344422451083694
         },
         {
          "group": "entertainment",
          "x": 0.5996454925891709,
          "y": -1.4247008269138717
         },
         {
          "group": "entertainment",
          "x": 0.4936620513821722,
          "y": 0.3422609992854699
         },
         {
          "group": "entertainment",
          "x": -0.4010748005810571,
          "y": -0.8161064267400279
         },
         {
          "group": "entertainment",
          "x": -0.9807381643844065,
          "y": -0.20966832087695014
         },
         {
          "group": "entertainment",
          "x": 1.1758590388719579,
          "y": 1.1710517550637858
         },
         {
          "group": "entertainment",
          "x": -0.784423626173941,
          "y": -0.3574270285487878
         },
         {
          "group": "entertainment",
          "x": -1.8704650821121214,
          "y": 0.9811779185403119
         },
         {
          "group": "entertainment",
          "x": -1.4653310380639974,
          "y": 1.2568309754663045
         },
         {
          "group": "entertainment",
          "x": -1.1461757092730083,
          "y": 0.4382076037426045
         },
         {
          "group": "entertainment",
          "x": -1.2073903270476836,
          "y": -0.6402869465909633
         },
         {
          "group": "entertainment",
          "x": 1.819748262636979,
          "y": -0.056830016718075665
         },
         {
          "group": "entertainment",
          "x": 0.04743833925063622,
          "y": -1.3264674293998515
         },
         {
          "group": "entertainment",
          "x": 1.114882447198594,
          "y": 1.3403227348127422
         },
         {
          "group": "entertainment",
          "x": -0.4843624489657861,
          "y": 0.5584155541906292
         },
         {
          "group": "entertainment",
          "x": 0.7505360545052283,
          "y": 0.764634650368896
         },
         {
          "group": "entertainment",
          "x": 1.0968142281280437,
          "y": -0.010737189405567392
         },
         {
          "group": "entertainment",
          "x": -0.9786144066611752,
          "y": -0.47541433857961596
         },
         {
          "group": "entertainment",
          "x": 0.04511497093158975,
          "y": 1.405830110909341
         },
         {
          "group": "entertainment",
          "x": -1.1750464743349849,
          "y": 0.29625849403034443
         },
         {
          "group": "entertainment",
          "x": -2.155016157396721,
          "y": -0.4779288408815189
         },
         {
          "group": "entertainment",
          "x": -0.6371317241950414,
          "y": 0.8272118686091124
         },
         {
          "group": "entertainment",
          "x": 0.8111107262228873,
          "y": -1.051887164787738
         },
         {
          "group": "entertainment",
          "x": 0.007402265402893875,
          "y": -0.04590014097021108
         },
         {
          "group": "entertainment",
          "x": 0.7664103854782329,
          "y": 1.678077820108223
         },
         {
          "group": "entertainment",
          "x": -0.8572787836163933,
          "y": -0.7770490834343722
         },
         {
          "group": "entertainment",
          "x": -0.9573881190319673,
          "y": -0.8313723558680415
         },
         {
          "group": "entertainment",
          "x": 0.6908312921093639,
          "y": -0.43516733142881936
         },
         {
          "group": "entertainment",
          "x": 0.902007494107157,
          "y": 0.6281143085163846
         },
         {
          "group": "entertainment",
          "x": -0.9306673382556633,
          "y": 0.39526121421527793
         },
         {
          "group": "entertainment",
          "x": -0.949256931922461,
          "y": -0.9053964319294607
         },
         {
          "group": "entertainment",
          "x": -2.0531719792752687,
          "y": 0.3128430914574496
         },
         {
          "group": "entertainment",
          "x": 1.0369766273369645,
          "y": 0.06429780503227508
         },
         {
          "group": "entertainment",
          "x": -0.6000888061884269,
          "y": 0.2086738995579617
         },
         {
          "group": "entertainment",
          "x": -0.254724284071622,
          "y": -0.9054698007470491
         },
         {
          "group": "entertainment",
          "x": 0.2628292145527973,
          "y": -0.9763673031828772
         },
         {
          "group": "entertainment",
          "x": -2.030877366310192,
          "y": -0.03436765672515895
         },
         {
          "group": "entertainment",
          "x": -1.05092717563221,
          "y": 0.4432533212489212
         },
         {
          "group": "entertainment",
          "x": -0.48828316779893727,
          "y": 1.3941930753426235
         },
         {
          "group": "entertainment",
          "x": 0.32581124508714304,
          "y": 1.0704025103905235
         },
         {
          "group": "entertainment",
          "x": -0.3485038765518901,
          "y": 0.14684792995789064
         },
         {
          "group": "entertainment",
          "x": -0.9476554884574633,
          "y": 0.5261595565656233
         },
         {
          "group": "entertainment",
          "x": 0.7328234468027962,
          "y": -2.9448804635984294
         },
         {
          "group": "entertainment",
          "x": 0.5721548314575465,
          "y": -2.0525876362693483
         },
         {
          "group": "entertainment",
          "x": -2.9535642254133356,
          "y": 0.592569621214262
         },
         {
          "group": "entertainment",
          "x": 1.3551204592378139,
          "y": -0.11231646756079827
         },
         {
          "group": "entertainment",
          "x": -0.5279676915100224,
          "y": 0.05941199493054576
         },
         {
          "group": "entertainment",
          "x": -0.16098981073302332,
          "y": -0.2833671412662045
         },
         {
          "group": "entertainment",
          "x": -1.0183004138356233,
          "y": -1.5080972693545134
         },
         {
          "group": "entertainment",
          "x": 2.5316491577846603,
          "y": -1.422378359297944
         },
         {
          "group": "entertainment",
          "x": -0.14623090939333744,
          "y": 1.0894719040523009
         },
         {
          "group": "entertainment",
          "x": -0.9153356979875811,
          "y": 1.178293184650052
         },
         {
          "group": "entertainment",
          "x": 0.10151294529843849,
          "y": -1.7014403415950685
         },
         {
          "group": "entertainment",
          "x": -1.8562154986409527,
          "y": 4.01618221388201
         },
         {
          "group": "entertainment",
          "x": 0.21336959133406871,
          "y": 0.8715686316136247
         },
         {
          "group": "entertainment",
          "x": -0.8796771286889408,
          "y": 0.4329716110217025
         },
         {
          "group": "entertainment",
          "x": -0.7637692803849275,
          "y": 0.2519387027386467
         },
         {
          "group": "entertainment",
          "x": -2.4013812005346686,
          "y": 1.2843969317028119
         },
         {
          "group": "entertainment",
          "x": -0.5135501990432171,
          "y": -0.4522027238895372
         },
         {
          "group": "entertainment",
          "x": -1.5351760803927492,
          "y": 1.3122608167400998
         },
         {
          "group": "entertainment",
          "x": 1.2344506470132557,
          "y": -0.8165339075465656
         },
         {
          "group": "entertainment",
          "x": -1.0368468662355692,
          "y": -0.048125243073053464
         },
         {
          "group": "entertainment",
          "x": -0.5951664985762611,
          "y": -2.1073591908482716
         },
         {
          "group": "entertainment",
          "x": -0.11978400331630458,
          "y": 0.0770405168078071
         },
         {
          "group": "entertainment",
          "x": 0.5474841206572071,
          "y": 0.659191603991198
         },
         {
          "group": "entertainment",
          "x": -0.9467108793893952,
          "y": 0.3895529011301758
         },
         {
          "group": "entertainment",
          "x": -1.3265714140016946,
          "y": 2.8678190423636734
         },
         {
          "group": "entertainment",
          "x": -0.5436547266298911,
          "y": -0.6238898941677117
         },
         {
          "group": "entertainment",
          "x": -0.35690250010723285,
          "y": -0.14384203995059813
         },
         {
          "group": "entertainment",
          "x": -0.8053712682826979,
          "y": 0.8493776000949699
         },
         {
          "group": "entertainment",
          "x": -1.8595620632589906,
          "y": -1.615068123598313
         },
         {
          "group": "entertainment",
          "x": 0.6001872074268461,
          "y": -1.3537945007918846
         },
         {
          "group": "entertainment",
          "x": 0.4146754154785137,
          "y": -2.4504813127205485
         },
         {
          "group": "entertainment",
          "x": -0.5341817360398703,
          "y": 0.05090370675788344
         },
         {
          "group": "entertainment",
          "x": -0.42905992596799947,
          "y": -0.9118899800460395
         },
         {
          "group": "entertainment",
          "x": -0.3399045144166058,
          "y": 0.38914620494017177
         },
         {
          "group": "entertainment",
          "x": 0.404260812928252,
          "y": 0.10701246068925367
         },
         {
          "group": "entertainment",
          "x": 0.13591600811860008,
          "y": -1.2656574647030083
         },
         {
          "group": "entertainment",
          "x": -0.004607956499107547,
          "y": 0.1049299727031925
         },
         {
          "group": "entertainment",
          "x": -0.19991533875991277,
          "y": -0.1263433704387822
         },
         {
          "group": "entertainment",
          "x": 0.3478085570195137,
          "y": -0.3697063597948117
         },
         {
          "group": "entertainment",
          "x": 1.0768605307429173,
          "y": 0.24298497152428167
         },
         {
          "group": "entertainment",
          "x": 0.3091114770161244,
          "y": 0.34667228973761616
         },
         {
          "group": "entertainment",
          "x": 1.0947919797300678,
          "y": 0.5244890436260762
         },
         {
          "group": "entertainment",
          "x": 0.05055368239450679,
          "y": -0.07374858903249507
         },
         {
          "group": "entertainment",
          "x": -2.4626958639597354,
          "y": -1.4015728306072037
         },
         {
          "group": "entertainment",
          "x": -1.729275286052529,
          "y": -0.8518584033302106
         },
         {
          "group": "entertainment",
          "x": -0.9917054302515141,
          "y": 1.071282870335527
         },
         {
          "group": "entertainment",
          "x": -0.10566282203606846,
          "y": -0.17185299635366985
         },
         {
          "group": "entertainment",
          "x": -0.2932479558677178,
          "y": 0.34796790657695287
         },
         {
          "group": "entertainment",
          "x": -2.3983240782013904,
          "y": 1.873061705972863
         },
         {
          "group": "entertainment",
          "x": 0.07420021998171084,
          "y": -1.7938791516192047
         },
         {
          "group": "entertainment",
          "x": 0.48828826145404225,
          "y": -0.6604682244654569
         },
         {
          "group": "entertainment",
          "x": -0.15476694595703996,
          "y": 1.025360754971128
         },
         {
          "group": "entertainment",
          "x": -1.392299718371238,
          "y": 0.2920600821199814
         },
         {
          "group": "entertainment",
          "x": 0.1433801003795448,
          "y": 0.17397469843953134
         },
         {
          "group": "entertainment",
          "x": -1.5476899853483066,
          "y": 0.10563579606194907
         },
         {
          "group": "entertainment",
          "x": 0.3913779806438226,
          "y": 1.717803583700334
         },
         {
          "group": "entertainment",
          "x": 0.10286389616142533,
          "y": 1.1783336992282512
         },
         {
          "group": "entertainment",
          "x": -0.4280899399217865,
          "y": -2.2833740848991595
         },
         {
          "group": "entertainment",
          "x": -0.32187209295755304,
          "y": -1.015013331446301
         },
         {
          "group": "entertainment",
          "x": -0.09117755330311937,
          "y": 0.18260034912538714
         },
         {
          "group": "entertainment",
          "x": 0.8545003774095776,
          "y": 2.170585970784333
         },
         {
          "group": "entertainment",
          "x": -0.22953735280076482,
          "y": -0.4164708675772766
         },
         {
          "group": "entertainment",
          "x": -0.7172822326079891,
          "y": -0.11965035992721645
         },
         {
          "group": "entertainment",
          "x": -0.37172034108712565,
          "y": 0.45924700515169226
         },
         {
          "group": "entertainment",
          "x": -0.350808384352035,
          "y": 1.2388895883881166
         },
         {
          "group": "entertainment",
          "x": -0.18072884054754207,
          "y": 0.556959536909777
         },
         {
          "group": "entertainment",
          "x": -1.9414282811075951,
          "y": -0.4500176996855604
         },
         {
          "group": "entertainment",
          "x": -1.5276035228205311,
          "y": 0.5343558485885893
         },
         {
          "group": "entertainment",
          "x": 0.5975925095977919,
          "y": 0.2607033036306943
         },
         {
          "group": "entertainment",
          "x": -1.7400494464404068,
          "y": -0.5366264265854676
         },
         {
          "group": "entertainment",
          "x": 0.40013310469759805,
          "y": 2.055919776971876
         },
         {
          "group": "entertainment",
          "x": 0.011306356999407791,
          "y": 0.1479946922709465
         },
         {
          "group": "entertainment",
          "x": -0.36384844143532546,
          "y": -0.6115321825947182
         },
         {
          "group": "entertainment",
          "x": -1.7001681366540367,
          "y": -2.3126031733079477
         },
         {
          "group": "entertainment",
          "x": -0.7769725087263206,
          "y": 0.6389267241708887
         },
         {
          "group": "entertainment",
          "x": -0.45997148092358353,
          "y": -0.8645761085250719
         },
         {
          "group": "entertainment",
          "x": 0.32628311283604033,
          "y": -0.04211731493914624
         },
         {
          "group": "entertainment",
          "x": -2.0917614235664854,
          "y": -0.2758906152222032
         },
         {
          "group": "entertainment",
          "x": -1.161625688693263,
          "y": 1.884557190003162
         },
         {
          "group": "entertainment",
          "x": -0.16229959085514067,
          "y": 0.2070218580256426
         },
         {
          "group": "entertainment",
          "x": 0.6348850012834413,
          "y": -0.9994235210492644
         },
         {
          "group": "entertainment",
          "x": 0.36353722386847354,
          "y": -1.8632874015557248
         },
         {
          "group": "entertainment",
          "x": 0.1737598734498163,
          "y": 2.033237960306588
         },
         {
          "group": "entertainment",
          "x": -0.8080125021466085,
          "y": -0.9207842218392508
         },
         {
          "group": "entertainment",
          "x": 0.3048144882040475,
          "y": 0.5968176907801203
         },
         {
          "group": "entertainment",
          "x": -0.7444151465729253,
          "y": -1.1652344744868512
         },
         {
          "group": "entertainment",
          "x": -0.053508937674069695,
          "y": 0.7681814939371712
         },
         {
          "group": "entertainment",
          "x": -1.7335812616006034,
          "y": -0.6405005431436837
         },
         {
          "group": "entertainment",
          "x": -0.4369508768748866,
          "y": -1.6821704883406887
         },
         {
          "group": "entertainment",
          "x": -0.383657385157972,
          "y": 1.7175906328517638
         },
         {
          "group": "entertainment",
          "x": 0.5056185412873642,
          "y": -0.011083562105091822
         },
         {
          "group": "entertainment",
          "x": -0.769175143679287,
          "y": 0.8909320754913357
         },
         {
          "group": "entertainment",
          "x": 0.8210579216053174,
          "y": -0.690825885377312
         },
         {
          "group": "entertainment",
          "x": -0.26889327539265023,
          "y": 0.44762984115798166
         },
         {
          "group": "entertainment",
          "x": -1.397460936624579,
          "y": 0.5700959211713229
         },
         {
          "group": "entertainment",
          "x": -0.9975231963145007,
          "y": -0.29394066328315305
         },
         {
          "group": "entertainment",
          "x": -1.4347713658722812,
          "y": -0.635782292633541
         },
         {
          "group": "entertainment",
          "x": 0.15291119843773093,
          "y": -1.5600159376550908
         },
         {
          "group": "entertainment",
          "x": 0.8397368579647071,
          "y": 0.5144679566124905
         },
         {
          "group": "entertainment",
          "x": -0.0004922417916470121,
          "y": -0.8950094293820964
         },
         {
          "group": "entertainment",
          "x": 0.3279443920591226,
          "y": 1.2958612779967196
         },
         {
          "group": "entertainment",
          "x": -2.378486220200907,
          "y": -1.5436045716110647
         },
         {
          "group": "entertainment",
          "x": 0.030314900402835507,
          "y": -0.12432213482217266
         },
         {
          "group": "entertainment",
          "x": 0.14072384187354411,
          "y": 0.4534062212010269
         },
         {
          "group": "entertainment",
          "x": -1.001119165694343,
          "y": -0.8402968962821321
         },
         {
          "group": "entertainment",
          "x": -1.7839707348734573,
          "y": -2.142538099327179
         },
         {
          "group": "entertainment",
          "x": 0.9243705422970224,
          "y": 0.8293111159807081
         },
         {
          "group": "entertainment",
          "x": -0.33718619896736335,
          "y": -1.2969768183877273
         },
         {
          "group": "entertainment",
          "x": -1.3772082337128713,
          "y": 0.6496293870643197
         },
         {
          "group": "entertainment",
          "x": -0.3957080756182954,
          "y": -0.41598506138258595
         },
         {
          "group": "entertainment",
          "x": 0.8373024483690985,
          "y": -1.5096620168613584
         },
         {
          "group": "entertainment",
          "x": -0.2901560303419532,
          "y": 0.10642961503518117
         },
         {
          "group": "entertainment",
          "x": -0.5104284544737535,
          "y": -0.2150532313261098
         },
         {
          "group": "entertainment",
          "x": 1.9163755856959506,
          "y": -0.039341288461397825
         },
         {
          "group": "entertainment",
          "x": -2.293328021990586,
          "y": -1.6451901744518522
         },
         {
          "group": "entertainment",
          "x": 0.0387636176846116,
          "y": -0.7502468850035717
         },
         {
          "group": "entertainment",
          "x": -0.0665510071840927,
          "y": 2.2448584605137065
         },
         {
          "group": "entertainment",
          "x": 1.191488294187039,
          "y": 1.3089844087566618
         },
         {
          "group": "entertainment",
          "x": 0.19993152486796517,
          "y": 1.0642421768574841
         },
         {
          "group": "entertainment",
          "x": -2.2983545265912535,
          "y": 1.8501628917686868
         },
         {
          "group": "entertainment",
          "x": -0.35010113239369073,
          "y": -1.3011007423526304
         },
         {
          "group": "entertainment",
          "x": 0.10755554126452149,
          "y": 1.4168994616542192
         },
         {
          "group": "entertainment",
          "x": 1.0009521735216438,
          "y": -1.7618342013749961
         },
         {
          "group": "entertainment",
          "x": 1.7451482209899758,
          "y": -1.1507720077929255
         },
         {
          "group": "entertainment",
          "x": -0.7103659117741118,
          "y": 1.5568091691902506
         },
         {
          "group": "entertainment",
          "x": -1.167409071775275,
          "y": 1.9157769264985725
         },
         {
          "group": "entertainment",
          "x": -1.1522853960129,
          "y": -0.10010874989172888
         },
         {
          "group": "entertainment",
          "x": -1.0128072407608657,
          "y": -1.2128808424774278
         },
         {
          "group": "entertainment",
          "x": -1.5391855037221718,
          "y": 2.9245255786628817
         },
         {
          "group": "entertainment",
          "x": -0.761908506837407,
          "y": -0.14809373789466934
         },
         {
          "group": "entertainment",
          "x": 0.5291581270175663,
          "y": -1.3521967943326467
         },
         {
          "group": "entertainment",
          "x": 0.702852557307274,
          "y": -1.699058115966952
         },
         {
          "group": "entertainment",
          "x": 0.4355022002993192,
          "y": -0.6945571207830266
         },
         {
          "group": "entertainment",
          "x": 0.018133917171759547,
          "y": -1.6310442530398757
         },
         {
          "group": "entertainment",
          "x": -0.6977767551889371,
          "y": -0.5306599591298706
         },
         {
          "group": "entertainment",
          "x": -2.3668372453986692,
          "y": 1.8135341139395489
         },
         {
          "group": "entertainment",
          "x": -0.7814545800818788,
          "y": -0.34106012394295454
         },
         {
          "group": "entertainment",
          "x": 0.42596609875519276,
          "y": -1.2206430378834539
         },
         {
          "group": "entertainment",
          "x": -0.6352739454024551,
          "y": -0.8004998856312154
         },
         {
          "group": "entertainment",
          "x": -0.5327114535869644,
          "y": -0.7510078138278895
         },
         {
          "group": "entertainment",
          "x": -2.2691799101817556,
          "y": 1.0315622837857021
         },
         {
          "group": "entertainment",
          "x": 2.577724141029745,
          "y": 0.9858580707767522
         },
         {
          "group": "entertainment",
          "x": 0.035709449219893476,
          "y": 0.5176725237281271
         },
         {
          "group": "entertainment",
          "x": 0.842135895353798,
          "y": 1.7228495342218184
         },
         {
          "group": "entertainment",
          "x": -1.8316300947877777,
          "y": -0.30493112570810704
         },
         {
          "group": "entertainment",
          "x": -0.6934988249781951,
          "y": -0.43182350276056813
         },
         {
          "group": "entertainment",
          "x": 0.9578493329484725,
          "y": 1.0306323888453557
         },
         {
          "group": "entertainment",
          "x": -0.1112797286814953,
          "y": -0.3104621978493719
         },
         {
          "group": "entertainment",
          "x": 0.10242743624573451,
          "y": 0.9363441033254883
         },
         {
          "group": "entertainment",
          "x": 1.0732734488732294,
          "y": 0.8776211637215747
         },
         {
          "group": "entertainment",
          "x": 0.20081738322514495,
          "y": -0.7235293648698016
         },
         {
          "group": "entertainment",
          "x": -2.3180241021391925,
          "y": 0.5914302656053845
         },
         {
          "group": "entertainment",
          "x": 0.40190933892817493,
          "y": 0.6630380447426869
         },
         {
          "group": "entertainment",
          "x": 0.1640564532996449,
          "y": -1.7604870506178414
         },
         {
          "group": "entertainment",
          "x": -1.3222726142375947,
          "y": -1.2532531603237027
         },
         {
          "group": "entertainment",
          "x": -0.9134272700218765,
          "y": 1.3204032971772637
         },
         {
          "group": "entertainment",
          "x": 1.5358422455966632,
          "y": -1.2286670076957042
         },
         {
          "group": "entertainment",
          "x": 0.22505010065205266,
          "y": 0.3896406831904106
         },
         {
          "group": "entertainment",
          "x": -0.05350931894988699,
          "y": -0.8135306104942636
         },
         {
          "group": "entertainment",
          "x": -1.1315308083898308,
          "y": -0.462938697665466
         },
         {
          "group": "entertainment",
          "x": -0.8347850334101019,
          "y": 0.28429343047837646
         },
         {
          "group": "entertainment",
          "x": -0.3723261482949117,
          "y": -0.03218023531838308
         },
         {
          "group": "entertainment",
          "x": -0.24675656084954675,
          "y": 0.31908885816730825
         },
         {
          "group": "entertainment",
          "x": -2.2628074194639245,
          "y": 0.5273894011837622
         },
         {
          "group": "entertainment",
          "x": 0.9278343900576956,
          "y": 1.2833200646853817
         },
         {
          "group": "entertainment",
          "x": 0.35792187348303084,
          "y": -0.862701281079047
         },
         {
          "group": "entertainment",
          "x": -0.7665589667786917,
          "y": 0.24852842361381272
         },
         {
          "group": "entertainment",
          "x": -0.6191466829059757,
          "y": -2.4522412648314837
         },
         {
          "group": "entertainment",
          "x": 0.28505813073906033,
          "y": -1.4427288583944098
         },
         {
          "group": "entertainment",
          "x": -1.6410573369159935,
          "y": 0.18468642128947316
         },
         {
          "group": "entertainment",
          "x": 0.48928549718378184,
          "y": 0.8553675834196961
         },
         {
          "group": "entertainment",
          "x": -2.6064439234778796,
          "y": 1.3962767673409067
         },
         {
          "group": "entertainment",
          "x": -0.15192647182619953,
          "y": -0.29653585476355165
         },
         {
          "group": "entertainment",
          "x": -0.24097168140361722,
          "y": -0.17005445651449955
         },
         {
          "group": "entertainment",
          "x": -0.18730901489236534,
          "y": -1.1777259737295003
         },
         {
          "group": "entertainment",
          "x": 1.8019141267520058,
          "y": 0.28889595883592084
         },
         {
          "group": "entertainment",
          "x": 0.46678002380412953,
          "y": -1.5395286285671765
         },
         {
          "group": "entertainment",
          "x": -1.4335109872901657,
          "y": 0.18044370130692836
         },
         {
          "group": "entertainment",
          "x": -1.2542102058500226,
          "y": 0.41171487600702417
         },
         {
          "group": "entertainment",
          "x": 0.12965583569321285,
          "y": -2.0063508562605974
         },
         {
          "group": "entertainment",
          "x": -1.5899733894913046,
          "y": 0.5114763360468089
         },
         {
          "group": "entertainment",
          "x": 0.12037478735459216,
          "y": -0.5841081435925983
         },
         {
          "group": "entertainment",
          "x": -1.2621907199623335,
          "y": 0.3887227472715965
         },
         {
          "group": "entertainment",
          "x": -0.4871287189262942,
          "y": 0.2612141035143613
         },
         {
          "group": "entertainment",
          "x": 0.5089398982057769,
          "y": 0.7446255751851197
         },
         {
          "group": "entertainment",
          "x": -1.2382104465052617,
          "y": 1.212498173325079
         },
         {
          "group": "entertainment",
          "x": -1.303596235706244,
          "y": -0.04861008934051042
         },
         {
          "group": "entertainment",
          "x": -1.5866454530461926,
          "y": 0.834235758433895
         },
         {
          "group": "entertainment",
          "x": -2.646744387966238,
          "y": -0.5502792428526707
         },
         {
          "group": "entertainment",
          "x": 0.03308152892536108,
          "y": -0.14799733727931275
         },
         {
          "group": "entertainment",
          "x": -2.0772610165355214,
          "y": -0.25512507872681084
         },
         {
          "group": "entertainment",
          "x": -0.957299289008748,
          "y": -0.46741538283645195
         },
         {
          "group": "entertainment",
          "x": -1.5040383417308623,
          "y": -0.2989803445264524
         },
         {
          "group": "entertainment",
          "x": 0.3640414538085996,
          "y": -0.853886708228714
         },
         {
          "group": "entertainment",
          "x": -0.4121798296220142,
          "y": 0.7991842119201046
         },
         {
          "group": "entertainment",
          "x": 0.35252374167885164,
          "y": -1.6521539743087088
         },
         {
          "group": "entertainment",
          "x": 1.0619550737329095,
          "y": 0.9754665190150642
         },
         {
          "group": "entertainment",
          "x": 0.1281252386364471,
          "y": 1.765613728523162
         },
         {
          "group": "entertainment",
          "x": -1.9517664219111681,
          "y": -0.3619144964728337
         },
         {
          "group": "entertainment",
          "x": -1.0921213264925167,
          "y": 0.3936931552387169
         },
         {
          "group": "entertainment",
          "x": 1.3156777742702384,
          "y": 2.4442363271416627
         },
         {
          "group": "entertainment",
          "x": -0.46104650567935507,
          "y": -0.7432172575209396
         },
         {
          "group": "entertainment",
          "x": 0.3726753633741765,
          "y": -2.2402232520330085
         },
         {
          "group": "entertainment",
          "x": -2.4509497651626577,
          "y": -0.8518754514603402
         },
         {
          "group": "entertainment",
          "x": -2.087531286448209,
          "y": -0.08921062131694375
         },
         {
          "group": "entertainment",
          "x": 0.5880161401307178,
          "y": 0.7532141359076095
         },
         {
          "group": "entertainment",
          "x": -0.5386466780423947,
          "y": -1.2188351922738998
         },
         {
          "group": "entertainment",
          "x": 0.6092953451604288,
          "y": 2.542555321407372
         },
         {
          "group": "entertainment",
          "x": 1.5679645237871713,
          "y": -1.2339470813544366
         },
         {
          "group": "entertainment",
          "x": -0.5371408110149706,
          "y": 0.18020246657954134
         },
         {
          "group": "entertainment",
          "x": 0.32348428595141204,
          "y": -1.9305661776918004
         },
         {
          "group": "entertainment",
          "x": -1.8982842373731257,
          "y": -0.7690426360814998
         },
         {
          "group": "entertainment",
          "x": 2.4993357714287594,
          "y": -1.747129306907032
         },
         {
          "group": "entertainment",
          "x": -0.07413387233243664,
          "y": 0.4007977668039241
         },
         {
          "group": "entertainment",
          "x": -1.3811726625088092,
          "y": 1.318825968445743
         },
         {
          "group": "entertainment",
          "x": 0.17837967335635035,
          "y": 0.9804894928852808
         },
         {
          "group": "entertainment",
          "x": -0.6725850324716358,
          "y": -0.2942180441259866
         },
         {
          "group": "entertainment",
          "x": 1.2416870072795696,
          "y": 0.27305919407073354
         },
         {
          "group": "entertainment",
          "x": -0.02538865001339439,
          "y": 0.4988307852435313
         },
         {
          "group": "entertainment",
          "x": 0.24303354922642387,
          "y": 0.19258808193906932
         },
         {
          "group": "entertainment",
          "x": -0.5983869484742103,
          "y": -1.928443546353373
         },
         {
          "group": "entertainment",
          "x": -1.4953347403596036,
          "y": -0.17462758838460482
         },
         {
          "group": "entertainment",
          "x": 0.11605269884921651,
          "y": 0.7261789816056595
         },
         {
          "group": "entertainment",
          "x": 0.7847474361820794,
          "y": 0.5885884243228793
         },
         {
          "group": "entertainment",
          "x": 0.13036611021557165,
          "y": 1.0895378978959134
         },
         {
          "group": "entertainment",
          "x": 1.7494724371742867,
          "y": 1.1891516796382233
         },
         {
          "group": "entertainment",
          "x": -0.29055972222554927,
          "y": 0.16299892276074665
         },
         {
          "group": "entertainment",
          "x": 1.5880885608908282,
          "y": 0.5124179006812204
         },
         {
          "group": "entertainment",
          "x": -0.595821802974847,
          "y": 1.412106299279376
         },
         {
          "group": "entertainment",
          "x": 0.8170945725042154,
          "y": -1.5933228543171674
         },
         {
          "group": "entertainment",
          "x": 2.342433830570973,
          "y": -3.402698763324994
         },
         {
          "group": "entertainment",
          "x": -0.16611950590919028,
          "y": 2.2328599126327537
         },
         {
          "group": "entertainment",
          "x": -1.8599319831988674,
          "y": 0.5201951961957697
         },
         {
          "group": "entertainment",
          "x": 0.7523746707943627,
          "y": -0.5191253719692477
         },
         {
          "group": "entertainment",
          "x": 0.4012106263715805,
          "y": 1.6061811233358863
         },
         {
          "group": "entertainment",
          "x": -0.9302800173100845,
          "y": 2.3874825317723367
         },
         {
          "group": "entertainment",
          "x": -0.327981146271859,
          "y": 0.16502145706783192
         },
         {
          "group": "entertainment",
          "x": -1.129159526822093,
          "y": 0.5384377429423224
         },
         {
          "group": "entertainment",
          "x": -1.3957182673956032,
          "y": 0.5676940541977847
         },
         {
          "group": "entertainment",
          "x": -1.3192355704561076,
          "y": 0.5585395997276204
         },
         {
          "group": "entertainment",
          "x": -0.35819764003340887,
          "y": -1.3542283205995054
         },
         {
          "group": "entertainment",
          "x": 0.41328147429631856,
          "y": -1.8154385075381694
         },
         {
          "group": "entertainment",
          "x": -0.9288857097597383,
          "y": -1.640928603942792
         },
         {
          "group": "entertainment",
          "x": 0.06977587908083671,
          "y": 0.74489644825449
         },
         {
          "group": "entertainment",
          "x": -0.3903049680677805,
          "y": -1.510200612165825
         },
         {
          "group": "entertainment",
          "x": 0.6388315032251932,
          "y": 0.42780339073415935
         },
         {
          "group": "entertainment",
          "x": -1.5310910144697294,
          "y": 1.4890054936334705
         },
         {
          "group": "entertainment",
          "x": -1.1543266351508865,
          "y": -0.3811330489785081
         },
         {
          "group": "entertainment",
          "x": -0.5820899701495118,
          "y": -0.2212057536272018
         },
         {
          "group": "entertainment",
          "x": -1.9901816689931053,
          "y": -0.3260644450133972
         },
         {
          "group": "entertainment",
          "x": 0.5857068355278178,
          "y": 0.07170092537884977
         },
         {
          "group": "entertainment",
          "x": -0.8551839691408788,
          "y": -0.412707279313046
         },
         {
          "group": "entertainment",
          "x": 1.1574540399257285,
          "y": 1.350346709898342
         },
         {
          "group": "entertainment",
          "x": 0.007684443982662932,
          "y": -0.35191070322970025
         }
        ]
       },
       "encoding": {
        "color": {
         "field": "group",
         "type": "nominal"
        },
        "x": {
         "field": "x",
         "type": "quantitative"
        },
        "y": {
         "field": "y",
         "type": "quantitative"
        }
       },
       "mark": "point"
      },
      "image/png": "[encoded data removed]",
      "text/plain": [
       "<VegaLite 2 object>\n",
       "\n",
       "If you see this message, it means the renderer has not been properly enabled\n",
       "for the frontend that you are using. For more information, see\n",
       "https://altair-viz.github.io/user_guide/troubleshooting.html\n"
      ]
     },
     "execution_count": 25,
     "metadata": {},
     "output_type": "execute_result"
    }
   ],
   "source": [
    "bbc_2d = pca_2d(bbc_model.paragraph_matrix.data, bbc_df.group.to_numpy())\n",
    "alt.Chart(bbc_2d).mark_point().encode(x=\"x\", y=\"y\", color=\"group\")"
   ]
  },
  {
   "cell_type": "markdown",
   "metadata": {},
   "source": [
    "These results aren't great, but we can see the beginnings of separation. If we look at just two topics it becomes more obvious."
   ]
  },
  {
   "cell_type": "code",
   "execution_count": 26,
   "metadata": {},
   "outputs": [
    {
     "data": {
      "application/vnd.vegalite.v2+json": {
       "$schema": "https://vega.github.io/schema/vega-lite/v2.6.0.json",
       "config": {
        "view": {
         "height": 300,
         "width": 400
        }
       },
       "data": {
        "name": "data-df4c1a3c25e86a256df2bb1a1661a881"
       },
       "datasets": {
        "data-df4c1a3c25e86a256df2bb1a1661a881": [
         {
          "group": "sport",
          "x": 0.9708042516306119,
          "y": -0.46054551824321144
         },
         {
          "group": "sport",
          "x": 0.4625876203396678,
          "y": -0.7350543152069465
         },
         {
          "group": "sport",
          "x": 1.241029125970138,
          "y": 0.05997265972668382
         },
         {
          "group": "sport",
          "x": 0.8340303199502676,
          "y": 0.2879554130406076
         },
         {
          "group": "sport",
          "x": 0.9899951045569317,
          "y": 0.38146429253783953
         },
         {
          "group": "sport",
          "x": 0.200625767778803,
          "y": 0.08528038700552804
         },
         {
          "group": "sport",
          "x": 1.6503982658744782,
          "y": -0.28543755156572936
         },
         {
          "group": "sport",
          "x": 2.0242895665382186,
          "y": 0.5926793995159697
         },
         {
          "group": "sport",
          "x": 1.2131959533699828,
          "y": -0.41530293985694855
         },
         {
          "group": "sport",
          "x": 0.5833770669008986,
          "y": -1.6191449498214892
         },
         {
          "group": "sport",
          "x": 0.43544570827630324,
          "y": -2.5651966184390647
         },
         {
          "group": "sport",
          "x": 1.6758603558978604,
          "y": 0.038366915038367755
         },
         {
          "group": "sport",
          "x": 1.7767657532299244,
          "y": 0.2742823028135334
         },
         {
          "group": "sport",
          "x": 0.47549564495257185,
          "y": -0.6016520950917436
         },
         {
          "group": "sport",
          "x": 0.6819531638152208,
          "y": 0.6225646927272904
         },
         {
          "group": "sport",
          "x": 1.513106377594763,
          "y": -0.5056881242038254
         },
         {
          "group": "sport",
          "x": 0.8998012141629048,
          "y": -0.6540760347130253
         },
         {
          "group": "sport",
          "x": 1.036727517708485,
          "y": 0.4787208613218112
         },
         {
          "group": "sport",
          "x": 1.6580569376703052,
          "y": -0.4885171914638759
         },
         {
          "group": "sport",
          "x": 0.7482542668520258,
          "y": -0.8650774570361508
         },
         {
          "group": "sport",
          "x": 1.9403299126578613,
          "y": 0.6132497821050247
         },
         {
          "group": "sport",
          "x": 1.200079413848823,
          "y": -0.05688198792556788
         },
         {
          "group": "sport",
          "x": 1.1824065929351402,
          "y": -0.6949933014648526
         },
         {
          "group": "sport",
          "x": 0.4601983885804567,
          "y": -0.4751639211752343
         },
         {
          "group": "sport",
          "x": 0.7535728248366009,
          "y": -0.08987817468586229
         },
         {
          "group": "sport",
          "x": 1.1930960386634286,
          "y": -0.028333297839332125
         },
         {
          "group": "sport",
          "x": 1.1678201935769914,
          "y": -0.9245226742894656
         },
         {
          "group": "sport",
          "x": 1.089550725732697,
          "y": -1.0181931561609416
         },
         {
          "group": "sport",
          "x": 1.2585719666160735,
          "y": 0.48536988627078287
         },
         {
          "group": "sport",
          "x": 1.555936096915665,
          "y": 1.2595246209431172
         },
         {
          "group": "sport",
          "x": 1.3087826683247146,
          "y": -1.7144109229376774
         },
         {
          "group": "sport",
          "x": 1.8132025564470264,
          "y": -0.02866219548190777
         },
         {
          "group": "sport",
          "x": 1.0035054349244497,
          "y": 0.2368346326698831
         },
         {
          "group": "sport",
          "x": 0.020382120996947924,
          "y": -2.4256650494592282
         },
         {
          "group": "sport",
          "x": 1.121876848495988,
          "y": 0.7185753485161346
         },
         {
          "group": "sport",
          "x": 0.8161901438632777,
          "y": -0.1434975951347599
         },
         {
          "group": "sport",
          "x": 1.0354524702507744,
          "y": -0.8022005125541101
         },
         {
          "group": "sport",
          "x": 0.2663349189125335,
          "y": 0.2685315881050316
         },
         {
          "group": "sport",
          "x": 0.9601712447130524,
          "y": -0.0588110973250865
         },
         {
          "group": "sport",
          "x": 1.2818993497405062,
          "y": 0.5262551361603148
         },
         {
          "group": "sport",
          "x": 0.9312640459808853,
          "y": -0.19239697971106245
         },
         {
          "group": "sport",
          "x": 0.9063605401862252,
          "y": 0.11848624643710882
         },
         {
          "group": "sport",
          "x": 1.0870897753410855,
          "y": 0.18286535275911078
         },
         {
          "group": "sport",
          "x": 0.9031087151161771,
          "y": -0.8265389488674075
         },
         {
          "group": "sport",
          "x": 1.9307649593885996,
          "y": 0.8251730093155438
         },
         {
          "group": "sport",
          "x": 0.8949510315533163,
          "y": -0.9201968961783256
         },
         {
          "group": "sport",
          "x": 1.1983215041046358,
          "y": -0.28976033811698154
         },
         {
          "group": "sport",
          "x": 2.6550725002867503,
          "y": 1.660822268365761
         },
         {
          "group": "sport",
          "x": 1.060696025292903,
          "y": -0.12837258338097568
         },
         {
          "group": "sport",
          "x": 0.9088262382516576,
          "y": -0.6758458345367097
         },
         {
          "group": "sport",
          "x": 1.1071353307406606,
          "y": 0.46094914747700827
         },
         {
          "group": "sport",
          "x": 0.5607007370835648,
          "y": -0.05940271223187283
         },
         {
          "group": "sport",
          "x": 0.9425090585522303,
          "y": -0.538856319454293
         },
         {
          "group": "sport",
          "x": 0.9268657427735374,
          "y": 0.37464665906130534
         },
         {
          "group": "sport",
          "x": 1.7144417927403637,
          "y": 0.6534464373667268
         },
         {
          "group": "sport",
          "x": 1.2249831261208888,
          "y": 0.5124463674325569
         },
         {
          "group": "sport",
          "x": 1.2755044169210403,
          "y": 0.9015596740745379
         },
         {
          "group": "sport",
          "x": 1.797263146487297,
          "y": 0.9458253333409549
         },
         {
          "group": "sport",
          "x": 1.5339444090811398,
          "y": -0.9607228196678032
         },
         {
          "group": "sport",
          "x": 1.0843887975537492,
          "y": -1.220208225600875
         },
         {
          "group": "sport",
          "x": 1.764257884006332,
          "y": -0.6184238940236382
         },
         {
          "group": "sport",
          "x": 0.9081440418389172,
          "y": -0.497140797735138
         },
         {
          "group": "sport",
          "x": 0.5325358149435422,
          "y": 0.95602333578266
         },
         {
          "group": "sport",
          "x": 1.170056148813929,
          "y": -0.7317194397541864
         },
         {
          "group": "sport",
          "x": 0.819942192626264,
          "y": 0.05881086873633957
         },
         {
          "group": "sport",
          "x": 1.2462680300591054,
          "y": -1.4094618261591143
         },
         {
          "group": "sport",
          "x": 1.0173449514947566,
          "y": -0.8419922171062837
         },
         {
          "group": "sport",
          "x": 0.5622632795882546,
          "y": -0.31111810155735303
         },
         {
          "group": "sport",
          "x": 1.6410660029192028,
          "y": 0.3720021773231907
         },
         {
          "group": "sport",
          "x": 0.753179883869572,
          "y": -0.38015355835483877
         },
         {
          "group": "sport",
          "x": 0.6856332758122323,
          "y": -0.24483075822490974
         },
         {
          "group": "sport",
          "x": 0.8252602794155961,
          "y": -1.74714002665204
         },
         {
          "group": "sport",
          "x": 1.5909456849119572,
          "y": -0.27912861979944104
         },
         {
          "group": "sport",
          "x": 0.7725491118699283,
          "y": -1.9738183808583132
         },
         {
          "group": "sport",
          "x": 1.8113117298746149,
          "y": 1.7214103140521353
         },
         {
          "group": "sport",
          "x": 1.256584943643301,
          "y": -1.5980675966175926
         },
         {
          "group": "sport",
          "x": 1.5216423181894116,
          "y": -1.0687442007630685
         },
         {
          "group": "sport",
          "x": 1.1627770979019532,
          "y": 0.41212839201209744
         },
         {
          "group": "sport",
          "x": 0.6908341944143924,
          "y": -2.0236809361379398
         },
         {
          "group": "sport",
          "x": 0.9584027522549293,
          "y": 0.6185683679512739
         },
         {
          "group": "sport",
          "x": 1.832910570243604,
          "y": -0.3343513779746628
         },
         {
          "group": "sport",
          "x": 0.4858730326932919,
          "y": -0.8624297281371066
         },
         {
          "group": "sport",
          "x": 1.8611774303580857,
          "y": 0.49120512478357037
         },
         {
          "group": "sport",
          "x": 0.9576824929286794,
          "y": 0.40517152465616774
         },
         {
          "group": "sport",
          "x": 1.6085720197869735,
          "y": -0.899850324933552
         },
         {
          "group": "sport",
          "x": 0.9047803272809436,
          "y": -0.844335251985827
         },
         {
          "group": "sport",
          "x": 1.3246990167669992,
          "y": -1.7625376414910394
         },
         {
          "group": "sport",
          "x": 1.2127919928758906,
          "y": -0.5018785305813969
         },
         {
          "group": "sport",
          "x": 1.2805057752952178,
          "y": -0.20283145042389514
         },
         {
          "group": "sport",
          "x": 1.7033896018474373,
          "y": 1.1122568932684251
         },
         {
          "group": "sport",
          "x": 0.7836374654521922,
          "y": -0.45426299861524816
         },
         {
          "group": "sport",
          "x": 0.48166297049127166,
          "y": -1.561446973907843
         },
         {
          "group": "sport",
          "x": 1.3753555281720167,
          "y": 0.4382566180331751
         },
         {
          "group": "sport",
          "x": 2.250695702080706,
          "y": 0.09069662472634246
         },
         {
          "group": "sport",
          "x": 1.0505502825882695,
          "y": -0.3494085797874339
         },
         {
          "group": "sport",
          "x": 1.4308204953684809,
          "y": -0.9164642245568119
         },
         {
          "group": "sport",
          "x": 0.8946830472373674,
          "y": -0.5808589937210786
         },
         {
          "group": "sport",
          "x": 1.0976725677946122,
          "y": -0.8364769862536086
         },
         {
          "group": "sport",
          "x": 0.704372456433524,
          "y": 0.281327383588319
         },
         {
          "group": "sport",
          "x": 1.2604035907167461,
          "y": -1.1184158407647466
         },
         {
          "group": "sport",
          "x": 0.7724993159087855,
          "y": 0.41247197384957246
         },
         {
          "group": "sport",
          "x": 0.8578512125115341,
          "y": -0.32104982742820865
         },
         {
          "group": "sport",
          "x": 1.4108370412133622,
          "y": -0.5195896234391444
         },
         {
          "group": "sport",
          "x": 0.40572909181079286,
          "y": 0.1590178216466439
         },
         {
          "group": "sport",
          "x": 0.9853547141550607,
          "y": -1.6934535997146332
         },
         {
          "group": "sport",
          "x": 0.23435788804635824,
          "y": -2.0408876099214317
         },
         {
          "group": "sport",
          "x": 1.3492375277808177,
          "y": -0.4922537824569337
         },
         {
          "group": "sport",
          "x": 0.43247790907947997,
          "y": -1.268240737264365
         },
         {
          "group": "sport",
          "x": 0.29913188529125123,
          "y": -2.740311319240974
         },
         {
          "group": "sport",
          "x": 1.4179210757821217,
          "y": -0.2000563661847914
         },
         {
          "group": "sport",
          "x": 0.9071610554961287,
          "y": -0.7823784779370868
         },
         {
          "group": "sport",
          "x": 0.6609825759901564,
          "y": -2.074298722365364
         },
         {
          "group": "sport",
          "x": 0.8328139625012099,
          "y": 0.33326743800623393
         },
         {
          "group": "sport",
          "x": 1.3949641201279344,
          "y": -0.8131604033469048
         },
         {
          "group": "sport",
          "x": 0.9449221353469056,
          "y": -1.606034065412817
         },
         {
          "group": "sport",
          "x": 1.3746844147591268,
          "y": 0.6727873188481602
         },
         {
          "group": "sport",
          "x": 1.6139185926172062,
          "y": -0.6094527421471377
         },
         {
          "group": "sport",
          "x": 0.6636836045755198,
          "y": -0.8636541773289865
         },
         {
          "group": "sport",
          "x": 1.2721335376818357,
          "y": -1.0160450412447675
         },
         {
          "group": "sport",
          "x": 0.8374836115220782,
          "y": -2.5070606574893315
         },
         {
          "group": "sport",
          "x": 1.0858290380746087,
          "y": -0.5283967800243179
         },
         {
          "group": "sport",
          "x": 0.39725704499972136,
          "y": -0.6365480966462304
         },
         {
          "group": "sport",
          "x": 1.002477213084775,
          "y": -0.16322698526883914
         },
         {
          "group": "sport",
          "x": 0.9580307974149141,
          "y": -1.4378129856361996
         },
         {
          "group": "sport",
          "x": 1.289640267647908,
          "y": -0.5272232837732351
         },
         {
          "group": "sport",
          "x": 0.5866861236170764,
          "y": 0.028430581030951117
         },
         {
          "group": "sport",
          "x": 1.1975151596373093,
          "y": 0.9652605785338879
         },
         {
          "group": "sport",
          "x": 1.8627610630743459,
          "y": 0.4364472365817086
         },
         {
          "group": "sport",
          "x": 1.5794197514167414,
          "y": -1.1950333746983832
         },
         {
          "group": "sport",
          "x": 0.6489052756818351,
          "y": 0.34562074646672936
         },
         {
          "group": "sport",
          "x": 0.6021767843199626,
          "y": -1.6164892259674928
         },
         {
          "group": "sport",
          "x": 0.0647108050827808,
          "y": -0.23580048907738588
         },
         {
          "group": "sport",
          "x": 1.7919700347135539,
          "y": 0.24383470027785709
         },
         {
          "group": "sport",
          "x": 1.0925541939389718,
          "y": -1.8610527424480698
         },
         {
          "group": "sport",
          "x": 1.359190783966981,
          "y": -0.030531186785442907
         },
         {
          "group": "sport",
          "x": 0.7284529081064363,
          "y": 0.21864222429507477
         },
         {
          "group": "sport",
          "x": 0.8116994078446843,
          "y": -0.9454626091570215
         },
         {
          "group": "sport",
          "x": 1.6888656844759153,
          "y": 0.010524618612680453
         },
         {
          "group": "sport",
          "x": 0.8870761801594022,
          "y": -1.860974883310803
         },
         {
          "group": "sport",
          "x": 1.5421644889115096,
          "y": 0.28282543417104916
         },
         {
          "group": "sport",
          "x": 0.996905139856997,
          "y": 0.6967546330141102
         },
         {
          "group": "sport",
          "x": 0.5495939834485145,
          "y": -1.0362274657463726
         },
         {
          "group": "sport",
          "x": 0.5310368358011833,
          "y": -1.0723298744683374
         },
         {
          "group": "sport",
          "x": 0.54321017215371,
          "y": -0.6088373595189673
         },
         {
          "group": "sport",
          "x": 1.74527885415664,
          "y": 0.2854414890128322
         },
         {
          "group": "sport",
          "x": 0.7920162161426156,
          "y": -0.40918400298609225
         },
         {
          "group": "sport",
          "x": 1.234502811895589,
          "y": -0.5225121266180766
         },
         {
          "group": "sport",
          "x": 0.7561384706743146,
          "y": -0.7435006436092731
         },
         {
          "group": "sport",
          "x": 1.2694270175808342,
          "y": 0.825468608290543
         },
         {
          "group": "sport",
          "x": 2.089387365951147,
          "y": -0.738824759485418
         },
         {
          "group": "sport",
          "x": 0.9604684050462022,
          "y": -0.7544922937961763
         },
         {
          "group": "sport",
          "x": 1.105273751117553,
          "y": -0.19148806286772221
         },
         {
          "group": "sport",
          "x": 0.8832590607502633,
          "y": 1.1446788157530565
         },
         {
          "group": "sport",
          "x": 1.0428412961071587,
          "y": 0.33980223999389614
         },
         {
          "group": "sport",
          "x": 1.669911478059195,
          "y": 2.008596087714834
         },
         {
          "group": "sport",
          "x": 1.1179837931398633,
          "y": -0.7322582683206635
         },
         {
          "group": "sport",
          "x": 0.6108397643184605,
          "y": -0.15851827116604056
         },
         {
          "group": "sport",
          "x": 1.3530030539184568,
          "y": 0.5184232583941792
         },
         {
          "group": "sport",
          "x": 1.0331776456359079,
          "y": 0.3943649666671257
         },
         {
          "group": "sport",
          "x": 0.4917464521815144,
          "y": -0.7155925686214484
         },
         {
          "group": "sport",
          "x": 0.9318429439786654,
          "y": -1.1547153709468476
         },
         {
          "group": "sport",
          "x": 1.7462817622813942,
          "y": -0.21244516108920206
         },
         {
          "group": "sport",
          "x": 1.5577732584730084,
          "y": -0.28899720720904637
         },
         {
          "group": "sport",
          "x": 1.7800042553240163,
          "y": -0.5677531678697529
         },
         {
          "group": "sport",
          "x": 0.9034448392256978,
          "y": -1.1399195337747312
         },
         {
          "group": "sport",
          "x": 1.1483565661388901,
          "y": -0.9544411997025085
         },
         {
          "group": "sport",
          "x": 0.6022810155156608,
          "y": -0.1217192239695969
         },
         {
          "group": "sport",
          "x": 0.7124600171984196,
          "y": -1.8886177751847795
         },
         {
          "group": "sport",
          "x": 1.123218308787367,
          "y": -1.9949691399377198
         },
         {
          "group": "sport",
          "x": 1.3220030593361598,
          "y": 1.4270279617433121
         },
         {
          "group": "sport",
          "x": 1.966594279742882,
          "y": 1.0321183236178928
         },
         {
          "group": "sport",
          "x": 0.9905681451943871,
          "y": 0.6247278285852205
         },
         {
          "group": "sport",
          "x": 0.6991030858878576,
          "y": -0.29545439294143644
         },
         {
          "group": "sport",
          "x": 0.8463163287993158,
          "y": -0.010630281743649564
         },
         {
          "group": "sport",
          "x": 1.563958783102277,
          "y": -0.33090203404330915
         },
         {
          "group": "sport",
          "x": 1.0621174724249647,
          "y": -1.558806823098104
         },
         {
          "group": "sport",
          "x": 0.763022843154345,
          "y": -0.2892164898774933
         },
         {
          "group": "sport",
          "x": 0.6403153369563493,
          "y": 0.538103275770545
         },
         {
          "group": "sport",
          "x": 1.0433550717760365,
          "y": -1.7319184844937123
         },
         {
          "group": "sport",
          "x": 1.9314921260785227,
          "y": -0.2846035106400159
         },
         {
          "group": "sport",
          "x": 1.4084745737154438,
          "y": -1.0451276129389169
         },
         {
          "group": "sport",
          "x": 0.8393995664991247,
          "y": -0.6595355228530559
         },
         {
          "group": "sport",
          "x": 1.0001395586713802,
          "y": -0.3895169324075201
         },
         {
          "group": "sport",
          "x": 1.8209817566969935,
          "y": -1.2446849492195726
         },
         {
          "group": "sport",
          "x": 0.999813908097064,
          "y": -0.2935669612995805
         },
         {
          "group": "sport",
          "x": 0.9415979175220036,
          "y": -0.4056183457325904
         },
         {
          "group": "sport",
          "x": 1.5015500720800556,
          "y": -0.8130976808010657
         },
         {
          "group": "sport",
          "x": 1.2821841521414779,
          "y": 0.5538213873157116
         },
         {
          "group": "sport",
          "x": 0.7797034997029805,
          "y": 0.12145192223372199
         },
         {
          "group": "sport",
          "x": 1.0145425179904615,
          "y": 0.6900577411368213
         },
         {
          "group": "sport",
          "x": 0.9271387707695757,
          "y": -1.0536162984368285
         },
         {
          "group": "sport",
          "x": 1.4254118202847044,
          "y": -0.051856272054263915
         },
         {
          "group": "sport",
          "x": 0.7115144278797824,
          "y": 0.043598091823232654
         },
         {
          "group": "sport",
          "x": 0.7386171285994798,
          "y": -0.14123015805689046
         },
         {
          "group": "sport",
          "x": 0.8117173342227867,
          "y": -2.1908488666754455
         },
         {
          "group": "sport",
          "x": 1.4048119631231402,
          "y": -0.503989235135066
         },
         {
          "group": "sport",
          "x": 0.9545869561073735,
          "y": -1.656808009261594
         },
         {
          "group": "sport",
          "x": 0.8865891965197576,
          "y": -0.7391198488977198
         },
         {
          "group": "sport",
          "x": 1.0829783809732412,
          "y": 1.137845079666218
         },
         {
          "group": "sport",
          "x": 0.4315212427507052,
          "y": 0.034067578827537984
         },
         {
          "group": "sport",
          "x": 0.8569297864154624,
          "y": -0.8956210133398864
         },
         {
          "group": "sport",
          "x": 0.43774035351764085,
          "y": -1.250005892895373
         },
         {
          "group": "sport",
          "x": 0.8568890619694488,
          "y": 2.189327582129334
         },
         {
          "group": "sport",
          "x": 1.6513032066620315,
          "y": -0.9163598236667847
         },
         {
          "group": "sport",
          "x": 1.0332506821667695,
          "y": -0.3669809748503058
         },
         {
          "group": "sport",
          "x": 0.8106234338646066,
          "y": -0.8752552510805355
         },
         {
          "group": "sport",
          "x": 0.6879980436359757,
          "y": -1.3428843301979048
         },
         {
          "group": "sport",
          "x": 0.21959084047436045,
          "y": -2.3043021759101974
         },
         {
          "group": "sport",
          "x": 1.0583713877242398,
          "y": -0.07203235241832105
         },
         {
          "group": "sport",
          "x": 0.090251477787169,
          "y": -0.6958845731950651
         },
         {
          "group": "sport",
          "x": 1.7403871462831508,
          "y": -0.3167655936522686
         },
         {
          "group": "sport",
          "x": 0.8153020323869634,
          "y": -1.9906385079224647
         },
         {
          "group": "sport",
          "x": 1.201978687519923,
          "y": -1.7257470518139808
         },
         {
          "group": "sport",
          "x": 0.6638651824684071,
          "y": -1.0740918309478917
         },
         {
          "group": "sport",
          "x": 0.9669963594511517,
          "y": -0.7198920489320477
         },
         {
          "group": "sport",
          "x": 0.5578716078896214,
          "y": 0.13588409539768634
         },
         {
          "group": "sport",
          "x": 1.4272647185064102,
          "y": 1.6709834873157583
         },
         {
          "group": "sport",
          "x": 1.0412345027415366,
          "y": 0.761422032119058
         },
         {
          "group": "sport",
          "x": 1.6336220978766163,
          "y": -0.6867156410075355
         },
         {
          "group": "sport",
          "x": 0.6392990570074228,
          "y": -1.4914398653000054
         },
         {
          "group": "sport",
          "x": 1.01803178075223,
          "y": 0.22390248287382752
         },
         {
          "group": "sport",
          "x": 0.9891688700846054,
          "y": 0.9087223100028555
         },
         {
          "group": "sport",
          "x": 1.0309341393082077,
          "y": 0.16848942940706194
         },
         {
          "group": "sport",
          "x": 1.1038482172977946,
          "y": 0.3848828923036583
         },
         {
          "group": "sport",
          "x": 1.2409086013649553,
          "y": -1.4598133134791698
         },
         {
          "group": "sport",
          "x": 1.7348776349339883,
          "y": -0.3378516399722444
         },
         {
          "group": "sport",
          "x": 1.0426388401692632,
          "y": -0.19158419003907876
         },
         {
          "group": "sport",
          "x": 0.8801347660506942,
          "y": -1.962965283128769
         },
         {
          "group": "sport",
          "x": 0.6379639166905738,
          "y": 0.07834759770987879
         },
         {
          "group": "sport",
          "x": 1.433783089717909,
          "y": -0.9224609298826763
         },
         {
          "group": "sport",
          "x": 0.8809519627092902,
          "y": -0.3200499161354789
         },
         {
          "group": "sport",
          "x": 1.8919024682416987,
          "y": -1.2134989425170835
         },
         {
          "group": "sport",
          "x": 0.592386642802464,
          "y": -0.3060500180544766
         },
         {
          "group": "sport",
          "x": 0.48131862994094793,
          "y": -2.9889885547116046
         },
         {
          "group": "sport",
          "x": 0.3865419153896788,
          "y": -0.48252730476285366
         },
         {
          "group": "sport",
          "x": 0.5020477226497317,
          "y": -1.8390650285274994
         },
         {
          "group": "sport",
          "x": 0.6734073379435752,
          "y": 0.9185767997468113
         },
         {
          "group": "sport",
          "x": 0.4749153208168042,
          "y": 0.19101299578466974
         },
         {
          "group": "sport",
          "x": 0.4202955407660487,
          "y": -2.2769542753302345
         },
         {
          "group": "sport",
          "x": 0.7472866556237652,
          "y": -0.5794151400992401
         },
         {
          "group": "sport",
          "x": 0.9803959348845337,
          "y": -0.1178496094933567
         },
         {
          "group": "sport",
          "x": 0.7814609691731835,
          "y": -0.11687557921962835
         },
         {
          "group": "sport",
          "x": 1.2216931486399838,
          "y": -0.42627595440402427
         },
         {
          "group": "sport",
          "x": 0.5442090495305504,
          "y": -0.7194070008946515
         },
         {
          "group": "sport",
          "x": 0.6897663785325735,
          "y": -0.3216330574385272
         },
         {
          "group": "sport",
          "x": 1.5591850547663137,
          "y": 1.0507307048042465
         },
         {
          "group": "sport",
          "x": 1.4818205892936454,
          "y": 0.5018678063201051
         },
         {
          "group": "sport",
          "x": 0.5180520621720794,
          "y": -1.0050307068356008
         },
         {
          "group": "sport",
          "x": 1.1615132512396038,
          "y": -0.2449497033106527
         },
         {
          "group": "sport",
          "x": 0.1601911129800192,
          "y": 0.8624841234278089
         },
         {
          "group": "sport",
          "x": 0.7437193870927186,
          "y": -0.7461657775980094
         },
         {
          "group": "sport",
          "x": 0.831549138652167,
          "y": 0.015339598616123771
         },
         {
          "group": "sport",
          "x": 1.2886083892753921,
          "y": -0.6591847090099369
         },
         {
          "group": "sport",
          "x": 0.4708318921906261,
          "y": 0.24864725433843796
         },
         {
          "group": "sport",
          "x": 0.9667844212754472,
          "y": -0.8973974292723105
         },
         {
          "group": "sport",
          "x": 1.119069768309518,
          "y": -0.7354359897805919
         },
         {
          "group": "sport",
          "x": 0.8439836427017987,
          "y": -0.9940682171350083
         },
         {
          "group": "sport",
          "x": 1.1479477024300566,
          "y": -0.6167418958686928
         },
         {
          "group": "sport",
          "x": 1.0079542286715897,
          "y": -0.7963377892696036
         },
         {
          "group": "sport",
          "x": 1.1027476110821597,
          "y": -1.2923641593758306
         },
         {
          "group": "sport",
          "x": 0.032169861583772996,
          "y": -1.6227952557986363
         },
         {
          "group": "sport",
          "x": 1.091753115512339,
          "y": -0.877758105481035
         },
         {
          "group": "sport",
          "x": 0.9940870526744152,
          "y": -1.4073105818432317
         },
         {
          "group": "sport",
          "x": 0.8225673335459478,
          "y": 0.13792566775042248
         },
         {
          "group": "sport",
          "x": 0.8805137160415579,
          "y": -2.2258678556689806
         },
         {
          "group": "sport",
          "x": 0.9869870313700868,
          "y": -0.6970101892477684
         },
         {
          "group": "sport",
          "x": 0.7769360414288273,
          "y": -1.2245384212135875
         },
         {
          "group": "sport",
          "x": 0.3614218782646136,
          "y": 0.203669789574285
         },
         {
          "group": "sport",
          "x": 0.6212885429757029,
          "y": -0.8377643590720747
         },
         {
          "group": "sport",
          "x": 1.1594585882292294,
          "y": -0.618687585214659
         },
         {
          "group": "sport",
          "x": 0.24072609329473893,
          "y": 0.48798211775275935
         },
         {
          "group": "sport",
          "x": 1.2094352730889437,
          "y": -0.8083902338654283
         },
         {
          "group": "sport",
          "x": 0.5316139527650701,
          "y": -1.5173868246034197
         },
         {
          "group": "sport",
          "x": 0.9235983048545657,
          "y": -0.06390512727603036
         },
         {
          "group": "sport",
          "x": 0.5579311078558451,
          "y": 0.20353434963875774
         },
         {
          "group": "sport",
          "x": 0.44885128460331714,
          "y": -0.8094735529984455
         },
         {
          "group": "sport",
          "x": 0.730560181260941,
          "y": 0.8558877961214579
         },
         {
          "group": "sport",
          "x": 0.9579594163996641,
          "y": -1.7337537791991575
         },
         {
          "group": "sport",
          "x": 1.551006859269169,
          "y": -0.8329480956215821
         },
         {
          "group": "sport",
          "x": 1.524094584498034,
          "y": -0.27852226682720943
         },
         {
          "group": "sport",
          "x": 0.5326794054338996,
          "y": -0.7509041606745839
         },
         {
          "group": "sport",
          "x": 1.1317140704298516,
          "y": 0.22969655418721371
         },
         {
          "group": "sport",
          "x": 0.7118366920212102,
          "y": -1.227401158821968
         },
         {
          "group": "sport",
          "x": 0.342884361544121,
          "y": 0.19049300663929414
         },
         {
          "group": "sport",
          "x": 1.3305552071495002,
          "y": -0.44921763392131125
         },
         {
          "group": "sport",
          "x": 1.429495588105959,
          "y": -0.23426705585922827
         },
         {
          "group": "sport",
          "x": 1.4414682801923109,
          "y": -0.3663661881679308
         },
         {
          "group": "sport",
          "x": 0.7870194899622048,
          "y": -0.45733855585523164
         },
         {
          "group": "sport",
          "x": 0.7290407666233841,
          "y": -1.3426663499227964
         },
         {
          "group": "sport",
          "x": 1.3347480739932127,
          "y": -0.6687382678209796
         },
         {
          "group": "sport",
          "x": 1.4450757472089,
          "y": -0.8725319278890636
         },
         {
          "group": "sport",
          "x": 0.925952640698519,
          "y": -0.7738145014251325
         },
         {
          "group": "sport",
          "x": 0.9399443947390178,
          "y": -1.4867725206453255
         },
         {
          "group": "sport",
          "x": 1.157680337985513,
          "y": 1.1822748080434644
         },
         {
          "group": "sport",
          "x": 1.293601887559567,
          "y": -0.6594598556924506
         },
         {
          "group": "sport",
          "x": 1.5566632011936967,
          "y": 0.9380143778739133
         },
         {
          "group": "sport",
          "x": 1.2496330514356637,
          "y": -0.24776345758874166
         },
         {
          "group": "sport",
          "x": 0.8298677906064292,
          "y": -2.13538911350411
         },
         {
          "group": "sport",
          "x": 1.7637384369045188,
          "y": -0.37238667305739337
         },
         {
          "group": "sport",
          "x": 0.9954362501974796,
          "y": -0.3959542934414542
         },
         {
          "group": "sport",
          "x": 0.631312878077828,
          "y": -0.08307637680174206
         },
         {
          "group": "sport",
          "x": 1.5994368283862763,
          "y": -1.0821320988149554
         },
         {
          "group": "sport",
          "x": 1.9166837762439908,
          "y": 0.47745758167752383
         },
         {
          "group": "sport",
          "x": 1.5984378127546879,
          "y": -0.2544464562111509
         },
         {
          "group": "sport",
          "x": 1.0986715400156364,
          "y": -0.6830388102427287
         },
         {
          "group": "sport",
          "x": 0.8899402424749818,
          "y": 0.5476862199671111
         },
         {
          "group": "sport",
          "x": 0.3941038313982504,
          "y": -0.23861579579588157
         },
         {
          "group": "sport",
          "x": 0.9676882905480185,
          "y": 0.3001928181395055
         },
         {
          "group": "sport",
          "x": 1.0784401198583375,
          "y": -0.7017276476760715
         },
         {
          "group": "sport",
          "x": 1.6026889258832822,
          "y": -0.08118565338543933
         },
         {
          "group": "sport",
          "x": 1.0726413109714696,
          "y": -1.038975140464623
         },
         {
          "group": "sport",
          "x": 1.9465847007468922,
          "y": -0.5794833360028917
         },
         {
          "group": "sport",
          "x": 1.9312451498941143,
          "y": -0.388354437619586
         },
         {
          "group": "sport",
          "x": 1.9872379761713952,
          "y": 0.6308027952866073
         },
         {
          "group": "sport",
          "x": 1.1868783834696224,
          "y": -1.6970860126442964
         },
         {
          "group": "sport",
          "x": 0.8293586106574671,
          "y": -0.8832238243923213
         },
         {
          "group": "sport",
          "x": 0.835627145103615,
          "y": -1.0402393519269004
         },
         {
          "group": "sport",
          "x": 1.217066426686849,
          "y": -0.2699375706518581
         },
         {
          "group": "sport",
          "x": 0.3446253444750792,
          "y": 0.20962294653309807
         },
         {
          "group": "sport",
          "x": 0.5724513977240523,
          "y": 0.8146957301528274
         },
         {
          "group": "sport",
          "x": 1.1942748964956065,
          "y": 0.13903135159863905
         },
         {
          "group": "sport",
          "x": 1.5909644017514029,
          "y": -0.9756234208684538
         },
         {
          "group": "sport",
          "x": 0.7691729578206644,
          "y": -1.1678719222398464
         },
         {
          "group": "sport",
          "x": 1.5475335322892205,
          "y": -0.15895767864919402
         },
         {
          "group": "sport",
          "x": 0.4064759354018204,
          "y": 0.25942065312839074
         },
         {
          "group": "sport",
          "x": 1.1498590609089132,
          "y": 0.4529623880817887
         },
         {
          "group": "sport",
          "x": 1.3139116676168865,
          "y": 0.020203168940493166
         },
         {
          "group": "sport",
          "x": 1.7460107868446078,
          "y": -0.27452169070405463
         },
         {
          "group": "sport",
          "x": 1.1758855981148397,
          "y": -0.6129928397286813
         },
         {
          "group": "sport",
          "x": 1.3152573338305595,
          "y": 0.21297161666663242
         },
         {
          "group": "sport",
          "x": 1.4910027216885888,
          "y": 0.43126577811053673
         },
         {
          "group": "sport",
          "x": 1.2931616395037973,
          "y": -1.33688535016717
         },
         {
          "group": "sport",
          "x": 1.9534784429287724,
          "y": -0.7796137646645066
         },
         {
          "group": "sport",
          "x": 1.4612944238041792,
          "y": -0.2856484560838847
         },
         {
          "group": "sport",
          "x": 1.5609803788577077,
          "y": 0.4097593752927953
         },
         {
          "group": "sport",
          "x": 0.47746589949155055,
          "y": -0.4545762180402252
         },
         {
          "group": "sport",
          "x": 0.5065747559027912,
          "y": -2.2002076345995647
         },
         {
          "group": "sport",
          "x": 1.3249925784143666,
          "y": -0.27784267336609053
         },
         {
          "group": "sport",
          "x": 1.339454794019565,
          "y": -0.33871196133142445
         },
         {
          "group": "sport",
          "x": 1.0670274808858302,
          "y": -0.3513496130474859
         },
         {
          "group": "sport",
          "x": 1.944235247495898,
          "y": 0.519393573351728
         },
         {
          "group": "sport",
          "x": 1.589254745211605,
          "y": 0.5963758002734659
         },
         {
          "group": "sport",
          "x": 1.4586462037799213,
          "y": 0.02487619479828766
         },
         {
          "group": "sport",
          "x": 1.7422519209983844,
          "y": 0.5947317320443658
         },
         {
          "group": "sport",
          "x": 0.8109403054127856,
          "y": 0.8408539564989699
         },
         {
          "group": "sport",
          "x": 0.5563301920788449,
          "y": -0.819303348159789
         },
         {
          "group": "sport",
          "x": 1.2297428351590411,
          "y": -0.3906305136424608
         },
         {
          "group": "sport",
          "x": 1.1062856377963937,
          "y": 0.808378972988504
         },
         {
          "group": "sport",
          "x": 1.1204273432502552,
          "y": -0.5124954102066883
         },
         {
          "group": "sport",
          "x": 1.2844391187348552,
          "y": 0.13580497531269503
         },
         {
          "group": "sport",
          "x": 1.0413358237391903,
          "y": 0.29646311472348164
         },
         {
          "group": "sport",
          "x": 0.7848213384611751,
          "y": 0.45801387792356996
         },
         {
          "group": "sport",
          "x": 1.118887668316198,
          "y": 0.1237682496433033
         },
         {
          "group": "sport",
          "x": 1.5506999831754762,
          "y": -0.783120333205037
         },
         {
          "group": "sport",
          "x": 0.9254424618282392,
          "y": -0.7982004303020312
         },
         {
          "group": "sport",
          "x": 1.5963257830716013,
          "y": -0.29268081806843216
         },
         {
          "group": "sport",
          "x": 0.49890225215294165,
          "y": -1.5001504719770404
         },
         {
          "group": "sport",
          "x": 0.7034202141113572,
          "y": -0.14676442587527222
         },
         {
          "group": "sport",
          "x": 0.540890662002932,
          "y": 1.2470942682407977
         },
         {
          "group": "sport",
          "x": 0.6709760314704225,
          "y": 0.575271039662233
         },
         {
          "group": "sport",
          "x": 0.6718639142387168,
          "y": -1.612512216033177
         },
         {
          "group": "sport",
          "x": 1.178320684343105,
          "y": 0.3540523434631883
         },
         {
          "group": "sport",
          "x": 0.3801166563286166,
          "y": 0.20222828412161317
         },
         {
          "group": "sport",
          "x": 0.8468659146402076,
          "y": 0.37474110167703334
         },
         {
          "group": "sport",
          "x": 0.7319191600520709,
          "y": -0.5791143269450442
         },
         {
          "group": "sport",
          "x": 1.2734818373895491,
          "y": -0.3139970924831524
         },
         {
          "group": "sport",
          "x": 0.379198532332549,
          "y": 0.5044139632899644
         },
         {
          "group": "sport",
          "x": 0.9277295736002262,
          "y": -0.010053175792614723
         },
         {
          "group": "sport",
          "x": 1.3443832434214424,
          "y": -0.7577240309876933
         },
         {
          "group": "sport",
          "x": 0.5618301679902883,
          "y": -0.07133095681421177
         },
         {
          "group": "sport",
          "x": 1.2682959885059313,
          "y": -1.2714526900085699
         },
         {
          "group": "sport",
          "x": 0.3863876049880126,
          "y": -0.5829501937505759
         },
         {
          "group": "sport",
          "x": 0.9207308784535312,
          "y": -0.09751704349565596
         },
         {
          "group": "sport",
          "x": 2.181438137542024,
          "y": -0.12172854499084872
         },
         {
          "group": "sport",
          "x": 0.3005184216782051,
          "y": -1.1687058693607217
         },
         {
          "group": "sport",
          "x": 1.2418371978603635,
          "y": -0.6429491042388765
         },
         {
          "group": "sport",
          "x": 1.3318671441335383,
          "y": 0.1641094203165432
         },
         {
          "group": "sport",
          "x": 1.094657091658911,
          "y": -0.7489053443329808
         },
         {
          "group": "sport",
          "x": 0.644349302084749,
          "y": -0.8407941901212233
         },
         {
          "group": "sport",
          "x": 0.7749320093748128,
          "y": 0.4008022263562314
         },
         {
          "group": "sport",
          "x": 1.3814261226066051,
          "y": -0.4651801999449642
         },
         {
          "group": "sport",
          "x": 0.06757897854312017,
          "y": -1.5387565830186267
         },
         {
          "group": "sport",
          "x": 0.8573746094272243,
          "y": -1.4516709416504616
         },
         {
          "group": "sport",
          "x": 0.39979064397583797,
          "y": -0.07929973820925552
         },
         {
          "group": "sport",
          "x": 1.0141806504389888,
          "y": -0.6452205010366264
         },
         {
          "group": "sport",
          "x": 1.1483978368437897,
          "y": -0.39940196762713476
         },
         {
          "group": "sport",
          "x": 1.8251154593102978,
          "y": 0.6390368080594878
         },
         {
          "group": "sport",
          "x": 1.1110906970909893,
          "y": -1.442309277714818
         },
         {
          "group": "sport",
          "x": 0.5391744858517038,
          "y": -1.0717473967660986
         },
         {
          "group": "sport",
          "x": 1.3349437879101826,
          "y": -0.1833762219725374
         },
         {
          "group": "sport",
          "x": 1.2204287870438477,
          "y": -0.9551112125210331
         },
         {
          "group": "sport",
          "x": 1.3695783876804148,
          "y": -1.3899026306466113
         },
         {
          "group": "sport",
          "x": 1.2357313226981819,
          "y": -2.774492202049421
         },
         {
          "group": "sport",
          "x": 0.759301436327488,
          "y": -0.35166891087101537
         },
         {
          "group": "sport",
          "x": 0.7808150060691968,
          "y": -1.0287519543239514
         },
         {
          "group": "sport",
          "x": 0.12482763632417929,
          "y": 0.20028240116881296
         },
         {
          "group": "sport",
          "x": 0.6003683007284694,
          "y": -2.029373699561339
         },
         {
          "group": "sport",
          "x": 1.1120601608536496,
          "y": -0.9952567735766948
         },
         {
          "group": "sport",
          "x": 0.8416967354818446,
          "y": 0.04846792646902956
         },
         {
          "group": "sport",
          "x": 1.0172056386238384,
          "y": -0.7440507850363554
         },
         {
          "group": "sport",
          "x": 0.9991877032042727,
          "y": -1.9197798461083997
         },
         {
          "group": "sport",
          "x": 1.2975345580629534,
          "y": -0.8360223230955934
         },
         {
          "group": "sport",
          "x": 1.093391814809909,
          "y": -0.7265286734279409
         },
         {
          "group": "sport",
          "x": 1.0031353943466457,
          "y": -1.643363386110742
         },
         {
          "group": "sport",
          "x": 1.5017509908402324,
          "y": -0.5167533291434087
         },
         {
          "group": "sport",
          "x": 0.9778536929510836,
          "y": -0.23187354075966357
         },
         {
          "group": "sport",
          "x": 1.8581810468571596,
          "y": -1.1391365480032356
         },
         {
          "group": "sport",
          "x": 1.42920119398669,
          "y": 0.6873735242370937
         },
         {
          "group": "sport",
          "x": 1.2592115314334151,
          "y": -0.3569411536496899
         },
         {
          "group": "sport",
          "x": 1.8918931984825078,
          "y": 1.307077688691747
         },
         {
          "group": "sport",
          "x": 1.3758132181138403,
          "y": -0.5742129433432016
         },
         {
          "group": "sport",
          "x": 1.8762177200650243,
          "y": -0.11612767621356733
         },
         {
          "group": "sport",
          "x": 1.6599212251043487,
          "y": -0.5313813091577657
         },
         {
          "group": "sport",
          "x": 1.3764638472364197,
          "y": -0.2920564713557788
         },
         {
          "group": "sport",
          "x": 1.4332941606520297,
          "y": -0.8532124736044163
         },
         {
          "group": "sport",
          "x": 2.5207379327438693,
          "y": -0.8243606473801479
         },
         {
          "group": "sport",
          "x": 1.4590967930499061,
          "y": -0.9082727244288984
         },
         {
          "group": "sport",
          "x": 1.2144172875566015,
          "y": 0.6011350065476856
         },
         {
          "group": "sport",
          "x": 0.961448961410128,
          "y": -0.692716339200609
         },
         {
          "group": "sport",
          "x": 2.211503962735668,
          "y": 0.2307832766854785
         },
         {
          "group": "sport",
          "x": 2.69559921058822,
          "y": 2.8381687679045404
         },
         {
          "group": "sport",
          "x": 2.6923417278333974,
          "y": 0.28585376662774753
         },
         {
          "group": "sport",
          "x": 2.7642341376444937,
          "y": 1.2868461122684767
         },
         {
          "group": "sport",
          "x": 1.9362607587948424,
          "y": 1.3866723085422525
         },
         {
          "group": "sport",
          "x": 3.1607279606884506,
          "y": 0.7075419706432002
         },
         {
          "group": "sport",
          "x": 0.9780342584880461,
          "y": 1.3109757353113916
         },
         {
          "group": "sport",
          "x": 1.4899977686058605,
          "y": 0.4206002610695596
         },
         {
          "group": "sport",
          "x": 1.5513330254450648,
          "y": 1.953852045659105
         },
         {
          "group": "sport",
          "x": 3.1266869084779527,
          "y": 2.017638142699286
         },
         {
          "group": "sport",
          "x": 1.827279815733251,
          "y": 1.7779160957043765
         },
         {
          "group": "sport",
          "x": 0.8141081221266233,
          "y": 1.9580962140225002
         },
         {
          "group": "sport",
          "x": 1.3325856496627042,
          "y": 0.7432698381143232
         },
         {
          "group": "sport",
          "x": 2.467369527874606,
          "y": -0.6017806150824586
         },
         {
          "group": "sport",
          "x": 1.7848719656857064,
          "y": 0.4331012910950886
         },
         {
          "group": "sport",
          "x": 2.1807741604483524,
          "y": -0.08968006778954539
         },
         {
          "group": "sport",
          "x": 1.942920041397314,
          "y": 0.8015854418460623
         },
         {
          "group": "sport",
          "x": 1.4463181163014973,
          "y": 2.105826952697281
         },
         {
          "group": "sport",
          "x": 1.9919734338330555,
          "y": -0.8039333828798705
         },
         {
          "group": "sport",
          "x": 2.6449770960068033,
          "y": 1.5190247431289117
         },
         {
          "group": "sport",
          "x": 3.3362041640179343,
          "y": 0.4908641233956821
         },
         {
          "group": "sport",
          "x": 2.7024533508357504,
          "y": 1.5630487328483322
         },
         {
          "group": "sport",
          "x": 1.2805377181039608,
          "y": 0.24974680305866792
         },
         {
          "group": "sport",
          "x": 1.280747279626306,
          "y": 0.8768629830276565
         },
         {
          "group": "sport",
          "x": 2.861257675454007,
          "y": 1.6679298592058276
         },
         {
          "group": "sport",
          "x": 2.212654388683697,
          "y": 1.15939906560464
         },
         {
          "group": "sport",
          "x": 2.911930746827106,
          "y": 3.247040660713622
         },
         {
          "group": "sport",
          "x": 1.901582382952103,
          "y": 1.3637039379868134
         },
         {
          "group": "sport",
          "x": 1.697102784076213,
          "y": 0.847204977493271
         },
         {
          "group": "sport",
          "x": 0.7041842195779857,
          "y": -0.1888620197329587
         },
         {
          "group": "sport",
          "x": 2.7862680119481267,
          "y": 2.1480743115243084
         },
         {
          "group": "sport",
          "x": 2.0379346734403314,
          "y": 0.8637117629112773
         },
         {
          "group": "sport",
          "x": 1.3383438710394013,
          "y": 0.24938394871356018
         },
         {
          "group": "sport",
          "x": 2.793276490413254,
          "y": 2.4410244729416446
         },
         {
          "group": "sport",
          "x": 1.2443554130076604,
          "y": 1.1790509339230828
         },
         {
          "group": "sport",
          "x": 1.6513769558521432,
          "y": 0.6333684173673191
         },
         {
          "group": "sport",
          "x": 2.2582937220143307,
          "y": 1.616553423028232
         },
         {
          "group": "sport",
          "x": 1.8191324903610795,
          "y": 0.33595060863090226
         },
         {
          "group": "sport",
          "x": 1.0670210924203947,
          "y": -0.3238644617415345
         },
         {
          "group": "sport",
          "x": 2.7773684387664503,
          "y": 0.2960051973820244
         },
         {
          "group": "sport",
          "x": 1.4976500640507893,
          "y": 1.5119292368919124
         },
         {
          "group": "sport",
          "x": 0.8352733124446122,
          "y": 1.2648130846634216
         },
         {
          "group": "sport",
          "x": 2.1859167600503655,
          "y": 1.6231605162389209
         },
         {
          "group": "sport",
          "x": 1.1962317384682852,
          "y": -0.6314567429520649
         },
         {
          "group": "sport",
          "x": 1.3435508955653856,
          "y": -1.3931565555548657
         },
         {
          "group": "sport",
          "x": 2.3081146816257307,
          "y": 1.3602445738745816
         },
         {
          "group": "sport",
          "x": 2.6662814159919406,
          "y": 2.333131976775747
         },
         {
          "group": "sport",
          "x": 2.8838041615069954,
          "y": 0.7657659438940284
         },
         {
          "group": "sport",
          "x": 2.727409759761476,
          "y": 1.3868551603789405
         },
         {
          "group": "sport",
          "x": 2.592719003012658,
          "y": 1.6790414805671952
         },
         {
          "group": "sport",
          "x": 2.1323789467215297,
          "y": 1.122244561431546
         },
         {
          "group": "sport",
          "x": 2.3056623725951226,
          "y": 1.5552901328220923
         },
         {
          "group": "sport",
          "x": 2.089087586725817,
          "y": -0.029939762708934146
         },
         {
          "group": "sport",
          "x": 1.7748064968467785,
          "y": 1.6415021971708383
         },
         {
          "group": "sport",
          "x": 3.321135356247205,
          "y": 2.2914397924626138
         },
         {
          "group": "sport",
          "x": 0.8412526959882202,
          "y": -1.1601559499640797
         },
         {
          "group": "sport",
          "x": 2.328688816725592,
          "y": 2.4653550118439296
         },
         {
          "group": "sport",
          "x": 2.8446135086475564,
          "y": 1.8849047737299913
         },
         {
          "group": "sport",
          "x": 4.177518022460136,
          "y": 1.9744033820876281
         },
         {
          "group": "sport",
          "x": 2.1971342439421733,
          "y": 0.3639058668238765
         },
         {
          "group": "sport",
          "x": 2.704402211325467,
          "y": 2.181299373486425
         },
         {
          "group": "sport",
          "x": 1.3542790138213616,
          "y": 0.27494027615787847
         },
         {
          "group": "sport",
          "x": 1.0292632752658124,
          "y": -0.4873611461845165
         },
         {
          "group": "sport",
          "x": 2.3464410132924742,
          "y": 0.2045352739161815
         },
         {
          "group": "sport",
          "x": 1.680308465664909,
          "y": 0.4140495035143516
         },
         {
          "group": "sport",
          "x": 1.6420617053285143,
          "y": 0.20768814589536605
         },
         {
          "group": "sport",
          "x": 2.2634478614839484,
          "y": 3.771366971247262
         },
         {
          "group": "sport",
          "x": 1.454347822190755,
          "y": 1.0186930474893034
         },
         {
          "group": "sport",
          "x": 3.090282792086987,
          "y": 1.622596010125311
         },
         {
          "group": "sport",
          "x": 2.350834082537237,
          "y": 1.77311260429678
         },
         {
          "group": "sport",
          "x": 3.3554170373826904,
          "y": 1.6030832355009499
         },
         {
          "group": "sport",
          "x": 3.0433144945871966,
          "y": 2.2938603257571804
         },
         {
          "group": "sport",
          "x": 2.723045274030254,
          "y": 3.0298296584372966
         },
         {
          "group": "sport",
          "x": 2.5587429160963273,
          "y": 0.6157381821284652
         },
         {
          "group": "sport",
          "x": 1.6765187420874892,
          "y": -0.30379514667564
         },
         {
          "group": "sport",
          "x": 2.813796454535649,
          "y": 2.1059792256561027
         },
         {
          "group": "sport",
          "x": 2.1925590136651882,
          "y": -1.6228380137169804
         },
         {
          "group": "sport",
          "x": 1.8253619249962436,
          "y": 0.048553532146934274
         },
         {
          "group": "sport",
          "x": 0.522238076305899,
          "y": 0.3256975689868794
         },
         {
          "group": "sport",
          "x": 2.471278240512382,
          "y": 1.6995873291301304
         },
         {
          "group": "sport",
          "x": 1.7615138380762116,
          "y": 1.8809179012380366
         },
         {
          "group": "sport",
          "x": 1.7398019595932255,
          "y": 1.602053480761532
         },
         {
          "group": "sport",
          "x": 1.5651480561606472,
          "y": -2.156149711945191
         },
         {
          "group": "sport",
          "x": 2.384553862802819,
          "y": 1.5648959597598728
         },
         {
          "group": "sport",
          "x": 0.9061307429851351,
          "y": 0.5908112812266195
         },
         {
          "group": "sport",
          "x": 3.589245099206573,
          "y": 0.7280723933008029
         },
         {
          "group": "sport",
          "x": 3.169154107049568,
          "y": -1.227877737531221
         },
         {
          "group": "sport",
          "x": 1.8869800172701612,
          "y": -0.9565188559550408
         },
         {
          "group": "sport",
          "x": 1.6306644996386825,
          "y": 1.001009239125679
         },
         {
          "group": "sport",
          "x": 1.038427542982931,
          "y": -0.8858336411417036
         },
         {
          "group": "sport",
          "x": 3.4118861326870724,
          "y": 1.057322610156486
         },
         {
          "group": "sport",
          "x": 2.939260084384836,
          "y": 0.3394715359736517
         },
         {
          "group": "business",
          "x": -1.8320786793168657,
          "y": -1.398251468591015
         },
         {
          "group": "business",
          "x": -0.03879376295654253,
          "y": 0.6839235214051818
         },
         {
          "group": "business",
          "x": -0.4919703125397394,
          "y": 0.697670212040162
         },
         {
          "group": "business",
          "x": 0.8183080911498278,
          "y": -0.11550795968834934
         },
         {
          "group": "business",
          "x": -0.7073951439896478,
          "y": 1.7136320373485925
         },
         {
          "group": "business",
          "x": 1.2709571533352115,
          "y": 0.17572217173135207
         },
         {
          "group": "business",
          "x": -0.037578897276005115,
          "y": -0.25938822344300516
         },
         {
          "group": "business",
          "x": 0.38249034941274646,
          "y": -0.2857133208034128
         },
         {
          "group": "business",
          "x": -1.3737283644644829,
          "y": 1.0236070184533923
         },
         {
          "group": "business",
          "x": 0.11792216171333868,
          "y": -0.48907169952110935
         },
         {
          "group": "business",
          "x": -0.26178378505182087,
          "y": -0.6797021348078265
         },
         {
          "group": "business",
          "x": 1.1578434338134294,
          "y": -0.35460376033042607
         },
         {
          "group": "business",
          "x": -1.660819782297721,
          "y": 0.10133827448071854
         },
         {
          "group": "business",
          "x": -2.535257500742854,
          "y": 0.7445956374968045
         },
         {
          "group": "business",
          "x": -0.162063211433664,
          "y": 0.7137278377337458
         },
         {
          "group": "business",
          "x": -0.42012317804334043,
          "y": 0.0029881979615155705
         },
         {
          "group": "business",
          "x": 0.47398824280390867,
          "y": 0.8868763355644125
         },
         {
          "group": "business",
          "x": -1.2613188242856892,
          "y": -1.097102247459466
         },
         {
          "group": "business",
          "x": 2.4440401576950386,
          "y": 0.7721163377906709
         },
         {
          "group": "business",
          "x": -0.9522323654442986,
          "y": -1.114994442728207
         },
         {
          "group": "business",
          "x": -0.14415082003118537,
          "y": 1.4267004171425044
         },
         {
          "group": "business",
          "x": -1.880547977017301,
          "y": 0.27622480334608135
         },
         {
          "group": "business",
          "x": -0.3681724511266417,
          "y": 1.258918524289675
         },
         {
          "group": "business",
          "x": 0.06287603886125126,
          "y": -0.17338300680290464
         },
         {
          "group": "business",
          "x": -0.5645576536145934,
          "y": -1.380748963039847
         },
         {
          "group": "business",
          "x": -0.13341542350270716,
          "y": 0.39894266216925056
         },
         {
          "group": "business",
          "x": -0.8758569048620153,
          "y": 1.678523085446676
         },
         {
          "group": "business",
          "x": -0.613112422202372,
          "y": 0.30635045772577124
         },
         {
          "group": "business",
          "x": -1.5066874475537568,
          "y": 0.35763837526061276
         },
         {
          "group": "business",
          "x": -0.1032034041503786,
          "y": -1.0879281719423943
         },
         {
          "group": "business",
          "x": -0.6006372760555796,
          "y": 0.49922322561458626
         },
         {
          "group": "business",
          "x": -0.5811857081161246,
          "y": 0.327910912182998
         },
         {
          "group": "business",
          "x": -0.14628242271252498,
          "y": 1.1069987833078077
         },
         {
          "group": "business",
          "x": -0.504899594415688,
          "y": -0.3850420494380165
         },
         {
          "group": "business",
          "x": -1.9359837618780198,
          "y": 0.6477204403503682
         },
         {
          "group": "business",
          "x": 0.15772710012514715,
          "y": 1.9562962702860878
         },
         {
          "group": "business",
          "x": 0.11179970294029284,
          "y": 0.10424850513851698
         },
         {
          "group": "business",
          "x": 0.4766928243743206,
          "y": -2.218413829153308
         },
         {
          "group": "business",
          "x": -0.5879596723165194,
          "y": 1.5899362594571234
         },
         {
          "group": "business",
          "x": -0.8174730354063416,
          "y": 1.7354420950059908
         },
         {
          "group": "business",
          "x": -0.3080127349308182,
          "y": -0.27171274926162325
         },
         {
          "group": "business",
          "x": -1.2282634682470563,
          "y": 0.07251188537705532
         },
         {
          "group": "business",
          "x": -0.9603145162742096,
          "y": 0.37520627844464277
         },
         {
          "group": "business",
          "x": 0.19814897643494914,
          "y": -2.1413406538643445
         },
         {
          "group": "business",
          "x": -1.0367976921479394,
          "y": -1.0599057296927163
         },
         {
          "group": "business",
          "x": -1.1108390068376022,
          "y": 0.6519511627725382
         },
         {
          "group": "business",
          "x": -0.045471811639540755,
          "y": -1.9764093496554267
         },
         {
          "group": "business",
          "x": 0.4416416930122792,
          "y": 1.6898329653431232
         },
         {
          "group": "business",
          "x": -1.5700093257942405,
          "y": 0.16096259761615833
         },
         {
          "group": "business",
          "x": 1.334276729926473,
          "y": -0.6857295241834259
         },
         {
          "group": "business",
          "x": 1.1853185116701122,
          "y": 2.6410033494367555
         },
         {
          "group": "business",
          "x": 0.2827010667975766,
          "y": -0.08670398458677732
         },
         {
          "group": "business",
          "x": -0.2683075569210302,
          "y": 0.6514012485500369
         },
         {
          "group": "business",
          "x": -0.17411826690393312,
          "y": -0.9761708899105773
         },
         {
          "group": "business",
          "x": -0.3687630337739261,
          "y": 0.2717260451732279
         },
         {
          "group": "business",
          "x": 0.47531988593553387,
          "y": 0.11855842837394022
         },
         {
          "group": "business",
          "x": 1.0924134501573246,
          "y": -0.35679768048376603
         },
         {
          "group": "business",
          "x": -0.13411983933736593,
          "y": 1.7600353049093118
         },
         {
          "group": "business",
          "x": -1.1133472051985494,
          "y": 0.004939067518054567
         },
         {
          "group": "business",
          "x": -0.33620853474538115,
          "y": 0.12385616765854335
         },
         {
          "group": "business",
          "x": -1.0364960564395072,
          "y": 0.7148765515936444
         },
         {
          "group": "business",
          "x": 0.9788695522861984,
          "y": 0.6526395499201167
         },
         {
          "group": "business",
          "x": -1.4347748834357936,
          "y": 1.7663892507537067
         },
         {
          "group": "business",
          "x": -1.5889266385053815,
          "y": -0.03080273039747229
         },
         {
          "group": "business",
          "x": -1.0104446945467889,
          "y": 0.8938108436261322
         },
         {
          "group": "business",
          "x": -0.4788441659438009,
          "y": -0.7372598588970775
         },
         {
          "group": "business",
          "x": -0.7872140074547361,
          "y": 1.725343004850078
         },
         {
          "group": "business",
          "x": -1.9591884629379988,
          "y": 0.5287819117934276
         },
         {
          "group": "business",
          "x": 0.010105211653717807,
          "y": -2.110843448491871
         },
         {
          "group": "business",
          "x": 0.129605132621105,
          "y": -0.31209252061026155
         },
         {
          "group": "business",
          "x": -1.2257451674270003,
          "y": -1.6878133768440795
         },
         {
          "group": "business",
          "x": 1.1924832112609123,
          "y": -0.7490392852121788
         },
         {
          "group": "business",
          "x": -1.112593365056751,
          "y": 1.4968838887780958
         },
         {
          "group": "business",
          "x": -0.30287543860456717,
          "y": -1.1901626168115937
         },
         {
          "group": "business",
          "x": -0.26020954841288835,
          "y": 0.617988009186604
         },
         {
          "group": "business",
          "x": 0.4319402514064242,
          "y": -1.535715546095498
         },
         {
          "group": "business",
          "x": -1.375969142757589,
          "y": 1.0764735250202386
         },
         {
          "group": "business",
          "x": -1.484371042983187,
          "y": -1.3253405103753098
         },
         {
          "group": "business",
          "x": 0.4024377729455476,
          "y": 1.4726261363047828
         },
         {
          "group": "business",
          "x": -1.7625188865987156,
          "y": -1.5378713595237472
         },
         {
          "group": "business",
          "x": 0.11155621942949381,
          "y": 1.006873929968775
         },
         {
          "group": "business",
          "x": 0.696306213515318,
          "y": -0.9850458095130281
         },
         {
          "group": "business",
          "x": -1.1836554302921996,
          "y": 0.054216595206111426
         },
         {
          "group": "business",
          "x": 0.48843560875079883,
          "y": 0.4487761192002868
         },
         {
          "group": "business",
          "x": -1.6494320223576187,
          "y": 0.046439099722734314
         },
         {
          "group": "business",
          "x": 1.752363978229022,
          "y": 0.4718165191099477
         },
         {
          "group": "business",
          "x": -1.689972041214296,
          "y": 0.7135214478860123
         },
         {
          "group": "business",
          "x": 0.2890004553514525,
          "y": -0.1259934050169128
         },
         {
          "group": "business",
          "x": -0.4111452276716176,
          "y": 0.4101323526511735
         },
         {
          "group": "business",
          "x": -0.10540651979392364,
          "y": 1.4130463005112377
         },
         {
          "group": "business",
          "x": -0.8046128121142503,
          "y": 1.1187528178763106
         },
         {
          "group": "business",
          "x": -1.089003733536496,
          "y": -1.8702392094591107
         },
         {
          "group": "business",
          "x": -0.8791480930753197,
          "y": -1.851228376667453
         },
         {
          "group": "business",
          "x": 0.2020522010164616,
          "y": -0.421405395014833
         },
         {
          "group": "business",
          "x": -1.458003653258255,
          "y": 2.7715688136692105
         },
         {
          "group": "business",
          "x": -0.29069466189962295,
          "y": 0.1123833613820363
         },
         {
          "group": "business",
          "x": -1.6870266580980122,
          "y": 0.7526996015557545
         },
         {
          "group": "business",
          "x": -1.7780678650062347,
          "y": -1.0450670169075769
         },
         {
          "group": "business",
          "x": -1.450943051088904,
          "y": 0.4136380990873876
         },
         {
          "group": "business",
          "x": 0.7444849595050075,
          "y": -1.2423064021174373
         },
         {
          "group": "business",
          "x": 1.0825905791550852,
          "y": -2.817229064589568
         },
         {
          "group": "business",
          "x": -0.5976238250289108,
          "y": 0.07798231510779159
         },
         {
          "group": "business",
          "x": -0.6568632602880254,
          "y": 1.6166996811631658
         },
         {
          "group": "business",
          "x": -0.5334740751391914,
          "y": 0.590542612808035
         },
         {
          "group": "business",
          "x": -1.195739980190067,
          "y": 0.6478055975833672
         },
         {
          "group": "business",
          "x": -1.0804423572563329,
          "y": -0.4696682479609779
         },
         {
          "group": "business",
          "x": -0.4286888465434075,
          "y": -0.03503321081273804
         },
         {
          "group": "business",
          "x": 0.4788494412326972,
          "y": 1.335554267349383
         },
         {
          "group": "business",
          "x": -1.013427818586468,
          "y": -0.6730401009964424
         },
         {
          "group": "business",
          "x": -0.7188421396798866,
          "y": 0.06353354518743204
         },
         {
          "group": "business",
          "x": -1.239776291655471,
          "y": 0.45350965099046614
         },
         {
          "group": "business",
          "x": -1.978658368758624,
          "y": 0.5460955609005693
         },
         {
          "group": "business",
          "x": 1.0425368809456963,
          "y": 1.4785314152134892
         },
         {
          "group": "business",
          "x": 1.225162475887788,
          "y": -0.31216186140003205
         },
         {
          "group": "business",
          "x": -2.064024531803984,
          "y": 0.7160284925118443
         },
         {
          "group": "business",
          "x": 1.821779654233515,
          "y": 0.03668230876659633
         },
         {
          "group": "business",
          "x": -1.3178457851059018,
          "y": -2.487567697872383
         },
         {
          "group": "business",
          "x": 1.9184539637825297,
          "y": -1.0664261957058732
         },
         {
          "group": "business",
          "x": -2.370568308480092,
          "y": -0.3882695068511471
         },
         {
          "group": "business",
          "x": 2.094924745788824,
          "y": 0.6932663345088915
         },
         {
          "group": "business",
          "x": -0.7257989756753315,
          "y": 1.504543859288799
         },
         {
          "group": "business",
          "x": -1.8697038601348304,
          "y": -1.8721889630510193
         },
         {
          "group": "business",
          "x": -0.055174844984987224,
          "y": 0.8819058092617964
         },
         {
          "group": "business",
          "x": -0.4751402412668209,
          "y": 3.047275732436562
         },
         {
          "group": "business",
          "x": -1.1682850817075574,
          "y": -2.126391398225272
         },
         {
          "group": "business",
          "x": -2.092654735264658,
          "y": 0.8153942976375632
         },
         {
          "group": "business",
          "x": -0.6553841838355233,
          "y": 0.867983538439124
         },
         {
          "group": "business",
          "x": -1.3401043986671686,
          "y": -1.4648888998893763
         },
         {
          "group": "business",
          "x": -0.5661128332876934,
          "y": -0.7682670884088475
         },
         {
          "group": "business",
          "x": -0.8716671708648033,
          "y": 0.39809832383049804
         },
         {
          "group": "business",
          "x": -0.5753543425651426,
          "y": 1.7926467727653563
         },
         {
          "group": "business",
          "x": 0.2988754700205959,
          "y": 1.1988689185904935
         },
         {
          "group": "business",
          "x": -0.3777782147161539,
          "y": -1.1558548715610262
         },
         {
          "group": "business",
          "x": 0.5939363275029136,
          "y": -1.6436112958828895
         },
         {
          "group": "business",
          "x": -3.0384448860848683,
          "y": -0.9289834394674299
         },
         {
          "group": "business",
          "x": 0.07216626633292363,
          "y": -0.10510960943875246
         },
         {
          "group": "business",
          "x": -0.8767490156018749,
          "y": 0.08275880987290285
         },
         {
          "group": "business",
          "x": -1.1499433962538583,
          "y": -2.893566249107506
         },
         {
          "group": "business",
          "x": 1.5286658488903568,
          "y": 0.24558702082017134
         },
         {
          "group": "business",
          "x": -0.5791499820739404,
          "y": -0.12055422974633064
         },
         {
          "group": "business",
          "x": 0.325387717446096,
          "y": -0.9894169182526672
         },
         {
          "group": "business",
          "x": 0.03221339599490689,
          "y": 0.02944274870272727
         },
         {
          "group": "business",
          "x": 0.903641133464292,
          "y": 2.1105406333685908
         },
         {
          "group": "business",
          "x": -1.8757553504782674,
          "y": 1.2470156394634553
         },
         {
          "group": "business",
          "x": -2.380939514872337,
          "y": 0.36923893934258945
         },
         {
          "group": "business",
          "x": -1.5765941803196153,
          "y": 0.6788773926792389
         },
         {
          "group": "business",
          "x": -1.1606385487651125,
          "y": 0.5531447055061998
         },
         {
          "group": "business",
          "x": 1.5421691355209322,
          "y": -0.6830564024578014
         },
         {
          "group": "business",
          "x": -2.504567435707837,
          "y": -0.21310830278669202
         },
         {
          "group": "business",
          "x": 1.0827797500973382,
          "y": 0.3651419499468704
         },
         {
          "group": "business",
          "x": -2.340983668693393,
          "y": -0.19135443366418553
         },
         {
          "group": "business",
          "x": 2.450005548154382,
          "y": 0.47277096003416025
         },
         {
          "group": "business",
          "x": 0.5446384283665809,
          "y": -0.2968099489262333
         },
         {
          "group": "business",
          "x": -2.3941923740876865,
          "y": 0.008447198869026451
         },
         {
          "group": "business",
          "x": -0.518709258172387,
          "y": -0.5906583379692304
         },
         {
          "group": "business",
          "x": -1.5547576597742938,
          "y": 0.24501691250986285
         },
         {
          "group": "business",
          "x": -1.1128006195968476,
          "y": 0.9984791665306437
         },
         {
          "group": "business",
          "x": -2.0502951362335575,
          "y": -0.8344396557918587
         },
         {
          "group": "business",
          "x": -0.9411046402052867,
          "y": -1.546419497071971
         },
         {
          "group": "business",
          "x": -0.3354738761979404,
          "y": -0.6247181161478478
         },
         {
          "group": "business",
          "x": -1.62714576727547,
          "y": -0.6337108233768385
         },
         {
          "group": "business",
          "x": 0.7950746250303431,
          "y": 1.0382005322471302
         },
         {
          "group": "business",
          "x": -1.2563596076288643,
          "y": 0.595868448908115
         },
         {
          "group": "business",
          "x": 0.6759571586891335,
          "y": 0.76761395758606
         },
         {
          "group": "business",
          "x": -0.644609036249054,
          "y": -3.2208125859378103
         },
         {
          "group": "business",
          "x": 1.024692537328282,
          "y": 0.07173812362326625
         },
         {
          "group": "business",
          "x": 0.8301886052163813,
          "y": -0.34935518609359706
         },
         {
          "group": "business",
          "x": -0.3265893017476851,
          "y": -0.02128950081760669
         },
         {
          "group": "business",
          "x": -2.5187566139063216,
          "y": 0.6531076527830973
         },
         {
          "group": "business",
          "x": 0.715126828555519,
          "y": 1.3113288605603257
         },
         {
          "group": "business",
          "x": -1.0636679206999908,
          "y": -0.5580786879554962
         },
         {
          "group": "business",
          "x": -0.11335725597971318,
          "y": 1.2211702520714411
         },
         {
          "group": "business",
          "x": -2.2290731078822086,
          "y": -0.604178044525325
         },
         {
          "group": "business",
          "x": -0.8280318279275543,
          "y": -0.11165777886184586
         },
         {
          "group": "business",
          "x": -0.2641045451821173,
          "y": 0.6047152150100996
         },
         {
          "group": "business",
          "x": 0.29196343393494134,
          "y": 0.8379036638268986
         },
         {
          "group": "business",
          "x": -0.5959163876256398,
          "y": 0.6651560729756492
         },
         {
          "group": "business",
          "x": -1.4127849432347497,
          "y": 1.0337185377950622
         },
         {
          "group": "business",
          "x": 0.9902721801500866,
          "y": -0.0026979267175977753
         },
         {
          "group": "business",
          "x": 0.361197989698545,
          "y": 0.6550107279669649
         },
         {
          "group": "business",
          "x": -0.6095712120891724,
          "y": -1.277520660946504
         },
         {
          "group": "business",
          "x": -1.9354860022036273,
          "y": 2.012174108663235
         },
         {
          "group": "business",
          "x": 1.581623698843574,
          "y": -0.14181342023214638
         },
         {
          "group": "business",
          "x": -1.439718698500749,
          "y": 1.5494251098637029
         },
         {
          "group": "business",
          "x": -0.8737311455421088,
          "y": 1.705084592380096
         },
         {
          "group": "business",
          "x": -0.15656625266516935,
          "y": -0.6068228181443105
         },
         {
          "group": "business",
          "x": 0.34966112935391375,
          "y": -1.3484293073811349
         },
         {
          "group": "business",
          "x": -1.1260508378761016,
          "y": -1.188471823926104
         },
         {
          "group": "business",
          "x": -2.0816098434263726,
          "y": 0.10899457952157642
         },
         {
          "group": "business",
          "x": -0.9707187765878279,
          "y": 0.9168730153436715
         },
         {
          "group": "business",
          "x": -1.1312840358737741,
          "y": 0.27800569656916313
         },
         {
          "group": "business",
          "x": 0.2934002601962153,
          "y": 0.9149545594593999
         },
         {
          "group": "business",
          "x": 1.205599249988912,
          "y": -0.3116741618000433
         },
         {
          "group": "business",
          "x": 0.2729746848748228,
          "y": 1.121617867167402
         },
         {
          "group": "business",
          "x": -1.6431062303337867,
          "y": -1.8232404893216183
         },
         {
          "group": "business",
          "x": -1.564175562522471,
          "y": -0.3483710442942856
         },
         {
          "group": "business",
          "x": -2.353206468658555,
          "y": 0.6100384171049522
         },
         {
          "group": "business",
          "x": -0.35263080637373717,
          "y": 1.6839791624477138
         },
         {
          "group": "business",
          "x": 1.2200658578056902,
          "y": -0.5702218516668903
         },
         {
          "group": "business",
          "x": -1.0539626327402667,
          "y": 0.3150118360712289
         },
         {
          "group": "business",
          "x": -1.9742073046498465,
          "y": 0.5439829440586066
         },
         {
          "group": "business",
          "x": 0.6746912020330185,
          "y": -1.9342400288360677
         },
         {
          "group": "business",
          "x": -1.5296578970045853,
          "y": 1.4169748361700378
         },
         {
          "group": "business",
          "x": 1.2321891651859134,
          "y": -0.7459274855516479
         },
         {
          "group": "business",
          "x": -0.5713887166236533,
          "y": -0.21747497962489803
         },
         {
          "group": "business",
          "x": -0.3054941375113218,
          "y": -0.12740192106845752
         },
         {
          "group": "business",
          "x": 1.1517367064442399,
          "y": -0.5263084602614747
         },
         {
          "group": "business",
          "x": -0.6442707431881858,
          "y": 0.7653655171629672
         },
         {
          "group": "business",
          "x": -1.457543519606318,
          "y": 0.04985761944672315
         },
         {
          "group": "business",
          "x": -2.352151439506951,
          "y": -0.994911129922653
         },
         {
          "group": "business",
          "x": 0.5994874723337623,
          "y": 1.121203856944239
         },
         {
          "group": "business",
          "x": 0.05788179384828434,
          "y": -0.9862889799652615
         },
         {
          "group": "business",
          "x": -2.3602709246973776,
          "y": 0.8631150958261651
         },
         {
          "group": "business",
          "x": -0.438399781073698,
          "y": 0.7408985170401883
         },
         {
          "group": "business",
          "x": -0.24157861936961228,
          "y": -0.07165858691833443
         },
         {
          "group": "business",
          "x": -0.36593097054521373,
          "y": -0.47062901222268433
         },
         {
          "group": "business",
          "x": -0.45856359252592155,
          "y": 1.8865525173930342
         },
         {
          "group": "business",
          "x": 0.7817525993362269,
          "y": 0.19003394102598142
         },
         {
          "group": "business",
          "x": 0.06900870722962373,
          "y": 0.6388126644725243
         },
         {
          "group": "business",
          "x": -1.328070906703811,
          "y": 0.13794078988970562
         },
         {
          "group": "business",
          "x": -1.4825024538175373,
          "y": 0.328098847489261
         },
         {
          "group": "business",
          "x": -0.5051311573013486,
          "y": -1.4352554812646823
         },
         {
          "group": "business",
          "x": -1.0975106738754865,
          "y": -1.344728399737503
         },
         {
          "group": "business",
          "x": -0.05561958877531704,
          "y": -0.6633212894116064
         },
         {
          "group": "business",
          "x": -1.5334610630224308,
          "y": 0.5865209334589526
         },
         {
          "group": "business",
          "x": -0.3407608066121186,
          "y": 1.4839605647498229
         },
         {
          "group": "business",
          "x": 0.36070994011710705,
          "y": -0.5678503703284832
         },
         {
          "group": "business",
          "x": 0.6699078296712851,
          "y": -0.14330048355500546
         },
         {
          "group": "business",
          "x": -0.9817777425116897,
          "y": -0.3143477315378432
         },
         {
          "group": "business",
          "x": -0.5747105977307668,
          "y": 0.2766708280285997
         },
         {
          "group": "business",
          "x": 1.6311226420024114,
          "y": 0.1034639403828068
         },
         {
          "group": "business",
          "x": -2.2522192078608954,
          "y": -0.4946879735289723
         },
         {
          "group": "business",
          "x": -0.6390380344296677,
          "y": -1.5164521046661779
         },
         {
          "group": "business",
          "x": -0.1412496352803439,
          "y": -0.1643536812807219
         },
         {
          "group": "business",
          "x": 0.03934963599547499,
          "y": 1.6612998804533687
         },
         {
          "group": "business",
          "x": -0.749500474166552,
          "y": -0.3252692932500115
         },
         {
          "group": "business",
          "x": -0.4109627301777949,
          "y": -0.6316232248476606
         },
         {
          "group": "business",
          "x": -0.3900363720674519,
          "y": 0.1291983195467003
         },
         {
          "group": "business",
          "x": -0.22505375642664327,
          "y": 0.5492997527401847
         },
         {
          "group": "business",
          "x": 0.5125512498939896,
          "y": 0.4772835396325705
         },
         {
          "group": "business",
          "x": 0.33308408022886266,
          "y": -0.4253360887541755
         },
         {
          "group": "business",
          "x": 0.8327709259676453,
          "y": 1.2438076704200405
         },
         {
          "group": "business",
          "x": -1.0883123506012526,
          "y": 0.9155200733945819
         },
         {
          "group": "business",
          "x": -0.8337112341087493,
          "y": 0.910145122001576
         },
         {
          "group": "business",
          "x": -0.6620022713531245,
          "y": -1.059850369428443
         },
         {
          "group": "business",
          "x": -1.0070610784950955,
          "y": -0.08868180600107595
         },
         {
          "group": "business",
          "x": -0.28465048006184546,
          "y": 0.4396763030257895
         },
         {
          "group": "business",
          "x": -0.3846782992068,
          "y": -2.4442945794249984
         },
         {
          "group": "business",
          "x": -0.1261459889213207,
          "y": -1.4440811083821588
         },
         {
          "group": "business",
          "x": -0.6447886873343657,
          "y": 1.4148888188807485
         },
         {
          "group": "business",
          "x": -1.6117423955629853,
          "y": -0.2722564809711111
         },
         {
          "group": "business",
          "x": -2.1344788167123983,
          "y": -1.2340940543434025
         },
         {
          "group": "business",
          "x": -0.8526454003910154,
          "y": 2.0969244254972694
         },
         {
          "group": "business",
          "x": 0.18304007724673946,
          "y": -2.0146129110546687
         },
         {
          "group": "business",
          "x": 0.09358101454528828,
          "y": 1.2114629186050114
         },
         {
          "group": "business",
          "x": 1.3708217233002424,
          "y": -1.3490403822300259
         },
         {
          "group": "business",
          "x": -0.08720509544505786,
          "y": -1.475354577812885
         },
         {
          "group": "business",
          "x": 0.9577233114965353,
          "y": -0.7668861685113065
         },
         {
          "group": "business",
          "x": 0.09383588653152257,
          "y": -1.151883110119411
         },
         {
          "group": "business",
          "x": -0.3996891570462536,
          "y": 0.01664673707911978
         },
         {
          "group": "business",
          "x": 0.46441440621014574,
          "y": 0.5740288828959221
         },
         {
          "group": "business",
          "x": -0.2157679505079984,
          "y": 0.5814216011573783
         },
         {
          "group": "business",
          "x": 0.06349338146434756,
          "y": -0.3853088897383789
         },
         {
          "group": "business",
          "x": 0.3406655557173501,
          "y": 0.6287369981825899
         },
         {
          "group": "business",
          "x": -2.0253644372588497,
          "y": -0.29954452969569184
         },
         {
          "group": "business",
          "x": -0.9114729363283772,
          "y": -1.1512756889868936
         },
         {
          "group": "business",
          "x": -1.1252678779425993,
          "y": -1.3790327773254545
         },
         {
          "group": "business",
          "x": -0.3808985346081257,
          "y": -0.2578806402402609
         },
         {
          "group": "business",
          "x": 1.151546127268773,
          "y": 1.7001254074824261
         },
         {
          "group": "business",
          "x": 0.45090137341107006,
          "y": 1.6086129861232314
         },
         {
          "group": "business",
          "x": -0.42721705339678206,
          "y": -2.2252852064085604
         },
         {
          "group": "business",
          "x": 0.974539735722338,
          "y": 0.10712923571155368
         },
         {
          "group": "business",
          "x": -2.2863740808497,
          "y": 1.9165951322373378
         },
         {
          "group": "business",
          "x": -0.46916025930941124,
          "y": 0.8764394267941499
         },
         {
          "group": "business",
          "x": 1.1507419525459819,
          "y": -1.6657035269809777
         },
         {
          "group": "business",
          "x": 0.38746521286206764,
          "y": -1.4100725123555915
         },
         {
          "group": "business",
          "x": -3.253065965086837,
          "y": 0.029148170348376107
         },
         {
          "group": "business",
          "x": -0.1570696826958532,
          "y": -0.40049368536240826
         },
         {
          "group": "business",
          "x": -1.069784646580872,
          "y": -0.2378618662455142
         },
         {
          "group": "business",
          "x": 0.26575187393918254,
          "y": -0.5733264728942955
         },
         {
          "group": "business",
          "x": 0.6672551315882035,
          "y": 2.3441065503712215
         },
         {
          "group": "business",
          "x": -0.011447215540222695,
          "y": -0.7729209275878662
         },
         {
          "group": "business",
          "x": -1.8318488823955725,
          "y": 1.2971822246868168
         },
         {
          "group": "business",
          "x": -0.2170472145400622,
          "y": 0.40762000949214633
         },
         {
          "group": "business",
          "x": 0.2190620730584585,
          "y": 0.041115500392988245
         },
         {
          "group": "business",
          "x": -1.0530177845777557,
          "y": -0.4407599946835678
         },
         {
          "group": "business",
          "x": -0.116464563305803,
          "y": -0.5946694520429334
         },
         {
          "group": "business",
          "x": -1.2790782531271503,
          "y": -2.036618134471955
         },
         {
          "group": "business",
          "x": 0.5367060005184299,
          "y": 0.5996415443875984
         },
         {
          "group": "business",
          "x": -0.184664759357131,
          "y": -0.6751322831118994
         },
         {
          "group": "business",
          "x": 2.425129933732645,
          "y": -0.1390228012375002
         },
         {
          "group": "business",
          "x": -0.5199827905127345,
          "y": 1.9394109878222627
         },
         {
          "group": "business",
          "x": -1.0697910416697367,
          "y": 0.9511587427761169
         },
         {
          "group": "business",
          "x": -1.0110344219914837,
          "y": -0.8037264533613611
         },
         {
          "group": "business",
          "x": -0.822322194499217,
          "y": 1.973200785340167
         },
         {
          "group": "business",
          "x": -0.07726446270519288,
          "y": 0.3267921913337271
         },
         {
          "group": "business",
          "x": 0.3574693178262743,
          "y": -1.165869487817125
         },
         {
          "group": "business",
          "x": -2.0364911434904904,
          "y": 1.175902741173684
         },
         {
          "group": "business",
          "x": 0.6012006537301118,
          "y": -0.5521301952104274
         },
         {
          "group": "business",
          "x": 1.6672094363177137,
          "y": 1.5423041869330238
         },
         {
          "group": "business",
          "x": 0.31503102017842705,
          "y": -0.7162307176136943
         },
         {
          "group": "business",
          "x": -0.6094494726437811,
          "y": 0.0022351600831113224
         },
         {
          "group": "business",
          "x": 1.7679499754319736,
          "y": -0.89748306809906
         },
         {
          "group": "business",
          "x": -0.9326546309182394,
          "y": -0.24422169813638425
         },
         {
          "group": "business",
          "x": -1.0608338076823773,
          "y": 0.8385192928939852
         },
         {
          "group": "business",
          "x": 0.053065832958402774,
          "y": -1.0360323551442456
         },
         {
          "group": "business",
          "x": -2.804775936622253,
          "y": -1.0797850929082944
         },
         {
          "group": "business",
          "x": -1.1491959666920077,
          "y": -0.4336089116940985
         },
         {
          "group": "business",
          "x": 1.8876340908826492,
          "y": -2.09971524417364
         },
         {
          "group": "business",
          "x": 0.4279770916226512,
          "y": 0.6031579538826702
         },
         {
          "group": "business",
          "x": -1.64507631548227,
          "y": 0.041130159997453154
         },
         {
          "group": "business",
          "x": -0.7990783714148606,
          "y": 0.30308170090635345
         },
         {
          "group": "business",
          "x": 0.29110925730341514,
          "y": 0.46400345830076295
         },
         {
          "group": "business",
          "x": -0.44258980900219874,
          "y": 0.9584919804435302
         },
         {
          "group": "business",
          "x": 0.262250919504193,
          "y": -0.45510924369355
         },
         {
          "group": "business",
          "x": -2.091488165313832,
          "y": 2.0913526008344925
         },
         {
          "group": "business",
          "x": -0.6661171124870978,
          "y": 0.9155003609027966
         },
         {
          "group": "business",
          "x": -0.23548129588153172,
          "y": -0.11255975655118122
         },
         {
          "group": "business",
          "x": 0.7117013595342188,
          "y": -0.5495418169796539
         },
         {
          "group": "business",
          "x": -0.18471266840321143,
          "y": 0.3588927255099979
         },
         {
          "group": "business",
          "x": 0.018441128991241996,
          "y": 0.5109506671564195
         },
         {
          "group": "business",
          "x": -0.38982175363825733,
          "y": -0.62743482111596
         },
         {
          "group": "business",
          "x": -1.2565603627402853,
          "y": 2.2543688857348703
         },
         {
          "group": "business",
          "x": 0.4474185498135013,
          "y": -0.9619220275893632
         },
         {
          "group": "business",
          "x": -1.0402150834510322,
          "y": -0.30840346506162164
         },
         {
          "group": "business",
          "x": 0.6961197211397137,
          "y": -1.5894128698711616
         },
         {
          "group": "business",
          "x": 2.1508469628049296,
          "y": -1.4877203354063564
         },
         {
          "group": "business",
          "x": -0.9301641976961236,
          "y": -0.5235849981018241
         },
         {
          "group": "business",
          "x": 0.8820583943190051,
          "y": 2.5375698565565514
         },
         {
          "group": "business",
          "x": -0.5048037912451533,
          "y": 0.1983204652195657
         },
         {
          "group": "business",
          "x": -0.17813061778085545,
          "y": -0.7700848582309289
         },
         {
          "group": "business",
          "x": -0.3606910416172236,
          "y": -0.5902961102483446
         },
         {
          "group": "business",
          "x": -0.37129760625469077,
          "y": -0.8161415141510144
         },
         {
          "group": "business",
          "x": 0.6673936170894649,
          "y": 0.6766596815080219
         },
         {
          "group": "business",
          "x": -0.8469265224541715,
          "y": 1.6065947583589193
         },
         {
          "group": "business",
          "x": 1.0100884822871439,
          "y": -0.19162446035320013
         },
         {
          "group": "business",
          "x": 0.0992177862656288,
          "y": 0.03966005473145669
         },
         {
          "group": "business",
          "x": 0.9478487642569411,
          "y": 1.9091781278784699
         },
         {
          "group": "business",
          "x": -1.1032648061272068,
          "y": -1.1769212030743956
         },
         {
          "group": "business",
          "x": -0.667020006193187,
          "y": 1.0479611624876632
         },
         {
          "group": "business",
          "x": -0.6007455124288604,
          "y": -1.095416006989431
         },
         {
          "group": "business",
          "x": -0.5114428140285089,
          "y": -0.4623579714792723
         },
         {
          "group": "business",
          "x": -2.059180488644767,
          "y": 0.42704746796003934
         },
         {
          "group": "business",
          "x": -0.8054033819070676,
          "y": -2.0543629492606343
         },
         {
          "group": "business",
          "x": -0.6174039017136463,
          "y": 0.8711292447190616
         },
         {
          "group": "business",
          "x": -0.30744252080700507,
          "y": 2.3100668992887115
         },
         {
          "group": "business",
          "x": 1.436709252391017,
          "y": -0.17785119218508047
         },
         {
          "group": "business",
          "x": -0.35940684612880397,
          "y": -0.3190362506043464
         },
         {
          "group": "business",
          "x": -1.2886145036711396,
          "y": 0.2798581253344992
         },
         {
          "group": "business",
          "x": -0.6014365372527847,
          "y": -0.8837441666599464
         },
         {
          "group": "business",
          "x": -1.8359306375321447,
          "y": 1.5368645856577654
         },
         {
          "group": "business",
          "x": -0.3412777215620045,
          "y": 0.09580465462070088
         },
         {
          "group": "business",
          "x": 0.7012054913572106,
          "y": -0.06026559165163246
         },
         {
          "group": "business",
          "x": -2.226551892851278,
          "y": 0.7971986979683003
         },
         {
          "group": "business",
          "x": 0.01878713005488658,
          "y": -0.40161307584801276
         },
         {
          "group": "business",
          "x": 0.8831379803937142,
          "y": -0.6460666240562078
         },
         {
          "group": "business",
          "x": -0.6576622667663317,
          "y": -0.08377845913856498
         },
         {
          "group": "business",
          "x": -1.2393820784403087,
          "y": 0.2425828337271782
         },
         {
          "group": "business",
          "x": -1.2267981745785135,
          "y": -0.05146886850432635
         },
         {
          "group": "business",
          "x": 1.0393620658338967,
          "y": -0.2232427241124825
         },
         {
          "group": "business",
          "x": -0.9551277915053759,
          "y": 0.35567389334306515
         },
         {
          "group": "business",
          "x": 1.1254266968385764,
          "y": -0.4734120434409112
         },
         {
          "group": "business",
          "x": -1.3421748890078904,
          "y": -1.5330253452194096
         },
         {
          "group": "business",
          "x": 0.6143390754051137,
          "y": -0.8479115108030992
         },
         {
          "group": "business",
          "x": -1.3587520387435577,
          "y": -0.28362987434717707
         },
         {
          "group": "business",
          "x": 0.10089209382235055,
          "y": 1.9114715881324542
         },
         {
          "group": "business",
          "x": 1.2942772670562774,
          "y": -1.5662914817467355
         },
         {
          "group": "business",
          "x": 1.174084768009096,
          "y": 1.946403186993651
         },
         {
          "group": "business",
          "x": -0.4452567566752369,
          "y": -0.0440652154275227
         },
         {
          "group": "business",
          "x": -0.12698170278904017,
          "y": -0.48436196806905174
         },
         {
          "group": "business",
          "x": -0.1391229310298378,
          "y": 2.0135170448289204
         },
         {
          "group": "business",
          "x": -0.9806984227473355,
          "y": 2.084268567575207
         },
         {
          "group": "business",
          "x": 0.5538919503443459,
          "y": -0.8569393351159408
         },
         {
          "group": "business",
          "x": -1.9427116616994535,
          "y": -2.5616083607649096
         },
         {
          "group": "business",
          "x": 1.2184194859394646,
          "y": -1.2554882648687702
         },
         {
          "group": "business",
          "x": 0.17274548571930687,
          "y": -0.9565165258910315
         },
         {
          "group": "business",
          "x": -0.2121627290148796,
          "y": 1.0188908286114513
         },
         {
          "group": "business",
          "x": -0.8746544913421052,
          "y": -1.7369041965661514
         },
         {
          "group": "business",
          "x": -0.7301883535962671,
          "y": -0.08572571194931539
         },
         {
          "group": "business",
          "x": -0.8584691096463148,
          "y": -1.0487729234639735
         },
         {
          "group": "business",
          "x": 0.8148817636299993,
          "y": -1.3097629364534047
         },
         {
          "group": "business",
          "x": -0.8605770594927501,
          "y": 1.6576749298418119
         },
         {
          "group": "business",
          "x": 0.22031365292501232,
          "y": 0.5977624150463512
         },
         {
          "group": "business",
          "x": -0.7686423801652565,
          "y": 0.44587244711366414
         },
         {
          "group": "business",
          "x": 0.23930391547464508,
          "y": -0.04048399425426156
         },
         {
          "group": "business",
          "x": -0.7551799286256754,
          "y": -1.46017005878697
         },
         {
          "group": "business",
          "x": 0.6560813255627594,
          "y": -0.04952950004694278
         },
         {
          "group": "business",
          "x": -0.6869741540954929,
          "y": -0.5157514515553392
         },
         {
          "group": "business",
          "x": -2.6110689344334963,
          "y": 0.7750216357435701
         },
         {
          "group": "business",
          "x": 0.8034579427318345,
          "y": 1.1698213483729372
         },
         {
          "group": "business",
          "x": 0.03583757188896369,
          "y": -0.0012233809893436444
         },
         {
          "group": "business",
          "x": -0.9000876339532268,
          "y": 0.6881396637787579
         },
         {
          "group": "business",
          "x": -0.7566745663615939,
          "y": -0.5396203570221154
         },
         {
          "group": "business",
          "x": -0.06391289729948842,
          "y": 0.30101660012307535
         },
         {
          "group": "business",
          "x": -0.5636992138558257,
          "y": -0.2720764183391521
         },
         {
          "group": "business",
          "x": -0.7610382468405366,
          "y": -0.9057737373525688
         },
         {
          "group": "business",
          "x": 2.3278063765457038,
          "y": 0.05245458047421239
         },
         {
          "group": "business",
          "x": 0.03236874836104283,
          "y": -1.197760345787475
         },
         {
          "group": "business",
          "x": -2.396724592963583,
          "y": 0.2763430303844035
         },
         {
          "group": "business",
          "x": 0.07525508628331035,
          "y": -0.859056203531835
         },
         {
          "group": "business",
          "x": -0.22947232277833596,
          "y": -1.8492894347497948
         },
         {
          "group": "business",
          "x": -0.5644184236824398,
          "y": 0.18532081069809564
         },
         {
          "group": "business",
          "x": -0.6902261512505298,
          "y": 0.4425332351946563
         },
         {
          "group": "business",
          "x": 0.14688399192683224,
          "y": 2.1626442473988066
         },
         {
          "group": "business",
          "x": -1.293451241015463,
          "y": 0.7700779595603269
         },
         {
          "group": "business",
          "x": -0.24426857728330018,
          "y": 2.078303937762025
         },
         {
          "group": "business",
          "x": -0.7103817699943336,
          "y": 0.05088960514156749
         },
         {
          "group": "business",
          "x": -1.3420594842920486,
          "y": -0.5042352127544715
         },
         {
          "group": "business",
          "x": -0.6686131407144115,
          "y": 0.12431684827868658
         },
         {
          "group": "business",
          "x": -2.644526512842084,
          "y": -2.079405234399779
         },
         {
          "group": "business",
          "x": -1.4904171287215437,
          "y": 0.6603827457390533
         },
         {
          "group": "business",
          "x": -0.9602029328984657,
          "y": 0.8418684353833717
         },
         {
          "group": "business",
          "x": 0.24759407770993488,
          "y": -0.3858925366001954
         },
         {
          "group": "business",
          "x": 0.322155440860297,
          "y": -0.7151450064466847
         },
         {
          "group": "business",
          "x": -0.8476088473197311,
          "y": -0.6594881242373863
         },
         {
          "group": "business",
          "x": 0.0036270953479774406,
          "y": -0.7451775622076099
         },
         {
          "group": "business",
          "x": -0.5084336316278328,
          "y": 0.6070648293998335
         },
         {
          "group": "business",
          "x": -2.596024067924383,
          "y": -2.271751516829433
         },
         {
          "group": "business",
          "x": 0.4297663285107657,
          "y": -2.0612256618472147
         },
         {
          "group": "business",
          "x": 0.22507788799968342,
          "y": 0.17583988524549585
         },
         {
          "group": "business",
          "x": -0.11750255325012211,
          "y": -1.6582499781837559
         },
         {
          "group": "business",
          "x": -0.2117727163789157,
          "y": 1.4350656536178552
         },
         {
          "group": "business",
          "x": 0.9095129205764401,
          "y": 0.6101333878346369
         },
         {
          "group": "business",
          "x": -0.8419220937470745,
          "y": 0.03527064607918467
         },
         {
          "group": "business",
          "x": -0.6918296053270483,
          "y": -0.908785348192745
         },
         {
          "group": "business",
          "x": 3.3841661257095166,
          "y": -0.5777966319499764
         },
         {
          "group": "business",
          "x": 0.467135264960379,
          "y": 1.1359201147806621
         },
         {
          "group": "business",
          "x": 0.4229678439976231,
          "y": -1.3766013538139854
         },
         {
          "group": "business",
          "x": -1.2731863972657211,
          "y": -0.745978038764864
         },
         {
          "group": "business",
          "x": -2.7930294330525123,
          "y": -0.2357001970637791
         },
         {
          "group": "business",
          "x": 0.8182783211909406,
          "y": -1.713447185055161
         },
         {
          "group": "business",
          "x": -0.7340982456958726,
          "y": -2.1977170094759093
         },
         {
          "group": "business",
          "x": 1.005315157781609,
          "y": -0.1676493302502591
         },
         {
          "group": "business",
          "x": -0.10782804385506092,
          "y": 1.0241648805510475
         },
         {
          "group": "business",
          "x": -1.879517629246608,
          "y": 0.45280553460602074
         },
         {
          "group": "business",
          "x": 0.5426349314784172,
          "y": -0.2775198193623635
         },
         {
          "group": "business",
          "x": 0.21450125363002154,
          "y": 1.511580634047868
         },
         {
          "group": "business",
          "x": 0.14093646416420677,
          "y": 1.2328450031503415
         },
         {
          "group": "business",
          "x": 1.621533863694389,
          "y": -2.125480893712895
         },
         {
          "group": "business",
          "x": -1.5866750250640254,
          "y": 0.3373734548256966
         },
         {
          "group": "business",
          "x": -1.6141410260809415,
          "y": -0.1742652677873777
         },
         {
          "group": "business",
          "x": 0.8754484308863792,
          "y": 0.051778656156279815
         },
         {
          "group": "business",
          "x": 0.6670887018203736,
          "y": -1.6104336909368575
         },
         {
          "group": "business",
          "x": -0.7781655077586955,
          "y": -0.8804975012381745
         },
         {
          "group": "business",
          "x": 0.27984522145095087,
          "y": -0.27382033064998734
         },
         {
          "group": "business",
          "x": 1.2274927478996096,
          "y": 0.824214884723278
         },
         {
          "group": "business",
          "x": 0.1548252550497213,
          "y": 2.805810890778653
         },
         {
          "group": "business",
          "x": -1.0761184900105811,
          "y": 0.13038275908070207
         },
         {
          "group": "business",
          "x": -0.40838250375460244,
          "y": -0.2539480109870978
         },
         {
          "group": "business",
          "x": -0.05422984754428201,
          "y": -0.2998721002857836
         },
         {
          "group": "business",
          "x": 0.57612858846213,
          "y": 1.7323794132490768
         },
         {
          "group": "business",
          "x": -1.022218293529526,
          "y": -0.7840318660715159
         },
         {
          "group": "business",
          "x": -0.07676003902573178,
          "y": -0.3382587622591701
         },
         {
          "group": "business",
          "x": 1.168265861890537,
          "y": 1.1659455626443975
         },
         {
          "group": "business",
          "x": 0.3161961986261289,
          "y": -0.5652931070053885
         },
         {
          "group": "business",
          "x": 1.4867706245945171,
          "y": 0.2439560802428887
         },
         {
          "group": "business",
          "x": 1.0936752318036953,
          "y": 1.0629217576854044
         },
         {
          "group": "business",
          "x": -0.34617994609774416,
          "y": 1.8751671851967961
         },
         {
          "group": "business",
          "x": -0.5316143738671385,
          "y": 1.0715335981901208
         },
         {
          "group": "business",
          "x": -0.6914084851997269,
          "y": 0.2246248814351563
         },
         {
          "group": "business",
          "x": -0.057205458137589836,
          "y": -0.2145114583040099
         },
         {
          "group": "business",
          "x": 2.2923796532221856,
          "y": -1.0644106174694319
         },
         {
          "group": "business",
          "x": -1.075399343538134,
          "y": 1.4424585991140135
         },
         {
          "group": "business",
          "x": 0.10324752871734989,
          "y": -0.029549042071268933
         },
         {
          "group": "business",
          "x": -0.5095873654043368,
          "y": 0.48411431640390257
         },
         {
          "group": "business",
          "x": 0.04374847168234581,
          "y": 0.9764158095454115
         },
         {
          "group": "business",
          "x": -0.02605741218964,
          "y": 1.833095953286304
         },
         {
          "group": "business",
          "x": -0.9066010900656347,
          "y": 0.9546207787260029
         },
         {
          "group": "business",
          "x": -1.080843940936622,
          "y": -0.47613602136796146
         },
         {
          "group": "business",
          "x": 0.37928041363661497,
          "y": 0.6369799565242049
         },
         {
          "group": "business",
          "x": 0.2826467671017692,
          "y": 2.1968136400050082
         },
         {
          "group": "business",
          "x": 1.3073816998877086,
          "y": 0.00041345085620014783
         },
         {
          "group": "business",
          "x": 0.025651027391738034,
          "y": 1.2453818850624248
         },
         {
          "group": "business",
          "x": 0.8264375865907049,
          "y": -0.8298042494214896
         },
         {
          "group": "business",
          "x": -0.7292341585803519,
          "y": 0.37762909966204367
         },
         {
          "group": "business",
          "x": -0.14844638874553054,
          "y": 0.8737335352596766
         },
         {
          "group": "business",
          "x": 0.9170398733648264,
          "y": 0.27382475050595134
         },
         {
          "group": "business",
          "x": -1.786413444648036,
          "y": 1.4180654452327572
         },
         {
          "group": "business",
          "x": -0.3378398241368349,
          "y": 0.0210101790133522
         },
         {
          "group": "business",
          "x": -1.5671422814185165,
          "y": -0.30807478717575926
         },
         {
          "group": "business",
          "x": 0.3651208556088426,
          "y": 0.5468635465934331
         },
         {
          "group": "business",
          "x": -0.703611858181537,
          "y": 1.1553096547696915
         },
         {
          "group": "business",
          "x": -1.9194492656020206,
          "y": 1.7530856873662606
         },
         {
          "group": "business",
          "x": 0.018464011284223123,
          "y": 3.1263847778910323
         },
         {
          "group": "business",
          "x": -1.3711000459771212,
          "y": 0.35193202300093707
         },
         {
          "group": "business",
          "x": -1.1565752988527234,
          "y": -1.3783943760558528
         },
         {
          "group": "business",
          "x": -0.7130202046279409,
          "y": 1.2792216851053932
         },
         {
          "group": "business",
          "x": 0.28201174336639373,
          "y": -0.8665148502287332
         },
         {
          "group": "business",
          "x": 0.35595755515283567,
          "y": 0.019561749930178503
         },
         {
          "group": "business",
          "x": -1.6943903677053502,
          "y": 2.5346969324872988
         },
         {
          "group": "business",
          "x": -0.6077703908290747,
          "y": 0.35958968495041954
         },
         {
          "group": "business",
          "x": -0.3300148200802707,
          "y": 1.3494879995640088
         },
         {
          "group": "business",
          "x": -0.11688306870960233,
          "y": -1.3052776818120377
         },
         {
          "group": "business",
          "x": -1.58990541220899,
          "y": 0.024847572197643008
         },
         {
          "group": "business",
          "x": -0.44290751746521806,
          "y": -0.07528899427140548
         },
         {
          "group": "business",
          "x": -0.1955579102278641,
          "y": 1.0608029732042785
         },
         {
          "group": "business",
          "x": 0.002947517174612649,
          "y": -0.9987699199157993
         },
         {
          "group": "business",
          "x": 1.1291637106970578,
          "y": -0.6324099789539809
         },
         {
          "group": "business",
          "x": -0.1774258404134226,
          "y": -1.7561964499616975
         },
         {
          "group": "business",
          "x": -1.0908220847172334,
          "y": -1.514726862409682
         },
         {
          "group": "business",
          "x": -2.0996222934378252,
          "y": 1.169526176321326
         },
         {
          "group": "business",
          "x": 0.9031091423030716,
          "y": -1.3096309471695937
         },
         {
          "group": "business",
          "x": -0.37088094396393256,
          "y": -0.9090301472700703
         },
         {
          "group": "business",
          "x": 0.11268293168714066,
          "y": -0.08875224480764667
         },
         {
          "group": "business",
          "x": -0.38508745889736756,
          "y": 2.1183700832314387
         },
         {
          "group": "business",
          "x": -0.9155312492006196,
          "y": -0.42250354190888273
         },
         {
          "group": "business",
          "x": -0.9378011199014763,
          "y": 0.889546886383105
         },
         {
          "group": "business",
          "x": -1.2167705970545606,
          "y": 0.09532346962971085
         },
         {
          "group": "business",
          "x": 0.6716147688108256,
          "y": -1.1008085304656867
         },
         {
          "group": "business",
          "x": -0.6228162508057516,
          "y": 0.7307520004710822
         }
        ]
       },
       "encoding": {
        "color": {
         "field": "group",
         "type": "nominal"
        },
        "x": {
         "field": "x",
         "type": "quantitative"
        },
        "y": {
         "field": "y",
         "type": "quantitative"
        }
       },
       "mark": "point"
      },
      "image/png": "[encoded data removed]",
      "text/plain": [
       "<VegaLite 2 object>\n",
       "\n",
       "If you see this message, it means the renderer has not been properly enabled\n",
       "for the frontend that you are using. For more information, see\n",
       "https://altair-viz.github.io/user_guide/troubleshooting.html\n"
      ]
     },
     "execution_count": 26,
     "metadata": {},
     "output_type": "execute_result"
    }
   ],
   "source": [
    "alt.Chart(bbc_2d[bbc_2d[\"group\"].isin([\"sport\", \"business\"])]).mark_point().encode(x=\"x\", y=\"y\", color=\"group\")"
   ]
  },
  {
   "cell_type": "markdown",
   "metadata": {},
   "source": [
    "Likewise we can see sorting by similarity produces reasonable, but not ideal, results."
   ]
  },
  {
   "cell_type": "code",
   "execution_count": 27,
   "metadata": {},
   "outputs": [
    {
     "data": {
      "text/html": [
       "<div>\n",
       "<style scoped>\n",
       "    .dataframe tbody tr th:only-of-type {\n",
       "        vertical-align: middle;\n",
       "    }\n",
       "\n",
       "    .dataframe tbody tr th {\n",
       "        vertical-align: top;\n",
       "    }\n",
       "\n",
       "    .dataframe thead th {\n",
       "        text-align: right;\n",
       "    }\n",
       "</style>\n",
       "<table border=\"1\" class=\"dataframe\">\n",
       "  <thead>\n",
       "    <tr style=\"text-align: right;\">\n",
       "      <th></th>\n",
       "      <th>doc_id</th>\n",
       "      <th>similarity</th>\n",
       "      <th>text</th>\n",
       "    </tr>\n",
       "  </thead>\n",
       "  <tbody>\n",
       "    <tr>\n",
       "      <th>0</th>\n",
       "      <td>0</td>\n",
       "      <td>1.000000</td>\n",
       "      <td>Claxton hunting first major medal  British hurdler Sarah Claxton is confident she can win her fi...</td>\n",
       "    </tr>\n",
       "    <tr>\n",
       "      <th>37</th>\n",
       "      <td>37</td>\n",
       "      <td>0.504319</td>\n",
       "      <td>Radcliffe proves doubters wrong  This won't go down as one of the greatest marathons of Paula's ...</td>\n",
       "    </tr>\n",
       "    <tr>\n",
       "      <th>41</th>\n",
       "      <td>41</td>\n",
       "      <td>0.499603</td>\n",
       "      <td>Radcliffe enjoys winning comeback  Paula Radcliffe made a triumphant return to competitive runni...</td>\n",
       "    </tr>\n",
       "    <tr>\n",
       "      <th>1545</th>\n",
       "      <td>1545</td>\n",
       "      <td>0.499484</td>\n",
       "      <td>Search wars hit desktop PCs  Another front in the on-going battle between Microsoft and Google i...</td>\n",
       "    </tr>\n",
       "    <tr>\n",
       "      <th>1266</th>\n",
       "      <td>1266</td>\n",
       "      <td>0.490500</td>\n",
       "      <td>Student 'inequality' exposed  Teenagers from well-off backgrounds are six times more likely to g...</td>\n",
       "    </tr>\n",
       "    <tr>\n",
       "      <th>19</th>\n",
       "      <td>19</td>\n",
       "      <td>0.442955</td>\n",
       "      <td>Edwards tips Idowu for Euro gold  World outdoor triple jump record holder and BBC pundit Jonatha...</td>\n",
       "    </tr>\n",
       "    <tr>\n",
       "      <th>348</th>\n",
       "      <td>348</td>\n",
       "      <td>0.430447</td>\n",
       "      <td>Italy aim to rattle England  Italy coach John Kirwan believes his side can upset England as the ...</td>\n",
       "    </tr>\n",
       "    <tr>\n",
       "      <th>251</th>\n",
       "      <td>251</td>\n",
       "      <td>0.429918</td>\n",
       "      <td>Ferguson rues failure to cut gap  Boss Sir Alex Ferguson was left ruing Manchester United's fail...</td>\n",
       "    </tr>\n",
       "    <tr>\n",
       "      <th>24</th>\n",
       "      <td>24</td>\n",
       "      <td>0.429485</td>\n",
       "      <td>El Guerrouj targets cross country  Double Olympic champion Hicham El Guerrouj is set to make a r...</td>\n",
       "    </tr>\n",
       "    <tr>\n",
       "      <th>464</th>\n",
       "      <td>464</td>\n",
       "      <td>0.412518</td>\n",
       "      <td>Henin-Hardenne beaten on comeback  Justine Henin-Hardenne lost to Elena Dementieva in a comeback...</td>\n",
       "    </tr>\n",
       "  </tbody>\n",
       "</table>\n",
       "</div>"
      ],
      "text/plain": [
       "      doc_id  similarity  \\\n",
       "0          0    1.000000   \n",
       "37        37    0.504319   \n",
       "41        41    0.499603   \n",
       "1545    1545    0.499484   \n",
       "1266    1266    0.490500   \n",
       "19        19    0.442955   \n",
       "348      348    0.430447   \n",
       "251      251    0.429918   \n",
       "24        24    0.429485   \n",
       "464      464    0.412518   \n",
       "\n",
       "                                                                                                     text  \n",
       "0     Claxton hunting first major medal  British hurdler Sarah Claxton is confident she can win her fi...  \n",
       "37    Radcliffe proves doubters wrong  This won't go down as one of the greatest marathons of Paula's ...  \n",
       "41    Radcliffe enjoys winning comeback  Paula Radcliffe made a triumphant return to competitive runni...  \n",
       "1545  Search wars hit desktop PCs  Another front in the on-going battle between Microsoft and Google i...  \n",
       "1266  Student 'inequality' exposed  Teenagers from well-off backgrounds are six times more likely to g...  \n",
       "19    Edwards tips Idowu for Euro gold  World outdoor triple jump record holder and BBC pundit Jonatha...  \n",
       "348   Italy aim to rattle England  Italy coach John Kirwan believes his side can upset England as the ...  \n",
       "251   Ferguson rues failure to cut gap  Boss Sir Alex Ferguson was left ruing Manchester United's fail...  \n",
       "24    El Guerrouj targets cross country  Double Olympic champion Hicham El Guerrouj is set to make a r...  \n",
       "464   Henin-Hardenne beaten on comeback  Justine Henin-Hardenne lost to Elena Dementieva in a comeback...  "
      ]
     },
     "execution_count": 27,
     "metadata": {},
     "output_type": "execute_result"
    }
   ],
   "source": [
    "most_similar(bbc_model.paragraph_matrix.data, bbc_df, 0, n=10)"
   ]
  },
  {
   "cell_type": "code",
   "execution_count": null,
   "metadata": {},
   "outputs": [],
   "source": []
  }
 ],
 "metadata": {
  "kernelspec": {
   "display_name": "Python 3",
   "language": "python",
   "name": "python3"
  },
  "language_info": {
   "codemirror_mode": {
    "name": "ipython",
    "version": 3
   },
   "file_extension": ".py",
   "mimetype": "text/x-python",
   "name": "python",
   "nbconvert_exporter": "python",
   "pygments_lexer": "ipython3",
   "version": "3.7.2"
  }
 },
 "nbformat": 4,
 "nbformat_minor": 2
}
