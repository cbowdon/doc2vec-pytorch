{
 "cells": [
  {
   "cell_type": "markdown",
   "metadata": {},
   "source": [
    "Doc2vec from scratch in PyTorch\n",
    "===============================\n",
    "\n",
    "Here we are implementing this useful algorithm with a library we know and trust. With luck this will be more accessible than reading the papers but more in-depth than typical \"install gensim and just do what I say\" tutorials, and still easy to understand for anyone whose maths skills have atrophied to nothing (like me). This is all based on the great work by [Nejc Ilenic](https://github.com/ilenic/paragraph-vectors) and reading the referenced papers.\n",
    "\n",
    "The basic form of `word2vec` (and so `doc2vec`) is that it is a classifier trained to predict the missing word in a context. So given sentences like \"the cat _ on the mat\" it should predict \"sat\", and so learn a useful representation of words. We can then extract the internal weights and re-use them as \"word embeddings\", vectors giving each word a position in N-dimensional space that is hopefully close to similar words and an appropriate distance from related words. \n",
    "\n",
    "`doc2vec` or \"Paragraph vectors\" extends the `word2vec` idea by simply adding a document id to each context. This helps the network learn associations between contexts (but of course produces less generalizable vectors)."
   ]
  },
  {
   "cell_type": "markdown",
   "metadata": {},
   "source": [
    "First we need to load the data. We'll by overfitting on a tiny dataset just to check all the parts fit together."
   ]
  },
  {
   "cell_type": "code",
   "execution_count": 1,
   "metadata": {},
   "outputs": [
    {
     "data": {
      "text/html": [
       "<div>\n",
       "<style scoped>\n",
       "    .dataframe tbody tr th:only-of-type {\n",
       "        vertical-align: middle;\n",
       "    }\n",
       "\n",
       "    .dataframe tbody tr th {\n",
       "        vertical-align: top;\n",
       "    }\n",
       "\n",
       "    .dataframe thead th {\n",
       "        text-align: right;\n",
       "    }\n",
       "</style>\n",
       "<table border=\"1\" class=\"dataframe\">\n",
       "  <thead>\n",
       "    <tr style=\"text-align: right;\">\n",
       "      <th></th>\n",
       "      <th>text</th>\n",
       "      <th>tokens</th>\n",
       "    </tr>\n",
       "  </thead>\n",
       "  <tbody>\n",
       "    <tr>\n",
       "      <th>0</th>\n",
       "      <td>In the week before their departure to Arrakis,...</td>\n",
       "      <td>[in, the, week, before, their, departure, to, ...</td>\n",
       "    </tr>\n",
       "    <tr>\n",
       "      <th>1</th>\n",
       "      <td>It was a warm night at Castle Caladan, and the...</td>\n",
       "      <td>[it, was, a, warm, night, at, castle, caladan,...</td>\n",
       "    </tr>\n",
       "    <tr>\n",
       "      <th>2</th>\n",
       "      <td>The old woman was let in by the side door down...</td>\n",
       "      <td>[the, old, woman, was, let, in, by, the, side,...</td>\n",
       "    </tr>\n",
       "    <tr>\n",
       "      <th>3</th>\n",
       "      <td>By the half-light of a suspensor lamp, dimmed ...</td>\n",
       "      <td>[by, the, half, light, of, a, suspensor, lamp,...</td>\n",
       "    </tr>\n",
       "  </tbody>\n",
       "</table>\n",
       "</div>"
      ],
      "text/plain": [
       "                                                text  \\\n",
       "0  In the week before their departure to Arrakis,...   \n",
       "1  It was a warm night at Castle Caladan, and the...   \n",
       "2  The old woman was let in by the side door down...   \n",
       "3  By the half-light of a suspensor lamp, dimmed ...   \n",
       "\n",
       "                                              tokens  \n",
       "0  [in, the, week, before, their, departure, to, ...  \n",
       "1  [it, was, a, warm, night, at, castle, caladan,...  \n",
       "2  [the, old, woman, was, let, in, by, the, side,...  \n",
       "3  [by, the, half, light, of, a, suspensor, lamp,...  "
      ]
     },
     "execution_count": 1,
     "metadata": {},
     "output_type": "execute_result"
    }
   ],
   "source": [
    "import pandas as pd\n",
    "import spacy\n",
    "\n",
    "nlp = spacy.load(\"en_core_web_sm\")\n",
    "\n",
    "df = pd.read_csv(\"data/example.csv\")\n",
    "\n",
    "def tokenize_text(df):\n",
    "    df[\"tokens\"] = df.text.str.lower().str.strip().apply(lambda x: [token.text.strip() for token in nlp(x) if token.text.isalnum()])\n",
    "    return df\n",
    "\n",
    "df = tokenize_text(df)\n",
    "\n",
    "df[:5]"
   ]
  },
  {
   "cell_type": "markdown",
   "metadata": {},
   "source": [
    "We will need to construct a vocabulary so we can reference every word by an ID."
   ]
  },
  {
   "cell_type": "code",
   "execution_count": 2,
   "metadata": {},
   "outputs": [
    {
     "name": "stdout",
     "output_type": "stream",
     "text": [
      "Dataset comprises 4 documents and 21 unique words (over the limit of 2 occurrences)\n"
     ]
    }
   ],
   "source": [
    "from collections import Counter\n",
    "\n",
    "class Vocab:\n",
    "    def __init__(self, all_tokens, min_count=2):\n",
    "        self.min_count = min_count\n",
    "        self.freqs = {t:n for t, n in Counter(all_tokens).items() if n >= min_count}\n",
    "        self.words = sorted(self.freqs.keys())\n",
    "        self.word2idx = {w: i for i, w in enumerate(self.words)}\n",
    "        \n",
    "vocab = Vocab([tok for tokens in df.tokens for tok in tokens])\n",
    "\n",
    "print(f\"Dataset comprises {len(df)} documents and {len(vocab.words)} unique words (over the limit of {vocab.min_count} occurrences)\")"
   ]
  },
  {
   "cell_type": "markdown",
   "metadata": {},
   "source": [
    "Words that appear extremely raerly can harm performance, so we strip those out."
   ]
  },
  {
   "cell_type": "code",
   "execution_count": 3,
   "metadata": {},
   "outputs": [
    {
     "data": {
      "text/html": [
       "<div>\n",
       "<style scoped>\n",
       "    .dataframe tbody tr th:only-of-type {\n",
       "        vertical-align: middle;\n",
       "    }\n",
       "\n",
       "    .dataframe tbody tr th {\n",
       "        vertical-align: top;\n",
       "    }\n",
       "\n",
       "    .dataframe thead th {\n",
       "        text-align: right;\n",
       "    }\n",
       "</style>\n",
       "<table border=\"1\" class=\"dataframe\">\n",
       "  <thead>\n",
       "    <tr style=\"text-align: right;\">\n",
       "      <th></th>\n",
       "      <th>text</th>\n",
       "      <th>tokens</th>\n",
       "      <th>length</th>\n",
       "      <th>clean_tokens</th>\n",
       "      <th>clean_length</th>\n",
       "    </tr>\n",
       "  </thead>\n",
       "  <tbody>\n",
       "    <tr>\n",
       "      <th>0</th>\n",
       "      <td>In the week before their departure to Arrakis,...</td>\n",
       "      <td>[in, the, week, before, their, departure, to, ...</td>\n",
       "      <td>32</td>\n",
       "      <td>[in, the, before, to, the, had, a, old, to, th...</td>\n",
       "      <td>15</td>\n",
       "    </tr>\n",
       "    <tr>\n",
       "      <th>1</th>\n",
       "      <td>It was a warm night at Castle Caladan, and the...</td>\n",
       "      <td>[it, was, a, warm, night, at, castle, caladan,...</td>\n",
       "      <td>39</td>\n",
       "      <td>[it, was, a, at, and, the, of, that, had, the,...</td>\n",
       "      <td>16</td>\n",
       "    </tr>\n",
       "    <tr>\n",
       "      <th>2</th>\n",
       "      <td>The old woman was let in by the side door down...</td>\n",
       "      <td>[the, old, woman, was, let, in, by, the, side,...</td>\n",
       "      <td>34</td>\n",
       "      <td>[the, old, woman, was, in, by, the, door, the,...</td>\n",
       "      <td>19</td>\n",
       "    </tr>\n",
       "    <tr>\n",
       "      <th>3</th>\n",
       "      <td>By the half-light of a suspensor lamp, dimmed ...</td>\n",
       "      <td>[by, the, half, light, of, a, suspensor, lamp,...</td>\n",
       "      <td>53</td>\n",
       "      <td>[by, the, of, a, and, the, the, boy, a, at, hi...</td>\n",
       "      <td>23</td>\n",
       "    </tr>\n",
       "  </tbody>\n",
       "</table>\n",
       "</div>"
      ],
      "text/plain": [
       "                                                text  \\\n",
       "0  In the week before their departure to Arrakis,...   \n",
       "1  It was a warm night at Castle Caladan, and the...   \n",
       "2  The old woman was let in by the side door down...   \n",
       "3  By the half-light of a suspensor lamp, dimmed ...   \n",
       "\n",
       "                                              tokens  length  \\\n",
       "0  [in, the, week, before, their, departure, to, ...      32   \n",
       "1  [it, was, a, warm, night, at, castle, caladan,...      39   \n",
       "2  [the, old, woman, was, let, in, by, the, side,...      34   \n",
       "3  [by, the, half, light, of, a, suspensor, lamp,...      53   \n",
       "\n",
       "                                        clean_tokens  clean_length  \n",
       "0  [in, the, before, to, the, had, a, old, to, th...            15  \n",
       "1  [it, was, a, at, and, the, of, that, had, the,...            16  \n",
       "2  [the, old, woman, was, in, by, the, door, the,...            19  \n",
       "3  [by, the, of, a, and, the, the, boy, a, at, hi...            23  "
      ]
     },
     "execution_count": 3,
     "metadata": {},
     "output_type": "execute_result"
    }
   ],
   "source": [
    "def clean_tokens(df, vocab):\n",
    "    df[\"length\"] = df.tokens.apply(len)\n",
    "    df[\"clean_tokens\"] = df.tokens.apply(lambda x: [t for t in x if t in vocab.freqs.keys()])\n",
    "    df[\"clean_length\"] = df.clean_tokens.apply(len)\n",
    "    return df\n",
    "\n",
    "df = clean_tokens(df, vocab)\n",
    "df[:5]"
   ]
  },
  {
   "cell_type": "markdown",
   "metadata": {},
   "source": [
    "The difficulty with our \"the cat _ on the mat\" problem is that the missing word could be any one in the vocabulary V and so the network would have |V| outputs for each input e.g. a huge vector containing zero for every word in the vocabulary and some positive number for \"sat\" if the network was perfectly trained. For calculating loss we need to turn that into a probabilty distribution, i.e. _softmax_ it. Computing the softmax for such a large vector is expensive.\n",
    "\n",
    "So the trick (one of many possible) we will use is _Noise Contrastive Estimation (NCE)_. We change our \"the cat _ on the mat\" problem into a multiple choice problem, asking the network to choose between \"sat\" and some random wrong answers like \"hopscotch\" and \"luxuriated\". This is easier to compute the softmax for since it's now a binary classifier (right or wrong answer) and the output is simply of a vector of size 1 + k where k is the number of random incorrect options.\n",
    "\n",
    "Happily, this alternative problem still learns equally useful word representations. We just need to adjust the examples and the loss function. There is a simplified version of the NCE loss function called _Negative Sampling (NEG)_ that we can use here.\n",
    "\n",
    "[Notes on Noise Contrastive Estimation and Negative Sampling (C. Dyer)](https://arxiv.org/abs/1410.8251) explains the derivation of the NCE and NEG loss functions.\n",
    "\n",
    "When we implement the loss function, we assume that the first element in a samples/scores vector is the score for the positive sample and the rest are negative samples. This convention saves us from having to pass around an auxiliary vector indicating which sample was positive."
   ]
  },
  {
   "cell_type": "code",
   "execution_count": 4,
   "metadata": {},
   "outputs": [],
   "source": [
    "import torch.nn as nn\n",
    "\n",
    "class NegativeSampling(nn.Module):\n",
    "    def __init__(self):\n",
    "        super(NegativeSampling, self).__init__()\n",
    "        self.log_sigmoid = nn.LogSigmoid()\n",
    "    def forward(self, scores):\n",
    "        batch_size = scores.shape[0]\n",
    "        n_negative_samples = scores.shape[1] - 1   # TODO average or sum the negative samples? Summing seems to be correct by the paper\n",
    "        positive = self.log_sigmoid(scores[:,0])\n",
    "        negatives = torch.sum(self.log_sigmoid(-scores[:,1:]), dim=1)\n",
    "        return -torch.sum(positive + negatives) / batch_size  # average for batch\n",
    "\n",
    "loss = NegativeSampling()"
   ]
  },
  {
   "cell_type": "markdown",
   "metadata": {},
   "source": [
    "It's helpful to play with some values to reassure ourselves that this function does the right thing."
   ]
  },
  {
   "cell_type": "code",
   "execution_count": 5,
   "metadata": {},
   "outputs": [
    {
     "data": {
      "text/html": [
       "<div>\n",
       "<style scoped>\n",
       "    .dataframe tbody tr th:only-of-type {\n",
       "        vertical-align: middle;\n",
       "    }\n",
       "\n",
       "    .dataframe tbody tr th {\n",
       "        vertical-align: top;\n",
       "    }\n",
       "\n",
       "    .dataframe thead th {\n",
       "        text-align: right;\n",
       "    }\n",
       "</style>\n",
       "<table border=\"1\" class=\"dataframe\">\n",
       "  <thead>\n",
       "    <tr style=\"text-align: right;\">\n",
       "      <th></th>\n",
       "      <th>scores</th>\n",
       "      <th>loss</th>\n",
       "    </tr>\n",
       "  </thead>\n",
       "  <tbody>\n",
       "    <tr>\n",
       "      <th>0</th>\n",
       "      <td>[1, -1, -1, -1]</td>\n",
       "      <td>tensor(1.2530)</td>\n",
       "    </tr>\n",
       "    <tr>\n",
       "      <th>1</th>\n",
       "      <td>[0.5, -1, -1, -1]</td>\n",
       "      <td>tensor(1.4139)</td>\n",
       "    </tr>\n",
       "    <tr>\n",
       "      <th>2</th>\n",
       "      <td>[0, -1, -1, -1]</td>\n",
       "      <td>tensor(1.6329)</td>\n",
       "    </tr>\n",
       "    <tr>\n",
       "      <th>3</th>\n",
       "      <td>[0, 0, 0, 0]</td>\n",
       "      <td>tensor(2.7726)</td>\n",
       "    </tr>\n",
       "    <tr>\n",
       "      <th>4</th>\n",
       "      <td>[0, 0, 0, 1]</td>\n",
       "      <td>tensor(3.3927)</td>\n",
       "    </tr>\n",
       "    <tr>\n",
       "      <th>5</th>\n",
       "      <td>[0, 1, 1, 1]</td>\n",
       "      <td>tensor(4.6329)</td>\n",
       "    </tr>\n",
       "    <tr>\n",
       "      <th>6</th>\n",
       "      <td>[0.5, 1, 1, 1]</td>\n",
       "      <td>tensor(4.4139)</td>\n",
       "    </tr>\n",
       "    <tr>\n",
       "      <th>7</th>\n",
       "      <td>[1, 1, 1, 1]</td>\n",
       "      <td>tensor(4.2530)</td>\n",
       "    </tr>\n",
       "  </tbody>\n",
       "</table>\n",
       "</div>"
      ],
      "text/plain": [
       "              scores            loss\n",
       "0    [1, -1, -1, -1]  tensor(1.2530)\n",
       "1  [0.5, -1, -1, -1]  tensor(1.4139)\n",
       "2    [0, -1, -1, -1]  tensor(1.6329)\n",
       "3       [0, 0, 0, 0]  tensor(2.7726)\n",
       "4       [0, 0, 0, 1]  tensor(3.3927)\n",
       "5       [0, 1, 1, 1]  tensor(4.6329)\n",
       "6     [0.5, 1, 1, 1]  tensor(4.4139)\n",
       "7       [1, 1, 1, 1]  tensor(4.2530)"
      ]
     },
     "execution_count": 5,
     "metadata": {},
     "output_type": "execute_result"
    }
   ],
   "source": [
    "import torch \n",
    "\n",
    "data = [[[1, -1, -1, -1]],  # this dummy data uses -1 to 1, but the real model is unconstrained\n",
    "        [[0.5, -1, -1, -1]],\n",
    "        [[0, -1, -1, -1]],\n",
    "        [[0, 0, 0, 0]],\n",
    "        [[0, 0, 0, 1]],\n",
    "        [[0, 1, 1, 1]],\n",
    "        [[0.5, 1, 1, 1]],\n",
    "        [[1, 1, 1, 1]]]\n",
    "\n",
    "loss_df = pd.DataFrame(data, columns=[\"scores\"])\n",
    "loss_df[\"loss\"] = loss_df.scores.apply(lambda x: loss(torch.FloatTensor([x])))\n",
    "\n",
    "loss_df"
   ]
  },
  {
   "cell_type": "markdown",
   "metadata": {},
   "source": [
    "Higher scores for the positive sample (always the first element) reduce the loss but higher scores for the negative samples increase the loss. This looks like the right behaviour."
   ]
  },
  {
   "cell_type": "markdown",
   "metadata": {},
   "source": [
    "With that in the bag, let's look at creating training data. The general idea is to create a set of examples where each example has:\n",
    "\n",
    "- doc id\n",
    "- sample ids - a collection of the target token and some noise tokens\n",
    "- context ids - tokens before and after the target token\n",
    "\n",
    "e.g. If our context size was 2, the first example from the above dataset would be:\n",
    "\n",
    "```\n",
    "{\"doc_id\": 0,\n",
    " \"sample_ids\": [word2idx[x] for x in [\"week\", \"random-word-from-vocab\", \"random-word-from-vocab\"...],\n",
    " \"context_ids\": [word2idx[x] for x in [\"in\", \"the\", \"before\", \"their\"]]}\n",
    " ```\n",
    " \n",
    " The random words are chosen according to a probability distribution:\n",
    " \n",
    " > a unigram distribution raised to the 3/4rd power, as proposed by T. Mikolov et al. in Distributed Representations of Words and Phrases and their Compositionality\n",
    "\n",
    "This has the effect of slightly increasing the relative probability of rare words (look at the graph of `y=x^0.75` below and see how the lower end is raised above `y=x`)."
   ]
  },
  {
   "cell_type": "code",
   "execution_count": 6,
   "metadata": {},
   "outputs": [
    {
     "data": {
      "application/vnd.vegalite.v2+json": {
       "$schema": "https://vega.github.io/schema/vega-lite/v2.6.0.json",
       "config": {
        "view": {
         "height": 300,
         "width": 400
        }
       },
       "data": {
        "name": "data-afc3dc0951a9e12875119a5af86e52b5"
       },
       "datasets": {
        "data-afc3dc0951a9e12875119a5af86e52b5": [
         {
          "x": 0,
          "y": 0
         },
         {
          "x": 0.01,
          "y": 0.03162277660168379
         },
         {
          "x": 0.02,
          "y": 0.053182958969449884
         },
         {
          "x": 0.03,
          "y": 0.07208434242404263
         },
         {
          "x": 0.04,
          "y": 0.08944271909999159
         },
         {
          "x": 0.05,
          "y": 0.10573712634405642
         },
         {
          "x": 0.06,
          "y": 0.12123093028059741
         },
         {
          "x": 0.07,
          "y": 0.13608915892697748
         },
         {
          "x": 0.08,
          "y": 0.15042412372345573
         },
         {
          "x": 0.09,
          "y": 0.16431676725154984
         },
         {
          "x": 0.1,
          "y": 0.1778279410038923
         },
         {
          "x": 0.11,
          "y": 0.19100490227716513
         },
         {
          "x": 0.12,
          "y": 0.2038853093816547
         },
         {
          "x": 0.13,
          "y": 0.2164998073464082
         },
         {
          "x": 0.14,
          "y": 0.22887377179317683
         },
         {
          "x": 0.15,
          "y": 0.2410285256833955
         },
         {
          "x": 0.16,
          "y": 0.25298221281347033
         },
         {
          "x": 0.17,
          "y": 0.26475044029330763
         },
         {
          "x": 0.18,
          "y": 0.2763467610958144
         },
         {
          "x": 0.19,
          "y": 0.28778304315451386
         },
         {
          "x": 0.2,
          "y": 0.29906975624424414
         },
         {
          "x": 0.21,
          "y": 0.3102161981490854
         },
         {
          "x": 0.22,
          "y": 0.32123067524150845
         },
         {
          "x": 0.23,
          "y": 0.33212064831351956
         },
         {
          "x": 0.24,
          "y": 0.34289285156385596
         },
         {
          "x": 0.25,
          "y": 0.3535533905932738
         },
         {
          "x": 0.26,
          "y": 0.3641078238014289
         },
         {
          "x": 0.27,
          "y": 0.37456123052590357
         },
         {
          "x": 0.28,
          "y": 0.38491826849295824
         },
         {
          "x": 0.29,
          "y": 0.39518322257770583
         },
         {
          "x": 0.3,
          "y": 0.4053600464421103
         },
         {
          "x": 0.31,
          "y": 0.41545239829339137
         },
         {
          "x": 0.32,
          "y": 0.42546367175559907
         },
         {
          "x": 0.33,
          "y": 0.43539702265375557
         },
         {
          "x": 0.34,
          "y": 0.4452553923589699
         },
         {
          "x": 0.35000000000000003,
          "y": 0.45504152822405847
         },
         {
          "x": 0.36,
          "y": 0.46475800154489
         },
         {
          "x": 0.37,
          "y": 0.47440722340731084
         },
         {
          "x": 0.38,
          "y": 0.4839914587188715
         },
         {
          "x": 0.39,
          "y": 0.4935128386754873
         },
         {
          "x": 0.4,
          "y": 0.5029733718731741
         },
         {
          "x": 0.41000000000000003,
          "y": 0.5123749542422491
         },
         {
          "x": 0.42,
          "y": 0.5217193779544038
         },
         {
          "x": 0.43,
          "y": 0.5310083394307343
         },
         {
          "x": 0.44,
          "y": 0.5402434465602292
         },
         {
          "x": 0.45,
          "y": 0.549426225222706
         },
         {
          "x": 0.46,
          "y": 0.5585581251971565
         },
         {
          "x": 0.47000000000000003,
          "y": 0.5676405255254853
         },
         {
          "x": 0.48,
          "y": 0.576674739392341
         },
         {
          "x": 0.49,
          "y": 0.5856620185738529
         },
         {
          "x": 0.5,
          "y": 0.5946035575013605
         },
         {
          "x": 0.51,
          "y": 0.6035004969804791
         },
         {
          "x": 0.52,
          "y": 0.6123539276009055
         },
         {
          "x": 0.53,
          "y": 0.6211648928681236
         },
         {
          "x": 0.54,
          "y": 0.629934392084505
         },
         {
          "x": 0.55,
          "y": 0.6386633830041155
         },
         {
          "x": 0.56,
          "y": 0.6473527842827909
         },
         {
          "x": 0.5700000000000001,
          "y": 0.6560034777426358
         },
         {
          "x": 0.58,
          "y": 0.6646163104680073
         },
         {
          "x": 0.59,
          "y": 0.6731920967482075
         },
         {
          "x": 0.6,
          "y": 0.6817316198804996
         },
         {
          "x": 0.61,
          "y": 0.6902356338456498
         },
         {
          "x": 0.62,
          "y": 0.6987048648669424
         },
         {
          "x": 0.63,
          "y": 0.7071400128625219
         },
         {
          "x": 0.64,
          "y": 0.7155417527999327
         },
         {
          "x": 0.65,
          "y": 0.7239107359608682
         },
         {
          "x": 0.66,
          "y": 0.7322475911233668
         },
         {
          "x": 0.67,
          "y": 0.7405529256680135
         },
         {
          "x": 0.68,
          "y": 0.7488273266140879
         },
         {
          "x": 0.6900000000000001,
          "y": 0.7570713615910638
         },
         {
          "x": 0.7000000000000001,
          "y": 0.7652855797503655
         },
         {
          "x": 0.71,
          "y": 0.7734705126218591
         },
         {
          "x": 0.72,
          "y": 0.7816266749191567
         },
         {
          "x": 0.73,
          "y": 0.7897545652974598
         },
         {
          "x": 0.74,
          "y": 0.7978546670673515
         },
         {
          "x": 0.75,
          "y": 0.8059274488676564
         },
         {
          "x": 0.76,
          "y": 0.8139733653002305
         },
         {
          "x": 0.77,
          "y": 0.8219928575293057
         },
         {
          "x": 0.78,
          "y": 0.829986353847804
         },
         {
          "x": 0.79,
          "y": 0.837954270212839
         },
         {
          "x": 0.8,
          "y": 0.8458970107524514
         },
         {
          "x": 0.81,
          "y": 0.8538149682454624
         },
         {
          "x": 0.8200000000000001,
          "y": 0.8617085245761865
         },
         {
          "x": 0.8300000000000001,
          "y": 0.869578051165608
         },
         {
          "x": 0.84,
          "y": 0.8774239093805121
         },
         {
          "x": 0.85,
          "y": 0.8852464509219427
         },
         {
          "x": 0.86,
          "y": 0.8930460181942644
         },
         {
          "x": 0.87,
          "y": 0.9008229446560111
         },
         {
          "x": 0.88,
          "y": 0.9085775551536168
         },
         {
          "x": 0.89,
          "y": 0.9163101662390513
         },
         {
          "x": 0.9,
          "y": 0.9240210864723069
         },
         {
          "x": 0.91,
          "y": 0.9317106167096201
         },
         {
          "x": 0.92,
          "y": 0.9393790503782488
         },
         {
          "x": 0.93,
          "y": 0.9470266737385726
         },
         {
          "x": 0.9400000000000001,
          "y": 0.9546537661342305
         },
         {
          "x": 0.9500000000000001,
          "y": 0.9622606002309622
         },
         {
          "x": 0.96,
          "y": 0.9698474422447793
         },
         {
          "x": 0.97,
          "y": 0.9774145521600454
         },
         {
          "x": 0.98,
          "y": 0.9849621839380145
         },
         {
          "x": 0.99,
          "y": 0.992490585716335
         }
        ]
       },
       "encoding": {
        "x": {
         "field": "x",
         "type": "quantitative"
        },
        "y": {
         "field": "y",
         "type": "quantitative"
        }
       },
       "mark": "line",
       "title": "x^0.75"
      },
      "image/png": "[encoded data removed]",
      "text/plain": [
       "<VegaLite 2 object>\n",
       "\n",
       "If you see this message, it means the renderer has not been properly enabled\n",
       "for the frontend that you are using. For more information, see\n",
       "https://altair-viz.github.io/user_guide/troubleshooting.html\n"
      ]
     },
     "execution_count": 6,
     "metadata": {},
     "output_type": "execute_result"
    }
   ],
   "source": [
    "import altair as alt\n",
    "import numpy as np\n",
    "\n",
    "data = pd.DataFrame(zip(np.arange(0,1,0.01), np.power(np.arange(0,1,0.01), 0.75)), columns=[\"x\", \"y\"])\n",
    "alt.Chart(data, title=\"x^0.75\").mark_line().encode(x=\"x\", y=\"y\")"
   ]
  },
  {
   "cell_type": "code",
   "execution_count": 7,
   "metadata": {},
   "outputs": [],
   "source": [
    "import numpy as np\n",
    "\n",
    "class NoiseDistribution:\n",
    "    def __init__(self, vocab):\n",
    "        self.probs = np.array([vocab.freqs[w] for w in vocab.words])\n",
    "        self.probs = np.power(self.probs, 0.75)\n",
    "        self.probs /= np.sum(self.probs)\n",
    "    def sample(self, n):\n",
    "        \"Returns the indices of n words randomly sampled from the vocabulary.\"\n",
    "        return np.random.choice(a=self.probs.shape[0], size=n, p=self.probs)\n",
    "        \n",
    "noise = NoiseDistribution(vocab)"
   ]
  },
  {
   "cell_type": "markdown",
   "metadata": {},
   "source": [
    "With this distribution, we advance through the documents creating examples. Note that we are always putting the positive sample first in the samples vector, following the convention the loss function expects."
   ]
  },
  {
   "cell_type": "code",
   "execution_count": 8,
   "metadata": {},
   "outputs": [],
   "source": [
    "import torch\n",
    "\n",
    "def example_generator(df, context_size, noise, n_negative_samples, vocab):\n",
    "    for doc_id, doc in df.iterrows():\n",
    "        for i in range(context_size, len(doc.clean_tokens) - context_size):\n",
    "            positive_sample = vocab.word2idx[doc.clean_tokens[i]]\n",
    "            sample_ids = noise.sample(n_negative_samples).tolist()\n",
    "            # Fix a wee bug - ensure negative samples don't accidentally include the positive\n",
    "            sample_ids = [sample_id if sample_id != positive_sample else -1 for sample_id in sample_ids]\n",
    "            sample_ids.insert(0, positive_sample)                \n",
    "            context = doc.clean_tokens[i - context_size:i] + doc.clean_tokens[i + 1:i + context_size + 1]\n",
    "            context_ids = [vocab.word2idx[w] for w in context]\n",
    "            yield {\"doc_ids\": torch.tensor(doc_id),  # we use plural here because it will be batched\n",
    "                   \"sample_ids\": torch.tensor(sample_ids), \n",
    "                   \"context_ids\": torch.tensor(context_ids)}\n",
    "            \n",
    "examples = example_generator(df, context_size=5, noise=noise, n_negative_samples=5, vocab=vocab)"
   ]
  },
  {
   "cell_type": "markdown",
   "metadata": {},
   "source": [
    "Now we package this up as a good old PyTorch dataset and dataloader."
   ]
  },
  {
   "cell_type": "code",
   "execution_count": 9,
   "metadata": {},
   "outputs": [],
   "source": [
    "from torch.utils.data import Dataset, DataLoader\n",
    "\n",
    "class NCEDataset(Dataset):\n",
    "    def __init__(self, examples):\n",
    "        self.examples = list(examples)  # just naively evaluate the whole damn thing - suboptimal!\n",
    "    def __len__(self):\n",
    "        return len(self.examples)\n",
    "    def __getitem__(self, index):\n",
    "        return self.examples[index]\n",
    "    \n",
    "dataset = NCEDataset(examples)\n",
    "dataloader = DataLoader(dataset, batch_size=2, drop_last=True, shuffle=True)  # TODO bigger batch size when not dummy data"
   ]
  },
  {
   "cell_type": "markdown",
   "metadata": {},
   "source": [
    "It's going to also be useful to have a way to convert batches back to a readable form for debugging, so we add a helper function."
   ]
  },
  {
   "cell_type": "code",
   "execution_count": 10,
   "metadata": {},
   "outputs": [
    {
     "data": {
      "text/plain": [
       "[{'doc_id': tensor(0),\n",
       "  'context': 'before to the had a ____ to the mother of the',\n",
       "  'context_ids': tensor([ 3, 18, 17,  7,  0, 18, 17, 12, 13, 17]),\n",
       "  'samples': ['old', 'the', 'a', 'at', 'it', 'door'],\n",
       "  'sample_ids': tensor([14, 17,  0,  2, 10,  6])},\n",
       " {'doc_id': tensor(1),\n",
       "  'context': 'the of that had the ____ it before a in the',\n",
       "  'context_ids': tensor([17, 13, 16,  7, 17, 10,  3,  0,  9, 17]),\n",
       "  'samples': ['that', 'and', 'his', 'at', 'to', 'boy'],\n",
       "  'sample_ids': tensor([16,  1,  8,  2, 18,  4])}]"
      ]
     },
     "execution_count": 10,
     "metadata": {},
     "output_type": "execute_result"
    }
   ],
   "source": [
    "def describe_batch(batch, vocab):\n",
    "    results = []\n",
    "    for doc_id, context_ids, sample_ids in zip(batch[\"doc_ids\"], batch[\"context_ids\"], batch[\"sample_ids\"]):\n",
    "        context = [vocab.words[i] for i in context_ids]\n",
    "        context.insert(len(context_ids) // 2, \"____\")\n",
    "        samples = [vocab.words[i] for i in sample_ids]\n",
    "        result = {\"doc_id\": doc_id,\n",
    "                  \"context\": \" \".join(context), \n",
    "                  \"context_ids\": context_ids, \n",
    "                  \"samples\": samples, \n",
    "                  \"sample_ids\": sample_ids}\n",
    "        results.append(result)\n",
    "    return results\n",
    "\n",
    "describe_batch(next(iter(dataloader)), vocab)"
   ]
  },
  {
   "cell_type": "markdown",
   "metadata": {},
   "source": [
    "Let's jump into creating the model itself. There isn't much to it - we multiply the input paragraph and word matrices by the output layer. Combining the paragraph and word matrices is done by summing here, but it could also be done by concatenating the inputs. The original paper actually found concatenation works better, perhaps because summing loses word order information."
   ]
  },
  {
   "cell_type": "code",
   "execution_count": 11,
   "metadata": {},
   "outputs": [],
   "source": [
    "import torch.nn as nn\n",
    "\n",
    "class DistributedMemory(nn.Module):\n",
    "    def __init__(self, vec_dim, n_docs, n_words):\n",
    "        super(DistributedMemory, self).__init__()\n",
    "        self.paragraph_matrix = nn.Parameter(torch.randn(n_docs, vec_dim))\n",
    "        self.word_matrix = nn.Parameter(torch.randn(n_words, vec_dim))\n",
    "        self.outputs = nn.Parameter(torch.zeros(vec_dim, n_words))\n",
    "    \n",
    "    def forward(self, doc_ids, context_ids, sample_ids):\n",
    "                                                                               # first add doc ids to context word ids to make the inputs\n",
    "        inputs = torch.add(self.paragraph_matrix[doc_ids,:],                   # (batch_size, vec_dim)\n",
    "                           torch.sum(self.word_matrix[context_ids,:], dim=1))  # (batch_size, 2x context, vec_dim) -> sum to (batch_size, vec_dim)\n",
    "                                                                               #\n",
    "                                                                               # select the subset of the output layer for the NCE test\n",
    "        outputs = self.outputs[:,sample_ids]                                   # (vec_dim, batch_size, n_negative_samples + 1)\n",
    "                                                                               #\n",
    "        return torch.bmm(inputs.unsqueeze(dim=1),                              # then multiply with some munging to make the tensor shapes line up \n",
    "                         outputs.permute(1, 0, 2)).squeeze()                   # -> (batch_size, n_negative_samples + 1)\n",
    "\n",
    "model = DistributedMemory(vec_dim=50,\n",
    "                          n_docs=len(df),\n",
    "                          n_words=len(vocab.words))"
   ]
  },
  {
   "cell_type": "markdown",
   "metadata": {},
   "source": [
    "Let's take it for a spin!"
   ]
  },
  {
   "cell_type": "code",
   "execution_count": 12,
   "metadata": {},
   "outputs": [
    {
     "data": {
      "text/plain": [
       "tensor([[0., 0., 0., 0., 0., 0.],\n",
       "        [0., 0., 0., 0., 0., 0.]])"
      ]
     },
     "execution_count": 12,
     "metadata": {},
     "output_type": "execute_result"
    }
   ],
   "source": [
    "with torch.no_grad():\n",
    "    logits = model.forward(**next(iter(dataloader)))\n",
    "logits"
   ]
  },
  {
   "cell_type": "markdown",
   "metadata": {},
   "source": [
    "Oh yeah, the output layer was initialized with zeros. Time to bash out a standard issue PyTorch training loop."
   ]
  },
  {
   "cell_type": "code",
   "execution_count": 13,
   "metadata": {},
   "outputs": [],
   "source": [
    "from tqdm import tqdm, trange\n",
    "from torch.optim import Adam  # ilenic uses Adam, but gensim uses plain SGD\n",
    "import numpy as np\n",
    "\n",
    "def train(model, dataloader, epochs=40, lr=1e-3):\n",
    "    optimizer = Adam(model.parameters(), lr=lr)\n",
    "    training_losses = []\n",
    "    try:\n",
    "        for epoch in trange(epochs, desc=\"Epochs\"):\n",
    "            epoch_losses = []\n",
    "            for batch in dataloader:\n",
    "                model.zero_grad()\n",
    "                logits = model.forward(**batch)\n",
    "                batch_loss = loss(logits)\n",
    "                epoch_losses.append(batch_loss.item())\n",
    "                batch_loss.backward()\n",
    "                optimizer.step()\n",
    "            training_losses.append(np.mean(epoch_losses))\n",
    "    except KeyboardInterrupt:\n",
    "        print(f\"Interrupted on epoch {epoch}!\")\n",
    "    finally:\n",
    "        return training_losses"
   ]
  },
  {
   "cell_type": "markdown",
   "metadata": {},
   "source": [
    "Now we'll sanity check by overfitting the example data. Training loss should drop from untrained loss to something close to the minimum possible."
   ]
  },
  {
   "cell_type": "code",
   "execution_count": 14,
   "metadata": {},
   "outputs": [
    {
     "name": "stderr",
     "output_type": "stream",
     "text": [
      "Epochs: 100%|██████████| 40/40 [00:00<00:00, 92.87it/s]\n"
     ]
    }
   ],
   "source": [
    "training_losses = train(model, dataloader, epochs=40, lr=1e-3)"
   ]
  },
  {
   "cell_type": "code",
   "execution_count": 15,
   "metadata": {},
   "outputs": [
    {
     "data": {
      "application/vnd.vegalite.v2+json": {
       "$schema": "https://vega.github.io/schema/vega-lite/v2.6.0.json",
       "config": {
        "view": {
         "height": 300,
         "width": 400
        }
       },
       "data": {
        "name": "data-a0635b83d2ade094111766e673d69825"
       },
       "datasets": {
        "data-a0635b83d2ade094111766e673d69825": [
         {
          "epoch": 0,
          "training_loss": 3.7544362396001816
         },
         {
          "epoch": 1,
          "training_loss": 2.679482415318489
         },
         {
          "epoch": 2,
          "training_loss": 2.2365248054265976
         },
         {
          "epoch": 3,
          "training_loss": 2.016397275030613
         },
         {
          "epoch": 4,
          "training_loss": 1.8774764984846115
         },
         {
          "epoch": 5,
          "training_loss": 1.744941532611847
         },
         {
          "epoch": 6,
          "training_loss": 1.640353538095951
         },
         {
          "epoch": 7,
          "training_loss": 1.5627507157623768
         },
         {
          "epoch": 8,
          "training_loss": 1.442815225571394
         },
         {
          "epoch": 9,
          "training_loss": 1.4102410934865475
         },
         {
          "epoch": 10,
          "training_loss": 1.3091328460723162
         },
         {
          "epoch": 11,
          "training_loss": 1.2648895159363747
         },
         {
          "epoch": 12,
          "training_loss": 1.1964758820831776
         },
         {
          "epoch": 13,
          "training_loss": 1.167230173945427
         },
         {
          "epoch": 14,
          "training_loss": 1.0777677409350872
         },
         {
          "epoch": 15,
          "training_loss": 1.0917356926947832
         },
         {
          "epoch": 16,
          "training_loss": 0.9893581010401249
         },
         {
          "epoch": 17,
          "training_loss": 0.9710225816816092
         },
         {
          "epoch": 18,
          "training_loss": 0.9366223681718111
         },
         {
          "epoch": 19,
          "training_loss": 0.8933273237198591
         },
         {
          "epoch": 20,
          "training_loss": 0.8931977488100529
         },
         {
          "epoch": 21,
          "training_loss": 0.866342949680984
         },
         {
          "epoch": 22,
          "training_loss": 0.7813547477126122
         },
         {
          "epoch": 23,
          "training_loss": 0.7833038717508316
         },
         {
          "epoch": 24,
          "training_loss": 0.7683723606169224
         },
         {
          "epoch": 25,
          "training_loss": 0.7524028941988945
         },
         {
          "epoch": 26,
          "training_loss": 0.7411676868796349
         },
         {
          "epoch": 27,
          "training_loss": 0.6637738719582558
         },
         {
          "epoch": 28,
          "training_loss": 0.6969987973570824
         },
         {
          "epoch": 29,
          "training_loss": 0.6845655702054501
         },
         {
          "epoch": 30,
          "training_loss": 0.659315587952733
         },
         {
          "epoch": 31,
          "training_loss": 0.6153992330655456
         },
         {
          "epoch": 32,
          "training_loss": 0.621408742852509
         },
         {
          "epoch": 33,
          "training_loss": 0.5795654905959964
         },
         {
          "epoch": 34,
          "training_loss": 0.5905390661209822
         },
         {
          "epoch": 35,
          "training_loss": 0.5721090268343687
         },
         {
          "epoch": 36,
          "training_loss": 0.544303716160357
         },
         {
          "epoch": 37,
          "training_loss": 0.5342010511085391
         },
         {
          "epoch": 38,
          "training_loss": 0.5214772038161755
         },
         {
          "epoch": 39,
          "training_loss": 0.5118086943402886
         }
        ]
       },
       "encoding": {
        "x": {
         "field": "epoch",
         "type": "quantitative"
        },
        "y": {
         "field": "training_loss",
         "scale": {
          "type": "log"
         },
         "type": "quantitative"
        }
       },
       "mark": "bar"
      },
      "image/png": "[encoded data removed]",
      "text/plain": [
       "<VegaLite 2 object>\n",
       "\n",
       "If you see this message, it means the renderer has not been properly enabled\n",
       "for the frontend that you are using. For more information, see\n",
       "https://altair-viz.github.io/user_guide/troubleshooting.html\n"
      ]
     },
     "execution_count": 15,
     "metadata": {},
     "output_type": "execute_result"
    }
   ],
   "source": [
    "import altair as alt\n",
    "\n",
    "df_loss = pd.DataFrame(enumerate(training_losses), columns=[\"epoch\", \"training_loss\"])\n",
    "alt.Chart(df_loss).mark_bar().encode(alt.X(\"epoch\"), alt.Y(\"training_loss\", scale=alt.Scale(type=\"log\")))"
   ]
  },
  {
   "cell_type": "markdown",
   "metadata": {},
   "source": [
    "And because we're paranoid types, let's check a prediction."
   ]
  },
  {
   "cell_type": "code",
   "execution_count": 16,
   "metadata": {},
   "outputs": [
    {
     "data": {
      "text/plain": [
       "tensor([[ 2.9331, -5.6192, -5.9467, -5.5864, -3.6825, -5.9467],\n",
       "        [ 1.3599, -2.7719, -6.0097, -5.3371, -5.1497, -4.3036]])"
      ]
     },
     "execution_count": 16,
     "metadata": {},
     "output_type": "execute_result"
    }
   ],
   "source": [
    "with torch.no_grad():\n",
    "    logits = model.forward(**next(iter(dataloader)))\n",
    "logits"
   ]
  },
  {
   "cell_type": "markdown",
   "metadata": {},
   "source": [
    "The positive sample gets a positive score and the negatives get negative scores. Super."
   ]
  },
  {
   "cell_type": "markdown",
   "metadata": {},
   "source": [
    "We should be able get the paragraph vectors for the documents and do things like check these for similarity to one another."
   ]
  },
  {
   "cell_type": "code",
   "execution_count": 17,
   "metadata": {},
   "outputs": [
    {
     "name": "stdout",
     "output_type": "stream",
     "text": [
      "doc 0 similarity with doc 1: 0.016694734\n",
      "doc 0 similarity with doc 2: 0.059416488\n",
      "doc 0 similarity with doc 3: 0.046282284\n"
     ]
    }
   ],
   "source": [
    "from sklearn.metrics.pairwise import cosine_similarity\n",
    "\n",
    "def similarity(matrix, id0, id1):\n",
    "    doc0 = matrix[id0,:].data\n",
    "    doc1 = matrix[id1,:].data\n",
    "    return cosine_similarity(doc0.unsqueeze(dim=0), doc1.unsqueeze(dim=0))[0][0]\n",
    "\n",
    "print(\"doc 0 similarity with doc 1:\", similarity(model.paragraph_matrix, 0, 1))\n",
    "print(\"doc 0 similarity with doc 2:\", similarity(model.paragraph_matrix, 0, 2))\n",
    "print(\"doc 0 similarity with doc 3:\", similarity(model.paragraph_matrix, 0, 3))"
   ]
  },
  {
   "cell_type": "markdown",
   "metadata": {},
   "source": [
    "It's not particularly illuminating for our tiny set of dummy data though. We can also use PCA to reduce our 300-dimensional paragraph vectors to 2 dimensions and see if they are clustered nicely."
   ]
  },
  {
   "cell_type": "code",
   "execution_count": 18,
   "metadata": {},
   "outputs": [
    {
     "name": "stdout",
     "output_type": "stream",
     "text": [
      "2-component PCA, explains 42.81% of variance\n"
     ]
    },
    {
     "data": {
      "application/vnd.vegalite.v2+json": {
       "$schema": "https://vega.github.io/schema/vega-lite/v2.6.0.json",
       "config": {
        "view": {
         "height": 300,
         "width": 400
        }
       },
       "data": {
        "name": "data-46c1f412a92a53191dbf27ccf90ee8e1"
       },
       "datasets": {
        "data-46c1f412a92a53191dbf27ccf90ee8e1": [
         {
          "x": 0.07492377061651197,
          "y": 6.242214224238664
         },
         {
          "x": -4.978698133279885,
          "y": -2.8867444074938144
         },
         {
          "x": 6.783641690099743,
          "y": -2.441015211436062
         },
         {
          "x": -1.8798673274363689,
          "y": -0.9144546053087905
         }
        ]
       },
       "encoding": {
        "x": {
         "field": "x",
         "type": "quantitative"
        },
        "y": {
         "field": "y",
         "type": "quantitative"
        }
       },
       "mark": "point"
      },
      "image/png": "[encoded data removed]",
      "text/plain": [
       "<VegaLite 2 object>\n",
       "\n",
       "If you see this message, it means the renderer has not been properly enabled\n",
       "for the frontend that you are using. For more information, see\n",
       "https://altair-viz.github.io/user_guide/troubleshooting.html\n"
      ]
     },
     "execution_count": 18,
     "metadata": {},
     "output_type": "execute_result"
    }
   ],
   "source": [
    "from sklearn.decomposition import PCA\n",
    "from itertools import repeat, chain\n",
    "\n",
    "pca = PCA(n_components=2)\n",
    "\n",
    "reduced_dims = pca.fit_transform(model.paragraph_matrix.data)\n",
    "print(f\"2-component PCA, explains {sum(pca.explained_variance_):.2f}% of variance\")\n",
    "\n",
    "dx = pd.DataFrame(reduced_dims, columns=[\"x\", \"y\"])\n",
    "#dx[\"group\"] = list(chain.from_iterable(repeat(c, 4) for c in (\"a\", \"b\", \"c\", \"d\")))  # because the example set intentionally includes dupes\n",
    "alt.Chart(dx).mark_point().encode(x=\"x\", y=\"y\")#, color=\"group\")"
   ]
  },
  {
   "cell_type": "markdown",
   "metadata": {},
   "source": [
    "This is rather disappointing. But it is a _tiny_ dataset."
   ]
  },
  {
   "cell_type": "markdown",
   "metadata": {},
   "source": [
    "Running this on some bigger data\n",
    "--------------------------------\n",
    "\n",
    "We'll use the BBC's dataset. The dataset was created by Derek Greene at UCD and all articles are copyright Auntie. I've munged it into a file per topic."
   ]
  },
  {
   "cell_type": "code",
   "execution_count": 19,
   "metadata": {},
   "outputs": [
    {
     "name": "stdout",
     "output_type": "stream",
     "text": [
      "Error reading sport\n",
      "'utf-8' codec can't decode byte 0xa3 in position 257: invalid start byte\n"
     ]
    },
    {
     "data": {
      "text/html": [
       "<div>\n",
       "<style scoped>\n",
       "    .dataframe tbody tr th:only-of-type {\n",
       "        vertical-align: middle;\n",
       "    }\n",
       "\n",
       "    .dataframe tbody tr th {\n",
       "        vertical-align: top;\n",
       "    }\n",
       "\n",
       "    .dataframe thead th {\n",
       "        text-align: right;\n",
       "    }\n",
       "</style>\n",
       "<table border=\"1\" class=\"dataframe\">\n",
       "  <thead>\n",
       "    <tr style=\"text-align: right;\">\n",
       "      <th></th>\n",
       "      <th>text</th>\n",
       "      <th>tokens</th>\n",
       "      <th>group</th>\n",
       "    </tr>\n",
       "  </thead>\n",
       "  <tbody>\n",
       "    <tr>\n",
       "      <th>0</th>\n",
       "      <td>Ad sales boost Time Warner profit  Quarterly p...</td>\n",
       "      <td>[ad, sales, boost, time, warner, profit, quart...</td>\n",
       "      <td>business</td>\n",
       "    </tr>\n",
       "    <tr>\n",
       "      <th>1</th>\n",
       "      <td>Dollar gains on Greenspan speech  The dollar h...</td>\n",
       "      <td>[dollar, gains, on, greenspan, speech, the, do...</td>\n",
       "      <td>business</td>\n",
       "    </tr>\n",
       "    <tr>\n",
       "      <th>2</th>\n",
       "      <td>Yukos unit buyer faces loan claim  The owners ...</td>\n",
       "      <td>[yukos, unit, buyer, faces, loan, claim, the, ...</td>\n",
       "      <td>business</td>\n",
       "    </tr>\n",
       "    <tr>\n",
       "      <th>3</th>\n",
       "      <td>High fuel prices hit BA's profits  British Air...</td>\n",
       "      <td>[high, fuel, prices, hit, ba, profits, british...</td>\n",
       "      <td>business</td>\n",
       "    </tr>\n",
       "  </tbody>\n",
       "</table>\n",
       "</div>"
      ],
      "text/plain": [
       "                                                text  \\\n",
       "0  Ad sales boost Time Warner profit  Quarterly p...   \n",
       "1  Dollar gains on Greenspan speech  The dollar h...   \n",
       "2  Yukos unit buyer faces loan claim  The owners ...   \n",
       "3  High fuel prices hit BA's profits  British Air...   \n",
       "\n",
       "                                              tokens     group  \n",
       "0  [ad, sales, boost, time, warner, profit, quart...  business  \n",
       "1  [dollar, gains, on, greenspan, speech, the, do...  business  \n",
       "2  [yukos, unit, buyer, faces, loan, claim, the, ...  business  \n",
       "3  [high, fuel, prices, hit, ba, profits, british...  business  "
      ]
     },
     "execution_count": 19,
     "metadata": {},
     "output_type": "execute_result"
    }
   ],
   "source": [
    "dfs = []\n",
    "for document_set in (\"business\",\n",
    "                     \"politics\", \n",
    "                     \"tech\", \n",
    "                     \"sport\", \n",
    "                     \"entertainment\"):\n",
    "    try:\n",
    "        df_ = pd.read_csv(f\"data/bbc/{document_set}.csv.bz2\")\n",
    "        df_ = tokenize_text(df_)\n",
    "        df_[\"group\"] = document_set\n",
    "        dfs.append(df_)\n",
    "    except Exception as err:\n",
    "        print(f\"Error reading {document_set}\")\n",
    "        print(err)\n",
    "\n",
    "df = pd.concat(dfs)\n",
    "df[:4]"
   ]
  },
  {
   "cell_type": "code",
   "execution_count": 20,
   "metadata": {},
   "outputs": [
    {
     "name": "stdout",
     "output_type": "stream",
     "text": [
      "Dataset comprises 1714 documents and 16674 unique words\n"
     ]
    }
   ],
   "source": [
    "vocab = Vocab([tok for tokens in df.tokens for tok in tokens])\n",
    "\n",
    "df = clean_tokens(df, vocab)\n",
    "\n",
    "print(f\"Dataset comprises {len(df)} documents and {len(vocab.words)} unique words\")"
   ]
  },
  {
   "cell_type": "code",
   "execution_count": 21,
   "metadata": {},
   "outputs": [],
   "source": [
    "noise = NoiseDistribution(vocab)\n",
    "examples = list(example_generator(df, context_size=5, noise=noise, n_negative_samples=5, vocab=vocab))"
   ]
  },
  {
   "cell_type": "code",
   "execution_count": 22,
   "metadata": {},
   "outputs": [],
   "source": [
    "dataset = NCEDataset(examples)\n",
    "dataloader = DataLoader(dataset, batch_size=1024, drop_last=True, shuffle=True)  # TODO could tolerate a larger batch size\n",
    "\n",
    "model = DistributedMemory(vec_dim=50,\n",
    "                          n_docs=len(df),\n",
    "                          n_words=len(vocab.words))"
   ]
  },
  {
   "cell_type": "code",
   "execution_count": 23,
   "metadata": {},
   "outputs": [
    {
     "name": "stderr",
     "output_type": "stream",
     "text": [
      "Epochs: 100%|██████████| 40/40 [14:10<00:00, 21.09s/it]\n"
     ]
    }
   ],
   "source": [
    "training_losses = train(model, dataloader, epochs=40, lr=1e-3)"
   ]
  },
  {
   "cell_type": "code",
   "execution_count": 24,
   "metadata": {},
   "outputs": [
    {
     "data": {
      "application/vnd.vegalite.v2+json": {
       "$schema": "https://vega.github.io/schema/vega-lite/v2.6.0.json",
       "config": {
        "view": {
         "height": 300,
         "width": 400
        }
       },
       "data": {
        "name": "data-efa47fb70561b60bab34891ddbd70aff"
       },
       "datasets": {
        "data-efa47fb70561b60bab34891ddbd70aff": [
         {
          "epoch": 0,
          "training_loss": 2.6821485001236294
         },
         {
          "epoch": 1,
          "training_loss": 2.1982078670348177
         },
         {
          "epoch": 2,
          "training_loss": 2.0120259150632025
         },
         {
          "epoch": 3,
          "training_loss": 1.8917752819902756
         },
         {
          "epoch": 4,
          "training_loss": 1.8046232496990877
         },
         {
          "epoch": 5,
          "training_loss": 1.7370232395343368
         },
         {
          "epoch": 6,
          "training_loss": 1.6805893454020238
         },
         {
          "epoch": 7,
          "training_loss": 1.632192125814987
         },
         {
          "epoch": 8,
          "training_loss": 1.590086772345906
         },
         {
          "epoch": 9,
          "training_loss": 1.5523404222523833
         },
         {
          "epoch": 10,
          "training_loss": 1.5172922904646433
         },
         {
          "epoch": 11,
          "training_loss": 1.4856793587052786
         },
         {
          "epoch": 12,
          "training_loss": 1.4564153972794027
         },
         {
          "epoch": 13,
          "training_loss": 1.4288185995429663
         },
         {
          "epoch": 14,
          "training_loss": 1.4029312510239451
         },
         {
          "epoch": 15,
          "training_loss": 1.3784724079049409
         },
         {
          "epoch": 16,
          "training_loss": 1.355173807395132
         },
         {
          "epoch": 17,
          "training_loss": 1.3333659255098633
         },
         {
          "epoch": 18,
          "training_loss": 1.3123886701492333
         },
         {
          "epoch": 19,
          "training_loss": 1.292248688799678
         },
         {
          "epoch": 20,
          "training_loss": 1.2730631700979298
         },
         {
          "epoch": 21,
          "training_loss": 1.254707433306396
         },
         {
          "epoch": 22,
          "training_loss": 1.2368702528646487
         },
         {
          "epoch": 23,
          "training_loss": 1.2197876851256049
         },
         {
          "epoch": 24,
          "training_loss": 1.2033017379211568
         },
         {
          "epoch": 25,
          "training_loss": 1.1874942858890851
         },
         {
          "epoch": 26,
          "training_loss": 1.1719700234593253
         },
         {
          "epoch": 27,
          "training_loss": 1.157086272726856
         },
         {
          "epoch": 28,
          "training_loss": 1.1425243534908944
         },
         {
          "epoch": 29,
          "training_loss": 1.1284325606313652
         },
         {
          "epoch": 30,
          "training_loss": 1.1146917686373825
         },
         {
          "epoch": 31,
          "training_loss": 1.10135424220156
         },
         {
          "epoch": 32,
          "training_loss": 1.0882762417704697
         },
         {
          "epoch": 33,
          "training_loss": 1.075519684390756
         },
         {
          "epoch": 34,
          "training_loss": 1.0631208599720947
         },
         {
          "epoch": 35,
          "training_loss": 1.051255734435545
         },
         {
          "epoch": 36,
          "training_loss": 1.0392856071977055
         },
         {
          "epoch": 37,
          "training_loss": 1.027961610456
         },
         {
          "epoch": 38,
          "training_loss": 1.0166752229534066
         },
         {
          "epoch": 39,
          "training_loss": 1.0055160456028516
         }
        ]
       },
       "encoding": {
        "x": {
         "field": "epoch",
         "type": "quantitative"
        },
        "y": {
         "field": "training_loss",
         "type": "quantitative"
        }
       },
       "mark": "bar"
      },
      "image/png": "[encoded data removed]",
      "text/plain": [
       "<VegaLite 2 object>\n",
       "\n",
       "If you see this message, it means the renderer has not been properly enabled\n",
       "for the frontend that you are using. For more information, see\n",
       "https://altair-viz.github.io/user_guide/troubleshooting.html\n"
      ]
     },
     "execution_count": 24,
     "metadata": {},
     "output_type": "execute_result"
    }
   ],
   "source": [
    "alt.Chart(pd.DataFrame(enumerate(training_losses), columns=[\"epoch\", \"training_loss\"])).mark_bar().encode(x=\"epoch\", y=\"training_loss\")"
   ]
  },
  {
   "cell_type": "markdown",
   "metadata": {},
   "source": [
    "Let's take a look at the reduced dimensionality paragraph vectors."
   ]
  },
  {
   "cell_type": "code",
   "execution_count": 25,
   "metadata": {},
   "outputs": [
    {
     "name": "stdout",
     "output_type": "stream",
     "text": [
      "2-component PCA, explains 2.77% of variance\n"
     ]
    },
    {
     "data": {
      "application/vnd.vegalite.v2+json": {
       "$schema": "https://vega.github.io/schema/vega-lite/v2.6.0.json",
       "config": {
        "view": {
         "height": 300,
         "width": 400
        }
       },
       "data": {
        "name": "data-2a8dcf4a834b83a245e11fef17833771"
       },
       "datasets": {
        "data-2a8dcf4a834b83a245e11fef17833771": [
         {
          "group": "business",
          "x": -1.2754358065479625,
          "y": 0.14587483148912192
         },
         {
          "group": "business",
          "x": -1.1361813924598607,
          "y": 1.7262103187515634
         },
         {
          "group": "business",
          "x": -1.1086207731703874,
          "y": -0.9709771457403974
         },
         {
          "group": "business",
          "x": -0.2512268763673353,
          "y": -0.7911433666845524
         },
         {
          "group": "business",
          "x": -0.38330845081195075,
          "y": -1.1817617821803614
         },
         {
          "group": "business",
          "x": -1.001492700257443,
          "y": 0.17825333566136864
         },
         {
          "group": "business",
          "x": -1.2999612467309085,
          "y": 0.4414649927953293
         },
         {
          "group": "business",
          "x": -0.9857512098573815,
          "y": -0.339049717929691
         },
         {
          "group": "business",
          "x": -1.1463433072413387,
          "y": -0.30342974564374137
         },
         {
          "group": "business",
          "x": -0.3000564946787693,
          "y": -1.135521230639616
         },
         {
          "group": "business",
          "x": -0.7051620991775077,
          "y": -0.3797316096251721
         },
         {
          "group": "business",
          "x": -1.3309852172613224,
          "y": 1.2578838329169446
         },
         {
          "group": "business",
          "x": -0.2901423677074294,
          "y": -0.19689443844158658
         },
         {
          "group": "business",
          "x": -0.45338207892531734,
          "y": 0.296414456162484
         },
         {
          "group": "business",
          "x": 0.3381238991304023,
          "y": -2.559793344112516
         },
         {
          "group": "business",
          "x": -1.302943522270987,
          "y": 0.9118549995509333
         },
         {
          "group": "business",
          "x": -0.05741319441441005,
          "y": 2.6264426401422662
         },
         {
          "group": "business",
          "x": -2.782654400738043,
          "y": -0.8054552864501356
         },
         {
          "group": "business",
          "x": -2.5882257934093706,
          "y": 0.6903401719284594
         },
         {
          "group": "business",
          "x": -0.37000113258535655,
          "y": -0.8724051406086314
         },
         {
          "group": "business",
          "x": -1.3436030741938023,
          "y": -1.4226701830724346
         },
         {
          "group": "business",
          "x": 0.15290410756851852,
          "y": 3.0168248232454067
         },
         {
          "group": "business",
          "x": -0.48193707485143666,
          "y": 0.06600229758768669
         },
         {
          "group": "business",
          "x": -0.36818942829728923,
          "y": -0.25932684406953793
         },
         {
          "group": "business",
          "x": -1.491641755870391,
          "y": -0.08858368013098473
         },
         {
          "group": "business",
          "x": -0.2700929413019596,
          "y": 1.269176654098026
         },
         {
          "group": "business",
          "x": -0.8874552406009127,
          "y": -1.396591062079541
         },
         {
          "group": "business",
          "x": -2.464815053695061,
          "y": 1.1867817919943178
         },
         {
          "group": "business",
          "x": -1.1037011005496775,
          "y": -0.6076085947150776
         },
         {
          "group": "business",
          "x": -0.45030585399416784,
          "y": 0.7923091277039408
         },
         {
          "group": "business",
          "x": -0.8756482895157512,
          "y": -1.6264790522975123
         },
         {
          "group": "business",
          "x": -0.0806757606740395,
          "y": 0.44318106878761526
         },
         {
          "group": "business",
          "x": -0.6811276882188438,
          "y": 3.020021907860713
         },
         {
          "group": "business",
          "x": -0.29640907838259906,
          "y": -1.5743260637145362
         },
         {
          "group": "business",
          "x": -0.6610041524979267,
          "y": 0.9636747572318864
         },
         {
          "group": "business",
          "x": -0.43699125524774873,
          "y": -0.1134799434319
         },
         {
          "group": "business",
          "x": -1.3331771321397865,
          "y": -0.2889500475811496
         },
         {
          "group": "business",
          "x": -0.9866200113222561,
          "y": 0.9796844506182617
         },
         {
          "group": "business",
          "x": 0.04648786796363662,
          "y": 0.3049912905694385
         },
         {
          "group": "business",
          "x": -0.9450344246444827,
          "y": -0.3300301580289223
         },
         {
          "group": "business",
          "x": -1.3401681169060946,
          "y": 0.03687743610521364
         },
         {
          "group": "business",
          "x": -0.6153002509283731,
          "y": 0.12500940343435818
         },
         {
          "group": "business",
          "x": -1.6188755381288078,
          "y": 1.7230308334177284
         },
         {
          "group": "business",
          "x": -3.4231123619787103,
          "y": 1.2724258011196496
         },
         {
          "group": "business",
          "x": -1.2792472650122084,
          "y": 0.02224017843966304
         },
         {
          "group": "business",
          "x": -1.2826165796544795,
          "y": 0.5207986769815622
         },
         {
          "group": "business",
          "x": -1.487479503604096,
          "y": 1.5126583041653114
         },
         {
          "group": "business",
          "x": -1.0885974723242997,
          "y": 0.23486441526284738
         },
         {
          "group": "business",
          "x": -1.9532636867637698,
          "y": -0.8578197738792226
         },
         {
          "group": "business",
          "x": -1.3161942835160787,
          "y": -0.30041541846244085
         },
         {
          "group": "business",
          "x": -1.5403834733306612,
          "y": -1.109769014968503
         },
         {
          "group": "business",
          "x": -0.49315126792448505,
          "y": -1.2817708661196463
         },
         {
          "group": "business",
          "x": -0.7681689986118668,
          "y": -1.8499913648277324
         },
         {
          "group": "business",
          "x": -0.8604866507823953,
          "y": -0.43763481850764735
         },
         {
          "group": "business",
          "x": -0.8357986432253761,
          "y": 1.6654857733439916
         },
         {
          "group": "business",
          "x": -1.608127978275452,
          "y": -1.1483924587314405
         },
         {
          "group": "business",
          "x": -0.6955271580152637,
          "y": 0.30537660185955595
         },
         {
          "group": "business",
          "x": -0.4376175126160533,
          "y": 1.281900397611767
         },
         {
          "group": "business",
          "x": 0.005382520748581177,
          "y": -0.8609226779904343
         },
         {
          "group": "business",
          "x": -0.5447811052546588,
          "y": 1.7768571362483758
         },
         {
          "group": "business",
          "x": -2.489685372803624,
          "y": 1.8192547140330098
         },
         {
          "group": "business",
          "x": -1.9252837474164353,
          "y": 1.7896987260795725
         },
         {
          "group": "business",
          "x": 0.5055818952667196,
          "y": 0.2468342192815986
         },
         {
          "group": "business",
          "x": 0.577456579712246,
          "y": -1.437601588393285
         },
         {
          "group": "business",
          "x": -0.25723150530396705,
          "y": -0.3702953556514102
         },
         {
          "group": "business",
          "x": -1.5482836789609224,
          "y": -0.14425702117494935
         },
         {
          "group": "business",
          "x": -0.5242639087346005,
          "y": 1.1397447629079676
         },
         {
          "group": "business",
          "x": -1.957495106198383,
          "y": -0.6298295634096517
         },
         {
          "group": "business",
          "x": -0.10394567373757752,
          "y": -1.213378255731612
         },
         {
          "group": "business",
          "x": -0.08254894234472623,
          "y": -1.3350749482339244
         },
         {
          "group": "business",
          "x": -1.7475242216402183,
          "y": 0.8098114867876505
         },
         {
          "group": "business",
          "x": 0.7510473600298598,
          "y": -0.7347798626454303
         },
         {
          "group": "business",
          "x": -0.9309577300174332,
          "y": 0.7031994231090083
         },
         {
          "group": "business",
          "x": -1.417691818732077,
          "y": 0.7995042483222383
         },
         {
          "group": "business",
          "x": -1.4771166592426248,
          "y": 1.0585143925327758
         },
         {
          "group": "business",
          "x": -0.6484267103107659,
          "y": 1.7103676283219496
         },
         {
          "group": "business",
          "x": -1.1279299630258124,
          "y": -0.41860091806522237
         },
         {
          "group": "business",
          "x": -0.41374509414915844,
          "y": 0.4621644108633546
         },
         {
          "group": "business",
          "x": -0.3012010623264735,
          "y": 1.6953374225864501
         },
         {
          "group": "business",
          "x": -0.558753296503634,
          "y": 0.20503198104162637
         },
         {
          "group": "business",
          "x": -2.8497024506050903,
          "y": -0.10613949450540353
         },
         {
          "group": "business",
          "x": -2.189406815113256,
          "y": -0.674260212144989
         },
         {
          "group": "business",
          "x": -0.45114134207226864,
          "y": 0.12918973101603035
         },
         {
          "group": "business",
          "x": -1.4985423194985512,
          "y": -0.8269077200831977
         },
         {
          "group": "business",
          "x": 0.018995467702447633,
          "y": 0.5353405285242416
         },
         {
          "group": "business",
          "x": -2.03601944959356,
          "y": 1.7204425920954052
         },
         {
          "group": "business",
          "x": -0.05152824167132706,
          "y": -0.6450460476079964
         },
         {
          "group": "business",
          "x": -0.9972591585688406,
          "y": -0.8529735664385931
         },
         {
          "group": "business",
          "x": -1.2877958170702954,
          "y": -1.179621131103348
         },
         {
          "group": "business",
          "x": -0.5873261990758587,
          "y": 1.0723089520381912
         },
         {
          "group": "business",
          "x": -0.08737576172246551,
          "y": 1.0220492382474555
         },
         {
          "group": "business",
          "x": -1.544032950910272,
          "y": -0.30376536351225925
         },
         {
          "group": "business",
          "x": -0.5268510124222431,
          "y": -0.8151507229264546
         },
         {
          "group": "business",
          "x": -1.8859543648511272,
          "y": 0.5763952226048111
         },
         {
          "group": "business",
          "x": -1.9132816111269566,
          "y": -1.1513373706643597
         },
         {
          "group": "business",
          "x": -1.3448673984479897,
          "y": 0.604982226454798
         },
         {
          "group": "business",
          "x": 0.1934205299577502,
          "y": -0.1930627188460372
         },
         {
          "group": "business",
          "x": -0.21742360769733624,
          "y": 0.5546681396634832
         },
         {
          "group": "business",
          "x": -0.6806835616637869,
          "y": -1.1728293586766032
         },
         {
          "group": "business",
          "x": -3.508324036501976,
          "y": -2.4840050730476193
         },
         {
          "group": "business",
          "x": -0.37584136658778905,
          "y": 1.0940132990013427
         },
         {
          "group": "business",
          "x": -1.0693438859176363,
          "y": -2.996707657218639
         },
         {
          "group": "business",
          "x": -2.2909737377053907,
          "y": 0.33701810500906165
         },
         {
          "group": "business",
          "x": -1.32141803078169,
          "y": -0.04830777921307611
         },
         {
          "group": "business",
          "x": -1.6241793797587314,
          "y": 1.2534520848099264
         },
         {
          "group": "business",
          "x": -0.6144962664009394,
          "y": 1.2301350313871762
         },
         {
          "group": "business",
          "x": -0.8179737099171202,
          "y": 0.5896564625458955
         },
         {
          "group": "business",
          "x": 0.4544937852150295,
          "y": -2.129531381520864
         },
         {
          "group": "business",
          "x": -0.7257154270118671,
          "y": 0.8967345663545638
         },
         {
          "group": "business",
          "x": -1.5946573343662276,
          "y": 0.545909623438238
         },
         {
          "group": "business",
          "x": -1.5740853409877325,
          "y": -1.0340399514856087
         },
         {
          "group": "business",
          "x": -1.0471186233637038,
          "y": -0.5523643654543
         },
         {
          "group": "business",
          "x": -0.6579161977914827,
          "y": -1.4170974309949926
         },
         {
          "group": "business",
          "x": -1.9867240329243918,
          "y": 0.6941392136298085
         },
         {
          "group": "business",
          "x": -1.9819060581360455,
          "y": -0.8269794582827732
         },
         {
          "group": "business",
          "x": -0.3101830989360619,
          "y": -1.2096704007375951
         },
         {
          "group": "business",
          "x": -1.1467492968212127,
          "y": -1.4286734267406302
         },
         {
          "group": "business",
          "x": -1.4469227936325686,
          "y": 0.996867381843931
         },
         {
          "group": "business",
          "x": -1.4681917621540193,
          "y": -1.4582433097105039
         },
         {
          "group": "business",
          "x": -0.7505811734708656,
          "y": -0.5468478793485595
         },
         {
          "group": "business",
          "x": -1.0615757676668156,
          "y": 1.0236452352021042
         },
         {
          "group": "business",
          "x": -0.6656438192210852,
          "y": -1.7285171677678277
         },
         {
          "group": "business",
          "x": 0.4647971243695816,
          "y": -0.7474332957355817
         },
         {
          "group": "business",
          "x": -1.609432321697362,
          "y": -0.4269001126704453
         },
         {
          "group": "business",
          "x": -1.5678122580314333,
          "y": -1.0763117377861184
         },
         {
          "group": "business",
          "x": -0.9154180799272765,
          "y": 0.5674927541057674
         },
         {
          "group": "business",
          "x": -1.0774158651046806,
          "y": 2.18345616215121
         },
         {
          "group": "business",
          "x": -2.024039187700248,
          "y": -0.4675311897191974
         },
         {
          "group": "business",
          "x": -0.09569294579514344,
          "y": -1.301506029951739
         },
         {
          "group": "business",
          "x": -0.7909022800025264,
          "y": 1.1451530764825348
         },
         {
          "group": "business",
          "x": -0.5817840334873552,
          "y": 0.4109547355251159
         },
         {
          "group": "business",
          "x": -0.5907558229435435,
          "y": 0.27374743285035513
         },
         {
          "group": "business",
          "x": -1.5902932455773615,
          "y": -0.5878338011897606
         },
         {
          "group": "business",
          "x": -1.1189779751929436,
          "y": -1.0404061411577885
         },
         {
          "group": "business",
          "x": -0.5455673281514989,
          "y": -1.268550622569667
         },
         {
          "group": "business",
          "x": -1.084890950655752,
          "y": 1.889370807968194
         },
         {
          "group": "business",
          "x": -0.8089511176050109,
          "y": -1.5177310073454877
         },
         {
          "group": "business",
          "x": -1.3232645180834086,
          "y": -1.8647223304127225
         },
         {
          "group": "business",
          "x": -1.810698595157929,
          "y": -0.6618584472246803
         },
         {
          "group": "business",
          "x": -0.6211661720820543,
          "y": 0.8409507612663606
         },
         {
          "group": "business",
          "x": -2.4095961041198404,
          "y": -0.8163460867265667
         },
         {
          "group": "business",
          "x": -1.341986503195222,
          "y": 0.44239303746654235
         },
         {
          "group": "business",
          "x": -1.226863326442807,
          "y": 0.662197378481527
         },
         {
          "group": "business",
          "x": -2.366084969086903,
          "y": -1.7892883708389113
         },
         {
          "group": "business",
          "x": -0.8865571016884635,
          "y": -1.2706397666572034
         },
         {
          "group": "business",
          "x": 0.045052214904580355,
          "y": 3.447485554140413
         },
         {
          "group": "business",
          "x": -0.31871879699201466,
          "y": 0.6063435109944406
         },
         {
          "group": "business",
          "x": -0.5689875056688452,
          "y": 1.2226337094515376
         },
         {
          "group": "business",
          "x": -0.10903454241993431,
          "y": 0.09483478571724634
         },
         {
          "group": "business",
          "x": -0.7026675442780907,
          "y": -0.44495577112447754
         },
         {
          "group": "business",
          "x": -1.0570058760899546,
          "y": 1.4078938677783872
         },
         {
          "group": "business",
          "x": -1.410979115158455,
          "y": 0.02129683710709558
         },
         {
          "group": "business",
          "x": -1.0262355604904105,
          "y": 0.23505665650601537
         },
         {
          "group": "business",
          "x": -2.852329954445201,
          "y": -0.19179465168654666
         },
         {
          "group": "business",
          "x": -1.3170209970203766,
          "y": -1.3004389995248284
         },
         {
          "group": "business",
          "x": -0.3510857940325537,
          "y": -0.019829978983002535
         },
         {
          "group": "business",
          "x": 0.1139363558543901,
          "y": 0.8758616624512813
         },
         {
          "group": "business",
          "x": 0.2153766686473469,
          "y": 1.7554547743811275
         },
         {
          "group": "business",
          "x": -0.071433946357036,
          "y": 2.0113154439885923
         },
         {
          "group": "business",
          "x": -0.9007582855419762,
          "y": -0.49050081491613384
         },
         {
          "group": "business",
          "x": -0.4717941181730335,
          "y": -1.657772709390045
         },
         {
          "group": "business",
          "x": 0.03601444279689169,
          "y": -1.144176110101982
         },
         {
          "group": "business",
          "x": -2.010489379439334,
          "y": -0.5108190461155312
         },
         {
          "group": "business",
          "x": -0.25489921450690967,
          "y": 0.5049813424099278
         },
         {
          "group": "business",
          "x": -1.221088043465957,
          "y": 1.5710145598028054
         },
         {
          "group": "business",
          "x": -0.7793676864659614,
          "y": 0.6145151243343119
         },
         {
          "group": "business",
          "x": -1.7155944133281622,
          "y": 0.05723244473300021
         },
         {
          "group": "business",
          "x": -0.1253546391823688,
          "y": -2.086051088220411
         },
         {
          "group": "business",
          "x": -1.3982743860190736,
          "y": -1.7939540221414165
         },
         {
          "group": "business",
          "x": -1.1415600103344352,
          "y": -0.9116106374005566
         },
         {
          "group": "business",
          "x": -0.6676496322927757,
          "y": 0.5908645757187393
         },
         {
          "group": "business",
          "x": -0.13200815110028832,
          "y": 2.012389649080466
         },
         {
          "group": "business",
          "x": -1.8843348047121704,
          "y": -0.7917443020319446
         },
         {
          "group": "business",
          "x": -1.0782027929140607,
          "y": 1.1931115972701218
         },
         {
          "group": "business",
          "x": -0.9531491892300006,
          "y": 1.2005251202832554
         },
         {
          "group": "business",
          "x": -0.02430836397188428,
          "y": -0.4799390114854673
         },
         {
          "group": "business",
          "x": -1.3184831255437959,
          "y": 0.362725650879727
         },
         {
          "group": "business",
          "x": -0.5832387607364243,
          "y": -1.4652916300726024
         },
         {
          "group": "business",
          "x": -1.5450219492069384,
          "y": -1.4054798770050665
         },
         {
          "group": "business",
          "x": -1.2074075531549964,
          "y": 0.32692091121761224
         },
         {
          "group": "business",
          "x": -1.4023649426744393,
          "y": 0.19445646514792517
         },
         {
          "group": "business",
          "x": -1.391468759028281,
          "y": 0.08746874927127563
         },
         {
          "group": "business",
          "x": -1.2499080514505376,
          "y": 1.7611064819004802
         },
         {
          "group": "business",
          "x": -1.4665305424257256,
          "y": -0.9510120728471885
         },
         {
          "group": "business",
          "x": -0.3876103330549447,
          "y": 1.6122770245517057
         },
         {
          "group": "business",
          "x": -0.8714430691470221,
          "y": 0.9764818425053917
         },
         {
          "group": "business",
          "x": -1.230642941587628,
          "y": 0.13784710509595985
         },
         {
          "group": "business",
          "x": 0.30210110904713056,
          "y": -1.4636169056995558
         },
         {
          "group": "business",
          "x": -0.22662950912944363,
          "y": 0.7022227568880774
         },
         {
          "group": "business",
          "x": -0.6694758340678176,
          "y": -0.3137187923127135
         },
         {
          "group": "business",
          "x": -0.5543771944896122,
          "y": -0.19537759659997003
         },
         {
          "group": "business",
          "x": 0.07813066155090213,
          "y": -0.13180285954666562
         },
         {
          "group": "business",
          "x": -0.9672570810806009,
          "y": -1.6213924580767247
         },
         {
          "group": "business",
          "x": -1.0623111164750787,
          "y": -1.6463300142780184
         },
         {
          "group": "business",
          "x": -1.5076354489303403,
          "y": 1.5786663441074054
         },
         {
          "group": "business",
          "x": -1.131973547221433,
          "y": -1.6453569789618683
         },
         {
          "group": "business",
          "x": -0.5594232244796173,
          "y": 0.7931556423589852
         },
         {
          "group": "business",
          "x": -0.3357068820600695,
          "y": -1.1689316381971784
         },
         {
          "group": "business",
          "x": 0.7706628370935812,
          "y": -0.9221935207901265
         },
         {
          "group": "business",
          "x": -0.13747562021459578,
          "y": 2.9063777476768027
         },
         {
          "group": "business",
          "x": -2.1240146386625516,
          "y": -1.2321205400215653
         },
         {
          "group": "business",
          "x": -0.6090178734147506,
          "y": -2.248623975151309
         },
         {
          "group": "business",
          "x": -2.331139099331364,
          "y": -2.415680388155675
         },
         {
          "group": "business",
          "x": 0.7785040882290302,
          "y": 1.6394446674873044
         },
         {
          "group": "business",
          "x": -0.941493772354811,
          "y": -0.7268401793104509
         },
         {
          "group": "business",
          "x": -0.32344941621839424,
          "y": 0.5708404441113124
         },
         {
          "group": "business",
          "x": -0.62333312053902,
          "y": 0.3651825607678179
         },
         {
          "group": "business",
          "x": -2.074657165305892,
          "y": -0.020600100866540245
         },
         {
          "group": "business",
          "x": -2.6853307303381655,
          "y": -2.0730396799191655
         },
         {
          "group": "business",
          "x": 0.1118296336435233,
          "y": 2.4334990112204546
         },
         {
          "group": "business",
          "x": -1.9713518990319907,
          "y": -1.7118718780913706
         },
         {
          "group": "business",
          "x": -1.2260187298976215,
          "y": -0.959463668848401
         },
         {
          "group": "business",
          "x": -0.08618611870334195,
          "y": 0.6906006829989213
         },
         {
          "group": "business",
          "x": -0.9660988208480269,
          "y": 1.5270173562443519
         },
         {
          "group": "business",
          "x": -2.49489049182635,
          "y": -1.923223990650389
         },
         {
          "group": "business",
          "x": -0.9802439446598322,
          "y": -1.1795673096582309
         },
         {
          "group": "business",
          "x": 0.5971280936787502,
          "y": 1.2364763288946943
         },
         {
          "group": "business",
          "x": -1.2650831869924715,
          "y": -1.1051501523300455
         },
         {
          "group": "business",
          "x": -2.2412859621266303,
          "y": -0.5775352384266156
         },
         {
          "group": "business",
          "x": -0.728570649516775,
          "y": -0.008535011556622181
         },
         {
          "group": "business",
          "x": -1.2082955128943873,
          "y": -0.40517852942888916
         },
         {
          "group": "business",
          "x": -1.270739185132567,
          "y": -0.0760270272673841
         },
         {
          "group": "business",
          "x": -1.04962389867529,
          "y": 0.33020015126616115
         },
         {
          "group": "business",
          "x": -2.135417525539924,
          "y": -2.7063862884928174
         },
         {
          "group": "business",
          "x": -1.7295430089582142,
          "y": -0.5191091816511605
         },
         {
          "group": "business",
          "x": -0.5484106463272351,
          "y": -0.6267069591565587
         },
         {
          "group": "business",
          "x": -0.5654139832413532,
          "y": -0.2966028258701519
         },
         {
          "group": "business",
          "x": -0.6741445387856925,
          "y": -0.22098606843493168
         },
         {
          "group": "business",
          "x": -1.239226296518266,
          "y": -1.6919093508188072
         },
         {
          "group": "business",
          "x": -1.2443172142041643,
          "y": 0.527994820530726
         },
         {
          "group": "business",
          "x": -2.0094097408630005,
          "y": -3.0406381792852413
         },
         {
          "group": "business",
          "x": -0.6045363882632877,
          "y": 0.8101545764575245
         },
         {
          "group": "business",
          "x": -0.3617388032424956,
          "y": -0.46247081071101975
         },
         {
          "group": "business",
          "x": -0.780487596692144,
          "y": 0.19962659589062443
         },
         {
          "group": "business",
          "x": -1.2943000902925574,
          "y": -1.1589218977896096
         },
         {
          "group": "business",
          "x": -0.561990731642392,
          "y": -2.16334046688336
         },
         {
          "group": "business",
          "x": 0.06663547858445781,
          "y": 0.12508518881212205
         },
         {
          "group": "business",
          "x": 0.02800258886854702,
          "y": 0.9628088613671215
         },
         {
          "group": "business",
          "x": -0.9172199124111654,
          "y": 0.7430303911060119
         },
         {
          "group": "business",
          "x": -0.7215156200784176,
          "y": 1.077022352807853
         },
         {
          "group": "business",
          "x": 0.01971694472123087,
          "y": 2.305560223965113
         },
         {
          "group": "business",
          "x": -0.3073187572426428,
          "y": -0.6138730598595837
         },
         {
          "group": "business",
          "x": -1.4569829284684284,
          "y": -0.5097563641118689
         },
         {
          "group": "business",
          "x": 0.34360118581401644,
          "y": 0.04842435047401171
         },
         {
          "group": "business",
          "x": -1.2463086408814992,
          "y": 1.2197855524277224
         },
         {
          "group": "business",
          "x": -0.790364963918532,
          "y": 0.8707432084153403
         },
         {
          "group": "business",
          "x": -1.992391781445581,
          "y": 0.23573990483991
         },
         {
          "group": "business",
          "x": -0.7984399976991201,
          "y": -0.8143222438898616
         },
         {
          "group": "business",
          "x": 0.20565875438159215,
          "y": 0.03957078648159594
         },
         {
          "group": "business",
          "x": -1.3115618070105777,
          "y": -0.42640301926868845
         },
         {
          "group": "business",
          "x": -0.23011789835302263,
          "y": -1.4323760357043094
         },
         {
          "group": "business",
          "x": -2.3138907511975635,
          "y": -0.5949222782018644
         },
         {
          "group": "business",
          "x": -0.43298858105824756,
          "y": 0.09575938416893916
         },
         {
          "group": "business",
          "x": -1.4152758666693925,
          "y": -1.094681827707535
         },
         {
          "group": "business",
          "x": -0.2914304507746039,
          "y": 0.44701471369625806
         },
         {
          "group": "business",
          "x": 0.29724696936246203,
          "y": -2.3271271542898275
         },
         {
          "group": "business",
          "x": 0.12554455838285616,
          "y": -0.2381867230369968
         },
         {
          "group": "business",
          "x": -0.6589356568245982,
          "y": 0.3217466380969333
         },
         {
          "group": "business",
          "x": -0.7209683287834329,
          "y": -2.0550817989670978
         },
         {
          "group": "business",
          "x": -1.500327004588731,
          "y": 1.0782098865124297
         },
         {
          "group": "business",
          "x": -0.8499659626672862,
          "y": 1.585588442420857
         },
         {
          "group": "business",
          "x": -0.6304181393939535,
          "y": 0.9665185075202124
         },
         {
          "group": "business",
          "x": 0.21663714863455746,
          "y": -0.42448937739112025
         },
         {
          "group": "business",
          "x": 0.04694910514542607,
          "y": -1.4625901488359987
         },
         {
          "group": "business",
          "x": -1.9738991341363048,
          "y": 1.254991687144341
         },
         {
          "group": "business",
          "x": -0.3741462089509258,
          "y": 0.4147484363139839
         },
         {
          "group": "business",
          "x": -0.4697160540409919,
          "y": -0.6863665474654651
         },
         {
          "group": "business",
          "x": 0.23203105758186182,
          "y": 1.9860550167901494
         },
         {
          "group": "business",
          "x": -0.9652335259698404,
          "y": -0.5197915392235132
         },
         {
          "group": "business",
          "x": -0.8289289291904441,
          "y": 2.06358114797118
         },
         {
          "group": "business",
          "x": -0.4877879739077481,
          "y": 1.0111340086021796
         },
         {
          "group": "business",
          "x": -0.40047132092281845,
          "y": 0.1415303167457524
         },
         {
          "group": "business",
          "x": -1.3978491211369843,
          "y": 0.53230683244035
         },
         {
          "group": "business",
          "x": -1.6625929362606935,
          "y": 0.40244053568556704
         },
         {
          "group": "business",
          "x": -0.9086825250097693,
          "y": 0.9045495995006901
         },
         {
          "group": "business",
          "x": -2.3202906859116497,
          "y": -1.4077873509678733
         },
         {
          "group": "business",
          "x": 0.22335806956664184,
          "y": 1.806704524570584
         },
         {
          "group": "business",
          "x": -0.7281033249834233,
          "y": -0.7450308017705806
         },
         {
          "group": "business",
          "x": -0.3710362917711621,
          "y": -1.2227413718480729
         },
         {
          "group": "business",
          "x": -0.19474623732229207,
          "y": -2.780992356385678
         },
         {
          "group": "business",
          "x": -0.754627977658481,
          "y": 0.0020032331630755566
         },
         {
          "group": "business",
          "x": -0.9263174643998427,
          "y": 0.43713519726547867
         },
         {
          "group": "business",
          "x": -1.2154257605093233,
          "y": 1.5887768507589022
         },
         {
          "group": "business",
          "x": 0.3615988908849991,
          "y": 2.4771270051440273
         },
         {
          "group": "business",
          "x": -0.9623483260778858,
          "y": -0.2882187984740684
         },
         {
          "group": "business",
          "x": -1.1354346188702735,
          "y": -1.0671840251304359
         },
         {
          "group": "business",
          "x": 0.3713734524364131,
          "y": 1.0265000538511864
         },
         {
          "group": "business",
          "x": -0.8174318186364419,
          "y": -1.1212143121671951
         },
         {
          "group": "business",
          "x": -0.37418958652001827,
          "y": 1.4688467598578345
         },
         {
          "group": "business",
          "x": -0.9929219462535583,
          "y": 1.0985195069308047
         },
         {
          "group": "business",
          "x": -1.8060322218234404,
          "y": -1.9588809976769512
         },
         {
          "group": "business",
          "x": -1.1167765060039394,
          "y": 0.7021863371168191
         },
         {
          "group": "business",
          "x": -1.3400416362635315,
          "y": -1.09266187370174
         },
         {
          "group": "business",
          "x": -1.1091234372700363,
          "y": 0.3435799023980318
         },
         {
          "group": "business",
          "x": -1.614803259338615,
          "y": 0.6905853382616053
         },
         {
          "group": "business",
          "x": -1.6513604832256676,
          "y": -0.20787289151357788
         },
         {
          "group": "business",
          "x": -1.9430794208808226,
          "y": -0.43680910983587445
         },
         {
          "group": "business",
          "x": -0.5535963664673165,
          "y": -0.08564235394208322
         },
         {
          "group": "business",
          "x": -1.2868584195132686,
          "y": 0.09910344109942072
         },
         {
          "group": "business",
          "x": -2.1514720497861193,
          "y": -0.2904070655711776
         },
         {
          "group": "business",
          "x": -0.6555079421399633,
          "y": 0.06392324262280545
         },
         {
          "group": "business",
          "x": -0.9265754056693655,
          "y": 0.1138793306639745
         },
         {
          "group": "business",
          "x": -2.1085191035813984,
          "y": 0.29093869113086884
         },
         {
          "group": "business",
          "x": -1.867015291180423,
          "y": -1.583305349062981
         },
         {
          "group": "business",
          "x": -0.9950045094533929,
          "y": -0.12716370721747525
         },
         {
          "group": "business",
          "x": -1.353780159487884,
          "y": -1.0363865527685645
         },
         {
          "group": "business",
          "x": -0.6705674436800707,
          "y": -0.3447983936042579
         },
         {
          "group": "business",
          "x": -2.0944471295752454,
          "y": -0.04030223024179459
         },
         {
          "group": "business",
          "x": -2.2432558162348233,
          "y": -0.08437547397499515
         },
         {
          "group": "business",
          "x": -1.271717446393228,
          "y": -0.7151640713477714
         },
         {
          "group": "business",
          "x": -2.0399294703335324,
          "y": 0.41357107712627134
         },
         {
          "group": "business",
          "x": -1.3627888200205795,
          "y": 1.2628529177376033
         },
         {
          "group": "business",
          "x": -0.29395701082783876,
          "y": 0.4792993926803082
         },
         {
          "group": "business",
          "x": -0.7434845090898026,
          "y": 1.0282505137413875
         },
         {
          "group": "business",
          "x": -1.2239443010146862,
          "y": 0.2423316517239364
         },
         {
          "group": "business",
          "x": -0.3355825775755212,
          "y": 1.0128325795129065
         },
         {
          "group": "business",
          "x": -0.48046534346070763,
          "y": 0.7129869014283143
         },
         {
          "group": "business",
          "x": -0.9264380572904548,
          "y": 0.4098168744906584
         },
         {
          "group": "business",
          "x": -1.104273307599348,
          "y": -1.0867245270074435
         },
         {
          "group": "business",
          "x": -0.10813920366716481,
          "y": -1.9257569029678367
         },
         {
          "group": "business",
          "x": -1.443178499176692,
          "y": 1.804250128395664
         },
         {
          "group": "business",
          "x": -1.777529746174973,
          "y": 0.8478584597356155
         },
         {
          "group": "business",
          "x": -1.5879473168221039,
          "y": -1.3992887681080026
         },
         {
          "group": "business",
          "x": -2.8968915309064895,
          "y": -0.01845900927859223
         },
         {
          "group": "business",
          "x": -1.7240824292333967,
          "y": -1.1856956031618513
         },
         {
          "group": "business",
          "x": -1.2675401838148643,
          "y": -0.3262682526089632
         },
         {
          "group": "business",
          "x": -2.1393693460266694,
          "y": 0.8480524206391412
         },
         {
          "group": "business",
          "x": -1.782420236226034,
          "y": 1.378822733421806
         },
         {
          "group": "business",
          "x": -2.042430899119082,
          "y": 0.853336704476523
         },
         {
          "group": "business",
          "x": -0.8659980112655218,
          "y": 1.1342534155743624
         },
         {
          "group": "business",
          "x": -1.4186990621501823,
          "y": -0.3436526965881795
         },
         {
          "group": "business",
          "x": -1.3304376963678912,
          "y": 0.1836364259075126
         },
         {
          "group": "business",
          "x": -2.2271138035279194,
          "y": -1.3329569884173467
         },
         {
          "group": "business",
          "x": -0.24788907050396927,
          "y": 1.3604141725906396
         },
         {
          "group": "business",
          "x": -1.1283776111520152,
          "y": -0.32648085251481473
         },
         {
          "group": "business",
          "x": -0.747231536078882,
          "y": -0.3765797695985348
         },
         {
          "group": "business",
          "x": 0.040577829943126344,
          "y": -1.0806401099878133
         },
         {
          "group": "business",
          "x": -1.3504717645534579,
          "y": 0.8318026196842886
         },
         {
          "group": "business",
          "x": -0.892562375628203,
          "y": 2.032753394754856
         },
         {
          "group": "business",
          "x": -0.6527518838188123,
          "y": 0.9258694274273677
         },
         {
          "group": "business",
          "x": -1.1868680469692163,
          "y": 0.6092339099185939
         },
         {
          "group": "business",
          "x": -0.4718502387847246,
          "y": 0.19632830548511002
         },
         {
          "group": "business",
          "x": -1.4509605110451005,
          "y": -1.5972959635583777
         },
         {
          "group": "business",
          "x": 0.024685524574663425,
          "y": -0.3867394410747526
         },
         {
          "group": "business",
          "x": -0.9617691574023015,
          "y": 1.7296481957651164
         },
         {
          "group": "business",
          "x": -0.7599090107276666,
          "y": 1.200218885650476
         },
         {
          "group": "business",
          "x": -0.8839346973586989,
          "y": -1.046332616289748
         },
         {
          "group": "business",
          "x": -1.3056438642999477,
          "y": -1.201202376116264
         },
         {
          "group": "business",
          "x": -0.373210007069328,
          "y": -0.6153481691379091
         },
         {
          "group": "business",
          "x": -0.6687317976818574,
          "y": 0.028937115871314933
         },
         {
          "group": "business",
          "x": -1.0212537806233002,
          "y": -0.7685455848195135
         },
         {
          "group": "business",
          "x": 0.08002344026616252,
          "y": -1.2930157896886518
         },
         {
          "group": "business",
          "x": -0.4546857455148515,
          "y": 0.10522949882854178
         },
         {
          "group": "business",
          "x": -0.8895788040042234,
          "y": 0.8841790270985516
         },
         {
          "group": "business",
          "x": -0.1717464037903881,
          "y": 0.7647465365922084
         },
         {
          "group": "business",
          "x": -1.486726867406013,
          "y": 0.14111774636968014
         },
         {
          "group": "business",
          "x": -1.013017758151846,
          "y": -1.14976239476926
         },
         {
          "group": "business",
          "x": -0.09440674975736915,
          "y": 0.20671226845468496
         },
         {
          "group": "business",
          "x": -0.7531804586669166,
          "y": -1.9404538588724636
         },
         {
          "group": "business",
          "x": -0.08261155747781906,
          "y": 2.1776610201390216
         },
         {
          "group": "business",
          "x": -0.07478542874313733,
          "y": 1.111145932032312
         },
         {
          "group": "business",
          "x": -0.1577644628205179,
          "y": -2.218152908136293
         },
         {
          "group": "business",
          "x": -0.03154128279349657,
          "y": -0.5448641948654558
         },
         {
          "group": "business",
          "x": -0.3357974724638015,
          "y": 0.3228233075137429
         },
         {
          "group": "business",
          "x": -0.701165022935302,
          "y": -1.3077198310024885
         },
         {
          "group": "business",
          "x": 0.47398630660182245,
          "y": 0.47374192844713814
         },
         {
          "group": "business",
          "x": -1.711346968793897,
          "y": 1.0272585961636493
         },
         {
          "group": "business",
          "x": -0.05678689730559221,
          "y": -0.06022656028109991
         },
         {
          "group": "business",
          "x": -1.2194799935251626,
          "y": 2.5620959843038853
         },
         {
          "group": "business",
          "x": -0.7633837311861655,
          "y": -0.23079599574511556
         },
         {
          "group": "business",
          "x": -0.9869458167698846,
          "y": 0.4499298606650381
         },
         {
          "group": "business",
          "x": -0.7101752756816031,
          "y": -1.778468871549126
         },
         {
          "group": "business",
          "x": -0.868453211966454,
          "y": 1.9397476156236906
         },
         {
          "group": "business",
          "x": -0.3015778714160112,
          "y": 1.3470712873526929
         },
         {
          "group": "business",
          "x": -0.07344428718964666,
          "y": 0.5301851905359329
         },
         {
          "group": "business",
          "x": -1.7536025646852675,
          "y": -0.5281080186541929
         },
         {
          "group": "business",
          "x": -1.5100096693378116,
          "y": 0.8325221422845679
         },
         {
          "group": "business",
          "x": 0.4233655609939231,
          "y": -1.2508362740536942
         },
         {
          "group": "business",
          "x": -0.162709444879348,
          "y": 0.1622534142392039
         },
         {
          "group": "business",
          "x": -1.0593007420097122,
          "y": -0.34268303211256124
         },
         {
          "group": "business",
          "x": -0.4751392607542137,
          "y": 3.59154629773307
         },
         {
          "group": "business",
          "x": -1.07672061541565,
          "y": 0.6418238749219058
         },
         {
          "group": "business",
          "x": -0.5828244086875962,
          "y": 0.8866865719532072
         },
         {
          "group": "business",
          "x": -0.11066513033153393,
          "y": -1.5083197628217015
         },
         {
          "group": "business",
          "x": -0.5195705596032237,
          "y": 0.9521914072877862
         },
         {
          "group": "business",
          "x": -1.1763754959018577,
          "y": -0.21869257799441427
         },
         {
          "group": "business",
          "x": -0.9552356654781379,
          "y": 1.1333765912123634
         },
         {
          "group": "business",
          "x": -1.300852501992663,
          "y": 0.8796503772860654
         },
         {
          "group": "business",
          "x": 0.36370142795886734,
          "y": 2.4888484676840044
         },
         {
          "group": "business",
          "x": -0.1732814975503775,
          "y": 1.1092160396958637
         },
         {
          "group": "business",
          "x": -1.3345901108403846,
          "y": -1.144932893198949
         },
         {
          "group": "business",
          "x": -0.7166439755561017,
          "y": 0.0273923771127166
         },
         {
          "group": "business",
          "x": -1.6018754166497526,
          "y": -0.44061270250293166
         },
         {
          "group": "business",
          "x": -1.2820046148218598,
          "y": -0.8850082935773064
         },
         {
          "group": "business",
          "x": -0.3355972142012979,
          "y": 0.8843872062090088
         },
         {
          "group": "business",
          "x": -2.055798999520586,
          "y": -1.6027040303120963
         },
         {
          "group": "business",
          "x": -0.5901583331470013,
          "y": -1.317753950063366
         },
         {
          "group": "business",
          "x": -1.652663212079925,
          "y": 0.800473194757607
         },
         {
          "group": "business",
          "x": 0.13146028282391653,
          "y": 0.49593692812852674
         },
         {
          "group": "business",
          "x": -1.0435134708533782,
          "y": -1.3186266254632009
         },
         {
          "group": "business",
          "x": -1.6618276862795769,
          "y": -0.935637315411397
         },
         {
          "group": "business",
          "x": -2.032850474609842,
          "y": 0.3782522594321489
         },
         {
          "group": "business",
          "x": -2.0290821461061683,
          "y": -1.96382560502462
         },
         {
          "group": "business",
          "x": -0.6912064897877117,
          "y": 1.226018620089694
         },
         {
          "group": "business",
          "x": -1.8809050799393572,
          "y": 1.8564483543790442
         },
         {
          "group": "business",
          "x": -0.9327581436057287,
          "y": -2.0988110120522427
         },
         {
          "group": "business",
          "x": -1.3589145290263942,
          "y": -0.44056368178548905
         },
         {
          "group": "business",
          "x": -0.5961636196386468,
          "y": -0.5128543295484337
         },
         {
          "group": "business",
          "x": -1.6310207460931356,
          "y": -0.11794053429590483
         },
         {
          "group": "business",
          "x": -1.6850814957941924,
          "y": -1.1513550364544725
         },
         {
          "group": "business",
          "x": -0.5387501913355175,
          "y": -0.07016041365351405
         },
         {
          "group": "business",
          "x": 0.16901292867263215,
          "y": 1.4857083575884922
         },
         {
          "group": "business",
          "x": 0.23699185649797502,
          "y": 2.4142374504528537
         },
         {
          "group": "business",
          "x": -0.4845528234980932,
          "y": -1.0505082035453037
         },
         {
          "group": "business",
          "x": -2.708705605127938,
          "y": 0.9012537877358998
         },
         {
          "group": "business",
          "x": -2.2712063340381596,
          "y": 0.3196289496412785
         },
         {
          "group": "business",
          "x": -0.3707157775787922,
          "y": -1.887510637694538
         },
         {
          "group": "business",
          "x": -0.26906458437734293,
          "y": -0.8879877115183931
         },
         {
          "group": "business",
          "x": -1.6885167618959354,
          "y": -0.679155714357756
         },
         {
          "group": "business",
          "x": -3.2381867549342664,
          "y": 1.9527084329046118
         },
         {
          "group": "business",
          "x": -1.2282351394756104,
          "y": -0.41816925822442547
         },
         {
          "group": "business",
          "x": -1.2958024578439085,
          "y": -0.6458038305023157
         },
         {
          "group": "business",
          "x": -0.8068450472226669,
          "y": 0.3810836191681637
         },
         {
          "group": "business",
          "x": 0.4728245568911097,
          "y": 0.532646058471271
         },
         {
          "group": "business",
          "x": -1.2113180506770331,
          "y": -1.3743995219311738
         },
         {
          "group": "business",
          "x": -1.2012805576045456,
          "y": -0.12054012450407611
         },
         {
          "group": "business",
          "x": -0.9031153376635976,
          "y": 0.4509137264245598
         },
         {
          "group": "business",
          "x": -1.6957974657861155,
          "y": 0.10997842697977588
         },
         {
          "group": "business",
          "x": -0.9543783258920285,
          "y": 0.07173908047298645
         },
         {
          "group": "business",
          "x": -0.4260883597262396,
          "y": -0.29573525321879146
         },
         {
          "group": "business",
          "x": -1.1058699043873956,
          "y": -0.9686217621453602
         },
         {
          "group": "business",
          "x": 0.4691077280571444,
          "y": -0.4684914091137429
         },
         {
          "group": "business",
          "x": -1.0126930569226475,
          "y": -0.19694496604630762
         },
         {
          "group": "business",
          "x": 0.26767098942315354,
          "y": 2.0058297353348133
         },
         {
          "group": "business",
          "x": -1.0372894437702376,
          "y": -1.1585726944772092
         },
         {
          "group": "business",
          "x": -2.6376912819737535,
          "y": -0.023915649402652756
         },
         {
          "group": "business",
          "x": -1.4046279877236694,
          "y": 2.4816171125420396
         },
         {
          "group": "business",
          "x": -2.3835288199782845,
          "y": 0.11916359308444621
         },
         {
          "group": "business",
          "x": -1.6131323175846541,
          "y": 1.355114015487964
         },
         {
          "group": "business",
          "x": -0.9537528431859771,
          "y": 1.135753613072413
         },
         {
          "group": "business",
          "x": -1.8046075167702524,
          "y": 1.6899285066044711
         },
         {
          "group": "business",
          "x": -1.5175460582469842,
          "y": 1.4172706851554115
         },
         {
          "group": "business",
          "x": 0.1419566126646661,
          "y": 1.8108886273449427
         },
         {
          "group": "business",
          "x": -0.9731604938876237,
          "y": -0.7392791768950498
         },
         {
          "group": "business",
          "x": -0.43781905011677863,
          "y": -1.2054006733234162
         },
         {
          "group": "business",
          "x": -0.13792816576966763,
          "y": -0.9889108589739941
         },
         {
          "group": "business",
          "x": -2.8036484447973296,
          "y": -0.8338359403712384
         },
         {
          "group": "business",
          "x": -1.3899028258528434,
          "y": -2.4792008339605087
         },
         {
          "group": "business",
          "x": -0.9804685380693539,
          "y": 0.5228512523337683
         },
         {
          "group": "business",
          "x": -0.9664533832205413,
          "y": 0.1120926760788114
         },
         {
          "group": "business",
          "x": -2.4122593376967996,
          "y": 2.0345648876398035
         },
         {
          "group": "business",
          "x": -0.20994886393464646,
          "y": -1.7141944005580956
         },
         {
          "group": "business",
          "x": -3.6865645611344062,
          "y": 0.7458676120842301
         },
         {
          "group": "business",
          "x": -0.6255128644735375,
          "y": 0.048518482029336875
         },
         {
          "group": "business",
          "x": -1.9190373546967894,
          "y": 0.7675109925134996
         },
         {
          "group": "business",
          "x": -0.995863081394028,
          "y": 1.511868019981759
         },
         {
          "group": "business",
          "x": -0.7412754168761398,
          "y": 2.1604594564181823
         },
         {
          "group": "business",
          "x": -2.333094243797106,
          "y": -0.7413815585523836
         },
         {
          "group": "business",
          "x": -1.390512272264454,
          "y": 1.1787551597421193
         },
         {
          "group": "business",
          "x": -1.5977588119956039,
          "y": 0.1435948422160086
         },
         {
          "group": "business",
          "x": -1.462928789607618,
          "y": -0.4180517208135493
         },
         {
          "group": "business",
          "x": -2.2025710614021,
          "y": 2.7272198720925687
         },
         {
          "group": "business",
          "x": -2.895344159144581,
          "y": 1.1843577270611372
         },
         {
          "group": "business",
          "x": -1.0059515152111105,
          "y": 0.551175009360992
         },
         {
          "group": "business",
          "x": -1.564147413735708,
          "y": -0.3737734135184067
         },
         {
          "group": "business",
          "x": -1.692981715419717,
          "y": 0.2983641202378852
         },
         {
          "group": "business",
          "x": -2.822242951255718,
          "y": 0.5486754723774353
         },
         {
          "group": "business",
          "x": -0.46926697410746276,
          "y": 1.7022893394624403
         },
         {
          "group": "business",
          "x": 0.11324213124188472,
          "y": 2.7644471296574182
         },
         {
          "group": "business",
          "x": -2.969450145739484,
          "y": 0.00943722367865938
         },
         {
          "group": "business",
          "x": -0.5799507484901952,
          "y": -0.44812728888423664
         },
         {
          "group": "business",
          "x": -0.7682654246645947,
          "y": 2.0484558796248513
         },
         {
          "group": "business",
          "x": -0.001646775235205294,
          "y": -1.4594138350278791
         },
         {
          "group": "business",
          "x": -1.251203305328855,
          "y": -2.3564700033735804
         },
         {
          "group": "business",
          "x": -2.124636670947732,
          "y": -2.006663890689472
         },
         {
          "group": "business",
          "x": 0.1289472315292265,
          "y": -0.637010983392017
         },
         {
          "group": "business",
          "x": -2.020272408928902,
          "y": -2.3309794695539194
         },
         {
          "group": "business",
          "x": -0.7565094856567481,
          "y": 2.195639582121391
         },
         {
          "group": "business",
          "x": -1.9884732155104294,
          "y": 1.1200252072118593
         },
         {
          "group": "business",
          "x": -0.6690272528947183,
          "y": -0.25824932763329944
         },
         {
          "group": "business",
          "x": -3.154580050294318,
          "y": -0.5038446539837158
         },
         {
          "group": "business",
          "x": 0.6169511220552839,
          "y": 1.9583233510363114
         },
         {
          "group": "business",
          "x": -1.2987867375375364,
          "y": 1.4101224267579147
         },
         {
          "group": "business",
          "x": 0.7003212916215698,
          "y": 1.1591963066005488
         },
         {
          "group": "business",
          "x": -2.4586307255306488,
          "y": 1.5115539027224523
         },
         {
          "group": "business",
          "x": -0.7482413128627314,
          "y": -1.2478302945789408
         },
         {
          "group": "business",
          "x": -0.5916775120158855,
          "y": 0.5045394721424263
         },
         {
          "group": "business",
          "x": -1.0354873325140834,
          "y": -0.8661265927084507
         },
         {
          "group": "business",
          "x": -0.097122245572703,
          "y": 2.341491984100237
         },
         {
          "group": "business",
          "x": -2.3863476395186654,
          "y": 0.3595310911002443
         },
         {
          "group": "business",
          "x": -1.6903777732731973,
          "y": 2.869670782670417
         },
         {
          "group": "business",
          "x": -1.8926579068084932,
          "y": -0.8429921588143773
         },
         {
          "group": "business",
          "x": -3.010450795350781,
          "y": -0.3759176233730745
         },
         {
          "group": "business",
          "x": -2.588924319132929,
          "y": -0.28630893695617793
         },
         {
          "group": "business",
          "x": -0.6227348437517318,
          "y": 3.672297793960729
         },
         {
          "group": "business",
          "x": -1.7352370689619148,
          "y": 3.215777688995911
         },
         {
          "group": "business",
          "x": -1.106239680396748,
          "y": -0.12718631473676853
         },
         {
          "group": "business",
          "x": -1.8279251014695372,
          "y": 2.2963344957556675
         },
         {
          "group": "business",
          "x": -2.4020941418243185,
          "y": -0.6321197974096522
         },
         {
          "group": "business",
          "x": 0.16926321720733217,
          "y": 2.184974869777422
         },
         {
          "group": "business",
          "x": -3.566441427917313,
          "y": -0.3145404403556779
         },
         {
          "group": "business",
          "x": -1.2257970250488681,
          "y": 1.6638439834466434
         },
         {
          "group": "business",
          "x": -1.9234328059323558,
          "y": 0.5913047996134821
         },
         {
          "group": "business",
          "x": 0.05928042601955967,
          "y": 1.8885865315220525
         },
         {
          "group": "business",
          "x": -2.33597289908787,
          "y": 0.3706045441287214
         },
         {
          "group": "business",
          "x": -2.1565481970482354,
          "y": -3.2776867580929485
         },
         {
          "group": "business",
          "x": -1.8721647345956152,
          "y": 1.9065885358953143
         },
         {
          "group": "business",
          "x": -2.722251719238716,
          "y": -0.17939927185191792
         },
         {
          "group": "business",
          "x": 1.4492892040852485,
          "y": 2.5865419528661784
         },
         {
          "group": "business",
          "x": -2.0256089661018817,
          "y": -0.5552727102171466
         },
         {
          "group": "politics",
          "x": 0.34043434255986965,
          "y": 0.23385721868798232
         },
         {
          "group": "politics",
          "x": -0.9155737010891183,
          "y": -0.6078409208872455
         },
         {
          "group": "politics",
          "x": -0.965755089388875,
          "y": 0.0005171970501200196
         },
         {
          "group": "politics",
          "x": -0.21850671632403612,
          "y": 0.3225688516108399
         },
         {
          "group": "politics",
          "x": -0.4633518095837056,
          "y": 0.14311268622964102
         },
         {
          "group": "politics",
          "x": 2.3533440580153577,
          "y": 0.4829139496159997
         },
         {
          "group": "politics",
          "x": -0.11689705783969935,
          "y": 1.3203183976636506
         },
         {
          "group": "politics",
          "x": 0.8589535417034269,
          "y": -0.09658139142722912
         },
         {
          "group": "politics",
          "x": 2.10460346097896,
          "y": 1.1126115486298866
         },
         {
          "group": "politics",
          "x": 0.5544962919032423,
          "y": -1.8953438948459533
         },
         {
          "group": "politics",
          "x": -1.6199447627573553,
          "y": 0.6573161156050178
         },
         {
          "group": "politics",
          "x": 0.6672713195155417,
          "y": 0.7971912099401075
         },
         {
          "group": "politics",
          "x": 0.04976216290775733,
          "y": -0.658728355264101
         },
         {
          "group": "politics",
          "x": -0.5374578836799612,
          "y": 0.05437913668334361
         },
         {
          "group": "politics",
          "x": -0.9144206664645051,
          "y": 0.27522314998820036
         },
         {
          "group": "politics",
          "x": 1.042149664315821,
          "y": 0.3467512654012036
         },
         {
          "group": "politics",
          "x": 1.4264936201107452,
          "y": -2.0619546701975344
         },
         {
          "group": "politics",
          "x": -0.06947712657697051,
          "y": -1.400052012843551
         },
         {
          "group": "politics",
          "x": -0.8717235698745472,
          "y": -0.21770141688779748
         },
         {
          "group": "politics",
          "x": 0.3274454759069639,
          "y": -1.2497228078080855
         },
         {
          "group": "politics",
          "x": -1.1905129169481083,
          "y": -0.21717792227651112
         },
         {
          "group": "politics",
          "x": 0.6022899111472254,
          "y": 2.2399293242434397
         },
         {
          "group": "politics",
          "x": -0.37657366893183375,
          "y": -0.6536907915057165
         },
         {
          "group": "politics",
          "x": 0.7734432889984365,
          "y": -0.8502453982519221
         },
         {
          "group": "politics",
          "x": 1.112947055388818,
          "y": 0.9900524256308324
         },
         {
          "group": "politics",
          "x": 0.3175452380276262,
          "y": -0.7805680724476379
         },
         {
          "group": "politics",
          "x": 2.1117069961368298,
          "y": 0.48874925207104697
         },
         {
          "group": "politics",
          "x": 0.1266991845076525,
          "y": 1.0107209767065266
         },
         {
          "group": "politics",
          "x": 0.825608329311225,
          "y": 0.12379859849051862
         },
         {
          "group": "politics",
          "x": 0.49172172723757995,
          "y": -0.05141569452503471
         },
         {
          "group": "politics",
          "x": 1.0224551216219533,
          "y": 0.47663807746202036
         },
         {
          "group": "politics",
          "x": 0.5924440221351658,
          "y": 1.5249238556515974
         },
         {
          "group": "politics",
          "x": -0.5017748655744245,
          "y": -2.017169666569536
         },
         {
          "group": "politics",
          "x": -0.24083312519094807,
          "y": -1.3234557603097048
         },
         {
          "group": "politics",
          "x": 0.7483116503939109,
          "y": 1.3258179652262245
         },
         {
          "group": "politics",
          "x": 2.2926413018624663,
          "y": -1.3468891846406708
         },
         {
          "group": "politics",
          "x": 2.11783469550662,
          "y": -2.08270978905226
         },
         {
          "group": "politics",
          "x": -0.5542181075213598,
          "y": 0.6874298400449822
         },
         {
          "group": "politics",
          "x": 1.242123461049494,
          "y": -1.9208258308302253
         },
         {
          "group": "politics",
          "x": 0.12479719865815998,
          "y": 1.6642916994169548
         },
         {
          "group": "politics",
          "x": -0.12133067764540902,
          "y": -2.4674806702552585
         },
         {
          "group": "politics",
          "x": 0.13851689625639513,
          "y": -0.7520768788156709
         },
         {
          "group": "politics",
          "x": 0.580733011127717,
          "y": -1.3457764565209125
         },
         {
          "group": "politics",
          "x": 1.2934633473632904,
          "y": -0.7798325619865074
         },
         {
          "group": "politics",
          "x": 1.6443746004208044,
          "y": -2.5739951249220514
         },
         {
          "group": "politics",
          "x": -0.8526963284366029,
          "y": 0.4362974030294221
         },
         {
          "group": "politics",
          "x": -1.4764867225365306,
          "y": -0.3548250339900879
         },
         {
          "group": "politics",
          "x": 2.149281597587846,
          "y": 2.1116393426832003
         },
         {
          "group": "politics",
          "x": 0.24638224947222662,
          "y": -1.7817088491176207
         },
         {
          "group": "politics",
          "x": 1.5618694611481698,
          "y": 0.7428147029316461
         },
         {
          "group": "politics",
          "x": -0.6729643392229232,
          "y": 0.4815051809979311
         },
         {
          "group": "politics",
          "x": -0.20253307148598493,
          "y": -1.132640951975669
         },
         {
          "group": "politics",
          "x": -0.8783158507870513,
          "y": -0.11205171335767189
         },
         {
          "group": "politics",
          "x": -0.51454022597995,
          "y": 0.24399669311798508
         },
         {
          "group": "politics",
          "x": 0.6132701564830836,
          "y": 1.4266996610258655
         },
         {
          "group": "politics",
          "x": -0.14638504862932078,
          "y": 1.4340365909621124
         },
         {
          "group": "politics",
          "x": 1.7298741066668004,
          "y": 0.21596678803586983
         },
         {
          "group": "politics",
          "x": -0.7894947081508191,
          "y": 0.5451608650506246
         },
         {
          "group": "politics",
          "x": 0.8895548618317174,
          "y": -2.945851608470212
         },
         {
          "group": "politics",
          "x": 2.163121052588681,
          "y": -2.2793085013529324
         },
         {
          "group": "politics",
          "x": -0.7961120453837867,
          "y": 0.5471285875718839
         },
         {
          "group": "politics",
          "x": -1.7026358790197664,
          "y": 0.06657146886520522
         },
         {
          "group": "politics",
          "x": 0.5710936148883633,
          "y": 0.4800661540709443
         },
         {
          "group": "politics",
          "x": -1.8337536315884315,
          "y": 0.38578984942592437
         },
         {
          "group": "politics",
          "x": 1.7255942968274485,
          "y": -2.553764101917399
         },
         {
          "group": "politics",
          "x": 0.9068341712452879,
          "y": 0.020219489153922295
         },
         {
          "group": "politics",
          "x": -0.10336462179427058,
          "y": 0.24519117142173807
         },
         {
          "group": "politics",
          "x": -0.6838185658176992,
          "y": -1.6727995317405735
         },
         {
          "group": "politics",
          "x": 0.5585455176148275,
          "y": 0.029030817165069073
         },
         {
          "group": "politics",
          "x": 0.22361800545669333,
          "y": -1.0695443130538274
         },
         {
          "group": "politics",
          "x": 0.7031709423045069,
          "y": 0.13031003258355442
         },
         {
          "group": "politics",
          "x": 0.816385658520076,
          "y": 0.9265432549181415
         },
         {
          "group": "politics",
          "x": -0.1782258439935427,
          "y": -1.0945550036320075
         },
         {
          "group": "politics",
          "x": 0.6854674007267508,
          "y": -0.43404881583811183
         },
         {
          "group": "politics",
          "x": 1.8165391754004363,
          "y": -1.5768427108908327
         },
         {
          "group": "politics",
          "x": -0.32706428668925097,
          "y": 0.45154895636504744
         },
         {
          "group": "politics",
          "x": 0.7354559259933314,
          "y": 0.7077278581535674
         },
         {
          "group": "politics",
          "x": -0.3969953370562238,
          "y": 0.46175357061953676
         },
         {
          "group": "politics",
          "x": 0.6946079068387134,
          "y": -1.415821498900196
         },
         {
          "group": "politics",
          "x": -0.2836316102333001,
          "y": 0.491153641984266
         },
         {
          "group": "politics",
          "x": 0.7400994249125157,
          "y": -0.739482997013118
         },
         {
          "group": "politics",
          "x": -0.9354122178546884,
          "y": 2.7517863723227474
         },
         {
          "group": "politics",
          "x": 0.3474427240237545,
          "y": -0.6269682781124353
         },
         {
          "group": "politics",
          "x": -1.0064205433985496,
          "y": 0.28143717137280594
         },
         {
          "group": "politics",
          "x": 0.3810158711687861,
          "y": 1.29594912845213
         },
         {
          "group": "politics",
          "x": 0.1729411922611264,
          "y": 0.08066872538270325
         },
         {
          "group": "politics",
          "x": 1.095968659047948,
          "y": -0.9850230752218311
         },
         {
          "group": "politics",
          "x": 2.082771556290795,
          "y": -1.1531399256559667
         },
         {
          "group": "politics",
          "x": 0.3276436197819702,
          "y": -1.598290784365505
         },
         {
          "group": "politics",
          "x": 0.6698887528375802,
          "y": 0.9551129729777089
         },
         {
          "group": "politics",
          "x": -1.2226544936979784,
          "y": 1.4004290290506651
         },
         {
          "group": "politics",
          "x": -0.6340308486298345,
          "y": -0.24129903374941353
         },
         {
          "group": "politics",
          "x": 3.3000592486071794,
          "y": 2.8479468533128673
         },
         {
          "group": "politics",
          "x": 0.5029316282758397,
          "y": 0.7041655962669917
         },
         {
          "group": "politics",
          "x": 1.0256977042697337,
          "y": -0.7476377086613285
         },
         {
          "group": "politics",
          "x": 0.15131209845602292,
          "y": 0.6326058226794348
         },
         {
          "group": "politics",
          "x": 0.9153362118053071,
          "y": 0.6271486036210144
         },
         {
          "group": "politics",
          "x": -2.391702536028954,
          "y": 0.40058185055884815
         },
         {
          "group": "politics",
          "x": 2.546784237901064,
          "y": -0.03080479971985275
         },
         {
          "group": "politics",
          "x": -0.1816745702230606,
          "y": -0.32633641335038044
         },
         {
          "group": "politics",
          "x": 1.2330633742778287,
          "y": -0.4716746935331644
         },
         {
          "group": "politics",
          "x": 0.2907298450459611,
          "y": -0.5778997138259722
         },
         {
          "group": "politics",
          "x": -1.6512712578504798,
          "y": -0.19382623290565357
         },
         {
          "group": "politics",
          "x": 1.4395953675222075,
          "y": -0.5638732716054895
         },
         {
          "group": "politics",
          "x": -0.9323762285112286,
          "y": -0.11166725287362292
         },
         {
          "group": "politics",
          "x": 1.0758391219480936,
          "y": 1.4555649075201837
         },
         {
          "group": "politics",
          "x": -0.08968681470816448,
          "y": 1.6391182563477247
         },
         {
          "group": "politics",
          "x": 1.414361387514252,
          "y": -0.6224907449387274
         },
         {
          "group": "politics",
          "x": -0.5187473481629346,
          "y": 0.10447124591090658
         },
         {
          "group": "politics",
          "x": 0.8897850886496675,
          "y": 0.8736061008763133
         },
         {
          "group": "politics",
          "x": -0.3191489318073791,
          "y": -0.3461981110756131
         },
         {
          "group": "politics",
          "x": -0.5281421765591164,
          "y": 0.8311481336069041
         },
         {
          "group": "politics",
          "x": -1.3278463812202728,
          "y": -0.6631940806402864
         },
         {
          "group": "politics",
          "x": -0.14629086899107074,
          "y": 1.321556028633001
         },
         {
          "group": "politics",
          "x": -0.1352940592047661,
          "y": 0.5240818380322677
         },
         {
          "group": "politics",
          "x": 0.17394654280222607,
          "y": 1.4067898173759865
         },
         {
          "group": "politics",
          "x": 0.7879388660877966,
          "y": 0.9203434561545079
         },
         {
          "group": "politics",
          "x": 0.4619458199354934,
          "y": 0.5021322283815421
         },
         {
          "group": "politics",
          "x": 1.6102849583390273,
          "y": -0.8144536167416937
         },
         {
          "group": "politics",
          "x": 1.6469716876311176,
          "y": -0.1719003513892436
         },
         {
          "group": "politics",
          "x": 0.9644465926520096,
          "y": -1.2887377622992993
         },
         {
          "group": "politics",
          "x": 0.43379802367508247,
          "y": 1.116113021808985
         },
         {
          "group": "politics",
          "x": 0.26654509827071676,
          "y": 1.1892711619074572
         },
         {
          "group": "politics",
          "x": 0.17011344314183197,
          "y": 1.7436048519251368
         },
         {
          "group": "politics",
          "x": 0.9992037350810841,
          "y": -1.299608928920031
         },
         {
          "group": "politics",
          "x": -0.22503683540627403,
          "y": -0.22496366303604087
         },
         {
          "group": "politics",
          "x": -2.430907117714944,
          "y": -0.43795279353903804
         },
         {
          "group": "politics",
          "x": 2.252474161013244,
          "y": 0.26913982914367424
         },
         {
          "group": "politics",
          "x": -0.4913409723824666,
          "y": 1.6375501807967237
         },
         {
          "group": "politics",
          "x": 0.6509262073014214,
          "y": 0.9396431072390459
         },
         {
          "group": "politics",
          "x": 0.8521423329834138,
          "y": 0.5689651011689077
         },
         {
          "group": "politics",
          "x": -1.7331464085813535,
          "y": 0.8214478798926423
         },
         {
          "group": "politics",
          "x": -0.9165771929397099,
          "y": 0.7180695732552455
         },
         {
          "group": "politics",
          "x": 0.28183329346414543,
          "y": -0.3318966254615283
         },
         {
          "group": "politics",
          "x": 0.37688667297464734,
          "y": 0.6389952644629834
         },
         {
          "group": "politics",
          "x": -1.548365338713603,
          "y": 0.15944199929757708
         },
         {
          "group": "politics",
          "x": 0.25244395860112895,
          "y": 1.0194620315476166
         },
         {
          "group": "politics",
          "x": 0.9178894435558206,
          "y": 0.19144994547195418
         },
         {
          "group": "politics",
          "x": 0.4197780415473285,
          "y": 0.37277434244389007
         },
         {
          "group": "politics",
          "x": 0.13299703254680337,
          "y": -0.5830945789782963
         },
         {
          "group": "politics",
          "x": 1.6422054407124491,
          "y": -0.9654990728912447
         },
         {
          "group": "politics",
          "x": 1.6482661100503808,
          "y": 2.1365639512572123
         },
         {
          "group": "politics",
          "x": -1.6681193311094142,
          "y": -0.41132674956571535
         },
         {
          "group": "politics",
          "x": 0.03122719932684532,
          "y": -2.017967416664627
         },
         {
          "group": "politics",
          "x": 0.19804637405791592,
          "y": 0.6563745542251112
         },
         {
          "group": "politics",
          "x": -2.1621700207638397,
          "y": -1.5360510648722119
         },
         {
          "group": "politics",
          "x": -0.7114364185846352,
          "y": 0.5813135227616277
         },
         {
          "group": "politics",
          "x": 0.13455231095196962,
          "y": 1.273115738782025
         },
         {
          "group": "politics",
          "x": 0.48200613506120715,
          "y": -1.1550629113909547
         },
         {
          "group": "politics",
          "x": -0.2088408751203922,
          "y": 0.33313786416253954
         },
         {
          "group": "politics",
          "x": 0.9737261038129726,
          "y": 1.609432673640996
         },
         {
          "group": "politics",
          "x": -0.16209263639721122,
          "y": 0.39310318706384073
         },
         {
          "group": "politics",
          "x": -0.3207652146484647,
          "y": -0.09946571832337572
         },
         {
          "group": "politics",
          "x": -0.4679023138667263,
          "y": 0.05990877528859974
         },
         {
          "group": "politics",
          "x": 0.6147374681353522,
          "y": 0.501097352249162
         },
         {
          "group": "politics",
          "x": 0.49000470912243704,
          "y": -0.9022327633963123
         },
         {
          "group": "politics",
          "x": 2.2528397474406607,
          "y": 0.3946307876945598
         },
         {
          "group": "politics",
          "x": -0.18339662192118292,
          "y": -0.6948775856873618
         },
         {
          "group": "politics",
          "x": 0.025257631381620956,
          "y": 0.4350738477235562
         },
         {
          "group": "politics",
          "x": 2.7048949804252818,
          "y": 0.26212463593817903
         },
         {
          "group": "politics",
          "x": -0.5409618903016746,
          "y": 0.23181171890674943
         },
         {
          "group": "politics",
          "x": -0.3611205488145442,
          "y": -0.3033429600780357
         },
         {
          "group": "politics",
          "x": 0.8623282220521793,
          "y": -0.2944285685591714
         },
         {
          "group": "politics",
          "x": 0.14736266226681455,
          "y": -2.989174131194621
         },
         {
          "group": "politics",
          "x": 0.7682361215618893,
          "y": 1.100282487427071
         },
         {
          "group": "politics",
          "x": 1.096635989900502,
          "y": -0.6399084559216184
         },
         {
          "group": "politics",
          "x": -0.4479019038301597,
          "y": 1.4744174506716357
         },
         {
          "group": "politics",
          "x": 1.9592062538624924,
          "y": -1.9008717900670749
         },
         {
          "group": "politics",
          "x": 1.3018796455606398,
          "y": -0.07696786914095602
         },
         {
          "group": "politics",
          "x": 0.28621514687944777,
          "y": -0.7803777112687974
         },
         {
          "group": "politics",
          "x": 0.5909699042467649,
          "y": 0.35952347986852173
         },
         {
          "group": "politics",
          "x": 2.3471519117335142,
          "y": 0.8479334158784334
         },
         {
          "group": "politics",
          "x": -0.6356930386196546,
          "y": -0.42493257105403337
         },
         {
          "group": "politics",
          "x": 0.03394075894990029,
          "y": 0.4097118601160197
         },
         {
          "group": "politics",
          "x": 0.9654990187073198,
          "y": -0.4673003602677681
         },
         {
          "group": "politics",
          "x": -0.9463860537904879,
          "y": -1.012910151912663
         },
         {
          "group": "politics",
          "x": -1.013838776629552,
          "y": -0.3580897868126854
         },
         {
          "group": "politics",
          "x": 1.0591008597214802,
          "y": 1.3513938254234195
         },
         {
          "group": "politics",
          "x": 0.09733157760137946,
          "y": 0.16440607320425793
         },
         {
          "group": "politics",
          "x": 0.777098638771017,
          "y": 2.955230497057578
         },
         {
          "group": "politics",
          "x": 1.6455438320550335,
          "y": -0.9770820936616706
         },
         {
          "group": "politics",
          "x": 1.1198428244478411,
          "y": 0.8011873538607428
         },
         {
          "group": "politics",
          "x": -0.034884710672325216,
          "y": -0.8436188464819424
         },
         {
          "group": "politics",
          "x": 1.172957484287374,
          "y": -1.373276005893963
         },
         {
          "group": "politics",
          "x": 1.0584725972338727,
          "y": 0.3111342925949332
         },
         {
          "group": "politics",
          "x": 0.5498554795709422,
          "y": 0.26477273308936855
         },
         {
          "group": "politics",
          "x": 0.05209746288527789,
          "y": 0.07928071723443725
         },
         {
          "group": "politics",
          "x": 0.7493422732947279,
          "y": 1.4732529147471665
         },
         {
          "group": "politics",
          "x": 0.09654032783267545,
          "y": 0.054639725372573986
         },
         {
          "group": "politics",
          "x": 0.42375172903661446,
          "y": -0.05387628493540605
         },
         {
          "group": "politics",
          "x": 1.5001733120703657,
          "y": 1.086382528311231
         },
         {
          "group": "politics",
          "x": 0.6057067120153657,
          "y": -0.6553536812052935
         },
         {
          "group": "politics",
          "x": -0.8410525134260926,
          "y": -2.764046215098907
         },
         {
          "group": "politics",
          "x": -0.48283746250760146,
          "y": -0.2818303295402944
         },
         {
          "group": "politics",
          "x": 0.8771682380931687,
          "y": 1.5350894170919451
         },
         {
          "group": "politics",
          "x": 1.0262536946595602,
          "y": 0.23882975893220615
         },
         {
          "group": "politics",
          "x": 2.228856802448,
          "y": 1.011954256338329
         },
         {
          "group": "politics",
          "x": 1.2611276759336743,
          "y": 1.3406715653352872
         },
         {
          "group": "politics",
          "x": 2.7052384300430288,
          "y": -0.19698130059667426
         },
         {
          "group": "politics",
          "x": -0.27668098354073195,
          "y": -0.4977070740688006
         },
         {
          "group": "politics",
          "x": 1.0201125595479472,
          "y": 0.9968472123990498
         },
         {
          "group": "politics",
          "x": -0.35466510771485593,
          "y": 2.1951553599333273
         },
         {
          "group": "politics",
          "x": -0.3304112901321769,
          "y": 0.35649966732682703
         },
         {
          "group": "politics",
          "x": 1.450475790879341,
          "y": -0.5288465624904497
         },
         {
          "group": "politics",
          "x": -0.7721708217009154,
          "y": 2.994381794681154
         },
         {
          "group": "politics",
          "x": -0.3044399389851565,
          "y": 0.7236421040482218
         },
         {
          "group": "politics",
          "x": 1.6674601781079679,
          "y": -3.1289758318598433
         },
         {
          "group": "politics",
          "x": 0.31856685777118826,
          "y": 0.9463004609042485
         },
         {
          "group": "politics",
          "x": -0.563281553243324,
          "y": -1.135597334550982
         },
         {
          "group": "politics",
          "x": 1.026965351250858,
          "y": -2.9899896392564416
         },
         {
          "group": "politics",
          "x": -0.9754343169338395,
          "y": 1.6687008490675053
         },
         {
          "group": "politics",
          "x": -0.1860421085841939,
          "y": 0.18682933808510988
         },
         {
          "group": "politics",
          "x": 0.030181979257713706,
          "y": 0.5303727337976322
         },
         {
          "group": "politics",
          "x": 0.5504196605905185,
          "y": 2.1294394924312194
         },
         {
          "group": "politics",
          "x": 2.7873932485653627,
          "y": 1.4446553824213437
         },
         {
          "group": "politics",
          "x": 0.01561706594187174,
          "y": -0.3708989204148583
         },
         {
          "group": "politics",
          "x": 0.7678375836422663,
          "y": -0.3333891572782601
         },
         {
          "group": "politics",
          "x": 0.6369682000470068,
          "y": 2.71521088307862
         },
         {
          "group": "politics",
          "x": 0.05121787450310075,
          "y": -0.20454385227923177
         },
         {
          "group": "politics",
          "x": 1.2344808327137744,
          "y": 2.166211203164594
         },
         {
          "group": "politics",
          "x": 3.0311658375359496,
          "y": -0.11100595705409702
         },
         {
          "group": "politics",
          "x": 1.372627061948665,
          "y": -0.6958594593118836
         },
         {
          "group": "politics",
          "x": 2.0701977640033893,
          "y": -0.49490726578311467
         },
         {
          "group": "politics",
          "x": 2.1126027029399825,
          "y": 0.9028423102834905
         },
         {
          "group": "politics",
          "x": 0.548811135180872,
          "y": -2.717318420742083
         },
         {
          "group": "politics",
          "x": 1.728122586369327,
          "y": -1.0226727633625772
         },
         {
          "group": "politics",
          "x": -0.4076343364210675,
          "y": -0.1522432596429609
         },
         {
          "group": "politics",
          "x": -0.3969263492276304,
          "y": -0.9720154364830424
         },
         {
          "group": "politics",
          "x": 1.7721460511597518,
          "y": -2.4490175167744686
         },
         {
          "group": "politics",
          "x": 0.18876313810999046,
          "y": -0.6514210779348977
         },
         {
          "group": "politics",
          "x": 0.9520257013321708,
          "y": -0.20671089047248709
         },
         {
          "group": "politics",
          "x": 0.30521192780538425,
          "y": -1.0376670426129073
         },
         {
          "group": "politics",
          "x": 2.4246434704051856,
          "y": -0.3250542421554606
         },
         {
          "group": "politics",
          "x": -1.2986649105936654,
          "y": 1.072352517759477
         },
         {
          "group": "politics",
          "x": 1.4771089490117826,
          "y": -0.636584291394331
         },
         {
          "group": "politics",
          "x": -0.3357682250351401,
          "y": 1.7695318138045137
         },
         {
          "group": "politics",
          "x": 0.21039675357865367,
          "y": -1.433701079322386
         },
         {
          "group": "politics",
          "x": 1.32320527892354,
          "y": 1.1388619468743115
         },
         {
          "group": "politics",
          "x": 0.28074765049128475,
          "y": -0.955018895842347
         },
         {
          "group": "politics",
          "x": -0.5551729915732647,
          "y": -0.245556969421275
         },
         {
          "group": "politics",
          "x": -0.14854587212336423,
          "y": -0.2323137132440941
         },
         {
          "group": "politics",
          "x": -0.9510211506477682,
          "y": -0.7167077699025567
         },
         {
          "group": "politics",
          "x": 1.4195892714782754,
          "y": 1.362457024559871
         },
         {
          "group": "politics",
          "x": -0.07493413286466184,
          "y": -0.19451271100651746
         },
         {
          "group": "politics",
          "x": -0.4702689835338483,
          "y": -1.676228242484821
         },
         {
          "group": "politics",
          "x": 0.13927183231614937,
          "y": -0.9905690947492596
         },
         {
          "group": "politics",
          "x": 0.43285790308488475,
          "y": 0.10798002119275313
         },
         {
          "group": "politics",
          "x": 1.6947935662520304,
          "y": 0.3210633256488317
         },
         {
          "group": "politics",
          "x": -0.31725506252953256,
          "y": -0.35642123837137335
         },
         {
          "group": "politics",
          "x": 0.1555314067895235,
          "y": -0.34607830100278075
         },
         {
          "group": "politics",
          "x": -1.0450039194425482,
          "y": -0.13872757851795472
         },
         {
          "group": "politics",
          "x": -1.4746203014058599,
          "y": -0.570636324226667
         },
         {
          "group": "politics",
          "x": -1.263162827027425,
          "y": -1.6812162721489097
         },
         {
          "group": "politics",
          "x": -0.07881611027717,
          "y": -0.13948504426781674
         },
         {
          "group": "politics",
          "x": 1.6620424735968966,
          "y": -0.193548967899036
         },
         {
          "group": "politics",
          "x": -0.29484324032548076,
          "y": -0.7013965259305633
         },
         {
          "group": "politics",
          "x": 0.30056624876253474,
          "y": -1.011548139663275
         },
         {
          "group": "politics",
          "x": 0.05549696218899646,
          "y": -0.4310785680285551
         },
         {
          "group": "politics",
          "x": -1.0743725793804684,
          "y": 0.165861952265936
         },
         {
          "group": "politics",
          "x": -1.4552979051967767,
          "y": -1.8651262327619087
         },
         {
          "group": "politics",
          "x": -0.7940374058202484,
          "y": 1.947392908230243
         },
         {
          "group": "politics",
          "x": 0.2746046598440616,
          "y": -0.5999028992665864
         },
         {
          "group": "politics",
          "x": 0.25858485494822636,
          "y": 1.0676122203740683
         },
         {
          "group": "politics",
          "x": -0.42819072965620253,
          "y": 0.8886002386323077
         },
         {
          "group": "politics",
          "x": 0.620764369640564,
          "y": -0.7194468915712017
         },
         {
          "group": "politics",
          "x": 1.0921984291766442,
          "y": -0.24183424690555275
         },
         {
          "group": "politics",
          "x": 0.4383818429847684,
          "y": -2.0314679974264394
         },
         {
          "group": "politics",
          "x": -1.7027583935630797,
          "y": 1.0678657517805352
         },
         {
          "group": "politics",
          "x": 0.5922407902808984,
          "y": -0.8796590585611703
         },
         {
          "group": "politics",
          "x": -1.0813373998391012,
          "y": -0.24794912866079277
         },
         {
          "group": "politics",
          "x": 0.92927556620722,
          "y": -1.6266248807525447
         },
         {
          "group": "politics",
          "x": 1.9477198147560255,
          "y": -0.30142182077773794
         },
         {
          "group": "politics",
          "x": -0.7428380621860837,
          "y": 0.9390185767716129
         },
         {
          "group": "politics",
          "x": -1.3259903492442162,
          "y": 1.9308472303107358
         },
         {
          "group": "politics",
          "x": -0.7790134107828992,
          "y": 0.23817431440823045
         },
         {
          "group": "politics",
          "x": -0.25494494060155076,
          "y": 1.0205564485601175
         },
         {
          "group": "politics",
          "x": 2.0946585193037537,
          "y": -1.003582614179681
         },
         {
          "group": "politics",
          "x": 1.633131684472799,
          "y": 1.1763054427391384
         },
         {
          "group": "politics",
          "x": 2.10749865204319,
          "y": 0.7802717935335146
         },
         {
          "group": "politics",
          "x": 1.4894786281934815,
          "y": 0.6364413091629297
         },
         {
          "group": "politics",
          "x": 0.284877505163646,
          "y": -0.07140967970402781
         },
         {
          "group": "politics",
          "x": -2.444221766759758,
          "y": 0.06841122218883573
         },
         {
          "group": "politics",
          "x": 0.8860301321995222,
          "y": 1.1860955864458418
         },
         {
          "group": "politics",
          "x": 0.575207481349897,
          "y": -0.4853197192351331
         },
         {
          "group": "politics",
          "x": -0.16021089986094558,
          "y": 0.2504589685177487
         },
         {
          "group": "politics",
          "x": -0.2896981536842294,
          "y": -1.5551839477612162
         },
         {
          "group": "politics",
          "x": 0.3528446771476719,
          "y": -0.4061260592266359
         },
         {
          "group": "politics",
          "x": -1.0969121934884014,
          "y": -0.9938663028750775
         },
         {
          "group": "politics",
          "x": 1.6734509523666314,
          "y": 0.7020785381477659
         },
         {
          "group": "politics",
          "x": -0.70133909239996,
          "y": -0.7759964332845833
         },
         {
          "group": "politics",
          "x": 0.3691200314082533,
          "y": 0.66184517047258
         },
         {
          "group": "politics",
          "x": 1.4015300496905658,
          "y": -2.3188788578934267
         },
         {
          "group": "politics",
          "x": 1.7691723014520917,
          "y": -0.12917109428696533
         },
         {
          "group": "politics",
          "x": 0.5180031817249846,
          "y": 1.9359551873268235
         },
         {
          "group": "politics",
          "x": 0.11271467784702857,
          "y": 0.34624247599502006
         },
         {
          "group": "politics",
          "x": 1.1350624709053705,
          "y": -1.469746288228877
         },
         {
          "group": "politics",
          "x": 2.1087068906861237,
          "y": 0.7212602342372495
         },
         {
          "group": "politics",
          "x": 0.07161696311145174,
          "y": 0.3515245624793531
         },
         {
          "group": "politics",
          "x": -1.2544454553300726,
          "y": 1.530031436606699
         },
         {
          "group": "politics",
          "x": 0.9128921848275798,
          "y": -1.5437762719747257
         },
         {
          "group": "politics",
          "x": -0.12148722763662198,
          "y": 0.11766527449463007
         },
         {
          "group": "politics",
          "x": 0.8823653950120899,
          "y": -0.8576596557082259
         },
         {
          "group": "politics",
          "x": 0.2773256866347241,
          "y": -0.38105761335581634
         },
         {
          "group": "politics",
          "x": 0.41836430494213994,
          "y": -0.7899708580464142
         },
         {
          "group": "politics",
          "x": -0.082706838156759,
          "y": 0.2397843877703885
         },
         {
          "group": "politics",
          "x": 1.1021784966441055,
          "y": -1.240108179579488
         },
         {
          "group": "politics",
          "x": 0.7152981024372113,
          "y": -0.21512817157740324
         },
         {
          "group": "politics",
          "x": -0.2940330361458464,
          "y": 1.9846927316532463
         },
         {
          "group": "politics",
          "x": -1.6324863629045177,
          "y": 0.5892399199893804
         },
         {
          "group": "politics",
          "x": -0.6960140159753408,
          "y": 1.4252811125668146
         },
         {
          "group": "politics",
          "x": -0.0437394701584763,
          "y": 0.38850940233662135
         },
         {
          "group": "politics",
          "x": -0.38194837902232337,
          "y": 0.45272477065128547
         },
         {
          "group": "politics",
          "x": -0.4031512201429588,
          "y": -0.46211719800555895
         },
         {
          "group": "politics",
          "x": 0.5573995127009117,
          "y": -1.2012076995640357
         },
         {
          "group": "politics",
          "x": 0.6700557044350034,
          "y": -0.5903282870672611
         },
         {
          "group": "politics",
          "x": 1.3895476061553143,
          "y": 0.3890469428645637
         },
         {
          "group": "politics",
          "x": -0.8996895586086734,
          "y": 1.7386864334614525
         },
         {
          "group": "politics",
          "x": 0.2100306360833607,
          "y": 0.517438238366007
         },
         {
          "group": "politics",
          "x": -3.0011903335018983,
          "y": -2.8860760433758283
         },
         {
          "group": "politics",
          "x": -1.0707579173644595,
          "y": 0.9606814364274571
         },
         {
          "group": "politics",
          "x": -1.1293222451608902,
          "y": 0.8483414707915633
         },
         {
          "group": "politics",
          "x": 1.0434881707207804,
          "y": -0.2325430645598719
         },
         {
          "group": "politics",
          "x": 2.2126186927830664,
          "y": -1.9394420866999986
         },
         {
          "group": "politics",
          "x": -0.4882796926798354,
          "y": -0.43701105885862845
         },
         {
          "group": "politics",
          "x": -0.8146648780559999,
          "y": 0.13985859103888681
         },
         {
          "group": "politics",
          "x": -0.007941110378636257,
          "y": 0.9621338315166902
         },
         {
          "group": "politics",
          "x": 1.2999533887753745,
          "y": -0.8514207652928095
         },
         {
          "group": "politics",
          "x": 0.2575981605196827,
          "y": -0.18419429111705063
         },
         {
          "group": "politics",
          "x": 1.1759550870485493,
          "y": 0.6954546964506296
         },
         {
          "group": "politics",
          "x": -0.12108881954121807,
          "y": 1.0374379836372787
         },
         {
          "group": "politics",
          "x": 0.9853512890660685,
          "y": -0.8525192534896058
         },
         {
          "group": "politics",
          "x": -0.3271341182949401,
          "y": -0.21093063685651375
         },
         {
          "group": "politics",
          "x": 0.0326788870334252,
          "y": -0.8949798613443927
         },
         {
          "group": "politics",
          "x": -0.21127567584268223,
          "y": -0.01851266004740282
         },
         {
          "group": "politics",
          "x": 0.8158989359434188,
          "y": -2.1624088431550605
         },
         {
          "group": "politics",
          "x": 0.444164697895565,
          "y": 0.16948760988200126
         },
         {
          "group": "politics",
          "x": 2.4732479294820338,
          "y": 0.08913431761418528
         },
         {
          "group": "politics",
          "x": 0.011711703974773854,
          "y": 0.8620133332489921
         },
         {
          "group": "politics",
          "x": -0.6200463623063566,
          "y": 1.1009582908823334
         },
         {
          "group": "politics",
          "x": 0.5343793989086514,
          "y": -1.3653228353785556
         },
         {
          "group": "politics",
          "x": 0.08234503376614954,
          "y": -0.7286898770207093
         },
         {
          "group": "politics",
          "x": 0.6546279467526325,
          "y": -0.8967110405461366
         },
         {
          "group": "politics",
          "x": -0.2355046140714084,
          "y": -0.5609762002398417
         },
         {
          "group": "politics",
          "x": 1.1969873500819541,
          "y": -1.0145500571619481
         },
         {
          "group": "politics",
          "x": -0.3766370068742982,
          "y": -0.6952631691993983
         },
         {
          "group": "politics",
          "x": -1.262710270767411,
          "y": 0.24410897761122857
         },
         {
          "group": "politics",
          "x": -0.8027988811715153,
          "y": -1.0330824819162248
         },
         {
          "group": "politics",
          "x": 1.2668472759831453,
          "y": -0.3147482678268338
         },
         {
          "group": "politics",
          "x": 0.4220407344317061,
          "y": 1.3680579057266302
         },
         {
          "group": "politics",
          "x": 2.3378248388345733,
          "y": -0.48160551670088564
         },
         {
          "group": "politics",
          "x": -0.3449658866558398,
          "y": 0.21123333018090545
         },
         {
          "group": "politics",
          "x": 1.213162713657682,
          "y": 0.8247265043784153
         },
         {
          "group": "politics",
          "x": 0.6372276200918258,
          "y": 0.45540979637905493
         },
         {
          "group": "politics",
          "x": -0.3994929989353524,
          "y": 1.7944595400963304
         },
         {
          "group": "politics",
          "x": 1.026638468868288,
          "y": 1.7016510481899887
         },
         {
          "group": "politics",
          "x": 0.052072267962979216,
          "y": 1.1968740549231307
         },
         {
          "group": "politics",
          "x": 1.2807648694858793,
          "y": -1.1032065911328135
         },
         {
          "group": "politics",
          "x": -0.013797810859108318,
          "y": -0.5851558990451297
         },
         {
          "group": "politics",
          "x": 0.8160741272685432,
          "y": -1.48546040134068
         },
         {
          "group": "politics",
          "x": -0.4586381641708277,
          "y": -0.040311030543746365
         },
         {
          "group": "politics",
          "x": 1.8806874028889435,
          "y": 0.33806279676276646
         },
         {
          "group": "politics",
          "x": -0.08760039132839861,
          "y": 1.2325379655749715
         },
         {
          "group": "politics",
          "x": 0.8814384467873362,
          "y": -0.16972695424185627
         },
         {
          "group": "politics",
          "x": 0.4860415582682021,
          "y": 0.7423986255669752
         },
         {
          "group": "politics",
          "x": 0.8654380734965169,
          "y": -0.5760006565151061
         },
         {
          "group": "politics",
          "x": 1.1245414155766293,
          "y": -0.4352204520689756
         },
         {
          "group": "politics",
          "x": 0.03852978979581888,
          "y": -0.6535827112246844
         },
         {
          "group": "politics",
          "x": 0.14996239006289896,
          "y": 0.5272944457288558
         },
         {
          "group": "politics",
          "x": 0.7384700187792934,
          "y": -2.0081566833210887
         },
         {
          "group": "politics",
          "x": -1.4094667925257036,
          "y": -0.5519707907283091
         },
         {
          "group": "politics",
          "x": 1.957303205638672,
          "y": -0.8550184784893646
         },
         {
          "group": "politics",
          "x": 1.730522005490055,
          "y": -2.4717579025494643
         },
         {
          "group": "politics",
          "x": -1.0078023851545415,
          "y": -0.262852076640984
         },
         {
          "group": "politics",
          "x": 0.898593938562431,
          "y": 1.0925446919386328
         },
         {
          "group": "politics",
          "x": 0.34492647404560983,
          "y": 0.16955833062938422
         },
         {
          "group": "politics",
          "x": 0.31287843008537986,
          "y": 0.9181805727342054
         },
         {
          "group": "politics",
          "x": 1.137670303207001,
          "y": -0.33555191790842354
         },
         {
          "group": "politics",
          "x": -0.3806562491586083,
          "y": 0.32023257490207474
         },
         {
          "group": "politics",
          "x": 0.6232647195261266,
          "y": -0.7851983159626618
         },
         {
          "group": "politics",
          "x": -0.3212202320000466,
          "y": -1.158624086083546
         },
         {
          "group": "politics",
          "x": 0.8302983116214772,
          "y": -2.575427200608417
         },
         {
          "group": "politics",
          "x": 1.6956819139717354,
          "y": 1.1305308659500493
         },
         {
          "group": "politics",
          "x": 1.1136564352914848,
          "y": -1.636786366371388
         },
         {
          "group": "politics",
          "x": 0.673966848496374,
          "y": 1.4721128112580972
         },
         {
          "group": "politics",
          "x": 2.7299360057410813,
          "y": -0.5180951717491221
         },
         {
          "group": "politics",
          "x": 1.0347574632385999,
          "y": 0.27660236150373513
         },
         {
          "group": "politics",
          "x": 1.7742065916531138,
          "y": -1.9049987306578773
         },
         {
          "group": "politics",
          "x": 1.4701447255323736,
          "y": 0.2596309778612292
         },
         {
          "group": "politics",
          "x": 0.8704981534818959,
          "y": -0.2383517471591527
         },
         {
          "group": "politics",
          "x": 0.652386194777276,
          "y": 0.1932401403258823
         },
         {
          "group": "politics",
          "x": -1.4711353227559107,
          "y": 0.3212243957680605
         },
         {
          "group": "politics",
          "x": 0.4359153529864431,
          "y": -0.18652619433816042
         },
         {
          "group": "politics",
          "x": -0.06352862438160953,
          "y": 0.047839278000227824
         },
         {
          "group": "politics",
          "x": 2.0626377743516677,
          "y": 0.4253254613030067
         },
         {
          "group": "politics",
          "x": 1.5520406517282332,
          "y": 0.8672209045913792
         },
         {
          "group": "politics",
          "x": -0.47473303908496783,
          "y": -1.1608876825062906
         },
         {
          "group": "politics",
          "x": 0.9161052311614754,
          "y": 0.045058443657579765
         },
         {
          "group": "politics",
          "x": -0.44231319099503597,
          "y": 1.285180657730748
         },
         {
          "group": "politics",
          "x": 0.3333829542532371,
          "y": -0.3639205759352333
         },
         {
          "group": "politics",
          "x": 0.4835864961869829,
          "y": -0.05360558844086839
         },
         {
          "group": "politics",
          "x": 0.4644283463015937,
          "y": -2.4985446234182542
         },
         {
          "group": "politics",
          "x": 0.267822295446697,
          "y": 1.1392027429872174
         },
         {
          "group": "politics",
          "x": -0.22198567338308514,
          "y": 0.007127514137591801
         },
         {
          "group": "politics",
          "x": -1.3759012315651569,
          "y": 1.293595836232428
         },
         {
          "group": "politics",
          "x": -0.29355218409577677,
          "y": -0.8015388472470992
         },
         {
          "group": "politics",
          "x": 0.3908597633629579,
          "y": -0.39670541201119064
         },
         {
          "group": "politics",
          "x": -0.8699725830770354,
          "y": 1.429496393026676
         },
         {
          "group": "politics",
          "x": -0.9142569697877231,
          "y": -0.7699151609355733
         },
         {
          "group": "politics",
          "x": -1.8499479045199398,
          "y": -0.3994465157016998
         },
         {
          "group": "politics",
          "x": -2.0122188659587184,
          "y": 0.5582957831225202
         },
         {
          "group": "politics",
          "x": -1.7883956024579846,
          "y": 0.24582989345575937
         },
         {
          "group": "politics",
          "x": -0.7747080861457605,
          "y": 0.20658825346316498
         },
         {
          "group": "politics",
          "x": 0.2812989713505676,
          "y": 1.3678457359415885
         },
         {
          "group": "politics",
          "x": 1.2968430266910327,
          "y": -0.9425772534242661
         },
         {
          "group": "politics",
          "x": 0.11934782410111568,
          "y": -0.7233522581495487
         },
         {
          "group": "politics",
          "x": 0.9733036869116527,
          "y": 0.22316152168919098
         },
         {
          "group": "politics",
          "x": 0.7063407169936965,
          "y": 2.5055532107918714
         },
         {
          "group": "tech",
          "x": 1.4641674806679714,
          "y": 0.7615890429076723
         },
         {
          "group": "tech",
          "x": -0.6253109474813847,
          "y": -1.1476730635275678
         },
         {
          "group": "tech",
          "x": 0.8143241247322657,
          "y": -0.4208811305166763
         },
         {
          "group": "tech",
          "x": 0.550984520576798,
          "y": 0.028588846121730155
         },
         {
          "group": "tech",
          "x": -0.34022423738710666,
          "y": 1.28721081103168
         },
         {
          "group": "tech",
          "x": 0.7252401379012274,
          "y": 1.291574240636269
         },
         {
          "group": "tech",
          "x": 0.4817149047952915,
          "y": -1.6459604531648755
         },
         {
          "group": "tech",
          "x": 0.37781131729313167,
          "y": -1.904087422267872
         },
         {
          "group": "tech",
          "x": 0.8555298696355942,
          "y": 0.8720646441362438
         },
         {
          "group": "tech",
          "x": 0.24077847646694234,
          "y": 0.3149394641925958
         },
         {
          "group": "tech",
          "x": 0.5870394641458045,
          "y": -0.86744972408008
         },
         {
          "group": "tech",
          "x": 1.8707095281574089,
          "y": -1.6519777631730708
         },
         {
          "group": "tech",
          "x": -1.1364310285056747,
          "y": 0.09391364294090597
         },
         {
          "group": "tech",
          "x": -0.4518209447561184,
          "y": -1.9716689324045757
         },
         {
          "group": "tech",
          "x": -0.8243499831096964,
          "y": 0.18798581674914788
         },
         {
          "group": "tech",
          "x": 0.19593370766866505,
          "y": 0.8118150868266975
         },
         {
          "group": "tech",
          "x": -0.6510398892602521,
          "y": 1.9724982407938234
         },
         {
          "group": "tech",
          "x": 0.03740313705905577,
          "y": 2.8881401857444486
         },
         {
          "group": "tech",
          "x": 1.479225819283944,
          "y": -0.3791732412401847
         },
         {
          "group": "tech",
          "x": 0.8343254335748468,
          "y": 1.019445610382078
         },
         {
          "group": "tech",
          "x": 0.3429624334912288,
          "y": -1.0579322155312003
         },
         {
          "group": "tech",
          "x": 1.105160055959654,
          "y": -0.06727716631511702
         },
         {
          "group": "tech",
          "x": 0.6051407633739756,
          "y": -1.1547110745123048
         },
         {
          "group": "tech",
          "x": 0.4950076089626291,
          "y": 3.0670058330027725
         },
         {
          "group": "tech",
          "x": -0.049116420917239674,
          "y": 0.28407974363931354
         },
         {
          "group": "tech",
          "x": -0.8703170582797276,
          "y": 0.6258285835266778
         },
         {
          "group": "tech",
          "x": -2.7185477913920977,
          "y": 2.050493941777132
         },
         {
          "group": "tech",
          "x": -1.7069792537289425,
          "y": -1.3138430350607326
         },
         {
          "group": "tech",
          "x": 0.019148098260891488,
          "y": 0.4860047086743543
         },
         {
          "group": "tech",
          "x": 1.113986218156715,
          "y": 1.2816649116910441
         },
         {
          "group": "tech",
          "x": 1.2205618322090404,
          "y": -1.0543694958065244
         },
         {
          "group": "tech",
          "x": 0.25698093059843036,
          "y": 1.8313183710862415
         },
         {
          "group": "tech",
          "x": 0.7991959656726652,
          "y": -0.4621666281013968
         },
         {
          "group": "tech",
          "x": 1.653525975596775,
          "y": -1.7322622994749117
         },
         {
          "group": "tech",
          "x": -0.4613722185796127,
          "y": -2.5586284656004974
         },
         {
          "group": "tech",
          "x": 1.0001914726978443,
          "y": -1.3822985648481032
         },
         {
          "group": "tech",
          "x": -0.656356117510815,
          "y": -0.016195980271131626
         },
         {
          "group": "tech",
          "x": 1.494991635324094,
          "y": 1.9705915719880533
         },
         {
          "group": "tech",
          "x": -1.341577874205497,
          "y": -0.5420169664718687
         },
         {
          "group": "tech",
          "x": -0.05050503915105282,
          "y": 1.7887456595648958
         },
         {
          "group": "tech",
          "x": 1.8490135671679708,
          "y": -0.06736478294735534
         },
         {
          "group": "tech",
          "x": 1.6028664579307974,
          "y": 0.21899742424673685
         },
         {
          "group": "tech",
          "x": 0.0907936187514851,
          "y": 0.2410086794832542
         },
         {
          "group": "tech",
          "x": 1.7999984701381344,
          "y": 0.6080514539331333
         },
         {
          "group": "tech",
          "x": 0.0595269794057294,
          "y": 0.37402274513799144
         },
         {
          "group": "tech",
          "x": -0.8788506609386872,
          "y": -0.4717137600864485
         },
         {
          "group": "tech",
          "x": 1.1942854612053708,
          "y": 0.6356536833171519
         },
         {
          "group": "tech",
          "x": 0.016689666606330106,
          "y": 2.1086574190501177
         },
         {
          "group": "tech",
          "x": -0.168466572472081,
          "y": 0.19308766357184048
         },
         {
          "group": "tech",
          "x": 0.612626801463568,
          "y": -0.4904999031468423
         },
         {
          "group": "tech",
          "x": 1.4366134648036408,
          "y": -0.9864487476763879
         },
         {
          "group": "tech",
          "x": 0.7932709010590906,
          "y": -0.7721463456762103
         },
         {
          "group": "tech",
          "x": -0.1815820911282372,
          "y": -2.4450414419293462
         },
         {
          "group": "tech",
          "x": 1.1872988615785232,
          "y": -1.7556285376612881
         },
         {
          "group": "tech",
          "x": 0.4124669754417435,
          "y": -0.5685579980764138
         },
         {
          "group": "tech",
          "x": 1.0446289636575496,
          "y": -3.162707152900296
         },
         {
          "group": "tech",
          "x": 2.067551420453396,
          "y": 0.3445230291365576
         },
         {
          "group": "tech",
          "x": -1.6214193031377988,
          "y": -1.6783730271707942
         },
         {
          "group": "tech",
          "x": 2.148109143657542,
          "y": 1.886073282594279
         },
         {
          "group": "tech",
          "x": -0.11773940220957585,
          "y": 0.6740379131651028
         },
         {
          "group": "tech",
          "x": -0.3492406217860543,
          "y": 1.9252071833778803
         },
         {
          "group": "tech",
          "x": 2.8053276604294317,
          "y": -0.49050653523223803
         },
         {
          "group": "tech",
          "x": -0.6401725369051214,
          "y": 0.5246011783301127
         },
         {
          "group": "tech",
          "x": -0.9936601214239567,
          "y": 0.3537480310027322
         },
         {
          "group": "tech",
          "x": 0.3394710923218782,
          "y": -0.19147025710095225
         },
         {
          "group": "tech",
          "x": -1.049967513144246,
          "y": 0.20942868808511308
         },
         {
          "group": "tech",
          "x": -0.705473333305632,
          "y": -1.2230965836596939
         },
         {
          "group": "tech",
          "x": 1.628733965679399,
          "y": 2.407147009689965
         },
         {
          "group": "tech",
          "x": 1.5912770389307456,
          "y": 0.5296230104293435
         },
         {
          "group": "tech",
          "x": 1.274654429392637,
          "y": 0.6664335105707235
         },
         {
          "group": "tech",
          "x": -0.2837210632780649,
          "y": 1.3486669282324972
         },
         {
          "group": "tech",
          "x": 0.29660371028626004,
          "y": -2.0709348159536276
         },
         {
          "group": "tech",
          "x": 1.4667733577503363,
          "y": -1.1359156387689724
         },
         {
          "group": "tech",
          "x": 1.2764088525542916,
          "y": 0.6026185461295565
         },
         {
          "group": "tech",
          "x": 0.2666229891875429,
          "y": -0.4281626880197806
         },
         {
          "group": "tech",
          "x": 1.306371780529829,
          "y": -1.4044027519474391
         },
         {
          "group": "tech",
          "x": 0.15079732060588652,
          "y": -0.5377975443062466
         },
         {
          "group": "tech",
          "x": -0.8285410607102415,
          "y": 0.8018610117676174
         },
         {
          "group": "tech",
          "x": -1.3699148231702367,
          "y": 0.8928921200758081
         },
         {
          "group": "tech",
          "x": -1.0650073259399448,
          "y": -0.6247391339106299
         },
         {
          "group": "tech",
          "x": 0.9046749750889885,
          "y": -1.7252072727766081
         },
         {
          "group": "tech",
          "x": -0.36848255671152474,
          "y": -1.7814082811860965
         },
         {
          "group": "tech",
          "x": -0.21300474570815567,
          "y": 0.5258512250420461
         },
         {
          "group": "tech",
          "x": 2.7811656748028617,
          "y": 0.808876960128175
         },
         {
          "group": "tech",
          "x": 1.4835018666607942,
          "y": -1.654130818907283
         },
         {
          "group": "tech",
          "x": 1.510818545502092,
          "y": -1.4538166814221296
         },
         {
          "group": "tech",
          "x": 1.608045244105842,
          "y": 0.2741916633656386
         },
         {
          "group": "tech",
          "x": 0.3694820848874668,
          "y": 0.9767912845888823
         },
         {
          "group": "tech",
          "x": 0.18703023269342348,
          "y": -0.32727264071720746
         },
         {
          "group": "tech",
          "x": 0.1875567164720666,
          "y": -1.1909774152831694
         },
         {
          "group": "tech",
          "x": 1.2023420684809922,
          "y": -0.08927884782896936
         },
         {
          "group": "tech",
          "x": -1.0518548566266885,
          "y": -0.3391882008671148
         },
         {
          "group": "tech",
          "x": 0.8987181458078581,
          "y": 0.7408129183358202
         },
         {
          "group": "tech",
          "x": -0.8702937496540374,
          "y": 1.8425073356318675
         },
         {
          "group": "tech",
          "x": 0.4648277048376345,
          "y": -1.9014378903394218
         },
         {
          "group": "tech",
          "x": 2.0149318169396087,
          "y": 0.6128289555549509
         },
         {
          "group": "tech",
          "x": 1.5224055568468995,
          "y": 0.635913076506692
         },
         {
          "group": "tech",
          "x": -0.37314406901948904,
          "y": -1.248776534826248
         },
         {
          "group": "tech",
          "x": 0.99699873814711,
          "y": -0.09674179270415983
         },
         {
          "group": "tech",
          "x": 0.729837394366164,
          "y": 0.7768910722437194
         },
         {
          "group": "tech",
          "x": -0.012965843929104751,
          "y": -0.3963814055397484
         },
         {
          "group": "tech",
          "x": -0.47652405059906167,
          "y": -0.4259945621359337
         },
         {
          "group": "tech",
          "x": 0.8113850426819956,
          "y": -0.2850255042445507
         },
         {
          "group": "tech",
          "x": -1.6536207886285135,
          "y": -1.3033299199655386
         },
         {
          "group": "tech",
          "x": -0.1800914242947337,
          "y": -0.3282604344313185
         },
         {
          "group": "tech",
          "x": 0.19655380796771518,
          "y": 3.382094023125285
         },
         {
          "group": "tech",
          "x": -0.8856304417097324,
          "y": 1.069322220767551
         },
         {
          "group": "tech",
          "x": 0.30107879162339035,
          "y": -0.9968058564730444
         },
         {
          "group": "tech",
          "x": 1.2234304474643138,
          "y": 0.7661269818483419
         },
         {
          "group": "tech",
          "x": 0.278347036861475,
          "y": -0.5450598760311731
         },
         {
          "group": "tech",
          "x": 0.13361001620327023,
          "y": 0.7077172947457794
         },
         {
          "group": "tech",
          "x": -0.9192115189327555,
          "y": -0.1445011828132479
         },
         {
          "group": "tech",
          "x": 3.0105279885157104,
          "y": -2.0589194143150684
         },
         {
          "group": "tech",
          "x": -1.105477647268103,
          "y": 1.234893243430155
         },
         {
          "group": "tech",
          "x": -0.2941610633561731,
          "y": 1.7207386652675591
         },
         {
          "group": "tech",
          "x": -0.2539115517051523,
          "y": -2.8320064205256217
         },
         {
          "group": "tech",
          "x": 0.018633007902507506,
          "y": -0.3036858839588756
         },
         {
          "group": "tech",
          "x": -1.4502005462436596,
          "y": 2.0951963625459897
         },
         {
          "group": "tech",
          "x": 1.1131828287040186,
          "y": -0.4511569041990535
         },
         {
          "group": "tech",
          "x": 1.6796658202840362,
          "y": -2.0406345916132564
         },
         {
          "group": "tech",
          "x": 0.16191610150883443,
          "y": 1.1681710297384515
         },
         {
          "group": "tech",
          "x": 0.8227419829362882,
          "y": 0.03691296682493242
         },
         {
          "group": "tech",
          "x": 1.8553393220620666,
          "y": 1.0762804747772783
         },
         {
          "group": "tech",
          "x": -0.7850410391453579,
          "y": -1.3235256969800775
         },
         {
          "group": "tech",
          "x": -0.9520198737950885,
          "y": -0.0593388661334587
         },
         {
          "group": "tech",
          "x": -0.8063708529763157,
          "y": 1.1553587358034971
         },
         {
          "group": "tech",
          "x": -0.809409247027575,
          "y": -0.14084047075407044
         },
         {
          "group": "tech",
          "x": 0.4403331955369054,
          "y": -2.833610754331974
         },
         {
          "group": "tech",
          "x": 0.4771147253384183,
          "y": -0.15840748891863926
         },
         {
          "group": "tech",
          "x": 0.1844259471710675,
          "y": 1.0743385008600337
         },
         {
          "group": "tech",
          "x": 0.35569108536072896,
          "y": -0.7952182565473491
         },
         {
          "group": "tech",
          "x": -0.018972578697044967,
          "y": 0.15043544363057426
         },
         {
          "group": "tech",
          "x": 1.3633434507399973,
          "y": 0.9313380431068212
         },
         {
          "group": "tech",
          "x": 1.8029583766592008,
          "y": -1.529660311868251
         },
         {
          "group": "tech",
          "x": -0.14340654686260282,
          "y": 0.5590811592420443
         },
         {
          "group": "tech",
          "x": 1.5770024780804148,
          "y": 1.0382752675213591
         },
         {
          "group": "tech",
          "x": 0.599598433677296,
          "y": -0.34213608312323723
         },
         {
          "group": "tech",
          "x": 1.2058761453618159,
          "y": -0.564005958801351
         },
         {
          "group": "tech",
          "x": 0.917770170578364,
          "y": -1.5086551476844936
         },
         {
          "group": "tech",
          "x": 0.3982752337173364,
          "y": 0.3656370656504469
         },
         {
          "group": "tech",
          "x": 1.007330490824124,
          "y": 0.8846496354101057
         },
         {
          "group": "tech",
          "x": 0.5437583189601053,
          "y": 0.2120541712609166
         },
         {
          "group": "tech",
          "x": 0.7454648178974832,
          "y": -0.6196260802636918
         },
         {
          "group": "tech",
          "x": -0.6457930113035957,
          "y": 0.47325845991098786
         },
         {
          "group": "tech",
          "x": 0.901234099744064,
          "y": 0.8743172406935807
         },
         {
          "group": "tech",
          "x": 0.6044107576338877,
          "y": -3.163955303548446
         },
         {
          "group": "tech",
          "x": 0.9186895289727792,
          "y": 0.16182760006045274
         },
         {
          "group": "tech",
          "x": 0.49839403124012915,
          "y": 2.0251768504701055
         },
         {
          "group": "tech",
          "x": 0.8440933702368157,
          "y": -1.4333841870296085
         },
         {
          "group": "tech",
          "x": 1.7747477665491433,
          "y": 0.6668817503869726
         },
         {
          "group": "tech",
          "x": -0.21798683940449035,
          "y": -0.8991977789286099
         },
         {
          "group": "tech",
          "x": 0.5831055564865802,
          "y": 1.7764963955459907
         },
         {
          "group": "tech",
          "x": -0.5083279812343159,
          "y": 0.8460909332804609
         },
         {
          "group": "tech",
          "x": 0.17699703660604577,
          "y": -0.8081555827742094
         },
         {
          "group": "tech",
          "x": -0.23377071698889815,
          "y": 0.7262393616635772
         },
         {
          "group": "tech",
          "x": -1.3324064505532878,
          "y": -0.751276123292414
         },
         {
          "group": "tech",
          "x": 0.33484815423589376,
          "y": 2.137106900511433
         },
         {
          "group": "tech",
          "x": 1.1591018933012789,
          "y": 1.3303579393138099
         },
         {
          "group": "tech",
          "x": 0.793059726527422,
          "y": -1.0846580269512738
         },
         {
          "group": "tech",
          "x": 2.933880383353344,
          "y": 0.4251399601549418
         },
         {
          "group": "tech",
          "x": 1.9479003101029264,
          "y": -0.7506030367296705
         },
         {
          "group": "tech",
          "x": 0.46502657428713157,
          "y": -0.4574294301781747
         },
         {
          "group": "tech",
          "x": 0.2225798991996198,
          "y": 0.09106221934040305
         },
         {
          "group": "tech",
          "x": 2.056309580124342,
          "y": 1.2336406574082694
         },
         {
          "group": "tech",
          "x": 0.35275478744274874,
          "y": 1.5663091335140369
         },
         {
          "group": "tech",
          "x": 1.052888704590739,
          "y": -1.6196707246667086
         },
         {
          "group": "tech",
          "x": -2.285592908818244,
          "y": 0.7229146298259768
         },
         {
          "group": "tech",
          "x": -0.1662369530281071,
          "y": 0.21809162437798332
         },
         {
          "group": "tech",
          "x": 0.3306297118314058,
          "y": 0.22056476126980543
         },
         {
          "group": "tech",
          "x": 1.188287828099032,
          "y": 0.9370693491816476
         },
         {
          "group": "tech",
          "x": -0.44885788221643025,
          "y": -2.1727149190046258
         },
         {
          "group": "tech",
          "x": -0.139275657603675,
          "y": -0.5572845105617854
         },
         {
          "group": "tech",
          "x": -0.12297193262458748,
          "y": 0.600318598730581
         },
         {
          "group": "tech",
          "x": -0.04344989730395203,
          "y": 1.514251146575721
         },
         {
          "group": "tech",
          "x": 2.2845647927916852,
          "y": -0.5064891782106387
         },
         {
          "group": "tech",
          "x": 0.1728360084315184,
          "y": 0.89938346420463
         },
         {
          "group": "tech",
          "x": 1.6380208782663417,
          "y": 0.06379901953265099
         },
         {
          "group": "tech",
          "x": 1.094179966063971,
          "y": 0.5557177996358791
         },
         {
          "group": "tech",
          "x": 1.9027568718712007,
          "y": -0.2225894548727917
         },
         {
          "group": "tech",
          "x": 0.7515042138992764,
          "y": 0.05517703127320087
         },
         {
          "group": "tech",
          "x": -0.46137853328358697,
          "y": -0.2985473363508068
         },
         {
          "group": "tech",
          "x": -1.1609376577336936,
          "y": 0.12512683236288152
         },
         {
          "group": "tech",
          "x": -0.8568561411884366,
          "y": 0.5857992749620733
         },
         {
          "group": "tech",
          "x": 0.7105179501791076,
          "y": -1.0041641945870698
         },
         {
          "group": "tech",
          "x": 0.03447894924534708,
          "y": -0.8875662236667171
         },
         {
          "group": "tech",
          "x": 1.616175862053436,
          "y": -2.696328616948426
         },
         {
          "group": "tech",
          "x": -1.023451676064189,
          "y": -0.2135989303934894
         },
         {
          "group": "tech",
          "x": 0.9325273509594236,
          "y": 0.9086949949029871
         },
         {
          "group": "tech",
          "x": -0.9317161787459133,
          "y": -0.49113080166849055
         },
         {
          "group": "tech",
          "x": 0.3537042823197796,
          "y": 0.6513896413510794
         },
         {
          "group": "tech",
          "x": 0.039276963709347766,
          "y": 0.0740020387813776
         },
         {
          "group": "tech",
          "x": 0.33154171380289466,
          "y": 0.5097815232763566
         },
         {
          "group": "tech",
          "x": 1.5312247851357488,
          "y": 0.45775294576582987
         },
         {
          "group": "tech",
          "x": 0.2755792888449806,
          "y": -0.15422804885713018
         },
         {
          "group": "tech",
          "x": 1.8327898436973429,
          "y": 0.15980250124555515
         },
         {
          "group": "tech",
          "x": -0.009500755975820604,
          "y": -0.23178442889775983
         },
         {
          "group": "tech",
          "x": 0.6705838479901244,
          "y": -0.0530625610805395
         },
         {
          "group": "tech",
          "x": -1.20336285616654,
          "y": -0.8330866519888308
         },
         {
          "group": "tech",
          "x": 0.386141650390051,
          "y": -1.161380119832428
         },
         {
          "group": "tech",
          "x": -0.5390575003634237,
          "y": -0.4246206246613341
         },
         {
          "group": "tech",
          "x": 1.299167266878314,
          "y": -1.7692403996468729
         },
         {
          "group": "tech",
          "x": -0.8347620497978666,
          "y": -0.07769632395729836
         },
         {
          "group": "tech",
          "x": 3.8785632129454366,
          "y": 1.2861673568615066
         },
         {
          "group": "tech",
          "x": 1.458262543035183,
          "y": -1.511527065382573
         },
         {
          "group": "tech",
          "x": 0.09614144929810724,
          "y": -0.7440780786544778
         },
         {
          "group": "tech",
          "x": 1.3069167111583675,
          "y": 0.22104833251171085
         },
         {
          "group": "tech",
          "x": 0.7933173974203666,
          "y": 0.5571165503562728
         },
         {
          "group": "tech",
          "x": 1.3486798157743058,
          "y": 0.9780048455599099
         },
         {
          "group": "tech",
          "x": -1.2194449560386231,
          "y": -0.5209742593463959
         },
         {
          "group": "tech",
          "x": 0.7948476171091002,
          "y": -0.13821320900659967
         },
         {
          "group": "tech",
          "x": -0.1593733499562157,
          "y": 0.7039371236542984
         },
         {
          "group": "tech",
          "x": 1.4342356187194567,
          "y": -0.3301147059506016
         },
         {
          "group": "tech",
          "x": 0.24628364629434255,
          "y": -0.18220641120374795
         },
         {
          "group": "tech",
          "x": 1.0511048382585646,
          "y": 1.0553923144056432
         },
         {
          "group": "tech",
          "x": 0.023876676103952308,
          "y": 0.3390912361427974
         },
         {
          "group": "tech",
          "x": -1.099920597479563,
          "y": 0.4617385656768452
         },
         {
          "group": "tech",
          "x": 3.5949718727240514,
          "y": 0.19663915144462224
         },
         {
          "group": "tech",
          "x": 1.527992755572321,
          "y": 1.2156530682635682
         },
         {
          "group": "tech",
          "x": 1.065748832160732,
          "y": -1.6572673592942055
         },
         {
          "group": "tech",
          "x": -1.0367840787144644,
          "y": -0.9916408097324174
         },
         {
          "group": "tech",
          "x": -1.1984480067636762,
          "y": -1.607927865733905
         },
         {
          "group": "tech",
          "x": 1.7022128270812384,
          "y": 0.33019121337858676
         },
         {
          "group": "tech",
          "x": 0.8573494896138605,
          "y": -1.549408784686562
         },
         {
          "group": "tech",
          "x": 0.6702545005820181,
          "y": 0.360274995966159
         },
         {
          "group": "tech",
          "x": -0.5370828542432396,
          "y": -0.8656553390002525
         },
         {
          "group": "tech",
          "x": -0.20075895120588091,
          "y": -0.4076451292685937
         },
         {
          "group": "tech",
          "x": -0.19976462664403788,
          "y": -0.49807701094291235
         },
         {
          "group": "tech",
          "x": 0.9571117179152374,
          "y": -1.1709240849763463
         },
         {
          "group": "tech",
          "x": -0.6581751292377609,
          "y": 1.862482808699798
         },
         {
          "group": "tech",
          "x": 0.6912619521263922,
          "y": -0.3940086649774239
         },
         {
          "group": "tech",
          "x": 0.07752557301883274,
          "y": -0.31988509095048395
         },
         {
          "group": "tech",
          "x": 0.3200838395813685,
          "y": 0.8898288175487693
         },
         {
          "group": "tech",
          "x": -0.3844269232744236,
          "y": -0.6188860885084325
         },
         {
          "group": "tech",
          "x": 1.1584464330578812,
          "y": -0.9515667299463388
         },
         {
          "group": "tech",
          "x": 1.163443629241342,
          "y": -0.04938594898427772
         },
         {
          "group": "tech",
          "x": 1.8195744006394967,
          "y": 0.09144942439375636
         },
         {
          "group": "tech",
          "x": -1.3186352337082299,
          "y": 2.5828359373584737
         },
         {
          "group": "tech",
          "x": 0.12671437080123163,
          "y": 1.7798721357765208
         },
         {
          "group": "tech",
          "x": 0.3468769113293353,
          "y": 1.9459581717497607
         },
         {
          "group": "tech",
          "x": -0.20340261223255618,
          "y": 1.4649056226961288
         },
         {
          "group": "tech",
          "x": -1.593448298010685,
          "y": 0.8842907374099582
         },
         {
          "group": "tech",
          "x": 1.5187203834037393,
          "y": -0.694505011049926
         },
         {
          "group": "tech",
          "x": 1.6436090220061192,
          "y": 0.4038717794979222
         },
         {
          "group": "tech",
          "x": 1.8344455712358254,
          "y": 0.46335167192986443
         },
         {
          "group": "tech",
          "x": -1.859090718344053,
          "y": 0.577582228261752
         },
         {
          "group": "tech",
          "x": 1.2706876326863175,
          "y": -0.3821976296119935
         },
         {
          "group": "tech",
          "x": 0.3974625914544282,
          "y": 0.5782785137559663
         },
         {
          "group": "tech",
          "x": 0.053357814405443404,
          "y": -0.4009516027460559
         },
         {
          "group": "tech",
          "x": -1.848069516254239,
          "y": -0.0077387862758627616
         },
         {
          "group": "tech",
          "x": -0.1563531754612478,
          "y": 0.9934535796851649
         },
         {
          "group": "tech",
          "x": -1.9540657619677329,
          "y": 0.3829440486311612
         },
         {
          "group": "tech",
          "x": 0.6181622644153874,
          "y": 2.4247094066496233
         },
         {
          "group": "tech",
          "x": 1.5508118100743264,
          "y": -0.716083299589813
         },
         {
          "group": "tech",
          "x": 1.3102869873759433,
          "y": 1.1276338375310213
         },
         {
          "group": "tech",
          "x": 1.4073914438734811,
          "y": 0.6900523855779023
         },
         {
          "group": "tech",
          "x": -0.37873357327370527,
          "y": -2.0981519655709944
         },
         {
          "group": "tech",
          "x": 2.0678237357549936,
          "y": 2.056011783683453
         },
         {
          "group": "tech",
          "x": 0.9154137086386868,
          "y": -0.6896339676989975
         },
         {
          "group": "tech",
          "x": 0.8271524248034784,
          "y": -0.4410160240817992
         },
         {
          "group": "tech",
          "x": 1.5289035076300954,
          "y": -0.15558467089583092
         },
         {
          "group": "tech",
          "x": 1.1108084061585488,
          "y": 0.5554813336003885
         },
         {
          "group": "tech",
          "x": 0.46287392401264293,
          "y": -1.4196348312244016
         },
         {
          "group": "tech",
          "x": 0.21121919461889715,
          "y": 0.9132574746329984
         },
         {
          "group": "tech",
          "x": 0.3485130973282996,
          "y": -1.1770079167309837
         },
         {
          "group": "tech",
          "x": 1.2651530543926617,
          "y": 0.18574402866603135
         },
         {
          "group": "tech",
          "x": 1.14244552216666,
          "y": 0.06742705112238427
         },
         {
          "group": "tech",
          "x": 2.248072992940949,
          "y": -0.0017502535345208987
         },
         {
          "group": "tech",
          "x": 2.8293268858338463,
          "y": 0.10403107231668864
         },
         {
          "group": "tech",
          "x": 0.9379295938883799,
          "y": -1.2605282194399179
         },
         {
          "group": "tech",
          "x": 0.17904197003542588,
          "y": 0.12342825676063374
         },
         {
          "group": "tech",
          "x": 0.8388881198648832,
          "y": 0.7538001150669478
         },
         {
          "group": "tech",
          "x": -0.23519656375969636,
          "y": -0.23002680101462908
         },
         {
          "group": "tech",
          "x": 0.4265339449504637,
          "y": -1.3722967067049603
         },
         {
          "group": "tech",
          "x": 3.2714111346986257,
          "y": 1.6092840863852107
         },
         {
          "group": "tech",
          "x": -0.8489915511273523,
          "y": -1.169974648874311
         },
         {
          "group": "tech",
          "x": 2.503146948306556,
          "y": -1.5717739033605138
         },
         {
          "group": "tech",
          "x": 0.2865493508919526,
          "y": 0.10931798482329763
         },
         {
          "group": "tech",
          "x": 0.3417541480237454,
          "y": -0.8111863435949848
         },
         {
          "group": "tech",
          "x": 0.3364454399379122,
          "y": 1.7826238069703966
         },
         {
          "group": "tech",
          "x": -1.091949615684382,
          "y": -1.520860892957449
         },
         {
          "group": "tech",
          "x": 0.5820137220540251,
          "y": -0.005085003732686791
         },
         {
          "group": "tech",
          "x": -1.4164945746374757,
          "y": -2.4485397148053534
         },
         {
          "group": "tech",
          "x": 1.1653468100094153,
          "y": -0.001282935074669674
         },
         {
          "group": "tech",
          "x": -1.8792947058887253,
          "y": 0.8712229378004602
         },
         {
          "group": "tech",
          "x": 1.7766850367930458,
          "y": -1.6935789317267362
         },
         {
          "group": "tech",
          "x": 0.09616108394443422,
          "y": 0.9003642712308475
         },
         {
          "group": "tech",
          "x": -0.46039127926339335,
          "y": -0.149058280733622
         },
         {
          "group": "tech",
          "x": 1.5048501669771832,
          "y": -0.7619237557738517
         },
         {
          "group": "tech",
          "x": 0.286911732807696,
          "y": -0.21184432653126425
         },
         {
          "group": "tech",
          "x": -0.7587610148235585,
          "y": -0.5200683981562979
         },
         {
          "group": "tech",
          "x": 0.16125817939115503,
          "y": 1.5023689314630584
         },
         {
          "group": "tech",
          "x": 1.6234665871826213,
          "y": 1.6204709838705826
         },
         {
          "group": "tech",
          "x": -0.805680132749836,
          "y": 1.8315582554441554
         },
         {
          "group": "tech",
          "x": -0.47596822560226587,
          "y": 0.8397267277956653
         },
         {
          "group": "tech",
          "x": -1.385245774764129,
          "y": -1.634748417326406
         },
         {
          "group": "tech",
          "x": 2.7515632062404762,
          "y": 1.167533378389791
         },
         {
          "group": "tech",
          "x": 1.418156930723641,
          "y": -1.0809700692490605
         },
         {
          "group": "tech",
          "x": -1.589969027219467,
          "y": -1.1662682376058569
         },
         {
          "group": "tech",
          "x": -1.9638954299594282,
          "y": 0.8692659847114313
         },
         {
          "group": "tech",
          "x": 1.6914702146958067,
          "y": 0.142099496717654
         },
         {
          "group": "tech",
          "x": 1.1954061927804913,
          "y": 1.9057191803449811
         },
         {
          "group": "tech",
          "x": 1.6693497886656696,
          "y": -1.1472293261604056
         },
         {
          "group": "tech",
          "x": 0.4253351724715719,
          "y": 1.1142283492989766
         },
         {
          "group": "tech",
          "x": 1.421483354230383,
          "y": 0.5776623445954245
         },
         {
          "group": "tech",
          "x": 1.5262171400661446,
          "y": 2.3022023505715086
         },
         {
          "group": "tech",
          "x": -0.5122454734553892,
          "y": -0.3987794968962702
         },
         {
          "group": "tech",
          "x": 0.611929709192929,
          "y": -1.7185066168673366
         },
         {
          "group": "tech",
          "x": 0.4030716668528337,
          "y": -0.22088780360598112
         },
         {
          "group": "tech",
          "x": 0.04065841452708763,
          "y": -1.5489732962314593
         },
         {
          "group": "tech",
          "x": -0.021507562894937566,
          "y": -0.20790905943874102
         },
         {
          "group": "tech",
          "x": 1.3675966416436185,
          "y": 0.5606193264361199
         },
         {
          "group": "tech",
          "x": -0.0384164473477625,
          "y": 2.3391849895133556
         },
         {
          "group": "tech",
          "x": 2.23347914288166,
          "y": 0.09124454390775727
         },
         {
          "group": "tech",
          "x": -0.6391142012737027,
          "y": 0.6166482870763895
         },
         {
          "group": "tech",
          "x": 0.27435040728775967,
          "y": -0.9863221090206689
         },
         {
          "group": "tech",
          "x": 1.0135767843216443,
          "y": -0.5676927627097271
         },
         {
          "group": "tech",
          "x": 1.4785806044895133,
          "y": -1.1087381370265057
         },
         {
          "group": "tech",
          "x": -0.9730278936082897,
          "y": -0.11260623504192223
         },
         {
          "group": "tech",
          "x": -0.5414565151622197,
          "y": -1.0091550478293108
         },
         {
          "group": "tech",
          "x": 2.2377030092303354,
          "y": 0.31500194042570584
         },
         {
          "group": "tech",
          "x": 1.2690204985585019,
          "y": -0.5731308119697704
         },
         {
          "group": "tech",
          "x": 1.2245270730482565,
          "y": 1.118256447962361
         },
         {
          "group": "tech",
          "x": 2.612954159144613,
          "y": 0.40047294424685087
         },
         {
          "group": "tech",
          "x": 1.1724110222773247,
          "y": 2.1228075597311147
         },
         {
          "group": "tech",
          "x": -0.4025956056309084,
          "y": 0.49717791048005033
         },
         {
          "group": "tech",
          "x": -1.3665255502330342,
          "y": -1.188115182325354
         },
         {
          "group": "tech",
          "x": -0.7293861427295526,
          "y": -0.7869236294542578
         },
         {
          "group": "tech",
          "x": 0.16084616924495246,
          "y": 0.29355763026401666
         },
         {
          "group": "tech",
          "x": 1.7171720432325743,
          "y": 0.042907057045513154
         },
         {
          "group": "tech",
          "x": 0.3076899405001681,
          "y": 1.2782538024316779
         },
         {
          "group": "tech",
          "x": 0.21137373712162072,
          "y": -0.6375652847313964
         },
         {
          "group": "tech",
          "x": -1.2696219218857874,
          "y": -0.08941110392486143
         },
         {
          "group": "tech",
          "x": 0.5740028908863857,
          "y": -0.5093057777234721
         },
         {
          "group": "tech",
          "x": 0.2610676189892676,
          "y": -1.6283059790488785
         },
         {
          "group": "tech",
          "x": 2.704578914614713,
          "y": -1.0160673166580303
         },
         {
          "group": "tech",
          "x": -0.024649315555277863,
          "y": 0.3935608069461152
         },
         {
          "group": "tech",
          "x": -1.444872647448893,
          "y": 0.47720958142998066
         },
         {
          "group": "tech",
          "x": -1.1410596747016253,
          "y": 1.034132497764935
         },
         {
          "group": "tech",
          "x": -0.5492814759146847,
          "y": 0.154236874841305
         },
         {
          "group": "tech",
          "x": 0.8884347223897746,
          "y": 0.05272559921078553
         },
         {
          "group": "tech",
          "x": -0.2734886866562757,
          "y": 1.3756512209482639
         },
         {
          "group": "tech",
          "x": -0.19102151980894713,
          "y": -2.472378504848744
         },
         {
          "group": "tech",
          "x": 0.8771468374599717,
          "y": -0.21779579414210834
         },
         {
          "group": "tech",
          "x": -0.2806144294743644,
          "y": 1.2365007013466787
         },
         {
          "group": "tech",
          "x": -0.24478053341740358,
          "y": 0.5676374726160262
         },
         {
          "group": "tech",
          "x": 0.6573609605867045,
          "y": -0.8816181802889284
         },
         {
          "group": "tech",
          "x": -1.2386050437516116,
          "y": 1.0416701192639453
         },
         {
          "group": "tech",
          "x": 1.367749024772318,
          "y": -0.9220712550212681
         },
         {
          "group": "tech",
          "x": -1.399676938167755,
          "y": 0.5434973672923966
         },
         {
          "group": "tech",
          "x": 1.9811901534518683,
          "y": 0.0003780689077211409
         },
         {
          "group": "tech",
          "x": 2.240916374908452,
          "y": -0.17842184812602047
         },
         {
          "group": "tech",
          "x": 1.6277890000606248,
          "y": -0.16150672421449855
         },
         {
          "group": "tech",
          "x": 1.4861897646790707,
          "y": 0.10467378382778539
         },
         {
          "group": "tech",
          "x": -1.3829597143591883,
          "y": -0.6297457333971195
         },
         {
          "group": "tech",
          "x": 0.6886739914262764,
          "y": 0.631396185922438
         },
         {
          "group": "tech",
          "x": -0.22603782226440355,
          "y": 1.4194817984305002
         },
         {
          "group": "tech",
          "x": -0.21727530583279853,
          "y": 0.2504013281177599
         },
         {
          "group": "tech",
          "x": 0.29344796759629016,
          "y": -1.4244071886354603
         },
         {
          "group": "tech",
          "x": 0.617783433662755,
          "y": -0.642307194764116
         },
         {
          "group": "tech",
          "x": 1.9370227813259546,
          "y": 0.7749807037068759
         },
         {
          "group": "tech",
          "x": 0.5961097346541148,
          "y": -2.7225897156063974
         },
         {
          "group": "tech",
          "x": 0.42357331152395505,
          "y": -0.14330508514183038
         },
         {
          "group": "tech",
          "x": -0.24471785374706145,
          "y": -0.5157118244639254
         },
         {
          "group": "tech",
          "x": 0.6832956843256106,
          "y": -1.1266133887642253
         },
         {
          "group": "tech",
          "x": 1.1537032941704481,
          "y": -0.48824108024946933
         },
         {
          "group": "tech",
          "x": -0.1938521563037084,
          "y": -0.24923243396378864
         },
         {
          "group": "tech",
          "x": 0.8298183271263744,
          "y": -0.41409756722933344
         },
         {
          "group": "tech",
          "x": 1.7528126973020421,
          "y": 0.25621731674618703
         },
         {
          "group": "tech",
          "x": 0.32569112104974673,
          "y": -1.7748690270596845
         },
         {
          "group": "tech",
          "x": 0.43610479182777206,
          "y": 1.6056953706490071
         },
         {
          "group": "tech",
          "x": 1.554736003134974,
          "y": -0.9252158810041969
         },
         {
          "group": "tech",
          "x": 0.11645659036377431,
          "y": -0.5126066440208429
         },
         {
          "group": "tech",
          "x": 1.9081353401363865,
          "y": -1.0547471160709498
         },
         {
          "group": "tech",
          "x": 0.4352201785304369,
          "y": -0.7050245262692578
         },
         {
          "group": "tech",
          "x": 0.8934860407524379,
          "y": -0.5875005426899436
         },
         {
          "group": "tech",
          "x": 0.46273696526533836,
          "y": -1.0268221234433466
         },
         {
          "group": "tech",
          "x": 1.356794110749133,
          "y": -0.02057002084108805
         },
         {
          "group": "tech",
          "x": -0.31062189273107177,
          "y": -0.004706590711093196
         },
         {
          "group": "tech",
          "x": 0.6518779755468096,
          "y": 0.507263755326684
         },
         {
          "group": "tech",
          "x": 0.9891883271847763,
          "y": -0.9295697238769082
         },
         {
          "group": "tech",
          "x": -0.22975401929345346,
          "y": -0.4548758543863985
         },
         {
          "group": "tech",
          "x": -0.03406643675011774,
          "y": 1.1763878803708345
         },
         {
          "group": "tech",
          "x": 1.8989865703475621,
          "y": -0.6153413996220004
         },
         {
          "group": "tech",
          "x": 0.3680601372790775,
          "y": -0.43505528889426415
         },
         {
          "group": "tech",
          "x": 0.6538039916042261,
          "y": -1.0621788365289335
         },
         {
          "group": "tech",
          "x": 0.6274541991274649,
          "y": -2.0643428120081575
         },
         {
          "group": "tech",
          "x": 2.831020105510026,
          "y": -2.220613362909437
         },
         {
          "group": "tech",
          "x": 1.4405753198420703,
          "y": 0.37765004847466566
         },
         {
          "group": "tech",
          "x": 0.8906843772561854,
          "y": 0.8397023768034493
         },
         {
          "group": "tech",
          "x": 1.6378838993188731,
          "y": -0.36134818996396284
         },
         {
          "group": "tech",
          "x": 1.4579306988823042,
          "y": 0.6195501739142951
         },
         {
          "group": "tech",
          "x": -0.47717435765177846,
          "y": 0.3097843684372628
         },
         {
          "group": "tech",
          "x": 1.1080975684946448,
          "y": 0.14504936922164835
         },
         {
          "group": "tech",
          "x": 1.564422886334531,
          "y": 0.675041306731018
         },
         {
          "group": "tech",
          "x": 1.088645623199304,
          "y": -1.3068097934360778
         },
         {
          "group": "tech",
          "x": 0.11265874113022097,
          "y": 1.299424389890131
         },
         {
          "group": "tech",
          "x": -0.37286054612165126,
          "y": -1.4284382667862623
         },
         {
          "group": "tech",
          "x": 0.48730229789731727,
          "y": 1.4424401812582708
         },
         {
          "group": "tech",
          "x": 1.1677682535905416,
          "y": -0.20541061676905617
         },
         {
          "group": "tech",
          "x": 1.7671892522177708,
          "y": -0.3501760719660835
         },
         {
          "group": "tech",
          "x": 0.8583820959305446,
          "y": -2.855976855258766
         },
         {
          "group": "entertainment",
          "x": -1.7350452639892515,
          "y": -2.6577941243291776
         },
         {
          "group": "entertainment",
          "x": 0.8506744748936436,
          "y": 2.281438142613136
         },
         {
          "group": "entertainment",
          "x": -0.12596251612028364,
          "y": -1.3627607557333892
         },
         {
          "group": "entertainment",
          "x": 0.7937656150496847,
          "y": -2.2066310929246944
         },
         {
          "group": "entertainment",
          "x": 1.3080299092025893,
          "y": 2.2519635575287884
         },
         {
          "group": "entertainment",
          "x": -0.7850397058462378,
          "y": 2.193051753686444
         },
         {
          "group": "entertainment",
          "x": 1.4385284272276628,
          "y": 0.02459700585806913
         },
         {
          "group": "entertainment",
          "x": -1.038618317004091,
          "y": -1.122487811982457
         },
         {
          "group": "entertainment",
          "x": 0.0650249821541832,
          "y": -1.3846329011418461
         },
         {
          "group": "entertainment",
          "x": 0.5400332375445623,
          "y": -0.8105796480545657
         },
         {
          "group": "entertainment",
          "x": -0.5727701266058075,
          "y": -1.1297828587805436
         },
         {
          "group": "entertainment",
          "x": -0.3532211393648694,
          "y": 0.580231713696872
         },
         {
          "group": "entertainment",
          "x": -0.44539242291298725,
          "y": -0.5420035636352096
         },
         {
          "group": "entertainment",
          "x": 1.2847470703485853,
          "y": -1.4469233021406338
         },
         {
          "group": "entertainment",
          "x": 0.9297711118562189,
          "y": -0.5476185827115372
         },
         {
          "group": "entertainment",
          "x": 0.6731225116178045,
          "y": -2.440559046226902
         },
         {
          "group": "entertainment",
          "x": 1.0278672680346037,
          "y": -0.5657446219709005
         },
         {
          "group": "entertainment",
          "x": -0.19581071566109579,
          "y": -1.148603457954048
         },
         {
          "group": "entertainment",
          "x": 0.20135672074595462,
          "y": -0.34590691066650275
         },
         {
          "group": "entertainment",
          "x": 0.6748408864614027,
          "y": -0.8728483121726076
         },
         {
          "group": "entertainment",
          "x": 0.833801731367593,
          "y": -0.8573453771637092
         },
         {
          "group": "entertainment",
          "x": 0.5144795404671023,
          "y": -0.1647066922502325
         },
         {
          "group": "entertainment",
          "x": -0.37021794464866625,
          "y": 1.3921386638524376
         },
         {
          "group": "entertainment",
          "x": 0.866812112720701,
          "y": 1.5476075636721205
         },
         {
          "group": "entertainment",
          "x": 0.2748845404645193,
          "y": 0.19397453321416414
         },
         {
          "group": "entertainment",
          "x": -2.2956396282097327,
          "y": 0.17913206222467265
         },
         {
          "group": "entertainment",
          "x": -0.2665607234858551,
          "y": 0.6181281894334965
         },
         {
          "group": "entertainment",
          "x": 1.2493478280499786,
          "y": 1.1832652801563324
         },
         {
          "group": "entertainment",
          "x": 1.5108042301930396,
          "y": 0.399631837037073
         },
         {
          "group": "entertainment",
          "x": 0.029826938793241345,
          "y": -1.1809117924134127
         },
         {
          "group": "entertainment",
          "x": 0.8770382421229451,
          "y": -0.11182027268047474
         },
         {
          "group": "entertainment",
          "x": -1.9676777344230951,
          "y": -1.6376184616100193
         },
         {
          "group": "entertainment",
          "x": 0.3174652733488459,
          "y": -0.20458765282122676
         },
         {
          "group": "entertainment",
          "x": 3.1625468723545684,
          "y": 1.6187614706333524
         },
         {
          "group": "entertainment",
          "x": 0.5165719734045082,
          "y": 0.8573899381184718
         },
         {
          "group": "entertainment",
          "x": 0.3246818884726097,
          "y": 0.34838524703093293
         },
         {
          "group": "entertainment",
          "x": -0.32110242985015125,
          "y": 1.114853703957335
         },
         {
          "group": "entertainment",
          "x": 0.10641195392989279,
          "y": 0.718527634635723
         },
         {
          "group": "entertainment",
          "x": 0.01377045591379196,
          "y": 0.3786546878710335
         },
         {
          "group": "entertainment",
          "x": -0.7644742646799146,
          "y": 0.6119573492071733
         },
         {
          "group": "entertainment",
          "x": 0.9076716450658068,
          "y": 1.790159875969961
         },
         {
          "group": "entertainment",
          "x": -1.3096667064226557,
          "y": -0.8901919669136701
         },
         {
          "group": "entertainment",
          "x": 1.2517999900765273,
          "y": 0.6000790527067381
         },
         {
          "group": "entertainment",
          "x": -0.49374538373816274,
          "y": 0.9476720794461273
         },
         {
          "group": "entertainment",
          "x": 1.127745887068253,
          "y": -1.0881613088025934
         },
         {
          "group": "entertainment",
          "x": 1.1715356855674122,
          "y": 0.19862912115491133
         },
         {
          "group": "entertainment",
          "x": 0.7265906030354441,
          "y": -0.8746597066091938
         },
         {
          "group": "entertainment",
          "x": -1.3924925978140557,
          "y": -0.7287372419055412
         },
         {
          "group": "entertainment",
          "x": 0.2615449148591323,
          "y": -1.205754240249191
         },
         {
          "group": "entertainment",
          "x": 3.0815541642849356,
          "y": 1.6729441214554615
         },
         {
          "group": "entertainment",
          "x": 1.7345136671091228,
          "y": -0.9814509495428174
         },
         {
          "group": "entertainment",
          "x": 1.043490750780396,
          "y": -0.18198502897838426
         },
         {
          "group": "entertainment",
          "x": 1.5967974006067176,
          "y": -1.801369449906505
         },
         {
          "group": "entertainment",
          "x": -0.3349066110362353,
          "y": 0.04872401570568894
         },
         {
          "group": "entertainment",
          "x": 0.36166561571206496,
          "y": -0.33655159309843097
         },
         {
          "group": "entertainment",
          "x": 1.0418965065787162,
          "y": 0.24900704743771704
         },
         {
          "group": "entertainment",
          "x": 0.16221927813647896,
          "y": 1.116806712635078
         },
         {
          "group": "entertainment",
          "x": -0.5432829751401725,
          "y": 1.6902074896979762
         },
         {
          "group": "entertainment",
          "x": 0.5840260321493128,
          "y": -0.21535834545955712
         },
         {
          "group": "entertainment",
          "x": -0.5872594645993728,
          "y": 0.27871960629488596
         },
         {
          "group": "entertainment",
          "x": 0.41185257363147787,
          "y": -0.12505752050500574
         },
         {
          "group": "entertainment",
          "x": 1.345402568493645,
          "y": -1.908087911825402
         },
         {
          "group": "entertainment",
          "x": 1.2573481262954518,
          "y": -0.13520843267288374
         },
         {
          "group": "entertainment",
          "x": 1.447310323382788,
          "y": 0.34626915620730087
         },
         {
          "group": "entertainment",
          "x": 1.9231767583907162,
          "y": -1.104060507582069
         },
         {
          "group": "entertainment",
          "x": 0.8913224464787639,
          "y": -0.5608795157301355
         },
         {
          "group": "entertainment",
          "x": 1.430401702222398,
          "y": -1.3144961672852908
         },
         {
          "group": "entertainment",
          "x": 1.4060911302208896,
          "y": 0.7952859974263312
         },
         {
          "group": "entertainment",
          "x": -0.10608860361262569,
          "y": 0.9804302621804556
         },
         {
          "group": "entertainment",
          "x": 0.2974440141800582,
          "y": -0.4584086940828493
         },
         {
          "group": "entertainment",
          "x": 0.46379740318715695,
          "y": -1.307391383308287
         },
         {
          "group": "entertainment",
          "x": 1.157403731955894,
          "y": -0.21644950908663976
         },
         {
          "group": "entertainment",
          "x": 0.97868054100578,
          "y": -0.3081318425575251
         },
         {
          "group": "entertainment",
          "x": 1.230349711564301,
          "y": 0.3178954465690525
         },
         {
          "group": "entertainment",
          "x": -0.2290507107191836,
          "y": 0.5649882230245458
         },
         {
          "group": "entertainment",
          "x": 0.8536446539039835,
          "y": 0.7200375369171661
         },
         {
          "group": "entertainment",
          "x": 1.1435295436369137,
          "y": 1.2663853836896901
         },
         {
          "group": "entertainment",
          "x": -0.8113662735846189,
          "y": 1.0153261941949498
         },
         {
          "group": "entertainment",
          "x": 1.855780837548165,
          "y": 0.6057307805672487
         },
         {
          "group": "entertainment",
          "x": 0.35145262556287504,
          "y": 0.509654100289376
         },
         {
          "group": "entertainment",
          "x": 1.407624504846846,
          "y": 2.102280760529637
         },
         {
          "group": "entertainment",
          "x": -0.2545638618725303,
          "y": 0.6853341720666017
         },
         {
          "group": "entertainment",
          "x": 0.05192021329303725,
          "y": 0.23242110384242837
         },
         {
          "group": "entertainment",
          "x": 2.1119242374003124,
          "y": 0.12111779088094884
         },
         {
          "group": "entertainment",
          "x": 0.6518078368719431,
          "y": -0.144498919928394
         },
         {
          "group": "entertainment",
          "x": -0.8130031819997131,
          "y": -2.294089242973214
         },
         {
          "group": "entertainment",
          "x": -2.740773422056338,
          "y": 1.5385062484825396
         },
         {
          "group": "entertainment",
          "x": 1.6868618068453356,
          "y": 1.3389802302876614
         },
         {
          "group": "entertainment",
          "x": 0.9949361995143887,
          "y": -0.47939901665415224
         },
         {
          "group": "entertainment",
          "x": 0.15735267771415046,
          "y": -0.26378711054207815
         },
         {
          "group": "entertainment",
          "x": -0.4870856269559904,
          "y": -1.3169779367195027
         },
         {
          "group": "entertainment",
          "x": 1.6338504670387244,
          "y": -1.011000136768296
         },
         {
          "group": "entertainment",
          "x": -0.14515587732508758,
          "y": -1.798861206945302
         },
         {
          "group": "entertainment",
          "x": -1.5291784596273388,
          "y": 0.0751943077679615
         },
         {
          "group": "entertainment",
          "x": -1.304314362499727,
          "y": -0.7615309351400185
         },
         {
          "group": "entertainment",
          "x": 1.4179669206200982,
          "y": 1.2461596797467205
         },
         {
          "group": "entertainment",
          "x": 1.7677620809138608,
          "y": 0.8727609960478122
         },
         {
          "group": "entertainment",
          "x": -0.36291412737244305,
          "y": -0.7371665948255632
         },
         {
          "group": "entertainment",
          "x": 1.1310309619105356,
          "y": -0.7199092416248918
         },
         {
          "group": "entertainment",
          "x": -0.2404309308322776,
          "y": -1.5463539953113314
         },
         {
          "group": "entertainment",
          "x": -0.07329945666550905,
          "y": -0.6546723244113268
         },
         {
          "group": "entertainment",
          "x": 0.1331797242675378,
          "y": 2.8492691657815716
         },
         {
          "group": "entertainment",
          "x": -1.8775015233996628,
          "y": 0.41063503612459096
         },
         {
          "group": "entertainment",
          "x": -0.39494222053034245,
          "y": 1.3328365210878017
         },
         {
          "group": "entertainment",
          "x": 1.0383910369389417,
          "y": 0.12186382722299598
         },
         {
          "group": "entertainment",
          "x": -0.10754853701755349,
          "y": 0.8608606499856325
         },
         {
          "group": "entertainment",
          "x": 1.563229080339825,
          "y": 0.1282157368997194
         },
         {
          "group": "entertainment",
          "x": 0.8503871871615313,
          "y": 0.8822689586088208
         },
         {
          "group": "entertainment",
          "x": 0.6846324005415502,
          "y": -0.3499697987273413
         },
         {
          "group": "entertainment",
          "x": 0.9592162016586869,
          "y": 0.7151766680660652
         },
         {
          "group": "entertainment",
          "x": 0.8481017385472475,
          "y": 1.7249460332571587
         },
         {
          "group": "entertainment",
          "x": 0.3183453836177368,
          "y": -0.7032041052542969
         },
         {
          "group": "entertainment",
          "x": -1.4083972331270949,
          "y": 1.8330528005097217
         },
         {
          "group": "entertainment",
          "x": 1.9873280135203575,
          "y": -0.5178081702719066
         },
         {
          "group": "entertainment",
          "x": 0.18549408994040975,
          "y": 1.0823638624375476
         },
         {
          "group": "entertainment",
          "x": -1.109834614345918,
          "y": -0.2185287646002729
         },
         {
          "group": "entertainment",
          "x": 1.8070021353268564,
          "y": -0.13536160825018984
         },
         {
          "group": "entertainment",
          "x": 1.523669682584381,
          "y": 0.6645397258483583
         },
         {
          "group": "entertainment",
          "x": 1.122029156010654,
          "y": -1.0291560665112978
         },
         {
          "group": "entertainment",
          "x": -0.5398642516800062,
          "y": 1.2927831565967747
         },
         {
          "group": "entertainment",
          "x": -0.4439406666996582,
          "y": 1.2636816237301545
         },
         {
          "group": "entertainment",
          "x": 2.1705128337764235,
          "y": -0.04241938693662861
         },
         {
          "group": "entertainment",
          "x": -0.05154492022766999,
          "y": -0.1798864245894064
         },
         {
          "group": "entertainment",
          "x": 0.7709587075260897,
          "y": -1.1389752081417273
         },
         {
          "group": "entertainment",
          "x": 0.6934951156273644,
          "y": -0.8996639848472927
         },
         {
          "group": "entertainment",
          "x": -0.7034478449743956,
          "y": -0.4432903896716942
         },
         {
          "group": "entertainment",
          "x": -1.6007326993196396,
          "y": -0.8851403804052967
         },
         {
          "group": "entertainment",
          "x": 0.653152998752957,
          "y": -0.19475255998248944
         },
         {
          "group": "entertainment",
          "x": 0.8017409853776171,
          "y": 0.39045701457828164
         },
         {
          "group": "entertainment",
          "x": -0.6152411581397829,
          "y": -1.8866316758670711
         },
         {
          "group": "entertainment",
          "x": 1.9385527037339347,
          "y": -1.9733748226815007
         },
         {
          "group": "entertainment",
          "x": 1.560093390493712,
          "y": -1.402659405105578
         },
         {
          "group": "entertainment",
          "x": 0.2902204585624957,
          "y": 0.4806789431806919
         },
         {
          "group": "entertainment",
          "x": 2.1767595249862515,
          "y": 0.3589752399009246
         },
         {
          "group": "entertainment",
          "x": -0.5543309254663508,
          "y": 1.4640814655231733
         },
         {
          "group": "entertainment",
          "x": -0.0827993061243073,
          "y": 1.2880973467933516
         },
         {
          "group": "entertainment",
          "x": 0.3870003235641937,
          "y": 0.9856319310033742
         },
         {
          "group": "entertainment",
          "x": 1.4510366877548397,
          "y": 1.0595061089043318
         },
         {
          "group": "entertainment",
          "x": -0.45565509424787354,
          "y": 0.5855002966342109
         },
         {
          "group": "entertainment",
          "x": 1.1409962251127244,
          "y": 0.1927094507185272
         },
         {
          "group": "entertainment",
          "x": 1.941455818428643,
          "y": -0.47742920988895526
         },
         {
          "group": "entertainment",
          "x": -0.07368120151023405,
          "y": -0.6216864749476569
         },
         {
          "group": "entertainment",
          "x": -2.266322823609986,
          "y": 0.5524461046146812
         },
         {
          "group": "entertainment",
          "x": -1.3220170532291857,
          "y": -1.288604987472897
         },
         {
          "group": "entertainment",
          "x": 0.4568619319849978,
          "y": 1.0806998496532896
         },
         {
          "group": "entertainment",
          "x": 0.714701624553367,
          "y": -2.032452241351528
         },
         {
          "group": "entertainment",
          "x": 1.0075344258709713,
          "y": -0.6375201429203023
         },
         {
          "group": "entertainment",
          "x": -1.4366323118337154,
          "y": 0.9178597679595575
         },
         {
          "group": "entertainment",
          "x": 1.8597834214588103,
          "y": 1.289561251665168
         },
         {
          "group": "entertainment",
          "x": 0.728315635710115,
          "y": -1.975572091144534
         },
         {
          "group": "entertainment",
          "x": 1.3935244259411705,
          "y": 1.0187839874912537
         },
         {
          "group": "entertainment",
          "x": -1.445856532116973,
          "y": -0.27368897451033325
         },
         {
          "group": "entertainment",
          "x": -0.49416320354738913,
          "y": 0.609980083987244
         },
         {
          "group": "entertainment",
          "x": 0.7416314351314888,
          "y": -0.8203715336655086
         },
         {
          "group": "entertainment",
          "x": 2.3817079607661755,
          "y": 1.4302522326484353
         },
         {
          "group": "entertainment",
          "x": 1.0686491160589102,
          "y": -0.08296757082667838
         },
         {
          "group": "entertainment",
          "x": 0.4798711051922244,
          "y": -0.46408677370201373
         },
         {
          "group": "entertainment",
          "x": 1.323852553126498,
          "y": -1.0050047069896249
         },
         {
          "group": "entertainment",
          "x": 0.6033621365540607,
          "y": 0.10329185757216311
         },
         {
          "group": "entertainment",
          "x": 0.46678511773929215,
          "y": -1.1317274848178054
         },
         {
          "group": "entertainment",
          "x": 0.6398593993338686,
          "y": -0.6086615969499994
         },
         {
          "group": "entertainment",
          "x": -1.2113652057955238,
          "y": 0.7997900370375027
         },
         {
          "group": "entertainment",
          "x": 1.6375372642531427,
          "y": -0.5708643723510258
         },
         {
          "group": "entertainment",
          "x": 0.021454703644920515,
          "y": 0.7891532832061694
         },
         {
          "group": "entertainment",
          "x": 1.3547205811670122,
          "y": -1.1836974597592316
         },
         {
          "group": "entertainment",
          "x": 0.2993598942758518,
          "y": -0.5261637992515141
         },
         {
          "group": "entertainment",
          "x": 2.0558138456213446,
          "y": -1.1854817833733364
         },
         {
          "group": "entertainment",
          "x": 0.09327608859047462,
          "y": 0.6984119969008871
         },
         {
          "group": "entertainment",
          "x": 1.6760420598599257,
          "y": 0.9876611414862619
         },
         {
          "group": "entertainment",
          "x": 1.8021135737859562,
          "y": 0.47945791387207193
         },
         {
          "group": "entertainment",
          "x": 0.6237411395044882,
          "y": 2.204582248979936
         },
         {
          "group": "entertainment",
          "x": 0.8069013397932455,
          "y": 1.317938731068908
         },
         {
          "group": "entertainment",
          "x": 0.8988957895801434,
          "y": -1.391710913800528
         },
         {
          "group": "entertainment",
          "x": 1.0434619004358263,
          "y": 1.1856740515116773
         },
         {
          "group": "entertainment",
          "x": 0.02825760435291801,
          "y": 1.3626546827647728
         },
         {
          "group": "entertainment",
          "x": 0.92584931777283,
          "y": 0.16560483947950683
         },
         {
          "group": "entertainment",
          "x": 0.318438327854442,
          "y": -1.4973969214032032
         },
         {
          "group": "entertainment",
          "x": 0.46824551355913185,
          "y": 0.8553392107934537
         },
         {
          "group": "entertainment",
          "x": 0.14230676085878077,
          "y": 0.6309663111546013
         },
         {
          "group": "entertainment",
          "x": 1.2585376683196574,
          "y": 0.6988921089502801
         },
         {
          "group": "entertainment",
          "x": -0.14718277980492697,
          "y": -0.11616686713389515
         },
         {
          "group": "entertainment",
          "x": -0.9608600906534313,
          "y": 0.606141709033304
         },
         {
          "group": "entertainment",
          "x": -0.6246491531640896,
          "y": -0.42455310693099885
         },
         {
          "group": "entertainment",
          "x": -0.761000154845912,
          "y": 0.6583209002592825
         },
         {
          "group": "entertainment",
          "x": 0.8151195914939324,
          "y": 0.13865641448277494
         },
         {
          "group": "entertainment",
          "x": 0.9014906808535188,
          "y": -0.058098075656847145
         },
         {
          "group": "entertainment",
          "x": 1.0375340440036414,
          "y": 0.14928587687192574
         },
         {
          "group": "entertainment",
          "x": -0.11304030962862084,
          "y": -0.8612856252409372
         },
         {
          "group": "entertainment",
          "x": 0.5375875711684573,
          "y": 0.18199333451667393
         },
         {
          "group": "entertainment",
          "x": -0.8590370608709965,
          "y": -0.7856292090553229
         },
         {
          "group": "entertainment",
          "x": 0.24572159698926468,
          "y": -0.8573360101691034
         },
         {
          "group": "entertainment",
          "x": 1.7281446434284744,
          "y": -2.0662611167829255
         },
         {
          "group": "entertainment",
          "x": 0.33999270924730435,
          "y": 1.3888168759817054
         },
         {
          "group": "entertainment",
          "x": 1.0301162726523707,
          "y": -0.7883455907950123
         },
         {
          "group": "entertainment",
          "x": 0.47333791202896025,
          "y": 0.9862983232904201
         },
         {
          "group": "entertainment",
          "x": 0.9455841253761863,
          "y": -0.6351877151655514
         },
         {
          "group": "entertainment",
          "x": -0.24595990817024205,
          "y": -0.40552563451961066
         },
         {
          "group": "entertainment",
          "x": -1.338939040234694,
          "y": -1.7999251143444508
         },
         {
          "group": "entertainment",
          "x": 0.10222962296520828,
          "y": -0.9078260260388745
         },
         {
          "group": "entertainment",
          "x": 0.1547866696403712,
          "y": 0.2085081037888877
         },
         {
          "group": "entertainment",
          "x": 2.391716179454942,
          "y": -0.7565719751673385
         },
         {
          "group": "entertainment",
          "x": -0.14194587520987131,
          "y": -0.13879393696518005
         },
         {
          "group": "entertainment",
          "x": 1.2133289722469154,
          "y": -1.413103968489204
         },
         {
          "group": "entertainment",
          "x": 0.6377500567095186,
          "y": 0.46634271868639243
         },
         {
          "group": "entertainment",
          "x": 0.033030502454350644,
          "y": 0.3801278641060798
         },
         {
          "group": "entertainment",
          "x": 1.2110784757304718,
          "y": 0.5522196634645613
         },
         {
          "group": "entertainment",
          "x": 1.0970346353223537,
          "y": -1.0033416127731236
         },
         {
          "group": "entertainment",
          "x": -0.34106832948908006,
          "y": -0.3032038395214905
         },
         {
          "group": "entertainment",
          "x": -0.06798641423670324,
          "y": -0.7387689412628184
         },
         {
          "group": "entertainment",
          "x": 1.81761954548895,
          "y": -0.27550423559256115
         },
         {
          "group": "entertainment",
          "x": 0.34510010613816816,
          "y": -0.7271373261749775
         },
         {
          "group": "entertainment",
          "x": -0.8631868646024637,
          "y": -0.16595842877747852
         },
         {
          "group": "entertainment",
          "x": 1.435238945730119,
          "y": -0.905188981876346
         },
         {
          "group": "entertainment",
          "x": -0.12761779097033882,
          "y": 0.23516471737327244
         },
         {
          "group": "entertainment",
          "x": 1.6654914616480716,
          "y": -0.2673865190161413
         },
         {
          "group": "entertainment",
          "x": 0.03758754685704711,
          "y": -0.692163370119199
         },
         {
          "group": "entertainment",
          "x": 0.5534596710398749,
          "y": 0.7676398939161607
         },
         {
          "group": "entertainment",
          "x": 0.5612349676385376,
          "y": 1.3475226519876788
         },
         {
          "group": "entertainment",
          "x": 0.39468171251799267,
          "y": -0.34917118167413475
         },
         {
          "group": "entertainment",
          "x": -0.1527224783913266,
          "y": 2.6805387368359557
         },
         {
          "group": "entertainment",
          "x": 1.7668371385833372,
          "y": -0.031090996350959257
         },
         {
          "group": "entertainment",
          "x": 0.5250388797240375,
          "y": -0.3631205392291659
         },
         {
          "group": "entertainment",
          "x": 0.08332132229991801,
          "y": -0.4259841610406572
         },
         {
          "group": "entertainment",
          "x": 2.020103215217178,
          "y": -0.623532498351729
         },
         {
          "group": "entertainment",
          "x": 0.12068776172467911,
          "y": -1.5930041628081637
         },
         {
          "group": "entertainment",
          "x": 1.3743925697538466,
          "y": 0.12312767897180316
         },
         {
          "group": "entertainment",
          "x": -0.5754903535258233,
          "y": 1.0674739593036566
         },
         {
          "group": "entertainment",
          "x": -0.06811527851700078,
          "y": -0.8232137476309477
         },
         {
          "group": "entertainment",
          "x": -0.5136132868452193,
          "y": -0.033437165824389686
         },
         {
          "group": "entertainment",
          "x": -0.2972114959980299,
          "y": -0.01676439135924106
         },
         {
          "group": "entertainment",
          "x": -0.43594817851950746,
          "y": 1.2734400579084488
         },
         {
          "group": "entertainment",
          "x": 1.114177999884436,
          "y": 2.9273748657567604
         },
         {
          "group": "entertainment",
          "x": 1.4183053158047074,
          "y": -0.37438727816755035
         },
         {
          "group": "entertainment",
          "x": -0.40065193336296756,
          "y": 1.195418962706564
         },
         {
          "group": "entertainment",
          "x": -0.1469976922962731,
          "y": -1.1926798185061465
         },
         {
          "group": "entertainment",
          "x": 1.9862391136252708,
          "y": -1.4938985207420739
         },
         {
          "group": "entertainment",
          "x": 2.063336943271997,
          "y": 0.7655898291427042
         },
         {
          "group": "entertainment",
          "x": -0.8733341000485791,
          "y": -1.6328963773315166
         },
         {
          "group": "entertainment",
          "x": -0.07238958135052115,
          "y": -0.591142388652181
         },
         {
          "group": "entertainment",
          "x": -0.25753252807556726,
          "y": -0.18650735637491345
         },
         {
          "group": "entertainment",
          "x": -0.5544601969504032,
          "y": -0.18276821421718292
         },
         {
          "group": "entertainment",
          "x": 1.3704190360160782,
          "y": 0.8248530016354515
         },
         {
          "group": "entertainment",
          "x": -0.9299091525929386,
          "y": 1.2103719935709272
         },
         {
          "group": "entertainment",
          "x": -0.005169279074785364,
          "y": 0.28587792583351207
         },
         {
          "group": "entertainment",
          "x": -0.02133336941704402,
          "y": 0.14250640834711453
         },
         {
          "group": "entertainment",
          "x": 1.7880565030512265,
          "y": 0.7609320653029711
         },
         {
          "group": "entertainment",
          "x": 2.340599126406215,
          "y": 3.0057820080943336
         },
         {
          "group": "entertainment",
          "x": -0.2617731900959172,
          "y": -0.1722091923159613
         },
         {
          "group": "entertainment",
          "x": 1.826805338165097,
          "y": -1.6627460605650775
         },
         {
          "group": "entertainment",
          "x": 1.1031354980785764,
          "y": -0.2550696009132373
         },
         {
          "group": "entertainment",
          "x": -0.19417833802563866,
          "y": -0.5064265139149782
         },
         {
          "group": "entertainment",
          "x": 0.6996343579918853,
          "y": -0.9416924420202619
         },
         {
          "group": "entertainment",
          "x": -0.09576499280481217,
          "y": -0.1497109356785021
         },
         {
          "group": "entertainment",
          "x": 3.4325748252807378,
          "y": 0.48587631787554286
         },
         {
          "group": "entertainment",
          "x": -0.12591362829437922,
          "y": -1.13337883398229
         },
         {
          "group": "entertainment",
          "x": 1.343578329089213,
          "y": 0.32039605224548673
         },
         {
          "group": "entertainment",
          "x": -0.17657838321522934,
          "y": 0.2133292875882943
         },
         {
          "group": "entertainment",
          "x": 1.642708831176875,
          "y": -2.598515174554319
         },
         {
          "group": "entertainment",
          "x": 0.6457069111779661,
          "y": 0.05495480360767772
         },
         {
          "group": "entertainment",
          "x": 0.6499034937680964,
          "y": -0.6823075681530522
         },
         {
          "group": "entertainment",
          "x": -0.5025558881274874,
          "y": 0.3964828791463267
         },
         {
          "group": "entertainment",
          "x": 0.2676156469984474,
          "y": -0.7717247304082132
         },
         {
          "group": "entertainment",
          "x": 1.2001531355927184,
          "y": -1.5252210384420906
         },
         {
          "group": "entertainment",
          "x": 0.14247497975659695,
          "y": 0.042582618515851746
         },
         {
          "group": "entertainment",
          "x": 0.7355015718871939,
          "y": 0.34536402424343143
         },
         {
          "group": "entertainment",
          "x": 1.5475336255808796,
          "y": 0.992444889252739
         },
         {
          "group": "entertainment",
          "x": -0.8517047105007062,
          "y": -0.11441900373357508
         },
         {
          "group": "entertainment",
          "x": 0.21556541826741593,
          "y": 0.741227814867544
         },
         {
          "group": "entertainment",
          "x": 1.71133350940985,
          "y": 0.49715018892086893
         },
         {
          "group": "entertainment",
          "x": 0.4836099857729806,
          "y": 0.1751766518391738
         },
         {
          "group": "entertainment",
          "x": -0.9813901938281397,
          "y": 1.2817521144739317
         },
         {
          "group": "entertainment",
          "x": 0.5772794334440776,
          "y": 1.0921563800564653
         },
         {
          "group": "entertainment",
          "x": -1.0730561202031135,
          "y": -0.12649189033585692
         },
         {
          "group": "entertainment",
          "x": 0.8060860905381416,
          "y": -1.019501866642867
         },
         {
          "group": "entertainment",
          "x": 2.4191449422018416,
          "y": 0.4860337991481873
         },
         {
          "group": "entertainment",
          "x": 0.14396344812832912,
          "y": 0.33415058276959997
         },
         {
          "group": "entertainment",
          "x": 0.28986182102166086,
          "y": -1.45297400720369
         },
         {
          "group": "entertainment",
          "x": 0.6896530204701794,
          "y": -0.27933499786401067
         },
         {
          "group": "entertainment",
          "x": 0.1470086007001475,
          "y": 1.4039463890445363
         },
         {
          "group": "entertainment",
          "x": 1.1944428279273336,
          "y": 2.5889715693546904
         },
         {
          "group": "entertainment",
          "x": -1.0702392889962407,
          "y": -0.44834025368828506
         },
         {
          "group": "entertainment",
          "x": 1.3886095081156407,
          "y": -0.7722342390048412
         },
         {
          "group": "entertainment",
          "x": -1.6320547547398216,
          "y": -2.495056194332059
         },
         {
          "group": "entertainment",
          "x": 0.5062374838029998,
          "y": 1.938580446971355
         },
         {
          "group": "entertainment",
          "x": 1.5191823567578826,
          "y": 1.9583664046581242
         },
         {
          "group": "entertainment",
          "x": -1.3930000333784716,
          "y": -1.0310109921391248
         },
         {
          "group": "entertainment",
          "x": 1.048523829710575,
          "y": -1.0903838460111295
         },
         {
          "group": "entertainment",
          "x": -0.1527103795393554,
          "y": -1.1978750201697814
         },
         {
          "group": "entertainment",
          "x": 1.0620506252531232,
          "y": -0.06123516257159432
         },
         {
          "group": "entertainment",
          "x": -0.6019626602606469,
          "y": -1.0356765510256345
         },
         {
          "group": "entertainment",
          "x": 1.1193355183294045,
          "y": 2.821194717147563
         },
         {
          "group": "entertainment",
          "x": 1.7763183723338973,
          "y": 0.3231108030191172
         },
         {
          "group": "entertainment",
          "x": 1.3928007446698591,
          "y": 1.2117676648912339
         },
         {
          "group": "entertainment",
          "x": 0.17129450100579902,
          "y": -1.8721956625345118
         },
         {
          "group": "entertainment",
          "x": 1.6152456290219401,
          "y": 0.5495722752847019
         },
         {
          "group": "entertainment",
          "x": -0.3260065082225488,
          "y": -0.397743534397121
         },
         {
          "group": "entertainment",
          "x": 1.261020577662572,
          "y": 0.4440077305108785
         },
         {
          "group": "entertainment",
          "x": 0.39635508237855555,
          "y": 1.404502180724531
         },
         {
          "group": "entertainment",
          "x": 0.14363748501508627,
          "y": 0.8029655154607235
         },
         {
          "group": "entertainment",
          "x": 2.6684931585975193,
          "y": 0.12804462996815602
         },
         {
          "group": "entertainment",
          "x": 1.756007295669943,
          "y": 0.4657038913823381
         },
         {
          "group": "entertainment",
          "x": 0.8849755789107925,
          "y": 1.0619135608787198
         },
         {
          "group": "entertainment",
          "x": -0.5907358642937157,
          "y": 0.5772638396828099
         },
         {
          "group": "entertainment",
          "x": 1.155239810858712,
          "y": -1.5194311628996704
         },
         {
          "group": "entertainment",
          "x": 0.2870173574668794,
          "y": -0.6678621345066408
         },
         {
          "group": "entertainment",
          "x": -2.9081855791563975,
          "y": -1.3638569532632414
         },
         {
          "group": "entertainment",
          "x": 0.9739635753337204,
          "y": -1.4642158613096252
         },
         {
          "group": "entertainment",
          "x": 0.1452274107302194,
          "y": 0.22047161382081218
         },
         {
          "group": "entertainment",
          "x": -1.0382266499038988,
          "y": -1.9500503384862586
         },
         {
          "group": "entertainment",
          "x": 0.26676601064703626,
          "y": 1.342806343004601
         },
         {
          "group": "entertainment",
          "x": 0.11725200451660675,
          "y": -0.03103159218499714
         },
         {
          "group": "entertainment",
          "x": -0.7757560733135075,
          "y": 1.6799912119035354
         },
         {
          "group": "entertainment",
          "x": 1.6816149062045966,
          "y": -1.2195132438984135
         },
         {
          "group": "entertainment",
          "x": -1.351284238889386,
          "y": 0.8390501456948563
         },
         {
          "group": "entertainment",
          "x": 1.7260294012328172,
          "y": -0.6855287900413247
         },
         {
          "group": "entertainment",
          "x": -0.06279402587005767,
          "y": -0.38039842375419075
         },
         {
          "group": "entertainment",
          "x": 1.0083267005176342,
          "y": -0.5032429596246748
         },
         {
          "group": "entertainment",
          "x": 1.5154479696270728,
          "y": 1.850520599117554
         },
         {
          "group": "entertainment",
          "x": 0.9899523396405,
          "y": -0.23385959274776644
         },
         {
          "group": "entertainment",
          "x": 0.3606251477200749,
          "y": 0.47361250701896856
         },
         {
          "group": "entertainment",
          "x": 1.73936589054611,
          "y": 1.244855179079833
         },
         {
          "group": "entertainment",
          "x": 0.16314653764463938,
          "y": -2.4132183606014928
         },
         {
          "group": "entertainment",
          "x": 0.5017997847767709,
          "y": 0.4845142012621857
         },
         {
          "group": "entertainment",
          "x": -0.23369192991974325,
          "y": 1.183728826170188
         },
         {
          "group": "entertainment",
          "x": 1.7514221626575228,
          "y": -1.0483368252143461
         },
         {
          "group": "entertainment",
          "x": 1.2883765930999231,
          "y": -0.4325744309657025
         },
         {
          "group": "entertainment",
          "x": -1.5373959200784006,
          "y": 0.5139703457513012
         },
         {
          "group": "entertainment",
          "x": 1.7385020918814202,
          "y": -0.10587925676549462
         },
         {
          "group": "entertainment",
          "x": 1.1706456434245058,
          "y": 1.3265400334191966
         },
         {
          "group": "entertainment",
          "x": 1.982511993834877,
          "y": 0.027258466216683687
         },
         {
          "group": "entertainment",
          "x": 0.8451736616347313,
          "y": 0.3972360456021774
         },
         {
          "group": "entertainment",
          "x": -0.3847709386039459,
          "y": -0.2838541470220616
         },
         {
          "group": "entertainment",
          "x": 1.2766007036116553,
          "y": -1.0896771688540174
         },
         {
          "group": "entertainment",
          "x": 0.4055724922782695,
          "y": 0.23211638096804357
         },
         {
          "group": "entertainment",
          "x": 0.6182467694208175,
          "y": -0.8310281472433968
         },
         {
          "group": "entertainment",
          "x": 1.048301355003383,
          "y": 0.2165606393311057
         },
         {
          "group": "entertainment",
          "x": -0.231827332823168,
          "y": -1.7084032320874185
         },
         {
          "group": "entertainment",
          "x": 2.0337076207015388,
          "y": 0.823659100297889
         },
         {
          "group": "entertainment",
          "x": 0.7444206826566607,
          "y": -0.9618154033773828
         },
         {
          "group": "entertainment",
          "x": 4.236783736509279,
          "y": -0.22888622580849224
         },
         {
          "group": "entertainment",
          "x": 1.6386421254422063,
          "y": 2.895206421289601
         },
         {
          "group": "entertainment",
          "x": -1.1580850477665363,
          "y": -1.6187629453911345
         },
         {
          "group": "entertainment",
          "x": 0.913544582195854,
          "y": -1.6954452801512707
         },
         {
          "group": "entertainment",
          "x": -1.1937099839672185,
          "y": 1.4216216138485223
         },
         {
          "group": "entertainment",
          "x": -0.056838682899975575,
          "y": 1.3074039919475255
         },
         {
          "group": "entertainment",
          "x": 0.0025901561574987655,
          "y": -1.2188515106772158
         },
         {
          "group": "entertainment",
          "x": 2.546638321985356,
          "y": -0.4844534689875669
         },
         {
          "group": "entertainment",
          "x": 1.169391885222021,
          "y": 0.31657006786919517
         },
         {
          "group": "entertainment",
          "x": 1.4812778488143965,
          "y": 2.998554003731885
         },
         {
          "group": "entertainment",
          "x": 0.10199523979816495,
          "y": 0.1059910885053523
         },
         {
          "group": "entertainment",
          "x": 1.7060177144519102,
          "y": -0.645846049317975
         },
         {
          "group": "entertainment",
          "x": -0.9441768832035723,
          "y": -1.1502761504240666
         },
         {
          "group": "entertainment",
          "x": -0.9773348695465162,
          "y": 1.7200802451343986
         },
         {
          "group": "entertainment",
          "x": 0.6747784750127697,
          "y": -0.9994636584878943
         },
         {
          "group": "entertainment",
          "x": -0.35464008005996134,
          "y": -0.7100553099237356
         },
         {
          "group": "entertainment",
          "x": 2.0287290542071097,
          "y": -0.7389740602699736
         },
         {
          "group": "entertainment",
          "x": 0.5859614698869782,
          "y": 0.44697642769815576
         },
         {
          "group": "entertainment",
          "x": 1.6137827277914465,
          "y": 1.0918546873249566
         },
         {
          "group": "entertainment",
          "x": 0.7559943222982873,
          "y": 1.432037417435326
         },
         {
          "group": "entertainment",
          "x": 1.065502952185567,
          "y": -1.811082495975506
         },
         {
          "group": "entertainment",
          "x": 1.340458741336039,
          "y": -0.2631043366543436
         },
         {
          "group": "entertainment",
          "x": -0.6538363933408329,
          "y": 0.13235542041455253
         },
         {
          "group": "entertainment",
          "x": 4.233886406708582,
          "y": 2.0839197181720746
         },
         {
          "group": "entertainment",
          "x": 1.4909860094098129,
          "y": -0.8008527416889624
         },
         {
          "group": "entertainment",
          "x": -0.7853735092412376,
          "y": 1.6781773101196988
         },
         {
          "group": "entertainment",
          "x": -0.22583805975267457,
          "y": -1.9526332420440118
         },
         {
          "group": "entertainment",
          "x": 0.3566320103473151,
          "y": 0.12092584154309097
         },
         {
          "group": "entertainment",
          "x": 0.30615389585746605,
          "y": 0.4674582646590978
         },
         {
          "group": "entertainment",
          "x": 1.2276439275727478,
          "y": 1.6492055038541975
         },
         {
          "group": "entertainment",
          "x": 0.5280204538760055,
          "y": -2.0628873318070275
         },
         {
          "group": "entertainment",
          "x": -1.2550098791297342,
          "y": 0.11432361264736529
         },
         {
          "group": "entertainment",
          "x": 2.4044439242008404,
          "y": -0.671967887185166
         },
         {
          "group": "entertainment",
          "x": 0.48822535803994294,
          "y": -0.15440774937906226
         },
         {
          "group": "entertainment",
          "x": 0.6379887315656231,
          "y": 1.3599662061782045
         },
         {
          "group": "entertainment",
          "x": 3.269722692236602,
          "y": -0.732929092143369
         },
         {
          "group": "entertainment",
          "x": -2.9980629113313615,
          "y": -0.9829105111341272
         },
         {
          "group": "entertainment",
          "x": -0.31591401464163094,
          "y": -0.12412532234032754
         },
         {
          "group": "entertainment",
          "x": 0.008281935303691656,
          "y": -2.6193188060813717
         },
         {
          "group": "entertainment",
          "x": -0.1589169670531442,
          "y": -0.7295152717373588
         },
         {
          "group": "entertainment",
          "x": -2.5258445153878415,
          "y": -0.4359388164039264
         },
         {
          "group": "entertainment",
          "x": 2.2040111008268792,
          "y": -0.49786689905169207
         },
         {
          "group": "entertainment",
          "x": 1.4681862910013495,
          "y": 1.0370289433530018
         },
         {
          "group": "entertainment",
          "x": -0.3944500557242376,
          "y": 0.9798087341149258
         },
         {
          "group": "entertainment",
          "x": 1.980462008290181,
          "y": 0.3342884943706427
         },
         {
          "group": "entertainment",
          "x": 0.8978542017231367,
          "y": -0.3022227985936808
         },
         {
          "group": "entertainment",
          "x": 1.135500904404,
          "y": 0.20565737863871808
         }
        ]
       },
       "encoding": {
        "color": {
         "field": "group",
         "type": "nominal"
        },
        "x": {
         "field": "x",
         "type": "quantitative"
        },
        "y": {
         "field": "y",
         "type": "quantitative"
        }
       },
       "mark": "point"
      },
      "image/png": "[encoded data removed]",
      "text/plain": [
       "<VegaLite 2 object>\n",
       "\n",
       "If you see this message, it means the renderer has not been properly enabled\n",
       "for the frontend that you are using. For more information, see\n",
       "https://altair-viz.github.io/user_guide/troubleshooting.html\n"
      ]
     },
     "execution_count": 25,
     "metadata": {},
     "output_type": "execute_result"
    }
   ],
   "source": [
    "pca = PCA(n_components=2)\n",
    "\n",
    "reduced_dims = pca.fit_transform(model.paragraph_matrix.data)\n",
    "print(f\"2-component PCA, explains {sum(pca.explained_variance_):.2f}% of variance\")\n",
    "\n",
    "dx = pd.DataFrame(reduced_dims, columns=[\"x\", \"y\"])\n",
    "dx[\"group\"] = df.group.to_numpy()\n",
    "\n",
    "alt.Chart(dx).mark_point().encode(x=\"x\", y=\"y\", color=\"group\")"
   ]
  },
  {
   "cell_type": "markdown",
   "metadata": {},
   "source": [
    "These results aren't great, but we can see the beginnings of separation. If we look at just business and politics it becomes more obvious."
   ]
  },
  {
   "cell_type": "code",
   "execution_count": 26,
   "metadata": {},
   "outputs": [
    {
     "data": {
      "application/vnd.vegalite.v2+json": {
       "$schema": "https://vega.github.io/schema/vega-lite/v2.6.0.json",
       "config": {
        "view": {
         "height": 300,
         "width": 400
        }
       },
       "data": {
        "name": "data-e2f0cd350222f74b9bc74ac0e6fa7765"
       },
       "datasets": {
        "data-e2f0cd350222f74b9bc74ac0e6fa7765": [
         {
          "group": "business",
          "x": -1.2754358065479625,
          "y": 0.14587483148912192
         },
         {
          "group": "business",
          "x": -1.1361813924598607,
          "y": 1.7262103187515634
         },
         {
          "group": "business",
          "x": -1.1086207731703874,
          "y": -0.9709771457403974
         },
         {
          "group": "business",
          "x": -0.2512268763673353,
          "y": -0.7911433666845524
         },
         {
          "group": "business",
          "x": -0.38330845081195075,
          "y": -1.1817617821803614
         },
         {
          "group": "business",
          "x": -1.001492700257443,
          "y": 0.17825333566136864
         },
         {
          "group": "business",
          "x": -1.2999612467309085,
          "y": 0.4414649927953293
         },
         {
          "group": "business",
          "x": -0.9857512098573815,
          "y": -0.339049717929691
         },
         {
          "group": "business",
          "x": -1.1463433072413387,
          "y": -0.30342974564374137
         },
         {
          "group": "business",
          "x": -0.3000564946787693,
          "y": -1.135521230639616
         },
         {
          "group": "business",
          "x": -0.7051620991775077,
          "y": -0.3797316096251721
         },
         {
          "group": "business",
          "x": -1.3309852172613224,
          "y": 1.2578838329169446
         },
         {
          "group": "business",
          "x": -0.2901423677074294,
          "y": -0.19689443844158658
         },
         {
          "group": "business",
          "x": -0.45338207892531734,
          "y": 0.296414456162484
         },
         {
          "group": "business",
          "x": 0.3381238991304023,
          "y": -2.559793344112516
         },
         {
          "group": "business",
          "x": -1.302943522270987,
          "y": 0.9118549995509333
         },
         {
          "group": "business",
          "x": -0.05741319441441005,
          "y": 2.6264426401422662
         },
         {
          "group": "business",
          "x": -2.782654400738043,
          "y": -0.8054552864501356
         },
         {
          "group": "business",
          "x": -2.5882257934093706,
          "y": 0.6903401719284594
         },
         {
          "group": "business",
          "x": -0.37000113258535655,
          "y": -0.8724051406086314
         },
         {
          "group": "business",
          "x": -1.3436030741938023,
          "y": -1.4226701830724346
         },
         {
          "group": "business",
          "x": 0.15290410756851852,
          "y": 3.0168248232454067
         },
         {
          "group": "business",
          "x": -0.48193707485143666,
          "y": 0.06600229758768669
         },
         {
          "group": "business",
          "x": -0.36818942829728923,
          "y": -0.25932684406953793
         },
         {
          "group": "business",
          "x": -1.491641755870391,
          "y": -0.08858368013098473
         },
         {
          "group": "business",
          "x": -0.2700929413019596,
          "y": 1.269176654098026
         },
         {
          "group": "business",
          "x": -0.8874552406009127,
          "y": -1.396591062079541
         },
         {
          "group": "business",
          "x": -2.464815053695061,
          "y": 1.1867817919943178
         },
         {
          "group": "business",
          "x": -1.1037011005496775,
          "y": -0.6076085947150776
         },
         {
          "group": "business",
          "x": -0.45030585399416784,
          "y": 0.7923091277039408
         },
         {
          "group": "business",
          "x": -0.8756482895157512,
          "y": -1.6264790522975123
         },
         {
          "group": "business",
          "x": -0.0806757606740395,
          "y": 0.44318106878761526
         },
         {
          "group": "business",
          "x": -0.6811276882188438,
          "y": 3.020021907860713
         },
         {
          "group": "business",
          "x": -0.29640907838259906,
          "y": -1.5743260637145362
         },
         {
          "group": "business",
          "x": -0.6610041524979267,
          "y": 0.9636747572318864
         },
         {
          "group": "business",
          "x": -0.43699125524774873,
          "y": -0.1134799434319
         },
         {
          "group": "business",
          "x": -1.3331771321397865,
          "y": -0.2889500475811496
         },
         {
          "group": "business",
          "x": -0.9866200113222561,
          "y": 0.9796844506182617
         },
         {
          "group": "business",
          "x": 0.04648786796363662,
          "y": 0.3049912905694385
         },
         {
          "group": "business",
          "x": -0.9450344246444827,
          "y": -0.3300301580289223
         },
         {
          "group": "business",
          "x": -1.3401681169060946,
          "y": 0.03687743610521364
         },
         {
          "group": "business",
          "x": -0.6153002509283731,
          "y": 0.12500940343435818
         },
         {
          "group": "business",
          "x": -1.6188755381288078,
          "y": 1.7230308334177284
         },
         {
          "group": "business",
          "x": -3.4231123619787103,
          "y": 1.2724258011196496
         },
         {
          "group": "business",
          "x": -1.2792472650122084,
          "y": 0.02224017843966304
         },
         {
          "group": "business",
          "x": -1.2826165796544795,
          "y": 0.5207986769815622
         },
         {
          "group": "business",
          "x": -1.487479503604096,
          "y": 1.5126583041653114
         },
         {
          "group": "business",
          "x": -1.0885974723242997,
          "y": 0.23486441526284738
         },
         {
          "group": "business",
          "x": -1.9532636867637698,
          "y": -0.8578197738792226
         },
         {
          "group": "business",
          "x": -1.3161942835160787,
          "y": -0.30041541846244085
         },
         {
          "group": "business",
          "x": -1.5403834733306612,
          "y": -1.109769014968503
         },
         {
          "group": "business",
          "x": -0.49315126792448505,
          "y": -1.2817708661196463
         },
         {
          "group": "business",
          "x": -0.7681689986118668,
          "y": -1.8499913648277324
         },
         {
          "group": "business",
          "x": -0.8604866507823953,
          "y": -0.43763481850764735
         },
         {
          "group": "business",
          "x": -0.8357986432253761,
          "y": 1.6654857733439916
         },
         {
          "group": "business",
          "x": -1.608127978275452,
          "y": -1.1483924587314405
         },
         {
          "group": "business",
          "x": -0.6955271580152637,
          "y": 0.30537660185955595
         },
         {
          "group": "business",
          "x": -0.4376175126160533,
          "y": 1.281900397611767
         },
         {
          "group": "business",
          "x": 0.005382520748581177,
          "y": -0.8609226779904343
         },
         {
          "group": "business",
          "x": -0.5447811052546588,
          "y": 1.7768571362483758
         },
         {
          "group": "business",
          "x": -2.489685372803624,
          "y": 1.8192547140330098
         },
         {
          "group": "business",
          "x": -1.9252837474164353,
          "y": 1.7896987260795725
         },
         {
          "group": "business",
          "x": 0.5055818952667196,
          "y": 0.2468342192815986
         },
         {
          "group": "business",
          "x": 0.577456579712246,
          "y": -1.437601588393285
         },
         {
          "group": "business",
          "x": -0.25723150530396705,
          "y": -0.3702953556514102
         },
         {
          "group": "business",
          "x": -1.5482836789609224,
          "y": -0.14425702117494935
         },
         {
          "group": "business",
          "x": -0.5242639087346005,
          "y": 1.1397447629079676
         },
         {
          "group": "business",
          "x": -1.957495106198383,
          "y": -0.6298295634096517
         },
         {
          "group": "business",
          "x": -0.10394567373757752,
          "y": -1.213378255731612
         },
         {
          "group": "business",
          "x": -0.08254894234472623,
          "y": -1.3350749482339244
         },
         {
          "group": "business",
          "x": -1.7475242216402183,
          "y": 0.8098114867876505
         },
         {
          "group": "business",
          "x": 0.7510473600298598,
          "y": -0.7347798626454303
         },
         {
          "group": "business",
          "x": -0.9309577300174332,
          "y": 0.7031994231090083
         },
         {
          "group": "business",
          "x": -1.417691818732077,
          "y": 0.7995042483222383
         },
         {
          "group": "business",
          "x": -1.4771166592426248,
          "y": 1.0585143925327758
         },
         {
          "group": "business",
          "x": -0.6484267103107659,
          "y": 1.7103676283219496
         },
         {
          "group": "business",
          "x": -1.1279299630258124,
          "y": -0.41860091806522237
         },
         {
          "group": "business",
          "x": -0.41374509414915844,
          "y": 0.4621644108633546
         },
         {
          "group": "business",
          "x": -0.3012010623264735,
          "y": 1.6953374225864501
         },
         {
          "group": "business",
          "x": -0.558753296503634,
          "y": 0.20503198104162637
         },
         {
          "group": "business",
          "x": -2.8497024506050903,
          "y": -0.10613949450540353
         },
         {
          "group": "business",
          "x": -2.189406815113256,
          "y": -0.674260212144989
         },
         {
          "group": "business",
          "x": -0.45114134207226864,
          "y": 0.12918973101603035
         },
         {
          "group": "business",
          "x": -1.4985423194985512,
          "y": -0.8269077200831977
         },
         {
          "group": "business",
          "x": 0.018995467702447633,
          "y": 0.5353405285242416
         },
         {
          "group": "business",
          "x": -2.03601944959356,
          "y": 1.7204425920954052
         },
         {
          "group": "business",
          "x": -0.05152824167132706,
          "y": -0.6450460476079964
         },
         {
          "group": "business",
          "x": -0.9972591585688406,
          "y": -0.8529735664385931
         },
         {
          "group": "business",
          "x": -1.2877958170702954,
          "y": -1.179621131103348
         },
         {
          "group": "business",
          "x": -0.5873261990758587,
          "y": 1.0723089520381912
         },
         {
          "group": "business",
          "x": -0.08737576172246551,
          "y": 1.0220492382474555
         },
         {
          "group": "business",
          "x": -1.544032950910272,
          "y": -0.30376536351225925
         },
         {
          "group": "business",
          "x": -0.5268510124222431,
          "y": -0.8151507229264546
         },
         {
          "group": "business",
          "x": -1.8859543648511272,
          "y": 0.5763952226048111
         },
         {
          "group": "business",
          "x": -1.9132816111269566,
          "y": -1.1513373706643597
         },
         {
          "group": "business",
          "x": -1.3448673984479897,
          "y": 0.604982226454798
         },
         {
          "group": "business",
          "x": 0.1934205299577502,
          "y": -0.1930627188460372
         },
         {
          "group": "business",
          "x": -0.21742360769733624,
          "y": 0.5546681396634832
         },
         {
          "group": "business",
          "x": -0.6806835616637869,
          "y": -1.1728293586766032
         },
         {
          "group": "business",
          "x": -3.508324036501976,
          "y": -2.4840050730476193
         },
         {
          "group": "business",
          "x": -0.37584136658778905,
          "y": 1.0940132990013427
         },
         {
          "group": "business",
          "x": -1.0693438859176363,
          "y": -2.996707657218639
         },
         {
          "group": "business",
          "x": -2.2909737377053907,
          "y": 0.33701810500906165
         },
         {
          "group": "business",
          "x": -1.32141803078169,
          "y": -0.04830777921307611
         },
         {
          "group": "business",
          "x": -1.6241793797587314,
          "y": 1.2534520848099264
         },
         {
          "group": "business",
          "x": -0.6144962664009394,
          "y": 1.2301350313871762
         },
         {
          "group": "business",
          "x": -0.8179737099171202,
          "y": 0.5896564625458955
         },
         {
          "group": "business",
          "x": 0.4544937852150295,
          "y": -2.129531381520864
         },
         {
          "group": "business",
          "x": -0.7257154270118671,
          "y": 0.8967345663545638
         },
         {
          "group": "business",
          "x": -1.5946573343662276,
          "y": 0.545909623438238
         },
         {
          "group": "business",
          "x": -1.5740853409877325,
          "y": -1.0340399514856087
         },
         {
          "group": "business",
          "x": -1.0471186233637038,
          "y": -0.5523643654543
         },
         {
          "group": "business",
          "x": -0.6579161977914827,
          "y": -1.4170974309949926
         },
         {
          "group": "business",
          "x": -1.9867240329243918,
          "y": 0.6941392136298085
         },
         {
          "group": "business",
          "x": -1.9819060581360455,
          "y": -0.8269794582827732
         },
         {
          "group": "business",
          "x": -0.3101830989360619,
          "y": -1.2096704007375951
         },
         {
          "group": "business",
          "x": -1.1467492968212127,
          "y": -1.4286734267406302
         },
         {
          "group": "business",
          "x": -1.4469227936325686,
          "y": 0.996867381843931
         },
         {
          "group": "business",
          "x": -1.4681917621540193,
          "y": -1.4582433097105039
         },
         {
          "group": "business",
          "x": -0.7505811734708656,
          "y": -0.5468478793485595
         },
         {
          "group": "business",
          "x": -1.0615757676668156,
          "y": 1.0236452352021042
         },
         {
          "group": "business",
          "x": -0.6656438192210852,
          "y": -1.7285171677678277
         },
         {
          "group": "business",
          "x": 0.4647971243695816,
          "y": -0.7474332957355817
         },
         {
          "group": "business",
          "x": -1.609432321697362,
          "y": -0.4269001126704453
         },
         {
          "group": "business",
          "x": -1.5678122580314333,
          "y": -1.0763117377861184
         },
         {
          "group": "business",
          "x": -0.9154180799272765,
          "y": 0.5674927541057674
         },
         {
          "group": "business",
          "x": -1.0774158651046806,
          "y": 2.18345616215121
         },
         {
          "group": "business",
          "x": -2.024039187700248,
          "y": -0.4675311897191974
         },
         {
          "group": "business",
          "x": -0.09569294579514344,
          "y": -1.301506029951739
         },
         {
          "group": "business",
          "x": -0.7909022800025264,
          "y": 1.1451530764825348
         },
         {
          "group": "business",
          "x": -0.5817840334873552,
          "y": 0.4109547355251159
         },
         {
          "group": "business",
          "x": -0.5907558229435435,
          "y": 0.27374743285035513
         },
         {
          "group": "business",
          "x": -1.5902932455773615,
          "y": -0.5878338011897606
         },
         {
          "group": "business",
          "x": -1.1189779751929436,
          "y": -1.0404061411577885
         },
         {
          "group": "business",
          "x": -0.5455673281514989,
          "y": -1.268550622569667
         },
         {
          "group": "business",
          "x": -1.084890950655752,
          "y": 1.889370807968194
         },
         {
          "group": "business",
          "x": -0.8089511176050109,
          "y": -1.5177310073454877
         },
         {
          "group": "business",
          "x": -1.3232645180834086,
          "y": -1.8647223304127225
         },
         {
          "group": "business",
          "x": -1.810698595157929,
          "y": -0.6618584472246803
         },
         {
          "group": "business",
          "x": -0.6211661720820543,
          "y": 0.8409507612663606
         },
         {
          "group": "business",
          "x": -2.4095961041198404,
          "y": -0.8163460867265667
         },
         {
          "group": "business",
          "x": -1.341986503195222,
          "y": 0.44239303746654235
         },
         {
          "group": "business",
          "x": -1.226863326442807,
          "y": 0.662197378481527
         },
         {
          "group": "business",
          "x": -2.366084969086903,
          "y": -1.7892883708389113
         },
         {
          "group": "business",
          "x": -0.8865571016884635,
          "y": -1.2706397666572034
         },
         {
          "group": "business",
          "x": 0.045052214904580355,
          "y": 3.447485554140413
         },
         {
          "group": "business",
          "x": -0.31871879699201466,
          "y": 0.6063435109944406
         },
         {
          "group": "business",
          "x": -0.5689875056688452,
          "y": 1.2226337094515376
         },
         {
          "group": "business",
          "x": -0.10903454241993431,
          "y": 0.09483478571724634
         },
         {
          "group": "business",
          "x": -0.7026675442780907,
          "y": -0.44495577112447754
         },
         {
          "group": "business",
          "x": -1.0570058760899546,
          "y": 1.4078938677783872
         },
         {
          "group": "business",
          "x": -1.410979115158455,
          "y": 0.02129683710709558
         },
         {
          "group": "business",
          "x": -1.0262355604904105,
          "y": 0.23505665650601537
         },
         {
          "group": "business",
          "x": -2.852329954445201,
          "y": -0.19179465168654666
         },
         {
          "group": "business",
          "x": -1.3170209970203766,
          "y": -1.3004389995248284
         },
         {
          "group": "business",
          "x": -0.3510857940325537,
          "y": -0.019829978983002535
         },
         {
          "group": "business",
          "x": 0.1139363558543901,
          "y": 0.8758616624512813
         },
         {
          "group": "business",
          "x": 0.2153766686473469,
          "y": 1.7554547743811275
         },
         {
          "group": "business",
          "x": -0.071433946357036,
          "y": 2.0113154439885923
         },
         {
          "group": "business",
          "x": -0.9007582855419762,
          "y": -0.49050081491613384
         },
         {
          "group": "business",
          "x": -0.4717941181730335,
          "y": -1.657772709390045
         },
         {
          "group": "business",
          "x": 0.03601444279689169,
          "y": -1.144176110101982
         },
         {
          "group": "business",
          "x": -2.010489379439334,
          "y": -0.5108190461155312
         },
         {
          "group": "business",
          "x": -0.25489921450690967,
          "y": 0.5049813424099278
         },
         {
          "group": "business",
          "x": -1.221088043465957,
          "y": 1.5710145598028054
         },
         {
          "group": "business",
          "x": -0.7793676864659614,
          "y": 0.6145151243343119
         },
         {
          "group": "business",
          "x": -1.7155944133281622,
          "y": 0.05723244473300021
         },
         {
          "group": "business",
          "x": -0.1253546391823688,
          "y": -2.086051088220411
         },
         {
          "group": "business",
          "x": -1.3982743860190736,
          "y": -1.7939540221414165
         },
         {
          "group": "business",
          "x": -1.1415600103344352,
          "y": -0.9116106374005566
         },
         {
          "group": "business",
          "x": -0.6676496322927757,
          "y": 0.5908645757187393
         },
         {
          "group": "business",
          "x": -0.13200815110028832,
          "y": 2.012389649080466
         },
         {
          "group": "business",
          "x": -1.8843348047121704,
          "y": -0.7917443020319446
         },
         {
          "group": "business",
          "x": -1.0782027929140607,
          "y": 1.1931115972701218
         },
         {
          "group": "business",
          "x": -0.9531491892300006,
          "y": 1.2005251202832554
         },
         {
          "group": "business",
          "x": -0.02430836397188428,
          "y": -0.4799390114854673
         },
         {
          "group": "business",
          "x": -1.3184831255437959,
          "y": 0.362725650879727
         },
         {
          "group": "business",
          "x": -0.5832387607364243,
          "y": -1.4652916300726024
         },
         {
          "group": "business",
          "x": -1.5450219492069384,
          "y": -1.4054798770050665
         },
         {
          "group": "business",
          "x": -1.2074075531549964,
          "y": 0.32692091121761224
         },
         {
          "group": "business",
          "x": -1.4023649426744393,
          "y": 0.19445646514792517
         },
         {
          "group": "business",
          "x": -1.391468759028281,
          "y": 0.08746874927127563
         },
         {
          "group": "business",
          "x": -1.2499080514505376,
          "y": 1.7611064819004802
         },
         {
          "group": "business",
          "x": -1.4665305424257256,
          "y": -0.9510120728471885
         },
         {
          "group": "business",
          "x": -0.3876103330549447,
          "y": 1.6122770245517057
         },
         {
          "group": "business",
          "x": -0.8714430691470221,
          "y": 0.9764818425053917
         },
         {
          "group": "business",
          "x": -1.230642941587628,
          "y": 0.13784710509595985
         },
         {
          "group": "business",
          "x": 0.30210110904713056,
          "y": -1.4636169056995558
         },
         {
          "group": "business",
          "x": -0.22662950912944363,
          "y": 0.7022227568880774
         },
         {
          "group": "business",
          "x": -0.6694758340678176,
          "y": -0.3137187923127135
         },
         {
          "group": "business",
          "x": -0.5543771944896122,
          "y": -0.19537759659997003
         },
         {
          "group": "business",
          "x": 0.07813066155090213,
          "y": -0.13180285954666562
         },
         {
          "group": "business",
          "x": -0.9672570810806009,
          "y": -1.6213924580767247
         },
         {
          "group": "business",
          "x": -1.0623111164750787,
          "y": -1.6463300142780184
         },
         {
          "group": "business",
          "x": -1.5076354489303403,
          "y": 1.5786663441074054
         },
         {
          "group": "business",
          "x": -1.131973547221433,
          "y": -1.6453569789618683
         },
         {
          "group": "business",
          "x": -0.5594232244796173,
          "y": 0.7931556423589852
         },
         {
          "group": "business",
          "x": -0.3357068820600695,
          "y": -1.1689316381971784
         },
         {
          "group": "business",
          "x": 0.7706628370935812,
          "y": -0.9221935207901265
         },
         {
          "group": "business",
          "x": -0.13747562021459578,
          "y": 2.9063777476768027
         },
         {
          "group": "business",
          "x": -2.1240146386625516,
          "y": -1.2321205400215653
         },
         {
          "group": "business",
          "x": -0.6090178734147506,
          "y": -2.248623975151309
         },
         {
          "group": "business",
          "x": -2.331139099331364,
          "y": -2.415680388155675
         },
         {
          "group": "business",
          "x": 0.7785040882290302,
          "y": 1.6394446674873044
         },
         {
          "group": "business",
          "x": -0.941493772354811,
          "y": -0.7268401793104509
         },
         {
          "group": "business",
          "x": -0.32344941621839424,
          "y": 0.5708404441113124
         },
         {
          "group": "business",
          "x": -0.62333312053902,
          "y": 0.3651825607678179
         },
         {
          "group": "business",
          "x": -2.074657165305892,
          "y": -0.020600100866540245
         },
         {
          "group": "business",
          "x": -2.6853307303381655,
          "y": -2.0730396799191655
         },
         {
          "group": "business",
          "x": 0.1118296336435233,
          "y": 2.4334990112204546
         },
         {
          "group": "business",
          "x": -1.9713518990319907,
          "y": -1.7118718780913706
         },
         {
          "group": "business",
          "x": -1.2260187298976215,
          "y": -0.959463668848401
         },
         {
          "group": "business",
          "x": -0.08618611870334195,
          "y": 0.6906006829989213
         },
         {
          "group": "business",
          "x": -0.9660988208480269,
          "y": 1.5270173562443519
         },
         {
          "group": "business",
          "x": -2.49489049182635,
          "y": -1.923223990650389
         },
         {
          "group": "business",
          "x": -0.9802439446598322,
          "y": -1.1795673096582309
         },
         {
          "group": "business",
          "x": 0.5971280936787502,
          "y": 1.2364763288946943
         },
         {
          "group": "business",
          "x": -1.2650831869924715,
          "y": -1.1051501523300455
         },
         {
          "group": "business",
          "x": -2.2412859621266303,
          "y": -0.5775352384266156
         },
         {
          "group": "business",
          "x": -0.728570649516775,
          "y": -0.008535011556622181
         },
         {
          "group": "business",
          "x": -1.2082955128943873,
          "y": -0.40517852942888916
         },
         {
          "group": "business",
          "x": -1.270739185132567,
          "y": -0.0760270272673841
         },
         {
          "group": "business",
          "x": -1.04962389867529,
          "y": 0.33020015126616115
         },
         {
          "group": "business",
          "x": -2.135417525539924,
          "y": -2.7063862884928174
         },
         {
          "group": "business",
          "x": -1.7295430089582142,
          "y": -0.5191091816511605
         },
         {
          "group": "business",
          "x": -0.5484106463272351,
          "y": -0.6267069591565587
         },
         {
          "group": "business",
          "x": -0.5654139832413532,
          "y": -0.2966028258701519
         },
         {
          "group": "business",
          "x": -0.6741445387856925,
          "y": -0.22098606843493168
         },
         {
          "group": "business",
          "x": -1.239226296518266,
          "y": -1.6919093508188072
         },
         {
          "group": "business",
          "x": -1.2443172142041643,
          "y": 0.527994820530726
         },
         {
          "group": "business",
          "x": -2.0094097408630005,
          "y": -3.0406381792852413
         },
         {
          "group": "business",
          "x": -0.6045363882632877,
          "y": 0.8101545764575245
         },
         {
          "group": "business",
          "x": -0.3617388032424956,
          "y": -0.46247081071101975
         },
         {
          "group": "business",
          "x": -0.780487596692144,
          "y": 0.19962659589062443
         },
         {
          "group": "business",
          "x": -1.2943000902925574,
          "y": -1.1589218977896096
         },
         {
          "group": "business",
          "x": -0.561990731642392,
          "y": -2.16334046688336
         },
         {
          "group": "business",
          "x": 0.06663547858445781,
          "y": 0.12508518881212205
         },
         {
          "group": "business",
          "x": 0.02800258886854702,
          "y": 0.9628088613671215
         },
         {
          "group": "business",
          "x": -0.9172199124111654,
          "y": 0.7430303911060119
         },
         {
          "group": "business",
          "x": -0.7215156200784176,
          "y": 1.077022352807853
         },
         {
          "group": "business",
          "x": 0.01971694472123087,
          "y": 2.305560223965113
         },
         {
          "group": "business",
          "x": -0.3073187572426428,
          "y": -0.6138730598595837
         },
         {
          "group": "business",
          "x": -1.4569829284684284,
          "y": -0.5097563641118689
         },
         {
          "group": "business",
          "x": 0.34360118581401644,
          "y": 0.04842435047401171
         },
         {
          "group": "business",
          "x": -1.2463086408814992,
          "y": 1.2197855524277224
         },
         {
          "group": "business",
          "x": -0.790364963918532,
          "y": 0.8707432084153403
         },
         {
          "group": "business",
          "x": -1.992391781445581,
          "y": 0.23573990483991
         },
         {
          "group": "business",
          "x": -0.7984399976991201,
          "y": -0.8143222438898616
         },
         {
          "group": "business",
          "x": 0.20565875438159215,
          "y": 0.03957078648159594
         },
         {
          "group": "business",
          "x": -1.3115618070105777,
          "y": -0.42640301926868845
         },
         {
          "group": "business",
          "x": -0.23011789835302263,
          "y": -1.4323760357043094
         },
         {
          "group": "business",
          "x": -2.3138907511975635,
          "y": -0.5949222782018644
         },
         {
          "group": "business",
          "x": -0.43298858105824756,
          "y": 0.09575938416893916
         },
         {
          "group": "business",
          "x": -1.4152758666693925,
          "y": -1.094681827707535
         },
         {
          "group": "business",
          "x": -0.2914304507746039,
          "y": 0.44701471369625806
         },
         {
          "group": "business",
          "x": 0.29724696936246203,
          "y": -2.3271271542898275
         },
         {
          "group": "business",
          "x": 0.12554455838285616,
          "y": -0.2381867230369968
         },
         {
          "group": "business",
          "x": -0.6589356568245982,
          "y": 0.3217466380969333
         },
         {
          "group": "business",
          "x": -0.7209683287834329,
          "y": -2.0550817989670978
         },
         {
          "group": "business",
          "x": -1.500327004588731,
          "y": 1.0782098865124297
         },
         {
          "group": "business",
          "x": -0.8499659626672862,
          "y": 1.585588442420857
         },
         {
          "group": "business",
          "x": -0.6304181393939535,
          "y": 0.9665185075202124
         },
         {
          "group": "business",
          "x": 0.21663714863455746,
          "y": -0.42448937739112025
         },
         {
          "group": "business",
          "x": 0.04694910514542607,
          "y": -1.4625901488359987
         },
         {
          "group": "business",
          "x": -1.9738991341363048,
          "y": 1.254991687144341
         },
         {
          "group": "business",
          "x": -0.3741462089509258,
          "y": 0.4147484363139839
         },
         {
          "group": "business",
          "x": -0.4697160540409919,
          "y": -0.6863665474654651
         },
         {
          "group": "business",
          "x": 0.23203105758186182,
          "y": 1.9860550167901494
         },
         {
          "group": "business",
          "x": -0.9652335259698404,
          "y": -0.5197915392235132
         },
         {
          "group": "business",
          "x": -0.8289289291904441,
          "y": 2.06358114797118
         },
         {
          "group": "business",
          "x": -0.4877879739077481,
          "y": 1.0111340086021796
         },
         {
          "group": "business",
          "x": -0.40047132092281845,
          "y": 0.1415303167457524
         },
         {
          "group": "business",
          "x": -1.3978491211369843,
          "y": 0.53230683244035
         },
         {
          "group": "business",
          "x": -1.6625929362606935,
          "y": 0.40244053568556704
         },
         {
          "group": "business",
          "x": -0.9086825250097693,
          "y": 0.9045495995006901
         },
         {
          "group": "business",
          "x": -2.3202906859116497,
          "y": -1.4077873509678733
         },
         {
          "group": "business",
          "x": 0.22335806956664184,
          "y": 1.806704524570584
         },
         {
          "group": "business",
          "x": -0.7281033249834233,
          "y": -0.7450308017705806
         },
         {
          "group": "business",
          "x": -0.3710362917711621,
          "y": -1.2227413718480729
         },
         {
          "group": "business",
          "x": -0.19474623732229207,
          "y": -2.780992356385678
         },
         {
          "group": "business",
          "x": -0.754627977658481,
          "y": 0.0020032331630755566
         },
         {
          "group": "business",
          "x": -0.9263174643998427,
          "y": 0.43713519726547867
         },
         {
          "group": "business",
          "x": -1.2154257605093233,
          "y": 1.5887768507589022
         },
         {
          "group": "business",
          "x": 0.3615988908849991,
          "y": 2.4771270051440273
         },
         {
          "group": "business",
          "x": -0.9623483260778858,
          "y": -0.2882187984740684
         },
         {
          "group": "business",
          "x": -1.1354346188702735,
          "y": -1.0671840251304359
         },
         {
          "group": "business",
          "x": 0.3713734524364131,
          "y": 1.0265000538511864
         },
         {
          "group": "business",
          "x": -0.8174318186364419,
          "y": -1.1212143121671951
         },
         {
          "group": "business",
          "x": -0.37418958652001827,
          "y": 1.4688467598578345
         },
         {
          "group": "business",
          "x": -0.9929219462535583,
          "y": 1.0985195069308047
         },
         {
          "group": "business",
          "x": -1.8060322218234404,
          "y": -1.9588809976769512
         },
         {
          "group": "business",
          "x": -1.1167765060039394,
          "y": 0.7021863371168191
         },
         {
          "group": "business",
          "x": -1.3400416362635315,
          "y": -1.09266187370174
         },
         {
          "group": "business",
          "x": -1.1091234372700363,
          "y": 0.3435799023980318
         },
         {
          "group": "business",
          "x": -1.614803259338615,
          "y": 0.6905853382616053
         },
         {
          "group": "business",
          "x": -1.6513604832256676,
          "y": -0.20787289151357788
         },
         {
          "group": "business",
          "x": -1.9430794208808226,
          "y": -0.43680910983587445
         },
         {
          "group": "business",
          "x": -0.5535963664673165,
          "y": -0.08564235394208322
         },
         {
          "group": "business",
          "x": -1.2868584195132686,
          "y": 0.09910344109942072
         },
         {
          "group": "business",
          "x": -2.1514720497861193,
          "y": -0.2904070655711776
         },
         {
          "group": "business",
          "x": -0.6555079421399633,
          "y": 0.06392324262280545
         },
         {
          "group": "business",
          "x": -0.9265754056693655,
          "y": 0.1138793306639745
         },
         {
          "group": "business",
          "x": -2.1085191035813984,
          "y": 0.29093869113086884
         },
         {
          "group": "business",
          "x": -1.867015291180423,
          "y": -1.583305349062981
         },
         {
          "group": "business",
          "x": -0.9950045094533929,
          "y": -0.12716370721747525
         },
         {
          "group": "business",
          "x": -1.353780159487884,
          "y": -1.0363865527685645
         },
         {
          "group": "business",
          "x": -0.6705674436800707,
          "y": -0.3447983936042579
         },
         {
          "group": "business",
          "x": -2.0944471295752454,
          "y": -0.04030223024179459
         },
         {
          "group": "business",
          "x": -2.2432558162348233,
          "y": -0.08437547397499515
         },
         {
          "group": "business",
          "x": -1.271717446393228,
          "y": -0.7151640713477714
         },
         {
          "group": "business",
          "x": -2.0399294703335324,
          "y": 0.41357107712627134
         },
         {
          "group": "business",
          "x": -1.3627888200205795,
          "y": 1.2628529177376033
         },
         {
          "group": "business",
          "x": -0.29395701082783876,
          "y": 0.4792993926803082
         },
         {
          "group": "business",
          "x": -0.7434845090898026,
          "y": 1.0282505137413875
         },
         {
          "group": "business",
          "x": -1.2239443010146862,
          "y": 0.2423316517239364
         },
         {
          "group": "business",
          "x": -0.3355825775755212,
          "y": 1.0128325795129065
         },
         {
          "group": "business",
          "x": -0.48046534346070763,
          "y": 0.7129869014283143
         },
         {
          "group": "business",
          "x": -0.9264380572904548,
          "y": 0.4098168744906584
         },
         {
          "group": "business",
          "x": -1.104273307599348,
          "y": -1.0867245270074435
         },
         {
          "group": "business",
          "x": -0.10813920366716481,
          "y": -1.9257569029678367
         },
         {
          "group": "business",
          "x": -1.443178499176692,
          "y": 1.804250128395664
         },
         {
          "group": "business",
          "x": -1.777529746174973,
          "y": 0.8478584597356155
         },
         {
          "group": "business",
          "x": -1.5879473168221039,
          "y": -1.3992887681080026
         },
         {
          "group": "business",
          "x": -2.8968915309064895,
          "y": -0.01845900927859223
         },
         {
          "group": "business",
          "x": -1.7240824292333967,
          "y": -1.1856956031618513
         },
         {
          "group": "business",
          "x": -1.2675401838148643,
          "y": -0.3262682526089632
         },
         {
          "group": "business",
          "x": -2.1393693460266694,
          "y": 0.8480524206391412
         },
         {
          "group": "business",
          "x": -1.782420236226034,
          "y": 1.378822733421806
         },
         {
          "group": "business",
          "x": -2.042430899119082,
          "y": 0.853336704476523
         },
         {
          "group": "business",
          "x": -0.8659980112655218,
          "y": 1.1342534155743624
         },
         {
          "group": "business",
          "x": -1.4186990621501823,
          "y": -0.3436526965881795
         },
         {
          "group": "business",
          "x": -1.3304376963678912,
          "y": 0.1836364259075126
         },
         {
          "group": "business",
          "x": -2.2271138035279194,
          "y": -1.3329569884173467
         },
         {
          "group": "business",
          "x": -0.24788907050396927,
          "y": 1.3604141725906396
         },
         {
          "group": "business",
          "x": -1.1283776111520152,
          "y": -0.32648085251481473
         },
         {
          "group": "business",
          "x": -0.747231536078882,
          "y": -0.3765797695985348
         },
         {
          "group": "business",
          "x": 0.040577829943126344,
          "y": -1.0806401099878133
         },
         {
          "group": "business",
          "x": -1.3504717645534579,
          "y": 0.8318026196842886
         },
         {
          "group": "business",
          "x": -0.892562375628203,
          "y": 2.032753394754856
         },
         {
          "group": "business",
          "x": -0.6527518838188123,
          "y": 0.9258694274273677
         },
         {
          "group": "business",
          "x": -1.1868680469692163,
          "y": 0.6092339099185939
         },
         {
          "group": "business",
          "x": -0.4718502387847246,
          "y": 0.19632830548511002
         },
         {
          "group": "business",
          "x": -1.4509605110451005,
          "y": -1.5972959635583777
         },
         {
          "group": "business",
          "x": 0.024685524574663425,
          "y": -0.3867394410747526
         },
         {
          "group": "business",
          "x": -0.9617691574023015,
          "y": 1.7296481957651164
         },
         {
          "group": "business",
          "x": -0.7599090107276666,
          "y": 1.200218885650476
         },
         {
          "group": "business",
          "x": -0.8839346973586989,
          "y": -1.046332616289748
         },
         {
          "group": "business",
          "x": -1.3056438642999477,
          "y": -1.201202376116264
         },
         {
          "group": "business",
          "x": -0.373210007069328,
          "y": -0.6153481691379091
         },
         {
          "group": "business",
          "x": -0.6687317976818574,
          "y": 0.028937115871314933
         },
         {
          "group": "business",
          "x": -1.0212537806233002,
          "y": -0.7685455848195135
         },
         {
          "group": "business",
          "x": 0.08002344026616252,
          "y": -1.2930157896886518
         },
         {
          "group": "business",
          "x": -0.4546857455148515,
          "y": 0.10522949882854178
         },
         {
          "group": "business",
          "x": -0.8895788040042234,
          "y": 0.8841790270985516
         },
         {
          "group": "business",
          "x": -0.1717464037903881,
          "y": 0.7647465365922084
         },
         {
          "group": "business",
          "x": -1.486726867406013,
          "y": 0.14111774636968014
         },
         {
          "group": "business",
          "x": -1.013017758151846,
          "y": -1.14976239476926
         },
         {
          "group": "business",
          "x": -0.09440674975736915,
          "y": 0.20671226845468496
         },
         {
          "group": "business",
          "x": -0.7531804586669166,
          "y": -1.9404538588724636
         },
         {
          "group": "business",
          "x": -0.08261155747781906,
          "y": 2.1776610201390216
         },
         {
          "group": "business",
          "x": -0.07478542874313733,
          "y": 1.111145932032312
         },
         {
          "group": "business",
          "x": -0.1577644628205179,
          "y": -2.218152908136293
         },
         {
          "group": "business",
          "x": -0.03154128279349657,
          "y": -0.5448641948654558
         },
         {
          "group": "business",
          "x": -0.3357974724638015,
          "y": 0.3228233075137429
         },
         {
          "group": "business",
          "x": -0.701165022935302,
          "y": -1.3077198310024885
         },
         {
          "group": "business",
          "x": 0.47398630660182245,
          "y": 0.47374192844713814
         },
         {
          "group": "business",
          "x": -1.711346968793897,
          "y": 1.0272585961636493
         },
         {
          "group": "business",
          "x": -0.05678689730559221,
          "y": -0.06022656028109991
         },
         {
          "group": "business",
          "x": -1.2194799935251626,
          "y": 2.5620959843038853
         },
         {
          "group": "business",
          "x": -0.7633837311861655,
          "y": -0.23079599574511556
         },
         {
          "group": "business",
          "x": -0.9869458167698846,
          "y": 0.4499298606650381
         },
         {
          "group": "business",
          "x": -0.7101752756816031,
          "y": -1.778468871549126
         },
         {
          "group": "business",
          "x": -0.868453211966454,
          "y": 1.9397476156236906
         },
         {
          "group": "business",
          "x": -0.3015778714160112,
          "y": 1.3470712873526929
         },
         {
          "group": "business",
          "x": -0.07344428718964666,
          "y": 0.5301851905359329
         },
         {
          "group": "business",
          "x": -1.7536025646852675,
          "y": -0.5281080186541929
         },
         {
          "group": "business",
          "x": -1.5100096693378116,
          "y": 0.8325221422845679
         },
         {
          "group": "business",
          "x": 0.4233655609939231,
          "y": -1.2508362740536942
         },
         {
          "group": "business",
          "x": -0.162709444879348,
          "y": 0.1622534142392039
         },
         {
          "group": "business",
          "x": -1.0593007420097122,
          "y": -0.34268303211256124
         },
         {
          "group": "business",
          "x": -0.4751392607542137,
          "y": 3.59154629773307
         },
         {
          "group": "business",
          "x": -1.07672061541565,
          "y": 0.6418238749219058
         },
         {
          "group": "business",
          "x": -0.5828244086875962,
          "y": 0.8866865719532072
         },
         {
          "group": "business",
          "x": -0.11066513033153393,
          "y": -1.5083197628217015
         },
         {
          "group": "business",
          "x": -0.5195705596032237,
          "y": 0.9521914072877862
         },
         {
          "group": "business",
          "x": -1.1763754959018577,
          "y": -0.21869257799441427
         },
         {
          "group": "business",
          "x": -0.9552356654781379,
          "y": 1.1333765912123634
         },
         {
          "group": "business",
          "x": -1.300852501992663,
          "y": 0.8796503772860654
         },
         {
          "group": "business",
          "x": 0.36370142795886734,
          "y": 2.4888484676840044
         },
         {
          "group": "business",
          "x": -0.1732814975503775,
          "y": 1.1092160396958637
         },
         {
          "group": "business",
          "x": -1.3345901108403846,
          "y": -1.144932893198949
         },
         {
          "group": "business",
          "x": -0.7166439755561017,
          "y": 0.0273923771127166
         },
         {
          "group": "business",
          "x": -1.6018754166497526,
          "y": -0.44061270250293166
         },
         {
          "group": "business",
          "x": -1.2820046148218598,
          "y": -0.8850082935773064
         },
         {
          "group": "business",
          "x": -0.3355972142012979,
          "y": 0.8843872062090088
         },
         {
          "group": "business",
          "x": -2.055798999520586,
          "y": -1.6027040303120963
         },
         {
          "group": "business",
          "x": -0.5901583331470013,
          "y": -1.317753950063366
         },
         {
          "group": "business",
          "x": -1.652663212079925,
          "y": 0.800473194757607
         },
         {
          "group": "business",
          "x": 0.13146028282391653,
          "y": 0.49593692812852674
         },
         {
          "group": "business",
          "x": -1.0435134708533782,
          "y": -1.3186266254632009
         },
         {
          "group": "business",
          "x": -1.6618276862795769,
          "y": -0.935637315411397
         },
         {
          "group": "business",
          "x": -2.032850474609842,
          "y": 0.3782522594321489
         },
         {
          "group": "business",
          "x": -2.0290821461061683,
          "y": -1.96382560502462
         },
         {
          "group": "business",
          "x": -0.6912064897877117,
          "y": 1.226018620089694
         },
         {
          "group": "business",
          "x": -1.8809050799393572,
          "y": 1.8564483543790442
         },
         {
          "group": "business",
          "x": -0.9327581436057287,
          "y": -2.0988110120522427
         },
         {
          "group": "business",
          "x": -1.3589145290263942,
          "y": -0.44056368178548905
         },
         {
          "group": "business",
          "x": -0.5961636196386468,
          "y": -0.5128543295484337
         },
         {
          "group": "business",
          "x": -1.6310207460931356,
          "y": -0.11794053429590483
         },
         {
          "group": "business",
          "x": -1.6850814957941924,
          "y": -1.1513550364544725
         },
         {
          "group": "business",
          "x": -0.5387501913355175,
          "y": -0.07016041365351405
         },
         {
          "group": "business",
          "x": 0.16901292867263215,
          "y": 1.4857083575884922
         },
         {
          "group": "business",
          "x": 0.23699185649797502,
          "y": 2.4142374504528537
         },
         {
          "group": "business",
          "x": -0.4845528234980932,
          "y": -1.0505082035453037
         },
         {
          "group": "business",
          "x": -2.708705605127938,
          "y": 0.9012537877358998
         },
         {
          "group": "business",
          "x": -2.2712063340381596,
          "y": 0.3196289496412785
         },
         {
          "group": "business",
          "x": -0.3707157775787922,
          "y": -1.887510637694538
         },
         {
          "group": "business",
          "x": -0.26906458437734293,
          "y": -0.8879877115183931
         },
         {
          "group": "business",
          "x": -1.6885167618959354,
          "y": -0.679155714357756
         },
         {
          "group": "business",
          "x": -3.2381867549342664,
          "y": 1.9527084329046118
         },
         {
          "group": "business",
          "x": -1.2282351394756104,
          "y": -0.41816925822442547
         },
         {
          "group": "business",
          "x": -1.2958024578439085,
          "y": -0.6458038305023157
         },
         {
          "group": "business",
          "x": -0.8068450472226669,
          "y": 0.3810836191681637
         },
         {
          "group": "business",
          "x": 0.4728245568911097,
          "y": 0.532646058471271
         },
         {
          "group": "business",
          "x": -1.2113180506770331,
          "y": -1.3743995219311738
         },
         {
          "group": "business",
          "x": -1.2012805576045456,
          "y": -0.12054012450407611
         },
         {
          "group": "business",
          "x": -0.9031153376635976,
          "y": 0.4509137264245598
         },
         {
          "group": "business",
          "x": -1.6957974657861155,
          "y": 0.10997842697977588
         },
         {
          "group": "business",
          "x": -0.9543783258920285,
          "y": 0.07173908047298645
         },
         {
          "group": "business",
          "x": -0.4260883597262396,
          "y": -0.29573525321879146
         },
         {
          "group": "business",
          "x": -1.1058699043873956,
          "y": -0.9686217621453602
         },
         {
          "group": "business",
          "x": 0.4691077280571444,
          "y": -0.4684914091137429
         },
         {
          "group": "business",
          "x": -1.0126930569226475,
          "y": -0.19694496604630762
         },
         {
          "group": "business",
          "x": 0.26767098942315354,
          "y": 2.0058297353348133
         },
         {
          "group": "business",
          "x": -1.0372894437702376,
          "y": -1.1585726944772092
         },
         {
          "group": "business",
          "x": -2.6376912819737535,
          "y": -0.023915649402652756
         },
         {
          "group": "business",
          "x": -1.4046279877236694,
          "y": 2.4816171125420396
         },
         {
          "group": "business",
          "x": -2.3835288199782845,
          "y": 0.11916359308444621
         },
         {
          "group": "business",
          "x": -1.6131323175846541,
          "y": 1.355114015487964
         },
         {
          "group": "business",
          "x": -0.9537528431859771,
          "y": 1.135753613072413
         },
         {
          "group": "business",
          "x": -1.8046075167702524,
          "y": 1.6899285066044711
         },
         {
          "group": "business",
          "x": -1.5175460582469842,
          "y": 1.4172706851554115
         },
         {
          "group": "business",
          "x": 0.1419566126646661,
          "y": 1.8108886273449427
         },
         {
          "group": "business",
          "x": -0.9731604938876237,
          "y": -0.7392791768950498
         },
         {
          "group": "business",
          "x": -0.43781905011677863,
          "y": -1.2054006733234162
         },
         {
          "group": "business",
          "x": -0.13792816576966763,
          "y": -0.9889108589739941
         },
         {
          "group": "business",
          "x": -2.8036484447973296,
          "y": -0.8338359403712384
         },
         {
          "group": "business",
          "x": -1.3899028258528434,
          "y": -2.4792008339605087
         },
         {
          "group": "business",
          "x": -0.9804685380693539,
          "y": 0.5228512523337683
         },
         {
          "group": "business",
          "x": -0.9664533832205413,
          "y": 0.1120926760788114
         },
         {
          "group": "business",
          "x": -2.4122593376967996,
          "y": 2.0345648876398035
         },
         {
          "group": "business",
          "x": -0.20994886393464646,
          "y": -1.7141944005580956
         },
         {
          "group": "business",
          "x": -3.6865645611344062,
          "y": 0.7458676120842301
         },
         {
          "group": "business",
          "x": -0.6255128644735375,
          "y": 0.048518482029336875
         },
         {
          "group": "business",
          "x": -1.9190373546967894,
          "y": 0.7675109925134996
         },
         {
          "group": "business",
          "x": -0.995863081394028,
          "y": 1.511868019981759
         },
         {
          "group": "business",
          "x": -0.7412754168761398,
          "y": 2.1604594564181823
         },
         {
          "group": "business",
          "x": -2.333094243797106,
          "y": -0.7413815585523836
         },
         {
          "group": "business",
          "x": -1.390512272264454,
          "y": 1.1787551597421193
         },
         {
          "group": "business",
          "x": -1.5977588119956039,
          "y": 0.1435948422160086
         },
         {
          "group": "business",
          "x": -1.462928789607618,
          "y": -0.4180517208135493
         },
         {
          "group": "business",
          "x": -2.2025710614021,
          "y": 2.7272198720925687
         },
         {
          "group": "business",
          "x": -2.895344159144581,
          "y": 1.1843577270611372
         },
         {
          "group": "business",
          "x": -1.0059515152111105,
          "y": 0.551175009360992
         },
         {
          "group": "business",
          "x": -1.564147413735708,
          "y": -0.3737734135184067
         },
         {
          "group": "business",
          "x": -1.692981715419717,
          "y": 0.2983641202378852
         },
         {
          "group": "business",
          "x": -2.822242951255718,
          "y": 0.5486754723774353
         },
         {
          "group": "business",
          "x": -0.46926697410746276,
          "y": 1.7022893394624403
         },
         {
          "group": "business",
          "x": 0.11324213124188472,
          "y": 2.7644471296574182
         },
         {
          "group": "business",
          "x": -2.969450145739484,
          "y": 0.00943722367865938
         },
         {
          "group": "business",
          "x": -0.5799507484901952,
          "y": -0.44812728888423664
         },
         {
          "group": "business",
          "x": -0.7682654246645947,
          "y": 2.0484558796248513
         },
         {
          "group": "business",
          "x": -0.001646775235205294,
          "y": -1.4594138350278791
         },
         {
          "group": "business",
          "x": -1.251203305328855,
          "y": -2.3564700033735804
         },
         {
          "group": "business",
          "x": -2.124636670947732,
          "y": -2.006663890689472
         },
         {
          "group": "business",
          "x": 0.1289472315292265,
          "y": -0.637010983392017
         },
         {
          "group": "business",
          "x": -2.020272408928902,
          "y": -2.3309794695539194
         },
         {
          "group": "business",
          "x": -0.7565094856567481,
          "y": 2.195639582121391
         },
         {
          "group": "business",
          "x": -1.9884732155104294,
          "y": 1.1200252072118593
         },
         {
          "group": "business",
          "x": -0.6690272528947183,
          "y": -0.25824932763329944
         },
         {
          "group": "business",
          "x": -3.154580050294318,
          "y": -0.5038446539837158
         },
         {
          "group": "business",
          "x": 0.6169511220552839,
          "y": 1.9583233510363114
         },
         {
          "group": "business",
          "x": -1.2987867375375364,
          "y": 1.4101224267579147
         },
         {
          "group": "business",
          "x": 0.7003212916215698,
          "y": 1.1591963066005488
         },
         {
          "group": "business",
          "x": -2.4586307255306488,
          "y": 1.5115539027224523
         },
         {
          "group": "business",
          "x": -0.7482413128627314,
          "y": -1.2478302945789408
         },
         {
          "group": "business",
          "x": -0.5916775120158855,
          "y": 0.5045394721424263
         },
         {
          "group": "business",
          "x": -1.0354873325140834,
          "y": -0.8661265927084507
         },
         {
          "group": "business",
          "x": -0.097122245572703,
          "y": 2.341491984100237
         },
         {
          "group": "business",
          "x": -2.3863476395186654,
          "y": 0.3595310911002443
         },
         {
          "group": "business",
          "x": -1.6903777732731973,
          "y": 2.869670782670417
         },
         {
          "group": "business",
          "x": -1.8926579068084932,
          "y": -0.8429921588143773
         },
         {
          "group": "business",
          "x": -3.010450795350781,
          "y": -0.3759176233730745
         },
         {
          "group": "business",
          "x": -2.588924319132929,
          "y": -0.28630893695617793
         },
         {
          "group": "business",
          "x": -0.6227348437517318,
          "y": 3.672297793960729
         },
         {
          "group": "business",
          "x": -1.7352370689619148,
          "y": 3.215777688995911
         },
         {
          "group": "business",
          "x": -1.106239680396748,
          "y": -0.12718631473676853
         },
         {
          "group": "business",
          "x": -1.8279251014695372,
          "y": 2.2963344957556675
         },
         {
          "group": "business",
          "x": -2.4020941418243185,
          "y": -0.6321197974096522
         },
         {
          "group": "business",
          "x": 0.16926321720733217,
          "y": 2.184974869777422
         },
         {
          "group": "business",
          "x": -3.566441427917313,
          "y": -0.3145404403556779
         },
         {
          "group": "business",
          "x": -1.2257970250488681,
          "y": 1.6638439834466434
         },
         {
          "group": "business",
          "x": -1.9234328059323558,
          "y": 0.5913047996134821
         },
         {
          "group": "business",
          "x": 0.05928042601955967,
          "y": 1.8885865315220525
         },
         {
          "group": "business",
          "x": -2.33597289908787,
          "y": 0.3706045441287214
         },
         {
          "group": "business",
          "x": -2.1565481970482354,
          "y": -3.2776867580929485
         },
         {
          "group": "business",
          "x": -1.8721647345956152,
          "y": 1.9065885358953143
         },
         {
          "group": "business",
          "x": -2.722251719238716,
          "y": -0.17939927185191792
         },
         {
          "group": "business",
          "x": 1.4492892040852485,
          "y": 2.5865419528661784
         },
         {
          "group": "business",
          "x": -2.0256089661018817,
          "y": -0.5552727102171466
         },
         {
          "group": "politics",
          "x": 0.34043434255986965,
          "y": 0.23385721868798232
         },
         {
          "group": "politics",
          "x": -0.9155737010891183,
          "y": -0.6078409208872455
         },
         {
          "group": "politics",
          "x": -0.965755089388875,
          "y": 0.0005171970501200196
         },
         {
          "group": "politics",
          "x": -0.21850671632403612,
          "y": 0.3225688516108399
         },
         {
          "group": "politics",
          "x": -0.4633518095837056,
          "y": 0.14311268622964102
         },
         {
          "group": "politics",
          "x": 2.3533440580153577,
          "y": 0.4829139496159997
         },
         {
          "group": "politics",
          "x": -0.11689705783969935,
          "y": 1.3203183976636506
         },
         {
          "group": "politics",
          "x": 0.8589535417034269,
          "y": -0.09658139142722912
         },
         {
          "group": "politics",
          "x": 2.10460346097896,
          "y": 1.1126115486298866
         },
         {
          "group": "politics",
          "x": 0.5544962919032423,
          "y": -1.8953438948459533
         },
         {
          "group": "politics",
          "x": -1.6199447627573553,
          "y": 0.6573161156050178
         },
         {
          "group": "politics",
          "x": 0.6672713195155417,
          "y": 0.7971912099401075
         },
         {
          "group": "politics",
          "x": 0.04976216290775733,
          "y": -0.658728355264101
         },
         {
          "group": "politics",
          "x": -0.5374578836799612,
          "y": 0.05437913668334361
         },
         {
          "group": "politics",
          "x": -0.9144206664645051,
          "y": 0.27522314998820036
         },
         {
          "group": "politics",
          "x": 1.042149664315821,
          "y": 0.3467512654012036
         },
         {
          "group": "politics",
          "x": 1.4264936201107452,
          "y": -2.0619546701975344
         },
         {
          "group": "politics",
          "x": -0.06947712657697051,
          "y": -1.400052012843551
         },
         {
          "group": "politics",
          "x": -0.8717235698745472,
          "y": -0.21770141688779748
         },
         {
          "group": "politics",
          "x": 0.3274454759069639,
          "y": -1.2497228078080855
         },
         {
          "group": "politics",
          "x": -1.1905129169481083,
          "y": -0.21717792227651112
         },
         {
          "group": "politics",
          "x": 0.6022899111472254,
          "y": 2.2399293242434397
         },
         {
          "group": "politics",
          "x": -0.37657366893183375,
          "y": -0.6536907915057165
         },
         {
          "group": "politics",
          "x": 0.7734432889984365,
          "y": -0.8502453982519221
         },
         {
          "group": "politics",
          "x": 1.112947055388818,
          "y": 0.9900524256308324
         },
         {
          "group": "politics",
          "x": 0.3175452380276262,
          "y": -0.7805680724476379
         },
         {
          "group": "politics",
          "x": 2.1117069961368298,
          "y": 0.48874925207104697
         },
         {
          "group": "politics",
          "x": 0.1266991845076525,
          "y": 1.0107209767065266
         },
         {
          "group": "politics",
          "x": 0.825608329311225,
          "y": 0.12379859849051862
         },
         {
          "group": "politics",
          "x": 0.49172172723757995,
          "y": -0.05141569452503471
         },
         {
          "group": "politics",
          "x": 1.0224551216219533,
          "y": 0.47663807746202036
         },
         {
          "group": "politics",
          "x": 0.5924440221351658,
          "y": 1.5249238556515974
         },
         {
          "group": "politics",
          "x": -0.5017748655744245,
          "y": -2.017169666569536
         },
         {
          "group": "politics",
          "x": -0.24083312519094807,
          "y": -1.3234557603097048
         },
         {
          "group": "politics",
          "x": 0.7483116503939109,
          "y": 1.3258179652262245
         },
         {
          "group": "politics",
          "x": 2.2926413018624663,
          "y": -1.3468891846406708
         },
         {
          "group": "politics",
          "x": 2.11783469550662,
          "y": -2.08270978905226
         },
         {
          "group": "politics",
          "x": -0.5542181075213598,
          "y": 0.6874298400449822
         },
         {
          "group": "politics",
          "x": 1.242123461049494,
          "y": -1.9208258308302253
         },
         {
          "group": "politics",
          "x": 0.12479719865815998,
          "y": 1.6642916994169548
         },
         {
          "group": "politics",
          "x": -0.12133067764540902,
          "y": -2.4674806702552585
         },
         {
          "group": "politics",
          "x": 0.13851689625639513,
          "y": -0.7520768788156709
         },
         {
          "group": "politics",
          "x": 0.580733011127717,
          "y": -1.3457764565209125
         },
         {
          "group": "politics",
          "x": 1.2934633473632904,
          "y": -0.7798325619865074
         },
         {
          "group": "politics",
          "x": 1.6443746004208044,
          "y": -2.5739951249220514
         },
         {
          "group": "politics",
          "x": -0.8526963284366029,
          "y": 0.4362974030294221
         },
         {
          "group": "politics",
          "x": -1.4764867225365306,
          "y": -0.3548250339900879
         },
         {
          "group": "politics",
          "x": 2.149281597587846,
          "y": 2.1116393426832003
         },
         {
          "group": "politics",
          "x": 0.24638224947222662,
          "y": -1.7817088491176207
         },
         {
          "group": "politics",
          "x": 1.5618694611481698,
          "y": 0.7428147029316461
         },
         {
          "group": "politics",
          "x": -0.6729643392229232,
          "y": 0.4815051809979311
         },
         {
          "group": "politics",
          "x": -0.20253307148598493,
          "y": -1.132640951975669
         },
         {
          "group": "politics",
          "x": -0.8783158507870513,
          "y": -0.11205171335767189
         },
         {
          "group": "politics",
          "x": -0.51454022597995,
          "y": 0.24399669311798508
         },
         {
          "group": "politics",
          "x": 0.6132701564830836,
          "y": 1.4266996610258655
         },
         {
          "group": "politics",
          "x": -0.14638504862932078,
          "y": 1.4340365909621124
         },
         {
          "group": "politics",
          "x": 1.7298741066668004,
          "y": 0.21596678803586983
         },
         {
          "group": "politics",
          "x": -0.7894947081508191,
          "y": 0.5451608650506246
         },
         {
          "group": "politics",
          "x": 0.8895548618317174,
          "y": -2.945851608470212
         },
         {
          "group": "politics",
          "x": 2.163121052588681,
          "y": -2.2793085013529324
         },
         {
          "group": "politics",
          "x": -0.7961120453837867,
          "y": 0.5471285875718839
         },
         {
          "group": "politics",
          "x": -1.7026358790197664,
          "y": 0.06657146886520522
         },
         {
          "group": "politics",
          "x": 0.5710936148883633,
          "y": 0.4800661540709443
         },
         {
          "group": "politics",
          "x": -1.8337536315884315,
          "y": 0.38578984942592437
         },
         {
          "group": "politics",
          "x": 1.7255942968274485,
          "y": -2.553764101917399
         },
         {
          "group": "politics",
          "x": 0.9068341712452879,
          "y": 0.020219489153922295
         },
         {
          "group": "politics",
          "x": -0.10336462179427058,
          "y": 0.24519117142173807
         },
         {
          "group": "politics",
          "x": -0.6838185658176992,
          "y": -1.6727995317405735
         },
         {
          "group": "politics",
          "x": 0.5585455176148275,
          "y": 0.029030817165069073
         },
         {
          "group": "politics",
          "x": 0.22361800545669333,
          "y": -1.0695443130538274
         },
         {
          "group": "politics",
          "x": 0.7031709423045069,
          "y": 0.13031003258355442
         },
         {
          "group": "politics",
          "x": 0.816385658520076,
          "y": 0.9265432549181415
         },
         {
          "group": "politics",
          "x": -0.1782258439935427,
          "y": -1.0945550036320075
         },
         {
          "group": "politics",
          "x": 0.6854674007267508,
          "y": -0.43404881583811183
         },
         {
          "group": "politics",
          "x": 1.8165391754004363,
          "y": -1.5768427108908327
         },
         {
          "group": "politics",
          "x": -0.32706428668925097,
          "y": 0.45154895636504744
         },
         {
          "group": "politics",
          "x": 0.7354559259933314,
          "y": 0.7077278581535674
         },
         {
          "group": "politics",
          "x": -0.3969953370562238,
          "y": 0.46175357061953676
         },
         {
          "group": "politics",
          "x": 0.6946079068387134,
          "y": -1.415821498900196
         },
         {
          "group": "politics",
          "x": -0.2836316102333001,
          "y": 0.491153641984266
         },
         {
          "group": "politics",
          "x": 0.7400994249125157,
          "y": -0.739482997013118
         },
         {
          "group": "politics",
          "x": -0.9354122178546884,
          "y": 2.7517863723227474
         },
         {
          "group": "politics",
          "x": 0.3474427240237545,
          "y": -0.6269682781124353
         },
         {
          "group": "politics",
          "x": -1.0064205433985496,
          "y": 0.28143717137280594
         },
         {
          "group": "politics",
          "x": 0.3810158711687861,
          "y": 1.29594912845213
         },
         {
          "group": "politics",
          "x": 0.1729411922611264,
          "y": 0.08066872538270325
         },
         {
          "group": "politics",
          "x": 1.095968659047948,
          "y": -0.9850230752218311
         },
         {
          "group": "politics",
          "x": 2.082771556290795,
          "y": -1.1531399256559667
         },
         {
          "group": "politics",
          "x": 0.3276436197819702,
          "y": -1.598290784365505
         },
         {
          "group": "politics",
          "x": 0.6698887528375802,
          "y": 0.9551129729777089
         },
         {
          "group": "politics",
          "x": -1.2226544936979784,
          "y": 1.4004290290506651
         },
         {
          "group": "politics",
          "x": -0.6340308486298345,
          "y": -0.24129903374941353
         },
         {
          "group": "politics",
          "x": 3.3000592486071794,
          "y": 2.8479468533128673
         },
         {
          "group": "politics",
          "x": 0.5029316282758397,
          "y": 0.7041655962669917
         },
         {
          "group": "politics",
          "x": 1.0256977042697337,
          "y": -0.7476377086613285
         },
         {
          "group": "politics",
          "x": 0.15131209845602292,
          "y": 0.6326058226794348
         },
         {
          "group": "politics",
          "x": 0.9153362118053071,
          "y": 0.6271486036210144
         },
         {
          "group": "politics",
          "x": -2.391702536028954,
          "y": 0.40058185055884815
         },
         {
          "group": "politics",
          "x": 2.546784237901064,
          "y": -0.03080479971985275
         },
         {
          "group": "politics",
          "x": -0.1816745702230606,
          "y": -0.32633641335038044
         },
         {
          "group": "politics",
          "x": 1.2330633742778287,
          "y": -0.4716746935331644
         },
         {
          "group": "politics",
          "x": 0.2907298450459611,
          "y": -0.5778997138259722
         },
         {
          "group": "politics",
          "x": -1.6512712578504798,
          "y": -0.19382623290565357
         },
         {
          "group": "politics",
          "x": 1.4395953675222075,
          "y": -0.5638732716054895
         },
         {
          "group": "politics",
          "x": -0.9323762285112286,
          "y": -0.11166725287362292
         },
         {
          "group": "politics",
          "x": 1.0758391219480936,
          "y": 1.4555649075201837
         },
         {
          "group": "politics",
          "x": -0.08968681470816448,
          "y": 1.6391182563477247
         },
         {
          "group": "politics",
          "x": 1.414361387514252,
          "y": -0.6224907449387274
         },
         {
          "group": "politics",
          "x": -0.5187473481629346,
          "y": 0.10447124591090658
         },
         {
          "group": "politics",
          "x": 0.8897850886496675,
          "y": 0.8736061008763133
         },
         {
          "group": "politics",
          "x": -0.3191489318073791,
          "y": -0.3461981110756131
         },
         {
          "group": "politics",
          "x": -0.5281421765591164,
          "y": 0.8311481336069041
         },
         {
          "group": "politics",
          "x": -1.3278463812202728,
          "y": -0.6631940806402864
         },
         {
          "group": "politics",
          "x": -0.14629086899107074,
          "y": 1.321556028633001
         },
         {
          "group": "politics",
          "x": -0.1352940592047661,
          "y": 0.5240818380322677
         },
         {
          "group": "politics",
          "x": 0.17394654280222607,
          "y": 1.4067898173759865
         },
         {
          "group": "politics",
          "x": 0.7879388660877966,
          "y": 0.9203434561545079
         },
         {
          "group": "politics",
          "x": 0.4619458199354934,
          "y": 0.5021322283815421
         },
         {
          "group": "politics",
          "x": 1.6102849583390273,
          "y": -0.8144536167416937
         },
         {
          "group": "politics",
          "x": 1.6469716876311176,
          "y": -0.1719003513892436
         },
         {
          "group": "politics",
          "x": 0.9644465926520096,
          "y": -1.2887377622992993
         },
         {
          "group": "politics",
          "x": 0.43379802367508247,
          "y": 1.116113021808985
         },
         {
          "group": "politics",
          "x": 0.26654509827071676,
          "y": 1.1892711619074572
         },
         {
          "group": "politics",
          "x": 0.17011344314183197,
          "y": 1.7436048519251368
         },
         {
          "group": "politics",
          "x": 0.9992037350810841,
          "y": -1.299608928920031
         },
         {
          "group": "politics",
          "x": -0.22503683540627403,
          "y": -0.22496366303604087
         },
         {
          "group": "politics",
          "x": -2.430907117714944,
          "y": -0.43795279353903804
         },
         {
          "group": "politics",
          "x": 2.252474161013244,
          "y": 0.26913982914367424
         },
         {
          "group": "politics",
          "x": -0.4913409723824666,
          "y": 1.6375501807967237
         },
         {
          "group": "politics",
          "x": 0.6509262073014214,
          "y": 0.9396431072390459
         },
         {
          "group": "politics",
          "x": 0.8521423329834138,
          "y": 0.5689651011689077
         },
         {
          "group": "politics",
          "x": -1.7331464085813535,
          "y": 0.8214478798926423
         },
         {
          "group": "politics",
          "x": -0.9165771929397099,
          "y": 0.7180695732552455
         },
         {
          "group": "politics",
          "x": 0.28183329346414543,
          "y": -0.3318966254615283
         },
         {
          "group": "politics",
          "x": 0.37688667297464734,
          "y": 0.6389952644629834
         },
         {
          "group": "politics",
          "x": -1.548365338713603,
          "y": 0.15944199929757708
         },
         {
          "group": "politics",
          "x": 0.25244395860112895,
          "y": 1.0194620315476166
         },
         {
          "group": "politics",
          "x": 0.9178894435558206,
          "y": 0.19144994547195418
         },
         {
          "group": "politics",
          "x": 0.4197780415473285,
          "y": 0.37277434244389007
         },
         {
          "group": "politics",
          "x": 0.13299703254680337,
          "y": -0.5830945789782963
         },
         {
          "group": "politics",
          "x": 1.6422054407124491,
          "y": -0.9654990728912447
         },
         {
          "group": "politics",
          "x": 1.6482661100503808,
          "y": 2.1365639512572123
         },
         {
          "group": "politics",
          "x": -1.6681193311094142,
          "y": -0.41132674956571535
         },
         {
          "group": "politics",
          "x": 0.03122719932684532,
          "y": -2.017967416664627
         },
         {
          "group": "politics",
          "x": 0.19804637405791592,
          "y": 0.6563745542251112
         },
         {
          "group": "politics",
          "x": -2.1621700207638397,
          "y": -1.5360510648722119
         },
         {
          "group": "politics",
          "x": -0.7114364185846352,
          "y": 0.5813135227616277
         },
         {
          "group": "politics",
          "x": 0.13455231095196962,
          "y": 1.273115738782025
         },
         {
          "group": "politics",
          "x": 0.48200613506120715,
          "y": -1.1550629113909547
         },
         {
          "group": "politics",
          "x": -0.2088408751203922,
          "y": 0.33313786416253954
         },
         {
          "group": "politics",
          "x": 0.9737261038129726,
          "y": 1.609432673640996
         },
         {
          "group": "politics",
          "x": -0.16209263639721122,
          "y": 0.39310318706384073
         },
         {
          "group": "politics",
          "x": -0.3207652146484647,
          "y": -0.09946571832337572
         },
         {
          "group": "politics",
          "x": -0.4679023138667263,
          "y": 0.05990877528859974
         },
         {
          "group": "politics",
          "x": 0.6147374681353522,
          "y": 0.501097352249162
         },
         {
          "group": "politics",
          "x": 0.49000470912243704,
          "y": -0.9022327633963123
         },
         {
          "group": "politics",
          "x": 2.2528397474406607,
          "y": 0.3946307876945598
         },
         {
          "group": "politics",
          "x": -0.18339662192118292,
          "y": -0.6948775856873618
         },
         {
          "group": "politics",
          "x": 0.025257631381620956,
          "y": 0.4350738477235562
         },
         {
          "group": "politics",
          "x": 2.7048949804252818,
          "y": 0.26212463593817903
         },
         {
          "group": "politics",
          "x": -0.5409618903016746,
          "y": 0.23181171890674943
         },
         {
          "group": "politics",
          "x": -0.3611205488145442,
          "y": -0.3033429600780357
         },
         {
          "group": "politics",
          "x": 0.8623282220521793,
          "y": -0.2944285685591714
         },
         {
          "group": "politics",
          "x": 0.14736266226681455,
          "y": -2.989174131194621
         },
         {
          "group": "politics",
          "x": 0.7682361215618893,
          "y": 1.100282487427071
         },
         {
          "group": "politics",
          "x": 1.096635989900502,
          "y": -0.6399084559216184
         },
         {
          "group": "politics",
          "x": -0.4479019038301597,
          "y": 1.4744174506716357
         },
         {
          "group": "politics",
          "x": 1.9592062538624924,
          "y": -1.9008717900670749
         },
         {
          "group": "politics",
          "x": 1.3018796455606398,
          "y": -0.07696786914095602
         },
         {
          "group": "politics",
          "x": 0.28621514687944777,
          "y": -0.7803777112687974
         },
         {
          "group": "politics",
          "x": 0.5909699042467649,
          "y": 0.35952347986852173
         },
         {
          "group": "politics",
          "x": 2.3471519117335142,
          "y": 0.8479334158784334
         },
         {
          "group": "politics",
          "x": -0.6356930386196546,
          "y": -0.42493257105403337
         },
         {
          "group": "politics",
          "x": 0.03394075894990029,
          "y": 0.4097118601160197
         },
         {
          "group": "politics",
          "x": 0.9654990187073198,
          "y": -0.4673003602677681
         },
         {
          "group": "politics",
          "x": -0.9463860537904879,
          "y": -1.012910151912663
         },
         {
          "group": "politics",
          "x": -1.013838776629552,
          "y": -0.3580897868126854
         },
         {
          "group": "politics",
          "x": 1.0591008597214802,
          "y": 1.3513938254234195
         },
         {
          "group": "politics",
          "x": 0.09733157760137946,
          "y": 0.16440607320425793
         },
         {
          "group": "politics",
          "x": 0.777098638771017,
          "y": 2.955230497057578
         },
         {
          "group": "politics",
          "x": 1.6455438320550335,
          "y": -0.9770820936616706
         },
         {
          "group": "politics",
          "x": 1.1198428244478411,
          "y": 0.8011873538607428
         },
         {
          "group": "politics",
          "x": -0.034884710672325216,
          "y": -0.8436188464819424
         },
         {
          "group": "politics",
          "x": 1.172957484287374,
          "y": -1.373276005893963
         },
         {
          "group": "politics",
          "x": 1.0584725972338727,
          "y": 0.3111342925949332
         },
         {
          "group": "politics",
          "x": 0.5498554795709422,
          "y": 0.26477273308936855
         },
         {
          "group": "politics",
          "x": 0.05209746288527789,
          "y": 0.07928071723443725
         },
         {
          "group": "politics",
          "x": 0.7493422732947279,
          "y": 1.4732529147471665
         },
         {
          "group": "politics",
          "x": 0.09654032783267545,
          "y": 0.054639725372573986
         },
         {
          "group": "politics",
          "x": 0.42375172903661446,
          "y": -0.05387628493540605
         },
         {
          "group": "politics",
          "x": 1.5001733120703657,
          "y": 1.086382528311231
         },
         {
          "group": "politics",
          "x": 0.6057067120153657,
          "y": -0.6553536812052935
         },
         {
          "group": "politics",
          "x": -0.8410525134260926,
          "y": -2.764046215098907
         },
         {
          "group": "politics",
          "x": -0.48283746250760146,
          "y": -0.2818303295402944
         },
         {
          "group": "politics",
          "x": 0.8771682380931687,
          "y": 1.5350894170919451
         },
         {
          "group": "politics",
          "x": 1.0262536946595602,
          "y": 0.23882975893220615
         },
         {
          "group": "politics",
          "x": 2.228856802448,
          "y": 1.011954256338329
         },
         {
          "group": "politics",
          "x": 1.2611276759336743,
          "y": 1.3406715653352872
         },
         {
          "group": "politics",
          "x": 2.7052384300430288,
          "y": -0.19698130059667426
         },
         {
          "group": "politics",
          "x": -0.27668098354073195,
          "y": -0.4977070740688006
         },
         {
          "group": "politics",
          "x": 1.0201125595479472,
          "y": 0.9968472123990498
         },
         {
          "group": "politics",
          "x": -0.35466510771485593,
          "y": 2.1951553599333273
         },
         {
          "group": "politics",
          "x": -0.3304112901321769,
          "y": 0.35649966732682703
         },
         {
          "group": "politics",
          "x": 1.450475790879341,
          "y": -0.5288465624904497
         },
         {
          "group": "politics",
          "x": -0.7721708217009154,
          "y": 2.994381794681154
         },
         {
          "group": "politics",
          "x": -0.3044399389851565,
          "y": 0.7236421040482218
         },
         {
          "group": "politics",
          "x": 1.6674601781079679,
          "y": -3.1289758318598433
         },
         {
          "group": "politics",
          "x": 0.31856685777118826,
          "y": 0.9463004609042485
         },
         {
          "group": "politics",
          "x": -0.563281553243324,
          "y": -1.135597334550982
         },
         {
          "group": "politics",
          "x": 1.026965351250858,
          "y": -2.9899896392564416
         },
         {
          "group": "politics",
          "x": -0.9754343169338395,
          "y": 1.6687008490675053
         },
         {
          "group": "politics",
          "x": -0.1860421085841939,
          "y": 0.18682933808510988
         },
         {
          "group": "politics",
          "x": 0.030181979257713706,
          "y": 0.5303727337976322
         },
         {
          "group": "politics",
          "x": 0.5504196605905185,
          "y": 2.1294394924312194
         },
         {
          "group": "politics",
          "x": 2.7873932485653627,
          "y": 1.4446553824213437
         },
         {
          "group": "politics",
          "x": 0.01561706594187174,
          "y": -0.3708989204148583
         },
         {
          "group": "politics",
          "x": 0.7678375836422663,
          "y": -0.3333891572782601
         },
         {
          "group": "politics",
          "x": 0.6369682000470068,
          "y": 2.71521088307862
         },
         {
          "group": "politics",
          "x": 0.05121787450310075,
          "y": -0.20454385227923177
         },
         {
          "group": "politics",
          "x": 1.2344808327137744,
          "y": 2.166211203164594
         },
         {
          "group": "politics",
          "x": 3.0311658375359496,
          "y": -0.11100595705409702
         },
         {
          "group": "politics",
          "x": 1.372627061948665,
          "y": -0.6958594593118836
         },
         {
          "group": "politics",
          "x": 2.0701977640033893,
          "y": -0.49490726578311467
         },
         {
          "group": "politics",
          "x": 2.1126027029399825,
          "y": 0.9028423102834905
         },
         {
          "group": "politics",
          "x": 0.548811135180872,
          "y": -2.717318420742083
         },
         {
          "group": "politics",
          "x": 1.728122586369327,
          "y": -1.0226727633625772
         },
         {
          "group": "politics",
          "x": -0.4076343364210675,
          "y": -0.1522432596429609
         },
         {
          "group": "politics",
          "x": -0.3969263492276304,
          "y": -0.9720154364830424
         },
         {
          "group": "politics",
          "x": 1.7721460511597518,
          "y": -2.4490175167744686
         },
         {
          "group": "politics",
          "x": 0.18876313810999046,
          "y": -0.6514210779348977
         },
         {
          "group": "politics",
          "x": 0.9520257013321708,
          "y": -0.20671089047248709
         },
         {
          "group": "politics",
          "x": 0.30521192780538425,
          "y": -1.0376670426129073
         },
         {
          "group": "politics",
          "x": 2.4246434704051856,
          "y": -0.3250542421554606
         },
         {
          "group": "politics",
          "x": -1.2986649105936654,
          "y": 1.072352517759477
         },
         {
          "group": "politics",
          "x": 1.4771089490117826,
          "y": -0.636584291394331
         },
         {
          "group": "politics",
          "x": -0.3357682250351401,
          "y": 1.7695318138045137
         },
         {
          "group": "politics",
          "x": 0.21039675357865367,
          "y": -1.433701079322386
         },
         {
          "group": "politics",
          "x": 1.32320527892354,
          "y": 1.1388619468743115
         },
         {
          "group": "politics",
          "x": 0.28074765049128475,
          "y": -0.955018895842347
         },
         {
          "group": "politics",
          "x": -0.5551729915732647,
          "y": -0.245556969421275
         },
         {
          "group": "politics",
          "x": -0.14854587212336423,
          "y": -0.2323137132440941
         },
         {
          "group": "politics",
          "x": -0.9510211506477682,
          "y": -0.7167077699025567
         },
         {
          "group": "politics",
          "x": 1.4195892714782754,
          "y": 1.362457024559871
         },
         {
          "group": "politics",
          "x": -0.07493413286466184,
          "y": -0.19451271100651746
         },
         {
          "group": "politics",
          "x": -0.4702689835338483,
          "y": -1.676228242484821
         },
         {
          "group": "politics",
          "x": 0.13927183231614937,
          "y": -0.9905690947492596
         },
         {
          "group": "politics",
          "x": 0.43285790308488475,
          "y": 0.10798002119275313
         },
         {
          "group": "politics",
          "x": 1.6947935662520304,
          "y": 0.3210633256488317
         },
         {
          "group": "politics",
          "x": -0.31725506252953256,
          "y": -0.35642123837137335
         },
         {
          "group": "politics",
          "x": 0.1555314067895235,
          "y": -0.34607830100278075
         },
         {
          "group": "politics",
          "x": -1.0450039194425482,
          "y": -0.13872757851795472
         },
         {
          "group": "politics",
          "x": -1.4746203014058599,
          "y": -0.570636324226667
         },
         {
          "group": "politics",
          "x": -1.263162827027425,
          "y": -1.6812162721489097
         },
         {
          "group": "politics",
          "x": -0.07881611027717,
          "y": -0.13948504426781674
         },
         {
          "group": "politics",
          "x": 1.6620424735968966,
          "y": -0.193548967899036
         },
         {
          "group": "politics",
          "x": -0.29484324032548076,
          "y": -0.7013965259305633
         },
         {
          "group": "politics",
          "x": 0.30056624876253474,
          "y": -1.011548139663275
         },
         {
          "group": "politics",
          "x": 0.05549696218899646,
          "y": -0.4310785680285551
         },
         {
          "group": "politics",
          "x": -1.0743725793804684,
          "y": 0.165861952265936
         },
         {
          "group": "politics",
          "x": -1.4552979051967767,
          "y": -1.8651262327619087
         },
         {
          "group": "politics",
          "x": -0.7940374058202484,
          "y": 1.947392908230243
         },
         {
          "group": "politics",
          "x": 0.2746046598440616,
          "y": -0.5999028992665864
         },
         {
          "group": "politics",
          "x": 0.25858485494822636,
          "y": 1.0676122203740683
         },
         {
          "group": "politics",
          "x": -0.42819072965620253,
          "y": 0.8886002386323077
         },
         {
          "group": "politics",
          "x": 0.620764369640564,
          "y": -0.7194468915712017
         },
         {
          "group": "politics",
          "x": 1.0921984291766442,
          "y": -0.24183424690555275
         },
         {
          "group": "politics",
          "x": 0.4383818429847684,
          "y": -2.0314679974264394
         },
         {
          "group": "politics",
          "x": -1.7027583935630797,
          "y": 1.0678657517805352
         },
         {
          "group": "politics",
          "x": 0.5922407902808984,
          "y": -0.8796590585611703
         },
         {
          "group": "politics",
          "x": -1.0813373998391012,
          "y": -0.24794912866079277
         },
         {
          "group": "politics",
          "x": 0.92927556620722,
          "y": -1.6266248807525447
         },
         {
          "group": "politics",
          "x": 1.9477198147560255,
          "y": -0.30142182077773794
         },
         {
          "group": "politics",
          "x": -0.7428380621860837,
          "y": 0.9390185767716129
         },
         {
          "group": "politics",
          "x": -1.3259903492442162,
          "y": 1.9308472303107358
         },
         {
          "group": "politics",
          "x": -0.7790134107828992,
          "y": 0.23817431440823045
         },
         {
          "group": "politics",
          "x": -0.25494494060155076,
          "y": 1.0205564485601175
         },
         {
          "group": "politics",
          "x": 2.0946585193037537,
          "y": -1.003582614179681
         },
         {
          "group": "politics",
          "x": 1.633131684472799,
          "y": 1.1763054427391384
         },
         {
          "group": "politics",
          "x": 2.10749865204319,
          "y": 0.7802717935335146
         },
         {
          "group": "politics",
          "x": 1.4894786281934815,
          "y": 0.6364413091629297
         },
         {
          "group": "politics",
          "x": 0.284877505163646,
          "y": -0.07140967970402781
         },
         {
          "group": "politics",
          "x": -2.444221766759758,
          "y": 0.06841122218883573
         },
         {
          "group": "politics",
          "x": 0.8860301321995222,
          "y": 1.1860955864458418
         },
         {
          "group": "politics",
          "x": 0.575207481349897,
          "y": -0.4853197192351331
         },
         {
          "group": "politics",
          "x": -0.16021089986094558,
          "y": 0.2504589685177487
         },
         {
          "group": "politics",
          "x": -0.2896981536842294,
          "y": -1.5551839477612162
         },
         {
          "group": "politics",
          "x": 0.3528446771476719,
          "y": -0.4061260592266359
         },
         {
          "group": "politics",
          "x": -1.0969121934884014,
          "y": -0.9938663028750775
         },
         {
          "group": "politics",
          "x": 1.6734509523666314,
          "y": 0.7020785381477659
         },
         {
          "group": "politics",
          "x": -0.70133909239996,
          "y": -0.7759964332845833
         },
         {
          "group": "politics",
          "x": 0.3691200314082533,
          "y": 0.66184517047258
         },
         {
          "group": "politics",
          "x": 1.4015300496905658,
          "y": -2.3188788578934267
         },
         {
          "group": "politics",
          "x": 1.7691723014520917,
          "y": -0.12917109428696533
         },
         {
          "group": "politics",
          "x": 0.5180031817249846,
          "y": 1.9359551873268235
         },
         {
          "group": "politics",
          "x": 0.11271467784702857,
          "y": 0.34624247599502006
         },
         {
          "group": "politics",
          "x": 1.1350624709053705,
          "y": -1.469746288228877
         },
         {
          "group": "politics",
          "x": 2.1087068906861237,
          "y": 0.7212602342372495
         },
         {
          "group": "politics",
          "x": 0.07161696311145174,
          "y": 0.3515245624793531
         },
         {
          "group": "politics",
          "x": -1.2544454553300726,
          "y": 1.530031436606699
         },
         {
          "group": "politics",
          "x": 0.9128921848275798,
          "y": -1.5437762719747257
         },
         {
          "group": "politics",
          "x": -0.12148722763662198,
          "y": 0.11766527449463007
         },
         {
          "group": "politics",
          "x": 0.8823653950120899,
          "y": -0.8576596557082259
         },
         {
          "group": "politics",
          "x": 0.2773256866347241,
          "y": -0.38105761335581634
         },
         {
          "group": "politics",
          "x": 0.41836430494213994,
          "y": -0.7899708580464142
         },
         {
          "group": "politics",
          "x": -0.082706838156759,
          "y": 0.2397843877703885
         },
         {
          "group": "politics",
          "x": 1.1021784966441055,
          "y": -1.240108179579488
         },
         {
          "group": "politics",
          "x": 0.7152981024372113,
          "y": -0.21512817157740324
         },
         {
          "group": "politics",
          "x": -0.2940330361458464,
          "y": 1.9846927316532463
         },
         {
          "group": "politics",
          "x": -1.6324863629045177,
          "y": 0.5892399199893804
         },
         {
          "group": "politics",
          "x": -0.6960140159753408,
          "y": 1.4252811125668146
         },
         {
          "group": "politics",
          "x": -0.0437394701584763,
          "y": 0.38850940233662135
         },
         {
          "group": "politics",
          "x": -0.38194837902232337,
          "y": 0.45272477065128547
         },
         {
          "group": "politics",
          "x": -0.4031512201429588,
          "y": -0.46211719800555895
         },
         {
          "group": "politics",
          "x": 0.5573995127009117,
          "y": -1.2012076995640357
         },
         {
          "group": "politics",
          "x": 0.6700557044350034,
          "y": -0.5903282870672611
         },
         {
          "group": "politics",
          "x": 1.3895476061553143,
          "y": 0.3890469428645637
         },
         {
          "group": "politics",
          "x": -0.8996895586086734,
          "y": 1.7386864334614525
         },
         {
          "group": "politics",
          "x": 0.2100306360833607,
          "y": 0.517438238366007
         },
         {
          "group": "politics",
          "x": -3.0011903335018983,
          "y": -2.8860760433758283
         },
         {
          "group": "politics",
          "x": -1.0707579173644595,
          "y": 0.9606814364274571
         },
         {
          "group": "politics",
          "x": -1.1293222451608902,
          "y": 0.8483414707915633
         },
         {
          "group": "politics",
          "x": 1.0434881707207804,
          "y": -0.2325430645598719
         },
         {
          "group": "politics",
          "x": 2.2126186927830664,
          "y": -1.9394420866999986
         },
         {
          "group": "politics",
          "x": -0.4882796926798354,
          "y": -0.43701105885862845
         },
         {
          "group": "politics",
          "x": -0.8146648780559999,
          "y": 0.13985859103888681
         },
         {
          "group": "politics",
          "x": -0.007941110378636257,
          "y": 0.9621338315166902
         },
         {
          "group": "politics",
          "x": 1.2999533887753745,
          "y": -0.8514207652928095
         },
         {
          "group": "politics",
          "x": 0.2575981605196827,
          "y": -0.18419429111705063
         },
         {
          "group": "politics",
          "x": 1.1759550870485493,
          "y": 0.6954546964506296
         },
         {
          "group": "politics",
          "x": -0.12108881954121807,
          "y": 1.0374379836372787
         },
         {
          "group": "politics",
          "x": 0.9853512890660685,
          "y": -0.8525192534896058
         },
         {
          "group": "politics",
          "x": -0.3271341182949401,
          "y": -0.21093063685651375
         },
         {
          "group": "politics",
          "x": 0.0326788870334252,
          "y": -0.8949798613443927
         },
         {
          "group": "politics",
          "x": -0.21127567584268223,
          "y": -0.01851266004740282
         },
         {
          "group": "politics",
          "x": 0.8158989359434188,
          "y": -2.1624088431550605
         },
         {
          "group": "politics",
          "x": 0.444164697895565,
          "y": 0.16948760988200126
         },
         {
          "group": "politics",
          "x": 2.4732479294820338,
          "y": 0.08913431761418528
         },
         {
          "group": "politics",
          "x": 0.011711703974773854,
          "y": 0.8620133332489921
         },
         {
          "group": "politics",
          "x": -0.6200463623063566,
          "y": 1.1009582908823334
         },
         {
          "group": "politics",
          "x": 0.5343793989086514,
          "y": -1.3653228353785556
         },
         {
          "group": "politics",
          "x": 0.08234503376614954,
          "y": -0.7286898770207093
         },
         {
          "group": "politics",
          "x": 0.6546279467526325,
          "y": -0.8967110405461366
         },
         {
          "group": "politics",
          "x": -0.2355046140714084,
          "y": -0.5609762002398417
         },
         {
          "group": "politics",
          "x": 1.1969873500819541,
          "y": -1.0145500571619481
         },
         {
          "group": "politics",
          "x": -0.3766370068742982,
          "y": -0.6952631691993983
         },
         {
          "group": "politics",
          "x": -1.262710270767411,
          "y": 0.24410897761122857
         },
         {
          "group": "politics",
          "x": -0.8027988811715153,
          "y": -1.0330824819162248
         },
         {
          "group": "politics",
          "x": 1.2668472759831453,
          "y": -0.3147482678268338
         },
         {
          "group": "politics",
          "x": 0.4220407344317061,
          "y": 1.3680579057266302
         },
         {
          "group": "politics",
          "x": 2.3378248388345733,
          "y": -0.48160551670088564
         },
         {
          "group": "politics",
          "x": -0.3449658866558398,
          "y": 0.21123333018090545
         },
         {
          "group": "politics",
          "x": 1.213162713657682,
          "y": 0.8247265043784153
         },
         {
          "group": "politics",
          "x": 0.6372276200918258,
          "y": 0.45540979637905493
         },
         {
          "group": "politics",
          "x": -0.3994929989353524,
          "y": 1.7944595400963304
         },
         {
          "group": "politics",
          "x": 1.026638468868288,
          "y": 1.7016510481899887
         },
         {
          "group": "politics",
          "x": 0.052072267962979216,
          "y": 1.1968740549231307
         },
         {
          "group": "politics",
          "x": 1.2807648694858793,
          "y": -1.1032065911328135
         },
         {
          "group": "politics",
          "x": -0.013797810859108318,
          "y": -0.5851558990451297
         },
         {
          "group": "politics",
          "x": 0.8160741272685432,
          "y": -1.48546040134068
         },
         {
          "group": "politics",
          "x": -0.4586381641708277,
          "y": -0.040311030543746365
         },
         {
          "group": "politics",
          "x": 1.8806874028889435,
          "y": 0.33806279676276646
         },
         {
          "group": "politics",
          "x": -0.08760039132839861,
          "y": 1.2325379655749715
         },
         {
          "group": "politics",
          "x": 0.8814384467873362,
          "y": -0.16972695424185627
         },
         {
          "group": "politics",
          "x": 0.4860415582682021,
          "y": 0.7423986255669752
         },
         {
          "group": "politics",
          "x": 0.8654380734965169,
          "y": -0.5760006565151061
         },
         {
          "group": "politics",
          "x": 1.1245414155766293,
          "y": -0.4352204520689756
         },
         {
          "group": "politics",
          "x": 0.03852978979581888,
          "y": -0.6535827112246844
         },
         {
          "group": "politics",
          "x": 0.14996239006289896,
          "y": 0.5272944457288558
         },
         {
          "group": "politics",
          "x": 0.7384700187792934,
          "y": -2.0081566833210887
         },
         {
          "group": "politics",
          "x": -1.4094667925257036,
          "y": -0.5519707907283091
         },
         {
          "group": "politics",
          "x": 1.957303205638672,
          "y": -0.8550184784893646
         },
         {
          "group": "politics",
          "x": 1.730522005490055,
          "y": -2.4717579025494643
         },
         {
          "group": "politics",
          "x": -1.0078023851545415,
          "y": -0.262852076640984
         },
         {
          "group": "politics",
          "x": 0.898593938562431,
          "y": 1.0925446919386328
         },
         {
          "group": "politics",
          "x": 0.34492647404560983,
          "y": 0.16955833062938422
         },
         {
          "group": "politics",
          "x": 0.31287843008537986,
          "y": 0.9181805727342054
         },
         {
          "group": "politics",
          "x": 1.137670303207001,
          "y": -0.33555191790842354
         },
         {
          "group": "politics",
          "x": -0.3806562491586083,
          "y": 0.32023257490207474
         },
         {
          "group": "politics",
          "x": 0.6232647195261266,
          "y": -0.7851983159626618
         },
         {
          "group": "politics",
          "x": -0.3212202320000466,
          "y": -1.158624086083546
         },
         {
          "group": "politics",
          "x": 0.8302983116214772,
          "y": -2.575427200608417
         },
         {
          "group": "politics",
          "x": 1.6956819139717354,
          "y": 1.1305308659500493
         },
         {
          "group": "politics",
          "x": 1.1136564352914848,
          "y": -1.636786366371388
         },
         {
          "group": "politics",
          "x": 0.673966848496374,
          "y": 1.4721128112580972
         },
         {
          "group": "politics",
          "x": 2.7299360057410813,
          "y": -0.5180951717491221
         },
         {
          "group": "politics",
          "x": 1.0347574632385999,
          "y": 0.27660236150373513
         },
         {
          "group": "politics",
          "x": 1.7742065916531138,
          "y": -1.9049987306578773
         },
         {
          "group": "politics",
          "x": 1.4701447255323736,
          "y": 0.2596309778612292
         },
         {
          "group": "politics",
          "x": 0.8704981534818959,
          "y": -0.2383517471591527
         },
         {
          "group": "politics",
          "x": 0.652386194777276,
          "y": 0.1932401403258823
         },
         {
          "group": "politics",
          "x": -1.4711353227559107,
          "y": 0.3212243957680605
         },
         {
          "group": "politics",
          "x": 0.4359153529864431,
          "y": -0.18652619433816042
         },
         {
          "group": "politics",
          "x": -0.06352862438160953,
          "y": 0.047839278000227824
         },
         {
          "group": "politics",
          "x": 2.0626377743516677,
          "y": 0.4253254613030067
         },
         {
          "group": "politics",
          "x": 1.5520406517282332,
          "y": 0.8672209045913792
         },
         {
          "group": "politics",
          "x": -0.47473303908496783,
          "y": -1.1608876825062906
         },
         {
          "group": "politics",
          "x": 0.9161052311614754,
          "y": 0.045058443657579765
         },
         {
          "group": "politics",
          "x": -0.44231319099503597,
          "y": 1.285180657730748
         },
         {
          "group": "politics",
          "x": 0.3333829542532371,
          "y": -0.3639205759352333
         },
         {
          "group": "politics",
          "x": 0.4835864961869829,
          "y": -0.05360558844086839
         },
         {
          "group": "politics",
          "x": 0.4644283463015937,
          "y": -2.4985446234182542
         },
         {
          "group": "politics",
          "x": 0.267822295446697,
          "y": 1.1392027429872174
         },
         {
          "group": "politics",
          "x": -0.22198567338308514,
          "y": 0.007127514137591801
         },
         {
          "group": "politics",
          "x": -1.3759012315651569,
          "y": 1.293595836232428
         },
         {
          "group": "politics",
          "x": -0.29355218409577677,
          "y": -0.8015388472470992
         },
         {
          "group": "politics",
          "x": 0.3908597633629579,
          "y": -0.39670541201119064
         },
         {
          "group": "politics",
          "x": -0.8699725830770354,
          "y": 1.429496393026676
         },
         {
          "group": "politics",
          "x": -0.9142569697877231,
          "y": -0.7699151609355733
         },
         {
          "group": "politics",
          "x": -1.8499479045199398,
          "y": -0.3994465157016998
         },
         {
          "group": "politics",
          "x": -2.0122188659587184,
          "y": 0.5582957831225202
         },
         {
          "group": "politics",
          "x": -1.7883956024579846,
          "y": 0.24582989345575937
         },
         {
          "group": "politics",
          "x": -0.7747080861457605,
          "y": 0.20658825346316498
         },
         {
          "group": "politics",
          "x": 0.2812989713505676,
          "y": 1.3678457359415885
         },
         {
          "group": "politics",
          "x": 1.2968430266910327,
          "y": -0.9425772534242661
         },
         {
          "group": "politics",
          "x": 0.11934782410111568,
          "y": -0.7233522581495487
         },
         {
          "group": "politics",
          "x": 0.9733036869116527,
          "y": 0.22316152168919098
         },
         {
          "group": "politics",
          "x": 0.7063407169936965,
          "y": 2.5055532107918714
         }
        ]
       },
       "encoding": {
        "color": {
         "field": "group",
         "type": "nominal"
        },
        "x": {
         "field": "x",
         "type": "quantitative"
        },
        "y": {
         "field": "y",
         "type": "quantitative"
        }
       },
       "mark": "point"
      },
      "image/png": "[encoded data removed]",
      "text/plain": [
       "<VegaLite 2 object>\n",
       "\n",
       "If you see this message, it means the renderer has not been properly enabled\n",
       "for the frontend that you are using. For more information, see\n",
       "https://altair-viz.github.io/user_guide/troubleshooting.html\n"
      ]
     },
     "execution_count": 26,
     "metadata": {},
     "output_type": "execute_result"
    }
   ],
   "source": [
    "alt.Chart(dx[dx[\"group\"].isin([\"politics\", \"business\"])]).mark_point().encode(x=\"x\", y=\"y\", color=\"group\")"
   ]
  },
  {
   "cell_type": "code",
   "execution_count": null,
   "metadata": {},
   "outputs": [],
   "source": []
  }
 ],
 "metadata": {
  "kernelspec": {
   "display_name": "Python 3",
   "language": "python",
   "name": "python3"
  },
  "language_info": {
   "codemirror_mode": {
    "name": "ipython",
    "version": 3
   },
   "file_extension": ".py",
   "mimetype": "text/x-python",
   "name": "python",
   "nbconvert_exporter": "python",
   "pygments_lexer": "ipython3",
   "version": "3.7.2"
  }
 },
 "nbformat": 4,
 "nbformat_minor": 2
}
