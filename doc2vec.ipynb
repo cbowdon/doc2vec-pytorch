{
 "cells": [
  {
   "cell_type": "markdown",
   "metadata": {},
   "source": [
    "Doc2vec from scratch in PyTorch\n",
    "===============================\n",
    "\n",
    "Here we are implementing this useful algorithm with a library we know and trust. With luck this will be more accessible than reading the papers but more in-depth than typical \"install gensim and just do what I say\" tutorials, and still easy to understand for anyone whose maths skills have atrophied to nothing (like me). This is all based on the great work by [Nejc Ilenic](https://github.com/ilenic/paragraph-vectors) and reading the referenced papers.\n",
    "\n",
    "The basic form of `word2vec` (and so `doc2vec`) is that it is a classifier trained to predict the missing word in a context. So given sentences like \"the cat _ on the mat\" it should predict \"sat\", and so learn a useful representation of words. We can then extract the internal weights and re-use them as \"word embeddings\", vectors giving each word a position in N-dimensional space that is hopefully close to similar words and an appropriate distance from related words. \n",
    "\n",
    "`doc2vec` or \"Paragraph vectors\" extends the `word2vec` idea by simply adding a document id to each context. This helps the network learn associations between contexts (but of course produces less generalizable vectors)."
   ]
  },
  {
   "cell_type": "markdown",
   "metadata": {},
   "source": [
    "First we need to load the data."
   ]
  },
  {
   "cell_type": "code",
   "execution_count": 1,
   "metadata": {},
   "outputs": [
    {
     "data": {
      "text/html": [
       "<div>\n",
       "<style scoped>\n",
       "    .dataframe tbody tr th:only-of-type {\n",
       "        vertical-align: middle;\n",
       "    }\n",
       "\n",
       "    .dataframe tbody tr th {\n",
       "        vertical-align: top;\n",
       "    }\n",
       "\n",
       "    .dataframe thead th {\n",
       "        text-align: right;\n",
       "    }\n",
       "</style>\n",
       "<table border=\"1\" class=\"dataframe\">\n",
       "  <thead>\n",
       "    <tr style=\"text-align: right;\">\n",
       "      <th></th>\n",
       "      <th>text</th>\n",
       "      <th>tokens</th>\n",
       "    </tr>\n",
       "  </thead>\n",
       "  <tbody>\n",
       "    <tr>\n",
       "      <th>0</th>\n",
       "      <td>In the week before their departure to Arrakis,...</td>\n",
       "      <td>[in, the, week, before, their, departure, to, ...</td>\n",
       "    </tr>\n",
       "    <tr>\n",
       "      <th>1</th>\n",
       "      <td>In the week before their departure to Arrakis,...</td>\n",
       "      <td>[in, the, week, before, their, departure, to, ...</td>\n",
       "    </tr>\n",
       "    <tr>\n",
       "      <th>2</th>\n",
       "      <td>In the week before their departure to Arrakis,...</td>\n",
       "      <td>[in, the, week, before, their, departure, to, ...</td>\n",
       "    </tr>\n",
       "    <tr>\n",
       "      <th>3</th>\n",
       "      <td>In the week before their departure to Arrakis,...</td>\n",
       "      <td>[in, the, week, before, their, departure, to, ...</td>\n",
       "    </tr>\n",
       "    <tr>\n",
       "      <th>4</th>\n",
       "      <td>It was a warm night at Castle Caladan, and the...</td>\n",
       "      <td>[it, was, a, warm, night, at, castle, caladan,...</td>\n",
       "    </tr>\n",
       "    <tr>\n",
       "      <th>5</th>\n",
       "      <td>It was a warm night at Castle Caladan, and the...</td>\n",
       "      <td>[it, was, a, warm, night, at, castle, caladan,...</td>\n",
       "    </tr>\n",
       "    <tr>\n",
       "      <th>6</th>\n",
       "      <td>It was a warm night at Castle Caladan, and the...</td>\n",
       "      <td>[it, was, a, warm, night, at, castle, caladan,...</td>\n",
       "    </tr>\n",
       "    <tr>\n",
       "      <th>7</th>\n",
       "      <td>It was a warm night at Castle Caladan, and the...</td>\n",
       "      <td>[it, was, a, warm, night, at, castle, caladan,...</td>\n",
       "    </tr>\n",
       "    <tr>\n",
       "      <th>8</th>\n",
       "      <td>The old woman was let in by the side door down...</td>\n",
       "      <td>[the, old, woman, was, let, in, by, the, side,...</td>\n",
       "    </tr>\n",
       "    <tr>\n",
       "      <th>9</th>\n",
       "      <td>The old woman was let in by the side door down...</td>\n",
       "      <td>[the, old, woman, was, let, in, by, the, side,...</td>\n",
       "    </tr>\n",
       "    <tr>\n",
       "      <th>10</th>\n",
       "      <td>The old woman was let in by the side door down...</td>\n",
       "      <td>[the, old, woman, was, let, in, by, the, side,...</td>\n",
       "    </tr>\n",
       "    <tr>\n",
       "      <th>11</th>\n",
       "      <td>The old woman was let in by the side door down...</td>\n",
       "      <td>[the, old, woman, was, let, in, by, the, side,...</td>\n",
       "    </tr>\n",
       "    <tr>\n",
       "      <th>12</th>\n",
       "      <td>By the half-light of a suspensor lamp, dimmed ...</td>\n",
       "      <td>[by, the, half, -, light, of, a, suspensor, la...</td>\n",
       "    </tr>\n",
       "    <tr>\n",
       "      <th>13</th>\n",
       "      <td>By the half-light of a suspensor lamp, dimmed ...</td>\n",
       "      <td>[by, the, half, -, light, of, a, suspensor, la...</td>\n",
       "    </tr>\n",
       "    <tr>\n",
       "      <th>14</th>\n",
       "      <td>By the half-light of a suspensor lamp, dimmed ...</td>\n",
       "      <td>[by, the, half, -, light, of, a, suspensor, la...</td>\n",
       "    </tr>\n",
       "    <tr>\n",
       "      <th>15</th>\n",
       "      <td>By the half-light of a suspensor lamp, dimmed ...</td>\n",
       "      <td>[by, the, half, -, light, of, a, suspensor, la...</td>\n",
       "    </tr>\n",
       "  </tbody>\n",
       "</table>\n",
       "</div>"
      ],
      "text/plain": [
       "                                                 text  \\\n",
       "0   In the week before their departure to Arrakis,...   \n",
       "1   In the week before their departure to Arrakis,...   \n",
       "2   In the week before their departure to Arrakis,...   \n",
       "3   In the week before their departure to Arrakis,...   \n",
       "4   It was a warm night at Castle Caladan, and the...   \n",
       "5   It was a warm night at Castle Caladan, and the...   \n",
       "6   It was a warm night at Castle Caladan, and the...   \n",
       "7   It was a warm night at Castle Caladan, and the...   \n",
       "8   The old woman was let in by the side door down...   \n",
       "9   The old woman was let in by the side door down...   \n",
       "10  The old woman was let in by the side door down...   \n",
       "11  The old woman was let in by the side door down...   \n",
       "12  By the half-light of a suspensor lamp, dimmed ...   \n",
       "13  By the half-light of a suspensor lamp, dimmed ...   \n",
       "14  By the half-light of a suspensor lamp, dimmed ...   \n",
       "15  By the half-light of a suspensor lamp, dimmed ...   \n",
       "\n",
       "                                               tokens  \n",
       "0   [in, the, week, before, their, departure, to, ...  \n",
       "1   [in, the, week, before, their, departure, to, ...  \n",
       "2   [in, the, week, before, their, departure, to, ...  \n",
       "3   [in, the, week, before, their, departure, to, ...  \n",
       "4   [it, was, a, warm, night, at, castle, caladan,...  \n",
       "5   [it, was, a, warm, night, at, castle, caladan,...  \n",
       "6   [it, was, a, warm, night, at, castle, caladan,...  \n",
       "7   [it, was, a, warm, night, at, castle, caladan,...  \n",
       "8   [the, old, woman, was, let, in, by, the, side,...  \n",
       "9   [the, old, woman, was, let, in, by, the, side,...  \n",
       "10  [the, old, woman, was, let, in, by, the, side,...  \n",
       "11  [the, old, woman, was, let, in, by, the, side,...  \n",
       "12  [by, the, half, -, light, of, a, suspensor, la...  \n",
       "13  [by, the, half, -, light, of, a, suspensor, la...  \n",
       "14  [by, the, half, -, light, of, a, suspensor, la...  \n",
       "15  [by, the, half, -, light, of, a, suspensor, la...  "
      ]
     },
     "execution_count": 1,
     "metadata": {},
     "output_type": "execute_result"
    }
   ],
   "source": [
    "import pandas as pd\n",
    "import spacy\n",
    "\n",
    "nlp = spacy.load(\"en_core_web_sm\")\n",
    "\n",
    "df = pd.read_csv(\"data/example.csv\")\n",
    "df[\"tokens\"] = df.text.str.lower().str.strip().apply(lambda x: [token.text for token in nlp(x)])\n",
    "\n",
    "df"
   ]
  },
  {
   "cell_type": "markdown",
   "metadata": {},
   "source": [
    "We will need to construct a vocabulary so we can reference every word by an ID."
   ]
  },
  {
   "cell_type": "code",
   "execution_count": 2,
   "metadata": {},
   "outputs": [
    {
     "name": "stdout",
     "output_type": "stream",
     "text": [
      "Dataset comprises 16 documents and 111 unique words\n"
     ]
    }
   ],
   "source": [
    "from collections import Counter\n",
    "\n",
    "class Vocab:\n",
    "    def __init__(self, all_tokens):\n",
    "        self.freqs = Counter(all_tokens)\n",
    "        self.words = sorted(self.freqs.keys())\n",
    "        self.word2idx = {w: i for i, w in enumerate(self.words)}\n",
    "        \n",
    "vocab = Vocab([tok for tokens in df.tokens for tok in tokens])\n",
    "\n",
    "print(f\"Dataset comprises {len(df)} documents and {len(vocab.words)} unique words\")"
   ]
  },
  {
   "cell_type": "markdown",
   "metadata": {},
   "source": [
    "The difficulty with our \"the cat _ on the mat\" problem is that the missing word could be any one in the vocabulary V and so the network would have |V| outputs for each input e.g. a huge vector containing zero for every word in the vocabulary and some positive number for \"sat\" if the network was perfectly trained. For calculating loss we need to turn that into a probabilty distribution, i.e. _softmax_ it. Computing the softmax for such a large vector is expensive.\n",
    "\n",
    "So the trick (one of many possible) we will use is _Noise Contrastive Estimation (NCE)_. We change our \"the cat _ on the mat\" problem into a multiple choice problem, asking the network to choose between \"sat\" and some random wrong answers like \"hopscotch\" and \"luxuriated\". This is easier to compute the softmax for since it's now a binary classifier (right or wrong answer) and the output is simply of a vector of size 1 + k where k is the number of random incorrect options.\n",
    "\n",
    "Happily, this alternative problem still learns equally useful word representations. We just need to adjust the examples and the loss function. There is a simplified version of the NCE loss function called _Negative Sampling (NEG)_ that we can use here.\n",
    "\n",
    "[Notes on Noise Contrastive Estimation and Negative Sampling (C. Dyer)](https://arxiv.org/abs/1410.8251) explains the derivation of the NCE and NEG loss functions.\n",
    "\n",
    "When we implement the loss function, we assume that the first element in a samples/scores vector is the score for the positive sample and the rest are negative samples. This convention saves us from having to pass around an auxiliary vector indicating which sample was positive."
   ]
  },
  {
   "cell_type": "code",
   "execution_count": 3,
   "metadata": {},
   "outputs": [],
   "source": [
    "import torch.nn as nn\n",
    "\n",
    "class NegativeSampling(nn.Module):\n",
    "    def __init__(self):\n",
    "        super(NegativeSampling, self).__init__()\n",
    "        self.log_sigmoid = nn.LogSigmoid()\n",
    "    def forward(self, scores):\n",
    "        batch_size = scores.shape[0]\n",
    "        n_negative_samples = scores.shape[1] - 1   # TODO average or sum the negative samples? Summing seems to be correct by the paper\n",
    "        positive = self.log_sigmoid(scores[:,0])\n",
    "        negatives = torch.sum(self.log_sigmoid(-scores[:,1:]), dim=1)\n",
    "        return torch.sum(-(positive + negatives)) / batch_size  # average for batch\n",
    "\n",
    "loss = NegativeSampling()"
   ]
  },
  {
   "cell_type": "markdown",
   "metadata": {},
   "source": [
    "It's helpful to play with some values to reassure ourselves that this function does the right thing."
   ]
  },
  {
   "cell_type": "code",
   "execution_count": 4,
   "metadata": {},
   "outputs": [
    {
     "data": {
      "text/html": [
       "<div>\n",
       "<style scoped>\n",
       "    .dataframe tbody tr th:only-of-type {\n",
       "        vertical-align: middle;\n",
       "    }\n",
       "\n",
       "    .dataframe tbody tr th {\n",
       "        vertical-align: top;\n",
       "    }\n",
       "\n",
       "    .dataframe thead th {\n",
       "        text-align: right;\n",
       "    }\n",
       "</style>\n",
       "<table border=\"1\" class=\"dataframe\">\n",
       "  <thead>\n",
       "    <tr style=\"text-align: right;\">\n",
       "      <th></th>\n",
       "      <th>scores</th>\n",
       "      <th>loss</th>\n",
       "    </tr>\n",
       "  </thead>\n",
       "  <tbody>\n",
       "    <tr>\n",
       "      <th>0</th>\n",
       "      <td>[1, -1, -1, -1]</td>\n",
       "      <td>tensor(1.2530)</td>\n",
       "    </tr>\n",
       "    <tr>\n",
       "      <th>1</th>\n",
       "      <td>[0.5, -1, -1, -1]</td>\n",
       "      <td>tensor(1.4139)</td>\n",
       "    </tr>\n",
       "    <tr>\n",
       "      <th>2</th>\n",
       "      <td>[0, -1, -1, -1]</td>\n",
       "      <td>tensor(1.6329)</td>\n",
       "    </tr>\n",
       "    <tr>\n",
       "      <th>3</th>\n",
       "      <td>[0, 0, 0, 0]</td>\n",
       "      <td>tensor(2.7726)</td>\n",
       "    </tr>\n",
       "    <tr>\n",
       "      <th>4</th>\n",
       "      <td>[0, 0, 0, 1]</td>\n",
       "      <td>tensor(3.3927)</td>\n",
       "    </tr>\n",
       "    <tr>\n",
       "      <th>5</th>\n",
       "      <td>[0, 1, 1, 1]</td>\n",
       "      <td>tensor(4.6329)</td>\n",
       "    </tr>\n",
       "    <tr>\n",
       "      <th>6</th>\n",
       "      <td>[0.5, 1, 1, 1]</td>\n",
       "      <td>tensor(4.4139)</td>\n",
       "    </tr>\n",
       "    <tr>\n",
       "      <th>7</th>\n",
       "      <td>[1, 1, 1, 1]</td>\n",
       "      <td>tensor(4.2530)</td>\n",
       "    </tr>\n",
       "  </tbody>\n",
       "</table>\n",
       "</div>"
      ],
      "text/plain": [
       "              scores            loss\n",
       "0    [1, -1, -1, -1]  tensor(1.2530)\n",
       "1  [0.5, -1, -1, -1]  tensor(1.4139)\n",
       "2    [0, -1, -1, -1]  tensor(1.6329)\n",
       "3       [0, 0, 0, 0]  tensor(2.7726)\n",
       "4       [0, 0, 0, 1]  tensor(3.3927)\n",
       "5       [0, 1, 1, 1]  tensor(4.6329)\n",
       "6     [0.5, 1, 1, 1]  tensor(4.4139)\n",
       "7       [1, 1, 1, 1]  tensor(4.2530)"
      ]
     },
     "execution_count": 4,
     "metadata": {},
     "output_type": "execute_result"
    }
   ],
   "source": [
    "import torch \n",
    "\n",
    "data = [[[1, -1, -1, -1]],  # this dummy data uses -1 to 1, but the real model is unconstrained\n",
    "        [[0.5, -1, -1, -1]],\n",
    "        [[0, -1, -1, -1]],\n",
    "        [[0, 0, 0, 0]],\n",
    "        [[0, 0, 0, 1]],\n",
    "        [[0, 1, 1, 1]],\n",
    "        [[0.5, 1, 1, 1]],\n",
    "        [[1, 1, 1, 1]]]\n",
    "\n",
    "loss_df = pd.DataFrame(data, columns=[\"scores\"])\n",
    "loss_df[\"loss\"] = loss_df.scores.apply(lambda x: loss(torch.FloatTensor([x])))\n",
    "\n",
    "loss_df"
   ]
  },
  {
   "cell_type": "markdown",
   "metadata": {},
   "source": [
    "Higher scores for the positive sample (always the first element) reduce the loss but higher scores for the negative samples increase the loss. This looks like the right behaviour."
   ]
  },
  {
   "cell_type": "markdown",
   "metadata": {},
   "source": [
    "With that in the bag, let's look at creating training data. The general idea is to create a set of examples where each example has:\n",
    "\n",
    "- doc id\n",
    "- sample ids - a collection of the target token and some noise tokens\n",
    "- context ids - tokens before and after the target token\n",
    "\n",
    "e.g. If our context size was 2, the first example from the above dataset would be:\n",
    "\n",
    "```\n",
    "{\"doc_id\": 0,\n",
    " \"sample_ids\": [word2idx[x] for x in [\"week\", \"random-word-from-vocab\", \"random-word-from-vocab\"...],\n",
    " \"context_ids\": [word2idx[x] for x in [\"in\", \"the\", \"before\", \"their\"]]}\n",
    " ```\n",
    " \n",
    " The random words are chosen according to a probability distribution:\n",
    " \n",
    " > a unigram distribution raised to the 3/4rd power, as proposed by T. Mikolov et al. in Distributed Representations of Words and Phrases and their Compositionality\n",
    "\n",
    "This has the effect of slightly increasing the relative probability of rare words (look at the graph of `y=x^0.75` below and see how the lower end is raised above `y=x`)."
   ]
  },
  {
   "cell_type": "code",
   "execution_count": 5,
   "metadata": {},
   "outputs": [
    {
     "data": {
      "application/vnd.vegalite.v2+json": {
       "$schema": "https://vega.github.io/schema/vega-lite/v2.6.0.json",
       "config": {
        "view": {
         "height": 300,
         "width": 400
        }
       },
       "data": {
        "name": "data-afc3dc0951a9e12875119a5af86e52b5"
       },
       "datasets": {
        "data-afc3dc0951a9e12875119a5af86e52b5": [
         {
          "x": 0,
          "y": 0
         },
         {
          "x": 0.01,
          "y": 0.03162277660168379
         },
         {
          "x": 0.02,
          "y": 0.053182958969449884
         },
         {
          "x": 0.03,
          "y": 0.07208434242404263
         },
         {
          "x": 0.04,
          "y": 0.08944271909999159
         },
         {
          "x": 0.05,
          "y": 0.10573712634405642
         },
         {
          "x": 0.06,
          "y": 0.12123093028059741
         },
         {
          "x": 0.07,
          "y": 0.13608915892697748
         },
         {
          "x": 0.08,
          "y": 0.15042412372345573
         },
         {
          "x": 0.09,
          "y": 0.16431676725154984
         },
         {
          "x": 0.1,
          "y": 0.1778279410038923
         },
         {
          "x": 0.11,
          "y": 0.19100490227716513
         },
         {
          "x": 0.12,
          "y": 0.2038853093816547
         },
         {
          "x": 0.13,
          "y": 0.2164998073464082
         },
         {
          "x": 0.14,
          "y": 0.22887377179317683
         },
         {
          "x": 0.15,
          "y": 0.2410285256833955
         },
         {
          "x": 0.16,
          "y": 0.25298221281347033
         },
         {
          "x": 0.17,
          "y": 0.26475044029330763
         },
         {
          "x": 0.18,
          "y": 0.2763467610958144
         },
         {
          "x": 0.19,
          "y": 0.28778304315451386
         },
         {
          "x": 0.2,
          "y": 0.29906975624424414
         },
         {
          "x": 0.21,
          "y": 0.3102161981490854
         },
         {
          "x": 0.22,
          "y": 0.32123067524150845
         },
         {
          "x": 0.23,
          "y": 0.33212064831351956
         },
         {
          "x": 0.24,
          "y": 0.34289285156385596
         },
         {
          "x": 0.25,
          "y": 0.3535533905932738
         },
         {
          "x": 0.26,
          "y": 0.3641078238014289
         },
         {
          "x": 0.27,
          "y": 0.37456123052590357
         },
         {
          "x": 0.28,
          "y": 0.38491826849295824
         },
         {
          "x": 0.29,
          "y": 0.39518322257770583
         },
         {
          "x": 0.3,
          "y": 0.4053600464421103
         },
         {
          "x": 0.31,
          "y": 0.41545239829339137
         },
         {
          "x": 0.32,
          "y": 0.42546367175559907
         },
         {
          "x": 0.33,
          "y": 0.43539702265375557
         },
         {
          "x": 0.34,
          "y": 0.4452553923589699
         },
         {
          "x": 0.35000000000000003,
          "y": 0.45504152822405847
         },
         {
          "x": 0.36,
          "y": 0.46475800154489
         },
         {
          "x": 0.37,
          "y": 0.47440722340731084
         },
         {
          "x": 0.38,
          "y": 0.4839914587188715
         },
         {
          "x": 0.39,
          "y": 0.4935128386754873
         },
         {
          "x": 0.4,
          "y": 0.5029733718731741
         },
         {
          "x": 0.41000000000000003,
          "y": 0.5123749542422491
         },
         {
          "x": 0.42,
          "y": 0.5217193779544038
         },
         {
          "x": 0.43,
          "y": 0.5310083394307343
         },
         {
          "x": 0.44,
          "y": 0.5402434465602292
         },
         {
          "x": 0.45,
          "y": 0.549426225222706
         },
         {
          "x": 0.46,
          "y": 0.5585581251971565
         },
         {
          "x": 0.47000000000000003,
          "y": 0.5676405255254853
         },
         {
          "x": 0.48,
          "y": 0.576674739392341
         },
         {
          "x": 0.49,
          "y": 0.5856620185738529
         },
         {
          "x": 0.5,
          "y": 0.5946035575013605
         },
         {
          "x": 0.51,
          "y": 0.6035004969804791
         },
         {
          "x": 0.52,
          "y": 0.6123539276009055
         },
         {
          "x": 0.53,
          "y": 0.6211648928681236
         },
         {
          "x": 0.54,
          "y": 0.629934392084505
         },
         {
          "x": 0.55,
          "y": 0.6386633830041155
         },
         {
          "x": 0.56,
          "y": 0.6473527842827909
         },
         {
          "x": 0.5700000000000001,
          "y": 0.6560034777426358
         },
         {
          "x": 0.58,
          "y": 0.6646163104680073
         },
         {
          "x": 0.59,
          "y": 0.6731920967482075
         },
         {
          "x": 0.6,
          "y": 0.6817316198804996
         },
         {
          "x": 0.61,
          "y": 0.6902356338456498
         },
         {
          "x": 0.62,
          "y": 0.6987048648669424
         },
         {
          "x": 0.63,
          "y": 0.7071400128625219
         },
         {
          "x": 0.64,
          "y": 0.7155417527999327
         },
         {
          "x": 0.65,
          "y": 0.7239107359608682
         },
         {
          "x": 0.66,
          "y": 0.7322475911233668
         },
         {
          "x": 0.67,
          "y": 0.7405529256680135
         },
         {
          "x": 0.68,
          "y": 0.7488273266140879
         },
         {
          "x": 0.6900000000000001,
          "y": 0.7570713615910638
         },
         {
          "x": 0.7000000000000001,
          "y": 0.7652855797503655
         },
         {
          "x": 0.71,
          "y": 0.7734705126218591
         },
         {
          "x": 0.72,
          "y": 0.7816266749191567
         },
         {
          "x": 0.73,
          "y": 0.7897545652974598
         },
         {
          "x": 0.74,
          "y": 0.7978546670673515
         },
         {
          "x": 0.75,
          "y": 0.8059274488676564
         },
         {
          "x": 0.76,
          "y": 0.8139733653002305
         },
         {
          "x": 0.77,
          "y": 0.8219928575293057
         },
         {
          "x": 0.78,
          "y": 0.829986353847804
         },
         {
          "x": 0.79,
          "y": 0.837954270212839
         },
         {
          "x": 0.8,
          "y": 0.8458970107524514
         },
         {
          "x": 0.81,
          "y": 0.8538149682454624
         },
         {
          "x": 0.8200000000000001,
          "y": 0.8617085245761865
         },
         {
          "x": 0.8300000000000001,
          "y": 0.869578051165608
         },
         {
          "x": 0.84,
          "y": 0.8774239093805121
         },
         {
          "x": 0.85,
          "y": 0.8852464509219427
         },
         {
          "x": 0.86,
          "y": 0.8930460181942644
         },
         {
          "x": 0.87,
          "y": 0.9008229446560111
         },
         {
          "x": 0.88,
          "y": 0.9085775551536168
         },
         {
          "x": 0.89,
          "y": 0.9163101662390513
         },
         {
          "x": 0.9,
          "y": 0.9240210864723069
         },
         {
          "x": 0.91,
          "y": 0.9317106167096201
         },
         {
          "x": 0.92,
          "y": 0.9393790503782488
         },
         {
          "x": 0.93,
          "y": 0.9470266737385726
         },
         {
          "x": 0.9400000000000001,
          "y": 0.9546537661342305
         },
         {
          "x": 0.9500000000000001,
          "y": 0.9622606002309622
         },
         {
          "x": 0.96,
          "y": 0.9698474422447793
         },
         {
          "x": 0.97,
          "y": 0.9774145521600454
         },
         {
          "x": 0.98,
          "y": 0.9849621839380145
         },
         {
          "x": 0.99,
          "y": 0.992490585716335
         }
        ]
       },
       "encoding": {
        "x": {
         "field": "x",
         "type": "quantitative"
        },
        "y": {
         "field": "y",
         "type": "quantitative"
        }
       },
       "mark": "line",
       "title": "x^0.75"
      },
      "image/png": "[encoded data removed]",
      "text/plain": [
       "<VegaLite 2 object>\n",
       "\n",
       "If you see this message, it means the renderer has not been properly enabled\n",
       "for the frontend that you are using. For more information, see\n",
       "https://altair-viz.github.io/user_guide/troubleshooting.html\n"
      ]
     },
     "execution_count": 5,
     "metadata": {},
     "output_type": "execute_result"
    }
   ],
   "source": [
    "import altair as alt\n",
    "import numpy as np\n",
    "\n",
    "data = pd.DataFrame(zip(np.arange(0,1,0.01), np.power(np.arange(0,1,0.01), 0.75)), columns=[\"x\", \"y\"])\n",
    "alt.Chart(data, title=\"x^0.75\").mark_line().encode(x=\"x\", y=\"y\")"
   ]
  },
  {
   "cell_type": "code",
   "execution_count": 6,
   "metadata": {},
   "outputs": [],
   "source": [
    "import numpy as np\n",
    "\n",
    "class NoiseDistribution:\n",
    "    def __init__(self, vocab):\n",
    "        self.probs = np.array([vocab.freqs[w] for w in vocab.words])\n",
    "        self.probs = np.power(self.probs, 0.75)\n",
    "        self.probs /= np.sum(self.probs)\n",
    "    def sample(self, n):\n",
    "        \"Returns the indices of n words randomly sampled from the vocabulary.\"\n",
    "        return np.random.choice(a=self.probs.shape[0], size=n, p=self.probs)\n",
    "        \n",
    "noise = NoiseDistribution(vocab)"
   ]
  },
  {
   "cell_type": "markdown",
   "metadata": {},
   "source": [
    "With this distribution, we advance through the documents creating examples. Note that we are always putting the positive sample first in the samples vector, following the convention the loss function expects."
   ]
  },
  {
   "cell_type": "code",
   "execution_count": 7,
   "metadata": {},
   "outputs": [],
   "source": [
    "import torch\n",
    "\n",
    "def example_generator(df, context_size, noise, n_negative_samples, vocab):\n",
    "    for doc_id, doc in df.iterrows():\n",
    "        for i in range(context_size, len(doc.tokens) - context_size):\n",
    "            positive_sample = vocab.word2idx[doc.tokens[i]]\n",
    "            sample_ids = noise.sample(n_negative_samples).tolist()\n",
    "            # Fix a wee bug - ensure negative samples don't accidentally include the positive\n",
    "            sample_ids = [sample_id if sample_id != positive_sample else -1 for sample_id in sample_ids]\n",
    "            sample_ids.insert(0, positive_sample)                \n",
    "            context = doc.tokens[i - context_size:i] + doc.tokens[i + 1:i + context_size + 1]\n",
    "            context_ids = [vocab.word2idx[w] for w in context]\n",
    "            yield {\"doc_ids\": torch.tensor(doc_id),  # we use plural here because it will be batched\n",
    "                   \"sample_ids\": torch.tensor(sample_ids), \n",
    "                   \"context_ids\": torch.tensor(context_ids)}\n",
    "            \n",
    "examples = example_generator(df, context_size=5, noise=noise, n_negative_samples=15, vocab=vocab)"
   ]
  },
  {
   "cell_type": "markdown",
   "metadata": {},
   "source": [
    "Now we package this up as a good old PyTorch dataset and dataloader."
   ]
  },
  {
   "cell_type": "code",
   "execution_count": 8,
   "metadata": {},
   "outputs": [],
   "source": [
    "from torch.utils.data import Dataset, DataLoader\n",
    "\n",
    "class NCEDataset(Dataset):\n",
    "    def __init__(self, examples):\n",
    "        self.examples = list(examples)  # just naively evaluate the whole damn thing - suboptimal!\n",
    "    def __len__(self):\n",
    "        return len(self.examples)\n",
    "    def __getitem__(self, index):\n",
    "        return self.examples[index]\n",
    "    \n",
    "dataset = NCEDataset(examples)\n",
    "dataloader = DataLoader(dataset, batch_size=2, drop_last=True, shuffle=True)  # TODO bigger batch size when not dummy data"
   ]
  },
  {
   "cell_type": "markdown",
   "metadata": {},
   "source": [
    "Let's jump into creating the model itself. There isn't much to it - we multiply the input paragraph and word matrices by the output layer. Combining the paragraph and word matrices is done by summing here, but it could also be done by concatenating the inputs. The original paper actually found concatenation works better, perhaps because summing loses word order information."
   ]
  },
  {
   "cell_type": "code",
   "execution_count": 9,
   "metadata": {},
   "outputs": [],
   "source": [
    "import torch.nn as nn\n",
    "\n",
    "class DistributedMemory(nn.Module):\n",
    "    def __init__(self, vec_dim, n_docs, n_words):\n",
    "        super(DistributedMemory, self).__init__()\n",
    "        self.paragraph_matrix = nn.Parameter(torch.randn(n_docs, vec_dim))\n",
    "        self.word_matrix = nn.Parameter(torch.randn(n_words, vec_dim))\n",
    "        self.outputs = nn.Parameter(torch.zeros(vec_dim, n_words))\n",
    "    \n",
    "    def forward(self, doc_ids, context_ids, sample_ids):\n",
    "                                                                               # first add doc ids to context word ids to make the inputs\n",
    "        inputs = torch.add(self.paragraph_matrix[doc_ids,:],                   # (batch_size, vec_dim)\n",
    "                           torch.sum(self.word_matrix[context_ids,:], dim=1))  # (batch_size, 2x context, vec_dim) -> sum to (batch_size, vec_dim)\n",
    "                                                                               #\n",
    "                                                                               # select the subset of the output layer for the NCE test\n",
    "        outputs = self.outputs[:,sample_ids]                                   # (vec_dim, batch_size, n_negative_samples + 1)\n",
    "                                                                               #\n",
    "        return torch.bmm(inputs.unsqueeze(dim=1),                              # then multiply with some munging to make the tensor shapes line up \n",
    "                         outputs.permute(1, 0, 2)).squeeze()                   # -> (batch_size, n_negative_samples + 1)\n",
    "\n",
    "model = DistributedMemory(vec_dim=50,\n",
    "                          n_docs=len(df),\n",
    "                          n_words=len(vocab.words))"
   ]
  },
  {
   "cell_type": "markdown",
   "metadata": {},
   "source": [
    "Let's take it for a spin!"
   ]
  },
  {
   "cell_type": "code",
   "execution_count": 10,
   "metadata": {},
   "outputs": [
    {
     "data": {
      "text/plain": [
       "tensor([[0., 0., 0., 0., 0., 0., 0., 0., 0., 0., 0., 0., 0., 0., 0., 0.],\n",
       "        [0., 0., 0., 0., 0., 0., 0., 0., 0., 0., 0., 0., 0., 0., 0., 0.]])"
      ]
     },
     "execution_count": 10,
     "metadata": {},
     "output_type": "execute_result"
    }
   ],
   "source": [
    "with torch.no_grad():\n",
    "    logits = model.forward(**next(iter(dataloader)))\n",
    "logits"
   ]
  },
  {
   "cell_type": "markdown",
   "metadata": {},
   "source": [
    "Oh yeah, the output layer was initialized with zeros. Time to bash out a standard issue PyTorch training loop."
   ]
  },
  {
   "cell_type": "code",
   "execution_count": 11,
   "metadata": {},
   "outputs": [],
   "source": [
    "from tqdm import tqdm, trange\n",
    "from torch.optim import Adam\n",
    "import numpy as np\n",
    "\n",
    "def train(model, dataloader, epochs=40, lr=1e-3):\n",
    "    optimizer = Adam(model.parameters(), lr=lr)\n",
    "    training_losses = []\n",
    "    try:\n",
    "        for epoch in trange(epochs, desc=\"Epochs\"):\n",
    "            epoch_losses = []\n",
    "            for batch in dataloader:\n",
    "                model.zero_grad()\n",
    "                logits = model.forward(**batch)\n",
    "                batch_loss = loss(logits)\n",
    "                epoch_losses.append(batch_loss.item())\n",
    "                batch_loss.backward()\n",
    "                optimizer.step()\n",
    "            training_losses.append(np.mean(epoch_losses))\n",
    "    except KeyboardInterrupt:\n",
    "        print(f\"Interrupted on epoch {epoch}!\")\n",
    "    finally:\n",
    "        return training_losses"
   ]
  },
  {
   "cell_type": "markdown",
   "metadata": {},
   "source": [
    "Now we'll sanity check by overfitting the example data. Training loss should drop from untrained loss to something close to the minimum possible."
   ]
  },
  {
   "cell_type": "code",
   "execution_count": 12,
   "metadata": {},
   "outputs": [
    {
     "name": "stderr",
     "output_type": "stream",
     "text": [
      "Epochs: 100%|██████████| 20/20 [00:05<00:00,  3.39it/s]\n"
     ]
    }
   ],
   "source": [
    "training_losses = train(model, dataloader, epochs=40, lr=1e-3)"
   ]
  },
  {
   "cell_type": "code",
   "execution_count": 13,
   "metadata": {},
   "outputs": [
    {
     "data": {
      "application/vnd.vegalite.v2+json": {
       "$schema": "https://vega.github.io/schema/vega-lite/v2.6.0.json",
       "config": {
        "view": {
         "height": 300,
         "width": 400
        }
       },
       "data": {
        "name": "data-df367e70f78f1f392bad6af3622add17"
       },
       "datasets": {
        "data-df367e70f78f1f392bad6af3622add17": [
         {
          "epoch": 0,
          "training_loss": 5.17675730197326
         },
         {
          "epoch": 1,
          "training_loss": 2.210878323385681
         },
         {
          "epoch": 2,
          "training_loss": 1.4300382424523865
         },
         {
          "epoch": 3,
          "training_loss": 1.0130807993852573
         },
         {
          "epoch": 4,
          "training_loss": 0.7533858973478925
         },
         {
          "epoch": 5,
          "training_loss": 0.5684331916812537
         },
         {
          "epoch": 6,
          "training_loss": 0.4438259445562743
         },
         {
          "epoch": 7,
          "training_loss": 0.3526804317328809
         },
         {
          "epoch": 8,
          "training_loss": 0.2809533889040999
         },
         {
          "epoch": 9,
          "training_loss": 0.22533741857910503
         },
         {
          "epoch": 10,
          "training_loss": 0.18330445226983746
         },
         {
          "epoch": 11,
          "training_loss": 0.1513690959284271
         },
         {
          "epoch": 12,
          "training_loss": 0.12690871397870174
         },
         {
          "epoch": 13,
          "training_loss": 0.10617963653192788
         },
         {
          "epoch": 14,
          "training_loss": 0.08853978672456267
         },
         {
          "epoch": 15,
          "training_loss": 0.07481961531321639
         },
         {
          "epoch": 16,
          "training_loss": 0.06418296219646066
         },
         {
          "epoch": 17,
          "training_loss": 0.05474740586688985
         },
         {
          "epoch": 18,
          "training_loss": 0.04684947426194676
         },
         {
          "epoch": 19,
          "training_loss": 0.04092640867726742
         }
        ]
       },
       "encoding": {
        "x": {
         "field": "epoch",
         "type": "quantitative"
        },
        "y": {
         "field": "training_loss",
         "scale": {
          "type": "log"
         },
         "type": "quantitative"
        }
       },
       "mark": "bar"
      },
      "image/png": "[encoded data removed]",
      "text/plain": [
       "<VegaLite 2 object>\n",
       "\n",
       "If you see this message, it means the renderer has not been properly enabled\n",
       "for the frontend that you are using. For more information, see\n",
       "https://altair-viz.github.io/user_guide/troubleshooting.html\n"
      ]
     },
     "execution_count": 13,
     "metadata": {},
     "output_type": "execute_result"
    }
   ],
   "source": [
    "import altair as alt\n",
    "\n",
    "df_loss = pd.DataFrame(enumerate(training_losses), columns=[\"epoch\", \"training_loss\"])\n",
    "alt.Chart(df_loss).mark_bar().encode(alt.X(\"epoch\"), alt.Y(\"training_loss\", scale=alt.Scale(type=\"log\")))"
   ]
  },
  {
   "cell_type": "markdown",
   "metadata": {},
   "source": [
    "And because we're paranoid types, let's check a prediction."
   ]
  },
  {
   "cell_type": "code",
   "execution_count": 14,
   "metadata": {},
   "outputs": [
    {
     "data": {
      "text/plain": [
       "tensor([[  5.4153,  -6.8199, -14.9658,  -9.7804,  -8.2611,  -6.4867, -10.4060,\n",
       "          -8.6523,  -5.7432,  -7.9218,  -8.9243,  -8.5559, -12.1380, -12.8232,\n",
       "          -9.1359, -10.0534],\n",
       "        [  6.0904,  -8.8987, -10.8497, -10.0570, -10.6226,  -4.9423,  -7.0757,\n",
       "          -6.7900,  -8.8527, -11.0581,  -9.7890,  -8.5638,  -4.5691,  -8.9690,\n",
       "          -7.1827, -10.9382]])"
      ]
     },
     "execution_count": 14,
     "metadata": {},
     "output_type": "execute_result"
    }
   ],
   "source": [
    "with torch.no_grad():\n",
    "    logits = model.forward(**next(iter(dataloader)))\n",
    "logits"
   ]
  },
  {
   "cell_type": "markdown",
   "metadata": {},
   "source": [
    "The positive sample gets a positive score and the negatives get negative scores. Super."
   ]
  },
  {
   "cell_type": "markdown",
   "metadata": {},
   "source": [
    "We should be able get the paragraph vectors for the documents and do things like check these for similarity to one another."
   ]
  },
  {
   "cell_type": "code",
   "execution_count": 15,
   "metadata": {},
   "outputs": [
    {
     "name": "stdout",
     "output_type": "stream",
     "text": [
      "doc 0 similarity with doc 1: 0.22939909\n",
      "doc 0 similarity with doc 2: 0.1893123\n",
      "doc 0 similarity with doc 3: 0.009738863\n",
      "doc 0 similarity with doc 4: 0.2135438\n"
     ]
    }
   ],
   "source": [
    "from sklearn.metrics.pairwise import cosine_similarity\n",
    "\n",
    "def document_similarity(model, id0, id1):\n",
    "    doc0 = model.paragraph_matrix[id0,:].data\n",
    "    doc1 = model.paragraph_matrix[id1,:].data\n",
    "    return cosine_similarity(doc0.unsqueeze(dim=0), doc1.unsqueeze(dim=0))[0][0]\n",
    "\n",
    "print(\"doc 0 similarity with doc 1:\", document_similarity(model, 0, 1))\n",
    "print(\"doc 0 similarity with doc 2:\", document_similarity(model, 0, 2))\n",
    "print(\"doc 0 similarity with doc 3:\", document_similarity(model, 0, 3))\n",
    "print(\"doc 0 similarity with doc 4:\", document_similarity(model, 0, 4))"
   ]
  },
  {
   "cell_type": "markdown",
   "metadata": {},
   "source": [
    "It's not particularly illuminating for our tiny set of dummy data though. We can also use PCA to reduce our 300-dimensional paragraph vectors to 2 dimensions and see if they are clustered nicely."
   ]
  },
  {
   "cell_type": "code",
   "execution_count": 16,
   "metadata": {},
   "outputs": [
    {
     "data": {
      "application/vnd.vegalite.v2+json": {
       "$schema": "https://vega.github.io/schema/vega-lite/v2.6.0.json",
       "config": {
        "view": {
         "height": 300,
         "width": 400
        }
       },
       "data": {
        "name": "data-0ee7617236a5afd9ce57b34dbac69d14"
       },
       "datasets": {
        "data-0ee7617236a5afd9ce57b34dbac69d14": [
         {
          "group": "a",
          "x": 2.6035262620858055,
          "y": -0.8912510348830727
         },
         {
          "group": "a",
          "x": 1.7304632371412927,
          "y": -2.074166723275099
         },
         {
          "group": "a",
          "x": 1.836104891551956,
          "y": 2.724209181140549
         },
         {
          "group": "a",
          "x": 2.448327449479537,
          "y": 3.8530936227760972
         },
         {
          "group": "b",
          "x": 5.6964401678182774,
          "y": -2.2406810257849634
         },
         {
          "group": "b",
          "x": 2.657167711297472,
          "y": -2.170182053155787
         },
         {
          "group": "b",
          "x": -0.4675197717511075,
          "y": 3.0604063820910348
         },
         {
          "group": "b",
          "x": 0.35956874737004463,
          "y": -1.0027060365267075
         },
         {
          "group": "c",
          "x": -3.499826433749157,
          "y": 1.0153532671961427
         },
         {
          "group": "c",
          "x": -4.446114157145291,
          "y": -3.1202426115818165
         },
         {
          "group": "c",
          "x": -2.2049680598310704,
          "y": -3.8028689024343296
         },
         {
          "group": "c",
          "x": -2.646797060933728,
          "y": 2.2383859702592432
         },
         {
          "group": "d",
          "x": -0.439639980816271,
          "y": 2.11974376216156
         },
         {
          "group": "d",
          "x": -1.508042869633492,
          "y": -2.109850220564575
         },
         {
          "group": "d",
          "x": -2.455236623782523,
          "y": 1.4478026349882487
         },
         {
          "group": "d",
          "x": 0.33654649089825206,
          "y": 0.9529537875934774
         }
        ]
       },
       "encoding": {
        "color": {
         "field": "group",
         "type": "nominal"
        },
        "x": {
         "field": "x",
         "type": "quantitative"
        },
        "y": {
         "field": "y",
         "type": "quantitative"
        }
       },
       "mark": "point"
      },
      "image/png": "[encoded data removed]",
      "text/plain": [
       "<VegaLite 2 object>\n",
       "\n",
       "If you see this message, it means the renderer has not been properly enabled\n",
       "for the frontend that you are using. For more information, see\n",
       "https://altair-viz.github.io/user_guide/troubleshooting.html\n"
      ]
     },
     "execution_count": 16,
     "metadata": {},
     "output_type": "execute_result"
    }
   ],
   "source": [
    "from sklearn.decomposition import PCA\n",
    "from itertools import repeat, chain\n",
    "\n",
    "pca = PCA(n_components=2)\n",
    "\n",
    "reduced_dims = pca.fit_transform(model.paragraph_matrix.data)\n",
    "\n",
    "dx = pd.DataFrame(reduced_dims, columns=[\"x\", \"y\"])\n",
    "dx[\"group\"] = list(chain.from_iterable(repeat(c, 4) for c in (\"a\", \"b\", \"c\", \"d\")))  # because the example set intentionally includes dupes\n",
    "alt.Chart(dx).mark_point().encode(x=\"x\", y=\"y\", color=\"group\")"
   ]
  },
  {
   "cell_type": "markdown",
   "metadata": {},
   "source": [
    "Given that the documents are simply duplicated, this is rather disappointing. But it is a _tiny_ dataset."
   ]
  },
  {
   "cell_type": "markdown",
   "metadata": {},
   "source": [
    "Running this on some bigger data\n",
    "--------------------------------\n",
    "\n",
    "We'll use the BBC's dataset. The dataset was created by Derek Greene at UCD and all articles are copyright Auntie. I've munged it into a file per topic. I dropped the titles out of laziness."
   ]
  },
  {
   "cell_type": "code",
   "execution_count": 17,
   "metadata": {},
   "outputs": [
    {
     "name": "stdout",
     "output_type": "stream",
     "text": [
      "Error reading sport\n",
      "'utf-8' codec can't decode byte 0xa3 in position 257: invalid start byte\n"
     ]
    },
    {
     "data": {
      "text/html": [
       "<div>\n",
       "<style scoped>\n",
       "    .dataframe tbody tr th:only-of-type {\n",
       "        vertical-align: middle;\n",
       "    }\n",
       "\n",
       "    .dataframe tbody tr th {\n",
       "        vertical-align: top;\n",
       "    }\n",
       "\n",
       "    .dataframe thead th {\n",
       "        text-align: right;\n",
       "    }\n",
       "</style>\n",
       "<table border=\"1\" class=\"dataframe\">\n",
       "  <thead>\n",
       "    <tr style=\"text-align: right;\">\n",
       "      <th></th>\n",
       "      <th>text</th>\n",
       "      <th>tokens</th>\n",
       "      <th>group</th>\n",
       "    </tr>\n",
       "  </thead>\n",
       "  <tbody>\n",
       "    <tr>\n",
       "      <th>0</th>\n",
       "      <td>Ad sales boost Time Warner profit  Quarterly p...</td>\n",
       "      <td>[ad, sales, boost, time, warner, profit,  , qu...</td>\n",
       "      <td>business</td>\n",
       "    </tr>\n",
       "    <tr>\n",
       "      <th>1</th>\n",
       "      <td>Dollar gains on Greenspan speech  The dollar h...</td>\n",
       "      <td>[dollar, gains, on, greenspan, speech,  , the,...</td>\n",
       "      <td>business</td>\n",
       "    </tr>\n",
       "    <tr>\n",
       "      <th>2</th>\n",
       "      <td>Yukos unit buyer faces loan claim  The owners ...</td>\n",
       "      <td>[yukos, unit, buyer, faces, loan, claim,  , th...</td>\n",
       "      <td>business</td>\n",
       "    </tr>\n",
       "    <tr>\n",
       "      <th>3</th>\n",
       "      <td>High fuel prices hit BA's profits  British Air...</td>\n",
       "      <td>[high, fuel, prices, hit, ba, 's, profits,  , ...</td>\n",
       "      <td>business</td>\n",
       "    </tr>\n",
       "  </tbody>\n",
       "</table>\n",
       "</div>"
      ],
      "text/plain": [
       "                                                text  \\\n",
       "0  Ad sales boost Time Warner profit  Quarterly p...   \n",
       "1  Dollar gains on Greenspan speech  The dollar h...   \n",
       "2  Yukos unit buyer faces loan claim  The owners ...   \n",
       "3  High fuel prices hit BA's profits  British Air...   \n",
       "\n",
       "                                              tokens     group  \n",
       "0  [ad, sales, boost, time, warner, profit,  , qu...  business  \n",
       "1  [dollar, gains, on, greenspan, speech,  , the,...  business  \n",
       "2  [yukos, unit, buyer, faces, loan, claim,  , th...  business  \n",
       "3  [high, fuel, prices, hit, ba, 's, profits,  , ...  business  "
      ]
     },
     "execution_count": 17,
     "metadata": {},
     "output_type": "execute_result"
    }
   ],
   "source": [
    "dfs = []\n",
    "for document_set in (\"business\", \"politics\", \"tech\", \"sport\", \"entertainment\"):\n",
    "    try:\n",
    "        df_ = pd.read_csv(f\"data/bbc/{document_set}.csv.bz2\")\n",
    "        df_[\"tokens\"] = df_.text.str.lower().str.strip().apply(lambda x: [token.text for token in nlp(x)])\n",
    "        df_[\"group\"] = document_set\n",
    "        dfs.append(df_)\n",
    "    except Exception as err:\n",
    "        print(f\"Error reading {document_set}\")\n",
    "        print(err)\n",
    "\n",
    "df = pd.concat(dfs)\n",
    "df[:4]"
   ]
  },
  {
   "cell_type": "code",
   "execution_count": 18,
   "metadata": {},
   "outputs": [
    {
     "name": "stdout",
     "output_type": "stream",
     "text": [
      "Dataset comprises 1714 documents and 27177 unique words\n"
     ]
    }
   ],
   "source": [
    "vocab = Vocab([tok for tokens in df.tokens for tok in tokens])\n",
    "\n",
    "print(f\"Dataset comprises {len(df)} documents and {len(vocab.words)} unique words\")"
   ]
  },
  {
   "cell_type": "code",
   "execution_count": 19,
   "metadata": {},
   "outputs": [],
   "source": [
    "examples = example_generator(df, context_size=5, noise=noise, n_negative_samples=15, vocab=vocab)\n",
    "dataset = NCEDataset(examples)\n",
    "dataloader = DataLoader(dataset, batch_size=256, drop_last=True, shuffle=True)  # TODO could tolerate a larger batch size\n",
    "\n",
    "model = DistributedMemory(vec_dim=50,\n",
    "                          n_docs=len(df),\n",
    "                          n_words=len(vocab.words))"
   ]
  },
  {
   "cell_type": "code",
   "execution_count": 20,
   "metadata": {},
   "outputs": [
    {
     "name": "stderr",
     "output_type": "stream",
     "text": [
      "Epochs:  20%|██        | 8/40 [17:14<1:09:31, 130.36s/it]"
     ]
    },
    {
     "name": "stdout",
     "output_type": "stream",
     "text": [
      "Interrupted on epoch 8!\n"
     ]
    }
   ],
   "source": [
    "training_losses = train(model, dataloader, epochs=40, lr=1e-3)"
   ]
  },
  {
   "cell_type": "code",
   "execution_count": 21,
   "metadata": {},
   "outputs": [
    {
     "data": {
      "application/vnd.vegalite.v2+json": {
       "$schema": "https://vega.github.io/schema/vega-lite/v2.6.0.json",
       "config": {
        "view": {
         "height": 300,
         "width": 400
        }
       },
       "data": {
        "name": "data-50fbea73661a7d74dd29afd88ebb2615"
       },
       "datasets": {
        "data-50fbea73661a7d74dd29afd88ebb2615": [
         {
          "epoch": 0,
          "training_loss": 0.5566766431889908
         },
         {
          "epoch": 1,
          "training_loss": 0.3383696504738721
         },
         {
          "epoch": 2,
          "training_loss": 0.31405702033792954
         },
         {
          "epoch": 3,
          "training_loss": 0.2962573443502817
         },
         {
          "epoch": 4,
          "training_loss": 0.28149470202636906
         },
         {
          "epoch": 5,
          "training_loss": 0.2687058495475675
         },
         {
          "epoch": 6,
          "training_loss": 0.2574786102767885
         },
         {
          "epoch": 7,
          "training_loss": 0.2473697748893571
         }
        ]
       },
       "encoding": {
        "x": {
         "field": "epoch",
         "type": "quantitative"
        },
        "y": {
         "field": "training_loss",
         "type": "quantitative"
        }
       },
       "mark": "bar"
      },
      "image/png": "[encoded data removed]",
      "text/plain": [
       "<VegaLite 2 object>\n",
       "\n",
       "If you see this message, it means the renderer has not been properly enabled\n",
       "for the frontend that you are using. For more information, see\n",
       "https://altair-viz.github.io/user_guide/troubleshooting.html\n"
      ]
     },
     "execution_count": 21,
     "metadata": {},
     "output_type": "execute_result"
    }
   ],
   "source": [
    "alt.Chart(pd.DataFrame(enumerate(training_losses), columns=[\"epoch\", \"training_loss\"])).mark_bar().encode(x=\"epoch\", y=\"training_loss\")"
   ]
  },
  {
   "cell_type": "markdown",
   "metadata": {},
   "source": [
    "Let's take a look at the reduced dimensionality paragraph vectors."
   ]
  },
  {
   "cell_type": "code",
   "execution_count": 37,
   "metadata": {},
   "outputs": [
    {
     "data": {
      "application/vnd.vegalite.v2+json": {
       "$schema": "https://vega.github.io/schema/vega-lite/v2.6.0.json",
       "config": {
        "view": {
         "height": 300,
         "width": 400
        }
       },
       "data": {
        "name": "data-96ef966300d22de8b0e81bfa02315cca"
       },
       "datasets": {
        "data-96ef966300d22de8b0e81bfa02315cca": [
         {
          "group": "business",
          "x": 0.4283959772798253,
          "y": -0.8349629383154329
         },
         {
          "group": "business",
          "x": -0.6420578024834114,
          "y": -0.26737583239917834
         },
         {
          "group": "business",
          "x": -0.6743114687182449,
          "y": -1.2516319880427582
         },
         {
          "group": "business",
          "x": -0.7646444351738958,
          "y": -1.9800622221909039
         },
         {
          "group": "business",
          "x": 0.9116243962650857,
          "y": 1.024538003197283
         },
         {
          "group": "business",
          "x": -0.08940988523857135,
          "y": 1.6012144206785932
         },
         {
          "group": "business",
          "x": 0.9626155716033784,
          "y": -0.8169500578650039
         },
         {
          "group": "business",
          "x": 2.0614064452976057,
          "y": -0.4684911958605013
         },
         {
          "group": "business",
          "x": -0.4403775058126446,
          "y": 1.4287427260973753
         },
         {
          "group": "business",
          "x": -1.9944162572914255,
          "y": -0.7946074688296864
         },
         {
          "group": "business",
          "x": 0.47739627248959726,
          "y": -0.8330493192138931
         },
         {
          "group": "business",
          "x": -1.4001992656557707,
          "y": -0.27974765160976006
         },
         {
          "group": "business",
          "x": -0.0976212298219467,
          "y": -1.1831760629613297
         },
         {
          "group": "business",
          "x": -0.14287261620765343,
          "y": 0.055976704569260516
         },
         {
          "group": "business",
          "x": -1.1112741520337388,
          "y": 0.12154472458126679
         },
         {
          "group": "business",
          "x": -2.474520462978387,
          "y": 2.0517396719303482
         },
         {
          "group": "business",
          "x": -0.9485290306023799,
          "y": -0.5946218715944979
         },
         {
          "group": "business",
          "x": -2.0960687673986005,
          "y": -1.3114660599704968
         },
         {
          "group": "business",
          "x": 0.23736767370812475,
          "y": -0.7630346555254371
         },
         {
          "group": "business",
          "x": -0.03808241662630915,
          "y": 0.3778887143065211
         },
         {
          "group": "business",
          "x": -1.5844829921705148,
          "y": -1.0145454014657196
         },
         {
          "group": "business",
          "x": -3.04915230931797,
          "y": 1.0592054278800025
         },
         {
          "group": "business",
          "x": 0.21871039530857803,
          "y": 0.42205861905258557
         },
         {
          "group": "business",
          "x": 2.019114391791749,
          "y": -2.6158158024369977
         },
         {
          "group": "business",
          "x": 0.7484495326615875,
          "y": -1.6485505405647762
         },
         {
          "group": "business",
          "x": -2.3806410736496066,
          "y": 0.46507962346134324
         },
         {
          "group": "business",
          "x": -0.5113111959092775,
          "y": 0.38532606445166084
         },
         {
          "group": "business",
          "x": -1.1225697869814688,
          "y": 0.5037083855531768
         },
         {
          "group": "business",
          "x": -1.2986235111281774,
          "y": 0.19242224227445218
         },
         {
          "group": "business",
          "x": 1.4784571468033698,
          "y": 0.5480127119585858
         },
         {
          "group": "business",
          "x": -1.2349666530796533,
          "y": -0.5855955222250446
         },
         {
          "group": "business",
          "x": -0.9119320890760227,
          "y": 0.4632546892552918
         },
         {
          "group": "business",
          "x": -1.7583796621507572,
          "y": 0.5128752510438442
         },
         {
          "group": "business",
          "x": 0.3362556625994639,
          "y": -0.26164704152982526
         },
         {
          "group": "business",
          "x": -0.47289309647174804,
          "y": -0.11050647244214085
         },
         {
          "group": "business",
          "x": -2.5770078663844775,
          "y": -1.0129809589490348
         },
         {
          "group": "business",
          "x": -3.490122512674458,
          "y": -0.023388985272674308
         },
         {
          "group": "business",
          "x": -1.2522746091162553,
          "y": -1.9457042677255487
         },
         {
          "group": "business",
          "x": -2.53687979511324,
          "y": -0.7272474080900357
         },
         {
          "group": "business",
          "x": -0.8997908226111472,
          "y": 1.539034515591222
         },
         {
          "group": "business",
          "x": -2.1660612912303097,
          "y": -0.4776924158233879
         },
         {
          "group": "business",
          "x": -2.4149661137125644,
          "y": -0.5589792225347209
         },
         {
          "group": "business",
          "x": 0.39691290394263257,
          "y": -1.0993744892624655
         },
         {
          "group": "business",
          "x": -0.6025370464049606,
          "y": -0.6085226150657268
         },
         {
          "group": "business",
          "x": -0.5552229923116014,
          "y": -1.0831506547764103
         },
         {
          "group": "business",
          "x": -1.6814582642445204,
          "y": 1.3933954400815278
         },
         {
          "group": "business",
          "x": 1.3227707206580384,
          "y": -1.426488080161928
         },
         {
          "group": "business",
          "x": -2.2176482913582762,
          "y": 1.1570997339224103
         },
         {
          "group": "business",
          "x": -0.9286104957141711,
          "y": 0.18525446431541892
         },
         {
          "group": "business",
          "x": -0.5874928035634853,
          "y": 0.9315894027051621
         },
         {
          "group": "business",
          "x": -0.6510951824567535,
          "y": 0.244326689606473
         },
         {
          "group": "business",
          "x": -0.37842950268892933,
          "y": -1.2450538921302174
         },
         {
          "group": "business",
          "x": -0.16348735946996815,
          "y": -0.9738102546816901
         },
         {
          "group": "business",
          "x": -0.5749480768205807,
          "y": -1.1934623021298219
         },
         {
          "group": "business",
          "x": 1.0669343188442812,
          "y": 0.09455946533744684
         },
         {
          "group": "business",
          "x": -1.9909733944891042,
          "y": 0.489304712194885
         },
         {
          "group": "business",
          "x": 0.5518323315241975,
          "y": 1.4747634697709375
         },
         {
          "group": "business",
          "x": -1.5784151556442376,
          "y": 0.3413820986104511
         },
         {
          "group": "business",
          "x": -0.07859326576252484,
          "y": -2.4608857593984776
         },
         {
          "group": "business",
          "x": -1.2247467626710578,
          "y": -0.8856734318144642
         },
         {
          "group": "business",
          "x": 1.0967149661400872,
          "y": -0.15919034197390608
         },
         {
          "group": "business",
          "x": -1.084599639132771,
          "y": -0.6761836085752524
         },
         {
          "group": "business",
          "x": -0.4696300292245734,
          "y": -0.20993944686658436
         },
         {
          "group": "business",
          "x": -0.08623406521296295,
          "y": -0.16270770407769214
         },
         {
          "group": "business",
          "x": 0.013223370586812102,
          "y": -0.5332104327302726
         },
         {
          "group": "business",
          "x": -1.851579942365076,
          "y": 1.0137771185811533
         },
         {
          "group": "business",
          "x": -0.07329945900095523,
          "y": -0.1682278546761122
         },
         {
          "group": "business",
          "x": -2.1855207613589243,
          "y": 0.45356655375256444
         },
         {
          "group": "business",
          "x": -0.4495551324633011,
          "y": 0.305245942688078
         },
         {
          "group": "business",
          "x": 0.18862115450012987,
          "y": 1.6688262036410766
         },
         {
          "group": "business",
          "x": -0.7021399111493739,
          "y": 0.7423403275707703
         },
         {
          "group": "business",
          "x": -3.79031918080597,
          "y": 0.6832725292581779
         },
         {
          "group": "business",
          "x": -0.07602245998836453,
          "y": -2.5219847645146656
         },
         {
          "group": "business",
          "x": 0.2656888231016533,
          "y": -0.005774220779512564
         },
         {
          "group": "business",
          "x": -1.6502338068595523,
          "y": 0.24145565688899562
         },
         {
          "group": "business",
          "x": -1.8208148570073885,
          "y": 0.5984283783588421
         },
         {
          "group": "business",
          "x": -1.9681737300315243,
          "y": -1.0896029637854021
         },
         {
          "group": "business",
          "x": 0.767912116160804,
          "y": -0.8044942835349037
         },
         {
          "group": "business",
          "x": -0.5790748963306821,
          "y": 0.3101344067152981
         },
         {
          "group": "business",
          "x": -0.7172182395622546,
          "y": -0.09514295034169591
         },
         {
          "group": "business",
          "x": -1.2621677599898105,
          "y": -0.2285698031043361
         },
         {
          "group": "business",
          "x": 1.7299831472952938,
          "y": 0.6337677050776824
         },
         {
          "group": "business",
          "x": -1.890872957779277,
          "y": 0.3995471315226294
         },
         {
          "group": "business",
          "x": -0.9238393128644137,
          "y": 0.14187030148545596
         },
         {
          "group": "business",
          "x": -0.45994886524698836,
          "y": -1.2615047985078862
         },
         {
          "group": "business",
          "x": -1.521721865172946,
          "y": -0.5181951831309846
         },
         {
          "group": "business",
          "x": -0.9791518479861183,
          "y": -0.13627237116631388
         },
         {
          "group": "business",
          "x": 1.6283006888439466,
          "y": -2.673628690182715
         },
         {
          "group": "business",
          "x": 0.1481902920089369,
          "y": -0.6738126337375704
         },
         {
          "group": "business",
          "x": -0.52636161945517,
          "y": -1.8978643009270357
         },
         {
          "group": "business",
          "x": -1.696916075260163,
          "y": -1.3016268781146476
         },
         {
          "group": "business",
          "x": 0.4341185899842505,
          "y": 0.4766246840637769
         },
         {
          "group": "business",
          "x": 0.9405982782462916,
          "y": 0.5639860019275161
         },
         {
          "group": "business",
          "x": -2.466671451844421,
          "y": -1.3576769118902936
         },
         {
          "group": "business",
          "x": 0.7106551704985594,
          "y": -1.193610466191533
         },
         {
          "group": "business",
          "x": 0.2602461192598676,
          "y": -1.1459237335951815
         },
         {
          "group": "business",
          "x": -1.1812887855194856,
          "y": 3.7989476874470465
         },
         {
          "group": "business",
          "x": 0.07253146292351319,
          "y": -1.1906094784751593
         },
         {
          "group": "business",
          "x": -1.8511541670891096,
          "y": 0.11069090925725096
         },
         {
          "group": "business",
          "x": 1.1449213933705211,
          "y": -0.4649714614507755
         },
         {
          "group": "business",
          "x": 0.3557094656908597,
          "y": -0.19716897966651184
         },
         {
          "group": "business",
          "x": -2.3545232731358925,
          "y": -0.4342885899907099
         },
         {
          "group": "business",
          "x": -1.6263197407090653,
          "y": -0.198296131457516
         },
         {
          "group": "business",
          "x": 1.2923446572349133,
          "y": 0.6778370654149015
         },
         {
          "group": "business",
          "x": 1.1917644639509308,
          "y": -0.7138165869110862
         },
         {
          "group": "business",
          "x": -3.1062944100298413,
          "y": 1.3796925655341767
         },
         {
          "group": "business",
          "x": -0.24520379563762215,
          "y": -0.6865317462085337
         },
         {
          "group": "business",
          "x": -0.4592203775327807,
          "y": -0.2509939838198241
         },
         {
          "group": "business",
          "x": -0.5533292144946218,
          "y": -0.5281101957804315
         },
         {
          "group": "business",
          "x": -0.5753511001760638,
          "y": 0.6757352235280761
         },
         {
          "group": "business",
          "x": 0.20790355722315076,
          "y": 0.2500199559820177
         },
         {
          "group": "business",
          "x": -0.1494699234057678,
          "y": 1.7682461599077952
         },
         {
          "group": "business",
          "x": 0.5581118350619019,
          "y": -1.2901937353290531
         },
         {
          "group": "business",
          "x": 0.21281777799669604,
          "y": -1.2454717902073902
         },
         {
          "group": "business",
          "x": -1.1905150047138002,
          "y": -1.4567050062648144
         },
         {
          "group": "business",
          "x": -1.9104394047857098,
          "y": 1.302326557194521
         },
         {
          "group": "business",
          "x": -1.7683080694661761,
          "y": 0.43056894789783806
         },
         {
          "group": "business",
          "x": 0.20556848631833505,
          "y": 0.20360704942668587
         },
         {
          "group": "business",
          "x": -1.0085809513267507,
          "y": -0.9454974964718543
         },
         {
          "group": "business",
          "x": -0.21791250818782132,
          "y": 0.04983487735405037
         },
         {
          "group": "business",
          "x": 0.06247956147284499,
          "y": 0.08158217810629509
         },
         {
          "group": "business",
          "x": -1.2336973929424173,
          "y": -1.9912371913863784
         },
         {
          "group": "business",
          "x": 0.08614048167315418,
          "y": -0.7795206672459338
         },
         {
          "group": "business",
          "x": -0.8183078539041084,
          "y": -0.257943985343744
         },
         {
          "group": "business",
          "x": -3.2088357271659618,
          "y": -0.019252479806850558
         },
         {
          "group": "business",
          "x": -2.9390203562859645,
          "y": 0.8059068930774742
         },
         {
          "group": "business",
          "x": -0.39059438606267444,
          "y": 1.4000737768435716
         },
         {
          "group": "business",
          "x": 0.1573323500910008,
          "y": -0.7836510284570057
         },
         {
          "group": "business",
          "x": -0.0850115058728168,
          "y": 0.17941317245953645
         },
         {
          "group": "business",
          "x": -0.5062748088393936,
          "y": 0.24816704799676068
         },
         {
          "group": "business",
          "x": -1.2790515215795497,
          "y": 0.14028921861258906
         },
         {
          "group": "business",
          "x": 0.5040836198484714,
          "y": 1.0952148724701647
         },
         {
          "group": "business",
          "x": -2.3056363646248585,
          "y": -0.8005859473203691
         },
         {
          "group": "business",
          "x": 0.26572129944805023,
          "y": -1.4459781402286587
         },
         {
          "group": "business",
          "x": -0.11185624567513769,
          "y": -0.9331552281959812
         },
         {
          "group": "business",
          "x": -0.872420618174824,
          "y": 0.4403579415543124
         },
         {
          "group": "business",
          "x": -2.4966723228321235,
          "y": -0.669390990339082
         },
         {
          "group": "business",
          "x": -0.8092022856670472,
          "y": 0.16610789553739466
         },
         {
          "group": "business",
          "x": -2.217494866842703,
          "y": -1.161642881508235
         },
         {
          "group": "business",
          "x": -1.368217192332896,
          "y": 0.6278451885447388
         },
         {
          "group": "business",
          "x": 0.9388152520650072,
          "y": -1.7531056977656492
         },
         {
          "group": "business",
          "x": 0.5043250892552228,
          "y": -0.9937362071921191
         },
         {
          "group": "business",
          "x": 0.6281531724814718,
          "y": 1.9293497900858576
         },
         {
          "group": "business",
          "x": -1.3480887684033476,
          "y": -0.060470522200733484
         },
         {
          "group": "business",
          "x": 1.8129733808264783,
          "y": -0.8661788463263146
         },
         {
          "group": "business",
          "x": -0.7729678868939781,
          "y": 0.46456426009227775
         },
         {
          "group": "business",
          "x": -0.8637895433381866,
          "y": -0.4932956770711889
         },
         {
          "group": "business",
          "x": -0.8775531117111259,
          "y": 0.34137234237255315
         },
         {
          "group": "business",
          "x": -1.8054892918154788,
          "y": -1.8204038591992011
         },
         {
          "group": "business",
          "x": -1.561407979928205,
          "y": 0.8930609662672935
         },
         {
          "group": "business",
          "x": 0.6957950327596929,
          "y": -0.21966704390509514
         },
         {
          "group": "business",
          "x": 0.03092186469168619,
          "y": 0.003680829268139435
         },
         {
          "group": "business",
          "x": 0.09156022477551093,
          "y": -1.503385662721389
         },
         {
          "group": "business",
          "x": -1.1828560121897025,
          "y": -1.6166269061188527
         },
         {
          "group": "business",
          "x": -0.5128616748876109,
          "y": 0.5235890356378758
         },
         {
          "group": "business",
          "x": -0.1506457003727963,
          "y": 0.30413246068495076
         },
         {
          "group": "business",
          "x": -2.2284834033730276,
          "y": 0.34971940045722927
         },
         {
          "group": "business",
          "x": -1.1010824398756247,
          "y": 1.058306863865775
         },
         {
          "group": "business",
          "x": 1.268314016471464,
          "y": -0.453115313584931
         },
         {
          "group": "business",
          "x": -0.9721136651549521,
          "y": -1.2289687910999547
         },
         {
          "group": "business",
          "x": 0.6033955901558643,
          "y": 0.640681649237302
         },
         {
          "group": "business",
          "x": 0.5238682093673723,
          "y": -1.7564741875639158
         },
         {
          "group": "business",
          "x": 0.861069685320128,
          "y": 0.6930948339034628
         },
         {
          "group": "business",
          "x": -1.4686018510269934,
          "y": -1.4573872408938522
         },
         {
          "group": "business",
          "x": -1.7248183256751688,
          "y": -1.774895957759007
         },
         {
          "group": "business",
          "x": -0.44676526842956543,
          "y": -0.2842544952090992
         },
         {
          "group": "business",
          "x": 1.3898435767946287,
          "y": -0.3869801430997011
         },
         {
          "group": "business",
          "x": -0.5270767132883571,
          "y": -0.8670311351025874
         },
         {
          "group": "business",
          "x": -2.2983390594792823,
          "y": -0.5329759590066591
         },
         {
          "group": "business",
          "x": -2.0656109015788804,
          "y": 0.7144042959608524
         },
         {
          "group": "business",
          "x": -1.219102355610339,
          "y": -0.18348613286050108
         },
         {
          "group": "business",
          "x": -1.2091114531200249,
          "y": 2.028354773073927
         },
         {
          "group": "business",
          "x": -2.3548442436642647,
          "y": -1.5335579486587443
         },
         {
          "group": "business",
          "x": 1.4498562598403293,
          "y": -1.8761637263504454
         },
         {
          "group": "business",
          "x": 0.33426843568455006,
          "y": 0.5335944169449659
         },
         {
          "group": "business",
          "x": -0.31950494041838223,
          "y": -0.4689102895499043
         },
         {
          "group": "business",
          "x": 1.7619325162238617,
          "y": -1.0857672199214545
         },
         {
          "group": "business",
          "x": -0.02080311196544,
          "y": -1.793266542366793
         },
         {
          "group": "business",
          "x": -1.0675446630998422,
          "y": -0.882951071604051
         },
         {
          "group": "business",
          "x": -0.8682076011285953,
          "y": -0.6789967435066102
         },
         {
          "group": "business",
          "x": 0.7303841464903293,
          "y": -0.4151422641218672
         },
         {
          "group": "business",
          "x": -1.1261490860068888,
          "y": -1.205513408950698
         },
         {
          "group": "business",
          "x": -0.6073747751726495,
          "y": -0.03020956260150543
         },
         {
          "group": "business",
          "x": 0.1317219569714249,
          "y": 0.10825836992101905
         },
         {
          "group": "business",
          "x": 0.15494337011791584,
          "y": -0.6029620555672185
         },
         {
          "group": "business",
          "x": -1.5576871284039202,
          "y": -0.5082876238265398
         },
         {
          "group": "business",
          "x": -0.2201420352393843,
          "y": 1.1743472514701099
         },
         {
          "group": "business",
          "x": 0.31926369222374096,
          "y": 0.17439301123011636
         },
         {
          "group": "business",
          "x": -1.6123032181141057,
          "y": -0.7635419500092602
         },
         {
          "group": "business",
          "x": -0.15414060404407026,
          "y": -2.7356489234761883
         },
         {
          "group": "business",
          "x": -1.7339188219866577,
          "y": 0.4087952986816274
         },
         {
          "group": "business",
          "x": -0.40466269382598613,
          "y": -0.6723793464343084
         },
         {
          "group": "business",
          "x": -0.16342409484267897,
          "y": 0.2957860437837782
         },
         {
          "group": "business",
          "x": 0.33359818276667136,
          "y": -0.3171277945679598
         },
         {
          "group": "business",
          "x": -0.464791943973661,
          "y": -0.34019713848045074
         },
         {
          "group": "business",
          "x": 0.1188732920364086,
          "y": 0.004524090252475477
         },
         {
          "group": "business",
          "x": 0.6589150893816527,
          "y": -2.010181262765983
         },
         {
          "group": "business",
          "x": -1.3749239918037468,
          "y": -0.32024921750272606
         },
         {
          "group": "business",
          "x": -0.42017436520211593,
          "y": 0.12349970535548355
         },
         {
          "group": "business",
          "x": 1.449244687322846,
          "y": -0.7067658229824252
         },
         {
          "group": "business",
          "x": -0.901783965404256,
          "y": 0.05673757773808832
         },
         {
          "group": "business",
          "x": -0.5218073507882951,
          "y": -2.3034968128061486
         },
         {
          "group": "business",
          "x": 1.2179928774904853,
          "y": 0.0580682920037927
         },
         {
          "group": "business",
          "x": -0.46356996846406556,
          "y": 0.40909696641354293
         },
         {
          "group": "business",
          "x": -2.5432169755138436,
          "y": -0.6407275310281365
         },
         {
          "group": "business",
          "x": -0.6511463508496285,
          "y": 0.21923731592449386
         },
         {
          "group": "business",
          "x": 0.5206281700748957,
          "y": 0.8333306433300149
         },
         {
          "group": "business",
          "x": 0.6063981539054242,
          "y": 0.17654397122955812
         },
         {
          "group": "business",
          "x": 0.649856333053554,
          "y": -0.7767349948288198
         },
         {
          "group": "business",
          "x": 0.5586087207974322,
          "y": 1.464231069954088
         },
         {
          "group": "business",
          "x": -0.7535164170380491,
          "y": -0.33450295125669605
         },
         {
          "group": "business",
          "x": -0.21708116010479278,
          "y": -0.6967185068281424
         },
         {
          "group": "business",
          "x": -0.49592944576951964,
          "y": 0.301051298701651
         },
         {
          "group": "business",
          "x": -1.6135657469485596,
          "y": -1.1053526768294188
         },
         {
          "group": "business",
          "x": -0.5045380639693238,
          "y": -1.3385803329320811
         },
         {
          "group": "business",
          "x": 0.0774791643958447,
          "y": -1.374211933553142
         },
         {
          "group": "business",
          "x": -1.818156060819296,
          "y": -0.5722810591850047
         },
         {
          "group": "business",
          "x": -1.143275500199758,
          "y": -2.032240473400066
         },
         {
          "group": "business",
          "x": -0.6361995925825646,
          "y": -1.5055001985239462
         },
         {
          "group": "business",
          "x": -0.8865143515068609,
          "y": 0.1186903208245876
         },
         {
          "group": "business",
          "x": 0.6989007338228821,
          "y": -1.2694193554982816
         },
         {
          "group": "business",
          "x": -1.5827264802430856,
          "y": -0.2938664361970992
         },
         {
          "group": "business",
          "x": -1.3936800398376654,
          "y": 0.15650767547571914
         },
         {
          "group": "business",
          "x": -0.3668556869687086,
          "y": -2.7362794568948647
         },
         {
          "group": "business",
          "x": 0.6929773582452169,
          "y": 1.772390836207407
         },
         {
          "group": "business",
          "x": -0.5421971049934554,
          "y": 0.8146657749873449
         },
         {
          "group": "business",
          "x": 0.34709284260007756,
          "y": 0.000534604231660094
         },
         {
          "group": "business",
          "x": 1.8402955447135234,
          "y": -1.2082974304161578
         },
         {
          "group": "business",
          "x": -0.9148936008441573,
          "y": -2.2407331452567454
         },
         {
          "group": "business",
          "x": -1.428257936954435,
          "y": 1.0024580456377934
         },
         {
          "group": "business",
          "x": -1.8819651873068215,
          "y": -1.8372656578871804
         },
         {
          "group": "business",
          "x": 0.7809101837290009,
          "y": -0.9748560226671594
         },
         {
          "group": "business",
          "x": -1.5040561410113025,
          "y": 0.3593407054540062
         },
         {
          "group": "business",
          "x": -0.3359208352405432,
          "y": -0.7928732312152058
         },
         {
          "group": "business",
          "x": -0.12298080154918266,
          "y": 1.115293979810376
         },
         {
          "group": "business",
          "x": 1.1390690695929835,
          "y": 1.1355770309059516
         },
         {
          "group": "business",
          "x": -0.6302044846526991,
          "y": -0.48143575832425045
         },
         {
          "group": "business",
          "x": -1.976986026928571,
          "y": 0.11766505188140441
         },
         {
          "group": "business",
          "x": 1.3046853946357893,
          "y": -1.7104277242933978
         },
         {
          "group": "business",
          "x": 0.8784842032996732,
          "y": -0.40527692213429867
         },
         {
          "group": "business",
          "x": 0.4412602993308115,
          "y": 1.4944804143193755
         },
         {
          "group": "business",
          "x": 1.3350256403875687,
          "y": -1.9500818169759468
         },
         {
          "group": "business",
          "x": 0.44326469712378885,
          "y": -2.051434747030361
         },
         {
          "group": "business",
          "x": 0.34760556070766985,
          "y": 1.0463469793975984
         },
         {
          "group": "business",
          "x": -1.587225677515636,
          "y": 0.4266161122652004
         },
         {
          "group": "business",
          "x": -0.6251146734672894,
          "y": 0.47607753453002494
         },
         {
          "group": "business",
          "x": 1.215110539951404,
          "y": -0.6538525486107758
         },
         {
          "group": "business",
          "x": -0.501626126846094,
          "y": 1.0733401355815166
         },
         {
          "group": "business",
          "x": -1.4661365662649084,
          "y": 0.4078363240338339
         },
         {
          "group": "business",
          "x": -0.07682037205721295,
          "y": -1.9411467348125524
         },
         {
          "group": "business",
          "x": 0.13192198600724767,
          "y": -0.24279317928462843
         },
         {
          "group": "business",
          "x": 1.4956458147605698,
          "y": -1.1079039513657578
         },
         {
          "group": "business",
          "x": 0.5948742092515139,
          "y": -0.5524725601493793
         },
         {
          "group": "business",
          "x": 0.1530779365161452,
          "y": -0.23399743715883184
         },
         {
          "group": "business",
          "x": -1.196511239793159,
          "y": 0.46066487985593885
         },
         {
          "group": "business",
          "x": -2.479303833557804,
          "y": -0.21255807289854642
         },
         {
          "group": "business",
          "x": -1.1657430366471764,
          "y": -2.1757022213750616
         },
         {
          "group": "business",
          "x": -0.3337470099711403,
          "y": -0.36167069459313556
         },
         {
          "group": "business",
          "x": -0.913864297515188,
          "y": -2.1533758275328525
         },
         {
          "group": "business",
          "x": -2.109442942311686,
          "y": -0.038836377880475
         },
         {
          "group": "business",
          "x": -2.9411645504225365,
          "y": 0.7206320984431194
         },
         {
          "group": "business",
          "x": -0.9781915872078588,
          "y": 1.5680957147255898
         },
         {
          "group": "business",
          "x": -1.2812850757550378,
          "y": -0.40958608067910296
         },
         {
          "group": "business",
          "x": -1.0059447116374782,
          "y": -0.24028610148391125
         },
         {
          "group": "business",
          "x": -1.1118513677629258,
          "y": 1.1202698391755581
         },
         {
          "group": "business",
          "x": 0.3473043975436307,
          "y": 0.752235711721457
         },
         {
          "group": "business",
          "x": -0.8983611674890085,
          "y": -1.3637079246530954
         },
         {
          "group": "business",
          "x": 0.6268217675608296,
          "y": 0.03545626422041659
         },
         {
          "group": "business",
          "x": -0.8756634121846285,
          "y": 1.1687702467396528
         },
         {
          "group": "business",
          "x": -1.2248049177363483,
          "y": -1.3312366833246605
         },
         {
          "group": "business",
          "x": 0.9186658852049909,
          "y": 0.3227301811091897
         },
         {
          "group": "business",
          "x": 0.023373887041164984,
          "y": 0.1221305747150057
         },
         {
          "group": "business",
          "x": -0.10266401525287132,
          "y": 0.6884528198713201
         },
         {
          "group": "business",
          "x": 1.1999732760551782,
          "y": 0.7460867370731153
         },
         {
          "group": "business",
          "x": -0.3986957165267773,
          "y": 0.09664292132914962
         },
         {
          "group": "business",
          "x": 0.761958423013153,
          "y": -0.29990155297544063
         },
         {
          "group": "business",
          "x": -0.565132186901689,
          "y": -0.6478648255739728
         },
         {
          "group": "business",
          "x": 0.8739899636473112,
          "y": -3.0000396394678073
         },
         {
          "group": "business",
          "x": 0.5415024967657739,
          "y": 0.20882021467861137
         },
         {
          "group": "business",
          "x": -0.35385181785616576,
          "y": 0.40736177433946996
         },
         {
          "group": "business",
          "x": -1.2060214969710883,
          "y": -0.10934211882841563
         },
         {
          "group": "business",
          "x": -1.1922156758592433,
          "y": -1.3237676775059555
         },
         {
          "group": "business",
          "x": -1.203402522360648,
          "y": 0.9859489635409368
         },
         {
          "group": "business",
          "x": 0.9113349723068563,
          "y": -0.7786529599635685
         },
         {
          "group": "business",
          "x": -1.7956150760775333,
          "y": -1.4406743135164684
         },
         {
          "group": "business",
          "x": 0.4560173314191492,
          "y": -0.022120240624923612
         },
         {
          "group": "business",
          "x": -1.4509211468938548,
          "y": -3.073272818197922
         },
         {
          "group": "business",
          "x": -0.3166575828480082,
          "y": -0.5097644550669082
         },
         {
          "group": "business",
          "x": -1.8559577924871007,
          "y": 0.1634595028796458
         },
         {
          "group": "business",
          "x": -0.9179031742102732,
          "y": -0.5675131438183766
         },
         {
          "group": "business",
          "x": -0.5233506440110595,
          "y": 0.2842894496930644
         },
         {
          "group": "business",
          "x": 1.1778663082040282,
          "y": -0.36356159286453105
         },
         {
          "group": "business",
          "x": -0.28220196245528534,
          "y": -1.3244386269892197
         },
         {
          "group": "business",
          "x": 0.2879723344960773,
          "y": -0.332119597746615
         },
         {
          "group": "business",
          "x": -1.2297941613436558,
          "y": -0.1980792347205774
         },
         {
          "group": "business",
          "x": 0.3117162546693367,
          "y": -0.10535229501926253
         },
         {
          "group": "business",
          "x": 0.06459433180389788,
          "y": -1.525398440206815
         },
         {
          "group": "business",
          "x": -0.2705449897324039,
          "y": -1.2516431887518327
         },
         {
          "group": "business",
          "x": 0.46312320942704416,
          "y": -1.1476416028432452
         },
         {
          "group": "business",
          "x": -0.9409670515791717,
          "y": -0.6837982364490407
         },
         {
          "group": "business",
          "x": 0.10140773282459871,
          "y": 0.044563320452841414
         },
         {
          "group": "business",
          "x": 0.1418321257104331,
          "y": -1.3673249436700396
         },
         {
          "group": "business",
          "x": 0.025762090895099482,
          "y": -2.671257440057119
         },
         {
          "group": "business",
          "x": -1.99886225056907,
          "y": -1.212439864138433
         },
         {
          "group": "business",
          "x": -0.8314656897578011,
          "y": 0.48492540879119195
         },
         {
          "group": "business",
          "x": -0.29756065977544693,
          "y": 0.32260348889106166
         },
         {
          "group": "business",
          "x": -1.4088318185644892,
          "y": 0.2877064101240303
         },
         {
          "group": "business",
          "x": 0.031407112350266456,
          "y": 1.1442202470672334
         },
         {
          "group": "business",
          "x": -0.9366171407094421,
          "y": -0.46436875863776
         },
         {
          "group": "business",
          "x": -0.12015907382648104,
          "y": -1.6772046024205145
         },
         {
          "group": "business",
          "x": -1.931150068087168,
          "y": -0.2616310466731686
         },
         {
          "group": "business",
          "x": -1.7692036987156377,
          "y": -2.191977701444808
         },
         {
          "group": "business",
          "x": -1.5697350252898388,
          "y": -1.1948181020101045
         },
         {
          "group": "business",
          "x": 0.13708984143201933,
          "y": -0.9491317947886666
         },
         {
          "group": "business",
          "x": -1.6383761509120318,
          "y": -0.31756685385850536
         },
         {
          "group": "business",
          "x": -2.308965158901882,
          "y": 0.5518582811860113
         },
         {
          "group": "business",
          "x": -0.692909889122611,
          "y": 1.528719462581439
         },
         {
          "group": "business",
          "x": -1.1032069030407412,
          "y": 1.3593182097659968
         },
         {
          "group": "business",
          "x": -2.7322886304884526,
          "y": 0.10978239079248597
         },
         {
          "group": "business",
          "x": -0.08673571814664623,
          "y": -1.3675153516391387
         },
         {
          "group": "business",
          "x": -0.5480669329133041,
          "y": 0.1928148394787802
         },
         {
          "group": "business",
          "x": -0.01760000000735404,
          "y": -0.011652091998477936
         },
         {
          "group": "business",
          "x": 1.0814788127597919,
          "y": -0.10077781807906953
         },
         {
          "group": "business",
          "x": -0.6370179429956002,
          "y": -1.310754206108178
         },
         {
          "group": "business",
          "x": -0.14408360577295204,
          "y": -0.6110647083650773
         },
         {
          "group": "business",
          "x": 0.3837034277654348,
          "y": 0.3091437701917498
         },
         {
          "group": "business",
          "x": -2.1329716579062628,
          "y": 0.10456444816033077
         },
         {
          "group": "business",
          "x": -0.05787094060185944,
          "y": -1.432998575569575
         },
         {
          "group": "business",
          "x": -0.9239825207844027,
          "y": 0.022242213445352408
         },
         {
          "group": "business",
          "x": -2.9349690752759496,
          "y": -0.3007656573028994
         },
         {
          "group": "business",
          "x": 1.0922021147417935,
          "y": -1.1356919675505495
         },
         {
          "group": "business",
          "x": 0.0648117393169987,
          "y": -1.201343012429257
         },
         {
          "group": "business",
          "x": 0.3648742132324426,
          "y": -0.5907787701007072
         },
         {
          "group": "business",
          "x": 0.4699622711979887,
          "y": 0.39872332007813555
         },
         {
          "group": "business",
          "x": -0.3786588524756993,
          "y": -0.9071381915506037
         },
         {
          "group": "business",
          "x": -0.9566979737242041,
          "y": -1.1436874073384697
         },
         {
          "group": "business",
          "x": -2.347848185473016,
          "y": -0.894713661632178
         },
         {
          "group": "business",
          "x": -0.5394459513228302,
          "y": 0.34157347326740384
         },
         {
          "group": "business",
          "x": 0.35980401380587,
          "y": -0.588230329969014
         },
         {
          "group": "business",
          "x": -0.26819581401886217,
          "y": -2.5980791758814545
         },
         {
          "group": "business",
          "x": -0.015287580316277078,
          "y": -1.7945240076154731
         },
         {
          "group": "business",
          "x": 0.9760369019781338,
          "y": -0.7023830102844293
         },
         {
          "group": "business",
          "x": -1.1900554446420797,
          "y": 1.2094771703030205
         },
         {
          "group": "business",
          "x": 0.9875559512062462,
          "y": 0.2833568563627541
         },
         {
          "group": "business",
          "x": 0.48756865874547717,
          "y": 0.659652983114754
         },
         {
          "group": "business",
          "x": -2.5358257948964624,
          "y": 1.31368585471651
         },
         {
          "group": "business",
          "x": 0.5291998282790845,
          "y": -0.6475103782038077
         },
         {
          "group": "business",
          "x": -2.7534913459847106,
          "y": -0.745479557202013
         },
         {
          "group": "business",
          "x": -0.6397500566479438,
          "y": -1.074826993917213
         },
         {
          "group": "business",
          "x": -1.5655260259647934,
          "y": 1.1894394296441768
         },
         {
          "group": "business",
          "x": 0.24395573366610127,
          "y": -1.3909119889099508
         },
         {
          "group": "business",
          "x": -1.441551088748744,
          "y": -0.10753952231674765
         },
         {
          "group": "business",
          "x": 0.44796647252580446,
          "y": -0.6937356840954766
         },
         {
          "group": "business",
          "x": 1.2370818948123357,
          "y": 0.16622064305382528
         },
         {
          "group": "business",
          "x": -0.6416345633103504,
          "y": -0.05844435827998435
         },
         {
          "group": "business",
          "x": 0.6477555906862986,
          "y": 0.054405166085616366
         },
         {
          "group": "business",
          "x": -0.9664293260328708,
          "y": -0.05667743911891858
         },
         {
          "group": "business",
          "x": 0.6692479353082841,
          "y": -1.849051583506533
         },
         {
          "group": "business",
          "x": 0.6097670486723352,
          "y": -0.3144303350040316
         },
         {
          "group": "business",
          "x": -0.49447416243152176,
          "y": 0.6158872849806997
         },
         {
          "group": "business",
          "x": -0.3895268002068022,
          "y": -1.3461251483276748
         },
         {
          "group": "business",
          "x": -0.4801961640125572,
          "y": 1.8824578257555935
         },
         {
          "group": "business",
          "x": 0.7158523840554968,
          "y": -1.5390528289016514
         },
         {
          "group": "business",
          "x": -0.46435999700548125,
          "y": 0.9004625002368314
         },
         {
          "group": "business",
          "x": -0.6429102384995874,
          "y": -0.45161122232974343
         },
         {
          "group": "business",
          "x": 0.8476207037382906,
          "y": -2.6341118042134894
         },
         {
          "group": "business",
          "x": -0.2799776553984034,
          "y": -1.493949246662507
         },
         {
          "group": "business",
          "x": -1.7591463123109115,
          "y": -1.7042620946860931
         },
         {
          "group": "business",
          "x": 0.8586810536224717,
          "y": -0.023538899411367983
         },
         {
          "group": "business",
          "x": -0.9472310000403305,
          "y": -1.0263882010953744
         },
         {
          "group": "business",
          "x": 0.30692015424249264,
          "y": -0.5005345707351158
         },
         {
          "group": "business",
          "x": -0.6384392316987504,
          "y": -0.7892370350531299
         },
         {
          "group": "business",
          "x": -0.6024290973228474,
          "y": -0.4703363270323457
         },
         {
          "group": "business",
          "x": -0.3715656985571566,
          "y": -0.09030650556921588
         },
         {
          "group": "business",
          "x": -2.2837109728372003,
          "y": 0.2674269341535372
         },
         {
          "group": "business",
          "x": -1.0454917290426464,
          "y": -0.13902087851399536
         },
         {
          "group": "business",
          "x": -0.5756316815972357,
          "y": 0.7770429908881922
         },
         {
          "group": "business",
          "x": 1.5645313713613347,
          "y": -0.9365833355827832
         },
         {
          "group": "business",
          "x": -0.3879957219859596,
          "y": 0.6641163231697536
         },
         {
          "group": "business",
          "x": 0.1482190762225164,
          "y": -0.9606857226250928
         },
         {
          "group": "business",
          "x": 1.3730467710725358,
          "y": -0.14344932575894048
         },
         {
          "group": "business",
          "x": 0.2101087154948691,
          "y": -1.545496021879924
         },
         {
          "group": "business",
          "x": 0.13407690935199235,
          "y": -1.6754400264318663
         },
         {
          "group": "business",
          "x": -0.11870603496260228,
          "y": 0.08482252066601095
         },
         {
          "group": "business",
          "x": -1.5576764584656897,
          "y": -0.3445150340927075
         },
         {
          "group": "business",
          "x": -0.1560330691986063,
          "y": -1.1713970436699426
         },
         {
          "group": "business",
          "x": 0.17821147534957849,
          "y": -1.408821398039694
         },
         {
          "group": "business",
          "x": 1.334286176949058,
          "y": -0.5184167092203721
         },
         {
          "group": "business",
          "x": 0.12357258805240644,
          "y": 0.40943346140896486
         },
         {
          "group": "business",
          "x": 0.918959222901341,
          "y": 0.5194624313845979
         },
         {
          "group": "business",
          "x": 0.588151391059171,
          "y": -0.8278965276888544
         },
         {
          "group": "business",
          "x": -0.5486559597339329,
          "y": -1.4004468982142726
         },
         {
          "group": "business",
          "x": -1.7318436624597997,
          "y": -0.9200420940410543
         },
         {
          "group": "business",
          "x": -2.4125984798126807,
          "y": 2.727492044997661
         },
         {
          "group": "business",
          "x": -0.020973742300115086,
          "y": 0.8156170047744701
         },
         {
          "group": "business",
          "x": -2.492965217649451,
          "y": -0.09019709918618013
         },
         {
          "group": "business",
          "x": -0.5666190240316806,
          "y": 0.11349867197109008
         },
         {
          "group": "business",
          "x": -0.44182325617338236,
          "y": 1.0890368785027937
         },
         {
          "group": "business",
          "x": -0.9595759480823347,
          "y": -1.27729468738208
         },
         {
          "group": "business",
          "x": -1.1181359232350225,
          "y": -1.3984329167206153
         },
         {
          "group": "business",
          "x": -0.012105170450133295,
          "y": -0.2391530069565185
         },
         {
          "group": "business",
          "x": -1.8130790881092764,
          "y": 0.9670355745696456
         },
         {
          "group": "business",
          "x": -0.7092694581899422,
          "y": -0.06484117836734148
         },
         {
          "group": "business",
          "x": 0.9184979935737689,
          "y": 0.549765312553099
         },
         {
          "group": "business",
          "x": -1.0123936632252408,
          "y": -0.07233668883767273
         },
         {
          "group": "business",
          "x": 0.04695262165725904,
          "y": -0.7585647470205473
         },
         {
          "group": "business",
          "x": 0.06804921780239591,
          "y": 0.5205393582217993
         },
         {
          "group": "business",
          "x": -0.48232014345702623,
          "y": -1.2026906922238425
         },
         {
          "group": "business",
          "x": -1.3585846186946116,
          "y": -1.9271416995396051
         },
         {
          "group": "business",
          "x": -0.7473520970313144,
          "y": 0.32710475556701796
         },
         {
          "group": "business",
          "x": -0.2144397766661461,
          "y": 0.2698877977310109
         },
         {
          "group": "business",
          "x": -0.9455652882432757,
          "y": -0.25132823995157105
         },
         {
          "group": "business",
          "x": -0.9661614061064583,
          "y": 1.3431989604213215
         },
         {
          "group": "business",
          "x": 1.6478077782694582,
          "y": -0.18645363653185884
         },
         {
          "group": "business",
          "x": -0.7608174723713492,
          "y": 1.4398522975321
         },
         {
          "group": "business",
          "x": -1.1414886214463573,
          "y": -0.5308315935250555
         },
         {
          "group": "business",
          "x": -2.45513001915151,
          "y": 0.9752114745262574
         },
         {
          "group": "business",
          "x": -0.9601175207938862,
          "y": -0.33554953388214454
         },
         {
          "group": "business",
          "x": -2.1744387385129937,
          "y": 2.515567765611622
         },
         {
          "group": "business",
          "x": -1.2374568013996927,
          "y": -3.0022832546984994
         },
         {
          "group": "business",
          "x": -0.3513790445229596,
          "y": -2.041106040377398
         },
         {
          "group": "business",
          "x": -0.05502168366005253,
          "y": 0.9415739559074238
         },
         {
          "group": "business",
          "x": -0.3805440549577293,
          "y": -0.6683268724863086
         },
         {
          "group": "business",
          "x": -2.0259591846271103,
          "y": -2.0446994288139972
         },
         {
          "group": "business",
          "x": 0.2671551405826639,
          "y": 0.7849186745404431
         },
         {
          "group": "business",
          "x": -1.1081631920636519,
          "y": -1.491623936269379
         },
         {
          "group": "business",
          "x": 0.5400255592992477,
          "y": 0.5520272812273276
         },
         {
          "group": "business",
          "x": -0.2981402298806742,
          "y": -0.9985979830224044
         },
         {
          "group": "business",
          "x": 0.19430390795242522,
          "y": -0.16973716931688687
         },
         {
          "group": "business",
          "x": 0.30316225447599193,
          "y": -1.0703562346561293
         },
         {
          "group": "business",
          "x": -1.9531674813828155,
          "y": -0.6289044569198748
         },
         {
          "group": "business",
          "x": -0.3569956687759321,
          "y": 0.44712316468536895
         },
         {
          "group": "business",
          "x": -0.8448579445733699,
          "y": 0.18254856244660544
         },
         {
          "group": "business",
          "x": -0.32188753506634393,
          "y": -0.5947030376126297
         },
         {
          "group": "business",
          "x": -0.2818244864765739,
          "y": 1.3332968353822603
         },
         {
          "group": "business",
          "x": -2.1211383677812483,
          "y": 0.15178507578969655
         },
         {
          "group": "business",
          "x": -2.6654785996380244,
          "y": -0.91787395899216
         },
         {
          "group": "business",
          "x": -0.797425105722012,
          "y": 1.1312105559769958
         },
         {
          "group": "business",
          "x": 1.205582593450992,
          "y": -2.1039065057217754
         },
         {
          "group": "business",
          "x": 1.2984633886970047,
          "y": 0.7891120198154709
         },
         {
          "group": "business",
          "x": 2.048829239838313,
          "y": -1.2897376505616978
         },
         {
          "group": "business",
          "x": -1.101064688378125,
          "y": 0.3595769952332868
         },
         {
          "group": "business",
          "x": 1.5361806445751802,
          "y": -2.3160447456867703
         },
         {
          "group": "business",
          "x": -0.2095860592731995,
          "y": -0.488176525564392
         },
         {
          "group": "business",
          "x": -0.8017039840791164,
          "y": -1.077708591467934
         },
         {
          "group": "business",
          "x": -0.8469541169709327,
          "y": -0.5923074806317068
         },
         {
          "group": "business",
          "x": -2.0859752450863684,
          "y": 0.7323748265041912
         },
         {
          "group": "business",
          "x": -2.7203568703576337,
          "y": 0.5592318313869915
         },
         {
          "group": "business",
          "x": 0.01961851020079214,
          "y": -1.430851181856768
         },
         {
          "group": "business",
          "x": -1.3877689980493098,
          "y": -0.5120160462531225
         },
         {
          "group": "business",
          "x": -0.2537646580252499,
          "y": -0.03563146067638842
         },
         {
          "group": "business",
          "x": -0.9814507698022464,
          "y": 0.10917744081642114
         },
         {
          "group": "business",
          "x": -0.10209551903561004,
          "y": -0.7236207652359857
         },
         {
          "group": "business",
          "x": -0.9840407218511102,
          "y": 0.06634600651952093
         },
         {
          "group": "business",
          "x": 0.8915463640704546,
          "y": 0.645742324842197
         },
         {
          "group": "business",
          "x": 0.16851424896514705,
          "y": 0.14072360405952045
         },
         {
          "group": "business",
          "x": -0.9767645404849901,
          "y": 0.5908593195976306
         },
         {
          "group": "business",
          "x": 0.1721345387284133,
          "y": -1.1954113948835534
         },
         {
          "group": "business",
          "x": -1.169858276832158,
          "y": 0.420780618319515
         },
         {
          "group": "business",
          "x": -0.6892999217718347,
          "y": -0.3539342657509292
         },
         {
          "group": "business",
          "x": 0.3094777255495817,
          "y": -2.4095190372860578
         },
         {
          "group": "business",
          "x": 0.2395096450916974,
          "y": 0.39581794974647566
         },
         {
          "group": "business",
          "x": 0.8921686966773706,
          "y": 0.4700634893282368
         },
         {
          "group": "business",
          "x": -0.6714448269113116,
          "y": -0.31161501306958456
         },
         {
          "group": "business",
          "x": -0.8569727566843166,
          "y": 1.273743512163548
         },
         {
          "group": "business",
          "x": 0.4870613220248456,
          "y": -0.898706787652567
         },
         {
          "group": "business",
          "x": 0.17625718522957,
          "y": -0.04789163308938275
         },
         {
          "group": "business",
          "x": -1.6127035221474562,
          "y": -1.0660791294756902
         },
         {
          "group": "business",
          "x": -1.255180201306794,
          "y": -0.9997946296534661
         },
         {
          "group": "business",
          "x": -1.6538548568727724,
          "y": 0.21013514290263077
         },
         {
          "group": "business",
          "x": -1.6108874260651602,
          "y": -0.20928653056589155
         },
         {
          "group": "business",
          "x": -0.2829249050486311,
          "y": -0.056332786535571486
         },
         {
          "group": "business",
          "x": -1.9604029219807695,
          "y": 1.9750127567071512
         },
         {
          "group": "business",
          "x": -1.1296779253873896,
          "y": 1.0021891790326043
         },
         {
          "group": "business",
          "x": -0.03736120057189959,
          "y": -1.5275676396526539
         },
         {
          "group": "business",
          "x": -1.4548937812435594,
          "y": -0.7576604923455013
         },
         {
          "group": "business",
          "x": -1.4285600716682971,
          "y": -0.9106229880772093
         },
         {
          "group": "business",
          "x": -1.320732683430265,
          "y": -0.7734126539917786
         },
         {
          "group": "business",
          "x": 1.0193018251215573,
          "y": -1.0426527910181405
         },
         {
          "group": "business",
          "x": -0.09931229745787051,
          "y": -1.8203736645063973
         },
         {
          "group": "business",
          "x": -1.1847443687741868,
          "y": 1.6006114540784684
         },
         {
          "group": "business",
          "x": -1.4215181711261724,
          "y": 2.8096745972349
         },
         {
          "group": "business",
          "x": -1.1685841572660978,
          "y": -2.318271603721365
         },
         {
          "group": "business",
          "x": -0.9664639176136988,
          "y": -1.7780117144332155
         },
         {
          "group": "business",
          "x": -1.1235130933932473,
          "y": 0.6994459848204109
         },
         {
          "group": "business",
          "x": -0.5054402876564204,
          "y": -1.2427815363197994
         },
         {
          "group": "business",
          "x": -2.948519589172694,
          "y": -0.4365682763970984
         },
         {
          "group": "business",
          "x": -0.26780344935069655,
          "y": -0.3640680894111458
         },
         {
          "group": "business",
          "x": 1.7996058599145426,
          "y": -0.5650898394961057
         },
         {
          "group": "business",
          "x": 0.2721685801624375,
          "y": 0.34855139163871895
         },
         {
          "group": "business",
          "x": -1.8403668802269253,
          "y": -0.5132400178431515
         },
         {
          "group": "business",
          "x": -0.8288493374000845,
          "y": 0.05184284093353344
         },
         {
          "group": "business",
          "x": 0.7481399414905463,
          "y": 1.8733648260565863
         },
         {
          "group": "business",
          "x": 1.0142002353089894,
          "y": 1.3167159218175795
         },
         {
          "group": "business",
          "x": -1.6769937829416506,
          "y": 0.800224882258961
         },
         {
          "group": "business",
          "x": -0.47092152049561437,
          "y": 0.7693265993426065
         },
         {
          "group": "business",
          "x": -0.4634381661836064,
          "y": 0.8481269121371794
         },
         {
          "group": "business",
          "x": -2.07861486269733,
          "y": -0.23602540993455406
         },
         {
          "group": "business",
          "x": 1.0341047099619924,
          "y": -0.2532068546335886
         },
         {
          "group": "business",
          "x": 1.8419178413654793,
          "y": 0.8602234117526795
         },
         {
          "group": "business",
          "x": -0.16625014814791392,
          "y": -0.5741792087829686
         },
         {
          "group": "business",
          "x": -1.1107818874419315,
          "y": -0.8791255278011467
         },
         {
          "group": "business",
          "x": -2.558187275445775,
          "y": 1.4466603182081315
         },
         {
          "group": "business",
          "x": 0.6987886945551904,
          "y": -1.5992986346377374
         },
         {
          "group": "business",
          "x": -0.21443384797040513,
          "y": -0.3390298275920401
         },
         {
          "group": "business",
          "x": -0.23135706099150757,
          "y": 0.4037468400666232
         },
         {
          "group": "business",
          "x": 0.5442063956340562,
          "y": -1.1630461327559158
         },
         {
          "group": "business",
          "x": 0.2815149592152807,
          "y": -0.7050725413270063
         },
         {
          "group": "business",
          "x": 0.06986106818364304,
          "y": 0.026507139651210255
         },
         {
          "group": "business",
          "x": -1.5955492715609174,
          "y": -0.5182290867723433
         },
         {
          "group": "politics",
          "x": 0.8432551578706482,
          "y": 0.5196460158447825
         },
         {
          "group": "politics",
          "x": -0.058311219309074666,
          "y": 0.04065765219437775
         },
         {
          "group": "politics",
          "x": -1.800948907889848,
          "y": -0.3805917564341806
         },
         {
          "group": "politics",
          "x": 1.126100721695157,
          "y": 2.5902310496806247
         },
         {
          "group": "politics",
          "x": 0.22935527750454146,
          "y": 2.4159997436349574
         },
         {
          "group": "politics",
          "x": 0.3387981521578682,
          "y": 1.4029366099052911
         },
         {
          "group": "politics",
          "x": -0.6786207050544043,
          "y": -1.9653186089800345
         },
         {
          "group": "politics",
          "x": -1.1863936258545897,
          "y": -1.0789891154657922
         },
         {
          "group": "politics",
          "x": -0.3018459944632527,
          "y": -0.2471585463429664
         },
         {
          "group": "politics",
          "x": -1.2609477207298012,
          "y": -0.08668590387607684
         },
         {
          "group": "politics",
          "x": -1.1784360256678628,
          "y": 0.5089588400070799
         },
         {
          "group": "politics",
          "x": 1.5520671492818576,
          "y": -0.9679804195539148
         },
         {
          "group": "politics",
          "x": -0.051117243424196226,
          "y": 0.4850280990658818
         },
         {
          "group": "politics",
          "x": -1.4075137906414172,
          "y": -0.08312112222735721
         },
         {
          "group": "politics",
          "x": -0.3907739240318301,
          "y": -0.8878361057149644
         },
         {
          "group": "politics",
          "x": 0.020079036266085468,
          "y": 0.1126428573216663
         },
         {
          "group": "politics",
          "x": 0.0708910675586157,
          "y": -1.4230499598285415
         },
         {
          "group": "politics",
          "x": -0.8196841376331405,
          "y": 0.8851282540968058
         },
         {
          "group": "politics",
          "x": 2.1060493852386175,
          "y": -0.9307440069259643
         },
         {
          "group": "politics",
          "x": 0.06354194029665536,
          "y": -0.8540759642586718
         },
         {
          "group": "politics",
          "x": 0.3264458415806586,
          "y": 1.0947714861307405
         },
         {
          "group": "politics",
          "x": 1.67147692441525,
          "y": 0.7426251548300409
         },
         {
          "group": "politics",
          "x": 0.6883259943072287,
          "y": 0.9825193160272594
         },
         {
          "group": "politics",
          "x": 0.1727402585921791,
          "y": 0.2678836993285109
         },
         {
          "group": "politics",
          "x": 1.2999409158247461,
          "y": 0.23399610721597397
         },
         {
          "group": "politics",
          "x": 0.9757207659228424,
          "y": -0.144199801302253
         },
         {
          "group": "politics",
          "x": -0.04317726366349943,
          "y": 0.5461000978074199
         },
         {
          "group": "politics",
          "x": -0.09523831923817873,
          "y": -1.296314270912003
         },
         {
          "group": "politics",
          "x": 1.6142960626181686,
          "y": -1.1829567382112722
         },
         {
          "group": "politics",
          "x": 0.28284322264258005,
          "y": -0.4011849452582191
         },
         {
          "group": "politics",
          "x": 0.7682056430779614,
          "y": -0.46519830436314963
         },
         {
          "group": "politics",
          "x": 2.0782035909936285,
          "y": -0.6756124756961523
         },
         {
          "group": "politics",
          "x": -0.1384969425488772,
          "y": 0.4784660764641308
         },
         {
          "group": "politics",
          "x": 2.0114979148220016,
          "y": 0.20253687558209707
         },
         {
          "group": "politics",
          "x": 1.4634520620404177,
          "y": 0.8478980384758779
         },
         {
          "group": "politics",
          "x": 0.12592215774220997,
          "y": -0.14186621788035572
         },
         {
          "group": "politics",
          "x": 1.3326927186036364,
          "y": 1.6226812260052021
         },
         {
          "group": "politics",
          "x": -1.2228178892178174,
          "y": 1.2080468738377685
         },
         {
          "group": "politics",
          "x": 1.2910075002557968,
          "y": -1.4863379727573915
         },
         {
          "group": "politics",
          "x": 0.30080391018068214,
          "y": -0.46779393679643205
         },
         {
          "group": "politics",
          "x": 0.14295970582066433,
          "y": -0.44225950238060674
         },
         {
          "group": "politics",
          "x": 0.4474957713793842,
          "y": 0.6533323929716682
         },
         {
          "group": "politics",
          "x": -0.03442908205149683,
          "y": -0.822605750153502
         },
         {
          "group": "politics",
          "x": 1.4415756719939696,
          "y": 0.39424616578528143
         },
         {
          "group": "politics",
          "x": 0.241744236916214,
          "y": 0.23739954094815746
         },
         {
          "group": "politics",
          "x": 1.355669301735331,
          "y": 1.0564770983310396
         },
         {
          "group": "politics",
          "x": 0.6731592445268122,
          "y": 0.637112865484076
         },
         {
          "group": "politics",
          "x": -1.981691102970923,
          "y": 0.7158183470556586
         },
         {
          "group": "politics",
          "x": 0.32501230833852063,
          "y": -0.34693479093763796
         },
         {
          "group": "politics",
          "x": 1.8435634014644129,
          "y": -0.05227914822811853
         },
         {
          "group": "politics",
          "x": -1.1879279549794117,
          "y": -1.669641876079868
         },
         {
          "group": "politics",
          "x": 1.0020720929745894,
          "y": -0.10447983190246322
         },
         {
          "group": "politics",
          "x": 0.8833554051195401,
          "y": -0.010228656747014328
         },
         {
          "group": "politics",
          "x": 2.1402443759015797,
          "y": -0.6930168310870858
         },
         {
          "group": "politics",
          "x": -0.3303910828859711,
          "y": -0.5343180298667063
         },
         {
          "group": "politics",
          "x": -0.39437644751772105,
          "y": 1.1699776846424161
         },
         {
          "group": "politics",
          "x": 1.7857860935146053,
          "y": 0.5878649143052544
         },
         {
          "group": "politics",
          "x": 1.2719752489948655,
          "y": -1.1174193978046965
         },
         {
          "group": "politics",
          "x": -1.6887498405259707,
          "y": -0.9000171528485067
         },
         {
          "group": "politics",
          "x": 0.4816933326531546,
          "y": -0.7097217172005664
         },
         {
          "group": "politics",
          "x": 0.4805750159472057,
          "y": -0.5699107659556428
         },
         {
          "group": "politics",
          "x": 0.858114313979972,
          "y": 0.15078707412678252
         },
         {
          "group": "politics",
          "x": 0.2706154628457589,
          "y": 1.007619433592735
         },
         {
          "group": "politics",
          "x": 0.7710044721548136,
          "y": -0.5228924701439128
         },
         {
          "group": "politics",
          "x": -0.613919156426934,
          "y": 0.76982060022918
         },
         {
          "group": "politics",
          "x": 0.016095384271181915,
          "y": -1.2039900237125136
         },
         {
          "group": "politics",
          "x": 0.29498331307180714,
          "y": 0.06067276935363597
         },
         {
          "group": "politics",
          "x": 0.20376830819723976,
          "y": 0.22572475499744557
         },
         {
          "group": "politics",
          "x": 2.7997759146221033,
          "y": 0.7281718745687323
         },
         {
          "group": "politics",
          "x": -2.5492256218244727,
          "y": -1.370455672780027
         },
         {
          "group": "politics",
          "x": -0.16347528222757746,
          "y": -1.9149855320680464
         },
         {
          "group": "politics",
          "x": -2.0819540054454313,
          "y": -0.717504939062574
         },
         {
          "group": "politics",
          "x": 1.409865471458438,
          "y": 3.1193934813697264
         },
         {
          "group": "politics",
          "x": 0.17094073397687323,
          "y": -0.027007473138516487
         },
         {
          "group": "politics",
          "x": 0.7214116525775985,
          "y": -1.456328344646852
         },
         {
          "group": "politics",
          "x": 0.7261512117145043,
          "y": 1.885228304004787
         },
         {
          "group": "politics",
          "x": 1.0527981242165312,
          "y": -1.5778531418862813
         },
         {
          "group": "politics",
          "x": 0.34897801160757125,
          "y": -0.035060213827747634
         },
         {
          "group": "politics",
          "x": -0.8044490069062469,
          "y": 2.4088740780864573
         },
         {
          "group": "politics",
          "x": 1.1272704638555875,
          "y": 2.1650183149130173
         },
         {
          "group": "politics",
          "x": -1.9327624376267114,
          "y": 1.8419210298375255
         },
         {
          "group": "politics",
          "x": 1.0064428533831022,
          "y": 1.3271245263054385
         },
         {
          "group": "politics",
          "x": 1.0541268119688567,
          "y": -2.7218276189883386
         },
         {
          "group": "politics",
          "x": 1.2405286831163298,
          "y": 2.271089630355663
         },
         {
          "group": "politics",
          "x": 0.4826251069576979,
          "y": -0.38944039436700967
         },
         {
          "group": "politics",
          "x": 0.045351275328190464,
          "y": -1.668786696202409
         },
         {
          "group": "politics",
          "x": 1.6955731699727656,
          "y": 0.05586440716037257
         },
         {
          "group": "politics",
          "x": 0.14177036727971923,
          "y": -2.326649864058586
         },
         {
          "group": "politics",
          "x": 0.05924106641514619,
          "y": 0.41974900170729146
         },
         {
          "group": "politics",
          "x": 2.701141412417965,
          "y": -0.42280938961619147
         },
         {
          "group": "politics",
          "x": -0.9867728892611455,
          "y": -0.4719959370629286
         },
         {
          "group": "politics",
          "x": 0.04734500630161738,
          "y": -0.6847466591615112
         },
         {
          "group": "politics",
          "x": 1.386340234320905,
          "y": 0.6749328638542649
         },
         {
          "group": "politics",
          "x": 0.19245140399235192,
          "y": 0.4565118572740392
         },
         {
          "group": "politics",
          "x": -0.4868851572462432,
          "y": -0.7512843844995871
         },
         {
          "group": "politics",
          "x": 1.2768221549208474,
          "y": 0.30705765251118383
         },
         {
          "group": "politics",
          "x": 0.9385965500147949,
          "y": 0.7476312479692485
         },
         {
          "group": "politics",
          "x": 0.6102388321125473,
          "y": -1.9834182884104292
         },
         {
          "group": "politics",
          "x": -1.2994976660301032,
          "y": 0.6643636564335101
         },
         {
          "group": "politics",
          "x": 0.2227393668592425,
          "y": 0.24331063860235105
         },
         {
          "group": "politics",
          "x": 3.047691275449898,
          "y": -0.43491563754351975
         },
         {
          "group": "politics",
          "x": 0.34662263792368786,
          "y": 2.0095285186638008
         },
         {
          "group": "politics",
          "x": -1.0175779111023364,
          "y": 0.4185538035695622
         },
         {
          "group": "politics",
          "x": -0.6306610013386317,
          "y": 1.3576586138081104
         },
         {
          "group": "politics",
          "x": 1.5430989132264583,
          "y": -2.2139572101837346
         },
         {
          "group": "politics",
          "x": 2.0516963320137767,
          "y": -1.403654897450311
         },
         {
          "group": "politics",
          "x": -0.5893358604539547,
          "y": -0.3028263298574515
         },
         {
          "group": "politics",
          "x": 0.15248818124459051,
          "y": -0.8045082450257913
         },
         {
          "group": "politics",
          "x": 1.2821440238200328,
          "y": 0.7487094503013412
         },
         {
          "group": "politics",
          "x": -0.6816918133995361,
          "y": -0.5626953528621178
         },
         {
          "group": "politics",
          "x": -1.0279088270072883,
          "y": -0.12822101472376338
         },
         {
          "group": "politics",
          "x": -2.2423889497189005,
          "y": 0.981392150040861
         },
         {
          "group": "politics",
          "x": 1.2470785246543068,
          "y": -0.17652995180615988
         },
         {
          "group": "politics",
          "x": -2.0547690353694086,
          "y": -0.9831771624767175
         },
         {
          "group": "politics",
          "x": 1.8548842590580816,
          "y": -0.9692128069676391
         },
         {
          "group": "politics",
          "x": -0.33820409940097723,
          "y": 0.8311381066532677
         },
         {
          "group": "politics",
          "x": 0.9785338575508864,
          "y": 0.5427099982230816
         },
         {
          "group": "politics",
          "x": -0.10389630925045877,
          "y": 2.0440106322339076
         },
         {
          "group": "politics",
          "x": 0.7747324656415117,
          "y": -0.5996178448837168
         },
         {
          "group": "politics",
          "x": 0.7484167823674135,
          "y": -0.2158731623031549
         },
         {
          "group": "politics",
          "x": 1.650370760965189,
          "y": 0.09092969525704296
         },
         {
          "group": "politics",
          "x": 0.6868771808344589,
          "y": -0.32027684204618606
         },
         {
          "group": "politics",
          "x": -0.7070772743966892,
          "y": -1.2297126351378755
         },
         {
          "group": "politics",
          "x": 1.0239065696120757,
          "y": -2.4805457621080658
         },
         {
          "group": "politics",
          "x": 1.0387651311451542,
          "y": -0.2742711585419985
         },
         {
          "group": "politics",
          "x": 0.4736204165806875,
          "y": 0.16664925203332018
         },
         {
          "group": "politics",
          "x": -0.6510919431809689,
          "y": 1.336699895008977
         },
         {
          "group": "politics",
          "x": 0.16559989390912452,
          "y": -0.6494561451775352
         },
         {
          "group": "politics",
          "x": 1.1202839677811889,
          "y": 0.13827682380245185
         },
         {
          "group": "politics",
          "x": 1.2870634026794898,
          "y": -0.34758644508856124
         },
         {
          "group": "politics",
          "x": 1.5815968605088329,
          "y": 0.8486038777724226
         },
         {
          "group": "politics",
          "x": -0.9899493401684699,
          "y": 1.7767389071501791
         },
         {
          "group": "politics",
          "x": -0.5344295796387355,
          "y": -0.49527378784416115
         },
         {
          "group": "politics",
          "x": 2.2487869913750083,
          "y": -1.8786478585913888
         },
         {
          "group": "politics",
          "x": -0.13875596961811326,
          "y": 0.1627133547483195
         },
         {
          "group": "politics",
          "x": 0.16452023169076338,
          "y": -1.2010606810944
         },
         {
          "group": "politics",
          "x": 0.5239830288620368,
          "y": 1.8941863795934344
         },
         {
          "group": "politics",
          "x": 1.449625545505191,
          "y": 1.5887391940886848
         },
         {
          "group": "politics",
          "x": 0.6008172970917192,
          "y": -0.029371497117980098
         },
         {
          "group": "politics",
          "x": -0.6973945357182153,
          "y": 0.3147406006576817
         },
         {
          "group": "politics",
          "x": 1.5263162148541023,
          "y": -0.14763812498140935
         },
         {
          "group": "politics",
          "x": 1.4272709748010906,
          "y": 0.26066442153667335
         },
         {
          "group": "politics",
          "x": 2.850508587256195,
          "y": -0.42479596560541144
         },
         {
          "group": "politics",
          "x": -0.17675212252735262,
          "y": -0.631706068247263
         },
         {
          "group": "politics",
          "x": 0.9985286022950072,
          "y": 0.8716281425490647
         },
         {
          "group": "politics",
          "x": -0.614789235583794,
          "y": -0.009492852502646839
         },
         {
          "group": "politics",
          "x": 2.7468429925116165,
          "y": -0.4956379788525226
         },
         {
          "group": "politics",
          "x": 1.1692648839639819,
          "y": 0.30534283505901094
         },
         {
          "group": "politics",
          "x": -0.07555118424695788,
          "y": 1.7358260751667691
         },
         {
          "group": "politics",
          "x": 0.17371116526451788,
          "y": -0.578626115831952
         },
         {
          "group": "politics",
          "x": -2.351031093049362,
          "y": 0.9206566202399683
         },
         {
          "group": "politics",
          "x": 2.0199314611747443,
          "y": 0.7146996819823378
         },
         {
          "group": "politics",
          "x": -0.8888899692535834,
          "y": 0.6613418527778805
         },
         {
          "group": "politics",
          "x": -1.8972997091536266,
          "y": -0.8001958195074208
         },
         {
          "group": "politics",
          "x": 1.1532030736314185,
          "y": -0.6721498143379022
         },
         {
          "group": "politics",
          "x": 1.620737206896746,
          "y": 2.4899204992164514
         },
         {
          "group": "politics",
          "x": -0.19168989079636084,
          "y": -0.07066535531004167
         },
         {
          "group": "politics",
          "x": 0.15463258375522626,
          "y": 0.1132922095390206
         },
         {
          "group": "politics",
          "x": -0.26582925554927805,
          "y": 1.0346899853492213
         },
         {
          "group": "politics",
          "x": 0.4192743341701181,
          "y": 0.4438742732936942
         },
         {
          "group": "politics",
          "x": 3.521242124366741,
          "y": 2.7218505110001847
         },
         {
          "group": "politics",
          "x": -0.6236836057762742,
          "y": -0.9956392919583396
         },
         {
          "group": "politics",
          "x": -1.049604582557775,
          "y": -0.5843109527225779
         },
         {
          "group": "politics",
          "x": 0.9927940478800006,
          "y": 2.1666505990966813
         },
         {
          "group": "politics",
          "x": 0.09668444983335624,
          "y": 2.1473444106374964
         },
         {
          "group": "politics",
          "x": 0.8257306652385892,
          "y": -0.15424507757027817
         },
         {
          "group": "politics",
          "x": 0.08645047751754069,
          "y": 0.8143929104389803
         },
         {
          "group": "politics",
          "x": 1.1633277976883831,
          "y": 1.0388114337382524
         },
         {
          "group": "politics",
          "x": -0.08653241540558163,
          "y": 1.1866036093818009
         },
         {
          "group": "politics",
          "x": 1.8795772939383788,
          "y": -1.5525831478042016
         },
         {
          "group": "politics",
          "x": -0.09898243549615146,
          "y": -1.462642857420965
         },
         {
          "group": "politics",
          "x": 0.2783917709418649,
          "y": 0.4003575716548468
         },
         {
          "group": "politics",
          "x": 0.8415077552515497,
          "y": 1.0438079677055834
         },
         {
          "group": "politics",
          "x": -0.9547038548603124,
          "y": 1.0509327864082394
         },
         {
          "group": "politics",
          "x": 0.06750517068506738,
          "y": 0.06011735963746421
         },
         {
          "group": "politics",
          "x": 2.417640395855616,
          "y": 1.073248095703009
         },
         {
          "group": "politics",
          "x": 0.58809990786843,
          "y": -0.539404125950109
         },
         {
          "group": "politics",
          "x": 0.7660940303064271,
          "y": -0.8769441334868113
         },
         {
          "group": "politics",
          "x": 1.177613894302391,
          "y": -0.0963827683919321
         },
         {
          "group": "politics",
          "x": -0.5920821095670332,
          "y": -1.0985961599533576
         },
         {
          "group": "politics",
          "x": -0.12562847526320267,
          "y": 1.8249365353156792
         },
         {
          "group": "politics",
          "x": 1.5054607554843198,
          "y": 0.47689672132841543
         },
         {
          "group": "politics",
          "x": 1.4865697964330236,
          "y": -1.159448004632285
         },
         {
          "group": "politics",
          "x": -0.5448244391779016,
          "y": 1.5587295153411918
         },
         {
          "group": "politics",
          "x": 0.3844871097046949,
          "y": -0.603940119703796
         },
         {
          "group": "politics",
          "x": -0.09388253408861365,
          "y": 0.7797882706050195
         },
         {
          "group": "politics",
          "x": 1.1163754984685084,
          "y": 2.0390965728435764
         },
         {
          "group": "politics",
          "x": 1.1000607317587257,
          "y": -1.018273159846726
         },
         {
          "group": "politics",
          "x": -0.7370592519735399,
          "y": 1.8349802374576827
         },
         {
          "group": "politics",
          "x": 0.30903793404854357,
          "y": -0.5811524562876357
         },
         {
          "group": "politics",
          "x": 1.544906050953685,
          "y": 1.7910064919587103
         },
         {
          "group": "politics",
          "x": -0.5204268249393664,
          "y": -0.16698314329180838
         },
         {
          "group": "politics",
          "x": 0.06586596254509168,
          "y": -0.7578298140053177
         },
         {
          "group": "politics",
          "x": 0.7260917649517287,
          "y": 0.9007861395668133
         },
         {
          "group": "politics",
          "x": 1.3529195031229357,
          "y": -0.8777311856819349
         },
         {
          "group": "politics",
          "x": -1.2983671260122005,
          "y": 0.6598062251986565
         },
         {
          "group": "politics",
          "x": -0.555200223527676,
          "y": 0.7545497231800874
         },
         {
          "group": "politics",
          "x": 2.5342858273043776,
          "y": -0.08864425079041942
         },
         {
          "group": "politics",
          "x": 3.456321768631002,
          "y": 0.8074982748261694
         },
         {
          "group": "politics",
          "x": 0.5725168590747517,
          "y": -0.7974379421975063
         },
         {
          "group": "politics",
          "x": -0.6456650570112595,
          "y": 2.9708481215511098
         },
         {
          "group": "politics",
          "x": 1.1878609317436977,
          "y": 1.497194986500306
         },
         {
          "group": "politics",
          "x": -0.44751104325338315,
          "y": -0.6770855424757092
         },
         {
          "group": "politics",
          "x": 0.11437869137289954,
          "y": -0.5397948433222763
         },
         {
          "group": "politics",
          "x": 0.22107995666657923,
          "y": -1.7428565015634083
         },
         {
          "group": "politics",
          "x": 0.10437085401799133,
          "y": 1.3067098366648222
         },
         {
          "group": "politics",
          "x": 0.802774625037405,
          "y": 0.763477515214028
         },
         {
          "group": "politics",
          "x": 1.3004796487936523,
          "y": -2.019871322962266
         },
         {
          "group": "politics",
          "x": 0.5992359673566447,
          "y": 0.6099896937146077
         },
         {
          "group": "politics",
          "x": -0.3846480564447371,
          "y": -0.05054379100829247
         },
         {
          "group": "politics",
          "x": 1.2757595614497053,
          "y": 0.822497978174032
         },
         {
          "group": "politics",
          "x": 1.0418204720428241,
          "y": -0.21861783710691393
         },
         {
          "group": "politics",
          "x": -0.8274372790513508,
          "y": 0.79057340804435
         },
         {
          "group": "politics",
          "x": 0.004706550487397727,
          "y": -0.79650070764553
         },
         {
          "group": "politics",
          "x": 1.000176675095084,
          "y": 0.42155464340643944
         },
         {
          "group": "politics",
          "x": 0.5172235421611004,
          "y": -0.8648680285218986
         },
         {
          "group": "politics",
          "x": 0.5506520010152147,
          "y": 0.19283746694186985
         },
         {
          "group": "politics",
          "x": -0.6526347314712123,
          "y": -0.9122288203204817
         },
         {
          "group": "politics",
          "x": 0.26962065614555364,
          "y": 1.0231361777454686
         },
         {
          "group": "politics",
          "x": -1.4746026141086852,
          "y": -0.9485151951005036
         },
         {
          "group": "politics",
          "x": 1.3415549831119142,
          "y": 0.10793869347067762
         },
         {
          "group": "politics",
          "x": -0.3794867407572907,
          "y": 0.016344123374828774
         },
         {
          "group": "politics",
          "x": -0.3598752020249444,
          "y": -0.2147474869357708
         },
         {
          "group": "politics",
          "x": -0.1719915615093008,
          "y": 0.975510746925282
         },
         {
          "group": "politics",
          "x": 0.2772511866885955,
          "y": -0.590208132120254
         },
         {
          "group": "politics",
          "x": -0.7300099733254075,
          "y": -1.1907135636102588
         },
         {
          "group": "politics",
          "x": 1.077393362432347,
          "y": 0.03688085706785203
         },
         {
          "group": "politics",
          "x": 1.2066381423566663,
          "y": 0.3037554098833268
         },
         {
          "group": "politics",
          "x": 0.2491205005507875,
          "y": -2.4325167438996558
         },
         {
          "group": "politics",
          "x": 0.8238954404391653,
          "y": -1.1678635243711009
         },
         {
          "group": "politics",
          "x": -0.8539534916633925,
          "y": 1.314097965624097
         },
         {
          "group": "politics",
          "x": 2.916787132389627,
          "y": 0.2505671226868991
         },
         {
          "group": "politics",
          "x": -1.1764877740479014,
          "y": 0.5948112628456037
         },
         {
          "group": "politics",
          "x": -0.44683978143432657,
          "y": 0.027984774241561535
         },
         {
          "group": "politics",
          "x": 0.08545079367947303,
          "y": -1.7360072840955805
         },
         {
          "group": "politics",
          "x": 0.5787046211463267,
          "y": 2.423111247444955
         },
         {
          "group": "politics",
          "x": 0.6328028592867337,
          "y": 0.26886139460828656
         },
         {
          "group": "politics",
          "x": -0.3841318917796998,
          "y": -1.0966114155974669
         },
         {
          "group": "politics",
          "x": -0.1010539227109281,
          "y": 1.0213185509596903
         },
         {
          "group": "politics",
          "x": -0.760121632801846,
          "y": -3.233694176010878
         },
         {
          "group": "politics",
          "x": 0.720001699766917,
          "y": -2.2268744501405857
         },
         {
          "group": "politics",
          "x": 0.5227041220174382,
          "y": -0.287212836824401
         },
         {
          "group": "politics",
          "x": -1.384400886719442,
          "y": -0.19647434346323378
         },
         {
          "group": "politics",
          "x": -1.4239069713809618,
          "y": -1.9321308731311395
         },
         {
          "group": "politics",
          "x": 0.11471198501440828,
          "y": 0.9680374418474257
         },
         {
          "group": "politics",
          "x": 1.0357888591992543,
          "y": 2.510588066625136
         },
         {
          "group": "politics",
          "x": -1.8513124717683904,
          "y": 1.1456792250685097
         },
         {
          "group": "politics",
          "x": -0.8797812888200076,
          "y": -0.0082459739849318
         },
         {
          "group": "politics",
          "x": 0.04437434233175265,
          "y": 0.22518692177248711
         },
         {
          "group": "politics",
          "x": -0.4928144651421874,
          "y": 1.434836893751453
         },
         {
          "group": "politics",
          "x": 0.7744437431668786,
          "y": 0.5554026551233029
         },
         {
          "group": "politics",
          "x": -0.25499005789268936,
          "y": -0.453107519086143
         },
         {
          "group": "politics",
          "x": -0.6833642890143504,
          "y": 0.9435311932964954
         },
         {
          "group": "politics",
          "x": -0.3162196102476538,
          "y": 1.4034744456205244
         },
         {
          "group": "politics",
          "x": 0.36570712742188666,
          "y": -1.0994767894778865
         },
         {
          "group": "politics",
          "x": -0.3843791176041005,
          "y": 0.37168768165062
         },
         {
          "group": "politics",
          "x": -0.06025026797040096,
          "y": 0.1930206120372675
         },
         {
          "group": "politics",
          "x": -0.5218233270359697,
          "y": 2.544454627339044
         },
         {
          "group": "politics",
          "x": -1.883456956067115,
          "y": -0.041050944855016654
         },
         {
          "group": "politics",
          "x": -1.7110948090367348,
          "y": 2.082914551433195
         },
         {
          "group": "politics",
          "x": 0.4043617223958263,
          "y": 0.28628059973582026
         },
         {
          "group": "politics",
          "x": -0.4189931272943715,
          "y": -0.37874893413902366
         },
         {
          "group": "politics",
          "x": 0.1147254873659499,
          "y": 0.3361631268643229
         },
         {
          "group": "politics",
          "x": -0.47650137805682646,
          "y": 1.5385535952071399
         },
         {
          "group": "politics",
          "x": 1.70354388141448,
          "y": -2.0391641161514844
         },
         {
          "group": "politics",
          "x": 1.2250477578058854,
          "y": 0.3431694004668734
         },
         {
          "group": "politics",
          "x": 1.3874564946196444,
          "y": -0.5744423412137014
         },
         {
          "group": "politics",
          "x": 2.0830172047809086,
          "y": -0.6727518053110845
         },
         {
          "group": "politics",
          "x": 2.11455456859229,
          "y": 0.8879339968010874
         },
         {
          "group": "politics",
          "x": 3.2129451634526993,
          "y": -0.17199664282513605
         },
         {
          "group": "politics",
          "x": 0.21485419329666194,
          "y": -1.3631599204175968
         },
         {
          "group": "politics",
          "x": 0.06288857174597857,
          "y": -1.582670006916527
         },
         {
          "group": "politics",
          "x": -0.10406557683692444,
          "y": 0.20032030006687931
         },
         {
          "group": "politics",
          "x": -0.06264669039872303,
          "y": -1.354919423716831
         },
         {
          "group": "politics",
          "x": -1.5463757568034102,
          "y": -0.21111931826831729
         },
         {
          "group": "politics",
          "x": -1.0390962391030474,
          "y": 0.263335949424932
         },
         {
          "group": "politics",
          "x": 0.22041620024917916,
          "y": 1.0017732035489337
         },
         {
          "group": "politics",
          "x": 1.1085453991416814,
          "y": -0.8049399161711391
         },
         {
          "group": "politics",
          "x": -1.5906759623032412,
          "y": 0.03453483308880991
         },
         {
          "group": "politics",
          "x": 2.119156985636495,
          "y": -1.4089165925971048
         },
         {
          "group": "politics",
          "x": 0.3604321446836989,
          "y": -0.20419796120524086
         },
         {
          "group": "politics",
          "x": 0.21370536066724838,
          "y": 0.2231558339460499
         },
         {
          "group": "politics",
          "x": -1.017607459735825,
          "y": 1.5356852209922172
         },
         {
          "group": "politics",
          "x": 1.6883126334560712,
          "y": -0.03653309031279011
         },
         {
          "group": "politics",
          "x": 0.5820598296149723,
          "y": -0.42488969427472806
         },
         {
          "group": "politics",
          "x": 0.21142605681101262,
          "y": -2.0864595248155955
         },
         {
          "group": "politics",
          "x": 0.6511637322840712,
          "y": 1.1636618253933335
         },
         {
          "group": "politics",
          "x": 0.06198464813177104,
          "y": 1.00100993613461
         },
         {
          "group": "politics",
          "x": 0.08448392121372997,
          "y": -0.982079570521669
         },
         {
          "group": "politics",
          "x": -0.18356387172579172,
          "y": -0.0685483721171164
         },
         {
          "group": "politics",
          "x": -1.747827511026524,
          "y": 0.07887495004339877
         },
         {
          "group": "politics",
          "x": -1.4168617741257403,
          "y": -1.4303594717968067
         },
         {
          "group": "politics",
          "x": -3.494639831212249,
          "y": 0.8216754525929589
         },
         {
          "group": "politics",
          "x": -0.2859383330860897,
          "y": 1.3758057040018108
         },
         {
          "group": "politics",
          "x": -0.44598119036998607,
          "y": -0.3370398269945477
         },
         {
          "group": "politics",
          "x": 1.6546978262041625,
          "y": -0.683027467124869
         },
         {
          "group": "politics",
          "x": -0.21694254960973156,
          "y": 1.2567694539597392
         },
         {
          "group": "politics",
          "x": 2.215116661041709,
          "y": 2.909396238654849
         },
         {
          "group": "politics",
          "x": -1.285328011106587,
          "y": 0.2515213978205489
         },
         {
          "group": "politics",
          "x": 1.9476306056817618,
          "y": -1.9511054578689457
         },
         {
          "group": "politics",
          "x": 0.4551861886289004,
          "y": 0.8190568888945076
         },
         {
          "group": "politics",
          "x": 0.8437890806529913,
          "y": -0.2876893071662818
         },
         {
          "group": "politics",
          "x": -0.4195379872101846,
          "y": 0.2327478011055999
         },
         {
          "group": "politics",
          "x": 2.979363192048788,
          "y": -0.7718065861384477
         },
         {
          "group": "politics",
          "x": -0.07435717528410835,
          "y": -0.3276120752053714
         },
         {
          "group": "politics",
          "x": 0.6123889054913307,
          "y": -1.855855524058425
         },
         {
          "group": "politics",
          "x": 0.3886351426050025,
          "y": 0.7846334930980674
         },
         {
          "group": "politics",
          "x": -0.19800915633645533,
          "y": -0.7179954601184461
         },
         {
          "group": "politics",
          "x": -0.43198549907263545,
          "y": -0.3499669591739023
         },
         {
          "group": "politics",
          "x": 1.6410646036965968,
          "y": -0.29166792687848186
         },
         {
          "group": "politics",
          "x": -1.719360039239188,
          "y": 0.049447686649458325
         },
         {
          "group": "politics",
          "x": -0.671605552504413,
          "y": -1.0661862362535117
         },
         {
          "group": "politics",
          "x": 0.3817242839120918,
          "y": 0.9064565930694534
         },
         {
          "group": "politics",
          "x": 0.6691538892063088,
          "y": -1.3453732170888326
         },
         {
          "group": "politics",
          "x": 0.7233705243688238,
          "y": 0.27023724473107275
         },
         {
          "group": "politics",
          "x": 1.1066054212194294,
          "y": -1.9214881301298532
         },
         {
          "group": "politics",
          "x": 1.125694021870704,
          "y": 0.24166046776284972
         },
         {
          "group": "politics",
          "x": 0.7644083979242815,
          "y": 1.6476941089865118
         },
         {
          "group": "politics",
          "x": 1.0275891667675399,
          "y": 1.7130961107035838
         },
         {
          "group": "politics",
          "x": -1.3678014493326511,
          "y": 2.1263267580816008
         },
         {
          "group": "politics",
          "x": 1.8247516075340995,
          "y": -0.3326292998567388
         },
         {
          "group": "politics",
          "x": -0.3462798222082171,
          "y": 0.6620369354563589
         },
         {
          "group": "politics",
          "x": -0.4258593400036297,
          "y": 0.11309759281515869
         },
         {
          "group": "politics",
          "x": 1.5111153278364624,
          "y": -0.7845737969094659
         },
         {
          "group": "politics",
          "x": 1.2005182005702475,
          "y": -2.4873595427046347
         },
         {
          "group": "politics",
          "x": 0.3003662715040198,
          "y": -1.6613842937213845
         },
         {
          "group": "politics",
          "x": -2.552114683548006,
          "y": -2.0839728836642264
         },
         {
          "group": "politics",
          "x": 0.9112862790192132,
          "y": 1.232549787387098
         },
         {
          "group": "politics",
          "x": 0.2443263268831378,
          "y": -1.9570012344897472
         },
         {
          "group": "politics",
          "x": -0.0634882716294892,
          "y": 0.6743744118172358
         },
         {
          "group": "politics",
          "x": 0.07726646797887331,
          "y": -1.0092464564484334
         },
         {
          "group": "politics",
          "x": 0.5265038058149554,
          "y": -2.172192981542237
         },
         {
          "group": "politics",
          "x": -0.056114747247899624,
          "y": 0.10977238645258978
         },
         {
          "group": "politics",
          "x": 0.4920165771365064,
          "y": -1.8242354157212712
         },
         {
          "group": "politics",
          "x": -0.8136624881379708,
          "y": -0.27171111184633967
         },
         {
          "group": "politics",
          "x": 0.27472950548331015,
          "y": 0.4357326494696806
         },
         {
          "group": "politics",
          "x": 0.3025478451544691,
          "y": 2.1341023097921705
         },
         {
          "group": "politics",
          "x": 1.766105380434854,
          "y": -1.2362616638558466
         },
         {
          "group": "politics",
          "x": -0.19875101025540337,
          "y": 1.848207292213771
         },
         {
          "group": "politics",
          "x": -0.8246325032282003,
          "y": -1.2898069392723632
         },
         {
          "group": "politics",
          "x": -1.007155540994494,
          "y": 1.0771131031655143
         },
         {
          "group": "politics",
          "x": -0.38749836574930113,
          "y": 1.7715524670923413
         },
         {
          "group": "politics",
          "x": -0.7949177617288925,
          "y": 1.3804161770265189
         },
         {
          "group": "politics",
          "x": 0.19372100869944203,
          "y": -2.1100166105583162
         },
         {
          "group": "politics",
          "x": -1.1347778677928113,
          "y": 0.2137579464582021
         },
         {
          "group": "politics",
          "x": 0.34849587641582797,
          "y": 0.2517810930673423
         },
         {
          "group": "politics",
          "x": 0.09137240499724716,
          "y": 2.9888727156192325
         },
         {
          "group": "politics",
          "x": -1.126083644936138,
          "y": 1.3165639003540486
         },
         {
          "group": "politics",
          "x": -2.2254713578104903,
          "y": 0.6539913950844759
         },
         {
          "group": "politics",
          "x": 2.1561373914893474,
          "y": -0.5693124128465531
         },
         {
          "group": "politics",
          "x": -0.8213746536600357,
          "y": 1.0595408675713136
         },
         {
          "group": "politics",
          "x": -1.0133951755690092,
          "y": -1.686437769896335
         },
         {
          "group": "politics",
          "x": -1.4890553530509114,
          "y": -0.9665448519839654
         },
         {
          "group": "politics",
          "x": -0.05616338401005655,
          "y": 0.9333358820460026
         },
         {
          "group": "politics",
          "x": -0.10044669728606977,
          "y": 0.17645386224048093
         },
         {
          "group": "politics",
          "x": -2.258850780089017,
          "y": -0.21622463818240165
         },
         {
          "group": "politics",
          "x": -1.629496993249305,
          "y": 0.018907205381960144
         },
         {
          "group": "politics",
          "x": -0.3004610985176127,
          "y": 1.7696105336824153
         },
         {
          "group": "politics",
          "x": -0.2955615186979157,
          "y": -2.14082485684175
         },
         {
          "group": "politics",
          "x": -0.48809277805956014,
          "y": 0.9222244646388119
         },
         {
          "group": "politics",
          "x": 0.7580488784552667,
          "y": -1.6786920087223003
         },
         {
          "group": "politics",
          "x": -0.010929529303224066,
          "y": -0.9429585133957727
         },
         {
          "group": "politics",
          "x": 0.15714891643808238,
          "y": -1.7844309533089804
         },
         {
          "group": "politics",
          "x": -1.087182705076482,
          "y": 2.7000433654464246
         },
         {
          "group": "politics",
          "x": -1.0479850823181145,
          "y": -0.04139363990954441
         },
         {
          "group": "politics",
          "x": 1.0732813544600253,
          "y": -0.4327705192537151
         },
         {
          "group": "politics",
          "x": 2.7322530401308507,
          "y": -2.270925055970186
         },
         {
          "group": "politics",
          "x": 1.3960701750211852,
          "y": -0.44219471711788894
         },
         {
          "group": "politics",
          "x": 1.2233455691037305,
          "y": 1.3514093893588952
         },
         {
          "group": "politics",
          "x": 0.20540099320282837,
          "y": -1.2297947395261244
         },
         {
          "group": "politics",
          "x": 0.2589176058707682,
          "y": 0.6284984236778973
         },
         {
          "group": "politics",
          "x": 0.8222513811931161,
          "y": -0.43115619199768124
         },
         {
          "group": "politics",
          "x": 0.7385520728347001,
          "y": 0.6656167558853812
         },
         {
          "group": "politics",
          "x": 0.4958169454127829,
          "y": 0.6929164079982039
         },
         {
          "group": "politics",
          "x": -1.576676556279038,
          "y": -0.7886277980760704
         },
         {
          "group": "politics",
          "x": -0.3655425959797981,
          "y": -1.3339911489037233
         },
         {
          "group": "politics",
          "x": 0.3175972255149714,
          "y": 1.2768129235077903
         },
         {
          "group": "politics",
          "x": 0.6436145930925374,
          "y": -0.9602008408844159
         },
         {
          "group": "politics",
          "x": 0.5537813843340983,
          "y": -0.4891008968280507
         },
         {
          "group": "politics",
          "x": 0.9604469543291589,
          "y": -1.2432146280396474
         },
         {
          "group": "politics",
          "x": 1.9928561965090035,
          "y": -0.7609681130219014
         },
         {
          "group": "politics",
          "x": -0.49710674363219504,
          "y": 0.5468862522588182
         },
         {
          "group": "politics",
          "x": -1.2463850382618993,
          "y": 2.339068774518074
         },
         {
          "group": "politics",
          "x": 2.966718203357694,
          "y": 2.894352374148833
         },
         {
          "group": "politics",
          "x": -0.859857713584751,
          "y": -2.9702884937960765
         },
         {
          "group": "politics",
          "x": -0.1721580572224466,
          "y": 1.0860936606889822
         },
         {
          "group": "politics",
          "x": 1.9604968488879984,
          "y": 1.234926583539782
         },
         {
          "group": "politics",
          "x": 1.612911373638302,
          "y": -0.1253025337574052
         },
         {
          "group": "politics",
          "x": 0.40897643176544796,
          "y": 1.5778985115764788
         },
         {
          "group": "politics",
          "x": 1.2727759559038294,
          "y": 0.36865286731966057
         },
         {
          "group": "politics",
          "x": 1.6196383708895006,
          "y": 1.7275049556441253
         },
         {
          "group": "politics",
          "x": -0.8748635090471916,
          "y": -0.4183342940023361
         },
         {
          "group": "politics",
          "x": 1.1668735648598787,
          "y": -0.806527087589584
         },
         {
          "group": "politics",
          "x": 0.03675585026693036,
          "y": -0.5628675772844887
         },
         {
          "group": "politics",
          "x": 1.0983034909265459,
          "y": -0.709731399190693
         },
         {
          "group": "politics",
          "x": 0.9736494812609735,
          "y": -0.768121865526621
         },
         {
          "group": "politics",
          "x": 1.1066396808887673,
          "y": 0.49206695137138207
         },
         {
          "group": "politics",
          "x": 1.1762809580676525,
          "y": 0.8770019795424707
         },
         {
          "group": "politics",
          "x": -0.33252223241239043,
          "y": -0.07812800484604032
         },
         {
          "group": "politics",
          "x": 0.2078581652503099,
          "y": 1.7768331101067254
         },
         {
          "group": "politics",
          "x": 0.7855106163951185,
          "y": -1.5250416782811824
         },
         {
          "group": "politics",
          "x": -0.4753785226561276,
          "y": -0.6873513302351745
         },
         {
          "group": "politics",
          "x": -1.9764664930415239,
          "y": -0.6841794070741055
         },
         {
          "group": "politics",
          "x": 1.5664452944856935,
          "y": -1.6817326939823973
         },
         {
          "group": "politics",
          "x": -0.423688622644597,
          "y": -1.1977632068521387
         },
         {
          "group": "politics",
          "x": -0.7245800782107485,
          "y": -0.7152229233800287
         },
         {
          "group": "politics",
          "x": -0.282737859027914,
          "y": -0.002273189162747125
         },
         {
          "group": "politics",
          "x": -0.7600522931052195,
          "y": 1.1731363591768769
         },
         {
          "group": "politics",
          "x": -0.019120165590773407,
          "y": -1.177786356463386
         },
         {
          "group": "politics",
          "x": 0.012487481900473642,
          "y": -0.5727009384304462
         },
         {
          "group": "politics",
          "x": 0.8490563784109161,
          "y": 0.40325228540281366
         },
         {
          "group": "politics",
          "x": 0.22597729580386178,
          "y": -2.055589004280236
         },
         {
          "group": "politics",
          "x": 0.49309528103685096,
          "y": 0.007975667219296814
         },
         {
          "group": "politics",
          "x": 0.28717074745042576,
          "y": 0.16606151309466122
         },
         {
          "group": "politics",
          "x": 0.42567266790697744,
          "y": 1.568167474172505
         },
         {
          "group": "politics",
          "x": -1.0220131248571875,
          "y": 0.703409908109234
         },
         {
          "group": "politics",
          "x": 0.9923820432526455,
          "y": -0.8814837805043426
         },
         {
          "group": "tech",
          "x": -0.7074155824980182,
          "y": 1.7701622843512688
         },
         {
          "group": "tech",
          "x": 2.0614997038152723,
          "y": 1.0680465115530473
         },
         {
          "group": "tech",
          "x": -1.3312852931846817,
          "y": -2.2764837298842293
         },
         {
          "group": "tech",
          "x": -1.203431947526216,
          "y": 1.9600722190645496
         },
         {
          "group": "tech",
          "x": -0.23132027317586878,
          "y": 0.058252276056057546
         },
         {
          "group": "tech",
          "x": -1.026165819990425,
          "y": -2.5157888049313106
         },
         {
          "group": "tech",
          "x": 0.488169049125258,
          "y": -1.863289947659743
         },
         {
          "group": "tech",
          "x": -0.9405709317647938,
          "y": 1.368643884760699
         },
         {
          "group": "tech",
          "x": 2.456159147153775,
          "y": 2.108590453819023
         },
         {
          "group": "tech",
          "x": -0.07955983012947115,
          "y": -0.20782804411976688
         },
         {
          "group": "tech",
          "x": 1.5254079740644944,
          "y": 1.5156993878348162
         },
         {
          "group": "tech",
          "x": 2.520023588774648,
          "y": 0.21907108427905522
         },
         {
          "group": "tech",
          "x": 0.926603993826317,
          "y": -0.9589494345027437
         },
         {
          "group": "tech",
          "x": 1.1310233903310547,
          "y": 0.362220829037112
         },
         {
          "group": "tech",
          "x": -1.2191610482836213,
          "y": -2.107577990268558
         },
         {
          "group": "tech",
          "x": 0.35427449147871026,
          "y": -0.3371360696858118
         },
         {
          "group": "tech",
          "x": 0.8788238201240254,
          "y": 1.3353723454599011
         },
         {
          "group": "tech",
          "x": 0.35170842865366186,
          "y": -1.2823117845998488
         },
         {
          "group": "tech",
          "x": -0.8784319292383553,
          "y": 1.1752725400295292
         },
         {
          "group": "tech",
          "x": 3.602128008926229,
          "y": 0.5333160713192531
         },
         {
          "group": "tech",
          "x": 0.4248665185176562,
          "y": -1.545062553762586
         },
         {
          "group": "tech",
          "x": 1.4714336519684017,
          "y": 0.16291248982985604
         },
         {
          "group": "tech",
          "x": -1.515001593682095,
          "y": -1.0674912050460905
         },
         {
          "group": "tech",
          "x": 0.8048492990804145,
          "y": 1.0311429115954642
         },
         {
          "group": "tech",
          "x": -0.3178932746284678,
          "y": 0.8908109272821046
         },
         {
          "group": "tech",
          "x": -1.6776704109159057,
          "y": -0.3178495326860888
         },
         {
          "group": "tech",
          "x": 0.5107959346127778,
          "y": 1.1655291128201686
         },
         {
          "group": "tech",
          "x": 0.6929698802038614,
          "y": 0.06565337884189977
         },
         {
          "group": "tech",
          "x": 1.9897354587611609,
          "y": 0.08741695604336
         },
         {
          "group": "tech",
          "x": -0.5600777817185779,
          "y": 0.20539007929861286
         },
         {
          "group": "tech",
          "x": 1.0081247604406909,
          "y": 1.4154030950759533
         },
         {
          "group": "tech",
          "x": 0.7353698937741303,
          "y": 1.3255322673498064
         },
         {
          "group": "tech",
          "x": 0.6450670438832589,
          "y": -0.1584733717298516
         },
         {
          "group": "tech",
          "x": 1.7120950381874342,
          "y": 0.2758926853455661
         },
         {
          "group": "tech",
          "x": 1.1781835531200602,
          "y": -1.7778895336917118
         },
         {
          "group": "tech",
          "x": 0.4828704001792964,
          "y": 1.322617334154625
         },
         {
          "group": "tech",
          "x": 1.2703096529891575,
          "y": 0.8213029976777937
         },
         {
          "group": "tech",
          "x": 0.11744939910594104,
          "y": -0.2302911053124586
         },
         {
          "group": "tech",
          "x": 0.9922699691582337,
          "y": 0.8840009209104016
         },
         {
          "group": "tech",
          "x": -0.48373015534440017,
          "y": 1.5079288206499395
         },
         {
          "group": "tech",
          "x": 0.6460132435639533,
          "y": -0.5084182827494561
         },
         {
          "group": "tech",
          "x": 0.20440302771275917,
          "y": -0.058968368859806566
         },
         {
          "group": "tech",
          "x": -0.14165488076755975,
          "y": 0.3250440427368971
         },
         {
          "group": "tech",
          "x": -0.17239437010429642,
          "y": -1.6386687362216092
         },
         {
          "group": "tech",
          "x": -0.8171843855940941,
          "y": -0.2774998913534635
         },
         {
          "group": "tech",
          "x": 2.2484701667788975,
          "y": 0.4438502655497489
         },
         {
          "group": "tech",
          "x": -1.1008142391110078,
          "y": 0.618730680336993
         },
         {
          "group": "tech",
          "x": -0.9449941818588639,
          "y": 1.6023362983512055
         },
         {
          "group": "tech",
          "x": 0.2326020620502244,
          "y": 1.415243120561499
         },
         {
          "group": "tech",
          "x": 2.206497564993664,
          "y": -0.33226409587060335
         },
         {
          "group": "tech",
          "x": -0.0810763424315257,
          "y": 0.3594248046677123
         },
         {
          "group": "tech",
          "x": 1.197719726926503,
          "y": 1.463180944802226
         },
         {
          "group": "tech",
          "x": 0.3192465844154076,
          "y": -0.5692374116609753
         },
         {
          "group": "tech",
          "x": 0.10915553359205284,
          "y": 0.07909514556227812
         },
         {
          "group": "tech",
          "x": -1.5561580587890844,
          "y": 0.06324348931650536
         },
         {
          "group": "tech",
          "x": -0.5109303640329499,
          "y": 0.36438962055901436
         },
         {
          "group": "tech",
          "x": 0.45525740731451825,
          "y": 1.0058405140543796
         },
         {
          "group": "tech",
          "x": -0.9133836969549173,
          "y": -1.9238338992249635
         },
         {
          "group": "tech",
          "x": 2.031631118614037,
          "y": 0.3916672779404077
         },
         {
          "group": "tech",
          "x": 0.5270403240346063,
          "y": -0.216050764779236
         },
         {
          "group": "tech",
          "x": 0.1288183644690766,
          "y": 0.09453482601760967
         },
         {
          "group": "tech",
          "x": 1.3262879865029242,
          "y": 1.2701181063804932
         },
         {
          "group": "tech",
          "x": -1.4459365783113216,
          "y": 0.24332570698744457
         },
         {
          "group": "tech",
          "x": 0.28662259127353673,
          "y": 1.2669505593502335
         },
         {
          "group": "tech",
          "x": 1.2382202583699726,
          "y": 0.5741019990720243
         },
         {
          "group": "tech",
          "x": 0.5250155921048038,
          "y": 1.0098465726371335
         },
         {
          "group": "tech",
          "x": 0.6336440537102592,
          "y": 1.9390615771213353
         },
         {
          "group": "tech",
          "x": 0.7923568877864897,
          "y": 1.6724327969382096
         },
         {
          "group": "tech",
          "x": 1.2816265078855822,
          "y": -1.1723961500285376
         },
         {
          "group": "tech",
          "x": 0.09492651119645894,
          "y": -0.5503691225557551
         },
         {
          "group": "tech",
          "x": 0.5022604839370198,
          "y": -0.22204094420245346
         },
         {
          "group": "tech",
          "x": 1.2898434606205382,
          "y": -1.1021720784426956
         },
         {
          "group": "tech",
          "x": 0.04094127865630018,
          "y": -0.918438686185728
         },
         {
          "group": "tech",
          "x": 1.428516442838413,
          "y": 0.508221901302001
         },
         {
          "group": "tech",
          "x": -1.6806313485472355,
          "y": 1.9204357258631575
         },
         {
          "group": "tech",
          "x": 0.6922114791845638,
          "y": 0.21026856834112445
         },
         {
          "group": "tech",
          "x": -1.027035342597031,
          "y": 1.7772942386389732
         },
         {
          "group": "tech",
          "x": -0.20379735693931514,
          "y": -0.5157043985199318
         },
         {
          "group": "tech",
          "x": -0.9378938965819469,
          "y": 2.3425742653400747
         },
         {
          "group": "tech",
          "x": 0.5964034952095142,
          "y": -1.3812830893064625
         },
         {
          "group": "tech",
          "x": 2.726266741604864,
          "y": 0.33019786140879476
         },
         {
          "group": "tech",
          "x": 1.8767242394180896,
          "y": 0.5375640787908985
         },
         {
          "group": "tech",
          "x": -0.7172281713443428,
          "y": 0.30575865068304015
         },
         {
          "group": "tech",
          "x": -1.150490538565576,
          "y": 1.2119167583314991
         },
         {
          "group": "tech",
          "x": -0.27697783510866586,
          "y": 0.5084115546650162
         },
         {
          "group": "tech",
          "x": -2.0757747493253125,
          "y": -0.5786581935269203
         },
         {
          "group": "tech",
          "x": -0.7626568155711078,
          "y": 1.8713325263367666
         },
         {
          "group": "tech",
          "x": -0.0860609784156364,
          "y": -1.5802783946881032
         },
         {
          "group": "tech",
          "x": -1.8174433465945625,
          "y": -0.39128198576478534
         },
         {
          "group": "tech",
          "x": -0.340126582077458,
          "y": -0.18108795429787083
         },
         {
          "group": "tech",
          "x": -2.0354207092953613,
          "y": -0.4443183797549238
         },
         {
          "group": "tech",
          "x": 0.10955657180141758,
          "y": -0.22372823026066105
         },
         {
          "group": "tech",
          "x": -0.006061670929361079,
          "y": -0.019910660056779127
         },
         {
          "group": "tech",
          "x": -2.324528665331215,
          "y": -0.8634103258982205
         },
         {
          "group": "tech",
          "x": -1.1981097147555118,
          "y": -0.45688225102774155
         },
         {
          "group": "tech",
          "x": -0.6713149002155776,
          "y": -0.05778454075040117
         },
         {
          "group": "tech",
          "x": 0.8878094934584586,
          "y": -0.44793945542401764
         },
         {
          "group": "tech",
          "x": -1.2940291919839086,
          "y": -3.077668559134316
         },
         {
          "group": "tech",
          "x": 0.07337464444647308,
          "y": -1.2574592869802657
         },
         {
          "group": "tech",
          "x": 1.235391640363133,
          "y": -1.5391188702855143
         },
         {
          "group": "tech",
          "x": 2.0619979813785383,
          "y": -1.3138160629064595
         },
         {
          "group": "tech",
          "x": 0.005670826690293159,
          "y": -1.1747588042134107
         },
         {
          "group": "tech",
          "x": 0.027481548960388128,
          "y": 1.5651217837671914
         },
         {
          "group": "tech",
          "x": 1.2238719487878635,
          "y": -1.0383329205676564
         },
         {
          "group": "tech",
          "x": -1.2308032241359206,
          "y": 0.3945122473288685
         },
         {
          "group": "tech",
          "x": -1.3794822775500377,
          "y": 0.2618662177011973
         },
         {
          "group": "tech",
          "x": 1.051063684438999,
          "y": -1.9568644605009429
         },
         {
          "group": "tech",
          "x": 1.0970814861865819,
          "y": 2.517382070409474
         },
         {
          "group": "tech",
          "x": -0.8344749085871379,
          "y": 0.0886178577044068
         },
         {
          "group": "tech",
          "x": -1.1267623171163699,
          "y": 0.8677318312894667
         },
         {
          "group": "tech",
          "x": 1.132720213657522,
          "y": -1.8233770321636524
         },
         {
          "group": "tech",
          "x": -2.3461027655517115,
          "y": 1.5127502172131686
         },
         {
          "group": "tech",
          "x": 0.7044955551707953,
          "y": -0.4214604386173319
         },
         {
          "group": "tech",
          "x": 0.9769798957219422,
          "y": -1.0731436200652051
         },
         {
          "group": "tech",
          "x": -0.22912216690023826,
          "y": 0.3617185905308552
         },
         {
          "group": "tech",
          "x": -1.29680440703622,
          "y": 0.17669017310362622
         },
         {
          "group": "tech",
          "x": -0.43779801542739133,
          "y": 0.5521708552632631
         },
         {
          "group": "tech",
          "x": 3.285698606552839,
          "y": 1.0064768665871962
         },
         {
          "group": "tech",
          "x": 0.9773591974583797,
          "y": -0.47675885694367176
         },
         {
          "group": "tech",
          "x": -0.49396280130211223,
          "y": 0.6180648631782354
         },
         {
          "group": "tech",
          "x": -0.28735749427662505,
          "y": -0.33206773239789
         },
         {
          "group": "tech",
          "x": -0.47723516663679405,
          "y": -0.9465749350237125
         },
         {
          "group": "tech",
          "x": -0.6506105705316663,
          "y": 0.5843653405822152
         },
         {
          "group": "tech",
          "x": 0.07828183651280546,
          "y": 1.5242400865219812
         },
         {
          "group": "tech",
          "x": 1.0241929795373927,
          "y": 1.7775726975219177
         },
         {
          "group": "tech",
          "x": 0.16759155687478833,
          "y": 0.2558643336711384
         },
         {
          "group": "tech",
          "x": 1.4454996671944724,
          "y": 2.0281927181100783
         },
         {
          "group": "tech",
          "x": 1.0334254915101428,
          "y": 0.10146957579723119
         },
         {
          "group": "tech",
          "x": -0.7190001577571684,
          "y": 1.4962182876980168
         },
         {
          "group": "tech",
          "x": 0.31533872081967756,
          "y": 1.4185690612469806
         },
         {
          "group": "tech",
          "x": 0.7493093190630513,
          "y": 0.6372124628740472
         },
         {
          "group": "tech",
          "x": 1.8051629844619734,
          "y": 0.28166825271831986
         },
         {
          "group": "tech",
          "x": 1.026807733508598,
          "y": 1.9563396334831644
         },
         {
          "group": "tech",
          "x": -0.6371328253415847,
          "y": 0.8846026227187632
         },
         {
          "group": "tech",
          "x": 0.14402719209652654,
          "y": 1.3519604872631144
         },
         {
          "group": "tech",
          "x": 0.027578013434414617,
          "y": 2.2308658004637048
         },
         {
          "group": "tech",
          "x": -2.0570496903174833,
          "y": -0.3839816936264282
         },
         {
          "group": "tech",
          "x": 2.064508353849094,
          "y": -1.9401691311136668
         },
         {
          "group": "tech",
          "x": 0.2602315758729937,
          "y": 0.7704734948965193
         },
         {
          "group": "tech",
          "x": -1.9247989413141635,
          "y": 1.3641640027557416
         },
         {
          "group": "tech",
          "x": 0.5162413178118495,
          "y": -0.03799621784330757
         },
         {
          "group": "tech",
          "x": 1.9975009825582886,
          "y": 2.1775256968675243
         },
         {
          "group": "tech",
          "x": 0.4370237149367078,
          "y": 0.6617582618695089
         },
         {
          "group": "tech",
          "x": 0.6775358449498373,
          "y": -0.3502060049135124
         },
         {
          "group": "tech",
          "x": 0.4462292989451487,
          "y": -1.0697179911178816
         },
         {
          "group": "tech",
          "x": 1.5456950805426968,
          "y": -0.6065681124620343
         },
         {
          "group": "tech",
          "x": -1.168628126213686,
          "y": -0.4157212093789442
         },
         {
          "group": "tech",
          "x": 0.364602642113425,
          "y": -0.8698903401208207
         },
         {
          "group": "tech",
          "x": 1.3282097225775817,
          "y": 2.575402113108073
         },
         {
          "group": "tech",
          "x": 0.24939919448948566,
          "y": -0.9719070097114441
         },
         {
          "group": "tech",
          "x": 0.6812592446786012,
          "y": 0.7930396190417158
         },
         {
          "group": "tech",
          "x": 0.9840767913465861,
          "y": -2.277498754119419
         },
         {
          "group": "tech",
          "x": 1.4391088636808465,
          "y": 0.3679319436959543
         },
         {
          "group": "tech",
          "x": -0.10510827148869367,
          "y": -2.2771685013085996
         },
         {
          "group": "tech",
          "x": -0.3666757379080853,
          "y": -1.8328525694725488
         },
         {
          "group": "tech",
          "x": 0.12999507553710282,
          "y": -0.38636100261531753
         },
         {
          "group": "tech",
          "x": 0.17663294875408556,
          "y": 0.9096730096720458
         },
         {
          "group": "tech",
          "x": -1.3115647828753838,
          "y": 1.6715629866107333
         },
         {
          "group": "tech",
          "x": -0.249949309540027,
          "y": 1.5932366053071847
         },
         {
          "group": "tech",
          "x": -1.0654066272044647,
          "y": 1.147764389279298
         },
         {
          "group": "tech",
          "x": 1.0365623482805795,
          "y": 0.8841787331251887
         },
         {
          "group": "tech",
          "x": 0.4410516373035398,
          "y": -0.004681593108225646
         },
         {
          "group": "tech",
          "x": 3.313639741925014,
          "y": 0.821675068540125
         },
         {
          "group": "tech",
          "x": 2.06165989166506,
          "y": -1.4154978994369358
         },
         {
          "group": "tech",
          "x": 0.2856283734557126,
          "y": -0.15946552357614538
         },
         {
          "group": "tech",
          "x": 0.047767173342793345,
          "y": 0.6697171137204455
         },
         {
          "group": "tech",
          "x": -1.3599155985272577,
          "y": 0.5490488542334293
         },
         {
          "group": "tech",
          "x": 0.7535956919805765,
          "y": -2.852612892324524
         },
         {
          "group": "tech",
          "x": -0.665539321263774,
          "y": -0.2119004979895164
         },
         {
          "group": "tech",
          "x": 0.47587078561529755,
          "y": 0.6943690223385479
         },
         {
          "group": "tech",
          "x": 2.1774090418475076,
          "y": 0.0834007577784742
         },
         {
          "group": "tech",
          "x": -0.0018829476246916403,
          "y": -0.4917329385890242
         },
         {
          "group": "tech",
          "x": -1.4338999666339212,
          "y": -0.9305780405517261
         },
         {
          "group": "tech",
          "x": 1.7956706031317682,
          "y": 1.0439304287894537
         },
         {
          "group": "tech",
          "x": 1.5741810875373272,
          "y": 1.7722441330161982
         },
         {
          "group": "tech",
          "x": -1.0441915258454566,
          "y": -0.3147899738244923
         },
         {
          "group": "tech",
          "x": 0.3449399865121514,
          "y": -0.046573125839414815
         },
         {
          "group": "tech",
          "x": -0.06570251557488574,
          "y": 0.8863666494329209
         },
         {
          "group": "tech",
          "x": 2.2598424225258853,
          "y": 0.09645714595265387
         },
         {
          "group": "tech",
          "x": 0.6125734505836093,
          "y": 0.7418350638542337
         },
         {
          "group": "tech",
          "x": -0.37540047719214475,
          "y": 0.47356109321073286
         },
         {
          "group": "tech",
          "x": 0.8030979753931758,
          "y": 0.6001564274525419
         },
         {
          "group": "tech",
          "x": 0.56293386677048,
          "y": 0.6854950444056146
         },
         {
          "group": "tech",
          "x": -0.9426157894257114,
          "y": 0.8038699536915236
         },
         {
          "group": "tech",
          "x": -0.3286391100874173,
          "y": 0.6892569561439915
         },
         {
          "group": "tech",
          "x": 0.13061698956319298,
          "y": -0.44745591752177577
         },
         {
          "group": "tech",
          "x": -0.49425023745486607,
          "y": -2.3069143765020788
         },
         {
          "group": "tech",
          "x": -0.5685063893770674,
          "y": -1.9691424096127599
         },
         {
          "group": "tech",
          "x": 1.7316725393335957,
          "y": -0.699160559207729
         },
         {
          "group": "tech",
          "x": -1.2457708361771498,
          "y": -1.4264129680593933
         },
         {
          "group": "tech",
          "x": -0.7520716623850981,
          "y": 1.4486282057060111
         },
         {
          "group": "tech",
          "x": 0.012798734007422187,
          "y": 0.8184051757402383
         },
         {
          "group": "tech",
          "x": -2.206561743034844,
          "y": 0.3243838714757453
         },
         {
          "group": "tech",
          "x": -1.172167602109151,
          "y": 2.4711824429103637
         },
         {
          "group": "tech",
          "x": 2.363660126930136,
          "y": 0.6935263891885737
         },
         {
          "group": "tech",
          "x": 1.5817259886495874,
          "y": 0.781725045848166
         },
         {
          "group": "tech",
          "x": 0.9185644222504381,
          "y": -1.4562776296705195
         },
         {
          "group": "tech",
          "x": -0.5392919328247817,
          "y": -0.3959717352225676
         },
         {
          "group": "tech",
          "x": 0.4479438193361107,
          "y": -0.23853733741309327
         },
         {
          "group": "tech",
          "x": 0.6844357260450966,
          "y": -0.8970570917046408
         },
         {
          "group": "tech",
          "x": 2.4393834883983083,
          "y": -0.6638968873665894
         },
         {
          "group": "tech",
          "x": 0.9804323818841583,
          "y": 1.785335584777437
         },
         {
          "group": "tech",
          "x": -0.3390296229420622,
          "y": 1.3569114692935067
         },
         {
          "group": "tech",
          "x": 1.356929161960381,
          "y": 0.900885041096108
         },
         {
          "group": "tech",
          "x": -1.8334473751182316,
          "y": 0.8638487726075014
         },
         {
          "group": "tech",
          "x": 0.09881560354914205,
          "y": -0.6845638164118837
         },
         {
          "group": "tech",
          "x": 0.4856789378481228,
          "y": -0.26151768127403596
         },
         {
          "group": "tech",
          "x": -0.03053931196858133,
          "y": 0.7063718134653315
         },
         {
          "group": "tech",
          "x": -0.38675553529929946,
          "y": -0.22933632399016515
         },
         {
          "group": "tech",
          "x": 2.070862327981469,
          "y": 1.9043019278330005
         },
         {
          "group": "tech",
          "x": -0.37216566195570083,
          "y": -0.9061098694069024
         },
         {
          "group": "tech",
          "x": 0.7333266333234856,
          "y": -0.43999186176334054
         },
         {
          "group": "tech",
          "x": 1.1147492462102992,
          "y": -2.4139351405709286
         },
         {
          "group": "tech",
          "x": -1.0607607894996298,
          "y": -0.20183525737339747
         },
         {
          "group": "tech",
          "x": 0.3383333228607716,
          "y": -1.766131165479806
         },
         {
          "group": "tech",
          "x": -0.29058885018386277,
          "y": 1.5377811473251861
         },
         {
          "group": "tech",
          "x": 0.04911230982395445,
          "y": -1.3954375828004846
         },
         {
          "group": "tech",
          "x": 2.5315084746892738,
          "y": 2.3300119248646265
         },
         {
          "group": "tech",
          "x": -0.32967567086616467,
          "y": 1.3542641457194917
         },
         {
          "group": "tech",
          "x": -0.9369134783678219,
          "y": -1.6907890264288934
         },
         {
          "group": "tech",
          "x": -0.8216915755904693,
          "y": 0.385990721206338
         },
         {
          "group": "tech",
          "x": 1.0912891065656456,
          "y": 0.603020912594682
         },
         {
          "group": "tech",
          "x": -0.6304259180525013,
          "y": 1.4062565958172255
         },
         {
          "group": "tech",
          "x": -0.9427319762876469,
          "y": -0.6774704506465999
         },
         {
          "group": "tech",
          "x": 0.23346211247914123,
          "y": 0.33362992224286386
         },
         {
          "group": "tech",
          "x": -0.5624645886794388,
          "y": -0.47009993815196777
         },
         {
          "group": "tech",
          "x": 2.1823930565089147,
          "y": -0.2582138331851938
         },
         {
          "group": "tech",
          "x": -1.153005980232111,
          "y": 0.9604592148305344
         },
         {
          "group": "tech",
          "x": 1.420672218236031,
          "y": 0.30026649825109786
         },
         {
          "group": "tech",
          "x": -1.9330095521335744,
          "y": 1.799665440841189
         },
         {
          "group": "tech",
          "x": -0.3542377281570738,
          "y": -0.5987934537775712
         },
         {
          "group": "tech",
          "x": 1.5911534072420646,
          "y": -0.09035943350237888
         },
         {
          "group": "tech",
          "x": -1.8087497103447265,
          "y": 1.912072188207478
         },
         {
          "group": "tech",
          "x": 0.25614771498484507,
          "y": 1.4349246824456798
         },
         {
          "group": "tech",
          "x": -0.4689267882695384,
          "y": 0.5425817968053799
         },
         {
          "group": "tech",
          "x": 0.17513920571401123,
          "y": -1.386870537570631
         },
         {
          "group": "tech",
          "x": 0.9545781757611881,
          "y": 0.23264644876946122
         },
         {
          "group": "tech",
          "x": 0.8700767128800396,
          "y": 1.2240285970949203
         },
         {
          "group": "tech",
          "x": -0.9443386649604716,
          "y": -0.3369124222428147
         },
         {
          "group": "tech",
          "x": 2.752237480255969,
          "y": -1.7411253237373054
         },
         {
          "group": "tech",
          "x": 2.544350032567765,
          "y": 1.2327623806014798
         },
         {
          "group": "tech",
          "x": 0.907800891283207,
          "y": 0.003449895079877781
         },
         {
          "group": "tech",
          "x": 0.12561055818116906,
          "y": 0.1661269854521944
         },
         {
          "group": "tech",
          "x": 0.4327788979552094,
          "y": 0.8269266490594999
         },
         {
          "group": "tech",
          "x": -1.129845976250382,
          "y": 1.675304857319131
         },
         {
          "group": "tech",
          "x": -0.1280286968647964,
          "y": 0.5618786397966612
         },
         {
          "group": "tech",
          "x": 0.7547451320951283,
          "y": 0.9467461019791377
         },
         {
          "group": "tech",
          "x": 1.26488243537553,
          "y": -0.8586482645228267
         },
         {
          "group": "tech",
          "x": 0.5635763804790564,
          "y": 0.44111073653012894
         },
         {
          "group": "tech",
          "x": 0.20130366008025635,
          "y": -0.7458064308211905
         },
         {
          "group": "tech",
          "x": 1.0179710449200357,
          "y": -0.24813279751240988
         },
         {
          "group": "tech",
          "x": 0.6570999855452345,
          "y": -1.8963666728341326
         },
         {
          "group": "tech",
          "x": -0.5023008922715094,
          "y": 0.4626651455741266
         },
         {
          "group": "tech",
          "x": 1.6657441086789309,
          "y": 0.19353879015899073
         },
         {
          "group": "tech",
          "x": 0.05962906375765651,
          "y": -1.331575382573391
         },
         {
          "group": "tech",
          "x": -1.1849731386405875,
          "y": -0.740538197905683
         },
         {
          "group": "tech",
          "x": -1.0746209735853909,
          "y": -0.2816084819572058
         },
         {
          "group": "tech",
          "x": 1.8706413904839407,
          "y": 0.6596425334436599
         },
         {
          "group": "tech",
          "x": 1.4333854299133693,
          "y": 0.2685780729745554
         },
         {
          "group": "tech",
          "x": 0.5242488488580821,
          "y": -1.3953931985871468
         },
         {
          "group": "tech",
          "x": 0.636106174989643,
          "y": 1.613095491524501
         },
         {
          "group": "tech",
          "x": -1.5970846292689762,
          "y": -1.620787983141801
         },
         {
          "group": "tech",
          "x": -0.08271266911455866,
          "y": 0.232032970326929
         },
         {
          "group": "tech",
          "x": 1.3362651453618213,
          "y": 3.53083603386479
         },
         {
          "group": "tech",
          "x": 1.080750776829487,
          "y": 1.759296961005582
         },
         {
          "group": "tech",
          "x": 0.46336534758443565,
          "y": 0.9461908825397384
         },
         {
          "group": "tech",
          "x": 1.5304372358512783,
          "y": 0.3995128195588727
         },
         {
          "group": "tech",
          "x": 1.6624471109802128,
          "y": -2.072852654583445
         },
         {
          "group": "tech",
          "x": 1.2411931981992517,
          "y": 1.2515234550148007
         },
         {
          "group": "tech",
          "x": 1.3710540140288512,
          "y": -0.7602945789191436
         },
         {
          "group": "tech",
          "x": -1.9885589634923377,
          "y": 1.1880536059072226
         },
         {
          "group": "tech",
          "x": 2.840474461085922,
          "y": -0.0004551990910826339
         },
         {
          "group": "tech",
          "x": 3.297119453182859,
          "y": 0.23420431158782756
         },
         {
          "group": "tech",
          "x": 0.3717489390079189,
          "y": -2.7551887477650383
         },
         {
          "group": "tech",
          "x": 1.2565232798943262,
          "y": -0.7980593529077963
         },
         {
          "group": "tech",
          "x": 1.5177606946518556,
          "y": -0.9671982709926681
         },
         {
          "group": "tech",
          "x": 2.1154059710730944,
          "y": -1.218148458808641
         },
         {
          "group": "tech",
          "x": 1.0457949196744578,
          "y": 0.8048568950028132
         },
         {
          "group": "tech",
          "x": 0.2035636288122466,
          "y": 2.1006180454849406
         },
         {
          "group": "tech",
          "x": -0.3663855339704255,
          "y": 1.9746130759933445
         },
         {
          "group": "tech",
          "x": 1.4256513633933958,
          "y": -0.4931853772281646
         },
         {
          "group": "tech",
          "x": -1.6325997175305447,
          "y": 0.8774595334288723
         },
         {
          "group": "tech",
          "x": -1.5878295558400315,
          "y": -0.34425545011224
         },
         {
          "group": "tech",
          "x": 0.8651422255896719,
          "y": -0.4935767516370458
         },
         {
          "group": "tech",
          "x": 1.0157479997105896,
          "y": 0.2879437861831233
         },
         {
          "group": "tech",
          "x": -0.981060739933541,
          "y": -0.5695144390814237
         },
         {
          "group": "tech",
          "x": 1.0969942087188063,
          "y": 1.328567501285623
         },
         {
          "group": "tech",
          "x": -0.8604120717687692,
          "y": -2.1057754836903446
         },
         {
          "group": "tech",
          "x": 0.7934009462432338,
          "y": 2.6766525792273455
         },
         {
          "group": "tech",
          "x": -1.0281603863287399,
          "y": 0.4284048938609
         },
         {
          "group": "tech",
          "x": -1.1512095231191957,
          "y": -0.8435221914301042
         },
         {
          "group": "tech",
          "x": -0.7868630760991945,
          "y": -0.06808860781818558
         },
         {
          "group": "tech",
          "x": -0.6814482450532265,
          "y": 0.3309678995084042
         },
         {
          "group": "tech",
          "x": 0.6427962324095283,
          "y": -0.1900274147441979
         },
         {
          "group": "tech",
          "x": 0.23647834740085175,
          "y": 0.10115248214777764
         },
         {
          "group": "tech",
          "x": 0.2915901654054764,
          "y": 0.45673693757671396
         },
         {
          "group": "tech",
          "x": -0.25029611151360665,
          "y": 1.2314285475944584
         },
         {
          "group": "tech",
          "x": 1.3972209613031925,
          "y": 0.5723233990219047
         },
         {
          "group": "tech",
          "x": 0.040690074868888614,
          "y": -0.1374945545333471
         },
         {
          "group": "tech",
          "x": 0.6250997234189699,
          "y": -2.4191888315751675
         },
         {
          "group": "tech",
          "x": 0.6650743755035498,
          "y": 0.6171402868438911
         },
         {
          "group": "tech",
          "x": -0.23513319697912582,
          "y": 2.7253568534861534
         },
         {
          "group": "tech",
          "x": 1.8059331866782093,
          "y": 0.8565513663331292
         },
         {
          "group": "tech",
          "x": -0.827768532043024,
          "y": -1.426905482140672
         },
         {
          "group": "tech",
          "x": -1.3591062454585017,
          "y": 0.9564310450397463
         },
         {
          "group": "tech",
          "x": -1.9788305638047832,
          "y": -0.33438537790305967
         },
         {
          "group": "tech",
          "x": 0.47785536971655135,
          "y": -2.3902810650242166
         },
         {
          "group": "tech",
          "x": 2.595506395705359,
          "y": 1.1897695277954576
         },
         {
          "group": "tech",
          "x": 0.17927569911691915,
          "y": 0.7120602098426798
         },
         {
          "group": "tech",
          "x": -0.4014386613190621,
          "y": 0.5511113590959604
         },
         {
          "group": "tech",
          "x": -0.40222948710444195,
          "y": -0.6242429121933634
         },
         {
          "group": "tech",
          "x": -0.638240432674287,
          "y": -0.15467420634129433
         },
         {
          "group": "tech",
          "x": -0.4179407988581687,
          "y": 0.8095267558957245
         },
         {
          "group": "tech",
          "x": -0.3881960846664534,
          "y": 0.0031552810841821944
         },
         {
          "group": "tech",
          "x": -1.2541719428494025,
          "y": -1.785727219535901
         },
         {
          "group": "tech",
          "x": 0.9809340507876367,
          "y": -1.0605187332733745
         },
         {
          "group": "tech",
          "x": 1.05618950667643,
          "y": -1.6512530827844105
         },
         {
          "group": "tech",
          "x": -0.0030009059208096515,
          "y": 0.8665219671725073
         },
         {
          "group": "tech",
          "x": 1.167606526184114,
          "y": 1.2284855690571064
         },
         {
          "group": "tech",
          "x": 1.4044373799966865,
          "y": 0.30597103740885084
         },
         {
          "group": "tech",
          "x": 2.180699376315141,
          "y": 2.4564185729266192
         },
         {
          "group": "tech",
          "x": -0.0653224820598232,
          "y": -1.1787555380073245
         },
         {
          "group": "tech",
          "x": 1.1471102418202042,
          "y": 0.21393641934211763
         },
         {
          "group": "tech",
          "x": -0.1926373576491369,
          "y": 1.219796330607692
         },
         {
          "group": "tech",
          "x": -0.29637847211652596,
          "y": -0.2679035542434354
         },
         {
          "group": "tech",
          "x": 2.1031611922842006,
          "y": 1.3153143447025042
         },
         {
          "group": "tech",
          "x": 1.6422112476510486,
          "y": -0.0732498566114818
         },
         {
          "group": "tech",
          "x": 0.3179402399415086,
          "y": -0.3745677988957968
         },
         {
          "group": "tech",
          "x": 1.2334918066669742,
          "y": 0.9424797387036972
         },
         {
          "group": "tech",
          "x": 2.2598949877985257,
          "y": -0.851170153983575
         },
         {
          "group": "tech",
          "x": -0.5048824839737803,
          "y": -0.19096330359278116
         },
         {
          "group": "tech",
          "x": 0.1485834205746186,
          "y": -0.1040968472305836
         },
         {
          "group": "tech",
          "x": -1.7637926633562022,
          "y": 1.5752353431363384
         },
         {
          "group": "tech",
          "x": -0.28038850297176676,
          "y": 1.5384587711422122
         },
         {
          "group": "tech",
          "x": -0.9679957526314609,
          "y": 0.5780020916263754
         },
         {
          "group": "tech",
          "x": 0.034933691067600595,
          "y": 1.8420776330292408
         },
         {
          "group": "tech",
          "x": 1.1889403136971974,
          "y": 0.6378762553572421
         },
         {
          "group": "tech",
          "x": 0.4759309257387958,
          "y": 0.037722462720829054
         },
         {
          "group": "tech",
          "x": -0.7046224173327348,
          "y": 1.0030944358943485
         },
         {
          "group": "tech",
          "x": -1.2189453648696453,
          "y": 0.3386418772450212
         },
         {
          "group": "tech",
          "x": 2.4591985961974867,
          "y": -1.5512359282923354
         },
         {
          "group": "tech",
          "x": 0.7502560216501976,
          "y": 1.4296905065918641
         },
         {
          "group": "tech",
          "x": 1.7174371745247266,
          "y": 1.2307446195093688
         },
         {
          "group": "tech",
          "x": 0.7196105734040265,
          "y": 0.8275287549948919
         },
         {
          "group": "tech",
          "x": -0.5791099107681956,
          "y": -1.7285690952921486
         },
         {
          "group": "tech",
          "x": 1.4627154113432572,
          "y": -0.8898315646083856
         },
         {
          "group": "tech",
          "x": 0.7377594699433615,
          "y": 1.6625278227829474
         },
         {
          "group": "tech",
          "x": -0.380067011202562,
          "y": -0.13252001667209953
         },
         {
          "group": "tech",
          "x": 0.05961831867248855,
          "y": -2.385145708300848
         },
         {
          "group": "tech",
          "x": -0.6751870457988489,
          "y": 0.37899589353784147
         },
         {
          "group": "tech",
          "x": 0.268116828227472,
          "y": 0.7568593526701041
         },
         {
          "group": "tech",
          "x": 0.8215110066087419,
          "y": -1.0638429121010142
         },
         {
          "group": "tech",
          "x": -2.3466389657902256,
          "y": -0.43603132760473345
         },
         {
          "group": "tech",
          "x": 1.1765299982292483,
          "y": 0.9922692908942572
         },
         {
          "group": "tech",
          "x": -1.1109449528860293,
          "y": -2.3202150636151915
         },
         {
          "group": "tech",
          "x": 0.07617403610776871,
          "y": 1.917932915427466
         },
         {
          "group": "tech",
          "x": -1.078079053826364,
          "y": 0.6339606200173011
         },
         {
          "group": "tech",
          "x": 1.861830530552403,
          "y": 0.4014647013839175
         },
         {
          "group": "tech",
          "x": 0.8290509105872959,
          "y": 1.0065060594719868
         },
         {
          "group": "tech",
          "x": -0.6250659500977973,
          "y": -1.1157623729919022
         },
         {
          "group": "tech",
          "x": -0.8277632451606595,
          "y": 0.9644819790289025
         },
         {
          "group": "tech",
          "x": -0.6654395929276391,
          "y": 2.1650302477381294
         },
         {
          "group": "tech",
          "x": -1.1515505730674445,
          "y": 1.927069097171044
         },
         {
          "group": "tech",
          "x": 1.0636679774266407,
          "y": -0.07142170831959715
         },
         {
          "group": "tech",
          "x": -0.8610831012416815,
          "y": 1.0492029994316987
         },
         {
          "group": "tech",
          "x": -1.1230416116508646,
          "y": 2.2328792428845152
         },
         {
          "group": "tech",
          "x": 0.4970004473753263,
          "y": 0.09486783780698493
         },
         {
          "group": "tech",
          "x": 0.4522860818534722,
          "y": 1.0598080011024495
         },
         {
          "group": "tech",
          "x": 1.9828361820565772,
          "y": -1.5366707526063241
         },
         {
          "group": "tech",
          "x": -0.6535096676650453,
          "y": -1.0331152887086457
         },
         {
          "group": "tech",
          "x": -1.0509858419610376,
          "y": -0.6447032207429565
         },
         {
          "group": "tech",
          "x": -0.2396290342199996,
          "y": 1.2993686030529346
         },
         {
          "group": "tech",
          "x": -1.2655036044629377,
          "y": 1.168595477916439
         },
         {
          "group": "tech",
          "x": -0.4926037293897378,
          "y": 0.3159212905064781
         },
         {
          "group": "tech",
          "x": 0.13734026398897342,
          "y": 1.3076936002425774
         },
         {
          "group": "tech",
          "x": 0.859245446754065,
          "y": -0.6694321203181781
         },
         {
          "group": "tech",
          "x": -1.9571196255763328,
          "y": 0.04491997257662668
         },
         {
          "group": "tech",
          "x": -0.22440113583225157,
          "y": -1.0735196249323973
         },
         {
          "group": "tech",
          "x": -0.8328919276180003,
          "y": -0.42988165954829927
         },
         {
          "group": "tech",
          "x": -0.5794280017753838,
          "y": -1.173310442145587
         },
         {
          "group": "tech",
          "x": 1.9690739036952822,
          "y": 0.03306122850454677
         },
         {
          "group": "tech",
          "x": 0.8058030221667664,
          "y": 0.4074562149057777
         },
         {
          "group": "tech",
          "x": 0.5111063522316303,
          "y": -0.4436362220275273
         },
         {
          "group": "tech",
          "x": 1.8624126168267132,
          "y": 0.510813487934413
         },
         {
          "group": "tech",
          "x": -0.4770578238645453,
          "y": -0.5332946450572074
         },
         {
          "group": "tech",
          "x": -0.10189761483064246,
          "y": 1.689595964665063
         },
         {
          "group": "tech",
          "x": 0.8047503136701669,
          "y": -1.3978340238056188
         },
         {
          "group": "tech",
          "x": 1.2365003540337365,
          "y": -0.44450769911420396
         },
         {
          "group": "tech",
          "x": 0.12640914949402396,
          "y": 1.4183274545007998
         },
         {
          "group": "tech",
          "x": 2.1471659030158827,
          "y": -1.4423160604296155
         },
         {
          "group": "tech",
          "x": 0.10941843986258587,
          "y": -0.40486769696236197
         },
         {
          "group": "tech",
          "x": -0.35035129719699215,
          "y": -0.8371327613481095
         },
         {
          "group": "tech",
          "x": 1.836869917946849,
          "y": 0.6509718334978344
         },
         {
          "group": "tech",
          "x": -1.1112486934099342,
          "y": -1.3821217763828924
         },
         {
          "group": "tech",
          "x": 1.2037122727931537,
          "y": -0.8990360527331049
         },
         {
          "group": "tech",
          "x": -0.574452445819672,
          "y": -0.5663360369551264
         },
         {
          "group": "tech",
          "x": 2.4296707030092106,
          "y": -0.0745470562531927
         },
         {
          "group": "tech",
          "x": -1.6849424196567635,
          "y": -0.4655403108421848
         },
         {
          "group": "tech",
          "x": 0.6995054214045829,
          "y": -0.6708713303044732
         },
         {
          "group": "tech",
          "x": -0.9358185628136406,
          "y": -0.19388605354799274
         },
         {
          "group": "tech",
          "x": -1.1433603404675599,
          "y": -1.9791687184600757
         },
         {
          "group": "entertainment",
          "x": -1.834073940558877,
          "y": 2.244734989232286
         },
         {
          "group": "entertainment",
          "x": 0.4217151388180847,
          "y": 0.7962098294235284
         },
         {
          "group": "entertainment",
          "x": -1.086447336992579,
          "y": -0.6893488913952884
         },
         {
          "group": "entertainment",
          "x": -0.2513789459745664,
          "y": 0.8249113308861868
         },
         {
          "group": "entertainment",
          "x": 0.09977839222435272,
          "y": 0.07970309488956623
         },
         {
          "group": "entertainment",
          "x": 3.6033323733468077,
          "y": 0.3488409976520677
         },
         {
          "group": "entertainment",
          "x": 1.2767112993590892,
          "y": -0.9532595956394774
         },
         {
          "group": "entertainment",
          "x": 0.23167765667763876,
          "y": 1.349746060952233
         },
         {
          "group": "entertainment",
          "x": 2.1843311326680963,
          "y": -0.6401045611784856
         },
         {
          "group": "entertainment",
          "x": 0.37051663282854935,
          "y": 1.722092607289157
         },
         {
          "group": "entertainment",
          "x": -1.532803929725491,
          "y": 0.4666333987072703
         },
         {
          "group": "entertainment",
          "x": 1.345204967635954,
          "y": 0.5401726692847355
         },
         {
          "group": "entertainment",
          "x": 0.48867640812645224,
          "y": -0.9403935788124621
         },
         {
          "group": "entertainment",
          "x": 0.39226667254806924,
          "y": -2.1904145286862646
         },
         {
          "group": "entertainment",
          "x": 0.5755791741805623,
          "y": -1.5382683864504363
         },
         {
          "group": "entertainment",
          "x": -0.35371172671651,
          "y": -0.3621710354213381
         },
         {
          "group": "entertainment",
          "x": 0.6921262295520686,
          "y": 0.3326445397007501
         },
         {
          "group": "entertainment",
          "x": 1.5871662004485778,
          "y": -0.5591521161104241
         },
         {
          "group": "entertainment",
          "x": -0.705922951855745,
          "y": -0.6353380064100802
         },
         {
          "group": "entertainment",
          "x": 3.6258646489526565,
          "y": -1.4875665813543553
         },
         {
          "group": "entertainment",
          "x": -0.1363947222954898,
          "y": 1.116684395383272
         },
         {
          "group": "entertainment",
          "x": -0.1311895023698071,
          "y": -0.3644666528153772
         },
         {
          "group": "entertainment",
          "x": -1.7690166026393086,
          "y": -0.2849991696677006
         },
         {
          "group": "entertainment",
          "x": -0.6181186633203576,
          "y": 0.7246791255373165
         },
         {
          "group": "entertainment",
          "x": 0.8434662495644293,
          "y": 0.7504203377309389
         },
         {
          "group": "entertainment",
          "x": 0.4091494568872897,
          "y": -2.6314358035040035
         },
         {
          "group": "entertainment",
          "x": 0.6794835769304015,
          "y": 0.24696720918592366
         },
         {
          "group": "entertainment",
          "x": 0.4419013555045364,
          "y": 1.5030212448400644
         },
         {
          "group": "entertainment",
          "x": 1.4248147500902488,
          "y": -1.207018642377751
         },
         {
          "group": "entertainment",
          "x": -0.1749413255466553,
          "y": 0.5517821477914895
         },
         {
          "group": "entertainment",
          "x": -1.1199199346675501,
          "y": 0.8697308767115808
         },
         {
          "group": "entertainment",
          "x": 0.4268095012165954,
          "y": 0.208692418917263
         },
         {
          "group": "entertainment",
          "x": -0.20747450157406486,
          "y": -0.807232410191273
         },
         {
          "group": "entertainment",
          "x": -0.1318102648000881,
          "y": -0.4696148435744814
         },
         {
          "group": "entertainment",
          "x": -1.4264699352025483,
          "y": 0.3879205643117968
         },
         {
          "group": "entertainment",
          "x": -1.750989866987321,
          "y": 0.27318121859081373
         },
         {
          "group": "entertainment",
          "x": 1.2629066293646083,
          "y": 1.7514716026134567
         },
         {
          "group": "entertainment",
          "x": -0.527982693797077,
          "y": 0.292155994368087
         },
         {
          "group": "entertainment",
          "x": -1.0476053771846403,
          "y": -0.011044384442645645
         },
         {
          "group": "entertainment",
          "x": 1.7834310751679683,
          "y": 1.4686503644227162
         },
         {
          "group": "entertainment",
          "x": -0.7705854691782105,
          "y": 1.2310832705290098
         },
         {
          "group": "entertainment",
          "x": -1.727059465613666,
          "y": -1.7220149790057293
         },
         {
          "group": "entertainment",
          "x": -0.09600608023222203,
          "y": 2.2905789673997723
         },
         {
          "group": "entertainment",
          "x": 0.04843079125236298,
          "y": 1.7979144538475884
         },
         {
          "group": "entertainment",
          "x": 1.6682852633345715,
          "y": 1.9268630848281363
         },
         {
          "group": "entertainment",
          "x": -0.806190771251383,
          "y": 1.8880005805479776
         },
         {
          "group": "entertainment",
          "x": -0.14319185660898548,
          "y": 0.06708196687500119
         },
         {
          "group": "entertainment",
          "x": -0.15510124137247602,
          "y": 0.2288452002549796
         },
         {
          "group": "entertainment",
          "x": 4.566182765670046,
          "y": 1.549397672384518
         },
         {
          "group": "entertainment",
          "x": -2.2767182663448953,
          "y": 0.1869017514479342
         },
         {
          "group": "entertainment",
          "x": 1.2840545772784482,
          "y": 1.303252663682448
         },
         {
          "group": "entertainment",
          "x": -0.1393827356806203,
          "y": 2.1182503549729046
         },
         {
          "group": "entertainment",
          "x": 0.44789623012066776,
          "y": 1.9845234773726712
         },
         {
          "group": "entertainment",
          "x": 2.018002064805455,
          "y": -1.1905607139367504
         },
         {
          "group": "entertainment",
          "x": -0.05271326989765168,
          "y": -0.6958175241254058
         },
         {
          "group": "entertainment",
          "x": 0.5317549326882189,
          "y": 1.6384787521148223
         },
         {
          "group": "entertainment",
          "x": 0.5329908435814925,
          "y": 0.3313348555042931
         },
         {
          "group": "entertainment",
          "x": 1.2552361846329487,
          "y": 2.343233204004746
         },
         {
          "group": "entertainment",
          "x": -0.6723642285717888,
          "y": 0.596033365839126
         },
         {
          "group": "entertainment",
          "x": 3.0619785763203744,
          "y": 0.5275253080233739
         },
         {
          "group": "entertainment",
          "x": -1.4001831366098376,
          "y": 1.6440529008695564
         },
         {
          "group": "entertainment",
          "x": 0.2904672022925699,
          "y": -1.3865459891817953
         },
         {
          "group": "entertainment",
          "x": -0.7238849459612504,
          "y": -1.0215272876628563
         },
         {
          "group": "entertainment",
          "x": 0.8219807489584595,
          "y": -0.8984859972407837
         },
         {
          "group": "entertainment",
          "x": -2.392316962086699,
          "y": 0.1881069576609454
         },
         {
          "group": "entertainment",
          "x": 0.6159611998108172,
          "y": 1.3091608235548797
         },
         {
          "group": "entertainment",
          "x": 0.28301524753156776,
          "y": 2.583306591406218
         },
         {
          "group": "entertainment",
          "x": -1.2629425245968098,
          "y": 0.4315979930273176
         },
         {
          "group": "entertainment",
          "x": -0.6133587117167947,
          "y": -0.16486879610757327
         },
         {
          "group": "entertainment",
          "x": -0.0011877584140072312,
          "y": -1.1601471001256294
         },
         {
          "group": "entertainment",
          "x": 1.098273956215463,
          "y": -0.15586562759845835
         },
         {
          "group": "entertainment",
          "x": -0.54173991901049,
          "y": -0.17159004343454579
         },
         {
          "group": "entertainment",
          "x": -0.3488203339233625,
          "y": 0.569679988553775
         },
         {
          "group": "entertainment",
          "x": 0.2578355530624279,
          "y": 0.593039290382453
         },
         {
          "group": "entertainment",
          "x": -0.0358224621118928,
          "y": 0.7493059531290669
         },
         {
          "group": "entertainment",
          "x": 0.06140003756473765,
          "y": 0.14497188781897175
         },
         {
          "group": "entertainment",
          "x": 1.28447754999733,
          "y": 0.4600386522102449
         },
         {
          "group": "entertainment",
          "x": -1.659043599679602,
          "y": -0.06369312700157145
         },
         {
          "group": "entertainment",
          "x": 1.7398681222181849,
          "y": 1.860302255248365
         },
         {
          "group": "entertainment",
          "x": -0.9478886901160664,
          "y": 1.372651541985707
         },
         {
          "group": "entertainment",
          "x": 0.21199894740555478,
          "y": 0.18103397829715615
         },
         {
          "group": "entertainment",
          "x": 0.12988269182515583,
          "y": -0.9611054548857441
         },
         {
          "group": "entertainment",
          "x": 1.1904350848210146,
          "y": -1.2537951867224886
         },
         {
          "group": "entertainment",
          "x": -2.2844465497691995,
          "y": -0.7666126879264613
         },
         {
          "group": "entertainment",
          "x": 0.44525695963096174,
          "y": -0.6823540093665592
         },
         {
          "group": "entertainment",
          "x": -0.3327560260534349,
          "y": 2.075235126658357
         },
         {
          "group": "entertainment",
          "x": 1.109457689414045,
          "y": 1.251399496168669
         },
         {
          "group": "entertainment",
          "x": 0.2293026269301836,
          "y": -1.3484937854460344
         },
         {
          "group": "entertainment",
          "x": 0.2773732958430391,
          "y": 0.2094658005893895
         },
         {
          "group": "entertainment",
          "x": -0.4794711677351765,
          "y": 1.8574437379397304
         },
         {
          "group": "entertainment",
          "x": -0.2418804797132652,
          "y": 1.6485520596070848
         },
         {
          "group": "entertainment",
          "x": 0.48128959200857296,
          "y": 0.9294917282632792
         },
         {
          "group": "entertainment",
          "x": -0.5958645694500204,
          "y": 0.4970822901308226
         },
         {
          "group": "entertainment",
          "x": -0.6774666406379166,
          "y": -0.22269925795710396
         },
         {
          "group": "entertainment",
          "x": 0.7443602427466789,
          "y": -0.3957753784087799
         },
         {
          "group": "entertainment",
          "x": -0.5907021180970081,
          "y": -0.6330933978242039
         },
         {
          "group": "entertainment",
          "x": -1.2579954274952105,
          "y": 1.4399600071324976
         },
         {
          "group": "entertainment",
          "x": 0.4591942625107611,
          "y": 0.9108112253323198
         },
         {
          "group": "entertainment",
          "x": 0.12149230580898607,
          "y": 0.759582768924186
         },
         {
          "group": "entertainment",
          "x": 1.269617546967597,
          "y": 1.1098180716207795
         },
         {
          "group": "entertainment",
          "x": -0.1693089640158588,
          "y": -0.12413094346826932
         },
         {
          "group": "entertainment",
          "x": -0.22881669608830776,
          "y": 1.577116383015287
         },
         {
          "group": "entertainment",
          "x": 1.2559964947564175,
          "y": 0.9086365373716213
         },
         {
          "group": "entertainment",
          "x": 0.4774571973187131,
          "y": -2.564888323832868
         },
         {
          "group": "entertainment",
          "x": -1.9750612889357386,
          "y": -0.4218423115535292
         },
         {
          "group": "entertainment",
          "x": 0.3372202270617877,
          "y": 0.8515314661206387
         },
         {
          "group": "entertainment",
          "x": -0.08554307843286013,
          "y": -0.30660413463970854
         },
         {
          "group": "entertainment",
          "x": 2.1314485453674177,
          "y": -0.14451197338188482
         },
         {
          "group": "entertainment",
          "x": -0.9278966169282109,
          "y": -0.8582093730989852
         },
         {
          "group": "entertainment",
          "x": 1.4521436318716778,
          "y": -0.2023478557403777
         },
         {
          "group": "entertainment",
          "x": 0.09634116037853688,
          "y": -1.7997589939350156
         },
         {
          "group": "entertainment",
          "x": -0.7137889601552201,
          "y": -2.3964282583955088
         },
         {
          "group": "entertainment",
          "x": 0.14535332771658496,
          "y": 0.5473991414908651
         },
         {
          "group": "entertainment",
          "x": 0.5464705183054065,
          "y": 0.8164084265233789
         },
         {
          "group": "entertainment",
          "x": -0.28269855188169474,
          "y": 0.23712278423207164
         },
         {
          "group": "entertainment",
          "x": 0.04804164975037021,
          "y": -2.0997482238281306
         },
         {
          "group": "entertainment",
          "x": 0.43497045062021494,
          "y": -0.7129966911718304
         },
         {
          "group": "entertainment",
          "x": 0.7543095584938874,
          "y": 0.5165211116618054
         },
         {
          "group": "entertainment",
          "x": 2.912067076102878,
          "y": 0.32743697900390406
         },
         {
          "group": "entertainment",
          "x": 1.6061401578088397,
          "y": -0.10765778237016278
         },
         {
          "group": "entertainment",
          "x": -1.0082912678870644,
          "y": 0.5806135004468812
         },
         {
          "group": "entertainment",
          "x": 0.7799597793696137,
          "y": -0.5017235889065177
         },
         {
          "group": "entertainment",
          "x": 2.4854640074848904,
          "y": 0.41262622251920605
         },
         {
          "group": "entertainment",
          "x": 0.4822507486993002,
          "y": -1.0342224095790282
         },
         {
          "group": "entertainment",
          "x": 0.8266645594558231,
          "y": 0.025293861502390956
         },
         {
          "group": "entertainment",
          "x": 0.11553413960786374,
          "y": -1.6619509464655355
         },
         {
          "group": "entertainment",
          "x": -0.5269965665282711,
          "y": -1.4425645081918728
         },
         {
          "group": "entertainment",
          "x": 2.3345749482265874,
          "y": 0.5450964498560925
         },
         {
          "group": "entertainment",
          "x": -0.49970406532354666,
          "y": 0.14935816363600668
         },
         {
          "group": "entertainment",
          "x": 0.20381428813594926,
          "y": 0.28531851162397803
         },
         {
          "group": "entertainment",
          "x": 1.1945196818939863,
          "y": 3.398061976349274
         },
         {
          "group": "entertainment",
          "x": -0.47813018309626865,
          "y": -0.5439402266118145
         },
         {
          "group": "entertainment",
          "x": 0.06043289169290759,
          "y": -0.024881950602511117
         },
         {
          "group": "entertainment",
          "x": 0.1823625285173507,
          "y": 1.0999741502591058
         },
         {
          "group": "entertainment",
          "x": -0.6132302520556201,
          "y": -0.7625084687136371
         },
         {
          "group": "entertainment",
          "x": 0.14715058157036812,
          "y": 1.0727256841748574
         },
         {
          "group": "entertainment",
          "x": -1.6944059637663165,
          "y": -1.1829904332552557
         },
         {
          "group": "entertainment",
          "x": 1.3513827839265964,
          "y": 2.142220080265925
         },
         {
          "group": "entertainment",
          "x": 3.1357106783672797,
          "y": -1.792856950678616
         },
         {
          "group": "entertainment",
          "x": -2.57533971475759,
          "y": 0.8910814707887971
         },
         {
          "group": "entertainment",
          "x": -0.016849939582896132,
          "y": -0.07426111929970987
         },
         {
          "group": "entertainment",
          "x": 1.5425540747568662,
          "y": -1.1285490122324837
         },
         {
          "group": "entertainment",
          "x": 0.9859110580829703,
          "y": -0.49568364822381844
         },
         {
          "group": "entertainment",
          "x": 0.5554061794548217,
          "y": -0.17419807036812857
         },
         {
          "group": "entertainment",
          "x": -1.1038305367015797,
          "y": 0.4117224897872963
         },
         {
          "group": "entertainment",
          "x": -1.045772290266264,
          "y": 1.3043160965947862
         },
         {
          "group": "entertainment",
          "x": -0.06230318600431981,
          "y": -1.3756861372808784
         },
         {
          "group": "entertainment",
          "x": -0.5841461728378623,
          "y": 0.2896189662424198
         },
         {
          "group": "entertainment",
          "x": -2.8163489274627076,
          "y": 1.1556424771388702
         },
         {
          "group": "entertainment",
          "x": -0.7818896038552468,
          "y": -0.8946053514647213
         },
         {
          "group": "entertainment",
          "x": 1.9622730162745803,
          "y": -1.831490829464529
         },
         {
          "group": "entertainment",
          "x": 1.7423762008761083,
          "y": 1.9038247614894426
         },
         {
          "group": "entertainment",
          "x": -0.14656579932799382,
          "y": -1.0316708144156113
         },
         {
          "group": "entertainment",
          "x": 0.04881184091143724,
          "y": 1.0443799011894581
         },
         {
          "group": "entertainment",
          "x": 0.00346248561689611,
          "y": -0.6822122644082207
         },
         {
          "group": "entertainment",
          "x": 1.1447839936715873,
          "y": -0.31137680471207135
         },
         {
          "group": "entertainment",
          "x": -0.294067183487933,
          "y": 3.572931787706184
         },
         {
          "group": "entertainment",
          "x": 0.43907751648646176,
          "y": 1.1223049773922522
         },
         {
          "group": "entertainment",
          "x": 0.9058690628118995,
          "y": -0.7369937179522148
         },
         {
          "group": "entertainment",
          "x": -0.632984927374674,
          "y": -0.7536258096288466
         },
         {
          "group": "entertainment",
          "x": -1.1587033619857148,
          "y": 0.5365395965063684
         },
         {
          "group": "entertainment",
          "x": -0.790938758837611,
          "y": 1.627519250822794
         },
         {
          "group": "entertainment",
          "x": 0.30203281573081275,
          "y": -0.2371973502575543
         },
         {
          "group": "entertainment",
          "x": -0.11849042584408442,
          "y": 1.851586181802286
         },
         {
          "group": "entertainment",
          "x": 0.7925409747978349,
          "y": 0.868850718679309
         },
         {
          "group": "entertainment",
          "x": 0.7603594278283756,
          "y": 0.5655007622819318
         },
         {
          "group": "entertainment",
          "x": 0.3935545151119266,
          "y": -1.0667993034403818
         },
         {
          "group": "entertainment",
          "x": 0.11652385774021329,
          "y": -0.31623882227949596
         },
         {
          "group": "entertainment",
          "x": 0.6021888505132625,
          "y": 0.5220894393550521
         },
         {
          "group": "entertainment",
          "x": -0.4320523888238282,
          "y": 2.1061302221983635
         },
         {
          "group": "entertainment",
          "x": 0.9571934630681249,
          "y": 0.4675340699034623
         },
         {
          "group": "entertainment",
          "x": -0.2533875812401159,
          "y": -0.3765009524482036
         },
         {
          "group": "entertainment",
          "x": 0.9474292432162672,
          "y": -0.0480446447725419
         },
         {
          "group": "entertainment",
          "x": 0.8322542563815125,
          "y": 0.41428754346727537
         },
         {
          "group": "entertainment",
          "x": -1.1722896577983977,
          "y": -0.32589791779308547
         },
         {
          "group": "entertainment",
          "x": 0.09808841133664238,
          "y": 0.816041038503361
         },
         {
          "group": "entertainment",
          "x": -0.1991571726776668,
          "y": -0.40022240476111026
         },
         {
          "group": "entertainment",
          "x": -0.4272292508194657,
          "y": -0.9085684531291675
         },
         {
          "group": "entertainment",
          "x": 0.02134135821952323,
          "y": -0.015942229335044605
         },
         {
          "group": "entertainment",
          "x": -0.7701823380145627,
          "y": -2.404943088415797
         },
         {
          "group": "entertainment",
          "x": -0.8733697578715288,
          "y": 1.175211190170326
         },
         {
          "group": "entertainment",
          "x": 1.6215961881459269,
          "y": -0.3241210396072247
         },
         {
          "group": "entertainment",
          "x": -0.0015160622652904258,
          "y": -0.2728400529036224
         },
         {
          "group": "entertainment",
          "x": -0.30845957652201617,
          "y": -0.5832093729132325
         },
         {
          "group": "entertainment",
          "x": 0.9998595846423306,
          "y": -0.8615356311952772
         },
         {
          "group": "entertainment",
          "x": 0.4200849827481599,
          "y": -0.518287349199214
         },
         {
          "group": "entertainment",
          "x": -0.5738429484771354,
          "y": 1.1620526494262986
         },
         {
          "group": "entertainment",
          "x": -0.2515420052621696,
          "y": 1.8083523872048075
         },
         {
          "group": "entertainment",
          "x": 0.7275899630187932,
          "y": 1.7368940780404545
         },
         {
          "group": "entertainment",
          "x": 1.2054760548091175,
          "y": 1.0427136273079445
         },
         {
          "group": "entertainment",
          "x": 0.6090873619434191,
          "y": 1.0139757412699908
         },
         {
          "group": "entertainment",
          "x": -0.35752924329969205,
          "y": -0.09359972406594884
         },
         {
          "group": "entertainment",
          "x": 1.0416341099732103,
          "y": 0.2102404245197555
         },
         {
          "group": "entertainment",
          "x": -0.051021344581362704,
          "y": -1.0249830288568367
         },
         {
          "group": "entertainment",
          "x": -2.850061584467736,
          "y": -0.5561773191916004
         },
         {
          "group": "entertainment",
          "x": 0.24830635560746775,
          "y": 1.3009276643484688
         },
         {
          "group": "entertainment",
          "x": 1.8741926760186347,
          "y": -0.47862185308576427
         },
         {
          "group": "entertainment",
          "x": 0.3832889171035146,
          "y": 0.953857259030493
         },
         {
          "group": "entertainment",
          "x": -1.5903885181297643,
          "y": -0.8210379526658685
         },
         {
          "group": "entertainment",
          "x": 0.5539449160196654,
          "y": 1.1272799840390215
         },
         {
          "group": "entertainment",
          "x": -0.8427389028433699,
          "y": 0.36667468343631954
         },
         {
          "group": "entertainment",
          "x": -2.0065926209641822,
          "y": 1.5788285298681584
         },
         {
          "group": "entertainment",
          "x": 2.5338396195898643,
          "y": -1.0119620009761001
         },
         {
          "group": "entertainment",
          "x": 0.43442813227933913,
          "y": -1.032621820609116
         },
         {
          "group": "entertainment",
          "x": -0.30723693255844775,
          "y": 1.403816025801586
         },
         {
          "group": "entertainment",
          "x": -3.175341318592077,
          "y": 0.6757670612274325
         },
         {
          "group": "entertainment",
          "x": 0.7202528646619305,
          "y": 1.9091168027311085
         },
         {
          "group": "entertainment",
          "x": -1.4208295752222067,
          "y": 0.6418371027713052
         },
         {
          "group": "entertainment",
          "x": 0.2218680846436565,
          "y": 0.9192184053158826
         },
         {
          "group": "entertainment",
          "x": -0.609700994149024,
          "y": 0.6563884335643142
         },
         {
          "group": "entertainment",
          "x": -0.19791948929489356,
          "y": -0.8858048744057203
         },
         {
          "group": "entertainment",
          "x": -0.8451018181655016,
          "y": -0.8625596933200498
         },
         {
          "group": "entertainment",
          "x": 0.6701835185189644,
          "y": 2.808502840508965
         },
         {
          "group": "entertainment",
          "x": 1.9995904237104827,
          "y": 0.44599928394205335
         },
         {
          "group": "entertainment",
          "x": -0.8564978916670457,
          "y": -0.5062431474888013
         },
         {
          "group": "entertainment",
          "x": 1.6267180303659872,
          "y": -0.3522891354139375
         },
         {
          "group": "entertainment",
          "x": -0.9644188096025059,
          "y": 0.36788322157436
         },
         {
          "group": "entertainment",
          "x": 1.3953838908886782,
          "y": -1.3777444104678103
         },
         {
          "group": "entertainment",
          "x": -1.3185598956190019,
          "y": 3.065807858686992
         },
         {
          "group": "entertainment",
          "x": 0.5636051132844888,
          "y": 0.5986918265385948
         },
         {
          "group": "entertainment",
          "x": 3.3164044898429856,
          "y": 0.6703935603318071
         },
         {
          "group": "entertainment",
          "x": -1.2432033060731524,
          "y": 1.2904022103703594
         },
         {
          "group": "entertainment",
          "x": 0.8672516962267884,
          "y": 0.6970430940489668
         },
         {
          "group": "entertainment",
          "x": 0.6735892786737986,
          "y": 2.4472300649776857
         },
         {
          "group": "entertainment",
          "x": 0.9236596816576041,
          "y": 1.1287507864114217
         },
         {
          "group": "entertainment",
          "x": -0.5993163960762378,
          "y": -0.5462765621708431
         },
         {
          "group": "entertainment",
          "x": 1.1562495315012418,
          "y": -0.472197312136601
         },
         {
          "group": "entertainment",
          "x": -0.38282192134033516,
          "y": 1.3862015774352054
         },
         {
          "group": "entertainment",
          "x": 2.483680547492915,
          "y": 0.846278990702615
         },
         {
          "group": "entertainment",
          "x": -0.008055310617884472,
          "y": 0.7519154949757092
         },
         {
          "group": "entertainment",
          "x": 0.062036540525092145,
          "y": -0.07516463541422644
         },
         {
          "group": "entertainment",
          "x": 1.3230446929005961,
          "y": -2.0611525811214566
         },
         {
          "group": "entertainment",
          "x": 0.5915667185648186,
          "y": 0.07470103929772191
         },
         {
          "group": "entertainment",
          "x": 0.8231143203796917,
          "y": 0.18320209926743056
         },
         {
          "group": "entertainment",
          "x": 1.3483951032281594,
          "y": -0.8991101516556601
         },
         {
          "group": "entertainment",
          "x": -0.41154717345174874,
          "y": 1.925641958667736
         },
         {
          "group": "entertainment",
          "x": -0.41197787040266254,
          "y": -0.8177664854763499
         },
         {
          "group": "entertainment",
          "x": -1.913418397827175,
          "y": -2.1994728649484285
         },
         {
          "group": "entertainment",
          "x": -0.7978768632217385,
          "y": -0.26556148178095784
         },
         {
          "group": "entertainment",
          "x": 0.438173666236123,
          "y": -2.650496827780722
         },
         {
          "group": "entertainment",
          "x": -1.3911551644743683,
          "y": 0.09960428878519309
         },
         {
          "group": "entertainment",
          "x": 2.5494489172616714,
          "y": -0.10776828699560083
         },
         {
          "group": "entertainment",
          "x": 0.0570128998950515,
          "y": 0.6928908646683738
         },
         {
          "group": "entertainment",
          "x": 0.018943736505201612,
          "y": 0.5011250551117488
         },
         {
          "group": "entertainment",
          "x": -0.18580048428634652,
          "y": 1.7951357626512303
         },
         {
          "group": "entertainment",
          "x": 1.4744732641909752,
          "y": 0.9221280580048219
         },
         {
          "group": "entertainment",
          "x": 1.234185697512774,
          "y": -0.39996513003599343
         },
         {
          "group": "entertainment",
          "x": -0.21915874163461854,
          "y": -0.1306283295519722
         },
         {
          "group": "entertainment",
          "x": -1.6754572570352968,
          "y": 0.81578450523052
         },
         {
          "group": "entertainment",
          "x": -1.1024657081346745,
          "y": 0.9208193833079247
         },
         {
          "group": "entertainment",
          "x": 1.7893190457388215,
          "y": 0.8176970014619048
         },
         {
          "group": "entertainment",
          "x": 0.012104383862568485,
          "y": -1.4107440277590702
         },
         {
          "group": "entertainment",
          "x": 0.6972344591875309,
          "y": -2.162793679358304
         },
         {
          "group": "entertainment",
          "x": -0.568359316272823,
          "y": -0.897541744513918
         },
         {
          "group": "entertainment",
          "x": 0.8879981667142918,
          "y": 0.9978268962978539
         },
         {
          "group": "entertainment",
          "x": -1.238573069517491,
          "y": 1.6774576387281697
         },
         {
          "group": "entertainment",
          "x": 1.106209931112659,
          "y": 0.15604423235962403
         },
         {
          "group": "entertainment",
          "x": 0.44941353272590473,
          "y": -1.2930424859248257
         },
         {
          "group": "entertainment",
          "x": -0.2468419994474881,
          "y": -0.5413534498167646
         },
         {
          "group": "entertainment",
          "x": 0.7028207426448329,
          "y": -0.07324132364498069
         },
         {
          "group": "entertainment",
          "x": -0.013148523878400336,
          "y": -0.8436098541266843
         },
         {
          "group": "entertainment",
          "x": -0.0948932366925404,
          "y": 1.13389443021651
         },
         {
          "group": "entertainment",
          "x": -0.2644342158839245,
          "y": -0.14356274921047532
         },
         {
          "group": "entertainment",
          "x": 1.1473229563090062,
          "y": -1.766237113842139
         },
         {
          "group": "entertainment",
          "x": -0.812432619798256,
          "y": -0.10411156117122272
         },
         {
          "group": "entertainment",
          "x": -0.24490850670822686,
          "y": 0.5441503007068529
         },
         {
          "group": "entertainment",
          "x": 0.4783147747889254,
          "y": 0.5796895299999669
         },
         {
          "group": "entertainment",
          "x": -2.21995848081621,
          "y": 1.8595514233796067
         },
         {
          "group": "entertainment",
          "x": -0.3426768293929394,
          "y": 0.21374765330251264
         },
         {
          "group": "entertainment",
          "x": -0.2419019447351198,
          "y": -0.8721454548146242
         },
         {
          "group": "entertainment",
          "x": -0.6149969164180682,
          "y": -0.5891213467512751
         },
         {
          "group": "entertainment",
          "x": 0.18736877774515676,
          "y": -1.7380483462498735
         },
         {
          "group": "entertainment",
          "x": -2.1592712526397855,
          "y": 1.324821523221629
         },
         {
          "group": "entertainment",
          "x": 1.0555480289729953,
          "y": -0.4208742476420017
         },
         {
          "group": "entertainment",
          "x": 0.14195458132619548,
          "y": 1.3711335135345852
         },
         {
          "group": "entertainment",
          "x": 0.4187335247631914,
          "y": 3.2649723685805463
         },
         {
          "group": "entertainment",
          "x": -0.2547227964924125,
          "y": -0.5105067662766518
         },
         {
          "group": "entertainment",
          "x": -1.0338000426141865,
          "y": -0.19952140311354843
         },
         {
          "group": "entertainment",
          "x": -1.1521260789064962,
          "y": 1.3316670716923638
         },
         {
          "group": "entertainment",
          "x": 1.4201546939518144,
          "y": 0.23638392021487886
         },
         {
          "group": "entertainment",
          "x": -0.37416079731366086,
          "y": -0.5615924206851062
         },
         {
          "group": "entertainment",
          "x": -1.2706129494673823,
          "y": 0.07170493236938948
         },
         {
          "group": "entertainment",
          "x": 0.06538046402914462,
          "y": -0.9210662291136993
         },
         {
          "group": "entertainment",
          "x": 0.3163095547978718,
          "y": -0.27102231659223297
         },
         {
          "group": "entertainment",
          "x": 1.7044558729858892,
          "y": -0.04617529201622722
         },
         {
          "group": "entertainment",
          "x": -0.7514312403447784,
          "y": -0.019047336178688198
         },
         {
          "group": "entertainment",
          "x": 0.9064089719795024,
          "y": 1.2130392697876133
         },
         {
          "group": "entertainment",
          "x": 0.36885541213799733,
          "y": 2.068616589446224
         },
         {
          "group": "entertainment",
          "x": 0.15351958821285785,
          "y": 2.6028859656162195
         },
         {
          "group": "entertainment",
          "x": -0.4730568114618003,
          "y": 0.48130586885617
         },
         {
          "group": "entertainment",
          "x": 0.010790338387658922,
          "y": -0.019911527951472007
         },
         {
          "group": "entertainment",
          "x": 1.200424610876498,
          "y": -0.5182164984816037
         },
         {
          "group": "entertainment",
          "x": 0.8899150444387361,
          "y": -1.4247099247532036
         },
         {
          "group": "entertainment",
          "x": -0.9481831794446366,
          "y": -0.21703520945576463
         },
         {
          "group": "entertainment",
          "x": 0.2011649659594419,
          "y": 0.02801458074975235
         },
         {
          "group": "entertainment",
          "x": 0.8635702159725658,
          "y": 0.28467490120271915
         },
         {
          "group": "entertainment",
          "x": -1.1934322606642251,
          "y": -0.21046620378741254
         },
         {
          "group": "entertainment",
          "x": -1.0758699497016295,
          "y": 0.29975624242837384
         },
         {
          "group": "entertainment",
          "x": 0.3471763387985396,
          "y": 1.5778456295013885
         },
         {
          "group": "entertainment",
          "x": -1.2771005674575895,
          "y": 0.6220899457116063
         },
         {
          "group": "entertainment",
          "x": 1.1522094581148126,
          "y": -0.6890378657486941
         },
         {
          "group": "entertainment",
          "x": -1.7032489009486487,
          "y": 0.9966051924945297
         },
         {
          "group": "entertainment",
          "x": 0.7603173745320893,
          "y": 0.2195146849222686
         },
         {
          "group": "entertainment",
          "x": -0.6799491141036464,
          "y": 0.1597385231567121
         },
         {
          "group": "entertainment",
          "x": 1.1274085697843936,
          "y": 0.8465602793841985
         },
         {
          "group": "entertainment",
          "x": -0.67846233086153,
          "y": 1.1370388135017733
         },
         {
          "group": "entertainment",
          "x": -0.22408687128470078,
          "y": -0.45316163660972975
         },
         {
          "group": "entertainment",
          "x": 0.37302019533469466,
          "y": 2.8441006373978532
         },
         {
          "group": "entertainment",
          "x": -0.478751024398007,
          "y": -0.4616764082402847
         },
         {
          "group": "entertainment",
          "x": -1.8739519295848834,
          "y": 0.4255162323736062
         },
         {
          "group": "entertainment",
          "x": 2.030235985560168,
          "y": 0.6502422113764956
         },
         {
          "group": "entertainment",
          "x": 0.7795492592380513,
          "y": -2.5070287380355896
         },
         {
          "group": "entertainment",
          "x": -1.0244957580190426,
          "y": 0.32528391446034277
         },
         {
          "group": "entertainment",
          "x": 1.454937014086532,
          "y": -1.0660726127029188
         },
         {
          "group": "entertainment",
          "x": -1.7739265114215297,
          "y": -1.5804055968553696
         },
         {
          "group": "entertainment",
          "x": -0.4971295950406256,
          "y": 0.43927354200296653
         },
         {
          "group": "entertainment",
          "x": -1.0651339990190614,
          "y": -1.486806762104733
         },
         {
          "group": "entertainment",
          "x": -0.028029450554570037,
          "y": 0.6919979572481837
         },
         {
          "group": "entertainment",
          "x": 1.7466350707910965,
          "y": 0.5142275863489678
         },
         {
          "group": "entertainment",
          "x": 1.0550776339840833,
          "y": 1.192005752478123
         },
         {
          "group": "entertainment",
          "x": 0.462050388155634,
          "y": 0.11746806629974757
         },
         {
          "group": "entertainment",
          "x": -1.7080570605587426,
          "y": -0.9877596166731343
         },
         {
          "group": "entertainment",
          "x": 0.41527903142283124,
          "y": 1.1988068207216278
         },
         {
          "group": "entertainment",
          "x": 0.6073369800110215,
          "y": 0.5219507785713429
         },
         {
          "group": "entertainment",
          "x": -0.36591497123054745,
          "y": -0.06373914901127666
         },
         {
          "group": "entertainment",
          "x": 1.0180443854536785,
          "y": 0.547382761827764
         },
         {
          "group": "entertainment",
          "x": -0.6905650816372786,
          "y": -1.2390790590991825
         },
         {
          "group": "entertainment",
          "x": -0.04150200862067582,
          "y": 1.589732225956023
         },
         {
          "group": "entertainment",
          "x": 0.7806984705815501,
          "y": -1.4925157996288727
         },
         {
          "group": "entertainment",
          "x": 0.8798363124239417,
          "y": 2.3549377516286922
         },
         {
          "group": "entertainment",
          "x": 0.7558428966482716,
          "y": 0.3101846875938957
         },
         {
          "group": "entertainment",
          "x": 0.2705266349583174,
          "y": -1.4163876477774928
         },
         {
          "group": "entertainment",
          "x": 0.32511343287947264,
          "y": -0.8766210526319181
         },
         {
          "group": "entertainment",
          "x": -1.7179624745174717,
          "y": 1.106169539095664
         },
         {
          "group": "entertainment",
          "x": -0.40852970845922604,
          "y": 1.0417876290418504
         },
         {
          "group": "entertainment",
          "x": -0.05669373719515305,
          "y": -0.30343695463737985
         },
         {
          "group": "entertainment",
          "x": -0.1829188208862622,
          "y": -0.5407955761602095
         },
         {
          "group": "entertainment",
          "x": 0.5940018397083088,
          "y": 0.6105752916818766
         },
         {
          "group": "entertainment",
          "x": -0.3851853681105083,
          "y": 1.013120525694576
         },
         {
          "group": "entertainment",
          "x": 0.6615424093955461,
          "y": -0.3866975742808377
         },
         {
          "group": "entertainment",
          "x": 0.7171833792401059,
          "y": -0.005069863546837391
         },
         {
          "group": "entertainment",
          "x": -1.2861467516370957,
          "y": 0.5468287430260921
         },
         {
          "group": "entertainment",
          "x": -1.637978061685315,
          "y": -1.2944210038695176
         },
         {
          "group": "entertainment",
          "x": 1.2995280280932027,
          "y": 0.009259548947125858
         },
         {
          "group": "entertainment",
          "x": 0.0064407047731381475,
          "y": -1.0716712941725988
         },
         {
          "group": "entertainment",
          "x": -0.5123493144934222,
          "y": 0.9777610964941057
         },
         {
          "group": "entertainment",
          "x": -0.4361038743794316,
          "y": -0.7403848881001709
         },
         {
          "group": "entertainment",
          "x": 2.2736500786180533,
          "y": -0.9669561922435637
         },
         {
          "group": "entertainment",
          "x": 0.8073675791654711,
          "y": -0.8544240117154899
         },
         {
          "group": "entertainment",
          "x": 0.13898828212343808,
          "y": 0.4851740636542491
         },
         {
          "group": "entertainment",
          "x": -0.6816744874808266,
          "y": 1.736938984177869
         },
         {
          "group": "entertainment",
          "x": 0.5707246998575419,
          "y": 0.006272328523317145
         },
         {
          "group": "entertainment",
          "x": -0.031195915414209973,
          "y": 1.133864361077022
         },
         {
          "group": "entertainment",
          "x": 2.744239832603911,
          "y": -0.8231852085507436
         },
         {
          "group": "entertainment",
          "x": -0.2901366263441253,
          "y": 2.050258642407144
         },
         {
          "group": "entertainment",
          "x": -0.6096948812078055,
          "y": 0.930184889105901
         },
         {
          "group": "entertainment",
          "x": -1.8032381490817089,
          "y": -0.29083056333737856
         },
         {
          "group": "entertainment",
          "x": -0.899184982381535,
          "y": 1.522519437435103
         },
         {
          "group": "entertainment",
          "x": -0.48166342965316095,
          "y": 2.414482130028137
         },
         {
          "group": "entertainment",
          "x": -0.5581512104405629,
          "y": -1.9743812467134714
         },
         {
          "group": "entertainment",
          "x": 1.0115169044150043,
          "y": -0.5032975732363384
         },
         {
          "group": "entertainment",
          "x": 1.8201287994171023,
          "y": 1.565721859809195
         },
         {
          "group": "entertainment",
          "x": 1.0200188282762224,
          "y": 0.5017681332635592
         },
         {
          "group": "entertainment",
          "x": 0.13928423271379772,
          "y": 1.5461772906495697
         },
         {
          "group": "entertainment",
          "x": -0.29303486743126705,
          "y": 1.2730901428874637
         },
         {
          "group": "entertainment",
          "x": -0.42078552565390126,
          "y": 1.1430676225523277
         },
         {
          "group": "entertainment",
          "x": 1.8235152671728025,
          "y": 1.3240848730992067
         },
         {
          "group": "entertainment",
          "x": 0.26701051435331835,
          "y": 1.3358200738197652
         },
         {
          "group": "entertainment",
          "x": -0.9536197032380124,
          "y": 1.350860268726237
         },
         {
          "group": "entertainment",
          "x": 0.10567541512918562,
          "y": 0.23870284347895102
         },
         {
          "group": "entertainment",
          "x": -1.1625738790797615,
          "y": -0.49149903381069776
         },
         {
          "group": "entertainment",
          "x": 0.6461550122549969,
          "y": 0.32084024773813996
         },
         {
          "group": "entertainment",
          "x": -0.8274756128224694,
          "y": -2.5678740503303903
         },
         {
          "group": "entertainment",
          "x": 0.3152160356238087,
          "y": 0.37844482587993455
         },
         {
          "group": "entertainment",
          "x": -0.5640496814217089,
          "y": 2.0053152085483026
         },
         {
          "group": "entertainment",
          "x": -1.4058609138955884,
          "y": 0.9732177470915261
         },
         {
          "group": "entertainment",
          "x": 0.0698729409595645,
          "y": -1.2738234906962593
         },
         {
          "group": "entertainment",
          "x": -0.22288119282164212,
          "y": 0.21010303884081194
         },
         {
          "group": "entertainment",
          "x": 1.2013157742399039,
          "y": 0.06662255994895805
         },
         {
          "group": "entertainment",
          "x": 0.70575761601041,
          "y": -0.3795813886435725
         },
         {
          "group": "entertainment",
          "x": -0.14223092185075956,
          "y": -0.07737361711244393
         },
         {
          "group": "entertainment",
          "x": 0.28075212184068027,
          "y": -0.9317485626855301
         },
         {
          "group": "entertainment",
          "x": -0.7147339200746298,
          "y": 0.515231133606496
         },
         {
          "group": "entertainment",
          "x": 0.2979976437126007,
          "y": -0.8326202473116759
         },
         {
          "group": "entertainment",
          "x": 1.1019507422270847,
          "y": -2.109069387698854
         },
         {
          "group": "entertainment",
          "x": 2.606240880764435,
          "y": -0.2187375922395687
         }
        ]
       },
       "encoding": {
        "color": {
         "field": "group",
         "type": "nominal"
        },
        "x": {
         "field": "x",
         "type": "quantitative"
        },
        "y": {
         "field": "y",
         "type": "quantitative"
        }
       },
       "mark": "point"
      },
      "image/png": "[encoded data removed]",
      "text/plain": [
       "<VegaLite 2 object>\n",
       "\n",
       "If you see this message, it means the renderer has not been properly enabled\n",
       "for the frontend that you are using. For more information, see\n",
       "https://altair-viz.github.io/user_guide/troubleshooting.html\n"
      ]
     },
     "execution_count": 37,
     "metadata": {},
     "output_type": "execute_result"
    }
   ],
   "source": [
    "pca = PCA(n_components=2)\n",
    "\n",
    "reduced_dims = pca.fit_transform(model.paragraph_matrix.data)\n",
    "\n",
    "dx = pd.DataFrame(reduced_dims, columns=[\"x\", \"y\"])\n",
    "dx[\"group\"] = df.group.to_numpy()\n",
    "\n",
    "alt.Chart(dx).mark_point().encode(x=\"x\", y=\"y\", color=\"group\")"
   ]
  },
  {
   "cell_type": "markdown",
   "metadata": {},
   "source": [
    "These results aren't great, but we can see the beginnings of separation."
   ]
  },
  {
   "cell_type": "code",
   "execution_count": null,
   "metadata": {},
   "outputs": [],
   "source": []
  }
 ],
 "metadata": {
  "kernelspec": {
   "display_name": "Python 3",
   "language": "python",
   "name": "python3"
  },
  "language_info": {
   "codemirror_mode": {
    "name": "ipython",
    "version": 3
   },
   "file_extension": ".py",
   "mimetype": "text/x-python",
   "name": "python",
   "nbconvert_exporter": "python",
   "pygments_lexer": "ipython3",
   "version": "3.7.2"
  }
 },
 "nbformat": 4,
 "nbformat_minor": 2
}
