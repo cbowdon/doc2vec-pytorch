{
 "cells": [
  {
   "cell_type": "markdown",
   "metadata": {},
   "source": [
    "Doc2vec from scratch in PyTorch\n",
    "===============================\n",
    "\n",
    "Here we are implementing this useful algorithm with a library we know and trust. With luck this will be more accessible than reading the papers but more in-depth than typical \"install gensim and just do what I say\" tutorials, and still easy to understand for anyone whose maths skills have atrophied to nothing (like me). This is all based on the great work by [Nejc Ilenic](https://github.com/ilenic/paragraph-vectors) and reading the referenced papers.\n",
    "\n",
    "The basic form of `word2vec` (and so `doc2vec`) is that it is a classifier trained to predict the missing word in a context. So given sentences like \"the cat _ on the mat\" it should predict \"sat\", and so learn a useful representation of words. We can then extract the internal weights and re-use them as \"word embeddings\", vectors giving each word a position in N-dimensional space that is hopefully close to similar words and an appropriate distance from related words. \n",
    "\n",
    "`doc2vec` or \"Paragraph vectors\" extends the `word2vec` idea by simply adding a document id to each context. This helps the network learn associations between contexts (but of course produces less generalizable vectors)."
   ]
  },
  {
   "cell_type": "markdown",
   "metadata": {},
   "source": [
    "First we need to load the data."
   ]
  },
  {
   "cell_type": "code",
   "execution_count": 1,
   "metadata": {},
   "outputs": [
    {
     "data": {
      "text/html": [
       "<div>\n",
       "<style scoped>\n",
       "    .dataframe tbody tr th:only-of-type {\n",
       "        vertical-align: middle;\n",
       "    }\n",
       "\n",
       "    .dataframe tbody tr th {\n",
       "        vertical-align: top;\n",
       "    }\n",
       "\n",
       "    .dataframe thead th {\n",
       "        text-align: right;\n",
       "    }\n",
       "</style>\n",
       "<table border=\"1\" class=\"dataframe\">\n",
       "  <thead>\n",
       "    <tr style=\"text-align: right;\">\n",
       "      <th></th>\n",
       "      <th>text</th>\n",
       "      <th>tokens</th>\n",
       "    </tr>\n",
       "  </thead>\n",
       "  <tbody>\n",
       "    <tr>\n",
       "      <th>0</th>\n",
       "      <td>In the week before their departure to Arrakis,...</td>\n",
       "      <td>[in, the, week, before, their, departure, to, ...</td>\n",
       "    </tr>\n",
       "    <tr>\n",
       "      <th>1</th>\n",
       "      <td>In the week before their departure to Arrakis,...</td>\n",
       "      <td>[in, the, week, before, their, departure, to, ...</td>\n",
       "    </tr>\n",
       "    <tr>\n",
       "      <th>2</th>\n",
       "      <td>In the week before their departure to Arrakis,...</td>\n",
       "      <td>[in, the, week, before, their, departure, to, ...</td>\n",
       "    </tr>\n",
       "    <tr>\n",
       "      <th>3</th>\n",
       "      <td>In the week before their departure to Arrakis,...</td>\n",
       "      <td>[in, the, week, before, their, departure, to, ...</td>\n",
       "    </tr>\n",
       "    <tr>\n",
       "      <th>4</th>\n",
       "      <td>It was a warm night at Castle Caladan, and the...</td>\n",
       "      <td>[it, was, a, warm, night, at, castle, caladan,...</td>\n",
       "    </tr>\n",
       "  </tbody>\n",
       "</table>\n",
       "</div>"
      ],
      "text/plain": [
       "                                                text  \\\n",
       "0  In the week before their departure to Arrakis,...   \n",
       "1  In the week before their departure to Arrakis,...   \n",
       "2  In the week before their departure to Arrakis,...   \n",
       "3  In the week before their departure to Arrakis,...   \n",
       "4  It was a warm night at Castle Caladan, and the...   \n",
       "\n",
       "                                              tokens  \n",
       "0  [in, the, week, before, their, departure, to, ...  \n",
       "1  [in, the, week, before, their, departure, to, ...  \n",
       "2  [in, the, week, before, their, departure, to, ...  \n",
       "3  [in, the, week, before, their, departure, to, ...  \n",
       "4  [it, was, a, warm, night, at, castle, caladan,...  "
      ]
     },
     "execution_count": 1,
     "metadata": {},
     "output_type": "execute_result"
    }
   ],
   "source": [
    "import pandas as pd\n",
    "import spacy\n",
    "\n",
    "nlp = spacy.load(\"en_core_web_sm\")\n",
    "\n",
    "df = pd.read_csv(\"data/example.csv\")\n",
    "df[\"tokens\"] = df.text.str.lower().str.strip().apply(lambda x: [token.text for token in nlp(x)])\n",
    "\n",
    "df[:5]"
   ]
  },
  {
   "cell_type": "markdown",
   "metadata": {},
   "source": [
    "We will need to construct a vocabulary so we can reference every word by an ID."
   ]
  },
  {
   "cell_type": "code",
   "execution_count": 2,
   "metadata": {},
   "outputs": [
    {
     "name": "stdout",
     "output_type": "stream",
     "text": [
      "Dataset comprises 16 documents and 111 unique words (over the limit of 3 occurrences)\n"
     ]
    }
   ],
   "source": [
    "from collections import Counter\n",
    "\n",
    "class Vocab:\n",
    "    def __init__(self, all_tokens, min_count=3):\n",
    "        self.min_count = min_count\n",
    "        self.freqs = {t:n for t, n in Counter(all_tokens).items() if n >= min_count}\n",
    "        self.words = sorted(self.freqs.keys())\n",
    "        self.word2idx = {w: i for i, w in enumerate(self.words)}\n",
    "        \n",
    "vocab = Vocab([tok for tokens in df.tokens for tok in tokens])\n",
    "\n",
    "print(f\"Dataset comprises {len(df)} documents and {len(vocab.words)} unique words (over the limit of {vocab.min_count} occurrences)\")"
   ]
  },
  {
   "cell_type": "markdown",
   "metadata": {},
   "source": [
    "Words that appear extremely raerly can harm performance, so we strip those out."
   ]
  },
  {
   "cell_type": "code",
   "execution_count": 3,
   "metadata": {},
   "outputs": [
    {
     "data": {
      "text/html": [
       "<div>\n",
       "<style scoped>\n",
       "    .dataframe tbody tr th:only-of-type {\n",
       "        vertical-align: middle;\n",
       "    }\n",
       "\n",
       "    .dataframe tbody tr th {\n",
       "        vertical-align: top;\n",
       "    }\n",
       "\n",
       "    .dataframe thead th {\n",
       "        text-align: right;\n",
       "    }\n",
       "</style>\n",
       "<table border=\"1\" class=\"dataframe\">\n",
       "  <thead>\n",
       "    <tr style=\"text-align: right;\">\n",
       "      <th></th>\n",
       "      <th>text</th>\n",
       "      <th>tokens</th>\n",
       "      <th>length</th>\n",
       "      <th>clean_tokens</th>\n",
       "      <th>clean_length</th>\n",
       "    </tr>\n",
       "  </thead>\n",
       "  <tbody>\n",
       "    <tr>\n",
       "      <th>0</th>\n",
       "      <td>In the week before their departure to Arrakis,...</td>\n",
       "      <td>[in, the, week, before, their, departure, to, ...</td>\n",
       "      <td>36</td>\n",
       "      <td>[in, the, week, before, their, departure, to, ...</td>\n",
       "      <td>36</td>\n",
       "    </tr>\n",
       "    <tr>\n",
       "      <th>1</th>\n",
       "      <td>In the week before their departure to Arrakis,...</td>\n",
       "      <td>[in, the, week, before, their, departure, to, ...</td>\n",
       "      <td>36</td>\n",
       "      <td>[in, the, week, before, their, departure, to, ...</td>\n",
       "      <td>36</td>\n",
       "    </tr>\n",
       "    <tr>\n",
       "      <th>2</th>\n",
       "      <td>In the week before their departure to Arrakis,...</td>\n",
       "      <td>[in, the, week, before, their, departure, to, ...</td>\n",
       "      <td>36</td>\n",
       "      <td>[in, the, week, before, their, departure, to, ...</td>\n",
       "      <td>36</td>\n",
       "    </tr>\n",
       "    <tr>\n",
       "      <th>3</th>\n",
       "      <td>In the week before their departure to Arrakis,...</td>\n",
       "      <td>[in, the, week, before, their, departure, to, ...</td>\n",
       "      <td>36</td>\n",
       "      <td>[in, the, week, before, their, departure, to, ...</td>\n",
       "      <td>36</td>\n",
       "    </tr>\n",
       "    <tr>\n",
       "      <th>4</th>\n",
       "      <td>It was a warm night at Castle Caladan, and the...</td>\n",
       "      <td>[it, was, a, warm, night, at, castle, caladan,...</td>\n",
       "      <td>43</td>\n",
       "      <td>[it, was, a, warm, night, at, castle, caladan,...</td>\n",
       "      <td>43</td>\n",
       "    </tr>\n",
       "  </tbody>\n",
       "</table>\n",
       "</div>"
      ],
      "text/plain": [
       "                                                text  \\\n",
       "0  In the week before their departure to Arrakis,...   \n",
       "1  In the week before their departure to Arrakis,...   \n",
       "2  In the week before their departure to Arrakis,...   \n",
       "3  In the week before their departure to Arrakis,...   \n",
       "4  It was a warm night at Castle Caladan, and the...   \n",
       "\n",
       "                                              tokens  length  \\\n",
       "0  [in, the, week, before, their, departure, to, ...      36   \n",
       "1  [in, the, week, before, their, departure, to, ...      36   \n",
       "2  [in, the, week, before, their, departure, to, ...      36   \n",
       "3  [in, the, week, before, their, departure, to, ...      36   \n",
       "4  [it, was, a, warm, night, at, castle, caladan,...      43   \n",
       "\n",
       "                                        clean_tokens  clean_length  \n",
       "0  [in, the, week, before, their, departure, to, ...            36  \n",
       "1  [in, the, week, before, their, departure, to, ...            36  \n",
       "2  [in, the, week, before, their, departure, to, ...            36  \n",
       "3  [in, the, week, before, their, departure, to, ...            36  \n",
       "4  [it, was, a, warm, night, at, castle, caladan,...            43  "
      ]
     },
     "execution_count": 3,
     "metadata": {},
     "output_type": "execute_result"
    }
   ],
   "source": [
    "def clean_tokens(df, vocab):\n",
    "    df[\"length\"] = df.tokens.apply(len)\n",
    "    df[\"clean_tokens\"] = df.tokens.apply(lambda x: [t for t in x if t in vocab.freqs.keys()])\n",
    "    df[\"clean_length\"] = df.clean_tokens.apply(len)\n",
    "    return df\n",
    "\n",
    "df = clean_tokens(df, vocab)\n",
    "df[:5]"
   ]
  },
  {
   "cell_type": "markdown",
   "metadata": {},
   "source": [
    "The difficulty with our \"the cat _ on the mat\" problem is that the missing word could be any one in the vocabulary V and so the network would have |V| outputs for each input e.g. a huge vector containing zero for every word in the vocabulary and some positive number for \"sat\" if the network was perfectly trained. For calculating loss we need to turn that into a probabilty distribution, i.e. _softmax_ it. Computing the softmax for such a large vector is expensive.\n",
    "\n",
    "So the trick (one of many possible) we will use is _Noise Contrastive Estimation (NCE)_. We change our \"the cat _ on the mat\" problem into a multiple choice problem, asking the network to choose between \"sat\" and some random wrong answers like \"hopscotch\" and \"luxuriated\". This is easier to compute the softmax for since it's now a binary classifier (right or wrong answer) and the output is simply of a vector of size 1 + k where k is the number of random incorrect options.\n",
    "\n",
    "Happily, this alternative problem still learns equally useful word representations. We just need to adjust the examples and the loss function. There is a simplified version of the NCE loss function called _Negative Sampling (NEG)_ that we can use here.\n",
    "\n",
    "[Notes on Noise Contrastive Estimation and Negative Sampling (C. Dyer)](https://arxiv.org/abs/1410.8251) explains the derivation of the NCE and NEG loss functions.\n",
    "\n",
    "When we implement the loss function, we assume that the first element in a samples/scores vector is the score for the positive sample and the rest are negative samples. This convention saves us from having to pass around an auxiliary vector indicating which sample was positive."
   ]
  },
  {
   "cell_type": "code",
   "execution_count": 4,
   "metadata": {},
   "outputs": [],
   "source": [
    "import torch.nn as nn\n",
    "\n",
    "class NegativeSampling(nn.Module):\n",
    "    def __init__(self):\n",
    "        super(NegativeSampling, self).__init__()\n",
    "        self.log_sigmoid = nn.LogSigmoid()\n",
    "    def forward(self, scores):\n",
    "        batch_size = scores.shape[0]\n",
    "        n_negative_samples = scores.shape[1] - 1   # TODO average or sum the negative samples? Summing seems to be correct by the paper\n",
    "        positive = self.log_sigmoid(scores[:,0])\n",
    "        negatives = torch.sum(self.log_sigmoid(-scores[:,1:]), dim=1)\n",
    "        return -torch.sum(positive + negatives) / batch_size  # average for batch\n",
    "\n",
    "loss = NegativeSampling()"
   ]
  },
  {
   "cell_type": "markdown",
   "metadata": {},
   "source": [
    "It's helpful to play with some values to reassure ourselves that this function does the right thing."
   ]
  },
  {
   "cell_type": "code",
   "execution_count": 5,
   "metadata": {},
   "outputs": [
    {
     "data": {
      "text/html": [
       "<div>\n",
       "<style scoped>\n",
       "    .dataframe tbody tr th:only-of-type {\n",
       "        vertical-align: middle;\n",
       "    }\n",
       "\n",
       "    .dataframe tbody tr th {\n",
       "        vertical-align: top;\n",
       "    }\n",
       "\n",
       "    .dataframe thead th {\n",
       "        text-align: right;\n",
       "    }\n",
       "</style>\n",
       "<table border=\"1\" class=\"dataframe\">\n",
       "  <thead>\n",
       "    <tr style=\"text-align: right;\">\n",
       "      <th></th>\n",
       "      <th>scores</th>\n",
       "      <th>loss</th>\n",
       "    </tr>\n",
       "  </thead>\n",
       "  <tbody>\n",
       "    <tr>\n",
       "      <th>0</th>\n",
       "      <td>[1, -1, -1, -1]</td>\n",
       "      <td>tensor(1.2530)</td>\n",
       "    </tr>\n",
       "    <tr>\n",
       "      <th>1</th>\n",
       "      <td>[0.5, -1, -1, -1]</td>\n",
       "      <td>tensor(1.4139)</td>\n",
       "    </tr>\n",
       "    <tr>\n",
       "      <th>2</th>\n",
       "      <td>[0, -1, -1, -1]</td>\n",
       "      <td>tensor(1.6329)</td>\n",
       "    </tr>\n",
       "    <tr>\n",
       "      <th>3</th>\n",
       "      <td>[0, 0, 0, 0]</td>\n",
       "      <td>tensor(2.7726)</td>\n",
       "    </tr>\n",
       "    <tr>\n",
       "      <th>4</th>\n",
       "      <td>[0, 0, 0, 1]</td>\n",
       "      <td>tensor(3.3927)</td>\n",
       "    </tr>\n",
       "    <tr>\n",
       "      <th>5</th>\n",
       "      <td>[0, 1, 1, 1]</td>\n",
       "      <td>tensor(4.6329)</td>\n",
       "    </tr>\n",
       "    <tr>\n",
       "      <th>6</th>\n",
       "      <td>[0.5, 1, 1, 1]</td>\n",
       "      <td>tensor(4.4139)</td>\n",
       "    </tr>\n",
       "    <tr>\n",
       "      <th>7</th>\n",
       "      <td>[1, 1, 1, 1]</td>\n",
       "      <td>tensor(4.2530)</td>\n",
       "    </tr>\n",
       "  </tbody>\n",
       "</table>\n",
       "</div>"
      ],
      "text/plain": [
       "              scores            loss\n",
       "0    [1, -1, -1, -1]  tensor(1.2530)\n",
       "1  [0.5, -1, -1, -1]  tensor(1.4139)\n",
       "2    [0, -1, -1, -1]  tensor(1.6329)\n",
       "3       [0, 0, 0, 0]  tensor(2.7726)\n",
       "4       [0, 0, 0, 1]  tensor(3.3927)\n",
       "5       [0, 1, 1, 1]  tensor(4.6329)\n",
       "6     [0.5, 1, 1, 1]  tensor(4.4139)\n",
       "7       [1, 1, 1, 1]  tensor(4.2530)"
      ]
     },
     "execution_count": 5,
     "metadata": {},
     "output_type": "execute_result"
    }
   ],
   "source": [
    "import torch \n",
    "\n",
    "data = [[[1, -1, -1, -1]],  # this dummy data uses -1 to 1, but the real model is unconstrained\n",
    "        [[0.5, -1, -1, -1]],\n",
    "        [[0, -1, -1, -1]],\n",
    "        [[0, 0, 0, 0]],\n",
    "        [[0, 0, 0, 1]],\n",
    "        [[0, 1, 1, 1]],\n",
    "        [[0.5, 1, 1, 1]],\n",
    "        [[1, 1, 1, 1]]]\n",
    "\n",
    "loss_df = pd.DataFrame(data, columns=[\"scores\"])\n",
    "loss_df[\"loss\"] = loss_df.scores.apply(lambda x: loss(torch.FloatTensor([x])))\n",
    "\n",
    "loss_df"
   ]
  },
  {
   "cell_type": "markdown",
   "metadata": {},
   "source": [
    "Higher scores for the positive sample (always the first element) reduce the loss but higher scores for the negative samples increase the loss. This looks like the right behaviour."
   ]
  },
  {
   "cell_type": "markdown",
   "metadata": {},
   "source": [
    "With that in the bag, let's look at creating training data. The general idea is to create a set of examples where each example has:\n",
    "\n",
    "- doc id\n",
    "- sample ids - a collection of the target token and some noise tokens\n",
    "- context ids - tokens before and after the target token\n",
    "\n",
    "e.g. If our context size was 2, the first example from the above dataset would be:\n",
    "\n",
    "```\n",
    "{\"doc_id\": 0,\n",
    " \"sample_ids\": [word2idx[x] for x in [\"week\", \"random-word-from-vocab\", \"random-word-from-vocab\"...],\n",
    " \"context_ids\": [word2idx[x] for x in [\"in\", \"the\", \"before\", \"their\"]]}\n",
    " ```\n",
    " \n",
    " The random words are chosen according to a probability distribution:\n",
    " \n",
    " > a unigram distribution raised to the 3/4rd power, as proposed by T. Mikolov et al. in Distributed Representations of Words and Phrases and their Compositionality\n",
    "\n",
    "This has the effect of slightly increasing the relative probability of rare words (look at the graph of `y=x^0.75` below and see how the lower end is raised above `y=x`)."
   ]
  },
  {
   "cell_type": "code",
   "execution_count": 6,
   "metadata": {},
   "outputs": [
    {
     "data": {
      "application/vnd.vegalite.v2+json": {
       "$schema": "https://vega.github.io/schema/vega-lite/v2.6.0.json",
       "config": {
        "view": {
         "height": 300,
         "width": 400
        }
       },
       "data": {
        "name": "data-afc3dc0951a9e12875119a5af86e52b5"
       },
       "datasets": {
        "data-afc3dc0951a9e12875119a5af86e52b5": [
         {
          "x": 0,
          "y": 0
         },
         {
          "x": 0.01,
          "y": 0.03162277660168379
         },
         {
          "x": 0.02,
          "y": 0.053182958969449884
         },
         {
          "x": 0.03,
          "y": 0.07208434242404263
         },
         {
          "x": 0.04,
          "y": 0.08944271909999159
         },
         {
          "x": 0.05,
          "y": 0.10573712634405642
         },
         {
          "x": 0.06,
          "y": 0.12123093028059741
         },
         {
          "x": 0.07,
          "y": 0.13608915892697748
         },
         {
          "x": 0.08,
          "y": 0.15042412372345573
         },
         {
          "x": 0.09,
          "y": 0.16431676725154984
         },
         {
          "x": 0.1,
          "y": 0.1778279410038923
         },
         {
          "x": 0.11,
          "y": 0.19100490227716513
         },
         {
          "x": 0.12,
          "y": 0.2038853093816547
         },
         {
          "x": 0.13,
          "y": 0.2164998073464082
         },
         {
          "x": 0.14,
          "y": 0.22887377179317683
         },
         {
          "x": 0.15,
          "y": 0.2410285256833955
         },
         {
          "x": 0.16,
          "y": 0.25298221281347033
         },
         {
          "x": 0.17,
          "y": 0.26475044029330763
         },
         {
          "x": 0.18,
          "y": 0.2763467610958144
         },
         {
          "x": 0.19,
          "y": 0.28778304315451386
         },
         {
          "x": 0.2,
          "y": 0.29906975624424414
         },
         {
          "x": 0.21,
          "y": 0.3102161981490854
         },
         {
          "x": 0.22,
          "y": 0.32123067524150845
         },
         {
          "x": 0.23,
          "y": 0.33212064831351956
         },
         {
          "x": 0.24,
          "y": 0.34289285156385596
         },
         {
          "x": 0.25,
          "y": 0.3535533905932738
         },
         {
          "x": 0.26,
          "y": 0.3641078238014289
         },
         {
          "x": 0.27,
          "y": 0.37456123052590357
         },
         {
          "x": 0.28,
          "y": 0.38491826849295824
         },
         {
          "x": 0.29,
          "y": 0.39518322257770583
         },
         {
          "x": 0.3,
          "y": 0.4053600464421103
         },
         {
          "x": 0.31,
          "y": 0.41545239829339137
         },
         {
          "x": 0.32,
          "y": 0.42546367175559907
         },
         {
          "x": 0.33,
          "y": 0.43539702265375557
         },
         {
          "x": 0.34,
          "y": 0.4452553923589699
         },
         {
          "x": 0.35000000000000003,
          "y": 0.45504152822405847
         },
         {
          "x": 0.36,
          "y": 0.46475800154489
         },
         {
          "x": 0.37,
          "y": 0.47440722340731084
         },
         {
          "x": 0.38,
          "y": 0.4839914587188715
         },
         {
          "x": 0.39,
          "y": 0.4935128386754873
         },
         {
          "x": 0.4,
          "y": 0.5029733718731741
         },
         {
          "x": 0.41000000000000003,
          "y": 0.5123749542422491
         },
         {
          "x": 0.42,
          "y": 0.5217193779544038
         },
         {
          "x": 0.43,
          "y": 0.5310083394307343
         },
         {
          "x": 0.44,
          "y": 0.5402434465602292
         },
         {
          "x": 0.45,
          "y": 0.549426225222706
         },
         {
          "x": 0.46,
          "y": 0.5585581251971565
         },
         {
          "x": 0.47000000000000003,
          "y": 0.5676405255254853
         },
         {
          "x": 0.48,
          "y": 0.576674739392341
         },
         {
          "x": 0.49,
          "y": 0.5856620185738529
         },
         {
          "x": 0.5,
          "y": 0.5946035575013605
         },
         {
          "x": 0.51,
          "y": 0.6035004969804791
         },
         {
          "x": 0.52,
          "y": 0.6123539276009055
         },
         {
          "x": 0.53,
          "y": 0.6211648928681236
         },
         {
          "x": 0.54,
          "y": 0.629934392084505
         },
         {
          "x": 0.55,
          "y": 0.6386633830041155
         },
         {
          "x": 0.56,
          "y": 0.6473527842827909
         },
         {
          "x": 0.5700000000000001,
          "y": 0.6560034777426358
         },
         {
          "x": 0.58,
          "y": 0.6646163104680073
         },
         {
          "x": 0.59,
          "y": 0.6731920967482075
         },
         {
          "x": 0.6,
          "y": 0.6817316198804996
         },
         {
          "x": 0.61,
          "y": 0.6902356338456498
         },
         {
          "x": 0.62,
          "y": 0.6987048648669424
         },
         {
          "x": 0.63,
          "y": 0.7071400128625219
         },
         {
          "x": 0.64,
          "y": 0.7155417527999327
         },
         {
          "x": 0.65,
          "y": 0.7239107359608682
         },
         {
          "x": 0.66,
          "y": 0.7322475911233668
         },
         {
          "x": 0.67,
          "y": 0.7405529256680135
         },
         {
          "x": 0.68,
          "y": 0.7488273266140879
         },
         {
          "x": 0.6900000000000001,
          "y": 0.7570713615910638
         },
         {
          "x": 0.7000000000000001,
          "y": 0.7652855797503655
         },
         {
          "x": 0.71,
          "y": 0.7734705126218591
         },
         {
          "x": 0.72,
          "y": 0.7816266749191567
         },
         {
          "x": 0.73,
          "y": 0.7897545652974598
         },
         {
          "x": 0.74,
          "y": 0.7978546670673515
         },
         {
          "x": 0.75,
          "y": 0.8059274488676564
         },
         {
          "x": 0.76,
          "y": 0.8139733653002305
         },
         {
          "x": 0.77,
          "y": 0.8219928575293057
         },
         {
          "x": 0.78,
          "y": 0.829986353847804
         },
         {
          "x": 0.79,
          "y": 0.837954270212839
         },
         {
          "x": 0.8,
          "y": 0.8458970107524514
         },
         {
          "x": 0.81,
          "y": 0.8538149682454624
         },
         {
          "x": 0.8200000000000001,
          "y": 0.8617085245761865
         },
         {
          "x": 0.8300000000000001,
          "y": 0.869578051165608
         },
         {
          "x": 0.84,
          "y": 0.8774239093805121
         },
         {
          "x": 0.85,
          "y": 0.8852464509219427
         },
         {
          "x": 0.86,
          "y": 0.8930460181942644
         },
         {
          "x": 0.87,
          "y": 0.9008229446560111
         },
         {
          "x": 0.88,
          "y": 0.9085775551536168
         },
         {
          "x": 0.89,
          "y": 0.9163101662390513
         },
         {
          "x": 0.9,
          "y": 0.9240210864723069
         },
         {
          "x": 0.91,
          "y": 0.9317106167096201
         },
         {
          "x": 0.92,
          "y": 0.9393790503782488
         },
         {
          "x": 0.93,
          "y": 0.9470266737385726
         },
         {
          "x": 0.9400000000000001,
          "y": 0.9546537661342305
         },
         {
          "x": 0.9500000000000001,
          "y": 0.9622606002309622
         },
         {
          "x": 0.96,
          "y": 0.9698474422447793
         },
         {
          "x": 0.97,
          "y": 0.9774145521600454
         },
         {
          "x": 0.98,
          "y": 0.9849621839380145
         },
         {
          "x": 0.99,
          "y": 0.992490585716335
         }
        ]
       },
       "encoding": {
        "x": {
         "field": "x",
         "type": "quantitative"
        },
        "y": {
         "field": "y",
         "type": "quantitative"
        }
       },
       "mark": "line",
       "title": "x^0.75"
      },
      "image/png": "[encoded data removed]",
      "text/plain": [
       "<VegaLite 2 object>\n",
       "\n",
       "If you see this message, it means the renderer has not been properly enabled\n",
       "for the frontend that you are using. For more information, see\n",
       "https://altair-viz.github.io/user_guide/troubleshooting.html\n"
      ]
     },
     "execution_count": 6,
     "metadata": {},
     "output_type": "execute_result"
    }
   ],
   "source": [
    "import altair as alt\n",
    "import numpy as np\n",
    "\n",
    "data = pd.DataFrame(zip(np.arange(0,1,0.01), np.power(np.arange(0,1,0.01), 0.75)), columns=[\"x\", \"y\"])\n",
    "alt.Chart(data, title=\"x^0.75\").mark_line().encode(x=\"x\", y=\"y\")"
   ]
  },
  {
   "cell_type": "code",
   "execution_count": 7,
   "metadata": {},
   "outputs": [],
   "source": [
    "import numpy as np\n",
    "\n",
    "class NoiseDistribution:\n",
    "    def __init__(self, vocab):\n",
    "        self.probs = np.array([vocab.freqs[w] for w in vocab.words])\n",
    "        self.probs = np.power(self.probs, 0.75)\n",
    "        self.probs /= np.sum(self.probs)\n",
    "    def sample(self, n):\n",
    "        \"Returns the indices of n words randomly sampled from the vocabulary.\"\n",
    "        return np.random.choice(a=self.probs.shape[0], size=n, p=self.probs)\n",
    "        \n",
    "noise = NoiseDistribution(vocab)"
   ]
  },
  {
   "cell_type": "markdown",
   "metadata": {},
   "source": [
    "With this distribution, we advance through the documents creating examples. Note that we are always putting the positive sample first in the samples vector, following the convention the loss function expects."
   ]
  },
  {
   "cell_type": "code",
   "execution_count": 8,
   "metadata": {},
   "outputs": [],
   "source": [
    "import torch\n",
    "\n",
    "def example_generator(df, context_size, noise, n_negative_samples, vocab):\n",
    "    for doc_id, doc in df.iterrows():\n",
    "        for i in range(context_size, len(doc.clean_tokens) - context_size):\n",
    "            positive_sample = vocab.word2idx[doc.clean_tokens[i]]\n",
    "            sample_ids = noise.sample(n_negative_samples).tolist()\n",
    "            # Fix a wee bug - ensure negative samples don't accidentally include the positive\n",
    "            sample_ids = [sample_id if sample_id != positive_sample else -1 for sample_id in sample_ids]\n",
    "            sample_ids.insert(0, positive_sample)                \n",
    "            context = doc.clean_tokens[i - context_size:i] + doc.clean_tokens[i + 1:i + context_size + 1]\n",
    "            context_ids = [vocab.word2idx[w] for w in context]\n",
    "            yield {\"doc_ids\": torch.tensor(doc_id),  # we use plural here because it will be batched\n",
    "                   \"sample_ids\": torch.tensor(sample_ids), \n",
    "                   \"context_ids\": torch.tensor(context_ids)}\n",
    "            \n",
    "examples = example_generator(df, context_size=5, noise=noise, n_negative_samples=15, vocab=vocab)"
   ]
  },
  {
   "cell_type": "markdown",
   "metadata": {},
   "source": [
    "Now we package this up as a good old PyTorch dataset and dataloader."
   ]
  },
  {
   "cell_type": "code",
   "execution_count": 9,
   "metadata": {},
   "outputs": [],
   "source": [
    "from torch.utils.data import Dataset, DataLoader\n",
    "\n",
    "class NCEDataset(Dataset):\n",
    "    def __init__(self, examples):\n",
    "        self.examples = list(examples)  # just naively evaluate the whole damn thing - suboptimal!\n",
    "    def __len__(self):\n",
    "        return len(self.examples)\n",
    "    def __getitem__(self, index):\n",
    "        return self.examples[index]\n",
    "    \n",
    "dataset = NCEDataset(examples)\n",
    "dataloader = DataLoader(dataset, batch_size=2, drop_last=True, shuffle=True)  # TODO bigger batch size when not dummy data"
   ]
  },
  {
   "cell_type": "markdown",
   "metadata": {},
   "source": [
    "Let's jump into creating the model itself. There isn't much to it - we multiply the input paragraph and word matrices by the output layer. Combining the paragraph and word matrices is done by summing here, but it could also be done by concatenating the inputs. The original paper actually found concatenation works better, perhaps because summing loses word order information."
   ]
  },
  {
   "cell_type": "code",
   "execution_count": 10,
   "metadata": {},
   "outputs": [],
   "source": [
    "import torch.nn as nn\n",
    "\n",
    "class DistributedMemory(nn.Module):\n",
    "    def __init__(self, vec_dim, n_docs, n_words):\n",
    "        super(DistributedMemory, self).__init__()\n",
    "        self.paragraph_matrix = nn.Parameter(torch.randn(n_docs, vec_dim))\n",
    "        self.word_matrix = nn.Parameter(torch.randn(n_words, vec_dim))\n",
    "        self.outputs = nn.Parameter(torch.zeros(vec_dim, n_words))\n",
    "    \n",
    "    def forward(self, doc_ids, context_ids, sample_ids):\n",
    "                                                                               # first add doc ids to context word ids to make the inputs\n",
    "        inputs = torch.add(self.paragraph_matrix[doc_ids,:],                   # (batch_size, vec_dim)\n",
    "                           torch.sum(self.word_matrix[context_ids,:], dim=1))  # (batch_size, 2x context, vec_dim) -> sum to (batch_size, vec_dim)\n",
    "                                                                               #\n",
    "                                                                               # select the subset of the output layer for the NCE test\n",
    "        outputs = self.outputs[:,sample_ids]                                   # (vec_dim, batch_size, n_negative_samples + 1)\n",
    "                                                                               #\n",
    "        return torch.bmm(inputs.unsqueeze(dim=1),                              # then multiply with some munging to make the tensor shapes line up \n",
    "                         outputs.permute(1, 0, 2)).squeeze()                   # -> (batch_size, n_negative_samples + 1)\n",
    "\n",
    "model = DistributedMemory(vec_dim=50,\n",
    "                          n_docs=len(df),\n",
    "                          n_words=len(vocab.words))"
   ]
  },
  {
   "cell_type": "markdown",
   "metadata": {},
   "source": [
    "Let's take it for a spin!"
   ]
  },
  {
   "cell_type": "code",
   "execution_count": 11,
   "metadata": {},
   "outputs": [
    {
     "data": {
      "text/plain": [
       "tensor([[0., 0., 0., 0., 0., 0., 0., 0., 0., 0., 0., 0., 0., 0., 0., 0.],\n",
       "        [0., 0., 0., 0., 0., 0., 0., 0., 0., 0., 0., 0., 0., 0., 0., 0.]])"
      ]
     },
     "execution_count": 11,
     "metadata": {},
     "output_type": "execute_result"
    }
   ],
   "source": [
    "with torch.no_grad():\n",
    "    logits = model.forward(**next(iter(dataloader)))\n",
    "logits"
   ]
  },
  {
   "cell_type": "markdown",
   "metadata": {},
   "source": [
    "Oh yeah, the output layer was initialized with zeros. Time to bash out a standard issue PyTorch training loop."
   ]
  },
  {
   "cell_type": "code",
   "execution_count": 12,
   "metadata": {},
   "outputs": [],
   "source": [
    "from tqdm import tqdm, trange\n",
    "from torch.optim import Adam\n",
    "import numpy as np\n",
    "\n",
    "def train(model, dataloader, epochs=40, lr=1e-3):\n",
    "    optimizer = Adam(model.parameters(), lr=lr)\n",
    "    training_losses = []\n",
    "    try:\n",
    "        for epoch in trange(epochs, desc=\"Epochs\"):\n",
    "            epoch_losses = []\n",
    "            for batch in dataloader:\n",
    "                model.zero_grad()\n",
    "                logits = model.forward(**batch)\n",
    "                batch_loss = loss(logits)\n",
    "                epoch_losses.append(batch_loss.item())\n",
    "                batch_loss.backward()\n",
    "                optimizer.step()\n",
    "            training_losses.append(np.mean(epoch_losses))\n",
    "    except KeyboardInterrupt:\n",
    "        print(f\"Interrupted on epoch {epoch}!\")\n",
    "    finally:\n",
    "        return training_losses"
   ]
  },
  {
   "cell_type": "markdown",
   "metadata": {},
   "source": [
    "Now we'll sanity check by overfitting the example data. Training loss should drop from untrained loss to something close to the minimum possible."
   ]
  },
  {
   "cell_type": "code",
   "execution_count": 13,
   "metadata": {},
   "outputs": [
    {
     "name": "stderr",
     "output_type": "stream",
     "text": [
      "Epochs: 100%|██████████| 40/40 [00:10<00:00,  3.60it/s]\n"
     ]
    }
   ],
   "source": [
    "training_losses = train(model, dataloader, epochs=40, lr=1e-3)"
   ]
  },
  {
   "cell_type": "code",
   "execution_count": 14,
   "metadata": {},
   "outputs": [
    {
     "data": {
      "application/vnd.vegalite.v2+json": {
       "$schema": "https://vega.github.io/schema/vega-lite/v2.6.0.json",
       "config": {
        "view": {
         "height": 300,
         "width": 400
        }
       },
       "data": {
        "name": "data-b7f5720720866a28810472ccf67db5ac"
       },
       "datasets": {
        "data-b7f5720720866a28810472ccf67db5ac": [
         {
          "epoch": 0,
          "training_loss": 5.442235210667485
         },
         {
          "epoch": 1,
          "training_loss": 2.28912986577421
         },
         {
          "epoch": 2,
          "training_loss": 1.5544847157122432
         },
         {
          "epoch": 3,
          "training_loss": 1.1479946965540664
         },
         {
          "epoch": 4,
          "training_loss": 0.8760133303593898
         },
         {
          "epoch": 5,
          "training_loss": 0.6801921709076219
         },
         {
          "epoch": 6,
          "training_loss": 0.5357515322773353
         },
         {
          "epoch": 7,
          "training_loss": 0.4278598045255395
         },
         {
          "epoch": 8,
          "training_loss": 0.347224667020466
         },
         {
          "epoch": 9,
          "training_loss": 0.27865381959987723
         },
         {
          "epoch": 10,
          "training_loss": 0.23097639621329913
         },
         {
          "epoch": 11,
          "training_loss": 0.1906440644187556
         },
         {
          "epoch": 12,
          "training_loss": 0.1579932608385233
         },
         {
          "epoch": 13,
          "training_loss": 0.13130111079258117
         },
         {
          "epoch": 14,
          "training_loss": 0.11024409967164199
         },
         {
          "epoch": 15,
          "training_loss": 0.09389944985319955
         },
         {
          "epoch": 16,
          "training_loss": 0.07843947674458225
         },
         {
          "epoch": 17,
          "training_loss": 0.06739408582570436
         },
         {
          "epoch": 18,
          "training_loss": 0.05743518469018349
         },
         {
          "epoch": 19,
          "training_loss": 0.049636112151505506
         },
         {
          "epoch": 20,
          "training_loss": 0.04389787871269104
         },
         {
          "epoch": 21,
          "training_loss": 0.0368251474354875
         },
         {
          "epoch": 22,
          "training_loss": 0.03182456084101906
         },
         {
          "epoch": 23,
          "training_loss": 0.028815119662254616
         },
         {
          "epoch": 24,
          "training_loss": 0.02653478389011993
         },
         {
          "epoch": 25,
          "training_loss": 0.0210825426797585
         },
         {
          "epoch": 26,
          "training_loss": 0.019146701151444373
         },
         {
          "epoch": 27,
          "training_loss": 0.01708160889119018
         },
         {
          "epoch": 28,
          "training_loss": 0.015339802746472044
         },
         {
          "epoch": 29,
          "training_loss": 0.013107020672802151
         },
         {
          "epoch": 30,
          "training_loss": 0.011727525812971906
         },
         {
          "epoch": 31,
          "training_loss": 0.011130866867091938
         },
         {
          "epoch": 32,
          "training_loss": 0.009650860489194241
         },
         {
          "epoch": 33,
          "training_loss": 0.01101117716440796
         },
         {
          "epoch": 34,
          "training_loss": 0.008453792296611515
         },
         {
          "epoch": 35,
          "training_loss": 0.008628673072435313
         },
         {
          "epoch": 36,
          "training_loss": 0.008177415873143364
         },
         {
          "epoch": 37,
          "training_loss": 0.007887469981063117
         },
         {
          "epoch": 38,
          "training_loss": 0.0061164474924832275
         },
         {
          "epoch": 39,
          "training_loss": 0.00623722616691721
         }
        ]
       },
       "encoding": {
        "x": {
         "field": "epoch",
         "type": "quantitative"
        },
        "y": {
         "field": "training_loss",
         "scale": {
          "type": "log"
         },
         "type": "quantitative"
        }
       },
       "mark": "bar"
      },
      "image/png": "[encoded data removed]",
      "text/plain": [
       "<VegaLite 2 object>\n",
       "\n",
       "If you see this message, it means the renderer has not been properly enabled\n",
       "for the frontend that you are using. For more information, see\n",
       "https://altair-viz.github.io/user_guide/troubleshooting.html\n"
      ]
     },
     "execution_count": 14,
     "metadata": {},
     "output_type": "execute_result"
    }
   ],
   "source": [
    "import altair as alt\n",
    "\n",
    "df_loss = pd.DataFrame(enumerate(training_losses), columns=[\"epoch\", \"training_loss\"])\n",
    "alt.Chart(df_loss).mark_bar().encode(alt.X(\"epoch\"), alt.Y(\"training_loss\", scale=alt.Scale(type=\"log\")))"
   ]
  },
  {
   "cell_type": "markdown",
   "metadata": {},
   "source": [
    "And because we're paranoid types, let's check a prediction."
   ]
  },
  {
   "cell_type": "code",
   "execution_count": 15,
   "metadata": {},
   "outputs": [
    {
     "data": {
      "text/plain": [
       "tensor([[  6.7815, -13.3500, -16.4660, -24.1340, -11.8109, -12.3601, -10.6284,\n",
       "         -15.7586, -17.8568, -15.4847, -13.3500, -18.1726,  -8.5766, -10.6284,\n",
       "         -12.7126,  -9.0052],\n",
       "        [  7.1449, -17.3493, -17.1506, -12.1016,  -9.0616, -13.9477, -20.4785,\n",
       "         -17.2580, -13.1180,  -9.2076, -11.4358, -10.8487, -16.0493, -12.2206,\n",
       "         -12.6787, -24.4106]])"
      ]
     },
     "execution_count": 15,
     "metadata": {},
     "output_type": "execute_result"
    }
   ],
   "source": [
    "with torch.no_grad():\n",
    "    logits = model.forward(**next(iter(dataloader)))\n",
    "logits"
   ]
  },
  {
   "cell_type": "markdown",
   "metadata": {},
   "source": [
    "The positive sample gets a positive score and the negatives get negative scores. Super."
   ]
  },
  {
   "cell_type": "markdown",
   "metadata": {},
   "source": [
    "We should be able get the paragraph vectors for the documents and do things like check these for similarity to one another."
   ]
  },
  {
   "cell_type": "code",
   "execution_count": 16,
   "metadata": {},
   "outputs": [
    {
     "name": "stdout",
     "output_type": "stream",
     "text": [
      "doc 0 similarity with doc 1: 0.18976511\n",
      "doc 0 similarity with doc 2: 0.43711713\n",
      "doc 0 similarity with doc 3: 0.26112646\n",
      "doc 0 similarity with doc 4: 0.069830015\n"
     ]
    }
   ],
   "source": [
    "from sklearn.metrics.pairwise import cosine_similarity\n",
    "\n",
    "def document_similarity(model, id0, id1):\n",
    "    doc0 = model.paragraph_matrix[id0,:].data\n",
    "    doc1 = model.paragraph_matrix[id1,:].data\n",
    "    return cosine_similarity(doc0.unsqueeze(dim=0), doc1.unsqueeze(dim=0))[0][0]\n",
    "\n",
    "print(\"doc 0 similarity with doc 1:\", document_similarity(model, 0, 1))\n",
    "print(\"doc 0 similarity with doc 2:\", document_similarity(model, 0, 2))\n",
    "print(\"doc 0 similarity with doc 3:\", document_similarity(model, 0, 3))\n",
    "print(\"doc 0 similarity with doc 4:\", document_similarity(model, 0, 4))"
   ]
  },
  {
   "cell_type": "markdown",
   "metadata": {},
   "source": [
    "It's not particularly illuminating for our tiny set of dummy data though. We can also use PCA to reduce our 300-dimensional paragraph vectors to 2 dimensions and see if they are clustered nicely."
   ]
  },
  {
   "cell_type": "code",
   "execution_count": 17,
   "metadata": {},
   "outputs": [
    {
     "data": {
      "application/vnd.vegalite.v2+json": {
       "$schema": "https://vega.github.io/schema/vega-lite/v2.6.0.json",
       "config": {
        "view": {
         "height": 300,
         "width": 400
        }
       },
       "data": {
        "name": "data-552b6a203395320ca69dbacef404d721"
       },
       "datasets": {
        "data-552b6a203395320ca69dbacef404d721": [
         {
          "group": "a",
          "x": 3.8257534109701554,
          "y": -0.362593759401518
         },
         {
          "group": "a",
          "x": 0.4783248662068064,
          "y": -0.4395353897194165
         },
         {
          "group": "a",
          "x": 2.004588123264463,
          "y": -0.6778427263485007
         },
         {
          "group": "a",
          "x": 4.59298207132984,
          "y": 0.6398051917698955
         },
         {
          "group": "b",
          "x": 0.7565963416334825,
          "y": -4.793274683520631
         },
         {
          "group": "b",
          "x": -1.9176484139456142,
          "y": -0.7919938467763794
         },
         {
          "group": "b",
          "x": -4.508803628746319,
          "y": 1.028015888459193
         },
         {
          "group": "b",
          "x": 2.4447465409684037,
          "y": 1.941260461430348
         },
         {
          "group": "c",
          "x": 1.3097488315667616,
          "y": 0.8361828982891245
         },
         {
          "group": "c",
          "x": 3.397950525375225,
          "y": -1.233367773586555
         },
         {
          "group": "c",
          "x": -1.3831350215740823,
          "y": 7.202483425780745
         },
         {
          "group": "c",
          "x": -2.170082224213799,
          "y": -0.25535599273129683
         },
         {
          "group": "d",
          "x": -1.5897138796600527,
          "y": 0.0707024576930316
         },
         {
          "group": "d",
          "x": 0.0634096340778137,
          "y": 0.2836990497662084
         },
         {
          "group": "d",
          "x": -4.331534652401912,
          "y": -3.210196428921765
         },
         {
          "group": "d",
          "x": -2.973182524851167,
          "y": -0.23798877218248937
         }
        ]
       },
       "encoding": {
        "color": {
         "field": "group",
         "type": "nominal"
        },
        "x": {
         "field": "x",
         "type": "quantitative"
        },
        "y": {
         "field": "y",
         "type": "quantitative"
        }
       },
       "mark": "point"
      },
      "image/png": "[encoded data removed]",
      "text/plain": [
       "<VegaLite 2 object>\n",
       "\n",
       "If you see this message, it means the renderer has not been properly enabled\n",
       "for the frontend that you are using. For more information, see\n",
       "https://altair-viz.github.io/user_guide/troubleshooting.html\n"
      ]
     },
     "execution_count": 17,
     "metadata": {},
     "output_type": "execute_result"
    }
   ],
   "source": [
    "from sklearn.decomposition import PCA\n",
    "from itertools import repeat, chain\n",
    "\n",
    "pca = PCA(n_components=2)\n",
    "\n",
    "reduced_dims = pca.fit_transform(model.paragraph_matrix.data)\n",
    "\n",
    "dx = pd.DataFrame(reduced_dims, columns=[\"x\", \"y\"])\n",
    "dx[\"group\"] = list(chain.from_iterable(repeat(c, 4) for c in (\"a\", \"b\", \"c\", \"d\")))  # because the example set intentionally includes dupes\n",
    "alt.Chart(dx).mark_point().encode(x=\"x\", y=\"y\", color=\"group\")"
   ]
  },
  {
   "cell_type": "markdown",
   "metadata": {},
   "source": [
    "Given that the documents are simply duplicated, this is rather disappointing. But it is a _tiny_ dataset."
   ]
  },
  {
   "cell_type": "markdown",
   "metadata": {},
   "source": [
    "Running this on some bigger data\n",
    "--------------------------------\n",
    "\n",
    "We'll use the BBC's dataset. The dataset was created by Derek Greene at UCD and all articles are copyright Auntie. I've munged it into a file per topic. I dropped the titles out of laziness."
   ]
  },
  {
   "cell_type": "code",
   "execution_count": 18,
   "metadata": {},
   "outputs": [
    {
     "name": "stdout",
     "output_type": "stream",
     "text": [
      "Error reading sport\n",
      "'utf-8' codec can't decode byte 0xa3 in position 257: invalid start byte\n"
     ]
    },
    {
     "data": {
      "text/html": [
       "<div>\n",
       "<style scoped>\n",
       "    .dataframe tbody tr th:only-of-type {\n",
       "        vertical-align: middle;\n",
       "    }\n",
       "\n",
       "    .dataframe tbody tr th {\n",
       "        vertical-align: top;\n",
       "    }\n",
       "\n",
       "    .dataframe thead th {\n",
       "        text-align: right;\n",
       "    }\n",
       "</style>\n",
       "<table border=\"1\" class=\"dataframe\">\n",
       "  <thead>\n",
       "    <tr style=\"text-align: right;\">\n",
       "      <th></th>\n",
       "      <th>text</th>\n",
       "      <th>tokens</th>\n",
       "      <th>group</th>\n",
       "    </tr>\n",
       "  </thead>\n",
       "  <tbody>\n",
       "    <tr>\n",
       "      <th>0</th>\n",
       "      <td>Ad sales boost Time Warner profit  Quarterly p...</td>\n",
       "      <td>[ad, sales, boost, time, warner, profit,  , qu...</td>\n",
       "      <td>business</td>\n",
       "    </tr>\n",
       "    <tr>\n",
       "      <th>1</th>\n",
       "      <td>Dollar gains on Greenspan speech  The dollar h...</td>\n",
       "      <td>[dollar, gains, on, greenspan, speech,  , the,...</td>\n",
       "      <td>business</td>\n",
       "    </tr>\n",
       "    <tr>\n",
       "      <th>2</th>\n",
       "      <td>Yukos unit buyer faces loan claim  The owners ...</td>\n",
       "      <td>[yukos, unit, buyer, faces, loan, claim,  , th...</td>\n",
       "      <td>business</td>\n",
       "    </tr>\n",
       "    <tr>\n",
       "      <th>3</th>\n",
       "      <td>High fuel prices hit BA's profits  British Air...</td>\n",
       "      <td>[high, fuel, prices, hit, ba, 's, profits,  , ...</td>\n",
       "      <td>business</td>\n",
       "    </tr>\n",
       "  </tbody>\n",
       "</table>\n",
       "</div>"
      ],
      "text/plain": [
       "                                                text  \\\n",
       "0  Ad sales boost Time Warner profit  Quarterly p...   \n",
       "1  Dollar gains on Greenspan speech  The dollar h...   \n",
       "2  Yukos unit buyer faces loan claim  The owners ...   \n",
       "3  High fuel prices hit BA's profits  British Air...   \n",
       "\n",
       "                                              tokens     group  \n",
       "0  [ad, sales, boost, time, warner, profit,  , qu...  business  \n",
       "1  [dollar, gains, on, greenspan, speech,  , the,...  business  \n",
       "2  [yukos, unit, buyer, faces, loan, claim,  , th...  business  \n",
       "3  [high, fuel, prices, hit, ba, 's, profits,  , ...  business  "
      ]
     },
     "execution_count": 18,
     "metadata": {},
     "output_type": "execute_result"
    }
   ],
   "source": [
    "dfs = []\n",
    "for document_set in (\"business\", \"politics\", \"tech\", \"sport\", \"entertainment\"):\n",
    "    try:\n",
    "        df_ = pd.read_csv(f\"data/bbc/{document_set}.csv.bz2\")\n",
    "        df_[\"tokens\"] = df_.text.str.lower().str.strip().apply(lambda x: [token.text for token in nlp(x)])\n",
    "        df_[\"group\"] = document_set\n",
    "        dfs.append(df_)\n",
    "    except Exception as err:\n",
    "        print(f\"Error reading {document_set}\")\n",
    "        print(err)\n",
    "\n",
    "df = pd.concat(dfs)\n",
    "df[:4]"
   ]
  },
  {
   "cell_type": "code",
   "execution_count": 19,
   "metadata": {},
   "outputs": [
    {
     "name": "stdout",
     "output_type": "stream",
     "text": [
      "Dataset comprises 1714 documents and 13142 unique words\n"
     ]
    }
   ],
   "source": [
    "vocab = Vocab([tok for tokens in df.tokens for tok in tokens])\n",
    "\n",
    "df = clean_tokens(df, vocab)\n",
    "\n",
    "print(f\"Dataset comprises {len(df)} documents and {len(vocab.words)} unique words\")"
   ]
  },
  {
   "cell_type": "code",
   "execution_count": 20,
   "metadata": {},
   "outputs": [],
   "source": [
    "examples = example_generator(df, context_size=5, noise=noise, n_negative_samples=15, vocab=vocab)\n",
    "dataset = NCEDataset(examples)\n",
    "dataloader = DataLoader(dataset, batch_size=256, drop_last=True, shuffle=True)  # TODO could tolerate a larger batch size\n",
    "\n",
    "model = DistributedMemory(vec_dim=50,\n",
    "                          n_docs=len(df),\n",
    "                          n_words=len(vocab.words))"
   ]
  },
  {
   "cell_type": "code",
   "execution_count": 21,
   "metadata": {},
   "outputs": [
    {
     "name": "stderr",
     "output_type": "stream",
     "text": [
      "Epochs: 100%|██████████| 40/40 [47:15<00:00, 74.98s/it]\n"
     ]
    }
   ],
   "source": [
    "training_losses = train(model, dataloader, epochs=40, lr=1e-3)"
   ]
  },
  {
   "cell_type": "code",
   "execution_count": 22,
   "metadata": {},
   "outputs": [
    {
     "data": {
      "application/vnd.vegalite.v2+json": {
       "$schema": "https://vega.github.io/schema/vega-lite/v2.6.0.json",
       "config": {
        "view": {
         "height": 300,
         "width": 400
        }
       },
       "data": {
        "name": "data-b97d8dec54141728cd6a23e3bd5864ea"
       },
       "datasets": {
        "data-b97d8dec54141728cd6a23e3bd5864ea": [
         {
          "epoch": 0,
          "training_loss": 0.5724913765213446
         },
         {
          "epoch": 1,
          "training_loss": 0.3624572835847765
         },
         {
          "epoch": 2,
          "training_loss": 0.3392851170070633
         },
         {
          "epoch": 3,
          "training_loss": 0.3233218824246766
         },
         {
          "epoch": 4,
          "training_loss": 0.31073051131889967
         },
         {
          "epoch": 5,
          "training_loss": 0.30006588456615635
         },
         {
          "epoch": 6,
          "training_loss": 0.29084768541856204
         },
         {
          "epoch": 7,
          "training_loss": 0.2828331924404847
         },
         {
          "epoch": 8,
          "training_loss": 0.27564860310303874
         },
         {
          "epoch": 9,
          "training_loss": 0.26932027391192126
         },
         {
          "epoch": 10,
          "training_loss": 0.2637035806458233
         },
         {
          "epoch": 11,
          "training_loss": 0.2586141036090975
         },
         {
          "epoch": 12,
          "training_loss": 0.2541186591177802
         },
         {
          "epoch": 13,
          "training_loss": 0.24998994322316453
         },
         {
          "epoch": 14,
          "training_loss": 0.24646420335658614
         },
         {
          "epoch": 15,
          "training_loss": 0.2431165922633902
         },
         {
          "epoch": 16,
          "training_loss": 0.24030500339097527
         },
         {
          "epoch": 17,
          "training_loss": 0.23755939737586917
         },
         {
          "epoch": 18,
          "training_loss": 0.23514790209388226
         },
         {
          "epoch": 19,
          "training_loss": 0.2330459686205614
         },
         {
          "epoch": 20,
          "training_loss": 0.23093882234827803
         },
         {
          "epoch": 21,
          "training_loss": 0.22928627558097153
         },
         {
          "epoch": 22,
          "training_loss": 0.22757934491662526
         },
         {
          "epoch": 23,
          "training_loss": 0.2261555890539687
         },
         {
          "epoch": 24,
          "training_loss": 0.2248652056900565
         },
         {
          "epoch": 25,
          "training_loss": 0.22359132392211747
         },
         {
          "epoch": 26,
          "training_loss": 0.2224840559214056
         },
         {
          "epoch": 27,
          "training_loss": 0.22142802630950828
         },
         {
          "epoch": 28,
          "training_loss": 0.22056580460565295
         },
         {
          "epoch": 29,
          "training_loss": 0.21969863747854432
         },
         {
          "epoch": 30,
          "training_loss": 0.21893343732197207
         },
         {
          "epoch": 31,
          "training_loss": 0.21826390133884377
         },
         {
          "epoch": 32,
          "training_loss": 0.21762922840442012
         },
         {
          "epoch": 33,
          "training_loss": 0.2170437416923062
         },
         {
          "epoch": 34,
          "training_loss": 0.21655564137541763
         },
         {
          "epoch": 35,
          "training_loss": 0.2160601118432032
         },
         {
          "epoch": 36,
          "training_loss": 0.21565302342166523
         },
         {
          "epoch": 37,
          "training_loss": 0.21520140537581917
         },
         {
          "epoch": 38,
          "training_loss": 0.21490881008332124
         },
         {
          "epoch": 39,
          "training_loss": 0.21452021143750516
         }
        ]
       },
       "encoding": {
        "x": {
         "field": "epoch",
         "type": "quantitative"
        },
        "y": {
         "field": "training_loss",
         "type": "quantitative"
        }
       },
       "mark": "bar"
      },
      "image/png": "[encoded data removed]",
      "text/plain": [
       "<VegaLite 2 object>\n",
       "\n",
       "If you see this message, it means the renderer has not been properly enabled\n",
       "for the frontend that you are using. For more information, see\n",
       "https://altair-viz.github.io/user_guide/troubleshooting.html\n"
      ]
     },
     "execution_count": 22,
     "metadata": {},
     "output_type": "execute_result"
    }
   ],
   "source": [
    "alt.Chart(pd.DataFrame(enumerate(training_losses), columns=[\"epoch\", \"training_loss\"])).mark_bar().encode(x=\"epoch\", y=\"training_loss\")"
   ]
  },
  {
   "cell_type": "markdown",
   "metadata": {},
   "source": [
    "Let's take a look at the reduced dimensionality paragraph vectors."
   ]
  },
  {
   "cell_type": "code",
   "execution_count": 23,
   "metadata": {},
   "outputs": [
    {
     "data": {
      "application/vnd.vegalite.v2+json": {
       "$schema": "https://vega.github.io/schema/vega-lite/v2.6.0.json",
       "config": {
        "view": {
         "height": 300,
         "width": 400
        }
       },
       "data": {
        "name": "data-af3e265d69e3fa863f396c25507d7ad7"
       },
       "datasets": {
        "data-af3e265d69e3fa863f396c25507d7ad7": [
         {
          "group": "business",
          "x": -1.2907875124858514,
          "y": 2.608337738531049
         },
         {
          "group": "business",
          "x": 1.654743232253512,
          "y": 2.1992416147610876
         },
         {
          "group": "business",
          "x": 0.47641273178446364,
          "y": -2.149220189312356
         },
         {
          "group": "business",
          "x": 1.1116665461084012,
          "y": 0.5905237459304444
         },
         {
          "group": "business",
          "x": -0.3375864110390095,
          "y": -0.11769482016274108
         },
         {
          "group": "business",
          "x": 1.7180255094827406,
          "y": 1.7812380824780543
         },
         {
          "group": "business",
          "x": 1.5409430094779761,
          "y": -1.8470306606193243
         },
         {
          "group": "business",
          "x": 0.5049766170474898,
          "y": -0.7133936437462868
         },
         {
          "group": "business",
          "x": -0.6569941099883414,
          "y": 0.7080375849403561
         },
         {
          "group": "business",
          "x": 1.2659595471230032,
          "y": -0.5268915390745688
         },
         {
          "group": "business",
          "x": 2.239625491759382,
          "y": 0.9536315544188609
         },
         {
          "group": "business",
          "x": 0.11358798145781744,
          "y": 0.5350940579418413
         },
         {
          "group": "business",
          "x": 1.438053942227336,
          "y": -0.4182821068150396
         },
         {
          "group": "business",
          "x": 1.510793828792734,
          "y": -0.3324568613865502
         },
         {
          "group": "business",
          "x": -1.3389517035971255,
          "y": 0.589027176482653
         },
         {
          "group": "business",
          "x": 0.6893345511690534,
          "y": 0.557142995103934
         },
         {
          "group": "business",
          "x": 2.151709771194208,
          "y": -2.3982606169201937
         },
         {
          "group": "business",
          "x": 0.8508159473851866,
          "y": -0.27457105071259635
         },
         {
          "group": "business",
          "x": 2.148895839758363,
          "y": 0.07100905685554755
         },
         {
          "group": "business",
          "x": 0.7924662919193928,
          "y": 0.2908194554566223
         },
         {
          "group": "business",
          "x": 1.760122321225853,
          "y": -1.4188928791536972
         },
         {
          "group": "business",
          "x": 1.245704961099046,
          "y": -0.16332453874437083
         },
         {
          "group": "business",
          "x": 1.2351869219085267,
          "y": -1.7893683868911914
         },
         {
          "group": "business",
          "x": -0.22356263625366724,
          "y": 0.6877459405520822
         },
         {
          "group": "business",
          "x": 0.4047926542818404,
          "y": -1.6070601499537875
         },
         {
          "group": "business",
          "x": -0.5260702625881795,
          "y": -0.8845443743448113
         },
         {
          "group": "business",
          "x": 0.877620567964921,
          "y": 1.0469847029276913
         },
         {
          "group": "business",
          "x": -0.5975598509059589,
          "y": 1.687145656607738
         },
         {
          "group": "business",
          "x": 1.2691435073708874,
          "y": 0.9772190497371859
         },
         {
          "group": "business",
          "x": -0.17894451050181023,
          "y": 0.009581859835063591
         },
         {
          "group": "business",
          "x": 0.9534317423603478,
          "y": -0.05133827879942159
         },
         {
          "group": "business",
          "x": 1.801344108219763,
          "y": -0.49536025866124805
         },
         {
          "group": "business",
          "x": 0.9182576825751428,
          "y": 2.5271087151447964
         },
         {
          "group": "business",
          "x": -0.04045156897599879,
          "y": -0.7909180583502631
         },
         {
          "group": "business",
          "x": 0.42237886564151317,
          "y": -0.24539577324555326
         },
         {
          "group": "business",
          "x": 1.4701306956017757,
          "y": 1.5079514084475827
         },
         {
          "group": "business",
          "x": 0.18467518105336428,
          "y": -1.7405095153267427
         },
         {
          "group": "business",
          "x": 1.966284832089969,
          "y": 0.961882379179632
         },
         {
          "group": "business",
          "x": 1.2192576903063472,
          "y": 0.49533336287864693
         },
         {
          "group": "business",
          "x": 1.7442906058708316,
          "y": -1.215794365080766
         },
         {
          "group": "business",
          "x": 1.5174956862507536,
          "y": 0.5059735684768166
         },
         {
          "group": "business",
          "x": 0.6479459585132614,
          "y": -1.3397121505552447
         },
         {
          "group": "business",
          "x": 0.9631469102446171,
          "y": 1.89583536752188
         },
         {
          "group": "business",
          "x": 1.21801633880012,
          "y": -0.14574047085282343
         },
         {
          "group": "business",
          "x": 1.1131669502548576,
          "y": 0.5527553841888364
         },
         {
          "group": "business",
          "x": -0.44038153779719424,
          "y": 0.616986484842913
         },
         {
          "group": "business",
          "x": 1.0290885785370008,
          "y": 1.5515989709191396
         },
         {
          "group": "business",
          "x": 0.7985110505405575,
          "y": 1.1193430898566692
         },
         {
          "group": "business",
          "x": 1.9035373029589457,
          "y": -0.4164999409125506
         },
         {
          "group": "business",
          "x": 0.25810846233771106,
          "y": -1.010686810418216
         },
         {
          "group": "business",
          "x": 0.6804147319842652,
          "y": -0.3691267660839862
         },
         {
          "group": "business",
          "x": 0.6214709460664131,
          "y": -0.4609163888820814
         },
         {
          "group": "business",
          "x": 0.1361205110037551,
          "y": 0.07400181355824514
         },
         {
          "group": "business",
          "x": 1.4210722650421541,
          "y": -0.19769262894912137
         },
         {
          "group": "business",
          "x": 0.9029796268575314,
          "y": 1.5513572165581266
         },
         {
          "group": "business",
          "x": 0.3226373176429763,
          "y": 0.44777143516851176
         },
         {
          "group": "business",
          "x": -0.47560865239505246,
          "y": 0.11673061276779388
         },
         {
          "group": "business",
          "x": 1.4016760417410208,
          "y": -0.5765117010738999
         },
         {
          "group": "business",
          "x": 1.026443501529502,
          "y": -0.03567216148205663
         },
         {
          "group": "business",
          "x": 0.9409650044860369,
          "y": -0.9827993013388633
         },
         {
          "group": "business",
          "x": -0.6980534434755619,
          "y": -1.0309946733515414
         },
         {
          "group": "business",
          "x": 0.9017295507711942,
          "y": 0.1375543359157963
         },
         {
          "group": "business",
          "x": 1.6146920535311513,
          "y": -2.3238990525407415
         },
         {
          "group": "business",
          "x": 0.4591847475254788,
          "y": -0.19919797527622055
         },
         {
          "group": "business",
          "x": 1.4968158137067187,
          "y": -0.2734522139603004
         },
         {
          "group": "business",
          "x": -1.0795808353426375,
          "y": 1.001325116245425
         },
         {
          "group": "business",
          "x": 1.133490644524146,
          "y": 0.5922787679885249
         },
         {
          "group": "business",
          "x": 1.9808119437938,
          "y": 0.17591373699778218
         },
         {
          "group": "business",
          "x": -0.02021253894897967,
          "y": 2.3794437736639606
         },
         {
          "group": "business",
          "x": 0.09195426240616926,
          "y": 0.9581199154169466
         },
         {
          "group": "business",
          "x": -0.9200032784787855,
          "y": 1.544670464898473
         },
         {
          "group": "business",
          "x": 0.5451943164083144,
          "y": -0.9886400660289963
         },
         {
          "group": "business",
          "x": 0.5272017018896861,
          "y": 1.3269681851269637
         },
         {
          "group": "business",
          "x": 0.6217553108117422,
          "y": 0.9982978315196581
         },
         {
          "group": "business",
          "x": 2.5544804461096153,
          "y": 0.7638060284918118
         },
         {
          "group": "business",
          "x": -0.7534863993977565,
          "y": -1.0009118542693123
         },
         {
          "group": "business",
          "x": 0.8066409008544639,
          "y": 1.6425192940368873
         },
         {
          "group": "business",
          "x": 0.790729688860516,
          "y": -0.018898169577705484
         },
         {
          "group": "business",
          "x": 1.494246426865264,
          "y": 0.9955914470974444
         },
         {
          "group": "business",
          "x": 1.2016644087974662,
          "y": -1.1819924585129626
         },
         {
          "group": "business",
          "x": 1.4311558508607825,
          "y": -0.4622410150340248
         },
         {
          "group": "business",
          "x": 1.020067892936028,
          "y": -1.4911768692069545
         },
         {
          "group": "business",
          "x": 0.3738964049507978,
          "y": 0.6981758924638163
         },
         {
          "group": "business",
          "x": -0.0817020829346809,
          "y": 0.11339342085101396
         },
         {
          "group": "business",
          "x": 0.7165695941345342,
          "y": 0.08301140725166642
         },
         {
          "group": "business",
          "x": 2.2047716521675556,
          "y": 1.5047165881357982
         },
         {
          "group": "business",
          "x": 0.9296779976957915,
          "y": 0.9298938944509259
         },
         {
          "group": "business",
          "x": 0.07642581391204067,
          "y": 0.9659033804156589
         },
         {
          "group": "business",
          "x": 0.7215270648775014,
          "y": 1.1943769291670157
         },
         {
          "group": "business",
          "x": 0.39114903402138546,
          "y": 0.5056426187853598
         },
         {
          "group": "business",
          "x": -0.46936101142045505,
          "y": 1.4979577093086058
         },
         {
          "group": "business",
          "x": 2.2698897011465347,
          "y": 0.25391172739676976
         },
         {
          "group": "business",
          "x": 1.7052613166998294,
          "y": -1.475903182772218
         },
         {
          "group": "business",
          "x": 0.7485229832468692,
          "y": 0.35275294140412533
         },
         {
          "group": "business",
          "x": 1.4780721256590603,
          "y": -0.21280710322586546
         },
         {
          "group": "business",
          "x": 1.2997381004313462,
          "y": -0.9326624628146627
         },
         {
          "group": "business",
          "x": 0.5464378658936826,
          "y": 1.5065221950321213
         },
         {
          "group": "business",
          "x": -0.44627723619897913,
          "y": -2.2166367009689045
         },
         {
          "group": "business",
          "x": 2.0100798106796596,
          "y": 0.24636586439936312
         },
         {
          "group": "business",
          "x": 2.0266196961110907,
          "y": -1.4280940328816953
         },
         {
          "group": "business",
          "x": 1.7013545956215255,
          "y": 0.4936139242560858
         },
         {
          "group": "business",
          "x": 1.528181751262852,
          "y": 2.1033570970871516
         },
         {
          "group": "business",
          "x": 0.16480582340576147,
          "y": 1.829997954702778
         },
         {
          "group": "business",
          "x": -0.17400646315835513,
          "y": -1.0665573321345008
         },
         {
          "group": "business",
          "x": 1.4098652425127538,
          "y": 1.8035310464869378
         },
         {
          "group": "business",
          "x": -0.304511102290248,
          "y": 0.1305061679914593
         },
         {
          "group": "business",
          "x": 0.3466243429762651,
          "y": -0.20303602878595853
         },
         {
          "group": "business",
          "x": 1.4886991824011258,
          "y": -1.6261068094447073
         },
         {
          "group": "business",
          "x": 0.3900488815602163,
          "y": 0.4778260578647189
         },
         {
          "group": "business",
          "x": 0.9536715370929838,
          "y": 0.02337954420896098
         },
         {
          "group": "business",
          "x": -0.265340220501891,
          "y": -0.8204309038376187
         },
         {
          "group": "business",
          "x": 1.1073049413002194,
          "y": 0.27561365244185326
         },
         {
          "group": "business",
          "x": 1.8725318644796474,
          "y": -0.600460241858815
         },
         {
          "group": "business",
          "x": 0.13117528077036478,
          "y": -0.35412631795689975
         },
         {
          "group": "business",
          "x": 0.9715574047574425,
          "y": -0.8569814062049658
         },
         {
          "group": "business",
          "x": 1.6903256425112299,
          "y": 0.6945557700287504
         },
         {
          "group": "business",
          "x": 0.7417499681140226,
          "y": -1.14276706260461
         },
         {
          "group": "business",
          "x": -0.8454810715532396,
          "y": 0.6032117484921509
         },
         {
          "group": "business",
          "x": 0.8495207857959646,
          "y": -0.29494417495263203
         },
         {
          "group": "business",
          "x": 0.17784378422442376,
          "y": -1.0258994379038633
         },
         {
          "group": "business",
          "x": 1.081010268633508,
          "y": 0.5869843080048688
         },
         {
          "group": "business",
          "x": 0.14674970210314459,
          "y": -0.2199541121384738
         },
         {
          "group": "business",
          "x": 0.9470475314757203,
          "y": 0.3735671668108132
         },
         {
          "group": "business",
          "x": 2.550746119587178,
          "y": -0.19608090175653473
         },
         {
          "group": "business",
          "x": 3.5919373344701944,
          "y": 1.0141411878162057
         },
         {
          "group": "business",
          "x": -0.26861992063556095,
          "y": -0.6062680560844586
         },
         {
          "group": "business",
          "x": 0.40189045478591323,
          "y": 0.03002705612998466
         },
         {
          "group": "business",
          "x": 0.7972658160353615,
          "y": -0.9094239804085654
         },
         {
          "group": "business",
          "x": 1.7115429968033062,
          "y": -0.3801606446305263
         },
         {
          "group": "business",
          "x": 0.484183070911182,
          "y": -1.7789395200346374
         },
         {
          "group": "business",
          "x": 1.6393904188255446,
          "y": 0.28881404224500923
         },
         {
          "group": "business",
          "x": 0.2678753515902848,
          "y": 1.56802609722342
         },
         {
          "group": "business",
          "x": 0.34188017460823994,
          "y": -1.4243006035904184
         },
         {
          "group": "business",
          "x": 1.060711341319998,
          "y": -0.6701358326014214
         },
         {
          "group": "business",
          "x": 1.4612470083308884,
          "y": 1.1227436599131544
         },
         {
          "group": "business",
          "x": 1.6800123869007781,
          "y": 0.9719170224592053
         },
         {
          "group": "business",
          "x": 2.840378257066938,
          "y": -0.5619228047111483
         },
         {
          "group": "business",
          "x": -0.573025672532662,
          "y": 1.7190630748546214
         },
         {
          "group": "business",
          "x": 1.6344802611716993,
          "y": -1.3758024786598164
         },
         {
          "group": "business",
          "x": -0.36572593940322323,
          "y": 1.3931157717790879
         },
         {
          "group": "business",
          "x": 1.3683274106535974,
          "y": -0.40623491797168726
         },
         {
          "group": "business",
          "x": 1.235556794616016,
          "y": -0.8072302337119069
         },
         {
          "group": "business",
          "x": 1.3369860764064923,
          "y": 0.0636146984385972
         },
         {
          "group": "business",
          "x": 1.8854784568754144,
          "y": 0.3555463587477519
         },
         {
          "group": "business",
          "x": 0.17480339405569395,
          "y": -0.10757154999793403
         },
         {
          "group": "business",
          "x": 0.236365046532119,
          "y": -0.7409445197837264
         },
         {
          "group": "business",
          "x": 1.2133085128797543,
          "y": 1.2587780136707247
         },
         {
          "group": "business",
          "x": 1.1355316979493282,
          "y": 1.0899060392494793
         },
         {
          "group": "business",
          "x": 0.8494823934768425,
          "y": 1.3463620993115228
         },
         {
          "group": "business",
          "x": 1.7952088251932539,
          "y": 0.06778889539036358
         },
         {
          "group": "business",
          "x": 0.5779276388410454,
          "y": -0.1217184487500724
         },
         {
          "group": "business",
          "x": -0.025839250042657958,
          "y": 0.8906682603597665
         },
         {
          "group": "business",
          "x": -0.3281102639857553,
          "y": 0.46154088544972316
         },
         {
          "group": "business",
          "x": -0.9779472869917651,
          "y": 0.7260984887268461
         },
         {
          "group": "business",
          "x": 0.44825838351511027,
          "y": -0.6487942962018522
         },
         {
          "group": "business",
          "x": 1.7393386080712068,
          "y": -0.949542840757983
         },
         {
          "group": "business",
          "x": 1.5539809400020839,
          "y": 0.08432598407806656
         },
         {
          "group": "business",
          "x": 0.09121877318661861,
          "y": 1.9215027980381636
         },
         {
          "group": "business",
          "x": -1.4815395306307146,
          "y": 0.05070622665624725
         },
         {
          "group": "business",
          "x": -0.4614570340955072,
          "y": -0.5475339659264934
         },
         {
          "group": "business",
          "x": -0.9328013403289394,
          "y": 0.05810470128253403
         },
         {
          "group": "business",
          "x": 1.6304501327973486,
          "y": -0.34310812172552463
         },
         {
          "group": "business",
          "x": 0.9464899904693004,
          "y": -2.1512672747543844
         },
         {
          "group": "business",
          "x": 0.35133730030171545,
          "y": 1.3419574531546403
         },
         {
          "group": "business",
          "x": 1.3255684847893812,
          "y": -1.4344941137926273
         },
         {
          "group": "business",
          "x": -0.10597979576857407,
          "y": 0.13984081023364447
         },
         {
          "group": "business",
          "x": -0.45839825515095367,
          "y": 0.33217125639443346
         },
         {
          "group": "business",
          "x": 0.5944471101544065,
          "y": -0.6800031214297174
         },
         {
          "group": "business",
          "x": 1.2470780217044162,
          "y": 1.007154901620934
         },
         {
          "group": "business",
          "x": 0.37927688643383217,
          "y": -1.1436452746701187
         },
         {
          "group": "business",
          "x": 0.5516190028199216,
          "y": -2.6994792342074976
         },
         {
          "group": "business",
          "x": -0.4838325582822614,
          "y": -0.2004465442925648
         },
         {
          "group": "business",
          "x": -0.07775749360399957,
          "y": 0.6142625135124307
         },
         {
          "group": "business",
          "x": 2.701786192094182,
          "y": -2.215562426400807
         },
         {
          "group": "business",
          "x": 2.4440806597509774,
          "y": -0.8004468067629503
         },
         {
          "group": "business",
          "x": 1.580429861833367,
          "y": 0.6902654969032761
         },
         {
          "group": "business",
          "x": 0.22914977171955003,
          "y": -0.9640772623172243
         },
         {
          "group": "business",
          "x": 0.29390467142279086,
          "y": -1.9805258642373398
         },
         {
          "group": "business",
          "x": 1.3570492225048691,
          "y": 0.9246051493820979
         },
         {
          "group": "business",
          "x": 1.7807790517415132,
          "y": -0.6459816509074175
         },
         {
          "group": "business",
          "x": 0.26159029927145766,
          "y": -1.3192915377563479
         },
         {
          "group": "business",
          "x": 0.4994772165279379,
          "y": 0.10124443693417719
         },
         {
          "group": "business",
          "x": 0.1088295058558191,
          "y": -0.8247387198819892
         },
         {
          "group": "business",
          "x": 0.7829401362374725,
          "y": -0.38906967691761135
         },
         {
          "group": "business",
          "x": 0.27787308938007443,
          "y": -0.3706575014585066
         },
         {
          "group": "business",
          "x": 1.1972874859206777,
          "y": 1.8775146191635244
         },
         {
          "group": "business",
          "x": 1.9499201398038968,
          "y": 0.39325059319752464
         },
         {
          "group": "business",
          "x": 0.07724771773523396,
          "y": -1.1184053996509753
         },
         {
          "group": "business",
          "x": -0.48789557017350715,
          "y": -0.23127499574883076
         },
         {
          "group": "business",
          "x": 1.1958198138300833,
          "y": -1.192751978945532
         },
         {
          "group": "business",
          "x": 1.174977072732537,
          "y": 0.05123088997133691
         },
         {
          "group": "business",
          "x": 0.7228355037005253,
          "y": 0.20982429563886262
         },
         {
          "group": "business",
          "x": 2.1953020638254888,
          "y": -0.987279320017221
         },
         {
          "group": "business",
          "x": -0.589602781590052,
          "y": 0.24762218756015028
         },
         {
          "group": "business",
          "x": -1.2506506231608217,
          "y": -0.5589760992113755
         },
         {
          "group": "business",
          "x": 0.1889501670698593,
          "y": 0.1294470774503078
         },
         {
          "group": "business",
          "x": 0.3137423297046586,
          "y": 1.2891886347645436
         },
         {
          "group": "business",
          "x": 0.289051755630826,
          "y": 1.2337001754660293
         },
         {
          "group": "business",
          "x": 1.1191070545438446,
          "y": 0.8435287152657568
         },
         {
          "group": "business",
          "x": 1.5521202726733239,
          "y": 0.6361946555611875
         },
         {
          "group": "business",
          "x": -0.3355435767614219,
          "y": 1.3994286488899104
         },
         {
          "group": "business",
          "x": 1.7055252939176648,
          "y": 0.41081339507792414
         },
         {
          "group": "business",
          "x": 1.2286665442162303,
          "y": -1.619298232479176
         },
         {
          "group": "business",
          "x": 1.74171635479094,
          "y": 2.0255425039673396
         },
         {
          "group": "business",
          "x": 0.4785552462922619,
          "y": 0.13269889134579038
         },
         {
          "group": "business",
          "x": 1.1060411916595112,
          "y": -0.7425742989228388
         },
         {
          "group": "business",
          "x": 0.3595845926833935,
          "y": 2.1404971549251988
         },
         {
          "group": "business",
          "x": -0.013265393054689722,
          "y": -0.7015171173616894
         },
         {
          "group": "business",
          "x": 0.513878336341007,
          "y": 1.6628049236949776
         },
         {
          "group": "business",
          "x": -1.062592811797019,
          "y": -0.6691571467421404
         },
         {
          "group": "business",
          "x": 0.792353918721701,
          "y": 1.5846635836327958
         },
         {
          "group": "business",
          "x": 0.7726319352015361,
          "y": 1.6926876838021998
         },
         {
          "group": "business",
          "x": -1.4711433776662044,
          "y": 0.5907749195741515
         },
         {
          "group": "business",
          "x": -0.20002652857636458,
          "y": 1.466824750100371
         },
         {
          "group": "business",
          "x": 0.9738685290707649,
          "y": -1.6635815715583613
         },
         {
          "group": "business",
          "x": 1.500996536053362,
          "y": 1.559339432998509
         },
         {
          "group": "business",
          "x": 0.769271570706106,
          "y": 1.886396013001822
         },
         {
          "group": "business",
          "x": 1.7190146805004507,
          "y": 0.9972833376581732
         },
         {
          "group": "business",
          "x": 0.21711784895643488,
          "y": -0.08069984809839587
         },
         {
          "group": "business",
          "x": 1.4518087966209388,
          "y": -1.3514203584874034
         },
         {
          "group": "business",
          "x": -0.26204605334368397,
          "y": 1.9150247895541712
         },
         {
          "group": "business",
          "x": 1.069021426529389,
          "y": 1.957801061748226
         },
         {
          "group": "business",
          "x": 0.8107331645013567,
          "y": 0.10453502176491826
         },
         {
          "group": "business",
          "x": -0.9248595652081988,
          "y": -1.5178404329189836
         },
         {
          "group": "business",
          "x": -0.02288278501414136,
          "y": 0.15471901161695692
         },
         {
          "group": "business",
          "x": 0.7767596790594422,
          "y": -1.1338640509014137
         },
         {
          "group": "business",
          "x": 0.23622899614092208,
          "y": -0.21147022386185677
         },
         {
          "group": "business",
          "x": 2.006716837330141,
          "y": 0.1266561809357564
         },
         {
          "group": "business",
          "x": 1.2017440361243428,
          "y": 0.4073192708607815
         },
         {
          "group": "business",
          "x": 0.682551061839609,
          "y": 0.6839580500952093
         },
         {
          "group": "business",
          "x": 0.8291633083867891,
          "y": -0.9621045245811799
         },
         {
          "group": "business",
          "x": 1.1518081599204233,
          "y": -2.029983519480414
         },
         {
          "group": "business",
          "x": 1.0902780599923168,
          "y": -1.653652324541873
         },
         {
          "group": "business",
          "x": 1.1065683632926748,
          "y": -0.13014426517780547
         },
         {
          "group": "business",
          "x": 2.1104633648823756,
          "y": -0.7536291767143616
         },
         {
          "group": "business",
          "x": 0.8840038422359583,
          "y": -0.3167008578641022
         },
         {
          "group": "business",
          "x": 0.8807609141285364,
          "y": -1.1183415426156322
         },
         {
          "group": "business",
          "x": 0.6575011638355501,
          "y": -1.593644061446497
         },
         {
          "group": "business",
          "x": -0.3025299729544057,
          "y": -0.06594364358277714
         },
         {
          "group": "business",
          "x": 1.561431015280214,
          "y": 1.170269961515776
         },
         {
          "group": "business",
          "x": -0.7618508949344467,
          "y": 0.34306589247470165
         },
         {
          "group": "business",
          "x": 1.5364439950707072,
          "y": 1.489526720205622
         },
         {
          "group": "business",
          "x": 1.910415649306395,
          "y": 0.038369628144763815
         },
         {
          "group": "business",
          "x": -1.2562364358944473,
          "y": -0.6526196948247059
         },
         {
          "group": "business",
          "x": 1.9435194382330794,
          "y": 0.3637808325642999
         },
         {
          "group": "business",
          "x": -0.4082797973228658,
          "y": -1.4768911774393771
         },
         {
          "group": "business",
          "x": 1.1437480630323198,
          "y": -0.04356410982038797
         },
         {
          "group": "business",
          "x": 1.8276419857733968,
          "y": -1.2169692525461107
         },
         {
          "group": "business",
          "x": 0.27692597880366676,
          "y": -1.1032737987522792
         },
         {
          "group": "business",
          "x": 0.06583621149903973,
          "y": 1.5535428148160015
         },
         {
          "group": "business",
          "x": 0.6050521588132367,
          "y": 0.6162276212959031
         },
         {
          "group": "business",
          "x": 0.7817455203200908,
          "y": 0.4312855248247942
         },
         {
          "group": "business",
          "x": -0.06604380698090567,
          "y": 0.6941333099793559
         },
         {
          "group": "business",
          "x": 0.2560056283242564,
          "y": 1.2859985242580898
         },
         {
          "group": "business",
          "x": 0.18738477626664546,
          "y": -0.03828147468220812
         },
         {
          "group": "business",
          "x": 2.0213756200696533,
          "y": -0.8977641305076376
         },
         {
          "group": "business",
          "x": -0.6130377639303366,
          "y": 0.06263851361443995
         },
         {
          "group": "business",
          "x": 0.9146400152772919,
          "y": -0.6251561971081205
         },
         {
          "group": "business",
          "x": -0.29008742422509043,
          "y": -0.9605506083846772
         },
         {
          "group": "business",
          "x": 1.627850657432219,
          "y": -1.601773356080159
         },
         {
          "group": "business",
          "x": 2.2933596469379958,
          "y": 0.5033716348209436
         },
         {
          "group": "business",
          "x": 3.0019938532731034,
          "y": -0.03849704594578737
         },
         {
          "group": "business",
          "x": 0.7624886274572494,
          "y": -0.4066934508236399
         },
         {
          "group": "business",
          "x": 1.335731295201254,
          "y": -1.1398038999496052
         },
         {
          "group": "business",
          "x": 0.8602021555726385,
          "y": 1.076553401600795
         },
         {
          "group": "business",
          "x": 1.2989100078695204,
          "y": 0.5430950618724529
         },
         {
          "group": "business",
          "x": 0.9783962753466473,
          "y": 0.30422583256254077
         },
         {
          "group": "business",
          "x": -0.028522628393950547,
          "y": -2.2860639933553797
         },
         {
          "group": "business",
          "x": 0.2813009984619919,
          "y": 0.28008541182146224
         },
         {
          "group": "business",
          "x": 1.0664224738293073,
          "y": 1.2387881598705337
         },
         {
          "group": "business",
          "x": -0.4635384809161228,
          "y": 0.6392320161163504
         },
         {
          "group": "business",
          "x": 0.7312605931500694,
          "y": -0.7256935419359931
         },
         {
          "group": "business",
          "x": -0.4187098441811788,
          "y": 2.705075794970819
         },
         {
          "group": "business",
          "x": 0.45532847902957246,
          "y": 1.4434058052569463
         },
         {
          "group": "business",
          "x": -0.41425165272623754,
          "y": 0.4999793893788183
         },
         {
          "group": "business",
          "x": 1.3799759851352926,
          "y": -0.045343339518623516
         },
         {
          "group": "business",
          "x": 0.2420613160572947,
          "y": 1.2479557338983476
         },
         {
          "group": "business",
          "x": -0.4468022666304539,
          "y": -0.017824607940610644
         },
         {
          "group": "business",
          "x": 1.5470489932270648,
          "y": 0.8678532456157475
         },
         {
          "group": "business",
          "x": 0.5876206703976677,
          "y": -0.20102084909799234
         },
         {
          "group": "business",
          "x": 1.7359291210031893,
          "y": -1.966778178098415
         },
         {
          "group": "business",
          "x": 1.8199822102535286,
          "y": -0.9367341311432096
         },
         {
          "group": "business",
          "x": 0.8769137481284,
          "y": 0.22962969570404904
         },
         {
          "group": "business",
          "x": 0.7676414679862938,
          "y": -0.14585104281469344
         },
         {
          "group": "business",
          "x": 3.0632728820839312,
          "y": 0.7863327411142199
         },
         {
          "group": "business",
          "x": 0.23579223691060533,
          "y": 1.630933115856879
         },
         {
          "group": "business",
          "x": -0.10012632561070858,
          "y": -0.34109350294920454
         },
         {
          "group": "business",
          "x": -0.028972299999302235,
          "y": 2.1629598311258804
         },
         {
          "group": "business",
          "x": 1.0200064251034968,
          "y": -0.27815711567763024
         },
         {
          "group": "business",
          "x": 2.3026759584719394,
          "y": -1.14123151508558
         },
         {
          "group": "business",
          "x": -0.3872720845633882,
          "y": 0.5593008220690606
         },
         {
          "group": "business",
          "x": 1.4810881619313319,
          "y": -0.240696760453733
         },
         {
          "group": "business",
          "x": 0.8476944266683698,
          "y": -0.7200728390503837
         },
         {
          "group": "business",
          "x": 0.2759406081330671,
          "y": 0.5890167151376827
         },
         {
          "group": "business",
          "x": 2.8416669001603707,
          "y": 0.06269848193504858
         },
         {
          "group": "business",
          "x": -0.6085021372203083,
          "y": -1.3258512664763158
         },
         {
          "group": "business",
          "x": 1.756032735222415,
          "y": 0.5977853291099956
         },
         {
          "group": "business",
          "x": -0.9448955559304552,
          "y": -0.008753928795809187
         },
         {
          "group": "business",
          "x": 1.2749547974829365,
          "y": 2.378141529175266
         },
         {
          "group": "business",
          "x": 0.6697436759790106,
          "y": -1.0177624032235628
         },
         {
          "group": "business",
          "x": 0.5945239398803368,
          "y": 1.6587881879733157
         },
         {
          "group": "business",
          "x": -0.8476676161661181,
          "y": -1.6403482000107354
         },
         {
          "group": "business",
          "x": -0.42634481213142494,
          "y": -0.32549949932867533
         },
         {
          "group": "business",
          "x": 0.6248282310848968,
          "y": -1.2033133212305112
         },
         {
          "group": "business",
          "x": 0.2892347906914738,
          "y": 0.860753884278831
         },
         {
          "group": "business",
          "x": 2.107204667745321,
          "y": -1.6099549681450935
         },
         {
          "group": "business",
          "x": 2.016464848849723,
          "y": 0.491280415640613
         },
         {
          "group": "business",
          "x": -0.7351074202697029,
          "y": 0.10680759825399731
         },
         {
          "group": "business",
          "x": -0.573039647976993,
          "y": 0.956630756512064
         },
         {
          "group": "business",
          "x": 0.22991992433635472,
          "y": 1.402707776061533
         },
         {
          "group": "business",
          "x": 0.28934635316857005,
          "y": 0.6452621657367899
         },
         {
          "group": "business",
          "x": 1.9714513277057009,
          "y": 0.841269059613618
         },
         {
          "group": "business",
          "x": 0.5157550048049929,
          "y": 1.2481778487057849
         },
         {
          "group": "business",
          "x": 0.0656643833515491,
          "y": 1.4325668614032634
         },
         {
          "group": "business",
          "x": 1.0091377548370155,
          "y": -1.2271388472774116
         },
         {
          "group": "business",
          "x": -0.6425464945987432,
          "y": 0.4349018102137249
         },
         {
          "group": "business",
          "x": 0.17126662573098236,
          "y": -1.1231255329871146
         },
         {
          "group": "business",
          "x": -0.6137564598862932,
          "y": -0.5732550388751406
         },
         {
          "group": "business",
          "x": 1.4376215391561529,
          "y": -1.0851977506310917
         },
         {
          "group": "business",
          "x": 0.11959718302778109,
          "y": -1.8357739004654303
         },
         {
          "group": "business",
          "x": 0.38549955367414457,
          "y": -2.091828711642577
         },
         {
          "group": "business",
          "x": -1.2179665331173466,
          "y": 1.2406640434538734
         },
         {
          "group": "business",
          "x": 2.153159097596011,
          "y": 0.039813802868054186
         },
         {
          "group": "business",
          "x": -0.7708484471690318,
          "y": 0.2036732140784157
         },
         {
          "group": "business",
          "x": 1.7160544206314576,
          "y": -1.6743704115063816
         },
         {
          "group": "business",
          "x": 1.4039220439205904,
          "y": 0.315825258499046
         },
         {
          "group": "business",
          "x": 2.473797360618774,
          "y": 0.5524925655037775
         },
         {
          "group": "business",
          "x": -0.08002084975887644,
          "y": 0.37595716042426414
         },
         {
          "group": "business",
          "x": 0.8136703830166887,
          "y": 0.8030594719021439
         },
         {
          "group": "business",
          "x": 0.9797334613195392,
          "y": -0.09324312480870763
         },
         {
          "group": "business",
          "x": 1.3286952673447707,
          "y": -0.38493297486395966
         },
         {
          "group": "business",
          "x": 0.3526034184932043,
          "y": 2.002856238956081
         },
         {
          "group": "business",
          "x": 0.33650524244932184,
          "y": -2.628516841609871
         },
         {
          "group": "business",
          "x": 0.45582790667005724,
          "y": 0.5231607472050211
         },
         {
          "group": "business",
          "x": 1.0782483888822338,
          "y": 0.12593407159429595
         },
         {
          "group": "business",
          "x": 1.2602895159529535,
          "y": -1.6118630939864955
         },
         {
          "group": "business",
          "x": 0.4007556032456524,
          "y": -0.896790376994736
         },
         {
          "group": "business",
          "x": 0.5532121622253062,
          "y": -1.3841775346094993
         },
         {
          "group": "business",
          "x": 1.1229997935656788,
          "y": -0.5398295666121785
         },
         {
          "group": "business",
          "x": -0.14047905362329044,
          "y": -0.11911981998893093
         },
         {
          "group": "business",
          "x": 0.02926963982764736,
          "y": -1.1082489948723258
         },
         {
          "group": "business",
          "x": 1.0474478138121477,
          "y": 0.24081175745462227
         },
         {
          "group": "business",
          "x": 0.7431389356100129,
          "y": 0.5554419009983272
         },
         {
          "group": "business",
          "x": 0.2496065861863335,
          "y": 1.575324195766552
         },
         {
          "group": "business",
          "x": 1.4437711250296752,
          "y": 0.7365343833491279
         },
         {
          "group": "business",
          "x": -0.47740729652671154,
          "y": 0.18255395320045414
         },
         {
          "group": "business",
          "x": 0.3510230003418995,
          "y": -0.12730022363686475
         },
         {
          "group": "business",
          "x": 1.4408260089233,
          "y": -0.7751737023923747
         },
         {
          "group": "business",
          "x": -1.7117907367068166,
          "y": 0.1661164609973634
         },
         {
          "group": "business",
          "x": 0.47013895995608207,
          "y": -0.7763290208037723
         },
         {
          "group": "business",
          "x": 1.3923279484113125,
          "y": 2.394193174299938
         },
         {
          "group": "business",
          "x": 0.4997010500180901,
          "y": -0.10639220349902329
         },
         {
          "group": "business",
          "x": -0.8193457644160758,
          "y": 1.0904515744028438
         },
         {
          "group": "business",
          "x": 0.30965123375851344,
          "y": -0.2771475423502938
         },
         {
          "group": "business",
          "x": 0.01455031255910039,
          "y": 0.3659510718472698
         },
         {
          "group": "business",
          "x": 0.3976257007159816,
          "y": 1.473484421973376
         },
         {
          "group": "business",
          "x": 0.6543888279590789,
          "y": -0.8731764515336928
         },
         {
          "group": "business",
          "x": -1.0224620011533625,
          "y": 0.884888492630141
         },
         {
          "group": "business",
          "x": 1.6801790710339712,
          "y": -2.098814167541356
         },
         {
          "group": "business",
          "x": -0.31718072413237436,
          "y": 0.6033995668193093
         },
         {
          "group": "business",
          "x": -1.0319251060925496,
          "y": 0.2694728925043626
         },
         {
          "group": "business",
          "x": 0.3678606550744965,
          "y": -1.0372267652772236
         },
         {
          "group": "business",
          "x": 0.12296285006864066,
          "y": -0.47172898652156103
         },
         {
          "group": "business",
          "x": -0.11625697949388132,
          "y": -0.3527208586668268
         },
         {
          "group": "business",
          "x": 1.3523190435110843,
          "y": 1.058082780376892
         },
         {
          "group": "business",
          "x": 0.06993338481144683,
          "y": 0.27239903012822986
         },
         {
          "group": "business",
          "x": -0.3184504179575781,
          "y": -0.11673641764520236
         },
         {
          "group": "business",
          "x": 0.014406514356680824,
          "y": -0.9640187652746918
         },
         {
          "group": "business",
          "x": -0.3646767975956111,
          "y": 0.6119254793745859
         },
         {
          "group": "business",
          "x": 1.475596394850335,
          "y": 0.46887693513675116
         },
         {
          "group": "business",
          "x": -0.13389682138461848,
          "y": 0.7327299853867009
         },
         {
          "group": "business",
          "x": 1.0096185362809225,
          "y": -1.485402781559209
         },
         {
          "group": "business",
          "x": 1.7196653884071396,
          "y": -2.192644235779565
         },
         {
          "group": "business",
          "x": 0.09509425136297558,
          "y": -0.45749073376046634
         },
         {
          "group": "business",
          "x": 0.7481991748131263,
          "y": -0.03353125051935443
         },
         {
          "group": "business",
          "x": -0.6677150670096919,
          "y": 0.19875706031068055
         },
         {
          "group": "business",
          "x": 0.14620745330825916,
          "y": 1.0124027434673863
         },
         {
          "group": "business",
          "x": 1.4292431186745485,
          "y": 1.5443947342918964
         },
         {
          "group": "business",
          "x": -0.6774324205809967,
          "y": -0.14333026289772244
         },
         {
          "group": "business",
          "x": 2.271074166749867,
          "y": -0.4488087635034517
         },
         {
          "group": "business",
          "x": 1.1016981064637426,
          "y": -1.497498681474676
         },
         {
          "group": "business",
          "x": 1.4773970648292245,
          "y": 0.6813013288386712
         },
         {
          "group": "business",
          "x": 0.03504317087387768,
          "y": -0.18222939996332932
         },
         {
          "group": "business",
          "x": 0.7326628108080907,
          "y": 0.26797059265942663
         },
         {
          "group": "business",
          "x": 1.3773580707286432,
          "y": -1.0963104298501987
         },
         {
          "group": "business",
          "x": 1.189988718575467,
          "y": 0.9573872773935468
         },
         {
          "group": "business",
          "x": 0.5642574319943047,
          "y": -0.5126174117118026
         },
         {
          "group": "business",
          "x": 1.1410465363254523,
          "y": 0.11096497473563609
         },
         {
          "group": "business",
          "x": 0.5056615992042236,
          "y": -1.0453385394208845
         },
         {
          "group": "business",
          "x": 1.5475568923059717,
          "y": -0.2940800317992193
         },
         {
          "group": "business",
          "x": 0.5902883552630993,
          "y": 0.22921555082407927
         },
         {
          "group": "business",
          "x": 0.21946488113886228,
          "y": -1.772118862796273
         },
         {
          "group": "business",
          "x": 0.0745207167524468,
          "y": -0.7319495673015389
         },
         {
          "group": "business",
          "x": -0.923780530566093,
          "y": 0.06937611479571576
         },
         {
          "group": "business",
          "x": 1.222288177049191,
          "y": 1.1963438449157167
         },
         {
          "group": "business",
          "x": 0.9103266613309596,
          "y": -1.8310162576064795
         },
         {
          "group": "business",
          "x": 1.2573790193661056,
          "y": -0.20903946734271564
         },
         {
          "group": "business",
          "x": -0.33800942260169764,
          "y": 0.2006809688301943
         },
         {
          "group": "business",
          "x": 1.7602367211970165,
          "y": 2.7026010909499267
         },
         {
          "group": "business",
          "x": 0.1986500608987986,
          "y": 1.1166152108363183
         },
         {
          "group": "business",
          "x": 0.761398163035566,
          "y": 0.2078991840655062
         },
         {
          "group": "business",
          "x": 1.276035914732915,
          "y": -0.9941855238196297
         },
         {
          "group": "business",
          "x": 0.08106695079599771,
          "y": 0.5238263101536269
         },
         {
          "group": "business",
          "x": 0.19635838385280763,
          "y": 2.384243593135828
         },
         {
          "group": "business",
          "x": 0.6082705180347721,
          "y": -1.0728016896853136
         },
         {
          "group": "business",
          "x": 1.6007095115296657,
          "y": -0.92555889765899
         },
         {
          "group": "business",
          "x": 0.725900418300209,
          "y": 0.9636598466319999
         },
         {
          "group": "business",
          "x": 1.6662507775333115,
          "y": 0.493782233989184
         },
         {
          "group": "business",
          "x": 1.7273006635371935,
          "y": 0.14474857963681972
         },
         {
          "group": "business",
          "x": 1.0709283698223053,
          "y": -1.0039064135675906
         },
         {
          "group": "business",
          "x": 1.8138469274728004,
          "y": -1.328678005353191
         },
         {
          "group": "business",
          "x": -1.2941093341400265,
          "y": 0.2161852012101398
         },
         {
          "group": "business",
          "x": 0.22860072235937598,
          "y": -2.8731433643469066
         },
         {
          "group": "business",
          "x": -0.20601568768253564,
          "y": -0.2823525505977374
         },
         {
          "group": "business",
          "x": -0.23567548370586022,
          "y": -0.17055608024281158
         },
         {
          "group": "business",
          "x": 0.22471917880495032,
          "y": 1.097621536550695
         },
         {
          "group": "business",
          "x": 0.8316881848964649,
          "y": 0.12033356423950052
         },
         {
          "group": "business",
          "x": 2.1639131861838927,
          "y": -0.1260511587702964
         },
         {
          "group": "business",
          "x": 1.0134997014532625,
          "y": -0.2643855046432554
         },
         {
          "group": "business",
          "x": 1.1654902057454464,
          "y": -0.16017457204016025
         },
         {
          "group": "business",
          "x": 0.9161595672680146,
          "y": -0.1629959754101114
         },
         {
          "group": "business",
          "x": 1.4710795734397544,
          "y": 1.7898678990989725
         },
         {
          "group": "business",
          "x": 2.2249115100852195,
          "y": -0.0960287844793536
         },
         {
          "group": "business",
          "x": 0.8199787817538523,
          "y": 1.0642885331048175
         },
         {
          "group": "business",
          "x": -0.18637932821340725,
          "y": 2.338269370920991
         },
         {
          "group": "business",
          "x": 0.17783009329513055,
          "y": -0.5413475776072805
         },
         {
          "group": "business",
          "x": 1.6907353326503594,
          "y": 3.6985094987102913
         },
         {
          "group": "business",
          "x": 1.5780582934100122,
          "y": -0.9234207442801825
         },
         {
          "group": "business",
          "x": 0.6570630085509521,
          "y": -1.0330849699261093
         },
         {
          "group": "business",
          "x": 2.5521847999709872,
          "y": -0.2888905171561156
         },
         {
          "group": "business",
          "x": 0.7037168809764455,
          "y": -0.3468597653843773
         },
         {
          "group": "business",
          "x": 1.6092505659400118,
          "y": 1.268357679240814
         },
         {
          "group": "business",
          "x": 0.9352692211604299,
          "y": 0.8875100619177536
         },
         {
          "group": "business",
          "x": 0.4379833519387171,
          "y": -1.205560856795798
         },
         {
          "group": "business",
          "x": 0.9358755191289836,
          "y": 1.9492462978940441
         },
         {
          "group": "business",
          "x": 0.9236256482174545,
          "y": 0.7442950703406299
         },
         {
          "group": "business",
          "x": -1.075511573023481,
          "y": 0.8917305579226625
         },
         {
          "group": "business",
          "x": -0.9451229120342202,
          "y": -0.1057407190440329
         },
         {
          "group": "business",
          "x": 1.8013211861524374,
          "y": -0.8152511202379922
         },
         {
          "group": "business",
          "x": 1.9283448944256871,
          "y": -1.8873878522250669
         },
         {
          "group": "business",
          "x": 0.20848817420974491,
          "y": -0.9977945039763597
         },
         {
          "group": "business",
          "x": 1.6114725507604968,
          "y": -0.7811269500564296
         },
         {
          "group": "business",
          "x": 0.057489266166639484,
          "y": 1.3096754926029364
         },
         {
          "group": "business",
          "x": 2.0870735216405025,
          "y": -1.6755974026677878
         },
         {
          "group": "business",
          "x": 0.8034098657817547,
          "y": 0.7245694505586906
         },
         {
          "group": "business",
          "x": -0.012076550565895412,
          "y": 0.5619791027538666
         },
         {
          "group": "business",
          "x": 1.1270091279453476,
          "y": 0.5735079110934733
         },
         {
          "group": "business",
          "x": 3.3143503209811693,
          "y": 0.8900737989334357
         },
         {
          "group": "business",
          "x": -1.3132092327483875,
          "y": 0.9469290038500835
         },
         {
          "group": "business",
          "x": -0.14175547430852808,
          "y": -0.682970106330018
         },
         {
          "group": "business",
          "x": 0.890583537271169,
          "y": -1.2330561460211837
         },
         {
          "group": "business",
          "x": 1.407775933174861,
          "y": -0.13032359217508022
         },
         {
          "group": "business",
          "x": -0.6892368679294419,
          "y": -0.9841536076394073
         },
         {
          "group": "business",
          "x": -0.2760059513623714,
          "y": 0.07044092762156899
         },
         {
          "group": "business",
          "x": 0.0100174849177626,
          "y": -0.3200375552348021
         },
         {
          "group": "business",
          "x": 1.5641575077636702,
          "y": 0.01375557138504109
         },
         {
          "group": "business",
          "x": 1.2528636248121507,
          "y": -0.5216455434690062
         },
         {
          "group": "business",
          "x": 3.6248202258067734,
          "y": -0.1784263184284861
         },
         {
          "group": "business",
          "x": 0.9343353008019121,
          "y": 2.0849806586885142
         },
         {
          "group": "business",
          "x": -0.6075493164094796,
          "y": 0.5749236929222631
         },
         {
          "group": "business",
          "x": 2.2924756731701814,
          "y": -0.07553136711622785
         },
         {
          "group": "business",
          "x": -0.5041505426711261,
          "y": 1.2899217056806636
         },
         {
          "group": "business",
          "x": 1.9758781333623947,
          "y": -0.9481250955772046
         },
         {
          "group": "business",
          "x": -0.6531591293713245,
          "y": 2.164410071598117
         },
         {
          "group": "business",
          "x": 0.6973453042951605,
          "y": 0.8484441416653216
         },
         {
          "group": "business",
          "x": -0.5703691827898868,
          "y": 1.187297161361305
         },
         {
          "group": "business",
          "x": -0.6065194327425676,
          "y": 2.0432249792482904
         },
         {
          "group": "business",
          "x": 1.0377923593753233,
          "y": -0.23480637537028534
         },
         {
          "group": "business",
          "x": -1.0908948919176915,
          "y": 1.5300526995372992
         },
         {
          "group": "business",
          "x": 2.291307869222805,
          "y": 0.9603710710420572
         },
         {
          "group": "business",
          "x": 0.9635592686096485,
          "y": 0.6331574556347032
         },
         {
          "group": "business",
          "x": 0.5195428595365288,
          "y": -0.662885860259695
         },
         {
          "group": "business",
          "x": -0.07220914201748564,
          "y": -1.0736605963147783
         },
         {
          "group": "business",
          "x": 1.3337744433648193,
          "y": -0.20556275740325453
         },
         {
          "group": "business",
          "x": 0.5037473667872804,
          "y": -0.8373928701616188
         },
         {
          "group": "business",
          "x": 1.658406189480565,
          "y": -2.709411028384593
         },
         {
          "group": "business",
          "x": 2.2003680151900986,
          "y": 0.9145616966650258
         },
         {
          "group": "business",
          "x": 3.2719630113624336,
          "y": -1.2479512798603831
         },
         {
          "group": "business",
          "x": 0.2624112195305905,
          "y": 2.639733894802409
         },
         {
          "group": "business",
          "x": 1.067134760456418,
          "y": 1.0659075117684056
         },
         {
          "group": "business",
          "x": 0.7952986471545969,
          "y": -0.6949006424198929
         },
         {
          "group": "business",
          "x": -0.37404233308648727,
          "y": 0.38737409902654296
         },
         {
          "group": "business",
          "x": 2.067396670176731,
          "y": -0.40241771310802066
         },
         {
          "group": "business",
          "x": 2.132917796539677,
          "y": -1.5253734254044942
         },
         {
          "group": "business",
          "x": 1.5629842690935238,
          "y": -0.9883759991120435
         },
         {
          "group": "business",
          "x": 0.6330141134078612,
          "y": 0.15633419258539755
         },
         {
          "group": "business",
          "x": 1.1980803408571494,
          "y": -0.4544213722758649
         },
         {
          "group": "business",
          "x": 0.09713978318202786,
          "y": 2.326831335018607
         },
         {
          "group": "business",
          "x": -0.2939228581251616,
          "y": 0.27398370875650613
         },
         {
          "group": "business",
          "x": 0.13081751239961364,
          "y": 2.371657551230531
         },
         {
          "group": "business",
          "x": -0.3625733174723673,
          "y": -0.01584341626474459
         },
         {
          "group": "business",
          "x": 0.569569783681136,
          "y": 1.3371212805914863
         },
         {
          "group": "business",
          "x": 0.28867160675844017,
          "y": -1.5006074591226097
         },
         {
          "group": "business",
          "x": 1.671371368444928,
          "y": 0.7972277308372813
         },
         {
          "group": "business",
          "x": 1.608021599009485,
          "y": 1.5078690947750104
         },
         {
          "group": "business",
          "x": 0.8465687589991947,
          "y": 0.9084131657872497
         },
         {
          "group": "business",
          "x": 2.9645325432020613,
          "y": -1.0490713622169097
         },
         {
          "group": "business",
          "x": 2.9709320652501447,
          "y": 0.9099782354126779
         },
         {
          "group": "business",
          "x": 1.384238365551009,
          "y": -0.1089956968315778
         },
         {
          "group": "business",
          "x": -0.8401732014673645,
          "y": 0.8555944375031663
         },
         {
          "group": "business",
          "x": 0.3510703952330243,
          "y": -0.15802659200956154
         },
         {
          "group": "business",
          "x": 4.086715946927842,
          "y": -1.2862018504215271
         },
         {
          "group": "business",
          "x": 1.463468362993624,
          "y": -0.6000748444014172
         },
         {
          "group": "business",
          "x": -0.5828010999928076,
          "y": -2.673203704119995
         },
         {
          "group": "business",
          "x": 0.9687986514867338,
          "y": 0.36438547729278786
         },
         {
          "group": "business",
          "x": 0.9620649202828926,
          "y": -0.10497867142844466
         },
         {
          "group": "business",
          "x": -0.030364965265563273,
          "y": -1.8308928623957537
         },
         {
          "group": "business",
          "x": 0.6731412565272121,
          "y": -0.8607228673292207
         },
         {
          "group": "business",
          "x": -1.2165689030279954,
          "y": 0.2628639005501876
         },
         {
          "group": "business",
          "x": 3.2114343057104144,
          "y": 1.1679003606327483
         },
         {
          "group": "politics",
          "x": -1.2348754413888419,
          "y": -1.0912123335824933
         },
         {
          "group": "politics",
          "x": 0.6166145828819586,
          "y": -0.1247228173491666
         },
         {
          "group": "politics",
          "x": -0.6426375524390452,
          "y": -0.7428780248114687
         },
         {
          "group": "politics",
          "x": -0.4670687708994328,
          "y": -1.0043438772635311
         },
         {
          "group": "politics",
          "x": -0.5754990049484272,
          "y": -0.1526092385004371
         },
         {
          "group": "politics",
          "x": -1.2928785713163784,
          "y": -0.3668850943466912
         },
         {
          "group": "politics",
          "x": -1.1114114572017306,
          "y": -0.11007180664122632
         },
         {
          "group": "politics",
          "x": 0.5732862088071358,
          "y": -0.8789441357724542
         },
         {
          "group": "politics",
          "x": 1.0383900232995218,
          "y": 1.6895549585947256
         },
         {
          "group": "politics",
          "x": -0.7035202116733118,
          "y": 0.5092396236827756
         },
         {
          "group": "politics",
          "x": 1.0824665130935238,
          "y": -0.905552898122086
         },
         {
          "group": "politics",
          "x": -1.5020510449922648,
          "y": 0.34070535807826974
         },
         {
          "group": "politics",
          "x": 1.1013242405737071,
          "y": 0.8132176882870189
         },
         {
          "group": "politics",
          "x": 0.8950552930425517,
          "y": 0.9551803534184224
         },
         {
          "group": "politics",
          "x": -1.153970834085933,
          "y": 2.9896422676642387
         },
         {
          "group": "politics",
          "x": -0.7259725972527112,
          "y": 1.2051197184372429
         },
         {
          "group": "politics",
          "x": -0.1093063112721614,
          "y": 0.005289531041729721
         },
         {
          "group": "politics",
          "x": 0.5036779218441905,
          "y": 1.232923745677548
         },
         {
          "group": "politics",
          "x": -1.0307622729143082,
          "y": -0.9021456362852218
         },
         {
          "group": "politics",
          "x": -1.5620261519222614,
          "y": -1.7847205698063482
         },
         {
          "group": "politics",
          "x": 1.8403534815175173,
          "y": -0.31205601492551027
         },
         {
          "group": "politics",
          "x": -0.2002332304007249,
          "y": 0.6386769604891239
         },
         {
          "group": "politics",
          "x": 1.3061656640218335,
          "y": 2.0583806309055355
         },
         {
          "group": "politics",
          "x": -1.3889144090205776,
          "y": 1.0587049063779823
         },
         {
          "group": "politics",
          "x": -0.5914581903366584,
          "y": 0.8789621763289215
         },
         {
          "group": "politics",
          "x": -1.3885480900717089,
          "y": -0.3966009416297629
         },
         {
          "group": "politics",
          "x": -3.110510844828453,
          "y": -0.657900031012269
         },
         {
          "group": "politics",
          "x": 0.1282435374038865,
          "y": -1.329692066733307
         },
         {
          "group": "politics",
          "x": -1.431376887640076,
          "y": 0.13551920929109065
         },
         {
          "group": "politics",
          "x": -1.2024308623745572,
          "y": 0.4400428722123577
         },
         {
          "group": "politics",
          "x": -2.7994800779659803,
          "y": -0.9365525245205715
         },
         {
          "group": "politics",
          "x": -0.7793275247111467,
          "y": 1.1778862150954033
         },
         {
          "group": "politics",
          "x": 1.3874758888266383,
          "y": 1.566507630257423
         },
         {
          "group": "politics",
          "x": 0.6777228350486488,
          "y": 0.14392651853615104
         },
         {
          "group": "politics",
          "x": -2.7913352574774355,
          "y": 0.9116090195539942
         },
         {
          "group": "politics",
          "x": -0.870010626883753,
          "y": 0.5271022710517228
         },
         {
          "group": "politics",
          "x": 0.8278675920564308,
          "y": -0.8216619020738758
         },
         {
          "group": "politics",
          "x": -0.5898675541641295,
          "y": 1.6039789455686968
         },
         {
          "group": "politics",
          "x": -1.4802861704571284,
          "y": 0.07499529093487084
         },
         {
          "group": "politics",
          "x": 0.14036642075755618,
          "y": -1.166260115713526
         },
         {
          "group": "politics",
          "x": 0.4543432532372934,
          "y": 1.7317103619761545
         },
         {
          "group": "politics",
          "x": -0.5097687159167823,
          "y": -0.2688140764636441
         },
         {
          "group": "politics",
          "x": -1.5570033644985761,
          "y": -0.054745487980854525
         },
         {
          "group": "politics",
          "x": -0.44981930117073327,
          "y": -2.3338296681249657
         },
         {
          "group": "politics",
          "x": 0.4361729608031255,
          "y": 1.2566777270947718
         },
         {
          "group": "politics",
          "x": -0.39302489868414264,
          "y": -0.21395529573475877
         },
         {
          "group": "politics",
          "x": -1.0286310281834627,
          "y": -2.564420374133036
         },
         {
          "group": "politics",
          "x": -0.2341781900183335,
          "y": 1.096024040988926
         },
         {
          "group": "politics",
          "x": -1.5365226869347497,
          "y": 0.43839032516993226
         },
         {
          "group": "politics",
          "x": 0.564542260949622,
          "y": 0.30499638611758983
         },
         {
          "group": "politics",
          "x": -0.12882128350737693,
          "y": 2.3054518857844033
         },
         {
          "group": "politics",
          "x": -2.514551629156578,
          "y": -0.9952784923242334
         },
         {
          "group": "politics",
          "x": 0.8002086213225349,
          "y": 1.1391837212210116
         },
         {
          "group": "politics",
          "x": 1.9483394929548377,
          "y": 0.38976187434251963
         },
         {
          "group": "politics",
          "x": -1.8362950708784904,
          "y": 0.365036666529588
         },
         {
          "group": "politics",
          "x": -1.3126007722506776,
          "y": 0.022831756994035782
         },
         {
          "group": "politics",
          "x": -1.292488481684702,
          "y": -1.5999047413102285
         },
         {
          "group": "politics",
          "x": -1.6502491552078782,
          "y": 0.5193200662459763
         },
         {
          "group": "politics",
          "x": 0.9383796532668779,
          "y": 2.536415402151572
         },
         {
          "group": "politics",
          "x": -1.02311356863243,
          "y": 1.080678376202174
         },
         {
          "group": "politics",
          "x": -0.5886673857068124,
          "y": 0.6762762803580235
         },
         {
          "group": "politics",
          "x": -1.6064310747068038,
          "y": 0.7491537505533499
         },
         {
          "group": "politics",
          "x": 1.0182309939159893,
          "y": 1.5109887953455328
         },
         {
          "group": "politics",
          "x": 2.001403019490244,
          "y": 2.1595238121314435
         },
         {
          "group": "politics",
          "x": -0.40452657947754905,
          "y": -0.976278067844766
         },
         {
          "group": "politics",
          "x": -0.8527219004786933,
          "y": 0.975088232818354
         },
         {
          "group": "politics",
          "x": -0.6257061549516442,
          "y": 1.1889678959031278
         },
         {
          "group": "politics",
          "x": 0.057231801585232195,
          "y": -2.844520541930659
         },
         {
          "group": "politics",
          "x": -0.2892921548779389,
          "y": 2.846381360196479
         },
         {
          "group": "politics",
          "x": -0.6635826721357004,
          "y": 0.12936189181275054
         },
         {
          "group": "politics",
          "x": 0.09835467528202578,
          "y": -0.8353441996891797
         },
         {
          "group": "politics",
          "x": -1.3233346322112514,
          "y": -0.9684627495786472
         },
         {
          "group": "politics",
          "x": 1.2672993255372758,
          "y": -1.0191330801559335
         },
         {
          "group": "politics",
          "x": -1.1133693750619238,
          "y": 0.43332877121825397
         },
         {
          "group": "politics",
          "x": -1.159856280551376,
          "y": -1.1786763834582012
         },
         {
          "group": "politics",
          "x": -0.7271683955234,
          "y": 0.2785670677240133
         },
         {
          "group": "politics",
          "x": 0.11416969424542175,
          "y": 1.6696853575934725
         },
         {
          "group": "politics",
          "x": -0.44664599843697567,
          "y": 1.4943198463773724
         },
         {
          "group": "politics",
          "x": 0.5086408368741279,
          "y": -1.2247589936603605
         },
         {
          "group": "politics",
          "x": -1.9969224612877041,
          "y": -1.2759935682076848
         },
         {
          "group": "politics",
          "x": -0.883542238165982,
          "y": 1.3741698334551133
         },
         {
          "group": "politics",
          "x": -0.17139474272068544,
          "y": -0.013932598724816525
         },
         {
          "group": "politics",
          "x": -0.6706641107798111,
          "y": 0.7556555386914557
         },
         {
          "group": "politics",
          "x": -1.3486078931790666,
          "y": 0.0653720633284228
         },
         {
          "group": "politics",
          "x": -1.9570672154449065,
          "y": 1.3967458833817155
         },
         {
          "group": "politics",
          "x": 0.30628407938083074,
          "y": -1.2021895611942324
         },
         {
          "group": "politics",
          "x": -1.0455157079012747,
          "y": 1.5074007722003888
         },
         {
          "group": "politics",
          "x": -1.1293749954843482,
          "y": 3.147370768767614
         },
         {
          "group": "politics",
          "x": 1.6444334995851466,
          "y": -0.5017386995259768
         },
         {
          "group": "politics",
          "x": -1.9590095497466862,
          "y": -0.5331522825670769
         },
         {
          "group": "politics",
          "x": 2.412421269916264,
          "y": -0.19877427739443856
         },
         {
          "group": "politics",
          "x": -0.26759691382904516,
          "y": -2.080969227405276
         },
         {
          "group": "politics",
          "x": 0.36344744254657396,
          "y": 1.1919524565414945
         },
         {
          "group": "politics",
          "x": -0.25601340969583664,
          "y": 1.6722160221257159
         },
         {
          "group": "politics",
          "x": 0.6796826313688965,
          "y": -0.9202265885284764
         },
         {
          "group": "politics",
          "x": 0.03956106081300302,
          "y": 0.1002865139857392
         },
         {
          "group": "politics",
          "x": -0.729913172496956,
          "y": -1.6823139453261988
         },
         {
          "group": "politics",
          "x": 1.4517135821533615,
          "y": -0.08528868089850317
         },
         {
          "group": "politics",
          "x": 0.17025688487467694,
          "y": 0.42455975353747555
         },
         {
          "group": "politics",
          "x": -0.36229390120339044,
          "y": 0.1882133591863667
         },
         {
          "group": "politics",
          "x": -2.3213419279788696,
          "y": 2.1304829208697558
         },
         {
          "group": "politics",
          "x": 1.2115279544220643,
          "y": 1.2109532951193454
         },
         {
          "group": "politics",
          "x": 1.1377628109722062,
          "y": -0.4010128567821351
         },
         {
          "group": "politics",
          "x": -2.5921806430790313,
          "y": -1.6318230136381073
         },
         {
          "group": "politics",
          "x": -2.258739696041327,
          "y": -0.6123024063715363
         },
         {
          "group": "politics",
          "x": -0.37607525697436645,
          "y": -0.4834223508455426
         },
         {
          "group": "politics",
          "x": -1.1279117466696114,
          "y": -0.7629731680027868
         },
         {
          "group": "politics",
          "x": -1.174829154272267,
          "y": 1.2029343067354354
         },
         {
          "group": "politics",
          "x": -1.6836333299326804,
          "y": 3.0521200672711917
         },
         {
          "group": "politics",
          "x": -0.20093754141086312,
          "y": 0.0872058342010684
         },
         {
          "group": "politics",
          "x": -1.1492984291406754,
          "y": 0.22887768409262546
         },
         {
          "group": "politics",
          "x": -1.2796667286225745,
          "y": -1.5650673340756556
         },
         {
          "group": "politics",
          "x": -2.7036004800239515,
          "y": -1.8386519195319027
         },
         {
          "group": "politics",
          "x": -1.1887173147965082,
          "y": -0.37464316870456815
         },
         {
          "group": "politics",
          "x": -0.4816555164297247,
          "y": -1.4612359803645607
         },
         {
          "group": "politics",
          "x": -0.8252614193173098,
          "y": 0.3301108359461884
         },
         {
          "group": "politics",
          "x": -1.6946521833132724,
          "y": 0.36629279972398754
         },
         {
          "group": "politics",
          "x": -1.1039499202167509,
          "y": 2.1979358414886017
         },
         {
          "group": "politics",
          "x": -1.452112733715849,
          "y": 1.2324908024091241
         },
         {
          "group": "politics",
          "x": -0.28440513580575644,
          "y": -1.1948847234645965
         },
         {
          "group": "politics",
          "x": 0.39726918107002074,
          "y": -0.06515287657405261
         },
         {
          "group": "politics",
          "x": -0.6507621631389418,
          "y": -0.5612937324851598
         },
         {
          "group": "politics",
          "x": -0.2293481741715949,
          "y": -0.28942651974344524
         },
         {
          "group": "politics",
          "x": -2.2118739846346362,
          "y": -0.06903486908471139
         },
         {
          "group": "politics",
          "x": -1.1286905387828858,
          "y": 0.0618597077233575
         },
         {
          "group": "politics",
          "x": -0.7249265877401033,
          "y": 0.7887515041360941
         },
         {
          "group": "politics",
          "x": 1.2873492949378393,
          "y": 0.214705940033193
         },
         {
          "group": "politics",
          "x": -0.3244321895916472,
          "y": -1.0040280167344626
         },
         {
          "group": "politics",
          "x": -0.11083916950945992,
          "y": -0.3963804522605405
         },
         {
          "group": "politics",
          "x": -2.2653258092949624,
          "y": 1.3617839349058123
         },
         {
          "group": "politics",
          "x": -1.2905779621629196,
          "y": -1.9498491802339457
         },
         {
          "group": "politics",
          "x": -0.562105727201038,
          "y": 0.7145006053325029
         },
         {
          "group": "politics",
          "x": -0.12543377546854761,
          "y": 0.33674405083462483
         },
         {
          "group": "politics",
          "x": 0.2259571292984077,
          "y": -0.004385847493420164
         },
         {
          "group": "politics",
          "x": -0.1933700893987624,
          "y": 1.76927429208863
         },
         {
          "group": "politics",
          "x": -0.10506378307112214,
          "y": 2.3640781377465556
         },
         {
          "group": "politics",
          "x": -0.5477100360982582,
          "y": -2.1063793747583763
         },
         {
          "group": "politics",
          "x": 0.9214589142465905,
          "y": -0.22184062631295864
         },
         {
          "group": "politics",
          "x": 0.02814121418900823,
          "y": -1.0739218960193295
         },
         {
          "group": "politics",
          "x": 0.3797323805031133,
          "y": -1.1125452100843234
         },
         {
          "group": "politics",
          "x": -0.11031505594174094,
          "y": 0.31056874858032596
         },
         {
          "group": "politics",
          "x": 1.439207419853326,
          "y": -0.1458813924955314
         },
         {
          "group": "politics",
          "x": 0.716508252396373,
          "y": 2.578357984465859
         },
         {
          "group": "politics",
          "x": -0.49687978426771334,
          "y": 1.1205828006355902
         },
         {
          "group": "politics",
          "x": 0.6040958806905415,
          "y": -0.22466981452966103
         },
         {
          "group": "politics",
          "x": -0.3156865503603711,
          "y": 1.3539287051011761
         },
         {
          "group": "politics",
          "x": 0.042396993001240314,
          "y": 0.5356140708826665
         },
         {
          "group": "politics",
          "x": -0.6607017375424682,
          "y": -0.5455541716008564
         },
         {
          "group": "politics",
          "x": -0.46493105068494367,
          "y": 2.849803828694368
         },
         {
          "group": "politics",
          "x": 1.2261306897903013,
          "y": -3.470463170706992
         },
         {
          "group": "politics",
          "x": -0.5827489001367503,
          "y": -1.5569756025937915
         },
         {
          "group": "politics",
          "x": -1.3564828725389542,
          "y": 1.1255969852258485
         },
         {
          "group": "politics",
          "x": -0.08816465340662863,
          "y": 0.834723557843855
         },
         {
          "group": "politics",
          "x": 1.4876146521452482,
          "y": 1.5966281661064539
         },
         {
          "group": "politics",
          "x": -2.4972912702320422,
          "y": 3.132065074218972
         },
         {
          "group": "politics",
          "x": 1.0633891367971102,
          "y": 0.3265974402758131
         },
         {
          "group": "politics",
          "x": 2.548499586442129,
          "y": 2.8934240116948837
         },
         {
          "group": "politics",
          "x": 1.287666223169565,
          "y": 0.007651104500464804
         },
         {
          "group": "politics",
          "x": -0.5205286150756918,
          "y": -0.5444534270432099
         },
         {
          "group": "politics",
          "x": 0.35902382483189277,
          "y": 0.3585985394363921
         },
         {
          "group": "politics",
          "x": -0.3116633102122294,
          "y": -1.2803350259131894
         },
         {
          "group": "politics",
          "x": 0.07922246922974431,
          "y": 1.6204780114783408
         },
         {
          "group": "politics",
          "x": -1.9967601613512618,
          "y": 1.5598462501609995
         },
         {
          "group": "politics",
          "x": -0.26935991781140345,
          "y": 2.4290318221568867
         },
         {
          "group": "politics",
          "x": -1.1838082692332808,
          "y": -0.8755089153499068
         },
         {
          "group": "politics",
          "x": 0.44779918437230204,
          "y": 0.934542974615502
         },
         {
          "group": "politics",
          "x": -0.4805003376256081,
          "y": -0.4479866558025419
         },
         {
          "group": "politics",
          "x": -1.4011962645491627,
          "y": 0.3882017243796609
         },
         {
          "group": "politics",
          "x": 1.6123854367692736,
          "y": 1.1585013242179933
         },
         {
          "group": "politics",
          "x": 0.9887740437800754,
          "y": -1.5815745661359626
         },
         {
          "group": "politics",
          "x": 1.1866450886722826,
          "y": 0.30715677689392706
         },
         {
          "group": "politics",
          "x": 0.8991204143520058,
          "y": 1.763917215857481
         },
         {
          "group": "politics",
          "x": 0.7455022847253017,
          "y": -0.37987803017874466
         },
         {
          "group": "politics",
          "x": 0.36159299420396046,
          "y": -0.20750731869542363
         },
         {
          "group": "politics",
          "x": 0.07815686436172811,
          "y": -2.9009201409379024
         },
         {
          "group": "politics",
          "x": 1.2627265728038812,
          "y": -1.4857981328784362
         },
         {
          "group": "politics",
          "x": -1.909695776123461,
          "y": -1.404135709299176
         },
         {
          "group": "politics",
          "x": -1.4249255105329406,
          "y": -0.5293206927429648
         },
         {
          "group": "politics",
          "x": -0.7014089691890907,
          "y": 0.12873558018380396
         },
         {
          "group": "politics",
          "x": 3.018241321757899,
          "y": -2.0509794306781775
         },
         {
          "group": "politics",
          "x": -1.7046568795061412,
          "y": 1.150657723952003
         },
         {
          "group": "politics",
          "x": -0.174698775257429,
          "y": -2.4035903852008365
         },
         {
          "group": "politics",
          "x": 0.23740382074315464,
          "y": 0.45860492779327383
         },
         {
          "group": "politics",
          "x": 1.3109859445961258,
          "y": -2.7635312601447333
         },
         {
          "group": "politics",
          "x": -1.8791148308668466,
          "y": 1.4386352872341464
         },
         {
          "group": "politics",
          "x": 0.9034414795498029,
          "y": 0.8529019352211062
         },
         {
          "group": "politics",
          "x": 0.07090782470506964,
          "y": 1.4283472412115672
         },
         {
          "group": "politics",
          "x": -1.842720835868749,
          "y": 1.964527337923931
         },
         {
          "group": "politics",
          "x": 0.5952072921514474,
          "y": -0.11606605237928345
         },
         {
          "group": "politics",
          "x": 1.1279463933195588,
          "y": 0.05290465673462504
         },
         {
          "group": "politics",
          "x": -1.9347853044637104,
          "y": 1.4122785500289403
         },
         {
          "group": "politics",
          "x": -1.8379154887585316,
          "y": -0.6072971369350936
         },
         {
          "group": "politics",
          "x": -0.8049246643753679,
          "y": -0.5348160667683189
         },
         {
          "group": "politics",
          "x": 0.10483996141904098,
          "y": 0.42698869433508313
         },
         {
          "group": "politics",
          "x": -0.46888920328402983,
          "y": -1.3341224175682171
         },
         {
          "group": "politics",
          "x": -0.1507085128123678,
          "y": -0.6333184999308187
         },
         {
          "group": "politics",
          "x": 0.3379682709133206,
          "y": -0.5839459509854888
         },
         {
          "group": "politics",
          "x": -0.33996598110405096,
          "y": 1.9174479331389285
         },
         {
          "group": "politics",
          "x": 1.6060691548156707,
          "y": -0.5552253477551835
         },
         {
          "group": "politics",
          "x": 1.0420530000544057,
          "y": 0.08360314159419603
         },
         {
          "group": "politics",
          "x": 1.882078226459032,
          "y": 0.8686522220209418
         },
         {
          "group": "politics",
          "x": 1.719317704690083,
          "y": 0.7975101436536957
         },
         {
          "group": "politics",
          "x": -2.5683851001817573,
          "y": 0.013901395877008737
         },
         {
          "group": "politics",
          "x": -0.0973778185267288,
          "y": 0.534957246267442
         },
         {
          "group": "politics",
          "x": 0.01897587101637886,
          "y": 0.9900691751834096
         },
         {
          "group": "politics",
          "x": 0.38873426664684463,
          "y": -0.587119843119013
         },
         {
          "group": "politics",
          "x": -1.4327013425080877,
          "y": -1.1981197387062348
         },
         {
          "group": "politics",
          "x": -0.34095429222395596,
          "y": 0.7133993904319327
         },
         {
          "group": "politics",
          "x": -0.015523130962498436,
          "y": -1.6138906263786588
         },
         {
          "group": "politics",
          "x": -0.9572700041151629,
          "y": 1.5139707799322593
         },
         {
          "group": "politics",
          "x": -0.18178101364553725,
          "y": -1.4260213936020945
         },
         {
          "group": "politics",
          "x": -0.15571992605650445,
          "y": -1.4636852983758142
         },
         {
          "group": "politics",
          "x": 0.4942919176044624,
          "y": -1.6656231156687387
         },
         {
          "group": "politics",
          "x": 1.5527955805647367,
          "y": 1.9082981008772777
         },
         {
          "group": "politics",
          "x": 0.06997017723138718,
          "y": 0.019234167143756753
         },
         {
          "group": "politics",
          "x": 0.7234056302914624,
          "y": -0.37978962345723044
         },
         {
          "group": "politics",
          "x": 0.5616411406829144,
          "y": -1.746024871573343
         },
         {
          "group": "politics",
          "x": -0.054763152659499374,
          "y": 0.6666335289877516
         },
         {
          "group": "politics",
          "x": -0.8500418491679886,
          "y": -0.7547174099030117
         },
         {
          "group": "politics",
          "x": 0.22045453042976182,
          "y": -0.5482445380173281
         },
         {
          "group": "politics",
          "x": -1.851836279399559,
          "y": 1.4905052091234807
         },
         {
          "group": "politics",
          "x": 0.9304994327146134,
          "y": 0.3661451961732927
         },
         {
          "group": "politics",
          "x": -1.1674439635807603,
          "y": -0.27505110981469644
         },
         {
          "group": "politics",
          "x": -1.2144835562890677,
          "y": 1.0251025238377371
         },
         {
          "group": "politics",
          "x": -0.8644974439880119,
          "y": -2.561202769357356
         },
         {
          "group": "politics",
          "x": -0.12584665387332944,
          "y": -2.09932988444997
         },
         {
          "group": "politics",
          "x": -0.426709369676145,
          "y": -0.8143890110349372
         },
         {
          "group": "politics",
          "x": 0.4925977678601408,
          "y": -0.6803742444323493
         },
         {
          "group": "politics",
          "x": -0.28123201803351244,
          "y": 1.4662966646280533
         },
         {
          "group": "politics",
          "x": -2.6986393174539036,
          "y": 0.5551065601353106
         },
         {
          "group": "politics",
          "x": 0.3057578971951987,
          "y": -1.6113132859945525
         },
         {
          "group": "politics",
          "x": -0.9744645209786839,
          "y": -0.05911572120934505
         },
         {
          "group": "politics",
          "x": -1.0423654590828964,
          "y": 0.6286545412940471
         },
         {
          "group": "politics",
          "x": -0.8505771880418758,
          "y": -0.7520232556205526
         },
         {
          "group": "politics",
          "x": -0.3654978519105041,
          "y": -0.038066929419405295
         },
         {
          "group": "politics",
          "x": -0.29878052251751264,
          "y": 0.0011428202882442398
         },
         {
          "group": "politics",
          "x": 0.6277223225312547,
          "y": -0.29845329505129237
         },
         {
          "group": "politics",
          "x": -0.8800913933915478,
          "y": 0.08825273185718141
         },
         {
          "group": "politics",
          "x": -0.4830782907463458,
          "y": -1.3980682707108039
         },
         {
          "group": "politics",
          "x": -0.07167456191017404,
          "y": 0.42332764857053423
         },
         {
          "group": "politics",
          "x": 0.9707983165544349,
          "y": 0.08151210427346986
         },
         {
          "group": "politics",
          "x": 0.6634297277469435,
          "y": 1.1056236675711473
         },
         {
          "group": "politics",
          "x": -0.5950616914769025,
          "y": -0.9818522801657276
         },
         {
          "group": "politics",
          "x": -0.8664603466127976,
          "y": 0.10048835856716433
         },
         {
          "group": "politics",
          "x": -0.22878134308289788,
          "y": 0.044578649115631995
         },
         {
          "group": "politics",
          "x": -1.2078164029712053,
          "y": 1.567612326036802
         },
         {
          "group": "politics",
          "x": -0.47199430259993613,
          "y": 0.04772901794033131
         },
         {
          "group": "politics",
          "x": -0.445088212544377,
          "y": -0.9865262251177658
         },
         {
          "group": "politics",
          "x": -0.6295884984753051,
          "y": 1.2013518777198697
         },
         {
          "group": "politics",
          "x": -1.305131299821638,
          "y": -0.7996555555566852
         },
         {
          "group": "politics",
          "x": 0.07997073864404092,
          "y": 1.2361581610971044
         },
         {
          "group": "politics",
          "x": -2.101635271874421,
          "y": -0.23969935362716052
         },
         {
          "group": "politics",
          "x": 0.699551941920894,
          "y": 0.048610404235746446
         },
         {
          "group": "politics",
          "x": -1.5760616623899284,
          "y": -1.3912810978028378
         },
         {
          "group": "politics",
          "x": -1.0250822329485774,
          "y": -1.7667308140981663
         },
         {
          "group": "politics",
          "x": -2.2184942413528934,
          "y": -0.7430581372440549
         },
         {
          "group": "politics",
          "x": -1.0219560530462952,
          "y": -0.3877581323064151
         },
         {
          "group": "politics",
          "x": 0.7402911096694043,
          "y": -1.0999512817170762
         },
         {
          "group": "politics",
          "x": -2.4288653864883503,
          "y": 0.7703687478271235
         },
         {
          "group": "politics",
          "x": -0.7478426436318043,
          "y": -0.9001715490055175
         },
         {
          "group": "politics",
          "x": 3.2704107690053985,
          "y": 1.4319699001300374
         },
         {
          "group": "politics",
          "x": -0.9417235625691305,
          "y": -0.21386450534185836
         },
         {
          "group": "politics",
          "x": -0.7072184530871602,
          "y": -0.074816065851611
         },
         {
          "group": "politics",
          "x": -1.1577069096646504,
          "y": -0.6426743666195973
         },
         {
          "group": "politics",
          "x": -2.6028714103010713,
          "y": 0.770039554155019
         },
         {
          "group": "politics",
          "x": 1.821561399122249,
          "y": -0.8105958354548906
         },
         {
          "group": "politics",
          "x": 0.555905345700443,
          "y": 2.162699866862296
         },
         {
          "group": "politics",
          "x": 0.20756959448722248,
          "y": -1.7182652438057506
         },
         {
          "group": "politics",
          "x": 0.1524400287110465,
          "y": -0.4981154233308332
         },
         {
          "group": "politics",
          "x": -0.2900732180679291,
          "y": -0.9039039940780548
         },
         {
          "group": "politics",
          "x": -1.2233197554991402,
          "y": 0.830786079802334
         },
         {
          "group": "politics",
          "x": -1.136296774172113,
          "y": -0.44303529625741256
         },
         {
          "group": "politics",
          "x": -0.15946815530290198,
          "y": -1.294391215202501
         },
         {
          "group": "politics",
          "x": -0.48211411992594916,
          "y": -1.5803743438300233
         },
         {
          "group": "politics",
          "x": -0.9237820065765031,
          "y": 0.6835418447902688
         },
         {
          "group": "politics",
          "x": -2.196341589775575,
          "y": 0.7071553677397382
         },
         {
          "group": "politics",
          "x": 1.1851278292671545,
          "y": 1.2108449366807763
         },
         {
          "group": "politics",
          "x": 1.2998741950290638,
          "y": 0.8128733478885845
         },
         {
          "group": "politics",
          "x": -1.5569247958308272,
          "y": 2.533284739593058
         },
         {
          "group": "politics",
          "x": -0.03781424622044691,
          "y": 0.3825358045684963
         },
         {
          "group": "politics",
          "x": -0.16382458283688112,
          "y": 1.8616056853303056
         },
         {
          "group": "politics",
          "x": 0.7494113821187073,
          "y": 0.9420267459413855
         },
         {
          "group": "politics",
          "x": 0.7676859679898504,
          "y": 0.49225301667846644
         },
         {
          "group": "politics",
          "x": -1.234387478809515,
          "y": 0.6976084663884454
         },
         {
          "group": "politics",
          "x": -0.9556841287602781,
          "y": 0.05473948941866136
         },
         {
          "group": "politics",
          "x": -0.6326566458536833,
          "y": 0.9922170783615001
         },
         {
          "group": "politics",
          "x": -1.9448185546074988,
          "y": -1.493857395142638
         },
         {
          "group": "politics",
          "x": -0.313530938548637,
          "y": -2.5288928260366696
         },
         {
          "group": "politics",
          "x": 0.05089645601731641,
          "y": 0.7096797185893683
         },
         {
          "group": "politics",
          "x": 0.1582422959568639,
          "y": -1.1016390185696068
         },
         {
          "group": "politics",
          "x": -0.9173624110431379,
          "y": -1.2370163913213468
         },
         {
          "group": "politics",
          "x": 1.3988114755747543,
          "y": 0.1550309880519257
         },
         {
          "group": "politics",
          "x": -1.2105563487965327,
          "y": -1.0298955528773321
         },
         {
          "group": "politics",
          "x": 1.267471544733023,
          "y": -1.3862036755214235
         },
         {
          "group": "politics",
          "x": -1.4961880057715815,
          "y": -0.42453124336741116
         },
         {
          "group": "politics",
          "x": -2.722960777761773,
          "y": 0.9196168501805625
         },
         {
          "group": "politics",
          "x": 0.8198705960494646,
          "y": -1.985355448177321
         },
         {
          "group": "politics",
          "x": 0.368718323165772,
          "y": -1.8928961160296975
         },
         {
          "group": "politics",
          "x": 0.12042235897285468,
          "y": -1.4825217749411719
         },
         {
          "group": "politics",
          "x": 1.6859659102678721,
          "y": -0.7456352000910345
         },
         {
          "group": "politics",
          "x": 0.8420656477595022,
          "y": -0.3212319332111739
         },
         {
          "group": "politics",
          "x": -1.2398352427364467,
          "y": 1.7227207221642769
         },
         {
          "group": "politics",
          "x": -0.14471984128857446,
          "y": 1.1873337448112913
         },
         {
          "group": "politics",
          "x": 1.6834681546999035,
          "y": 1.3095557823346913
         },
         {
          "group": "politics",
          "x": -0.12753890588895953,
          "y": 0.5472608845400821
         },
         {
          "group": "politics",
          "x": -0.8116516018554759,
          "y": -1.08109386603936
         },
         {
          "group": "politics",
          "x": -0.4354509196400777,
          "y": -0.3383851244958202
         },
         {
          "group": "politics",
          "x": -1.1505896713378598,
          "y": -0.9333818581630156
         },
         {
          "group": "politics",
          "x": -0.3889375656669794,
          "y": 0.007426679754446181
         },
         {
          "group": "politics",
          "x": 2.1939665600177793,
          "y": 1.387215192786386
         },
         {
          "group": "politics",
          "x": 0.4264502420298437,
          "y": 0.040897172437914575
         },
         {
          "group": "politics",
          "x": -0.09183373939959712,
          "y": 1.6222877582807478
         },
         {
          "group": "politics",
          "x": 0.717786831883617,
          "y": 1.008764135170349
         },
         {
          "group": "politics",
          "x": 0.37935568927253693,
          "y": -1.1335754157287319
         },
         {
          "group": "politics",
          "x": 1.4441906904877664,
          "y": 0.9883066528861374
         },
         {
          "group": "politics",
          "x": 0.1739690699990329,
          "y": 1.6217387672849362
         },
         {
          "group": "politics",
          "x": -1.4751967418311955,
          "y": -1.941321888015057
         },
         {
          "group": "politics",
          "x": 0.7564638448807391,
          "y": 0.7106560848921875
         },
         {
          "group": "politics",
          "x": 0.34139731758152664,
          "y": -1.1767039951045286
         },
         {
          "group": "politics",
          "x": -0.18501699746646957,
          "y": -0.3122577015155713
         },
         {
          "group": "politics",
          "x": -2.1541511410342404,
          "y": 0.6762211963876016
         },
         {
          "group": "politics",
          "x": -0.43881318273866826,
          "y": -1.6726673019264753
         },
         {
          "group": "politics",
          "x": -1.5476654586589345,
          "y": -0.25719929355093385
         },
         {
          "group": "politics",
          "x": -0.9688336787194411,
          "y": -0.18837339114541427
         },
         {
          "group": "politics",
          "x": 2.344487498606955,
          "y": 0.5803898480313262
         },
         {
          "group": "politics",
          "x": -1.072358561954518,
          "y": 0.46010612362570413
         },
         {
          "group": "politics",
          "x": 0.5185447913904421,
          "y": -0.7486960213557159
         },
         {
          "group": "politics",
          "x": 0.4992061685039436,
          "y": -1.0754807030352675
         },
         {
          "group": "politics",
          "x": -0.351553228955502,
          "y": -0.46166994290739494
         },
         {
          "group": "politics",
          "x": -1.763782145513312,
          "y": 0.2790777278553738
         },
         {
          "group": "politics",
          "x": 0.8730615529262623,
          "y": 2.0790673907805073
         },
         {
          "group": "politics",
          "x": -0.3539921788160506,
          "y": 2.1076068576811884
         },
         {
          "group": "politics",
          "x": -0.6632360622986179,
          "y": 0.6568442921198245
         },
         {
          "group": "politics",
          "x": -0.9677497577777376,
          "y": -1.5692807739515255
         },
         {
          "group": "politics",
          "x": 0.5558729086204324,
          "y": 0.8504723716432835
         },
         {
          "group": "politics",
          "x": 0.9805748250745532,
          "y": 0.7943398242834201
         },
         {
          "group": "politics",
          "x": -0.9453267900289994,
          "y": 1.766141179202374
         },
         {
          "group": "politics",
          "x": -2.2278300568311464,
          "y": 1.1336749708113438
         },
         {
          "group": "politics",
          "x": -0.3232836640504319,
          "y": 1.8219929329534357
         },
         {
          "group": "politics",
          "x": -1.2087366919867968,
          "y": -1.3833518869412282
         },
         {
          "group": "politics",
          "x": -1.5785006417447278,
          "y": 1.167109275690832
         },
         {
          "group": "politics",
          "x": 0.9500072244348492,
          "y": -1.2611967368262775
         },
         {
          "group": "politics",
          "x": -1.2937174368711517,
          "y": 1.3632634229668745
         },
         {
          "group": "politics",
          "x": 0.06288768500345188,
          "y": -0.110614914275527
         },
         {
          "group": "politics",
          "x": 2.5980840985112654,
          "y": 2.5574301256866474
         },
         {
          "group": "politics",
          "x": 1.6210497378820294,
          "y": 0.39760187632527344
         },
         {
          "group": "politics",
          "x": 1.5445594847219544,
          "y": -2.0730321356595343
         },
         {
          "group": "politics",
          "x": 0.7889608886961572,
          "y": 0.888289451301942
         },
         {
          "group": "politics",
          "x": 0.17373111568538735,
          "y": -0.6203640358350456
         },
         {
          "group": "politics",
          "x": -0.5579330437432611,
          "y": 0.37537885476687266
         },
         {
          "group": "politics",
          "x": -0.4199501340941743,
          "y": -1.020953254461626
         },
         {
          "group": "politics",
          "x": -0.6304422651209773,
          "y": 0.32440493926845376
         },
         {
          "group": "politics",
          "x": -0.5994173088682001,
          "y": -1.3207209437562688
         },
         {
          "group": "politics",
          "x": -0.6936164919765521,
          "y": 0.39944598281709587
         },
         {
          "group": "politics",
          "x": -2.0980529373384473,
          "y": 1.609400881768345
         },
         {
          "group": "politics",
          "x": 0.42450921097093447,
          "y": 1.3822687351561629
         },
         {
          "group": "politics",
          "x": -2.09580986601592,
          "y": -2.5580157075336327
         },
         {
          "group": "politics",
          "x": -0.7974555389157616,
          "y": 0.7561765961105023
         },
         {
          "group": "politics",
          "x": -1.6560355540957155,
          "y": -0.2401171591699752
         },
         {
          "group": "politics",
          "x": -0.020868968767704974,
          "y": -0.3514314592339113
         },
         {
          "group": "politics",
          "x": -0.04519608315356072,
          "y": -1.0528208904799494
         },
         {
          "group": "politics",
          "x": -0.6651129507575081,
          "y": -1.1833360945662719
         },
         {
          "group": "politics",
          "x": 1.2293205859632346,
          "y": -1.5336075686464348
         },
         {
          "group": "politics",
          "x": -0.3950290966882452,
          "y": -1.5444677482771094
         },
         {
          "group": "politics",
          "x": 0.7269976409740206,
          "y": 0.9009990670045339
         },
         {
          "group": "politics",
          "x": 0.31955413036314445,
          "y": 1.0897474607165583
         },
         {
          "group": "politics",
          "x": -0.7225453461218182,
          "y": 0.817445067161495
         },
         {
          "group": "politics",
          "x": 1.0571940760795526,
          "y": -1.3130610566655263
         },
         {
          "group": "politics",
          "x": -0.5611605374342346,
          "y": -0.09897996371549253
         },
         {
          "group": "politics",
          "x": 0.9177891723167871,
          "y": -0.9559139700210372
         },
         {
          "group": "politics",
          "x": 1.7084478529349294,
          "y": -0.14180157184388326
         },
         {
          "group": "politics",
          "x": 0.24443082727046736,
          "y": 0.23508037934581713
         },
         {
          "group": "politics",
          "x": -0.40918952631883615,
          "y": -0.38911039584293944
         },
         {
          "group": "politics",
          "x": 0.47290414015753146,
          "y": -2.128217780899683
         },
         {
          "group": "politics",
          "x": 0.9259024223681409,
          "y": 0.1518763914109959
         },
         {
          "group": "politics",
          "x": 0.837787423767019,
          "y": -0.02973557953810618
         },
         {
          "group": "politics",
          "x": 1.5920406718320788,
          "y": 2.3122246694698783
         },
         {
          "group": "politics",
          "x": -1.3115431026301012,
          "y": 1.1408813352288076
         },
         {
          "group": "politics",
          "x": -3.2781780602517094,
          "y": -1.7883152386829806
         },
         {
          "group": "politics",
          "x": -1.18107352071935,
          "y": -0.3631615982828866
         },
         {
          "group": "politics",
          "x": -0.38322003000517735,
          "y": -0.25440142956653017
         },
         {
          "group": "politics",
          "x": 1.4661143228527582,
          "y": 1.3217074985590598
         },
         {
          "group": "politics",
          "x": -2.1822478894307054,
          "y": -1.41831315518114
         },
         {
          "group": "politics",
          "x": 1.0403484730907022,
          "y": 1.363754697631702
         },
         {
          "group": "politics",
          "x": 0.09621245097506306,
          "y": -1.8512598023697882
         },
         {
          "group": "politics",
          "x": 1.330030564929094,
          "y": 0.29896574310380375
         },
         {
          "group": "politics",
          "x": 0.8107006531300682,
          "y": 0.5608220518710989
         },
         {
          "group": "politics",
          "x": 0.21389970897716495,
          "y": 0.3781593027929351
         },
         {
          "group": "politics",
          "x": 2.056347187420701,
          "y": 0.37698315328871757
         },
         {
          "group": "politics",
          "x": 0.30359226228967734,
          "y": 1.5577217924332203
         },
         {
          "group": "politics",
          "x": 0.8500946124440902,
          "y": -0.08416889252894032
         },
         {
          "group": "politics",
          "x": -1.14336808414528,
          "y": 0.1617402985616699
         },
         {
          "group": "politics",
          "x": -2.3914418031894447,
          "y": 0.9892167758102708
         },
         {
          "group": "politics",
          "x": 0.5796753551004475,
          "y": 0.7473694465651248
         },
         {
          "group": "politics",
          "x": -0.16369090618906176,
          "y": 1.7540170167681173
         },
         {
          "group": "politics",
          "x": -1.2336774158524328,
          "y": -0.48996929831926345
         },
         {
          "group": "politics",
          "x": 0.9315161585317971,
          "y": 0.436161576996739
         },
         {
          "group": "politics",
          "x": 0.14590425871776413,
          "y": 0.2042727943701311
         },
         {
          "group": "politics",
          "x": -1.6960187810492315,
          "y": -1.5667389342647728
         },
         {
          "group": "politics",
          "x": -0.11924444582214488,
          "y": -1.0546985781707205
         },
         {
          "group": "politics",
          "x": -1.6546360403356426,
          "y": -1.5163649437496882
         },
         {
          "group": "politics",
          "x": -0.5454949426231173,
          "y": 1.1442085639104946
         },
         {
          "group": "politics",
          "x": -1.5638558985898814,
          "y": -2.490650747938545
         },
         {
          "group": "politics",
          "x": -1.1960259154216522,
          "y": -0.6193199301716182
         },
         {
          "group": "politics",
          "x": 0.1961021848908168,
          "y": -1.2903609706845036
         },
         {
          "group": "politics",
          "x": -0.5393394424386873,
          "y": 1.0096492419659278
         },
         {
          "group": "politics",
          "x": 1.8421832489612484,
          "y": 0.24812474199172005
         },
         {
          "group": "politics",
          "x": -0.01051968888481505,
          "y": 2.2501061016481003
         },
         {
          "group": "politics",
          "x": -1.973871029660414,
          "y": -1.5957575321108228
         },
         {
          "group": "politics",
          "x": -0.27625371156070894,
          "y": 0.9410570876640812
         },
         {
          "group": "politics",
          "x": -0.17535598279416584,
          "y": -1.1292625386731767
         },
         {
          "group": "politics",
          "x": -1.3082362072557026,
          "y": 0.4751474354063448
         },
         {
          "group": "politics",
          "x": -0.6122855764563384,
          "y": -0.4284343381359998
         },
         {
          "group": "politics",
          "x": 0.701900814214191,
          "y": -0.9588035324261519
         },
         {
          "group": "politics",
          "x": 1.1166085019766139,
          "y": 0.818475838728312
         },
         {
          "group": "politics",
          "x": 2.043546159089717,
          "y": -0.1079842319684753
         },
         {
          "group": "politics",
          "x": 1.3515018822054863,
          "y": 0.6296544032806611
         },
         {
          "group": "tech",
          "x": -1.1134935800375398,
          "y": -1.3425565584493773
         },
         {
          "group": "tech",
          "x": 1.96165687172464,
          "y": -1.3178957714884927
         },
         {
          "group": "tech",
          "x": 0.48733532028291304,
          "y": 1.600805414509283
         },
         {
          "group": "tech",
          "x": 0.005110921709817358,
          "y": -0.9863620987419418
         },
         {
          "group": "tech",
          "x": 0.407771561317494,
          "y": -0.21120400440572462
         },
         {
          "group": "tech",
          "x": 0.5727711600388263,
          "y": -0.28294189304924716
         },
         {
          "group": "tech",
          "x": 0.9603053713505302,
          "y": -0.46305322363752077
         },
         {
          "group": "tech",
          "x": 0.17458820761076357,
          "y": -1.3201853998663442
         },
         {
          "group": "tech",
          "x": -0.5007839177084694,
          "y": -0.91081418253781
         },
         {
          "group": "tech",
          "x": 0.17491521905141438,
          "y": 1.0842520993640965
         },
         {
          "group": "tech",
          "x": -0.13991781655310911,
          "y": -1.4135494317935164
         },
         {
          "group": "tech",
          "x": -0.9371489945270235,
          "y": -0.009800992987615342
         },
         {
          "group": "tech",
          "x": -1.0422764712611574,
          "y": -1.0046297878145838
         },
         {
          "group": "tech",
          "x": -1.2007233471959828,
          "y": -1.113174510733384
         },
         {
          "group": "tech",
          "x": -1.9847248495519356,
          "y": 2.2902183563063456
         },
         {
          "group": "tech",
          "x": 0.7369477226691247,
          "y": -0.20866026692575665
         },
         {
          "group": "tech",
          "x": 0.93073126970021,
          "y": 0.036335508862189586
         },
         {
          "group": "tech",
          "x": -0.08661500224803804,
          "y": -0.22358650041847755
         },
         {
          "group": "tech",
          "x": -1.9737410299101645,
          "y": 0.4093898999781611
         },
         {
          "group": "tech",
          "x": -0.8025461687288784,
          "y": -0.12629299053500215
         },
         {
          "group": "tech",
          "x": -1.2198006225593332,
          "y": 1.0444180680346236
         },
         {
          "group": "tech",
          "x": 1.2711780253739386,
          "y": -1.4555268719424654
         },
         {
          "group": "tech",
          "x": -0.6847592217460451,
          "y": -0.37897104622050354
         },
         {
          "group": "tech",
          "x": -0.35202874509840326,
          "y": 0.5529680885790729
         },
         {
          "group": "tech",
          "x": -1.8744528568422993,
          "y": 1.565684000137106
         },
         {
          "group": "tech",
          "x": -1.6651478073869943,
          "y": -1.2412423847095178
         },
         {
          "group": "tech",
          "x": 0.2987772321656915,
          "y": -0.300774681653542
         },
         {
          "group": "tech",
          "x": -0.5947819480313701,
          "y": 0.6302002634136525
         },
         {
          "group": "tech",
          "x": -0.6405761087756642,
          "y": -0.062157983475480176
         },
         {
          "group": "tech",
          "x": -0.1625279914159814,
          "y": -1.0860160712827212
         },
         {
          "group": "tech",
          "x": 0.9807436106135728,
          "y": -0.955247328439092
         },
         {
          "group": "tech",
          "x": -0.020117582475038732,
          "y": 0.35050892765666397
         },
         {
          "group": "tech",
          "x": 0.040037880175353646,
          "y": 1.5682487272410397
         },
         {
          "group": "tech",
          "x": 0.6645719117128714,
          "y": 0.26796351724312434
         },
         {
          "group": "tech",
          "x": -0.1448036367386109,
          "y": 0.19777358538760337
         },
         {
          "group": "tech",
          "x": -0.9301533061879078,
          "y": 0.4559205618171133
         },
         {
          "group": "tech",
          "x": -1.998515948683697,
          "y": -0.5928084991922272
         },
         {
          "group": "tech",
          "x": -0.6205854340492931,
          "y": 0.6168015447935783
         },
         {
          "group": "tech",
          "x": 0.8247834120325117,
          "y": 1.0569972715859777
         },
         {
          "group": "tech",
          "x": -2.1064013154508543,
          "y": -1.2324275624145546
         },
         {
          "group": "tech",
          "x": -0.3423320558025069,
          "y": 0.2126800984928859
         },
         {
          "group": "tech",
          "x": -0.8796682256504613,
          "y": 0.52759720273223
         },
         {
          "group": "tech",
          "x": 0.24703213419782674,
          "y": 0.4443614968325998
         },
         {
          "group": "tech",
          "x": -0.2731793292308465,
          "y": -0.3088922271092375
         },
         {
          "group": "tech",
          "x": -0.7679779819685061,
          "y": -0.8790852418451673
         },
         {
          "group": "tech",
          "x": -2.0338935080514244,
          "y": 1.466106950381301
         },
         {
          "group": "tech",
          "x": 0.479944156585521,
          "y": 0.08015451539269253
         },
         {
          "group": "tech",
          "x": -1.7604343198996868,
          "y": 2.0565812009672406
         },
         {
          "group": "tech",
          "x": -1.8716191600449135,
          "y": -0.7108487825752358
         },
         {
          "group": "tech",
          "x": -0.03476636257850186,
          "y": -1.440487860197757
         },
         {
          "group": "tech",
          "x": -1.5292894352220767,
          "y": -0.1412849326215286
         },
         {
          "group": "tech",
          "x": -0.6697902100199024,
          "y": -0.7101628029724286
         },
         {
          "group": "tech",
          "x": 0.9937584656946519,
          "y": -2.794500863398252
         },
         {
          "group": "tech",
          "x": -0.1096205894634535,
          "y": -0.9115200828811081
         },
         {
          "group": "tech",
          "x": -1.7188580882840283,
          "y": 1.7598415331839197
         },
         {
          "group": "tech",
          "x": 1.1682354306079556,
          "y": -0.8473834746326396
         },
         {
          "group": "tech",
          "x": 0.7649920733129004,
          "y": -1.1128063202911318
         },
         {
          "group": "tech",
          "x": -0.8938815594856031,
          "y": 0.4250736020871194
         },
         {
          "group": "tech",
          "x": -1.2060489082959123,
          "y": -0.47621262383898233
         },
         {
          "group": "tech",
          "x": -0.6807057993790143,
          "y": -1.6882419689455601
         },
         {
          "group": "tech",
          "x": -2.073744396140919,
          "y": 0.12206719958535811
         },
         {
          "group": "tech",
          "x": -0.06472683974304,
          "y": 0.5260601547423248
         },
         {
          "group": "tech",
          "x": -2.7745439200968476,
          "y": -0.5726126931730767
         },
         {
          "group": "tech",
          "x": 0.48193167228435924,
          "y": 0.4979904567760358
         },
         {
          "group": "tech",
          "x": -1.1865142967936342,
          "y": -0.18491650561987805
         },
         {
          "group": "tech",
          "x": -0.3739268895496704,
          "y": -1.361232909440796
         },
         {
          "group": "tech",
          "x": 1.1913272642446129,
          "y": -0.7794688418048206
         },
         {
          "group": "tech",
          "x": -0.02961329096536669,
          "y": 1.1513941914110957
         },
         {
          "group": "tech",
          "x": -3.102216610165391,
          "y": 0.4965208419822081
         },
         {
          "group": "tech",
          "x": -0.8667899871556618,
          "y": -0.9315136669353656
         },
         {
          "group": "tech",
          "x": 0.21217598954505917,
          "y": -0.5871036826193495
         },
         {
          "group": "tech",
          "x": 0.5092810044317208,
          "y": 0.36944237484084835
         },
         {
          "group": "tech",
          "x": -2.065993564995626,
          "y": 1.8330523313636486
         },
         {
          "group": "tech",
          "x": 1.1472966947344978,
          "y": -0.38775826444401784
         },
         {
          "group": "tech",
          "x": 0.3443400255196892,
          "y": -0.12320300446977524
         },
         {
          "group": "tech",
          "x": -2.875468533601543,
          "y": -1.9133553768942848
         },
         {
          "group": "tech",
          "x": -0.04740387388474509,
          "y": 1.9080315490929876
         },
         {
          "group": "tech",
          "x": -1.0013046103095877,
          "y": -0.7778322847762686
         },
         {
          "group": "tech",
          "x": 0.14736733182497871,
          "y": -0.9221485319434206
         },
         {
          "group": "tech",
          "x": 0.35813510554502415,
          "y": 1.5136689440922961
         },
         {
          "group": "tech",
          "x": -0.8457812670516053,
          "y": 1.4702082386618318
         },
         {
          "group": "tech",
          "x": -1.0426180541625119,
          "y": 0.29338179146730414
         },
         {
          "group": "tech",
          "x": -1.444236117083506,
          "y": -0.1940340733229218
         },
         {
          "group": "tech",
          "x": 1.0751322857561922,
          "y": -1.091191237388829
         },
         {
          "group": "tech",
          "x": -0.6841353740174129,
          "y": -1.07483823226105
         },
         {
          "group": "tech",
          "x": -0.8776122202483373,
          "y": -0.8294690686638886
         },
         {
          "group": "tech",
          "x": -1.3262302682229663,
          "y": -1.2940357922403742
         },
         {
          "group": "tech",
          "x": -0.7735517557233768,
          "y": 0.6300555847540227
         },
         {
          "group": "tech",
          "x": 0.6086970106251133,
          "y": -0.29268009116450533
         },
         {
          "group": "tech",
          "x": -2.474200282093523,
          "y": 1.7292104209734964
         },
         {
          "group": "tech",
          "x": 0.12638448034932093,
          "y": -0.14625128523374942
         },
         {
          "group": "tech",
          "x": -1.7423990356244834,
          "y": -1.8123210305969877
         },
         {
          "group": "tech",
          "x": 0.5293455436898481,
          "y": 1.5661777854442922
         },
         {
          "group": "tech",
          "x": 0.5538774316986892,
          "y": -1.0869434512389262
         },
         {
          "group": "tech",
          "x": -1.660446265129368,
          "y": -0.5165434114598215
         },
         {
          "group": "tech",
          "x": 0.15315710521950276,
          "y": -1.5491496180902902
         },
         {
          "group": "tech",
          "x": 1.0012481713327803,
          "y": -0.9989288445623455
         },
         {
          "group": "tech",
          "x": -0.22583861850322692,
          "y": -0.6489052435153582
         },
         {
          "group": "tech",
          "x": -1.1187169474213818,
          "y": -0.11362441119176722
         },
         {
          "group": "tech",
          "x": -0.23607983007668415,
          "y": 0.6769424917881733
         },
         {
          "group": "tech",
          "x": 0.9441315812668961,
          "y": -0.8953253885862968
         },
         {
          "group": "tech",
          "x": 0.11224112585722876,
          "y": 0.5754094642444716
         },
         {
          "group": "tech",
          "x": -0.7812009553971098,
          "y": 1.5854531527193203
         },
         {
          "group": "tech",
          "x": 0.7622870842092586,
          "y": -0.42522462002243827
         },
         {
          "group": "tech",
          "x": -0.018822942800147912,
          "y": -1.4861157226876591
         },
         {
          "group": "tech",
          "x": -0.8459289862203878,
          "y": -2.0334583113998828
         },
         {
          "group": "tech",
          "x": -1.6642197834349555,
          "y": 0.4866856553077672
         },
         {
          "group": "tech",
          "x": -0.4977633760331563,
          "y": -0.029906800910186115
         },
         {
          "group": "tech",
          "x": -1.0203232809855844,
          "y": 0.10167408615165047
         },
         {
          "group": "tech",
          "x": 0.04173540932408811,
          "y": 0.56507385620815
         },
         {
          "group": "tech",
          "x": -2.579808914891105,
          "y": -0.5933803255735894
         },
         {
          "group": "tech",
          "x": -2.0649185779883825,
          "y": 0.8716307596571601
         },
         {
          "group": "tech",
          "x": 1.1742833075078387,
          "y": -1.097895410627591
         },
         {
          "group": "tech",
          "x": -0.16578556464714647,
          "y": 2.3164958537643257
         },
         {
          "group": "tech",
          "x": -0.7008544828099815,
          "y": -1.2872079982200977
         },
         {
          "group": "tech",
          "x": -0.5867044877337041,
          "y": -1.5606185418743201
         },
         {
          "group": "tech",
          "x": 0.20099848434917683,
          "y": 1.4085374341212102
         },
         {
          "group": "tech",
          "x": 0.43140319671949084,
          "y": 0.6473466249321759
         },
         {
          "group": "tech",
          "x": 0.6262914508348767,
          "y": 1.4341466709425237
         },
         {
          "group": "tech",
          "x": -1.361121000536571,
          "y": 0.9098655057240134
         },
         {
          "group": "tech",
          "x": -1.9606569240393084,
          "y": -0.012262387764530796
         },
         {
          "group": "tech",
          "x": -0.12001832322338458,
          "y": -2.507026730718617
         },
         {
          "group": "tech",
          "x": -1.6581954303182833,
          "y": -1.659281378652237
         },
         {
          "group": "tech",
          "x": -0.45740557690006883,
          "y": -0.8792956079462857
         },
         {
          "group": "tech",
          "x": -0.6221121851417633,
          "y": 0.6775156593044667
         },
         {
          "group": "tech",
          "x": 0.7731394100510115,
          "y": -0.2701084533943246
         },
         {
          "group": "tech",
          "x": -1.2050931549231914,
          "y": -0.058435333021838
         },
         {
          "group": "tech",
          "x": 1.6484599889963052,
          "y": 0.5666699022217202
         },
         {
          "group": "tech",
          "x": -0.9389330858760014,
          "y": -0.43729493533765657
         },
         {
          "group": "tech",
          "x": 1.1265242095754724,
          "y": 0.7150741577675692
         },
         {
          "group": "tech",
          "x": 0.07003030317955496,
          "y": -0.08249877209217825
         },
         {
          "group": "tech",
          "x": 1.4346377998422581,
          "y": -0.5796455212786675
         },
         {
          "group": "tech",
          "x": -1.6898355472806592,
          "y": 0.6625012160391508
         },
         {
          "group": "tech",
          "x": -2.4589187510667667,
          "y": -1.563130168603302
         },
         {
          "group": "tech",
          "x": 0.09098156720297172,
          "y": 2.32429621477127
         },
         {
          "group": "tech",
          "x": -0.38040514432175193,
          "y": 2.448795746585387
         },
         {
          "group": "tech",
          "x": -1.2692321344235589,
          "y": -0.257546721597063
         },
         {
          "group": "tech",
          "x": 0.7680559391168503,
          "y": -1.4450098772862054
         },
         {
          "group": "tech",
          "x": 0.440015179140595,
          "y": -2.417754292990778
         },
         {
          "group": "tech",
          "x": -1.8340012501858696,
          "y": 0.4348572012538919
         },
         {
          "group": "tech",
          "x": 0.4994138351573804,
          "y": 1.0687938769416898
         },
         {
          "group": "tech",
          "x": 0.7429831042281126,
          "y": -0.5857079533960403
         },
         {
          "group": "tech",
          "x": -2.6090068026117224,
          "y": 0.32479270642270897
         },
         {
          "group": "tech",
          "x": -0.41490838192811946,
          "y": -1.1873583628866642
         },
         {
          "group": "tech",
          "x": 1.325500174124956,
          "y": -0.24144528879418242
         },
         {
          "group": "tech",
          "x": -1.4462253403943193,
          "y": 1.5109099345125783
         },
         {
          "group": "tech",
          "x": 0.7440235734270567,
          "y": 0.8951360588278682
         },
         {
          "group": "tech",
          "x": -0.4549743500363783,
          "y": 1.9156342835121398
         },
         {
          "group": "tech",
          "x": 0.834316462068518,
          "y": -1.5195809051274178
         },
         {
          "group": "tech",
          "x": -1.0094442495770954,
          "y": -1.8450046368815622
         },
         {
          "group": "tech",
          "x": -0.10441234915130287,
          "y": -0.27315439677520525
         },
         {
          "group": "tech",
          "x": -1.3320645149362873,
          "y": -0.8170851112620819
         },
         {
          "group": "tech",
          "x": -0.898590294479438,
          "y": 0.6797572792048011
         },
         {
          "group": "tech",
          "x": -0.9516907837353148,
          "y": 0.16880186624914745
         },
         {
          "group": "tech",
          "x": -2.060650629769246,
          "y": 0.5032602981853342
         },
         {
          "group": "tech",
          "x": 1.4169610566319524,
          "y": -0.5228033556501303
         },
         {
          "group": "tech",
          "x": -0.9034322036515569,
          "y": -0.45145757836626915
         },
         {
          "group": "tech",
          "x": -0.07347877180536806,
          "y": 0.2799723014301821
         },
         {
          "group": "tech",
          "x": 0.0812020709367654,
          "y": 0.14388913755355476
         },
         {
          "group": "tech",
          "x": 0.08604005311604966,
          "y": -0.10805470134440756
         },
         {
          "group": "tech",
          "x": -1.065707775879383,
          "y": 1.0736429179412634
         },
         {
          "group": "tech",
          "x": 0.7315482038387975,
          "y": -1.543216248056464
         },
         {
          "group": "tech",
          "x": -0.3395504408616011,
          "y": 0.6336690580659753
         },
         {
          "group": "tech",
          "x": -0.681244895346949,
          "y": -0.06903168498601926
         },
         {
          "group": "tech",
          "x": -1.951862894607967,
          "y": 0.7866600413420586
         },
         {
          "group": "tech",
          "x": 1.1376494353584246,
          "y": -0.9762473402166247
         },
         {
          "group": "tech",
          "x": 0.15267258957242202,
          "y": 1.6704435893372858
         },
         {
          "group": "tech",
          "x": -0.7437154046550994,
          "y": -0.9774243725622307
         },
         {
          "group": "tech",
          "x": -0.1691966511727001,
          "y": 0.13277566277105696
         },
         {
          "group": "tech",
          "x": -0.5695360566578406,
          "y": -0.9142652935113154
         },
         {
          "group": "tech",
          "x": -1.0092559467551865,
          "y": -0.3950963394544156
         },
         {
          "group": "tech",
          "x": -0.48826900786257976,
          "y": 1.781313220886395
         },
         {
          "group": "tech",
          "x": -0.4444912457100238,
          "y": 0.062052094234535594
         },
         {
          "group": "tech",
          "x": 0.08124517001839338,
          "y": 0.3019727112079895
         },
         {
          "group": "tech",
          "x": 1.4754841213311922,
          "y": 1.0577186957571734
         },
         {
          "group": "tech",
          "x": 0.9109290992970629,
          "y": 1.562859580288445
         },
         {
          "group": "tech",
          "x": -1.8723798957333149,
          "y": -1.0199136696294053
         },
         {
          "group": "tech",
          "x": -0.6215976194541993,
          "y": 1.7372585963507081
         },
         {
          "group": "tech",
          "x": 0.8372898847860819,
          "y": -0.12005439794811651
         },
         {
          "group": "tech",
          "x": -2.100188947077163,
          "y": 1.21771032881468
         },
         {
          "group": "tech",
          "x": 0.5252525837118114,
          "y": -0.8358338059485892
         },
         {
          "group": "tech",
          "x": -1.6144983038626468,
          "y": 0.8757555690821996
         },
         {
          "group": "tech",
          "x": 0.5073095078452966,
          "y": 0.89667610178955
         },
         {
          "group": "tech",
          "x": 2.243869212066744,
          "y": 0.592816770885249
         },
         {
          "group": "tech",
          "x": -0.6335383645000541,
          "y": -0.8427768741682441
         },
         {
          "group": "tech",
          "x": -0.2636971366093233,
          "y": 0.563731210234126
         },
         {
          "group": "tech",
          "x": -0.7198873177868924,
          "y": 1.3460576956062116
         },
         {
          "group": "tech",
          "x": 0.09697939116643002,
          "y": 1.6569850995829174
         },
         {
          "group": "tech",
          "x": 0.7464106746814954,
          "y": 1.9084504212425755
         },
         {
          "group": "tech",
          "x": -0.028792896221625418,
          "y": 1.9164604343299416
         },
         {
          "group": "tech",
          "x": 0.32123037677191063,
          "y": 0.9750368680409154
         },
         {
          "group": "tech",
          "x": -0.800333573672472,
          "y": -1.8898253378358383
         },
         {
          "group": "tech",
          "x": -0.8172760804193346,
          "y": -0.3682946441775768
         },
         {
          "group": "tech",
          "x": -1.3902130311545435,
          "y": 0.7127836022489588
         },
         {
          "group": "tech",
          "x": 0.17343213793367135,
          "y": -0.04418324211452774
         },
         {
          "group": "tech",
          "x": -1.2741732047084833,
          "y": 1.0644322351725541
         },
         {
          "group": "tech",
          "x": 1.9947714822655507,
          "y": -2.372664995951076
         },
         {
          "group": "tech",
          "x": -1.0366003674153417,
          "y": -0.9338037519788487
         },
         {
          "group": "tech",
          "x": 1.1865006137444054,
          "y": 0.22367115071290342
         },
         {
          "group": "tech",
          "x": -0.15388035230188668,
          "y": -0.3162046413025597
         },
         {
          "group": "tech",
          "x": 0.31682282086479197,
          "y": -2.4830334285147124
         },
         {
          "group": "tech",
          "x": 1.6242184162482374,
          "y": -0.7432124913977451
         },
         {
          "group": "tech",
          "x": -1.1165394479897397,
          "y": 1.2391795316993417
         },
         {
          "group": "tech",
          "x": -1.4653663865438258,
          "y": 1.6149147136638748
         },
         {
          "group": "tech",
          "x": -0.6549191707333102,
          "y": 0.9945448332388686
         },
         {
          "group": "tech",
          "x": 0.43302733095907875,
          "y": 1.6972826003527186
         },
         {
          "group": "tech",
          "x": 0.8392147679973463,
          "y": 0.5760370332302445
         },
         {
          "group": "tech",
          "x": 1.8636772798072556,
          "y": 2.329457588132113
         },
         {
          "group": "tech",
          "x": -0.3120216392840723,
          "y": -1.4379886221179181
         },
         {
          "group": "tech",
          "x": -1.7146660803574683,
          "y": -0.12672127286600662
         },
         {
          "group": "tech",
          "x": -1.1566326488080898,
          "y": 0.09742586196915703
         },
         {
          "group": "tech",
          "x": -0.10864852255802307,
          "y": -0.9224688999386725
         },
         {
          "group": "tech",
          "x": -0.7780609726513936,
          "y": -0.41631757843747996
         },
         {
          "group": "tech",
          "x": -0.24750885293683367,
          "y": 0.6026488014806705
         },
         {
          "group": "tech",
          "x": -2.0975379499839675,
          "y": 0.7889689559591553
         },
         {
          "group": "tech",
          "x": -1.3964855109768128,
          "y": -0.5404441590557958
         },
         {
          "group": "tech",
          "x": -1.1944459150958369,
          "y": -0.7539205194088199
         },
         {
          "group": "tech",
          "x": -0.6802612018828287,
          "y": -1.0253519602075747
         },
         {
          "group": "tech",
          "x": -1.5277463686737007,
          "y": 1.4535110395685824
         },
         {
          "group": "tech",
          "x": -0.3049859786438463,
          "y": -2.2820477383154216
         },
         {
          "group": "tech",
          "x": -0.3970791377795582,
          "y": -2.142797550295488
         },
         {
          "group": "tech",
          "x": 0.36528327192449495,
          "y": -2.193149589284347
         },
         {
          "group": "tech",
          "x": -1.8054543150225035,
          "y": -0.8691963776533875
         },
         {
          "group": "tech",
          "x": -0.07472732458340464,
          "y": 0.8687364915690169
         },
         {
          "group": "tech",
          "x": 1.0371754976213816,
          "y": -0.08932060368895763
         },
         {
          "group": "tech",
          "x": -1.5847343997707153,
          "y": -0.39503039631787296
         },
         {
          "group": "tech",
          "x": -1.6698912690467118,
          "y": -0.3899459312640919
         },
         {
          "group": "tech",
          "x": 0.3702524234305214,
          "y": -0.3880315895289631
         },
         {
          "group": "tech",
          "x": -0.018341425739251592,
          "y": 0.9950076707724359
         },
         {
          "group": "tech",
          "x": -0.5883160310640484,
          "y": -0.03246828675425692
         },
         {
          "group": "tech",
          "x": -1.4330823072646985,
          "y": 0.3885513585557495
         },
         {
          "group": "tech",
          "x": -2.6152304731325318,
          "y": -1.716048840039624
         },
         {
          "group": "tech",
          "x": -1.3270739726452283,
          "y": 0.0008165543519271272
         },
         {
          "group": "tech",
          "x": -1.0586350116080352,
          "y": 0.16995331017987472
         },
         {
          "group": "tech",
          "x": -0.21211255200899093,
          "y": 0.22190364685559033
         },
         {
          "group": "tech",
          "x": -3.048767457477503,
          "y": -0.49599382895919214
         },
         {
          "group": "tech",
          "x": 0.04699856167213229,
          "y": 0.9084758657890768
         },
         {
          "group": "tech",
          "x": 0.8881431705099786,
          "y": -0.2093267097676001
         },
         {
          "group": "tech",
          "x": -0.5678099789469174,
          "y": 0.8295440092423417
         },
         {
          "group": "tech",
          "x": -1.9710136729203425,
          "y": -1.6210647038002943
         },
         {
          "group": "tech",
          "x": 0.8842868987822033,
          "y": -2.331608131479206
         },
         {
          "group": "tech",
          "x": 0.23115125425162883,
          "y": 1.348194951548176
         },
         {
          "group": "tech",
          "x": 0.574193710154296,
          "y": -3.555071245328074
         },
         {
          "group": "tech",
          "x": -0.5248480200478043,
          "y": -0.2001635746161288
         },
         {
          "group": "tech",
          "x": -0.5605655913192212,
          "y": -1.23731899622815
         },
         {
          "group": "tech",
          "x": -0.6509754689416447,
          "y": 0.27070580261356286
         },
         {
          "group": "tech",
          "x": -1.0045456081770474,
          "y": -0.12800340601578042
         },
         {
          "group": "tech",
          "x": 1.7844664349856878,
          "y": 0.004923491726797167
         },
         {
          "group": "tech",
          "x": -1.20558342417683,
          "y": -2.001838032328766
         },
         {
          "group": "tech",
          "x": 0.41983828447332405,
          "y": -1.1870055015527334
         },
         {
          "group": "tech",
          "x": -1.5092028373207003,
          "y": 0.6598819449573161
         },
         {
          "group": "tech",
          "x": -0.14756123361236528,
          "y": -1.2728479591301851
         },
         {
          "group": "tech",
          "x": -0.9979106007439565,
          "y": 0.06943905740572513
         },
         {
          "group": "tech",
          "x": -0.052580140190418,
          "y": -0.001912989666098806
         },
         {
          "group": "tech",
          "x": -0.013534201199730046,
          "y": -1.421267340895468
         },
         {
          "group": "tech",
          "x": -0.7276898321733878,
          "y": 0.6414765499213771
         },
         {
          "group": "tech",
          "x": 0.061299951073564986,
          "y": -1.697386352710982
         },
         {
          "group": "tech",
          "x": 2.043718264491166,
          "y": -2.391007038624739
         },
         {
          "group": "tech",
          "x": -1.3149926951424558,
          "y": 0.24940439530458994
         },
         {
          "group": "tech",
          "x": -0.4451736416794671,
          "y": -0.3086823531028299
         },
         {
          "group": "tech",
          "x": 1.2417228354927345,
          "y": -1.1070699158419763
         },
         {
          "group": "tech",
          "x": -0.9740272232867598,
          "y": -0.3483201594548083
         },
         {
          "group": "tech",
          "x": -1.8921492329466572,
          "y": -0.8711424105689906
         },
         {
          "group": "tech",
          "x": -0.7419730155655092,
          "y": 0.21096743644535268
         },
         {
          "group": "tech",
          "x": -0.8114082784525379,
          "y": 0.6059185109269005
         },
         {
          "group": "tech",
          "x": -1.0028792760514302,
          "y": -1.036049525956297
         },
         {
          "group": "tech",
          "x": -0.5509002418159124,
          "y": 0.5626358096581829
         },
         {
          "group": "tech",
          "x": 0.3986763263636221,
          "y": 1.5944109135799371
         },
         {
          "group": "tech",
          "x": -2.73422375179085,
          "y": 1.409972037057063
         },
         {
          "group": "tech",
          "x": 0.016759692067071792,
          "y": 0.7372588536541573
         },
         {
          "group": "tech",
          "x": -2.334351633647856,
          "y": 0.18499980497759136
         },
         {
          "group": "tech",
          "x": -0.31458750469283653,
          "y": 0.46275093540956136
         },
         {
          "group": "tech",
          "x": 0.0915326039668976,
          "y": -1.7420561414064826
         },
         {
          "group": "tech",
          "x": 0.34986261479028685,
          "y": 1.266630369667477
         },
         {
          "group": "tech",
          "x": 0.4409209463681948,
          "y": 0.9226671976328735
         },
         {
          "group": "tech",
          "x": 0.8325992173408178,
          "y": 0.8403629715106097
         },
         {
          "group": "tech",
          "x": 2.2911100790921264,
          "y": -0.726941183371117
         },
         {
          "group": "tech",
          "x": -2.2368835238967906,
          "y": 0.020066375823179695
         },
         {
          "group": "tech",
          "x": -0.1767342642009704,
          "y": -1.3868064188443072
         },
         {
          "group": "tech",
          "x": 0.8287637975698963,
          "y": 1.3672065886989797
         },
         {
          "group": "tech",
          "x": 1.579411287636437,
          "y": 1.5248500958329936
         },
         {
          "group": "tech",
          "x": 0.5661193457981016,
          "y": 0.15906660768790792
         },
         {
          "group": "tech",
          "x": -1.1931368913077784,
          "y": -0.36736158072272224
         },
         {
          "group": "tech",
          "x": 0.28985121370628075,
          "y": 0.12249949557453568
         },
         {
          "group": "tech",
          "x": -2.9946450073633275,
          "y": 1.2831941786026115
         },
         {
          "group": "tech",
          "x": 0.22443203969301836,
          "y": -0.10895048083229708
         },
         {
          "group": "tech",
          "x": -0.44605839049217405,
          "y": 0.9764733074519578
         },
         {
          "group": "tech",
          "x": -0.7105729065376691,
          "y": -0.6239107977000387
         },
         {
          "group": "tech",
          "x": -1.0297390790579903,
          "y": -1.8163178469047576
         },
         {
          "group": "tech",
          "x": -1.390008235966497,
          "y": -0.7635760903345702
         },
         {
          "group": "tech",
          "x": -0.6908327666626958,
          "y": 0.1951396758345725
         },
         {
          "group": "tech",
          "x": 2.4092543684756564,
          "y": 0.4127763279523257
         },
         {
          "group": "tech",
          "x": 0.4317632214213453,
          "y": -1.8698498026754264
         },
         {
          "group": "tech",
          "x": -1.2845909710605206,
          "y": -0.904240617926033
         },
         {
          "group": "tech",
          "x": -0.26821369046300664,
          "y": 0.18890230073717987
         },
         {
          "group": "tech",
          "x": 0.015264337491088444,
          "y": -2.8637719296338617
         },
         {
          "group": "tech",
          "x": -0.2981001390611947,
          "y": -0.5080266524197821
         },
         {
          "group": "tech",
          "x": 0.9567482908415137,
          "y": -0.39714480343859415
         },
         {
          "group": "tech",
          "x": 0.41442403787621107,
          "y": 0.5834295692917787
         },
         {
          "group": "tech",
          "x": 0.7551247582831085,
          "y": -1.5345093159198702
         },
         {
          "group": "tech",
          "x": 0.06755808417501907,
          "y": 1.3900937049076354
         },
         {
          "group": "tech",
          "x": 0.1773354544816789,
          "y": -1.3764568778522
         },
         {
          "group": "tech",
          "x": 0.16466143432588773,
          "y": -0.13931856939776843
         },
         {
          "group": "tech",
          "x": -1.8659842466056202,
          "y": 1.5468564194863952
         },
         {
          "group": "tech",
          "x": 0.11961993915358689,
          "y": -1.3353842584901523
         },
         {
          "group": "tech",
          "x": 0.27119319736141645,
          "y": 1.335047619819857
         },
         {
          "group": "tech",
          "x": -1.4578657513616482,
          "y": 1.0771102486329032
         },
         {
          "group": "tech",
          "x": -2.0244658289963247,
          "y": 0.21150916011984341
         },
         {
          "group": "tech",
          "x": 2.4363766099263895,
          "y": -2.181866224223138
         },
         {
          "group": "tech",
          "x": 0.2069259317906533,
          "y": -0.08368589219564293
         },
         {
          "group": "tech",
          "x": -2.6677647597956016,
          "y": 0.21416110334080582
         },
         {
          "group": "tech",
          "x": -2.694077302325669,
          "y": 0.10526518483211378
         },
         {
          "group": "tech",
          "x": 1.7165774050663647,
          "y": -1.4924448563519448
         },
         {
          "group": "tech",
          "x": 0.20496547683558275,
          "y": -1.4186518029047457
         },
         {
          "group": "tech",
          "x": -0.9033400254770333,
          "y": -0.008474378633777325
         },
         {
          "group": "tech",
          "x": -2.047263683927988,
          "y": -0.18406708157007562
         },
         {
          "group": "tech",
          "x": 0.6249772209308692,
          "y": 1.4588738930071938
         },
         {
          "group": "tech",
          "x": -0.3104385629614213,
          "y": 0.8330025118156903
         },
         {
          "group": "tech",
          "x": -0.586027848224952,
          "y": -0.49380651579382295
         },
         {
          "group": "tech",
          "x": -0.39844142340784644,
          "y": 1.8912464110837124
         },
         {
          "group": "tech",
          "x": -0.03972485889522014,
          "y": 0.37711915198288726
         },
         {
          "group": "tech",
          "x": 0.43074599867994084,
          "y": -0.4806196506581747
         },
         {
          "group": "tech",
          "x": -1.6377524201443248,
          "y": 0.3234196333537049
         },
         {
          "group": "tech",
          "x": 0.41875894265006514,
          "y": 0.2827503881711636
         },
         {
          "group": "tech",
          "x": -0.927897025716488,
          "y": -0.8177914180895276
         },
         {
          "group": "tech",
          "x": -0.10756267360720347,
          "y": 0.9894494617213437
         },
         {
          "group": "tech",
          "x": 0.6705333191464325,
          "y": 0.37069149181068967
         },
         {
          "group": "tech",
          "x": -1.1644440111258276,
          "y": 1.1006722434550986
         },
         {
          "group": "tech",
          "x": -0.7966068857230301,
          "y": 0.9025488430335188
         },
         {
          "group": "tech",
          "x": -0.13514998126473932,
          "y": 0.37371693976403736
         },
         {
          "group": "tech",
          "x": 0.16062732509456354,
          "y": -1.073101798812187
         },
         {
          "group": "tech",
          "x": -0.20240717624759683,
          "y": -0.20189701537945712
         },
         {
          "group": "tech",
          "x": -2.7592033001466487,
          "y": 0.07628863960624997
         },
         {
          "group": "tech",
          "x": 1.893501662715076,
          "y": 1.0170905083677748
         },
         {
          "group": "tech",
          "x": -1.542105044808672,
          "y": 0.8124104652884505
         },
         {
          "group": "tech",
          "x": -2.1832515848773006,
          "y": -1.5176128076586919
         },
         {
          "group": "tech",
          "x": -0.12872317434380154,
          "y": 0.10116760781950442
         },
         {
          "group": "tech",
          "x": -1.4810985050758145,
          "y": 0.03149607652351412
         },
         {
          "group": "tech",
          "x": 0.3812769598700328,
          "y": 0.4171467573701124
         },
         {
          "group": "tech",
          "x": -0.5217123746918663,
          "y": -0.0670089005023238
         },
         {
          "group": "tech",
          "x": 1.1916115970282575,
          "y": 0.1978417316641377
         },
         {
          "group": "tech",
          "x": -0.5451432812026741,
          "y": 1.2337785798605305
         },
         {
          "group": "tech",
          "x": 0.17144982125745298,
          "y": 1.8202744387619703
         },
         {
          "group": "tech",
          "x": -2.773997218026173,
          "y": -0.9503144801235628
         },
         {
          "group": "tech",
          "x": -0.6312158752388539,
          "y": -0.9744234636594673
         },
         {
          "group": "tech",
          "x": -0.7174623526093882,
          "y": 0.5219038263518369
         },
         {
          "group": "tech",
          "x": -0.7179989798856112,
          "y": -1.4018053935036812
         },
         {
          "group": "tech",
          "x": 0.2819080905598186,
          "y": -2.027198051169509
         },
         {
          "group": "tech",
          "x": 2.2546464957289736,
          "y": 0.9289387347800109
         },
         {
          "group": "tech",
          "x": -1.3238977941821826,
          "y": -0.3724117420147376
         },
         {
          "group": "tech",
          "x": -0.7645195980128907,
          "y": 1.2681185533989134
         },
         {
          "group": "tech",
          "x": 1.0545513949785688,
          "y": 1.5211536581327152
         },
         {
          "group": "tech",
          "x": -0.4904810335545955,
          "y": 0.23131185942997248
         },
         {
          "group": "tech",
          "x": -0.7318494836110798,
          "y": 0.03754105712988463
         },
         {
          "group": "tech",
          "x": 0.6208704345898417,
          "y": 0.9795147673939588
         },
         {
          "group": "tech",
          "x": 0.15826343736534126,
          "y": 2.587496238803127
         },
         {
          "group": "tech",
          "x": 0.18889638956054888,
          "y": 1.0045878058158326
         },
         {
          "group": "tech",
          "x": -0.48945728933957716,
          "y": -0.5603591535180064
         },
         {
          "group": "tech",
          "x": -0.16782232295325772,
          "y": 1.7727842997184353
         },
         {
          "group": "tech",
          "x": -0.2087223244003717,
          "y": -0.470337919025744
         },
         {
          "group": "tech",
          "x": 0.7286131244133164,
          "y": 1.8320191235505727
         },
         {
          "group": "tech",
          "x": 1.6510032292187105,
          "y": -0.06118090104451734
         },
         {
          "group": "tech",
          "x": -0.8910104033277131,
          "y": -1.514007759426011
         },
         {
          "group": "tech",
          "x": -0.08698673858913973,
          "y": -0.6207313251354583
         },
         {
          "group": "tech",
          "x": -1.6051225349469367,
          "y": 0.7068722686845932
         },
         {
          "group": "tech",
          "x": 0.8630376282176921,
          "y": 1.0864805175386918
         },
         {
          "group": "tech",
          "x": -0.9796278558375041,
          "y": 2.4418339409660907
         },
         {
          "group": "tech",
          "x": -0.4033577568948836,
          "y": 0.7319838085982884
         },
         {
          "group": "tech",
          "x": -0.0923270524637366,
          "y": 0.9031193260068903
         },
         {
          "group": "tech",
          "x": -1.8557809817916184,
          "y": -0.9289102131749944
         },
         {
          "group": "tech",
          "x": 0.7489510239079736,
          "y": -0.5979480893657132
         },
         {
          "group": "tech",
          "x": -0.40756975089438424,
          "y": 2.3027135474187554
         },
         {
          "group": "tech",
          "x": -0.7491712790245522,
          "y": -0.8086773869469855
         },
         {
          "group": "tech",
          "x": -2.4531767957149295,
          "y": -0.5641716749516464
         },
         {
          "group": "tech",
          "x": 0.26716734646315266,
          "y": -3.155066523295441
         },
         {
          "group": "tech",
          "x": -0.9752590818585338,
          "y": -1.2943858368188983
         },
         {
          "group": "tech",
          "x": 0.21290477411425696,
          "y": 0.9899350152856727
         },
         {
          "group": "tech",
          "x": 0.41940714134943624,
          "y": -1.0513954222702282
         },
         {
          "group": "tech",
          "x": 0.24466244161888973,
          "y": 1.0962493763011742
         },
         {
          "group": "tech",
          "x": 0.058024008736177586,
          "y": -1.5907788275462278
         },
         {
          "group": "tech",
          "x": 1.0119328208316045,
          "y": -0.12183801730428302
         },
         {
          "group": "tech",
          "x": -1.2893813700187997,
          "y": 0.24837058070286475
         },
         {
          "group": "tech",
          "x": -0.12056711711380093,
          "y": 1.0962852337387339
         },
         {
          "group": "tech",
          "x": 0.9941092311664337,
          "y": -3.517127604799388
         },
         {
          "group": "tech",
          "x": -0.9054342084943877,
          "y": -0.9476398403947635
         },
         {
          "group": "tech",
          "x": -1.4019133183393304,
          "y": -0.12323543140883267
         },
         {
          "group": "tech",
          "x": -0.5747818945684263,
          "y": -2.9134096284309203
         },
         {
          "group": "tech",
          "x": 1.1662451988018903,
          "y": -0.11391167951269777
         },
         {
          "group": "tech",
          "x": -0.8163787163098266,
          "y": -0.5424932606740563
         },
         {
          "group": "tech",
          "x": 0.6167282835219353,
          "y": -1.0380396948672546
         },
         {
          "group": "tech",
          "x": 0.14081613829650017,
          "y": 3.6955542122075022
         },
         {
          "group": "tech",
          "x": -0.9205651242159222,
          "y": 1.4981723705498433
         },
         {
          "group": "tech",
          "x": -0.14855511339697255,
          "y": -2.5232415033221507
         },
         {
          "group": "tech",
          "x": -0.3196373350232224,
          "y": -2.5486445040496055
         },
         {
          "group": "tech",
          "x": 0.8908692147666006,
          "y": 0.24486157885125925
         },
         {
          "group": "tech",
          "x": -0.2050466597026836,
          "y": -1.0815126260470633
         },
         {
          "group": "tech",
          "x": -0.36669809462388386,
          "y": -0.10784895734710073
         },
         {
          "group": "tech",
          "x": 1.6306234185590802,
          "y": 1.5775865481376343
         },
         {
          "group": "tech",
          "x": 1.560512625025879,
          "y": -0.1987249484648857
         },
         {
          "group": "tech",
          "x": -1.7170599715055102,
          "y": -0.5007621838691348
         },
         {
          "group": "tech",
          "x": -0.5750086586369882,
          "y": 0.285000892787811
         },
         {
          "group": "entertainment",
          "x": -0.5715014713596113,
          "y": -0.7688074546292029
         },
         {
          "group": "entertainment",
          "x": -0.9624413579589454,
          "y": 1.0071214197645568
         },
         {
          "group": "entertainment",
          "x": 0.3743376536109616,
          "y": 0.3578382336135372
         },
         {
          "group": "entertainment",
          "x": -1.3834107250041365,
          "y": 3.5665411968708143
         },
         {
          "group": "entertainment",
          "x": 0.5164919878179527,
          "y": -0.29935557598032464
         },
         {
          "group": "entertainment",
          "x": 0.797695415545747,
          "y": 0.6146605565932087
         },
         {
          "group": "entertainment",
          "x": -1.1526115180493393,
          "y": 2.5390046580853225
         },
         {
          "group": "entertainment",
          "x": -2.3240601858993912,
          "y": -0.2831356915275358
         },
         {
          "group": "entertainment",
          "x": -0.6074567034052216,
          "y": -0.5805368962119681
         },
         {
          "group": "entertainment",
          "x": -1.4851195214165733,
          "y": -1.2800484131589311
         },
         {
          "group": "entertainment",
          "x": -0.5814979095657203,
          "y": 0.12584644310050547
         },
         {
          "group": "entertainment",
          "x": 0.06783755555491133,
          "y": -0.4961316821137643
         },
         {
          "group": "entertainment",
          "x": -0.7381380733094375,
          "y": 0.011724167180296678
         },
         {
          "group": "entertainment",
          "x": -0.31419519834630677,
          "y": 0.3767202941423154
         },
         {
          "group": "entertainment",
          "x": -0.922592249339961,
          "y": 1.3087130027535394
         },
         {
          "group": "entertainment",
          "x": 0.07783528760710087,
          "y": 0.7540014010734051
         },
         {
          "group": "entertainment",
          "x": 0.32986165656779914,
          "y": -1.7672134531042576
         },
         {
          "group": "entertainment",
          "x": 0.608418638791033,
          "y": 0.37285764382987124
         },
         {
          "group": "entertainment",
          "x": -0.08545425522780815,
          "y": -1.0333922951245693
         },
         {
          "group": "entertainment",
          "x": 0.7816331157821848,
          "y": 0.4239922340475602
         },
         {
          "group": "entertainment",
          "x": 1.2909352388498168,
          "y": 0.6314997954817483
         },
         {
          "group": "entertainment",
          "x": -1.8590849694419824,
          "y": -0.4415460565319094
         },
         {
          "group": "entertainment",
          "x": -0.009690934241734674,
          "y": 1.9042149058714284
         },
         {
          "group": "entertainment",
          "x": -0.999705787924205,
          "y": 0.7859608831685005
         },
         {
          "group": "entertainment",
          "x": -0.7381842033420181,
          "y": 3.1811271531938683
         },
         {
          "group": "entertainment",
          "x": -0.5722036783254152,
          "y": -2.4065730338834617
         },
         {
          "group": "entertainment",
          "x": 0.296915188469068,
          "y": 0.06635877223821231
         },
         {
          "group": "entertainment",
          "x": 0.015583368766556069,
          "y": 0.6511996253462821
         },
         {
          "group": "entertainment",
          "x": 0.12807767825608282,
          "y": -1.4394110151470232
         },
         {
          "group": "entertainment",
          "x": -1.9120215004714827,
          "y": -0.19845784952066678
         },
         {
          "group": "entertainment",
          "x": -2.012588097218873,
          "y": 1.857171213890458
         },
         {
          "group": "entertainment",
          "x": 1.013619285581066,
          "y": 0.12022900494892134
         },
         {
          "group": "entertainment",
          "x": 0.22126825824074664,
          "y": 0.8014112167835702
         },
         {
          "group": "entertainment",
          "x": -0.7579389722356477,
          "y": -1.2397983515755873
         },
         {
          "group": "entertainment",
          "x": -0.10378590516704739,
          "y": -0.45711170538534246
         },
         {
          "group": "entertainment",
          "x": -1.7555048519822083,
          "y": 0.9324685433517144
         },
         {
          "group": "entertainment",
          "x": 0.5629052512910115,
          "y": -2.2891652207240996
         },
         {
          "group": "entertainment",
          "x": -1.1486233675494488,
          "y": -2.95703971652209
         },
         {
          "group": "entertainment",
          "x": -0.46268623256749924,
          "y": -2.9731052960620286
         },
         {
          "group": "entertainment",
          "x": 1.0480682925935763,
          "y": -0.6332752148794102
         },
         {
          "group": "entertainment",
          "x": 0.3427772608309896,
          "y": -0.9830733254920059
         },
         {
          "group": "entertainment",
          "x": 0.5514851373081953,
          "y": 1.348170252846111
         },
         {
          "group": "entertainment",
          "x": -0.8357380167183379,
          "y": 0.3578197440799456
         },
         {
          "group": "entertainment",
          "x": -0.6888743379459786,
          "y": -1.1587271565504131
         },
         {
          "group": "entertainment",
          "x": 0.19800269550235924,
          "y": -0.532029806376195
         },
         {
          "group": "entertainment",
          "x": -0.19950987319260452,
          "y": 0.5967140533060682
         },
         {
          "group": "entertainment",
          "x": -0.6889963720496599,
          "y": 1.2949704311019223
         },
         {
          "group": "entertainment",
          "x": -0.5539942166721992,
          "y": 0.11071315177947182
         },
         {
          "group": "entertainment",
          "x": -0.3960281378772681,
          "y": -1.9684363795816766
         },
         {
          "group": "entertainment",
          "x": -0.6877990497289325,
          "y": -2.622025219024301
         },
         {
          "group": "entertainment",
          "x": 0.05048807203954345,
          "y": 0.3260206899928992
         },
         {
          "group": "entertainment",
          "x": 1.009173379578325,
          "y": 1.3447903994866806
         },
         {
          "group": "entertainment",
          "x": 0.9357085733753284,
          "y": 0.9373657942014455
         },
         {
          "group": "entertainment",
          "x": 1.868387323244787,
          "y": -0.9653914827953752
         },
         {
          "group": "entertainment",
          "x": 0.6676020910778634,
          "y": -1.4299728394108568
         },
         {
          "group": "entertainment",
          "x": 0.32603456996433144,
          "y": -0.4532780726658096
         },
         {
          "group": "entertainment",
          "x": 0.27972648639949044,
          "y": 0.5508213323313215
         },
         {
          "group": "entertainment",
          "x": 1.1828244553093146,
          "y": 2.0306272780085366
         },
         {
          "group": "entertainment",
          "x": -1.4387934535340128,
          "y": 0.3395997917190619
         },
         {
          "group": "entertainment",
          "x": -1.063192704200758,
          "y": -0.9992341975759726
         },
         {
          "group": "entertainment",
          "x": -0.7765111365380922,
          "y": -0.5001201598916618
         },
         {
          "group": "entertainment",
          "x": -0.8083417756008893,
          "y": 0.13994369082070113
         },
         {
          "group": "entertainment",
          "x": 0.1410357446514353,
          "y": -1.0027178611628789
         },
         {
          "group": "entertainment",
          "x": -0.2773332832075941,
          "y": 0.31701105020294923
         },
         {
          "group": "entertainment",
          "x": -1.427560608385614,
          "y": 1.8970616277951309
         },
         {
          "group": "entertainment",
          "x": -2.4044253970078175,
          "y": 0.7802704308850402
         },
         {
          "group": "entertainment",
          "x": 0.5902032631156455,
          "y": -0.2582401700415607
         },
         {
          "group": "entertainment",
          "x": -1.0354518629121714,
          "y": -0.5018035625082191
         },
         {
          "group": "entertainment",
          "x": 0.21086060046812705,
          "y": -0.17504667353334416
         },
         {
          "group": "entertainment",
          "x": -1.0389667519787569,
          "y": 1.0067176630032
         },
         {
          "group": "entertainment",
          "x": 1.7549304016550649,
          "y": -0.4602934166263305
         },
         {
          "group": "entertainment",
          "x": 0.48331491910391283,
          "y": 1.6407802986422442
         },
         {
          "group": "entertainment",
          "x": 1.2380061515328216,
          "y": 0.46218650368418307
         },
         {
          "group": "entertainment",
          "x": 0.4306137586124647,
          "y": -0.4353206217941373
         },
         {
          "group": "entertainment",
          "x": 0.8079125300105429,
          "y": -0.24737586698945943
         },
         {
          "group": "entertainment",
          "x": 0.03460779954315694,
          "y": -1.3846141908751064
         },
         {
          "group": "entertainment",
          "x": -1.0372433889930908,
          "y": -0.20032840479455932
         },
         {
          "group": "entertainment",
          "x": 0.7822751949541451,
          "y": 0.7532885291112349
         },
         {
          "group": "entertainment",
          "x": -0.3956939546464083,
          "y": -1.0932808190035928
         },
         {
          "group": "entertainment",
          "x": -0.20871076191776441,
          "y": -0.23533291561336334
         },
         {
          "group": "entertainment",
          "x": 0.6821381855756142,
          "y": 0.2736588805209498
         },
         {
          "group": "entertainment",
          "x": -1.67605139159011,
          "y": 1.066215293321513
         },
         {
          "group": "entertainment",
          "x": 0.4444153499222886,
          "y": -0.3393400021343144
         },
         {
          "group": "entertainment",
          "x": 0.0007493998058514192,
          "y": 0.05378036303362436
         },
         {
          "group": "entertainment",
          "x": -1.8924514045669256,
          "y": 0.8783449745091788
         },
         {
          "group": "entertainment",
          "x": -0.38718539066355806,
          "y": -0.29483774821431147
         },
         {
          "group": "entertainment",
          "x": 0.604995765140075,
          "y": -0.06633623183179051
         },
         {
          "group": "entertainment",
          "x": 1.232922410139122,
          "y": -0.930286610446919
         },
         {
          "group": "entertainment",
          "x": 1.166963043527934,
          "y": 0.8524561064567725
         },
         {
          "group": "entertainment",
          "x": -1.249744112970178,
          "y": -0.48728001387659986
         },
         {
          "group": "entertainment",
          "x": 0.35767597983805666,
          "y": -0.7077155415862568
         },
         {
          "group": "entertainment",
          "x": 0.7368106148331716,
          "y": 1.5794605255917042
         },
         {
          "group": "entertainment",
          "x": 1.7494479809378694,
          "y": 1.0833810893957216
         },
         {
          "group": "entertainment",
          "x": 0.15891154090008053,
          "y": -0.25446440205496984
         },
         {
          "group": "entertainment",
          "x": -0.9379470603349833,
          "y": -2.2232690364425003
         },
         {
          "group": "entertainment",
          "x": 0.6263405775129162,
          "y": -2.0514262566366837
         },
         {
          "group": "entertainment",
          "x": 0.40226989532289514,
          "y": -0.45554985795335207
         },
         {
          "group": "entertainment",
          "x": 0.21626632104828958,
          "y": 0.9168440246614086
         },
         {
          "group": "entertainment",
          "x": -0.5358488475665417,
          "y": -2.4828653472462987
         },
         {
          "group": "entertainment",
          "x": -0.674491514613753,
          "y": 1.020190573107408
         },
         {
          "group": "entertainment",
          "x": -0.7347377473112524,
          "y": -1.3903934094353003
         },
         {
          "group": "entertainment",
          "x": 0.1617613355404318,
          "y": -2.4444524349308554
         },
         {
          "group": "entertainment",
          "x": 0.25113935538880766,
          "y": 0.041265756315884375
         },
         {
          "group": "entertainment",
          "x": -1.1037072081077568,
          "y": -0.9848773733550229
         },
         {
          "group": "entertainment",
          "x": -3.6391078711784215,
          "y": 0.7728156559456456
         },
         {
          "group": "entertainment",
          "x": 1.1031775751818222,
          "y": -0.4472683579185393
         },
         {
          "group": "entertainment",
          "x": 0.42383438307529203,
          "y": -0.588038377495862
         },
         {
          "group": "entertainment",
          "x": -0.9742276839257286,
          "y": 0.31617485675944473
         },
         {
          "group": "entertainment",
          "x": 0.5683472326107899,
          "y": 1.0173528824219857
         },
         {
          "group": "entertainment",
          "x": 0.906896481316148,
          "y": -1.7153216854561233
         },
         {
          "group": "entertainment",
          "x": -0.9994159592686506,
          "y": -0.00507323646628621
         },
         {
          "group": "entertainment",
          "x": 0.5475612585724997,
          "y": -0.1838445578951153
         },
         {
          "group": "entertainment",
          "x": -0.741523618389911,
          "y": 0.2685111190747067
         },
         {
          "group": "entertainment",
          "x": 0.4601163180748201,
          "y": 0.3472965737764911
         },
         {
          "group": "entertainment",
          "x": 1.3417155249931563,
          "y": -1.5600057282171174
         },
         {
          "group": "entertainment",
          "x": 0.15181238520784937,
          "y": 0.06850152315242772
         },
         {
          "group": "entertainment",
          "x": 0.18900470572741004,
          "y": -0.23726398887061304
         },
         {
          "group": "entertainment",
          "x": 0.3244156832347298,
          "y": -1.9294134370540126
         },
         {
          "group": "entertainment",
          "x": -2.800165253534209,
          "y": -1.6884557053143823
         },
         {
          "group": "entertainment",
          "x": 1.3568620564610177,
          "y": 1.090303849675992
         },
         {
          "group": "entertainment",
          "x": 0.08809505750130092,
          "y": -0.5134538576546301
         },
         {
          "group": "entertainment",
          "x": 1.6117627163011208,
          "y": 0.12045786882350387
         },
         {
          "group": "entertainment",
          "x": -2.0545207754925867,
          "y": -0.06943743767695262
         },
         {
          "group": "entertainment",
          "x": -1.8492559141288472,
          "y": -2.0559323704211425
         },
         {
          "group": "entertainment",
          "x": -0.6525812938574803,
          "y": -0.6134828506693658
         },
         {
          "group": "entertainment",
          "x": 0.22022744293319238,
          "y": 0.9142599131770426
         },
         {
          "group": "entertainment",
          "x": -1.7803775692215067,
          "y": 0.4860599884887443
         },
         {
          "group": "entertainment",
          "x": 1.8492913681467713,
          "y": -0.3065970105100624
         },
         {
          "group": "entertainment",
          "x": 0.00022766742245680297,
          "y": 0.13062846017977675
         },
         {
          "group": "entertainment",
          "x": 0.7884145723629492,
          "y": -0.6932540317898894
         },
         {
          "group": "entertainment",
          "x": -0.8632375179818251,
          "y": 0.5691249989089338
         },
         {
          "group": "entertainment",
          "x": -0.023047326292095435,
          "y": 0.23262954770112673
         },
         {
          "group": "entertainment",
          "x": 0.09615035354350217,
          "y": -0.9032478913723921
         },
         {
          "group": "entertainment",
          "x": -2.5043433486388795,
          "y": -0.4508165787652933
         },
         {
          "group": "entertainment",
          "x": -1.3430663230084097,
          "y": -0.9336611941095385
         },
         {
          "group": "entertainment",
          "x": -1.994880982563087,
          "y": 0.25686681472295836
         },
         {
          "group": "entertainment",
          "x": -0.7891208688664562,
          "y": 0.9759028987534938
         },
         {
          "group": "entertainment",
          "x": -1.501240922744991,
          "y": -1.8813959370277589
         },
         {
          "group": "entertainment",
          "x": -0.5527415448768535,
          "y": 0.7328226236352094
         },
         {
          "group": "entertainment",
          "x": 1.0967041516117386,
          "y": 2.4322530602906274
         },
         {
          "group": "entertainment",
          "x": -0.9452376916772498,
          "y": 1.3670153430154282
         },
         {
          "group": "entertainment",
          "x": 0.5334209378996597,
          "y": -0.08243496318309207
         },
         {
          "group": "entertainment",
          "x": -2.1144567230185833,
          "y": 0.43806172050817893
         },
         {
          "group": "entertainment",
          "x": 0.13368440329820752,
          "y": 0.5665089009602743
         },
         {
          "group": "entertainment",
          "x": 0.4849738004075847,
          "y": 1.4704702401771044
         },
         {
          "group": "entertainment",
          "x": -2.5314588224541046,
          "y": -2.7032664632273566
         },
         {
          "group": "entertainment",
          "x": -0.19864052404144686,
          "y": -1.0975466999021308
         },
         {
          "group": "entertainment",
          "x": 1.230807221200903,
          "y": -2.660521561607124
         },
         {
          "group": "entertainment",
          "x": -0.716599409117268,
          "y": 1.1438293430418918
         },
         {
          "group": "entertainment",
          "x": 2.425418563616893,
          "y": 0.6069880917599664
         },
         {
          "group": "entertainment",
          "x": 1.1408592649627305,
          "y": -0.2600649960531391
         },
         {
          "group": "entertainment",
          "x": -0.8850109603695835,
          "y": 1.3652231578916463
         },
         {
          "group": "entertainment",
          "x": 0.18761272925866132,
          "y": -0.0713270131736078
         },
         {
          "group": "entertainment",
          "x": 1.568294869207407,
          "y": -1.1333369721720021
         },
         {
          "group": "entertainment",
          "x": 0.6199220627030237,
          "y": -0.2512464218055538
         },
         {
          "group": "entertainment",
          "x": 1.2180896562708,
          "y": 0.3517464225203426
         },
         {
          "group": "entertainment",
          "x": -0.859404797422488,
          "y": 0.6048770850844198
         },
         {
          "group": "entertainment",
          "x": 0.38898910876206355,
          "y": -1.113282747528629
         },
         {
          "group": "entertainment",
          "x": -1.5404687275524782,
          "y": 1.928485805724566
         },
         {
          "group": "entertainment",
          "x": -0.1675320680447798,
          "y": 0.987723381816005
         },
         {
          "group": "entertainment",
          "x": 0.48092820394546903,
          "y": 0.5891035676743446
         },
         {
          "group": "entertainment",
          "x": -2.767013600019607,
          "y": 0.11664038274538938
         },
         {
          "group": "entertainment",
          "x": -0.15762690982368363,
          "y": -0.05501464274463701
         },
         {
          "group": "entertainment",
          "x": -3.073016826672399,
          "y": 0.3404018337986299
         },
         {
          "group": "entertainment",
          "x": 0.06718293594734956,
          "y": 1.089835065149116
         },
         {
          "group": "entertainment",
          "x": -0.13849510570985205,
          "y": -0.40899539251514055
         },
         {
          "group": "entertainment",
          "x": 0.6599844157634012,
          "y": 0.9841478931739593
         },
         {
          "group": "entertainment",
          "x": -1.2011840740259285,
          "y": -1.251120046847226
         },
         {
          "group": "entertainment",
          "x": 0.2513806699575035,
          "y": -1.4956538460637363
         },
         {
          "group": "entertainment",
          "x": 0.256349771802124,
          "y": 0.4197911167058417
         },
         {
          "group": "entertainment",
          "x": 0.4237534448981897,
          "y": -0.8800739243468074
         },
         {
          "group": "entertainment",
          "x": 0.697483549198279,
          "y": 1.1898924104853807
         },
         {
          "group": "entertainment",
          "x": -0.6531504465114278,
          "y": 1.0761607237276511
         },
         {
          "group": "entertainment",
          "x": -0.7657738798671201,
          "y": 1.6845543345476075
         },
         {
          "group": "entertainment",
          "x": 0.11740532499131119,
          "y": 0.7600363458933667
         },
         {
          "group": "entertainment",
          "x": -1.5841795163189636,
          "y": -1.9797935673747833
         },
         {
          "group": "entertainment",
          "x": -0.8397131763635091,
          "y": 0.623114620642369
         },
         {
          "group": "entertainment",
          "x": 0.07071865588487106,
          "y": 0.3278315614450279
         },
         {
          "group": "entertainment",
          "x": -1.7853860304780746,
          "y": -0.7515944273311294
         },
         {
          "group": "entertainment",
          "x": 2.962497012073807,
          "y": 0.628468139723899
         },
         {
          "group": "entertainment",
          "x": 0.5089127027705821,
          "y": 1.453973775395664
         },
         {
          "group": "entertainment",
          "x": -0.5397487082535375,
          "y": -1.178536107548924
         },
         {
          "group": "entertainment",
          "x": -2.559077689294806,
          "y": -1.964847130881111
         },
         {
          "group": "entertainment",
          "x": 0.5006231490459645,
          "y": -3.0176596966945035
         },
         {
          "group": "entertainment",
          "x": -0.25821158518647097,
          "y": -0.3597792541506725
         },
         {
          "group": "entertainment",
          "x": -0.044989912048724774,
          "y": -0.10424413882581317
         },
         {
          "group": "entertainment",
          "x": 1.010325941298644,
          "y": 1.4166533015598084
         },
         {
          "group": "entertainment",
          "x": -0.8372598498731293,
          "y": -2.220884293652336
         },
         {
          "group": "entertainment",
          "x": 0.15706282265719523,
          "y": -0.9008497591951735
         },
         {
          "group": "entertainment",
          "x": 1.169756065190412,
          "y": -0.5429389241812884
         },
         {
          "group": "entertainment",
          "x": 0.6687071902701521,
          "y": 0.3966764186769053
         },
         {
          "group": "entertainment",
          "x": -0.33893290695829953,
          "y": -0.05435771973163973
         },
         {
          "group": "entertainment",
          "x": -0.8327912016594928,
          "y": 0.21812228365688885
         },
         {
          "group": "entertainment",
          "x": -0.8246055086510923,
          "y": -0.14159552169472253
         },
         {
          "group": "entertainment",
          "x": 0.22319352523315236,
          "y": 2.751595350209361
         },
         {
          "group": "entertainment",
          "x": 0.14516261867931254,
          "y": -0.7927425315857767
         },
         {
          "group": "entertainment",
          "x": -1.6553197431809847,
          "y": 2.337650861780267
         },
         {
          "group": "entertainment",
          "x": -1.1119100394240178,
          "y": 0.6691788631605159
         },
         {
          "group": "entertainment",
          "x": -1.1869681177379259,
          "y": 1.4728801386679073
         },
         {
          "group": "entertainment",
          "x": 0.24018082611483862,
          "y": 0.4707909252929288
         },
         {
          "group": "entertainment",
          "x": -1.6890385483316845,
          "y": 1.2431072583311256
         },
         {
          "group": "entertainment",
          "x": 0.5155950491376854,
          "y": -1.0677534998228249
         },
         {
          "group": "entertainment",
          "x": -1.317177762849044,
          "y": -1.0216296401577407
         },
         {
          "group": "entertainment",
          "x": -0.6801623493060371,
          "y": -0.9777124944094642
         },
         {
          "group": "entertainment",
          "x": 0.7355557946856695,
          "y": 1.0887615100163646
         },
         {
          "group": "entertainment",
          "x": 0.1942679144116807,
          "y": -1.7461678648113639
         },
         {
          "group": "entertainment",
          "x": -1.1410359312030505,
          "y": -1.6640575798482788
         },
         {
          "group": "entertainment",
          "x": -0.9614901474843071,
          "y": -0.17772293472346035
         },
         {
          "group": "entertainment",
          "x": -1.7377646671622309,
          "y": 0.9057507481969699
         },
         {
          "group": "entertainment",
          "x": -1.3216574554580074,
          "y": -0.24278892978620198
         },
         {
          "group": "entertainment",
          "x": -1.347404838056864,
          "y": 0.1571234219344511
         },
         {
          "group": "entertainment",
          "x": -1.0555435744048378,
          "y": -1.4740996529973287
         },
         {
          "group": "entertainment",
          "x": -1.0396064664891282,
          "y": 0.8054243414877726
         },
         {
          "group": "entertainment",
          "x": -0.6064364003921979,
          "y": -0.7726115324417548
         },
         {
          "group": "entertainment",
          "x": -1.1661904364174984,
          "y": -0.4828528168669904
         },
         {
          "group": "entertainment",
          "x": -1.0307166447772604,
          "y": 0.03516421112997608
         },
         {
          "group": "entertainment",
          "x": -0.08880857478638628,
          "y": 0.6878161735037502
         },
         {
          "group": "entertainment",
          "x": -1.0840634913462015,
          "y": 0.14172561117483504
         },
         {
          "group": "entertainment",
          "x": 0.035674317829846404,
          "y": 1.2864642017018513
         },
         {
          "group": "entertainment",
          "x": 0.858098277022128,
          "y": -0.5485840301824969
         },
         {
          "group": "entertainment",
          "x": -1.652549251676202,
          "y": -1.1442310596644871
         },
         {
          "group": "entertainment",
          "x": -0.7555843406866674,
          "y": 0.021624153555301687
         },
         {
          "group": "entertainment",
          "x": -0.40708036231943895,
          "y": 0.23430460711405446
         },
         {
          "group": "entertainment",
          "x": -0.8497273951417166,
          "y": 1.3758237245154599
         },
         {
          "group": "entertainment",
          "x": 0.23140133188567574,
          "y": -1.0296584264640272
         },
         {
          "group": "entertainment",
          "x": -0.7328848105585971,
          "y": -1.4303398754778684
         },
         {
          "group": "entertainment",
          "x": -0.3502783930088617,
          "y": -1.3328061292406574
         },
         {
          "group": "entertainment",
          "x": -1.5571532923717513,
          "y": 1.6904239963195897
         },
         {
          "group": "entertainment",
          "x": -1.069193546403028,
          "y": -0.3494685690978577
         },
         {
          "group": "entertainment",
          "x": 0.2363436661278508,
          "y": -2.0334837399087724
         },
         {
          "group": "entertainment",
          "x": -1.4027858793843384,
          "y": 0.5559976870739421
         },
         {
          "group": "entertainment",
          "x": -1.6999114217620002,
          "y": -0.4974772748426585
         },
         {
          "group": "entertainment",
          "x": 1.2956822115625848,
          "y": -1.3845934138307179
         },
         {
          "group": "entertainment",
          "x": -2.9791432975319365,
          "y": -2.0373003351206727
         },
         {
          "group": "entertainment",
          "x": -0.8200259625621409,
          "y": 3.1743908826256213
         },
         {
          "group": "entertainment",
          "x": -2.709387092837928,
          "y": -2.0203447154903618
         },
         {
          "group": "entertainment",
          "x": 0.8662603753723115,
          "y": 1.5227317819836435
         },
         {
          "group": "entertainment",
          "x": -0.7801407219294959,
          "y": 0.15345929287529123
         },
         {
          "group": "entertainment",
          "x": -1.0527105071315819,
          "y": 2.064344936332342
         },
         {
          "group": "entertainment",
          "x": -1.8830504243010695,
          "y": -1.54481797080185
         },
         {
          "group": "entertainment",
          "x": -0.8651088950776429,
          "y": 0.24430246665700414
         },
         {
          "group": "entertainment",
          "x": -1.4758804253941704,
          "y": 0.9339182238468435
         },
         {
          "group": "entertainment",
          "x": -0.018326703080392408,
          "y": 1.185452118881579
         },
         {
          "group": "entertainment",
          "x": -0.8650626576393059,
          "y": -1.316023984759089
         },
         {
          "group": "entertainment",
          "x": -1.9530248517865467,
          "y": -1.5453622485355756
         },
         {
          "group": "entertainment",
          "x": -1.042186121961673,
          "y": 0.675839689419867
         },
         {
          "group": "entertainment",
          "x": -2.9587027624594393,
          "y": -0.7710443805002202
         },
         {
          "group": "entertainment",
          "x": -1.5153653464992216,
          "y": -0.5824231827402732
         },
         {
          "group": "entertainment",
          "x": 3.5076278280288387,
          "y": 0.37250302896268195
         },
         {
          "group": "entertainment",
          "x": 0.4680958107757964,
          "y": 0.24200562016806088
         },
         {
          "group": "entertainment",
          "x": 1.8741135679831913,
          "y": -0.14275324836120126
         },
         {
          "group": "entertainment",
          "x": 1.3668470192535789,
          "y": 0.37571386724651856
         },
         {
          "group": "entertainment",
          "x": -0.010221594351420263,
          "y": -1.5453399487254293
         },
         {
          "group": "entertainment",
          "x": -0.4479924227987193,
          "y": -2.2369452298543493
         },
         {
          "group": "entertainment",
          "x": 0.12327219864612173,
          "y": -0.7334640133150888
         },
         {
          "group": "entertainment",
          "x": -0.8386650655815048,
          "y": -1.0809619340810999
         },
         {
          "group": "entertainment",
          "x": -1.8439400777502417,
          "y": 1.3501365844727486
         },
         {
          "group": "entertainment",
          "x": -0.8976179082208922,
          "y": 1.5019406904905892
         },
         {
          "group": "entertainment",
          "x": -1.9272634036434175,
          "y": -0.763335909475383
         },
         {
          "group": "entertainment",
          "x": 0.6874342601642054,
          "y": -1.6969880678387164
         },
         {
          "group": "entertainment",
          "x": -2.732329172544379,
          "y": -1.1273482322246002
         },
         {
          "group": "entertainment",
          "x": 1.1634188491512554,
          "y": 0.7710510902083327
         },
         {
          "group": "entertainment",
          "x": 0.16107063708380587,
          "y": 0.4322069277301148
         },
         {
          "group": "entertainment",
          "x": -0.6618505021135632,
          "y": -0.4242718718121404
         },
         {
          "group": "entertainment",
          "x": 0.0698252433026421,
          "y": 0.4828860010122534
         },
         {
          "group": "entertainment",
          "x": -1.0994993611127777,
          "y": 1.529574996706058
         },
         {
          "group": "entertainment",
          "x": 0.8813085222717127,
          "y": -0.7645363562421569
         },
         {
          "group": "entertainment",
          "x": 1.0201560228602031,
          "y": 0.13085356043988103
         },
         {
          "group": "entertainment",
          "x": -0.7738330290070001,
          "y": -0.9111845839018102
         },
         {
          "group": "entertainment",
          "x": 1.1554821205362251,
          "y": 1.0049343313611065
         },
         {
          "group": "entertainment",
          "x": -0.055433826838584443,
          "y": -1.0979117476497406
         },
         {
          "group": "entertainment",
          "x": 0.4704480965107283,
          "y": 0.5059927026337864
         },
         {
          "group": "entertainment",
          "x": 0.7277002225932584,
          "y": 1.7736540184131293
         },
         {
          "group": "entertainment",
          "x": -0.6901539322047361,
          "y": -0.6871317339160545
         },
         {
          "group": "entertainment",
          "x": -2.777055363791168,
          "y": -0.2688712606236402
         },
         {
          "group": "entertainment",
          "x": -0.7350996977106887,
          "y": -1.9555235570593372
         },
         {
          "group": "entertainment",
          "x": -2.041416347783028,
          "y": 0.6396323971900197
         },
         {
          "group": "entertainment",
          "x": -0.7031037216655356,
          "y": -0.1846559768661746
         },
         {
          "group": "entertainment",
          "x": -2.0289288721994865,
          "y": 0.7683755973061324
         },
         {
          "group": "entertainment",
          "x": 0.5891081533374258,
          "y": 2.8409643352276763
         },
         {
          "group": "entertainment",
          "x": 0.37854410364967433,
          "y": 0.2391545587081997
         },
         {
          "group": "entertainment",
          "x": -0.6599039129878304,
          "y": -1.6449927191496765
         },
         {
          "group": "entertainment",
          "x": -0.37483632387968135,
          "y": -1.490579833578782
         },
         {
          "group": "entertainment",
          "x": 0.3923760674016274,
          "y": 1.1340491836539766
         },
         {
          "group": "entertainment",
          "x": 0.7765973205703665,
          "y": 0.16385428591952583
         },
         {
          "group": "entertainment",
          "x": 0.31634294431021653,
          "y": -1.9909533432636333
         },
         {
          "group": "entertainment",
          "x": 0.45434878355772673,
          "y": 1.2364634882004173
         },
         {
          "group": "entertainment",
          "x": 0.02684458865662659,
          "y": 1.0319306628062723
         },
         {
          "group": "entertainment",
          "x": -0.19649873930950137,
          "y": 0.39738518659778405
         },
         {
          "group": "entertainment",
          "x": -0.417441156277834,
          "y": -0.004434675458781767
         },
         {
          "group": "entertainment",
          "x": -1.8179815705355467,
          "y": 1.3800275739773638
         },
         {
          "group": "entertainment",
          "x": -2.9635648932340266,
          "y": -0.6372126591839549
         },
         {
          "group": "entertainment",
          "x": 0.6028356236670489,
          "y": 1.6633791657563795
         },
         {
          "group": "entertainment",
          "x": 1.042966009758491,
          "y": 0.5784921907439715
         },
         {
          "group": "entertainment",
          "x": -0.4730498042643888,
          "y": 0.3542187656846953
         },
         {
          "group": "entertainment",
          "x": -0.8653980259618422,
          "y": -0.8214730321363307
         },
         {
          "group": "entertainment",
          "x": -1.9397211769263247,
          "y": -0.4828049845316713
         },
         {
          "group": "entertainment",
          "x": -0.9727947179592004,
          "y": 1.8669544519097518
         },
         {
          "group": "entertainment",
          "x": 2.4776828840671756,
          "y": 0.9585205882760743
         },
         {
          "group": "entertainment",
          "x": -0.10045193264836383,
          "y": 0.6466639458395883
         },
         {
          "group": "entertainment",
          "x": -0.2824052081613944,
          "y": -0.1147722365790236
         },
         {
          "group": "entertainment",
          "x": -0.8377948822055165,
          "y": -0.8108738742169355
         },
         {
          "group": "entertainment",
          "x": -1.1549418535695277,
          "y": -0.6672546382617117
         },
         {
          "group": "entertainment",
          "x": -0.4277875152552794,
          "y": -0.07141057785763152
         },
         {
          "group": "entertainment",
          "x": 1.6492562158790507,
          "y": -0.25552112630423585
         },
         {
          "group": "entertainment",
          "x": 0.4596915106225625,
          "y": -0.08160737595787382
         },
         {
          "group": "entertainment",
          "x": 0.16606576435258988,
          "y": -0.9962076938139217
         },
         {
          "group": "entertainment",
          "x": 0.3424329953945175,
          "y": -0.10575411948251524
         },
         {
          "group": "entertainment",
          "x": -1.1330735245477364,
          "y": -1.6694674075000826
         },
         {
          "group": "entertainment",
          "x": -0.3835855183382802,
          "y": 0.3060296520659393
         },
         {
          "group": "entertainment",
          "x": 1.9698122074846685,
          "y": 0.20787119160714115
         },
         {
          "group": "entertainment",
          "x": -0.9120829641676825,
          "y": 1.6784173735381127
         },
         {
          "group": "entertainment",
          "x": -0.05342203787369297,
          "y": 1.0485743802490584
         },
         {
          "group": "entertainment",
          "x": -0.2182380222817916,
          "y": -0.785787155696702
         },
         {
          "group": "entertainment",
          "x": -1.8166144936782855,
          "y": 0.1133876844319571
         },
         {
          "group": "entertainment",
          "x": -0.2954429278098701,
          "y": 0.15013717817964964
         },
         {
          "group": "entertainment",
          "x": 1.0218264317089896,
          "y": 1.4192729516079623
         },
         {
          "group": "entertainment",
          "x": 0.136522503250121,
          "y": 0.11931549818030963
         },
         {
          "group": "entertainment",
          "x": 1.1627172560602854,
          "y": -1.3389874974048965
         },
         {
          "group": "entertainment",
          "x": 0.18523161383845108,
          "y": -2.581917248370594
         },
         {
          "group": "entertainment",
          "x": 0.8148499180151998,
          "y": 1.3629850319809333
         },
         {
          "group": "entertainment",
          "x": -0.772670268852299,
          "y": -0.48299587851353615
         },
         {
          "group": "entertainment",
          "x": 2.096343147630609,
          "y": -0.4846292398926344
         },
         {
          "group": "entertainment",
          "x": 0.9745101336606673,
          "y": -2.7751929034424645
         },
         {
          "group": "entertainment",
          "x": -1.5226925984874309,
          "y": -0.36842868815354607
         },
         {
          "group": "entertainment",
          "x": -2.475152388496311,
          "y": 1.14843792403312
         },
         {
          "group": "entertainment",
          "x": 1.0359267918703705,
          "y": 1.0534413018641529
         },
         {
          "group": "entertainment",
          "x": 1.614358070396228,
          "y": -0.49143883120955095
         },
         {
          "group": "entertainment",
          "x": -2.4604779511446275,
          "y": -1.8744670117461548
         },
         {
          "group": "entertainment",
          "x": -1.4511455487402385,
          "y": -0.7268175400626312
         },
         {
          "group": "entertainment",
          "x": -1.2488557926360797,
          "y": 0.24726675147530808
         },
         {
          "group": "entertainment",
          "x": -0.35406733328739165,
          "y": -0.5798655465192782
         },
         {
          "group": "entertainment",
          "x": -0.4130655286849442,
          "y": -0.6590977308750179
         },
         {
          "group": "entertainment",
          "x": -0.7746786367411553,
          "y": -0.3073682994570703
         },
         {
          "group": "entertainment",
          "x": 1.1045083975347856,
          "y": -0.3668888629303137
         },
         {
          "group": "entertainment",
          "x": -2.0670786027324635,
          "y": 1.0199670128041691
         },
         {
          "group": "entertainment",
          "x": -0.22445823637404183,
          "y": 0.5239321625524168
         },
         {
          "group": "entertainment",
          "x": -1.7317245758446194,
          "y": -0.8727812052696278
         },
         {
          "group": "entertainment",
          "x": 0.8092992158455207,
          "y": 0.7463011972295439
         },
         {
          "group": "entertainment",
          "x": -1.6722797803534084,
          "y": -1.1840253333001889
         },
         {
          "group": "entertainment",
          "x": -2.674123067084378,
          "y": 2.5743603645776645
         },
         {
          "group": "entertainment",
          "x": -1.0802032161660466,
          "y": -1.2680771998148854
         },
         {
          "group": "entertainment",
          "x": -0.49111453560279406,
          "y": -0.4123693188339655
         },
         {
          "group": "entertainment",
          "x": -1.5772140414149778,
          "y": -0.249115126589574
         },
         {
          "group": "entertainment",
          "x": 0.6018728491778382,
          "y": -1.2783573103172823
         },
         {
          "group": "entertainment",
          "x": 0.9101088074666638,
          "y": 2.4518609583906397
         },
         {
          "group": "entertainment",
          "x": 0.16246990890160518,
          "y": 0.173051363889919
         },
         {
          "group": "entertainment",
          "x": 0.22906367585849027,
          "y": -0.07239916288744826
         },
         {
          "group": "entertainment",
          "x": -1.6144316803680587,
          "y": 0.13584817946346922
         },
         {
          "group": "entertainment",
          "x": -0.8790694504611509,
          "y": 0.40076824709304515
         },
         {
          "group": "entertainment",
          "x": 1.6204123331220892,
          "y": 0.30735548038508087
         },
         {
          "group": "entertainment",
          "x": 0.7725512340135955,
          "y": -0.009245991791148265
         },
         {
          "group": "entertainment",
          "x": -0.5564511432798834,
          "y": 1.187076578193034
         },
         {
          "group": "entertainment",
          "x": -1.3527989282549668,
          "y": 0.3546730414052407
         },
         {
          "group": "entertainment",
          "x": 0.22664471812133904,
          "y": 1.3954318973162245
         },
         {
          "group": "entertainment",
          "x": -0.4273344362142705,
          "y": 1.7973999820478108
         },
         {
          "group": "entertainment",
          "x": 1.8972856414617534,
          "y": 1.1494629843225137
         },
         {
          "group": "entertainment",
          "x": 2.5239861909088748,
          "y": 0.1338338442190821
         },
         {
          "group": "entertainment",
          "x": -1.873453411938917,
          "y": 1.9446516145112953
         },
         {
          "group": "entertainment",
          "x": 0.14757027275442788,
          "y": 0.20752629680148302
         },
         {
          "group": "entertainment",
          "x": -1.1063061773380833,
          "y": -2.072057955963928
         },
         {
          "group": "entertainment",
          "x": -1.1110990205609654,
          "y": 1.0760154911630244
         },
         {
          "group": "entertainment",
          "x": -1.4022078190221339,
          "y": -0.469163510781096
         },
         {
          "group": "entertainment",
          "x": 0.10906151224704695,
          "y": 0.1307129593379177
         },
         {
          "group": "entertainment",
          "x": -0.26493634757703477,
          "y": -0.8696878607879709
         },
         {
          "group": "entertainment",
          "x": 0.10052937837347282,
          "y": -0.053060158935913225
         },
         {
          "group": "entertainment",
          "x": -2.024589160039561,
          "y": -0.02904694024404137
         },
         {
          "group": "entertainment",
          "x": -0.8095443006453943,
          "y": -1.1296536619187987
         },
         {
          "group": "entertainment",
          "x": -0.6053103592380108,
          "y": 1.4257672584838446
         },
         {
          "group": "entertainment",
          "x": 0.71598883603398,
          "y": -1.4558657194598448
         },
         {
          "group": "entertainment",
          "x": -0.8591885861068086,
          "y": 0.5336080998877258
         },
         {
          "group": "entertainment",
          "x": -1.805569021589289,
          "y": 0.19078990834307935
         },
         {
          "group": "entertainment",
          "x": -0.13589134927062047,
          "y": -0.6864286789113164
         },
         {
          "group": "entertainment",
          "x": -0.1629310529125065,
          "y": -1.756177539759512
         },
         {
          "group": "entertainment",
          "x": 1.003269493810881,
          "y": 0.6624613636563647
         },
         {
          "group": "entertainment",
          "x": -0.9500959156813333,
          "y": -0.32469076093521937
         },
         {
          "group": "entertainment",
          "x": 1.0074551158344471,
          "y": -1.4654462948206055
         },
         {
          "group": "entertainment",
          "x": 0.26914935822511643,
          "y": -0.6317131182925608
         },
         {
          "group": "entertainment",
          "x": -2.1369612444670962,
          "y": -0.20285543162156217
         },
         {
          "group": "entertainment",
          "x": -3.275327899574204,
          "y": 0.3103311482188137
         },
         {
          "group": "entertainment",
          "x": -0.04888024906738198,
          "y": 0.6575917924793481
         },
         {
          "group": "entertainment",
          "x": 1.953604456000838,
          "y": -1.5923403943471819
         },
         {
          "group": "entertainment",
          "x": 1.1396459073649223,
          "y": -0.4856860225792332
         },
         {
          "group": "entertainment",
          "x": 0.13116141665069034,
          "y": -1.1753307618657183
         },
         {
          "group": "entertainment",
          "x": -0.141970876661979,
          "y": 0.8621823911335063
         },
         {
          "group": "entertainment",
          "x": -1.360120688597942,
          "y": -0.27519522909119126
         }
        ]
       },
       "encoding": {
        "color": {
         "field": "group",
         "type": "nominal"
        },
        "x": {
         "field": "x",
         "type": "quantitative"
        },
        "y": {
         "field": "y",
         "type": "quantitative"
        }
       },
       "mark": "point"
      },
      "image/png": "[encoded data removed]",
      "text/plain": [
       "<VegaLite 2 object>\n",
       "\n",
       "If you see this message, it means the renderer has not been properly enabled\n",
       "for the frontend that you are using. For more information, see\n",
       "https://altair-viz.github.io/user_guide/troubleshooting.html\n"
      ]
     },
     "execution_count": 23,
     "metadata": {},
     "output_type": "execute_result"
    }
   ],
   "source": [
    "pca = PCA(n_components=2)\n",
    "\n",
    "reduced_dims = pca.fit_transform(model.paragraph_matrix.data)\n",
    "\n",
    "dx = pd.DataFrame(reduced_dims, columns=[\"x\", \"y\"])\n",
    "dx[\"group\"] = df.group.to_numpy()\n",
    "\n",
    "alt.Chart(dx).mark_point().encode(x=\"x\", y=\"y\", color=\"group\")"
   ]
  },
  {
   "cell_type": "markdown",
   "metadata": {},
   "source": [
    "These results aren't great, but we can see the beginnings of separation."
   ]
  },
  {
   "cell_type": "code",
   "execution_count": null,
   "metadata": {},
   "outputs": [],
   "source": []
  }
 ],
 "metadata": {
  "kernelspec": {
   "display_name": "Python 3",
   "language": "python",
   "name": "python3"
  },
  "language_info": {
   "codemirror_mode": {
    "name": "ipython",
    "version": 3
   },
   "file_extension": ".py",
   "mimetype": "text/x-python",
   "name": "python",
   "nbconvert_exporter": "python",
   "pygments_lexer": "ipython3",
   "version": "3.7.2"
  }
 },
 "nbformat": 4,
 "nbformat_minor": 2
}
