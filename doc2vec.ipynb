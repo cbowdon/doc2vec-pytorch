{
 "cells": [
  {
   "cell_type": "markdown",
   "metadata": {},
   "source": [
    "Doc2vec from scratch in PyTorch\n",
    "===============================\n",
    "\n",
    "Here we are implementing this useful algorithm with a library we know and trust. With luck this will be more accessible than reading the papers but more in-depth than typical \"install gensim and just do what I say\" tutorials, and still easy to understand for anyone whose maths skills have atrophied to nothing (like me). This is all based on the great work by [Nejc Ilenic](https://github.com/ilenic/paragraph-vectors) and reading the referenced papers.\n",
    "\n",
    "The basic form of `word2vec` (and so `doc2vec`) is that it is a classifier trained to predict the missing word in a context. So given sentences like \"the cat _ on the mat\" it should predict \"sat\", and so learn a useful representation of words. We can then extract the internal weights and re-use them as \"word embeddings\", vectors giving each word a position in N-dimensional space that is hopefully close to similar words and an appropriate distance from related words. \n",
    "\n",
    "`doc2vec` or \"Paragraph vectors\" extends the `word2vec` idea by simply adding a document id to each context. This helps the network learn associations between contexts (but of course produces less generalizable vectors)."
   ]
  },
  {
   "cell_type": "markdown",
   "metadata": {},
   "source": [
    "First we need to load the data. We'll by overfitting on a tiny dataset just to check all the parts fit together."
   ]
  },
  {
   "cell_type": "code",
   "execution_count": 1,
   "metadata": {},
   "outputs": [
    {
     "data": {
      "text/html": [
       "<div>\n",
       "<style scoped>\n",
       "    .dataframe tbody tr th:only-of-type {\n",
       "        vertical-align: middle;\n",
       "    }\n",
       "\n",
       "    .dataframe tbody tr th {\n",
       "        vertical-align: top;\n",
       "    }\n",
       "\n",
       "    .dataframe thead th {\n",
       "        text-align: right;\n",
       "    }\n",
       "</style>\n",
       "<table border=\"1\" class=\"dataframe\">\n",
       "  <thead>\n",
       "    <tr style=\"text-align: right;\">\n",
       "      <th></th>\n",
       "      <th>text</th>\n",
       "      <th>tokens</th>\n",
       "    </tr>\n",
       "  </thead>\n",
       "  <tbody>\n",
       "    <tr>\n",
       "      <th>0</th>\n",
       "      <td>In the week before their departure to Arrakis,...</td>\n",
       "      <td>[in, the, week, before, their, departure, to, ...</td>\n",
       "    </tr>\n",
       "    <tr>\n",
       "      <th>1</th>\n",
       "      <td>It was a warm night at Castle Caladan, and the...</td>\n",
       "      <td>[it, was, a, warm, night, at, castle, caladan,...</td>\n",
       "    </tr>\n",
       "    <tr>\n",
       "      <th>2</th>\n",
       "      <td>The old woman was let in by the side door down...</td>\n",
       "      <td>[the, old, woman, was, let, in, by, the, side,...</td>\n",
       "    </tr>\n",
       "    <tr>\n",
       "      <th>3</th>\n",
       "      <td>By the half-light of a suspensor lamp, dimmed ...</td>\n",
       "      <td>[by, the, half, light, of, a, suspensor, lamp,...</td>\n",
       "    </tr>\n",
       "  </tbody>\n",
       "</table>\n",
       "</div>"
      ],
      "text/plain": [
       "                                                text  \\\n",
       "0  In the week before their departure to Arrakis,...   \n",
       "1  It was a warm night at Castle Caladan, and the...   \n",
       "2  The old woman was let in by the side door down...   \n",
       "3  By the half-light of a suspensor lamp, dimmed ...   \n",
       "\n",
       "                                              tokens  \n",
       "0  [in, the, week, before, their, departure, to, ...  \n",
       "1  [it, was, a, warm, night, at, castle, caladan,...  \n",
       "2  [the, old, woman, was, let, in, by, the, side,...  \n",
       "3  [by, the, half, light, of, a, suspensor, lamp,...  "
      ]
     },
     "execution_count": 1,
     "metadata": {},
     "output_type": "execute_result"
    }
   ],
   "source": [
    "import pandas as pd\n",
    "import spacy\n",
    "\n",
    "nlp = spacy.load(\"en_core_web_sm\")\n",
    "\n",
    "example_df = pd.read_csv(\"data/example.csv\")\n",
    "\n",
    "def tokenize_text(df):\n",
    "    df[\"tokens\"] = df.text.str.lower().str.strip().apply(lambda x: [token.text.strip() for token in nlp(x) if token.text.isalnum()])\n",
    "    return df\n",
    "\n",
    "example_df = tokenize_text(example_df)\n",
    "\n",
    "example_df"
   ]
  },
  {
   "cell_type": "markdown",
   "metadata": {},
   "source": [
    "We will need to construct a vocabulary so we can reference every word by an ID."
   ]
  },
  {
   "cell_type": "code",
   "execution_count": 2,
   "metadata": {},
   "outputs": [
    {
     "name": "stdout",
     "output_type": "stream",
     "text": [
      "Dataset comprises 4 documents and 106 unique words (over the limit of 1 occurrences)\n"
     ]
    }
   ],
   "source": [
    "from collections import Counter\n",
    "\n",
    "class Vocab:\n",
    "    def __init__(self, all_tokens, min_count=2):\n",
    "        self.min_count = min_count\n",
    "        self.freqs = {t:n for t, n in Counter(all_tokens).items() if n >= min_count}\n",
    "        self.words = sorted(self.freqs.keys())\n",
    "        self.word2idx = {w: i for i, w in enumerate(self.words)}\n",
    "        \n",
    "vocab = Vocab([tok for tokens in example_df.tokens for tok in tokens], min_count=1)\n",
    "\n",
    "print(f\"Dataset comprises {len(example_df)} documents and {len(vocab.words)} unique words (over the limit of {vocab.min_count} occurrences)\")"
   ]
  },
  {
   "cell_type": "markdown",
   "metadata": {},
   "source": [
    "Words that appear extremely rarely can harm performance, so we add a simple mechanism to strip those out."
   ]
  },
  {
   "cell_type": "code",
   "execution_count": 3,
   "metadata": {},
   "outputs": [
    {
     "data": {
      "text/html": [
       "<div>\n",
       "<style scoped>\n",
       "    .dataframe tbody tr th:only-of-type {\n",
       "        vertical-align: middle;\n",
       "    }\n",
       "\n",
       "    .dataframe tbody tr th {\n",
       "        vertical-align: top;\n",
       "    }\n",
       "\n",
       "    .dataframe thead th {\n",
       "        text-align: right;\n",
       "    }\n",
       "</style>\n",
       "<table border=\"1\" class=\"dataframe\">\n",
       "  <thead>\n",
       "    <tr style=\"text-align: right;\">\n",
       "      <th></th>\n",
       "      <th>text</th>\n",
       "      <th>tokens</th>\n",
       "      <th>length</th>\n",
       "      <th>clean_tokens</th>\n",
       "      <th>clean_length</th>\n",
       "    </tr>\n",
       "  </thead>\n",
       "  <tbody>\n",
       "    <tr>\n",
       "      <th>0</th>\n",
       "      <td>In the week before their departure to Arrakis,...</td>\n",
       "      <td>[in, the, week, before, their, departure, to, ...</td>\n",
       "      <td>32</td>\n",
       "      <td>[in, the, week, before, their, departure, to, ...</td>\n",
       "      <td>32</td>\n",
       "    </tr>\n",
       "    <tr>\n",
       "      <th>1</th>\n",
       "      <td>It was a warm night at Castle Caladan, and the...</td>\n",
       "      <td>[it, was, a, warm, night, at, castle, caladan,...</td>\n",
       "      <td>39</td>\n",
       "      <td>[it, was, a, warm, night, at, castle, caladan,...</td>\n",
       "      <td>39</td>\n",
       "    </tr>\n",
       "    <tr>\n",
       "      <th>2</th>\n",
       "      <td>The old woman was let in by the side door down...</td>\n",
       "      <td>[the, old, woman, was, let, in, by, the, side,...</td>\n",
       "      <td>34</td>\n",
       "      <td>[the, old, woman, was, let, in, by, the, side,...</td>\n",
       "      <td>34</td>\n",
       "    </tr>\n",
       "    <tr>\n",
       "      <th>3</th>\n",
       "      <td>By the half-light of a suspensor lamp, dimmed ...</td>\n",
       "      <td>[by, the, half, light, of, a, suspensor, lamp,...</td>\n",
       "      <td>53</td>\n",
       "      <td>[by, the, half, light, of, a, suspensor, lamp,...</td>\n",
       "      <td>53</td>\n",
       "    </tr>\n",
       "  </tbody>\n",
       "</table>\n",
       "</div>"
      ],
      "text/plain": [
       "                                                text  \\\n",
       "0  In the week before their departure to Arrakis,...   \n",
       "1  It was a warm night at Castle Caladan, and the...   \n",
       "2  The old woman was let in by the side door down...   \n",
       "3  By the half-light of a suspensor lamp, dimmed ...   \n",
       "\n",
       "                                              tokens  length  \\\n",
       "0  [in, the, week, before, their, departure, to, ...      32   \n",
       "1  [it, was, a, warm, night, at, castle, caladan,...      39   \n",
       "2  [the, old, woman, was, let, in, by, the, side,...      34   \n",
       "3  [by, the, half, light, of, a, suspensor, lamp,...      53   \n",
       "\n",
       "                                        clean_tokens  clean_length  \n",
       "0  [in, the, week, before, their, departure, to, ...            32  \n",
       "1  [it, was, a, warm, night, at, castle, caladan,...            39  \n",
       "2  [the, old, woman, was, let, in, by, the, side,...            34  \n",
       "3  [by, the, half, light, of, a, suspensor, lamp,...            53  "
      ]
     },
     "execution_count": 3,
     "metadata": {},
     "output_type": "execute_result"
    }
   ],
   "source": [
    "def clean_tokens(df, vocab):\n",
    "    df[\"length\"] = df.tokens.apply(len)\n",
    "    df[\"clean_tokens\"] = df.tokens.apply(lambda x: [t for t in x if t in vocab.freqs.keys()])\n",
    "    df[\"clean_length\"] = df.clean_tokens.apply(len)\n",
    "    return df\n",
    "\n",
    "example_df = clean_tokens(example_df, vocab)\n",
    "example_df[:5]"
   ]
  },
  {
   "cell_type": "markdown",
   "metadata": {},
   "source": [
    "The difficulty with our \"the cat _ on the mat\" problem is that the missing word could be any one in the vocabulary V and so the network would have |V| outputs for each input e.g. a huge vector containing zero for every word in the vocabulary and some positive number for \"sat\" if the network was perfectly trained. For calculating loss we need to turn that into a probabilty distribution, i.e. _softmax_ it. Computing the softmax for such a large vector is expensive.\n",
    "\n",
    "So the trick (one of many possible) we will use is _Noise Contrastive Estimation (NCE)_. We change our \"the cat _ on the mat\" problem into a multiple choice problem, asking the network to choose between \"sat\" and some random wrong answers like \"hopscotch\" and \"luxuriated\". This is easier to compute the softmax for since it's now a binary classifier (right or wrong answer) and the output is simply of a vector of size 1 + k where k is the number of random incorrect options.\n",
    "\n",
    "Happily, this alternative problem still learns equally useful word representations. We just need to adjust the examples and the loss function. There is a simplified version of the NCE loss function called _Negative Sampling (NEG)_ that we can use here.\n",
    "\n",
    "[Notes on Noise Contrastive Estimation and Negative Sampling (C. Dyer)](https://arxiv.org/abs/1410.8251) explains the derivation of the NCE and NEG loss functions.\n",
    "\n",
    "When we implement the loss function, we assume that the first element in a samples/scores vector is the score for the positive sample and the rest are negative samples. This convention saves us from having to pass around an auxiliary vector indicating which sample was positive."
   ]
  },
  {
   "cell_type": "code",
   "execution_count": 4,
   "metadata": {},
   "outputs": [],
   "source": [
    "import torch.nn as nn\n",
    "\n",
    "class NegativeSampling(nn.Module):\n",
    "    def __init__(self):\n",
    "        super(NegativeSampling, self).__init__()\n",
    "        self.log_sigmoid = nn.LogSigmoid()\n",
    "    def forward(self, scores):\n",
    "        batch_size = scores.shape[0]\n",
    "        n_negative_samples = scores.shape[1] - 1   # TODO average or sum the negative samples? Summing seems to be correct by the paper\n",
    "        positive = self.log_sigmoid(scores[:,0])\n",
    "        negatives = torch.sum(self.log_sigmoid(-scores[:,1:]), dim=1)\n",
    "        return -torch.sum(positive + negatives) / batch_size  # average for batch\n",
    "\n",
    "loss = NegativeSampling()"
   ]
  },
  {
   "cell_type": "markdown",
   "metadata": {},
   "source": [
    "It's helpful to play with some values to reassure ourselves that this function does the right thing."
   ]
  },
  {
   "cell_type": "code",
   "execution_count": 5,
   "metadata": {},
   "outputs": [
    {
     "data": {
      "text/html": [
       "<div>\n",
       "<style scoped>\n",
       "    .dataframe tbody tr th:only-of-type {\n",
       "        vertical-align: middle;\n",
       "    }\n",
       "\n",
       "    .dataframe tbody tr th {\n",
       "        vertical-align: top;\n",
       "    }\n",
       "\n",
       "    .dataframe thead th {\n",
       "        text-align: right;\n",
       "    }\n",
       "</style>\n",
       "<table border=\"1\" class=\"dataframe\">\n",
       "  <thead>\n",
       "    <tr style=\"text-align: right;\">\n",
       "      <th></th>\n",
       "      <th>scores</th>\n",
       "      <th>loss</th>\n",
       "    </tr>\n",
       "  </thead>\n",
       "  <tbody>\n",
       "    <tr>\n",
       "      <th>0</th>\n",
       "      <td>[1, -1, -1, -1]</td>\n",
       "      <td>tensor(1.2530)</td>\n",
       "    </tr>\n",
       "    <tr>\n",
       "      <th>1</th>\n",
       "      <td>[0.5, -1, -1, -1]</td>\n",
       "      <td>tensor(1.4139)</td>\n",
       "    </tr>\n",
       "    <tr>\n",
       "      <th>2</th>\n",
       "      <td>[0, -1, -1, -1]</td>\n",
       "      <td>tensor(1.6329)</td>\n",
       "    </tr>\n",
       "    <tr>\n",
       "      <th>3</th>\n",
       "      <td>[0, 0, 0, 0]</td>\n",
       "      <td>tensor(2.7726)</td>\n",
       "    </tr>\n",
       "    <tr>\n",
       "      <th>4</th>\n",
       "      <td>[0, 0, 0, 1]</td>\n",
       "      <td>tensor(3.3927)</td>\n",
       "    </tr>\n",
       "    <tr>\n",
       "      <th>5</th>\n",
       "      <td>[0, 1, 1, 1]</td>\n",
       "      <td>tensor(4.6329)</td>\n",
       "    </tr>\n",
       "    <tr>\n",
       "      <th>6</th>\n",
       "      <td>[0.5, 1, 1, 1]</td>\n",
       "      <td>tensor(4.4139)</td>\n",
       "    </tr>\n",
       "    <tr>\n",
       "      <th>7</th>\n",
       "      <td>[1, 1, 1, 1]</td>\n",
       "      <td>tensor(4.2530)</td>\n",
       "    </tr>\n",
       "  </tbody>\n",
       "</table>\n",
       "</div>"
      ],
      "text/plain": [
       "              scores            loss\n",
       "0    [1, -1, -1, -1]  tensor(1.2530)\n",
       "1  [0.5, -1, -1, -1]  tensor(1.4139)\n",
       "2    [0, -1, -1, -1]  tensor(1.6329)\n",
       "3       [0, 0, 0, 0]  tensor(2.7726)\n",
       "4       [0, 0, 0, 1]  tensor(3.3927)\n",
       "5       [0, 1, 1, 1]  tensor(4.6329)\n",
       "6     [0.5, 1, 1, 1]  tensor(4.4139)\n",
       "7       [1, 1, 1, 1]  tensor(4.2530)"
      ]
     },
     "execution_count": 5,
     "metadata": {},
     "output_type": "execute_result"
    }
   ],
   "source": [
    "import torch \n",
    "\n",
    "data = [[[1, -1, -1, -1]],  # this dummy data uses -1 to 1, but the real model is unconstrained\n",
    "        [[0.5, -1, -1, -1]],\n",
    "        [[0, -1, -1, -1]],\n",
    "        [[0, 0, 0, 0]],\n",
    "        [[0, 0, 0, 1]],\n",
    "        [[0, 1, 1, 1]],\n",
    "        [[0.5, 1, 1, 1]],\n",
    "        [[1, 1, 1, 1]]]\n",
    "\n",
    "loss_df = pd.DataFrame(data, columns=[\"scores\"])\n",
    "loss_df[\"loss\"] = loss_df.scores.apply(lambda x: loss(torch.FloatTensor([x])))\n",
    "\n",
    "loss_df"
   ]
  },
  {
   "cell_type": "markdown",
   "metadata": {},
   "source": [
    "Higher scores for the positive sample (always the first element) reduce the loss but higher scores for the negative samples increase the loss. This looks like the right behaviour."
   ]
  },
  {
   "cell_type": "markdown",
   "metadata": {},
   "source": [
    "With that in the bag, let's look at creating training data. The general idea is to create a set of examples where each example has:\n",
    "\n",
    "- doc id\n",
    "- sample ids - a collection of the target token and some noise tokens\n",
    "- context ids - tokens before and after the target token\n",
    "\n",
    "e.g. If our context size was 2, the first example from the above dataset would be:\n",
    "\n",
    "```\n",
    "{\"doc_id\": 0,\n",
    " \"sample_ids\": [word2idx[x] for x in [\"week\", \"random-word-from-vocab\", \"random-word-from-vocab\"...],\n",
    " \"context_ids\": [word2idx[x] for x in [\"in\", \"the\", \"before\", \"their\"]]}\n",
    " ```\n",
    " \n",
    " The random words are chosen according to a probability distribution:\n",
    " \n",
    " > a unigram distribution raised to the 3/4rd power, as proposed by T. Mikolov et al. in Distributed Representations of Words and Phrases and their Compositionality\n",
    "\n",
    "This has the effect of slightly increasing the relative probability of rare words (look at the graph of `y=x^0.75` below and see how the lower end is raised above `y=x`)."
   ]
  },
  {
   "cell_type": "code",
   "execution_count": 6,
   "metadata": {},
   "outputs": [
    {
     "data": {
      "application/vnd.vegalite.v2+json": {
       "$schema": "https://vega.github.io/schema/vega-lite/v2.6.0.json",
       "config": {
        "view": {
         "height": 300,
         "width": 400
        }
       },
       "data": {
        "name": "data-afc3dc0951a9e12875119a5af86e52b5"
       },
       "datasets": {
        "data-afc3dc0951a9e12875119a5af86e52b5": [
         {
          "x": 0,
          "y": 0
         },
         {
          "x": 0.01,
          "y": 0.03162277660168379
         },
         {
          "x": 0.02,
          "y": 0.053182958969449884
         },
         {
          "x": 0.03,
          "y": 0.07208434242404263
         },
         {
          "x": 0.04,
          "y": 0.08944271909999159
         },
         {
          "x": 0.05,
          "y": 0.10573712634405642
         },
         {
          "x": 0.06,
          "y": 0.12123093028059741
         },
         {
          "x": 0.07,
          "y": 0.13608915892697748
         },
         {
          "x": 0.08,
          "y": 0.15042412372345573
         },
         {
          "x": 0.09,
          "y": 0.16431676725154984
         },
         {
          "x": 0.1,
          "y": 0.1778279410038923
         },
         {
          "x": 0.11,
          "y": 0.19100490227716513
         },
         {
          "x": 0.12,
          "y": 0.2038853093816547
         },
         {
          "x": 0.13,
          "y": 0.2164998073464082
         },
         {
          "x": 0.14,
          "y": 0.22887377179317683
         },
         {
          "x": 0.15,
          "y": 0.2410285256833955
         },
         {
          "x": 0.16,
          "y": 0.25298221281347033
         },
         {
          "x": 0.17,
          "y": 0.26475044029330763
         },
         {
          "x": 0.18,
          "y": 0.2763467610958144
         },
         {
          "x": 0.19,
          "y": 0.28778304315451386
         },
         {
          "x": 0.2,
          "y": 0.29906975624424414
         },
         {
          "x": 0.21,
          "y": 0.3102161981490854
         },
         {
          "x": 0.22,
          "y": 0.32123067524150845
         },
         {
          "x": 0.23,
          "y": 0.33212064831351956
         },
         {
          "x": 0.24,
          "y": 0.34289285156385596
         },
         {
          "x": 0.25,
          "y": 0.3535533905932738
         },
         {
          "x": 0.26,
          "y": 0.3641078238014289
         },
         {
          "x": 0.27,
          "y": 0.37456123052590357
         },
         {
          "x": 0.28,
          "y": 0.38491826849295824
         },
         {
          "x": 0.29,
          "y": 0.39518322257770583
         },
         {
          "x": 0.3,
          "y": 0.4053600464421103
         },
         {
          "x": 0.31,
          "y": 0.41545239829339137
         },
         {
          "x": 0.32,
          "y": 0.42546367175559907
         },
         {
          "x": 0.33,
          "y": 0.43539702265375557
         },
         {
          "x": 0.34,
          "y": 0.4452553923589699
         },
         {
          "x": 0.35000000000000003,
          "y": 0.45504152822405847
         },
         {
          "x": 0.36,
          "y": 0.46475800154489
         },
         {
          "x": 0.37,
          "y": 0.47440722340731084
         },
         {
          "x": 0.38,
          "y": 0.4839914587188715
         },
         {
          "x": 0.39,
          "y": 0.4935128386754873
         },
         {
          "x": 0.4,
          "y": 0.5029733718731741
         },
         {
          "x": 0.41000000000000003,
          "y": 0.5123749542422491
         },
         {
          "x": 0.42,
          "y": 0.5217193779544038
         },
         {
          "x": 0.43,
          "y": 0.5310083394307343
         },
         {
          "x": 0.44,
          "y": 0.5402434465602292
         },
         {
          "x": 0.45,
          "y": 0.549426225222706
         },
         {
          "x": 0.46,
          "y": 0.5585581251971565
         },
         {
          "x": 0.47000000000000003,
          "y": 0.5676405255254853
         },
         {
          "x": 0.48,
          "y": 0.576674739392341
         },
         {
          "x": 0.49,
          "y": 0.5856620185738529
         },
         {
          "x": 0.5,
          "y": 0.5946035575013605
         },
         {
          "x": 0.51,
          "y": 0.6035004969804791
         },
         {
          "x": 0.52,
          "y": 0.6123539276009055
         },
         {
          "x": 0.53,
          "y": 0.6211648928681236
         },
         {
          "x": 0.54,
          "y": 0.629934392084505
         },
         {
          "x": 0.55,
          "y": 0.6386633830041155
         },
         {
          "x": 0.56,
          "y": 0.6473527842827909
         },
         {
          "x": 0.5700000000000001,
          "y": 0.6560034777426358
         },
         {
          "x": 0.58,
          "y": 0.6646163104680073
         },
         {
          "x": 0.59,
          "y": 0.6731920967482075
         },
         {
          "x": 0.6,
          "y": 0.6817316198804996
         },
         {
          "x": 0.61,
          "y": 0.6902356338456498
         },
         {
          "x": 0.62,
          "y": 0.6987048648669424
         },
         {
          "x": 0.63,
          "y": 0.7071400128625219
         },
         {
          "x": 0.64,
          "y": 0.7155417527999327
         },
         {
          "x": 0.65,
          "y": 0.7239107359608682
         },
         {
          "x": 0.66,
          "y": 0.7322475911233668
         },
         {
          "x": 0.67,
          "y": 0.7405529256680135
         },
         {
          "x": 0.68,
          "y": 0.7488273266140879
         },
         {
          "x": 0.6900000000000001,
          "y": 0.7570713615910638
         },
         {
          "x": 0.7000000000000001,
          "y": 0.7652855797503655
         },
         {
          "x": 0.71,
          "y": 0.7734705126218591
         },
         {
          "x": 0.72,
          "y": 0.7816266749191567
         },
         {
          "x": 0.73,
          "y": 0.7897545652974598
         },
         {
          "x": 0.74,
          "y": 0.7978546670673515
         },
         {
          "x": 0.75,
          "y": 0.8059274488676564
         },
         {
          "x": 0.76,
          "y": 0.8139733653002305
         },
         {
          "x": 0.77,
          "y": 0.8219928575293057
         },
         {
          "x": 0.78,
          "y": 0.829986353847804
         },
         {
          "x": 0.79,
          "y": 0.837954270212839
         },
         {
          "x": 0.8,
          "y": 0.8458970107524514
         },
         {
          "x": 0.81,
          "y": 0.8538149682454624
         },
         {
          "x": 0.8200000000000001,
          "y": 0.8617085245761865
         },
         {
          "x": 0.8300000000000001,
          "y": 0.869578051165608
         },
         {
          "x": 0.84,
          "y": 0.8774239093805121
         },
         {
          "x": 0.85,
          "y": 0.8852464509219427
         },
         {
          "x": 0.86,
          "y": 0.8930460181942644
         },
         {
          "x": 0.87,
          "y": 0.9008229446560111
         },
         {
          "x": 0.88,
          "y": 0.9085775551536168
         },
         {
          "x": 0.89,
          "y": 0.9163101662390513
         },
         {
          "x": 0.9,
          "y": 0.9240210864723069
         },
         {
          "x": 0.91,
          "y": 0.9317106167096201
         },
         {
          "x": 0.92,
          "y": 0.9393790503782488
         },
         {
          "x": 0.93,
          "y": 0.9470266737385726
         },
         {
          "x": 0.9400000000000001,
          "y": 0.9546537661342305
         },
         {
          "x": 0.9500000000000001,
          "y": 0.9622606002309622
         },
         {
          "x": 0.96,
          "y": 0.9698474422447793
         },
         {
          "x": 0.97,
          "y": 0.9774145521600454
         },
         {
          "x": 0.98,
          "y": 0.9849621839380145
         },
         {
          "x": 0.99,
          "y": 0.992490585716335
         }
        ]
       },
       "encoding": {
        "x": {
         "field": "x",
         "type": "quantitative"
        },
        "y": {
         "field": "y",
         "type": "quantitative"
        }
       },
       "mark": "line",
       "title": "x^0.75"
      },
      "image/png": "[encoded data removed]",
      "text/plain": [
       "<VegaLite 2 object>\n",
       "\n",
       "If you see this message, it means the renderer has not been properly enabled\n",
       "for the frontend that you are using. For more information, see\n",
       "https://altair-viz.github.io/user_guide/troubleshooting.html\n"
      ]
     },
     "execution_count": 6,
     "metadata": {},
     "output_type": "execute_result"
    }
   ],
   "source": [
    "import altair as alt\n",
    "import numpy as np\n",
    "\n",
    "data = pd.DataFrame(zip(np.arange(0,1,0.01), np.power(np.arange(0,1,0.01), 0.75)), columns=[\"x\", \"y\"])\n",
    "alt.Chart(data, title=\"x^0.75\").mark_line().encode(x=\"x\", y=\"y\")"
   ]
  },
  {
   "cell_type": "code",
   "execution_count": 7,
   "metadata": {},
   "outputs": [],
   "source": [
    "import numpy as np\n",
    "\n",
    "class NoiseDistribution:\n",
    "    def __init__(self, vocab):\n",
    "        self.probs = np.array([vocab.freqs[w] for w in vocab.words])\n",
    "        self.probs = np.power(self.probs, 0.75)\n",
    "        self.probs /= np.sum(self.probs)\n",
    "    def sample(self, n):\n",
    "        \"Returns the indices of n words randomly sampled from the vocabulary.\"\n",
    "        return np.random.choice(a=self.probs.shape[0], size=n, p=self.probs)\n",
    "        \n",
    "noise = NoiseDistribution(vocab)"
   ]
  },
  {
   "cell_type": "markdown",
   "metadata": {},
   "source": [
    "With this distribution, we advance through the documents creating examples. Note that we are always putting the positive sample first in the samples vector, following the convention the loss function expects."
   ]
  },
  {
   "cell_type": "code",
   "execution_count": 8,
   "metadata": {},
   "outputs": [],
   "source": [
    "import torch\n",
    "\n",
    "def example_generator(df, context_size, noise, n_negative_samples, vocab):\n",
    "    for doc_id, doc in df.iterrows():\n",
    "        for i in range(context_size, len(doc.clean_tokens) - context_size):\n",
    "            positive_sample = vocab.word2idx[doc.clean_tokens[i]]\n",
    "            sample_ids = noise.sample(n_negative_samples).tolist()\n",
    "            # Fix a wee bug - ensure negative samples don't accidentally include the positive\n",
    "            sample_ids = [sample_id if sample_id != positive_sample else -1 for sample_id in sample_ids]\n",
    "            sample_ids.insert(0, positive_sample)                \n",
    "            context = doc.clean_tokens[i - context_size:i] + doc.clean_tokens[i + 1:i + context_size + 1]\n",
    "            context_ids = [vocab.word2idx[w] for w in context]\n",
    "            yield {\"doc_ids\": torch.tensor(doc_id),  # we use plural here because it will be batched\n",
    "                   \"sample_ids\": torch.tensor(sample_ids), \n",
    "                   \"context_ids\": torch.tensor(context_ids)}\n",
    "            \n",
    "examples = example_generator(example_df, context_size=5, noise=noise, n_negative_samples=5, vocab=vocab)"
   ]
  },
  {
   "cell_type": "markdown",
   "metadata": {},
   "source": [
    "Now we package this up as a good old PyTorch dataset and dataloader."
   ]
  },
  {
   "cell_type": "code",
   "execution_count": 9,
   "metadata": {},
   "outputs": [],
   "source": [
    "from torch.utils.data import Dataset, DataLoader\n",
    "\n",
    "class NCEDataset(Dataset):\n",
    "    def __init__(self, examples):\n",
    "        self.examples = list(examples)  # just naively evaluate the whole damn thing - suboptimal!\n",
    "    def __len__(self):\n",
    "        return len(self.examples)\n",
    "    def __getitem__(self, index):\n",
    "        return self.examples[index]\n",
    "    \n",
    "dataset = NCEDataset(examples)\n",
    "dataloader = DataLoader(dataset, batch_size=2, drop_last=True, shuffle=True)  # TODO bigger batch size when not dummy data"
   ]
  },
  {
   "cell_type": "markdown",
   "metadata": {},
   "source": [
    "It's going to also be useful to have a way to convert batches back to a readable form for debugging, so we add a helper function."
   ]
  },
  {
   "cell_type": "code",
   "execution_count": 10,
   "metadata": {},
   "outputs": [
    {
     "data": {
      "text/plain": [
       "[{'doc_id': tensor(3),\n",
       "  'context': 'shadow hair like matted spiderwebs ____ round darkness of features eyes',\n",
       "  'context_ids': tensor([79, 44, 59, 60, 84, 75, 27, 66, 34, 32]),\n",
       "  'samples': ['hooded', 'reached', 'he', 'weather', 'see', 'old'],\n",
       "  'sample_ids': tensor([ 51,  73,  47, 100,  77,  67])},\n",
       " {'doc_id': tensor(3),\n",
       "  'context': 'at his door standing one ____ ahead of his mother the',\n",
       "  'context_ids': tensor([11, 49, 30, 85, 68,  3, 66, 49, 62, 91]),\n",
       "  'samples': ['step', 'warm', 'boy', 'allowed', 'peer', 'week'],\n",
       "  'sample_ids': tensor([ 86,  98,  17,   5,  71, 101])}]"
      ]
     },
     "execution_count": 10,
     "metadata": {},
     "output_type": "execute_result"
    }
   ],
   "source": [
    "def describe_batch(batch, vocab):\n",
    "    results = []\n",
    "    for doc_id, context_ids, sample_ids in zip(batch[\"doc_ids\"], batch[\"context_ids\"], batch[\"sample_ids\"]):\n",
    "        context = [vocab.words[i] for i in context_ids]\n",
    "        context.insert(len(context_ids) // 2, \"____\")\n",
    "        samples = [vocab.words[i] for i in sample_ids]\n",
    "        result = {\"doc_id\": doc_id,\n",
    "                  \"context\": \" \".join(context), \n",
    "                  \"context_ids\": context_ids, \n",
    "                  \"samples\": samples, \n",
    "                  \"sample_ids\": sample_ids}\n",
    "        results.append(result)\n",
    "    return results\n",
    "\n",
    "describe_batch(next(iter(dataloader)), vocab)"
   ]
  },
  {
   "cell_type": "markdown",
   "metadata": {},
   "source": [
    "Let's jump into creating the model itself. There isn't much to it - we multiply the input paragraph and word matrices by the output layer. Combining the paragraph and word matrices is done by summing here, but it could also be done by concatenating the inputs. The original paper actually found concatenation works better, perhaps because summing loses word order information."
   ]
  },
  {
   "cell_type": "code",
   "execution_count": 11,
   "metadata": {},
   "outputs": [],
   "source": [
    "import torch.nn as nn\n",
    "\n",
    "class DistributedMemory(nn.Module):\n",
    "    def __init__(self, vec_dim, n_docs, n_words):\n",
    "        super(DistributedMemory, self).__init__()\n",
    "        self.paragraph_matrix = nn.Parameter(torch.randn(n_docs, vec_dim))\n",
    "        self.word_matrix = nn.Parameter(torch.randn(n_words, vec_dim))\n",
    "        self.outputs = nn.Parameter(torch.zeros(vec_dim, n_words))\n",
    "    \n",
    "    def forward(self, doc_ids, context_ids, sample_ids):\n",
    "                                                                               # first add doc ids to context word ids to make the inputs\n",
    "        inputs = torch.add(self.paragraph_matrix[doc_ids,:],                   # (batch_size, vec_dim)\n",
    "                           torch.sum(self.word_matrix[context_ids,:], dim=1))  # (batch_size, 2x context, vec_dim) -> sum to (batch_size, vec_dim)\n",
    "                                                                               #\n",
    "                                                                               # select the subset of the output layer for the NCE test\n",
    "        outputs = self.outputs[:,sample_ids]                                   # (vec_dim, batch_size, n_negative_samples + 1)\n",
    "                                                                               #\n",
    "        return torch.bmm(inputs.unsqueeze(dim=1),                              # then multiply with some munging to make the tensor shapes line up \n",
    "                         outputs.permute(1, 0, 2)).squeeze()                   # -> (batch_size, n_negative_samples + 1)\n",
    "\n",
    "model = DistributedMemory(vec_dim=50,\n",
    "                          n_docs=len(example_df),\n",
    "                          n_words=len(vocab.words))"
   ]
  },
  {
   "cell_type": "markdown",
   "metadata": {},
   "source": [
    "Let's take it for a spin!"
   ]
  },
  {
   "cell_type": "code",
   "execution_count": 12,
   "metadata": {},
   "outputs": [
    {
     "data": {
      "text/plain": [
       "tensor([[0., 0., 0., 0., 0., 0.],\n",
       "        [0., 0., 0., 0., 0., 0.]])"
      ]
     },
     "execution_count": 12,
     "metadata": {},
     "output_type": "execute_result"
    }
   ],
   "source": [
    "with torch.no_grad():\n",
    "    logits = model.forward(**next(iter(dataloader)))\n",
    "logits"
   ]
  },
  {
   "cell_type": "markdown",
   "metadata": {},
   "source": [
    "Oh yeah, the output layer was initialized with zeros. Time to bash out a standard issue PyTorch training loop."
   ]
  },
  {
   "cell_type": "code",
   "execution_count": 13,
   "metadata": {},
   "outputs": [],
   "source": [
    "from tqdm import tqdm, trange\n",
    "from torch.optim import Adam  # ilenic uses Adam, but gensim uses plain SGD\n",
    "import numpy as np\n",
    "\n",
    "def train(model, dataloader, epochs=40, lr=1e-3):\n",
    "    optimizer = Adam(model.parameters(), lr=lr)\n",
    "    training_losses = []\n",
    "    try:\n",
    "        for epoch in trange(epochs, desc=\"Epochs\"):\n",
    "            epoch_losses = []\n",
    "            for batch in dataloader:\n",
    "                model.zero_grad()\n",
    "                logits = model.forward(**batch)\n",
    "                batch_loss = loss(logits)\n",
    "                epoch_losses.append(batch_loss.item())\n",
    "                batch_loss.backward()\n",
    "                optimizer.step()\n",
    "            training_losses.append(np.mean(epoch_losses))\n",
    "    except KeyboardInterrupt:\n",
    "        print(f\"Interrupted on epoch {epoch}!\")\n",
    "    finally:\n",
    "        return training_losses"
   ]
  },
  {
   "cell_type": "markdown",
   "metadata": {},
   "source": [
    "Now we'll sanity check by overfitting the example data. Training loss should drop from untrained loss to something close to the minimum possible."
   ]
  },
  {
   "cell_type": "code",
   "execution_count": 14,
   "metadata": {},
   "outputs": [
    {
     "name": "stderr",
     "output_type": "stream",
     "text": [
      "Epochs: 100%|██████████| 40/40 [00:01<00:00, 24.97it/s]\n"
     ]
    }
   ],
   "source": [
    "training_losses = train(model, dataloader, epochs=40, lr=1e-3)"
   ]
  },
  {
   "cell_type": "code",
   "execution_count": 15,
   "metadata": {},
   "outputs": [
    {
     "data": {
      "application/vnd.vegalite.v2+json": {
       "$schema": "https://vega.github.io/schema/vega-lite/v2.6.0.json",
       "config": {
        "view": {
         "height": 300,
         "width": 400
        }
       },
       "data": {
        "name": "data-1869247982472ddd5bec627878c6dcb1"
       },
       "datasets": {
        "data-1869247982472ddd5bec627878c6dcb1": [
         {
          "epoch": 0,
          "training_loss": 3.9495007910970914
         },
         {
          "epoch": 1,
          "training_loss": 2.579781619168944
         },
         {
          "epoch": 2,
          "training_loss": 1.8459087630449715
         },
         {
          "epoch": 3,
          "training_loss": 1.4110430074950395
         },
         {
          "epoch": 4,
          "training_loss": 1.1288769356275008
         },
         {
          "epoch": 5,
          "training_loss": 0.9216495615951086
         },
         {
          "epoch": 6,
          "training_loss": 0.7724309033256466
         },
         {
          "epoch": 7,
          "training_loss": 0.6592328606520669
         },
         {
          "epoch": 8,
          "training_loss": 0.5710357859478159
         },
         {
          "epoch": 9,
          "training_loss": 0.5000787794084872
         },
         {
          "epoch": 10,
          "training_loss": 0.4388980782133038
         },
         {
          "epoch": 11,
          "training_loss": 0.3868516271902343
         },
         {
          "epoch": 12,
          "training_loss": 0.3441879288372347
         },
         {
          "epoch": 13,
          "training_loss": 0.30842018923011877
         },
         {
          "epoch": 14,
          "training_loss": 0.27985459717653566
         },
         {
          "epoch": 15,
          "training_loss": 0.2519931488875615
         },
         {
          "epoch": 16,
          "training_loss": 0.22917994465363228
         },
         {
          "epoch": 17,
          "training_loss": 0.2076041597430989
         },
         {
          "epoch": 18,
          "training_loss": 0.1906980158035028
         },
         {
          "epoch": 19,
          "training_loss": 0.17535160595582702
         },
         {
          "epoch": 20,
          "training_loss": 0.16140264904094956
         },
         {
          "epoch": 21,
          "training_loss": 0.14813482995002958
         },
         {
          "epoch": 22,
          "training_loss": 0.13848057048300566
         },
         {
          "epoch": 23,
          "training_loss": 0.12695504939657146
         },
         {
          "epoch": 24,
          "training_loss": 0.1187477526018175
         },
         {
          "epoch": 25,
          "training_loss": 0.10998543749673892
         },
         {
          "epoch": 26,
          "training_loss": 0.1019491728205802
         },
         {
          "epoch": 27,
          "training_loss": 0.0963767251094519
         },
         {
          "epoch": 28,
          "training_loss": 0.0903188658846637
         },
         {
          "epoch": 29,
          "training_loss": 0.08465783986247193
         },
         {
          "epoch": 30,
          "training_loss": 0.08145002986036115
         },
         {
          "epoch": 31,
          "training_loss": 0.07589610602896092
         },
         {
          "epoch": 32,
          "training_loss": 0.07175994198769331
         },
         {
          "epoch": 33,
          "training_loss": 0.06850678088553881
         },
         {
          "epoch": 34,
          "training_loss": 0.06424134107843293
         },
         {
          "epoch": 35,
          "training_loss": 0.061229673766736256
         },
         {
          "epoch": 36,
          "training_loss": 0.058314993535563096
         },
         {
          "epoch": 37,
          "training_loss": 0.05614931611502069
         },
         {
          "epoch": 38,
          "training_loss": 0.05420890207386623
         },
         {
          "epoch": 39,
          "training_loss": 0.051658973555569934
         }
        ]
       },
       "encoding": {
        "x": {
         "field": "epoch",
         "type": "quantitative"
        },
        "y": {
         "field": "training_loss",
         "scale": {
          "type": "log"
         },
         "type": "quantitative"
        }
       },
       "mark": "bar"
      },
      "image/png": "[encoded data removed]",
      "text/plain": [
       "<VegaLite 2 object>\n",
       "\n",
       "If you see this message, it means the renderer has not been properly enabled\n",
       "for the frontend that you are using. For more information, see\n",
       "https://altair-viz.github.io/user_guide/troubleshooting.html\n"
      ]
     },
     "execution_count": 15,
     "metadata": {},
     "output_type": "execute_result"
    }
   ],
   "source": [
    "import altair as alt\n",
    "\n",
    "df_loss = pd.DataFrame(enumerate(training_losses), columns=[\"epoch\", \"training_loss\"])\n",
    "alt.Chart(df_loss).mark_bar().encode(alt.X(\"epoch\"), alt.Y(\"training_loss\", scale=alt.Scale(type=\"log\")))"
   ]
  },
  {
   "cell_type": "markdown",
   "metadata": {},
   "source": [
    "And because we're paranoid types, let's check a prediction."
   ]
  },
  {
   "cell_type": "code",
   "execution_count": 16,
   "metadata": {},
   "outputs": [
    {
     "data": {
      "text/plain": [
       "tensor([[ 5.8570, -6.7139, -4.2389, -6.0808, -6.6498, -7.1474],\n",
       "        [ 4.9439, -7.2039, -5.6059, -5.4381, -4.0573, -4.7220]])"
      ]
     },
     "execution_count": 16,
     "metadata": {},
     "output_type": "execute_result"
    }
   ],
   "source": [
    "with torch.no_grad():\n",
    "    logits = model.forward(**next(iter(dataloader)))\n",
    "logits"
   ]
  },
  {
   "cell_type": "markdown",
   "metadata": {},
   "source": [
    "The positive sample gets a positive score and the negatives get negative scores. Super."
   ]
  },
  {
   "cell_type": "markdown",
   "metadata": {},
   "source": [
    "We should be able get the paragraph vectors for the documents and do things like check these for similarity to one another."
   ]
  },
  {
   "cell_type": "code",
   "execution_count": 17,
   "metadata": {},
   "outputs": [
    {
     "data": {
      "text/html": [
       "<div>\n",
       "<style scoped>\n",
       "    .dataframe tbody tr th:only-of-type {\n",
       "        vertical-align: middle;\n",
       "    }\n",
       "\n",
       "    .dataframe tbody tr th {\n",
       "        vertical-align: top;\n",
       "    }\n",
       "\n",
       "    .dataframe thead th {\n",
       "        text-align: right;\n",
       "    }\n",
       "</style>\n",
       "<table border=\"1\" class=\"dataframe\">\n",
       "  <thead>\n",
       "    <tr style=\"text-align: right;\">\n",
       "      <th></th>\n",
       "      <th>doc_id</th>\n",
       "      <th>similarity</th>\n",
       "    </tr>\n",
       "  </thead>\n",
       "  <tbody>\n",
       "    <tr>\n",
       "      <th>0</th>\n",
       "      <td>0</td>\n",
       "      <td>1.000000</td>\n",
       "    </tr>\n",
       "    <tr>\n",
       "      <th>1</th>\n",
       "      <td>3</td>\n",
       "      <td>-0.048949</td>\n",
       "    </tr>\n",
       "    <tr>\n",
       "      <th>2</th>\n",
       "      <td>2</td>\n",
       "      <td>0.044256</td>\n",
       "    </tr>\n",
       "    <tr>\n",
       "      <th>3</th>\n",
       "      <td>1</td>\n",
       "      <td>0.140496</td>\n",
       "    </tr>\n",
       "  </tbody>\n",
       "</table>\n",
       "</div>"
      ],
      "text/plain": [
       "   doc_id  similarity\n",
       "0       0    1.000000\n",
       "1       3   -0.048949\n",
       "2       2    0.044256\n",
       "3       1    0.140496"
      ]
     },
     "execution_count": 17,
     "metadata": {},
     "output_type": "execute_result"
    }
   ],
   "source": [
    "from sklearn.preprocessing import normalize\n",
    "\n",
    "def most_similar(paragraph_matrix, index):\n",
    "    pm = normalize(paragraph_matrix, norm=\"l2\")  # in a smarter implementation we would cache this somewhere\n",
    "    sims = np.dot(pm, pm[index,:])\n",
    "    return pd.DataFrame(zip(np.argsort(-sims), sims), columns=[\"doc_id\", \"similarity\"])\n",
    "\n",
    "most_similar(model.paragraph_matrix.data, 0)"
   ]
  },
  {
   "cell_type": "markdown",
   "metadata": {},
   "source": [
    "It's not particularly illuminating for our tiny set of dummy data though. We can also use PCA to reduce our n-dimensional paragraph vectors to 2 dimensions and see if they are clustered nicely."
   ]
  },
  {
   "cell_type": "code",
   "execution_count": 28,
   "metadata": {},
   "outputs": [
    {
     "name": "stdout",
     "output_type": "stream",
     "text": [
      "2-component PCA, explains 51.89% of variance\n"
     ]
    },
    {
     "data": {
      "application/vnd.vegalite.v2+json": {
       "$schema": "https://vega.github.io/schema/vega-lite/v2.6.0.json",
       "config": {
        "view": {
         "height": 300,
         "width": 400
        }
       },
       "data": {
        "name": "data-72a66daadfb31a92df63d1cc2d52bdee"
       },
       "datasets": {
        "data-72a66daadfb31a92df63d1cc2d52bdee": [
         {
          "group": "0",
          "x": -0.8641023415446364,
          "y": -2.537716665219085
         },
         {
          "group": "1",
          "x": -1.9604960815629409,
          "y": 7.105479582965837
         },
         {
          "group": "2",
          "x": 7.5501211319218235,
          "y": -0.8022104222489435
         },
         {
          "group": "3",
          "x": -4.725522708814243,
          "y": -3.7655524954978072
         }
        ]
       },
       "encoding": {
        "color": {
         "field": "group",
         "type": "nominal"
        },
        "x": {
         "field": "x",
         "type": "quantitative"
        },
        "y": {
         "field": "y",
         "type": "quantitative"
        }
       },
       "mark": "point"
      },
      "image/png": "[encoded data removed]",
      "text/plain": [
       "<VegaLite 2 object>\n",
       "\n",
       "If you see this message, it means the renderer has not been properly enabled\n",
       "for the frontend that you are using. For more information, see\n",
       "https://altair-viz.github.io/user_guide/troubleshooting.html\n"
      ]
     },
     "execution_count": 28,
     "metadata": {},
     "output_type": "execute_result"
    }
   ],
   "source": [
    "from sklearn.decomposition import PCA\n",
    "\n",
    "def pca_2d(paragraph_matrix, groups):\n",
    "    pca = PCA(n_components=2)\n",
    "    reduced_dims = pca.fit_transform(paragraph_matrix)\n",
    "    print(f\"2-component PCA, explains {sum(pca.explained_variance_):.2f}% of variance\")\n",
    "    df = pd.DataFrame(reduced_dims, columns=[\"x\", \"y\"])\n",
    "    df[\"group\"] = groups\n",
    "    return df\n",
    "\n",
    "example_2d = pca_2d(model.paragraph_matrix.data, [\"0\",\"1\",\"2\",\"3\"])\n",
    "alt.Chart(example_2d).mark_point().encode(x=\"x\", y=\"y\", color=\"group\")"
   ]
  },
  {
   "cell_type": "markdown",
   "metadata": {},
   "source": [
    "Not much to see on such a tiny dataset without any labelled groups."
   ]
  },
  {
   "cell_type": "markdown",
   "metadata": {},
   "source": [
    "Running this on some bigger data\n",
    "--------------------------------\n",
    "\n",
    "We'll use the BBC's dataset. The dataset was created by Derek Greene at UCD and all articles are copyright Auntie. I've munged it into a file per topic."
   ]
  },
  {
   "cell_type": "code",
   "execution_count": 19,
   "metadata": {},
   "outputs": [
    {
     "data": {
      "text/html": [
       "<div>\n",
       "<style scoped>\n",
       "    .dataframe tbody tr th:only-of-type {\n",
       "        vertical-align: middle;\n",
       "    }\n",
       "\n",
       "    .dataframe tbody tr th {\n",
       "        vertical-align: top;\n",
       "    }\n",
       "\n",
       "    .dataframe thead th {\n",
       "        text-align: right;\n",
       "    }\n",
       "</style>\n",
       "<table border=\"1\" class=\"dataframe\">\n",
       "  <thead>\n",
       "    <tr style=\"text-align: right;\">\n",
       "      <th></th>\n",
       "      <th>text</th>\n",
       "      <th>tokens</th>\n",
       "      <th>group</th>\n",
       "    </tr>\n",
       "  </thead>\n",
       "  <tbody>\n",
       "    <tr>\n",
       "      <th>0</th>\n",
       "      <td>Claxton hunting first major medal  British hur...</td>\n",
       "      <td>[claxton, hunting, first, major, medal, britis...</td>\n",
       "      <td>sport</td>\n",
       "    </tr>\n",
       "    <tr>\n",
       "      <th>1</th>\n",
       "      <td>O'Sullivan could run in Worlds  Sonia O'Sulliv...</td>\n",
       "      <td>[could, run, in, worlds, sonia, has, indicated...</td>\n",
       "      <td>sport</td>\n",
       "    </tr>\n",
       "    <tr>\n",
       "      <th>2</th>\n",
       "      <td>Greene sets sights on world title  Maurice Gre...</td>\n",
       "      <td>[greene, sets, sights, on, world, title, mauri...</td>\n",
       "      <td>sport</td>\n",
       "    </tr>\n",
       "    <tr>\n",
       "      <th>3</th>\n",
       "      <td>IAAF launches fight against drugs  The IAAF - ...</td>\n",
       "      <td>[iaaf, launches, fight, against, drugs, the, i...</td>\n",
       "      <td>sport</td>\n",
       "    </tr>\n",
       "  </tbody>\n",
       "</table>\n",
       "</div>"
      ],
      "text/plain": [
       "                                                text  \\\n",
       "0  Claxton hunting first major medal  British hur...   \n",
       "1  O'Sullivan could run in Worlds  Sonia O'Sulliv...   \n",
       "2  Greene sets sights on world title  Maurice Gre...   \n",
       "3  IAAF launches fight against drugs  The IAAF - ...   \n",
       "\n",
       "                                              tokens  group  \n",
       "0  [claxton, hunting, first, major, medal, britis...  sport  \n",
       "1  [could, run, in, worlds, sonia, has, indicated...  sport  \n",
       "2  [greene, sets, sights, on, world, title, mauri...  sport  \n",
       "3  [iaaf, launches, fight, against, drugs, the, i...  sport  "
      ]
     },
     "execution_count": 19,
     "metadata": {},
     "output_type": "execute_result"
    }
   ],
   "source": [
    "dfs = []\n",
    "for document_set in (\"sport\",\n",
    "                     \"business\",\n",
    "                     \"politics\", \n",
    "                     \"tech\", \n",
    "                     \"entertainment\"):\n",
    "    df_ = pd.read_csv(f\"data/bbc/{document_set}.csv.bz2\", encoding=\"latin1\")\n",
    "    df_ = tokenize_text(df_)\n",
    "    df_[\"group\"] = document_set\n",
    "    dfs.append(df_)\n",
    "\n",
    "bbc_df = pd.concat(dfs)\n",
    "bbc_df[:4]"
   ]
  },
  {
   "cell_type": "code",
   "execution_count": 20,
   "metadata": {},
   "outputs": [
    {
     "name": "stdout",
     "output_type": "stream",
     "text": [
      "Dataset comprises 2225 documents and 19063 unique words\n"
     ]
    }
   ],
   "source": [
    "bbc_vocab = Vocab([tok for tokens in bbc_df.tokens for tok in tokens])\n",
    "\n",
    "bbc_df = clean_tokens(bbc_df, bbc_vocab)\n",
    "\n",
    "print(f\"Dataset comprises {len(bbc_df)} documents and {len(bbc_vocab.words)} unique words\")"
   ]
  },
  {
   "cell_type": "code",
   "execution_count": 21,
   "metadata": {},
   "outputs": [],
   "source": [
    "bbc_noise = NoiseDistribution(bbc_vocab)\n",
    "bbc_examples = list(example_generator(bbc_df, context_size=5, noise=bbc_noise, n_negative_samples=5, vocab=bbc_vocab))"
   ]
  },
  {
   "cell_type": "code",
   "execution_count": 22,
   "metadata": {},
   "outputs": [],
   "source": [
    "bbc_dataset = NCEDataset(bbc_examples)\n",
    "bbc_dataloader = DataLoader(bbc_dataset, batch_size=1024, drop_last=True, shuffle=True)  # TODO could tolerate a larger batch size\n",
    "\n",
    "bbc_model = DistributedMemory(vec_dim=50,\n",
    "                              n_docs=len(bbc_df),\n",
    "                              n_words=len(bbc_vocab.words))"
   ]
  },
  {
   "cell_type": "code",
   "execution_count": 23,
   "metadata": {},
   "outputs": [
    {
     "name": "stderr",
     "output_type": "stream",
     "text": [
      "Epochs: 100%|██████████| 40/40 [18:39<00:00, 28.16s/it]\n"
     ]
    }
   ],
   "source": [
    "bbc_training_losses = train(bbc_model, bbc_dataloader, epochs=40, lr=1e-3)"
   ]
  },
  {
   "cell_type": "code",
   "execution_count": 24,
   "metadata": {},
   "outputs": [
    {
     "data": {
      "application/vnd.vegalite.v2+json": {
       "$schema": "https://vega.github.io/schema/vega-lite/v2.6.0.json",
       "config": {
        "view": {
         "height": 300,
         "width": 400
        }
       },
       "data": {
        "name": "data-a84676c7b582f87cebf2e1176fd176df"
       },
       "datasets": {
        "data-a84676c7b582f87cebf2e1176fd176df": [
         {
          "epoch": 0,
          "training_loss": 2.6475370048736195
         },
         {
          "epoch": 1,
          "training_loss": 2.178897852631089
         },
         {
          "epoch": 2,
          "training_loss": 1.993653849044942
         },
         {
          "epoch": 3,
          "training_loss": 1.8764385064936573
         },
         {
          "epoch": 4,
          "training_loss": 1.7917576988291297
         },
         {
          "epoch": 5,
          "training_loss": 1.7257729576241156
         },
         {
          "epoch": 6,
          "training_loss": 1.6710633574065215
         },
         {
          "epoch": 7,
          "training_loss": 1.6238304381044755
         },
         {
          "epoch": 8,
          "training_loss": 1.5827967288331215
         },
         {
          "epoch": 9,
          "training_loss": 1.545571704236617
         },
         {
          "epoch": 10,
          "training_loss": 1.5119507210595267
         },
         {
          "epoch": 11,
          "training_loss": 1.481340191379097
         },
         {
          "epoch": 12,
          "training_loss": 1.4528349414375257
         },
         {
          "epoch": 13,
          "training_loss": 1.4260623283267762
         },
         {
          "epoch": 14,
          "training_loss": 1.4012715631390211
         },
         {
          "epoch": 15,
          "training_loss": 1.3778887557687227
         },
         {
          "epoch": 16,
          "training_loss": 1.3558266148063707
         },
         {
          "epoch": 17,
          "training_loss": 1.3347351579192261
         },
         {
          "epoch": 18,
          "training_loss": 1.3147357478645276
         },
         {
          "epoch": 19,
          "training_loss": 1.2955174878517293
         },
         {
          "epoch": 20,
          "training_loss": 1.2773661680103088
         },
         {
          "epoch": 21,
          "training_loss": 1.259755085121771
         },
         {
          "epoch": 22,
          "training_loss": 1.2429545868997989
         },
         {
          "epoch": 23,
          "training_loss": 1.2266678297741813
         },
         {
          "epoch": 24,
          "training_loss": 1.2110284749025144
         },
         {
          "epoch": 25,
          "training_loss": 1.195874299618028
         },
         {
          "epoch": 26,
          "training_loss": 1.1812829133146299
         },
         {
          "epoch": 27,
          "training_loss": 1.167006383919568
         },
         {
          "epoch": 28,
          "training_loss": 1.1532830306461879
         },
         {
          "epoch": 29,
          "training_loss": 1.1398333180765188
         },
         {
          "epoch": 30,
          "training_loss": 1.1267401452390304
         },
         {
          "epoch": 31,
          "training_loss": 1.1140931025795315
         },
         {
          "epoch": 32,
          "training_loss": 1.1017434606640977
         },
         {
          "epoch": 33,
          "training_loss": 1.0897758510542213
         },
         {
          "epoch": 34,
          "training_loss": 1.0778262264239862
         },
         {
          "epoch": 35,
          "training_loss": 1.0665130916589536
         },
         {
          "epoch": 36,
          "training_loss": 1.0552580931171867
         },
         {
          "epoch": 37,
          "training_loss": 1.0444297056760847
         },
         {
          "epoch": 38,
          "training_loss": 1.033695770272557
         },
         {
          "epoch": 39,
          "training_loss": 1.0231810572724904
         }
        ]
       },
       "encoding": {
        "x": {
         "field": "epoch",
         "type": "quantitative"
        },
        "y": {
         "field": "training_loss",
         "type": "quantitative"
        }
       },
       "mark": "bar"
      },
      "image/png": "[encoded data removed]",
      "text/plain": [
       "<VegaLite 2 object>\n",
       "\n",
       "If you see this message, it means the renderer has not been properly enabled\n",
       "for the frontend that you are using. For more information, see\n",
       "https://altair-viz.github.io/user_guide/troubleshooting.html\n"
      ]
     },
     "execution_count": 24,
     "metadata": {},
     "output_type": "execute_result"
    }
   ],
   "source": [
    "alt.Chart(pd.DataFrame(enumerate(bbc_training_losses), columns=[\"epoch\", \"training_loss\"])).mark_bar().encode(x=\"epoch\", y=\"training_loss\")"
   ]
  },
  {
   "cell_type": "markdown",
   "metadata": {},
   "source": [
    "Let's take a look at the reduced dimensionality paragraph vectors."
   ]
  },
  {
   "cell_type": "code",
   "execution_count": 30,
   "metadata": {},
   "outputs": [
    {
     "name": "stdout",
     "output_type": "stream",
     "text": [
      "2-component PCA, explains 2.85% of variance\n"
     ]
    },
    {
     "data": {
      "application/vnd.vegalite.v2+json": {
       "$schema": "https://vega.github.io/schema/vega-lite/v2.6.0.json",
       "config": {
        "view": {
         "height": 300,
         "width": 400
        }
       },
       "data": {
        "name": "data-25665aeb5d703ca45930d65340f093a0"
       },
       "datasets": {
        "data-25665aeb5d703ca45930d65340f093a0": [
         {
          "group": "sport",
          "x": -1.3939310022546219,
          "y": -1.9614016938465584
         },
         {
          "group": "sport",
          "x": -0.3131036496750702,
          "y": 0.9117515502761024
         },
         {
          "group": "sport",
          "x": -1.3465589653937873,
          "y": 0.6092680541519918
         },
         {
          "group": "sport",
          "x": -0.9862205359898816,
          "y": 0.16919897521096508
         },
         {
          "group": "sport",
          "x": -0.9401283532823261,
          "y": -1.2551824494007364
         },
         {
          "group": "sport",
          "x": -1.0644068768640484,
          "y": 0.08806744877120716
         },
         {
          "group": "sport",
          "x": -1.2198935569369087,
          "y": -0.06476995609885548
         },
         {
          "group": "sport",
          "x": -1.1911843013171326,
          "y": -0.6900867115414956
         },
         {
          "group": "sport",
          "x": -1.36624466662386,
          "y": 0.9653971467411878
         },
         {
          "group": "sport",
          "x": -1.0644177252761626,
          "y": 1.36739307584764
         },
         {
          "group": "sport",
          "x": -0.3325603675636751,
          "y": -1.4902670514980403
         },
         {
          "group": "sport",
          "x": -1.8245739500867506,
          "y": 1.3111127784720222
         },
         {
          "group": "sport",
          "x": -0.889991589053751,
          "y": -0.6516791528305581
         },
         {
          "group": "sport",
          "x": -1.0924178198405288,
          "y": 0.7669910715611837
         },
         {
          "group": "sport",
          "x": -0.6635310199673657,
          "y": -1.5999091131173941
         },
         {
          "group": "sport",
          "x": -0.6702956195040239,
          "y": -0.7952540107813492
         },
         {
          "group": "sport",
          "x": -0.3954407930694894,
          "y": -1.4479724873108226
         },
         {
          "group": "sport",
          "x": -1.3769297132949603,
          "y": -0.2726560211267796
         },
         {
          "group": "sport",
          "x": -1.600286914404709,
          "y": -1.3590214309159596
         },
         {
          "group": "sport",
          "x": -0.5184711734664009,
          "y": -1.4882142056919834
         },
         {
          "group": "sport",
          "x": -1.6259873426715994,
          "y": -2.6178698968651126
         },
         {
          "group": "sport",
          "x": -0.0961272754552088,
          "y": -2.383977048703526
         },
         {
          "group": "sport",
          "x": -0.5733179490832095,
          "y": -0.8537291760557796
         },
         {
          "group": "sport",
          "x": -0.48410115747489846,
          "y": 0.4275404678858861
         },
         {
          "group": "sport",
          "x": -1.2123769553648427,
          "y": -0.32230845719438134
         },
         {
          "group": "sport",
          "x": -1.5790374213854332,
          "y": 0.38402186428651314
         },
         {
          "group": "sport",
          "x": -0.7566822080231993,
          "y": -1.2731413914456902
         },
         {
          "group": "sport",
          "x": -1.242763564738454,
          "y": 1.0439407657658777
         },
         {
          "group": "sport",
          "x": -1.3636470883849825,
          "y": 0.6199480214723562
         },
         {
          "group": "sport",
          "x": -1.365869686886819,
          "y": 0.5317060371055138
         },
         {
          "group": "sport",
          "x": -0.5563758604244572,
          "y": -0.10767418031807703
         },
         {
          "group": "sport",
          "x": -1.9016111396071675,
          "y": 0.9419824428041927
         },
         {
          "group": "sport",
          "x": -1.1030434329685403,
          "y": -0.9765948905380706
         },
         {
          "group": "sport",
          "x": -0.45280321387502226,
          "y": 0.7975631401178305
         },
         {
          "group": "sport",
          "x": 0.05637673617121426,
          "y": -0.2366196851885147
         },
         {
          "group": "sport",
          "x": -1.2603857129245748,
          "y": 1.546899873156546
         },
         {
          "group": "sport",
          "x": -0.8608059630898797,
          "y": -0.010406827246919447
         },
         {
          "group": "sport",
          "x": -1.6821987656977166,
          "y": -1.660256275799605
         },
         {
          "group": "sport",
          "x": -0.22790205010650036,
          "y": -0.4080556282822443
         },
         {
          "group": "sport",
          "x": -0.9936632479492437,
          "y": -1.3715811665288786
         },
         {
          "group": "sport",
          "x": -1.0517810144046666,
          "y": -0.051710274563753586
         },
         {
          "group": "sport",
          "x": -0.7617299135529245,
          "y": -0.2911581403191951
         },
         {
          "group": "sport",
          "x": -1.8890446300958095,
          "y": -0.43210663541648825
         },
         {
          "group": "sport",
          "x": -0.5408583940427121,
          "y": -0.8691211518045353
         },
         {
          "group": "sport",
          "x": -2.5276386589647957,
          "y": -0.8333196074675518
         },
         {
          "group": "sport",
          "x": -0.9976802884134468,
          "y": -1.3927227791132626
         },
         {
          "group": "sport",
          "x": -1.1442710289582878,
          "y": -0.26600916880998
         },
         {
          "group": "sport",
          "x": -1.1109895281741495,
          "y": -0.6380337856313009
         },
         {
          "group": "sport",
          "x": -1.458540472870694,
          "y": -1.1271346170309888
         },
         {
          "group": "sport",
          "x": -1.640453971498042,
          "y": 0.28631361513073267
         },
         {
          "group": "sport",
          "x": -1.0035523998041045,
          "y": -0.3678535752705538
         },
         {
          "group": "sport",
          "x": -0.6218765776428867,
          "y": -0.7126712327661582
         },
         {
          "group": "sport",
          "x": -0.9344448233975967,
          "y": 0.015361739265660443
         },
         {
          "group": "sport",
          "x": -0.5602756722714561,
          "y": -2.8103314925691283
         },
         {
          "group": "sport",
          "x": -1.1949674235777963,
          "y": 1.217130885794827
         },
         {
          "group": "sport",
          "x": -0.823694655773829,
          "y": -2.0036305416828597
         },
         {
          "group": "sport",
          "x": -0.5177819024799705,
          "y": -1.125461230730267
         },
         {
          "group": "sport",
          "x": -1.626955333656359,
          "y": -0.33306789327058023
         },
         {
          "group": "sport",
          "x": -0.8270498626823409,
          "y": -2.4732175574693476
         },
         {
          "group": "sport",
          "x": -1.260365267943884,
          "y": -0.2842701508139166
         },
         {
          "group": "sport",
          "x": -1.486213670158141,
          "y": -1.858992930983152
         },
         {
          "group": "sport",
          "x": -1.183952019269144,
          "y": 0.270119940120814
         },
         {
          "group": "sport",
          "x": -0.5022862343067735,
          "y": 0.12270756369798917
         },
         {
          "group": "sport",
          "x": -1.1914959251223807,
          "y": -2.7639518559033727
         },
         {
          "group": "sport",
          "x": -0.10475799605637603,
          "y": -1.4706927292585057
         },
         {
          "group": "sport",
          "x": -1.1157904311245819,
          "y": -1.3440210324609216
         },
         {
          "group": "sport",
          "x": -0.14194992662939349,
          "y": -1.5087993742611872
         },
         {
          "group": "sport",
          "x": -1.0353108890581666,
          "y": -1.8412128277409028
         },
         {
          "group": "sport",
          "x": -1.2726789280907884,
          "y": 0.09005431943523767
         },
         {
          "group": "sport",
          "x": -0.44993921660043823,
          "y": -1.532080933143898
         },
         {
          "group": "sport",
          "x": 0.13840247101249362,
          "y": -0.7047145081705932
         },
         {
          "group": "sport",
          "x": -0.17141548692616762,
          "y": -0.011489928992347449
         },
         {
          "group": "sport",
          "x": -1.5021625178966704,
          "y": -0.6282505634115705
         },
         {
          "group": "sport",
          "x": -0.34438567168301637,
          "y": -0.07590111915562246
         },
         {
          "group": "sport",
          "x": -1.676966914073267,
          "y": -0.5004435494210792
         },
         {
          "group": "sport",
          "x": -1.7216527991179922,
          "y": 2.6482728066232437
         },
         {
          "group": "sport",
          "x": -1.6494323808495157,
          "y": 1.0102203657088993
         },
         {
          "group": "sport",
          "x": -0.5687665508864633,
          "y": -1.6695551251707157
         },
         {
          "group": "sport",
          "x": -0.3434198133222839,
          "y": -0.16564784144341038
         },
         {
          "group": "sport",
          "x": -0.8231362656944016,
          "y": 1.2402630596153053
         },
         {
          "group": "sport",
          "x": -1.4845484960687774,
          "y": -0.4759145436546206
         },
         {
          "group": "sport",
          "x": -0.7702752198993702,
          "y": 1.7157571165920704
         },
         {
          "group": "sport",
          "x": -1.240755478809906,
          "y": 0.8370973573747033
         },
         {
          "group": "sport",
          "x": -0.722554071679298,
          "y": -1.4895475674135712
         },
         {
          "group": "sport",
          "x": -1.0080246119580198,
          "y": -0.44257363524835414
         },
         {
          "group": "sport",
          "x": -1.2344405246060572,
          "y": 0.6582861793443836
         },
         {
          "group": "sport",
          "x": -0.7641844382172607,
          "y": 1.9074918896246844
         },
         {
          "group": "sport",
          "x": -1.5429807016391024,
          "y": -0.8268508051375697
         },
         {
          "group": "sport",
          "x": -1.4404469517518088,
          "y": -0.33077140056314625
         },
         {
          "group": "sport",
          "x": -1.993008439451293,
          "y": 0.7294672090201996
         },
         {
          "group": "sport",
          "x": -1.3010159198060742,
          "y": 1.937689577168821
         },
         {
          "group": "sport",
          "x": 0.06781267171669113,
          "y": -2.8838019665608403
         },
         {
          "group": "sport",
          "x": -1.1099501745028097,
          "y": -1.678770187087736
         },
         {
          "group": "sport",
          "x": -2.3408704740951736,
          "y": 0.361802258271358
         },
         {
          "group": "sport",
          "x": -1.0155419138512132,
          "y": -1.9332839708394898
         },
         {
          "group": "sport",
          "x": -1.1934844316453932,
          "y": -0.7292221199067503
         },
         {
          "group": "sport",
          "x": -0.5410362967420278,
          "y": -2.2912634729420533
         },
         {
          "group": "sport",
          "x": -1.626002369066612,
          "y": -0.3661152516340721
         },
         {
          "group": "sport",
          "x": -0.5092729554500959,
          "y": -1.5204127463196202
         },
         {
          "group": "sport",
          "x": -1.3540686591872722,
          "y": 1.9757189597509934
         },
         {
          "group": "sport",
          "x": -1.273433520431844,
          "y": 0.8521103564515541
         },
         {
          "group": "sport",
          "x": -0.6151428509710494,
          "y": -0.029996330972635266
         },
         {
          "group": "sport",
          "x": -0.5855307637359686,
          "y": -2.1263292397007243
         },
         {
          "group": "sport",
          "x": -0.5994314620624007,
          "y": -1.2577680326781369
         },
         {
          "group": "sport",
          "x": -1.1597910419493789,
          "y": -1.7899947678409325
         },
         {
          "group": "sport",
          "x": -0.7164579317921511,
          "y": 0.1717735230135778
         },
         {
          "group": "sport",
          "x": -0.9692596070985776,
          "y": -1.494995671192247
         },
         {
          "group": "sport",
          "x": -0.09518785367903361,
          "y": -0.5398339637005585
         },
         {
          "group": "sport",
          "x": -0.8879784671424632,
          "y": -0.6150001706546868
         },
         {
          "group": "sport",
          "x": -1.0746170315634067,
          "y": 1.5620616331854218
         },
         {
          "group": "sport",
          "x": -0.6192406577664329,
          "y": 1.1298052097382967
         },
         {
          "group": "sport",
          "x": -1.5141875946968473,
          "y": 0.5559225656476597
         },
         {
          "group": "sport",
          "x": -1.3030882443238199,
          "y": -0.5041972560918748
         },
         {
          "group": "sport",
          "x": -2.2429313939096183,
          "y": 3.299367655178983
         },
         {
          "group": "sport",
          "x": -1.6874968393963492,
          "y": 1.5301799231308657
         },
         {
          "group": "sport",
          "x": -0.8628172334904828,
          "y": 0.8696465567275096
         },
         {
          "group": "sport",
          "x": -1.1205830857954433,
          "y": -0.6671465418305842
         },
         {
          "group": "sport",
          "x": -0.932047546227222,
          "y": 1.020542120094599
         },
         {
          "group": "sport",
          "x": -0.9035898675926237,
          "y": -0.10442972401028365
         },
         {
          "group": "sport",
          "x": -1.328616387217019,
          "y": 2.025690735103913
         },
         {
          "group": "sport",
          "x": -1.5512386862407503,
          "y": 0.8392574488506771
         },
         {
          "group": "sport",
          "x": -0.05858544351243843,
          "y": -0.6568918919328244
         },
         {
          "group": "sport",
          "x": -1.0963206866444324,
          "y": -0.5440961267532896
         },
         {
          "group": "sport",
          "x": -0.7649501000883697,
          "y": 0.689824162336584
         },
         {
          "group": "sport",
          "x": -1.117907897816107,
          "y": -1.036413275668644
         },
         {
          "group": "sport",
          "x": -0.5263251283207762,
          "y": -0.3063479110385118
         },
         {
          "group": "sport",
          "x": -0.8115693877551377,
          "y": -0.7494211041619564
         },
         {
          "group": "sport",
          "x": -1.6160649422400604,
          "y": -1.9921597367419226
         },
         {
          "group": "sport",
          "x": -1.3196846101849482,
          "y": -0.462541641228324
         },
         {
          "group": "sport",
          "x": -0.7986290860166889,
          "y": -0.1210999885360974
         },
         {
          "group": "sport",
          "x": -0.42759612024789323,
          "y": 0.6949851532701061
         },
         {
          "group": "sport",
          "x": -0.9240141732181247,
          "y": -0.8925853318216649
         },
         {
          "group": "sport",
          "x": -1.3830833586410802,
          "y": -0.47017778962296686
         },
         {
          "group": "sport",
          "x": -1.4903186654907044,
          "y": 0.6030822267770528
         },
         {
          "group": "sport",
          "x": -1.1682183981729706,
          "y": -1.3002868765020874
         },
         {
          "group": "sport",
          "x": -0.8890327706895256,
          "y": 0.7993932358290776
         },
         {
          "group": "sport",
          "x": -0.9577450435759549,
          "y": -1.2606173487721035
         },
         {
          "group": "sport",
          "x": -1.7286376831243624,
          "y": -0.2861787927082836
         },
         {
          "group": "sport",
          "x": -1.7267499845485081,
          "y": 0.95350485884097
         },
         {
          "group": "sport",
          "x": -0.5519878344153795,
          "y": -2.8159837772170184
         },
         {
          "group": "sport",
          "x": -0.9901552263303424,
          "y": 1.2567138980875059
         },
         {
          "group": "sport",
          "x": -0.7761163369558766,
          "y": -0.5874548170957933
         },
         {
          "group": "sport",
          "x": -0.9064210187290376,
          "y": -2.2582583777225516
         },
         {
          "group": "sport",
          "x": -1.2212390282579024,
          "y": 0.09570610166459016
         },
         {
          "group": "sport",
          "x": -2.10717392671339,
          "y": 0.13656780162939633
         },
         {
          "group": "sport",
          "x": -0.8579626326695805,
          "y": -1.9152475086965792
         },
         {
          "group": "sport",
          "x": -1.6664741027077652,
          "y": 0.8216905879323988
         },
         {
          "group": "sport",
          "x": -1.1025742368042555,
          "y": 0.22324305684934673
         },
         {
          "group": "sport",
          "x": -2.063911704679373,
          "y": 0.43906927120668204
         },
         {
          "group": "sport",
          "x": -1.4383710182960707,
          "y": -1.9226069768154461
         },
         {
          "group": "sport",
          "x": -1.5612386354623617,
          "y": 0.9086747363187847
         },
         {
          "group": "sport",
          "x": -0.9869123596145165,
          "y": -0.6702546091396351
         },
         {
          "group": "sport",
          "x": -0.7528924717289238,
          "y": -0.572141899302895
         },
         {
          "group": "sport",
          "x": -1.1251982380395753,
          "y": 0.10112423671942669
         },
         {
          "group": "sport",
          "x": -1.1087350377426555,
          "y": -0.03377076880472811
         },
         {
          "group": "sport",
          "x": -1.3390785023237155,
          "y": 0.8236025997223819
         },
         {
          "group": "sport",
          "x": -0.6509576629871515,
          "y": 1.313701710342676
         },
         {
          "group": "sport",
          "x": -1.0650476537692175,
          "y": -1.661393818904676
         },
         {
          "group": "sport",
          "x": -0.9054933832007878,
          "y": 0.854411834415029
         },
         {
          "group": "sport",
          "x": -1.1525186254095923,
          "y": 0.07601254548012665
         },
         {
          "group": "sport",
          "x": -0.6510802994624557,
          "y": -0.650643634771581
         },
         {
          "group": "sport",
          "x": -1.6690416706845967,
          "y": -0.37755257729487146
         },
         {
          "group": "sport",
          "x": -1.3162231999140668,
          "y": 0.9743348177229147
         },
         {
          "group": "sport",
          "x": -0.9650257780655371,
          "y": 1.6880735937564502
         },
         {
          "group": "sport",
          "x": -1.4175129962994917,
          "y": 0.08754446467516697
         },
         {
          "group": "sport",
          "x": -1.0248484947073409,
          "y": -0.6301106009919638
         },
         {
          "group": "sport",
          "x": -0.7370229509741837,
          "y": -0.13969330359944906
         },
         {
          "group": "sport",
          "x": -0.6374108378595876,
          "y": -1.6350355942427364
         },
         {
          "group": "sport",
          "x": -1.3965066498471441,
          "y": -0.9170606524245256
         },
         {
          "group": "sport",
          "x": -0.9293640684668518,
          "y": -1.4729281229870932
         },
         {
          "group": "sport",
          "x": -0.5040240080014797,
          "y": -1.0320356672145365
         },
         {
          "group": "sport",
          "x": -1.107668733930511,
          "y": -0.7026310879787573
         },
         {
          "group": "sport",
          "x": -0.47488034429653686,
          "y": -1.1601152876704905
         },
         {
          "group": "sport",
          "x": -0.4804210141695022,
          "y": -1.2073037422308919
         },
         {
          "group": "sport",
          "x": -0.2245149391991743,
          "y": -1.079634744109491
         },
         {
          "group": "sport",
          "x": -1.0558393403816344,
          "y": -0.2832635342855533
         },
         {
          "group": "sport",
          "x": -0.5679899786335462,
          "y": 1.768069296120026
         },
         {
          "group": "sport",
          "x": -1.1194048739329803,
          "y": 1.8837446144146932
         },
         {
          "group": "sport",
          "x": -1.0291412664656214,
          "y": -0.5211114910555278
         },
         {
          "group": "sport",
          "x": -1.7143458263448272,
          "y": -1.4917519355682773
         },
         {
          "group": "sport",
          "x": -1.0904756491016971,
          "y": -1.9600242043529488
         },
         {
          "group": "sport",
          "x": -0.23129318613795455,
          "y": -1.7493878732411745
         },
         {
          "group": "sport",
          "x": -0.7650443350080327,
          "y": -0.687899575481049
         },
         {
          "group": "sport",
          "x": -1.011983801394179,
          "y": -2.891731846544945
         },
         {
          "group": "sport",
          "x": -0.9584228436556556,
          "y": -0.5798465517270839
         },
         {
          "group": "sport",
          "x": -1.2667537517604053,
          "y": 0.039888888941218933
         },
         {
          "group": "sport",
          "x": -0.7955065013788746,
          "y": 0.1041036945470822
         },
         {
          "group": "sport",
          "x": -1.0712419394154993,
          "y": 0.6398202249629766
         },
         {
          "group": "sport",
          "x": -0.48048564465931504,
          "y": -0.42320479719471643
         },
         {
          "group": "sport",
          "x": -2.6520867708183893,
          "y": 1.8956120418005313
         },
         {
          "group": "sport",
          "x": 0.011958662487010397,
          "y": -0.0070288264604664915
         },
         {
          "group": "sport",
          "x": -0.9297243134344251,
          "y": 1.8315392148248213
         },
         {
          "group": "sport",
          "x": -1.8006669801955384,
          "y": 1.2960136471850747
         },
         {
          "group": "sport",
          "x": -0.9720333329566373,
          "y": 1.344554842595372
         },
         {
          "group": "sport",
          "x": -1.2194160632916997,
          "y": -1.0242952323655514
         },
         {
          "group": "sport",
          "x": -1.945245249164179,
          "y": 2.3356219519317176
         },
         {
          "group": "sport",
          "x": -1.4000091362799034,
          "y": 1.2939602802357186
         },
         {
          "group": "sport",
          "x": -1.7206392010131457,
          "y": -0.5043517074741403
         },
         {
          "group": "sport",
          "x": -0.7779858147096637,
          "y": -0.5577355225732239
         },
         {
          "group": "sport",
          "x": -1.038360326944005,
          "y": 0.0897008308406892
         },
         {
          "group": "sport",
          "x": -0.5376634752353092,
          "y": -0.6019878488206406
         },
         {
          "group": "sport",
          "x": 0.3935407030396599,
          "y": -2.6889495989435597
         },
         {
          "group": "sport",
          "x": -0.8954615554077744,
          "y": -0.47024932376265666
         },
         {
          "group": "sport",
          "x": -1.3763350555131226,
          "y": -1.212759840170704
         },
         {
          "group": "sport",
          "x": -0.8113279632385402,
          "y": -0.4666090977667574
         },
         {
          "group": "sport",
          "x": -1.3839537823866972,
          "y": 0.25615697082070826
         },
         {
          "group": "sport",
          "x": -0.8557745429579477,
          "y": 0.7448907463105089
         },
         {
          "group": "sport",
          "x": 0.0022686821594446317,
          "y": -3.648186694024406
         },
         {
          "group": "sport",
          "x": -0.6859838631906334,
          "y": -0.13910509994569414
         },
         {
          "group": "sport",
          "x": -0.9542014415735625,
          "y": 0.8785907608512756
         },
         {
          "group": "sport",
          "x": -0.840833336516431,
          "y": -0.36545923988285045
         },
         {
          "group": "sport",
          "x": -0.6724264455896597,
          "y": -0.40276213423082197
         },
         {
          "group": "sport",
          "x": -1.204448606112945,
          "y": -1.9540732020129268
         },
         {
          "group": "sport",
          "x": -1.6127666903957476,
          "y": -1.150026992981837
         },
         {
          "group": "sport",
          "x": -1.162743509341652,
          "y": -0.2465126069113406
         },
         {
          "group": "sport",
          "x": -0.7989080959785925,
          "y": 0.8242992927768803
         },
         {
          "group": "sport",
          "x": -1.537451388641284,
          "y": 0.8528219341268425
         },
         {
          "group": "sport",
          "x": -1.2393373382561013,
          "y": -1.486565333762787
         },
         {
          "group": "sport",
          "x": -1.8717047683275776,
          "y": -2.3152998413114148
         },
         {
          "group": "sport",
          "x": -1.2719738203294408,
          "y": -0.20498487206660934
         },
         {
          "group": "sport",
          "x": -0.7089772207847437,
          "y": -0.4752001085325923
         },
         {
          "group": "sport",
          "x": -1.2807153838615584,
          "y": -0.21192404908990634
         },
         {
          "group": "sport",
          "x": -1.5495878681932402,
          "y": 1.0887714476876043
         },
         {
          "group": "sport",
          "x": -0.6886295917521398,
          "y": -1.196396405030575
         },
         {
          "group": "sport",
          "x": -0.7230536803468433,
          "y": -2.0899064229394924
         },
         {
          "group": "sport",
          "x": -1.0333551084583454,
          "y": -1.824393127373982
         },
         {
          "group": "sport",
          "x": -1.0311671485819482,
          "y": 1.4561645450745666
         },
         {
          "group": "sport",
          "x": -1.7872464213004216,
          "y": 0.4263594815609669
         },
         {
          "group": "sport",
          "x": 0.05445553369532297,
          "y": -2.3468381458722445
         },
         {
          "group": "sport",
          "x": -1.0062997686628241,
          "y": 0.1805406448983954
         },
         {
          "group": "sport",
          "x": -0.7257201425430676,
          "y": 0.6580192571417744
         },
         {
          "group": "sport",
          "x": -0.4443928492628003,
          "y": -1.2413149286544696
         },
         {
          "group": "sport",
          "x": -0.8458660729183708,
          "y": -1.50474054775459
         },
         {
          "group": "sport",
          "x": -1.1455048429971662,
          "y": -1.7890174045695486
         },
         {
          "group": "sport",
          "x": -0.72994978749391,
          "y": -0.8537621846435822
         },
         {
          "group": "sport",
          "x": -0.6697157956339033,
          "y": 1.3588714254610372
         },
         {
          "group": "sport",
          "x": -0.6417984667626198,
          "y": 0.8634565532959468
         },
         {
          "group": "sport",
          "x": -0.6568631492629774,
          "y": -1.2866196094781988
         },
         {
          "group": "sport",
          "x": -0.2904726638117202,
          "y": -1.303847529107023
         },
         {
          "group": "sport",
          "x": -1.7442996885284394,
          "y": -0.6634947187264787
         },
         {
          "group": "sport",
          "x": -0.641635888504228,
          "y": -1.3028702092618745
         },
         {
          "group": "sport",
          "x": -1.3049140200796492,
          "y": 0.9130382198494086
         },
         {
          "group": "sport",
          "x": -1.123005534220982,
          "y": 1.317060784824725
         },
         {
          "group": "sport",
          "x": -0.8547227384408955,
          "y": -1.59959126145566
         },
         {
          "group": "sport",
          "x": -0.6538969313903904,
          "y": 1.191458818669461
         },
         {
          "group": "sport",
          "x": -1.4902454583418345,
          "y": -0.414137093198734
         },
         {
          "group": "sport",
          "x": -1.1018581774158474,
          "y": 0.8730172365237235
         },
         {
          "group": "sport",
          "x": 0.07230549511972865,
          "y": -1.1715339073648259
         },
         {
          "group": "sport",
          "x": -1.5182537095173483,
          "y": 1.3071710460717203
         },
         {
          "group": "sport",
          "x": -0.9099484094458924,
          "y": 0.8559028859585502
         },
         {
          "group": "sport",
          "x": -0.9583078737589373,
          "y": 0.6798042393798998
         },
         {
          "group": "sport",
          "x": -1.046365779094583,
          "y": -0.761469986501597
         },
         {
          "group": "sport",
          "x": -0.7133054393042754,
          "y": -1.5730854833196646
         },
         {
          "group": "sport",
          "x": -0.7497396804057886,
          "y": -0.5769925404897939
         },
         {
          "group": "sport",
          "x": -1.2299089813407964,
          "y": -0.21706618224516877
         },
         {
          "group": "sport",
          "x": -0.7013643412246682,
          "y": -2.162147086881641
         },
         {
          "group": "sport",
          "x": -1.1360211699010792,
          "y": 0.1416748256522583
         },
         {
          "group": "sport",
          "x": -0.7058448688813387,
          "y": -0.25109369591914177
         },
         {
          "group": "sport",
          "x": -1.0964458375160102,
          "y": 2.2539368728655402
         },
         {
          "group": "sport",
          "x": -1.47424682374592,
          "y": 0.7568033369284186
         },
         {
          "group": "sport",
          "x": -1.0945955451469138,
          "y": -0.9117446523049182
         },
         {
          "group": "sport",
          "x": -1.0258007064061458,
          "y": -0.12744013553621067
         },
         {
          "group": "sport",
          "x": -0.5557690171721132,
          "y": -0.7350089275992945
         },
         {
          "group": "sport",
          "x": -0.678403438874432,
          "y": -1.205500903819115
         },
         {
          "group": "sport",
          "x": -0.9653539688859449,
          "y": -3.024295399570344
         },
         {
          "group": "sport",
          "x": -0.6056423255546676,
          "y": -0.22734484153107032
         },
         {
          "group": "sport",
          "x": -1.0019848201044737,
          "y": -1.7138165639551637
         },
         {
          "group": "sport",
          "x": -0.03498547304217891,
          "y": 0.5889375207320658
         },
         {
          "group": "sport",
          "x": -0.9373644111923461,
          "y": -1.3516402356264656
         },
         {
          "group": "sport",
          "x": -1.668588709226735,
          "y": 0.8580588346274555
         },
         {
          "group": "sport",
          "x": -0.7799598802367873,
          "y": 0.6280300347464318
         },
         {
          "group": "sport",
          "x": -1.268449804559168,
          "y": 0.3970484402980581
         },
         {
          "group": "sport",
          "x": -0.5380395693137001,
          "y": -0.08253899492242492
         },
         {
          "group": "sport",
          "x": -1.2689074321076261,
          "y": -0.07785923135544066
         },
         {
          "group": "sport",
          "x": -1.0652162088701917,
          "y": 0.5806791640439805
         },
         {
          "group": "sport",
          "x": -0.854301387467394,
          "y": -1.5642554932207529
         },
         {
          "group": "sport",
          "x": -0.6375791317988567,
          "y": -0.228166258791474
         },
         {
          "group": "sport",
          "x": -1.0485122577467008,
          "y": 0.6047302333421458
         },
         {
          "group": "sport",
          "x": -0.7043259518779779,
          "y": -0.10632293992255613
         },
         {
          "group": "sport",
          "x": -0.5826545207170573,
          "y": -0.5312072341214489
         },
         {
          "group": "sport",
          "x": -1.1786859157800242,
          "y": -0.12982915585836033
         },
         {
          "group": "sport",
          "x": -1.4051394035820055,
          "y": 1.2369374668289703
         },
         {
          "group": "sport",
          "x": -0.8695628603185189,
          "y": -0.14730421759833046
         },
         {
          "group": "sport",
          "x": -0.43428166170038074,
          "y": -1.016374841890948
         },
         {
          "group": "sport",
          "x": -0.5089098668241531,
          "y": -0.3540213414851647
         },
         {
          "group": "sport",
          "x": -1.406000345173975,
          "y": 0.21036345214639732
         },
         {
          "group": "sport",
          "x": -0.7012108694358005,
          "y": -0.14460621662262857
         },
         {
          "group": "sport",
          "x": -1.1104028271374944,
          "y": -0.8635490237823267
         },
         {
          "group": "sport",
          "x": -1.784349820152734,
          "y": -0.5580087038425143
         },
         {
          "group": "sport",
          "x": -0.7501556277524601,
          "y": 0.4928386614981392
         },
         {
          "group": "sport",
          "x": -1.4912701694037092,
          "y": 0.28513520665079306
         },
         {
          "group": "sport",
          "x": -1.0237615186692401,
          "y": -0.6722291505209426
         },
         {
          "group": "sport",
          "x": -0.4874266145208152,
          "y": 0.3344333688263972
         },
         {
          "group": "sport",
          "x": -1.5728625207097229,
          "y": 0.2686799685683747
         },
         {
          "group": "sport",
          "x": -1.7224761452346045,
          "y": -0.5899932619217272
         },
         {
          "group": "sport",
          "x": -1.5364852513844725,
          "y": 0.4156651358415504
         },
         {
          "group": "sport",
          "x": -1.7842017755483341,
          "y": 1.4872522503701164
         },
         {
          "group": "sport",
          "x": -0.6403794097342779,
          "y": -0.8229346312324485
         },
         {
          "group": "sport",
          "x": -1.0532687492970718,
          "y": -0.3255105477282868
         },
         {
          "group": "sport",
          "x": -0.32397010540597604,
          "y": -0.5169533770902951
         },
         {
          "group": "sport",
          "x": -1.2430035669895678,
          "y": 0.8425043154747804
         },
         {
          "group": "sport",
          "x": -1.1127274198299275,
          "y": 0.8903637602519404
         },
         {
          "group": "sport",
          "x": -1.9315710922336502,
          "y": 0.6449441469969878
         },
         {
          "group": "sport",
          "x": -0.6495687757454621,
          "y": -0.8066894957411908
         },
         {
          "group": "sport",
          "x": -1.7138446036317039,
          "y": 1.1973386392008576
         },
         {
          "group": "sport",
          "x": -0.7968432469475373,
          "y": -0.03636335937767618
         },
         {
          "group": "sport",
          "x": -0.5347928287425245,
          "y": -2.0501890003621748
         },
         {
          "group": "sport",
          "x": -1.0494900149615418,
          "y": 0.7124353082563771
         },
         {
          "group": "sport",
          "x": -1.4492536230202,
          "y": -0.7337941245531763
         },
         {
          "group": "sport",
          "x": -1.8210395070264584,
          "y": -1.109406737637775
         },
         {
          "group": "sport",
          "x": -1.7960508877193961,
          "y": -1.7596063914405147
         },
         {
          "group": "sport",
          "x": -1.7177434975980532,
          "y": -0.6401727488560096
         },
         {
          "group": "sport",
          "x": -2.0064487603092656,
          "y": -1.6526393340287298
         },
         {
          "group": "sport",
          "x": -1.0212952904980526,
          "y": 0.372138015064432
         },
         {
          "group": "sport",
          "x": -1.121455269676513,
          "y": -1.7216359695730468
         },
         {
          "group": "sport",
          "x": -1.041313125916605,
          "y": -0.3835071847640769
         },
         {
          "group": "sport",
          "x": -1.194036753017328,
          "y": -0.30712516451838295
         },
         {
          "group": "sport",
          "x": -0.30269456296562414,
          "y": -1.324912170224016
         },
         {
          "group": "sport",
          "x": -0.912797568534263,
          "y": -0.39655510386480525
         },
         {
          "group": "sport",
          "x": -0.8443481771704257,
          "y": -0.16190418882462948
         },
         {
          "group": "sport",
          "x": -1.3093632719561725,
          "y": -1.443668914094988
         },
         {
          "group": "sport",
          "x": -1.253783929558358,
          "y": -2.5028980956085807
         },
         {
          "group": "sport",
          "x": -0.9551460992890395,
          "y": -1.2847941310262174
         },
         {
          "group": "sport",
          "x": -0.6404510695617259,
          "y": 0.3531742150285309
         },
         {
          "group": "sport",
          "x": -0.725728840692474,
          "y": -2.4364331984777636
         },
         {
          "group": "sport",
          "x": -1.0177380532086417,
          "y": 0.4915021436298652
         },
         {
          "group": "sport",
          "x": -0.5928592241350376,
          "y": -1.4304117094364108
         },
         {
          "group": "sport",
          "x": -1.416628698463742,
          "y": -1.2307248707548815
         },
         {
          "group": "sport",
          "x": -1.0254159780033107,
          "y": -1.045353699325207
         },
         {
          "group": "sport",
          "x": -1.7295724286767145,
          "y": 0.5525667501071604
         },
         {
          "group": "sport",
          "x": -0.6920847111464603,
          "y": -1.5737982229372374
         },
         {
          "group": "sport",
          "x": -1.0986331729332568,
          "y": 0.2185219068544665
         },
         {
          "group": "sport",
          "x": -1.467657721064391,
          "y": -0.26722881027799594
         },
         {
          "group": "sport",
          "x": -1.24196740656671,
          "y": -1.9097966593409499
         },
         {
          "group": "sport",
          "x": -2.540043160646315,
          "y": 0.5522828084973236
         },
         {
          "group": "sport",
          "x": -0.4114170886631248,
          "y": 0.08513242739028208
         },
         {
          "group": "sport",
          "x": -1.203402522606455,
          "y": -2.1548059601008998
         },
         {
          "group": "sport",
          "x": -1.9921601360638437,
          "y": -1.329676578975001
         },
         {
          "group": "sport",
          "x": -0.7977779178110335,
          "y": -2.1792524010496246
         },
         {
          "group": "sport",
          "x": -1.8563487571229682,
          "y": 1.247318464138793
         },
         {
          "group": "sport",
          "x": -1.8748889666545838,
          "y": 0.24940528514344237
         },
         {
          "group": "sport",
          "x": -1.6285384873781785,
          "y": -0.2638595507914864
         },
         {
          "group": "sport",
          "x": -1.6135444746694112,
          "y": -0.3711433721703531
         },
         {
          "group": "sport",
          "x": -2.263426329514436,
          "y": 1.40629572330218
         },
         {
          "group": "sport",
          "x": -1.491764332640014,
          "y": -1.063671452849212
         },
         {
          "group": "sport",
          "x": -0.6284531743873594,
          "y": -0.7989246916287163
         },
         {
          "group": "sport",
          "x": -0.9954205877592717,
          "y": 0.0020022999024259113
         },
         {
          "group": "sport",
          "x": -1.624397503671472,
          "y": -0.5490971580300327
         },
         {
          "group": "sport",
          "x": -0.882250375777258,
          "y": -2.0679334132446328
         },
         {
          "group": "sport",
          "x": -0.8904043410699819,
          "y": -1.876147445516616
         },
         {
          "group": "sport",
          "x": -0.8890785519678953,
          "y": -1.744177203974815
         },
         {
          "group": "sport",
          "x": -1.2427060992101302,
          "y": -2.6785517723393477
         },
         {
          "group": "sport",
          "x": -0.8749463170797761,
          "y": -0.5244899730317445
         },
         {
          "group": "sport",
          "x": -1.7386789882875515,
          "y": 0.6837204741829066
         },
         {
          "group": "sport",
          "x": -1.3854847281773301,
          "y": 0.5347153616756354
         },
         {
          "group": "sport",
          "x": -2.278088125001685,
          "y": -0.726230633986972
         },
         {
          "group": "sport",
          "x": -0.14656027534197152,
          "y": -0.14859382016290035
         },
         {
          "group": "sport",
          "x": -0.9702535973258103,
          "y": 1.9051768784527159
         },
         {
          "group": "sport",
          "x": -1.1625524969570005,
          "y": 0.4213579298320628
         },
         {
          "group": "sport",
          "x": -1.0929043358206547,
          "y": -1.74797786160869
         },
         {
          "group": "sport",
          "x": -0.751794193602751,
          "y": -1.0915033349581387
         },
         {
          "group": "sport",
          "x": -0.5751389058858275,
          "y": 0.6886760155730748
         },
         {
          "group": "sport",
          "x": -0.7535967774324877,
          "y": 0.393050601586554
         },
         {
          "group": "sport",
          "x": -1.458675812041851,
          "y": 0.9738349888449122
         },
         {
          "group": "sport",
          "x": -1.7462482807301185,
          "y": -0.4794268313280307
         },
         {
          "group": "sport",
          "x": -0.8244128973818152,
          "y": -1.816871656512726
         },
         {
          "group": "sport",
          "x": -0.8741167091080279,
          "y": -1.664509368227859
         },
         {
          "group": "sport",
          "x": -0.8889488203905777,
          "y": -1.2678977421598454
         },
         {
          "group": "sport",
          "x": 0.027234841097609642,
          "y": -2.021098545087646
         },
         {
          "group": "sport",
          "x": -0.5738770997713062,
          "y": 0.322177798549649
         },
         {
          "group": "sport",
          "x": -1.9382923038577926,
          "y": -1.0164892297204298
         },
         {
          "group": "sport",
          "x": -0.9355699042069374,
          "y": 0.6217700299737433
         },
         {
          "group": "sport",
          "x": -1.559237192432027,
          "y": 1.0232716320472668
         },
         {
          "group": "sport",
          "x": -0.935936670567768,
          "y": -0.11154923237161062
         },
         {
          "group": "sport",
          "x": -0.7692943841509801,
          "y": 0.8038608744353876
         },
         {
          "group": "sport",
          "x": -1.2064022922576139,
          "y": -0.9361198063445161
         },
         {
          "group": "sport",
          "x": -1.1344895584751493,
          "y": 0.9186058593218047
         },
         {
          "group": "sport",
          "x": -0.3878758911884303,
          "y": -1.6699548618532047
         },
         {
          "group": "sport",
          "x": -1.1256548116713323,
          "y": 0.7734789331169714
         },
         {
          "group": "sport",
          "x": -1.326656205807621,
          "y": 1.086571407196401
         },
         {
          "group": "sport",
          "x": -1.2676099589010026,
          "y": -0.4350382547760058
         },
         {
          "group": "sport",
          "x": -0.09200081114394137,
          "y": -1.9570915093902004
         },
         {
          "group": "sport",
          "x": -1.1207045327615475,
          "y": 0.42127505587886954
         },
         {
          "group": "sport",
          "x": -1.0981218658065894,
          "y": 0.7944759970844449
         },
         {
          "group": "sport",
          "x": -1.7337013412454738,
          "y": 0.6336770240616065
         },
         {
          "group": "sport",
          "x": -0.5546642701773798,
          "y": -1.0212745198821762
         },
         {
          "group": "sport",
          "x": -1.5964229474396237,
          "y": 0.24343128969151628
         },
         {
          "group": "sport",
          "x": -0.5412543623877676,
          "y": -0.43286010251292006
         },
         {
          "group": "sport",
          "x": -1.5053447182515634,
          "y": -0.05765504437040536
         },
         {
          "group": "sport",
          "x": -0.216143680798254,
          "y": -1.0558694933210542
         },
         {
          "group": "sport",
          "x": -0.8624347104491672,
          "y": -0.38345104859489254
         },
         {
          "group": "sport",
          "x": -1.803308073895046,
          "y": -1.0397106508132363
         },
         {
          "group": "sport",
          "x": -1.151151735479512,
          "y": -0.4222109510111081
         },
         {
          "group": "sport",
          "x": -1.1380175443754306,
          "y": -1.1036843351656347
         },
         {
          "group": "sport",
          "x": -2.1809305912140022,
          "y": 0.3000013690885095
         },
         {
          "group": "sport",
          "x": -0.37355256970862677,
          "y": 0.18300069867420257
         },
         {
          "group": "sport",
          "x": -0.7190261331225957,
          "y": -0.3653954830484485
         },
         {
          "group": "sport",
          "x": -0.59270954069251,
          "y": -0.982265706875683
         },
         {
          "group": "sport",
          "x": -0.6126914516527874,
          "y": 2.8804296466999433
         },
         {
          "group": "sport",
          "x": -1.1731553147540121,
          "y": 1.1939698998097763
         },
         {
          "group": "sport",
          "x": -1.7036234503865422,
          "y": -1.2144860694358817
         },
         {
          "group": "sport",
          "x": -1.1082325428984787,
          "y": -0.006058273868986065
         },
         {
          "group": "sport",
          "x": -0.16400362741922506,
          "y": -2.3508965657764542
         },
         {
          "group": "sport",
          "x": -0.3929629826676021,
          "y": -1.842576081194495
         },
         {
          "group": "sport",
          "x": -0.8085238416780932,
          "y": -1.9077526453091558
         },
         {
          "group": "sport",
          "x": -0.7504267545283283,
          "y": -1.0440065990402292
         },
         {
          "group": "sport",
          "x": -2.3188949577184714,
          "y": 0.6906751307131135
         },
         {
          "group": "sport",
          "x": -1.135996052972659,
          "y": 0.5851276175387463
         },
         {
          "group": "sport",
          "x": -0.35209276435696873,
          "y": 0.05914731221633592
         },
         {
          "group": "sport",
          "x": -1.6396018453968686,
          "y": -0.5675480025808239
         },
         {
          "group": "sport",
          "x": -1.5680844561919325,
          "y": -0.7362676916498306
         },
         {
          "group": "sport",
          "x": -1.770635928511842,
          "y": 0.7497738643402196
         },
         {
          "group": "sport",
          "x": -1.7386293184548063,
          "y": -0.28775334193376356
         },
         {
          "group": "sport",
          "x": -1.2810569261765696,
          "y": -1.37969459494019
         },
         {
          "group": "sport",
          "x": -2.456703067526916,
          "y": 0.05008707812990869
         },
         {
          "group": "sport",
          "x": -2.4670822549768445,
          "y": -1.8212541217456437
         },
         {
          "group": "sport",
          "x": -0.9560896884267202,
          "y": 1.1733972665949344
         },
         {
          "group": "sport",
          "x": -2.545557626020702,
          "y": -1.3942365743356362
         },
         {
          "group": "sport",
          "x": -2.101490897967943,
          "y": 1.611838804275714
         },
         {
          "group": "sport",
          "x": -1.3197330560790927,
          "y": -0.6295865436004858
         },
         {
          "group": "sport",
          "x": -2.612143765579054,
          "y": 0.33379623229838296
         },
         {
          "group": "sport",
          "x": -1.78938075822393,
          "y": -0.22908793431698918
         },
         {
          "group": "sport",
          "x": -3.695852557818356,
          "y": 2.0762347496534526
         },
         {
          "group": "sport",
          "x": -1.3475071474900335,
          "y": -0.5466028755902752
         },
         {
          "group": "sport",
          "x": -2.9001184967424525,
          "y": -0.9599247080750556
         },
         {
          "group": "sport",
          "x": -1.4455688395190291,
          "y": 2.9956723200642412
         },
         {
          "group": "sport",
          "x": -2.889883274633617,
          "y": 1.1536943035561997
         },
         {
          "group": "sport",
          "x": -2.230766889201145,
          "y": 1.1504689752973432
         },
         {
          "group": "sport",
          "x": -2.1959457320391977,
          "y": 0.8532679600827423
         },
         {
          "group": "sport",
          "x": -2.1353793493144013,
          "y": -1.5487016783608611
         },
         {
          "group": "sport",
          "x": -2.6173708954357893,
          "y": -1.6871082470863297
         },
         {
          "group": "sport",
          "x": -2.5641304835368315,
          "y": -0.752396390548064
         },
         {
          "group": "sport",
          "x": -3.0321280779299733,
          "y": -0.5114082470268655
         },
         {
          "group": "sport",
          "x": -2.531277233160318,
          "y": 0.9898809694088302
         },
         {
          "group": "sport",
          "x": -1.8942724134388316,
          "y": -0.3814444578124899
         },
         {
          "group": "sport",
          "x": -2.9406426155231933,
          "y": 0.6040388577819367
         },
         {
          "group": "sport",
          "x": -1.518615237737589,
          "y": 1.0816709470893906
         },
         {
          "group": "sport",
          "x": -2.6066370800935736,
          "y": 0.3414891329614692
         },
         {
          "group": "sport",
          "x": -2.8381749315957894,
          "y": -0.028869605030381187
         },
         {
          "group": "sport",
          "x": -2.9761474029648234,
          "y": 0.22683321024894812
         },
         {
          "group": "sport",
          "x": -3.0587820529208734,
          "y": 2.6605175290989327
         },
         {
          "group": "sport",
          "x": -1.5744639418716995,
          "y": 1.1730901487211214
         },
         {
          "group": "sport",
          "x": -0.5489164668967987,
          "y": -0.8911929603386195
         },
         {
          "group": "sport",
          "x": -2.253179060642151,
          "y": 1.268567325658469
         },
         {
          "group": "sport",
          "x": -2.5536745093473834,
          "y": -0.904258108944634
         },
         {
          "group": "sport",
          "x": -1.9598239444296153,
          "y": 0.1355820866238763
         },
         {
          "group": "sport",
          "x": -2.6663175921972924,
          "y": -0.6086581529756047
         },
         {
          "group": "sport",
          "x": -1.7535818739754785,
          "y": 0.558924837997176
         },
         {
          "group": "sport",
          "x": -1.350331251559361,
          "y": -1.2628795729376683
         },
         {
          "group": "sport",
          "x": -1.8820596010548645,
          "y": 0.41895525380962645
         },
         {
          "group": "sport",
          "x": -2.1330444578513355,
          "y": 0.42238902716517074
         },
         {
          "group": "sport",
          "x": -0.7003322492812492,
          "y": 0.3864991226449026
         },
         {
          "group": "sport",
          "x": -1.425165396429336,
          "y": 1.8114573202155317
         },
         {
          "group": "sport",
          "x": -1.8834863554199957,
          "y": -0.9569941897323245
         },
         {
          "group": "sport",
          "x": -2.003165584614915,
          "y": 0.6813038736455721
         },
         {
          "group": "sport",
          "x": -2.0183526553976905,
          "y": 2.191961142982752
         },
         {
          "group": "sport",
          "x": -2.1107278699257557,
          "y": 0.4810922515493749
         },
         {
          "group": "sport",
          "x": -1.5315969420161328,
          "y": 0.4851566192665797
         },
         {
          "group": "sport",
          "x": -3.07188078482292,
          "y": 0.9895913807226576
         },
         {
          "group": "sport",
          "x": -1.8698563006636757,
          "y": 2.757263416588945
         },
         {
          "group": "sport",
          "x": -0.4443964878532067,
          "y": 1.3045496601117432
         },
         {
          "group": "sport",
          "x": -4.1435128438886775,
          "y": 0.9711503730783568
         },
         {
          "group": "sport",
          "x": -2.7357621728988453,
          "y": 2.2786908690565375
         },
         {
          "group": "sport",
          "x": -1.7653797749456794,
          "y": -2.4660554135027937
         },
         {
          "group": "sport",
          "x": -2.4855676227548393,
          "y": -0.026642881984003018
         },
         {
          "group": "sport",
          "x": -2.2282890707668743,
          "y": 0.6554783612422243
         },
         {
          "group": "sport",
          "x": -3.2085099750684383,
          "y": -0.9053503804294162
         },
         {
          "group": "sport",
          "x": -2.9191944834466463,
          "y": 4.161106570614313
         },
         {
          "group": "sport",
          "x": -2.0775466024779177,
          "y": -0.5580652110598451
         },
         {
          "group": "sport",
          "x": -1.9677952012375408,
          "y": -0.16881976672775917
         },
         {
          "group": "sport",
          "x": -1.9481414727230215,
          "y": -1.0276458181995172
         },
         {
          "group": "sport",
          "x": -2.1428959620431813,
          "y": -0.4605527187643214
         },
         {
          "group": "sport",
          "x": -0.6225878058904561,
          "y": 1.532115648248283
         },
         {
          "group": "sport",
          "x": -1.9818116266855446,
          "y": -0.280574844199177
         },
         {
          "group": "sport",
          "x": -1.61681812288067,
          "y": -0.3675512991113748
         },
         {
          "group": "sport",
          "x": -2.369944447311534,
          "y": 2.643279027524622
         },
         {
          "group": "sport",
          "x": -2.6969250224003365,
          "y": 1.624750514414243
         },
         {
          "group": "sport",
          "x": -3.5453816817717247,
          "y": 0.12661925568394852
         },
         {
          "group": "sport",
          "x": -1.7670922143792902,
          "y": -2.3743894791105964
         },
         {
          "group": "sport",
          "x": -2.6045788181410003,
          "y": 0.08500955712028045
         },
         {
          "group": "sport",
          "x": -3.1110964313288414,
          "y": 0.564057523916
         },
         {
          "group": "sport",
          "x": -1.1250029228602199,
          "y": -1.3155421983549
         },
         {
          "group": "sport",
          "x": -2.425904360751257,
          "y": 1.1063855449593458
         },
         {
          "group": "sport",
          "x": -0.017109733492877907,
          "y": -1.006000683654204
         },
         {
          "group": "sport",
          "x": -0.97015051603059,
          "y": -1.5921586237178047
         },
         {
          "group": "sport",
          "x": -2.7668276639126894,
          "y": 1.8303351385986601
         },
         {
          "group": "sport",
          "x": -1.4032821189427653,
          "y": 1.288303294533666
         },
         {
          "group": "sport",
          "x": -2.870857830357642,
          "y": 0.45498495286782303
         },
         {
          "group": "sport",
          "x": -3.118336840955381,
          "y": 1.0655527983044817
         },
         {
          "group": "sport",
          "x": -3.63230502338951,
          "y": 1.184651013666949
         },
         {
          "group": "sport",
          "x": -3.8001332976805937,
          "y": 2.193986930392408
         },
         {
          "group": "sport",
          "x": -1.7238608669289468,
          "y": -0.05659692821769185
         },
         {
          "group": "sport",
          "x": -2.4481025820282536,
          "y": 1.4528774992215936
         },
         {
          "group": "sport",
          "x": -1.9605783872957954,
          "y": 0.9961098400130111
         },
         {
          "group": "sport",
          "x": -2.572563021676165,
          "y": 0.8110277658016813
         },
         {
          "group": "sport",
          "x": -2.619415783543487,
          "y": 0.6511626801756228
         },
         {
          "group": "sport",
          "x": -1.033373238663126,
          "y": -0.547328823870765
         },
         {
          "group": "sport",
          "x": -1.4711905167902324,
          "y": 1.8675026950000142
         },
         {
          "group": "sport",
          "x": -2.209205808473391,
          "y": 1.427888804603678
         },
         {
          "group": "sport",
          "x": -1.5452177387508748,
          "y": -0.10275032285441488
         },
         {
          "group": "sport",
          "x": -2.014217623150958,
          "y": 1.1303489909666096
         },
         {
          "group": "sport",
          "x": -0.7495054900314373,
          "y": 0.38312352618801704
         },
         {
          "group": "sport",
          "x": -3.620538688368219,
          "y": 1.086012137952195
         },
         {
          "group": "sport",
          "x": -1.5906765954618423,
          "y": 2.0108790811999295
         },
         {
          "group": "sport",
          "x": -3.240979486582412,
          "y": 0.5992423464377187
         },
         {
          "group": "sport",
          "x": -2.3900851894459767,
          "y": -0.6295231207593014
         },
         {
          "group": "sport",
          "x": -2.6025415850073825,
          "y": -0.2892138327790539
         },
         {
          "group": "sport",
          "x": -2.6500181433858216,
          "y": 1.1404451696279156
         },
         {
          "group": "sport",
          "x": -2.1318208635432496,
          "y": 0.1268695817259208
         },
         {
          "group": "sport",
          "x": -2.7443132230920253,
          "y": -1.1363717480147306
         },
         {
          "group": "sport",
          "x": -3.5454584161125977,
          "y": 1.1899671475851672
         },
         {
          "group": "business",
          "x": -0.7166972625966497,
          "y": 0.07554253515896875
         },
         {
          "group": "business",
          "x": 0.10995704299870834,
          "y": 1.6681089442953394
         },
         {
          "group": "business",
          "x": -1.9182617836475797,
          "y": 2.4799323857935818
         },
         {
          "group": "business",
          "x": 0.6556484703894175,
          "y": 2.824053037782611
         },
         {
          "group": "business",
          "x": -1.0293201586275937,
          "y": -0.9443877881474957
         },
         {
          "group": "business",
          "x": -1.050260995820879,
          "y": 0.6753296208082624
         },
         {
          "group": "business",
          "x": -1.4126213546292228,
          "y": -1.8170049747092787
         },
         {
          "group": "business",
          "x": 1.133049413623321,
          "y": -2.1530722799672453
         },
         {
          "group": "business",
          "x": 1.6704119437593725,
          "y": 0.6698703981220697
         },
         {
          "group": "business",
          "x": 0.5918465988244969,
          "y": 0.05740199105214514
         },
         {
          "group": "business",
          "x": 1.856578834454537,
          "y": 0.745182363688249
         },
         {
          "group": "business",
          "x": 0.18480178468481742,
          "y": 0.3217884847661353
         },
         {
          "group": "business",
          "x": -0.1806895435313272,
          "y": -0.15145057089750585
         },
         {
          "group": "business",
          "x": -0.05777361115128437,
          "y": -0.23459825737284656
         },
         {
          "group": "business",
          "x": 0.32452120784838745,
          "y": -0.94498420297273
         },
         {
          "group": "business",
          "x": -0.07534515061645604,
          "y": -1.9616709123970466
         },
         {
          "group": "business",
          "x": 1.6385737875350397,
          "y": -0.099224459685652
         },
         {
          "group": "business",
          "x": 0.06033843151855101,
          "y": 0.26381269887690806
         },
         {
          "group": "business",
          "x": 0.6717087939050042,
          "y": -1.39531684794047
         },
         {
          "group": "business",
          "x": -0.45092562624878274,
          "y": -1.2761397533797407
         },
         {
          "group": "business",
          "x": 0.4247182276789042,
          "y": 1.685554736471901
         },
         {
          "group": "business",
          "x": 2.6383626183858593,
          "y": -1.876535269081868
         },
         {
          "group": "business",
          "x": 0.35477355070831046,
          "y": -0.7165358554606774
         },
         {
          "group": "business",
          "x": -0.6160014710077029,
          "y": -0.6809578497278082
         },
         {
          "group": "business",
          "x": 1.5391599469696544,
          "y": -1.6109293295476852
         },
         {
          "group": "business",
          "x": -0.15758275146438747,
          "y": -1.69099045805906
         },
         {
          "group": "business",
          "x": 2.7718015339762583,
          "y": -1.2320093437319901
         },
         {
          "group": "business",
          "x": 0.6886616266627887,
          "y": 0.8631182293588671
         },
         {
          "group": "business",
          "x": -0.33498581207268735,
          "y": -0.9473214464012761
         },
         {
          "group": "business",
          "x": 1.9996146761423386,
          "y": 0.3643253817283213
         },
         {
          "group": "business",
          "x": -0.575896364560327,
          "y": -0.0731843399540103
         },
         {
          "group": "business",
          "x": -0.4383947735756684,
          "y": 0.3753005697209296
         },
         {
          "group": "business",
          "x": 1.3833835548113544,
          "y": 0.2986211167188849
         },
         {
          "group": "business",
          "x": -0.018359179792986586,
          "y": 0.12268385397792361
         },
         {
          "group": "business",
          "x": -1.1239618734415278,
          "y": -0.13146231419310436
         },
         {
          "group": "business",
          "x": 0.5432342781661977,
          "y": 1.7117473757460449
         },
         {
          "group": "business",
          "x": 1.1492490632045902,
          "y": 1.1694082930447518
         },
         {
          "group": "business",
          "x": 0.19273023388704752,
          "y": -0.46307878876440317
         },
         {
          "group": "business",
          "x": 0.1724190338277252,
          "y": -0.9835112539566523
         },
         {
          "group": "business",
          "x": 1.0947278566645333,
          "y": -0.8360946314866117
         },
         {
          "group": "business",
          "x": 1.5186607450412917,
          "y": -0.2819953328809623
         },
         {
          "group": "business",
          "x": -2.032509145893319,
          "y": -0.16154366861318523
         },
         {
          "group": "business",
          "x": 0.6004017783659186,
          "y": -0.6250237991772097
         },
         {
          "group": "business",
          "x": 1.3265512658910663,
          "y": 1.5671390986396458
         },
         {
          "group": "business",
          "x": -0.3653538851043048,
          "y": -2.0658108863233173
         },
         {
          "group": "business",
          "x": 0.7362281405521351,
          "y": 2.906857889515702
         },
         {
          "group": "business",
          "x": 1.2580659254707351,
          "y": 1.1915716037170958
         },
         {
          "group": "business",
          "x": 2.0905644207145815,
          "y": -2.6766120127881896
         },
         {
          "group": "business",
          "x": -0.10669904727521089,
          "y": 0.06683783280467889
         },
         {
          "group": "business",
          "x": 0.7214990394264783,
          "y": -1.5018982130275884
         },
         {
          "group": "business",
          "x": -1.2950754235366544,
          "y": -0.2629415126811331
         },
         {
          "group": "business",
          "x": -0.5377933485529598,
          "y": 0.6670049825963528
         },
         {
          "group": "business",
          "x": 0.3644264114497971,
          "y": 0.7008959287748424
         },
         {
          "group": "business",
          "x": -1.1801096893385161,
          "y": -1.327858108237601
         },
         {
          "group": "business",
          "x": 1.7455638247827234,
          "y": 1.9175379143384073
         },
         {
          "group": "business",
          "x": -0.4947060934673549,
          "y": 1.1209984702737517
         },
         {
          "group": "business",
          "x": -0.006935735431525651,
          "y": 1.5006178214651156
         },
         {
          "group": "business",
          "x": 0.6800863034473945,
          "y": -0.17102798911965264
         },
         {
          "group": "business",
          "x": 0.13421655688767933,
          "y": -2.142292450625595
         },
         {
          "group": "business",
          "x": 0.4076086494514448,
          "y": -0.6182474708194156
         },
         {
          "group": "business",
          "x": 2.108737142957895,
          "y": 0.2600899985653693
         },
         {
          "group": "business",
          "x": 0.27810226472810806,
          "y": 0.6409160762631912
         },
         {
          "group": "business",
          "x": -0.837278791602928,
          "y": -0.5857237140817609
         },
         {
          "group": "business",
          "x": -0.7487845176760044,
          "y": 1.800684504625583
         },
         {
          "group": "business",
          "x": -0.14628935793974837,
          "y": 2.381072788046801
         },
         {
          "group": "business",
          "x": 0.7714707196999706,
          "y": -0.3147402919913079
         },
         {
          "group": "business",
          "x": 0.7389429709286535,
          "y": 1.037847383716185
         },
         {
          "group": "business",
          "x": 0.6554966931643524,
          "y": -0.03991950676848543
         },
         {
          "group": "business",
          "x": -0.4632483279718999,
          "y": 1.8710095044450035
         },
         {
          "group": "business",
          "x": 0.051825383034667535,
          "y": -1.064897582046222
         },
         {
          "group": "business",
          "x": -0.9675088258787391,
          "y": 0.6539608523471004
         },
         {
          "group": "business",
          "x": -0.23557958698368275,
          "y": 1.8961178331164052
         },
         {
          "group": "business",
          "x": 2.3412592758040374,
          "y": -0.30450674026942287
         },
         {
          "group": "business",
          "x": -0.7535716012978647,
          "y": -0.04065944685478156
         },
         {
          "group": "business",
          "x": -2.0254673465916926,
          "y": 1.2744077337826687
         },
         {
          "group": "business",
          "x": -0.9539866608951624,
          "y": -0.6289497027334159
         },
         {
          "group": "business",
          "x": 1.2633949530763275,
          "y": 0.7801100126451634
         },
         {
          "group": "business",
          "x": 1.5301946460829288,
          "y": 1.2461737978645713
         },
         {
          "group": "business",
          "x": 0.3179357607287333,
          "y": -0.867062175250252
         },
         {
          "group": "business",
          "x": 0.07123142958008825,
          "y": 2.3119223844541765
         },
         {
          "group": "business",
          "x": 0.33324017025548136,
          "y": -0.4200532870750695
         },
         {
          "group": "business",
          "x": 1.3663920284436504,
          "y": 0.8481726691911348
         },
         {
          "group": "business",
          "x": 1.2720844824665603,
          "y": 0.9118522659028425
         },
         {
          "group": "business",
          "x": 1.8089243988231292,
          "y": -0.4286416749830606
         },
         {
          "group": "business",
          "x": -0.8733417117478903,
          "y": -0.5009384369846696
         },
         {
          "group": "business",
          "x": -0.11075045977965825,
          "y": -0.24333996091708213
         },
         {
          "group": "business",
          "x": 1.9487547136868912,
          "y": -2.379785894394714
         },
         {
          "group": "business",
          "x": -0.10138647634714258,
          "y": -2.4458604828073556
         },
         {
          "group": "business",
          "x": 1.351518766814847,
          "y": -0.5405755944400763
         },
         {
          "group": "business",
          "x": 1.2421890920166603,
          "y": 0.17886850497597342
         },
         {
          "group": "business",
          "x": -1.3533945468254287,
          "y": 0.11859899497868848
         },
         {
          "group": "business",
          "x": 3.17153670636493,
          "y": 0.2259720300895495
         },
         {
          "group": "business",
          "x": -0.6567044192799404,
          "y": -1.5588434039535615
         },
         {
          "group": "business",
          "x": 0.2844088761530067,
          "y": -1.1289946247512184
         },
         {
          "group": "business",
          "x": 0.6069042656369166,
          "y": 0.8204958588109026
         },
         {
          "group": "business",
          "x": -1.834162355753226,
          "y": 1.086879323058082
         },
         {
          "group": "business",
          "x": -0.3799200373109052,
          "y": -0.7220505933126778
         },
         {
          "group": "business",
          "x": -0.836178099762823,
          "y": -1.5269125904124297
         },
         {
          "group": "business",
          "x": 0.6465634133280591,
          "y": 0.6713301160162216
         },
         {
          "group": "business",
          "x": -0.1697041884574397,
          "y": -2.0666430170709473
         },
         {
          "group": "business",
          "x": 1.0922555070749107,
          "y": -1.2655415009543685
         },
         {
          "group": "business",
          "x": 1.7689858085077481,
          "y": 1.76493326753537
         },
         {
          "group": "business",
          "x": -0.5958392924220652,
          "y": 0.38633252460237694
         },
         {
          "group": "business",
          "x": 1.370621347732658,
          "y": -0.2044260948218319
         },
         {
          "group": "business",
          "x": -0.5755265137702332,
          "y": -1.2256450718891752
         },
         {
          "group": "business",
          "x": 0.02736942402576269,
          "y": 0.6649203301812009
         },
         {
          "group": "business",
          "x": 1.3651600638908232,
          "y": -0.33689705069933945
         },
         {
          "group": "business",
          "x": 0.49059167810301535,
          "y": 0.20760542413268324
         },
         {
          "group": "business",
          "x": -0.38586831440347547,
          "y": 0.4718144417787755
         },
         {
          "group": "business",
          "x": -0.2685108413518751,
          "y": -0.1026436745524081
         },
         {
          "group": "business",
          "x": 0.542601884100206,
          "y": -0.5554588215895682
         },
         {
          "group": "business",
          "x": -1.4943506595021447,
          "y": -1.4812907047179271
         },
         {
          "group": "business",
          "x": 0.9905057088128579,
          "y": -0.7419575283226346
         },
         {
          "group": "business",
          "x": 0.05443819713578195,
          "y": -0.3778792053700393
         },
         {
          "group": "business",
          "x": -0.40719167225547787,
          "y": 0.657763777918722
         },
         {
          "group": "business",
          "x": 0.20727641798732252,
          "y": 1.2890582402354553
         },
         {
          "group": "business",
          "x": -1.576493999181753,
          "y": 0.036773733241723595
         },
         {
          "group": "business",
          "x": -0.351509706160424,
          "y": 0.6874223895482653
         },
         {
          "group": "business",
          "x": 0.8361831189758873,
          "y": 2.2742032633155165
         },
         {
          "group": "business",
          "x": 1.453625058789634,
          "y": 0.8272522927969052
         },
         {
          "group": "business",
          "x": 1.3222819417733673,
          "y": -0.4593743538750257
         },
         {
          "group": "business",
          "x": -2.198063092692398,
          "y": -2.1704736884110853
         },
         {
          "group": "business",
          "x": 0.2414238643963646,
          "y": -1.33399849374079
         },
         {
          "group": "business",
          "x": 0.5405886819279789,
          "y": 0.5476503867530531
         },
         {
          "group": "business",
          "x": -1.3513802161763298,
          "y": -0.9690467839386739
         },
         {
          "group": "business",
          "x": -0.9463690523210816,
          "y": -0.6288778689554707
         },
         {
          "group": "business",
          "x": -0.013537232803936514,
          "y": 0.2069982355078822
         },
         {
          "group": "business",
          "x": -0.32951333386140613,
          "y": 0.15054953735705742
         },
         {
          "group": "business",
          "x": -1.0410489034521122,
          "y": 0.14582180398224093
         },
         {
          "group": "business",
          "x": 0.5974131179244961,
          "y": 0.3813985395684327
         },
         {
          "group": "business",
          "x": 0.6435964492765056,
          "y": 1.0135008165810877
         },
         {
          "group": "business",
          "x": 0.4233612608386032,
          "y": 0.3751932450775869
         },
         {
          "group": "business",
          "x": 2.00739758539645,
          "y": -0.9425325666650753
         },
         {
          "group": "business",
          "x": 1.928662016388564,
          "y": 0.014736930074240094
         },
         {
          "group": "business",
          "x": -0.3710921131987962,
          "y": 1.0787520915695685
         },
         {
          "group": "business",
          "x": 0.9760635201339644,
          "y": 2.60414333147945
         },
         {
          "group": "business",
          "x": 1.925489332261982,
          "y": -0.054071300701702546
         },
         {
          "group": "business",
          "x": -0.8666137958063028,
          "y": 0.0025127234297483265
         },
         {
          "group": "business",
          "x": 1.6680953388127984,
          "y": -1.003851449924196
         },
         {
          "group": "business",
          "x": -0.47291788803399254,
          "y": 1.7375203136539064
         },
         {
          "group": "business",
          "x": 1.996115931066483,
          "y": -0.59142312426722
         },
         {
          "group": "business",
          "x": 1.5021778688067673,
          "y": 2.1581489903064845
         },
         {
          "group": "business",
          "x": 0.6012209581930963,
          "y": 0.49896901901769874
         },
         {
          "group": "business",
          "x": -0.5284971037196526,
          "y": -1.3280838817576643
         },
         {
          "group": "business",
          "x": -0.8972163008358803,
          "y": 1.727246416476223
         },
         {
          "group": "business",
          "x": 1.7826509689454397,
          "y": 0.7841747489234862
         },
         {
          "group": "business",
          "x": 0.9089084581124421,
          "y": -1.0750708251295962
         },
         {
          "group": "business",
          "x": 1.441174033907072,
          "y": -0.4853016250277833
         },
         {
          "group": "business",
          "x": 0.7238524102867098,
          "y": -0.2251320292945871
         },
         {
          "group": "business",
          "x": -0.458553132343496,
          "y": -0.5178580121940944
         },
         {
          "group": "business",
          "x": 0.24893607483384575,
          "y": 3.127998732699973
         },
         {
          "group": "business",
          "x": -1.0135599295029298,
          "y": 0.5615681542504545
         },
         {
          "group": "business",
          "x": 1.5547354680541237,
          "y": 0.16051984726894047
         },
         {
          "group": "business",
          "x": -0.5699095377677232,
          "y": 0.14225896032338547
         },
         {
          "group": "business",
          "x": -0.2853396183896945,
          "y": -3.462990316597102
         },
         {
          "group": "business",
          "x": -0.26431715743539314,
          "y": -1.324232093345032
         },
         {
          "group": "business",
          "x": 0.641405718757766,
          "y": 0.7391178937788307
         },
         {
          "group": "business",
          "x": 1.4553389526091591,
          "y": -0.3863342494513485
         },
         {
          "group": "business",
          "x": -0.8532872033963242,
          "y": 1.1904822987797739
         },
         {
          "group": "business",
          "x": -0.7901018914099142,
          "y": 0.7030178870346342
         },
         {
          "group": "business",
          "x": -0.4531312744909725,
          "y": -1.5359687497252354
         },
         {
          "group": "business",
          "x": 0.9475353348412928,
          "y": -0.25975785164875004
         },
         {
          "group": "business",
          "x": -1.0835422700042145,
          "y": 0.9856764141774568
         },
         {
          "group": "business",
          "x": 2.718891385942689,
          "y": 0.39183547198627117
         },
         {
          "group": "business",
          "x": 2.847035769716117,
          "y": 1.3221149085644741
         },
         {
          "group": "business",
          "x": 0.8494277418105824,
          "y": 2.777782573372185
         },
         {
          "group": "business",
          "x": 0.2592255715974535,
          "y": -0.2104975416789492
         },
         {
          "group": "business",
          "x": -0.74920047035091,
          "y": 0.5247154124754051
         },
         {
          "group": "business",
          "x": 0.37271152071319086,
          "y": -0.4744910529401557
         },
         {
          "group": "business",
          "x": 2.1792994982633784,
          "y": 0.594532861440708
         },
         {
          "group": "business",
          "x": -1.3542143625496599,
          "y": 1.4707641183709785
         },
         {
          "group": "business",
          "x": 0.582424796603685,
          "y": -0.005328321545396076
         },
         {
          "group": "business",
          "x": -1.267829662908832,
          "y": -0.3555684951845872
         },
         {
          "group": "business",
          "x": 0.4796879766820064,
          "y": 0.3064962862753039
         },
         {
          "group": "business",
          "x": 1.6314814321714115,
          "y": 0.9367128238284326
         },
         {
          "group": "business",
          "x": -1.8167065714244142,
          "y": 1.3884866977991732
         },
         {
          "group": "business",
          "x": 1.0982631790703499,
          "y": -0.8036435262821695
         },
         {
          "group": "business",
          "x": 1.9000569065117,
          "y": 0.6619575590273827
         },
         {
          "group": "business",
          "x": 0.26156420387054313,
          "y": 0.9661834169904879
         },
         {
          "group": "business",
          "x": 1.4796960021314982,
          "y": -1.299948812479566
         },
         {
          "group": "business",
          "x": 0.34476786393786535,
          "y": 0.9344261464347198
         },
         {
          "group": "business",
          "x": 0.2291914868176721,
          "y": 1.8461086071104202
         },
         {
          "group": "business",
          "x": 0.6114230935142699,
          "y": -0.12313563532236417
         },
         {
          "group": "business",
          "x": 0.42615941153723774,
          "y": 0.1635388387050058
         },
         {
          "group": "business",
          "x": 0.6958601504255308,
          "y": 0.7278362735657352
         },
         {
          "group": "business",
          "x": 0.07649438394870892,
          "y": 0.021737817553567178
         },
         {
          "group": "business",
          "x": 1.03939210468808,
          "y": 0.3199657007370607
         },
         {
          "group": "business",
          "x": -0.05218223210330268,
          "y": 0.2818536032518776
         },
         {
          "group": "business",
          "x": 0.4480176949583428,
          "y": -1.554229442851862
         },
         {
          "group": "business",
          "x": 2.092025941049789,
          "y": 0.617131022142445
         },
         {
          "group": "business",
          "x": -2.025716795115785,
          "y": -0.5705871449920484
         },
         {
          "group": "business",
          "x": -1.205982038491427,
          "y": 1.029686623368637
         },
         {
          "group": "business",
          "x": -0.11555333920814245,
          "y": 1.8691096354963899
         },
         {
          "group": "business",
          "x": 0.4905493780309918,
          "y": -0.6842595787830201
         },
         {
          "group": "business",
          "x": 0.48210935277460015,
          "y": -0.7967009196948176
         },
         {
          "group": "business",
          "x": -0.7685754943734302,
          "y": -0.10488117446385052
         },
         {
          "group": "business",
          "x": 0.2400779982445742,
          "y": -0.4782083793455747
         },
         {
          "group": "business",
          "x": -0.2848978512340156,
          "y": 1.2408056658622288
         },
         {
          "group": "business",
          "x": -0.010234048071968267,
          "y": -1.4890448744967129
         },
         {
          "group": "business",
          "x": 0.7836062728105035,
          "y": 0.06879729539912934
         },
         {
          "group": "business",
          "x": 2.0791955025529907,
          "y": -0.38446655209191133
         },
         {
          "group": "business",
          "x": 1.968677355253332,
          "y": -0.20793986576693047
         },
         {
          "group": "business",
          "x": 0.4792774097557507,
          "y": -2.610865005477645
         },
         {
          "group": "business",
          "x": 1.716385185982468,
          "y": 0.33805279152589207
         },
         {
          "group": "business",
          "x": -0.6634838039243666,
          "y": -0.592733011205622
         },
         {
          "group": "business",
          "x": 1.3507195978199058,
          "y": -0.6550457560196258
         },
         {
          "group": "business",
          "x": 0.4518847040360473,
          "y": -1.707760601038472
         },
         {
          "group": "business",
          "x": -1.1416685373260769,
          "y": -2.5058846625827775
         },
         {
          "group": "business",
          "x": 1.0989495334751191,
          "y": -0.21761881153763285
         },
         {
          "group": "business",
          "x": 0.3783007427908122,
          "y": -1.4830800186097362
         },
         {
          "group": "business",
          "x": -0.9879583673299006,
          "y": 0.18345977085387014
         },
         {
          "group": "business",
          "x": 0.43600711242740703,
          "y": 1.2368155984603342
         },
         {
          "group": "business",
          "x": 1.9642305354048815,
          "y": -1.9801360169395663
         },
         {
          "group": "business",
          "x": 1.2054487442765816,
          "y": -1.1459319565211759
         },
         {
          "group": "business",
          "x": 1.0173492953672594,
          "y": 1.0072606496583816
         },
         {
          "group": "business",
          "x": 0.323851594176732,
          "y": 0.24347472424177052
         },
         {
          "group": "business",
          "x": 1.106707285850218,
          "y": 1.2713499505898596
         },
         {
          "group": "business",
          "x": -0.5518896040788074,
          "y": 1.1170686332865325
         },
         {
          "group": "business",
          "x": 2.230839894127473,
          "y": 0.21695946590566073
         },
         {
          "group": "business",
          "x": 1.1796378963430192,
          "y": -0.42675829451516745
         },
         {
          "group": "business",
          "x": 0.4329746550576004,
          "y": 0.24500619798728623
         },
         {
          "group": "business",
          "x": 1.968878701064882,
          "y": -0.9612016987782269
         },
         {
          "group": "business",
          "x": -0.7725416454230601,
          "y": 0.06836975327330153
         },
         {
          "group": "business",
          "x": 1.2443451325920591,
          "y": 2.6297517143898244
         },
         {
          "group": "business",
          "x": -0.1571134900591739,
          "y": 0.42653792616534786
         },
         {
          "group": "business",
          "x": 0.1317058544502033,
          "y": -2.1888019936646046
         },
         {
          "group": "business",
          "x": 0.3504557118884275,
          "y": 0.8187867451698401
         },
         {
          "group": "business",
          "x": -0.2442444953026182,
          "y": 1.3923278818453162
         },
         {
          "group": "business",
          "x": 1.9350899901902914,
          "y": -0.4067004976151513
         },
         {
          "group": "business",
          "x": -0.8520422832887207,
          "y": -1.008124611607869
         },
         {
          "group": "business",
          "x": -0.04328459016756917,
          "y": 0.5774570552153042
         },
         {
          "group": "business",
          "x": 1.4058660878569935,
          "y": -0.04247052211806768
         },
         {
          "group": "business",
          "x": 1.2146681652020843,
          "y": 0.8726911966418455
         },
         {
          "group": "business",
          "x": 1.5731044903232816,
          "y": -0.6258490980042999
         },
         {
          "group": "business",
          "x": 0.3457208425502031,
          "y": 0.44254894449738363
         },
         {
          "group": "business",
          "x": 1.1421856935155634,
          "y": -0.18700944456282867
         },
         {
          "group": "business",
          "x": 1.6888797415293453,
          "y": -0.569384809218678
         },
         {
          "group": "business",
          "x": 0.32050635798744226,
          "y": 1.5015073422765788
         },
         {
          "group": "business",
          "x": 1.717916103231623,
          "y": 1.0439669031912586
         },
         {
          "group": "business",
          "x": -1.0623224369060058,
          "y": 0.6970765084933034
         },
         {
          "group": "business",
          "x": 0.7742080080197026,
          "y": -0.799190860953007
         },
         {
          "group": "business",
          "x": -0.611673323922563,
          "y": -1.2961765964766083
         },
         {
          "group": "business",
          "x": 0.0406716366818745,
          "y": 1.9342907256871884
         },
         {
          "group": "business",
          "x": 0.37955910636830736,
          "y": -0.6685763794240004
         },
         {
          "group": "business",
          "x": 0.9651175894656732,
          "y": 0.8632576709859721
         },
         {
          "group": "business",
          "x": -0.1920591748676223,
          "y": 0.18805195705806865
         },
         {
          "group": "business",
          "x": -0.05383354363906233,
          "y": 2.014809659587243
         },
         {
          "group": "business",
          "x": -0.3584332074336961,
          "y": 1.7921311570325644
         },
         {
          "group": "business",
          "x": 0.8942189025519656,
          "y": 0.694267754180074
         },
         {
          "group": "business",
          "x": -0.6116132383879993,
          "y": -1.08770529682072
         },
         {
          "group": "business",
          "x": 2.1580256994961755,
          "y": -0.6834418234638292
         },
         {
          "group": "business",
          "x": 1.1340090254509183,
          "y": -0.7803303960157733
         },
         {
          "group": "business",
          "x": 1.1647462040070127,
          "y": 0.9896799172526709
         },
         {
          "group": "business",
          "x": 1.016720588999193,
          "y": 0.9642588829369998
         },
         {
          "group": "business",
          "x": 1.8216756377065422,
          "y": -0.4279335752711421
         },
         {
          "group": "business",
          "x": 0.003160715510961986,
          "y": -1.0277314091935723
         },
         {
          "group": "business",
          "x": 0.7686753724469078,
          "y": -1.0470082967025012
         },
         {
          "group": "business",
          "x": 1.547286691629989,
          "y": -1.2156930186604802
         },
         {
          "group": "business",
          "x": 0.8126070666590235,
          "y": 1.5067181777597407
         },
         {
          "group": "business",
          "x": 0.26893274347520946,
          "y": -1.7090945976380607
         },
         {
          "group": "business",
          "x": -0.5673557857627032,
          "y": -1.5612201007691888
         },
         {
          "group": "business",
          "x": -0.20681746495687192,
          "y": 0.5285129625513364
         },
         {
          "group": "business",
          "x": -0.051165606028132235,
          "y": 0.5793485309405343
         },
         {
          "group": "business",
          "x": 2.314524559340467,
          "y": -1.1408895447391645
         },
         {
          "group": "business",
          "x": 1.3429805092913842,
          "y": 0.8064730859119544
         },
         {
          "group": "business",
          "x": 0.8878900090894944,
          "y": -2.0940818910707555
         },
         {
          "group": "business",
          "x": 2.694623580700571,
          "y": -1.191600482615569
         },
         {
          "group": "business",
          "x": 0.5090715481492832,
          "y": 0.7340511395042876
         },
         {
          "group": "business",
          "x": -0.8787737514473967,
          "y": -0.04022351802915368
         },
         {
          "group": "business",
          "x": 1.7734718221096117,
          "y": -0.3574153232300735
         },
         {
          "group": "business",
          "x": -0.15800700794570333,
          "y": -1.232735403336234
         },
         {
          "group": "business",
          "x": -0.6157254162670845,
          "y": 1.660464206272497
         },
         {
          "group": "business",
          "x": -1.1799230151971367,
          "y": 0.9937448739780468
         },
         {
          "group": "business",
          "x": 1.7721523399589754,
          "y": 1.433450686816766
         },
         {
          "group": "business",
          "x": 0.7333450543428172,
          "y": 0.13963822302144757
         },
         {
          "group": "business",
          "x": -1.4642349782570216,
          "y": -0.7142102958873637
         },
         {
          "group": "business",
          "x": 3.9475920857612112,
          "y": 3.1513141606030834
         },
         {
          "group": "business",
          "x": -0.6782845350257697,
          "y": 1.0603449671764986
         },
         {
          "group": "business",
          "x": 1.848461401025604,
          "y": -1.2215291953907341
         },
         {
          "group": "business",
          "x": -0.7283297425001922,
          "y": 2.147796449414209
         },
         {
          "group": "business",
          "x": 1.2901411326066823,
          "y": 0.9913027485105959
         },
         {
          "group": "business",
          "x": 1.2285657668476946,
          "y": 0.6048069934357704
         },
         {
          "group": "business",
          "x": 0.6230622768023284,
          "y": -0.27324308377944906
         },
         {
          "group": "business",
          "x": 0.2547228615006309,
          "y": -1.1699351274937797
         },
         {
          "group": "business",
          "x": -1.9857420165283384,
          "y": 0.19907008757475966
         },
         {
          "group": "business",
          "x": 1.3037809575530608,
          "y": -0.0567108230561415
         },
         {
          "group": "business",
          "x": 0.34960913678651834,
          "y": -0.4463746253380349
         },
         {
          "group": "business",
          "x": -0.9972163696562414,
          "y": -2.0467301994228535
         },
         {
          "group": "business",
          "x": 0.608184487107515,
          "y": 1.1705805576736183
         },
         {
          "group": "business",
          "x": -0.38422542173102925,
          "y": -0.9327648982699787
         },
         {
          "group": "business",
          "x": 0.6105197412077882,
          "y": -0.8523272848491642
         },
         {
          "group": "business",
          "x": 0.5403491829185921,
          "y": -0.33416233875981705
         },
         {
          "group": "business",
          "x": 0.5885928618684637,
          "y": -0.08669503067150496
         },
         {
          "group": "business",
          "x": 0.7894236137484394,
          "y": -0.4985016393565368
         },
         {
          "group": "business",
          "x": -0.5076524904127818,
          "y": 0.4823439690444127
         },
         {
          "group": "business",
          "x": 1.417656954795749,
          "y": -0.3162422004322827
         },
         {
          "group": "business",
          "x": -0.5101522530424889,
          "y": 0.5001622293666818
         },
         {
          "group": "business",
          "x": 1.0788267555038449,
          "y": 0.7291725264708875
         },
         {
          "group": "business",
          "x": 1.009649116132911,
          "y": 1.103019716449974
         },
         {
          "group": "business",
          "x": 1.6543321523230274,
          "y": -2.2386007144520796
         },
         {
          "group": "business",
          "x": -0.3676134447113731,
          "y": 0.04317091548028624
         },
         {
          "group": "business",
          "x": 0.32235338748550235,
          "y": -1.1952573030973543
         },
         {
          "group": "business",
          "x": 1.816165594994704,
          "y": -1.6286426622620251
         },
         {
          "group": "business",
          "x": 0.8634431278177646,
          "y": -0.05580378632345582
         },
         {
          "group": "business",
          "x": 0.9943907435498719,
          "y": -1.1557712269347507
         },
         {
          "group": "business",
          "x": 0.9433272547057442,
          "y": 0.5013852750641218
         },
         {
          "group": "business",
          "x": 0.09837966091709308,
          "y": 0.9264585540705339
         },
         {
          "group": "business",
          "x": 0.9045082794022047,
          "y": -0.013462271008838837
         },
         {
          "group": "business",
          "x": 0.4351412065939867,
          "y": -0.4989100453874057
         },
         {
          "group": "business",
          "x": -2.6366263262501217,
          "y": -0.8530690161186013
         },
         {
          "group": "business",
          "x": 0.34036239227005644,
          "y": -0.8800286445265815
         },
         {
          "group": "business",
          "x": 0.9664489841950107,
          "y": 0.9855052104848993
         },
         {
          "group": "business",
          "x": 3.210039384693465,
          "y": -0.14141358069525892
         },
         {
          "group": "business",
          "x": -0.6203945315077822,
          "y": -2.522804625528539
         },
         {
          "group": "business",
          "x": 0.13781341589339322,
          "y": 0.68280268344353
         },
         {
          "group": "business",
          "x": -3.706031787123199,
          "y": -0.6800724843865842
         },
         {
          "group": "business",
          "x": 0.22769465151353,
          "y": -0.2895505020216456
         },
         {
          "group": "business",
          "x": 1.5365332346586,
          "y": -2.1132547300417426
         },
         {
          "group": "business",
          "x": -0.2571380944963834,
          "y": 1.052392978734004
         },
         {
          "group": "business",
          "x": 0.801682462708701,
          "y": -0.3093446430267672
         },
         {
          "group": "business",
          "x": 0.1172278940675895,
          "y": -0.6574583724680955
         },
         {
          "group": "business",
          "x": 0.8878553498649648,
          "y": 0.8065920182425669
         },
         {
          "group": "business",
          "x": 1.4517628186390659,
          "y": 0.02671396526932742
         },
         {
          "group": "business",
          "x": 0.6383248620527794,
          "y": -2.5965537750804604
         },
         {
          "group": "business",
          "x": -0.78969160701046,
          "y": 0.8906655148728736
         },
         {
          "group": "business",
          "x": 0.07179063191639459,
          "y": 1.163103257018887
         },
         {
          "group": "business",
          "x": 0.03806319751738626,
          "y": -0.9380625658005369
         },
         {
          "group": "business",
          "x": 1.163840617761598,
          "y": -0.6999306064280261
         },
         {
          "group": "business",
          "x": 0.47298961389057353,
          "y": -1.5813137111734672
         },
         {
          "group": "business",
          "x": 0.7101853153989903,
          "y": 0.24306549327197882
         },
         {
          "group": "business",
          "x": -0.09028611896408449,
          "y": 0.7292561297471281
         },
         {
          "group": "business",
          "x": 1.8190794878849543,
          "y": -1.0440092824916487
         },
         {
          "group": "business",
          "x": 2.1863044478260516,
          "y": 1.0995657513478505
         },
         {
          "group": "business",
          "x": -1.0936335102356767,
          "y": -0.9502447546621282
         },
         {
          "group": "business",
          "x": 2.1215237074519875,
          "y": -0.5722093472437972
         },
         {
          "group": "business",
          "x": 1.368820520348184,
          "y": -1.1648827148508394
         },
         {
          "group": "business",
          "x": -0.16540232804540617,
          "y": 1.1136772577411909
         },
         {
          "group": "business",
          "x": 0.37586057800552586,
          "y": -0.8243473556173495
         },
         {
          "group": "business",
          "x": 1.117905148216931,
          "y": -0.28685785935360064
         },
         {
          "group": "business",
          "x": 1.067019304114503,
          "y": -0.7500878623312195
         },
         {
          "group": "business",
          "x": 0.2202597579649742,
          "y": 0.043466150304222226
         },
         {
          "group": "business",
          "x": -0.0008718827490320764,
          "y": 0.7389558943262263
         },
         {
          "group": "business",
          "x": 0.17195272180327945,
          "y": 0.5450528723789524
         },
         {
          "group": "business",
          "x": -0.49662542951567323,
          "y": 2.496212277633104
         },
         {
          "group": "business",
          "x": -0.30954190043829216,
          "y": 0.39491225408809755
         },
         {
          "group": "business",
          "x": -0.4387265500655692,
          "y": 1.132708679704475
         },
         {
          "group": "business",
          "x": -0.9894896749737158,
          "y": 1.0645835597508144
         },
         {
          "group": "business",
          "x": 1.3965480729595452,
          "y": 0.29237090184504694
         },
         {
          "group": "business",
          "x": 0.7801988272759321,
          "y": 0.3053571004089825
         },
         {
          "group": "business",
          "x": 0.9370902489925815,
          "y": 0.41528931626949
         },
         {
          "group": "business",
          "x": 0.8414499072986957,
          "y": 0.3116596985139976
         },
         {
          "group": "business",
          "x": -0.03299152796041658,
          "y": 1.796931453307444
         },
         {
          "group": "business",
          "x": -0.011212646662920238,
          "y": 0.23697275942445856
         },
         {
          "group": "business",
          "x": 0.7074998398070761,
          "y": -0.2781676256645794
         },
         {
          "group": "business",
          "x": 2.3747128060379628,
          "y": -0.5551488989914565
         },
         {
          "group": "business",
          "x": 0.9894697852674026,
          "y": -0.8996476488792237
         },
         {
          "group": "business",
          "x": -3.4087728636992467,
          "y": -1.0203832618069535
         },
         {
          "group": "business",
          "x": 0.4205391284742443,
          "y": -0.7960766513582609
         },
         {
          "group": "business",
          "x": 0.849406354891435,
          "y": 0.6133103293881388
         },
         {
          "group": "business",
          "x": -0.265806206274454,
          "y": -0.3629238514112017
         },
         {
          "group": "business",
          "x": 0.004095792152896269,
          "y": -0.43016502023343833
         },
         {
          "group": "business",
          "x": -0.9792062485824594,
          "y": -1.3497310292714164
         },
         {
          "group": "business",
          "x": 1.121835375490174,
          "y": -1.7646127931593854
         },
         {
          "group": "business",
          "x": -0.5074825941198131,
          "y": -0.13904819484396053
         },
         {
          "group": "business",
          "x": -0.6551397062207135,
          "y": 2.3914682891483685
         },
         {
          "group": "business",
          "x": -0.32354888843091845,
          "y": -0.5017534771799906
         },
         {
          "group": "business",
          "x": 0.9753085990090835,
          "y": -0.6586806526091444
         },
         {
          "group": "business",
          "x": 0.7311036405007705,
          "y": -1.3499318714587085
         },
         {
          "group": "business",
          "x": 0.7289033442070417,
          "y": 1.096921194533219
         },
         {
          "group": "business",
          "x": -0.12667008775127456,
          "y": -0.3378673605840178
         },
         {
          "group": "business",
          "x": 1.1037622632992068,
          "y": 0.8263896675959186
         },
         {
          "group": "business",
          "x": 2.071446277718137,
          "y": -0.25624322009037664
         },
         {
          "group": "business",
          "x": 1.1170425503555967,
          "y": -0.9207457793385899
         },
         {
          "group": "business",
          "x": 0.0570881719488443,
          "y": -0.46197805755033433
         },
         {
          "group": "business",
          "x": -1.6000989952429503,
          "y": 0.44551245839608855
         },
         {
          "group": "business",
          "x": 2.199266965336428,
          "y": -1.32025587178856
         },
         {
          "group": "business",
          "x": 1.750496059539414,
          "y": 0.508901351608005
         },
         {
          "group": "business",
          "x": 0.020714118682337277,
          "y": -1.690550279058654
         },
         {
          "group": "business",
          "x": 1.2261135706965656,
          "y": 1.0681071513116636
         },
         {
          "group": "business",
          "x": -0.05090179074320773,
          "y": 0.3536009835822301
         },
         {
          "group": "business",
          "x": 0.22701935003647322,
          "y": -0.7618087364409403
         },
         {
          "group": "business",
          "x": 0.9057842890602046,
          "y": 0.6489351913323296
         },
         {
          "group": "business",
          "x": 2.0049129198882105,
          "y": 1.2677991399447734
         },
         {
          "group": "business",
          "x": 0.8452029379187974,
          "y": -0.46790472367249164
         },
         {
          "group": "business",
          "x": 1.1977301807773115,
          "y": 2.2084975314298463
         },
         {
          "group": "business",
          "x": 1.0623663967275636,
          "y": -0.4484890590831294
         },
         {
          "group": "business",
          "x": 1.1574348048746275,
          "y": -2.30648549683311
         },
         {
          "group": "business",
          "x": 0.5501852528233592,
          "y": 0.9608782704993785
         },
         {
          "group": "business",
          "x": -1.6595096838256669,
          "y": -1.2576777104682804
         },
         {
          "group": "business",
          "x": 2.3058811799281056,
          "y": -0.11144869337629762
         },
         {
          "group": "business",
          "x": 1.4422288678085522,
          "y": -0.3145278151136114
         },
         {
          "group": "business",
          "x": 1.5829197095723095,
          "y": -0.4288750869820984
         },
         {
          "group": "business",
          "x": -0.7383595983435127,
          "y": 2.508401920934624
         },
         {
          "group": "business",
          "x": -0.7176306375869382,
          "y": 1.1900968508528864
         },
         {
          "group": "business",
          "x": 0.00296072803287878,
          "y": 1.7103787942745363
         },
         {
          "group": "business",
          "x": 0.44401540162581843,
          "y": 0.881656347483645
         },
         {
          "group": "business",
          "x": 0.4939543107751022,
          "y": 0.08084485088289514
         },
         {
          "group": "business",
          "x": 0.8679685648741053,
          "y": 1.5307962096227166
         },
         {
          "group": "business",
          "x": -0.18942459862213978,
          "y": 0.4365009346018508
         },
         {
          "group": "business",
          "x": -0.8444165782785733,
          "y": 0.9431296376741669
         },
         {
          "group": "business",
          "x": 1.815099048014049,
          "y": 0.7488504331859411
         },
         {
          "group": "business",
          "x": -0.5224576847176592,
          "y": -0.561217270601561
         },
         {
          "group": "business",
          "x": 0.702610594180089,
          "y": -2.4947855210371905
         },
         {
          "group": "business",
          "x": 1.359562609628965,
          "y": 0.4139193091912654
         },
         {
          "group": "business",
          "x": 0.26285584271940204,
          "y": -0.5083915537397137
         },
         {
          "group": "business",
          "x": -0.4113809279776216,
          "y": 1.0900362372806434
         },
         {
          "group": "business",
          "x": -0.268016864880781,
          "y": -1.7269176966815172
         },
         {
          "group": "business",
          "x": 0.8711468257102352,
          "y": 1.0667460009396452
         },
         {
          "group": "business",
          "x": 1.2539943051139026,
          "y": -0.6025265820233822
         },
         {
          "group": "business",
          "x": 2.0875262433168618,
          "y": -1.7311981738891011
         },
         {
          "group": "business",
          "x": -0.8874114059333034,
          "y": -0.38935310942664997
         },
         {
          "group": "business",
          "x": 1.693094953149852,
          "y": 1.1604107336741334
         },
         {
          "group": "business",
          "x": 0.3317637258147464,
          "y": -0.14996395987128902
         },
         {
          "group": "business",
          "x": -1.7345666789244818,
          "y": 0.2699090684068315
         },
         {
          "group": "business",
          "x": 1.7895763105284732,
          "y": -1.0792149386678886
         },
         {
          "group": "business",
          "x": -0.2488340610931933,
          "y": -0.45781815533231823
         },
         {
          "group": "business",
          "x": 1.0991988489163538,
          "y": 1.0159611412520917
         },
         {
          "group": "business",
          "x": 0.8673780086071485,
          "y": -2.973603014150866
         },
         {
          "group": "business",
          "x": 1.2319042407493386,
          "y": 0.6668464040901467
         },
         {
          "group": "business",
          "x": -0.10196021726937593,
          "y": -0.4928565073198585
         },
         {
          "group": "business",
          "x": 1.623590548485612,
          "y": 1.778027328399445
         },
         {
          "group": "business",
          "x": 2.395920688708938,
          "y": -0.858975336218368
         },
         {
          "group": "business",
          "x": 0.5225808007581879,
          "y": -0.8369666285479891
         },
         {
          "group": "business",
          "x": 1.688780174114773,
          "y": -0.10357077527422616
         },
         {
          "group": "business",
          "x": -0.29431622425311366,
          "y": -0.5648912962886677
         },
         {
          "group": "business",
          "x": 0.5195793763774378,
          "y": 0.9908381567465074
         },
         {
          "group": "business",
          "x": 0.06695800106319581,
          "y": -0.23690277378669952
         },
         {
          "group": "business",
          "x": 0.8012637608469332,
          "y": -0.4111322488486111
         },
         {
          "group": "business",
          "x": 0.07118270217176577,
          "y": 2.831115464528971
         },
         {
          "group": "business",
          "x": -0.0010387679013126548,
          "y": 0.586471164079586
         },
         {
          "group": "business",
          "x": 1.3407122465366603,
          "y": -0.09143469580342736
         },
         {
          "group": "business",
          "x": 0.35564288718275233,
          "y": 0.04650873646444241
         },
         {
          "group": "business",
          "x": -0.7762241539935879,
          "y": -0.17197108555554513
         },
         {
          "group": "business",
          "x": 3.1774917829663583,
          "y": -2.327559451964393
         },
         {
          "group": "business",
          "x": -0.7895786705522457,
          "y": 1.1218579840606253
         },
         {
          "group": "business",
          "x": 1.0560158861584368,
          "y": 0.25728476875043255
         },
         {
          "group": "business",
          "x": -0.3642148089402455,
          "y": -0.9113369269167052
         },
         {
          "group": "business",
          "x": 1.9134805513041313,
          "y": 0.5837921147582487
         },
         {
          "group": "business",
          "x": -0.11841143430441645,
          "y": 1.578386821436714
         },
         {
          "group": "business",
          "x": 2.0688296624501277,
          "y": 1.696533405905939
         },
         {
          "group": "business",
          "x": 1.1701131107124572,
          "y": 0.49969593206121476
         },
         {
          "group": "business",
          "x": 0.5084783542941972,
          "y": -1.5680186174521993
         },
         {
          "group": "business",
          "x": 1.87610027152609,
          "y": 0.09490691615314802
         },
         {
          "group": "business",
          "x": 0.8903287361513867,
          "y": 0.7689681028940006
         },
         {
          "group": "business",
          "x": 0.7531580079189366,
          "y": 0.7711742071843509
         },
         {
          "group": "business",
          "x": -1.405965447985088,
          "y": -2.39311856620515
         },
         {
          "group": "business",
          "x": 0.7915796382851146,
          "y": -0.5145283784637403
         },
         {
          "group": "business",
          "x": -0.4590695903647622,
          "y": 1.1368242201920475
         },
         {
          "group": "business",
          "x": 0.7094156560386791,
          "y": -0.7636175535885298
         },
         {
          "group": "business",
          "x": 0.117459547815869,
          "y": -0.49864005201943207
         },
         {
          "group": "business",
          "x": 2.12846404696114,
          "y": -0.221120816439292
         },
         {
          "group": "business",
          "x": -0.9579167165500956,
          "y": -0.28539415243853905
         },
         {
          "group": "business",
          "x": 1.097600250882107,
          "y": 0.9043262637894288
         },
         {
          "group": "business",
          "x": -0.5162369317272182,
          "y": -0.8254990097193656
         },
         {
          "group": "business",
          "x": 0.8308567646580497,
          "y": 0.3349193410247211
         },
         {
          "group": "business",
          "x": 1.8596453544391185,
          "y": 0.19542376043281334
         },
         {
          "group": "business",
          "x": 2.467938253414983,
          "y": -1.3090281579341772
         },
         {
          "group": "business",
          "x": 0.7003885225861028,
          "y": 1.5435607718030864
         },
         {
          "group": "business",
          "x": 1.1445833273629296,
          "y": 0.14127890860891518
         },
         {
          "group": "business",
          "x": -0.15260311567315757,
          "y": -0.9122533750730225
         },
         {
          "group": "business",
          "x": 1.93948090394873,
          "y": -0.6107490590686314
         },
         {
          "group": "business",
          "x": -1.444917567459925,
          "y": 0.3701490895525758
         },
         {
          "group": "business",
          "x": 0.24254116339675144,
          "y": -0.301920767212893
         },
         {
          "group": "business",
          "x": 0.15733654810532025,
          "y": -0.0803147585975044
         },
         {
          "group": "business",
          "x": -0.46315117321100086,
          "y": 0.37093378723896964
         },
         {
          "group": "business",
          "x": 0.7832411335553197,
          "y": -1.7259110673620472
         },
         {
          "group": "business",
          "x": 0.8807273100129459,
          "y": -2.281086056332723
         },
         {
          "group": "business",
          "x": 0.194655703609762,
          "y": -0.15497322357354282
         },
         {
          "group": "business",
          "x": 0.5429359150168745,
          "y": 2.3388062731485326
         },
         {
          "group": "business",
          "x": 1.2104553460974279,
          "y": 0.21096197732869448
         },
         {
          "group": "business",
          "x": -0.09881852326411257,
          "y": 0.023619073851628647
         },
         {
          "group": "business",
          "x": 0.13816382151375267,
          "y": 1.2327096509718132
         },
         {
          "group": "business",
          "x": 0.7697867312561576,
          "y": -0.6151094343890305
         },
         {
          "group": "business",
          "x": -0.9783086513645481,
          "y": -2.054581475833858
         },
         {
          "group": "business",
          "x": 1.836226865738272,
          "y": -1.656227003831172
         },
         {
          "group": "business",
          "x": -1.0729632690454192,
          "y": 0.2037972872616797
         },
         {
          "group": "business",
          "x": -0.011070080595925303,
          "y": 0.6474164639564303
         },
         {
          "group": "business",
          "x": 0.43013521812636246,
          "y": -0.02392801532593838
         },
         {
          "group": "business",
          "x": -0.3207661867843731,
          "y": -0.2968868036618329
         },
         {
          "group": "business",
          "x": -0.6801667070092616,
          "y": -2.4878182710719954
         },
         {
          "group": "business",
          "x": -1.6776586176160961,
          "y": -0.4854322938102025
         },
         {
          "group": "business",
          "x": 0.5261548617650774,
          "y": 1.6579226809340968
         },
         {
          "group": "business",
          "x": 1.4058089095320065,
          "y": 1.7053581336703751
         },
         {
          "group": "business",
          "x": -0.2310399072200783,
          "y": 0.5326848606419389
         },
         {
          "group": "business",
          "x": 1.7413546060580682,
          "y": 2.155110398651183
         },
         {
          "group": "business",
          "x": 1.8042701296728652,
          "y": -0.0413441072739115
         },
         {
          "group": "business",
          "x": -0.12346096125954208,
          "y": -0.7316067980927997
         },
         {
          "group": "business",
          "x": 0.6447195264473253,
          "y": 0.570727819994517
         },
         {
          "group": "business",
          "x": 0.8139570349640521,
          "y": -0.4606029676095142
         },
         {
          "group": "business",
          "x": 2.223527297207229,
          "y": 0.03577979297690279
         },
         {
          "group": "business",
          "x": 1.6982681967002404,
          "y": 2.5524704938760063
         },
         {
          "group": "business",
          "x": 0.7266375378220674,
          "y": 0.9175936934572906
         },
         {
          "group": "business",
          "x": -3.2372120133488,
          "y": -0.048193355963179335
         },
         {
          "group": "business",
          "x": 0.203736352212516,
          "y": -0.37140728142324686
         },
         {
          "group": "business",
          "x": -0.10030760393008471,
          "y": -0.7527948874280428
         },
         {
          "group": "business",
          "x": 1.07322474803014,
          "y": 1.4146434632987832
         },
         {
          "group": "business",
          "x": -1.3075302412427303,
          "y": 0.6023227275338898
         },
         {
          "group": "business",
          "x": 0.55315660920941,
          "y": -1.0304492100578855
         },
         {
          "group": "business",
          "x": 0.47475774990494646,
          "y": 1.8306244404329157
         },
         {
          "group": "business",
          "x": 2.066992463586187,
          "y": -0.47231592227124397
         },
         {
          "group": "business",
          "x": -0.6143746089441486,
          "y": 1.190972413759807
         },
         {
          "group": "business",
          "x": 0.7179190802330573,
          "y": -1.0019327349983718
         },
         {
          "group": "business",
          "x": -1.5088427299908589,
          "y": 0.7059353134301761
         },
         {
          "group": "business",
          "x": 0.5437254923427154,
          "y": 1.0031662547023874
         },
         {
          "group": "business",
          "x": -0.2867047959761736,
          "y": 0.8305031905727649
         },
         {
          "group": "business",
          "x": 1.8856329456149938,
          "y": -1.4971514967295745
         },
         {
          "group": "business",
          "x": 1.0137154558996448,
          "y": 1.0967590310880353
         },
         {
          "group": "business",
          "x": 0.12353747258293694,
          "y": 0.5461867187607
         },
         {
          "group": "business",
          "x": -0.9539828225240843,
          "y": 0.9760173114937908
         },
         {
          "group": "business",
          "x": 1.3749115708777981,
          "y": 0.08882735927563376
         },
         {
          "group": "politics",
          "x": 2.254167254219263,
          "y": 0.9487148289368796
         },
         {
          "group": "politics",
          "x": 0.010827393049547563,
          "y": -0.30100240592590616
         },
         {
          "group": "politics",
          "x": 1.4189883123314322,
          "y": -0.6743701201517409
         },
         {
          "group": "politics",
          "x": -1.8621683948541092,
          "y": 0.523186312278308
         },
         {
          "group": "politics",
          "x": 2.1569661413767593,
          "y": -0.03880769997000294
         },
         {
          "group": "politics",
          "x": -0.47809030495531424,
          "y": -0.4653128203325262
         },
         {
          "group": "politics",
          "x": -0.22221204086734048,
          "y": 0.8530809705525828
         },
         {
          "group": "politics",
          "x": -1.7273578969117265,
          "y": 0.1449539457399974
         },
         {
          "group": "politics",
          "x": 1.768404604232224,
          "y": 0.25390099663550886
         },
         {
          "group": "politics",
          "x": 1.5553371649801226,
          "y": -1.0962515023030215
         },
         {
          "group": "politics",
          "x": 0.16060249737779328,
          "y": 0.5846288696447665
         },
         {
          "group": "politics",
          "x": -0.22892377994767135,
          "y": 0.5964799905250963
         },
         {
          "group": "politics",
          "x": -0.3592763786834504,
          "y": 0.35588506248177937
         },
         {
          "group": "politics",
          "x": 0.04357026191219746,
          "y": -0.8590541055205251
         },
         {
          "group": "politics",
          "x": 0.48531225538285166,
          "y": 1.0143377694722788
         },
         {
          "group": "politics",
          "x": 0.8717937619775413,
          "y": -0.9559562369531912
         },
         {
          "group": "politics",
          "x": -1.9508335728086026,
          "y": 1.1551328255194209
         },
         {
          "group": "politics",
          "x": 0.2672580669553341,
          "y": -1.1016985267208625
         },
         {
          "group": "politics",
          "x": 2.292594777240944,
          "y": -0.8122222671164775
         },
         {
          "group": "politics",
          "x": 0.11353640488612482,
          "y": 0.8032282986245625
         },
         {
          "group": "politics",
          "x": -0.5768074753980452,
          "y": 0.01461565069823325
         },
         {
          "group": "politics",
          "x": 0.4378094495631621,
          "y": 0.6553155495591245
         },
         {
          "group": "politics",
          "x": 1.8441148345269285,
          "y": -0.6429941594718257
         },
         {
          "group": "politics",
          "x": 1.7039303023789472,
          "y": -0.8352407321573444
         },
         {
          "group": "politics",
          "x": 0.5786276791648607,
          "y": 0.7654791563193752
         },
         {
          "group": "politics",
          "x": -0.9099142735000753,
          "y": 0.0027598509447791034
         },
         {
          "group": "politics",
          "x": -0.4305079776034515,
          "y": 0.22957495660887767
         },
         {
          "group": "politics",
          "x": 0.09402356919822111,
          "y": -0.3150394256015564
         },
         {
          "group": "politics",
          "x": 1.5491566503824286,
          "y": 0.9133126587570843
         },
         {
          "group": "politics",
          "x": 2.5381411624110437,
          "y": -0.10544115359010062
         },
         {
          "group": "politics",
          "x": 0.31299246210327925,
          "y": 2.5413226011914976
         },
         {
          "group": "politics",
          "x": 1.1199346788953877,
          "y": -0.9521209322007939
         },
         {
          "group": "politics",
          "x": 1.866919927765737,
          "y": -0.930398912555636
         },
         {
          "group": "politics",
          "x": -0.4642169082780879,
          "y": 2.239143197588569
         },
         {
          "group": "politics",
          "x": 1.7716539584842368,
          "y": 0.2125759362867836
         },
         {
          "group": "politics",
          "x": 1.0361811954156972,
          "y": 0.8297735197046235
         },
         {
          "group": "politics",
          "x": 1.2155666357560633,
          "y": 1.3978292971118824
         },
         {
          "group": "politics",
          "x": -0.05718727408515153,
          "y": 0.2960418262417223
         },
         {
          "group": "politics",
          "x": -0.9731482992805199,
          "y": 2.7840768450057385
         },
         {
          "group": "politics",
          "x": 1.4141290113797107,
          "y": -0.6011651203649351
         },
         {
          "group": "politics",
          "x": -0.810347938502357,
          "y": 1.3187375781208914
         },
         {
          "group": "politics",
          "x": 0.6362143561763229,
          "y": -0.16882781049682863
         },
         {
          "group": "politics",
          "x": 0.411579483107058,
          "y": 0.2910178532720751
         },
         {
          "group": "politics",
          "x": -0.2893879849598452,
          "y": 0.5423562095650715
         },
         {
          "group": "politics",
          "x": -0.3712701154154352,
          "y": -0.8307109404273185
         },
         {
          "group": "politics",
          "x": 1.1330905738368169,
          "y": -0.35877817490040576
         },
         {
          "group": "politics",
          "x": -0.7507461196019948,
          "y": -1.5656276265255717
         },
         {
          "group": "politics",
          "x": 0.40473624019612925,
          "y": -0.05877802979725166
         },
         {
          "group": "politics",
          "x": -1.9982189597171143,
          "y": -0.6710444688531336
         },
         {
          "group": "politics",
          "x": 0.9652634291933396,
          "y": 1.4496885607072973
         },
         {
          "group": "politics",
          "x": 0.5754955383927146,
          "y": 0.7926557653233199
         },
         {
          "group": "politics",
          "x": 0.9940478067836311,
          "y": 1.1240074512796099
         },
         {
          "group": "politics",
          "x": -0.21608155136625418,
          "y": -1.3879900598261765
         },
         {
          "group": "politics",
          "x": 0.272002546682341,
          "y": 2.095593147018272
         },
         {
          "group": "politics",
          "x": 1.4587080688216973,
          "y": -0.3934745266326253
         },
         {
          "group": "politics",
          "x": -0.049112617530718605,
          "y": -1.4917283134528943
         },
         {
          "group": "politics",
          "x": 0.5578401957386313,
          "y": 1.090605952482689
         },
         {
          "group": "politics",
          "x": 2.2500289763590606,
          "y": -0.12184742485012866
         },
         {
          "group": "politics",
          "x": 0.9613841794224055,
          "y": 0.37072088104826334
         },
         {
          "group": "politics",
          "x": -1.3258742297579393,
          "y": -1.2702747206868066
         },
         {
          "group": "politics",
          "x": 0.2634828119154072,
          "y": 1.3520018434913983
         },
         {
          "group": "politics",
          "x": -1.2779821327652525,
          "y": 0.8583538150093999
         },
         {
          "group": "politics",
          "x": 1.6417446182432271,
          "y": 1.6053408581146884
         },
         {
          "group": "politics",
          "x": 0.6607281752744768,
          "y": -0.31068018289095906
         },
         {
          "group": "politics",
          "x": 0.5986539594522391,
          "y": -1.1666651140533326
         },
         {
          "group": "politics",
          "x": 0.8113332793920568,
          "y": -0.5587209421346435
         },
         {
          "group": "politics",
          "x": 1.0387317513394168,
          "y": 1.5982850546018617
         },
         {
          "group": "politics",
          "x": 0.30159436359310654,
          "y": 0.40774569946356287
         },
         {
          "group": "politics",
          "x": 2.328074777540409,
          "y": -1.1051944155639286
         },
         {
          "group": "politics",
          "x": 0.8585404404945052,
          "y": 0.2564940203362405
         },
         {
          "group": "politics",
          "x": -1.0061893872097798,
          "y": 1.29629733354567
         },
         {
          "group": "politics",
          "x": 1.8236009214223188,
          "y": 0.5381085108876961
         },
         {
          "group": "politics",
          "x": 0.0869387491763721,
          "y": 0.8381370786007774
         },
         {
          "group": "politics",
          "x": -0.30955314695454605,
          "y": 1.6859655095546262
         },
         {
          "group": "politics",
          "x": -0.03886059455369788,
          "y": -1.44323640707244
         },
         {
          "group": "politics",
          "x": 0.37878757349803405,
          "y": -0.7971422157802763
         },
         {
          "group": "politics",
          "x": 0.2599804541472016,
          "y": -1.042769438518317
         },
         {
          "group": "politics",
          "x": 1.0290947094004266,
          "y": 0.8164559674926652
         },
         {
          "group": "politics",
          "x": 0.9060834932966668,
          "y": 0.18460103503460967
         },
         {
          "group": "politics",
          "x": 0.9514176014605341,
          "y": 0.8128069575499816
         },
         {
          "group": "politics",
          "x": 2.757053545050319,
          "y": -0.5664595821710062
         },
         {
          "group": "politics",
          "x": -0.06379237942622983,
          "y": 0.8241465688386462
         },
         {
          "group": "politics",
          "x": 0.3725055941607463,
          "y": 0.9714085353653106
         },
         {
          "group": "politics",
          "x": 0.40226427232343687,
          "y": 0.635439978267664
         },
         {
          "group": "politics",
          "x": 1.7917945992957958,
          "y": 0.49932323698560227
         },
         {
          "group": "politics",
          "x": 0.18082309692058152,
          "y": 0.8507522516890734
         },
         {
          "group": "politics",
          "x": 0.4699975077859414,
          "y": -1.6934246151335992
         },
         {
          "group": "politics",
          "x": 2.5630664571356503,
          "y": 0.9657523831529511
         },
         {
          "group": "politics",
          "x": -1.0725507018002516,
          "y": 0.5387653441969192
         },
         {
          "group": "politics",
          "x": 0.44180141865879863,
          "y": 0.30036112028106793
         },
         {
          "group": "politics",
          "x": -0.34024690638432803,
          "y": 1.9776711979838266
         },
         {
          "group": "politics",
          "x": 2.860840081634776,
          "y": 0.08740899767012733
         },
         {
          "group": "politics",
          "x": -0.22671035172858703,
          "y": 0.7909427942785203
         },
         {
          "group": "politics",
          "x": -0.4503706273061329,
          "y": 0.9837044970264784
         },
         {
          "group": "politics",
          "x": -0.9861559053162545,
          "y": 0.24422397614361976
         },
         {
          "group": "politics",
          "x": 1.3579429482812746,
          "y": 0.4718889583736622
         },
         {
          "group": "politics",
          "x": -0.9559606755934499,
          "y": 0.5177672507277769
         },
         {
          "group": "politics",
          "x": 0.60273214581944,
          "y": -0.4355735328812292
         },
         {
          "group": "politics",
          "x": 0.5207310606671177,
          "y": -0.19716942231754037
         },
         {
          "group": "politics",
          "x": 1.5720030535576384,
          "y": -0.8029618341159295
         },
         {
          "group": "politics",
          "x": 0.7765106297430991,
          "y": -0.3972914797662069
         },
         {
          "group": "politics",
          "x": 0.868166776088537,
          "y": -1.2565420629558892
         },
         {
          "group": "politics",
          "x": -0.27748239070034936,
          "y": 0.9060066627132907
         },
         {
          "group": "politics",
          "x": -0.5689156529244387,
          "y": 0.9907306779505594
         },
         {
          "group": "politics",
          "x": 1.1445489855366107,
          "y": 2.7201326892853457
         },
         {
          "group": "politics",
          "x": 1.0140178491471894,
          "y": 1.2773348059270377
         },
         {
          "group": "politics",
          "x": -1.4200948815031924,
          "y": 0.9691341151422792
         },
         {
          "group": "politics",
          "x": -0.8304638188690395,
          "y": -0.4161844389883233
         },
         {
          "group": "politics",
          "x": -0.4954910784499457,
          "y": -2.3408713816576716
         },
         {
          "group": "politics",
          "x": 0.6373944810402281,
          "y": 1.728112723419657
         },
         {
          "group": "politics",
          "x": -0.44779856776957333,
          "y": 0.882862468718618
         },
         {
          "group": "politics",
          "x": -0.8578187485353737,
          "y": -0.7902023015723963
         },
         {
          "group": "politics",
          "x": -0.7904334395582464,
          "y": 0.4909286881443761
         },
         {
          "group": "politics",
          "x": -0.4404446677353366,
          "y": 1.0904989117025858
         },
         {
          "group": "politics",
          "x": 0.7389756349086548,
          "y": -0.6829669136754621
         },
         {
          "group": "politics",
          "x": -1.1840225642490982,
          "y": -0.16742584484446532
         },
         {
          "group": "politics",
          "x": 1.8048157871012143,
          "y": 0.8998081750031772
         },
         {
          "group": "politics",
          "x": 0.19386805056016326,
          "y": 0.976678382198228
         },
         {
          "group": "politics",
          "x": 1.1481489735323025,
          "y": -0.3112268576012128
         },
         {
          "group": "politics",
          "x": 1.5765426143117658,
          "y": -0.41970266835350895
         },
         {
          "group": "politics",
          "x": -0.06409472545138044,
          "y": -0.7308237934696835
         },
         {
          "group": "politics",
          "x": -0.5425049133724827,
          "y": -0.9664957263391681
         },
         {
          "group": "politics",
          "x": -0.05076094293207761,
          "y": 1.1294019506696227
         },
         {
          "group": "politics",
          "x": -0.4770555268161723,
          "y": -0.7383349975175162
         },
         {
          "group": "politics",
          "x": -0.41058000666982375,
          "y": 1.272886615982653
         },
         {
          "group": "politics",
          "x": 0.5987323795983215,
          "y": 0.8255770422091585
         },
         {
          "group": "politics",
          "x": -0.37687288610513703,
          "y": 0.6230575497819394
         },
         {
          "group": "politics",
          "x": -0.8932401119626731,
          "y": 1.5874296814009112
         },
         {
          "group": "politics",
          "x": 1.341886503547825,
          "y": -0.7829022710696563
         },
         {
          "group": "politics",
          "x": 0.2837421401582304,
          "y": -1.742742990260738
         },
         {
          "group": "politics",
          "x": 0.6588892950114814,
          "y": 1.012420402275086
         },
         {
          "group": "politics",
          "x": 1.1309985574594563,
          "y": 0.7635137613472701
         },
         {
          "group": "politics",
          "x": -0.25820561546041476,
          "y": -0.6342342800855324
         },
         {
          "group": "politics",
          "x": 3.3116243252644346,
          "y": 1.3046626366380218
         },
         {
          "group": "politics",
          "x": -0.7312734943738901,
          "y": -0.7559344767384463
         },
         {
          "group": "politics",
          "x": 2.384115602472634,
          "y": -1.8296618541294023
         },
         {
          "group": "politics",
          "x": -0.6951680197161361,
          "y": -0.670574536844156
         },
         {
          "group": "politics",
          "x": 0.4199067817562747,
          "y": 0.998905348801941
         },
         {
          "group": "politics",
          "x": 1.6319777744036228,
          "y": -0.5657467166623613
         },
         {
          "group": "politics",
          "x": 1.409097872991735,
          "y": -0.5447718137062224
         },
         {
          "group": "politics",
          "x": 1.708148088310837,
          "y": -1.8062851034184961
         },
         {
          "group": "politics",
          "x": 0.6573801312128924,
          "y": -0.6666871050737204
         },
         {
          "group": "politics",
          "x": 0.32017861709023104,
          "y": 0.6163796551112403
         },
         {
          "group": "politics",
          "x": 0.016801729890731105,
          "y": -0.19292081401653766
         },
         {
          "group": "politics",
          "x": 0.08835951759347445,
          "y": 2.149804037466975
         },
         {
          "group": "politics",
          "x": -0.31386386433080776,
          "y": 0.2829314250322669
         },
         {
          "group": "politics",
          "x": -0.737456090976729,
          "y": -0.408125715830306
         },
         {
          "group": "politics",
          "x": -2.611610635513214,
          "y": -0.9197010390368846
         },
         {
          "group": "politics",
          "x": -0.8928867380578579,
          "y": 0.9123510678777994
         },
         {
          "group": "politics",
          "x": 0.6049076154869291,
          "y": -0.46535844720697606
         },
         {
          "group": "politics",
          "x": 2.698724151150016,
          "y": -0.9202375507603948
         },
         {
          "group": "politics",
          "x": -0.726975694933431,
          "y": 1.112536612815479
         },
         {
          "group": "politics",
          "x": 1.3565606450715884,
          "y": -2.7582320952656296
         },
         {
          "group": "politics",
          "x": 0.48609444225125237,
          "y": -1.4855267917234636
         },
         {
          "group": "politics",
          "x": 1.3571164373437206,
          "y": -1.5158149953357247
         },
         {
          "group": "politics",
          "x": -0.08236969543416886,
          "y": -0.5805254075724952
         },
         {
          "group": "politics",
          "x": 0.30258036360346136,
          "y": 0.6055478282812542
         },
         {
          "group": "politics",
          "x": 0.10116347822933909,
          "y": 0.25578547985988737
         },
         {
          "group": "politics",
          "x": -0.650105153684891,
          "y": 0.41644349050467755
         },
         {
          "group": "politics",
          "x": 0.23581774777075715,
          "y": 0.4758700894175048
         },
         {
          "group": "politics",
          "x": -1.0002539831992312,
          "y": 2.386710294282859
         },
         {
          "group": "politics",
          "x": 1.0632892784684678,
          "y": -1.7368705360937509
         },
         {
          "group": "politics",
          "x": -0.5749441093582901,
          "y": 0.67565616622892
         },
         {
          "group": "politics",
          "x": -1.0469147563016388,
          "y": 0.061944250626948666
         },
         {
          "group": "politics",
          "x": 0.6554501955612371,
          "y": 0.46130761504132944
         },
         {
          "group": "politics",
          "x": 1.9136797576911213,
          "y": -0.8937652020562936
         },
         {
          "group": "politics",
          "x": -1.3675773032291294,
          "y": 2.27584897745136
         },
         {
          "group": "politics",
          "x": -0.2686580188658326,
          "y": -0.19439831761873796
         },
         {
          "group": "politics",
          "x": 1.1181473498389711,
          "y": -0.12888042855765883
         },
         {
          "group": "politics",
          "x": 3.2932827767669948,
          "y": 1.021403230947493
         },
         {
          "group": "politics",
          "x": 1.274541419032664,
          "y": 1.1888407395377782
         },
         {
          "group": "politics",
          "x": 2.095073331447696,
          "y": 1.3051405933671745
         },
         {
          "group": "politics",
          "x": 1.7893395116322028,
          "y": -1.2297192555585235
         },
         {
          "group": "politics",
          "x": -0.6549922736521733,
          "y": -1.5691336072121362
         },
         {
          "group": "politics",
          "x": -0.14978283361618122,
          "y": 1.3976936221869716
         },
         {
          "group": "politics",
          "x": -1.249350327377174,
          "y": -0.038537153356615526
         },
         {
          "group": "politics",
          "x": 2.9902627472799654,
          "y": 0.9900212133606456
         },
         {
          "group": "politics",
          "x": -0.21961133518539813,
          "y": -1.8189651183914994
         },
         {
          "group": "politics",
          "x": 0.4363348685711546,
          "y": -0.386546107640175
         },
         {
          "group": "politics",
          "x": 0.9383022555998719,
          "y": 0.5590669438113783
         },
         {
          "group": "politics",
          "x": 0.9534725492799154,
          "y": 0.02965262470224872
         },
         {
          "group": "politics",
          "x": 1.5014606869313072,
          "y": 3.532942944245635
         },
         {
          "group": "politics",
          "x": -1.089945844818366,
          "y": 0.5422601743027031
         },
         {
          "group": "politics",
          "x": -0.5542673971549084,
          "y": 0.26761782715408167
         },
         {
          "group": "politics",
          "x": 0.36910978933578875,
          "y": -0.5719514741758657
         },
         {
          "group": "politics",
          "x": -1.417063237708384,
          "y": -0.7501476178848754
         },
         {
          "group": "politics",
          "x": 1.2063961517134907,
          "y": -1.594607451520659
         },
         {
          "group": "politics",
          "x": 1.5197192587786301,
          "y": 0.6601686524082222
         },
         {
          "group": "politics",
          "x": 2.0043414665409958,
          "y": 0.751811514334632
         },
         {
          "group": "politics",
          "x": -0.42008686994880634,
          "y": -0.6234865269358323
         },
         {
          "group": "politics",
          "x": 0.3906769429112756,
          "y": 1.042602914207823
         },
         {
          "group": "politics",
          "x": -1.3806984481272306,
          "y": 0.40400421873628634
         },
         {
          "group": "politics",
          "x": 1.257900675624121,
          "y": 0.9953620386431876
         },
         {
          "group": "politics",
          "x": -1.2801899401104968,
          "y": 0.0891798305576714
         },
         {
          "group": "politics",
          "x": 0.3608914790887275,
          "y": -0.6687936336219193
         },
         {
          "group": "politics",
          "x": -0.7846313618337669,
          "y": -0.7061328040651359
         },
         {
          "group": "politics",
          "x": 1.3798028351542229,
          "y": 0.3497177004439708
         },
         {
          "group": "politics",
          "x": 0.1366128704382867,
          "y": -0.3792409420962374
         },
         {
          "group": "politics",
          "x": 1.3574040532682523,
          "y": 0.9463222249909381
         },
         {
          "group": "politics",
          "x": 0.1610738614603217,
          "y": 0.684047564218104
         },
         {
          "group": "politics",
          "x": 0.34897748280801716,
          "y": -0.005268402596888503
         },
         {
          "group": "politics",
          "x": 0.016447317238126438,
          "y": 0.8550045573103134
         },
         {
          "group": "politics",
          "x": 0.24281079461763883,
          "y": 0.34166764286485496
         },
         {
          "group": "politics",
          "x": -0.04706705342347034,
          "y": -0.38326453640131075
         },
         {
          "group": "politics",
          "x": 0.2253425247648515,
          "y": 0.6273205214284155
         },
         {
          "group": "politics",
          "x": 0.9104251718064693,
          "y": 1.7216491395679057
         },
         {
          "group": "politics",
          "x": 0.2878843891002042,
          "y": 1.2570145709456715
         },
         {
          "group": "politics",
          "x": 0.3947119517330971,
          "y": -0.016374360843430052
         },
         {
          "group": "politics",
          "x": -1.8711958784543536,
          "y": 0.4638557997006063
         },
         {
          "group": "politics",
          "x": 1.330853752629091,
          "y": -0.24227464247475794
         },
         {
          "group": "politics",
          "x": 1.293506672104091,
          "y": 0.48907831212102093
         },
         {
          "group": "politics",
          "x": -1.0497398289130644,
          "y": -1.1447778062838139
         },
         {
          "group": "politics",
          "x": 0.3242909049229039,
          "y": 0.22297689766920503
         },
         {
          "group": "politics",
          "x": 0.7581620401476857,
          "y": -0.4735101733970699
         },
         {
          "group": "politics",
          "x": -0.7228529340189043,
          "y": 0.6578591286074993
         },
         {
          "group": "politics",
          "x": 0.8980966052406402,
          "y": -0.244637428043266
         },
         {
          "group": "politics",
          "x": -2.148383835750611,
          "y": -0.7012233776565916
         },
         {
          "group": "politics",
          "x": -0.9203706943271629,
          "y": 0.5930557386278729
         },
         {
          "group": "politics",
          "x": 1.3699727884774882,
          "y": -0.34780603155885687
         },
         {
          "group": "politics",
          "x": -0.07076171005826079,
          "y": 0.45448327687915674
         },
         {
          "group": "politics",
          "x": -1.2715125052899396,
          "y": -0.29583440865590016
         },
         {
          "group": "politics",
          "x": -1.1367911301069311,
          "y": 0.2603301256391483
         },
         {
          "group": "politics",
          "x": 0.24804228357479075,
          "y": -1.0794593142558935
         },
         {
          "group": "politics",
          "x": 0.9287938708089511,
          "y": -0.7578635307104955
         },
         {
          "group": "politics",
          "x": 2.3555861938344047,
          "y": -1.1277341085662773
         },
         {
          "group": "politics",
          "x": -2.1790381946524118,
          "y": -1.9087510686836988
         },
         {
          "group": "politics",
          "x": 0.5403888240152964,
          "y": 0.05829407252967525
         },
         {
          "group": "politics",
          "x": -1.0858982775310972,
          "y": 0.9094448001861987
         },
         {
          "group": "politics",
          "x": -0.3713871463173515,
          "y": -0.2510388698708774
         },
         {
          "group": "politics",
          "x": 1.2766568977754025,
          "y": 2.266003444860782
         },
         {
          "group": "politics",
          "x": -0.255611511218033,
          "y": -1.956877527673465
         },
         {
          "group": "politics",
          "x": 0.5518027200532407,
          "y": 1.2148325983065134
         },
         {
          "group": "politics",
          "x": -1.784029473185646,
          "y": -0.5231825708789146
         },
         {
          "group": "politics",
          "x": 0.874181972605454,
          "y": 0.9556507023531697
         },
         {
          "group": "politics",
          "x": -1.2702282770753972,
          "y": 0.791808327022049
         },
         {
          "group": "politics",
          "x": 1.276584316265048,
          "y": -1.4524620151018814
         },
         {
          "group": "politics",
          "x": 1.3773203039726967,
          "y": -0.2078228168934922
         },
         {
          "group": "politics",
          "x": 0.6647405977380009,
          "y": -1.5851757483683382
         },
         {
          "group": "politics",
          "x": 1.7933371965261622,
          "y": -0.028218561670924954
         },
         {
          "group": "politics",
          "x": -0.040855420250379866,
          "y": -1.4209374796760759
         },
         {
          "group": "politics",
          "x": 1.4245832313042868,
          "y": 1.7180588509855093
         },
         {
          "group": "politics",
          "x": -2.4600442333463177,
          "y": 0.45009360666510245
         },
         {
          "group": "politics",
          "x": -1.237943338034828,
          "y": -1.9250951561333813
         },
         {
          "group": "politics",
          "x": -1.976727945721592,
          "y": -0.5046131143042814
         },
         {
          "group": "politics",
          "x": 0.9904478025182958,
          "y": 1.6254731700244487
         },
         {
          "group": "politics",
          "x": 0.6503147636404107,
          "y": -1.908188945079578
         },
         {
          "group": "politics",
          "x": -1.7024992660286886,
          "y": -0.6298661323856516
         },
         {
          "group": "politics",
          "x": -1.2034264380004605,
          "y": -0.07586019078759129
         },
         {
          "group": "politics",
          "x": -0.6629991834313894,
          "y": -0.6091822550511433
         },
         {
          "group": "politics",
          "x": -0.3974208115021563,
          "y": 1.014803053816735
         },
         {
          "group": "politics",
          "x": -1.1411939820272492,
          "y": -1.0660402861965637
         },
         {
          "group": "politics",
          "x": 1.2942637011384217,
          "y": -0.1724780030377288
         },
         {
          "group": "politics",
          "x": 0.01218025694580847,
          "y": -0.17781413422491416
         },
         {
          "group": "politics",
          "x": 1.0955761910946318,
          "y": -0.8504842334382623
         },
         {
          "group": "politics",
          "x": 0.02191578525354616,
          "y": -0.40485961497689105
         },
         {
          "group": "politics",
          "x": 0.15650571413479286,
          "y": -1.3577214801084596
         },
         {
          "group": "politics",
          "x": 0.24109869781292156,
          "y": 0.10701233556354937
         },
         {
          "group": "politics",
          "x": -0.22849589381106675,
          "y": 0.30326816731132594
         },
         {
          "group": "politics",
          "x": 1.7722995168328535,
          "y": -0.9678880930651239
         },
         {
          "group": "politics",
          "x": 0.415910720523837,
          "y": -0.09604578639183994
         },
         {
          "group": "politics",
          "x": -0.4242092977416979,
          "y": -2.3176303911455185
         },
         {
          "group": "politics",
          "x": -0.17501946928812684,
          "y": 0.9287098485789861
         },
         {
          "group": "politics",
          "x": 0.9371203148196352,
          "y": -0.30632912690542835
         },
         {
          "group": "politics",
          "x": 1.2096271283689164,
          "y": -0.22417111166824144
         },
         {
          "group": "politics",
          "x": -0.36555377842211806,
          "y": -0.8230072411633852
         },
         {
          "group": "politics",
          "x": 0.23232278265541165,
          "y": 1.199659124792379
         },
         {
          "group": "politics",
          "x": 1.9695831609087153,
          "y": -0.713927254848738
         },
         {
          "group": "politics",
          "x": 1.1075055031859982,
          "y": -1.606270256590083
         },
         {
          "group": "politics",
          "x": 0.621322540201401,
          "y": -0.6661628234693917
         },
         {
          "group": "politics",
          "x": 0.27760750060309786,
          "y": 0.7095712086532727
         },
         {
          "group": "politics",
          "x": 1.3529470194114175,
          "y": 0.8788329477686901
         },
         {
          "group": "politics",
          "x": 0.1454783215369875,
          "y": 2.618373363848512
         },
         {
          "group": "politics",
          "x": 0.3741844023378518,
          "y": -0.3058169081134696
         },
         {
          "group": "politics",
          "x": -1.055933930441791,
          "y": -0.207630210918116
         },
         {
          "group": "politics",
          "x": -0.2688244908141465,
          "y": 2.0060962450369626
         },
         {
          "group": "politics",
          "x": -1.305032367728843,
          "y": -0.6281364092647048
         },
         {
          "group": "politics",
          "x": 0.549798753712849,
          "y": -0.5245961158708692
         },
         {
          "group": "politics",
          "x": 0.9078206000088677,
          "y": 1.5681107897780033
         },
         {
          "group": "politics",
          "x": 1.2462494546625054,
          "y": 0.7172335740940369
         },
         {
          "group": "politics",
          "x": 1.0612396504268171,
          "y": 0.9374120061774865
         },
         {
          "group": "politics",
          "x": 1.1658698276870576,
          "y": 0.7310671170877743
         },
         {
          "group": "politics",
          "x": 1.2830841032367861,
          "y": 0.07133878637105921
         },
         {
          "group": "politics",
          "x": 0.7500895243753011,
          "y": 0.6613667632172223
         },
         {
          "group": "politics",
          "x": -0.4979293921365135,
          "y": -0.3425997907231168
         },
         {
          "group": "politics",
          "x": -0.24464967121862416,
          "y": -1.8450497692203656
         },
         {
          "group": "politics",
          "x": 0.9956936111100624,
          "y": 0.05060004337957707
         },
         {
          "group": "politics",
          "x": 0.08258103186943212,
          "y": 0.9207998134952136
         },
         {
          "group": "politics",
          "x": 0.6280789249900126,
          "y": -1.073700595541951
         },
         {
          "group": "politics",
          "x": 1.0287059779884244,
          "y": 0.4870831421492661
         },
         {
          "group": "politics",
          "x": 0.5624275225446992,
          "y": -0.9165252043497072
         },
         {
          "group": "politics",
          "x": -0.2445154749029576,
          "y": -0.09396707285406111
         },
         {
          "group": "politics",
          "x": 0.4486613443925771,
          "y": -0.09748555027968632
         },
         {
          "group": "politics",
          "x": 0.7021365222404081,
          "y": 0.7480106474151945
         },
         {
          "group": "politics",
          "x": -0.6129568486025303,
          "y": -0.9895437083619862
         },
         {
          "group": "politics",
          "x": -0.0685683455148961,
          "y": 0.25945756990824476
         },
         {
          "group": "politics",
          "x": 1.0728110485469937,
          "y": 0.015254370475008766
         },
         {
          "group": "politics",
          "x": -0.9161111591177762,
          "y": -0.2740771619469932
         },
         {
          "group": "politics",
          "x": -0.35491624740304595,
          "y": 2.411581418864976
         },
         {
          "group": "politics",
          "x": -0.5096308393372765,
          "y": -1.9920003265852704
         },
         {
          "group": "politics",
          "x": 0.7775890703740755,
          "y": -0.7893458207010778
         },
         {
          "group": "politics",
          "x": 0.05173886593083809,
          "y": -0.788725807570265
         },
         {
          "group": "politics",
          "x": 0.8497816905458875,
          "y": 0.3560543987294244
         },
         {
          "group": "politics",
          "x": 1.3280323048813794,
          "y": 2.4673119900254483
         },
         {
          "group": "politics",
          "x": 0.22524916397128344,
          "y": -1.0326289926174808
         },
         {
          "group": "politics",
          "x": 1.2132056873335613,
          "y": -0.5992949651692748
         },
         {
          "group": "politics",
          "x": 0.11085818834694965,
          "y": -0.02073808564503129
         },
         {
          "group": "politics",
          "x": -1.2869839905343181,
          "y": -0.8271096345306801
         },
         {
          "group": "politics",
          "x": -1.0904084517093444,
          "y": 0.19116327137099184
         },
         {
          "group": "politics",
          "x": 1.2183820695057006,
          "y": -0.3186998117088531
         },
         {
          "group": "politics",
          "x": 2.4269843412040384,
          "y": 1.737510028105018
         },
         {
          "group": "politics",
          "x": -1.0122007694496482,
          "y": 0.8220423207444937
         },
         {
          "group": "politics",
          "x": 1.0784320317165148,
          "y": 0.7047865773123984
         },
         {
          "group": "politics",
          "x": -1.1197117309271154,
          "y": 0.24227778231833635
         },
         {
          "group": "politics",
          "x": 1.2050641371211865,
          "y": 0.24373394571566503
         },
         {
          "group": "politics",
          "x": 1.4636839547613902,
          "y": 0.43557434906521747
         },
         {
          "group": "politics",
          "x": 0.2375273616242481,
          "y": 0.2217590995370581
         },
         {
          "group": "politics",
          "x": 0.020559760745220236,
          "y": -2.0103481884568972
         },
         {
          "group": "politics",
          "x": 0.3992196788936683,
          "y": -0.38967390217723813
         },
         {
          "group": "politics",
          "x": -0.8703012459987581,
          "y": -2.1536300476844583
         },
         {
          "group": "politics",
          "x": 0.6815587861059986,
          "y": 1.994237402296703
         },
         {
          "group": "politics",
          "x": -0.9180362301438095,
          "y": -1.240957333739476
         },
         {
          "group": "politics",
          "x": 1.9116047906981148,
          "y": -0.41575065046305903
         },
         {
          "group": "politics",
          "x": 0.5016562981790265,
          "y": 0.33952558605895566
         },
         {
          "group": "politics",
          "x": 0.7093756315692633,
          "y": -1.6751559123274642
         },
         {
          "group": "politics",
          "x": -0.7614462615408759,
          "y": 0.23364645717847832
         },
         {
          "group": "politics",
          "x": -0.35668728566862506,
          "y": 1.2612827639161375
         },
         {
          "group": "politics",
          "x": -0.7310927946673714,
          "y": 0.17409693833556347
         },
         {
          "group": "politics",
          "x": -0.9678171498321853,
          "y": -0.9366020637129587
         },
         {
          "group": "politics",
          "x": 0.39704265819897194,
          "y": -1.819947631279367
         },
         {
          "group": "politics",
          "x": 1.1256380302778852,
          "y": 1.1922197082708992
         },
         {
          "group": "politics",
          "x": 1.5819767579436455,
          "y": -0.7752300538877039
         },
         {
          "group": "politics",
          "x": 1.2688975729193877,
          "y": -1.204089022794188
         },
         {
          "group": "politics",
          "x": -0.12708155398066315,
          "y": -2.6356334955062946
         },
         {
          "group": "politics",
          "x": 2.6782526274273475,
          "y": 2.416875336140432
         },
         {
          "group": "politics",
          "x": 0.4481681443853973,
          "y": -0.8189577655822982
         },
         {
          "group": "politics",
          "x": -0.9705798881724542,
          "y": 0.681443470700458
         },
         {
          "group": "politics",
          "x": 1.4829980379419572,
          "y": 0.3970311458856145
         },
         {
          "group": "politics",
          "x": -0.05595208243839757,
          "y": -0.1840960269776001
         },
         {
          "group": "politics",
          "x": -1.61031444364948,
          "y": -0.007681659274302129
         },
         {
          "group": "politics",
          "x": -0.8000211172429476,
          "y": 1.186142003526536
         },
         {
          "group": "politics",
          "x": 1.4268857816817506,
          "y": -0.20489679634141944
         },
         {
          "group": "politics",
          "x": 1.3905391463413748,
          "y": 0.8711177559906711
         },
         {
          "group": "politics",
          "x": 1.0180878658538999,
          "y": -1.0156232409996944
         },
         {
          "group": "politics",
          "x": 0.4497553349470515,
          "y": 0.6608881627324896
         },
         {
          "group": "politics",
          "x": -0.9671505749695212,
          "y": -0.04569750539923671
         },
         {
          "group": "politics",
          "x": 0.7599795478641052,
          "y": -0.7171615104304908
         },
         {
          "group": "politics",
          "x": -0.8286281469429343,
          "y": 0.18988693974750362
         },
         {
          "group": "politics",
          "x": -0.46535994019433746,
          "y": -1.4994161588626727
         },
         {
          "group": "politics",
          "x": 1.2382867586302484,
          "y": 0.28829242245540176
         },
         {
          "group": "politics",
          "x": -1.071239967221863,
          "y": 1.767470429743837
         },
         {
          "group": "politics",
          "x": 0.8177594045184202,
          "y": -1.540713383400208
         },
         {
          "group": "politics",
          "x": 0.21071716199073887,
          "y": -0.462341907421331
         },
         {
          "group": "politics",
          "x": -0.6523186234478002,
          "y": 0.7888666641012808
         },
         {
          "group": "politics",
          "x": 0.9290782850239674,
          "y": -2.39522394483724
         },
         {
          "group": "politics",
          "x": 0.672772457272898,
          "y": -0.44403387544974665
         },
         {
          "group": "politics",
          "x": 1.0262513404690188,
          "y": -0.8092390613110013
         },
         {
          "group": "politics",
          "x": 1.471760126947854,
          "y": 0.4283310263078575
         },
         {
          "group": "politics",
          "x": 0.32746008316761127,
          "y": 0.575462940204647
         },
         {
          "group": "politics",
          "x": 2.3246567704285415,
          "y": -1.758444893166953
         },
         {
          "group": "politics",
          "x": -1.3357344347517706,
          "y": -0.22246618362972964
         },
         {
          "group": "politics",
          "x": 2.2080325757272967,
          "y": -1.5743254293726208
         },
         {
          "group": "politics",
          "x": -0.7485304336838631,
          "y": 0.9533785871997208
         },
         {
          "group": "politics",
          "x": 0.25317100367194806,
          "y": -1.2829189107890488
         },
         {
          "group": "politics",
          "x": 2.122435313377576,
          "y": 1.7628118784060551
         },
         {
          "group": "politics",
          "x": 1.0052874441689934,
          "y": -0.8575297073047714
         },
         {
          "group": "politics",
          "x": 0.2730213534854679,
          "y": 0.4170577220400664
         },
         {
          "group": "politics",
          "x": 0.2784189431002668,
          "y": -0.2483537632736894
         },
         {
          "group": "politics",
          "x": 0.5895441388893848,
          "y": -0.6498749561151085
         },
         {
          "group": "politics",
          "x": -0.14784014309193794,
          "y": -0.9781098861768089
         },
         {
          "group": "politics",
          "x": 1.6023477478488999,
          "y": 0.06611634753962545
         },
         {
          "group": "politics",
          "x": -0.5467816833358454,
          "y": -0.15672941066478246
         },
         {
          "group": "politics",
          "x": -0.6914320648114899,
          "y": -0.017557776973359557
         },
         {
          "group": "politics",
          "x": -0.45830437495851906,
          "y": 0.4226177354102158
         },
         {
          "group": "politics",
          "x": 0.10935572050515115,
          "y": 1.3723863879908753
         },
         {
          "group": "politics",
          "x": 1.1259478248947699,
          "y": 1.549587766413198
         },
         {
          "group": "politics",
          "x": -0.7661493668768844,
          "y": 0.5130744408373306
         },
         {
          "group": "politics",
          "x": -0.38938913181992557,
          "y": -1.2654031807958395
         },
         {
          "group": "politics",
          "x": -0.026428859129115505,
          "y": -0.7207383956083302
         },
         {
          "group": "politics",
          "x": -0.17792944162177857,
          "y": -1.3969702197493357
         },
         {
          "group": "politics",
          "x": 1.1775573558157297,
          "y": -0.7708716116982768
         },
         {
          "group": "politics",
          "x": 0.6966966059992143,
          "y": 0.2849186340615252
         },
         {
          "group": "politics",
          "x": 0.5886147111266422,
          "y": -1.780898103846913
         },
         {
          "group": "politics",
          "x": -0.4092400626766444,
          "y": 1.0270874349518264
         },
         {
          "group": "politics",
          "x": -1.6549250052480884,
          "y": -0.4298539821512469
         },
         {
          "group": "politics",
          "x": -0.039762209323185756,
          "y": -0.5600614126917568
         },
         {
          "group": "politics",
          "x": -0.652245656194788,
          "y": -0.9418667725972405
         },
         {
          "group": "politics",
          "x": 0.8901327102913087,
          "y": -0.6323945167341221
         },
         {
          "group": "politics",
          "x": -0.9209693606716682,
          "y": -0.40561887311108014
         },
         {
          "group": "politics",
          "x": 1.594523878864727,
          "y": 0.2626878589743067
         },
         {
          "group": "politics",
          "x": 0.5422287427389503,
          "y": -0.5542413227988569
         },
         {
          "group": "politics",
          "x": -0.23184694210739498,
          "y": -0.3255844324116051
         },
         {
          "group": "politics",
          "x": 1.037519234503042,
          "y": -0.9922187658115769
         },
         {
          "group": "politics",
          "x": -0.14172561276597007,
          "y": 0.6633876374987616
         },
         {
          "group": "politics",
          "x": 2.2716959528925575,
          "y": -0.36059772178153354
         },
         {
          "group": "politics",
          "x": -1.0187738109987128,
          "y": 2.3967727796097638
         },
         {
          "group": "politics",
          "x": 0.24164743557784873,
          "y": 0.31646620907483114
         },
         {
          "group": "politics",
          "x": 1.6303319918808767,
          "y": -0.15723574763445297
         },
         {
          "group": "politics",
          "x": -2.0250583391942176,
          "y": 1.7748051922335226
         },
         {
          "group": "politics",
          "x": 1.2427582326962254,
          "y": 1.903313364730845
         },
         {
          "group": "politics",
          "x": -1.7116021849633354,
          "y": 1.5474660619604936
         },
         {
          "group": "politics",
          "x": 2.0531195344379514,
          "y": 0.074101618713997
         },
         {
          "group": "politics",
          "x": 0.47583825745369723,
          "y": 1.074373325538349
         },
         {
          "group": "politics",
          "x": -1.0066836965591794,
          "y": 1.5234153356245732
         },
         {
          "group": "politics",
          "x": -0.5800953161246867,
          "y": -1.1381924563669483
         },
         {
          "group": "politics",
          "x": -0.5516011611265079,
          "y": -1.0444326093582184
         },
         {
          "group": "politics",
          "x": -1.0799617741675693,
          "y": 0.47558564008977283
         },
         {
          "group": "politics",
          "x": 1.3548236216814507,
          "y": 1.2683733123953973
         },
         {
          "group": "politics",
          "x": -2.063450890494405,
          "y": 1.8477772541393978
         },
         {
          "group": "politics",
          "x": -3.131537401666333,
          "y": -0.4377803497632323
         },
         {
          "group": "politics",
          "x": -0.0518315404274722,
          "y": 0.6615087964180165
         },
         {
          "group": "politics",
          "x": -0.7281121609250316,
          "y": 1.3047047359605946
         },
         {
          "group": "politics",
          "x": 0.33978612205182984,
          "y": -0.488878480498443
         },
         {
          "group": "politics",
          "x": -0.6043280632418389,
          "y": 1.6283231236811817
         },
         {
          "group": "politics",
          "x": 2.6853142153498806,
          "y": 2.3063980164706153
         },
         {
          "group": "politics",
          "x": 0.7957753841134426,
          "y": 0.4471695161827472
         },
         {
          "group": "politics",
          "x": 0.3989120860454252,
          "y": 1.2425849614946152
         },
         {
          "group": "politics",
          "x": 0.038234966802298535,
          "y": -1.0399916187831408
         },
         {
          "group": "tech",
          "x": 0.3494455997465391,
          "y": -0.33410292624232585
         },
         {
          "group": "tech",
          "x": 1.2029910388749796,
          "y": 2.331663321511922
         },
         {
          "group": "tech",
          "x": -0.2597475049209576,
          "y": -0.128986575780934
         },
         {
          "group": "tech",
          "x": 0.5442511355118077,
          "y": 0.6631442721559471
         },
         {
          "group": "tech",
          "x": 1.3950502606459942,
          "y": -0.28663476608329896
         },
         {
          "group": "tech",
          "x": -1.1876218748818876,
          "y": 0.179760085959541
         },
         {
          "group": "tech",
          "x": 1.6927991546607046,
          "y": 1.9617062317033565
         },
         {
          "group": "tech",
          "x": 1.543987107913245,
          "y": 0.3978592766345052
         },
         {
          "group": "tech",
          "x": 0.38921196902140387,
          "y": 1.016782779184473
         },
         {
          "group": "tech",
          "x": 0.4898293850991798,
          "y": -1.2734222861205884
         },
         {
          "group": "tech",
          "x": -0.8441888782274806,
          "y": 0.9397870174085324
         },
         {
          "group": "tech",
          "x": -0.18322089315346296,
          "y": 0.11365730824603577
         },
         {
          "group": "tech",
          "x": -0.01406058830031164,
          "y": -1.5287185629708644
         },
         {
          "group": "tech",
          "x": 1.2583462092251732,
          "y": 0.14397172255215737
         },
         {
          "group": "tech",
          "x": 0.6031656068265422,
          "y": -1.2887456434780304
         },
         {
          "group": "tech",
          "x": 0.05406073295981038,
          "y": 0.7866652752118851
         },
         {
          "group": "tech",
          "x": 0.08190686823053649,
          "y": -0.19413459096897548
         },
         {
          "group": "tech",
          "x": -1.9461042681476963,
          "y": -0.04343846685021305
         },
         {
          "group": "tech",
          "x": 1.8034333931673465,
          "y": 2.5871679401154886
         },
         {
          "group": "tech",
          "x": -1.1719442800932443,
          "y": -0.3677792437417805
         },
         {
          "group": "tech",
          "x": -0.9832177762926065,
          "y": -0.25067141732060044
         },
         {
          "group": "tech",
          "x": -1.2435020490794095,
          "y": -2.8227132415441103
         },
         {
          "group": "tech",
          "x": 2.2999082351353586,
          "y": -1.8774862317679595
         },
         {
          "group": "tech",
          "x": 1.535415075107414,
          "y": 0.08741412105151575
         },
         {
          "group": "tech",
          "x": 1.242967237196461,
          "y": 0.48754578840657375
         },
         {
          "group": "tech",
          "x": 1.1246928129989227,
          "y": -0.5550570045812786
         },
         {
          "group": "tech",
          "x": 0.2337753094390167,
          "y": -1.2213835670444446
         },
         {
          "group": "tech",
          "x": -0.01821968749178432,
          "y": -1.490258495404156
         },
         {
          "group": "tech",
          "x": 0.8498193544282525,
          "y": 0.9457529340946944
         },
         {
          "group": "tech",
          "x": -1.1056973346105725,
          "y": 1.5675761582948122
         },
         {
          "group": "tech",
          "x": -0.26453235101711714,
          "y": 1.3544607392550903
         },
         {
          "group": "tech",
          "x": 0.21621835146047066,
          "y": -0.44490565355468925
         },
         {
          "group": "tech",
          "x": 2.2672515762735617,
          "y": -0.6181899703699503
         },
         {
          "group": "tech",
          "x": 0.4007175790943842,
          "y": 0.7400416590318493
         },
         {
          "group": "tech",
          "x": -0.52616196041174,
          "y": -1.4435757765264396
         },
         {
          "group": "tech",
          "x": 1.5471566221791084,
          "y": -0.6024080531947971
         },
         {
          "group": "tech",
          "x": 0.8062621981707984,
          "y": 0.8225545741792915
         },
         {
          "group": "tech",
          "x": 0.5525248079795753,
          "y": -0.8733462928727083
         },
         {
          "group": "tech",
          "x": 0.5556110319473334,
          "y": 0.5995880810189788
         },
         {
          "group": "tech",
          "x": 0.2936609954667062,
          "y": -1.766607825011509
         },
         {
          "group": "tech",
          "x": 0.2636382756344521,
          "y": -2.4679208195340108
         },
         {
          "group": "tech",
          "x": 1.065499408098997,
          "y": 0.6467746936575987
         },
         {
          "group": "tech",
          "x": 1.4818273591405262,
          "y": -0.317703517234667
         },
         {
          "group": "tech",
          "x": 0.6349929217817981,
          "y": 0.3019500125780042
         },
         {
          "group": "tech",
          "x": -0.2764811176244865,
          "y": 2.1235516960914484
         },
         {
          "group": "tech",
          "x": 3.0473804270276545,
          "y": 0.716273925044212
         },
         {
          "group": "tech",
          "x": -1.4601632457772364,
          "y": -0.6062727877309035
         },
         {
          "group": "tech",
          "x": 1.9766710015596585,
          "y": -0.4780386437173794
         },
         {
          "group": "tech",
          "x": 0.7778710093901312,
          "y": -0.7513371020988033
         },
         {
          "group": "tech",
          "x": 0.8833901539332016,
          "y": 2.7771036664867736
         },
         {
          "group": "tech",
          "x": 0.5385864367041523,
          "y": -0.19313915866734566
         },
         {
          "group": "tech",
          "x": 0.11586719676898781,
          "y": -3.3922581970449395
         },
         {
          "group": "tech",
          "x": 1.436159252166635,
          "y": 0.7356907973363457
         },
         {
          "group": "tech",
          "x": -0.9001080383091852,
          "y": 1.2642552892198484
         },
         {
          "group": "tech",
          "x": -0.09114346804135455,
          "y": -0.4129866217650927
         },
         {
          "group": "tech",
          "x": 0.2610791712039792,
          "y": 1.1229220130547855
         },
         {
          "group": "tech",
          "x": 0.7406318215387092,
          "y": 0.5227997003476726
         },
         {
          "group": "tech",
          "x": 1.1725348227141152,
          "y": 1.437671378176826
         },
         {
          "group": "tech",
          "x": -0.8423155077684501,
          "y": 0.7762784060474027
         },
         {
          "group": "tech",
          "x": -0.2605780115721979,
          "y": -0.35062097357188987
         },
         {
          "group": "tech",
          "x": -0.8436237755949278,
          "y": -0.09373885578058473
         },
         {
          "group": "tech",
          "x": 0.8794718847209735,
          "y": 2.651309079135568
         },
         {
          "group": "tech",
          "x": 2.9001347069618397,
          "y": -0.3153490638858833
         },
         {
          "group": "tech",
          "x": -0.0008168369882994334,
          "y": 3.1761706190573715
         },
         {
          "group": "tech",
          "x": 0.6872157526132103,
          "y": -2.0355596563923477
         },
         {
          "group": "tech",
          "x": 0.04768463952530471,
          "y": 1.1400483229277931
         },
         {
          "group": "tech",
          "x": 2.246287867457516,
          "y": -1.752038275470685
         },
         {
          "group": "tech",
          "x": 0.8259080574237275,
          "y": 1.346424351936073
         },
         {
          "group": "tech",
          "x": 0.629001476349123,
          "y": -3.590746938613857
         },
         {
          "group": "tech",
          "x": 1.305570543713214,
          "y": -0.36340792137050243
         },
         {
          "group": "tech",
          "x": 0.10067657941844176,
          "y": -1.7853601457251254
         },
         {
          "group": "tech",
          "x": 0.3533862151091637,
          "y": -0.22221748256189985
         },
         {
          "group": "tech",
          "x": 0.5932394232483129,
          "y": 1.024696113979415
         },
         {
          "group": "tech",
          "x": -1.428144644981841,
          "y": 0.40649123680057486
         },
         {
          "group": "tech",
          "x": 0.9767689914044011,
          "y": 1.052724115797099
         },
         {
          "group": "tech",
          "x": 1.6296324253936214,
          "y": 0.9008903196561328
         },
         {
          "group": "tech",
          "x": -0.06495006455256015,
          "y": 0.9352361974483503
         },
         {
          "group": "tech",
          "x": 0.07793721846888732,
          "y": 0.10086841323359921
         },
         {
          "group": "tech",
          "x": 2.029440989279546,
          "y": -1.4083547678923676
         },
         {
          "group": "tech",
          "x": -0.22446039672846024,
          "y": -0.9389077638105051
         },
         {
          "group": "tech",
          "x": 1.1372877214261288,
          "y": -1.1283164742956078
         },
         {
          "group": "tech",
          "x": 0.3131589882719834,
          "y": -0.618351592087993
         },
         {
          "group": "tech",
          "x": 1.1471462857875743,
          "y": -0.4771933744118548
         },
         {
          "group": "tech",
          "x": -0.87491568335654,
          "y": -0.8701871821155599
         },
         {
          "group": "tech",
          "x": 0.28676368690688203,
          "y": 1.0162095858815863
         },
         {
          "group": "tech",
          "x": 0.3555263944238715,
          "y": -0.7456064573614888
         },
         {
          "group": "tech",
          "x": 2.3995677696952833,
          "y": -0.6341341220109844
         },
         {
          "group": "tech",
          "x": 0.8953570192821003,
          "y": -1.8702160561764312
         },
         {
          "group": "tech",
          "x": 1.5784027724533518,
          "y": -0.9356610699932533
         },
         {
          "group": "tech",
          "x": 2.1660221955332974,
          "y": 0.6472099647668519
         },
         {
          "group": "tech",
          "x": 0.2121030856007259,
          "y": -0.3194562034017399
         },
         {
          "group": "tech",
          "x": 2.0748840823399526,
          "y": 1.5303539401525201
         },
         {
          "group": "tech",
          "x": 1.0622080949145005,
          "y": 0.536213560604091
         },
         {
          "group": "tech",
          "x": -0.41043969540103026,
          "y": -0.3232644286261792
         },
         {
          "group": "tech",
          "x": 1.5900656571821437,
          "y": -1.6487895906772825
         },
         {
          "group": "tech",
          "x": 0.17266768030582144,
          "y": -0.30312930764819435
         },
         {
          "group": "tech",
          "x": -0.4115520177852163,
          "y": -0.3664716618826063
         },
         {
          "group": "tech",
          "x": 0.9360318677410038,
          "y": -0.8451263523508735
         },
         {
          "group": "tech",
          "x": 1.6398643053175535,
          "y": -1.3778803182078647
         },
         {
          "group": "tech",
          "x": -1.5669975873138187,
          "y": -0.7901360591609067
         },
         {
          "group": "tech",
          "x": 0.8965249056096638,
          "y": -0.10621105752052527
         },
         {
          "group": "tech",
          "x": 0.10576766662179797,
          "y": 0.8383726149648116
         },
         {
          "group": "tech",
          "x": -0.2195729738666323,
          "y": 0.9811591806045057
         },
         {
          "group": "tech",
          "x": 2.532488483258508,
          "y": -0.1728272305762987
         },
         {
          "group": "tech",
          "x": -2.351956683287762,
          "y": -0.04859570434732679
         },
         {
          "group": "tech",
          "x": 0.1450837889503769,
          "y": -1.977532361104792
         },
         {
          "group": "tech",
          "x": 2.137246976454631,
          "y": -0.19797833280963
         },
         {
          "group": "tech",
          "x": 0.11560458212737534,
          "y": 0.3277828412767223
         },
         {
          "group": "tech",
          "x": 0.5256026360129915,
          "y": 0.16225662259707777
         },
         {
          "group": "tech",
          "x": -0.0009157645746262549,
          "y": 1.1561543383606445
         },
         {
          "group": "tech",
          "x": 1.146492016896528,
          "y": 1.9468363537389328
         },
         {
          "group": "tech",
          "x": 0.9313417355826931,
          "y": 0.7234784705663483
         },
         {
          "group": "tech",
          "x": 0.2428580297400443,
          "y": 0.569317544945034
         },
         {
          "group": "tech",
          "x": -0.8841226910439876,
          "y": 0.6944812667559208
         },
         {
          "group": "tech",
          "x": 1.1172953438710895,
          "y": -0.055212134907537506
         },
         {
          "group": "tech",
          "x": -0.19973651963869196,
          "y": -0.09685419604017338
         },
         {
          "group": "tech",
          "x": -0.3908814114515309,
          "y": 2.132264553825003
         },
         {
          "group": "tech",
          "x": -1.3874995442049975,
          "y": 1.0032458017047399
         },
         {
          "group": "tech",
          "x": -0.08839257269193351,
          "y": 2.4046018369883995
         },
         {
          "group": "tech",
          "x": 0.027361738677016842,
          "y": -0.4514833651297689
         },
         {
          "group": "tech",
          "x": 1.1205657761043473,
          "y": 0.14424981546355745
         },
         {
          "group": "tech",
          "x": 0.4316019182324936,
          "y": 1.233941157916872
         },
         {
          "group": "tech",
          "x": -1.4988788421026207,
          "y": 0.358827728732218
         },
         {
          "group": "tech",
          "x": -1.1353021507932817,
          "y": 0.3647130454955708
         },
         {
          "group": "tech",
          "x": 2.088551519209333,
          "y": 0.08248484762759865
         },
         {
          "group": "tech",
          "x": -0.6446287114063126,
          "y": -0.5681060120827645
         },
         {
          "group": "tech",
          "x": -0.704346920937437,
          "y": -0.3464942752087705
         },
         {
          "group": "tech",
          "x": 1.3852736498302824,
          "y": 2.473776242213627
         },
         {
          "group": "tech",
          "x": 0.5789519553569609,
          "y": 0.9318580915862119
         },
         {
          "group": "tech",
          "x": 0.7717807721416553,
          "y": -0.250552517446804
         },
         {
          "group": "tech",
          "x": -0.8661401542354881,
          "y": 0.5763663231509647
         },
         {
          "group": "tech",
          "x": -0.3230996732323674,
          "y": -2.1591865891607718
         },
         {
          "group": "tech",
          "x": -0.10302776736163473,
          "y": -1.8257827691194897
         },
         {
          "group": "tech",
          "x": -0.16620916599998484,
          "y": -1.578723526148864
         },
         {
          "group": "tech",
          "x": 1.0670498855075259,
          "y": -0.4591948694625887
         },
         {
          "group": "tech",
          "x": 1.6131972836196655,
          "y": 1.7370812226195755
         },
         {
          "group": "tech",
          "x": 0.507174041027858,
          "y": 1.4533451282047491
         },
         {
          "group": "tech",
          "x": 1.2752271270532025,
          "y": -0.041321941834036445
         },
         {
          "group": "tech",
          "x": 0.2878651509832864,
          "y": -0.21868981247559302
         },
         {
          "group": "tech",
          "x": 0.9291080655423032,
          "y": 0.6575661856441162
         },
         {
          "group": "tech",
          "x": -0.03376087322808625,
          "y": 1.3259679525509112
         },
         {
          "group": "tech",
          "x": 0.005320171793301185,
          "y": -1.0504445574724688
         },
         {
          "group": "tech",
          "x": 2.027073685401199,
          "y": 2.400941143955956
         },
         {
          "group": "tech",
          "x": -0.4315444593555766,
          "y": 1.2807171063827003
         },
         {
          "group": "tech",
          "x": 0.3288490975770974,
          "y": 1.528166986451997
         },
         {
          "group": "tech",
          "x": -0.04269683842863523,
          "y": 0.5896962891695382
         },
         {
          "group": "tech",
          "x": -0.45937878712809754,
          "y": -0.28383372027832404
         },
         {
          "group": "tech",
          "x": -0.9622535578692949,
          "y": -0.6683462638026684
         },
         {
          "group": "tech",
          "x": -0.643132262076568,
          "y": -1.463505912522335
         },
         {
          "group": "tech",
          "x": 0.6326647146115937,
          "y": 0.34338086067032064
         },
         {
          "group": "tech",
          "x": 0.6161049280722939,
          "y": 1.6920271692180457
         },
         {
          "group": "tech",
          "x": 0.5067404835407257,
          "y": -0.8591489479587295
         },
         {
          "group": "tech",
          "x": -0.668214405694698,
          "y": -1.486078424176051
         },
         {
          "group": "tech",
          "x": 0.24036823683752612,
          "y": -1.0798597199230833
         },
         {
          "group": "tech",
          "x": 1.0574243349500874,
          "y": -1.0062105525863643
         },
         {
          "group": "tech",
          "x": 0.35372134904028263,
          "y": 1.941861971756409
         },
         {
          "group": "tech",
          "x": 1.2589457678200908,
          "y": -0.1712454362405355
         },
         {
          "group": "tech",
          "x": 1.2987298203515356,
          "y": 0.23727260232237182
         },
         {
          "group": "tech",
          "x": 0.41115460350449307,
          "y": -0.8207509003609318
         },
         {
          "group": "tech",
          "x": -0.7940362080397543,
          "y": 0.34357636981299483
         },
         {
          "group": "tech",
          "x": 0.29777942987571476,
          "y": 0.39724675189820596
         },
         {
          "group": "tech",
          "x": -1.2288533261031058,
          "y": -1.2345659846397659
         },
         {
          "group": "tech",
          "x": -0.25754539008729976,
          "y": 2.0299345079499003
         },
         {
          "group": "tech",
          "x": 0.3779860148350453,
          "y": -0.828019413820965
         },
         {
          "group": "tech",
          "x": -0.6188961135581561,
          "y": 0.18017138830434615
         },
         {
          "group": "tech",
          "x": 0.2563130990565423,
          "y": 0.12326906725520884
         },
         {
          "group": "tech",
          "x": -1.2928523238866079,
          "y": -0.6531757330555832
         },
         {
          "group": "tech",
          "x": -1.11215343685424,
          "y": -0.16291108102030308
         },
         {
          "group": "tech",
          "x": 0.22435430819488422,
          "y": -0.9220085763716462
         },
         {
          "group": "tech",
          "x": -0.9917501025530748,
          "y": -1.8343796925740061
         },
         {
          "group": "tech",
          "x": 1.3601625221181648,
          "y": 0.09926289373216758
         },
         {
          "group": "tech",
          "x": 1.3096520466890096,
          "y": 1.8643345073794122
         },
         {
          "group": "tech",
          "x": 1.8885108859251627,
          "y": -0.458482120474605
         },
         {
          "group": "tech",
          "x": -0.22277141420794005,
          "y": -2.4424678637997994
         },
         {
          "group": "tech",
          "x": -1.1771313997706745,
          "y": -0.08215166077491352
         },
         {
          "group": "tech",
          "x": 1.3851143279971003,
          "y": -1.0104268798919946
         },
         {
          "group": "tech",
          "x": 0.09117988139772035,
          "y": -0.7407702550800417
         },
         {
          "group": "tech",
          "x": 0.0697554302618079,
          "y": 1.2582406894484806
         },
         {
          "group": "tech",
          "x": -0.49932342661297746,
          "y": -0.3205482471987312
         },
         {
          "group": "tech",
          "x": -0.38503262102000474,
          "y": -1.0858054965231045
         },
         {
          "group": "tech",
          "x": 1.0074877580793946,
          "y": 1.8565679071008054
         },
         {
          "group": "tech",
          "x": -0.8658708350685271,
          "y": -0.08990246633352156
         },
         {
          "group": "tech",
          "x": 0.26960653506125754,
          "y": -1.0244274250436816
         },
         {
          "group": "tech",
          "x": 1.2057175155705595,
          "y": 0.35886392050081456
         },
         {
          "group": "tech",
          "x": 0.3048355510698372,
          "y": 0.11774549590721066
         },
         {
          "group": "tech",
          "x": 0.2633326888171247,
          "y": 0.340860596993666
         },
         {
          "group": "tech",
          "x": 1.952207530182673,
          "y": 2.0501914498020626
         },
         {
          "group": "tech",
          "x": -0.05792825564914816,
          "y": -0.3477459152898802
         },
         {
          "group": "tech",
          "x": 0.3708098420493389,
          "y": 1.0567206571053132
         },
         {
          "group": "tech",
          "x": 0.09149391310311299,
          "y": -0.3573223592770088
         },
         {
          "group": "tech",
          "x": 2.060851879875554,
          "y": 0.570429515534942
         },
         {
          "group": "tech",
          "x": 1.282809707535462,
          "y": 1.9240633863613634
         },
         {
          "group": "tech",
          "x": -0.5779979939928108,
          "y": 1.0722669349219052
         },
         {
          "group": "tech",
          "x": 1.12584749504679,
          "y": 2.3111524001193042
         },
         {
          "group": "tech",
          "x": -0.32784821340726417,
          "y": 1.0497005164238669
         },
         {
          "group": "tech",
          "x": -0.036611976787403695,
          "y": -1.9125848839174386
         },
         {
          "group": "tech",
          "x": -0.1753652467397794,
          "y": -0.1900649861032501
         },
         {
          "group": "tech",
          "x": 0.9428115709027084,
          "y": -0.6770645795112086
         },
         {
          "group": "tech",
          "x": 2.0621228002274683,
          "y": 0.35364864425707476
         },
         {
          "group": "tech",
          "x": -0.016178743612589128,
          "y": -2.396058340360877
         },
         {
          "group": "tech",
          "x": 0.5478316969622363,
          "y": -0.07199754699857595
         },
         {
          "group": "tech",
          "x": 0.9049351082731472,
          "y": -2.0147944862366076
         },
         {
          "group": "tech",
          "x": 0.19547555967120556,
          "y": 2.1009213181611965
         },
         {
          "group": "tech",
          "x": -2.006891512698822,
          "y": 0.6346124180857577
         },
         {
          "group": "tech",
          "x": 1.487861982012127,
          "y": -1.1072359345572045
         },
         {
          "group": "tech",
          "x": 1.2441660569061987,
          "y": 0.13934947209572354
         },
         {
          "group": "tech",
          "x": -0.40030613576327806,
          "y": -1.0386752285071894
         },
         {
          "group": "tech",
          "x": -0.6680964044525275,
          "y": -0.5388257430538693
         },
         {
          "group": "tech",
          "x": -1.1259282240350117,
          "y": -0.6522462792848654
         },
         {
          "group": "tech",
          "x": 2.095896796609843,
          "y": -0.9880707419250191
         },
         {
          "group": "tech",
          "x": 0.5434799129211605,
          "y": -0.4835429291955858
         },
         {
          "group": "tech",
          "x": 1.008991388700519,
          "y": 1.052644505425233
         },
         {
          "group": "tech",
          "x": -0.021987148132004197,
          "y": 0.19868940216250766
         },
         {
          "group": "tech",
          "x": 1.3109984297459574,
          "y": -0.38129656832302633
         },
         {
          "group": "tech",
          "x": -1.2031515908498043,
          "y": -0.7748863679708585
         },
         {
          "group": "tech",
          "x": -1.5143461676256085,
          "y": -0.10854160118710278
         },
         {
          "group": "tech",
          "x": 1.0396519125206447,
          "y": 0.9238098001995427
         },
         {
          "group": "tech",
          "x": -1.0084121541461089,
          "y": -1.5267746370691935
         },
         {
          "group": "tech",
          "x": 0.29088747104676443,
          "y": -0.15774139754473596
         },
         {
          "group": "tech",
          "x": 0.6105671630995412,
          "y": -0.407411550859002
         },
         {
          "group": "tech",
          "x": 1.1579775300536745,
          "y": -0.17801737387840022
         },
         {
          "group": "tech",
          "x": -0.3488693598609698,
          "y": -2.5345248809343386
         },
         {
          "group": "tech",
          "x": 0.7491868390905666,
          "y": -0.6748987639179441
         },
         {
          "group": "tech",
          "x": 0.10935683939259853,
          "y": 1.0735848082990755
         },
         {
          "group": "tech",
          "x": 2.4144399036401536,
          "y": 0.35273121752978803
         },
         {
          "group": "tech",
          "x": -0.7059495135905753,
          "y": 1.2345403715069347
         },
         {
          "group": "tech",
          "x": 1.1790423277958177,
          "y": 1.333954015873706
         },
         {
          "group": "tech",
          "x": 0.6657273511308229,
          "y": -1.1280900881717701
         },
         {
          "group": "tech",
          "x": 2.0428605230482133,
          "y": -2.7824260007222934
         },
         {
          "group": "tech",
          "x": 0.687254503649033,
          "y": -1.024976704402222
         },
         {
          "group": "tech",
          "x": 0.7030788671397844,
          "y": 1.1798418096160848
         },
         {
          "group": "tech",
          "x": -0.9771134933922031,
          "y": -0.1699422742412507
         },
         {
          "group": "tech",
          "x": 0.5814547709208656,
          "y": 0.577601362733984
         },
         {
          "group": "tech",
          "x": -0.7120651728125991,
          "y": -0.11067870741354985
         },
         {
          "group": "tech",
          "x": 0.9557484841303635,
          "y": 0.27347041226698043
         },
         {
          "group": "tech",
          "x": 0.3637497823213122,
          "y": 0.8150027653185514
         },
         {
          "group": "tech",
          "x": -0.5904416533148744,
          "y": 0.5092305467654921
         },
         {
          "group": "tech",
          "x": 0.48916754819351455,
          "y": 1.7667663059480045
         },
         {
          "group": "tech",
          "x": 0.4057420218109726,
          "y": -0.8556979231069762
         },
         {
          "group": "tech",
          "x": 2.5065948264182576,
          "y": 1.0262764018739654
         },
         {
          "group": "tech",
          "x": 0.5343721173496409,
          "y": 2.588220138944043
         },
         {
          "group": "tech",
          "x": -0.9850935407943356,
          "y": 1.016105011598596
         },
         {
          "group": "tech",
          "x": 0.7919087743965563,
          "y": -2.2254435676125457
         },
         {
          "group": "tech",
          "x": 0.2556518218700288,
          "y": 2.1453970733478105
         },
         {
          "group": "tech",
          "x": 2.0748668380097306,
          "y": 0.9164778646278541
         },
         {
          "group": "tech",
          "x": 0.6222713123366136,
          "y": 0.48543463715912955
         },
         {
          "group": "tech",
          "x": -0.3366117186891203,
          "y": 0.6497000711207654
         },
         {
          "group": "tech",
          "x": 0.02466724168144024,
          "y": 0.4023827012114332
         },
         {
          "group": "tech",
          "x": -0.931323883275642,
          "y": 0.20211213385057367
         },
         {
          "group": "tech",
          "x": -0.9956724786653363,
          "y": 1.6033435565072853
         },
         {
          "group": "tech",
          "x": -0.3938123695405928,
          "y": 1.4951367436182263
         },
         {
          "group": "tech",
          "x": -1.4042082474529471,
          "y": 1.6561542379695748
         },
         {
          "group": "tech",
          "x": -0.006097482390990978,
          "y": -0.0587403407846494
         },
         {
          "group": "tech",
          "x": 2.682302846348511,
          "y": 0.5988129462119407
         },
         {
          "group": "tech",
          "x": -0.5547113960466405,
          "y": -0.06955879365498856
         },
         {
          "group": "tech",
          "x": 1.722300731873724,
          "y": 0.5343883886350832
         },
         {
          "group": "tech",
          "x": 1.1010595674354196,
          "y": 0.20203993775446527
         },
         {
          "group": "tech",
          "x": 0.37045767228245857,
          "y": 1.4326076315731637
         },
         {
          "group": "tech",
          "x": 1.069251156717026,
          "y": -0.27739719834791343
         },
         {
          "group": "tech",
          "x": 0.5800718567858175,
          "y": 0.5857215612116702
         },
         {
          "group": "tech",
          "x": -0.22080625914886556,
          "y": -1.5668984231516914
         },
         {
          "group": "tech",
          "x": 1.357178594660618,
          "y": 1.523186263239022
         },
         {
          "group": "tech",
          "x": 2.3492094782560113,
          "y": -0.5396877682456577
         },
         {
          "group": "tech",
          "x": 1.6037977593006085,
          "y": -0.6953032210810275
         },
         {
          "group": "tech",
          "x": 0.12723795084342568,
          "y": 1.1175605110175078
         },
         {
          "group": "tech",
          "x": 0.18573341572880975,
          "y": -0.9268060035372967
         },
         {
          "group": "tech",
          "x": -0.04746259913967582,
          "y": -0.40926507219943115
         },
         {
          "group": "tech",
          "x": 0.07717766239464216,
          "y": 1.8733625358270347
         },
         {
          "group": "tech",
          "x": 0.26134776789814435,
          "y": 0.20453951101150292
         },
         {
          "group": "tech",
          "x": 0.3192694100753036,
          "y": 0.16665708761125134
         },
         {
          "group": "tech",
          "x": 1.3345141864906795,
          "y": -0.3476297287439415
         },
         {
          "group": "tech",
          "x": 0.4248399513784524,
          "y": -0.13279495410355505
         },
         {
          "group": "tech",
          "x": 1.283204985170037,
          "y": 0.7803419075756726
         },
         {
          "group": "tech",
          "x": -0.35487998075951754,
          "y": 0.3915758564880972
         },
         {
          "group": "tech",
          "x": -0.07483913741778299,
          "y": -1.548319293212995
         },
         {
          "group": "tech",
          "x": 2.1493488645554457,
          "y": 0.1495215889627767
         },
         {
          "group": "tech",
          "x": 1.0280387578019405,
          "y": -0.027134878587066893
         },
         {
          "group": "tech",
          "x": 0.43720823854423724,
          "y": -0.898957951236944
         },
         {
          "group": "tech",
          "x": 1.838042531576351,
          "y": 0.2901849932362247
         },
         {
          "group": "tech",
          "x": -1.8515821521255516,
          "y": -0.9265391259767366
         },
         {
          "group": "tech",
          "x": -0.8817097202914309,
          "y": 1.499618259800655
         },
         {
          "group": "tech",
          "x": -0.5909578964082927,
          "y": 0.7323119192019966
         },
         {
          "group": "tech",
          "x": 1.848481020745395,
          "y": -0.7383331181167456
         },
         {
          "group": "tech",
          "x": 1.058440545517485,
          "y": 0.25214256325744333
         },
         {
          "group": "tech",
          "x": -0.9428954179914774,
          "y": -1.416407990372453
         },
         {
          "group": "tech",
          "x": 0.5365296941147139,
          "y": -1.0900950857268505
         },
         {
          "group": "tech",
          "x": 0.1229635501161145,
          "y": 0.9475621020525936
         },
         {
          "group": "tech",
          "x": -0.07617634081383023,
          "y": -0.3850838003125491
         },
         {
          "group": "tech",
          "x": -0.52764948372058,
          "y": 2.056685573766934
         },
         {
          "group": "tech",
          "x": -1.124744336163045,
          "y": 0.783083917903956
         },
         {
          "group": "tech",
          "x": 0.9415246347393322,
          "y": 1.262447149104094
         },
         {
          "group": "tech",
          "x": -0.6005580153034726,
          "y": -1.2267387434875174
         },
         {
          "group": "tech",
          "x": -0.5872809298240959,
          "y": -1.39086745536098
         },
         {
          "group": "tech",
          "x": 0.27912971799871733,
          "y": 0.9737242020929429
         },
         {
          "group": "tech",
          "x": 1.9955049867860855,
          "y": -0.6903546219968324
         },
         {
          "group": "tech",
          "x": 1.5480221856665461,
          "y": 0.5629841787929017
         },
         {
          "group": "tech",
          "x": 0.417255547304377,
          "y": -1.0169766155469775
         },
         {
          "group": "tech",
          "x": -1.6247873375726092,
          "y": 1.7765951485092455
         },
         {
          "group": "tech",
          "x": 2.626008469810758,
          "y": 1.8689947841784773
         },
         {
          "group": "tech",
          "x": 1.623393421195487,
          "y": 0.7439239442654481
         },
         {
          "group": "tech",
          "x": -1.555778008021359,
          "y": -0.32796016700085184
         },
         {
          "group": "tech",
          "x": 1.7325007916890578,
          "y": -0.19418462448972598
         },
         {
          "group": "tech",
          "x": -0.6979584088884268,
          "y": -1.4861490042577032
         },
         {
          "group": "tech",
          "x": -1.1298167651820397,
          "y": -0.8602576066056005
         },
         {
          "group": "tech",
          "x": 1.637604545362865,
          "y": 0.6414468107714476
         },
         {
          "group": "tech",
          "x": -0.027660033197908433,
          "y": 0.5743990740708139
         },
         {
          "group": "tech",
          "x": 0.5223615964531638,
          "y": 1.2423120411313393
         },
         {
          "group": "tech",
          "x": 1.3689202615127287,
          "y": -2.0744329114474356
         },
         {
          "group": "tech",
          "x": -0.05299628424066904,
          "y": -1.2257156300761496
         },
         {
          "group": "tech",
          "x": 3.6383294559151103,
          "y": -1.295027498219009
         },
         {
          "group": "tech",
          "x": 1.5032439429566415,
          "y": -0.8063438064555695
         },
         {
          "group": "tech",
          "x": 0.5945053834076284,
          "y": 0.08921322002802802
         },
         {
          "group": "tech",
          "x": 0.7315617385950857,
          "y": 0.19144893168172555
         },
         {
          "group": "tech",
          "x": -0.45047552676786196,
          "y": -1.4149787114365684
         },
         {
          "group": "tech",
          "x": 0.0924053458282316,
          "y": -1.01449859607319
         },
         {
          "group": "tech",
          "x": 0.4376609163895959,
          "y": 1.0633216881768632
         },
         {
          "group": "tech",
          "x": 1.171632301479107,
          "y": 0.9275806556638004
         },
         {
          "group": "tech",
          "x": 0.3792975020994241,
          "y": 1.6754540239994127
         },
         {
          "group": "tech",
          "x": 0.9424831756967088,
          "y": 1.3034701998037708
         },
         {
          "group": "tech",
          "x": 1.3435413007270474,
          "y": -0.017296200389301564
         },
         {
          "group": "tech",
          "x": 0.03886093196858026,
          "y": -0.6349869628546911
         },
         {
          "group": "tech",
          "x": -1.2057004393745274,
          "y": 1.63056156267567
         },
         {
          "group": "tech",
          "x": 2.3140949933701647,
          "y": 0.371097158523636
         },
         {
          "group": "tech",
          "x": 2.0175650179186326,
          "y": 0.09358175633992943
         },
         {
          "group": "tech",
          "x": 1.680071716232628,
          "y": -0.7253899002259957
         },
         {
          "group": "tech",
          "x": 1.3206370382331254,
          "y": 0.10621261826070132
         },
         {
          "group": "tech",
          "x": -2.5644921956382234,
          "y": 0.249398518317687
         },
         {
          "group": "tech",
          "x": 0.6701281750554579,
          "y": -2.151328224412148
         },
         {
          "group": "tech",
          "x": 1.923651139522204,
          "y": -1.1488770687727243
         },
         {
          "group": "tech",
          "x": 0.2949821460224216,
          "y": -1.5531555502770706
         },
         {
          "group": "tech",
          "x": 0.8266786158678519,
          "y": -0.12081816122127095
         },
         {
          "group": "tech",
          "x": 0.5003708812024122,
          "y": -0.5352690241028756
         },
         {
          "group": "tech",
          "x": -0.18261829925009096,
          "y": 0.08182342853542415
         },
         {
          "group": "tech",
          "x": 0.49350229651997357,
          "y": 0.0030043660453292704
         },
         {
          "group": "tech",
          "x": -0.6834713021739625,
          "y": 1.701259335142904
         },
         {
          "group": "tech",
          "x": -0.6640093546806828,
          "y": -0.26890832634834366
         },
         {
          "group": "tech",
          "x": 0.39964059263354873,
          "y": 1.4103055738010004
         },
         {
          "group": "tech",
          "x": 9.66673469296959e-05,
          "y": -0.5985415214311205
         },
         {
          "group": "tech",
          "x": 0.6639864834795162,
          "y": -0.3471524089313237
         },
         {
          "group": "tech",
          "x": -0.3029344255922641,
          "y": -0.975715657687225
         },
         {
          "group": "tech",
          "x": -1.1053903378154033,
          "y": -0.3797931690914114
         },
         {
          "group": "tech",
          "x": 1.284390327426679,
          "y": 0.7575351973472199
         },
         {
          "group": "tech",
          "x": 1.4420678429331004,
          "y": 1.730259127541502
         },
         {
          "group": "tech",
          "x": 1.587281203837163,
          "y": 0.14639481460083625
         },
         {
          "group": "tech",
          "x": -0.11405351649551551,
          "y": -1.2236534363771825
         },
         {
          "group": "tech",
          "x": 0.6556784319132116,
          "y": -0.36764409889487704
         },
         {
          "group": "tech",
          "x": 0.3544698875236284,
          "y": 1.7365333731042065
         },
         {
          "group": "tech",
          "x": -3.0991450266187113,
          "y": 1.4023865828412887
         },
         {
          "group": "tech",
          "x": 1.6229481829943804,
          "y": 2.0087944857372593
         },
         {
          "group": "tech",
          "x": 0.05558500334643719,
          "y": 0.7479066946213678
         },
         {
          "group": "tech",
          "x": 0.0691696521365471,
          "y": 0.8572907712137599
         },
         {
          "group": "tech",
          "x": 1.9203590542689268,
          "y": 0.7141977031668008
         },
         {
          "group": "tech",
          "x": 0.7419987825679235,
          "y": 0.261284542662511
         },
         {
          "group": "tech",
          "x": 1.404384834387915,
          "y": 1.6057431121730426
         },
         {
          "group": "tech",
          "x": 0.128785903575938,
          "y": -0.35900087273733533
         },
         {
          "group": "tech",
          "x": 0.6817336295462105,
          "y": -1.0334416291483595
         },
         {
          "group": "tech",
          "x": 0.9266537066007232,
          "y": -0.7008999593346248
         },
         {
          "group": "tech",
          "x": -1.295506690594166,
          "y": -0.8149617801004422
         },
         {
          "group": "tech",
          "x": 0.3676153737280587,
          "y": 0.37050595493696564
         },
         {
          "group": "tech",
          "x": 0.1779224218491848,
          "y": -0.041665131375269934
         },
         {
          "group": "tech",
          "x": -0.41175725367136745,
          "y": 0.9919930111225502
         },
         {
          "group": "tech",
          "x": 2.823433048752088,
          "y": 1.2985219531656442
         },
         {
          "group": "tech",
          "x": 2.3294696410294082,
          "y": 0.8343928012271954
         },
         {
          "group": "tech",
          "x": 0.502723635280666,
          "y": -0.34222028347521294
         },
         {
          "group": "tech",
          "x": -0.8737527452138649,
          "y": 1.710877142143638
         },
         {
          "group": "tech",
          "x": -0.7187629268364035,
          "y": 1.395309911150537
         },
         {
          "group": "tech",
          "x": -0.6363401800240046,
          "y": 1.1419512492967745
         },
         {
          "group": "tech",
          "x": 0.09714740320735185,
          "y": -2.117237918018195
         },
         {
          "group": "tech",
          "x": 1.6112315903558345,
          "y": 0.23603988328508954
         },
         {
          "group": "tech",
          "x": 1.1067828276527862,
          "y": 0.33754766127861574
         },
         {
          "group": "tech",
          "x": 1.27128343776894,
          "y": -0.7987656365395719
         },
         {
          "group": "tech",
          "x": 1.7832803794629732,
          "y": 0.8747013250250804
         },
         {
          "group": "tech",
          "x": -2.1445468795344667,
          "y": -0.7178313444808773
         },
         {
          "group": "tech",
          "x": 1.9240985129819639,
          "y": -0.2001863514570319
         },
         {
          "group": "tech",
          "x": 0.4439892613280835,
          "y": -0.004483274920789065
         },
         {
          "group": "tech",
          "x": -0.31304161141218473,
          "y": -0.23596060230182747
         },
         {
          "group": "tech",
          "x": 0.20132774982817386,
          "y": 1.7825419568082443
         },
         {
          "group": "tech",
          "x": 1.917330901552252,
          "y": -1.34878677506368
         },
         {
          "group": "tech",
          "x": -0.17201584225405256,
          "y": 1.1775204645038537
         },
         {
          "group": "tech",
          "x": -0.28570758337230295,
          "y": 1.131188483639977
         },
         {
          "group": "tech",
          "x": 0.2065087020115901,
          "y": -1.2310537570654574
         },
         {
          "group": "tech",
          "x": -0.06798846161139838,
          "y": 1.2244944646241618
         },
         {
          "group": "tech",
          "x": 1.4694647377471826,
          "y": 0.6198234296424768
         },
         {
          "group": "tech",
          "x": -0.3045549757519611,
          "y": 0.21444310651052628
         },
         {
          "group": "tech",
          "x": -1.057762308258515,
          "y": 0.4030997651689562
         },
         {
          "group": "tech",
          "x": -1.474214602694143,
          "y": -0.45749792811349815
         },
         {
          "group": "tech",
          "x": 1.4830026660670799,
          "y": 1.1088255352745304
         },
         {
          "group": "tech",
          "x": -0.5149854251806296,
          "y": 2.3585024095661753
         },
         {
          "group": "tech",
          "x": -0.20661191298686837,
          "y": -0.5914786995711715
         },
         {
          "group": "tech",
          "x": 0.9114969570979898,
          "y": 1.1577957476658765
         },
         {
          "group": "tech",
          "x": -0.6725474401504707,
          "y": 0.34295969483596533
         },
         {
          "group": "tech",
          "x": 1.5143356695184664,
          "y": -0.22351162528229881
         },
         {
          "group": "tech",
          "x": 0.14318169222867116,
          "y": 0.06020777456745107
         },
         {
          "group": "tech",
          "x": 1.014354894278945,
          "y": 0.1571335577586144
         },
         {
          "group": "tech",
          "x": 2.1646718530814426,
          "y": 0.9665189836755028
         },
         {
          "group": "tech",
          "x": -0.7583359286914193,
          "y": -0.30996085536481943
         },
         {
          "group": "tech",
          "x": -0.33551111813609913,
          "y": -0.6725037028699106
         },
         {
          "group": "tech",
          "x": -0.3101508087989327,
          "y": -0.7840640213608345
         },
         {
          "group": "tech",
          "x": -1.3099686944065465,
          "y": 0.8263304843899795
         },
         {
          "group": "tech",
          "x": 1.4903131398094531,
          "y": -0.8520201206076253
         },
         {
          "group": "tech",
          "x": 1.027763700688127,
          "y": -0.5390116545864474
         },
         {
          "group": "entertainment",
          "x": -0.7204779346404699,
          "y": -0.6846398688836942
         },
         {
          "group": "entertainment",
          "x": -0.8181373729466948,
          "y": 1.0406419027625076
         },
         {
          "group": "entertainment",
          "x": -0.3702394204863798,
          "y": 0.1206956149821048
         },
         {
          "group": "entertainment",
          "x": -0.36638647198856367,
          "y": 0.7201364622563363
         },
         {
          "group": "entertainment",
          "x": 0.8044787557018681,
          "y": 0.43175878057827166
         },
         {
          "group": "entertainment",
          "x": 2.4090341141434246,
          "y": -0.14851010830622144
         },
         {
          "group": "entertainment",
          "x": 0.751079281501583,
          "y": -0.5316370981434384
         },
         {
          "group": "entertainment",
          "x": -0.7743890695236098,
          "y": 0.2820684998116808
         },
         {
          "group": "entertainment",
          "x": 0.1483896950339708,
          "y": -1.4410432390038768
         },
         {
          "group": "entertainment",
          "x": -0.5487689388406942,
          "y": 0.3629049590170805
         },
         {
          "group": "entertainment",
          "x": 0.34016544793689435,
          "y": -0.6649563836620743
         },
         {
          "group": "entertainment",
          "x": 1.4272457026066456,
          "y": 0.4707642655248
         },
         {
          "group": "entertainment",
          "x": -0.5291168126869867,
          "y": 1.4907359766288937
         },
         {
          "group": "entertainment",
          "x": 0.6098898109521246,
          "y": 2.054083104663203
         },
         {
          "group": "entertainment",
          "x": -0.5242731217161068,
          "y": -0.35167455753069315
         },
         {
          "group": "entertainment",
          "x": 1.92785590391918,
          "y": -0.07209482876309509
         },
         {
          "group": "entertainment",
          "x": 0.04197226706462627,
          "y": 0.2814602471600214
         },
         {
          "group": "entertainment",
          "x": 0.8099821811679709,
          "y": -1.390821924695247
         },
         {
          "group": "entertainment",
          "x": -1.2705041502711005,
          "y": 2.2027651638327206
         },
         {
          "group": "entertainment",
          "x": 0.29272394927661066,
          "y": 1.2507783951230926
         },
         {
          "group": "entertainment",
          "x": -0.5210333958788194,
          "y": 0.2552335383541842
         },
         {
          "group": "entertainment",
          "x": -1.1042249749903088,
          "y": 0.33714385991748214
         },
         {
          "group": "entertainment",
          "x": -1.1174463038294593,
          "y": -1.6757712949668337
         },
         {
          "group": "entertainment",
          "x": 1.0089835413689645,
          "y": 1.2606302037977548
         },
         {
          "group": "entertainment",
          "x": 1.7472758677068683,
          "y": -1.3071120801556855
         },
         {
          "group": "entertainment",
          "x": 1.1270565906919503,
          "y": 1.2872265184927607
         },
         {
          "group": "entertainment",
          "x": -0.5275984960494433,
          "y": 0.07154052550463154
         },
         {
          "group": "entertainment",
          "x": -0.22168840139601703,
          "y": 2.688922278819484
         },
         {
          "group": "entertainment",
          "x": 0.24165536090856726,
          "y": 0.021382381500927836
         },
         {
          "group": "entertainment",
          "x": -0.23227442322978772,
          "y": 1.036933352416689
         },
         {
          "group": "entertainment",
          "x": -0.5931778574062955,
          "y": 0.072940647452989
         },
         {
          "group": "entertainment",
          "x": 0.3550798084052892,
          "y": 1.4710766050293103
         },
         {
          "group": "entertainment",
          "x": 1.4964089148484951,
          "y": 1.7133096923420397
         },
         {
          "group": "entertainment",
          "x": 0.2853012801870725,
          "y": 0.5787328642454156
         },
         {
          "group": "entertainment",
          "x": -0.04169979120043716,
          "y": -0.936636373708206
         },
         {
          "group": "entertainment",
          "x": 0.12464039894366619,
          "y": 1.4708016682503162
         },
         {
          "group": "entertainment",
          "x": 1.4701643514251226,
          "y": -0.5340626085146996
         },
         {
          "group": "entertainment",
          "x": -0.014457282588322117,
          "y": -1.9249208081110343
         },
         {
          "group": "entertainment",
          "x": 0.27490923460515454,
          "y": 0.5712963834674696
         },
         {
          "group": "entertainment",
          "x": 1.0141183549881485,
          "y": -1.4672133642170242
         },
         {
          "group": "entertainment",
          "x": 1.0665659979890458,
          "y": -1.8550800110474657
         },
         {
          "group": "entertainment",
          "x": 1.1638505090356204,
          "y": -0.7457901767908288
         },
         {
          "group": "entertainment",
          "x": 1.7805367002511427,
          "y": -0.6033398579924569
         },
         {
          "group": "entertainment",
          "x": -0.5792296163222916,
          "y": 1.4507296268779521
         },
         {
          "group": "entertainment",
          "x": -1.4839986989374416,
          "y": -0.34217758248013364
         },
         {
          "group": "entertainment",
          "x": -0.5237210013156925,
          "y": 0.6981254182509697
         },
         {
          "group": "entertainment",
          "x": -1.8383555878155715,
          "y": -0.05398526008938209
         },
         {
          "group": "entertainment",
          "x": 0.22949010337088455,
          "y": -0.1511494851230314
         },
         {
          "group": "entertainment",
          "x": -1.380989726418934,
          "y": -1.6977750935933236
         },
         {
          "group": "entertainment",
          "x": 2.1575831431479062,
          "y": 1.4228092833634478
         },
         {
          "group": "entertainment",
          "x": 0.7270754932311007,
          "y": -0.4320005585113114
         },
         {
          "group": "entertainment",
          "x": 1.8955822378038656,
          "y": 0.26862963665597445
         },
         {
          "group": "entertainment",
          "x": 2.173313179506947,
          "y": -2.2058542617499817
         },
         {
          "group": "entertainment",
          "x": 1.0169243220274733,
          "y": 1.4287479646517685
         },
         {
          "group": "entertainment",
          "x": -0.8725115249213099,
          "y": 1.1793444694344413
         },
         {
          "group": "entertainment",
          "x": -1.1765652578148278,
          "y": 1.0054308894856063
         },
         {
          "group": "entertainment",
          "x": -0.7084959226473031,
          "y": -0.9214891958043018
         },
         {
          "group": "entertainment",
          "x": 1.9223200013512534,
          "y": 0.5724431682193931
         },
         {
          "group": "entertainment",
          "x": 0.4124465020882644,
          "y": -0.06153075506900413
         },
         {
          "group": "entertainment",
          "x": 0.6680743390789461,
          "y": -0.3186835371683876
         },
         {
          "group": "entertainment",
          "x": 0.7154816309635673,
          "y": 0.230622801411409
         },
         {
          "group": "entertainment",
          "x": 1.1676301785502037,
          "y": -1.1832783226472183
         },
         {
          "group": "entertainment",
          "x": -1.0562807775009633,
          "y": -2.3914850794982248
         },
         {
          "group": "entertainment",
          "x": -1.8939494546201703,
          "y": 2.600764294802588
         },
         {
          "group": "entertainment",
          "x": -0.23220861978845775,
          "y": -0.038302859792524145
         },
         {
          "group": "entertainment",
          "x": -0.17020891008461972,
          "y": -0.14007457122211459
         },
         {
          "group": "entertainment",
          "x": 0.1541280811002639,
          "y": 1.2296689997761419
         },
         {
          "group": "entertainment",
          "x": -0.15417665184392865,
          "y": 0.7275060948222631
         },
         {
          "group": "entertainment",
          "x": 1.24331249257837,
          "y": -0.9451358221798357
         },
         {
          "group": "entertainment",
          "x": -0.4043570671602295,
          "y": 0.0047092519366899715
         },
         {
          "group": "entertainment",
          "x": 1.0035970219502746,
          "y": -0.47106127171372864
         },
         {
          "group": "entertainment",
          "x": 1.107193451495866,
          "y": -1.1641160858826503
         },
         {
          "group": "entertainment",
          "x": 1.3522449707004296,
          "y": 0.5942793754774921
         },
         {
          "group": "entertainment",
          "x": 1.4767307212596203,
          "y": 0.7735013407417549
         },
         {
          "group": "entertainment",
          "x": 0.18265100559496925,
          "y": 0.6871563984207109
         },
         {
          "group": "entertainment",
          "x": -0.01920235107451447,
          "y": -1.9634828175619639
         },
         {
          "group": "entertainment",
          "x": 1.2242523324416894,
          "y": -1.3274595482104157
         },
         {
          "group": "entertainment",
          "x": 2.7399691230177865,
          "y": 1.8354462043940363
         },
         {
          "group": "entertainment",
          "x": 1.2814114258956468,
          "y": 1.3018342718310312
         },
         {
          "group": "entertainment",
          "x": 0.656233491422998,
          "y": 1.0069756879697787
         },
         {
          "group": "entertainment",
          "x": 0.32967590150956,
          "y": -0.7537203065043337
         },
         {
          "group": "entertainment",
          "x": -0.5708140207526984,
          "y": 2.1634789270946455
         },
         {
          "group": "entertainment",
          "x": 1.9715392766207005,
          "y": -0.9345941720843638
         },
         {
          "group": "entertainment",
          "x": -2.1256836317244643,
          "y": 1.8972025816114046
         },
         {
          "group": "entertainment",
          "x": 1.9799546266592873,
          "y": -0.16715031356629956
         },
         {
          "group": "entertainment",
          "x": 0.11789734748867065,
          "y": -0.09442781227641724
         },
         {
          "group": "entertainment",
          "x": -0.6791742927507491,
          "y": 0.24572934947035704
         },
         {
          "group": "entertainment",
          "x": -0.41263577277356306,
          "y": 1.5049543690873775
         },
         {
          "group": "entertainment",
          "x": 1.5352396487841737,
          "y": -0.34784943801651036
         },
         {
          "group": "entertainment",
          "x": -1.007316770655676,
          "y": -1.0231501088236252
         },
         {
          "group": "entertainment",
          "x": 0.926370496685738,
          "y": -1.4807367847432995
         },
         {
          "group": "entertainment",
          "x": 1.6439606927528982,
          "y": 2.089067495138201
         },
         {
          "group": "entertainment",
          "x": 1.5811767985249443,
          "y": 0.04682836465645752
         },
         {
          "group": "entertainment",
          "x": 1.1514729044418495,
          "y": -1.1065600798385393
         },
         {
          "group": "entertainment",
          "x": 1.3019680692761062,
          "y": -0.4618223894069357
         },
         {
          "group": "entertainment",
          "x": 1.0637018062118972,
          "y": 1.3910918721099699
         },
         {
          "group": "entertainment",
          "x": 1.2447670029294742,
          "y": -0.13306002333174713
         },
         {
          "group": "entertainment",
          "x": 1.8803522215567778,
          "y": 0.6830059724097525
         },
         {
          "group": "entertainment",
          "x": 0.9001428090967817,
          "y": -1.5108010929156552
         },
         {
          "group": "entertainment",
          "x": 2.4478615696752293,
          "y": -1.9920302416460312
         },
         {
          "group": "entertainment",
          "x": 0.6884079748855788,
          "y": -0.08223548234282611
         },
         {
          "group": "entertainment",
          "x": 1.3592807662647242,
          "y": -0.15194658051933266
         },
         {
          "group": "entertainment",
          "x": 0.7294322358003117,
          "y": -0.34328485900668365
         },
         {
          "group": "entertainment",
          "x": -1.53328059541374,
          "y": -0.5561345299225572
         },
         {
          "group": "entertainment",
          "x": 0.40561189444724427,
          "y": -2.731006826223844
         },
         {
          "group": "entertainment",
          "x": 0.5208806579624929,
          "y": 1.760436320911366
         },
         {
          "group": "entertainment",
          "x": 0.8907568033688451,
          "y": -1.0232587971302027
         },
         {
          "group": "entertainment",
          "x": 0.4995927551178261,
          "y": 1.4033444262143873
         },
         {
          "group": "entertainment",
          "x": 1.2360614902193532,
          "y": -1.302842504036807
         },
         {
          "group": "entertainment",
          "x": 2.268833784179916,
          "y": -1.9376258214998852
         },
         {
          "group": "entertainment",
          "x": 1.8576136365707832,
          "y": -0.23508534776141252
         },
         {
          "group": "entertainment",
          "x": -0.8749663048743477,
          "y": 1.531307019287981
         },
         {
          "group": "entertainment",
          "x": 0.37535104902911837,
          "y": 2.7771133637331853
         },
         {
          "group": "entertainment",
          "x": 0.4236444864399042,
          "y": -1.5064101743163352
         },
         {
          "group": "entertainment",
          "x": -1.1564432209925122,
          "y": -0.4169658817622104
         },
         {
          "group": "entertainment",
          "x": 1.067365741749387,
          "y": 0.33175136600503996
         },
         {
          "group": "entertainment",
          "x": 0.49837236766887116,
          "y": 1.0966089992804104
         },
         {
          "group": "entertainment",
          "x": 0.8936423984181308,
          "y": 0.4296907377386805
         },
         {
          "group": "entertainment",
          "x": -0.04309525940820281,
          "y": 1.8181730502143925
         },
         {
          "group": "entertainment",
          "x": 0.45465164442585304,
          "y": 0.8306659423880111
         },
         {
          "group": "entertainment",
          "x": 0.39162299545585855,
          "y": -0.6725493384866627
         },
         {
          "group": "entertainment",
          "x": -0.40763184245173967,
          "y": 1.383217956686566
         },
         {
          "group": "entertainment",
          "x": 1.8270281040076257,
          "y": 0.8883074170568576
         },
         {
          "group": "entertainment",
          "x": -0.698341349985392,
          "y": -0.5073294166800423
         },
         {
          "group": "entertainment",
          "x": 0.9471704849757419,
          "y": -0.8322574387217567
         },
         {
          "group": "entertainment",
          "x": 0.986530202141066,
          "y": -0.42594255024726
         },
         {
          "group": "entertainment",
          "x": 0.35823000829396007,
          "y": -1.5744678057836798
         },
         {
          "group": "entertainment",
          "x": -0.7175283445727604,
          "y": -0.8191496750044801
         },
         {
          "group": "entertainment",
          "x": 0.4065262378375125,
          "y": 0.2847589513413327
         },
         {
          "group": "entertainment",
          "x": -1.2413927818738952,
          "y": -0.779579573627996
         },
         {
          "group": "entertainment",
          "x": 1.2993149290900643,
          "y": -2.3438901989736305
         },
         {
          "group": "entertainment",
          "x": 1.0272552911234958,
          "y": -0.522922556574801
         },
         {
          "group": "entertainment",
          "x": 2.8206735063280113,
          "y": -1.226310078781178
         },
         {
          "group": "entertainment",
          "x": -0.9850342392004038,
          "y": 1.0487110317914035
         },
         {
          "group": "entertainment",
          "x": 1.1440756316847955,
          "y": -1.4571741068711728
         },
         {
          "group": "entertainment",
          "x": 0.3860672524326972,
          "y": 0.07990108846132064
         },
         {
          "group": "entertainment",
          "x": 0.9893523285542809,
          "y": 0.15110062021398737
         },
         {
          "group": "entertainment",
          "x": -0.9231698802371501,
          "y": 0.2205090107777824
         },
         {
          "group": "entertainment",
          "x": 0.0019675834832101097,
          "y": 1.895266889961521
         },
         {
          "group": "entertainment",
          "x": 1.225595829199351,
          "y": 0.11147460100832313
         },
         {
          "group": "entertainment",
          "x": 1.1925384087450317,
          "y": -0.2638969194983635
         },
         {
          "group": "entertainment",
          "x": 0.9832787538028155,
          "y": -1.411363423937674
         },
         {
          "group": "entertainment",
          "x": -0.8952262458835918,
          "y": -0.6984555147717181
         },
         {
          "group": "entertainment",
          "x": 1.2282081409792218,
          "y": 2.7473857394251184
         },
         {
          "group": "entertainment",
          "x": -0.17299004247217128,
          "y": 1.5767922825490108
         },
         {
          "group": "entertainment",
          "x": -1.145547914258949,
          "y": -1.0951974587928883
         },
         {
          "group": "entertainment",
          "x": 1.0476683423493287,
          "y": -1.633650518201074
         },
         {
          "group": "entertainment",
          "x": 2.9975231010511956,
          "y": 0.11889978348776366
         },
         {
          "group": "entertainment",
          "x": 0.45895070476863,
          "y": -1.170044313462434
         },
         {
          "group": "entertainment",
          "x": 1.3127040258804776,
          "y": -0.581258432253736
         },
         {
          "group": "entertainment",
          "x": 2.0882567155926615,
          "y": 0.057754648298922885
         },
         {
          "group": "entertainment",
          "x": 0.7776764397399697,
          "y": -0.6032937863847972
         },
         {
          "group": "entertainment",
          "x": -0.47394867345152086,
          "y": 1.0918187129015364
         },
         {
          "group": "entertainment",
          "x": -1.251508803222897,
          "y": -0.25633384239768203
         },
         {
          "group": "entertainment",
          "x": 0.7248064507687777,
          "y": 2.761362703040147
         },
         {
          "group": "entertainment",
          "x": -1.568596815018409,
          "y": -2.918202623442425
         },
         {
          "group": "entertainment",
          "x": 0.23022931467714414,
          "y": 0.5345236900231197
         },
         {
          "group": "entertainment",
          "x": -2.4025120799120723,
          "y": 0.12380571466705766
         },
         {
          "group": "entertainment",
          "x": 1.4047455369818522,
          "y": -0.11830102450957082
         },
         {
          "group": "entertainment",
          "x": -0.7702261870136256,
          "y": 0.9545252448319089
         },
         {
          "group": "entertainment",
          "x": -0.2507306320233146,
          "y": -0.7306809997236535
         },
         {
          "group": "entertainment",
          "x": 1.615073853261176,
          "y": 0.3296318211896724
         },
         {
          "group": "entertainment",
          "x": 1.0904334707640082,
          "y": 1.2816917329389563
         },
         {
          "group": "entertainment",
          "x": -0.15885511954144346,
          "y": -0.6420928834657712
         },
         {
          "group": "entertainment",
          "x": 1.0025770881525378,
          "y": 1.2054591407749577
         },
         {
          "group": "entertainment",
          "x": 0.926064026541263,
          "y": 1.821882860310828
         },
         {
          "group": "entertainment",
          "x": -0.33706040332847165,
          "y": -1.7312877082769174
         },
         {
          "group": "entertainment",
          "x": -0.09813962681387974,
          "y": -0.34429986850520516
         },
         {
          "group": "entertainment",
          "x": -0.18518095149496658,
          "y": 1.0109211861389424
         },
         {
          "group": "entertainment",
          "x": 2.722583751887306,
          "y": 3.300101160711118
         },
         {
          "group": "entertainment",
          "x": 1.236235267929042,
          "y": 2.891341625724653
         },
         {
          "group": "entertainment",
          "x": 1.1780475579403102,
          "y": -1.2214141012516793
         },
         {
          "group": "entertainment",
          "x": -0.688399352602265,
          "y": 0.09171259630186554
         },
         {
          "group": "entertainment",
          "x": -0.988233394956279,
          "y": 1.3580209092904074
         },
         {
          "group": "entertainment",
          "x": 0.13485768304666776,
          "y": 1.514115096707403
         },
         {
          "group": "entertainment",
          "x": 1.928708934055651,
          "y": 0.29743775651884147
         },
         {
          "group": "entertainment",
          "x": -1.311928399718206,
          "y": -2.8572616268523516
         },
         {
          "group": "entertainment",
          "x": 1.2491904818638586,
          "y": -1.5592674385951921
         },
         {
          "group": "entertainment",
          "x": 0.2785526177331666,
          "y": 0.4024429038675383
         },
         {
          "group": "entertainment",
          "x": 0.9096143400357437,
          "y": 0.6076932002986899
         },
         {
          "group": "entertainment",
          "x": 1.8676096770581425,
          "y": -0.5428887948246124
         },
         {
          "group": "entertainment",
          "x": 0.38360305375146164,
          "y": 1.8039809364737867
         },
         {
          "group": "entertainment",
          "x": 1.8120435793232779,
          "y": -1.47425331296867
         },
         {
          "group": "entertainment",
          "x": -0.42478028188191447,
          "y": 1.5690669074527168
         },
         {
          "group": "entertainment",
          "x": -0.10444775417413966,
          "y": 0.6196095303828162
         },
         {
          "group": "entertainment",
          "x": 0.6994447839393269,
          "y": 0.17400298903641473
         },
         {
          "group": "entertainment",
          "x": -0.7773297539067119,
          "y": 0.20422430108179251
         },
         {
          "group": "entertainment",
          "x": 1.3969166980964771,
          "y": 0.6693722697898592
         },
         {
          "group": "entertainment",
          "x": 1.2363978318585636,
          "y": 1.5207728993288208
         },
         {
          "group": "entertainment",
          "x": -1.4730177940091682,
          "y": 0.9977444537998351
         },
         {
          "group": "entertainment",
          "x": 2.3898637864819325,
          "y": 0.16726385776081376
         },
         {
          "group": "entertainment",
          "x": 0.9179781425538264,
          "y": -0.100747467483085
         },
         {
          "group": "entertainment",
          "x": 0.15361757171574383,
          "y": 1.3434649695775662
         },
         {
          "group": "entertainment",
          "x": 0.4613385580617802,
          "y": 1.2214878605273762
         },
         {
          "group": "entertainment",
          "x": 1.159293911674569,
          "y": 0.6706047897950564
         },
         {
          "group": "entertainment",
          "x": -0.16155889556039324,
          "y": -0.341340313612325
         },
         {
          "group": "entertainment",
          "x": -0.25944405599270925,
          "y": 0.18692835057497967
         },
         {
          "group": "entertainment",
          "x": -1.5172632881978056,
          "y": 0.6439072664496402
         },
         {
          "group": "entertainment",
          "x": -0.24994935391794915,
          "y": -1.3179849598497755
         },
         {
          "group": "entertainment",
          "x": -0.7040121321903285,
          "y": 2.1286091567029213
         },
         {
          "group": "entertainment",
          "x": -0.1502011718042228,
          "y": -1.2718985103806215
         },
         {
          "group": "entertainment",
          "x": -0.36354869452188115,
          "y": 0.17536332294045623
         },
         {
          "group": "entertainment",
          "x": 0.17918069501579842,
          "y": -1.7515852965182606
         },
         {
          "group": "entertainment",
          "x": 0.0974302040670799,
          "y": 0.7000451676500556
         },
         {
          "group": "entertainment",
          "x": -0.3672721896377526,
          "y": -0.32136320697889875
         },
         {
          "group": "entertainment",
          "x": 1.2274922452309953,
          "y": 0.3089972389417268
         },
         {
          "group": "entertainment",
          "x": 0.2115941523827796,
          "y": -0.6254016411988483
         },
         {
          "group": "entertainment",
          "x": -1.8771182885245823,
          "y": 0.8584160825601468
         },
         {
          "group": "entertainment",
          "x": -1.0112165113112004,
          "y": 0.14123855426613144
         },
         {
          "group": "entertainment",
          "x": -2.0785075658041463,
          "y": -0.8408704965570319
         },
         {
          "group": "entertainment",
          "x": 0.9442725540907756,
          "y": -0.3822901627965127
         },
         {
          "group": "entertainment",
          "x": 0.1694988338225981,
          "y": 0.6478136892967938
         },
         {
          "group": "entertainment",
          "x": 0.6339750167096374,
          "y": -0.24126052135990642
         },
         {
          "group": "entertainment",
          "x": 1.7286552065783762,
          "y": 0.028219830737747257
         },
         {
          "group": "entertainment",
          "x": -1.8537340505844784,
          "y": -1.4838029222066298
         },
         {
          "group": "entertainment",
          "x": 3.236934178732046,
          "y": -0.6805190007656904
         },
         {
          "group": "entertainment",
          "x": -2.3316392040806377,
          "y": -0.8744030144765673
         },
         {
          "group": "entertainment",
          "x": -0.05112438468122164,
          "y": -0.26044583497036483
         },
         {
          "group": "entertainment",
          "x": 1.2795147460845822,
          "y": 1.1851723970999402
         },
         {
          "group": "entertainment",
          "x": -1.3831212777510318,
          "y": 1.8629461690468485
         },
         {
          "group": "entertainment",
          "x": 0.5932239412155825,
          "y": 0.702141069983519
         },
         {
          "group": "entertainment",
          "x": 0.8594429550030528,
          "y": -1.5632815628697336
         },
         {
          "group": "entertainment",
          "x": 1.5490926271222942,
          "y": -0.6645346133552217
         },
         {
          "group": "entertainment",
          "x": 0.12979076414949242,
          "y": -1.2225055627450192
         },
         {
          "group": "entertainment",
          "x": -0.21708171977325863,
          "y": 2.049790577881287
         },
         {
          "group": "entertainment",
          "x": 0.369375052977569,
          "y": 0.5655338318848888
         },
         {
          "group": "entertainment",
          "x": -0.9536306341331067,
          "y": -0.24438872234861983
         },
         {
          "group": "entertainment",
          "x": 0.3281093885105259,
          "y": 0.4588021932170214
         },
         {
          "group": "entertainment",
          "x": -0.5850704879010601,
          "y": 0.8906074000017009
         },
         {
          "group": "entertainment",
          "x": 0.501409237855769,
          "y": 0.19338869795505306
         },
         {
          "group": "entertainment",
          "x": -2.212048769389213,
          "y": -1.8496438287449684
         },
         {
          "group": "entertainment",
          "x": 1.586722974469972,
          "y": -1.2417991908323744
         },
         {
          "group": "entertainment",
          "x": 1.5700019120836248,
          "y": 1.0344740176637248
         },
         {
          "group": "entertainment",
          "x": 1.2798227538479598,
          "y": -1.2364125882878314
         },
         {
          "group": "entertainment",
          "x": -0.529440024240832,
          "y": -0.2942685272264541
         },
         {
          "group": "entertainment",
          "x": 2.121741648596567,
          "y": -1.122503312294537
         },
         {
          "group": "entertainment",
          "x": -0.03998869452771497,
          "y": -2.13156024588996
         },
         {
          "group": "entertainment",
          "x": 0.6113376553669709,
          "y": 2.1176893448259286
         },
         {
          "group": "entertainment",
          "x": 0.7504731659942013,
          "y": 0.6079582089385805
         },
         {
          "group": "entertainment",
          "x": 0.4795959856058624,
          "y": -0.5271505138170577
         },
         {
          "group": "entertainment",
          "x": -0.38427066523483144,
          "y": -0.1201125443952244
         },
         {
          "group": "entertainment",
          "x": 2.185149980200939,
          "y": -0.36002791387280164
         },
         {
          "group": "entertainment",
          "x": -0.6198945751299284,
          "y": 0.8859302243378269
         },
         {
          "group": "entertainment",
          "x": -0.2593941541244573,
          "y": -1.0247570311399719
         },
         {
          "group": "entertainment",
          "x": -1.0912725139747126,
          "y": 0.25987223352170674
         },
         {
          "group": "entertainment",
          "x": 1.1600668796314266,
          "y": 0.8100917641348356
         },
         {
          "group": "entertainment",
          "x": -1.8494669698464377,
          "y": -0.47089925215415374
         },
         {
          "group": "entertainment",
          "x": -0.22799680138581432,
          "y": -1.319973467414725
         },
         {
          "group": "entertainment",
          "x": -1.7400805459055622,
          "y": 1.4568356770253186
         },
         {
          "group": "entertainment",
          "x": -0.2530766576063964,
          "y": 0.3413274338196451
         },
         {
          "group": "entertainment",
          "x": -0.5707257042909106,
          "y": -0.21585348173154636
         },
         {
          "group": "entertainment",
          "x": 0.8077700368295138,
          "y": -0.31406494018109266
         },
         {
          "group": "entertainment",
          "x": 1.1047611971281075,
          "y": -1.0921099421438591
         },
         {
          "group": "entertainment",
          "x": -0.7944444719120473,
          "y": 0.13726921481063056
         },
         {
          "group": "entertainment",
          "x": 0.983666003614869,
          "y": 1.8921083254115083
         },
         {
          "group": "entertainment",
          "x": 0.07103277048685701,
          "y": 2.546718030515107
         },
         {
          "group": "entertainment",
          "x": 0.766927625761988,
          "y": 1.520311047076799
         },
         {
          "group": "entertainment",
          "x": 0.6684533649683692,
          "y": -0.08828156248616513
         },
         {
          "group": "entertainment",
          "x": 1.3216404680520608,
          "y": -0.5952694687102584
         },
         {
          "group": "entertainment",
          "x": 1.086924343238297,
          "y": 1.922897326468359
         },
         {
          "group": "entertainment",
          "x": 2.592417355772678,
          "y": -0.5436197718814921
         },
         {
          "group": "entertainment",
          "x": -0.3744901120272116,
          "y": -0.8494768661136652
         },
         {
          "group": "entertainment",
          "x": 2.014109001558505,
          "y": 2.0612565899822988
         },
         {
          "group": "entertainment",
          "x": 0.2164318662070602,
          "y": -1.1706444091868173
         },
         {
          "group": "entertainment",
          "x": 0.5326590686925292,
          "y": 0.08941621998503294
         },
         {
          "group": "entertainment",
          "x": -0.9840809090265765,
          "y": -0.05397522312434303
         },
         {
          "group": "entertainment",
          "x": 1.869692402686145,
          "y": -0.5297962888782817
         },
         {
          "group": "entertainment",
          "x": 0.5375980011705785,
          "y": 0.8932657723236138
         },
         {
          "group": "entertainment",
          "x": 0.8478371716701629,
          "y": 0.8675033910233332
         },
         {
          "group": "entertainment",
          "x": 0.7588912802273036,
          "y": -0.20236431929943952
         },
         {
          "group": "entertainment",
          "x": -0.16424589109586438,
          "y": 1.9999097884143038
         },
         {
          "group": "entertainment",
          "x": -1.6716177359882776,
          "y": 1.2807566480085224
         },
         {
          "group": "entertainment",
          "x": 0.8486209061041672,
          "y": 1.762814790722437
         },
         {
          "group": "entertainment",
          "x": 0.16090554549351394,
          "y": -0.3114403904995365
         },
         {
          "group": "entertainment",
          "x": 3.0427092806658287,
          "y": 0.5727495416627555
         },
         {
          "group": "entertainment",
          "x": 2.4704894760302083,
          "y": 1.3447041272633087
         },
         {
          "group": "entertainment",
          "x": 1.0124507655639041,
          "y": 0.5393959818306059
         },
         {
          "group": "entertainment",
          "x": -0.7425147099207073,
          "y": -0.5847795770712012
         },
         {
          "group": "entertainment",
          "x": 0.7235683568929421,
          "y": 0.9761081946954587
         },
         {
          "group": "entertainment",
          "x": -1.0419877294997013,
          "y": -0.6320519950833117
         },
         {
          "group": "entertainment",
          "x": 0.5624647542335194,
          "y": 2.854145219290105
         },
         {
          "group": "entertainment",
          "x": 2.103327501048041,
          "y": 0.8873679326469439
         },
         {
          "group": "entertainment",
          "x": -0.9774280760808856,
          "y": -0.4017397348450757
         },
         {
          "group": "entertainment",
          "x": -0.8192134468433349,
          "y": 1.612833443666211
         },
         {
          "group": "entertainment",
          "x": -1.5799741810942391,
          "y": 0.2018436008583956
         },
         {
          "group": "entertainment",
          "x": 1.209528069690514,
          "y": 0.8916638046864854
         },
         {
          "group": "entertainment",
          "x": 1.0841596527663968,
          "y": -0.3581528999681014
         },
         {
          "group": "entertainment",
          "x": -2.4869930584472275,
          "y": 1.3632420807880283
         },
         {
          "group": "entertainment",
          "x": 4.181069157506586,
          "y": 0.11136736642010439
         },
         {
          "group": "entertainment",
          "x": -0.6319639688714842,
          "y": -0.4732903391671411
         },
         {
          "group": "entertainment",
          "x": -0.2108485433159496,
          "y": -0.8962377854928889
         },
         {
          "group": "entertainment",
          "x": 0.633424485320079,
          "y": -0.5435480752768265
         },
         {
          "group": "entertainment",
          "x": 1.3660370899072605,
          "y": -0.2551536244866971
         },
         {
          "group": "entertainment",
          "x": -0.18740288012487696,
          "y": -0.8013870170036317
         },
         {
          "group": "entertainment",
          "x": -0.18574893767962608,
          "y": 0.06393980037238417
         },
         {
          "group": "entertainment",
          "x": -0.4216882997506388,
          "y": -0.6948086995982362
         },
         {
          "group": "entertainment",
          "x": 1.6969342789401343,
          "y": -0.7051539388475273
         },
         {
          "group": "entertainment",
          "x": 0.6937811838277131,
          "y": -0.8152283703313077
         },
         {
          "group": "entertainment",
          "x": 0.31053225476399127,
          "y": 1.3486696160914464
         },
         {
          "group": "entertainment",
          "x": 2.176486303326479,
          "y": -0.16624587728803392
         },
         {
          "group": "entertainment",
          "x": 1.0053411857103405,
          "y": -1.265066308312901
         },
         {
          "group": "entertainment",
          "x": 1.6324499963451575,
          "y": 0.6045749080663434
         },
         {
          "group": "entertainment",
          "x": 0.17459320444436432,
          "y": -2.549103255442771
         },
         {
          "group": "entertainment",
          "x": 0.7909136380503432,
          "y": -1.596049967570854
         },
         {
          "group": "entertainment",
          "x": 2.0184814722121187,
          "y": 1.1982915666916758
         },
         {
          "group": "entertainment",
          "x": 0.6918041066149464,
          "y": -0.5105893722458715
         },
         {
          "group": "entertainment",
          "x": -1.1797576294925007,
          "y": 0.21967054331911917
         },
         {
          "group": "entertainment",
          "x": -3.295333519131321,
          "y": 1.2406341522493336
         },
         {
          "group": "entertainment",
          "x": -0.022179339279189747,
          "y": -0.023020695712561063
         },
         {
          "group": "entertainment",
          "x": -1.5897590135380506,
          "y": 2.192044399572446
         },
         {
          "group": "entertainment",
          "x": -0.18580229680453872,
          "y": -0.43450258838080424
         },
         {
          "group": "entertainment",
          "x": -0.553401673591323,
          "y": 0.9867410994647654
         },
         {
          "group": "entertainment",
          "x": -0.1707233693658829,
          "y": 0.22642216922803757
         },
         {
          "group": "entertainment",
          "x": -1.2568674201538739,
          "y": 0.22337538681144262
         },
         {
          "group": "entertainment",
          "x": 0.23307359188486113,
          "y": 1.6831842027172699
         },
         {
          "group": "entertainment",
          "x": -0.34460347879910985,
          "y": -0.2063124169600006
         },
         {
          "group": "entertainment",
          "x": -0.5890614587633561,
          "y": 1.4231260057407549
         },
         {
          "group": "entertainment",
          "x": -0.5965901537889685,
          "y": 1.6441797421073459
         },
         {
          "group": "entertainment",
          "x": 0.05863536867947002,
          "y": -1.3173113178603475
         },
         {
          "group": "entertainment",
          "x": 1.2535945591001212,
          "y": -1.599304296522309
         },
         {
          "group": "entertainment",
          "x": 1.5368041791673728,
          "y": -0.028308896472127656
         },
         {
          "group": "entertainment",
          "x": 0.04264766779310277,
          "y": -0.3542035316886989
         },
         {
          "group": "entertainment",
          "x": -0.14116295045020094,
          "y": -0.7864368958202441
         },
         {
          "group": "entertainment",
          "x": 0.1353874626622486,
          "y": -0.2911769715149865
         },
         {
          "group": "entertainment",
          "x": 1.3863822990028098,
          "y": -1.1763141733153684
         },
         {
          "group": "entertainment",
          "x": -0.19219920113321018,
          "y": -0.10057296798711551
         },
         {
          "group": "entertainment",
          "x": -0.3224953268938913,
          "y": -0.5426296831093157
         },
         {
          "group": "entertainment",
          "x": 1.721776069789431,
          "y": 0.43929824920501676
         },
         {
          "group": "entertainment",
          "x": 3.042027586931504,
          "y": -0.9810865940557554
         },
         {
          "group": "entertainment",
          "x": -0.6482519228803807,
          "y": -0.20736500422891185
         },
         {
          "group": "entertainment",
          "x": 1.5188090661241558,
          "y": 0.3741373148214196
         },
         {
          "group": "entertainment",
          "x": -0.3835094395997051,
          "y": 0.9382833596211705
         },
         {
          "group": "entertainment",
          "x": -0.74681514298266,
          "y": -1.1895867653367582
         },
         {
          "group": "entertainment",
          "x": 0.295766916467485,
          "y": 1.8386445834762535
         },
         {
          "group": "entertainment",
          "x": 2.950824260540496,
          "y": -2.0258047422973413
         },
         {
          "group": "entertainment",
          "x": -1.1506957037927763,
          "y": 0.5193481609705402
         },
         {
          "group": "entertainment",
          "x": 1.9158614719328666,
          "y": 1.413962026938418
         },
         {
          "group": "entertainment",
          "x": 1.1885937081684381,
          "y": 0.6725384528639546
         },
         {
          "group": "entertainment",
          "x": -0.4973082690345217,
          "y": -1.4235082872833107
         },
         {
          "group": "entertainment",
          "x": 1.6689602120218463,
          "y": 0.016755802809173503
         },
         {
          "group": "entertainment",
          "x": -0.37566858442040957,
          "y": -1.0598885598127459
         },
         {
          "group": "entertainment",
          "x": 0.8817071701902419,
          "y": -0.748518790757784
         },
         {
          "group": "entertainment",
          "x": -0.9519625526925263,
          "y": 2.978386466910491
         },
         {
          "group": "entertainment",
          "x": -1.4341084119271363,
          "y": -1.8189543485037218
         },
         {
          "group": "entertainment",
          "x": 1.4555197951335779,
          "y": -1.0252705255297052
         },
         {
          "group": "entertainment",
          "x": 1.5266855698570467,
          "y": 0.7589125530472556
         },
         {
          "group": "entertainment",
          "x": 1.2355286639901486,
          "y": 0.17781151392320646
         },
         {
          "group": "entertainment",
          "x": 0.27080841159778984,
          "y": 1.8903737043105755
         },
         {
          "group": "entertainment",
          "x": -0.28037238460678165,
          "y": -0.6151977871977078
         },
         {
          "group": "entertainment",
          "x": -0.4845794442307454,
          "y": -1.5418722337893176
         },
         {
          "group": "entertainment",
          "x": -0.4353056384006059,
          "y": -1.111911091874119
         },
         {
          "group": "entertainment",
          "x": -0.5623889925338038,
          "y": 1.9963772844684495
         },
         {
          "group": "entertainment",
          "x": 1.8274059835768162,
          "y": -1.615511732263673
         },
         {
          "group": "entertainment",
          "x": -0.09080189631453289,
          "y": -1.0607656749870844
         },
         {
          "group": "entertainment",
          "x": 1.7286414816375917,
          "y": -0.5935754945505312
         },
         {
          "group": "entertainment",
          "x": 0.4527199734369197,
          "y": 0.4801061067372516
         },
         {
          "group": "entertainment",
          "x": 0.8953921074519507,
          "y": 0.47946432171436615
         },
         {
          "group": "entertainment",
          "x": 2.642546396841495,
          "y": -0.1251949326153193
         },
         {
          "group": "entertainment",
          "x": 0.8466573029084713,
          "y": -0.9783424965305761
         },
         {
          "group": "entertainment",
          "x": 0.3604545327850853,
          "y": 0.5025544245776103
         },
         {
          "group": "entertainment",
          "x": 0.9293798020047009,
          "y": -1.1898851636652763
         },
         {
          "group": "entertainment",
          "x": -0.5217575602910538,
          "y": 0.6733930391738668
         },
         {
          "group": "entertainment",
          "x": 2.146125473935652,
          "y": 0.5154914860866956
         },
         {
          "group": "entertainment",
          "x": 0.5202454683226042,
          "y": 0.8467442332635453
         },
         {
          "group": "entertainment",
          "x": 0.5083340646183523,
          "y": -0.19198167198850746
         },
         {
          "group": "entertainment",
          "x": -0.7636068949984167,
          "y": 0.9164473034396444
         },
         {
          "group": "entertainment",
          "x": 1.6282409064821035,
          "y": 1.4523918566560552
         },
         {
          "group": "entertainment",
          "x": 1.1702000536541346,
          "y": -1.1938265924347746
         },
         {
          "group": "entertainment",
          "x": 0.6374610749214084,
          "y": -0.7582450904381591
         },
         {
          "group": "entertainment",
          "x": 0.3783605152896017,
          "y": 1.9520115334223713
         },
         {
          "group": "entertainment",
          "x": -0.5500181756328214,
          "y": -1.0414914243398907
         },
         {
          "group": "entertainment",
          "x": -1.5434331428060324,
          "y": -0.6023276838507753
         },
         {
          "group": "entertainment",
          "x": -0.2800467844114406,
          "y": -0.4731675888136811
         },
         {
          "group": "entertainment",
          "x": 2.0061918936453282,
          "y": 0.7166597841692558
         },
         {
          "group": "entertainment",
          "x": 0.7328136348068524,
          "y": 0.7288636382734885
         },
         {
          "group": "entertainment",
          "x": 0.7929397366866878,
          "y": -2.0490866801931533
         },
         {
          "group": "entertainment",
          "x": 0.33814353764752564,
          "y": -0.04027783322299947
         },
         {
          "group": "entertainment",
          "x": -1.8411333484221395,
          "y": -1.9180313673635756
         },
         {
          "group": "entertainment",
          "x": 0.25049730832862466,
          "y": -0.13859160536652337
         },
         {
          "group": "entertainment",
          "x": 0.38722584169907626,
          "y": 0.8354186019826222
         },
         {
          "group": "entertainment",
          "x": 3.411365636665989,
          "y": -1.0868235062244787
         },
         {
          "group": "entertainment",
          "x": -0.3262545624952785,
          "y": 1.2722074358650304
         },
         {
          "group": "entertainment",
          "x": -0.7036696576179596,
          "y": -0.0250314064626984
         },
         {
          "group": "entertainment",
          "x": 1.4114551000638806,
          "y": 0.8636996552213795
         },
         {
          "group": "entertainment",
          "x": -0.2650612932299706,
          "y": 0.8711660788345972
         },
         {
          "group": "entertainment",
          "x": -0.1065527221811818,
          "y": -0.7185047468894346
         }
        ]
       },
       "encoding": {
        "color": {
         "field": "group",
         "type": "nominal"
        },
        "x": {
         "field": "x",
         "type": "quantitative"
        },
        "y": {
         "field": "y",
         "type": "quantitative"
        }
       },
       "mark": "point"
      },
      "image/png": "[encoded data removed]",
      "text/plain": [
       "<VegaLite 2 object>\n",
       "\n",
       "If you see this message, it means the renderer has not been properly enabled\n",
       "for the frontend that you are using. For more information, see\n",
       "https://altair-viz.github.io/user_guide/troubleshooting.html\n"
      ]
     },
     "execution_count": 30,
     "metadata": {},
     "output_type": "execute_result"
    }
   ],
   "source": [
    "bbc_2d = pca_2d(bbc_model.paragraph_matrix.data, bbc_df.group.to_numpy())\n",
    "alt.Chart(bbc_2d).mark_point().encode(x=\"x\", y=\"y\", color=\"group\")"
   ]
  },
  {
   "cell_type": "markdown",
   "metadata": {},
   "source": [
    "These results aren't great, but we can see the beginnings of separation. If we look at just two topics it becomes more obvious."
   ]
  },
  {
   "cell_type": "code",
   "execution_count": 31,
   "metadata": {},
   "outputs": [
    {
     "data": {
      "application/vnd.vegalite.v2+json": {
       "$schema": "https://vega.github.io/schema/vega-lite/v2.6.0.json",
       "config": {
        "view": {
         "height": 300,
         "width": 400
        }
       },
       "data": {
        "name": "data-28c67c31d06181457e32df63bdccbb55"
       },
       "datasets": {
        "data-28c67c31d06181457e32df63bdccbb55": [
         {
          "group": "sport",
          "x": -1.3939310022546219,
          "y": -1.9614016938465584
         },
         {
          "group": "sport",
          "x": -0.3131036496750702,
          "y": 0.9117515502761024
         },
         {
          "group": "sport",
          "x": -1.3465589653937873,
          "y": 0.6092680541519918
         },
         {
          "group": "sport",
          "x": -0.9862205359898816,
          "y": 0.16919897521096508
         },
         {
          "group": "sport",
          "x": -0.9401283532823261,
          "y": -1.2551824494007364
         },
         {
          "group": "sport",
          "x": -1.0644068768640484,
          "y": 0.08806744877120716
         },
         {
          "group": "sport",
          "x": -1.2198935569369087,
          "y": -0.06476995609885548
         },
         {
          "group": "sport",
          "x": -1.1911843013171326,
          "y": -0.6900867115414956
         },
         {
          "group": "sport",
          "x": -1.36624466662386,
          "y": 0.9653971467411878
         },
         {
          "group": "sport",
          "x": -1.0644177252761626,
          "y": 1.36739307584764
         },
         {
          "group": "sport",
          "x": -0.3325603675636751,
          "y": -1.4902670514980403
         },
         {
          "group": "sport",
          "x": -1.8245739500867506,
          "y": 1.3111127784720222
         },
         {
          "group": "sport",
          "x": -0.889991589053751,
          "y": -0.6516791528305581
         },
         {
          "group": "sport",
          "x": -1.0924178198405288,
          "y": 0.7669910715611837
         },
         {
          "group": "sport",
          "x": -0.6635310199673657,
          "y": -1.5999091131173941
         },
         {
          "group": "sport",
          "x": -0.6702956195040239,
          "y": -0.7952540107813492
         },
         {
          "group": "sport",
          "x": -0.3954407930694894,
          "y": -1.4479724873108226
         },
         {
          "group": "sport",
          "x": -1.3769297132949603,
          "y": -0.2726560211267796
         },
         {
          "group": "sport",
          "x": -1.600286914404709,
          "y": -1.3590214309159596
         },
         {
          "group": "sport",
          "x": -0.5184711734664009,
          "y": -1.4882142056919834
         },
         {
          "group": "sport",
          "x": -1.6259873426715994,
          "y": -2.6178698968651126
         },
         {
          "group": "sport",
          "x": -0.0961272754552088,
          "y": -2.383977048703526
         },
         {
          "group": "sport",
          "x": -0.5733179490832095,
          "y": -0.8537291760557796
         },
         {
          "group": "sport",
          "x": -0.48410115747489846,
          "y": 0.4275404678858861
         },
         {
          "group": "sport",
          "x": -1.2123769553648427,
          "y": -0.32230845719438134
         },
         {
          "group": "sport",
          "x": -1.5790374213854332,
          "y": 0.38402186428651314
         },
         {
          "group": "sport",
          "x": -0.7566822080231993,
          "y": -1.2731413914456902
         },
         {
          "group": "sport",
          "x": -1.242763564738454,
          "y": 1.0439407657658777
         },
         {
          "group": "sport",
          "x": -1.3636470883849825,
          "y": 0.6199480214723562
         },
         {
          "group": "sport",
          "x": -1.365869686886819,
          "y": 0.5317060371055138
         },
         {
          "group": "sport",
          "x": -0.5563758604244572,
          "y": -0.10767418031807703
         },
         {
          "group": "sport",
          "x": -1.9016111396071675,
          "y": 0.9419824428041927
         },
         {
          "group": "sport",
          "x": -1.1030434329685403,
          "y": -0.9765948905380706
         },
         {
          "group": "sport",
          "x": -0.45280321387502226,
          "y": 0.7975631401178305
         },
         {
          "group": "sport",
          "x": 0.05637673617121426,
          "y": -0.2366196851885147
         },
         {
          "group": "sport",
          "x": -1.2603857129245748,
          "y": 1.546899873156546
         },
         {
          "group": "sport",
          "x": -0.8608059630898797,
          "y": -0.010406827246919447
         },
         {
          "group": "sport",
          "x": -1.6821987656977166,
          "y": -1.660256275799605
         },
         {
          "group": "sport",
          "x": -0.22790205010650036,
          "y": -0.4080556282822443
         },
         {
          "group": "sport",
          "x": -0.9936632479492437,
          "y": -1.3715811665288786
         },
         {
          "group": "sport",
          "x": -1.0517810144046666,
          "y": -0.051710274563753586
         },
         {
          "group": "sport",
          "x": -0.7617299135529245,
          "y": -0.2911581403191951
         },
         {
          "group": "sport",
          "x": -1.8890446300958095,
          "y": -0.43210663541648825
         },
         {
          "group": "sport",
          "x": -0.5408583940427121,
          "y": -0.8691211518045353
         },
         {
          "group": "sport",
          "x": -2.5276386589647957,
          "y": -0.8333196074675518
         },
         {
          "group": "sport",
          "x": -0.9976802884134468,
          "y": -1.3927227791132626
         },
         {
          "group": "sport",
          "x": -1.1442710289582878,
          "y": -0.26600916880998
         },
         {
          "group": "sport",
          "x": -1.1109895281741495,
          "y": -0.6380337856313009
         },
         {
          "group": "sport",
          "x": -1.458540472870694,
          "y": -1.1271346170309888
         },
         {
          "group": "sport",
          "x": -1.640453971498042,
          "y": 0.28631361513073267
         },
         {
          "group": "sport",
          "x": -1.0035523998041045,
          "y": -0.3678535752705538
         },
         {
          "group": "sport",
          "x": -0.6218765776428867,
          "y": -0.7126712327661582
         },
         {
          "group": "sport",
          "x": -0.9344448233975967,
          "y": 0.015361739265660443
         },
         {
          "group": "sport",
          "x": -0.5602756722714561,
          "y": -2.8103314925691283
         },
         {
          "group": "sport",
          "x": -1.1949674235777963,
          "y": 1.217130885794827
         },
         {
          "group": "sport",
          "x": -0.823694655773829,
          "y": -2.0036305416828597
         },
         {
          "group": "sport",
          "x": -0.5177819024799705,
          "y": -1.125461230730267
         },
         {
          "group": "sport",
          "x": -1.626955333656359,
          "y": -0.33306789327058023
         },
         {
          "group": "sport",
          "x": -0.8270498626823409,
          "y": -2.4732175574693476
         },
         {
          "group": "sport",
          "x": -1.260365267943884,
          "y": -0.2842701508139166
         },
         {
          "group": "sport",
          "x": -1.486213670158141,
          "y": -1.858992930983152
         },
         {
          "group": "sport",
          "x": -1.183952019269144,
          "y": 0.270119940120814
         },
         {
          "group": "sport",
          "x": -0.5022862343067735,
          "y": 0.12270756369798917
         },
         {
          "group": "sport",
          "x": -1.1914959251223807,
          "y": -2.7639518559033727
         },
         {
          "group": "sport",
          "x": -0.10475799605637603,
          "y": -1.4706927292585057
         },
         {
          "group": "sport",
          "x": -1.1157904311245819,
          "y": -1.3440210324609216
         },
         {
          "group": "sport",
          "x": -0.14194992662939349,
          "y": -1.5087993742611872
         },
         {
          "group": "sport",
          "x": -1.0353108890581666,
          "y": -1.8412128277409028
         },
         {
          "group": "sport",
          "x": -1.2726789280907884,
          "y": 0.09005431943523767
         },
         {
          "group": "sport",
          "x": -0.44993921660043823,
          "y": -1.532080933143898
         },
         {
          "group": "sport",
          "x": 0.13840247101249362,
          "y": -0.7047145081705932
         },
         {
          "group": "sport",
          "x": -0.17141548692616762,
          "y": -0.011489928992347449
         },
         {
          "group": "sport",
          "x": -1.5021625178966704,
          "y": -0.6282505634115705
         },
         {
          "group": "sport",
          "x": -0.34438567168301637,
          "y": -0.07590111915562246
         },
         {
          "group": "sport",
          "x": -1.676966914073267,
          "y": -0.5004435494210792
         },
         {
          "group": "sport",
          "x": -1.7216527991179922,
          "y": 2.6482728066232437
         },
         {
          "group": "sport",
          "x": -1.6494323808495157,
          "y": 1.0102203657088993
         },
         {
          "group": "sport",
          "x": -0.5687665508864633,
          "y": -1.6695551251707157
         },
         {
          "group": "sport",
          "x": -0.3434198133222839,
          "y": -0.16564784144341038
         },
         {
          "group": "sport",
          "x": -0.8231362656944016,
          "y": 1.2402630596153053
         },
         {
          "group": "sport",
          "x": -1.4845484960687774,
          "y": -0.4759145436546206
         },
         {
          "group": "sport",
          "x": -0.7702752198993702,
          "y": 1.7157571165920704
         },
         {
          "group": "sport",
          "x": -1.240755478809906,
          "y": 0.8370973573747033
         },
         {
          "group": "sport",
          "x": -0.722554071679298,
          "y": -1.4895475674135712
         },
         {
          "group": "sport",
          "x": -1.0080246119580198,
          "y": -0.44257363524835414
         },
         {
          "group": "sport",
          "x": -1.2344405246060572,
          "y": 0.6582861793443836
         },
         {
          "group": "sport",
          "x": -0.7641844382172607,
          "y": 1.9074918896246844
         },
         {
          "group": "sport",
          "x": -1.5429807016391024,
          "y": -0.8268508051375697
         },
         {
          "group": "sport",
          "x": -1.4404469517518088,
          "y": -0.33077140056314625
         },
         {
          "group": "sport",
          "x": -1.993008439451293,
          "y": 0.7294672090201996
         },
         {
          "group": "sport",
          "x": -1.3010159198060742,
          "y": 1.937689577168821
         },
         {
          "group": "sport",
          "x": 0.06781267171669113,
          "y": -2.8838019665608403
         },
         {
          "group": "sport",
          "x": -1.1099501745028097,
          "y": -1.678770187087736
         },
         {
          "group": "sport",
          "x": -2.3408704740951736,
          "y": 0.361802258271358
         },
         {
          "group": "sport",
          "x": -1.0155419138512132,
          "y": -1.9332839708394898
         },
         {
          "group": "sport",
          "x": -1.1934844316453932,
          "y": -0.7292221199067503
         },
         {
          "group": "sport",
          "x": -0.5410362967420278,
          "y": -2.2912634729420533
         },
         {
          "group": "sport",
          "x": -1.626002369066612,
          "y": -0.3661152516340721
         },
         {
          "group": "sport",
          "x": -0.5092729554500959,
          "y": -1.5204127463196202
         },
         {
          "group": "sport",
          "x": -1.3540686591872722,
          "y": 1.9757189597509934
         },
         {
          "group": "sport",
          "x": -1.273433520431844,
          "y": 0.8521103564515541
         },
         {
          "group": "sport",
          "x": -0.6151428509710494,
          "y": -0.029996330972635266
         },
         {
          "group": "sport",
          "x": -0.5855307637359686,
          "y": -2.1263292397007243
         },
         {
          "group": "sport",
          "x": -0.5994314620624007,
          "y": -1.2577680326781369
         },
         {
          "group": "sport",
          "x": -1.1597910419493789,
          "y": -1.7899947678409325
         },
         {
          "group": "sport",
          "x": -0.7164579317921511,
          "y": 0.1717735230135778
         },
         {
          "group": "sport",
          "x": -0.9692596070985776,
          "y": -1.494995671192247
         },
         {
          "group": "sport",
          "x": -0.09518785367903361,
          "y": -0.5398339637005585
         },
         {
          "group": "sport",
          "x": -0.8879784671424632,
          "y": -0.6150001706546868
         },
         {
          "group": "sport",
          "x": -1.0746170315634067,
          "y": 1.5620616331854218
         },
         {
          "group": "sport",
          "x": -0.6192406577664329,
          "y": 1.1298052097382967
         },
         {
          "group": "sport",
          "x": -1.5141875946968473,
          "y": 0.5559225656476597
         },
         {
          "group": "sport",
          "x": -1.3030882443238199,
          "y": -0.5041972560918748
         },
         {
          "group": "sport",
          "x": -2.2429313939096183,
          "y": 3.299367655178983
         },
         {
          "group": "sport",
          "x": -1.6874968393963492,
          "y": 1.5301799231308657
         },
         {
          "group": "sport",
          "x": -0.8628172334904828,
          "y": 0.8696465567275096
         },
         {
          "group": "sport",
          "x": -1.1205830857954433,
          "y": -0.6671465418305842
         },
         {
          "group": "sport",
          "x": -0.932047546227222,
          "y": 1.020542120094599
         },
         {
          "group": "sport",
          "x": -0.9035898675926237,
          "y": -0.10442972401028365
         },
         {
          "group": "sport",
          "x": -1.328616387217019,
          "y": 2.025690735103913
         },
         {
          "group": "sport",
          "x": -1.5512386862407503,
          "y": 0.8392574488506771
         },
         {
          "group": "sport",
          "x": -0.05858544351243843,
          "y": -0.6568918919328244
         },
         {
          "group": "sport",
          "x": -1.0963206866444324,
          "y": -0.5440961267532896
         },
         {
          "group": "sport",
          "x": -0.7649501000883697,
          "y": 0.689824162336584
         },
         {
          "group": "sport",
          "x": -1.117907897816107,
          "y": -1.036413275668644
         },
         {
          "group": "sport",
          "x": -0.5263251283207762,
          "y": -0.3063479110385118
         },
         {
          "group": "sport",
          "x": -0.8115693877551377,
          "y": -0.7494211041619564
         },
         {
          "group": "sport",
          "x": -1.6160649422400604,
          "y": -1.9921597367419226
         },
         {
          "group": "sport",
          "x": -1.3196846101849482,
          "y": -0.462541641228324
         },
         {
          "group": "sport",
          "x": -0.7986290860166889,
          "y": -0.1210999885360974
         },
         {
          "group": "sport",
          "x": -0.42759612024789323,
          "y": 0.6949851532701061
         },
         {
          "group": "sport",
          "x": -0.9240141732181247,
          "y": -0.8925853318216649
         },
         {
          "group": "sport",
          "x": -1.3830833586410802,
          "y": -0.47017778962296686
         },
         {
          "group": "sport",
          "x": -1.4903186654907044,
          "y": 0.6030822267770528
         },
         {
          "group": "sport",
          "x": -1.1682183981729706,
          "y": -1.3002868765020874
         },
         {
          "group": "sport",
          "x": -0.8890327706895256,
          "y": 0.7993932358290776
         },
         {
          "group": "sport",
          "x": -0.9577450435759549,
          "y": -1.2606173487721035
         },
         {
          "group": "sport",
          "x": -1.7286376831243624,
          "y": -0.2861787927082836
         },
         {
          "group": "sport",
          "x": -1.7267499845485081,
          "y": 0.95350485884097
         },
         {
          "group": "sport",
          "x": -0.5519878344153795,
          "y": -2.8159837772170184
         },
         {
          "group": "sport",
          "x": -0.9901552263303424,
          "y": 1.2567138980875059
         },
         {
          "group": "sport",
          "x": -0.7761163369558766,
          "y": -0.5874548170957933
         },
         {
          "group": "sport",
          "x": -0.9064210187290376,
          "y": -2.2582583777225516
         },
         {
          "group": "sport",
          "x": -1.2212390282579024,
          "y": 0.09570610166459016
         },
         {
          "group": "sport",
          "x": -2.10717392671339,
          "y": 0.13656780162939633
         },
         {
          "group": "sport",
          "x": -0.8579626326695805,
          "y": -1.9152475086965792
         },
         {
          "group": "sport",
          "x": -1.6664741027077652,
          "y": 0.8216905879323988
         },
         {
          "group": "sport",
          "x": -1.1025742368042555,
          "y": 0.22324305684934673
         },
         {
          "group": "sport",
          "x": -2.063911704679373,
          "y": 0.43906927120668204
         },
         {
          "group": "sport",
          "x": -1.4383710182960707,
          "y": -1.9226069768154461
         },
         {
          "group": "sport",
          "x": -1.5612386354623617,
          "y": 0.9086747363187847
         },
         {
          "group": "sport",
          "x": -0.9869123596145165,
          "y": -0.6702546091396351
         },
         {
          "group": "sport",
          "x": -0.7528924717289238,
          "y": -0.572141899302895
         },
         {
          "group": "sport",
          "x": -1.1251982380395753,
          "y": 0.10112423671942669
         },
         {
          "group": "sport",
          "x": -1.1087350377426555,
          "y": -0.03377076880472811
         },
         {
          "group": "sport",
          "x": -1.3390785023237155,
          "y": 0.8236025997223819
         },
         {
          "group": "sport",
          "x": -0.6509576629871515,
          "y": 1.313701710342676
         },
         {
          "group": "sport",
          "x": -1.0650476537692175,
          "y": -1.661393818904676
         },
         {
          "group": "sport",
          "x": -0.9054933832007878,
          "y": 0.854411834415029
         },
         {
          "group": "sport",
          "x": -1.1525186254095923,
          "y": 0.07601254548012665
         },
         {
          "group": "sport",
          "x": -0.6510802994624557,
          "y": -0.650643634771581
         },
         {
          "group": "sport",
          "x": -1.6690416706845967,
          "y": -0.37755257729487146
         },
         {
          "group": "sport",
          "x": -1.3162231999140668,
          "y": 0.9743348177229147
         },
         {
          "group": "sport",
          "x": -0.9650257780655371,
          "y": 1.6880735937564502
         },
         {
          "group": "sport",
          "x": -1.4175129962994917,
          "y": 0.08754446467516697
         },
         {
          "group": "sport",
          "x": -1.0248484947073409,
          "y": -0.6301106009919638
         },
         {
          "group": "sport",
          "x": -0.7370229509741837,
          "y": -0.13969330359944906
         },
         {
          "group": "sport",
          "x": -0.6374108378595876,
          "y": -1.6350355942427364
         },
         {
          "group": "sport",
          "x": -1.3965066498471441,
          "y": -0.9170606524245256
         },
         {
          "group": "sport",
          "x": -0.9293640684668518,
          "y": -1.4729281229870932
         },
         {
          "group": "sport",
          "x": -0.5040240080014797,
          "y": -1.0320356672145365
         },
         {
          "group": "sport",
          "x": -1.107668733930511,
          "y": -0.7026310879787573
         },
         {
          "group": "sport",
          "x": -0.47488034429653686,
          "y": -1.1601152876704905
         },
         {
          "group": "sport",
          "x": -0.4804210141695022,
          "y": -1.2073037422308919
         },
         {
          "group": "sport",
          "x": -0.2245149391991743,
          "y": -1.079634744109491
         },
         {
          "group": "sport",
          "x": -1.0558393403816344,
          "y": -0.2832635342855533
         },
         {
          "group": "sport",
          "x": -0.5679899786335462,
          "y": 1.768069296120026
         },
         {
          "group": "sport",
          "x": -1.1194048739329803,
          "y": 1.8837446144146932
         },
         {
          "group": "sport",
          "x": -1.0291412664656214,
          "y": -0.5211114910555278
         },
         {
          "group": "sport",
          "x": -1.7143458263448272,
          "y": -1.4917519355682773
         },
         {
          "group": "sport",
          "x": -1.0904756491016971,
          "y": -1.9600242043529488
         },
         {
          "group": "sport",
          "x": -0.23129318613795455,
          "y": -1.7493878732411745
         },
         {
          "group": "sport",
          "x": -0.7650443350080327,
          "y": -0.687899575481049
         },
         {
          "group": "sport",
          "x": -1.011983801394179,
          "y": -2.891731846544945
         },
         {
          "group": "sport",
          "x": -0.9584228436556556,
          "y": -0.5798465517270839
         },
         {
          "group": "sport",
          "x": -1.2667537517604053,
          "y": 0.039888888941218933
         },
         {
          "group": "sport",
          "x": -0.7955065013788746,
          "y": 0.1041036945470822
         },
         {
          "group": "sport",
          "x": -1.0712419394154993,
          "y": 0.6398202249629766
         },
         {
          "group": "sport",
          "x": -0.48048564465931504,
          "y": -0.42320479719471643
         },
         {
          "group": "sport",
          "x": -2.6520867708183893,
          "y": 1.8956120418005313
         },
         {
          "group": "sport",
          "x": 0.011958662487010397,
          "y": -0.0070288264604664915
         },
         {
          "group": "sport",
          "x": -0.9297243134344251,
          "y": 1.8315392148248213
         },
         {
          "group": "sport",
          "x": -1.8006669801955384,
          "y": 1.2960136471850747
         },
         {
          "group": "sport",
          "x": -0.9720333329566373,
          "y": 1.344554842595372
         },
         {
          "group": "sport",
          "x": -1.2194160632916997,
          "y": -1.0242952323655514
         },
         {
          "group": "sport",
          "x": -1.945245249164179,
          "y": 2.3356219519317176
         },
         {
          "group": "sport",
          "x": -1.4000091362799034,
          "y": 1.2939602802357186
         },
         {
          "group": "sport",
          "x": -1.7206392010131457,
          "y": -0.5043517074741403
         },
         {
          "group": "sport",
          "x": -0.7779858147096637,
          "y": -0.5577355225732239
         },
         {
          "group": "sport",
          "x": -1.038360326944005,
          "y": 0.0897008308406892
         },
         {
          "group": "sport",
          "x": -0.5376634752353092,
          "y": -0.6019878488206406
         },
         {
          "group": "sport",
          "x": 0.3935407030396599,
          "y": -2.6889495989435597
         },
         {
          "group": "sport",
          "x": -0.8954615554077744,
          "y": -0.47024932376265666
         },
         {
          "group": "sport",
          "x": -1.3763350555131226,
          "y": -1.212759840170704
         },
         {
          "group": "sport",
          "x": -0.8113279632385402,
          "y": -0.4666090977667574
         },
         {
          "group": "sport",
          "x": -1.3839537823866972,
          "y": 0.25615697082070826
         },
         {
          "group": "sport",
          "x": -0.8557745429579477,
          "y": 0.7448907463105089
         },
         {
          "group": "sport",
          "x": 0.0022686821594446317,
          "y": -3.648186694024406
         },
         {
          "group": "sport",
          "x": -0.6859838631906334,
          "y": -0.13910509994569414
         },
         {
          "group": "sport",
          "x": -0.9542014415735625,
          "y": 0.8785907608512756
         },
         {
          "group": "sport",
          "x": -0.840833336516431,
          "y": -0.36545923988285045
         },
         {
          "group": "sport",
          "x": -0.6724264455896597,
          "y": -0.40276213423082197
         },
         {
          "group": "sport",
          "x": -1.204448606112945,
          "y": -1.9540732020129268
         },
         {
          "group": "sport",
          "x": -1.6127666903957476,
          "y": -1.150026992981837
         },
         {
          "group": "sport",
          "x": -1.162743509341652,
          "y": -0.2465126069113406
         },
         {
          "group": "sport",
          "x": -0.7989080959785925,
          "y": 0.8242992927768803
         },
         {
          "group": "sport",
          "x": -1.537451388641284,
          "y": 0.8528219341268425
         },
         {
          "group": "sport",
          "x": -1.2393373382561013,
          "y": -1.486565333762787
         },
         {
          "group": "sport",
          "x": -1.8717047683275776,
          "y": -2.3152998413114148
         },
         {
          "group": "sport",
          "x": -1.2719738203294408,
          "y": -0.20498487206660934
         },
         {
          "group": "sport",
          "x": -0.7089772207847437,
          "y": -0.4752001085325923
         },
         {
          "group": "sport",
          "x": -1.2807153838615584,
          "y": -0.21192404908990634
         },
         {
          "group": "sport",
          "x": -1.5495878681932402,
          "y": 1.0887714476876043
         },
         {
          "group": "sport",
          "x": -0.6886295917521398,
          "y": -1.196396405030575
         },
         {
          "group": "sport",
          "x": -0.7230536803468433,
          "y": -2.0899064229394924
         },
         {
          "group": "sport",
          "x": -1.0333551084583454,
          "y": -1.824393127373982
         },
         {
          "group": "sport",
          "x": -1.0311671485819482,
          "y": 1.4561645450745666
         },
         {
          "group": "sport",
          "x": -1.7872464213004216,
          "y": 0.4263594815609669
         },
         {
          "group": "sport",
          "x": 0.05445553369532297,
          "y": -2.3468381458722445
         },
         {
          "group": "sport",
          "x": -1.0062997686628241,
          "y": 0.1805406448983954
         },
         {
          "group": "sport",
          "x": -0.7257201425430676,
          "y": 0.6580192571417744
         },
         {
          "group": "sport",
          "x": -0.4443928492628003,
          "y": -1.2413149286544696
         },
         {
          "group": "sport",
          "x": -0.8458660729183708,
          "y": -1.50474054775459
         },
         {
          "group": "sport",
          "x": -1.1455048429971662,
          "y": -1.7890174045695486
         },
         {
          "group": "sport",
          "x": -0.72994978749391,
          "y": -0.8537621846435822
         },
         {
          "group": "sport",
          "x": -0.6697157956339033,
          "y": 1.3588714254610372
         },
         {
          "group": "sport",
          "x": -0.6417984667626198,
          "y": 0.8634565532959468
         },
         {
          "group": "sport",
          "x": -0.6568631492629774,
          "y": -1.2866196094781988
         },
         {
          "group": "sport",
          "x": -0.2904726638117202,
          "y": -1.303847529107023
         },
         {
          "group": "sport",
          "x": -1.7442996885284394,
          "y": -0.6634947187264787
         },
         {
          "group": "sport",
          "x": -0.641635888504228,
          "y": -1.3028702092618745
         },
         {
          "group": "sport",
          "x": -1.3049140200796492,
          "y": 0.9130382198494086
         },
         {
          "group": "sport",
          "x": -1.123005534220982,
          "y": 1.317060784824725
         },
         {
          "group": "sport",
          "x": -0.8547227384408955,
          "y": -1.59959126145566
         },
         {
          "group": "sport",
          "x": -0.6538969313903904,
          "y": 1.191458818669461
         },
         {
          "group": "sport",
          "x": -1.4902454583418345,
          "y": -0.414137093198734
         },
         {
          "group": "sport",
          "x": -1.1018581774158474,
          "y": 0.8730172365237235
         },
         {
          "group": "sport",
          "x": 0.07230549511972865,
          "y": -1.1715339073648259
         },
         {
          "group": "sport",
          "x": -1.5182537095173483,
          "y": 1.3071710460717203
         },
         {
          "group": "sport",
          "x": -0.9099484094458924,
          "y": 0.8559028859585502
         },
         {
          "group": "sport",
          "x": -0.9583078737589373,
          "y": 0.6798042393798998
         },
         {
          "group": "sport",
          "x": -1.046365779094583,
          "y": -0.761469986501597
         },
         {
          "group": "sport",
          "x": -0.7133054393042754,
          "y": -1.5730854833196646
         },
         {
          "group": "sport",
          "x": -0.7497396804057886,
          "y": -0.5769925404897939
         },
         {
          "group": "sport",
          "x": -1.2299089813407964,
          "y": -0.21706618224516877
         },
         {
          "group": "sport",
          "x": -0.7013643412246682,
          "y": -2.162147086881641
         },
         {
          "group": "sport",
          "x": -1.1360211699010792,
          "y": 0.1416748256522583
         },
         {
          "group": "sport",
          "x": -0.7058448688813387,
          "y": -0.25109369591914177
         },
         {
          "group": "sport",
          "x": -1.0964458375160102,
          "y": 2.2539368728655402
         },
         {
          "group": "sport",
          "x": -1.47424682374592,
          "y": 0.7568033369284186
         },
         {
          "group": "sport",
          "x": -1.0945955451469138,
          "y": -0.9117446523049182
         },
         {
          "group": "sport",
          "x": -1.0258007064061458,
          "y": -0.12744013553621067
         },
         {
          "group": "sport",
          "x": -0.5557690171721132,
          "y": -0.7350089275992945
         },
         {
          "group": "sport",
          "x": -0.678403438874432,
          "y": -1.205500903819115
         },
         {
          "group": "sport",
          "x": -0.9653539688859449,
          "y": -3.024295399570344
         },
         {
          "group": "sport",
          "x": -0.6056423255546676,
          "y": -0.22734484153107032
         },
         {
          "group": "sport",
          "x": -1.0019848201044737,
          "y": -1.7138165639551637
         },
         {
          "group": "sport",
          "x": -0.03498547304217891,
          "y": 0.5889375207320658
         },
         {
          "group": "sport",
          "x": -0.9373644111923461,
          "y": -1.3516402356264656
         },
         {
          "group": "sport",
          "x": -1.668588709226735,
          "y": 0.8580588346274555
         },
         {
          "group": "sport",
          "x": -0.7799598802367873,
          "y": 0.6280300347464318
         },
         {
          "group": "sport",
          "x": -1.268449804559168,
          "y": 0.3970484402980581
         },
         {
          "group": "sport",
          "x": -0.5380395693137001,
          "y": -0.08253899492242492
         },
         {
          "group": "sport",
          "x": -1.2689074321076261,
          "y": -0.07785923135544066
         },
         {
          "group": "sport",
          "x": -1.0652162088701917,
          "y": 0.5806791640439805
         },
         {
          "group": "sport",
          "x": -0.854301387467394,
          "y": -1.5642554932207529
         },
         {
          "group": "sport",
          "x": -0.6375791317988567,
          "y": -0.228166258791474
         },
         {
          "group": "sport",
          "x": -1.0485122577467008,
          "y": 0.6047302333421458
         },
         {
          "group": "sport",
          "x": -0.7043259518779779,
          "y": -0.10632293992255613
         },
         {
          "group": "sport",
          "x": -0.5826545207170573,
          "y": -0.5312072341214489
         },
         {
          "group": "sport",
          "x": -1.1786859157800242,
          "y": -0.12982915585836033
         },
         {
          "group": "sport",
          "x": -1.4051394035820055,
          "y": 1.2369374668289703
         },
         {
          "group": "sport",
          "x": -0.8695628603185189,
          "y": -0.14730421759833046
         },
         {
          "group": "sport",
          "x": -0.43428166170038074,
          "y": -1.016374841890948
         },
         {
          "group": "sport",
          "x": -0.5089098668241531,
          "y": -0.3540213414851647
         },
         {
          "group": "sport",
          "x": -1.406000345173975,
          "y": 0.21036345214639732
         },
         {
          "group": "sport",
          "x": -0.7012108694358005,
          "y": -0.14460621662262857
         },
         {
          "group": "sport",
          "x": -1.1104028271374944,
          "y": -0.8635490237823267
         },
         {
          "group": "sport",
          "x": -1.784349820152734,
          "y": -0.5580087038425143
         },
         {
          "group": "sport",
          "x": -0.7501556277524601,
          "y": 0.4928386614981392
         },
         {
          "group": "sport",
          "x": -1.4912701694037092,
          "y": 0.28513520665079306
         },
         {
          "group": "sport",
          "x": -1.0237615186692401,
          "y": -0.6722291505209426
         },
         {
          "group": "sport",
          "x": -0.4874266145208152,
          "y": 0.3344333688263972
         },
         {
          "group": "sport",
          "x": -1.5728625207097229,
          "y": 0.2686799685683747
         },
         {
          "group": "sport",
          "x": -1.7224761452346045,
          "y": -0.5899932619217272
         },
         {
          "group": "sport",
          "x": -1.5364852513844725,
          "y": 0.4156651358415504
         },
         {
          "group": "sport",
          "x": -1.7842017755483341,
          "y": 1.4872522503701164
         },
         {
          "group": "sport",
          "x": -0.6403794097342779,
          "y": -0.8229346312324485
         },
         {
          "group": "sport",
          "x": -1.0532687492970718,
          "y": -0.3255105477282868
         },
         {
          "group": "sport",
          "x": -0.32397010540597604,
          "y": -0.5169533770902951
         },
         {
          "group": "sport",
          "x": -1.2430035669895678,
          "y": 0.8425043154747804
         },
         {
          "group": "sport",
          "x": -1.1127274198299275,
          "y": 0.8903637602519404
         },
         {
          "group": "sport",
          "x": -1.9315710922336502,
          "y": 0.6449441469969878
         },
         {
          "group": "sport",
          "x": -0.6495687757454621,
          "y": -0.8066894957411908
         },
         {
          "group": "sport",
          "x": -1.7138446036317039,
          "y": 1.1973386392008576
         },
         {
          "group": "sport",
          "x": -0.7968432469475373,
          "y": -0.03636335937767618
         },
         {
          "group": "sport",
          "x": -0.5347928287425245,
          "y": -2.0501890003621748
         },
         {
          "group": "sport",
          "x": -1.0494900149615418,
          "y": 0.7124353082563771
         },
         {
          "group": "sport",
          "x": -1.4492536230202,
          "y": -0.7337941245531763
         },
         {
          "group": "sport",
          "x": -1.8210395070264584,
          "y": -1.109406737637775
         },
         {
          "group": "sport",
          "x": -1.7960508877193961,
          "y": -1.7596063914405147
         },
         {
          "group": "sport",
          "x": -1.7177434975980532,
          "y": -0.6401727488560096
         },
         {
          "group": "sport",
          "x": -2.0064487603092656,
          "y": -1.6526393340287298
         },
         {
          "group": "sport",
          "x": -1.0212952904980526,
          "y": 0.372138015064432
         },
         {
          "group": "sport",
          "x": -1.121455269676513,
          "y": -1.7216359695730468
         },
         {
          "group": "sport",
          "x": -1.041313125916605,
          "y": -0.3835071847640769
         },
         {
          "group": "sport",
          "x": -1.194036753017328,
          "y": -0.30712516451838295
         },
         {
          "group": "sport",
          "x": -0.30269456296562414,
          "y": -1.324912170224016
         },
         {
          "group": "sport",
          "x": -0.912797568534263,
          "y": -0.39655510386480525
         },
         {
          "group": "sport",
          "x": -0.8443481771704257,
          "y": -0.16190418882462948
         },
         {
          "group": "sport",
          "x": -1.3093632719561725,
          "y": -1.443668914094988
         },
         {
          "group": "sport",
          "x": -1.253783929558358,
          "y": -2.5028980956085807
         },
         {
          "group": "sport",
          "x": -0.9551460992890395,
          "y": -1.2847941310262174
         },
         {
          "group": "sport",
          "x": -0.6404510695617259,
          "y": 0.3531742150285309
         },
         {
          "group": "sport",
          "x": -0.725728840692474,
          "y": -2.4364331984777636
         },
         {
          "group": "sport",
          "x": -1.0177380532086417,
          "y": 0.4915021436298652
         },
         {
          "group": "sport",
          "x": -0.5928592241350376,
          "y": -1.4304117094364108
         },
         {
          "group": "sport",
          "x": -1.416628698463742,
          "y": -1.2307248707548815
         },
         {
          "group": "sport",
          "x": -1.0254159780033107,
          "y": -1.045353699325207
         },
         {
          "group": "sport",
          "x": -1.7295724286767145,
          "y": 0.5525667501071604
         },
         {
          "group": "sport",
          "x": -0.6920847111464603,
          "y": -1.5737982229372374
         },
         {
          "group": "sport",
          "x": -1.0986331729332568,
          "y": 0.2185219068544665
         },
         {
          "group": "sport",
          "x": -1.467657721064391,
          "y": -0.26722881027799594
         },
         {
          "group": "sport",
          "x": -1.24196740656671,
          "y": -1.9097966593409499
         },
         {
          "group": "sport",
          "x": -2.540043160646315,
          "y": 0.5522828084973236
         },
         {
          "group": "sport",
          "x": -0.4114170886631248,
          "y": 0.08513242739028208
         },
         {
          "group": "sport",
          "x": -1.203402522606455,
          "y": -2.1548059601008998
         },
         {
          "group": "sport",
          "x": -1.9921601360638437,
          "y": -1.329676578975001
         },
         {
          "group": "sport",
          "x": -0.7977779178110335,
          "y": -2.1792524010496246
         },
         {
          "group": "sport",
          "x": -1.8563487571229682,
          "y": 1.247318464138793
         },
         {
          "group": "sport",
          "x": -1.8748889666545838,
          "y": 0.24940528514344237
         },
         {
          "group": "sport",
          "x": -1.6285384873781785,
          "y": -0.2638595507914864
         },
         {
          "group": "sport",
          "x": -1.6135444746694112,
          "y": -0.3711433721703531
         },
         {
          "group": "sport",
          "x": -2.263426329514436,
          "y": 1.40629572330218
         },
         {
          "group": "sport",
          "x": -1.491764332640014,
          "y": -1.063671452849212
         },
         {
          "group": "sport",
          "x": -0.6284531743873594,
          "y": -0.7989246916287163
         },
         {
          "group": "sport",
          "x": -0.9954205877592717,
          "y": 0.0020022999024259113
         },
         {
          "group": "sport",
          "x": -1.624397503671472,
          "y": -0.5490971580300327
         },
         {
          "group": "sport",
          "x": -0.882250375777258,
          "y": -2.0679334132446328
         },
         {
          "group": "sport",
          "x": -0.8904043410699819,
          "y": -1.876147445516616
         },
         {
          "group": "sport",
          "x": -0.8890785519678953,
          "y": -1.744177203974815
         },
         {
          "group": "sport",
          "x": -1.2427060992101302,
          "y": -2.6785517723393477
         },
         {
          "group": "sport",
          "x": -0.8749463170797761,
          "y": -0.5244899730317445
         },
         {
          "group": "sport",
          "x": -1.7386789882875515,
          "y": 0.6837204741829066
         },
         {
          "group": "sport",
          "x": -1.3854847281773301,
          "y": 0.5347153616756354
         },
         {
          "group": "sport",
          "x": -2.278088125001685,
          "y": -0.726230633986972
         },
         {
          "group": "sport",
          "x": -0.14656027534197152,
          "y": -0.14859382016290035
         },
         {
          "group": "sport",
          "x": -0.9702535973258103,
          "y": 1.9051768784527159
         },
         {
          "group": "sport",
          "x": -1.1625524969570005,
          "y": 0.4213579298320628
         },
         {
          "group": "sport",
          "x": -1.0929043358206547,
          "y": -1.74797786160869
         },
         {
          "group": "sport",
          "x": -0.751794193602751,
          "y": -1.0915033349581387
         },
         {
          "group": "sport",
          "x": -0.5751389058858275,
          "y": 0.6886760155730748
         },
         {
          "group": "sport",
          "x": -0.7535967774324877,
          "y": 0.393050601586554
         },
         {
          "group": "sport",
          "x": -1.458675812041851,
          "y": 0.9738349888449122
         },
         {
          "group": "sport",
          "x": -1.7462482807301185,
          "y": -0.4794268313280307
         },
         {
          "group": "sport",
          "x": -0.8244128973818152,
          "y": -1.816871656512726
         },
         {
          "group": "sport",
          "x": -0.8741167091080279,
          "y": -1.664509368227859
         },
         {
          "group": "sport",
          "x": -0.8889488203905777,
          "y": -1.2678977421598454
         },
         {
          "group": "sport",
          "x": 0.027234841097609642,
          "y": -2.021098545087646
         },
         {
          "group": "sport",
          "x": -0.5738770997713062,
          "y": 0.322177798549649
         },
         {
          "group": "sport",
          "x": -1.9382923038577926,
          "y": -1.0164892297204298
         },
         {
          "group": "sport",
          "x": -0.9355699042069374,
          "y": 0.6217700299737433
         },
         {
          "group": "sport",
          "x": -1.559237192432027,
          "y": 1.0232716320472668
         },
         {
          "group": "sport",
          "x": -0.935936670567768,
          "y": -0.11154923237161062
         },
         {
          "group": "sport",
          "x": -0.7692943841509801,
          "y": 0.8038608744353876
         },
         {
          "group": "sport",
          "x": -1.2064022922576139,
          "y": -0.9361198063445161
         },
         {
          "group": "sport",
          "x": -1.1344895584751493,
          "y": 0.9186058593218047
         },
         {
          "group": "sport",
          "x": -0.3878758911884303,
          "y": -1.6699548618532047
         },
         {
          "group": "sport",
          "x": -1.1256548116713323,
          "y": 0.7734789331169714
         },
         {
          "group": "sport",
          "x": -1.326656205807621,
          "y": 1.086571407196401
         },
         {
          "group": "sport",
          "x": -1.2676099589010026,
          "y": -0.4350382547760058
         },
         {
          "group": "sport",
          "x": -0.09200081114394137,
          "y": -1.9570915093902004
         },
         {
          "group": "sport",
          "x": -1.1207045327615475,
          "y": 0.42127505587886954
         },
         {
          "group": "sport",
          "x": -1.0981218658065894,
          "y": 0.7944759970844449
         },
         {
          "group": "sport",
          "x": -1.7337013412454738,
          "y": 0.6336770240616065
         },
         {
          "group": "sport",
          "x": -0.5546642701773798,
          "y": -1.0212745198821762
         },
         {
          "group": "sport",
          "x": -1.5964229474396237,
          "y": 0.24343128969151628
         },
         {
          "group": "sport",
          "x": -0.5412543623877676,
          "y": -0.43286010251292006
         },
         {
          "group": "sport",
          "x": -1.5053447182515634,
          "y": -0.05765504437040536
         },
         {
          "group": "sport",
          "x": -0.216143680798254,
          "y": -1.0558694933210542
         },
         {
          "group": "sport",
          "x": -0.8624347104491672,
          "y": -0.38345104859489254
         },
         {
          "group": "sport",
          "x": -1.803308073895046,
          "y": -1.0397106508132363
         },
         {
          "group": "sport",
          "x": -1.151151735479512,
          "y": -0.4222109510111081
         },
         {
          "group": "sport",
          "x": -1.1380175443754306,
          "y": -1.1036843351656347
         },
         {
          "group": "sport",
          "x": -2.1809305912140022,
          "y": 0.3000013690885095
         },
         {
          "group": "sport",
          "x": -0.37355256970862677,
          "y": 0.18300069867420257
         },
         {
          "group": "sport",
          "x": -0.7190261331225957,
          "y": -0.3653954830484485
         },
         {
          "group": "sport",
          "x": -0.59270954069251,
          "y": -0.982265706875683
         },
         {
          "group": "sport",
          "x": -0.6126914516527874,
          "y": 2.8804296466999433
         },
         {
          "group": "sport",
          "x": -1.1731553147540121,
          "y": 1.1939698998097763
         },
         {
          "group": "sport",
          "x": -1.7036234503865422,
          "y": -1.2144860694358817
         },
         {
          "group": "sport",
          "x": -1.1082325428984787,
          "y": -0.006058273868986065
         },
         {
          "group": "sport",
          "x": -0.16400362741922506,
          "y": -2.3508965657764542
         },
         {
          "group": "sport",
          "x": -0.3929629826676021,
          "y": -1.842576081194495
         },
         {
          "group": "sport",
          "x": -0.8085238416780932,
          "y": -1.9077526453091558
         },
         {
          "group": "sport",
          "x": -0.7504267545283283,
          "y": -1.0440065990402292
         },
         {
          "group": "sport",
          "x": -2.3188949577184714,
          "y": 0.6906751307131135
         },
         {
          "group": "sport",
          "x": -1.135996052972659,
          "y": 0.5851276175387463
         },
         {
          "group": "sport",
          "x": -0.35209276435696873,
          "y": 0.05914731221633592
         },
         {
          "group": "sport",
          "x": -1.6396018453968686,
          "y": -0.5675480025808239
         },
         {
          "group": "sport",
          "x": -1.5680844561919325,
          "y": -0.7362676916498306
         },
         {
          "group": "sport",
          "x": -1.770635928511842,
          "y": 0.7497738643402196
         },
         {
          "group": "sport",
          "x": -1.7386293184548063,
          "y": -0.28775334193376356
         },
         {
          "group": "sport",
          "x": -1.2810569261765696,
          "y": -1.37969459494019
         },
         {
          "group": "sport",
          "x": -2.456703067526916,
          "y": 0.05008707812990869
         },
         {
          "group": "sport",
          "x": -2.4670822549768445,
          "y": -1.8212541217456437
         },
         {
          "group": "sport",
          "x": -0.9560896884267202,
          "y": 1.1733972665949344
         },
         {
          "group": "sport",
          "x": -2.545557626020702,
          "y": -1.3942365743356362
         },
         {
          "group": "sport",
          "x": -2.101490897967943,
          "y": 1.611838804275714
         },
         {
          "group": "sport",
          "x": -1.3197330560790927,
          "y": -0.6295865436004858
         },
         {
          "group": "sport",
          "x": -2.612143765579054,
          "y": 0.33379623229838296
         },
         {
          "group": "sport",
          "x": -1.78938075822393,
          "y": -0.22908793431698918
         },
         {
          "group": "sport",
          "x": -3.695852557818356,
          "y": 2.0762347496534526
         },
         {
          "group": "sport",
          "x": -1.3475071474900335,
          "y": -0.5466028755902752
         },
         {
          "group": "sport",
          "x": -2.9001184967424525,
          "y": -0.9599247080750556
         },
         {
          "group": "sport",
          "x": -1.4455688395190291,
          "y": 2.9956723200642412
         },
         {
          "group": "sport",
          "x": -2.889883274633617,
          "y": 1.1536943035561997
         },
         {
          "group": "sport",
          "x": -2.230766889201145,
          "y": 1.1504689752973432
         },
         {
          "group": "sport",
          "x": -2.1959457320391977,
          "y": 0.8532679600827423
         },
         {
          "group": "sport",
          "x": -2.1353793493144013,
          "y": -1.5487016783608611
         },
         {
          "group": "sport",
          "x": -2.6173708954357893,
          "y": -1.6871082470863297
         },
         {
          "group": "sport",
          "x": -2.5641304835368315,
          "y": -0.752396390548064
         },
         {
          "group": "sport",
          "x": -3.0321280779299733,
          "y": -0.5114082470268655
         },
         {
          "group": "sport",
          "x": -2.531277233160318,
          "y": 0.9898809694088302
         },
         {
          "group": "sport",
          "x": -1.8942724134388316,
          "y": -0.3814444578124899
         },
         {
          "group": "sport",
          "x": -2.9406426155231933,
          "y": 0.6040388577819367
         },
         {
          "group": "sport",
          "x": -1.518615237737589,
          "y": 1.0816709470893906
         },
         {
          "group": "sport",
          "x": -2.6066370800935736,
          "y": 0.3414891329614692
         },
         {
          "group": "sport",
          "x": -2.8381749315957894,
          "y": -0.028869605030381187
         },
         {
          "group": "sport",
          "x": -2.9761474029648234,
          "y": 0.22683321024894812
         },
         {
          "group": "sport",
          "x": -3.0587820529208734,
          "y": 2.6605175290989327
         },
         {
          "group": "sport",
          "x": -1.5744639418716995,
          "y": 1.1730901487211214
         },
         {
          "group": "sport",
          "x": -0.5489164668967987,
          "y": -0.8911929603386195
         },
         {
          "group": "sport",
          "x": -2.253179060642151,
          "y": 1.268567325658469
         },
         {
          "group": "sport",
          "x": -2.5536745093473834,
          "y": -0.904258108944634
         },
         {
          "group": "sport",
          "x": -1.9598239444296153,
          "y": 0.1355820866238763
         },
         {
          "group": "sport",
          "x": -2.6663175921972924,
          "y": -0.6086581529756047
         },
         {
          "group": "sport",
          "x": -1.7535818739754785,
          "y": 0.558924837997176
         },
         {
          "group": "sport",
          "x": -1.350331251559361,
          "y": -1.2628795729376683
         },
         {
          "group": "sport",
          "x": -1.8820596010548645,
          "y": 0.41895525380962645
         },
         {
          "group": "sport",
          "x": -2.1330444578513355,
          "y": 0.42238902716517074
         },
         {
          "group": "sport",
          "x": -0.7003322492812492,
          "y": 0.3864991226449026
         },
         {
          "group": "sport",
          "x": -1.425165396429336,
          "y": 1.8114573202155317
         },
         {
          "group": "sport",
          "x": -1.8834863554199957,
          "y": -0.9569941897323245
         },
         {
          "group": "sport",
          "x": -2.003165584614915,
          "y": 0.6813038736455721
         },
         {
          "group": "sport",
          "x": -2.0183526553976905,
          "y": 2.191961142982752
         },
         {
          "group": "sport",
          "x": -2.1107278699257557,
          "y": 0.4810922515493749
         },
         {
          "group": "sport",
          "x": -1.5315969420161328,
          "y": 0.4851566192665797
         },
         {
          "group": "sport",
          "x": -3.07188078482292,
          "y": 0.9895913807226576
         },
         {
          "group": "sport",
          "x": -1.8698563006636757,
          "y": 2.757263416588945
         },
         {
          "group": "sport",
          "x": -0.4443964878532067,
          "y": 1.3045496601117432
         },
         {
          "group": "sport",
          "x": -4.1435128438886775,
          "y": 0.9711503730783568
         },
         {
          "group": "sport",
          "x": -2.7357621728988453,
          "y": 2.2786908690565375
         },
         {
          "group": "sport",
          "x": -1.7653797749456794,
          "y": -2.4660554135027937
         },
         {
          "group": "sport",
          "x": -2.4855676227548393,
          "y": -0.026642881984003018
         },
         {
          "group": "sport",
          "x": -2.2282890707668743,
          "y": 0.6554783612422243
         },
         {
          "group": "sport",
          "x": -3.2085099750684383,
          "y": -0.9053503804294162
         },
         {
          "group": "sport",
          "x": -2.9191944834466463,
          "y": 4.161106570614313
         },
         {
          "group": "sport",
          "x": -2.0775466024779177,
          "y": -0.5580652110598451
         },
         {
          "group": "sport",
          "x": -1.9677952012375408,
          "y": -0.16881976672775917
         },
         {
          "group": "sport",
          "x": -1.9481414727230215,
          "y": -1.0276458181995172
         },
         {
          "group": "sport",
          "x": -2.1428959620431813,
          "y": -0.4605527187643214
         },
         {
          "group": "sport",
          "x": -0.6225878058904561,
          "y": 1.532115648248283
         },
         {
          "group": "sport",
          "x": -1.9818116266855446,
          "y": -0.280574844199177
         },
         {
          "group": "sport",
          "x": -1.61681812288067,
          "y": -0.3675512991113748
         },
         {
          "group": "sport",
          "x": -2.369944447311534,
          "y": 2.643279027524622
         },
         {
          "group": "sport",
          "x": -2.6969250224003365,
          "y": 1.624750514414243
         },
         {
          "group": "sport",
          "x": -3.5453816817717247,
          "y": 0.12661925568394852
         },
         {
          "group": "sport",
          "x": -1.7670922143792902,
          "y": -2.3743894791105964
         },
         {
          "group": "sport",
          "x": -2.6045788181410003,
          "y": 0.08500955712028045
         },
         {
          "group": "sport",
          "x": -3.1110964313288414,
          "y": 0.564057523916
         },
         {
          "group": "sport",
          "x": -1.1250029228602199,
          "y": -1.3155421983549
         },
         {
          "group": "sport",
          "x": -2.425904360751257,
          "y": 1.1063855449593458
         },
         {
          "group": "sport",
          "x": -0.017109733492877907,
          "y": -1.006000683654204
         },
         {
          "group": "sport",
          "x": -0.97015051603059,
          "y": -1.5921586237178047
         },
         {
          "group": "sport",
          "x": -2.7668276639126894,
          "y": 1.8303351385986601
         },
         {
          "group": "sport",
          "x": -1.4032821189427653,
          "y": 1.288303294533666
         },
         {
          "group": "sport",
          "x": -2.870857830357642,
          "y": 0.45498495286782303
         },
         {
          "group": "sport",
          "x": -3.118336840955381,
          "y": 1.0655527983044817
         },
         {
          "group": "sport",
          "x": -3.63230502338951,
          "y": 1.184651013666949
         },
         {
          "group": "sport",
          "x": -3.8001332976805937,
          "y": 2.193986930392408
         },
         {
          "group": "sport",
          "x": -1.7238608669289468,
          "y": -0.05659692821769185
         },
         {
          "group": "sport",
          "x": -2.4481025820282536,
          "y": 1.4528774992215936
         },
         {
          "group": "sport",
          "x": -1.9605783872957954,
          "y": 0.9961098400130111
         },
         {
          "group": "sport",
          "x": -2.572563021676165,
          "y": 0.8110277658016813
         },
         {
          "group": "sport",
          "x": -2.619415783543487,
          "y": 0.6511626801756228
         },
         {
          "group": "sport",
          "x": -1.033373238663126,
          "y": -0.547328823870765
         },
         {
          "group": "sport",
          "x": -1.4711905167902324,
          "y": 1.8675026950000142
         },
         {
          "group": "sport",
          "x": -2.209205808473391,
          "y": 1.427888804603678
         },
         {
          "group": "sport",
          "x": -1.5452177387508748,
          "y": -0.10275032285441488
         },
         {
          "group": "sport",
          "x": -2.014217623150958,
          "y": 1.1303489909666096
         },
         {
          "group": "sport",
          "x": -0.7495054900314373,
          "y": 0.38312352618801704
         },
         {
          "group": "sport",
          "x": -3.620538688368219,
          "y": 1.086012137952195
         },
         {
          "group": "sport",
          "x": -1.5906765954618423,
          "y": 2.0108790811999295
         },
         {
          "group": "sport",
          "x": -3.240979486582412,
          "y": 0.5992423464377187
         },
         {
          "group": "sport",
          "x": -2.3900851894459767,
          "y": -0.6295231207593014
         },
         {
          "group": "sport",
          "x": -2.6025415850073825,
          "y": -0.2892138327790539
         },
         {
          "group": "sport",
          "x": -2.6500181433858216,
          "y": 1.1404451696279156
         },
         {
          "group": "sport",
          "x": -2.1318208635432496,
          "y": 0.1268695817259208
         },
         {
          "group": "sport",
          "x": -2.7443132230920253,
          "y": -1.1363717480147306
         },
         {
          "group": "sport",
          "x": -3.5454584161125977,
          "y": 1.1899671475851672
         },
         {
          "group": "business",
          "x": -0.7166972625966497,
          "y": 0.07554253515896875
         },
         {
          "group": "business",
          "x": 0.10995704299870834,
          "y": 1.6681089442953394
         },
         {
          "group": "business",
          "x": -1.9182617836475797,
          "y": 2.4799323857935818
         },
         {
          "group": "business",
          "x": 0.6556484703894175,
          "y": 2.824053037782611
         },
         {
          "group": "business",
          "x": -1.0293201586275937,
          "y": -0.9443877881474957
         },
         {
          "group": "business",
          "x": -1.050260995820879,
          "y": 0.6753296208082624
         },
         {
          "group": "business",
          "x": -1.4126213546292228,
          "y": -1.8170049747092787
         },
         {
          "group": "business",
          "x": 1.133049413623321,
          "y": -2.1530722799672453
         },
         {
          "group": "business",
          "x": 1.6704119437593725,
          "y": 0.6698703981220697
         },
         {
          "group": "business",
          "x": 0.5918465988244969,
          "y": 0.05740199105214514
         },
         {
          "group": "business",
          "x": 1.856578834454537,
          "y": 0.745182363688249
         },
         {
          "group": "business",
          "x": 0.18480178468481742,
          "y": 0.3217884847661353
         },
         {
          "group": "business",
          "x": -0.1806895435313272,
          "y": -0.15145057089750585
         },
         {
          "group": "business",
          "x": -0.05777361115128437,
          "y": -0.23459825737284656
         },
         {
          "group": "business",
          "x": 0.32452120784838745,
          "y": -0.94498420297273
         },
         {
          "group": "business",
          "x": -0.07534515061645604,
          "y": -1.9616709123970466
         },
         {
          "group": "business",
          "x": 1.6385737875350397,
          "y": -0.099224459685652
         },
         {
          "group": "business",
          "x": 0.06033843151855101,
          "y": 0.26381269887690806
         },
         {
          "group": "business",
          "x": 0.6717087939050042,
          "y": -1.39531684794047
         },
         {
          "group": "business",
          "x": -0.45092562624878274,
          "y": -1.2761397533797407
         },
         {
          "group": "business",
          "x": 0.4247182276789042,
          "y": 1.685554736471901
         },
         {
          "group": "business",
          "x": 2.6383626183858593,
          "y": -1.876535269081868
         },
         {
          "group": "business",
          "x": 0.35477355070831046,
          "y": -0.7165358554606774
         },
         {
          "group": "business",
          "x": -0.6160014710077029,
          "y": -0.6809578497278082
         },
         {
          "group": "business",
          "x": 1.5391599469696544,
          "y": -1.6109293295476852
         },
         {
          "group": "business",
          "x": -0.15758275146438747,
          "y": -1.69099045805906
         },
         {
          "group": "business",
          "x": 2.7718015339762583,
          "y": -1.2320093437319901
         },
         {
          "group": "business",
          "x": 0.6886616266627887,
          "y": 0.8631182293588671
         },
         {
          "group": "business",
          "x": -0.33498581207268735,
          "y": -0.9473214464012761
         },
         {
          "group": "business",
          "x": 1.9996146761423386,
          "y": 0.3643253817283213
         },
         {
          "group": "business",
          "x": -0.575896364560327,
          "y": -0.0731843399540103
         },
         {
          "group": "business",
          "x": -0.4383947735756684,
          "y": 0.3753005697209296
         },
         {
          "group": "business",
          "x": 1.3833835548113544,
          "y": 0.2986211167188849
         },
         {
          "group": "business",
          "x": -0.018359179792986586,
          "y": 0.12268385397792361
         },
         {
          "group": "business",
          "x": -1.1239618734415278,
          "y": -0.13146231419310436
         },
         {
          "group": "business",
          "x": 0.5432342781661977,
          "y": 1.7117473757460449
         },
         {
          "group": "business",
          "x": 1.1492490632045902,
          "y": 1.1694082930447518
         },
         {
          "group": "business",
          "x": 0.19273023388704752,
          "y": -0.46307878876440317
         },
         {
          "group": "business",
          "x": 0.1724190338277252,
          "y": -0.9835112539566523
         },
         {
          "group": "business",
          "x": 1.0947278566645333,
          "y": -0.8360946314866117
         },
         {
          "group": "business",
          "x": 1.5186607450412917,
          "y": -0.2819953328809623
         },
         {
          "group": "business",
          "x": -2.032509145893319,
          "y": -0.16154366861318523
         },
         {
          "group": "business",
          "x": 0.6004017783659186,
          "y": -0.6250237991772097
         },
         {
          "group": "business",
          "x": 1.3265512658910663,
          "y": 1.5671390986396458
         },
         {
          "group": "business",
          "x": -0.3653538851043048,
          "y": -2.0658108863233173
         },
         {
          "group": "business",
          "x": 0.7362281405521351,
          "y": 2.906857889515702
         },
         {
          "group": "business",
          "x": 1.2580659254707351,
          "y": 1.1915716037170958
         },
         {
          "group": "business",
          "x": 2.0905644207145815,
          "y": -2.6766120127881896
         },
         {
          "group": "business",
          "x": -0.10669904727521089,
          "y": 0.06683783280467889
         },
         {
          "group": "business",
          "x": 0.7214990394264783,
          "y": -1.5018982130275884
         },
         {
          "group": "business",
          "x": -1.2950754235366544,
          "y": -0.2629415126811331
         },
         {
          "group": "business",
          "x": -0.5377933485529598,
          "y": 0.6670049825963528
         },
         {
          "group": "business",
          "x": 0.3644264114497971,
          "y": 0.7008959287748424
         },
         {
          "group": "business",
          "x": -1.1801096893385161,
          "y": -1.327858108237601
         },
         {
          "group": "business",
          "x": 1.7455638247827234,
          "y": 1.9175379143384073
         },
         {
          "group": "business",
          "x": -0.4947060934673549,
          "y": 1.1209984702737517
         },
         {
          "group": "business",
          "x": -0.006935735431525651,
          "y": 1.5006178214651156
         },
         {
          "group": "business",
          "x": 0.6800863034473945,
          "y": -0.17102798911965264
         },
         {
          "group": "business",
          "x": 0.13421655688767933,
          "y": -2.142292450625595
         },
         {
          "group": "business",
          "x": 0.4076086494514448,
          "y": -0.6182474708194156
         },
         {
          "group": "business",
          "x": 2.108737142957895,
          "y": 0.2600899985653693
         },
         {
          "group": "business",
          "x": 0.27810226472810806,
          "y": 0.6409160762631912
         },
         {
          "group": "business",
          "x": -0.837278791602928,
          "y": -0.5857237140817609
         },
         {
          "group": "business",
          "x": -0.7487845176760044,
          "y": 1.800684504625583
         },
         {
          "group": "business",
          "x": -0.14628935793974837,
          "y": 2.381072788046801
         },
         {
          "group": "business",
          "x": 0.7714707196999706,
          "y": -0.3147402919913079
         },
         {
          "group": "business",
          "x": 0.7389429709286535,
          "y": 1.037847383716185
         },
         {
          "group": "business",
          "x": 0.6554966931643524,
          "y": -0.03991950676848543
         },
         {
          "group": "business",
          "x": -0.4632483279718999,
          "y": 1.8710095044450035
         },
         {
          "group": "business",
          "x": 0.051825383034667535,
          "y": -1.064897582046222
         },
         {
          "group": "business",
          "x": -0.9675088258787391,
          "y": 0.6539608523471004
         },
         {
          "group": "business",
          "x": -0.23557958698368275,
          "y": 1.8961178331164052
         },
         {
          "group": "business",
          "x": 2.3412592758040374,
          "y": -0.30450674026942287
         },
         {
          "group": "business",
          "x": -0.7535716012978647,
          "y": -0.04065944685478156
         },
         {
          "group": "business",
          "x": -2.0254673465916926,
          "y": 1.2744077337826687
         },
         {
          "group": "business",
          "x": -0.9539866608951624,
          "y": -0.6289497027334159
         },
         {
          "group": "business",
          "x": 1.2633949530763275,
          "y": 0.7801100126451634
         },
         {
          "group": "business",
          "x": 1.5301946460829288,
          "y": 1.2461737978645713
         },
         {
          "group": "business",
          "x": 0.3179357607287333,
          "y": -0.867062175250252
         },
         {
          "group": "business",
          "x": 0.07123142958008825,
          "y": 2.3119223844541765
         },
         {
          "group": "business",
          "x": 0.33324017025548136,
          "y": -0.4200532870750695
         },
         {
          "group": "business",
          "x": 1.3663920284436504,
          "y": 0.8481726691911348
         },
         {
          "group": "business",
          "x": 1.2720844824665603,
          "y": 0.9118522659028425
         },
         {
          "group": "business",
          "x": 1.8089243988231292,
          "y": -0.4286416749830606
         },
         {
          "group": "business",
          "x": -0.8733417117478903,
          "y": -0.5009384369846696
         },
         {
          "group": "business",
          "x": -0.11075045977965825,
          "y": -0.24333996091708213
         },
         {
          "group": "business",
          "x": 1.9487547136868912,
          "y": -2.379785894394714
         },
         {
          "group": "business",
          "x": -0.10138647634714258,
          "y": -2.4458604828073556
         },
         {
          "group": "business",
          "x": 1.351518766814847,
          "y": -0.5405755944400763
         },
         {
          "group": "business",
          "x": 1.2421890920166603,
          "y": 0.17886850497597342
         },
         {
          "group": "business",
          "x": -1.3533945468254287,
          "y": 0.11859899497868848
         },
         {
          "group": "business",
          "x": 3.17153670636493,
          "y": 0.2259720300895495
         },
         {
          "group": "business",
          "x": -0.6567044192799404,
          "y": -1.5588434039535615
         },
         {
          "group": "business",
          "x": 0.2844088761530067,
          "y": -1.1289946247512184
         },
         {
          "group": "business",
          "x": 0.6069042656369166,
          "y": 0.8204958588109026
         },
         {
          "group": "business",
          "x": -1.834162355753226,
          "y": 1.086879323058082
         },
         {
          "group": "business",
          "x": -0.3799200373109052,
          "y": -0.7220505933126778
         },
         {
          "group": "business",
          "x": -0.836178099762823,
          "y": -1.5269125904124297
         },
         {
          "group": "business",
          "x": 0.6465634133280591,
          "y": 0.6713301160162216
         },
         {
          "group": "business",
          "x": -0.1697041884574397,
          "y": -2.0666430170709473
         },
         {
          "group": "business",
          "x": 1.0922555070749107,
          "y": -1.2655415009543685
         },
         {
          "group": "business",
          "x": 1.7689858085077481,
          "y": 1.76493326753537
         },
         {
          "group": "business",
          "x": -0.5958392924220652,
          "y": 0.38633252460237694
         },
         {
          "group": "business",
          "x": 1.370621347732658,
          "y": -0.2044260948218319
         },
         {
          "group": "business",
          "x": -0.5755265137702332,
          "y": -1.2256450718891752
         },
         {
          "group": "business",
          "x": 0.02736942402576269,
          "y": 0.6649203301812009
         },
         {
          "group": "business",
          "x": 1.3651600638908232,
          "y": -0.33689705069933945
         },
         {
          "group": "business",
          "x": 0.49059167810301535,
          "y": 0.20760542413268324
         },
         {
          "group": "business",
          "x": -0.38586831440347547,
          "y": 0.4718144417787755
         },
         {
          "group": "business",
          "x": -0.2685108413518751,
          "y": -0.1026436745524081
         },
         {
          "group": "business",
          "x": 0.542601884100206,
          "y": -0.5554588215895682
         },
         {
          "group": "business",
          "x": -1.4943506595021447,
          "y": -1.4812907047179271
         },
         {
          "group": "business",
          "x": 0.9905057088128579,
          "y": -0.7419575283226346
         },
         {
          "group": "business",
          "x": 0.05443819713578195,
          "y": -0.3778792053700393
         },
         {
          "group": "business",
          "x": -0.40719167225547787,
          "y": 0.657763777918722
         },
         {
          "group": "business",
          "x": 0.20727641798732252,
          "y": 1.2890582402354553
         },
         {
          "group": "business",
          "x": -1.576493999181753,
          "y": 0.036773733241723595
         },
         {
          "group": "business",
          "x": -0.351509706160424,
          "y": 0.6874223895482653
         },
         {
          "group": "business",
          "x": 0.8361831189758873,
          "y": 2.2742032633155165
         },
         {
          "group": "business",
          "x": 1.453625058789634,
          "y": 0.8272522927969052
         },
         {
          "group": "business",
          "x": 1.3222819417733673,
          "y": -0.4593743538750257
         },
         {
          "group": "business",
          "x": -2.198063092692398,
          "y": -2.1704736884110853
         },
         {
          "group": "business",
          "x": 0.2414238643963646,
          "y": -1.33399849374079
         },
         {
          "group": "business",
          "x": 0.5405886819279789,
          "y": 0.5476503867530531
         },
         {
          "group": "business",
          "x": -1.3513802161763298,
          "y": -0.9690467839386739
         },
         {
          "group": "business",
          "x": -0.9463690523210816,
          "y": -0.6288778689554707
         },
         {
          "group": "business",
          "x": -0.013537232803936514,
          "y": 0.2069982355078822
         },
         {
          "group": "business",
          "x": -0.32951333386140613,
          "y": 0.15054953735705742
         },
         {
          "group": "business",
          "x": -1.0410489034521122,
          "y": 0.14582180398224093
         },
         {
          "group": "business",
          "x": 0.5974131179244961,
          "y": 0.3813985395684327
         },
         {
          "group": "business",
          "x": 0.6435964492765056,
          "y": 1.0135008165810877
         },
         {
          "group": "business",
          "x": 0.4233612608386032,
          "y": 0.3751932450775869
         },
         {
          "group": "business",
          "x": 2.00739758539645,
          "y": -0.9425325666650753
         },
         {
          "group": "business",
          "x": 1.928662016388564,
          "y": 0.014736930074240094
         },
         {
          "group": "business",
          "x": -0.3710921131987962,
          "y": 1.0787520915695685
         },
         {
          "group": "business",
          "x": 0.9760635201339644,
          "y": 2.60414333147945
         },
         {
          "group": "business",
          "x": 1.925489332261982,
          "y": -0.054071300701702546
         },
         {
          "group": "business",
          "x": -0.8666137958063028,
          "y": 0.0025127234297483265
         },
         {
          "group": "business",
          "x": 1.6680953388127984,
          "y": -1.003851449924196
         },
         {
          "group": "business",
          "x": -0.47291788803399254,
          "y": 1.7375203136539064
         },
         {
          "group": "business",
          "x": 1.996115931066483,
          "y": -0.59142312426722
         },
         {
          "group": "business",
          "x": 1.5021778688067673,
          "y": 2.1581489903064845
         },
         {
          "group": "business",
          "x": 0.6012209581930963,
          "y": 0.49896901901769874
         },
         {
          "group": "business",
          "x": -0.5284971037196526,
          "y": -1.3280838817576643
         },
         {
          "group": "business",
          "x": -0.8972163008358803,
          "y": 1.727246416476223
         },
         {
          "group": "business",
          "x": 1.7826509689454397,
          "y": 0.7841747489234862
         },
         {
          "group": "business",
          "x": 0.9089084581124421,
          "y": -1.0750708251295962
         },
         {
          "group": "business",
          "x": 1.441174033907072,
          "y": -0.4853016250277833
         },
         {
          "group": "business",
          "x": 0.7238524102867098,
          "y": -0.2251320292945871
         },
         {
          "group": "business",
          "x": -0.458553132343496,
          "y": -0.5178580121940944
         },
         {
          "group": "business",
          "x": 0.24893607483384575,
          "y": 3.127998732699973
         },
         {
          "group": "business",
          "x": -1.0135599295029298,
          "y": 0.5615681542504545
         },
         {
          "group": "business",
          "x": 1.5547354680541237,
          "y": 0.16051984726894047
         },
         {
          "group": "business",
          "x": -0.5699095377677232,
          "y": 0.14225896032338547
         },
         {
          "group": "business",
          "x": -0.2853396183896945,
          "y": -3.462990316597102
         },
         {
          "group": "business",
          "x": -0.26431715743539314,
          "y": -1.324232093345032
         },
         {
          "group": "business",
          "x": 0.641405718757766,
          "y": 0.7391178937788307
         },
         {
          "group": "business",
          "x": 1.4553389526091591,
          "y": -0.3863342494513485
         },
         {
          "group": "business",
          "x": -0.8532872033963242,
          "y": 1.1904822987797739
         },
         {
          "group": "business",
          "x": -0.7901018914099142,
          "y": 0.7030178870346342
         },
         {
          "group": "business",
          "x": -0.4531312744909725,
          "y": -1.5359687497252354
         },
         {
          "group": "business",
          "x": 0.9475353348412928,
          "y": -0.25975785164875004
         },
         {
          "group": "business",
          "x": -1.0835422700042145,
          "y": 0.9856764141774568
         },
         {
          "group": "business",
          "x": 2.718891385942689,
          "y": 0.39183547198627117
         },
         {
          "group": "business",
          "x": 2.847035769716117,
          "y": 1.3221149085644741
         },
         {
          "group": "business",
          "x": 0.8494277418105824,
          "y": 2.777782573372185
         },
         {
          "group": "business",
          "x": 0.2592255715974535,
          "y": -0.2104975416789492
         },
         {
          "group": "business",
          "x": -0.74920047035091,
          "y": 0.5247154124754051
         },
         {
          "group": "business",
          "x": 0.37271152071319086,
          "y": -0.4744910529401557
         },
         {
          "group": "business",
          "x": 2.1792994982633784,
          "y": 0.594532861440708
         },
         {
          "group": "business",
          "x": -1.3542143625496599,
          "y": 1.4707641183709785
         },
         {
          "group": "business",
          "x": 0.582424796603685,
          "y": -0.005328321545396076
         },
         {
          "group": "business",
          "x": -1.267829662908832,
          "y": -0.3555684951845872
         },
         {
          "group": "business",
          "x": 0.4796879766820064,
          "y": 0.3064962862753039
         },
         {
          "group": "business",
          "x": 1.6314814321714115,
          "y": 0.9367128238284326
         },
         {
          "group": "business",
          "x": -1.8167065714244142,
          "y": 1.3884866977991732
         },
         {
          "group": "business",
          "x": 1.0982631790703499,
          "y": -0.8036435262821695
         },
         {
          "group": "business",
          "x": 1.9000569065117,
          "y": 0.6619575590273827
         },
         {
          "group": "business",
          "x": 0.26156420387054313,
          "y": 0.9661834169904879
         },
         {
          "group": "business",
          "x": 1.4796960021314982,
          "y": -1.299948812479566
         },
         {
          "group": "business",
          "x": 0.34476786393786535,
          "y": 0.9344261464347198
         },
         {
          "group": "business",
          "x": 0.2291914868176721,
          "y": 1.8461086071104202
         },
         {
          "group": "business",
          "x": 0.6114230935142699,
          "y": -0.12313563532236417
         },
         {
          "group": "business",
          "x": 0.42615941153723774,
          "y": 0.1635388387050058
         },
         {
          "group": "business",
          "x": 0.6958601504255308,
          "y": 0.7278362735657352
         },
         {
          "group": "business",
          "x": 0.07649438394870892,
          "y": 0.021737817553567178
         },
         {
          "group": "business",
          "x": 1.03939210468808,
          "y": 0.3199657007370607
         },
         {
          "group": "business",
          "x": -0.05218223210330268,
          "y": 0.2818536032518776
         },
         {
          "group": "business",
          "x": 0.4480176949583428,
          "y": -1.554229442851862
         },
         {
          "group": "business",
          "x": 2.092025941049789,
          "y": 0.617131022142445
         },
         {
          "group": "business",
          "x": -2.025716795115785,
          "y": -0.5705871449920484
         },
         {
          "group": "business",
          "x": -1.205982038491427,
          "y": 1.029686623368637
         },
         {
          "group": "business",
          "x": -0.11555333920814245,
          "y": 1.8691096354963899
         },
         {
          "group": "business",
          "x": 0.4905493780309918,
          "y": -0.6842595787830201
         },
         {
          "group": "business",
          "x": 0.48210935277460015,
          "y": -0.7967009196948176
         },
         {
          "group": "business",
          "x": -0.7685754943734302,
          "y": -0.10488117446385052
         },
         {
          "group": "business",
          "x": 0.2400779982445742,
          "y": -0.4782083793455747
         },
         {
          "group": "business",
          "x": -0.2848978512340156,
          "y": 1.2408056658622288
         },
         {
          "group": "business",
          "x": -0.010234048071968267,
          "y": -1.4890448744967129
         },
         {
          "group": "business",
          "x": 0.7836062728105035,
          "y": 0.06879729539912934
         },
         {
          "group": "business",
          "x": 2.0791955025529907,
          "y": -0.38446655209191133
         },
         {
          "group": "business",
          "x": 1.968677355253332,
          "y": -0.20793986576693047
         },
         {
          "group": "business",
          "x": 0.4792774097557507,
          "y": -2.610865005477645
         },
         {
          "group": "business",
          "x": 1.716385185982468,
          "y": 0.33805279152589207
         },
         {
          "group": "business",
          "x": -0.6634838039243666,
          "y": -0.592733011205622
         },
         {
          "group": "business",
          "x": 1.3507195978199058,
          "y": -0.6550457560196258
         },
         {
          "group": "business",
          "x": 0.4518847040360473,
          "y": -1.707760601038472
         },
         {
          "group": "business",
          "x": -1.1416685373260769,
          "y": -2.5058846625827775
         },
         {
          "group": "business",
          "x": 1.0989495334751191,
          "y": -0.21761881153763285
         },
         {
          "group": "business",
          "x": 0.3783007427908122,
          "y": -1.4830800186097362
         },
         {
          "group": "business",
          "x": -0.9879583673299006,
          "y": 0.18345977085387014
         },
         {
          "group": "business",
          "x": 0.43600711242740703,
          "y": 1.2368155984603342
         },
         {
          "group": "business",
          "x": 1.9642305354048815,
          "y": -1.9801360169395663
         },
         {
          "group": "business",
          "x": 1.2054487442765816,
          "y": -1.1459319565211759
         },
         {
          "group": "business",
          "x": 1.0173492953672594,
          "y": 1.0072606496583816
         },
         {
          "group": "business",
          "x": 0.323851594176732,
          "y": 0.24347472424177052
         },
         {
          "group": "business",
          "x": 1.106707285850218,
          "y": 1.2713499505898596
         },
         {
          "group": "business",
          "x": -0.5518896040788074,
          "y": 1.1170686332865325
         },
         {
          "group": "business",
          "x": 2.230839894127473,
          "y": 0.21695946590566073
         },
         {
          "group": "business",
          "x": 1.1796378963430192,
          "y": -0.42675829451516745
         },
         {
          "group": "business",
          "x": 0.4329746550576004,
          "y": 0.24500619798728623
         },
         {
          "group": "business",
          "x": 1.968878701064882,
          "y": -0.9612016987782269
         },
         {
          "group": "business",
          "x": -0.7725416454230601,
          "y": 0.06836975327330153
         },
         {
          "group": "business",
          "x": 1.2443451325920591,
          "y": 2.6297517143898244
         },
         {
          "group": "business",
          "x": -0.1571134900591739,
          "y": 0.42653792616534786
         },
         {
          "group": "business",
          "x": 0.1317058544502033,
          "y": -2.1888019936646046
         },
         {
          "group": "business",
          "x": 0.3504557118884275,
          "y": 0.8187867451698401
         },
         {
          "group": "business",
          "x": -0.2442444953026182,
          "y": 1.3923278818453162
         },
         {
          "group": "business",
          "x": 1.9350899901902914,
          "y": -0.4067004976151513
         },
         {
          "group": "business",
          "x": -0.8520422832887207,
          "y": -1.008124611607869
         },
         {
          "group": "business",
          "x": -0.04328459016756917,
          "y": 0.5774570552153042
         },
         {
          "group": "business",
          "x": 1.4058660878569935,
          "y": -0.04247052211806768
         },
         {
          "group": "business",
          "x": 1.2146681652020843,
          "y": 0.8726911966418455
         },
         {
          "group": "business",
          "x": 1.5731044903232816,
          "y": -0.6258490980042999
         },
         {
          "group": "business",
          "x": 0.3457208425502031,
          "y": 0.44254894449738363
         },
         {
          "group": "business",
          "x": 1.1421856935155634,
          "y": -0.18700944456282867
         },
         {
          "group": "business",
          "x": 1.6888797415293453,
          "y": -0.569384809218678
         },
         {
          "group": "business",
          "x": 0.32050635798744226,
          "y": 1.5015073422765788
         },
         {
          "group": "business",
          "x": 1.717916103231623,
          "y": 1.0439669031912586
         },
         {
          "group": "business",
          "x": -1.0623224369060058,
          "y": 0.6970765084933034
         },
         {
          "group": "business",
          "x": 0.7742080080197026,
          "y": -0.799190860953007
         },
         {
          "group": "business",
          "x": -0.611673323922563,
          "y": -1.2961765964766083
         },
         {
          "group": "business",
          "x": 0.0406716366818745,
          "y": 1.9342907256871884
         },
         {
          "group": "business",
          "x": 0.37955910636830736,
          "y": -0.6685763794240004
         },
         {
          "group": "business",
          "x": 0.9651175894656732,
          "y": 0.8632576709859721
         },
         {
          "group": "business",
          "x": -0.1920591748676223,
          "y": 0.18805195705806865
         },
         {
          "group": "business",
          "x": -0.05383354363906233,
          "y": 2.014809659587243
         },
         {
          "group": "business",
          "x": -0.3584332074336961,
          "y": 1.7921311570325644
         },
         {
          "group": "business",
          "x": 0.8942189025519656,
          "y": 0.694267754180074
         },
         {
          "group": "business",
          "x": -0.6116132383879993,
          "y": -1.08770529682072
         },
         {
          "group": "business",
          "x": 2.1580256994961755,
          "y": -0.6834418234638292
         },
         {
          "group": "business",
          "x": 1.1340090254509183,
          "y": -0.7803303960157733
         },
         {
          "group": "business",
          "x": 1.1647462040070127,
          "y": 0.9896799172526709
         },
         {
          "group": "business",
          "x": 1.016720588999193,
          "y": 0.9642588829369998
         },
         {
          "group": "business",
          "x": 1.8216756377065422,
          "y": -0.4279335752711421
         },
         {
          "group": "business",
          "x": 0.003160715510961986,
          "y": -1.0277314091935723
         },
         {
          "group": "business",
          "x": 0.7686753724469078,
          "y": -1.0470082967025012
         },
         {
          "group": "business",
          "x": 1.547286691629989,
          "y": -1.2156930186604802
         },
         {
          "group": "business",
          "x": 0.8126070666590235,
          "y": 1.5067181777597407
         },
         {
          "group": "business",
          "x": 0.26893274347520946,
          "y": -1.7090945976380607
         },
         {
          "group": "business",
          "x": -0.5673557857627032,
          "y": -1.5612201007691888
         },
         {
          "group": "business",
          "x": -0.20681746495687192,
          "y": 0.5285129625513364
         },
         {
          "group": "business",
          "x": -0.051165606028132235,
          "y": 0.5793485309405343
         },
         {
          "group": "business",
          "x": 2.314524559340467,
          "y": -1.1408895447391645
         },
         {
          "group": "business",
          "x": 1.3429805092913842,
          "y": 0.8064730859119544
         },
         {
          "group": "business",
          "x": 0.8878900090894944,
          "y": -2.0940818910707555
         },
         {
          "group": "business",
          "x": 2.694623580700571,
          "y": -1.191600482615569
         },
         {
          "group": "business",
          "x": 0.5090715481492832,
          "y": 0.7340511395042876
         },
         {
          "group": "business",
          "x": -0.8787737514473967,
          "y": -0.04022351802915368
         },
         {
          "group": "business",
          "x": 1.7734718221096117,
          "y": -0.3574153232300735
         },
         {
          "group": "business",
          "x": -0.15800700794570333,
          "y": -1.232735403336234
         },
         {
          "group": "business",
          "x": -0.6157254162670845,
          "y": 1.660464206272497
         },
         {
          "group": "business",
          "x": -1.1799230151971367,
          "y": 0.9937448739780468
         },
         {
          "group": "business",
          "x": 1.7721523399589754,
          "y": 1.433450686816766
         },
         {
          "group": "business",
          "x": 0.7333450543428172,
          "y": 0.13963822302144757
         },
         {
          "group": "business",
          "x": -1.4642349782570216,
          "y": -0.7142102958873637
         },
         {
          "group": "business",
          "x": 3.9475920857612112,
          "y": 3.1513141606030834
         },
         {
          "group": "business",
          "x": -0.6782845350257697,
          "y": 1.0603449671764986
         },
         {
          "group": "business",
          "x": 1.848461401025604,
          "y": -1.2215291953907341
         },
         {
          "group": "business",
          "x": -0.7283297425001922,
          "y": 2.147796449414209
         },
         {
          "group": "business",
          "x": 1.2901411326066823,
          "y": 0.9913027485105959
         },
         {
          "group": "business",
          "x": 1.2285657668476946,
          "y": 0.6048069934357704
         },
         {
          "group": "business",
          "x": 0.6230622768023284,
          "y": -0.27324308377944906
         },
         {
          "group": "business",
          "x": 0.2547228615006309,
          "y": -1.1699351274937797
         },
         {
          "group": "business",
          "x": -1.9857420165283384,
          "y": 0.19907008757475966
         },
         {
          "group": "business",
          "x": 1.3037809575530608,
          "y": -0.0567108230561415
         },
         {
          "group": "business",
          "x": 0.34960913678651834,
          "y": -0.4463746253380349
         },
         {
          "group": "business",
          "x": -0.9972163696562414,
          "y": -2.0467301994228535
         },
         {
          "group": "business",
          "x": 0.608184487107515,
          "y": 1.1705805576736183
         },
         {
          "group": "business",
          "x": -0.38422542173102925,
          "y": -0.9327648982699787
         },
         {
          "group": "business",
          "x": 0.6105197412077882,
          "y": -0.8523272848491642
         },
         {
          "group": "business",
          "x": 0.5403491829185921,
          "y": -0.33416233875981705
         },
         {
          "group": "business",
          "x": 0.5885928618684637,
          "y": -0.08669503067150496
         },
         {
          "group": "business",
          "x": 0.7894236137484394,
          "y": -0.4985016393565368
         },
         {
          "group": "business",
          "x": -0.5076524904127818,
          "y": 0.4823439690444127
         },
         {
          "group": "business",
          "x": 1.417656954795749,
          "y": -0.3162422004322827
         },
         {
          "group": "business",
          "x": -0.5101522530424889,
          "y": 0.5001622293666818
         },
         {
          "group": "business",
          "x": 1.0788267555038449,
          "y": 0.7291725264708875
         },
         {
          "group": "business",
          "x": 1.009649116132911,
          "y": 1.103019716449974
         },
         {
          "group": "business",
          "x": 1.6543321523230274,
          "y": -2.2386007144520796
         },
         {
          "group": "business",
          "x": -0.3676134447113731,
          "y": 0.04317091548028624
         },
         {
          "group": "business",
          "x": 0.32235338748550235,
          "y": -1.1952573030973543
         },
         {
          "group": "business",
          "x": 1.816165594994704,
          "y": -1.6286426622620251
         },
         {
          "group": "business",
          "x": 0.8634431278177646,
          "y": -0.05580378632345582
         },
         {
          "group": "business",
          "x": 0.9943907435498719,
          "y": -1.1557712269347507
         },
         {
          "group": "business",
          "x": 0.9433272547057442,
          "y": 0.5013852750641218
         },
         {
          "group": "business",
          "x": 0.09837966091709308,
          "y": 0.9264585540705339
         },
         {
          "group": "business",
          "x": 0.9045082794022047,
          "y": -0.013462271008838837
         },
         {
          "group": "business",
          "x": 0.4351412065939867,
          "y": -0.4989100453874057
         },
         {
          "group": "business",
          "x": -2.6366263262501217,
          "y": -0.8530690161186013
         },
         {
          "group": "business",
          "x": 0.34036239227005644,
          "y": -0.8800286445265815
         },
         {
          "group": "business",
          "x": 0.9664489841950107,
          "y": 0.9855052104848993
         },
         {
          "group": "business",
          "x": 3.210039384693465,
          "y": -0.14141358069525892
         },
         {
          "group": "business",
          "x": -0.6203945315077822,
          "y": -2.522804625528539
         },
         {
          "group": "business",
          "x": 0.13781341589339322,
          "y": 0.68280268344353
         },
         {
          "group": "business",
          "x": -3.706031787123199,
          "y": -0.6800724843865842
         },
         {
          "group": "business",
          "x": 0.22769465151353,
          "y": -0.2895505020216456
         },
         {
          "group": "business",
          "x": 1.5365332346586,
          "y": -2.1132547300417426
         },
         {
          "group": "business",
          "x": -0.2571380944963834,
          "y": 1.052392978734004
         },
         {
          "group": "business",
          "x": 0.801682462708701,
          "y": -0.3093446430267672
         },
         {
          "group": "business",
          "x": 0.1172278940675895,
          "y": -0.6574583724680955
         },
         {
          "group": "business",
          "x": 0.8878553498649648,
          "y": 0.8065920182425669
         },
         {
          "group": "business",
          "x": 1.4517628186390659,
          "y": 0.02671396526932742
         },
         {
          "group": "business",
          "x": 0.6383248620527794,
          "y": -2.5965537750804604
         },
         {
          "group": "business",
          "x": -0.78969160701046,
          "y": 0.8906655148728736
         },
         {
          "group": "business",
          "x": 0.07179063191639459,
          "y": 1.163103257018887
         },
         {
          "group": "business",
          "x": 0.03806319751738626,
          "y": -0.9380625658005369
         },
         {
          "group": "business",
          "x": 1.163840617761598,
          "y": -0.6999306064280261
         },
         {
          "group": "business",
          "x": 0.47298961389057353,
          "y": -1.5813137111734672
         },
         {
          "group": "business",
          "x": 0.7101853153989903,
          "y": 0.24306549327197882
         },
         {
          "group": "business",
          "x": -0.09028611896408449,
          "y": 0.7292561297471281
         },
         {
          "group": "business",
          "x": 1.8190794878849543,
          "y": -1.0440092824916487
         },
         {
          "group": "business",
          "x": 2.1863044478260516,
          "y": 1.0995657513478505
         },
         {
          "group": "business",
          "x": -1.0936335102356767,
          "y": -0.9502447546621282
         },
         {
          "group": "business",
          "x": 2.1215237074519875,
          "y": -0.5722093472437972
         },
         {
          "group": "business",
          "x": 1.368820520348184,
          "y": -1.1648827148508394
         },
         {
          "group": "business",
          "x": -0.16540232804540617,
          "y": 1.1136772577411909
         },
         {
          "group": "business",
          "x": 0.37586057800552586,
          "y": -0.8243473556173495
         },
         {
          "group": "business",
          "x": 1.117905148216931,
          "y": -0.28685785935360064
         },
         {
          "group": "business",
          "x": 1.067019304114503,
          "y": -0.7500878623312195
         },
         {
          "group": "business",
          "x": 0.2202597579649742,
          "y": 0.043466150304222226
         },
         {
          "group": "business",
          "x": -0.0008718827490320764,
          "y": 0.7389558943262263
         },
         {
          "group": "business",
          "x": 0.17195272180327945,
          "y": 0.5450528723789524
         },
         {
          "group": "business",
          "x": -0.49662542951567323,
          "y": 2.496212277633104
         },
         {
          "group": "business",
          "x": -0.30954190043829216,
          "y": 0.39491225408809755
         },
         {
          "group": "business",
          "x": -0.4387265500655692,
          "y": 1.132708679704475
         },
         {
          "group": "business",
          "x": -0.9894896749737158,
          "y": 1.0645835597508144
         },
         {
          "group": "business",
          "x": 1.3965480729595452,
          "y": 0.29237090184504694
         },
         {
          "group": "business",
          "x": 0.7801988272759321,
          "y": 0.3053571004089825
         },
         {
          "group": "business",
          "x": 0.9370902489925815,
          "y": 0.41528931626949
         },
         {
          "group": "business",
          "x": 0.8414499072986957,
          "y": 0.3116596985139976
         },
         {
          "group": "business",
          "x": -0.03299152796041658,
          "y": 1.796931453307444
         },
         {
          "group": "business",
          "x": -0.011212646662920238,
          "y": 0.23697275942445856
         },
         {
          "group": "business",
          "x": 0.7074998398070761,
          "y": -0.2781676256645794
         },
         {
          "group": "business",
          "x": 2.3747128060379628,
          "y": -0.5551488989914565
         },
         {
          "group": "business",
          "x": 0.9894697852674026,
          "y": -0.8996476488792237
         },
         {
          "group": "business",
          "x": -3.4087728636992467,
          "y": -1.0203832618069535
         },
         {
          "group": "business",
          "x": 0.4205391284742443,
          "y": -0.7960766513582609
         },
         {
          "group": "business",
          "x": 0.849406354891435,
          "y": 0.6133103293881388
         },
         {
          "group": "business",
          "x": -0.265806206274454,
          "y": -0.3629238514112017
         },
         {
          "group": "business",
          "x": 0.004095792152896269,
          "y": -0.43016502023343833
         },
         {
          "group": "business",
          "x": -0.9792062485824594,
          "y": -1.3497310292714164
         },
         {
          "group": "business",
          "x": 1.121835375490174,
          "y": -1.7646127931593854
         },
         {
          "group": "business",
          "x": -0.5074825941198131,
          "y": -0.13904819484396053
         },
         {
          "group": "business",
          "x": -0.6551397062207135,
          "y": 2.3914682891483685
         },
         {
          "group": "business",
          "x": -0.32354888843091845,
          "y": -0.5017534771799906
         },
         {
          "group": "business",
          "x": 0.9753085990090835,
          "y": -0.6586806526091444
         },
         {
          "group": "business",
          "x": 0.7311036405007705,
          "y": -1.3499318714587085
         },
         {
          "group": "business",
          "x": 0.7289033442070417,
          "y": 1.096921194533219
         },
         {
          "group": "business",
          "x": -0.12667008775127456,
          "y": -0.3378673605840178
         },
         {
          "group": "business",
          "x": 1.1037622632992068,
          "y": 0.8263896675959186
         },
         {
          "group": "business",
          "x": 2.071446277718137,
          "y": -0.25624322009037664
         },
         {
          "group": "business",
          "x": 1.1170425503555967,
          "y": -0.9207457793385899
         },
         {
          "group": "business",
          "x": 0.0570881719488443,
          "y": -0.46197805755033433
         },
         {
          "group": "business",
          "x": -1.6000989952429503,
          "y": 0.44551245839608855
         },
         {
          "group": "business",
          "x": 2.199266965336428,
          "y": -1.32025587178856
         },
         {
          "group": "business",
          "x": 1.750496059539414,
          "y": 0.508901351608005
         },
         {
          "group": "business",
          "x": 0.020714118682337277,
          "y": -1.690550279058654
         },
         {
          "group": "business",
          "x": 1.2261135706965656,
          "y": 1.0681071513116636
         },
         {
          "group": "business",
          "x": -0.05090179074320773,
          "y": 0.3536009835822301
         },
         {
          "group": "business",
          "x": 0.22701935003647322,
          "y": -0.7618087364409403
         },
         {
          "group": "business",
          "x": 0.9057842890602046,
          "y": 0.6489351913323296
         },
         {
          "group": "business",
          "x": 2.0049129198882105,
          "y": 1.2677991399447734
         },
         {
          "group": "business",
          "x": 0.8452029379187974,
          "y": -0.46790472367249164
         },
         {
          "group": "business",
          "x": 1.1977301807773115,
          "y": 2.2084975314298463
         },
         {
          "group": "business",
          "x": 1.0623663967275636,
          "y": -0.4484890590831294
         },
         {
          "group": "business",
          "x": 1.1574348048746275,
          "y": -2.30648549683311
         },
         {
          "group": "business",
          "x": 0.5501852528233592,
          "y": 0.9608782704993785
         },
         {
          "group": "business",
          "x": -1.6595096838256669,
          "y": -1.2576777104682804
         },
         {
          "group": "business",
          "x": 2.3058811799281056,
          "y": -0.11144869337629762
         },
         {
          "group": "business",
          "x": 1.4422288678085522,
          "y": -0.3145278151136114
         },
         {
          "group": "business",
          "x": 1.5829197095723095,
          "y": -0.4288750869820984
         },
         {
          "group": "business",
          "x": -0.7383595983435127,
          "y": 2.508401920934624
         },
         {
          "group": "business",
          "x": -0.7176306375869382,
          "y": 1.1900968508528864
         },
         {
          "group": "business",
          "x": 0.00296072803287878,
          "y": 1.7103787942745363
         },
         {
          "group": "business",
          "x": 0.44401540162581843,
          "y": 0.881656347483645
         },
         {
          "group": "business",
          "x": 0.4939543107751022,
          "y": 0.08084485088289514
         },
         {
          "group": "business",
          "x": 0.8679685648741053,
          "y": 1.5307962096227166
         },
         {
          "group": "business",
          "x": -0.18942459862213978,
          "y": 0.4365009346018508
         },
         {
          "group": "business",
          "x": -0.8444165782785733,
          "y": 0.9431296376741669
         },
         {
          "group": "business",
          "x": 1.815099048014049,
          "y": 0.7488504331859411
         },
         {
          "group": "business",
          "x": -0.5224576847176592,
          "y": -0.561217270601561
         },
         {
          "group": "business",
          "x": 0.702610594180089,
          "y": -2.4947855210371905
         },
         {
          "group": "business",
          "x": 1.359562609628965,
          "y": 0.4139193091912654
         },
         {
          "group": "business",
          "x": 0.26285584271940204,
          "y": -0.5083915537397137
         },
         {
          "group": "business",
          "x": -0.4113809279776216,
          "y": 1.0900362372806434
         },
         {
          "group": "business",
          "x": -0.268016864880781,
          "y": -1.7269176966815172
         },
         {
          "group": "business",
          "x": 0.8711468257102352,
          "y": 1.0667460009396452
         },
         {
          "group": "business",
          "x": 1.2539943051139026,
          "y": -0.6025265820233822
         },
         {
          "group": "business",
          "x": 2.0875262433168618,
          "y": -1.7311981738891011
         },
         {
          "group": "business",
          "x": -0.8874114059333034,
          "y": -0.38935310942664997
         },
         {
          "group": "business",
          "x": 1.693094953149852,
          "y": 1.1604107336741334
         },
         {
          "group": "business",
          "x": 0.3317637258147464,
          "y": -0.14996395987128902
         },
         {
          "group": "business",
          "x": -1.7345666789244818,
          "y": 0.2699090684068315
         },
         {
          "group": "business",
          "x": 1.7895763105284732,
          "y": -1.0792149386678886
         },
         {
          "group": "business",
          "x": -0.2488340610931933,
          "y": -0.45781815533231823
         },
         {
          "group": "business",
          "x": 1.0991988489163538,
          "y": 1.0159611412520917
         },
         {
          "group": "business",
          "x": 0.8673780086071485,
          "y": -2.973603014150866
         },
         {
          "group": "business",
          "x": 1.2319042407493386,
          "y": 0.6668464040901467
         },
         {
          "group": "business",
          "x": -0.10196021726937593,
          "y": -0.4928565073198585
         },
         {
          "group": "business",
          "x": 1.623590548485612,
          "y": 1.778027328399445
         },
         {
          "group": "business",
          "x": 2.395920688708938,
          "y": -0.858975336218368
         },
         {
          "group": "business",
          "x": 0.5225808007581879,
          "y": -0.8369666285479891
         },
         {
          "group": "business",
          "x": 1.688780174114773,
          "y": -0.10357077527422616
         },
         {
          "group": "business",
          "x": -0.29431622425311366,
          "y": -0.5648912962886677
         },
         {
          "group": "business",
          "x": 0.5195793763774378,
          "y": 0.9908381567465074
         },
         {
          "group": "business",
          "x": 0.06695800106319581,
          "y": -0.23690277378669952
         },
         {
          "group": "business",
          "x": 0.8012637608469332,
          "y": -0.4111322488486111
         },
         {
          "group": "business",
          "x": 0.07118270217176577,
          "y": 2.831115464528971
         },
         {
          "group": "business",
          "x": -0.0010387679013126548,
          "y": 0.586471164079586
         },
         {
          "group": "business",
          "x": 1.3407122465366603,
          "y": -0.09143469580342736
         },
         {
          "group": "business",
          "x": 0.35564288718275233,
          "y": 0.04650873646444241
         },
         {
          "group": "business",
          "x": -0.7762241539935879,
          "y": -0.17197108555554513
         },
         {
          "group": "business",
          "x": 3.1774917829663583,
          "y": -2.327559451964393
         },
         {
          "group": "business",
          "x": -0.7895786705522457,
          "y": 1.1218579840606253
         },
         {
          "group": "business",
          "x": 1.0560158861584368,
          "y": 0.25728476875043255
         },
         {
          "group": "business",
          "x": -0.3642148089402455,
          "y": -0.9113369269167052
         },
         {
          "group": "business",
          "x": 1.9134805513041313,
          "y": 0.5837921147582487
         },
         {
          "group": "business",
          "x": -0.11841143430441645,
          "y": 1.578386821436714
         },
         {
          "group": "business",
          "x": 2.0688296624501277,
          "y": 1.696533405905939
         },
         {
          "group": "business",
          "x": 1.1701131107124572,
          "y": 0.49969593206121476
         },
         {
          "group": "business",
          "x": 0.5084783542941972,
          "y": -1.5680186174521993
         },
         {
          "group": "business",
          "x": 1.87610027152609,
          "y": 0.09490691615314802
         },
         {
          "group": "business",
          "x": 0.8903287361513867,
          "y": 0.7689681028940006
         },
         {
          "group": "business",
          "x": 0.7531580079189366,
          "y": 0.7711742071843509
         },
         {
          "group": "business",
          "x": -1.405965447985088,
          "y": -2.39311856620515
         },
         {
          "group": "business",
          "x": 0.7915796382851146,
          "y": -0.5145283784637403
         },
         {
          "group": "business",
          "x": -0.4590695903647622,
          "y": 1.1368242201920475
         },
         {
          "group": "business",
          "x": 0.7094156560386791,
          "y": -0.7636175535885298
         },
         {
          "group": "business",
          "x": 0.117459547815869,
          "y": -0.49864005201943207
         },
         {
          "group": "business",
          "x": 2.12846404696114,
          "y": -0.221120816439292
         },
         {
          "group": "business",
          "x": -0.9579167165500956,
          "y": -0.28539415243853905
         },
         {
          "group": "business",
          "x": 1.097600250882107,
          "y": 0.9043262637894288
         },
         {
          "group": "business",
          "x": -0.5162369317272182,
          "y": -0.8254990097193656
         },
         {
          "group": "business",
          "x": 0.8308567646580497,
          "y": 0.3349193410247211
         },
         {
          "group": "business",
          "x": 1.8596453544391185,
          "y": 0.19542376043281334
         },
         {
          "group": "business",
          "x": 2.467938253414983,
          "y": -1.3090281579341772
         },
         {
          "group": "business",
          "x": 0.7003885225861028,
          "y": 1.5435607718030864
         },
         {
          "group": "business",
          "x": 1.1445833273629296,
          "y": 0.14127890860891518
         },
         {
          "group": "business",
          "x": -0.15260311567315757,
          "y": -0.9122533750730225
         },
         {
          "group": "business",
          "x": 1.93948090394873,
          "y": -0.6107490590686314
         },
         {
          "group": "business",
          "x": -1.444917567459925,
          "y": 0.3701490895525758
         },
         {
          "group": "business",
          "x": 0.24254116339675144,
          "y": -0.301920767212893
         },
         {
          "group": "business",
          "x": 0.15733654810532025,
          "y": -0.0803147585975044
         },
         {
          "group": "business",
          "x": -0.46315117321100086,
          "y": 0.37093378723896964
         },
         {
          "group": "business",
          "x": 0.7832411335553197,
          "y": -1.7259110673620472
         },
         {
          "group": "business",
          "x": 0.8807273100129459,
          "y": -2.281086056332723
         },
         {
          "group": "business",
          "x": 0.194655703609762,
          "y": -0.15497322357354282
         },
         {
          "group": "business",
          "x": 0.5429359150168745,
          "y": 2.3388062731485326
         },
         {
          "group": "business",
          "x": 1.2104553460974279,
          "y": 0.21096197732869448
         },
         {
          "group": "business",
          "x": -0.09881852326411257,
          "y": 0.023619073851628647
         },
         {
          "group": "business",
          "x": 0.13816382151375267,
          "y": 1.2327096509718132
         },
         {
          "group": "business",
          "x": 0.7697867312561576,
          "y": -0.6151094343890305
         },
         {
          "group": "business",
          "x": -0.9783086513645481,
          "y": -2.054581475833858
         },
         {
          "group": "business",
          "x": 1.836226865738272,
          "y": -1.656227003831172
         },
         {
          "group": "business",
          "x": -1.0729632690454192,
          "y": 0.2037972872616797
         },
         {
          "group": "business",
          "x": -0.011070080595925303,
          "y": 0.6474164639564303
         },
         {
          "group": "business",
          "x": 0.43013521812636246,
          "y": -0.02392801532593838
         },
         {
          "group": "business",
          "x": -0.3207661867843731,
          "y": -0.2968868036618329
         },
         {
          "group": "business",
          "x": -0.6801667070092616,
          "y": -2.4878182710719954
         },
         {
          "group": "business",
          "x": -1.6776586176160961,
          "y": -0.4854322938102025
         },
         {
          "group": "business",
          "x": 0.5261548617650774,
          "y": 1.6579226809340968
         },
         {
          "group": "business",
          "x": 1.4058089095320065,
          "y": 1.7053581336703751
         },
         {
          "group": "business",
          "x": -0.2310399072200783,
          "y": 0.5326848606419389
         },
         {
          "group": "business",
          "x": 1.7413546060580682,
          "y": 2.155110398651183
         },
         {
          "group": "business",
          "x": 1.8042701296728652,
          "y": -0.0413441072739115
         },
         {
          "group": "business",
          "x": -0.12346096125954208,
          "y": -0.7316067980927997
         },
         {
          "group": "business",
          "x": 0.6447195264473253,
          "y": 0.570727819994517
         },
         {
          "group": "business",
          "x": 0.8139570349640521,
          "y": -0.4606029676095142
         },
         {
          "group": "business",
          "x": 2.223527297207229,
          "y": 0.03577979297690279
         },
         {
          "group": "business",
          "x": 1.6982681967002404,
          "y": 2.5524704938760063
         },
         {
          "group": "business",
          "x": 0.7266375378220674,
          "y": 0.9175936934572906
         },
         {
          "group": "business",
          "x": -3.2372120133488,
          "y": -0.048193355963179335
         },
         {
          "group": "business",
          "x": 0.203736352212516,
          "y": -0.37140728142324686
         },
         {
          "group": "business",
          "x": -0.10030760393008471,
          "y": -0.7527948874280428
         },
         {
          "group": "business",
          "x": 1.07322474803014,
          "y": 1.4146434632987832
         },
         {
          "group": "business",
          "x": -1.3075302412427303,
          "y": 0.6023227275338898
         },
         {
          "group": "business",
          "x": 0.55315660920941,
          "y": -1.0304492100578855
         },
         {
          "group": "business",
          "x": 0.47475774990494646,
          "y": 1.8306244404329157
         },
         {
          "group": "business",
          "x": 2.066992463586187,
          "y": -0.47231592227124397
         },
         {
          "group": "business",
          "x": -0.6143746089441486,
          "y": 1.190972413759807
         },
         {
          "group": "business",
          "x": 0.7179190802330573,
          "y": -1.0019327349983718
         },
         {
          "group": "business",
          "x": -1.5088427299908589,
          "y": 0.7059353134301761
         },
         {
          "group": "business",
          "x": 0.5437254923427154,
          "y": 1.0031662547023874
         },
         {
          "group": "business",
          "x": -0.2867047959761736,
          "y": 0.8305031905727649
         },
         {
          "group": "business",
          "x": 1.8856329456149938,
          "y": -1.4971514967295745
         },
         {
          "group": "business",
          "x": 1.0137154558996448,
          "y": 1.0967590310880353
         },
         {
          "group": "business",
          "x": 0.12353747258293694,
          "y": 0.5461867187607
         },
         {
          "group": "business",
          "x": -0.9539828225240843,
          "y": 0.9760173114937908
         },
         {
          "group": "business",
          "x": 1.3749115708777981,
          "y": 0.08882735927563376
         }
        ]
       },
       "encoding": {
        "color": {
         "field": "group",
         "type": "nominal"
        },
        "x": {
         "field": "x",
         "type": "quantitative"
        },
        "y": {
         "field": "y",
         "type": "quantitative"
        }
       },
       "mark": "point"
      },
      "image/png": "[encoded data removed]",
      "text/plain": [
       "<VegaLite 2 object>\n",
       "\n",
       "If you see this message, it means the renderer has not been properly enabled\n",
       "for the frontend that you are using. For more information, see\n",
       "https://altair-viz.github.io/user_guide/troubleshooting.html\n"
      ]
     },
     "execution_count": 31,
     "metadata": {},
     "output_type": "execute_result"
    }
   ],
   "source": [
    "alt.Chart(bbc_2d[bbc_2d[\"group\"].isin([\"sport\", \"business\"])]).mark_point().encode(x=\"x\", y=\"y\", color=\"group\")"
   ]
  },
  {
   "cell_type": "code",
   "execution_count": null,
   "metadata": {},
   "outputs": [],
   "source": []
  }
 ],
 "metadata": {
  "kernelspec": {
   "display_name": "Python 3",
   "language": "python",
   "name": "python3"
  },
  "language_info": {
   "codemirror_mode": {
    "name": "ipython",
    "version": 3
   },
   "file_extension": ".py",
   "mimetype": "text/x-python",
   "name": "python",
   "nbconvert_exporter": "python",
   "pygments_lexer": "ipython3",
   "version": "3.7.2"
  }
 },
 "nbformat": 4,
 "nbformat_minor": 2
}
